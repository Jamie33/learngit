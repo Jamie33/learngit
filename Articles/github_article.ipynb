{
 "cells": [
  {
   "cell_type": "code",
   "execution_count": 2,
   "metadata": {},
   "outputs": [
    {
     "name": "stdout",
     "output_type": "stream",
     "text": [
      "4397525872\n",
      "4397525872\n",
      "-------------------\n",
      "True\n",
      "False\n",
      "True\n",
      "-------------------\n",
      "True\n",
      "False\n"
     ]
    }
   ],
   "source": [
    "a = \"some_string\"\n",
    "print(id(a))\n",
    "print(id(\"some\"+\"_\"+\"string\"))\n",
    "print(\"-------------------\")\n",
    "a = \"wtf\"\n",
    "b = \"wtf\"\n",
    "print(a is b)\n",
    "a = \"wtf!\"\n",
    "b = \"wtf!\"\n",
    "print(a is b)\n",
    "a,b = \"wtf!\",\"wtf!\"\n",
    "print(a is b)\n",
    "print(\"-------------------\")\n",
    "print('a'*20 is 'aaaaaaaaaaaaaaaaaaaa')\n",
    "print('a'*20 is 'aaaaaaaaaaaaaaaaaaaaa')"
   ]
  },
  {
   "cell_type": "code",
   "execution_count": 5,
   "metadata": {},
   "outputs": [
    {
     "name": "stdout",
     "output_type": "stream",
     "text": [
      "Ruby\n",
      "python\n",
      "python\n",
      "{5.5: 'Ruby', 5.0: 'python'}\n"
     ]
    }
   ],
   "source": [
    "some_dict = {}\n",
    "some_dict[5.5] = 'Ruby'\n",
    "some_dict[5.0] = 'JavaScript'\n",
    "some_dict[5] = 'python'\n",
    "print(some_dict[5.5])\n",
    "print(some_dict[5.0])\n",
    "print(some_dict[5])\n",
    "print(some_dict)"
   ]
  },
  {
   "cell_type": "code",
   "execution_count": 8,
   "metadata": {},
   "outputs": [
    {
     "name": "stdout",
     "output_type": "stream",
     "text": [
      "in try\n"
     ]
    },
    {
     "data": {
      "text/plain": [
       "'from_finally'"
      ]
     },
     "execution_count": 8,
     "metadata": {},
     "output_type": "execute_result"
    }
   ],
   "source": [
    "def some_func():\n",
    "    try:\n",
    "        print('in try')\n",
    "        return 'from_try'\n",
    "    finally:\n",
    "        return 'from_finally'\n",
    "some_func()"
   ]
  },
  {
   "cell_type": "code",
   "execution_count": 11,
   "metadata": {},
   "outputs": [
    {
     "name": "stdout",
     "output_type": "stream",
     "text": [
      "False\n",
      "False\n",
      "True\n",
      "True\n",
      "I\n",
      "I\n",
      "D\n",
      "D\n",
      "False\n",
      "I\n",
      "D\n",
      "I\n",
      "D\n",
      "True\n"
     ]
    }
   ],
   "source": [
    "class WTF:\n",
    "    pass\n",
    "\n",
    "print(WTF() == WTF())\n",
    "print(WTF() is WTF())\n",
    "print(hash(WTF()) == hash(WTF()))\n",
    "print(id(WTF()) == id(WTF()))\n",
    "\n",
    "class WTF():\n",
    "    def __init__(self):\n",
    "        print('I')\n",
    "    def __del__(self):\n",
    "        print('D')\n",
    "        \n",
    "print(WTF() is WTF())\n",
    "print(id(WTF()) == id(WTF()))"
   ]
  },
  {
   "cell_type": "code",
   "execution_count": 15,
   "metadata": {},
   "outputs": [
    {
     "name": "stdout",
     "output_type": "stream",
     "text": [
      "0 w\n",
      "1 t\n",
      "2 f\n",
      "{0: 'w', 1: 't', 2: 'f'}\n",
      "0\n",
      "1\n",
      "2\n",
      "3\n"
     ]
    }
   ],
   "source": [
    "some_string = 'wtf'\n",
    "some_dict = {}\n",
    "\n",
    "\n",
    "for i,a in enumerate(some_string):\n",
    "    print(i,a)\n",
    "\n",
    "for i,some_dict[i] in enumerate(some_string):\n",
    "    pass\n",
    "print(some_dict)\n",
    "\n",
    "for i in range(4):\n",
    "    print(i)\n",
    "    i = 10"
   ]
  },
  {
   "cell_type": "code",
   "execution_count": 17,
   "metadata": {},
   "outputs": [
    {
     "name": "stdout",
     "output_type": "stream",
     "text": [
      "[8]\n",
      "---------------\n",
      "[1, 2, 3, 4]\n",
      "---------------\n",
      "[1, 2, 3, 4, 5]\n"
     ]
    }
   ],
   "source": [
    "array = [1,8,15]\n",
    "g = (x for x in array if array.count(x)>0)\n",
    "array=[2,8,22]\n",
    "print(list(g))\n",
    "print('---------------')\n",
    "array_1 = [1,2,3,4]\n",
    "g1 = (x for x in array_1)\n",
    "array_1 = [1,2,3,4,5]\n",
    "print(list(g1))\n",
    "print('---------------')\n",
    "array_2 = [1,2,3,4]\n",
    "g2 = (x for x in array_2)\n",
    "array_2[:] = [1,2,3,4,5]\n",
    "print(list(g2))"
   ]
  },
  {
   "cell_type": "code",
   "execution_count": 21,
   "metadata": {},
   "outputs": [
    {
     "name": "stdout",
     "output_type": "stream",
     "text": [
      "True\n",
      "---------------\n",
      "False\n",
      "---------------\n",
      "True\n"
     ]
    }
   ],
   "source": [
    "a = 256\n",
    "b = 256\n",
    "print(a is b)\n",
    "print('---------------')\n",
    "a = 257\n",
    "b = 257\n",
    "print(a is b)\n",
    "print('---------------')\n",
    "a,b = 257,257\n",
    "print(a is b)"
   ]
  },
  {
   "cell_type": "code",
   "execution_count": 35,
   "metadata": {},
   "outputs": [
    {
     "name": "stdout",
     "output_type": "stream",
     "text": [
      "['', '', '']\n",
      "4353723056\n",
      "4353723056\n",
      "4353723056\n",
      "[['', '', ''], ['', '', ''], ['', '', '']]\n",
      "4398005960\n",
      "4398005960\n",
      "4398005960\n",
      "4353723056\n",
      "4353723056\n",
      "4353723056\n",
      "4353723056\n",
      "4353723056\n",
      "4353723056\n",
      "4353723056\n",
      "4353723056\n",
      "4353723056\n",
      "['', '', '']\n",
      "\n",
      "4354004784\n",
      "4353723056\n",
      "4353723056\n",
      "4354004784\n",
      "4353723056\n",
      "4353723056\n",
      "4354004784\n",
      "4353723056\n",
      "4353723056\n",
      "[['x', '', ''], ['x', '', ''], ['x', '', '']]\n"
     ]
    }
   ],
   "source": [
    "row = [\"\"]*3\n",
    "print(row)\n",
    "for i in row:\n",
    "    print(id(i))\n",
    "board = [row]*3\n",
    "print(board)\n",
    "for i in board:\n",
    "    print(id(i))\n",
    "    \n",
    "for i in board:\n",
    "    for a in i:\n",
    "        print(id(a))\n",
    "    \n",
    "print(board[0])\n",
    "print(board[0][0])\n",
    "board[0][0] = 'x'\n",
    "for i in board:\n",
    "    for a in i:\n",
    "        print(id(a))\n",
    "    \n",
    "print(board)"
   ]
  },
  {
   "cell_type": "code",
   "execution_count": 36,
   "metadata": {},
   "outputs": [
    {
     "name": "stdout",
     "output_type": "stream",
     "text": [
      "4356267960\n",
      "4356267960\n",
      "4356267960\n",
      "4356267960\n",
      "4356267960\n",
      "4356267960\n",
      "4356267960\n",
      "4356267960\n",
      "4356267960\n",
      "[['3', '3', '3'], ['3', '3', '3'], ['3', '3', '3']]\n"
     ]
    }
   ],
   "source": [
    "row = [\"3\"]*3\n",
    "board = [row]*3\n",
    "\n",
    "for i in board:\n",
    "    for a in i:\n",
    "        print(id(a))\n",
    "print(board)"
   ]
  }
 ],
 "metadata": {
  "kernelspec": {
   "display_name": "Python 3",
   "language": "python",
   "name": "python3"
  },
  "language_info": {
   "codemirror_mode": {
    "name": "ipython",
    "version": 3
   },
   "file_extension": ".py",
   "mimetype": "text/x-python",
   "name": "python",
   "nbconvert_exporter": "python",
   "pygments_lexer": "ipython3",
   "version": "3.6.3"
  },
  "toc": {
   "nav_menu": {},
   "number_sections": true,
   "sideBar": true,
   "skip_h1_title": false,
   "title_cell": "Table of Contents",
   "title_sidebar": "Contents",
   "toc_cell": false,
   "toc_position": {},
   "toc_section_display": true,
   "toc_window_display": false
  },
  "varInspector": {
   "cols": {
    "lenName": 16,
    "lenType": 16,
    "lenVar": 40
   },
   "kernels_config": {
    "python": {
     "delete_cmd_postfix": "",
     "delete_cmd_prefix": "del ",
     "library": "var_list.py",
     "varRefreshCmd": "print(var_dic_list())"
    },
    "r": {
     "delete_cmd_postfix": ") ",
     "delete_cmd_prefix": "rm(",
     "library": "var_list.r",
     "varRefreshCmd": "cat(var_dic_list()) "
    }
   },
   "types_to_exclude": [
    "module",
    "function",
    "builtin_function_or_method",
    "instance",
    "_Feature"
   ],
   "window_display": false
  }
 },
 "nbformat": 4,
 "nbformat_minor": 2
}
