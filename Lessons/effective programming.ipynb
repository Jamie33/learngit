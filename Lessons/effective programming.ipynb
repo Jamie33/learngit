{
 "cells": [
  {
   "cell_type": "markdown",
   "metadata": {},
   "source": [
    "## Chapter01\n",
    "\n",
    "## Chapter02"
   ]
  },
  {
   "cell_type": "code",
   "execution_count": 5,
   "metadata": {},
   "outputs": [
    {
     "name": "stdout",
     "output_type": "stream",
     "text": [
      "[1, 2, 3, 'tom', 'bob', 'jane']\n"
     ]
    }
   ],
   "source": [
    "class Company(object):\n",
    "    def __init__(self,employee_list):\n",
    "        self.employee = employee_list\n",
    "        \n",
    "    def __len__(self):\n",
    "        return len(self.employee)\n",
    "    \n",
    "    def __getitem__(self,item):\n",
    "        return self.employee[item]\n",
    "    \n",
    "company = Company(['tom','bob','jane'])\n",
    "len(company)\n",
    "\n",
    "\n",
    "a = [1,2,3]\n",
    "a.extend(company)\n",
    "print(a)"
   ]
  },
  {
   "cell_type": "markdown",
   "metadata": {},
   "source": [
    "## Chapter03\n",
    "\n",
    "abstract basic class 抽象基类 (abc 模块)\n",
    "\n",
    "鸭子类型和魔法方法"
   ]
  },
  {
   "cell_type": "code",
   "execution_count": 7,
   "metadata": {},
   "outputs": [
    {
     "name": "stdout",
     "output_type": "stream",
     "text": [
      "True\n",
      "True\n"
     ]
    }
   ],
   "source": [
    "from collections.abc import Sized\n",
    "\n",
    "class Company(object):\n",
    "    def __init__(self,employee_list):\n",
    "        self.employee = employee_list\n",
    "        \n",
    "    def __len__(self):\n",
    "        return len(self.employee)\n",
    "    \n",
    "    def __getitem__(self,item):\n",
    "        return self.employee[item]\n",
    "    \n",
    "company = Company(['tom','bob','jane'])\n",
    "\n",
    "print(hasattr(company,'__len__'))\n",
    "print(isinstance(company,Sized))"
   ]
  }
 ],
 "metadata": {
  "kernelspec": {
   "display_name": "Python 3",
   "language": "python",
   "name": "python3"
  },
  "language_info": {
   "codemirror_mode": {
    "name": "ipython",
    "version": 3
   },
   "file_extension": ".py",
   "mimetype": "text/x-python",
   "name": "python",
   "nbconvert_exporter": "python",
   "pygments_lexer": "ipython3",
   "version": "3.6.3"
  },
  "toc": {
   "nav_menu": {},
   "number_sections": true,
   "sideBar": true,
   "skip_h1_title": false,
   "title_cell": "Table of Contents",
   "title_sidebar": "Contents",
   "toc_cell": false,
   "toc_position": {},
   "toc_section_display": true,
   "toc_window_display": false
  },
  "varInspector": {
   "cols": {
    "lenName": 16,
    "lenType": 16,
    "lenVar": 40
   },
   "kernels_config": {
    "python": {
     "delete_cmd_postfix": "",
     "delete_cmd_prefix": "del ",
     "library": "var_list.py",
     "varRefreshCmd": "print(var_dic_list())"
    },
    "r": {
     "delete_cmd_postfix": ") ",
     "delete_cmd_prefix": "rm(",
     "library": "var_list.r",
     "varRefreshCmd": "cat(var_dic_list()) "
    }
   },
   "types_to_exclude": [
    "module",
    "function",
    "builtin_function_or_method",
    "instance",
    "_Feature"
   ],
   "window_display": false
  }
 },
 "nbformat": 4,
 "nbformat_minor": 2
}
