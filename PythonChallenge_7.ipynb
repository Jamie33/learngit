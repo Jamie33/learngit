{
 "cells": [
  {
   "cell_type": "code",
   "execution_count": 15,
   "metadata": {},
   "outputs": [
    {
     "name": "stdout",
     "output_type": "stream",
     "text": [
      "(629, 95) 629 95\n",
      "RGBA\n",
      "PNG Portable network graphics\n"
     ]
    },
    {
     "data": {
      "text/plain": [
       "'计算机通常将图像表示为RGB值，或者再加上alpha值（通透度，透明度），称为RGBA值。\\n在Pillow中，RGBA的值表示为由4个整数组成的元组，分别是R、G、B、A。整数的范围0~255。\\nRGB全0就可以表示黑色，全255代表黑色。可以猜测(255, 0, 0, 255)代表红色，\\n因为R分量最大，G、B分量为0，所以呈现出来是红色。但是当alpha值为0时，\\n无论是什么颜色，该颜色都不可见，可以理解为透明。'"
      ]
     },
     "execution_count": 15,
     "metadata": {},
     "output_type": "execute_result"
    }
   ],
   "source": [
    "# python 图像处理标准库 Pillow\n",
    "from PIL import Image\n",
    "\n",
    "im = Image.open('oxygen.png')\n",
    "width,height = im.size\n",
    "print(im.size,width,height)\n",
    "print(im.mode)\n",
    "print(im.format,im.format_description)\n",
    "\n",
    "im.show()\n",
    "\n",
    "'''计算机通常将图像表示为RGB值，或者再加上alpha值（通透度，透明度），称为RGBA值。\n",
    "在Pillow中，RGBA的值表示为由4个整数组成的元组，分别是R、G、B、A。整数的范围0~255。\n",
    "RGB全0就可以表示黑色，全255代表黑色。可以猜测(255, 0, 0, 255)代表红色，\n",
    "因为R分量最大，G、B分量为0，所以呈现出来是红色。但是当alpha值为0时，\n",
    "无论是什么颜色，该颜色都不可见，可以理解为透明。'''"
   ]
  },
  {
   "cell_type": "code",
   "execution_count": 14,
   "metadata": {},
   "outputs": [
    {
     "name": "stdout",
     "output_type": "stream",
     "text": [
      "Resize image to: 314*47\n"
     ]
    }
   ],
   "source": [
    "'''在pillow中图片的缩放有两种方式，1.使用resize函数，2,使用thumbnail函数\n",
    "resize函数可以缩小，也可以放大thumbnail只能缩小，不能放大\n",
    "'''\n",
    "im.thumbnail((w//2,h//2))  \n",
    "print('Resize image to: %s*%s'%(w//2,h//2))\n",
    "im.save('thumb.png','png')"
   ]
  },
  {
   "cell_type": "code",
   "execution_count": 16,
   "metadata": {},
   "outputs": [],
   "source": [
    "newIm = Image.new('RGB',(200,100),'red')\n",
    "newIm.save('newIm.png')"
   ]
  },
  {
   "cell_type": "code",
   "execution_count": 24,
   "metadata": {
    "scrolled": true
   },
   "outputs": [],
   "source": [
    "cropedIm = im.crop((0,45,629,50))\n",
    "cropedIm.save('cropped.png')"
   ]
  },
  {
   "cell_type": "code",
   "execution_count": null,
   "metadata": {},
   "outputs": [],
   "source": []
  }
 ],
 "metadata": {
  "kernelspec": {
   "display_name": "Python 3",
   "language": "python",
   "name": "python3"
  },
  "language_info": {
   "codemirror_mode": {
    "name": "ipython",
    "version": 3
   },
   "file_extension": ".py",
   "mimetype": "text/x-python",
   "name": "python",
   "nbconvert_exporter": "python",
   "pygments_lexer": "ipython3",
   "version": "3.6.2"
  }
 },
 "nbformat": 4,
 "nbformat_minor": 2
}
