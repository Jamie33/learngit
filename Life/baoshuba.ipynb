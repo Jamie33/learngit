{
 "cells": [
  {
   "cell_type": "markdown",
   "metadata": {},
   "source": [
    "## 抱书吧自动签到脚本"
   ]
  },
  {
   "cell_type": "code",
   "execution_count": 13,
   "metadata": {},
   "outputs": [
    {
     "name": "stdout",
     "output_type": "stream",
     "text": [
      "对不起，每天最多允许签到 1 次，请明天再来！\n"
     ]
    }
   ],
   "source": [
    "from selenium import webdriver\n",
    "\n",
    "def baoshuba(username,password):\n",
    "\n",
    "    url = 'http://www.baoshu8.com/'\n",
    "    driver = webdriver.Chrome()  #声明浏览器对象\n",
    "    driver.get(url) # 访问网页\n",
    "    driver.find_element_by_id('nav_pwuser').send_keys(username) # 提取账号输入框，并输入用户名\n",
    "    driver.find_element_by_id('showpwd').send_keys(password) # 提取密码输入框，并输入密码\n",
    "    driver.find_element_by_name('head_login').submit() # 点击登陆按钮\n",
    "    driver.implicitly_wait(5) # 隐式等待\n",
    "    link = driver.find_element_by_id('nav_key_up_53').get_attribute('href') # 获取签到链接\n",
    "    driver.get(link) # 访问签到链接\n",
    "    driver.implicitly_wait(5)  # 隐式等待\n",
    "    driver.find_element_by_name('qdxq').click() # 点击高兴表情\n",
    "    driver.find_element_by_class_name('btn').submit() # 点击签到\n",
    "    info = driver.find_element_by_css_selector('p.f14.mb10').text #获取签到后信息\n",
    "    print(info) #打印签到信息\n",
    "    driver.quit() # 退出浏览器\n",
    "\n",
    "\n",
    "username = 'xxxx' # 你的账号\n",
    "password = 'xxxx' # 你的密码\n",
    "baoshuba(username,password)\n"
   ]
  }
 ],
 "metadata": {
  "kernelspec": {
   "display_name": "Python 3",
   "language": "python",
   "name": "python3"
  },
  "language_info": {
   "codemirror_mode": {
    "name": "ipython",
    "version": 3
   },
   "file_extension": ".py",
   "mimetype": "text/x-python",
   "name": "python",
   "nbconvert_exporter": "python",
   "pygments_lexer": "ipython3",
   "version": "3.6.5"
  }
 },
 "nbformat": 4,
 "nbformat_minor": 2
}
