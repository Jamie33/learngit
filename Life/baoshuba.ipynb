{
 "cells": [
  {
   "cell_type": "markdown",
   "metadata": {},
   "source": [
    "## 抱书吧自动签到脚本"
   ]
  },
  {
   "cell_type": "code",
   "execution_count": 5,
   "metadata": {},
   "outputs": [
    {
     "name": "stdout",
     "output_type": "stream",
     "text": [
      "时间：2018-08-06 11:31:16.628359 签到成功，谢谢您的支持！\n",
      "您获得随机奖励：铜币3枚。\n",
      "点击这里回到『每日心情签到中心』\n"
     ]
    }
   ],
   "source": [
    "from selenium import webdriver\n",
    "import datetime\n",
    "\n",
    "def baoshuba(username,password):\n",
    "\n",
    "    url = 'http://www.baoshu8.com/'\n",
    "    driver = webdriver.Chrome()  #声明浏览器对象\n",
    "    driver.get(url) # 访问网页\n",
    "    driver.find_element_by_id('nav_pwuser').send_keys(username) # 提取账号输入框，并输入用户名\n",
    "    driver.find_element_by_id('showpwd').send_keys(password) # 提取密码输入框，并输入密码\n",
    "    driver.find_element_by_name('head_login').submit() # 点击登陆按钮\n",
    "    driver.implicitly_wait(5) # 隐式等待\n",
    "    link = driver.find_element_by_id('nav_key_up_53').get_attribute('href') # 获取签到链接\n",
    "    driver.get(link) # 访问签到链接\n",
    "    driver.implicitly_wait(5)  # 隐式等待\n",
    "    driver.find_element_by_name('qdxq').click() # 点击高兴表情\n",
    "    driver.find_element_by_class_name('btn').submit() # 点击签到\n",
    "    info = driver.find_element_by_css_selector('p.f14.mb10').text #获取签到后信息\n",
    "    print('时间：{}\\n'.format(datetime.datetime.now()),info) #打印签到信息\n",
    "    driver.quit() # 退出浏览器\n",
    "\n",
    "\n",
    "username = '' # 你的账号\n",
    "password = '' # 你的密码\n",
    "baoshuba(username,password)\n"
   ]
  },
  {
   "cell_type": "code",
   "execution_count": 11,
   "metadata": {},
   "outputs": [
    {
     "name": "stdout",
     "output_type": "stream",
     "text": [
      "定时任务开始时间 2018-08-06 12:12:00.000218\n",
      "定时任务开始时间 2018-08-06 12:13:00.000897\n",
      "定时任务开始时间 2018-08-06 12:14:00.004325\n",
      "定时任务开始时间 2018-08-06 12:15:00.006530\n",
      "定时任务开始时间 2018-08-06 12:16:00.008745\n",
      "定时任务开始时间 2018-08-06 12:17:00.010826\n",
      "定时任务开始时间 2018-08-06 12:18:00.013587\n",
      "定时任务开始时间 2018-08-06 12:19:00.015650\n"
     ]
    },
    {
     "ename": "KeyboardInterrupt",
     "evalue": "",
     "output_type": "error",
     "traceback": [
      "\u001b[1;31m---------------------------------------------------------------------------\u001b[0m",
      "\u001b[1;31mKeyboardInterrupt\u001b[0m                         Traceback (most recent call last)",
      "\u001b[1;32m<ipython-input-11-cabac8178eb2>\u001b[0m in \u001b[0;36m<module>\u001b[1;34m()\u001b[0m\n\u001b[0;32m      8\u001b[0m     \u001b[1;32mif\u001b[0m \u001b[0msched_time\u001b[0m\u001b[1;33m<\u001b[0m\u001b[0mnow\u001b[0m\u001b[1;33m<\u001b[0m\u001b[1;33m(\u001b[0m\u001b[0msched_time\u001b[0m\u001b[1;33m+\u001b[0m\u001b[0mdatetime\u001b[0m\u001b[1;33m.\u001b[0m\u001b[0mtimedelta\u001b[0m\u001b[1;33m(\u001b[0m\u001b[0mminutes\u001b[0m\u001b[1;33m=\u001b[0m\u001b[1;36m1\u001b[0m\u001b[1;33m)\u001b[0m\u001b[1;33m)\u001b[0m\u001b[1;33m:\u001b[0m\u001b[1;33m\u001b[0m\u001b[0m\n\u001b[0;32m      9\u001b[0m         \u001b[0mprint\u001b[0m\u001b[1;33m(\u001b[0m\u001b[1;34m'定时任务开始时间 {}'\u001b[0m\u001b[1;33m.\u001b[0m\u001b[0mformat\u001b[0m\u001b[1;33m(\u001b[0m\u001b[0mdatetime\u001b[0m\u001b[1;33m.\u001b[0m\u001b[0mdatetime\u001b[0m\u001b[1;33m.\u001b[0m\u001b[0mnow\u001b[0m\u001b[1;33m(\u001b[0m\u001b[1;33m)\u001b[0m\u001b[1;33m)\u001b[0m\u001b[1;33m)\u001b[0m\u001b[1;33m\u001b[0m\u001b[0m\n\u001b[1;32m---> 10\u001b[1;33m         \u001b[0mtime\u001b[0m\u001b[1;33m.\u001b[0m\u001b[0msleep\u001b[0m\u001b[1;33m(\u001b[0m\u001b[1;36m60\u001b[0m\u001b[1;33m)\u001b[0m\u001b[1;33m\u001b[0m\u001b[0m\n\u001b[0m\u001b[0;32m     11\u001b[0m         \u001b[0msched_time\u001b[0m \u001b[1;33m=\u001b[0m \u001b[0msched_time\u001b[0m\u001b[1;33m+\u001b[0m\u001b[0mdatetime\u001b[0m\u001b[1;33m.\u001b[0m\u001b[0mtimedelta\u001b[0m\u001b[1;33m(\u001b[0m\u001b[0mminutes\u001b[0m\u001b[1;33m=\u001b[0m\u001b[1;36m1\u001b[0m\u001b[1;33m)\u001b[0m\u001b[1;33m\u001b[0m\u001b[0m\n",
      "\u001b[1;31mKeyboardInterrupt\u001b[0m: "
     ]
    }
   ],
   "source": [
    "import time\n",
    "import datetime\n",
    "\n",
    "sched_time = datetime.datetime(2018,8,6,12,12,0)\n",
    "while True:\n",
    "    now = datetime.datetime.now()\n",
    "    if sched_time<now<(sched_time+datetime.timedelta(minutes=1)):\n",
    "        print('定时任务开始时间 {}'.format(datetime.datetime.now()))\n",
    "        time.sleep(60)\n",
    "        sched_time = sched_time+datetime.timedelta(minutes=1)"
   ]
  },
  {
   "cell_type": "code",
   "execution_count": 2,
   "metadata": {},
   "outputs": [
    {
     "name": "stdout",
     "output_type": "stream",
     "text": [
      "抱书吧自动每天签到程序开始...\n",
      "签到时间：2018-08-06 14:51:42.049595\n",
      " 对不起，每天最多允许签到 1 次，请明天再来！\n",
      "签到时间：2018-08-06 14:52:51.536090\n",
      " 对不起，每天最多允许签到 1 次，请明天再来！\n"
     ]
    }
   ],
   "source": [
    "from selenium import webdriver\n",
    "import time\n",
    "import datetime\n",
    "from threading import Timer\n",
    "\n",
    "def baoshuba():\n",
    "    username = '' # 你的账号\n",
    "    password = '' # 你的密码 \n",
    "    try:\n",
    "        url = 'http://www.baoshu8.com/'\n",
    "        driver = webdriver.Chrome()  #声明浏览器对象\n",
    "        driver.get(url) # 访问网页\n",
    "        driver.find_element_by_id('nav_pwuser').send_keys(username) # 提取账号输入框，并输入用户名\n",
    "        driver.find_element_by_id('showpwd').send_keys(password) # 提取密码输入框，并输入密码\n",
    "        driver.find_element_by_name('head_login').submit() # 点击登陆按钮\n",
    "        driver.implicitly_wait(5) # 隐式等待\n",
    "        link = driver.find_element_by_id('nav_key_up_53').get_attribute('href') # 获取签到链接\n",
    "        driver.get(link) # 访问签到链接\n",
    "        driver.implicitly_wait(5)  # 隐式等待\n",
    "        driver.find_element_by_name('qdxq').click() # 点击高兴表情\n",
    "        driver.find_element_by_class_name('btn').submit() # 点击签到\n",
    "        info = driver.find_element_by_css_selector('p.f14.mb10').text #获取签到后信息\n",
    "        print('签到时间：{}\\n'.format(datetime.datetime.now()),info) #打印签到信息\n",
    "        t = Timer(60,baoshuba)\n",
    "        t.start()\n",
    "    finally:\n",
    "        driver.quit() # 退出浏览器\n",
    "    \n",
    "   \n",
    "    \n",
    "try:\n",
    "    print('抱书吧自动每天签到程序开始...')\n",
    "    baoshuba()\n",
    "except:\n",
    "    print('程序出问题，等待60s后，再开始...')\n",
    "    time.sleep(60)\n",
    "    baoshuba()"
   ]
  },
  {
   "cell_type": "markdown",
   "metadata": {},
   "source": [
    "## 抱书吧注水帖子"
   ]
  },
  {
   "cell_type": "code",
   "execution_count": 17,
   "metadata": {},
   "outputs": [
    {
     "name": "stdout",
     "output_type": "stream",
     "text": [
      "抱书吧自动每天回复帖子程序开始...\n",
      "回复帖子时间：2018-08-25 22:38:55.162689\n"
     ]
    }
   ],
   "source": [
    "from selenium import webdriver\n",
    "import time\n",
    "import datetime\n",
    "from threading import Timer\n",
    "\n",
    "def baoshuba():\n",
    "    username = '' # 你的账号\n",
    "    password = '' # 你的密码 \n",
    "    try:\n",
    "        url = 'http://www.baoshu8.com/'\n",
    "        driver = webdriver.Chrome()  #声明浏览器对象\n",
    "        driver.get(url) # 访问网页\n",
    "        driver.find_element_by_id('nav_pwuser').send_keys(username) # 提取账号输入框，并输入用户名\n",
    "        driver.find_element_by_id('showpwd').send_keys(password) # 提取密码输入框，并输入密码\n",
    "        driver.find_element_by_name('head_login').submit() # 点击登陆按钮\n",
    "        driver.implicitly_wait(5) # 隐式等待\n",
    "        thread_url = 'http://www.baoshu8.com/r505880'\n",
    "        driver.get(thread_url) # 帖子链接\n",
    "        driver.implicitly_wait(5)  # 隐式等待\n",
    "        driver.execute_script('window.scrollTo(0,document.body.scrollHeight)')\n",
    "        time = str(datetime.datetime.now()).split('.')[0]\n",
    "        content = '论坛无法签到啦，每天在这里打卡签到，固定格式 {} 签到！ '.format(time)\n",
    "        driver.find_element_by_id('textarea').send_keys(content) # 回复帖子\n",
    "        driver.implicitly_wait(5)  # 隐式等待\n",
    "        driver.find_element_by_name('Submit').submit() # 点击提交\n",
    "        \n",
    "        print('回复帖子时间：{}'.format(datetime.datetime.now())) #打印回复信息\n",
    "        t = Timer(86400,baoshuba)\n",
    "        t.start()\n",
    "    finally:\n",
    "        driver.quit() # 退出浏览器\n",
    "    \n",
    "\n",
    "try:\n",
    "    print('抱书吧自动每天回复帖子程序开始...')\n",
    "    baoshuba()\n",
    "except Exception as err:\n",
    "    print('程序出问题，等待60s后，再开始...',err)\n",
    "    time.sleep(60)\n",
    "    baoshuba()"
   ]
  }
 ],
 "metadata": {
  "kernelspec": {
   "display_name": "Python 3",
   "language": "python",
   "name": "python3"
  },
  "language_info": {
   "codemirror_mode": {
    "name": "ipython",
    "version": 3
   },
   "file_extension": ".py",
   "mimetype": "text/x-python",
   "name": "python",
   "nbconvert_exporter": "python",
   "pygments_lexer": "ipython3",
   "version": "3.6.3"
  },
  "toc": {
   "nav_menu": {},
   "number_sections": true,
   "sideBar": true,
   "skip_h1_title": false,
   "title_cell": "Table of Contents",
   "title_sidebar": "Contents",
   "toc_cell": false,
   "toc_position": {},
   "toc_section_display": true,
   "toc_window_display": false
  },
  "varInspector": {
   "cols": {
    "lenName": 16,
    "lenType": 16,
    "lenVar": 40
   },
   "kernels_config": {
    "python": {
     "delete_cmd_postfix": "",
     "delete_cmd_prefix": "del ",
     "library": "var_list.py",
     "varRefreshCmd": "print(var_dic_list())"
    },
    "r": {
     "delete_cmd_postfix": ") ",
     "delete_cmd_prefix": "rm(",
     "library": "var_list.r",
     "varRefreshCmd": "cat(var_dic_list()) "
    }
   },
   "types_to_exclude": [
    "module",
    "function",
    "builtin_function_or_method",
    "instance",
    "_Feature"
   ],
   "window_display": false
  }
 },
 "nbformat": 4,
 "nbformat_minor": 2
}
