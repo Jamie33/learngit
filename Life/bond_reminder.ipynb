{
 "cells": [
  {
   "cell_type": "markdown",
   "metadata": {},
   "source": [
    "可转债上市提醒\n",
    "\n",
    "http://data.eastmoney.com/xg/kzz/default.html"
   ]
  },
  {
   "cell_type": "code",
   "execution_count": 37,
   "metadata": {
    "scrolled": true
   },
   "outputs": [
    {
     "name": "stdout",
     "output_type": "stream",
     "text": [
      "2019-04-02 12:04:03.869753 债券上市状态查询开始\n",
      "招路转债未上市\n",
      "债券代码:127012,债券简称:招路转债,溢价率:2.98%,上市时间:-\n",
      "精测转债未上市\n",
      "债券代码:123025,债券简称:精测转债,溢价率:-13.66%,上市时间:-\n",
      "本轮债券上市状态查询结束\n",
      "24小时候继续查询......\n",
      "2019-04-02 12:04:17.365750 债券上市状态查询开始\n",
      "招路转债未上市\n",
      "债券代码:127012,债券简称:招路转债,溢价率:2.98%,上市时间:-\n",
      "精测转债未上市\n",
      "债券代码:123025,债券简称:精测转债,溢价率:-13.66%,上市时间:-\n",
      "本轮债券上市状态查询结束\n"
     ]
    }
   ],
   "source": [
    "from selenium import webdriver\n",
    "from pyquery import PyQuery as pq\n",
    "import easygui as eg\n",
    "from threading import Timer\n",
    "import datetime\n",
    "\n",
    "def bond_check(driver,url,bond_no):\n",
    "    driver.get(url) \n",
    "    html = driver.page_source\n",
    "    doc = pq(html,parser=\"html\")\n",
    "    content = doc('.maincont tbody tr')\n",
    "    for item in content.items():\n",
    "        bond_code = int(item.find(\"td:first-child\").text())\n",
    "        if bond_no == bond_code:\n",
    "            bond_title = item.find(\"td:nth-child(2)\").text()\n",
    "            bond_rate = item.find(\"td:nth-child(13)\").text()\n",
    "            list_status = item.find(\"td:last-child\").text()\n",
    "            message = '债券代码:{},债券简称:{},溢价率:{},上市时间:{}'.format(bond_code,bond_title,bond_rate,list_status)  \n",
    "            if list_status != '-':\n",
    "                print('{}上市提醒'.format(bond_title))\n",
    "                reminder(message)\n",
    "                bond_list.remove(bond_no)\n",
    "            else:\n",
    "                print('{}未上市'.format(bond_title))\n",
    "            print(message)\n",
    "            \n",
    "def reminder(message):\n",
    "    eg.msgbox(message,'上市提醒',ok_button='了解')\n",
    "    \n",
    "def main(url,bond_list):\n",
    "    option = webdriver.ChromeOptions()\n",
    "    option.add_argument('headless')\n",
    "    driver = webdriver.Chrome(options=option)\n",
    "    print('{} 债券上市状态查询开始'.format(datetime.datetime.now()))\n",
    "    for bond_no in bond_list:\n",
    "        bond_check(driver,url,bond_no)\n",
    "    print('本轮债券上市状态查询结束')\n",
    "\n",
    "if __name__ == '__main__': \n",
    "    url = 'http://data.eastmoney.com/xg/kzz/default.html'\n",
    "    bond_list = [127012,123025]\n",
    "    main(url,bond_list)\n",
    "    print('24小时候继续查询......')\n",
    "    timer = Timer(86400,main(url,bond_list))\n",
    "    timer.start()"
   ]
  }
 ],
 "metadata": {
  "kernelspec": {
   "display_name": "Python 3",
   "language": "python",
   "name": "python3"
  },
  "language_info": {
   "codemirror_mode": {
    "name": "ipython",
    "version": 3
   },
   "file_extension": ".py",
   "mimetype": "text/x-python",
   "name": "python",
   "nbconvert_exporter": "python",
   "pygments_lexer": "ipython3",
   "version": "3.6.3"
  },
  "toc": {
   "nav_menu": {},
   "number_sections": true,
   "sideBar": true,
   "skip_h1_title": false,
   "title_cell": "Table of Contents",
   "title_sidebar": "Contents",
   "toc_cell": false,
   "toc_position": {},
   "toc_section_display": true,
   "toc_window_display": false
  },
  "varInspector": {
   "cols": {
    "lenName": 16,
    "lenType": 16,
    "lenVar": 40
   },
   "kernels_config": {
    "python": {
     "delete_cmd_postfix": "",
     "delete_cmd_prefix": "del ",
     "library": "var_list.py",
     "varRefreshCmd": "print(var_dic_list())"
    },
    "r": {
     "delete_cmd_postfix": ") ",
     "delete_cmd_prefix": "rm(",
     "library": "var_list.r",
     "varRefreshCmd": "cat(var_dic_list()) "
    }
   },
   "types_to_exclude": [
    "module",
    "function",
    "builtin_function_or_method",
    "instance",
    "_Feature"
   ],
   "window_display": false
  }
 },
 "nbformat": 4,
 "nbformat_minor": 2
}
