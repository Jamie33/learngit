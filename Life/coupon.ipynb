{
 "cells": [
  {
   "cell_type": "markdown",
   "metadata": {},
   "source": [
    "# 返利网站"
   ]
  },
  {
   "cell_type": "code",
   "execution_count": 12,
   "metadata": {},
   "outputs": [
    {
     "name": "stdout",
     "output_type": "stream",
     "text": [
      "斯林百兰儿童床垫椰棕护脊棕垫硬1.2米 1.5米席梦思乳胶床垫定做\n",
      "【双11预售】mg美即面膜植物补水保湿面膜 学生男女面膜护肤品\n",
      "<!DOCTYPE html>\n",
      "<html>\n",
      "<head>\n",
      "<meta content=\"a219t\" name=\"data-spm\"/>\n",
      "<meta content=\"46807174\" name=\"aplus-ajax\"/>\n",
      "<title>淘宝联盟</title>\n",
      "<meta charset=\"utf-8\"/>\n",
      "<meta content=\"width=device-width,initial-scale=1.0, user-scalable=no\" name=\"viewport\"/>\n",
      "<meta content=\"webkit\" name=\"renderer\"/>\n",
      "<link href=\"/favicon.ico\" rel=\"shortcut icon\" type=\"image/x-icon\"/>\n",
      "<link href=\"//g.alicdn.com/thx/cube/1.2.1/neat.css\" rel=\"stylesheet\"/>\n",
      "<link href=\"//g.alicdn.com/thx/minecraft-animation/20151106.161602.306/css/animate-min.css\" rel=\"stylesheet\"/>\n",
      "<link href=\"//g.alicdn.com/mm/pubplus/0.5.59/style/main.css\" rel=\"stylesheet\"/>\n",
      "<script src=\"//g.alicdn.com/thx/brix-release/1.0.0-beta.17/require-config.js\"></script>\n",
      "<script src=\"//g.alicdn.com/mm/pubplus/0.5.59/app/aliww.js\"></script>\n",
      "<script src=\"//g.alicdn.com/crm/anywhere/1.0.88/lib/include.js\"></script>\n",
      "<!-- 安全监控 -->\n",
      "<script app=\"union-pub\" src=\"//g.alicdn.com/secdev/pointman/js/index.js\"></script>\n",
      "<!--[if lte IE 9]>\n",
      "  <script src=\"//g.alicdn.com/mm/pubplus/0.5.59/app/exts/ieupdate/ieupdate.js\"></script>\n",
      "  <![endif]-->\n",
      "</head>\n",
      "<body data-spm=\"7900221\"><script>\n",
      "with(document)with(body)with(insertBefore(createElement(\"script\"),firstChild))setAttribute(\"exparams\",\"category=&userid=&aplus&yunid=&&trid=0b0ece1015406454401043188e3ccf&asid=AQAAAABAYtRbUFRHagAAAABTwtrcEegurw==\",id=\"tb-beacon-aplus\",src=(location>\"https\"?\"//g\":\"//g\")+\".alicdn.com/alilog/mlog/aplus_v2.js\")\n",
      "</script>\n",
      "<script src=\"//g.alicdn.com/mm/pubplus/0.5.59/app/boot.js\"></script>\n",
      "<div style=\"display:none;\">\n",
      "<input name=\"_tb_token_\" type=\"hidden\" value=\"ebe88305354ed\"/>\n",
      "</div>\n",
      "</body>\n",
      "</html>\n"
     ]
    }
   ],
   "source": [
    "import re,requests\n",
    "from bs4 import BeautifulSoup\n",
    "\n",
    "message = '【斯林百兰儿童床垫椰棕护脊棕垫硬1.2米 1.5米席梦思乳胶床垫定做】http://m.uqlsi.top/h.3jRRgoV 点击链接，再选择浏览器咑閞；或復·制这段描述￥mS1hbSGstIQ￥后到👉淘♂寳♀👈'\n",
    "m = '【【双11预售】mg美即面膜植物补水保湿面膜 学生男女面膜护肤品】https://m.tb.cn/h.38wdFhk 点击链接，再选择浏览器咑閞；或復·制这段描述￥rALqbS9dSuU￥后到👉淘♂寳♀👈'\n",
    "\n",
    "regex = '【(.+)】'\n",
    "\n",
    "print(re.search(regex,message).group(1).strip())\n",
    "print(re.search(regex,m).group(1).strip())\n",
    "\n",
    "product_name = re.search(regex,message).group(1).strip() \n",
    "\n",
    "url = 'https://pub.alimama.com/promo/search/index.htm?q={}'.format(product_name)\n",
    "\n",
    "headers = {\n",
    "    'User-Agent':'Mozilla/5.0 (Macintosh; Intel Mac OS X 10_11_4) AppleWebkit/537.36 (KHTML, like Gecko) Chrome/52.0.2743.116 Safari/537.36'\n",
    "}\n",
    "r = requests.get(url)\n",
    "soup = BeautifulSoup(r.text,'lxml')\n",
    "print(soup)"
   ]
  },
  {
   "cell_type": "code",
   "execution_count": 26,
   "metadata": {},
   "outputs": [
    {
     "name": "stdout",
     "output_type": "stream",
     "text": [
      "斯林百兰儿童床垫椰棕护脊棕垫硬1.2米 1.5米席梦思乳胶床垫定做\n",
      "【双11预售】mg美即面膜植物补水保湿面膜 学生男女面膜护肤品\n"
     ]
    },
    {
     "ename": "NoSuchElementException",
     "evalue": "Message: no such element: Unable to locate element: {\"method\":\"class name\",\"selector\":\"box-content\"}\n  (Session info: chrome=69.0.3497.100)\n  (Driver info: chromedriver=2.41.578706 (5f725d1b4f0a4acbf5259df887244095596231db),platform=Mac OS X 10.12.6 x86_64)\n",
     "output_type": "error",
     "traceback": [
      "\u001b[0;31m---------------------------------------------------------------------------\u001b[0m",
      "\u001b[0;31mNoSuchElementException\u001b[0m                    Traceback (most recent call last)",
      "\u001b[0;32m<ipython-input-26-ea635b2474e1>\u001b[0m in \u001b[0;36m<module>\u001b[0;34m()\u001b[0m\n\u001b[1;32m     46\u001b[0m \u001b[0;34m\u001b[0m\u001b[0m\n\u001b[1;32m     47\u001b[0m \u001b[0;34m\u001b[0m\u001b[0m\n\u001b[0;32m---> 48\u001b[0;31m \u001b[0mcoupon\u001b[0m\u001b[0;34m(\u001b[0m\u001b[0murl\u001b[0m\u001b[0;34m,\u001b[0m\u001b[0mproduct_name\u001b[0m\u001b[0;34m)\u001b[0m\u001b[0;34m\u001b[0m\u001b[0m\n\u001b[0m",
      "\u001b[0;32m<ipython-input-26-ea635b2474e1>\u001b[0m in \u001b[0;36mcoupon\u001b[0;34m(url, product_name)\u001b[0m\n\u001b[1;32m     23\u001b[0m     \u001b[0mdriver\u001b[0m\u001b[0;34m.\u001b[0m\u001b[0mfind_element_by_class_name\u001b[0m\u001b[0;34m(\u001b[0m\u001b[0;34m'input-group-btn'\u001b[0m\u001b[0;34m)\u001b[0m\u001b[0;34m.\u001b[0m\u001b[0mclick\u001b[0m\u001b[0;34m(\u001b[0m\u001b[0;34m)\u001b[0m\u001b[0;34m\u001b[0m\u001b[0m\n\u001b[1;32m     24\u001b[0m     \u001b[0mtime\u001b[0m\u001b[0;34m.\u001b[0m\u001b[0msleep\u001b[0m\u001b[0;34m(\u001b[0m\u001b[0;36m5\u001b[0m\u001b[0;34m)\u001b[0m\u001b[0;34m\u001b[0m\u001b[0m\n\u001b[0;32m---> 25\u001b[0;31m     \u001b[0minfo\u001b[0m \u001b[0;34m=\u001b[0m \u001b[0mdriver\u001b[0m\u001b[0;34m.\u001b[0m\u001b[0mfind_element_by_class_name\u001b[0m\u001b[0;34m(\u001b[0m\u001b[0;34m'box-content'\u001b[0m\u001b[0;34m)\u001b[0m\u001b[0;34m\u001b[0m\u001b[0m\n\u001b[0m\u001b[1;32m     26\u001b[0m     \u001b[0;31m#info = driver.find_element_by_css_selector('span.fl.color-brand')\u001b[0m\u001b[0;34m\u001b[0m\u001b[0;34m\u001b[0m\u001b[0m\n\u001b[1;32m     27\u001b[0m     \u001b[0mprint\u001b[0m\u001b[0;34m(\u001b[0m\u001b[0minfo\u001b[0m\u001b[0;34m)\u001b[0m\u001b[0;34m\u001b[0m\u001b[0m\n",
      "\u001b[0;32m~/Anaconda/anaconda3/lib/python3.6/site-packages/selenium/webdriver/remote/webdriver.py\u001b[0m in \u001b[0;36mfind_element_by_class_name\u001b[0;34m(self, name)\u001b[0m\n\u001b[1;32m    486\u001b[0m             \u001b[0mdriver\u001b[0m\u001b[0;34m.\u001b[0m\u001b[0mfind_element_by_class_name\u001b[0m\u001b[0;34m(\u001b[0m\u001b[0;34m'foo'\u001b[0m\u001b[0;34m)\u001b[0m\u001b[0;34m\u001b[0m\u001b[0m\n\u001b[1;32m    487\u001b[0m         \"\"\"\n\u001b[0;32m--> 488\u001b[0;31m         \u001b[0;32mreturn\u001b[0m \u001b[0mself\u001b[0m\u001b[0;34m.\u001b[0m\u001b[0mfind_element\u001b[0m\u001b[0;34m(\u001b[0m\u001b[0mby\u001b[0m\u001b[0;34m=\u001b[0m\u001b[0mBy\u001b[0m\u001b[0;34m.\u001b[0m\u001b[0mCLASS_NAME\u001b[0m\u001b[0;34m,\u001b[0m \u001b[0mvalue\u001b[0m\u001b[0;34m=\u001b[0m\u001b[0mname\u001b[0m\u001b[0;34m)\u001b[0m\u001b[0;34m\u001b[0m\u001b[0m\n\u001b[0m\u001b[1;32m    489\u001b[0m \u001b[0;34m\u001b[0m\u001b[0m\n\u001b[1;32m    490\u001b[0m     \u001b[0;32mdef\u001b[0m \u001b[0mfind_elements_by_class_name\u001b[0m\u001b[0;34m(\u001b[0m\u001b[0mself\u001b[0m\u001b[0;34m,\u001b[0m \u001b[0mname\u001b[0m\u001b[0;34m)\u001b[0m\u001b[0;34m:\u001b[0m\u001b[0;34m\u001b[0m\u001b[0m\n",
      "\u001b[0;32m~/Anaconda/anaconda3/lib/python3.6/site-packages/selenium/webdriver/remote/webdriver.py\u001b[0m in \u001b[0;36mfind_element\u001b[0;34m(self, by, value)\u001b[0m\n\u001b[1;32m    856\u001b[0m         return self.execute(Command.FIND_ELEMENT, {\n\u001b[1;32m    857\u001b[0m             \u001b[0;34m'using'\u001b[0m\u001b[0;34m:\u001b[0m \u001b[0mby\u001b[0m\u001b[0;34m,\u001b[0m\u001b[0;34m\u001b[0m\u001b[0m\n\u001b[0;32m--> 858\u001b[0;31m             'value': value})['value']\n\u001b[0m\u001b[1;32m    859\u001b[0m \u001b[0;34m\u001b[0m\u001b[0m\n\u001b[1;32m    860\u001b[0m     \u001b[0;32mdef\u001b[0m \u001b[0mfind_elements\u001b[0m\u001b[0;34m(\u001b[0m\u001b[0mself\u001b[0m\u001b[0;34m,\u001b[0m \u001b[0mby\u001b[0m\u001b[0;34m=\u001b[0m\u001b[0mBy\u001b[0m\u001b[0;34m.\u001b[0m\u001b[0mID\u001b[0m\u001b[0;34m,\u001b[0m \u001b[0mvalue\u001b[0m\u001b[0;34m=\u001b[0m\u001b[0;32mNone\u001b[0m\u001b[0;34m)\u001b[0m\u001b[0;34m:\u001b[0m\u001b[0;34m\u001b[0m\u001b[0m\n",
      "\u001b[0;32m~/Anaconda/anaconda3/lib/python3.6/site-packages/selenium/webdriver/remote/webdriver.py\u001b[0m in \u001b[0;36mexecute\u001b[0;34m(self, driver_command, params)\u001b[0m\n\u001b[1;32m    309\u001b[0m         \u001b[0mresponse\u001b[0m \u001b[0;34m=\u001b[0m \u001b[0mself\u001b[0m\u001b[0;34m.\u001b[0m\u001b[0mcommand_executor\u001b[0m\u001b[0;34m.\u001b[0m\u001b[0mexecute\u001b[0m\u001b[0;34m(\u001b[0m\u001b[0mdriver_command\u001b[0m\u001b[0;34m,\u001b[0m \u001b[0mparams\u001b[0m\u001b[0;34m)\u001b[0m\u001b[0;34m\u001b[0m\u001b[0m\n\u001b[1;32m    310\u001b[0m         \u001b[0;32mif\u001b[0m \u001b[0mresponse\u001b[0m\u001b[0;34m:\u001b[0m\u001b[0;34m\u001b[0m\u001b[0m\n\u001b[0;32m--> 311\u001b[0;31m             \u001b[0mself\u001b[0m\u001b[0;34m.\u001b[0m\u001b[0merror_handler\u001b[0m\u001b[0;34m.\u001b[0m\u001b[0mcheck_response\u001b[0m\u001b[0;34m(\u001b[0m\u001b[0mresponse\u001b[0m\u001b[0;34m)\u001b[0m\u001b[0;34m\u001b[0m\u001b[0m\n\u001b[0m\u001b[1;32m    312\u001b[0m             response['value'] = self._unwrap_value(\n\u001b[1;32m    313\u001b[0m                 response.get('value', None))\n",
      "\u001b[0;32m~/Anaconda/anaconda3/lib/python3.6/site-packages/selenium/webdriver/remote/errorhandler.py\u001b[0m in \u001b[0;36mcheck_response\u001b[0;34m(self, response)\u001b[0m\n\u001b[1;32m    235\u001b[0m         \u001b[0;32melif\u001b[0m \u001b[0mexception_class\u001b[0m \u001b[0;34m==\u001b[0m \u001b[0mUnexpectedAlertPresentException\u001b[0m \u001b[0;32mand\u001b[0m \u001b[0;34m'alert'\u001b[0m \u001b[0;32min\u001b[0m \u001b[0mvalue\u001b[0m\u001b[0;34m:\u001b[0m\u001b[0;34m\u001b[0m\u001b[0m\n\u001b[1;32m    236\u001b[0m             \u001b[0;32mraise\u001b[0m \u001b[0mexception_class\u001b[0m\u001b[0;34m(\u001b[0m\u001b[0mmessage\u001b[0m\u001b[0;34m,\u001b[0m \u001b[0mscreen\u001b[0m\u001b[0;34m,\u001b[0m \u001b[0mstacktrace\u001b[0m\u001b[0;34m,\u001b[0m \u001b[0mvalue\u001b[0m\u001b[0;34m[\u001b[0m\u001b[0;34m'alert'\u001b[0m\u001b[0;34m]\u001b[0m\u001b[0;34m.\u001b[0m\u001b[0mget\u001b[0m\u001b[0;34m(\u001b[0m\u001b[0;34m'text'\u001b[0m\u001b[0;34m)\u001b[0m\u001b[0;34m)\u001b[0m\u001b[0;34m\u001b[0m\u001b[0m\n\u001b[0;32m--> 237\u001b[0;31m         \u001b[0;32mraise\u001b[0m \u001b[0mexception_class\u001b[0m\u001b[0;34m(\u001b[0m\u001b[0mmessage\u001b[0m\u001b[0;34m,\u001b[0m \u001b[0mscreen\u001b[0m\u001b[0;34m,\u001b[0m \u001b[0mstacktrace\u001b[0m\u001b[0;34m)\u001b[0m\u001b[0;34m\u001b[0m\u001b[0m\n\u001b[0m\u001b[1;32m    238\u001b[0m \u001b[0;34m\u001b[0m\u001b[0m\n\u001b[1;32m    239\u001b[0m     \u001b[0;32mdef\u001b[0m \u001b[0m_value_or_default\u001b[0m\u001b[0;34m(\u001b[0m\u001b[0mself\u001b[0m\u001b[0;34m,\u001b[0m \u001b[0mobj\u001b[0m\u001b[0;34m,\u001b[0m \u001b[0mkey\u001b[0m\u001b[0;34m,\u001b[0m \u001b[0mdefault\u001b[0m\u001b[0;34m)\u001b[0m\u001b[0;34m:\u001b[0m\u001b[0;34m\u001b[0m\u001b[0m\n",
      "\u001b[0;31mNoSuchElementException\u001b[0m: Message: no such element: Unable to locate element: {\"method\":\"class name\",\"selector\":\"box-content\"}\n  (Session info: chrome=69.0.3497.100)\n  (Driver info: chromedriver=2.41.578706 (5f725d1b4f0a4acbf5259df887244095596231db),platform=Mac OS X 10.12.6 x86_64)\n"
     ]
    }
   ],
   "source": [
    "import re,requests,time\n",
    "from bs4 import BeautifulSoup\n",
    "from selenium import webdriver\n",
    "\n",
    "message = '【斯林百兰儿童床垫椰棕护脊棕垫硬1.2米 1.5米席梦思乳胶床垫定做】http://m.uqlsi.top/h.3jRRgoV 点击链接，再选择浏览器咑閞；或復·制这段描述￥mS1hbSGstIQ￥后到👉淘♂寳♀👈'\n",
    "m = '【【双11预售】mg美即面膜植物补水保湿面膜 学生男女面膜护肤品】https://m.tb.cn/h.38wdFhk 点击链接，再选择浏览器咑閞；或復·制这段描述￥rALqbS9dSuU￥后到👉淘♂寳♀👈'\n",
    "\n",
    "regex = '【(.+)】'\n",
    "\n",
    "print(re.search(regex,message).group(1).strip())\n",
    "print(re.search(regex,m).group(1).strip())\n",
    "\n",
    "product_name = re.search(regex,message).group(1).strip() \n",
    "\n",
    "url = 'https://pub.alimama.com/?spm=a219t.7900221/1.1998910419.d34b1f9fa.1a8b75a5eYZcw6'\n",
    "\n",
    "def coupon(url,product_name):\n",
    "    \n",
    "    driver = webdriver.Chrome()  #声明浏览器对象\n",
    "    driver.get(url) # 访问网页\n",
    "    time.sleep(5)\n",
    "    driver.find_element_by_id('q').send_keys(product_name)\n",
    "    driver.find_element_by_class_name('input-group-btn').click()\n",
    "    time.sleep(5)\n",
    "    info = driver.find_element_by_class_name('box-content')\n",
    "    #info = driver.find_element_by_css_selector('span.fl.color-brand')\n",
    "    print(info)\n",
    "    \n",
    "    \n",
    "    \n",
    "    '''\n",
    "   \n",
    "    driver.find_element_by_id('nav_pwuser').send_keys(username) # 提取账号输入框，并输入用户名\n",
    "    driver.find_element_by_id('showpwd').send_keys(password) # 提取密码输入框，并输入密码\n",
    "    driver.find_element_by_name('head_login').submit() # 点击登陆按钮\n",
    "    driver.implicitly_wait(5) # 隐式等待\n",
    "    link = driver.find_element_by_id('nav_key_up_53').get_attribute('href') # 获取签到链接\n",
    "    driver.get(link) # 访问签到链接\n",
    "    driver.implicitly_wait(5)  # 隐式等待\n",
    "    driver.find_element_by_name('qdxq').click() # 点击高兴表情\n",
    "    driver.find_element_by_class_name('btn').submit() # 点击签到\n",
    "    info = driver.find_element_by_css_selector('p.f14.mb10').text #获取签到后信息\n",
    "    print('时间：{}\\n'.format(datetime.datetime.now()),info) #打印签到信息\n",
    "    driver.quit() # 退出浏览器\n",
    "     '''\n",
    "\n",
    "\n",
    "coupon(url,product_name)"
   ]
  },
  {
   "cell_type": "code",
   "execution_count": null,
   "metadata": {},
   "outputs": [],
   "source": []
  }
 ],
 "metadata": {
  "kernelspec": {
   "display_name": "Python 3",
   "language": "python",
   "name": "python3"
  },
  "language_info": {
   "codemirror_mode": {
    "name": "ipython",
    "version": 3
   },
   "file_extension": ".py",
   "mimetype": "text/x-python",
   "name": "python",
   "nbconvert_exporter": "python",
   "pygments_lexer": "ipython3",
   "version": "3.6.3"
  },
  "toc": {
   "nav_menu": {},
   "number_sections": true,
   "sideBar": true,
   "skip_h1_title": false,
   "title_cell": "Table of Contents",
   "title_sidebar": "Contents",
   "toc_cell": false,
   "toc_position": {},
   "toc_section_display": true,
   "toc_window_display": false
  },
  "varInspector": {
   "cols": {
    "lenName": 16,
    "lenType": 16,
    "lenVar": 40
   },
   "kernels_config": {
    "python": {
     "delete_cmd_postfix": "",
     "delete_cmd_prefix": "del ",
     "library": "var_list.py",
     "varRefreshCmd": "print(var_dic_list())"
    },
    "r": {
     "delete_cmd_postfix": ") ",
     "delete_cmd_prefix": "rm(",
     "library": "var_list.r",
     "varRefreshCmd": "cat(var_dic_list()) "
    }
   },
   "types_to_exclude": [
    "module",
    "function",
    "builtin_function_or_method",
    "instance",
    "_Feature"
   ],
   "window_display": false
  }
 },
 "nbformat": 4,
 "nbformat_minor": 2
}
