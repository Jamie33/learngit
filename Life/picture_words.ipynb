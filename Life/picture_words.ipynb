{
 "cells": [
  {
   "cell_type": "markdown",
   "metadata": {},
   "source": [
    "### [表白图片教程](https://mp.weixin.qq.com/s/FpbfC038l2egnFq4j87oHg)\n",
    "\n",
    "#### 原理\n",
    "\n",
    "事实上，每一张图片都是由一个一个的**像素点**所组成的。而每个像素点，都有自己的颜色，其颜色可以用一个数组来表示：(a,b,c)，其中每位数的取值范围都是 0-255。比如 (0,0,0) 代表白色，(255,255,255) 代表黑色。\n",
    "\n",
    "当像素点足够多的时候，这张照片就是我们所说的高清照片。而如果当像素点太少，我们的肉眼就能感知到**明显的锯齿感**。"
   ]
  },
  {
   "cell_type": "code",
   "execution_count": 23,
   "metadata": {},
   "outputs": [],
   "source": [
    "from PIL import Image, ImageDraw, ImageFont\n",
    "\n",
    "# 由于需要不断循环 “我喜欢你！”，这五个字符。所以这里可以 while 循环 yield 来实现一个生成器。\n",
    "def character_generator(text):\n",
    "    while True:\n",
    "        for i in range(len(text)):\n",
    "            yield text[i]\n",
    "            \n",
    "\n",
    "def draw_picuture(img_path,font_path,font_size,text):\n",
    "\n",
    "# 首先，使用 pillow.Image 读取图像，并使用 load 函数获取到每一个像素值\n",
    "    img_raw = Image.open(img_path)\n",
    "    img_array = img_raw.load()\n",
    "    \n",
    "# 然后新建一张画布，并选好你要使用的字体和字体大小。\n",
    "    img_new = Image.new(\"RGB\", img_raw.size, (0, 0, 0))\n",
    "    draw = ImageDraw.Draw(img_new)\n",
    "    font = ImageFont.truetype(font_path,font_size)\n",
    "\n",
    "    ch_gen = character_generator(text)\n",
    "\n",
    "    # 最后，要给这些字加上相应的颜色，写入新创建的画布中。\n",
    "    for y in range(0, img_raw.size[1], int(font_size * font_space)):\n",
    "        for x in range(0, img_raw.size[0], int(font_size * font_space)):\n",
    "            #  坐标,字体,字体颜色,字体大小\n",
    "            draw.text((x, y), next(ch_gen), font=font, fill=img_array[x, y], direction=None)\n",
    "\n",
    "\n",
    "    img_new.convert('RGB').save(\"test1.jpeg\")\n",
    "\n",
    "\n",
    "            \n",
    "img_path = \"/Users/xusanshan/Desktop/WechatIMG544.jpeg\"\n",
    "font_path = \"/System/Library/Fonts/STHeiti Medium.ttc\"\n",
    "font_size = 8\n",
    "font_space = 1\n",
    "text = \"宝子，2020情人节快乐！\"\n",
    "draw_picuture(img_path,font_path,font_size,text)"
   ]
  }
 ],
 "metadata": {
  "kernelspec": {
   "display_name": "Python 3",
   "language": "python",
   "name": "python3"
  },
  "language_info": {
   "codemirror_mode": {
    "name": "ipython",
    "version": 3
   },
   "file_extension": ".py",
   "mimetype": "text/x-python",
   "name": "python",
   "nbconvert_exporter": "python",
   "pygments_lexer": "ipython3",
   "version": "3.6.3"
  },
  "toc": {
   "nav_menu": {},
   "number_sections": true,
   "sideBar": true,
   "skip_h1_title": false,
   "title_cell": "Table of Contents",
   "title_sidebar": "Contents",
   "toc_cell": false,
   "toc_position": {},
   "toc_section_display": true,
   "toc_window_display": false
  },
  "varInspector": {
   "cols": {
    "lenName": 16,
    "lenType": 16,
    "lenVar": 40
   },
   "kernels_config": {
    "python": {
     "delete_cmd_postfix": "",
     "delete_cmd_prefix": "del ",
     "library": "var_list.py",
     "varRefreshCmd": "print(var_dic_list())"
    },
    "r": {
     "delete_cmd_postfix": ") ",
     "delete_cmd_prefix": "rm(",
     "library": "var_list.r",
     "varRefreshCmd": "cat(var_dic_list()) "
    }
   },
   "types_to_exclude": [
    "module",
    "function",
    "builtin_function_or_method",
    "instance",
    "_Feature"
   ],
   "window_display": false
  }
 },
 "nbformat": 4,
 "nbformat_minor": 2
}
