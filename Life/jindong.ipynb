{
 "cells": [
  {
   "cell_type": "code",
   "execution_count": 6,
   "metadata": {},
   "outputs": [],
   "source": [
    "from selenium import webdriver\n",
    "import datetime\n",
    "import time\n",
    "from PIL import Image\n",
    "from io import BytesIO\n",
    "import tesserocr\n",
    "\n",
    "def jindong(username,password):\n",
    "\n",
    "    url = 'https://passport.jd.com/new/login.aspx?ReturnUrl=https%3A%2F%2Fwww.jd.com%2F%3Fcu%3Dtrue%26utm_source%3Dbaidu-pinzhuan%26utm_medium%3Dcpc%26utm_campaign%3Dt_288551095_baidupinzhuan%26utm_term%3D0f3d30c8dba7459bb52f2eb5eba8ac7d_0_38035ab21ec541ad9942cdf96bb3aee4'\n",
    "    driver = webdriver.Chrome() #声明浏览器对象\n",
    "    driver.get(url) # 访问网页\n",
    "    driver.maximize_window()\n",
    "    driver.implicitly_wait(5) # 隐式等待\n",
    "    driver.find_element_by_css_selector('div.login-tab.login-tab-r').click()\n",
    "    driver.implicitly_wait(5) # 隐式等待\n",
    "    driver.find_element_by_id('loginname').send_keys(username) # 提取账号输入框，并输入用户名\n",
    "    driver.find_element_by_id('nloginpwd').send_keys(password) # 提取密码输入框，并输入密码\n",
    "    driver.implicitly_wait(5) # 隐式等待\n",
    "    \n",
    "  \n",
    "    driver.find_element_by_id('slideAuthCode').click() # 点击验证码\n",
    "\n",
    "\n",
    "\n",
    "    driver.find_element_by_id('loginsubmit').click() # 点击登陆按钮\n",
    "    \n",
    "    \n",
    "username = '' # 你的账号\n",
    "password = '' # 你的密码\n",
    "jindong(username,password)\n",
    "\n",
    "\n"
   ]
  }
 ],
 "metadata": {
  "kernelspec": {
   "display_name": "Python 3",
   "language": "python",
   "name": "python3"
  },
  "language_info": {
   "codemirror_mode": {
    "name": "ipython",
    "version": 3
   },
   "file_extension": ".py",
   "mimetype": "text/x-python",
   "name": "python",
   "nbconvert_exporter": "python",
   "pygments_lexer": "ipython3",
   "version": "3.6.3"
  },
  "toc": {
   "nav_menu": {},
   "number_sections": true,
   "sideBar": true,
   "skip_h1_title": false,
   "title_cell": "Table of Contents",
   "title_sidebar": "Contents",
   "toc_cell": false,
   "toc_position": {},
   "toc_section_display": true,
   "toc_window_display": false
  },
  "varInspector": {
   "cols": {
    "lenName": 16,
    "lenType": 16,
    "lenVar": 40
   },
   "kernels_config": {
    "python": {
     "delete_cmd_postfix": "",
     "delete_cmd_prefix": "del ",
     "library": "var_list.py",
     "varRefreshCmd": "print(var_dic_list())"
    },
    "r": {
     "delete_cmd_postfix": ") ",
     "delete_cmd_prefix": "rm(",
     "library": "var_list.r",
     "varRefreshCmd": "cat(var_dic_list()) "
    }
   },
   "types_to_exclude": [
    "module",
    "function",
    "builtin_function_or_method",
    "instance",
    "_Feature"
   ],
   "window_display": false
  }
 },
 "nbformat": 4,
 "nbformat_minor": 2
}
