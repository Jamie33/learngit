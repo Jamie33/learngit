{
 "cells": [
  {
   "cell_type": "code",
   "execution_count": 13,
   "metadata": {},
   "outputs": [
    {
     "name": "stdout",
     "output_type": "stream",
     "text": [
      "{'x': 895, 'y': 194}\n",
      "{'height': 32, 'width': 77}\n",
      "895 194 972 226\n",
      "\n"
     ]
    }
   ],
   "source": [
    "from selenium import webdriver\n",
    "import datetime\n",
    "import time\n",
    "from PIL import Image\n",
    "from io import BytesIO\n",
    "import tesserocr\n",
    "\n",
    "def daojia(username,password):\n",
    "\n",
    "    url = 'https://plogin.m.jd.com/user/login.action?appid=121&returnurl=https%3A%2F%2Fdaojia.jd.com%2Fclient%3FfunctionId%3Dlogin%2Fpassport%26platCode%3DH5%26appName%3Dpaidaojia%26appVersion%3D5.7.0%26body%3D%257B%2522returnLink%2522%253A%2520%2522https%253A%252F%252Fdaojia.jd.com%252Fhtml%252Findex.html%2523user%252FLID%253A2%2522%257D%26signKey%3D1d973ce5ab8bb79c0d2c5d4e973e5c37'\n",
    "    driver = webdriver.Chrome() #声明浏览器对象\n",
    "    driver.get(url) # 访问网页\n",
    "    driver.maximize_window()\n",
    "    #driver.find_element_by_id('username').send_keys(username) # 提取账号输入框，并输入用户名\n",
    "    #driver.find_element_by_id('password').send_keys(password) # 提取密码输入框，并输入密码\n",
    "    \n",
    "    \n",
    "    '''\n",
    "    imgcode = driver.find_element_by_id('imgCode') # 获取验证码图片\n",
    "    location= imgcode.location\n",
    "    size = imgcode.size\n",
    "    print(location)\n",
    "    print(size)\n",
    "    left,top,right,bottom = location['x'],location['y'],location['x']+size['width'],location['y']+size['height']\n",
    "    print(left,top,right,bottom)\n",
    "    '''\n",
    "  \n",
    "    screenshot = driver.get_screenshot_as_png()\n",
    "    screenshot = Image.open(BytesIO(screenshot))\n",
    "    screenshot.save('screenshot.png')\n",
    "    captcha = screenshot.crop((1790,370,1930,460))\n",
    "    captcha.save('imgcode.png')\n",
    "    \n",
    "    driver.quit() # 退出浏览器\n",
    "    #driver.find_element_by_css_selector('a.logbtn.submit').click() # 点击登陆按钮\n",
    "    #driver.implicitly_wait(5) # 隐式等待\n",
    "    \n",
    "    '''\n",
    "    \n",
    "    driver.implicitly_wait(5) # 隐式等待\n",
    "    link = driver.find_element_by_id('nav_key_up_53').get_attribute('href') # 获取签到链接\n",
    "    driver.get(link) # 访问签到链接\n",
    "    driver.implicitly_wait(5)  # 隐式等待\n",
    "    driver.find_element_by_name('qdxq').click() # 点击高兴表情\n",
    "    driver.find_element_by_class_name('btn').submit() # 点击签到\n",
    "    info = driver.find_element_by_css_selector('p.f14.mb10').text #获取签到后信息\n",
    "    print('时间：{}\\n'.format(datetime.datetime.now()),info) #打印签到信息\n",
    "    driver.quit() # 退出浏览器\n",
    "    '''\n",
    "    \n",
    "\n",
    "\n",
    "username = '' # 你的账号\n",
    "password = '' # 你的密码\n",
    "daojia(username,password)\n",
    "\n"
   ]
  },
  {
   "cell_type": "code",
   "execution_count": 2,
   "metadata": {},
   "outputs": [],
   "source": [
    "import tesserocr\n",
    "from PIL import Image\n",
    "\n",
    "image = Image.open('imgcode.png')\n",
    "image = image.convert('L')\n",
    "\n",
    "image.show()\n",
    "#result = tesserocr.image_to_text(image)\n",
    "#print(result)"
   ]
  },
  {
   "cell_type": "markdown",
   "metadata": {},
   "source": [
    "##  验证码\n",
    "\n",
    "字符型图片验证码识别完整过程及Python实现\n",
    "\n",
    "https://www.cnblogs.com/beer/p/5672678.html\n",
    "\n",
    "\n",
    "验证码——python去除干扰线\n",
    "\n",
    "https://blog.csdn.net/eddy_zheng/article/details/48895085\n",
    "\n",
    "\n",
    "python+机器学习+验证码识别+源码\n",
    "\n",
    "https://bbs.ichunqiu.com/thread-38774-1-1.html?from=beef\n",
    "\n",
    "有了Python+Tensorflow！所有验证码识别都能快人一步！快速识别\n",
    "\n",
    "http://www.sohu.com/a/213300147_100033985\n",
    "\n",
    "\n",
    "python爬虫验证码识别（去除干扰线）\n",
    "\n",
    "https://blog.csdn.net/weixin_40267472/article/details/81384624"
   ]
  },
  {
   "cell_type": "markdown",
   "metadata": {},
   "source": [
    "### 从验证码接口 批量下载验证码图片\n",
    "\n",
    "京东的验证码接口url单独打开是没有用的，必须先打开京东登陆页面的url\n",
    "所以需要用session 会话维持"
   ]
  },
  {
   "cell_type": "code",
   "execution_count": 18,
   "metadata": {},
   "outputs": [
    {
     "name": "stdout",
     "output_type": "stream",
     "text": [
      "pic0 downloading...\n",
      "pic1 downloading...\n",
      "pic2 downloading...\n",
      "pic3 downloading...\n",
      "pic4 downloading...\n",
      "pic5 downloading...\n",
      "pic6 downloading...\n",
      "pic7 downloading...\n",
      "pic8 downloading...\n",
      "pic9 downloading...\n",
      "done\n"
     ]
    }
   ],
   "source": [
    "import requests\n",
    "\n",
    "\n",
    "def captcha(url,imgurl,times):\n",
    "    s = requests.Session()\n",
    "    s.get(url)\n",
    "    headers={\"User-Agent\": \"Mozilla/5.0 (Windows NT 10.0; WOW64) AppleWebKit/537.36 (KHTML, like Gecko) Chrome/63.0.3239.132 Safari/537.36\",\n",
    "             \"Connection\": \"keep-alive\",\n",
    "             \"Upgrade-Insecure-Requests\":\"1\",\n",
    "             \"Host\":\"plogin.m.jd.com\"}\n",
    "    for i in range(times):\n",
    "        img = s.get(imgurl,headers=headers).content\n",
    "        with open('Captcha/{}.jpeg'.format(i),'wb') as f:\n",
    "            print('pic{} downloading...'.format(i))\n",
    "            f.write(img)    \n",
    "    print('done')\n",
    "\n",
    "url = 'https://plogin.m.jd.com/user/login.action?appid=121&returnurl=https%3A%2F%2Fdaojia.jd.com%2Fclient%3FfunctionId%3Dlogin%2Fpassport%26platCode%3DH5%26appName%3Dpaidaojia%26appVersion%3D5.7.0%26body%3D%257B%2522returnLink%2522%253A%2520%2522https%253A%252F%252Fdaojia.jd.com%252Fhtml%252Findex.html%2523user%252FLID%253A2%2522%257D%26signKey%3D1d973ce5ab8bb79c0d2c5d4e973e5c37'\n",
    "imgurl = 'https://plogin.m.jd.com/cgi-bin/m/authcode?mod=login' #验证码生产接口\n",
    "\n",
    "if __name__=='__main__':\n",
    "    \n",
    "    captcha(url,imgurl,10)"
   ]
  },
  {
   "cell_type": "markdown",
   "metadata": {},
   "source": [
    "## 图片预处理\n",
    "\n",
    "将RGB彩图转为灰度图\n",
    "\n",
    "将灰度图按照设定阈值转化为二值图"
   ]
  },
  {
   "cell_type": "code",
   "execution_count": 24,
   "metadata": {},
   "outputs": [
    {
     "name": "stdout",
     "output_type": "stream",
     "text": [
      " \n",
      "\n"
     ]
    }
   ],
   "source": [
    "from PIL import Image\n",
    "import tesserocr\n",
    "\n",
    "img = Image.open('imgcode.png') # 读取原始图片\n",
    "grey_img = img.convert('L')  # 转化为灰度图\n",
    "\n",
    "#二值化函数\n",
    "def get_bin_table(threshold):\n",
    "    \"\"\"\n",
    "    获取灰度转二值的映射table\n",
    "    \"\"\"\n",
    "    table = []\n",
    "    for i in range(256):\n",
    "        if i < threshold:\n",
    "            table.append(0)\n",
    "        else:\n",
    "            table.append(1)\n",
    " \n",
    "    return table\n",
    "\n",
    "table = get_bin_table(200)\n",
    "out = grey_img.point(table,'1')\n",
    "out.show()\n",
    "\n",
    "\n",
    "result = tesserocr.image_to_text(out)\n",
    "print(result)"
   ]
  }
 ],
 "metadata": {
  "kernelspec": {
   "display_name": "Python 3",
   "language": "python",
   "name": "python3"
  },
  "language_info": {
   "codemirror_mode": {
    "name": "ipython",
    "version": 3
   },
   "file_extension": ".py",
   "mimetype": "text/x-python",
   "name": "python",
   "nbconvert_exporter": "python",
   "pygments_lexer": "ipython3",
   "version": "3.6.5"
  },
  "toc": {
   "nav_menu": {},
   "number_sections": true,
   "sideBar": true,
   "skip_h1_title": false,
   "title_cell": "Table of Contents",
   "title_sidebar": "Contents",
   "toc_cell": false,
   "toc_position": {},
   "toc_section_display": true,
   "toc_window_display": false
  },
  "varInspector": {
   "cols": {
    "lenName": 16,
    "lenType": 16,
    "lenVar": 40
   },
   "kernels_config": {
    "python": {
     "delete_cmd_postfix": "",
     "delete_cmd_prefix": "del ",
     "library": "var_list.py",
     "varRefreshCmd": "print(var_dic_list())"
    },
    "r": {
     "delete_cmd_postfix": ") ",
     "delete_cmd_prefix": "rm(",
     "library": "var_list.r",
     "varRefreshCmd": "cat(var_dic_list()) "
    }
   },
   "types_to_exclude": [
    "module",
    "function",
    "builtin_function_or_method",
    "instance",
    "_Feature"
   ],
   "window_display": false
  }
 },
 "nbformat": 4,
 "nbformat_minor": 2
}
