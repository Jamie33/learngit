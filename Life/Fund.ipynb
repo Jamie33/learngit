{
 "cells": [
  {
   "cell_type": "code",
   "execution_count": 13,
   "metadata": {},
   "outputs": [
    {
     "name": "stdout",
     "output_type": "stream",
     "text": [
      "{'x': 895, 'y': 194}\n",
      "{'height': 32, 'width': 77}\n",
      "895 194 972 226\n",
      "\n"
     ]
    }
   ],
   "source": [
    "from selenium import webdriver\n",
    "import datetime\n",
    "import time\n",
    "from PIL import Image\n",
    "from io import BytesIO\n",
    "import tesserocr\n",
    "\n",
    "def daojia(username,password):\n",
    "\n",
    "    url = 'https://plogin.m.jd.com/user/login.action?appid=121&returnurl=https%3A%2F%2Fdaojia.jd.com%2Fclient%3FfunctionId%3Dlogin%2Fpassport%26platCode%3DH5%26appName%3Dpaidaojia%26appVersion%3D5.7.0%26body%3D%257B%2522returnLink%2522%253A%2520%2522https%253A%252F%252Fdaojia.jd.com%252Fhtml%252Findex.html%2523user%252FLID%253A2%2522%257D%26signKey%3D1d973ce5ab8bb79c0d2c5d4e973e5c37'\n",
    "    driver = webdriver.Chrome() #声明浏览器对象\n",
    "    driver.get(url) # 访问网页\n",
    "    driver.maximize_window()\n",
    "    #driver.find_element_by_id('username').send_keys(username) # 提取账号输入框，并输入用户名\n",
    "    #driver.find_element_by_id('password').send_keys(password) # 提取密码输入框，并输入密码\n",
    "    \n",
    "    \n",
    "    '''\n",
    "    imgcode = driver.find_element_by_id('imgCode') # 获取验证码图片\n",
    "    location= imgcode.location\n",
    "    size = imgcode.size\n",
    "    print(location)\n",
    "    print(size)\n",
    "    left,top,right,bottom = location['x'],location['y'],location['x']+size['width'],location['y']+size['height']\n",
    "    print(left,top,right,bottom)\n",
    "    '''\n",
    "  \n",
    "    screenshot = driver.get_screenshot_as_png()\n",
    "    screenshot = Image.open(BytesIO(screenshot))\n",
    "    screenshot.save('screenshot.png')\n",
    "    captcha = screenshot.crop((1790,370,1930,460))\n",
    "    captcha.save('imgcode.png')\n",
    "    \n",
    "    driver.quit() # 退出浏览器\n",
    "    #driver.find_element_by_css_selector('a.logbtn.submit').click() # 点击登陆按钮\n",
    "    #driver.implicitly_wait(5) # 隐式等待\n",
    "    \n",
    "    '''\n",
    "    \n",
    "    driver.implicitly_wait(5) # 隐式等待\n",
    "    link = driver.find_element_by_id('nav_key_up_53').get_attribute('href') # 获取签到链接\n",
    "    driver.get(link) # 访问签到链接\n",
    "    driver.implicitly_wait(5)  # 隐式等待\n",
    "    driver.find_element_by_name('qdxq').click() # 点击高兴表情\n",
    "    driver.find_element_by_class_name('btn').submit() # 点击签到\n",
    "    info = driver.find_element_by_css_selector('p.f14.mb10').text #获取签到后信息\n",
    "    print('时间：{}\\n'.format(datetime.datetime.now()),info) #打印签到信息\n",
    "    driver.quit() # 退出浏览器\n",
    "    '''\n",
    "    \n",
    "\n",
    "\n",
    "username = '13480975967' # 你的账号\n",
    "password = 'Jamie8449671' # 你的密码\n",
    "daojia(username,password)\n",
    "\n"
   ]
  },
  {
   "cell_type": "code",
   "execution_count": 19,
   "metadata": {},
   "outputs": [],
   "source": [
    "import tesserocr\n",
    "from PIL import Image\n",
    "\n",
    "image = Image.open('imgcode.png')\n",
    "image = image.convert('L')\n",
    "\n",
    "image.show()\n",
    "#result = tesserocr.image_to_text(image)\n",
    "#print(result)"
   ]
  }
 ],
 "metadata": {
  "kernelspec": {
   "display_name": "Python 3",
   "language": "python",
   "name": "python3"
  },
  "language_info": {
   "codemirror_mode": {
    "name": "ipython",
    "version": 3
   },
   "file_extension": ".py",
   "mimetype": "text/x-python",
   "name": "python",
   "nbconvert_exporter": "python",
   "pygments_lexer": "ipython3",
   "version": "3.6.3"
  },
  "toc": {
   "nav_menu": {},
   "number_sections": true,
   "sideBar": true,
   "skip_h1_title": false,
   "title_cell": "Table of Contents",
   "title_sidebar": "Contents",
   "toc_cell": false,
   "toc_position": {},
   "toc_section_display": true,
   "toc_window_display": false
  },
  "varInspector": {
   "cols": {
    "lenName": 16,
    "lenType": 16,
    "lenVar": 40
   },
   "kernels_config": {
    "python": {
     "delete_cmd_postfix": "",
     "delete_cmd_prefix": "del ",
     "library": "var_list.py",
     "varRefreshCmd": "print(var_dic_list())"
    },
    "r": {
     "delete_cmd_postfix": ") ",
     "delete_cmd_prefix": "rm(",
     "library": "var_list.r",
     "varRefreshCmd": "cat(var_dic_list()) "
    }
   },
   "types_to_exclude": [
    "module",
    "function",
    "builtin_function_or_method",
    "instance",
    "_Feature"
   ],
   "window_display": false
  }
 },
 "nbformat": 4,
 "nbformat_minor": 2
}
