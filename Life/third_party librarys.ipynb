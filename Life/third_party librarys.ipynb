{
 "cells": [
  {
   "cell_type": "markdown",
   "metadata": {},
   "source": [
    "## 利用python库twilio来免费发送短信\n",
    "\n",
    "对线上或者线下后台跑的程序进行监控\n",
    "\n",
    "[利用python库twilio来免费发送短信](https://cuiqingcai.com/5696.html)\n",
    "\n",
    "[twilio 官网](https://www.twilio.com)\n",
    "\n",
    "### message"
   ]
  },
  {
   "cell_type": "code",
   "execution_count": 3,
   "metadata": {},
   "outputs": [
    {
     "name": "stdout",
     "output_type": "stream",
     "text": [
      "SMb60bb477d7654f0d9f36bf86fec03a10\n"
     ]
    }
   ],
   "source": [
    "from twilio.rest import Client\n",
    "\n",
    "account_sid = ''\n",
    "auth_token = ''\n",
    "client = Client(account_sid, auth_token)\n",
    "message = client.messages.create(\n",
    "to = '+86',\n",
    "from_ = '+',\n",
    "body = 'Hello, this is a hello message from Jamie using Python!'\n",
    ")\n",
    "print(message.sid)"
   ]
  },
  {
   "cell_type": "markdown",
   "metadata": {},
   "source": [
    "### voice call"
   ]
  },
  {
   "cell_type": "code",
   "execution_count": 5,
   "metadata": {},
   "outputs": [
    {
     "name": "stdout",
     "output_type": "stream",
     "text": [
      "CAb17e3f605f1855f3d139f96b1d378ec2\n"
     ]
    }
   ],
   "source": [
    "from twilio.rest import Client\n",
    "account_sid = \"\"\n",
    "auth_token = \"\"\n",
    "client = Client(account_sid, auth_token)\n",
    "call = client.calls.create(\n",
    "to=\"+86\",\n",
    "from_=\"+\",\n",
    "url=\"http://demo.twilio.com/docs/voice.xml\"\n",
    ")\n",
    "print(call.sid)"
   ]
  },
  {
   "cell_type": "markdown",
   "metadata": {},
   "source": [
    "## EasyGUI \n",
    "[官方文档](https://easygui.readthedocs.io/en/develop/)\n",
    "\n",
    "[参考文档](https://www.cnblogs.com/bldly1989/p/6651855.html)\n",
    "\n",
    "### msgBox\n",
    "`msgbox(msg='(Your message goes here)', title=' ', ok_button='OK', image=None, root=None)`\n",
    "\n",
    "msgbox() 显示一个消息和提供一个\"OK\"按钮，你可以指定任意的消息和标题，你甚至可以重写\"OK\"按钮的内容。 以下是 msgbox() 的实例函数:"
   ]
  },
  {
   "cell_type": "code",
   "execution_count": 7,
   "metadata": {},
   "outputs": [
    {
     "data": {
      "text/plain": [
       "'Hello'"
      ]
     },
     "execution_count": 7,
     "metadata": {},
     "output_type": "execute_result"
    }
   ],
   "source": [
    "import easygui as eg\n",
    "\n",
    "eg.msgbox('hello Jamie','title',ok_button='Hello')"
   ]
  },
  {
   "cell_type": "markdown",
   "metadata": {},
   "source": [
    "### ccbox()\n",
    "`ccbox(msg='Shall I continue?', title=' ', choices=('Continue', 'Cancel'), image=None)`\n",
    "ccbox() 提供一个选择：Continue 或者 Cancel，并相应的返回 1（选中Continue）或者 0（选中Cancel）。注意 ccbox() 是返回整型的 1 或 0，不是布尔类型的 True 或 False。但你仍然可以这么写：\n",
    "\n",
    "### ynbox() \n",
    "这个函数和ccbox()功能一模一样"
   ]
  },
  {
   "cell_type": "code",
   "execution_count": 8,
   "metadata": {},
   "outputs": [],
   "source": [
    "import sys\n",
    "import easygui as eg\n",
    "\n",
    "if eg.ccbox('Would you be my girlfriend?',choices=('yes','no')):\n",
    "    eg.msgbox('I love you')\n",
    "else:\n",
    "    sys.exit()"
   ]
  },
  {
   "cell_type": "markdown",
   "metadata": {},
   "source": [
    "### buttonbox()\n",
    "`buttonbox(msg='', title=' ', choices=('Button1', 'Button2', 'Button3'), image=None, root=None)`\n",
    "\n",
    "可以使用 buttonbox() 定义自己的一组按钮，buttonbox() 会显示一组你定义好的按钮。\n",
    "\n",
    "当用户点击任意一个按钮的时候，buttonbox() 返回按钮的文本内容。\n",
    "\n",
    "### indexbox()\n",
    "`indexbox(msg='Shall I continue?', title=' ', choices=('Yes', 'No'), image=None) `\n",
    "基本跟上面一样，区别就是当用户选择第一个按钮的时候返回序列号0，选择第二个按钮时候返回序列号1。\n",
    "\n",
    "### boolbox()\n",
    "`boolbox(msg='Shall I continue?', title=' ', choices=('Yes', 'No'), image=None) `\n",
    "如果第一个按钮被选中则返回 1，否则返回 0。"
   ]
  },
  {
   "cell_type": "code",
   "execution_count": 11,
   "metadata": {},
   "outputs": [],
   "source": [
    "import easygui as eg\n",
    "\n",
    "eg.buttonbox(msg='Which kind of fruit do you like most?',title='I want to get to know you', choices=('watermelon','apple','strawberry'))"
   ]
  },
  {
   "cell_type": "markdown",
   "metadata": {},
   "source": [
    "#### 在buttonbox()中显示图片\n",
    "\n",
    "当你调用一个 buttonbox 函数（例如 msgbox(), ynbox(), indexbox() 等等）的时候，\n",
    "\n",
    "你还可以为关键字参数 image 赋值，这是设置一个 .gif 格式的图像（注意仅支持 GIF 格式哦"
   ]
  },
  {
   "cell_type": "code",
   "execution_count": 12,
   "metadata": {},
   "outputs": [
    {
     "data": {
      "text/plain": [
       "'watermelon'"
      ]
     },
     "execution_count": 12,
     "metadata": {},
     "output_type": "execute_result"
    }
   ],
   "source": [
    "import easygui as eg\n",
    "\n",
    "eg.buttonbox(msg='Which kind of fruit do you like most?',image='QRcode.png',title='I want to get to know you', choices=('watermelon','apple','strawberry'))"
   ]
  },
  {
   "cell_type": "markdown",
   "metadata": {},
   "source": [
    "### choicebox()\n",
    "`choicebox(msg='Pick something.', title=' ', choices=())  `\n",
    "\n",
    "choicebox() 为用户提供了一个可选择的列表，使用序列（元祖或列表）作为选项，这些选项显示前会按照不区分大小写的方法排好序。  \n",
    "\n",
    "另外还可以使用键盘来选择其中一个选项（比较纠结，但一点儿都不重要）：  \n",
    "\n",
    "- 例如当按下键盘上的\"g\"键，将会选中的第一个以\"g\"开头的选项。\n",
    "- 再次按下\"g\"键，则会选中下一个以\"g\"开头的选项。\n",
    "- 在选中最后一个以\"g\"开头的选项的时候，再次按下\"g\"键将重新回到在列表的开头的第一个以\"g\"开头的选项。\n",
    "- 如果选项中没有以\"g\"开头的，则会选中字符排序在\"g\"之前（\"f\"）的那个字符开头的选项。\n",
    "- 如果选项中没有字符的排序在\"g\"之前的，那么在列表中第一个元素将会被选中。 "
   ]
  },
  {
   "cell_type": "code",
   "execution_count": 15,
   "metadata": {},
   "outputs": [
    {
     "name": "stdout",
     "output_type": "stream",
     "text": [
      "[0]\n"
     ]
    }
   ],
   "source": [
    "import easygui as eg\n",
    "\n",
    "msg = 'which kind of fruit do you like most?'\n",
    "title='I want to get to know you'\n",
    "choices=['watermelon','apple','strawberry']\n",
    "reply = eg.choicebox(msg,title,choices)"
   ]
  },
  {
   "cell_type": "markdown",
   "metadata": {},
   "source": [
    "### multchoicebox()\n",
    "`multchoicebox(msg='Pick as many items as you like.', title=' ', choices=(), **kwargs)`\n",
    "\n",
    "- multchoicebox() 函数也是提供一个可选择的列表，与 choicebox() 不同的是，multchoicebox() 支持用户选择 0 个，1 个或者同时选择多个选项。 \n",
    "- multchoicebox() 函数也是使用序列（元祖或列表）作为选项，这些选项显示前会按照不区分大小写的方法排好序。\n",
    "\n",
    "选择不全部返回"
   ]
  },
  {
   "cell_type": "code",
   "execution_count": 20,
   "metadata": {},
   "outputs": [
    {
     "name": "stdout",
     "output_type": "stream",
     "text": [
      "[0]\n"
     ]
    }
   ],
   "source": [
    "import easygui as eg\n",
    "\n",
    "msg = 'which kind of fruit do you like most?'\n",
    "title='I want to get to know you'\n",
    "choices=['watermelon','apple','strawberry','orange']\n",
    "reply = eg.multchoicebox(msg,title,choices)"
   ]
  },
  {
   "cell_type": "markdown",
   "metadata": {},
   "source": [
    "### enterbox()\n",
    "`enterbox(msg='Enter something.', title=' ', default='', strip=True, image=None, root=None)`\n",
    "\n",
    "enterbox() 为用户提供一个最简单的输入框，返回值为用户输入的字符串。\n",
    "\n",
    "默认返回的值会自动去除首尾的空格，如果需要保留首尾空格的话请设置参数 strip=False。"
   ]
  },
  {
   "cell_type": "code",
   "execution_count": 21,
   "metadata": {},
   "outputs": [
    {
     "data": {
      "text/plain": [
       "'F**K, you know what I mean?'"
      ]
     },
     "execution_count": 21,
     "metadata": {},
     "output_type": "execute_result"
    }
   ],
   "source": [
    "import easygui as eg\n",
    "\n",
    "eg.enterbox(msg='What would you like to say to me?',title='anything is ok')"
   ]
  },
  {
   "cell_type": "markdown",
   "metadata": {},
   "source": [
    "### passwordbox()\n",
    "`passwordbox(msg='Enter your password.', title=' ', default='', image=None, root=None)`\n",
    "\n",
    "passwordbox() 跟 enterbox() 样式一样，不同的是用户输入的内容用\"*\"显示出来，返回用户输入的字符串"
   ]
  },
  {
   "cell_type": "code",
   "execution_count": 32,
   "metadata": {},
   "outputs": [
    {
     "name": "stdout",
     "output_type": "stream",
     "text": [
      "afsdadsf\n"
     ]
    }
   ],
   "source": [
    "import easygui as eg\n",
    "\n",
    "pwd = eg.passwordbox(msg='Enter your password',title='Enter your password')\n",
    "print(pwd)"
   ]
  },
  {
   "cell_type": "markdown",
   "metadata": {},
   "source": [
    "### multpasswordbox()\n",
    "`multpasswordbox(msg='Fill in values for the fields.', title=' ', fields=(), values=())`\n",
    "\n",
    "multpasswordbox() 跟 multenterbox() 使用相同的接口，但当它显示的时候，最后一个输入框显示为密码的形式（\"*\"）"
   ]
  },
  {
   "cell_type": "code",
   "execution_count": 35,
   "metadata": {},
   "outputs": [
    {
     "name": "stdout",
     "output_type": "stream",
     "text": [
      "['adf', 'adf']\n"
     ]
    }
   ],
   "source": [
    "import easygui as eg\n",
    "\n",
    "msg = 'enter your username and password'\n",
    "title = 'Login'\n",
    "user_info = []\n",
    "user_info = eg.multpasswordbox(msg,title,('username','password'))\n",
    "print(user_info)"
   ]
  },
  {
   "cell_type": "markdown",
   "metadata": {},
   "source": [
    "### interbox()\n",
    "`integerbox(msg='', title=' ', default='', lowerbound=0, upperbound=99, image=None, root=None, **invalidKeywordArguments)`\n",
    "\n",
    "integerbox() 为用户提供一个简单的输入框，用户只能输入范围内（lowerbound参数设置最小值，upperbound参数设置最大值）的整型数值，否则会要求用户重新输入。"
   ]
  },
  {
   "cell_type": "code",
   "execution_count": 23,
   "metadata": {},
   "outputs": [
    {
     "data": {
      "text/plain": [
       "3"
      ]
     },
     "execution_count": 23,
     "metadata": {},
     "output_type": "execute_result"
    }
   ],
   "source": [
    "import easygui as eg\n",
    "\n",
    "eg.integerbox(msg='just think of a number',lowerbound=0,upperbound=100)"
   ]
  },
  {
   "cell_type": "markdown",
   "metadata": {},
   "source": [
    "### mulenterbox()\n",
    "`multenterbox(msg='Fill in values for the fields.', title=' ', fields=(), values=())`\n",
    "\n",
    "multenterbox() 为用户提供多个简单的输入框，要注意以下几点：\n",
    "\n",
    "- 如果用户输入的值比选项少的话，则返回列表中的值用空字符串填充用户为输入的选项。\n",
    "- 如果用户输入的值比选项多的话，则返回的列表中的值将截断为选项的数量。\n",
    "- 如果用户取消操作，则返回域中的列表的值或者None值"
   ]
  },
  {
   "cell_type": "code",
   "execution_count": 30,
   "metadata": {},
   "outputs": [
    {
     "name": "stdout",
     "output_type": "stream",
     "text": [
      "您填写的资料如下:['adfs', 'adsf', 'adf', 'afd', 'af', 'adfs']\n"
     ]
    }
   ],
   "source": [
    "import easygui as eg\n",
    "\n",
    "msg = \"请填写一下信息(其中带*号的项为必填项)\"\n",
    "title = \"账号中心\"\n",
    "fieldNames = [\"*用户名\",\"*真实姓名\",\"固定电话\",\"*手机号码\",\"QQ\",\"*Email\"]\n",
    "fieldValues = eg.multenterbox(msg,title,fieldNames)\n",
    "\n",
    "while True:\n",
    "    if fieldValues == None :\n",
    "        break\n",
    "    errmsg = \"\"\n",
    "    for i in range(len(fieldNames)):\n",
    "        option = fieldNames[i].strip()\n",
    "        if fieldValues[i].strip() == \"\" and option[0] == \"*\":\n",
    "            errmsg += (\"【%s】为必填项   \" %fieldNames[i])\n",
    "    if errmsg == \"\":\n",
    "        break\n",
    "    fieldValues = eg.multenterbox(errmsg,title,fieldNames,fieldValues)\n",
    "print(\"您填写的资料如下:%s\" %str(fieldValues))"
   ]
  },
  {
   "cell_type": "markdown",
   "metadata": {},
   "source": [
    "### textbox()\n",
    "`textbox(msg='', title=' ', text='', codebox=0) `\n",
    "\n",
    "textbox() 函数默认会以比例字体（参数 codebox=1 设置为等宽字体）来显示文本内容（会自动换行哦），这个函数适合用于显示一般的书面文字。 \n",
    "注：text 参数（第三个参数）可以是字符串类型，列表类型，或者元祖类型。"
   ]
  },
  {
   "cell_type": "code",
   "execution_count": 36,
   "metadata": {},
   "outputs": [
    {
     "data": {
      "text/plain": [
       "'anything you want\\n\\n\\n\\n\\n\\n\\n\\n\\n\\n\\n\\n\\n\\n\\n'"
      ]
     },
     "execution_count": 36,
     "metadata": {},
     "output_type": "execute_result"
    }
   ],
   "source": [
    "import easygui as eg\n",
    "\n",
    "eg.textbox(msg='what would you like to say to me?',text='anything you want')"
   ]
  }
 ],
 "metadata": {
  "kernelspec": {
   "display_name": "Python 3",
   "language": "python",
   "name": "python3"
  },
  "language_info": {
   "codemirror_mode": {
    "name": "ipython",
    "version": 3
   },
   "file_extension": ".py",
   "mimetype": "text/x-python",
   "name": "python",
   "nbconvert_exporter": "python",
   "pygments_lexer": "ipython3",
   "version": "3.6.5"
  }
 },
 "nbformat": 4,
 "nbformat_minor": 2
}
