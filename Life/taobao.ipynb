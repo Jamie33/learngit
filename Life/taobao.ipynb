{
 "cells": [
  {
   "cell_type": "code",
   "execution_count": null,
   "metadata": {},
   "outputs": [],
   "source": [
    "from selenium import webdriver\n",
    "import time\n",
    "import datetime\n",
    "from threading import Timer\n",
    "\n",
    "def baoshuba():\n",
    "    username = '13480975957' # 你的账号\n",
    "    password = 'Xss19900303' # 你的密码 \n",
    "\n",
    "    url = 'https://login.taobao.com/member/login.jhtml?spm=a21bo.2017.754894437.1.5af911d9e4ObPD&f=top&redirectURL=https%3A%2F%2Fwww.taobao.com%2F'\n",
    "    driver = webdriver.Chrome()  #声明浏览器对象\n",
    "    driver.get(url) # 访问网页\n",
    "    link = driver.find_element_by_css_selector('a.forget-pwd.J_Quick2Static').get_attribute('href')\n",
    "    driver.find_element_by_id('TPL_username_1').send_keys(username) # 提取账号输入框，并输入用户名\n",
    "    driver.find_element_by_id('TPL_password_1').send_keys(password) # 提取密码输入框，并输入密码\n",
    "    driver.find_element_by_name('J_SubmitStatic').submit() # 点击登陆按钮\n",
    "    driver.implicitly_wait(5) # 隐式等待\n",
    "    \n",
    "        \n",
    "        \"\"\"\n",
    "        link = driver.find_element_by_id('nav_key_up_53').get_attribute('href') # 获取签到链接\n",
    "        driver.get(link) # 访问签到链接\n",
    "        driver.implicitly_wait(5)  # 隐式等待\n",
    "        driver.find_element_by_name('qdxq').click() # 点击高兴表情\n",
    "        driver.find_element_by_class_name('btn').submit() # 点击签到\n",
    "        info = driver.find_element_by_css_selector('p.f14.mb10').text #获取签到后信息\n",
    "        print('签到时间：{}\\n'.format(datetime.datetime.now()),info) #打印签到信息\n",
    "        t = Timer(60,baoshuba)\n",
    "        t.start()\n",
    "        \"\"\"\n",
    "       \n"
   ]
  },
  {
   "cell_type": "code",
   "execution_count": null,
   "metadata": {},
   "outputs": [],
   "source": [
    "\n"
   ]
  }
 ],
 "metadata": {
  "kernelspec": {
   "display_name": "Python 3",
   "language": "python",
   "name": "python3"
  },
  "language_info": {
   "codemirror_mode": {
    "name": "ipython",
    "version": 3
   },
   "file_extension": ".py",
   "mimetype": "text/x-python",
   "name": "python",
   "nbconvert_exporter": "python",
   "pygments_lexer": "ipython3",
   "version": "3.6.5"
  }
 },
 "nbformat": 4,
 "nbformat_minor": 2
}
