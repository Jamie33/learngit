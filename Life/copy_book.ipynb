{
 "cells": [
  {
   "cell_type": "markdown",
   "metadata": {},
   "source": [
    "### 打开页面"
   ]
  },
  {
   "cell_type": "code",
   "execution_count": 10,
   "metadata": {
    "ExecuteTime": {
     "end_time": "2020-09-04T03:05:59.855633Z",
     "start_time": "2020-09-04T03:00:07.306153Z"
    }
   },
   "outputs": [
    {
     "name": "stdout",
     "output_type": "stream",
     "text": [
      "2020-09-04 11:00:07 脚本启动中...\n",
      "打开知乎电子书网站\n",
      "等待10秒\n",
      "第1次\n",
      "点击空白位置\n",
      "下一页\n",
      "点击插件\n",
      "点击 Article 保存形式\n",
      "点击 Clip\n",
      "等待 Clip\n",
      "第2次\n",
      "点击空白位置\n",
      "下一页\n",
      "点击插件\n",
      "点击 Article 保存形式\n",
      "点击 Clip\n",
      "等待 Clip\n",
      "第3次\n",
      "点击空白位置\n",
      "下一页\n",
      "点击插件\n",
      "点击 Article 保存形式\n",
      "点击 Clip\n",
      "等待 Clip\n",
      "第4次\n",
      "点击空白位置\n",
      "下一页\n",
      "点击插件\n",
      "点击 Article 保存形式\n",
      "点击 Clip\n",
      "等待 Clip\n",
      "第5次\n",
      "点击空白位置\n",
      "下一页\n",
      "点击插件\n",
      "点击 Article 保存形式\n",
      "点击 Clip\n",
      "等待 Clip\n",
      "第6次\n",
      "点击空白位置\n",
      "下一页\n",
      "点击插件\n",
      "点击 Article 保存形式\n",
      "点击 Clip\n",
      "等待 Clip\n",
      "第7次\n",
      "点击空白位置\n",
      "下一页\n",
      "点击插件\n",
      "点击 Article 保存形式\n",
      "点击 Clip\n",
      "等待 Clip\n",
      "第8次\n",
      "点击空白位置\n",
      "下一页\n",
      "点击插件\n",
      "点击 Article 保存形式\n",
      "点击 Clip\n",
      "等待 Clip\n",
      "第9次\n",
      "点击空白位置\n",
      "下一页\n",
      "点击插件\n",
      "点击 Article 保存形式\n",
      "点击 Clip\n",
      "等待 Clip\n",
      "第10次\n",
      "点击空白位置\n",
      "下一页\n",
      "点击插件\n",
      "点击 Article 保存形式\n",
      "点击 Clip\n",
      "等待 Clip\n",
      "完成\n"
     ]
    }
   ],
   "source": [
    "from selenium import webdriver\n",
    "from selenium.webdriver.support.select import Select\n",
    "from threading import Timer\n",
    "import time,os\n",
    "from datetime import datetime\n",
    "from selenium.webdriver.common.action_chains import ActionChains\n",
    "from selenium.webdriver.common.keys import Keys\n",
    "from apscheduler.schedulers.blocking import BlockingScheduler\n",
    "from selenium.webdriver.chrome.options import Options\n",
    "import pyautogui as pg\n",
    "\n",
    "\n",
    "url = 'https://www.zhihu.com/pub/reader/119586901/chapter/1058523234261151744'\n",
    "\n",
    "now = datetime.now().strftime('%Y-%m-%d %H:%M:%S')\n",
    "print('{} 脚本启动中...'.format(now))\n",
    "\n",
    "\n",
    "# 启用带插件的浏览器\n",
    "opts = Options()\n",
    "opts.add_argument(\"--user-data-dir=\"+r\"C:\\chrome_new\")\n",
    "driver = webdriver.Chrome(options=opts)   # 打开chrome浏览器\n",
    "driver.maximize_window()\n",
    "driver.get(url) # 访问网页\n",
    "print('打开知乎电子书网站')\n",
    "time.sleep(10)\n",
    "print('等待10秒')\n",
    "\n",
    "def copy_book():\n",
    "   \n",
    "    # 点击空白位置\n",
    "    pg.click(x=1530, y=571)\n",
    "    print('点击空白位置')  \n",
    "    time.sleep(3)\n",
    "      \n",
    "     # 下一页\n",
    "    pg.press( 'right' )\n",
    "    print('下一页')\n",
    "    time.sleep(5)\n",
    "    \n",
    "    # 插件位置\n",
    "    print('点击插件')\n",
    "    pg.click(x=1706,y=54)\n",
    "    time.sleep(5)\n",
    "\n",
    "    # Article 位置\n",
    "    print('点击 Article 保存形式')\n",
    "    pg.click(x=1725, y=323)\n",
    "    time.sleep(10)\n",
    "    \n",
    "    # Clip 位置\n",
    "    print('点击 Clip')\n",
    "    pg.click(x=1742, y=505)\n",
    "    print('等待 Clip')\n",
    "    time.sleep(10)\n",
    "\n",
    "num = 10\n",
    "for i in range(num):\n",
    "    print('第{}次'.format(i+1))\n",
    "    copy_book()\n",
    "    \n",
    "print('完成')"
   ]
  },
  {
   "cell_type": "code",
   "execution_count": 1,
   "metadata": {
    "ExecuteTime": {
     "end_time": "2020-09-03T10:14:46.451432Z",
     "start_time": "2020-09-03T10:14:46.334628Z"
    }
   },
   "outputs": [],
   "source": [
    "import pyautogui as pg"
   ]
  },
  {
   "cell_type": "markdown",
   "metadata": {},
   "source": [
    "### 控制鼠标"
   ]
  },
  {
   "cell_type": "code",
   "execution_count": 8,
   "metadata": {
    "ExecuteTime": {
     "end_time": "2020-09-04T02:58:27.251956Z",
     "start_time": "2020-09-04T02:58:27.244964Z"
    }
   },
   "outputs": [
    {
     "data": {
      "text/plain": [
       "Point(x=1530, y=571)"
      ]
     },
     "execution_count": 8,
     "metadata": {},
     "output_type": "execute_result"
    }
   ],
   "source": [
    "pg.position()"
   ]
  },
  {
   "cell_type": "code",
   "execution_count": 3,
   "metadata": {
    "ExecuteTime": {
     "end_time": "2020-09-03T10:15:05.119485Z",
     "start_time": "2020-09-03T10:15:05.011691Z"
    }
   },
   "outputs": [],
   "source": [
    "# 全屏幕\n",
    "# 插件位置\n",
    "pg.click(x=1706,y=54)\n",
    "\n",
    "# Article 位置\n",
    "pg.click(x=1669, y=280)\n",
    "\n",
    "# Clip 位置\n",
    "pg.click(x=1659, y=483)"
   ]
  },
  {
   "cell_type": "markdown",
   "metadata": {},
   "source": [
    "### 控制键盘"
   ]
  },
  {
   "cell_type": "code",
   "execution_count": 6,
   "metadata": {
    "ExecuteTime": {
     "end_time": "2020-09-03T10:18:30.900783Z",
     "start_time": "2020-09-03T10:18:30.796738Z"
    }
   },
   "outputs": [],
   "source": [
    "# 下一页\n",
    "pg.press( 'right' )"
   ]
  }
 ],
 "metadata": {
  "kernelspec": {
   "display_name": "Python 3",
   "language": "python",
   "name": "python3"
  },
  "language_info": {
   "codemirror_mode": {
    "name": "ipython",
    "version": 3
   },
   "file_extension": ".py",
   "mimetype": "text/x-python",
   "name": "python",
   "nbconvert_exporter": "python",
   "pygments_lexer": "ipython3",
   "version": "3.8.3"
  },
  "toc": {
   "base_numbering": 1,
   "nav_menu": {},
   "number_sections": true,
   "sideBar": true,
   "skip_h1_title": false,
   "title_cell": "Table of Contents",
   "title_sidebar": "Contents",
   "toc_cell": false,
   "toc_position": {},
   "toc_section_display": true,
   "toc_window_display": false
  }
 },
 "nbformat": 4,
 "nbformat_minor": 4
}
