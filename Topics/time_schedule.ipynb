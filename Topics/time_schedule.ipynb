{
 "cells": [
  {
   "cell_type": "markdown",
   "metadata": {},
   "source": [
    "# 定时任务\n",
    "\n",
    "## [python 定时任务框架APScheduler](https://juejin.im/post/6844903952979329031)\n",
    "\n",
    "### 简介\n",
    "\n",
    "APScheduler的全称是Advanced Python Scheduler。它是一个轻量级的 Python 定时任务调度框架。APScheduler 支持三种调度任务：固定时间间隔，固定时间点（日期），Linux 下的 Crontab 命令。同时，它还支持异步执行、后台执行调度任务。\n",
    "\n",
    "### 安装\n",
    "使用 pip 包管理工具安装 APScheduler 是最方便快捷的。\n",
    "\n",
    "`pip install APScheduler`\n",
    "\n",
    "### 使用步骤\n",
    "\n",
    "APScheduler 使用起来还算是比较简单。运行一个调度任务只需要以下三部曲。\n",
    "\n",
    "- 新建一个 schedulers (调度器) \n",
    "- 添加一个调度任务(job stores)\n",
    "- 运行调度任务"
   ]
  },
  {
   "cell_type": "code",
   "execution_count": 6,
   "metadata": {
    "ExecuteTime": {
     "end_time": "2020-08-12T02:50:13.921508Z",
     "start_time": "2020-08-12T02:50:13.917505Z"
    }
   },
   "outputs": [
    {
     "name": "stdout",
     "output_type": "stream",
     "text": [
      "2020-08-12 10:50:13\n"
     ]
    }
   ],
   "source": [
    "from datetime import datetime\n",
    "\n",
    "now = datetime.now().strftime('%Y-%m-%d %H:%M:%S')\n",
    "print(now)"
   ]
  },
  {
   "cell_type": "code",
   "execution_count": null,
   "metadata": {
    "ExecuteTime": {
     "end_time": "2020-08-12T03:02:10.154459Z",
     "start_time": "2020-08-12T02:58:45.826Z"
    }
   },
   "outputs": [],
   "source": [
    "import time\n",
    "from apscheduler.schedulers.blocking import BlockingScheduler\n",
    "\n",
    "\n",
    "# today = time.strftime('%Y%m%d', time.localtime(time.time()))\n",
    "# nowDateTime = time.strftime('%Y-%m-%d %H:%M:%S', time.localtime(time.time()))\n",
    "\n",
    "now = datetime.now()\n",
    "\n",
    "global num\n",
    "num = 0\n",
    "\n",
    "# class myAP:\n",
    "#     def __init__(self):\n",
    "#         print(\"hello\")\n",
    "\n",
    "\n",
    "def sayHello():\n",
    "    global num\n",
    "    num = num + 1\n",
    "    print(now,'  任务一  hello word %d' % num)\n",
    "\n",
    "def sayHello11():\n",
    "    global num\n",
    "    num = num + 1\n",
    "    print(now,'  任务二 o(*￣︶￣*)o hello word %d' % num)\n",
    "\n",
    "if __name__ == \"__main__\":\n",
    "    # BlockingScheduler\n",
    "    scheduler = BlockingScheduler()\n",
    "    # scheduler.add_job(sayHello, 'cron', day_of_week='0-6', hour=19, minute=50)\n",
    "    scheduler.add_job(sayHello, 'interval', seconds=15)\n",
    "    scheduler.add_job(sayHello11, 'interval', seconds=30)\n",
    "    scheduler.start()"
   ]
  },
  {
   "cell_type": "code",
   "execution_count": 11,
   "metadata": {
    "ExecuteTime": {
     "end_time": "2020-08-12T03:07:45.264347Z",
     "start_time": "2020-08-12T03:07:45.260349Z"
    }
   },
   "outputs": [
    {
     "data": {
      "text/plain": [
       "'2020-08-12 11:07:45'"
      ]
     },
     "execution_count": 11,
     "metadata": {},
     "output_type": "execute_result"
    }
   ],
   "source": [
    "now = datetime.now().strftime('%Y-%m-%d %H:%M:%S') \n",
    "now"
   ]
  },
  {
   "cell_type": "code",
   "execution_count": null,
   "metadata": {},
   "outputs": [],
   "source": []
  }
 ],
 "metadata": {
  "kernelspec": {
   "display_name": "Python 3",
   "language": "python",
   "name": "python3"
  },
  "language_info": {
   "codemirror_mode": {
    "name": "ipython",
    "version": 3
   },
   "file_extension": ".py",
   "mimetype": "text/x-python",
   "name": "python",
   "nbconvert_exporter": "python",
   "pygments_lexer": "ipython3",
   "version": "3.8.3"
  },
  "toc": {
   "base_numbering": 1,
   "nav_menu": {},
   "number_sections": true,
   "sideBar": true,
   "skip_h1_title": false,
   "title_cell": "Table of Contents",
   "title_sidebar": "Contents",
   "toc_cell": false,
   "toc_position": {},
   "toc_section_display": true,
   "toc_window_display": false
  }
 },
 "nbformat": 4,
 "nbformat_minor": 4
}
