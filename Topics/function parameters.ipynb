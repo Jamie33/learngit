{
 "cells": [
  {
   "cell_type": "markdown",
   "metadata": {},
   "source": [
    "## 函数参数的匹配与解包\n",
    "https://zhuanlan.zhihu.com/p/33145623\n",
    "\n",
    "\n",
    "### 要点\n",
    "- 1.基于位置和关键字的参数匹配\n",
    "- 2.使用默认参数形式\n",
    "- 3.函数定义使用*和**进行任意数目参数收集\n",
    "- 4.函数调用时使用*和**进行参数解包\n",
    "\n",
    "\n",
    "### 位置参数[默认]\n",
    "参数在python中总是通过赋值进行传递的。**在默认情况下，参数是通过其位置进行匹配的，从左到右，而且必须精确的传递和函数头部参数名一样多的参数**。这种默认的传递方式很简单"
   ]
  },
  {
   "cell_type": "code",
   "execution_count": 1,
   "metadata": {},
   "outputs": [
    {
     "name": "stdout",
     "output_type": "stream",
     "text": [
      "1 2 3\n"
     ]
    }
   ],
   "source": [
    "def f(a,b,c):\n",
    "    print(a,b,c)\n",
    "\n",
    "f(1,2,3)"
   ]
  },
  {
   "cell_type": "markdown",
   "metadata": {},
   "source": [
    "### 关键字参数\n",
    "**python中可以使用基于关键字的参数匹配形式**。在调用函数的时候，能够更详尽的定义内容传递的位置。关键字参数允许通过变量名进行匹配，而不是通过位置。"
   ]
  },
  {
   "cell_type": "code",
   "execution_count": 3,
   "metadata": {},
   "outputs": [
    {
     "name": "stdout",
     "output_type": "stream",
     "text": [
      "1 2 3\n"
     ]
    }
   ],
   "source": [
    "def f(a,b,c):\n",
    "    print(a,b,c)\n",
    "\n",
    "f(c=3,a=1,b=2)"
   ]
  },
  {
   "cell_type": "markdown",
   "metadata": {},
   "source": [
    "可以看出，当关键字参数使用时参数从左至右的关系已不再重要了，因为参数是通过变量名进行传递的，而不是通过其位置。这种调用显得更文档化一些（例如使用一些名称更直观的参数名）。**甚至在一个调用中混合使用基于位置的参数和基于关键字的参数也可以**。在这种情况下，所有基于位置的参数首先按照从左到右的顺序匹配头部的参数，之后再进行基于变量名进行关键字的匹配。\n",
    "\n",
    "### 混合位置&关键字参数"
   ]
  },
  {
   "cell_type": "code",
   "execution_count": 4,
   "metadata": {},
   "outputs": [
    {
     "name": "stdout",
     "output_type": "stream",
     "text": [
      "1 2 3\n"
     ]
    }
   ],
   "source": [
    "def f(a,b,c):\n",
    "    print(a,b,c)\n",
    "\n",
    "f(1,c=3,b=2)"
   ]
  },
  {
   "cell_type": "markdown",
   "metadata": {},
   "source": [
    "### 默认参数\n",
    "再来说说python中的默认参数形式。默认参数允许创建函数可选的参数，如果没有传入值的话，在函数运行前，参数就被赋予了默认值，还是看一个例子："
   ]
  },
  {
   "cell_type": "code",
   "execution_count": 7,
   "metadata": {},
   "outputs": [
    {
     "name": "stdout",
     "output_type": "stream",
     "text": [
      "1 2 3\n",
      "1 2 3\n",
      "1 4 3\n",
      "1 4 8\n"
     ]
    }
   ],
   "source": [
    "def f(a,b=2,c=3):\n",
    "    print(a,b,c)\n",
    "\n",
    "f(1)\n",
    "f(a=1)\n",
    "f(1,4)\n",
    "f(1,4,8)"
   ]
  },
  {
   "cell_type": "markdown",
   "metadata": {},
   "source": [
    "看到这个例子中，我们必须为a提供值，无论是通过位置参数还是关键字参数来实现，然而，为b和c提供值是可选的。如果我们不给b和c传递值，它们会分别赋值为2和3。\n",
    "\n",
    "那么按位置顺序，当给函数传递两个值的时候，只有c得到默认值，并且当有三个值传递时，不会使用默认值。\n",
    "\n",
    "### 混合默认&关键字参数\n",
    "**关键字参数允许我们跳过有默认值的参数**，但是要记住的是，**首先要完成通过位置进行匹配的参数**。"
   ]
  },
  {
   "cell_type": "code",
   "execution_count": 8,
   "metadata": {},
   "outputs": [
    {
     "name": "stdout",
     "output_type": "stream",
     "text": [
      "1 2 6\n"
     ]
    }
   ],
   "source": [
    "def f(a,b=2,c=3):\n",
    "    print(a,b,c)\n",
    "\n",
    "f(1,c=6)"
   ]
  },
  {
   "cell_type": "markdown",
   "metadata": {},
   "source": [
    "很明显，a通过位置得到了1，c通过关键字得到了6，而跳过了b，b通过默认参数得到了2.\n",
    "\n",
    "### 函数定义的参数中使用*arg和**kwargs\n",
    "\n",
    "在python中，当*和**符号出现在函数定义的参数中时，表示任意数目参数收集。\n",
    "- *arg表示任意多个无名参数，类型为tuple\n",
    "- **kwargs表示关键字参数，为dict\n",
    "\n",
    "使用时需将*arg放在**kwargs之前，否则会有“SyntaxError: non-keyword arg after keyword arg”的语法错误\n",
    "\n",
    "#### *arg\n",
    "*允许你传入0个或任意个参数，这些可变参数在函数调用时自动组装为一个tuple。\n",
    "\n",
    "他是用元组的形式收集不匹配的位置参数。当这个函数调用时，python将所有位置相关的参数收集到一个新的元组中，并将这个元组赋值给变量args。"
   ]
  },
  {
   "cell_type": "code",
   "execution_count": 14,
   "metadata": {},
   "outputs": [
    {
     "name": "stdout",
     "output_type": "stream",
     "text": [
      "------f-------\n",
      "1\n",
      "(2, 3, 4)\n",
      "<class 'tuple'>\n",
      "------print-------\n",
      "[1, 2, 3, 4, 5]\n",
      "(1, 2, 3, 4, 5)\n",
      "range(1, 6)\n",
      "1 2 3 4 5\n",
      "1 2 3 4 5\n",
      "1 2 3 4 5\n",
      "------calc-------\n",
      "30\n"
     ]
    }
   ],
   "source": [
    "print('------f-------')\n",
    "def f(a,*args):\n",
    "    print(a)\n",
    "    print(args)\n",
    "    print(type(args))\n",
    "\n",
    "f(1,2,3,4)\n",
    "\n",
    "print('------print-------')\n",
    "a = [1,2,3,4,5]\n",
    "b = (1,2,3,4,5)\n",
    "c = range(1,6)\n",
    "print(a)\n",
    "print(b)\n",
    "print(c)\n",
    "print(*a)\n",
    "print(*b)\n",
    "print(*c)\n",
    "\n",
    "print('------calc-------')\n",
    "def calc(*numbers):\n",
    "    sum = 0\n",
    "    for n in numbers:\n",
    "        sum = sum + n * n\n",
    "    print(sum)\n",
    "\n",
    "calc(1,2,3,4)"
   ]
  },
  {
   "cell_type": "markdown",
   "metadata": {},
   "source": [
    "#### **kwargs\n",
    "\n",
    "** 关键字参数允许你传入0个或任意个含参数名的参数,这些关键字参数在函数内部自动组装为一个dict。\n",
    "\n",
    "只对关键字参数有效。在这种情况下，**允许将关键字参数转化为字典，你能够在之后使用键调用来进行步进或字典迭代"
   ]
  },
  {
   "cell_type": "code",
   "execution_count": 16,
   "metadata": {},
   "outputs": [
    {
     "name": "stdout",
     "output_type": "stream",
     "text": [
      "{'a': 1, 'b': 2}\n"
     ]
    }
   ],
   "source": [
    "def d(**kargs):\n",
    "    print(kargs)\n",
    "    \n",
    "d(a=1,b=2)"
   ]
  },
  {
   "cell_type": "markdown",
   "metadata": {},
   "source": [
    "#### 混合一般参数、*参数以及**关键字\n",
    "在函数头部能混合一般参数、*参数以及**去实现更加灵活的调用方式。"
   ]
  },
  {
   "cell_type": "code",
   "execution_count": 17,
   "metadata": {},
   "outputs": [
    {
     "name": "stdout",
     "output_type": "stream",
     "text": [
      "1 (2, 3) {'x': 4, 'y': 5}\n",
      "name: Adam age: 45 other: {'gender': 'M', 'job': 'Engineer'}\n"
     ]
    }
   ],
   "source": [
    "def h(a,*args,**kargs):\n",
    "    print(a,args,kargs)\n",
    "\n",
    "h(1,2,3,x=4,y=5)\n",
    "\n",
    "def person(name,age,**kw):\n",
    "    print('name:',name,'age:',age,'other:',kw)\n",
    "    \n",
    "person('Adam', 45, gender='M', job='Engineer')"
   ]
  },
  {
   "cell_type": "markdown",
   "metadata": {},
   "source": [
    "### 函数调用中使用*arg和**kwargs\n",
    "\n",
    "上面是在函数定义的时候写的*和**形式，那反过来，如果*和**语法出现在函数调用中又会如何呢？他会解包参数的集合。例如，我们在调用函数时能够使用*语法，在这种情况下，它与函数定义的意思相反，他会解包参数的集合，而不是创建参数的集合。\n",
    "\n",
    "#### *arg 解包元组\n",
    "通过一个元组给一个函数传递四个参数，并且让python将它们解包成不同的参数。"
   ]
  },
  {
   "cell_type": "code",
   "execution_count": 18,
   "metadata": {},
   "outputs": [
    {
     "name": "stdout",
     "output_type": "stream",
     "text": [
      "1 2 3 4\n"
     ]
    }
   ],
   "source": [
    "def func(a,b,c,d):\n",
    "    print(a,b,c,d)\n",
    "\n",
    "a = (1,2,3,4)\n",
    "func(*a)"
   ]
  },
  {
   "cell_type": "markdown",
   "metadata": {},
   "source": [
    "#### **kwargs 解包字典\n",
    "\n",
    "在函数调用时，**会以键/值对的形式解包一个字典，使其成为独立的关键字参数。\n",
    "\n",
    "函数参数一定要和字典键保持一致"
   ]
  },
  {
   "cell_type": "code",
   "execution_count": 26,
   "metadata": {},
   "outputs": [
    {
     "name": "stdout",
     "output_type": "stream",
     "text": [
      "1 2 3 4\n"
     ]
    }
   ],
   "source": [
    "def func(a,b,c,d):\n",
    "    print(a,b,c,d)\n",
    "\n",
    "kargs = {'a':1, 'b':2, 'c':3, 'd':4}\n",
    "func(**kargs)"
   ]
  },
  {
   "cell_type": "markdown",
   "metadata": {},
   "source": [
    "#### 混合\n",
    "从左到右要以位置参数、关键字参数、元组解包、字典解包的顺序来进行"
   ]
  },
  {
   "cell_type": "code",
   "execution_count": 36,
   "metadata": {},
   "outputs": [
    {
     "name": "stdout",
     "output_type": "stream",
     "text": [
      "1 2 3 4 5 6\n"
     ]
    }
   ],
   "source": [
    "def func(a,b,c,d,e,f):\n",
    "    print(a,b,c,d,e,f)\n",
    "\n",
    "args = (2, 3)\n",
    "kargs = {'d': 4, 'e': 5}\n",
    "\n",
    "func(1,  f=6,*args, **kargs)"
   ]
  },
  {
   "cell_type": "markdown",
   "metadata": {},
   "source": [
    "### 函数定义和调用中同时使用*arg和**kwargs\n",
    "\n",
    "**一边组装，一边解包**\n",
    "\n",
    "如果已经有一个list或者tuple，在函数调用时，在参数前加*，把list/tuple/range序列中的元素一个一个传到函数里面"
   ]
  },
  {
   "cell_type": "code",
   "execution_count": 19,
   "metadata": {},
   "outputs": [
    {
     "name": "stdout",
     "output_type": "stream",
     "text": [
      "30\n"
     ]
    }
   ],
   "source": [
    "def calc(*numbers):\n",
    "    sum = 0\n",
    "    for n in numbers:\n",
    "        sum = sum + n * n\n",
    "    print(sum)\n",
    "\n",
    "num = [1,2,3,4]\n",
    "calc(*num)"
   ]
  },
  {
   "cell_type": "markdown",
   "metadata": {},
   "source": [
    "如果已经有一个dict,在参数前加**，把该dict的所有key-value用转换为关键字参数传进去"
   ]
  },
  {
   "cell_type": "code",
   "execution_count": 21,
   "metadata": {},
   "outputs": [
    {
     "name": "stdout",
     "output_type": "stream",
     "text": [
      "name: Jack age: 24 other: {'city': 'Beijing', 'job': 'Engineer'}\n"
     ]
    }
   ],
   "source": [
    "def person(name,age,**kw):\n",
    "    print('name:',name,'age:',age,'other:',kw)\n",
    "\n",
    "extra = {'city': 'Beijing', 'job': 'Engineer'}\n",
    "person('Jack', 24, **extra)"
   ]
  },
  {
   "cell_type": "markdown",
   "metadata": {},
   "source": [
    "### 实际应用的例子\n",
    "\n",
    "这种支持任意参数形式的方法的一个应用点，就是实现对其他函数进行灵活调用。因为参数列表可以通过元组、字典形式传入，所以他支持运行时构建参数列表，这对于测试和计时其他函数非常方便。在下面的代码中，我们通过传递任何发送进来的参数来支持具有任意参数的任意函数："
   ]
  },
  {
   "cell_type": "code",
   "execution_count": 37,
   "metadata": {},
   "outputs": [
    {
     "name": "stdout",
     "output_type": "stream",
     "text": [
      "calling: func\n",
      "10\n"
     ]
    }
   ],
   "source": [
    "def tracer(func, *args, **kargs):\n",
    "    print('calling:', func.__name__)\n",
    "    return func(*args, **kargs)\n",
    "\n",
    "def func(a,b,c,d):\n",
    "    return a+b+c+d\n",
    "\n",
    "print(tracer(func,1,2,c=3,d=4))"
   ]
  },
  {
   "cell_type": "markdown",
   "metadata": {},
   "source": [
    "很明显，这里在定义tracer函数时应用了收集任意参数的方法，在其中调用func函数时又利用了解包参数的方法。\n",
    "\n",
    "最后综合所学，来仿写一个函数模拟print的功能，他可以接收任意的位置参数，同时接收规定范围内的关键字参数，对多余的关键字参数会报错。"
   ]
  },
  {
   "cell_type": "code",
   "execution_count": 46,
   "metadata": {},
   "outputs": [
    {
     "name": "stdout",
     "output_type": "stream",
     "text": [
      "hello&world&healthy\n"
     ]
    }
   ],
   "source": [
    "import sys\n",
    "\n",
    "def re_print(*args,**kwargs):\n",
    "    sep = kwargs.pop('sep',' ')\n",
    "    end = kwargs.pop('end','\\n')\n",
    "    file = kwargs.pop('file',sys.stdout)\n",
    "    if kwargs:\n",
    "        raise TypeError('extra keywords:{}'.format(kwargs))\n",
    "    output = ''\n",
    "    first = True\n",
    "    for arg in args:\n",
    "        output += ('' if first else sep) + str(arg) \n",
    "        first = False\n",
    "    file.write(output+end)\n",
    "        \n",
    "re_print('hello','world','healthy',sep='&',end='\\n')"
   ]
  },
  {
   "cell_type": "markdown",
   "metadata": {},
   "source": [
    "在这段程序中，有几个关键点值得我们注意\n",
    "\n",
    "对kargs字典进行pop操作，弹出了指定的三个关键字sep、end、file后，如果字典里还有值，则证明是多余的关键字，程序需要报错。第二在pop的时候，如果这三个参数如果在调用函数的时候指定了值，就用指定的值，如果没有指定值则用程序中指定的默认值。\n",
    "\n",
    "从下面的例子就可以看出，使用多余的关键字，程序会报错。"
   ]
  }
 ],
 "metadata": {
  "kernelspec": {
   "display_name": "Python 3",
   "language": "python",
   "name": "python3"
  },
  "language_info": {
   "codemirror_mode": {
    "name": "ipython",
    "version": 3
   },
   "file_extension": ".py",
   "mimetype": "text/x-python",
   "name": "python",
   "nbconvert_exporter": "python",
   "pygments_lexer": "ipython3",
   "version": "3.6.5"
  }
 },
 "nbformat": 4,
 "nbformat_minor": 2
}
