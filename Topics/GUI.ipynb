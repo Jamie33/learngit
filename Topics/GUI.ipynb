{
 "cells": [
  {
   "cell_type": "markdown",
   "metadata": {},
   "source": [
    "## [tkinter](https://www.liaoxuefeng.com/wiki/1016959663602400/1017786914566560)"
   ]
  },
  {
   "cell_type": "code",
   "execution_count": 1,
   "metadata": {},
   "outputs": [],
   "source": [
    "from tkinter import *\n",
    "\n",
    "\n",
    "class Application(Frame):\n",
    "    def __init__(self, master=None):\n",
    "        Frame.__init__(self,master)\n",
    "        self.pack()\n",
    "        self.createWidgets()\n",
    "    \n",
    "    def createWidgets(self):\n",
    "        self.helloLabel= Label(self,text='Hello,world!')\n",
    "        self.helloLabel.pack()\n",
    "        self.quitButton = Button(self,text='Quit',command=self.quit)\n",
    "        self.quitButton.pack()\n",
    "    \n",
    "app = Application()\n",
    "app.master.title('Hello World')\n",
    "app.mainloop()"
   ]
  },
  {
   "cell_type": "code",
   "execution_count": 6,
   "metadata": {},
   "outputs": [],
   "source": [
    "from tkinter import *\n",
    "import tkinter.messagebox as messagebox\n",
    "\n",
    "class Application(Frame):\n",
    "    def __init__(self, master=None):\n",
    "        Frame.__init__(self,master)\n",
    "        self.pack()\n",
    "        self.createWidgets()\n",
    "    \n",
    "    def createWidgets(self):\n",
    "        self.nameInput= Entry(self)\n",
    "        self.nameInput.pack()\n",
    "        self.alertButton = Button(self,text='Hello',command=self.hello)\n",
    "        self.alertButton.pack()\n",
    "    \n",
    "    \n",
    "    def hello(self):\n",
    "        name = self.nameInput.get()\n",
    "        messagebox.showinfo('Message','Hello,{}'.format(name))\n",
    "\n",
    "app = Application()\n",
    "app.master.title('Hello World')\n",
    "app.mainloop()"
   ]
  },
  {
   "cell_type": "markdown",
   "metadata": {},
   "source": [
    "### [pyqt5入门教程](https://www.jianshu.com/p/ef71566ff8bb)\n",
    "\n",
    "#### python GUI框架简介，pyqt介绍，为什么使用pyqt\n",
    "\n",
    "**python开发GUI程序，了解一个框架需要了解：**\n",
    "\n",
    "- （1）运行效果\n",
    "- （2）能够运行在哪些平台\n",
    "- （3）学习成本，因为每一个GUI框架都有自己的特点\n",
    "- （4）开发效率的比较，python的运行效率比c c++低，但是开发效率是比较快的\n",
    "\n",
    "**python GUI框架:**\n",
    "- （1）Tkinter: python内置的GUI框架，使用TCL实现，python中内嵌了TCL解释器，使用它的时候不用安装额外的扩展包，直接import，跨平台。不足之处在于UI布局全靠代码实现，只有15种常用部件，显示效果简陋。\n",
    "- （2）Wxpython：用得比较广泛，跨平台，C++编写，需要安装扩展模块；文档少，遇到问题不好解决，代码布局控件，不直观。\n",
    "- （3）Pygtk： python对GTK+GUI库的封装，在linux平台上运行的比较好，需要安装扩展模块，在windows下的兼容性有一些问题。\n",
    "- （4）pyqt：QT原本是诺基亚的产品，源码用C++写的，python对QT的包装，跨平台，本地显示效果，根据系统决定，在win7下就是win7的显示效果；pyqt与qt的函数接口一致，qt开发问的那个丰富，所以pyqt开发文档也比较丰富；控件丰富，函数/方法多，拖曳布局；方便打包成二进制文件；GPL协议，商业程序需要购买商业版授权\n",
    "- （5）pyside：诺基亚的亲儿子，python对QT的封装，安装扩展模块，跨平台，与pyqt的API一样，LGPL协议，新软件可以是私有的，代码布局\n",
    "- （6）Kivy： 针对多点触控程序，智能手机平板等，也可以在没有触屏功能的系统上，全平台支持；使用python和cython（python和c语言的接口）编写；中文支持差，需要自己下载中文库并且制定路径。\n",
    "\n",
    "**为什么使用pyqt：**\n",
    "\n",
    "- 因为API与qt一致，学会了pyqt再使用qt很简单\n",
    "- 文档丰富\n",
    "- 学习成本低\n",
    "- 开发迅速，qt designer拖曳布局，如果使用代码布局还需要构建全局并且调试\n",
    "- 学习经验容易迁移到pyside来开发商业应用\n",
    "- 方便打包发布软件，python本身解释语言的特点是写好的程序不编译和链接，使用文本运行解释器，边解释边执行，用户不可能装一个解释器再发源码再执行，所以打包成exe再发布\n",
    "\n",
    "#### 使用python开发pyqt程序的环境搭建\n",
    "[环境搭建](https://www.jianshu.com/p/094928ac0b73)\n",
    "\n",
    "- sip `pip3 install SIP`\n",
    "- PyQt5 `pip3 install PyQt5`\n",
    "-  QtDesigner，QtDesigner是QT的一个模块 `pip3 install PyQt5-tools -i https://pypi.douban.com/simple --trusted-host=pypi.douban.com` [安装教程](https://www.2cto.com/kf/201802/720803.html)\n",
    "\n",
    "[Pycharm 配置](https://www.jianshu.com/p/5b063c5745d0)\n",
    "\n"
   ]
  },
  {
   "cell_type": "code",
   "execution_count": null,
   "metadata": {},
   "outputs": [],
   "source": []
  }
 ],
 "metadata": {
  "kernelspec": {
   "display_name": "Python 3",
   "language": "python",
   "name": "python3"
  },
  "language_info": {
   "codemirror_mode": {
    "name": "ipython",
    "version": 3
   },
   "file_extension": ".py",
   "mimetype": "text/x-python",
   "name": "python",
   "nbconvert_exporter": "python",
   "pygments_lexer": "ipython3",
   "version": "3.6.5"
  }
 },
 "nbformat": 4,
 "nbformat_minor": 2
}
