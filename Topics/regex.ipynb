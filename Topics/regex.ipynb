{
 "cells": [
  {
   "cell_type": "markdown",
   "metadata": {},
   "source": [
    "# 字符\n",
    "\n",
    ".       字符在正则表达式代表着可以代表任何一个字符（包括它本身）\n",
    "\n",
    "\\d\t    可以匹配一个数字 等同于[0-9]\n",
    "\n",
    "\\D\t    等同于[^0-9]匹配非数字\n",
    "\n",
    "\\w\t    等同于[a-z0-9A-Z_]匹配大小写字母、数字和下划线\n",
    "\n",
    "\\W\t    等同于[^a-z0-9A-Z_]等同于上一条取非\n",
    "\n",
    "\\s      可以匹配一个空格（也包括Tab等空白符）\n",
    "\n",
    "A|B     可以匹配A或B，所以(P|p)ython可以匹配'Python'或者'python'\n",
    "\n",
    "^       表示行的开头，^\\d表示必须以数字开头\n",
    "\n",
    "$       表示行的结束，\\d$表示必须以数字结束\n"
   ]
  },
  {
   "cell_type": "markdown",
   "metadata": {},
   "source": [
    "# 量词 \n",
    "\n",
    "跟着一个字符或一个表达式后面，表示前面重复的次数\n",
    "\n",
    "\\+       匹配前面的字符0次或1次（>=1）\n",
    "\n",
    "\\*       匹配前面的字符0次或多次（>=0）\n",
    "\n",
    "?       匹配前面的字符1次或者多次 (0 or 1)\n",
    "\n",
    "{m}\t    匹配前面表达式m次 （=m）\n",
    "\n",
    "{m,}\t匹配前面表达式至少m次 (>=m)\n",
    "\n",
    "{,n}\t匹配前面的正则表达式最多n次 (<=m)\n",
    "\n",
    "{m,n}\t匹配前面的正则表达式m到n次  (>m,<n)\n",
    "\n",
    "\n",
    "注意点：\n",
    "以上量词都是贪婪模式，会尽可能多的匹配，如果要改为非贪婪模式，通过在量词后面跟随一个?来实现\n",
    "\n",
    "下面例子\n",
    "\n",
    "理想的结果是@hit.结果是@hit.edu.\n",
    "\n",
    "这是因为正则表达式默认是“贪婪”的，贪婪匹配，也就是匹配尽可能多的字符。\n",
    "\n",
    "“+”代表是字符重复一次或多次。但是这个多次到底是多少次。所以它会尽可能“贪婪”地多给我们匹配字符，在这个例子里也就是匹配到最后一个“.”。我们怎么解决这种问题呢？只要在“+”后面加一个“？”就好了。\n",
    "\n",
    "当需要用到 ‘+’ 或 '*' 这种一定先想好到底是用贪婪型还是懒惰型"
   ]
  },
  {
   "cell_type": "code",
   "execution_count": 6,
   "metadata": {},
   "outputs": [
    {
     "name": "stdout",
     "output_type": "stream",
     "text": [
      "['@hit.edu.']\n"
     ]
    }
   ],
   "source": [
    "import re\n",
    "\n",
    "key = r\"chuxiuhong@hit.edu.cn\"\n",
    "p1 = r\"@.+\\.\"#我想匹配到@后面一直到“.”之间的，在这里是hit\n",
    "#p1 = r'@[a-z]{3}\\.'\n",
    "pattern1 = re.compile(p1)\n",
    "print (pattern1.findall(key))"
   ]
  },
  {
   "cell_type": "markdown",
   "metadata": {},
   "source": [
    "# 范围\n",
    "[] 代表匹配里面的字符中的任意一个\n",
    "\n",
    "[^] 代表除了内部包含的字符以外都能匹配，[^abc] 匹配除了a,b,c之外的字符\n",
    "\n",
    "[0-9]\t0123456789任意之一\n",
    "\n",
    "[a-z]\t小写字母任意之一\n",
    "\n",
    "[A-Z]\t大写字母任意之一\n",
    "\n",
    "[0-9a-zA-Z\\_] 可以匹配一个数字、字母或者下划线；\n",
    "\n",
    "[0-9a-zA-Z\\_]+ 可以匹配至少由一个数字、字母或者下划线组成的字符串，比如'a100'，'0_Z'，'Py3000'等等；\n",
    "\n",
    "[a-zA-Z\\_][0-9a-zA-Z\\_]* 可以匹配由字母或下划线开头，后接任意个由一个数字、字母或者下划线组成的字符串，也就是Python合法的变量；\n",
    "\n",
    "[a-zA-Z\\_][0-9a-zA-Z\\_]{0, 19} 更精确地限制了变量的长度是1-20个字符（前面1个字符+后面最多19个字符）。"
   ]
  },
  {
   "cell_type": "markdown",
   "metadata": {},
   "source": [
    "# 转义符\n",
    "\n",
    "特殊字符：\\.^$?+*{}[]()|\n",
    "以上特殊字符要想使用字面值，必须使用\\进行转义"
   ]
  },
  {
   "cell_type": "markdown",
   "metadata": {},
   "source": [
    "# 向前向后查找\n",
    "\n",
    "\n",
    "?<=后面跟着的是前缀要求，?=后面跟的是后缀要求。\n",
    "\n",
    "exp1(?=exp2)    表示exp1后面的内容要匹配exp2（前瞻）\n",
    "\n",
    "exp1(?!exp2)    表示exp1后面的内容不能匹配exp2 （负前瞻）\n",
    "\n",
    "(?<=exp2)exp1   表示exp1前面的内容要匹配exp2 （后顾）\n",
    "\n",
    "(?<!exp2)exp1   表示exp1前面的内容不能匹配exp2 （负后顾）\n",
    "\n",
    "\n",
    "例如：我们要查找hello，但是hello后面必须是world，正则表达式可以这样写：\"(hello)\\s+(?=world)\",用来匹配\"hello wangxing\"和\"hello world\"只能匹配到后者的hello\n",
    "\n",
    "(?<=exp1)exp(?=exp2) 表示exp前面的内容要匹配exp1,后面的内容要匹配exp2,即exp1expexp2\n",
    "\n",
    "\n",
    "匹配到两个括号中间的"
   ]
  },
  {
   "cell_type": "code",
   "execution_count": 4,
   "metadata": {},
   "outputs": [
    {
     "name": "stdout",
     "output_type": "stream",
     "text": [
      "hello world\n"
     ]
    }
   ],
   "source": [
    "import re\n",
    "\n",
    "key = r\"<html><body><h1>hello world</h1></body></html>\"#这段是你要匹配的文本\n",
    "p1 = r\"(?<=<h1>).+?(?=</h1>)\"#这是我们写的正则表达式规则\n",
    "pattern1 = re.compile(p1)#我们在编译这段正则表达式\n",
    "matcher1 = re.search(pattern1,key)#在源文本中搜索符合正则表达式的部分\n",
    "print(matcher1.group(0))#打印出来"
   ]
  },
  {
   "cell_type": "markdown",
   "metadata": {
    "collapsed": true
   },
   "source": [
    "# 回溯引用\n",
    "\n",
    "原本要匹配&lt;h1&gt;\\&lt;/h1&gt;之间的内容，现在你知道HTML有多级标题，你想把每一级的标题内容都提取出来。你也许会这样写：\n",
    "\n",
    "p = r\"&lt;h[1-6]&gt;.*?&lt;/h[1-6]&gt;\" \n",
    "\n",
    "这样一来，你就可以将HTML页面内所有的标题内容全部匹配出来。即&lt;h1&gt;\\&lt;/h1&gt;到&lt;h6&gt;\\&lt;/h6&gt;的内容都可以被提取出来。但是我们之前说过，写正则表达式困难的不是匹配到想要的内容，而是尽可能的不匹配到不想要的内容。在这个例子中，很有可能你就会被下面这样的用例玩坏。\n",
    "\n",
    "比方说\n",
    "\n",
    "&lt;h1&gt;hello world&lt;/h3&gt;"
   ]
  },
  {
   "cell_type": "code",
   "execution_count": 9,
   "metadata": {},
   "outputs": [
    {
     "name": "stdout",
     "output_type": "stream",
     "text": [
      "<h1>hello world</h1>\n"
     ]
    }
   ],
   "source": [
    "import re\n",
    "\n",
    "key = r\"<h1>hello world</h3>\"\n",
    "p1 = r\"<h([1-6])>.*?</h\\1>\"\n",
    "pattern1 = re.compile(p1)\n",
    "m1 = re.search(pattern1,key)\n",
    "print(m1.group(0))#这里是会报错的，因为匹配不到，你如果将源字符串改成</h1>\n",
    "#结尾就能看出效果"
   ]
  },
  {
   "cell_type": "markdown",
   "metadata": {},
   "source": [
    "看到\\1了吗？原本那个位置应该是[1-6]，但是我们写的是\\1，我们之前说过，转义符\\干的活就是把特殊的字符转成一般的字符，把一般的字符转成特殊字符。普普通通的数字1被转移成什么了呢？在这里1表示第一个子表达式，也就是说，它是动态的，是随着前面第一个子表达式的匹配到的东西而变化的。比方说前面的子表达式内是[1-6]，在实际字符串中找到了1，那么后面的\\1就是1，如果前面的子表达式在实际字符串中找到了2，那么后面的\\1就是2。\n",
    "\n",
    "类似的，\\2,\\3,....就代表第二个第三个子表达式。\n",
    "\n",
    "所以回溯引用是正则表达式内的一个“动态”的正则表达式，让你根据实际的情况变化进行匹配。"
   ]
  },
  {
   "cell_type": "markdown",
   "metadata": {},
   "source": [
    "# re.match函数\n",
    "\n",
    "re.match 尝试从字符串的起始位置匹配一个模式，如果不是起始位置匹配成功的话，match()就返回none。\n",
    "\n",
    "<span class=\"mark\">re.match(pattern, string, flags=0)</span>\n",
    "\n",
    "pattern 匹配的正则表达式\n",
    "\n",
    "string  要匹配的字符串\n",
    "\n",
    "flags   标志位，用于控制正则表达式的匹配方式，如：是否区分大小写，多行匹配等等\n",
    "\n",
    "\n",
    "可以使用group(num) 或 groups() 匹配对象函数来获取匹配表达式。\n",
    "\n",
    "group(num=0)  匹配的整个表达式的字符串，group() 可以一次输入多个组号，在这种情况下它将返回一个包含那些组所对应值的元组。\n",
    "\n",
    "groups()  返回一个包含所有小组字符串的元组，从 1 到 所含的小组号。"
   ]
  },
  {
   "cell_type": "code",
   "execution_count": 19,
   "metadata": {},
   "outputs": [
    {
     "name": "stdout",
     "output_type": "stream",
     "text": [
      "<_sre.SRE_Match object; span=(0, 3), match='www'>\n",
      "None\n",
      "www1.google2.\n",
      "www1\n",
      "google2\n",
      "www1.google2\n",
      "www1\n",
      "google2\n"
     ]
    }
   ],
   "source": [
    "import re \n",
    "\n",
    "print(re.match('www', 'www.google.com'))  # 在起始位置匹配，成功\n",
    "print(re.match('com', 'www.google.com'))  # 不在起始位置匹配，失败\n",
    "\n",
    "#group 分组，从左到右\n",
    "print(re.match('(.*\\d)\\.(.*\\d)\\.', 'www1.google2.com3').group()) \n",
    "print(re.match('(.*\\d)\\.(.*\\d)\\.', 'www1.google2.com3').group(1)) \n",
    "print(re.match('(.*\\d)\\.(.*\\d)\\.', 'www1.google2.com3').group(2)) \n",
    "\n",
    "#group 嵌套，从外到内，再从左到右\n",
    "print(re.match('((.*\\d)\\.(.*\\d))\\.', 'www1.google2.com3').group(1))  # group（1）是最外层\n",
    "print(re.match('((.*\\d)\\.(.*\\d))\\.', 'www1.google2.com3').group(2))  # group（2）内层从左向右\n",
    "print(re.match('((.*\\d)\\.(.*\\d))\\.', 'www1.google2.com3').group(3)) # group（3）内层从左向右"
   ]
  },
  {
   "cell_type": "markdown",
   "metadata": {},
   "source": [
    "# re.search方法\n",
    "\n",
    "re.search 扫描整个字符串并返回第一个成功的匹配。\n",
    "\n",
    "<span class=\"mark\">re.search(pattern, string, flags=0)</span>\n",
    "\n",
    "pattern 匹配的正则表达式\n",
    "\n",
    "string 要匹配的字符串\n",
    "\n",
    "flags 标志位，用于控制正则表达式的匹配方式，如：是否区分大小写，多行匹配等等\n",
    "\n",
    "可以使用group(num) 或 groups() 匹配对象函数来获取匹配表达式。"
   ]
  },
  {
   "cell_type": "code",
   "execution_count": 20,
   "metadata": {},
   "outputs": [
    {
     "name": "stdout",
     "output_type": "stream",
     "text": [
      "<_sre.SRE_Match object; span=(0, 3), match='www'>\n",
      "<_sre.SRE_Match object; span=(11, 14), match='com'>\n"
     ]
    }
   ],
   "source": [
    "import re \n",
    "\n",
    "print(re.search('www', 'www.google.com'))  # 在起始位置匹配，成功\n",
    "print(re.search('com', 'www.google.com'))  # 不在起始位置匹配,成功"
   ]
  },
  {
   "cell_type": "markdown",
   "metadata": {},
   "source": [
    "# re.match与re.search的区别\n",
    "\n",
    "re.match只匹配字符串的开始，如果字符串开始不符合正则表达式，则匹配失败，函数返回None；而re.search匹配整个字符串，直到找到一个匹配。"
   ]
  },
  {
   "cell_type": "code",
   "execution_count": null,
   "metadata": {},
   "outputs": [],
   "source": []
  }
 ],
 "metadata": {
  "kernelspec": {
   "display_name": "Python 3",
   "language": "python",
   "name": "python3"
  },
  "language_info": {
   "codemirror_mode": {
    "name": "ipython",
    "version": 3
   },
   "file_extension": ".py",
   "mimetype": "text/x-python",
   "name": "python",
   "nbconvert_exporter": "python",
   "pygments_lexer": "ipython3",
   "version": "3.6.2"
  },
  "toc": {
   "nav_menu": {},
   "number_sections": true,
   "sideBar": true,
   "skip_h1_title": false,
   "title_cell": "Table of Contents",
   "title_sidebar": "Contents",
   "toc_cell": false,
   "toc_position": {},
   "toc_section_display": true,
   "toc_window_display": false
  },
  "varInspector": {
   "cols": {
    "lenName": 16,
    "lenType": 16,
    "lenVar": 40
   },
   "kernels_config": {
    "python": {
     "delete_cmd_postfix": "",
     "delete_cmd_prefix": "del ",
     "library": "var_list.py",
     "varRefreshCmd": "print(var_dic_list())"
    },
    "r": {
     "delete_cmd_postfix": ") ",
     "delete_cmd_prefix": "rm(",
     "library": "var_list.r",
     "varRefreshCmd": "cat(var_dic_list()) "
    }
   },
   "types_to_exclude": [
    "module",
    "function",
    "builtin_function_or_method",
    "instance",
    "_Feature"
   ],
   "window_display": false
  }
 },
 "nbformat": 4,
 "nbformat_minor": 2
}
