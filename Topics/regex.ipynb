{
 "cells": [
  {
   "cell_type": "markdown",
   "metadata": {},
   "source": [
    "---\n",
    "\n",
    "title: Regex in Python\n",
    "date:  2018.4.27\n",
    "categories:  Topics\n",
    "tags:  Regex\n",
    "keywords:  Regex\n",
    "\n",
    "---"
   ]
  },
  {
   "cell_type": "markdown",
   "metadata": {},
   "source": [
    "> 在编写处理字符串的程序或网页时，经常会有查找符合某些复杂规则的字符串的需要。正则表达式就是用于描述这些规则的工具。换句话说，正则表达式就是记录文本规则的代码。"
   ]
  },
  {
   "cell_type": "markdown",
   "metadata": {},
   "source": [
    "## 字符\n",
    "\n",
    ".       字符在正则表达式代表着可以代表任何一个字符（包括它本身）\n",
    "\n",
    "\\d\t    可以匹配一个数字 等同于[0-9]\n",
    "\n",
    "\\D\t    等同于[^0-9]匹配非数字\n",
    "\n",
    "\\w\t    等同于[a-z0-9A-Z_]匹配大小写字母、数字和下划线\n",
    "\n",
    "\\W\t    等同于[^a-z0-9A-Z_]等同于上一条取非\n",
    "\n",
    "A|B     可以匹配A或B，所以(P|p)ython可以匹配'Python'或者'python'\n",
    "\n",
    "^       表示行的开头，^\\d表示必须以数字开头\n",
    "\n",
    "\\$       表示行的结束，\\d$表示必须以数字结束\n",
    "\n",
    "\\s      可以匹配空白字符,等价于 [\\t\\n\\r\\f]。（也包括Tab等空白符）\n",
    "\n",
    "\\S      匹配任意非空字符  "
   ]
  },
  {
   "cell_type": "markdown",
   "metadata": {},
   "source": [
    "## 量词 \n",
    "\n",
    "跟着一个字符或一个表达式后面，表示前面重复的次数\n",
    "\n",
    "\\+       匹配前面的字符1次或多次（>=1）\n",
    "\n",
    "\\*       匹配前面的字符0次或多次（>=0）\n",
    "\n",
    "?       匹配前面的字符0次或者1次 (0 or 1)\n",
    "\n",
    "{m}\t    匹配前面表达式m次 （=m）\n",
    "\n",
    "{m,}\t匹配前面表达式至少m次 (>=m)\n",
    "\n",
    "{,n}\t匹配前面的正则表达式最多n次 (<=m)\n",
    "\n",
    "{m,n}\t匹配前面的正则表达式m到n次  (>m,<n)\n",
    "\n",
    "\n",
    "注意点：\n",
    "以上量词都是贪婪模式，会尽可能多的匹配，如果要改为非贪婪模式，通过在量词后面跟随一个?来实现\n",
    "\n"
   ]
  },
  {
   "cell_type": "markdown",
   "metadata": {},
   "source": [
    "## 范围\n",
    "[] 代表匹配里面的字符中的任意一个\n",
    "\n",
    "[^] 代表除了内部包含的字符以外都能匹配，[^abc] 匹配除了a,b,c之外的字符\n",
    "\n",
    "[0-9]\t0123456789任意之一\n",
    "\n",
    "[a-z]\t小写字母任意之一\n",
    "\n",
    "[A-Z]\t大写字母任意之一\n",
    "\n",
    "[0-9a-zA-Z\\_] 可以匹配一个数字、字母或者下划线；\n",
    "\n",
    "[0-9a-zA-Z\\_]+ 可以匹配至少由一个数字、字母或者下划线组成的字符串，比如'a100'，'0_Z'，'Py3000'等等；\n",
    "\n",
    "[a-zA-Z\\_][0-9a-zA-Z\\_]* 可以匹配由字母或下划线开头，后接任意个由一个数字、字母或者下划线组成的字符串，也就是Python合法的变量；\n",
    "\n",
    "[a-zA-Z\\_][0-9a-zA-Z\\_]{0, 19} 更精确地限制了变量的长度是1-20个字符（前面1个字符+后面最多19个字符）。"
   ]
  },
  {
   "cell_type": "markdown",
   "metadata": {},
   "source": [
    "(?:...) 不作为分组"
   ]
  },
  {
   "cell_type": "markdown",
   "metadata": {},
   "source": [
    "## 转义符\n",
    "\n",
    "特殊字符：\\.^$?+*\\{\\}\\[\\]()|\n",
    "以上特殊字符要想使用字面值，必须使用\\进行转义"
   ]
  },
  {
   "cell_type": "markdown",
   "metadata": {},
   "source": [
    "## 贪婪匹配\n",
    "\n",
    "因为正则表达式默认是“贪婪”的，贪婪匹配，也就是匹配尽可能多的字符。\n",
    "\n",
    "“+”代表是字符重复一次或多次。但是这个多次到底是多少次。所以它会尽可能“贪婪”地多给我们匹配字符，在这个例子里也就是匹配到最后一个“.”。我们怎么解决这种问题呢？只要在“+”后面加一个“？”就好了。\n",
    "\n",
    "例子：理想的结果是@hit.结果是@hit.edu.\n",
    "\n",
    "当需要用到 ‘+’ 或 '*' 这种一定先想好到底是用贪婪型还是懒惰型"
   ]
  },
  {
   "cell_type": "code",
   "execution_count": 6,
   "metadata": {},
   "outputs": [
    {
     "name": "stdout",
     "output_type": "stream",
     "text": [
      "['@hit.edu.']\n",
      "['@hit.']\n"
     ]
    }
   ],
   "source": [
    "import re\n",
    "\n",
    "key = r\"chuxiuhong@hit.edu.cn\"\n",
    "p1 = r\"@.+\\.\"#我想匹配到@后面一直到“.”之间的，在这里是hit\n",
    "#p1 = r'@[a-z]{3}\\.'\n",
    "pattern1 = re.compile(p1)\n",
    "print (pattern1.findall(key))\n",
    "print (re.findall(r'@.+?\\.',key))"
   ]
  },
  {
   "cell_type": "markdown",
   "metadata": {},
   "source": [
    "## 向前向后查找\n",
    "\n",
    "\n",
    "?<=后面跟着的是前缀要求，?=后面跟的是后缀要求。\n",
    "\n",
    "exp1(?=exp2)    表示exp1后面的内容要匹配exp2,返回exp1（前瞻）\n",
    "\n",
    "exp1(?!exp2)    表示exp1后面的内容不能匹配exp2,返回exp1 （负前瞻）\n",
    "\n",
    "(?<=exp2)exp1   表示exp1前面的内容要匹配exp2,返回exp1  （后顾）\n",
    "\n",
    "(?<!exp2)exp1   表示exp1前面的内容不能匹配exp2,返回exp1  （负后顾）"
   ]
  },
  {
   "cell_type": "code",
   "execution_count": 3,
   "metadata": {},
   "outputs": [
    {
     "name": "stdout",
     "output_type": "stream",
     "text": [
      "--------------  exp1(?=exp2) ---------------\n",
      "['c', 'f', 'z']\n",
      "['e', '2', '0', '1', '8', '0', '7', '1', '0', '1', '7', '4']\n",
      "['abc', 'edf', 'xyz']\n",
      "--------------  exp1(?!exp2) ---------------\n",
      "['j', 'a', 'm', 'i', 'j', 'a', 'm', 'i', 'e']\n",
      "['jami', 'jamie']\n",
      "--------------  (?<=exp2)exp1 ---------------\n",
      "['abc', 'def', 'xyz']\n",
      "--------------  (?<!exp2)exp1 ---------------\n",
      "['abc', 'def', 'xyz', 'Jamie', 'amie']\n"
     ]
    }
   ],
   "source": [
    "import re\n",
    "\n",
    "print('--------------  exp1(?=exp2) ---------------')\n",
    "pattern = r'\\w(?=\\d)' # 匹配数字的前一位，\\w：单词字符[A-Za-z0-9]\n",
    "print(re.findall(pattern,'abc1 edf1 xyz1')) \n",
    "print(re.findall(pattern,'jamie201807101740jamie')) \n",
    "print(re.findall(r'\\w+(?=\\d)','abc1 edf1 xyz1'))  # 匹配数字的前多位，\\w：单词字符[A-Za-z0-9]\n",
    "\n",
    "\n",
    "print('--------------  exp1(?!exp2) ---------------')\n",
    "p = r'[A-Za-z](?!\\d)'\n",
    "print(re.findall(p,'jamie201807101740jamie'))  #匹配后面不是数字的一位字符，\n",
    "print(re.findall(r'[A-Za-z]+(?!\\d)','jamie201807101740jamie')) #匹配后面不是数字的字符串\n",
    "\n",
    "\n",
    "print('--------------  (?<=exp2)exp1 ---------------')\n",
    "pat = r'(?<=\\d)[A-Za-z]+' # 匹配前面是数字的字母 返回exp1\n",
    "print(re.findall(pat,'3abc21,5def31,7xyz41'))\n",
    "\n",
    "\n",
    "print('--------------  (?<!exp2)exp1 ---------------')\n",
    "pa = r'(?<!\\d)[A-Za-z]+' # 匹配前面不是数字的字母 返回exp1\n",
    "print(re.findall(pa,'abc21,def31,xyz41,Jamie124324Jamie'))"
   ]
  },
  {
   "cell_type": "markdown",
   "metadata": {},
   "source": [
    "### 组合使用\n",
    "\n",
    "例如：我们要查找hello，但是hello后面必须是world，正则表达式可以这样写：\"(hello)\\s+(?=world)\",用来匹配\"hello wangxing\"和\"hello world\"只能匹配到后者的hello\n",
    "\n",
    "(?<=exp1)exp(?=exp2) 表示exp前面的内容要匹配exp1,后面的内容要匹配exp2,即exp1expexp2\n",
    "\n",
    "\n",
    "匹配到两个括号中间的"
   ]
  },
  {
   "cell_type": "code",
   "execution_count": 9,
   "metadata": {},
   "outputs": [
    {
     "name": "stdout",
     "output_type": "stream",
     "text": [
      "hello world\n",
      "hello world\n"
     ]
    }
   ],
   "source": [
    "import re\n",
    "\n",
    "key = r\"<html><body><h1>hello world</h1></body></html>\"#这段是你要匹配的文本\n",
    "p1 = r\"(?<=<h1>).+?(?=</h1>)\"#这是我们写的正则表达式规则\n",
    "matcher1 = re.search(p1,key)#在源文本中搜索符合正则表达式的部分\n",
    "print(matcher1.group(0))#打印出来\n",
    "\n",
    "print(re.search(p1,key).group(0))"
   ]
  },
  {
   "cell_type": "markdown",
   "metadata": {
    "collapsed": true
   },
   "source": [
    "## 回溯引用\n",
    "\n",
    "原本要匹配&lt;h1&gt;\\&lt;/h1&gt;之间的内容，现在你知道HTML有多级标题，你想把每一级的标题内容都提取出来。你也许会这样写：\n",
    "\n",
    "p = r\"&lt;h[1-6]&gt;.*?&lt;/h[1-6]&gt;\" \n",
    "\n",
    "这样一来，你就可以将HTML页面内所有的标题内容全部匹配出来。即&lt;h1&gt;\\&lt;/h1&gt;到&lt;h6&gt;\\&lt;/h6&gt;的内容都可以被提取出来。但是我们之前说过，写正则表达式困难的不是匹配到想要的内容，而是尽可能的不匹配到不想要的内容。在这个例子中，很有可能你就会被下面这样的用例玩坏。\n",
    "\n",
    "比方说\n",
    "\n",
    "&lt;h1&gt;hello world&lt;/h3&gt;"
   ]
  },
  {
   "cell_type": "code",
   "execution_count": 12,
   "metadata": {},
   "outputs": [
    {
     "name": "stdout",
     "output_type": "stream",
     "text": [
      "<h1>hello world</h1>\n"
     ]
    }
   ],
   "source": [
    "import re\n",
    "\n",
    "key = r\"<h1>hello world</h1>\"\n",
    "p1 = r\"<h([1-6])>.*?</h\\1>\"\n",
    "m1 = re.search(p1,key)\n",
    "print(m1.group(0))#这里是会报错的，因为匹配不到，你如果将源字符串改成</h1>\n",
    "#结尾就能看出效果"
   ]
  },
  {
   "cell_type": "markdown",
   "metadata": {},
   "source": [
    "看到\\1了吗？原本那个位置应该是[1-6]，但是我们写的是\\1，我们之前说过，转义符\\干的活就是把特殊的字符转成一般的字符，把一般的字符转成特殊字符。普普通通的数字1被转移成什么了呢？在这里1表示第一个子表达式，也就是说，它是动态的，是随着前面第一个子表达式的匹配到的东西而变化的。比方说前面的子表达式内是[1-6]，在实际字符串中找到了1，那么后面的\\1就是1，如果前面的子表达式在实际字符串中找到了2，那么后面的\\1就是2。\n",
    "\n",
    "类似的，\\2,\\3,....就代表第二个第三个子表达式。\n",
    "\n",
    "所以回溯引用是正则表达式内的一个“动态”的正则表达式，让你根据实际的情况变化进行匹配。\n",
    "\n",
    "如果我们要找从字符串中找出联系重复的数字，如11,22"
   ]
  },
  {
   "cell_type": "code",
   "execution_count": 14,
   "metadata": {},
   "outputs": [
    {
     "name": "stdout",
     "output_type": "stream",
     "text": [
      "11\n"
     ]
    }
   ],
   "source": [
    "import re\n",
    "# 找出第一次出现的重复数字\n",
    "test = '..1234567891011213141516171820212223'\n",
    "reg = r'([0-9a-zA-Z])\\1+' #回溯引用,表示与前面相同的字符\n",
    "m =re.search(reg,test)\n",
    "print(m.group())"
   ]
  },
  {
   "cell_type": "markdown",
   "metadata": {},
   "source": [
    "(\\d)\\1的意思是，第一个是数字，第二个数字跟第一个数字相同。正则表达式中，用了一个专门的术语来描述\\1这种概念，即回溯引用。\n",
    "\n",
    "四个相同数字  (\\d)\\1\\1\\1  或   (\\d)\\1{3}\n",
    "\n",
    "多个相同的数字\n",
    "(\\d)\\1+"
   ]
  },
  {
   "cell_type": "markdown",
   "metadata": {},
   "source": [
    "## re.match()\n",
    "\n",
    "re.match 尝试从字符串的起始位置匹配一个模式，如果不是起始位置匹配成功的话，match()就返回none。\n",
    "\n",
    "<span class=\"mark\">re.match(pattern, string, flags=0)</span>\n",
    "\n",
    "pattern 匹配的正则表达式\n",
    "\n",
    "string  要匹配的字符串\n",
    "\n",
    "flags   标志位，用于控制正则表达式的匹配方式，如：是否区分大小写，多行匹配等等\n",
    "\n",
    "\n",
    "可以使用group(num) 或 groups() 匹配对象函数来获取匹配表达式。\n",
    "\n",
    "group(num=0)  匹配的整个表达式的字符串\n",
    "\n",
    "group() 可以一次输入多个组号，在这种情况下它将返回一个包含那些组所对应值的元组。\n",
    "\n",
    "groups()  返回一个包含所有小组字符串的元组，从 1 到 所含的小组号。\n",
    "\n",
    "命名分组 (?P<name>...)"
   ]
  },
  {
   "cell_type": "code",
   "execution_count": 10,
   "metadata": {},
   "outputs": [
    {
     "name": "stdout",
     "output_type": "stream",
     "text": [
      "<_sre.SRE_Match object; span=(0, 3), match='www'>\n",
      "None\n",
      "www1.google2.\n",
      "www1.google2.\n",
      "www1\n",
      "google2\n",
      "('www1', 'google2')\n",
      "('www1', 'google2')\n",
      "www1.google2\n",
      "www1\n",
      "google2\n",
      "www1\n",
      "google2\n",
      "{'name': 'www1', 'website': 'google2'}\n"
     ]
    }
   ],
   "source": [
    "import re \n",
    "\n",
    "print(re.match('www', 'www.google.com'))  # 在起始位置匹配，成功\n",
    "print(re.match('com', 'www.google.com'))  # 不在起始位置匹配，失败\n",
    "\n",
    "# group 分组，从左到右\n",
    "print(re.match('(.*\\d)\\.(.*\\d)\\.', 'www1.google2.com3').group()) # 所有匹配项\n",
    "print(re.match('(.*\\d)\\.(.*\\d)\\.', 'www1.google2.com3').group(0)) # 所以匹配项\n",
    "print(re.match('(.*\\d)\\.(.*\\d)\\.', 'www1.google2.com3').group(1)) # 第一个匹配项\n",
    "print(re.match('(.*\\d)\\.(.*\\d)\\.', 'www1.google2.com3').group(2)) # 第二个匹配项\n",
    "print(re.match('(.*\\d)\\.(.*\\d)\\.', 'www1.google2.com3').group(1,2)) \n",
    "print(re.match('(.*\\d)\\.(.*\\d)\\.', 'www1.google2.com3').groups()) \n",
    "\n",
    "\n",
    "# group 嵌套，从外到内，再从左到右\n",
    "print(re.match('((.*\\d)\\.(.*\\d))\\.', 'www1.google2.com3').group(1))  # group（1）是最外层\n",
    "print(re.match('((.*\\d)\\.(.*\\d))\\.', 'www1.google2.com3').group(2))  # group（2）内层从左向右\n",
    "print(re.match('((.*\\d)\\.(.*\\d))\\.', 'www1.google2.com3').group(3)) # group（3）内层从左向右\n",
    "\n",
    "\n",
    "# 命名分组\n",
    "m = re.match('((?P<name>.*\\d)\\.(?P<website>.*\\d))\\.', 'www1.google2.com3')\n",
    "print(m.group('name'))\n",
    "print(m.group('website'))\n",
    "\n",
    "\n",
    "# groupdict()\n",
    "print(m.groupdict())"
   ]
  },
  {
   "cell_type": "markdown",
   "metadata": {},
   "source": [
    "## re.search()\n",
    "\n",
    "re.search 扫描整个字符串并返回第一个成功的匹配。\n",
    "\n",
    "<span class=\"mark\">re.search(pattern, string, flags=0)</span>\n",
    "\n",
    "pattern 匹配的正则表达式\n",
    "\n",
    "string 要匹配的字符串\n",
    "\n",
    "flags 标志位，用于控制正则表达式的匹配方式，如：是否区分大小写，多行匹配等等\n",
    "\n",
    "可以使用group(num) 或 groups() 匹配对象函数来获取匹配表达式。"
   ]
  },
  {
   "cell_type": "code",
   "execution_count": 20,
   "metadata": {},
   "outputs": [
    {
     "name": "stdout",
     "output_type": "stream",
     "text": [
      "<_sre.SRE_Match object; span=(0, 3), match='www'>\n",
      "<_sre.SRE_Match object; span=(11, 14), match='com'>\n"
     ]
    }
   ],
   "source": [
    "import re \n",
    "\n",
    "print(re.search('www', 'www.google.com'))  # 在起始位置匹配，成功\n",
    "print(re.search('com', 'www.google.com'))  # 不在起始位置匹配,成功"
   ]
  },
  {
   "cell_type": "markdown",
   "metadata": {},
   "source": [
    "match和search一旦匹配成功，就是一个match object对象，而match object对象有以下方法：\n",
    "\n",
    "start() 返回匹配开始的位置,子串第一个字符的索引\n",
    "\n",
    "end() 返回匹配结束的位置，子串最后一个字符的索引+1\n",
    "\n",
    "span() 返回一个元组包含匹配 (开始,结束) 的位置"
   ]
  },
  {
   "cell_type": "code",
   "execution_count": 2,
   "metadata": {},
   "outputs": [
    {
     "name": "stdout",
     "output_type": "stream",
     "text": [
      "3\n",
      "7\n",
      "(3, 7)\n"
     ]
    }
   ],
   "source": [
    "import re\n",
    "\n",
    "m = re.search(r'\\d+','adf1234adsf')\n",
    "print(m.start())\n",
    "print(m.end())\n",
    "print(m.span())"
   ]
  },
  {
   "cell_type": "markdown",
   "metadata": {},
   "source": [
    "## re.match与re.search的区别\n",
    "\n",
    "re.match只匹配字符串的开始，如果字符串开始不符合正则表达式，则匹配失败，函数返回None；而re.search匹配整个字符串，直到找到一个匹配。"
   ]
  },
  {
   "cell_type": "markdown",
   "metadata": {},
   "source": [
    "## re.sub 检索和替换、删除\n",
    "\n",
    "re.sub用于替换字符串中的匹配项。\n",
    "\n",
    "<span class=\"mark\">re.sub(pattern, repl, string, count=0)</span>\n",
    "\n",
    "pattern : 正则中的模式字符串。\n",
    "\n",
    "repl : 替换的字符串，也可为一个函数。\n",
    "\n",
    "string : 要被查找替换的原始字符串。\n",
    "\n",
    "count : 模式匹配后替换的最大次数，默认 0 表示替换所有的匹配。"
   ]
  },
  {
   "cell_type": "code",
   "execution_count": 26,
   "metadata": {},
   "outputs": [
    {
     "name": "stdout",
     "output_type": "stream",
     "text": [
      "2004-959-559 \n",
      "2004959559\n"
     ]
    }
   ],
   "source": [
    "phone = '2004-959-559 # 这是一个电话号码'\n",
    "\n",
    "#删除注释部分\n",
    "num = re.sub('#.*','',phone)\n",
    "print(num)\n",
    "\n",
    "#移除非数字的内容\n",
    "num = re.sub('\\D','',phone)\n",
    "print(num)"
   ]
  },
  {
   "cell_type": "code",
   "execution_count": 4,
   "metadata": {},
   "outputs": [
    {
     "name": "stdout",
     "output_type": "stream",
     "text": [
      "Jamie\n",
      "James\n",
      "[('hello', 'world'), ('hello', 'hz')]\n",
      "world hello ! hz hello !\n",
      "world\n",
      "Hello, <em>world<／em>!\n",
      "['world', 'good']\n",
      "Hello, <em>world<／em> <em>good<／em> !\n"
     ]
    }
   ],
   "source": [
    "import re\n",
    "test = 'hello James, nihao James'\n",
    "replacedtest = re.sub(r'hello (\\w+), nihao \\1','Jamie',test) # 匹配到整个字符串，并用Jamie替换掉整个字符串\n",
    "print(replacedtest)\n",
    "\n",
    "retest= re.sub(r'hello (\\w+), nihao \\1',r'\\1',test) # 匹配到整个字符串，并用组1替换掉整个字符串\n",
    "print(retest)\n",
    "\n",
    "s = 'hello world ! hello hz !'\n",
    "print(re.findall(r'(\\w+) (\\w+)',s)) # 可以看到匹配到2了项\n",
    "r = re.sub(r'(\\w+) (\\w+)',r'\\2 \\1',s) # 每项中的2组位置互换\n",
    "print(r)\n",
    "\n",
    "s = 'Hello, *world*!'\n",
    "s1 = 'Hello, *world* *good* !'\n",
    "pattern = r'\\*([^\\*]+)\\*'\n",
    "print(re.search(pattern,s).group(1)) # 匹配项中的组1\n",
    "print(re.sub(pattern,r'<em>\\1<／em>',s)) \n",
    "\n",
    "print(re.findall(pattern,s1))\n",
    "print(re.sub(pattern,r'<em>\\1<／em>',s1)) # 匹配到两项，每项的组1替换匹配项"
   ]
  },
  {
   "cell_type": "markdown",
   "metadata": {},
   "source": [
    "## 匹配汉字\n",
    "\n",
    "[\\u4e00-\\u9fa5] 至少匹配一个汉字\n",
    "\n",
    "这两个unicode值正好是Unicode表中的汉字的头和尾。"
   ]
  },
  {
   "cell_type": "code",
   "execution_count": 13,
   "metadata": {},
   "outputs": [
    {
     "name": "stdout",
     "output_type": "stream",
     "text": [
      "<_sre.SRE_Match object; span=(0, 1), match='你'>\n",
      "京大学\n",
      "南京大学\n"
     ]
    }
   ],
   "source": [
    "import re\n",
    "print(re.match('[\\u4e00-\\u9fa5]', '你好')) \n",
    "line = 'study in 南京大学'\n",
    "print(re.match('.*([\\u4e00-\\u9fa5]+大学)',line).group(1)) #贪婪匹配\n",
    "print(re.match('.*?([\\u4e00-\\u9fa5]+大学)',line).group(1)) #非贪婪匹配"
   ]
  },
  {
   "cell_type": "markdown",
   "metadata": {},
   "source": [
    "## 小测试"
   ]
  },
  {
   "cell_type": "code",
   "execution_count": 24,
   "metadata": {},
   "outputs": [
    {
     "name": "stdout",
     "output_type": "stream",
     "text": [
      "2011年6月1日\n",
      "2011年6月\n",
      "2011/6/1\n",
      "2011-6-1\n",
      "2011-06-01\n",
      "2011-06\n"
     ]
    }
   ],
   "source": [
    "import re\n",
    "m =[ 'XXX出生于2011年6月1日','XXX出生于2011年6月','XXX出生于2011/6/1','XXX出生于2011-6-1','XXX出生于2011-06-01','XXX出生于2011-06']\n",
    "for i in m:\n",
    "    print(re.match('.*出生于(\\d{4}[年/-]\\d{1,2}([月/-]\\d{1,2}.?|[月/-]$|$))',i).group(1))"
   ]
  },
  {
   "cell_type": "markdown",
   "metadata": {},
   "source": [
    "## 普遍邮箱适用的正则表达式\n",
    "\n",
    "reg =  r'[A-Za-z0-9_]+@[A-Za-z0-9]+\\.[a-z]{3}\n",
    "\n",
    "因为\n",
    "\n",
    "\\w 等同于[a-z0-9A-Z_]匹配大小写字母、数字和下划线\n",
    "\n",
    "所以\n",
    "\n",
    "reg =  r'\\w+@\\w+\\.[a-z]{3}"
   ]
  },
  {
   "cell_type": "code",
   "execution_count": 2,
   "metadata": {},
   "outputs": [
    {
     "name": "stdout",
     "output_type": "stream",
     "text": [
      "['45206091@qq.com', 'rogovik1994@icloud.com', 'sd676876@ru.com', 'russell_gardner@icloud.com']\n",
      "['45206091@qq.com', 'rogovik1994@icloud.com', 'sd676876@ru.com', 'russell_gardner@icloud.com']\n"
     ]
    }
   ],
   "source": [
    "import re\n",
    "text = '45206091@qq.com rogovik1994@icloud.com sd676876@ru.com  russell_gardner@icloud.com'\n",
    "reg =  r'[A-Za-z0-9_]+@[A-Za-z0-9]+\\.[a-z]{3}'\n",
    "regx = r'\\w+@\\w+\\.[a-z]{3}'\n",
    "print(re.findall(reg,text))\n",
    "print(re.findall(regx,text))"
   ]
  },
  {
   "cell_type": "markdown",
   "metadata": {},
   "source": [
    "## re.findall() 与 re.search() 的区别\n",
    "\n",
    "re.search匹配整个字符串，直到找到一个匹配,返回一个Match对象\n",
    "\n",
    "和re.match一样\n",
    "通过Match对象内的group编号或命名，获得对应的值\n",
    "\n",
    "注意到group(0)永远是原始字符串，group(1)、group(2)……表示第1、2、……个子串\n",
    "\n",
    "\n",
    "\n",
    "re.findall返回一个列表对象，包含所有匹配的字符串\n",
    "\n",
    "正则表达式中没有使用分组，即没有括号，返回值是匹配到的完整字符串的列表\n",
    "\n",
    "正则表达式中有使用分组，即有括号，返回值是各个group的值所组合出来的列表\n",
    "\n",
    "所以要通过findall，想要获得整个字符串的话，就要使用不带括号的，即没有分组"
   ]
  },
  {
   "cell_type": "code",
   "execution_count": 10,
   "metadata": {},
   "outputs": [
    {
     "name": "stdout",
     "output_type": "stream",
     "text": [
      "<_sre.SRE_Match object; span=(0, 15), match='45206091@qq.com'>\n",
      "45206091@qq.com\n",
      "['45206091@qq.com', 'rogovik1994@icloud.com', 'sd676876@ru.com']\n",
      "45206091@qq.com\n",
      "['com', 'com', 'com']\n"
     ]
    }
   ],
   "source": [
    "import re\n",
    "text = '45206091@qq.com rogovik1994@icloud.com sd676876@ru.com'\n",
    "reg =  r'[A-Za-z0-9.]+@[A-Za-z0-9]+\\.[a-z]{3}'\n",
    "print(re.search(reg,text))# 返回第一个匹配的Match对象\n",
    "print(re.search(reg,text).group(0))# group(0)获取值\n",
    "print(re.findall(reg,text))\n",
    "\n",
    "# 自己写的邮箱正则表达式，想想结果\n",
    "reg2 = r'[A-Za-z0-9_]+@[a-zA-Z0-9]+\\.(cn|com|ru|net|gmail)'\n",
    "\n",
    "email = re.search(reg,text) # 匹配到第一个邮箱\n",
    "email2 = re.findall(reg2,text) # 结果是['com', 'com', 'com'] 为什么？\n",
    "print(email.group(0))\n",
    "print(email2) \n",
    "# 在re.findall(),中的正则表达式有使用分组，即有括号，返回值是各个group的值所组合出来的列表"
   ]
  },
  {
   "cell_type": "markdown",
   "metadata": {},
   "source": [
    "## 判断小数\n",
    "\n",
    "https://www.hackerrank.com/challenges/introduction-to-regex/editorial"
   ]
  },
  {
   "cell_type": "code",
   "execution_count": null,
   "metadata": {},
   "outputs": [],
   "source": [
    "import re\n",
    "test = '+.4' \n",
    "test1 = '.5' \n",
    "test2 = '-+4.5'\n",
    "test3 = '12.'   \n",
    "test4 = '4.0o0' # 不是小数，内含字母 \n",
    "reg = r'^[-+]?\\d*\\.\\d+$'\n",
    "print(bool(re.search(reg,test)))\n",
    "print(bool(re.search(reg,test1)))\n",
    "print(bool(re.search(reg,test2)))\n",
    "print(bool(re.search(reg,test3)))\n",
    "print(bool(re.search(reg,test4)))"
   ]
  },
  {
   "cell_type": "markdown",
   "metadata": {},
   "source": [
    "## re.compile(pattern, flags=0)\n",
    "\n",
    "https://www.cnblogs.com/huxi/archive/2010/07/04/1771073.html\n",
    "\n",
    "prog = re.compile(pattern)\n",
    "\n",
    "result = prog.match(string)\n",
    "\n",
    "等价于\n",
    "\n",
    "result = re.match(pattern, string)\n",
    "\n",
    "re提供了众多模块方法用于完成正则表达式的功能。这些方法可以使用Pattern实例的相应方法替代，唯一的好处是少写一行re.compile()代码，但同时也无法复用编译后的Pattern对象。"
   ]
  },
  {
   "cell_type": "code",
   "execution_count": 19,
   "metadata": {},
   "outputs": [
    {
     "name": "stdout",
     "output_type": "stream",
     "text": [
      "3232\n",
      "3232\n"
     ]
    }
   ],
   "source": [
    "import re\n",
    "\n",
    "test = '3232xc'\n",
    "reg = r'\\d+'\n",
    "\n",
    "pattern = re.compile(reg)\n",
    "result1 = pattern.match(test)\n",
    "#上面两行等价于下面一行\n",
    "result2 = re.match(reg,test)\n",
    "print(result1.group(0),result2.group(),sep='\\n')"
   ]
  },
  {
   "cell_type": "markdown",
   "metadata": {},
   "source": [
    "### Pattern \n",
    "\n",
    "Pattern对象是一个编译好的正则表达式，通过Pattern提供的一系列方法可以对文本进行匹配查找。\n",
    "\n",
    "Pattern不能直接实例化，必须使用re.compile()进行构造。 \n",
    "\n",
    "Pattern提供了几个可读属性用于获取表达式的相关信息：\n",
    "\n",
    "\n",
    "pattern: 编译时用的表达式字符串。\n",
    "\n",
    "flags: 编译时用的匹配模式。数字形式。\n",
    "\n",
    "groups: 表达式中分组的数量。\n",
    "\n",
    "groupindex: 以表达式中有别名的组的别名为键、以该组对应的编号为值的字典，没有别名的组不包含在内。\n"
   ]
  },
  {
   "cell_type": "markdown",
   "metadata": {},
   "source": [
    "### pattern.match(string[, pos[, endpos]])  \n",
    "\n",
    "从string的pos下标处起尝试匹配pattern；如果pattern 一开始就可匹配，则返回一个Match对象；如果匹配过程中pattern无法匹配，或者匹配未结束就已到达endpos，则返回None。 \n",
    "\n",
    "pos和endpos的默认值分别为0和len(string)；re.match()无法指定这两个参数，参数flags用于编译pattern时指定匹配模式。 \n",
    "\n",
    "注意：这个方法并不是完全匹配。当pattern结束时若string还有剩余字符，仍然视为成功。想要完全匹配，可以在表达式末尾加上边界匹配符'$'。"
   ]
  },
  {
   "cell_type": "code",
   "execution_count": 35,
   "metadata": {},
   "outputs": [
    {
     "name": "stdout",
     "output_type": "stream",
     "text": [
      "None\n",
      "<_sre.SRE_Match object; span=(5, 7), match='aa'>\n",
      "<_sre.SRE_Match object; span=(5, 7), match='aa'>\n",
      "None\n"
     ]
    }
   ],
   "source": [
    "import re\n",
    "\n",
    "test = '1aaadaa'\n",
    "test1 = '1aaadaab'\n",
    "\n",
    "pattern = re.compile(r'aa')\n",
    "pattern1 = re.compile(r'aa$')\n",
    "\n",
    "\n",
    "print(pattern.match(test)) # 返回none,因为一开始久没匹配到\n",
    "print(pattern.match(test,5))\n",
    "print(pattern1.match(test,5))\n",
    "print(pattern1.match(test1,5))"
   ]
  },
  {
   "cell_type": "markdown",
   "metadata": {},
   "source": [
    "### pattern.search(string[, pos[, endpos]]) \n",
    "\n",
    "这个方法用于查找字符串中可以匹配成功的子串。从string的pos下标处起尝试匹配pattern，如果pattern结束时仍可匹配，则返回一个Match对象；若无法匹配，则将pos加1后重新尝试匹配；直到pos=endpos时仍无法匹配则返回None。 \n",
    "\n",
    "pos和endpos的默认值分别为0和len(string))；re.search()无法指定这两个参数，参数flags用于编译pattern时指定匹配模式。 "
   ]
  },
  {
   "cell_type": "code",
   "execution_count": 32,
   "metadata": {},
   "outputs": [
    {
     "name": "stdout",
     "output_type": "stream",
     "text": [
      "<_sre.SRE_Match object; span=(6, 11), match='world'>\n"
     ]
    }
   ],
   "source": [
    "import re\n",
    "\n",
    "test = 'hello world!'\n",
    "pattern = re.compile(r'world')\n",
    "print(pattern.search(test))"
   ]
  },
  {
   "cell_type": "markdown",
   "metadata": {},
   "source": [
    "### pattern.findall(string[, pos[, endpos]]) \n",
    "\n",
    "搜索string，以列表形式返回全部能匹配的子串。 "
   ]
  },
  {
   "cell_type": "code",
   "execution_count": 37,
   "metadata": {},
   "outputs": [
    {
     "name": "stdout",
     "output_type": "stream",
     "text": [
      "['aa', 'aa']\n"
     ]
    }
   ],
   "source": [
    "import re\n",
    "\n",
    "test = 'aaadaa'\n",
    "pattern = re.compile('aa')\n",
    "print(pattern.findall(test))"
   ]
  },
  {
   "cell_type": "markdown",
   "metadata": {},
   "source": [
    "### finditer(string[, pos[, endpos]]) \n",
    "\n",
    "返回string中所有与pattern相匹配的全部字串，返回形式为迭代器。若匹配成功，match()/search()返回的是Match对象，finditer()返回的也是Match对象的迭代器，获取匹配结果需要调用Match对象的group()、groups或group(index)方法。"
   ]
  },
  {
   "cell_type": "code",
   "execution_count": 2,
   "metadata": {},
   "outputs": [
    {
     "name": "stdout",
     "output_type": "stream",
     "text": [
      "[<_sre.SRE_Match object; span=(0, 0), match=''>, <_sre.SRE_Match object; span=(1, 1), match=''>, <_sre.SRE_Match object; span=(4, 4), match=''>]\n",
      "['', '', '']\n"
     ]
    }
   ],
   "source": [
    "import re\n",
    "\n",
    "test = 'aaadaa'\n",
    "reg = 'aa'\n",
    "m = re.finditer(r'(?={})'.format(reg),test)\n",
    "x = re.findall(r'(?={})'.format(reg),test)\n",
    "print(list(m))\n",
    "print(x)"
   ]
  },
  {
   "cell_type": "markdown",
   "metadata": {},
   "source": [
    "## 匹配叠加项\n",
    "\n",
    "re.findall() \n",
    "返回不叠加的所有匹配项的列表对象\n",
    "Return all non-overlapping matches of pattern in string, as a list of strings. The string is scanned left-to-right, and matches are returned in the order found.\n",
    "\n",
    "不叠加时什么意思\n",
    "'aaadaa'里面不叠加的算，有2个'aa',叠加的算有3个'aa'"
   ]
  },
  {
   "cell_type": "code",
   "execution_count": 3,
   "metadata": {},
   "outputs": [
    {
     "name": "stdout",
     "output_type": "stream",
     "text": [
      "['aa', 'aa']\n"
     ]
    }
   ],
   "source": [
    "import re\n",
    "test = 'aaadaa'\n",
    "reg = 'aa'\n",
    "i = re.findall(reg,test)\n",
    "print(i)"
   ]
  },
  {
   "cell_type": "markdown",
   "metadata": {},
   "source": [
    "如何匹配叠加的所有项？\n",
    "\n",
    "pattern.search(string[, pos[, endpos]]) 从string的pos下标处和endpos下标处之间匹配pattern\n",
    "\n",
    "re.search()无法指定这两个参数"
   ]
  },
  {
   "cell_type": "code",
   "execution_count": 9,
   "metadata": {},
   "outputs": [
    {
     "name": "stdout",
     "output_type": "stream",
     "text": [
      "aa\n",
      "aa\n",
      "aa\n"
     ]
    }
   ],
   "source": [
    "# 第一种遍历全部项\n",
    "\n",
    "import re\n",
    "\n",
    "test = 'aaadaa'\n",
    "pattern = re.compile('aa')\n",
    "for i in range(len(test)):\n",
    "    p = pattern.match(test,i)\n",
    "    if p:\n",
    "        print(p.group())"
   ]
  },
  {
   "cell_type": "code",
   "execution_count": 4,
   "metadata": {},
   "outputs": [
    {
     "name": "stdout",
     "output_type": "stream",
     "text": [
      "aa\n",
      "aa\n",
      "aa\n"
     ]
    }
   ],
   "source": [
    "#第三种 从匹配到的项的开头索引下一位作为下一次查找的开头，逐渐减少匹配范围\n",
    "\n",
    "import re\n",
    "\n",
    "test = 'aaadaa'\n",
    "reg = 'aa'\n",
    "pattern = re.compile(reg)\n",
    "r = pattern.search(test)\n",
    "while r:\n",
    "    print(r.group())\n",
    "    r = pattern.search(test,r.start()+1)"
   ]
  }
 ],
 "metadata": {
  "kernelspec": {
   "display_name": "Python 3",
   "language": "python",
   "name": "python3"
  },
  "language_info": {
   "codemirror_mode": {
    "name": "ipython",
    "version": 3
   },
   "file_extension": ".py",
   "mimetype": "text/x-python",
   "name": "python",
   "nbconvert_exporter": "python",
   "pygments_lexer": "ipython3",
   "version": "3.6.3"
  },
  "toc": {
   "nav_menu": {},
   "number_sections": true,
   "sideBar": true,
   "skip_h1_title": false,
   "title_cell": "Table of Contents",
   "title_sidebar": "Contents",
   "toc_cell": false,
   "toc_position": {},
   "toc_section_display": true,
   "toc_window_display": false
  },
  "varInspector": {
   "cols": {
    "lenName": 16,
    "lenType": 16,
    "lenVar": 40
   },
   "kernels_config": {
    "python": {
     "delete_cmd_postfix": "",
     "delete_cmd_prefix": "del ",
     "library": "var_list.py",
     "varRefreshCmd": "print(var_dic_list())"
    },
    "r": {
     "delete_cmd_postfix": ") ",
     "delete_cmd_prefix": "rm(",
     "library": "var_list.r",
     "varRefreshCmd": "cat(var_dic_list()) "
    }
   },
   "types_to_exclude": [
    "module",
    "function",
    "builtin_function_or_method",
    "instance",
    "_Feature"
   ],
   "window_display": false
  }
 },
 "nbformat": 4,
 "nbformat_minor": 2
}
