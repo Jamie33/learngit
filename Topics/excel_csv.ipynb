{
 "cells": [
  {
   "cell_type": "markdown",
   "metadata": {},
   "source": [
    "# 整合一个文件夹里面所有csv文件，字段一样"
   ]
  },
  {
   "cell_type": "markdown",
   "metadata": {},
   "source": [
    "## 用 CSV "
   ]
  },
  {
   "cell_type": "code",
   "execution_count": 13,
   "metadata": {},
   "outputs": [
    {
     "name": "stdout",
     "output_type": "stream",
     "text": [
      "shopee_category_Elektronik_selection_item_list.csv\n",
      "shopee_category_Fotografi_selection_item_list.csv\n",
      "shopee_category_Handphone & Aksesoris_selection_item_list.csv\n",
      "shopee_category_Komputer & Aksesoris_selection_item_list.csv\n",
      "shopee_category_Olahraga & Outdoor_selection_item_list.csv\n",
      "shopee_category_Otomotif_selection_item_list.csv\n",
      "shopee_category_Pakaian Pria_selection_item_list.csv\n",
      "shopee_category_Sepatu Pria_selection_item_list.csv\n",
      "shopee_category_Tas Pria_selection_item_list.csv\n",
      "shopee_category_Voucher_selection_item_list.csv\n",
      "Completed!\n"
     ]
    }
   ],
   "source": [
    "import os,csv\n",
    "\n",
    "def combine_csv(file_path):\n",
    "    file_list = os.listdir(file_path)\n",
    "    i = 0\n",
    "    for file in file_list:\n",
    "        print(file)\n",
    "        file_name = r'E:\\Jamie\\谷斯达\\爬虫数据\\Shopee_category_selection_result\\{}'.format(file)\n",
    "        content = open(file_name,'rb').read()\n",
    "        with open(save_file,'ab') as f:\n",
    "            f.write(content)\n",
    "    print('Completed!')\n",
    "    \n",
    "    \n",
    "file_path = r'E:\\Jamie\\谷斯达\\爬虫数据\\Shopee_category_selection_result'\n",
    "save_file = r'E:\\Jamie\\python test\\csv\\shopee_result.csv'\n",
    "\n",
    "combine_csv(file_path)"
   ]
  },
  {
   "cell_type": "markdown",
   "metadata": {},
   "source": [
    "## 用 pandas"
   ]
  },
  {
   "cell_type": "code",
   "execution_count": 5,
   "metadata": {},
   "outputs": [
    {
     "ename": "FileNotFoundError",
     "evalue": "File b'test1.csv' does not exist",
     "output_type": "error",
     "traceback": [
      "\u001b[1;31m---------------------------------------------------------------------------\u001b[0m",
      "\u001b[1;31mFileNotFoundError\u001b[0m                         Traceback (most recent call last)",
      "\u001b[1;32m<ipython-input-5-0facaa6d787c>\u001b[0m in \u001b[0;36m<module>\u001b[1;34m()\u001b[0m\n\u001b[0;32m     11\u001b[0m \u001b[0msave_file\u001b[0m \u001b[1;33m=\u001b[0m \u001b[1;34mr'E:\\Jamie\\python test\\csv\\result.csv'\u001b[0m\u001b[1;33m\u001b[0m\u001b[0m\n\u001b[0;32m     12\u001b[0m \u001b[1;33m\u001b[0m\u001b[0m\n\u001b[1;32m---> 13\u001b[1;33m \u001b[0mcombine_csv_pandas\u001b[0m\u001b[1;33m(\u001b[0m\u001b[0mfile_path\u001b[0m\u001b[1;33m,\u001b[0m\u001b[0msave_file\u001b[0m\u001b[1;33m)\u001b[0m\u001b[1;33m\u001b[0m\u001b[0m\n\u001b[0m",
      "\u001b[1;32m<ipython-input-5-0facaa6d787c>\u001b[0m in \u001b[0;36mcombine_csv_pandas\u001b[1;34m(file_path, save_file)\u001b[0m\n\u001b[0;32m      5\u001b[0m     \u001b[0mfile_list\u001b[0m \u001b[1;33m=\u001b[0m \u001b[0mos\u001b[0m\u001b[1;33m.\u001b[0m\u001b[0mlistdir\u001b[0m\u001b[1;33m(\u001b[0m\u001b[0mfile_path\u001b[0m\u001b[1;33m)\u001b[0m\u001b[1;33m\u001b[0m\u001b[0m\n\u001b[0;32m      6\u001b[0m     \u001b[1;32mfor\u001b[0m \u001b[0mfile\u001b[0m \u001b[1;32min\u001b[0m \u001b[0mfile_list\u001b[0m\u001b[1;33m:\u001b[0m\u001b[1;33m\u001b[0m\u001b[0m\n\u001b[1;32m----> 7\u001b[1;33m         \u001b[0mpd\u001b[0m\u001b[1;33m.\u001b[0m\u001b[0mread_csv\u001b[0m\u001b[1;33m(\u001b[0m\u001b[0mfile\u001b[0m\u001b[1;33m,\u001b[0m\u001b[0mheader\u001b[0m\u001b[1;33m=\u001b[0m\u001b[1;32mNone\u001b[0m\u001b[1;33m)\u001b[0m\u001b[1;33m\u001b[0m\u001b[0m\n\u001b[0m\u001b[0;32m      8\u001b[0m         \u001b[0mpd\u001b[0m\u001b[1;33m.\u001b[0m\u001b[0mto_csv\u001b[0m\u001b[1;33m(\u001b[0m\u001b[0msave_file\u001b[0m\u001b[1;33m,\u001b[0m\u001b[0mmode\u001b[0m\u001b[1;33m=\u001b[0m\u001b[1;34m'a'\u001b[0m\u001b[1;33m,\u001b[0m\u001b[0mindex\u001b[0m\u001b[1;33m=\u001b[0m\u001b[1;32mFalse\u001b[0m\u001b[1;33m,\u001b[0m\u001b[0mheader\u001b[0m\u001b[1;33m=\u001b[0m\u001b[1;32mFalse\u001b[0m\u001b[1;33m)\u001b[0m\u001b[1;33m\u001b[0m\u001b[0m\n\u001b[0;32m      9\u001b[0m \u001b[1;33m\u001b[0m\u001b[0m\n",
      "\u001b[1;32mc:\\users\\win7\\appdata\\local\\programs\\python\\python36-32\\lib\\site-packages\\pandas\\io\\parsers.py\u001b[0m in \u001b[0;36mparser_f\u001b[1;34m(filepath_or_buffer, sep, delimiter, header, names, index_col, usecols, squeeze, prefix, mangle_dupe_cols, dtype, engine, converters, true_values, false_values, skipinitialspace, skiprows, nrows, na_values, keep_default_na, na_filter, verbose, skip_blank_lines, parse_dates, infer_datetime_format, keep_date_col, date_parser, dayfirst, iterator, chunksize, compression, thousands, decimal, lineterminator, quotechar, quoting, escapechar, comment, encoding, dialect, tupleize_cols, error_bad_lines, warn_bad_lines, skipfooter, doublequote, delim_whitespace, low_memory, memory_map, float_precision)\u001b[0m\n\u001b[0;32m    676\u001b[0m                     skip_blank_lines=skip_blank_lines)\n\u001b[0;32m    677\u001b[0m \u001b[1;33m\u001b[0m\u001b[0m\n\u001b[1;32m--> 678\u001b[1;33m         \u001b[1;32mreturn\u001b[0m \u001b[0m_read\u001b[0m\u001b[1;33m(\u001b[0m\u001b[0mfilepath_or_buffer\u001b[0m\u001b[1;33m,\u001b[0m \u001b[0mkwds\u001b[0m\u001b[1;33m)\u001b[0m\u001b[1;33m\u001b[0m\u001b[0m\n\u001b[0m\u001b[0;32m    679\u001b[0m \u001b[1;33m\u001b[0m\u001b[0m\n\u001b[0;32m    680\u001b[0m     \u001b[0mparser_f\u001b[0m\u001b[1;33m.\u001b[0m\u001b[0m__name__\u001b[0m \u001b[1;33m=\u001b[0m \u001b[0mname\u001b[0m\u001b[1;33m\u001b[0m\u001b[0m\n",
      "\u001b[1;32mc:\\users\\win7\\appdata\\local\\programs\\python\\python36-32\\lib\\site-packages\\pandas\\io\\parsers.py\u001b[0m in \u001b[0;36m_read\u001b[1;34m(filepath_or_buffer, kwds)\u001b[0m\n\u001b[0;32m    438\u001b[0m \u001b[1;33m\u001b[0m\u001b[0m\n\u001b[0;32m    439\u001b[0m     \u001b[1;31m# Create the parser.\u001b[0m\u001b[1;33m\u001b[0m\u001b[1;33m\u001b[0m\u001b[0m\n\u001b[1;32m--> 440\u001b[1;33m     \u001b[0mparser\u001b[0m \u001b[1;33m=\u001b[0m \u001b[0mTextFileReader\u001b[0m\u001b[1;33m(\u001b[0m\u001b[0mfilepath_or_buffer\u001b[0m\u001b[1;33m,\u001b[0m \u001b[1;33m**\u001b[0m\u001b[0mkwds\u001b[0m\u001b[1;33m)\u001b[0m\u001b[1;33m\u001b[0m\u001b[0m\n\u001b[0m\u001b[0;32m    441\u001b[0m \u001b[1;33m\u001b[0m\u001b[0m\n\u001b[0;32m    442\u001b[0m     \u001b[1;32mif\u001b[0m \u001b[0mchunksize\u001b[0m \u001b[1;32mor\u001b[0m \u001b[0miterator\u001b[0m\u001b[1;33m:\u001b[0m\u001b[1;33m\u001b[0m\u001b[0m\n",
      "\u001b[1;32mc:\\users\\win7\\appdata\\local\\programs\\python\\python36-32\\lib\\site-packages\\pandas\\io\\parsers.py\u001b[0m in \u001b[0;36m__init__\u001b[1;34m(self, f, engine, **kwds)\u001b[0m\n\u001b[0;32m    785\u001b[0m             \u001b[0mself\u001b[0m\u001b[1;33m.\u001b[0m\u001b[0moptions\u001b[0m\u001b[1;33m[\u001b[0m\u001b[1;34m'has_index_names'\u001b[0m\u001b[1;33m]\u001b[0m \u001b[1;33m=\u001b[0m \u001b[0mkwds\u001b[0m\u001b[1;33m[\u001b[0m\u001b[1;34m'has_index_names'\u001b[0m\u001b[1;33m]\u001b[0m\u001b[1;33m\u001b[0m\u001b[0m\n\u001b[0;32m    786\u001b[0m \u001b[1;33m\u001b[0m\u001b[0m\n\u001b[1;32m--> 787\u001b[1;33m         \u001b[0mself\u001b[0m\u001b[1;33m.\u001b[0m\u001b[0m_make_engine\u001b[0m\u001b[1;33m(\u001b[0m\u001b[0mself\u001b[0m\u001b[1;33m.\u001b[0m\u001b[0mengine\u001b[0m\u001b[1;33m)\u001b[0m\u001b[1;33m\u001b[0m\u001b[0m\n\u001b[0m\u001b[0;32m    788\u001b[0m \u001b[1;33m\u001b[0m\u001b[0m\n\u001b[0;32m    789\u001b[0m     \u001b[1;32mdef\u001b[0m \u001b[0mclose\u001b[0m\u001b[1;33m(\u001b[0m\u001b[0mself\u001b[0m\u001b[1;33m)\u001b[0m\u001b[1;33m:\u001b[0m\u001b[1;33m\u001b[0m\u001b[0m\n",
      "\u001b[1;32mc:\\users\\win7\\appdata\\local\\programs\\python\\python36-32\\lib\\site-packages\\pandas\\io\\parsers.py\u001b[0m in \u001b[0;36m_make_engine\u001b[1;34m(self, engine)\u001b[0m\n\u001b[0;32m   1012\u001b[0m     \u001b[1;32mdef\u001b[0m \u001b[0m_make_engine\u001b[0m\u001b[1;33m(\u001b[0m\u001b[0mself\u001b[0m\u001b[1;33m,\u001b[0m \u001b[0mengine\u001b[0m\u001b[1;33m=\u001b[0m\u001b[1;34m'c'\u001b[0m\u001b[1;33m)\u001b[0m\u001b[1;33m:\u001b[0m\u001b[1;33m\u001b[0m\u001b[0m\n\u001b[0;32m   1013\u001b[0m         \u001b[1;32mif\u001b[0m \u001b[0mengine\u001b[0m \u001b[1;33m==\u001b[0m \u001b[1;34m'c'\u001b[0m\u001b[1;33m:\u001b[0m\u001b[1;33m\u001b[0m\u001b[0m\n\u001b[1;32m-> 1014\u001b[1;33m             \u001b[0mself\u001b[0m\u001b[1;33m.\u001b[0m\u001b[0m_engine\u001b[0m \u001b[1;33m=\u001b[0m \u001b[0mCParserWrapper\u001b[0m\u001b[1;33m(\u001b[0m\u001b[0mself\u001b[0m\u001b[1;33m.\u001b[0m\u001b[0mf\u001b[0m\u001b[1;33m,\u001b[0m \u001b[1;33m**\u001b[0m\u001b[0mself\u001b[0m\u001b[1;33m.\u001b[0m\u001b[0moptions\u001b[0m\u001b[1;33m)\u001b[0m\u001b[1;33m\u001b[0m\u001b[0m\n\u001b[0m\u001b[0;32m   1015\u001b[0m         \u001b[1;32melse\u001b[0m\u001b[1;33m:\u001b[0m\u001b[1;33m\u001b[0m\u001b[0m\n\u001b[0;32m   1016\u001b[0m             \u001b[1;32mif\u001b[0m \u001b[0mengine\u001b[0m \u001b[1;33m==\u001b[0m \u001b[1;34m'python'\u001b[0m\u001b[1;33m:\u001b[0m\u001b[1;33m\u001b[0m\u001b[0m\n",
      "\u001b[1;32mc:\\users\\win7\\appdata\\local\\programs\\python\\python36-32\\lib\\site-packages\\pandas\\io\\parsers.py\u001b[0m in \u001b[0;36m__init__\u001b[1;34m(self, src, **kwds)\u001b[0m\n\u001b[0;32m   1706\u001b[0m         \u001b[0mkwds\u001b[0m\u001b[1;33m[\u001b[0m\u001b[1;34m'usecols'\u001b[0m\u001b[1;33m]\u001b[0m \u001b[1;33m=\u001b[0m \u001b[0mself\u001b[0m\u001b[1;33m.\u001b[0m\u001b[0musecols\u001b[0m\u001b[1;33m\u001b[0m\u001b[0m\n\u001b[0;32m   1707\u001b[0m \u001b[1;33m\u001b[0m\u001b[0m\n\u001b[1;32m-> 1708\u001b[1;33m         \u001b[0mself\u001b[0m\u001b[1;33m.\u001b[0m\u001b[0m_reader\u001b[0m \u001b[1;33m=\u001b[0m \u001b[0mparsers\u001b[0m\u001b[1;33m.\u001b[0m\u001b[0mTextReader\u001b[0m\u001b[1;33m(\u001b[0m\u001b[0msrc\u001b[0m\u001b[1;33m,\u001b[0m \u001b[1;33m**\u001b[0m\u001b[0mkwds\u001b[0m\u001b[1;33m)\u001b[0m\u001b[1;33m\u001b[0m\u001b[0m\n\u001b[0m\u001b[0;32m   1709\u001b[0m \u001b[1;33m\u001b[0m\u001b[0m\n\u001b[0;32m   1710\u001b[0m         \u001b[0mpassed_names\u001b[0m \u001b[1;33m=\u001b[0m \u001b[0mself\u001b[0m\u001b[1;33m.\u001b[0m\u001b[0mnames\u001b[0m \u001b[1;32mis\u001b[0m \u001b[1;32mNone\u001b[0m\u001b[1;33m\u001b[0m\u001b[0m\n",
      "\u001b[1;32mpandas\\_libs\\parsers.pyx\u001b[0m in \u001b[0;36mpandas._libs.parsers.TextReader.__cinit__\u001b[1;34m()\u001b[0m\n",
      "\u001b[1;32mpandas\\_libs\\parsers.pyx\u001b[0m in \u001b[0;36mpandas._libs.parsers.TextReader._setup_parser_source\u001b[1;34m()\u001b[0m\n",
      "\u001b[1;31mFileNotFoundError\u001b[0m: File b'test1.csv' does not exist"
     ]
    }
   ],
   "source": [
    "import pandas as pd\n",
    "import os\n",
    "\n",
    "def combine_csv_pandas(file_path,save_file):\n",
    "    file_list = os.listdir(file_path)\n",
    "    for file in file_list:\n",
    "        pd.read_csv(file,header=None)\n",
    "        pd.to_csv(save_file,mode='a',index=False,header=False)\n",
    "\n",
    "file_path = r'E:\\Jamie\\python test\\csv\\test'\n",
    "save_file = r'E:\\Jamie\\python test\\csv\\result.csv'\n",
    "\n",
    "combine_csv_pandas(file_path,save_file)"
   ]
  },
  {
   "cell_type": "markdown",
   "metadata": {},
   "source": [
    "# python获取文件路径、文件名、后缀名"
   ]
  },
  {
   "cell_type": "code",
   "execution_count": 18,
   "metadata": {},
   "outputs": [
    {
     "name": "stdout",
     "output_type": "stream",
     "text": [
      "('D/testdir', 'test.xlsx')\n",
      "('test', '.xlsx')\n",
      "file name: test\n",
      "file extension: .xlsx\n",
      "('C:\\\\Users\\\\win7\\\\learngit\\\\Topics', '通话记录2019-02-151550196533266.xlsx')\n",
      "('通话记录2019-02-151550196533266', '.xlsx')\n",
      "file name: 通话记录2019-02-151550196533266\n",
      "file extension: .xlsx\n"
     ]
    }
   ],
   "source": [
    "import os\n",
    "\n",
    "file_path = r'D/testdir/test.xlsx'\n",
    "file_path_cn = r'C:\\Users\\win7\\learngit\\Topics\\通话记录2019-02-151550196533266.xlsx'\n",
    "\n",
    "def get_file_extension(file_path):\n",
    "    file_split = os.path.split(file_path)\n",
    "    print(file_split)\n",
    "    file = file_split[1]\n",
    "    print(os.path.splitext(file))\n",
    "    print('file name:',os.path.splitext(file)[0])\n",
    "    print('file extension:',os.path.splitext(file)[1])\n",
    "    \n",
    "get_file_extension(file_path)\n",
    "get_file_extension(file_path_cn)"
   ]
  },
  {
   "cell_type": "markdown",
   "metadata": {},
   "source": [
    "# Python之xlsx文件与csv文件相互转换 (pandas)\n",
    "## xlsx文件转csv文件\n",
    "\n",
    "需要安装  xlrd 这个库\n",
    "\n",
    "`pip3 install xlrd`"
   ]
  },
  {
   "cell_type": "code",
   "execution_count": 20,
   "metadata": {},
   "outputs": [
    {
     "name": "stdout",
     "output_type": "stream",
     "text": [
      "convert 通话记录2019-02-151550196533266.xlsx into csv format...\n"
     ]
    }
   ],
   "source": [
    "import pandas as pd\n",
    "import os\n",
    "\n",
    "def xlsx_to_csv(file_name):\n",
    "    print('convert {} into csv format...'.format(file_name))\n",
    "    save_name = os.path.splitext(file_name)[0]\n",
    "    data_xls = pd.read_excel(file_name,index_col=0)\n",
    "    data_xls.to_csv(r'{}.csv'.format(save_name),encoding='utf-8')\n",
    "    \n",
    "file_name = r'通话记录2019-02-151550196533266.xlsx'\n",
    "\n",
    "if __name__ == '__main__':\n",
    "    xlsx_to_csv(file_name)"
   ]
  },
  {
   "cell_type": "markdown",
   "metadata": {},
   "source": [
    "## xlsx文件转csv文件\n",
    "\n",
    "需要安装 openpyxl 这个库 读写excel文件\n",
    "\n",
    "`pip3 install openpyxl`"
   ]
  },
  {
   "cell_type": "code",
   "execution_count": 29,
   "metadata": {},
   "outputs": [
    {
     "name": "stdout",
     "output_type": "stream",
     "text": [
      "convert 通话记录2019-02-151550196533266.csv into xlsx format...\n"
     ]
    }
   ],
   "source": [
    "import pandas as pd\n",
    "import os\n",
    "\n",
    "def csv_to_xlsx(file_name):\n",
    "    print('convert {} into xlsx format...'.format(file_name))\n",
    "    save_name = os.path.splitext(file_name)[0]\n",
    "    data_csv = pd.read_csv(file_name, encoding='utf-8',engine='python')\n",
    "    data_csv.to_excel(r'{}.xlsx'.format(save_name), sheet_name='data')\n",
    "    \n",
    "file_name = r'通话记录2019-02-151550196533266.csv'\n",
    "\n",
    "if __name__ == '__main__':\n",
    "    csv_to_xlsx(file_name)"
   ]
  },
  {
   "cell_type": "markdown",
   "metadata": {},
   "source": [
    "## pandas.read_csv() 报错 OSError: Initializing from file failed，报错原因分析和解决方法"
   ]
  },
  {
   "cell_type": "markdown",
   "metadata": {},
   "source": [
    "pandas.read_csv() 报错 OSError: Initializing from file failed，一般由两种情况引起：一种是函数参数为路径而非文件名称，另一种是函数参数带有中文。\n",
    "\n",
    "对于第一种情况很简单，原因就是没有把文件名称放到路径的后面，把文件名称添加到路径后面就可以了。还可以在代码中把文件夹切换到目标文件所在文件夹，过程太繁杂，不喜欢也不推荐，所以就不做展示了。 \n",
    "第二种情况，即使路径、文件名都完整，还是报错的原因是这个参数中有中文，但是Python3不是已经支持中文了吗？参考了错误原因和pandas的源码，发现调用pandas的read_csv()方法时，默认使用C engine作为parser engine，而当文件名中含有中文的时候，用C engine在部分情况下就会出错。所以在调用read_csv()方法时指定engine为Python就可以解决问题了。\n",
    "\n",
    "`da4=pd.read_csv('F:\\\\数据源\\\\工程清单.csv',engine='python')`\n",
    "\n",
    "对于第二种情况还有另外一种解决方法，就是使员工open函数打开文件，再取访问里面的数据：\n",
    "\n",
    "`da3=pd.read_csv(open('F:\\\\4.0 居配工程监测\\\\2.0 数据源\\\\02.南京新居配工程清单.csv'))`\n",
    "\n",
    "好了这个报错的原因都了解了，解决方法也很简单粗暴，是不是很简短简单！"
   ]
  },
  {
   "cell_type": "markdown",
   "metadata": {},
   "source": [
    "## 文件 xls 转成 csv 格式"
   ]
  },
  {
   "cell_type": "code",
   "execution_count": 8,
   "metadata": {},
   "outputs": [
    {
     "data": {
      "text/plain": [
       "'lazada爬虫.csv'"
      ]
     },
     "execution_count": 8,
     "metadata": {},
     "output_type": "execute_result"
    }
   ],
   "source": [
    "import os\n",
    "import pandas as pd\n",
    "\n",
    "def xlsx_to_csv(file_name):\n",
    "    save_name = os.path.splitext(file_name)[0]\n",
    "    data_xls = pd.read_excel(file_name, index_col=0)\n",
    "    save_file = r'{}.csv'.format(save_name)\n",
    "    data_xls.to_csv(save_file, encoding='utf-8')\n",
    "    return save_file\n",
    "\n",
    "filename = 'lazada爬虫.xls'\n",
    "xlsx_to_csv(filename)"
   ]
  },
  {
   "cell_type": "markdown",
   "metadata": {},
   "source": [
    "### [python 读取csv 文件 sheet](https://www.jianshu.com/p/9628d4907b00)\n",
    "\n",
    "#### 一个文件中只有一个sheet"
   ]
  },
  {
   "cell_type": "code",
   "execution_count": 12,
   "metadata": {
    "scrolled": true
   },
   "outputs": [
    {
     "name": "stdout",
     "output_type": "stream",
     "text": [
      "https://www.lazada.vn/products/xit-chong-nang-bao-ve-da-khong-troi-cao-cap-maycreate-spf35-150ml-hang-chinh-hang-i277018666-s428846030.html?spm=a2o4n.searchlistcategory.list.1.38501b735Q8kcy&search=1\n",
      "https://www.lazada.vn/products/mat-na-sui-bot-thai-doc-da-detox-blanc-i264682947-s379626056.html?spm=a2o4n.searchlistcategory.list.7.38501b735Q8kcy&search=1\n",
      "https://www.lazada.vn/products/kem-zoley-xanh-tri-mun-vet-tham-duong-trang-10g-chinh-hang-i227351024-s287995481.html?spm=a2o4n.searchlistcategory.list.13.38501b735Q8kcy&search=1\n",
      "https://www.lazada.vn/products/kem-chong-nang-eliza-helena-uv50-thai-lan-i170100934-s186046352.html?spm=a2o4n.searchlistcategory.list.25.38501b735Q8kcy&search=1\n",
      "https://www.lazada.vn/products/mat-na-duong-trang-da-bo-natureby-han-quoc-1-bich-10-chiec-i225177048-s284150288.html?spm=a2o4n.searchlistcategory.list.33.38501b735Q8kcy&search=1\n",
      "https://www.lazada.vn/products/combo-sua-tam-rose-hoa-hong-500ml-va-sua-duong-the-rose-hoa-hong-250ml-nhan-hieu-lamont-en-provence-i244678699-s313673710.html?spm=a2o4n.searchlistcategory.list.1.4a2540d6wtSZHq&search=1\n",
      "https://www.lazada.vn/products/tay-te-bao-chet-body-gel-gold-whitening-350ml-i203228985-s253529024.html?spm=a2o4n.searchlistcategory.list.19.4a2540d6wtSZHq&search=1\n",
      "https://www.lazada.vn/products/kem-massage-tan-mo-gung-ot-ngan-binh-150g-tang-1-thuoc-day-i191061597-s201117310.html?spm=a2o4n.searchlistcategory.list.55.4a2540d6wtSZHq&search=1\n",
      "https://www.lazada.vn/products/trang-da-bat-tone-khong-lo-ve-gia-kem-duong-da-toan-than-white-body-i244010387-s312574967.html?spm=a2o4n.searchlistcategory.list.57.4a2540d6wtSZHq&search=1\n",
      "https://www.lazada.vn/products/gel-lot-mat-na-l-glutathione-han-quoc-net220ml-i221405759-s278417303.html?spm=a2o4n.searchlistcategory.list.29.1b5e40d64vmgcK&search=1\n",
      "https://www.lazada.vn/products/sac-tien-today-tay-te-bao-chet-120ml-i218066806-s273426835.html?spm=a2o4n.searchlistcategory.list.77.1b5e40d64vmgcK&search=1\n",
      "https://www.lazada.vn/products/combo-2-chai-sua-tam-chinh-hang-han-quoc-arriver-body-wash-750ml-i247043104-s318763920.html?spm=a2o4n.searchlistcategory.list.15.7d4f40d6MsvhV3&search=1\n",
      "https://www.lazada.vn/products/bo-10-mieng-mat-na-duong-trang-da-collagen-natureby-collagen-essence-mask-sheet-hang-chinh-hang-i143987435-s149197456.html?spm=a2o4n.searchlistcategory.list.5.1d631b73EIf87h&search=1\n",
      "https://www.lazada.vn/products/xit-chong-nang-v7-spray-protective-han-quoc-2in1-i245353920-s314477924.html?spm=a2o4n.searchlistcategory.list.23.1d631b73EIf87h&search=1\n",
      "https://www.lazada.vn/products/kem-tri-nam-tan-nhang-doi-moi-sac-tien-today-8g-i218066833-s273426864.html?spm=a2o4n.searchlistcategory.list.31.1d631b73EIf87h&search=1\n",
      "https://www.lazada.vn/products/serum-tri-nam-tan-nhang-duong-trang-da-ngoc-trai-den-sua-ong-chua-15ml-i200154235-s250171939.html?spm=a2o4n.searchlistcategory.list.27.1d631b73EIf87h&search=1\n",
      "https://www.lazada.vn/products/sua-rua-mat-kbone-trang-da-se-khit-lo-chan-long-50ml-i233474983-s297047036.html?spm=a2o4n.searchlistcategory.list.79.1d631b73EIf87h&search=1\n",
      "https://www.lazada.vn/products/kem-tri-nam-trang-da-tan-nhang-doi-moi-sac-tien-today-15g-i252941500-s337775307.html?spm=a2o4n.searchlistcategory.list.9.92ca1b73SlqifN&search=1\n",
      "https://www.lazada.vn/products/bo-5-chai-tinh-chat-te-bao-goc-tu-dna-trung-ca-hoi-tri-mun-phuc-hoi-da-sau-28-ngay-suiskin-salmon-dn-ampoule-28-days-2ml-x5-i107028085-s108361858.html?spm=a2o4n.searchlistcategory.list.39.61e41b732ZTqsB&search=1\n",
      "https://www.lazada.vn/products/rua-mat-sach-mun-dau-den-st-ives-blackhead-clearing-green-tea-scrub-170g-i102633453-s103183111.html?spm=a2o4n.searchlistcategory.list.79.61e41b732ZTqsB&search=1\n",
      "https://www.lazada.vn/products/bo-5-chai-tinh-chat-te-bao-goc-tu-dna-trung-ca-hoi-tri-mun-phuc-hoi-da-sau-28-ngay-suiskin-salmon-dn-ampoule-28-days-2ml-x5-i107028085-s108361858.html?spm=a2o4n.searchlistcategory.list.39.61e41b732ZTqsB&search=1\n",
      "https://www.lazada.vn/products/set-4-chai-sieu-tinh-chat-duong-trang-va-tai-tao-da-bergamo-luxury-gold-collagen-caviar-13ml-x4-i205308520-s255653122.html?spm=a2o4n.searchlistcategory.list.19.666f1b73S8dkJQ&search=1\n",
      "https://www.lazada.vn/products/nuoc-hoa-hong-some-by-mi-aha-bha-pha-30-days-miracle-toner-150ml-tri-sach-mun-chi-trong-30-ngay-i224683993-s283435807.html?spm=a2o4n.searchlistcategory.list.39.666f1b73S8dkJQ&search=1\n",
      "https://www.lazada.vn/products/nuoc-hoa-hong-khong-con-thayers-lavender-oai-huong-355ml-danh-cho-da-dau-da-co-mun-i151235846-s159246133.html?spm=a2o4n.searchlistcategory.list.53.67341b73uVMkjx&search=1\n",
      "https://www.lazada.vn/products/tinh-chat-vitamin-c-duong-trang-da-tri-mun-lam-mo-vet-tham-by-wishtrend-pure-vitamin-c-215-advanced-serum-30ml-i103927595-s104877284.html?spm=a2o4n.searchlistcategory.list.77.67341b73uVMkjx&search=1\n"
     ]
    }
   ],
   "source": [
    "import csv\n",
    "\n",
    "def sheet(filename):\n",
    "    csv_reader = csv.reader(open(filename, encoding='utf-8'))\n",
    "    for row in csv_reader:\n",
    "        print(row[0])\n",
    "        \n",
    "filename = 'lazada爬虫.csv'\n",
    "sheet(filename)"
   ]
  },
  {
   "cell_type": "markdown",
   "metadata": {},
   "source": [
    "#### 一个csv 文件中包含多个sheet"
   ]
  },
  {
   "cell_type": "code",
   "execution_count": null,
   "metadata": {},
   "outputs": [],
   "source": []
  },
  {
   "cell_type": "markdown",
   "metadata": {},
   "source": [
    "### [Python利用openpyxl来操作Excel](https://yq.aliyun.com/articles/682095)\n",
    "\n",
    "Excel文件处理库|支持文件格式|\n",
    "-|-|\n",
    "openpyxl| xlsx, xlsm, xltx, xltm|\n",
    "xlrd,xlwt| xls,xlsx |\n"
   ]
  },
  {
   "cell_type": "code",
   "execution_count": 15,
   "metadata": {},
   "outputs": [
    {
     "ename": "InvalidFileException",
     "evalue": "openpyxl does not support .csv file format, please check you can open it with Excel first. Supported formats are: .xlsx,.xlsm,.xltx,.xltm",
     "output_type": "error",
     "traceback": [
      "\u001b[1;31m---------------------------------------------------------------------------\u001b[0m",
      "\u001b[1;31mInvalidFileException\u001b[0m                      Traceback (most recent call last)",
      "\u001b[1;32m<ipython-input-15-6d9d7c234d65>\u001b[0m in \u001b[0;36m<module>\u001b[1;34m()\u001b[0m\n\u001b[0;32m      2\u001b[0m \u001b[1;33m\u001b[0m\u001b[0m\n\u001b[0;32m      3\u001b[0m \u001b[0mfilename\u001b[0m \u001b[1;33m=\u001b[0m \u001b[1;34m'lazada爬虫.csv'\u001b[0m\u001b[1;33m\u001b[0m\u001b[0m\n\u001b[1;32m----> 4\u001b[1;33m \u001b[0mwb\u001b[0m \u001b[1;33m=\u001b[0m \u001b[0mload_workbook\u001b[0m\u001b[1;33m(\u001b[0m\u001b[0mfilename\u001b[0m\u001b[1;33m)\u001b[0m\u001b[1;33m\u001b[0m\u001b[0m\n\u001b[0m",
      "\u001b[1;32mc:\\users\\win7\\appdata\\local\\programs\\python\\python36-32\\lib\\site-packages\\openpyxl\\reader\\excel.py\u001b[0m in \u001b[0;36mload_workbook\u001b[1;34m(filename, read_only, keep_vba, data_only, keep_links)\u001b[0m\n\u001b[0;32m    309\u001b[0m     \"\"\"\n\u001b[0;32m    310\u001b[0m     reader = ExcelReader(filename, read_only, keep_vba,\n\u001b[1;32m--> 311\u001b[1;33m                         data_only, keep_links)\n\u001b[0m\u001b[0;32m    312\u001b[0m     \u001b[0mreader\u001b[0m\u001b[1;33m.\u001b[0m\u001b[0mread\u001b[0m\u001b[1;33m(\u001b[0m\u001b[1;33m)\u001b[0m\u001b[1;33m\u001b[0m\u001b[0m\n\u001b[0;32m    313\u001b[0m     \u001b[1;32mreturn\u001b[0m \u001b[0mreader\u001b[0m\u001b[1;33m.\u001b[0m\u001b[0mwb\u001b[0m\u001b[1;33m\u001b[0m\u001b[0m\n",
      "\u001b[1;32mc:\\users\\win7\\appdata\\local\\programs\\python\\python36-32\\lib\\site-packages\\openpyxl\\reader\\excel.py\u001b[0m in \u001b[0;36m__init__\u001b[1;34m(self, fn, read_only, keep_vba, data_only, keep_links)\u001b[0m\n\u001b[0;32m    124\u001b[0m     def __init__(self,  fn, read_only=False, keep_vba=KEEP_VBA,\n\u001b[0;32m    125\u001b[0m                   data_only=False, keep_links=True):\n\u001b[1;32m--> 126\u001b[1;33m         \u001b[0mself\u001b[0m\u001b[1;33m.\u001b[0m\u001b[0marchive\u001b[0m \u001b[1;33m=\u001b[0m \u001b[0m_validate_archive\u001b[0m\u001b[1;33m(\u001b[0m\u001b[0mfn\u001b[0m\u001b[1;33m)\u001b[0m\u001b[1;33m\u001b[0m\u001b[0m\n\u001b[0m\u001b[0;32m    127\u001b[0m         \u001b[0mself\u001b[0m\u001b[1;33m.\u001b[0m\u001b[0mvalid_files\u001b[0m \u001b[1;33m=\u001b[0m \u001b[0mself\u001b[0m\u001b[1;33m.\u001b[0m\u001b[0marchive\u001b[0m\u001b[1;33m.\u001b[0m\u001b[0mnamelist\u001b[0m\u001b[1;33m(\u001b[0m\u001b[1;33m)\u001b[0m\u001b[1;33m\u001b[0m\u001b[0m\n\u001b[0;32m    128\u001b[0m         \u001b[0mself\u001b[0m\u001b[1;33m.\u001b[0m\u001b[0mread_only\u001b[0m \u001b[1;33m=\u001b[0m \u001b[0mread_only\u001b[0m\u001b[1;33m\u001b[0m\u001b[0m\n",
      "\u001b[1;32mc:\\users\\win7\\appdata\\local\\programs\\python\\python36-32\\lib\\site-packages\\openpyxl\\reader\\excel.py\u001b[0m in \u001b[0;36m_validate_archive\u001b[1;34m(filename)\u001b[0m\n\u001b[0;32m     94\u001b[0m                        \u001b[1;34m'Supported formats are: %s'\u001b[0m\u001b[1;33m)\u001b[0m \u001b[1;33m%\u001b[0m \u001b[1;33m(\u001b[0m\u001b[0mfile_format\u001b[0m\u001b[1;33m,\u001b[0m\u001b[1;33m\u001b[0m\u001b[0m\n\u001b[0;32m     95\u001b[0m                                                        ','.join(SUPPORTED_FORMATS))\n\u001b[1;32m---> 96\u001b[1;33m             \u001b[1;32mraise\u001b[0m \u001b[0mInvalidFileException\u001b[0m\u001b[1;33m(\u001b[0m\u001b[0mmsg\u001b[0m\u001b[1;33m)\u001b[0m\u001b[1;33m\u001b[0m\u001b[0m\n\u001b[0m\u001b[0;32m     97\u001b[0m \u001b[1;33m\u001b[0m\u001b[0m\n\u001b[0;32m     98\u001b[0m     \u001b[0marchive\u001b[0m \u001b[1;33m=\u001b[0m \u001b[0mZipFile\u001b[0m\u001b[1;33m(\u001b[0m\u001b[0mfilename\u001b[0m\u001b[1;33m,\u001b[0m \u001b[1;34m'r'\u001b[0m\u001b[1;33m)\u001b[0m\u001b[1;33m\u001b[0m\u001b[0m\n",
      "\u001b[1;31mInvalidFileException\u001b[0m: openpyxl does not support .csv file format, please check you can open it with Excel first. Supported formats are: .xlsx,.xlsm,.xltx,.xltm"
     ]
    }
   ],
   "source": [
    "from openpyxl import load_workbook\n",
    "\n",
    "filename = 'lazada爬虫.csv'\n",
    "wb = load_workbook(filename)"
   ]
  },
  {
   "cell_type": "markdown",
   "metadata": {},
   "source": [
    "## [Python如何处理Excel表格](https://www.jianshu.com/p/ae01855198fb)\n",
    "\n",
    "python操作excel主要用到xlrd和xlwt这两个库，即xlrd是读excel，xlwt是写excel的库。\n",
    "\n",
    "### xlrd: 读取excel文件，所有sheet"
   ]
  },
  {
   "cell_type": "code",
   "execution_count": 32,
   "metadata": {},
   "outputs": [
    {
     "name": "stdout",
     "output_type": "stream",
     "text": [
      "1 护肤 https://www.lazada.vn/products/xit-chong-nang-bao-ve-da-khong-troi-cao-cap-maycreate-spf35-150ml-hang-chinh-hang-i277018666-s428846030.html?spm=a2o4n.searchlistcategory.list.1.38501b735Q8kcy&search=1\n",
      "2 护肤 https://www.lazada.vn/products/mat-na-sui-bot-thai-doc-da-detox-blanc-i264682947-s379626056.html?spm=a2o4n.searchlistcategory.list.7.38501b735Q8kcy&search=1\n",
      "3 护肤 https://www.lazada.vn/products/kem-zoley-xanh-tri-mun-vet-tham-duong-trang-10g-chinh-hang-i227351024-s287995481.html?spm=a2o4n.searchlistcategory.list.13.38501b735Q8kcy&search=1\n",
      "4 护肤 https://www.lazada.vn/products/kem-chong-nang-eliza-helena-uv50-thai-lan-i170100934-s186046352.html?spm=a2o4n.searchlistcategory.list.25.38501b735Q8kcy&search=1\n",
      "5 护肤 https://www.lazada.vn/products/mat-na-duong-trang-da-bo-natureby-han-quoc-1-bich-10-chiec-i225177048-s284150288.html?spm=a2o4n.searchlistcategory.list.33.38501b735Q8kcy&search=1\n",
      "6 护肤 https://www.lazada.vn/products/combo-sua-tam-rose-hoa-hong-500ml-va-sua-duong-the-rose-hoa-hong-250ml-nhan-hieu-lamont-en-provence-i244678699-s313673710.html?spm=a2o4n.searchlistcategory.list.1.4a2540d6wtSZHq&search=1\n",
      "7 护肤 https://www.lazada.vn/products/tay-te-bao-chet-body-gel-gold-whitening-350ml-i203228985-s253529024.html?spm=a2o4n.searchlistcategory.list.19.4a2540d6wtSZHq&search=1\n",
      "8 护肤 https://www.lazada.vn/products/kem-massage-tan-mo-gung-ot-ngan-binh-150g-tang-1-thuoc-day-i191061597-s201117310.html?spm=a2o4n.searchlistcategory.list.55.4a2540d6wtSZHq&search=1\n",
      "9 护肤 https://www.lazada.vn/products/trang-da-bat-tone-khong-lo-ve-gia-kem-duong-da-toan-than-white-body-i244010387-s312574967.html?spm=a2o4n.searchlistcategory.list.57.4a2540d6wtSZHq&search=1\n",
      "10 护肤 https://www.lazada.vn/products/gel-lot-mat-na-l-glutathione-han-quoc-net220ml-i221405759-s278417303.html?spm=a2o4n.searchlistcategory.list.29.1b5e40d64vmgcK&search=1\n",
      "11 护肤 https://www.lazada.vn/products/sac-tien-today-tay-te-bao-chet-120ml-i218066806-s273426835.html?spm=a2o4n.searchlistcategory.list.77.1b5e40d64vmgcK&search=1\n",
      "12 护肤 https://www.lazada.vn/products/combo-2-chai-sua-tam-chinh-hang-han-quoc-arriver-body-wash-750ml-i247043104-s318763920.html?spm=a2o4n.searchlistcategory.list.15.7d4f40d6MsvhV3&search=1\n",
      "13 护肤 https://www.lazada.vn/products/bo-10-mieng-mat-na-duong-trang-da-collagen-natureby-collagen-essence-mask-sheet-hang-chinh-hang-i143987435-s149197456.html?spm=a2o4n.searchlistcategory.list.5.1d631b73EIf87h&search=1\n",
      "14 护肤 https://www.lazada.vn/products/xit-chong-nang-v7-spray-protective-han-quoc-2in1-i245353920-s314477924.html?spm=a2o4n.searchlistcategory.list.23.1d631b73EIf87h&search=1\n",
      "15 护肤 https://www.lazada.vn/products/kem-tri-nam-tan-nhang-doi-moi-sac-tien-today-8g-i218066833-s273426864.html?spm=a2o4n.searchlistcategory.list.31.1d631b73EIf87h&search=1\n",
      "16 护肤 https://www.lazada.vn/products/serum-tri-nam-tan-nhang-duong-trang-da-ngoc-trai-den-sua-ong-chua-15ml-i200154235-s250171939.html?spm=a2o4n.searchlistcategory.list.27.1d631b73EIf87h&search=1\n",
      "17 护肤 https://www.lazada.vn/products/sua-rua-mat-kbone-trang-da-se-khit-lo-chan-long-50ml-i233474983-s297047036.html?spm=a2o4n.searchlistcategory.list.79.1d631b73EIf87h&search=1\n",
      "18 护肤 https://www.lazada.vn/products/kem-tri-nam-trang-da-tan-nhang-doi-moi-sac-tien-today-15g-i252941500-s337775307.html?spm=a2o4n.searchlistcategory.list.9.92ca1b73SlqifN&search=1\n",
      "19 护肤 https://www.lazada.vn/products/bo-5-chai-tinh-chat-te-bao-goc-tu-dna-trung-ca-hoi-tri-mun-phuc-hoi-da-sau-28-ngay-suiskin-salmon-dn-ampoule-28-days-2ml-x5-i107028085-s108361858.html?spm=a2o4n.searchlistcategory.list.39.61e41b732ZTqsB&search=1\n",
      "20 护肤 https://www.lazada.vn/products/rua-mat-sach-mun-dau-den-st-ives-blackhead-clearing-green-tea-scrub-170g-i102633453-s103183111.html?spm=a2o4n.searchlistcategory.list.79.61e41b732ZTqsB&search=1\n",
      "21 护肤 https://www.lazada.vn/products/bo-5-chai-tinh-chat-te-bao-goc-tu-dna-trung-ca-hoi-tri-mun-phuc-hoi-da-sau-28-ngay-suiskin-salmon-dn-ampoule-28-days-2ml-x5-i107028085-s108361858.html?spm=a2o4n.searchlistcategory.list.39.61e41b732ZTqsB&search=1\n",
      "22 护肤 https://www.lazada.vn/products/set-4-chai-sieu-tinh-chat-duong-trang-va-tai-tao-da-bergamo-luxury-gold-collagen-caviar-13ml-x4-i205308520-s255653122.html?spm=a2o4n.searchlistcategory.list.19.666f1b73S8dkJQ&search=1\n",
      "23 护肤 https://www.lazada.vn/products/nuoc-hoa-hong-some-by-mi-aha-bha-pha-30-days-miracle-toner-150ml-tri-sach-mun-chi-trong-30-ngay-i224683993-s283435807.html?spm=a2o4n.searchlistcategory.list.39.666f1b73S8dkJQ&search=1\n",
      "24 护肤 https://www.lazada.vn/products/nuoc-hoa-hong-khong-con-thayers-lavender-oai-huong-355ml-danh-cho-da-dau-da-co-mun-i151235846-s159246133.html?spm=a2o4n.searchlistcategory.list.53.67341b73uVMkjx&search=1\n",
      "25 护肤 https://www.lazada.vn/products/tinh-chat-vitamin-c-duong-trang-da-tri-mun-lam-mo-vet-tham-by-wishtrend-pure-vitamin-c-215-advanced-serum-30ml-i103927595-s104877284.html?spm=a2o4n.searchlistcategory.list.77.67341b73uVMkjx&search=1\n",
      "26 女装 https://www.lazada.vn/products/ao-thun-nu-tay-ngan-in-hinh-only-you-de-thuong-tiano-tia-037-i121235022-s314415154.html?spm=a2o4n.searchlistcategory.list.1.385d2459yQuSsR&search=1\n",
      "27 女装 https://www.lazada.vn/products/ao-thun-nu-in-hinh-ca-phe-tim-form-rong-han-quoc-vai-day-min-aok905-thoi-trang-everest-i103804738-s147802520.html?spm=a2o4n.searchlistcategory.list.14.385d2459yQuSsR&search=1\n",
      "28 女装 https://www.lazada.vn/products/ao-thun-nu-in-hinh-ca-phe-tim-form-rong-han-quoc-vai-day-min-aok905-thoi-trang-everest-i103804738-s147802520.html?spm=a2o4n.searchlistcategory.list.14.385d2459yQuSsR&search=1\n",
      "29 女装 https://www.lazada.vn/products/quan-kaki-lung-cao-co-dan-du-size-hinh-tu-chup-i216279657-s280800511.html?spm=a2o4n.searchlistcategory.list.45.385d2459yQuSsR&search=1\n",
      "30 女装 https://www.lazada.vn/products/ao-khoac-du-nhe-2-lop-nu-chong-nang-2-soc-tay-w112-cao-cap-hot-nhat-mua-he-2018-hinh-that-video-i218421285-s295203708.html?spm=a2o4n.searchlistcategory.list.50.385d2459yQuSsR&search=1\n",
      "31 女装 https://www.lazada.vn/products/ao-thun-nu-form-rong-tay-lo-ke-ngang-akt01-i266430227-s402916897.html?spm=a2o4n.searchlistcategory.list.53.385d2459yQuSsR&search=1\n",
      "32 女装 https://www.lazada.vn/products/dam-suong-in-hoa-thoi-trang-nu-kt001-i164294718-s303865684.html?spm=a2o4n.searchlistcategory.list.82.385d2459yQuSsR&search=1\n",
      "33 女装 https://www.lazada.vn/products/dam-suong-in-chu-sweet-story-phoi-tay-luoi-i245240860-s314293662.html?spm=a2o4n.searchlistcategory.list.88.385d2459yQuSsR&search=1\n",
      "34 女装 https://www.lazada.vn/products/du-size-ao-thun-form-rong-tay-lo-ao-phong-rong-tay-lo-nam-nu-i265008422-s399374313.html?spm=a2o4n.searchlistcategory.list.93.385d2459yQuSsR&search=1\n",
      "35 女装 https://www.lazada.vn/products/quan-baggy-tay-1-ly-cong-so-chanh-dieu-nu-tinh-vai-tuyet-mua-cao-cap-i252191349-s335407125.html?spm=a2o4n.searchlistcategory.list.99.385d2459yQuSsR&search=1\n",
      "36 女装 https://www.lazada.vn/products/set-bo-quan-ao-thun-lung-thoi-trang-3-size-40-68kg-tuy-chieu-cao-i213824355-s377346362.html?spm=a2o4n.searchlistcategory.list.110.385d2459yQuSsR&search=1\n",
      "37 女装 https://www.lazada.vn/products/ao-thun-nu-phong-cach-han-quoc-ca-tinh-hien-dai-phong-cach-form-rong-vai-day-min-thoi-trang-gmh-mc-i251261136-s332853875.html?spm=a2o4n.searchlistcategory.list.114.385d2459yQuSsR&search=1\n",
      "38 女装 https://www.lazada.vn/products/quan-dui-lung-cao-co-dan-size-dai-s-m-l-xl-xxl-xxxl-xxxxl-thong-tin-size-phia-duoi-i235438164-s353606501.html?spm=a2o4n.searchlistcategory.list.129.385d2459yQuSsR&search=1\n",
      "39 女装 https://www.lazada.vn/products/do-bo-ao-thun-nu-quan-dui-sot-thun-nu-the-thao-o-nha-do-ngu-thoi-trang-han-quoc-moi-bt-fashion-at002-i232443615-s295392496.html?spm=a2o4n.searchlistcategory.list.138.385d2459yQuSsR&search=1\n",
      "40 女装 https://www.lazada.vn/products/chan-vay-dai-phoi-luoi-hai-lop-siu-de-thuong-tts0206-i257203984-s362653330.html?spm=a2o4n.searchlistcategory.list.148.385d2459yQuSsR&search=1\n",
      "41 女装 https://www.lazada.vn/products/quan-jean-nu-den-tron-vai-mem-co-gian-tot-thoang-khi-i250055437-s329925637.html?spm=a2o4n.searchlistcategory.list.162.385d2459yQuSsR&search=1\n",
      "42 女装 https://www.lazada.vn/products/dam-suong-co-tru-tpd-i246112703-s376364097.html?spm=a2o4n.searchlistcategory.list.172.385d2459yQuSsR&search=1\n",
      "43 女装 https://www.lazada.vn/products/set-quan-dui-cuc-xinh-i234860784-s299112031.html?spm=a2o4n.searchlistcategory.list.179.385d2459yQuSsR&search=1\n",
      "44 女装 https://www.lazada.vn/products/ao-khoac-ca-tinh-nam-nu-phoi-han-quoc-m033-erik-i245215190-s314246737.html?spm=a2o4n.searchlistcategory.list.190.385d2459yQuSsR&search=1\n",
      "45 女装 https://www.lazada.vn/products/quan-kaki-basic-pants-unisex-vai-mem-min-sieu-dep-i245434737-s314625420.html?spm=a2o4n.searchlistcategory.list.207.385d2459yQuSsR&search=1\n",
      "46 女装 https://www.lazada.vn/products/dam-dang-xoe-caro-tre-vai-i245449297-s314645161.html?spm=a2o4n.searchlistcategory.list.224.385d2459yQuSsR&search=1\n",
      "47 女装 https://www.lazada.vn/products/dam-xoe-kieu-phoi-tay-luoi-de-thuong-i256295741-s364280528.html?spm=a2o4n.searchlistcategory.list.221.385d2459yQuSsR&search=1\n",
      "48 美妆 https://www.lazada.vn/products/son-li-min-moi-loreal-paris-color-riche-matte-37g-i257714775-s356155063.html?\n",
      "49 美妆 https://www.lazada.vn/products/kem-nen-min-li-tu-nhien-maybelline-new-york-fit-me-matte-poreless-foundation-30ml-i258098806-s357584322.html?spm=a2o4n.searchlistcategory.list.3.756c38768t2hYw&search=1\n",
      "50 美妆 https://www.lazada.vn/products/but-cushion-che-khuyet-diem-giam-quang-tham-maybelline-new-york-instant-age-rewind-concealer-6ml-i258087302-s357510641.html?spm=a2o4n.searchlistcategory.list.5.756c38768t2hYw&search=1\n",
      "51 美妆 https://www.lazada.vn/products/son-kem-li-black-rouge-air-fit-velvet-tint-best-seller-i254265605-s364794429.html?spm=a2o4n.searchlistcategory.list.7.756c38768t2hYw&search=1\n",
      "52 美妆 https://www.lazada.vn/products/son-kem-li-sieu-min-black-rouge-air-fit-velvet-tint-version-2-i257203310-s354672502.html?spm=a2o4n.searchlistcategory.list.11.756c38768t2hYw&search=1\n",
      "53 美妆 https://www.lazada.vn/products/bang-phan-mat-play-color-geo-10-ban-new-i255345960-s348246339.html?spm=a2o4n.searchlistcategory.list.21.756c38768t2hYw&search=1\n",
      "54 美妆 https://www.lazada.vn/products/son-kem-chuan-li-giu-mau-16h-maybelline-new-york-super-stay-matte-ink-5ml-i258092862-s357583165.html?spm=a2o4n.searchlistcategory.list.31.756c38768t2hYw&search=1\n",
      "55 美妆 https://www.lazada.vn/products/gia-re-bang-mau-mat-phan-mat-10-mau-eyeshadow-matte-anh-nhu-lameila-color-play-l0109-i266434295-s386468646.html?spm=a2o4n.searchlistcategory.list.41.756c38768t2hYw&search=1\n",
      "56 美妆 https://www.lazada.vn/products/phan-phu-che-khuyet-kiem-dau-maycreate-i222499565-s280154977.html?spm=a2o4n.searchlistcategory.list.55.756c38768t2hYw&search=1\n",
      "57 美妆 https://www.lazada.vn/products/kem-nen-min-li-tu-nhien-maybelline-fit-me-matte-poreless-foundation-tube-18ml-i259030160-s360081618.html?spm=a2o4n.searchlistcategory.list.71.756c38768t2hYw&search=1\n",
      "58 美妆 https://www.lazada.vn/products/chi-ke-may-drawing-color-geometry-hang-noi-dia-trung-i257686370-s356606560.html?spm=a2o4n.searchlistcategory.list.75.756c38768t2hYw&search=1\n",
      "59 美妆 https://www.lazada.vn/products/kem-che-khuyet-diem-sieu-min-essance-veil-fit-foundation-30ml-i208829322-s259776634.html?spm=a2o4n.searchlistcategory.list.77.756c38768t2hYw&search=1\n",
      "60 美妆 https://www.lazada.vn/products/phan-nuoc-bb-duong-am-maycreate-i221012629-s277873231.html?spm=a2o4n.searchlistcategory.list.7.6c0b3876eh1Bqa&search=1\n",
      "61 美妆 https://www.lazada.vn/products/chi-van-ke-chan-may-ngang-bioaqua-i217104174-s272002614.html?spm=a2o4n.searchlistcategory.list.26.6c0b3876eh1Bqa&search=1\n",
      "62 美妆 https://www.lazada.vn/products/but-ke-mat-nuoc-lameila-khong-tham-nuoc-hang-noi-dia-trung-i253890942-s342406883.html?spm=a2o4n.searchlistcategory.list.33.6c0b3876eh1Bqa&search=1\n",
      "63 美妆 https://www.lazada.vn/products/kem-che-khuyet-diem-maycreate-i221047864-s277898819.html?spm=a2o4n.searchlistcategory.list.45.6c0b3876eh1Bqa&search=1\n",
      "64 美妆 https://www.lazada.vn/products/bang-phan-mat-play-color-eyes-lameila-pc23-i246760360-s317892827.html?spm=a2o4n.searchlistcategory.list.74.6c0b3876eh1Bqa&search=1\n",
      "65 美妆 https://www.lazada.vn/products/mascara-long-may-color-my-brows-hang-noi-dia-trung-1123-i223390728-s281453151.html?spm=a2o4n.searchlistcategory.list.124.6c0b3876eh1Bqa&search=1\n",
      "66 美妆 https://www.lazada.vn/products/chi-ke-may-but-ke-long-may-eybrow-pencil-khong-tham-nuoc-da-nang-du-mau-du-mau-de-lua-chon-mien-phi-van-chuyen-i151203150-s159186473.html?spm=a2o4n.searchlistcategory.list.126.5d283876kaUygS&search=1\n",
      "67 美妆 https://www.lazada.vn/products/ke-mat-nuoc-eyeliner-maycreate-i216263143-s270998286.html?spm=a2o4n.searchlistcategory.list.59.5d283876kaUygS&search=1\n",
      "68 男装 https://www.lazada.vn/products/ao-thun-nam-the-thao-hang-vnxk-vai-day-min-vai-dom-i265780948-s382816264.html?\n",
      "69 男装 https://www.lazada.vn/products/quan-short-kaki-nam-hinh-that-lados-379-i224303724-s295408385.html?\n",
      "70 男装 https://www.lazada.vn/products/ao-thun-nam-in-chu-de-thuong-phong-cach-han-quoc-vai-day-min-aoknam396-thoi-trang-everest-i145827918-s151810973.html?spm=a2o4n.searchlistcategory.list.26.4c3534bdGagnUo&search=1\n",
      "71 男装 https://www.lazada.vn/products/quan-tay-nam-kieu-dang-han-quoc-quan-au-thoi-trang-cong-so-anh-that-100-i265416451-s381928839.html?spm=a2o4n.searchlistcategory.list.35.4c3534bdGagnUo&search=1\n",
      "72 男装 https://www.lazada.vn/products/quan-au-nam-han-quoc-quan-tay-nam-den-dang-om-vai-co-gian-khong-nhan-i246256015-s359826960.html?spm=a2o4n.searchlistcategory.list.59.4c3534bdGagnUo&search=1\n",
      "73 男装 https://www.lazada.vn/products/ao-so-mi-nam-trang-cuc-trang-dai-tay-thuong-hieu-dang-cap-i227491113-s332531173.html?spm=a2o4n.searchlistcategory.list.71.4c3534bdGagnUo&search=1\n",
      "74 男装 https://www.lazada.vn/products/so-mi-mem-min-khong-nhan-kingman-dang-cap-i102635930-s103187546.html?spm=a2o4n.searchlistcategory.list.94.4c3534bdGagnUo&search=1\n",
      "75 男装 https://www.lazada.vn/products/ao-so-mi-nam-vai-lua-chong-nhan-sm1-i207653258-s258188084.html?\n",
      "76 男装 https://www.lazada.vn/products/quan-jean-nam-chat-bo-xam-rach-goi-vach-den-bd539-dubai-fashion-i252690203-s336736276.html?spm=a2o4n.searchlistcategory.list.119.4c3534bdGagnUo&search=1\n",
      "77 男装 https://www.lazada.vn/products/quan-short-nam-quan-coc-nam-phong-cach-han-quoc-sieu-pham-he-2019-i269684260-s396710424.html?spm=a2o4n.searchlistcategory.list.122.4c3534bdGagnUo&search=1\n",
      "78 男装 https://www.lazada.vn/products/ao-thun-nam-polo-hilgor1985-thiet-ke-co-be-phong-cach-nhieu-mau-i259691621-s412674128.html?spm=a2o4n.searchlistcategory.list.164.4c3534bdGagnUo&search=1\n",
      "79 男装 https://www.lazada.vn/products/quan-jogger-origins-nam-tui-hop-phoi-day-cao-cap-chat-sieu-co-gian-thoi-trang-4menhcm-jogger-nam-9000018-i281227000-s440286133.html?spm=a2o4n.searchlistcategory.list.175.4c3534bdGagnUo&search=1\n",
      "80 男装 https://www.lazada.vn/products/quan-jean-nam-chat-bo-rach-wash-db-6056-cao-cap-dubai-fashion-i252366249-s335790155.html?spm=a2o4n.searchlistcategory.list.22.615b34bdbta4Hp&search=1\n",
      "81 男装 https://www.lazada.vn/products/quan-jean-nam-rach-goi-cao-cap-phong-cach-han-quoc-candyfashion-ms166-i209654279-s299796208.html?spm=a2o4n.searchlistcategory.list.65.615b34bdbta4Hp&search=1\n",
      "82 男装 https://www.lazada.vn/products/ao-thun-co-co-w-s-for-thoi-trang-xanh-den-i101506232-s255491626.html?spm=a2o4n.searchlistcategory.list.131.615b34bdbta4Hp&search=1\n",
      "83 男装 https://www.lazada.vn/products/quan-short-ngan-kaki-thoi-trang-nam-quan-short-the-thao-nam-i270156679-s436836662.html?spm=a2o4n.searchlistcategory.list.99.615b34bdbta4Hp&search=1\n",
      "84 男装 https://www.lazada.vn/products/quan-jogger-nam-genanxart-phoi-day-chu-ca-tinh-thoi-trang-4menhcm-jogger-nam-9000012cc-b-i280116611-s437552227.html?spm=a2o4n.searchlistcategory.list.4.2f7434bd6K3SJJ&search=1\n",
      "85 男装 https://www.lazada.vn/products/quan-jean-rach-nam-chat-bo-cao-cap-chuan-men-5679-atsm-shop-xanh-i214058871-s452934140.html?spm=a2o4n.searchlistcategory.list.141.2f7434bd6K3SJJ&search=1\n",
      "86 男装 https://www.lazada.vn/products/ao-thun-nam-trang-in-hinh-de-thuong-phong-cach-han-quoc-vai-day-min-aoknam397-i145835064-s151820421.html?spm=a2o4n.searchlistcategory.list.77.5f0934bdWZXb3v&search=1\n",
      "87 男装 https://www.lazada.vn/products/quan-ni-tron-namquan-ni-the-thao-nam-i245258869-s314319852.html?spm=a2o4n.searchlistcategory.list.98.5f0934bdWZXb3v&search=1\n",
      "88 摩托车修理工具套装 https://www.lazada.vn/products/bo-dung-cu-46-chi-tiet-sua-chua-o-to-xe-may-da-nang-i244601481-s313522258.html?spm=a2o4n.searchlistcategory.list.13.7a881c93IHLWc0&search=1\n",
      "89 超强圆机 https://www.lazada.vn/products/may-mai-mini-cam-tay-sieu-manh-i212209671-s265784395.html?spm=a2o4n.searchlistcategory.list.37.7a881c93IHLWc0&search=1\n",
      "90 剧木床 https://www.lazada.vn/products/may-cua-long-6-toc-do-co-chong-rung-kd02-tang-2-bo-luoi-va-thuoc-cu-co-video-quay-thuc-te-i156014959-s166013737.html?spm=a2o4n.searchlistcategory.list.53.7a881c93IHLWc0&search=1\n",
      "91 吉他 https://www.lazada.vn/products/dan-guitar-acoustic-i250907616-s332178956.html?spm=a2o4n.searchlistcategory.list.132.5776759eqaphS3&search=1\n",
      "92 U克lili https://www.lazada.vn/products/dan-ukulele-soprano-tang-kem-phim-gay-giao-trinh-va-video-day-hoc-dan-phan-phoi-boi-kbd-i158584084-s358271579.html?spm=a2o4n.searchlistcategory.list.166.5776759eqaphS3&search=1\n",
      "93 围巾 https://www.lazada.vn/products/qua-tang-yeu-thuong-khan-choang-dep-vai-sieu-min-i253542292-s340958292.html?spm=a2o4n.searchlistcategory.list.1.276e426fmUvWZE&search=1\n",
      "94 笔 https://www.lazada.vn/products/combo-30-but-muc-nuoc-gel-60-ruot-ngoi-viet-i212567696-s266255281.html?spm=a2o4n.searchlistcategory.list.45.276e426fmUvWZE&search=1\n",
      "95 床垫，毯子 https://www.lazada.vn/products/nem-dem-nhung-sieu-nhe-trai-san-trai-giuong-3-lop-16x2m-nem-dem-nhung-sieu-nhe-trai-san-trai-giuong-3-lop-i247734656-s322723153.html?spm=a2o4n.searchlistcategory.list.79.7a9f1a3dNOkXrl&search=1\n",
      "96 办公椅 https://www.lazada.vn/products/bg-ghe-luoi-chan-xoay-van-phong-mau-bden-i100692119-s100799286.html?spm=a2o4n.searchlistcategory.list.33.7a9f1a3dNOkXrl&search=1\n",
      "97 墙壁贴纸 https://www.lazada.vn/products/10-tam-xop-dan-tuong-3d-gia-gach-boc-dan-chiu-luc-chong-nuoc-chong-am-moc-70x77cm-i246305679-s426108471.html?spm=a2o4n.searchlistcategory.list.7.7e937f03l42Xj8&search=1\n",
      "98 小夜灯 https://www.lazada.vn/products/den-xong-tinh-dau-gom-bat-trang-size-nho-tang-2-chai-tinh-dau-nguyen-chat-5ml-cam-sa-chanh-i245369507-s328371454.html?spm=a2o4n.searchlistcategory.list.1.7e937f03l42Xj8&search=1\n",
      "99 衣柜 https://www.lazada.vn/products/tu-nhua-ghep-da-nang-tam-house-6-ngandu-6-ngan-tang-treo-do-i142732178-s329899014.html?spm=a2o4n.searchlistcategory.list.1.7a9f1a3dNOkXrl&search=1\n",
      "100 竹凉席 https://www.lazada.vn/products/chieu-ngu-chieu-dieu-hoa-1m6x2m-mong-thoang-khi-mat-ruoi-cuc-ki-ben-bi-m168-bh-uy-tin-1-doi-1-boi-smart-buy-i233725627-s297409046.html?spm=a2o4n.searchlistcategory.list.175.71e64a82wav38P&search=1\n",
      "101 电子秤 https://www.lazada.vn/products/can-suc-khoe-gia-dinh-xin-can-dien-tu-co-the-sac-duoc-ko-can-mua-pin-ben-tot-do-chinh-xac-cao-cua-agiadep-i274536531-s420580244.html?spm=a2o4n.searchlistcategory.list.49.f4222f17iIkrM7&search=1\n",
      "102 四件套 https://www.lazada.vn/products/set-ga-goi-cotton-1-ga-boc-va-2-ao-goi-nam-mau-moi-2019-i258175576-s357880551.html?spm=a2o4n.searchlistcategory.list.148.6a4514b6YLlU5b&search=1\n",
      "103 饮水杯 https://www.lazada.vn/products/binh-nuoc-thuy-tinh-hello-master-480ml-i247392031-s321131781.html?spm=a2o4n.searchlistcategory.list.61.52966fe8NXUKXB&search=1\n",
      "104 刀具 https://www.lazada.vn/products/bo-dao-keo-hop-kim-inox-7-mon-da-nang-tang-kem-hop-khay-go-i254014317-s342183374.html?spm=a2o4n.searchlistcategory.list.5.57ec3941TOnWYv&search=1\n",
      "105 煮锅 https://www.lazada.vn/products/hop-com-giu-nhiet-2-4-nganhop-com-giu-nhiet-inox-gia-re-mau-ngau-nhien-i221222416-s278132958.html?spm=a2o4n.searchlistcategory.list.35.52966fe8NXUKXB&search=1\n",
      "106 乳胶枕头 https://www.lazada.vn/products/goi-cao-su-non-chong-ngay-nguoi-lon-cao-cap-i252041369-s334618855.html?spm=a2o4n.searchlistcategory.list.23.609424ddxQOwzG&search=1\n",
      "107 浴巾 https://www.lazada.vn/products/bo-khan-mat-khan-lau-khan-tam-bao-an-store-mau-ngau-nhien-phan-mau-i100245627-s148513075.html?spm=a2o4n.searchlistcategory.list.73.f4222f17iIkrM7&search=1\n",
      "108 手提行李包 https://www.lazada.vn/products/tui-xach-du-lich-laza-tx371-i244646178-s313583912.html?spm=a2o4n.searchlistcategory.list.9.376230782VxYiV&search=1\n",
      "109 拳击沙袋 https://www.lazada.vn/products/tru-dam-boc-30-pro-phien-ban-cai-tien-nhanh-hon-dai-hon-gia-khong-doi-i260342496-s364888632.html?spm=a2o4n.searchlistcategory.list.5.b9381d69htU6eC&search=1\n",
      "110 行李箱 https://www.lazada.vn/products/vali-du-lich-size-20inch-ns8801-gia-re-sieu-ben-sieu-dep-gui-tu-tphcm-hang-co-san-i233075532-s296388747.html?spm=a2o4n.searchlistcategory.list.1.376230782VxYiV&search=1\n",
      "111 健腹滑轮 https://www.lazada.vn/products/con-lan-tap-co-bung-4-banh-cao-cap-kama-ab-rollerdung-cu-tap-the-hinhtap-gymdung-cu-tap-the-luc-dung-cu-tap-co-bung-sau-muicon-lan-tap-co-bung-i246559637-s317053716.html?spm=a2o4n.searchlistcategory.list.1.2603244dkzlkWF&search=1\n",
      "112 瑜伽垫 https://www.lazada.vn/products/tham-tap-yoga-gym-nhap-khau-han-quoc-van-soc-10mm-tang-qua-tui-dung-tham-va-day-buoc-tham-sang-trong-nhieu-mau-i134734176-s136413610.html?spm=a2o4n.searchlistcategory.list.7.2603244dkzlkWF&search=1\n",
      "113 跑步运动衣服+裤子 https://www.lazada.vn/products/bo-the-thao-nam-sieu-thoang-oppose-hot-nhat-2019-i275416918-s423070647.html?spm=a2o4n.searchlistcategory.list.1.31bc72d8AKfXNp&search=1\n",
      "114 帐篷 https://www.lazada.vn/products/leu-cam-trai-chong-tham-nuoc-vai-du-kich-thuoc-200x150x110cm-leu-du-lich-leu-cam-trai-2-nguoi-i259204059-s360999659.html?spm=a2o4n.searchlistcategory.list.9.22c47f95AXHq9y&search=1\n",
      "115 钓鱼线 https://www.lazada.vn/products/day-cuoc-cau-ca-daiwa-justron-cao-cap-500-m-day-cau-ca-sieu-ben-du-size-giao-mau-ngau-nhien-i248911105-s327022815.html?spm=a2o4n.searchlistcategory.list.1.22c47f95AXHq9y&search=1\n",
      "116 跑步鞋 https://www.lazada.vn/products/giay-da-bong-da-banh-san-co-nhan-tao-prowin-du-mau-do-tap-tot-i106693311-s263138654.html?spm=a2o4n.searchlistcategory.list.1.53db2470KatJ6N&search=1\n",
      "117 跑步鞋（女） https://www.lazada.vn/products/giay-sneaker-nu-don-de-dep-vach-song-xem-video-hapli-trang-vach-do-trang-vach-den-i249843077-s446650143.html?\n",
      "118 泳镜 https://www.lazada.vn/products/kinh-boi-can-do-can-tu-15-den-80-cho-nguoi-can-thi-mat-kinh-trang-guong-chong-uv-chong-hap-hoi-khoa-deo-kinh-thong-minh-popo-collection-i260176760-s364575248.html?spm=a2o4n.searchlistcategory.list.1.4bbf3fc1JMt5IT&search=1\n",
      "119 泳帽 https://www.lazada.vn/products/non-boi-mu-boi-trum-tai-chat-lieu-silicone-dan-hoi-thiet-ke-thoi-trang-cao-cap-ca33-popo-collection-i102587385-s147947749.html?spm=a2o4n.searchlistcategory.list.49.4bbf3fc1JMt5IT&search=1\n",
      "120 棒球棍 https://www.lazada.vn/products/gay-danh-bong-chay-hop-kim-sat-cao-cap-bat-i212567567-s266255092.html?spm=a2o4n.searchlistcategory.list.1.7b1461ad6wSLW9&search=1\n",
      "121 棒球手套 https://www.lazada.vn/products/gang-tay-thu-mon-cao-cap-co-size-cho-tre-em-va-nguoi-lon-co-xuong-tro-ngon-do-tap-tot-i243244977-s439244939.html?spm=a2o4n.searchlistcategory.list.3.7b1461ad6wSLW9&search=1\n",
      "122 羽毛球牌 https://www.lazada.vn/products/vot-cau-long-khung-cacbon-tang-cuoc-va-quan-can-co-bao-vot-di-kem-i211149785-s264266961.html?spm=a2o4n.searchlistcategory.list.27.5a7930cdtWUs7F&search=1\n",
      "123 钓鱼竿 https://www.lazada.vn/products/bo-can-cau-gia-re-2m4-kem-maydaybo-phao-luoi-va-phu-kien-i266314249-s385900495.html?spm=a2o4n.searchlistcategory.list.7.25856f28zupDBH&search=1\n",
      "124 手提包 https://www.lazada.vn/products/tui-du-lich-han-quoc-laza-tx367-i155017744-s277168731.html?spm=a2o4n.searchlistcategory.list.16.76833078s7Nx4X&search=1\n",
      "125 足球 https://www.lazada.vn/products/qua-bong-da-3-lop-yono-so-5-banh-da-da-cao-cap-size-5-qua-bong-da-trai-banh-tieu-chuan-thi-dau-tang-kem-kim-bom-va-tui-luoi-i235473819-s300145458.html?spm=a2o4n.searchlistcategory.list.37.560e61adNSMQUb&search=1\n",
      "126 滑板 https://www.lazada.vn/products/duoc-chon-mau-van-truot-cao-cap-4-banh-hoa-tiet-ca-tinh-the-hien-phong-cach-van-truot-skateboard-penny-nhua-pvc-the-thao-sieu-dep-truot-cuc-em-kua-cuc-da-vantruot01-i282684461-s459862889.html?spm=a2o4n.searchlistcategory.list.13.1ca138827ktNkd&search=1\n",
      "127 泳裤 https://www.lazada.vn/products/quan-boi-the-thao-nam-co-lung-881-den-phoi-soc-cheo-ngau-nhien-i205347090-s460028580.html?spm=a2o4n.searchlistcategory.list.11.220138aeoMFI20&search=1\n",
      "128 母婴 https://www.lazada.vn/products/bo-2-doi-giay-chuot-ss0261-hello-bb-i145575532-s151431330.html?spm=a2o4n.searchlistcategory.list.1.6d2f4b93B2y5Q3&search=1\n",
      "129 母婴 https://www.lazada.vn/products/combo-3-bo-bodysuit-hinh-thu-cho-be-khach-chon-be-trai-hoac-gai-shop-giao-mau-ngau-nhien-mihababy-bds_cb_shock-quan-ao-tre-em-do-tre-so-sinh-do-cho-be-cho-tre-cho-be-ao-lien-quan-i265378566-s382062510.html?spm=a2o4n.searchlistcategory.list.158.6d2f4b93Qjctgv&search=1\n",
      "130 母婴 https://www.lazada.vn/products/ao-khoac-tre-em-mau-xanh-chuoi-cho-be-i222991545-s293988766.html?spm=a2o4n.searchlistcategory.list.251.6d2f4b93bWtA82&search=1\n",
      "131 母婴 https://www.lazada.vn/products/set-5-doi-tat-han-vo-han-quoc-i231540899-s434640279.html?spm=a2o4n.searchlistcategory.list.181.6d2f4b93eYgY6u&search=1\n",
      "132 母婴 https://www.lazada.vn/products/mieng-lot-chong-tham-dorabe-2-lop-70x100cm-i104086955-s105070229.html?spm=a2o4n.pdp.recommendation_1.2.2abb470cMf6OPr&mp=1&clickTrackInfo=3b274a9f-d20d-4dc2-9b04-c3c60cd3387e__104086955__10646__trigger2i__124572__0.818__0.80474544__0.0__0.5529089__0.0__1.0047455__1__null__null__null__null__null__null__&scm=1007.16389.126158.0\n",
      "133 母婴 https://www.lazada.vn/products/bo-do-choi-duong-dua-o-to-tau-luon-88-chi-tiet-loai-to-i224246501-s282802220.html?spm=a2o4n.searchlistcategory.list.1.2c785305Xgt48K&search=1\n",
      "134 母婴 https://www.lazada.vn/products/nha-bong-vai-co-lon-120cm-tuy-chon-loai-co-kem-bong-va-khong-kem-bong-kamihome-van-chuyen-i219359569-s331520473.html?spm=a2o4n.searchlistcategory.list.17.7aa647447Ru56k&search=1\n",
      "135 母婴 https://www.lazada.vn/products/bo-do-choi-cat-dong-luc-vi-sinh-tao-hinh-lau-dai-gom-hop-nhua-08kg-cat-be-hoi-du-khuon-kamihome-van-chuyen-i106547368-s107788214.html?spm=a2o4n.searchlistcategory.list.55.7aa64744MUlcpU&search=1\n",
      "136 母婴 https://www.lazada.vn/products/be-tam-3-chi-tiet-cho-be-be-bong-phao-i137045161-s139602937.html?spm=a2o4n.searchlistcategory.list.75.7aa64744O7jTed&search=1\n",
      "137 母婴 https://www.lazada.vn/products/bo-nem-goi-so-sinh-kim-homecho-em-be-tu-0-2-tuoi-i141067171-s147887467.html?spm=a2o4n.searchlistcategory.list.1.7b086103QXVmjR&search=1\n",
      "138 母婴 https://www.lazada.vn/products/bo-man-ngu-dem-chong-muoi-danh-cho-be-co-nhac-i141489014-s302262973.html?spm=a2o4n.searchlistcategory.list.35.7b086103s9feeN&search=1\n",
      "139 母婴 https://www.lazada.vn/products/lay-rai-tai-lam-sao-de-lay-ray-tai-kho-bo-dung-cu-lay-ray-tai-co-den-led-sieu-sang-cao-cap-danh-cho-be-yeu-dung-cu-khong-the-thieu-cho-moi-gia-dinh-i259676769-s362837120.html?spm=a2o4n.searchlistcategory.list.1.5fcc3efeljlDUl&search=1\n",
      "140 母婴 https://www.lazada.vn/products/loai-moi-co-tang-thu-treo-va-thanh-treo-ghe-nhun-tao-rung-cho-be-yeu-mbphung100-i245823668-s364025023.html?spm=a2o4n.searchlistcategory.list.11.55da175fjTiyYb&search=1\n",
      "141 母婴 https://www.lazada.vn/products/chuan-bi-sinh-em-be-can-sam-nhung-gi-diu-tre-em-da-nang-sb298-dai-dieu-em-be-do-so-sinh-an-toan-cho-be-yeu-hang-viet-nam-chat-luong-cao-i266364128-s386156295.html?spm=a2o4n.searchlistcategory.list.21.55da175fwMnbVz&search=1\n",
      "142 母婴 https://www.lazada.vn/products/tang-mien-phi-1-yem-tham-nam-co-nhac-piano-cho-be-tu-0-12-thang-tuoi-i252209322-s335402382.html?spm=a2o4n.searchlistcategory.list.5.7fc4590fISjfNi&search=1\n",
      "143 母婴 https://www.lazada.vn/products/tham-nam-choi-co-nhac-cho-be-babybe-gau-om-mat-trang-i207115091-s337965605.html?spm=a2o4n.searchlistcategory.list.15.7fc4590fPMA2gE&search=1\n",
      "144 母婴 https://www.lazada.vn/products/bo-40-mieng-tham-xop-mem-lot-san-ghep-chu-cai-so-va-phep-tinh-cho-be-i106042082-s107180272.html?spm=a2o4n.searchlistcategory.list.39.7fc4590fl34hKU&search=1\n",
      "145 母婴 https://www.lazada.vn/products/bo-8-mon-do-choi-nha-tam-phat-tieng-keu-cho-be-i219767269-s275979195.html?spm=a2o4n.searchlistcategory.list.63.7fc4590fyHuIh0&search=1\n",
      "146 母婴 https://www.lazada.vn/products/chieu-ngu-van-phong-gap-gon-loai-1-i101141611-s101323411.html?spm=a2o4n.pdp.0.0.7e91385c897EiI\n",
      "147 母婴 https://www.lazada.vn/products/thu-nhun-emoji-con-lac-lo-xo-con-nhun-i279138931-s435184914.html?spm=a2o4n.searchlistcategory.list.1.269e49deAbJgex&search=1\n",
      "148 3C https://www.lazada.vn/products/op-lung-deo-gau-kem-02-day-ngan-va-dai-iphone-6-6plus-7-7plus-8-8plus-x-xs-xsmax-i245617874-s315013345.html?spm=a2o4n.searchlistcategory.list.5.31a85f36k57fzU&search=1\n",
      "149 3C https://www.lazada.vn/products/combo-bao-da-ban-phim-kem-chuot-lot-chuot-cho-dien-thoai-may-tinh-bang-tu-45-8-inch-i235374442-s299894702.html?spm=a2o4n.searchlistcategory.list.9.31a85f36k57fzU&search=1\n",
      "150 3C https://www.lazada.vn/products/11-mau-op-lung-dung-cho-xiaomi-redmi-note-5-note-5-pro-hinh-3d-new-nhua-tpu-deo-kem-day-iring-i212408278-s266047220.html?spm=a2o4n.searchlistcategory.list.53.31a85f36k57fzU&search=1\n",
      "151 3C https://www.lazada.vn/products/chuot-game-thu-detek-divipad-gearlord-g502-co-den-led-doi-mau-cuc-dep-i190420071-s200443781.html?spm=a2o4n.searchlistcategory.list.1.73d2562fhk6mfa&search=1\n",
      "152 3C https://www.lazada.vn/products/chuot-choi-game-co-day-den-milang-tang-ban-di-chuot-i245489366-s314738122.html?spm=a2o4n.searchlistcategory.list.3.73d2562fhk6mfa&search=1\n",
      "153 3C https://www.lazada.vn/products/kinh-cuong-luc-10d-cho-iphone-6plus6splus66s7-8-7plus-8plus-x-xs-xsmax-trang-sieu-ben-i276346806-s425928695.html?spm=a2o4n.searchlistcategory.list.1.67027a04SAbiJa&search=1\n",
      "154 3C https://www.lazada.vn/products/bao-da-silicone-deo-pkcb-smart-cover-danh-cho-ipad-mini-123-ipad-mini-4-ipad-mini-5-ipad-air-ipad-air-2-ipad-air-3-105-inch-2019-ipad-new-2017-ipad-pro-97-ipad-234-ipad-pro-105-i207149845-s436938170.html?spm=a2o4n.searchlistcategory.list.1.3b957f72xfILKk&search=1\n",
      "155 3C https://www.lazada.vn/products/tai-nghe-chuyen-game-gnet-h99-co-mic-i103058756-s103758846.html?spm=a2o4n.searchlistcategory.list.1.17fd3713EMWZb7&search=1\n",
      "156 3C https://www.lazada.vn/products/loa-nghe-nhac-dien-thoai-may-tinh-tivi-vi-tinh-bass-treb-pkcb-301-3-trong-1-nghe-nhac-pf7-i238629570-s304501304.html?spm=a2o4n.searchlistcategory.list.9.17fd37137t7xkU&search=1\n",
      "157 3C https://www.lazada.vn/products/bo-dong-ho-thong-minh-dz09-tang-viet-cam-ung-i136090099-s138253249.html?spm=a2o4n.searchlistcategory.list.11.dec63c44AYVzDB&search=1\n",
      "158 3C https://www.lazada.vn/products/vong-tay-thong-minh-xiaomi-miband-3-i219684024-s275856014.html?spm=a2o4n.searchlistcategory.list.4.18001d5dcJeaON&search=1\n",
      "159 3C https://www.lazada.vn/products/pin-cho-dong-ho-thong-minh-dz09-apwatch-a1-a8l-gm08-i138902848-s142088956.html?spm=a2o4n.searchlistcategory.list.20.3eeb10aaVqH9lS&search=1\n",
      "160 3C https://www.lazada.vn/products/kinh-3d-phong-dai-hinh-anh-cho-dien-thoai-enlarged-screen-den-i746094-s930564.html?spm=a2o4n.searchlistcategory.list.37.630128a5PZgnBt&search=1\n",
      "161 3C https://www.lazada.vn/products/bo-2-bo-dam-baofeng-888s-tang-2-tai-nghe-bo-dam-i100037669-s100050309.html?spm=a2o4n.searchlistcategory.list.13.203c433aYlpu9l&search=1\n",
      "162 3C https://www.lazada.vn/products/bo-cu-sac-xiaomi-5v-2a-va-cap-sac-xiaomi-den-hang-nhap-khau-i103359006-s263140952.html?spm=a2o4n.searchlistcategory.list.3.ab136fedb9gZVX&search=1\n",
      "163 3C https://www.lazada.vn/products/de-sac-nhanh-khong-day-danh-cho-samsung-s5-s6-s6engh-s7-s7engh-s8-s8s9ipx-ip8-ip8-i206323311-s307578010.html?spm=a2o4n.searchlistcategory.list.25.1a1757aa3ydTz7&search=1\n",
      "164 3C https://www.lazada.vn/products/sac-anker-powerport-2-lite-2-cong-poweriq-12w-hang-phan-phoi-chinh-thuc-i136117182-s138288246.html?spm=a2o4n.searchlistcategory.list.33.ab136fedb9gZVX&search=1\n",
      "165 3C https://www.lazada.vn/products/bo-tripod-chan-chup-anh-1020mm-va-gia-do-dien-thoai-xam-bac-i102240659-s102691261.html?spm=a2o4n.searchlistcategory.list.11.7243b93aMBB93C&search=1\n",
      "166 3C https://www.lazada.vn/products/gimbal-cam-tay-chong-rung-cho-dien-thoai-zhiyun-smooth-4-i223452452-s281530704.html?spm=a2o4n.searchlistcategory.list.9.45783d27JQzBa1&search=1\n",
      "167 3C https://www.lazada.vn/products/loai-tot-gay-chup-hinh-tripod-3120-tang-kem-1-remote-chup-hinh-tripod-bach-tuot-1-ga-kep-dien-thoai-i239812246-s306358027.html?spm=a2o4n.searchlistcategory.list.17.7243b93aMBB93C&search=1\n"
     ]
    }
   ],
   "source": [
    "import xlrd\n",
    "\n",
    "filename = 'lazada爬虫.xls'\n",
    "\n",
    "data=xlrd.open_workbook(filename)  # 打开表格\n",
    "sheets = data.nsheets # 获取表格sheet个数\n",
    "sheets_name = data.sheet_names() #每个sheets名字\n",
    "\n",
    "# 每个sheet的信息，行列总数，比如第一个sheet\n",
    "sheet_info = data.sheet_by_index(0) \n",
    "sheet__rows = sheet_info.nrows  # 行数\n",
    "sheet__clos = sheet_info.ncols  # 列数\n",
    "sheet_row = sheet_info.row(0) # 第一行对象\n",
    "sheet_rowvalue = sheet_info.row_values(0) # 第一行数据\n",
    "\n",
    "# print(sheets,sheets_name,sheet__rows,sheet__clos,sheet_content,sheet_rowvalue)\n",
    "\n",
    "# # 获取第一个sheet中第二列所有的数据\n",
    "# for n in range(sheet__rows):\n",
    "#     print(sheet_info.row_values(n)[1])\n",
    "    \n",
    "    \n",
    "# 获取所有sheet中第二列所有的数据\n",
    "sheets = data.nsheets # 获取表格sheet个数\n",
    "num = 0\n",
    "for i in range(sheets):  \n",
    "    sheet_info = data.sheet_by_index(i) # 获取每个sheet信息\n",
    "    sheet_rows = sheet_info.nrows  # 获取每个sheet行数\n",
    "    for n in range(sheet_rows): \n",
    "        num += 1\n",
    "        print(num,sheet_info.row_values(n)[0],sheet_info.row_values(n)[1]) # 获取每个sheet中第二列所有的数据"
   ]
  },
  {
   "cell_type": "code",
   "execution_count": 35,
   "metadata": {},
   "outputs": [
    {
     "name": "stdout",
     "output_type": "stream",
     "text": [
      "['https://www.lazada.vn/products/xit-chong-nang-bao-ve-da-khong-troi-cao-cap-maycreate-spf35-150ml-hang-chinh-hang-i277018666-s428846030.html?spm=a2o4n.searchlistcategory.list.1.38501b735Q8kcy&search=1', 'https://www.lazada.vn/products/mat-na-sui-bot-thai-doc-da-detox-blanc-i264682947-s379626056.html?spm=a2o4n.searchlistcategory.list.7.38501b735Q8kcy&search=1', 'https://www.lazada.vn/products/kem-zoley-xanh-tri-mun-vet-tham-duong-trang-10g-chinh-hang-i227351024-s287995481.html?spm=a2o4n.searchlistcategory.list.13.38501b735Q8kcy&search=1', 'https://www.lazada.vn/products/kem-chong-nang-eliza-helena-uv50-thai-lan-i170100934-s186046352.html?spm=a2o4n.searchlistcategory.list.25.38501b735Q8kcy&search=1', 'https://www.lazada.vn/products/mat-na-duong-trang-da-bo-natureby-han-quoc-1-bich-10-chiec-i225177048-s284150288.html?spm=a2o4n.searchlistcategory.list.33.38501b735Q8kcy&search=1', 'https://www.lazada.vn/products/combo-sua-tam-rose-hoa-hong-500ml-va-sua-duong-the-rose-hoa-hong-250ml-nhan-hieu-lamont-en-provence-i244678699-s313673710.html?spm=a2o4n.searchlistcategory.list.1.4a2540d6wtSZHq&search=1', 'https://www.lazada.vn/products/tay-te-bao-chet-body-gel-gold-whitening-350ml-i203228985-s253529024.html?spm=a2o4n.searchlistcategory.list.19.4a2540d6wtSZHq&search=1', 'https://www.lazada.vn/products/kem-massage-tan-mo-gung-ot-ngan-binh-150g-tang-1-thuoc-day-i191061597-s201117310.html?spm=a2o4n.searchlistcategory.list.55.4a2540d6wtSZHq&search=1', 'https://www.lazada.vn/products/trang-da-bat-tone-khong-lo-ve-gia-kem-duong-da-toan-than-white-body-i244010387-s312574967.html?spm=a2o4n.searchlistcategory.list.57.4a2540d6wtSZHq&search=1', 'https://www.lazada.vn/products/gel-lot-mat-na-l-glutathione-han-quoc-net220ml-i221405759-s278417303.html?spm=a2o4n.searchlistcategory.list.29.1b5e40d64vmgcK&search=1', 'https://www.lazada.vn/products/sac-tien-today-tay-te-bao-chet-120ml-i218066806-s273426835.html?spm=a2o4n.searchlistcategory.list.77.1b5e40d64vmgcK&search=1', 'https://www.lazada.vn/products/combo-2-chai-sua-tam-chinh-hang-han-quoc-arriver-body-wash-750ml-i247043104-s318763920.html?spm=a2o4n.searchlistcategory.list.15.7d4f40d6MsvhV3&search=1', 'https://www.lazada.vn/products/bo-10-mieng-mat-na-duong-trang-da-collagen-natureby-collagen-essence-mask-sheet-hang-chinh-hang-i143987435-s149197456.html?spm=a2o4n.searchlistcategory.list.5.1d631b73EIf87h&search=1', 'https://www.lazada.vn/products/xit-chong-nang-v7-spray-protective-han-quoc-2in1-i245353920-s314477924.html?spm=a2o4n.searchlistcategory.list.23.1d631b73EIf87h&search=1', 'https://www.lazada.vn/products/kem-tri-nam-tan-nhang-doi-moi-sac-tien-today-8g-i218066833-s273426864.html?spm=a2o4n.searchlistcategory.list.31.1d631b73EIf87h&search=1', 'https://www.lazada.vn/products/serum-tri-nam-tan-nhang-duong-trang-da-ngoc-trai-den-sua-ong-chua-15ml-i200154235-s250171939.html?spm=a2o4n.searchlistcategory.list.27.1d631b73EIf87h&search=1', 'https://www.lazada.vn/products/sua-rua-mat-kbone-trang-da-se-khit-lo-chan-long-50ml-i233474983-s297047036.html?spm=a2o4n.searchlistcategory.list.79.1d631b73EIf87h&search=1', 'https://www.lazada.vn/products/kem-tri-nam-trang-da-tan-nhang-doi-moi-sac-tien-today-15g-i252941500-s337775307.html?spm=a2o4n.searchlistcategory.list.9.92ca1b73SlqifN&search=1', 'https://www.lazada.vn/products/bo-5-chai-tinh-chat-te-bao-goc-tu-dna-trung-ca-hoi-tri-mun-phuc-hoi-da-sau-28-ngay-suiskin-salmon-dn-ampoule-28-days-2ml-x5-i107028085-s108361858.html?spm=a2o4n.searchlistcategory.list.39.61e41b732ZTqsB&search=1', 'https://www.lazada.vn/products/rua-mat-sach-mun-dau-den-st-ives-blackhead-clearing-green-tea-scrub-170g-i102633453-s103183111.html?spm=a2o4n.searchlistcategory.list.79.61e41b732ZTqsB&search=1', 'https://www.lazada.vn/products/bo-5-chai-tinh-chat-te-bao-goc-tu-dna-trung-ca-hoi-tri-mun-phuc-hoi-da-sau-28-ngay-suiskin-salmon-dn-ampoule-28-days-2ml-x5-i107028085-s108361858.html?spm=a2o4n.searchlistcategory.list.39.61e41b732ZTqsB&search=1', 'https://www.lazada.vn/products/set-4-chai-sieu-tinh-chat-duong-trang-va-tai-tao-da-bergamo-luxury-gold-collagen-caviar-13ml-x4-i205308520-s255653122.html?spm=a2o4n.searchlistcategory.list.19.666f1b73S8dkJQ&search=1', 'https://www.lazada.vn/products/nuoc-hoa-hong-some-by-mi-aha-bha-pha-30-days-miracle-toner-150ml-tri-sach-mun-chi-trong-30-ngay-i224683993-s283435807.html?spm=a2o4n.searchlistcategory.list.39.666f1b73S8dkJQ&search=1', 'https://www.lazada.vn/products/nuoc-hoa-hong-khong-con-thayers-lavender-oai-huong-355ml-danh-cho-da-dau-da-co-mun-i151235846-s159246133.html?spm=a2o4n.searchlistcategory.list.53.67341b73uVMkjx&search=1', 'https://www.lazada.vn/products/tinh-chat-vitamin-c-duong-trang-da-tri-mun-lam-mo-vet-tham-by-wishtrend-pure-vitamin-c-215-advanced-serum-30ml-i103927595-s104877284.html?spm=a2o4n.searchlistcategory.list.77.67341b73uVMkjx&search=1', 'https://www.lazada.vn/products/ao-thun-nu-tay-ngan-in-hinh-only-you-de-thuong-tiano-tia-037-i121235022-s314415154.html?spm=a2o4n.searchlistcategory.list.1.385d2459yQuSsR&search=1', 'https://www.lazada.vn/products/ao-thun-nu-in-hinh-ca-phe-tim-form-rong-han-quoc-vai-day-min-aok905-thoi-trang-everest-i103804738-s147802520.html?spm=a2o4n.searchlistcategory.list.14.385d2459yQuSsR&search=1', 'https://www.lazada.vn/products/ao-thun-nu-in-hinh-ca-phe-tim-form-rong-han-quoc-vai-day-min-aok905-thoi-trang-everest-i103804738-s147802520.html?spm=a2o4n.searchlistcategory.list.14.385d2459yQuSsR&search=1', 'https://www.lazada.vn/products/quan-kaki-lung-cao-co-dan-du-size-hinh-tu-chup-i216279657-s280800511.html?spm=a2o4n.searchlistcategory.list.45.385d2459yQuSsR&search=1', 'https://www.lazada.vn/products/ao-khoac-du-nhe-2-lop-nu-chong-nang-2-soc-tay-w112-cao-cap-hot-nhat-mua-he-2018-hinh-that-video-i218421285-s295203708.html?spm=a2o4n.searchlistcategory.list.50.385d2459yQuSsR&search=1', 'https://www.lazada.vn/products/ao-thun-nu-form-rong-tay-lo-ke-ngang-akt01-i266430227-s402916897.html?spm=a2o4n.searchlistcategory.list.53.385d2459yQuSsR&search=1', 'https://www.lazada.vn/products/dam-suong-in-hoa-thoi-trang-nu-kt001-i164294718-s303865684.html?spm=a2o4n.searchlistcategory.list.82.385d2459yQuSsR&search=1', 'https://www.lazada.vn/products/dam-suong-in-chu-sweet-story-phoi-tay-luoi-i245240860-s314293662.html?spm=a2o4n.searchlistcategory.list.88.385d2459yQuSsR&search=1', 'https://www.lazada.vn/products/du-size-ao-thun-form-rong-tay-lo-ao-phong-rong-tay-lo-nam-nu-i265008422-s399374313.html?spm=a2o4n.searchlistcategory.list.93.385d2459yQuSsR&search=1', 'https://www.lazada.vn/products/quan-baggy-tay-1-ly-cong-so-chanh-dieu-nu-tinh-vai-tuyet-mua-cao-cap-i252191349-s335407125.html?spm=a2o4n.searchlistcategory.list.99.385d2459yQuSsR&search=1', 'https://www.lazada.vn/products/set-bo-quan-ao-thun-lung-thoi-trang-3-size-40-68kg-tuy-chieu-cao-i213824355-s377346362.html?spm=a2o4n.searchlistcategory.list.110.385d2459yQuSsR&search=1', 'https://www.lazada.vn/products/ao-thun-nu-phong-cach-han-quoc-ca-tinh-hien-dai-phong-cach-form-rong-vai-day-min-thoi-trang-gmh-mc-i251261136-s332853875.html?spm=a2o4n.searchlistcategory.list.114.385d2459yQuSsR&search=1', 'https://www.lazada.vn/products/quan-dui-lung-cao-co-dan-size-dai-s-m-l-xl-xxl-xxxl-xxxxl-thong-tin-size-phia-duoi-i235438164-s353606501.html?spm=a2o4n.searchlistcategory.list.129.385d2459yQuSsR&search=1', 'https://www.lazada.vn/products/do-bo-ao-thun-nu-quan-dui-sot-thun-nu-the-thao-o-nha-do-ngu-thoi-trang-han-quoc-moi-bt-fashion-at002-i232443615-s295392496.html?spm=a2o4n.searchlistcategory.list.138.385d2459yQuSsR&search=1', 'https://www.lazada.vn/products/chan-vay-dai-phoi-luoi-hai-lop-siu-de-thuong-tts0206-i257203984-s362653330.html?spm=a2o4n.searchlistcategory.list.148.385d2459yQuSsR&search=1', 'https://www.lazada.vn/products/quan-jean-nu-den-tron-vai-mem-co-gian-tot-thoang-khi-i250055437-s329925637.html?spm=a2o4n.searchlistcategory.list.162.385d2459yQuSsR&search=1', 'https://www.lazada.vn/products/dam-suong-co-tru-tpd-i246112703-s376364097.html?spm=a2o4n.searchlistcategory.list.172.385d2459yQuSsR&search=1', 'https://www.lazada.vn/products/set-quan-dui-cuc-xinh-i234860784-s299112031.html?spm=a2o4n.searchlistcategory.list.179.385d2459yQuSsR&search=1', 'https://www.lazada.vn/products/ao-khoac-ca-tinh-nam-nu-phoi-han-quoc-m033-erik-i245215190-s314246737.html?spm=a2o4n.searchlistcategory.list.190.385d2459yQuSsR&search=1', 'https://www.lazada.vn/products/quan-kaki-basic-pants-unisex-vai-mem-min-sieu-dep-i245434737-s314625420.html?spm=a2o4n.searchlistcategory.list.207.385d2459yQuSsR&search=1', 'https://www.lazada.vn/products/dam-dang-xoe-caro-tre-vai-i245449297-s314645161.html?spm=a2o4n.searchlistcategory.list.224.385d2459yQuSsR&search=1', 'https://www.lazada.vn/products/dam-xoe-kieu-phoi-tay-luoi-de-thuong-i256295741-s364280528.html?spm=a2o4n.searchlistcategory.list.221.385d2459yQuSsR&search=1', 'https://www.lazada.vn/products/son-li-min-moi-loreal-paris-color-riche-matte-37g-i257714775-s356155063.html?', 'https://www.lazada.vn/products/kem-nen-min-li-tu-nhien-maybelline-new-york-fit-me-matte-poreless-foundation-30ml-i258098806-s357584322.html?spm=a2o4n.searchlistcategory.list.3.756c38768t2hYw&search=1', 'https://www.lazada.vn/products/but-cushion-che-khuyet-diem-giam-quang-tham-maybelline-new-york-instant-age-rewind-concealer-6ml-i258087302-s357510641.html?spm=a2o4n.searchlistcategory.list.5.756c38768t2hYw&search=1', 'https://www.lazada.vn/products/son-kem-li-black-rouge-air-fit-velvet-tint-best-seller-i254265605-s364794429.html?spm=a2o4n.searchlistcategory.list.7.756c38768t2hYw&search=1', 'https://www.lazada.vn/products/son-kem-li-sieu-min-black-rouge-air-fit-velvet-tint-version-2-i257203310-s354672502.html?spm=a2o4n.searchlistcategory.list.11.756c38768t2hYw&search=1', 'https://www.lazada.vn/products/bang-phan-mat-play-color-geo-10-ban-new-i255345960-s348246339.html?spm=a2o4n.searchlistcategory.list.21.756c38768t2hYw&search=1', 'https://www.lazada.vn/products/son-kem-chuan-li-giu-mau-16h-maybelline-new-york-super-stay-matte-ink-5ml-i258092862-s357583165.html?spm=a2o4n.searchlistcategory.list.31.756c38768t2hYw&search=1', 'https://www.lazada.vn/products/gia-re-bang-mau-mat-phan-mat-10-mau-eyeshadow-matte-anh-nhu-lameila-color-play-l0109-i266434295-s386468646.html?spm=a2o4n.searchlistcategory.list.41.756c38768t2hYw&search=1', 'https://www.lazada.vn/products/phan-phu-che-khuyet-kiem-dau-maycreate-i222499565-s280154977.html?spm=a2o4n.searchlistcategory.list.55.756c38768t2hYw&search=1', 'https://www.lazada.vn/products/kem-nen-min-li-tu-nhien-maybelline-fit-me-matte-poreless-foundation-tube-18ml-i259030160-s360081618.html?spm=a2o4n.searchlistcategory.list.71.756c38768t2hYw&search=1', 'https://www.lazada.vn/products/chi-ke-may-drawing-color-geometry-hang-noi-dia-trung-i257686370-s356606560.html?spm=a2o4n.searchlistcategory.list.75.756c38768t2hYw&search=1', 'https://www.lazada.vn/products/kem-che-khuyet-diem-sieu-min-essance-veil-fit-foundation-30ml-i208829322-s259776634.html?spm=a2o4n.searchlistcategory.list.77.756c38768t2hYw&search=1', 'https://www.lazada.vn/products/phan-nuoc-bb-duong-am-maycreate-i221012629-s277873231.html?spm=a2o4n.searchlistcategory.list.7.6c0b3876eh1Bqa&search=1', 'https://www.lazada.vn/products/chi-van-ke-chan-may-ngang-bioaqua-i217104174-s272002614.html?spm=a2o4n.searchlistcategory.list.26.6c0b3876eh1Bqa&search=1', 'https://www.lazada.vn/products/but-ke-mat-nuoc-lameila-khong-tham-nuoc-hang-noi-dia-trung-i253890942-s342406883.html?spm=a2o4n.searchlistcategory.list.33.6c0b3876eh1Bqa&search=1', 'https://www.lazada.vn/products/kem-che-khuyet-diem-maycreate-i221047864-s277898819.html?spm=a2o4n.searchlistcategory.list.45.6c0b3876eh1Bqa&search=1', 'https://www.lazada.vn/products/bang-phan-mat-play-color-eyes-lameila-pc23-i246760360-s317892827.html?spm=a2o4n.searchlistcategory.list.74.6c0b3876eh1Bqa&search=1', 'https://www.lazada.vn/products/mascara-long-may-color-my-brows-hang-noi-dia-trung-1123-i223390728-s281453151.html?spm=a2o4n.searchlistcategory.list.124.6c0b3876eh1Bqa&search=1', 'https://www.lazada.vn/products/chi-ke-may-but-ke-long-may-eybrow-pencil-khong-tham-nuoc-da-nang-du-mau-du-mau-de-lua-chon-mien-phi-van-chuyen-i151203150-s159186473.html?spm=a2o4n.searchlistcategory.list.126.5d283876kaUygS&search=1', 'https://www.lazada.vn/products/ke-mat-nuoc-eyeliner-maycreate-i216263143-s270998286.html?spm=a2o4n.searchlistcategory.list.59.5d283876kaUygS&search=1', 'https://www.lazada.vn/products/ao-thun-nam-the-thao-hang-vnxk-vai-day-min-vai-dom-i265780948-s382816264.html?', 'https://www.lazada.vn/products/quan-short-kaki-nam-hinh-that-lados-379-i224303724-s295408385.html?', 'https://www.lazada.vn/products/ao-thun-nam-in-chu-de-thuong-phong-cach-han-quoc-vai-day-min-aoknam396-thoi-trang-everest-i145827918-s151810973.html?spm=a2o4n.searchlistcategory.list.26.4c3534bdGagnUo&search=1', 'https://www.lazada.vn/products/quan-tay-nam-kieu-dang-han-quoc-quan-au-thoi-trang-cong-so-anh-that-100-i265416451-s381928839.html?spm=a2o4n.searchlistcategory.list.35.4c3534bdGagnUo&search=1', 'https://www.lazada.vn/products/quan-au-nam-han-quoc-quan-tay-nam-den-dang-om-vai-co-gian-khong-nhan-i246256015-s359826960.html?spm=a2o4n.searchlistcategory.list.59.4c3534bdGagnUo&search=1', 'https://www.lazada.vn/products/ao-so-mi-nam-trang-cuc-trang-dai-tay-thuong-hieu-dang-cap-i227491113-s332531173.html?spm=a2o4n.searchlistcategory.list.71.4c3534bdGagnUo&search=1', 'https://www.lazada.vn/products/so-mi-mem-min-khong-nhan-kingman-dang-cap-i102635930-s103187546.html?spm=a2o4n.searchlistcategory.list.94.4c3534bdGagnUo&search=1', 'https://www.lazada.vn/products/ao-so-mi-nam-vai-lua-chong-nhan-sm1-i207653258-s258188084.html?', 'https://www.lazada.vn/products/quan-jean-nam-chat-bo-xam-rach-goi-vach-den-bd539-dubai-fashion-i252690203-s336736276.html?spm=a2o4n.searchlistcategory.list.119.4c3534bdGagnUo&search=1', 'https://www.lazada.vn/products/quan-short-nam-quan-coc-nam-phong-cach-han-quoc-sieu-pham-he-2019-i269684260-s396710424.html?spm=a2o4n.searchlistcategory.list.122.4c3534bdGagnUo&search=1', 'https://www.lazada.vn/products/ao-thun-nam-polo-hilgor1985-thiet-ke-co-be-phong-cach-nhieu-mau-i259691621-s412674128.html?spm=a2o4n.searchlistcategory.list.164.4c3534bdGagnUo&search=1', 'https://www.lazada.vn/products/quan-jogger-origins-nam-tui-hop-phoi-day-cao-cap-chat-sieu-co-gian-thoi-trang-4menhcm-jogger-nam-9000018-i281227000-s440286133.html?spm=a2o4n.searchlistcategory.list.175.4c3534bdGagnUo&search=1', 'https://www.lazada.vn/products/quan-jean-nam-chat-bo-rach-wash-db-6056-cao-cap-dubai-fashion-i252366249-s335790155.html?spm=a2o4n.searchlistcategory.list.22.615b34bdbta4Hp&search=1', 'https://www.lazada.vn/products/quan-jean-nam-rach-goi-cao-cap-phong-cach-han-quoc-candyfashion-ms166-i209654279-s299796208.html?spm=a2o4n.searchlistcategory.list.65.615b34bdbta4Hp&search=1', 'https://www.lazada.vn/products/ao-thun-co-co-w-s-for-thoi-trang-xanh-den-i101506232-s255491626.html?spm=a2o4n.searchlistcategory.list.131.615b34bdbta4Hp&search=1', 'https://www.lazada.vn/products/quan-short-ngan-kaki-thoi-trang-nam-quan-short-the-thao-nam-i270156679-s436836662.html?spm=a2o4n.searchlistcategory.list.99.615b34bdbta4Hp&search=1', 'https://www.lazada.vn/products/quan-jogger-nam-genanxart-phoi-day-chu-ca-tinh-thoi-trang-4menhcm-jogger-nam-9000012cc-b-i280116611-s437552227.html?spm=a2o4n.searchlistcategory.list.4.2f7434bd6K3SJJ&search=1', 'https://www.lazada.vn/products/quan-jean-rach-nam-chat-bo-cao-cap-chuan-men-5679-atsm-shop-xanh-i214058871-s452934140.html?spm=a2o4n.searchlistcategory.list.141.2f7434bd6K3SJJ&search=1', 'https://www.lazada.vn/products/ao-thun-nam-trang-in-hinh-de-thuong-phong-cach-han-quoc-vai-day-min-aoknam397-i145835064-s151820421.html?spm=a2o4n.searchlistcategory.list.77.5f0934bdWZXb3v&search=1', 'https://www.lazada.vn/products/quan-ni-tron-namquan-ni-the-thao-nam-i245258869-s314319852.html?spm=a2o4n.searchlistcategory.list.98.5f0934bdWZXb3v&search=1', 'https://www.lazada.vn/products/bo-dung-cu-46-chi-tiet-sua-chua-o-to-xe-may-da-nang-i244601481-s313522258.html?spm=a2o4n.searchlistcategory.list.13.7a881c93IHLWc0&search=1', 'https://www.lazada.vn/products/may-mai-mini-cam-tay-sieu-manh-i212209671-s265784395.html?spm=a2o4n.searchlistcategory.list.37.7a881c93IHLWc0&search=1', 'https://www.lazada.vn/products/may-cua-long-6-toc-do-co-chong-rung-kd02-tang-2-bo-luoi-va-thuoc-cu-co-video-quay-thuc-te-i156014959-s166013737.html?spm=a2o4n.searchlistcategory.list.53.7a881c93IHLWc0&search=1', 'https://www.lazada.vn/products/dan-guitar-acoustic-i250907616-s332178956.html?spm=a2o4n.searchlistcategory.list.132.5776759eqaphS3&search=1', 'https://www.lazada.vn/products/dan-ukulele-soprano-tang-kem-phim-gay-giao-trinh-va-video-day-hoc-dan-phan-phoi-boi-kbd-i158584084-s358271579.html?spm=a2o4n.searchlistcategory.list.166.5776759eqaphS3&search=1', 'https://www.lazada.vn/products/qua-tang-yeu-thuong-khan-choang-dep-vai-sieu-min-i253542292-s340958292.html?spm=a2o4n.searchlistcategory.list.1.276e426fmUvWZE&search=1', 'https://www.lazada.vn/products/combo-30-but-muc-nuoc-gel-60-ruot-ngoi-viet-i212567696-s266255281.html?spm=a2o4n.searchlistcategory.list.45.276e426fmUvWZE&search=1', 'https://www.lazada.vn/products/nem-dem-nhung-sieu-nhe-trai-san-trai-giuong-3-lop-16x2m-nem-dem-nhung-sieu-nhe-trai-san-trai-giuong-3-lop-i247734656-s322723153.html?spm=a2o4n.searchlistcategory.list.79.7a9f1a3dNOkXrl&search=1', 'https://www.lazada.vn/products/bg-ghe-luoi-chan-xoay-van-phong-mau-bden-i100692119-s100799286.html?spm=a2o4n.searchlistcategory.list.33.7a9f1a3dNOkXrl&search=1', 'https://www.lazada.vn/products/10-tam-xop-dan-tuong-3d-gia-gach-boc-dan-chiu-luc-chong-nuoc-chong-am-moc-70x77cm-i246305679-s426108471.html?spm=a2o4n.searchlistcategory.list.7.7e937f03l42Xj8&search=1', 'https://www.lazada.vn/products/den-xong-tinh-dau-gom-bat-trang-size-nho-tang-2-chai-tinh-dau-nguyen-chat-5ml-cam-sa-chanh-i245369507-s328371454.html?spm=a2o4n.searchlistcategory.list.1.7e937f03l42Xj8&search=1', 'https://www.lazada.vn/products/tu-nhua-ghep-da-nang-tam-house-6-ngandu-6-ngan-tang-treo-do-i142732178-s329899014.html?spm=a2o4n.searchlistcategory.list.1.7a9f1a3dNOkXrl&search=1', 'https://www.lazada.vn/products/chieu-ngu-chieu-dieu-hoa-1m6x2m-mong-thoang-khi-mat-ruoi-cuc-ki-ben-bi-m168-bh-uy-tin-1-doi-1-boi-smart-buy-i233725627-s297409046.html?spm=a2o4n.searchlistcategory.list.175.71e64a82wav38P&search=1', 'https://www.lazada.vn/products/can-suc-khoe-gia-dinh-xin-can-dien-tu-co-the-sac-duoc-ko-can-mua-pin-ben-tot-do-chinh-xac-cao-cua-agiadep-i274536531-s420580244.html?spm=a2o4n.searchlistcategory.list.49.f4222f17iIkrM7&search=1', 'https://www.lazada.vn/products/set-ga-goi-cotton-1-ga-boc-va-2-ao-goi-nam-mau-moi-2019-i258175576-s357880551.html?spm=a2o4n.searchlistcategory.list.148.6a4514b6YLlU5b&search=1', 'https://www.lazada.vn/products/binh-nuoc-thuy-tinh-hello-master-480ml-i247392031-s321131781.html?spm=a2o4n.searchlistcategory.list.61.52966fe8NXUKXB&search=1', 'https://www.lazada.vn/products/bo-dao-keo-hop-kim-inox-7-mon-da-nang-tang-kem-hop-khay-go-i254014317-s342183374.html?spm=a2o4n.searchlistcategory.list.5.57ec3941TOnWYv&search=1', 'https://www.lazada.vn/products/hop-com-giu-nhiet-2-4-nganhop-com-giu-nhiet-inox-gia-re-mau-ngau-nhien-i221222416-s278132958.html?spm=a2o4n.searchlistcategory.list.35.52966fe8NXUKXB&search=1', 'https://www.lazada.vn/products/goi-cao-su-non-chong-ngay-nguoi-lon-cao-cap-i252041369-s334618855.html?spm=a2o4n.searchlistcategory.list.23.609424ddxQOwzG&search=1', 'https://www.lazada.vn/products/bo-khan-mat-khan-lau-khan-tam-bao-an-store-mau-ngau-nhien-phan-mau-i100245627-s148513075.html?spm=a2o4n.searchlistcategory.list.73.f4222f17iIkrM7&search=1', 'https://www.lazada.vn/products/tui-xach-du-lich-laza-tx371-i244646178-s313583912.html?spm=a2o4n.searchlistcategory.list.9.376230782VxYiV&search=1', 'https://www.lazada.vn/products/tru-dam-boc-30-pro-phien-ban-cai-tien-nhanh-hon-dai-hon-gia-khong-doi-i260342496-s364888632.html?spm=a2o4n.searchlistcategory.list.5.b9381d69htU6eC&search=1', 'https://www.lazada.vn/products/vali-du-lich-size-20inch-ns8801-gia-re-sieu-ben-sieu-dep-gui-tu-tphcm-hang-co-san-i233075532-s296388747.html?spm=a2o4n.searchlistcategory.list.1.376230782VxYiV&search=1', 'https://www.lazada.vn/products/con-lan-tap-co-bung-4-banh-cao-cap-kama-ab-rollerdung-cu-tap-the-hinhtap-gymdung-cu-tap-the-luc-dung-cu-tap-co-bung-sau-muicon-lan-tap-co-bung-i246559637-s317053716.html?spm=a2o4n.searchlistcategory.list.1.2603244dkzlkWF&search=1', 'https://www.lazada.vn/products/tham-tap-yoga-gym-nhap-khau-han-quoc-van-soc-10mm-tang-qua-tui-dung-tham-va-day-buoc-tham-sang-trong-nhieu-mau-i134734176-s136413610.html?spm=a2o4n.searchlistcategory.list.7.2603244dkzlkWF&search=1', 'https://www.lazada.vn/products/bo-the-thao-nam-sieu-thoang-oppose-hot-nhat-2019-i275416918-s423070647.html?spm=a2o4n.searchlistcategory.list.1.31bc72d8AKfXNp&search=1', 'https://www.lazada.vn/products/leu-cam-trai-chong-tham-nuoc-vai-du-kich-thuoc-200x150x110cm-leu-du-lich-leu-cam-trai-2-nguoi-i259204059-s360999659.html?spm=a2o4n.searchlistcategory.list.9.22c47f95AXHq9y&search=1', 'https://www.lazada.vn/products/day-cuoc-cau-ca-daiwa-justron-cao-cap-500-m-day-cau-ca-sieu-ben-du-size-giao-mau-ngau-nhien-i248911105-s327022815.html?spm=a2o4n.searchlistcategory.list.1.22c47f95AXHq9y&search=1', 'https://www.lazada.vn/products/giay-da-bong-da-banh-san-co-nhan-tao-prowin-du-mau-do-tap-tot-i106693311-s263138654.html?spm=a2o4n.searchlistcategory.list.1.53db2470KatJ6N&search=1', 'https://www.lazada.vn/products/giay-sneaker-nu-don-de-dep-vach-song-xem-video-hapli-trang-vach-do-trang-vach-den-i249843077-s446650143.html?', 'https://www.lazada.vn/products/kinh-boi-can-do-can-tu-15-den-80-cho-nguoi-can-thi-mat-kinh-trang-guong-chong-uv-chong-hap-hoi-khoa-deo-kinh-thong-minh-popo-collection-i260176760-s364575248.html?spm=a2o4n.searchlistcategory.list.1.4bbf3fc1JMt5IT&search=1', 'https://www.lazada.vn/products/non-boi-mu-boi-trum-tai-chat-lieu-silicone-dan-hoi-thiet-ke-thoi-trang-cao-cap-ca33-popo-collection-i102587385-s147947749.html?spm=a2o4n.searchlistcategory.list.49.4bbf3fc1JMt5IT&search=1', 'https://www.lazada.vn/products/gay-danh-bong-chay-hop-kim-sat-cao-cap-bat-i212567567-s266255092.html?spm=a2o4n.searchlistcategory.list.1.7b1461ad6wSLW9&search=1', 'https://www.lazada.vn/products/gang-tay-thu-mon-cao-cap-co-size-cho-tre-em-va-nguoi-lon-co-xuong-tro-ngon-do-tap-tot-i243244977-s439244939.html?spm=a2o4n.searchlistcategory.list.3.7b1461ad6wSLW9&search=1', 'https://www.lazada.vn/products/vot-cau-long-khung-cacbon-tang-cuoc-va-quan-can-co-bao-vot-di-kem-i211149785-s264266961.html?spm=a2o4n.searchlistcategory.list.27.5a7930cdtWUs7F&search=1', 'https://www.lazada.vn/products/bo-can-cau-gia-re-2m4-kem-maydaybo-phao-luoi-va-phu-kien-i266314249-s385900495.html?spm=a2o4n.searchlistcategory.list.7.25856f28zupDBH&search=1', 'https://www.lazada.vn/products/tui-du-lich-han-quoc-laza-tx367-i155017744-s277168731.html?spm=a2o4n.searchlistcategory.list.16.76833078s7Nx4X&search=1', 'https://www.lazada.vn/products/qua-bong-da-3-lop-yono-so-5-banh-da-da-cao-cap-size-5-qua-bong-da-trai-banh-tieu-chuan-thi-dau-tang-kem-kim-bom-va-tui-luoi-i235473819-s300145458.html?spm=a2o4n.searchlistcategory.list.37.560e61adNSMQUb&search=1', 'https://www.lazada.vn/products/duoc-chon-mau-van-truot-cao-cap-4-banh-hoa-tiet-ca-tinh-the-hien-phong-cach-van-truot-skateboard-penny-nhua-pvc-the-thao-sieu-dep-truot-cuc-em-kua-cuc-da-vantruot01-i282684461-s459862889.html?spm=a2o4n.searchlistcategory.list.13.1ca138827ktNkd&search=1', 'https://www.lazada.vn/products/quan-boi-the-thao-nam-co-lung-881-den-phoi-soc-cheo-ngau-nhien-i205347090-s460028580.html?spm=a2o4n.searchlistcategory.list.11.220138aeoMFI20&search=1', 'https://www.lazada.vn/products/bo-2-doi-giay-chuot-ss0261-hello-bb-i145575532-s151431330.html?spm=a2o4n.searchlistcategory.list.1.6d2f4b93B2y5Q3&search=1', 'https://www.lazada.vn/products/combo-3-bo-bodysuit-hinh-thu-cho-be-khach-chon-be-trai-hoac-gai-shop-giao-mau-ngau-nhien-mihababy-bds_cb_shock-quan-ao-tre-em-do-tre-so-sinh-do-cho-be-cho-tre-cho-be-ao-lien-quan-i265378566-s382062510.html?spm=a2o4n.searchlistcategory.list.158.6d2f4b93Qjctgv&search=1', 'https://www.lazada.vn/products/ao-khoac-tre-em-mau-xanh-chuoi-cho-be-i222991545-s293988766.html?spm=a2o4n.searchlistcategory.list.251.6d2f4b93bWtA82&search=1', 'https://www.lazada.vn/products/set-5-doi-tat-han-vo-han-quoc-i231540899-s434640279.html?spm=a2o4n.searchlistcategory.list.181.6d2f4b93eYgY6u&search=1', 'https://www.lazada.vn/products/mieng-lot-chong-tham-dorabe-2-lop-70x100cm-i104086955-s105070229.html?spm=a2o4n.pdp.recommendation_1.2.2abb470cMf6OPr&mp=1&clickTrackInfo=3b274a9f-d20d-4dc2-9b04-c3c60cd3387e__104086955__10646__trigger2i__124572__0.818__0.80474544__0.0__0.5529089__0.0__1.0047455__1__null__null__null__null__null__null__&scm=1007.16389.126158.0', 'https://www.lazada.vn/products/bo-do-choi-duong-dua-o-to-tau-luon-88-chi-tiet-loai-to-i224246501-s282802220.html?spm=a2o4n.searchlistcategory.list.1.2c785305Xgt48K&search=1', 'https://www.lazada.vn/products/nha-bong-vai-co-lon-120cm-tuy-chon-loai-co-kem-bong-va-khong-kem-bong-kamihome-van-chuyen-i219359569-s331520473.html?spm=a2o4n.searchlistcategory.list.17.7aa647447Ru56k&search=1', 'https://www.lazada.vn/products/bo-do-choi-cat-dong-luc-vi-sinh-tao-hinh-lau-dai-gom-hop-nhua-08kg-cat-be-hoi-du-khuon-kamihome-van-chuyen-i106547368-s107788214.html?spm=a2o4n.searchlistcategory.list.55.7aa64744MUlcpU&search=1', 'https://www.lazada.vn/products/be-tam-3-chi-tiet-cho-be-be-bong-phao-i137045161-s139602937.html?spm=a2o4n.searchlistcategory.list.75.7aa64744O7jTed&search=1', 'https://www.lazada.vn/products/bo-nem-goi-so-sinh-kim-homecho-em-be-tu-0-2-tuoi-i141067171-s147887467.html?spm=a2o4n.searchlistcategory.list.1.7b086103QXVmjR&search=1', 'https://www.lazada.vn/products/bo-man-ngu-dem-chong-muoi-danh-cho-be-co-nhac-i141489014-s302262973.html?spm=a2o4n.searchlistcategory.list.35.7b086103s9feeN&search=1', 'https://www.lazada.vn/products/lay-rai-tai-lam-sao-de-lay-ray-tai-kho-bo-dung-cu-lay-ray-tai-co-den-led-sieu-sang-cao-cap-danh-cho-be-yeu-dung-cu-khong-the-thieu-cho-moi-gia-dinh-i259676769-s362837120.html?spm=a2o4n.searchlistcategory.list.1.5fcc3efeljlDUl&search=1', 'https://www.lazada.vn/products/loai-moi-co-tang-thu-treo-va-thanh-treo-ghe-nhun-tao-rung-cho-be-yeu-mbphung100-i245823668-s364025023.html?spm=a2o4n.searchlistcategory.list.11.55da175fjTiyYb&search=1', 'https://www.lazada.vn/products/chuan-bi-sinh-em-be-can-sam-nhung-gi-diu-tre-em-da-nang-sb298-dai-dieu-em-be-do-so-sinh-an-toan-cho-be-yeu-hang-viet-nam-chat-luong-cao-i266364128-s386156295.html?spm=a2o4n.searchlistcategory.list.21.55da175fwMnbVz&search=1', 'https://www.lazada.vn/products/tang-mien-phi-1-yem-tham-nam-co-nhac-piano-cho-be-tu-0-12-thang-tuoi-i252209322-s335402382.html?spm=a2o4n.searchlistcategory.list.5.7fc4590fISjfNi&search=1', 'https://www.lazada.vn/products/tham-nam-choi-co-nhac-cho-be-babybe-gau-om-mat-trang-i207115091-s337965605.html?spm=a2o4n.searchlistcategory.list.15.7fc4590fPMA2gE&search=1', 'https://www.lazada.vn/products/bo-40-mieng-tham-xop-mem-lot-san-ghep-chu-cai-so-va-phep-tinh-cho-be-i106042082-s107180272.html?spm=a2o4n.searchlistcategory.list.39.7fc4590fl34hKU&search=1', 'https://www.lazada.vn/products/bo-8-mon-do-choi-nha-tam-phat-tieng-keu-cho-be-i219767269-s275979195.html?spm=a2o4n.searchlistcategory.list.63.7fc4590fyHuIh0&search=1', 'https://www.lazada.vn/products/chieu-ngu-van-phong-gap-gon-loai-1-i101141611-s101323411.html?spm=a2o4n.pdp.0.0.7e91385c897EiI', 'https://www.lazada.vn/products/thu-nhun-emoji-con-lac-lo-xo-con-nhun-i279138931-s435184914.html?spm=a2o4n.searchlistcategory.list.1.269e49deAbJgex&search=1', 'https://www.lazada.vn/products/op-lung-deo-gau-kem-02-day-ngan-va-dai-iphone-6-6plus-7-7plus-8-8plus-x-xs-xsmax-i245617874-s315013345.html?spm=a2o4n.searchlistcategory.list.5.31a85f36k57fzU&search=1', 'https://www.lazada.vn/products/combo-bao-da-ban-phim-kem-chuot-lot-chuot-cho-dien-thoai-may-tinh-bang-tu-45-8-inch-i235374442-s299894702.html?spm=a2o4n.searchlistcategory.list.9.31a85f36k57fzU&search=1', 'https://www.lazada.vn/products/11-mau-op-lung-dung-cho-xiaomi-redmi-note-5-note-5-pro-hinh-3d-new-nhua-tpu-deo-kem-day-iring-i212408278-s266047220.html?spm=a2o4n.searchlistcategory.list.53.31a85f36k57fzU&search=1', 'https://www.lazada.vn/products/chuot-game-thu-detek-divipad-gearlord-g502-co-den-led-doi-mau-cuc-dep-i190420071-s200443781.html?spm=a2o4n.searchlistcategory.list.1.73d2562fhk6mfa&search=1', 'https://www.lazada.vn/products/chuot-choi-game-co-day-den-milang-tang-ban-di-chuot-i245489366-s314738122.html?spm=a2o4n.searchlistcategory.list.3.73d2562fhk6mfa&search=1', 'https://www.lazada.vn/products/kinh-cuong-luc-10d-cho-iphone-6plus6splus66s7-8-7plus-8plus-x-xs-xsmax-trang-sieu-ben-i276346806-s425928695.html?spm=a2o4n.searchlistcategory.list.1.67027a04SAbiJa&search=1', 'https://www.lazada.vn/products/bao-da-silicone-deo-pkcb-smart-cover-danh-cho-ipad-mini-123-ipad-mini-4-ipad-mini-5-ipad-air-ipad-air-2-ipad-air-3-105-inch-2019-ipad-new-2017-ipad-pro-97-ipad-234-ipad-pro-105-i207149845-s436938170.html?spm=a2o4n.searchlistcategory.list.1.3b957f72xfILKk&search=1', 'https://www.lazada.vn/products/tai-nghe-chuyen-game-gnet-h99-co-mic-i103058756-s103758846.html?spm=a2o4n.searchlistcategory.list.1.17fd3713EMWZb7&search=1', 'https://www.lazada.vn/products/loa-nghe-nhac-dien-thoai-may-tinh-tivi-vi-tinh-bass-treb-pkcb-301-3-trong-1-nghe-nhac-pf7-i238629570-s304501304.html?spm=a2o4n.searchlistcategory.list.9.17fd37137t7xkU&search=1', 'https://www.lazada.vn/products/bo-dong-ho-thong-minh-dz09-tang-viet-cam-ung-i136090099-s138253249.html?spm=a2o4n.searchlistcategory.list.11.dec63c44AYVzDB&search=1', 'https://www.lazada.vn/products/vong-tay-thong-minh-xiaomi-miband-3-i219684024-s275856014.html?spm=a2o4n.searchlistcategory.list.4.18001d5dcJeaON&search=1', 'https://www.lazada.vn/products/pin-cho-dong-ho-thong-minh-dz09-apwatch-a1-a8l-gm08-i138902848-s142088956.html?spm=a2o4n.searchlistcategory.list.20.3eeb10aaVqH9lS&search=1', 'https://www.lazada.vn/products/kinh-3d-phong-dai-hinh-anh-cho-dien-thoai-enlarged-screen-den-i746094-s930564.html?spm=a2o4n.searchlistcategory.list.37.630128a5PZgnBt&search=1', 'https://www.lazada.vn/products/bo-2-bo-dam-baofeng-888s-tang-2-tai-nghe-bo-dam-i100037669-s100050309.html?spm=a2o4n.searchlistcategory.list.13.203c433aYlpu9l&search=1', 'https://www.lazada.vn/products/bo-cu-sac-xiaomi-5v-2a-va-cap-sac-xiaomi-den-hang-nhap-khau-i103359006-s263140952.html?spm=a2o4n.searchlistcategory.list.3.ab136fedb9gZVX&search=1', 'https://www.lazada.vn/products/de-sac-nhanh-khong-day-danh-cho-samsung-s5-s6-s6engh-s7-s7engh-s8-s8s9ipx-ip8-ip8-i206323311-s307578010.html?spm=a2o4n.searchlistcategory.list.25.1a1757aa3ydTz7&search=1', 'https://www.lazada.vn/products/sac-anker-powerport-2-lite-2-cong-poweriq-12w-hang-phan-phoi-chinh-thuc-i136117182-s138288246.html?spm=a2o4n.searchlistcategory.list.33.ab136fedb9gZVX&search=1', 'https://www.lazada.vn/products/bo-tripod-chan-chup-anh-1020mm-va-gia-do-dien-thoai-xam-bac-i102240659-s102691261.html?spm=a2o4n.searchlistcategory.list.11.7243b93aMBB93C&search=1', 'https://www.lazada.vn/products/gimbal-cam-tay-chong-rung-cho-dien-thoai-zhiyun-smooth-4-i223452452-s281530704.html?spm=a2o4n.searchlistcategory.list.9.45783d27JQzBa1&search=1', 'https://www.lazada.vn/products/loai-tot-gay-chup-hinh-tripod-3120-tang-kem-1-remote-chup-hinh-tripod-bach-tuot-1-ga-kep-dien-thoai-i239812246-s306358027.html?spm=a2o4n.searchlistcategory.list.17.7243b93aMBB93C&search=1']\n"
     ]
    }
   ],
   "source": [
    "import xlrd\n",
    "\n",
    "filename = 'lazada爬虫.xls'\n",
    "\n",
    "data=xlrd.open_workbook(filename)  # 打开表格\n",
    "sheets = data.nsheets # 获取表格sheet个数\n",
    "sheets_name = data.sheet_names() #每个sheets名字\n",
    "\n",
    "# 每个sheet的信息，行列总数，比如第一个sheet\n",
    "sheet_info = data.sheet_by_index(0) \n",
    "sheet__rows = sheet_info.nrows  # 行数\n",
    "sheet__clos = sheet_info.ncols  # 列数\n",
    "sheet_row = sheet_info.row(0) # 第一行对象\n",
    "sheet_rowvalue = sheet_info.row_values(0) # 第一行数据\n",
    "\n",
    "    \n",
    "# 获取所有sheet中第二列所有的数据\n",
    "sheets = data.nsheets # 获取表格sheet个数\n",
    "url_list = []\n",
    "for i in range(sheets):  \n",
    "    sheet_info = data.sheet_by_index(i) # 获取每个sheet信息\n",
    "    sheet_rows = sheet_info.nrows  # 获取每个sheet行数\n",
    "    for n in range(sheet_rows): \n",
    "        url_list.append(sheet_info.row_values(n)[1])\n",
    "        \n",
    "print(url_list)"
   ]
  },
  {
   "cell_type": "code",
   "execution_count": 42,
   "metadata": {},
   "outputs": [
    {
     "name": "stdout",
     "output_type": "stream",
     "text": [
      "{'https://www.lazada.vn/products/ao-so-mi-nam-vai-lua-chong-nhan-sm1-i207653258-s258188084.html?', 'https://www.lazada.vn/products/son-li-min-moi-loreal-paris-color-riche-matte-37g-i257714775-s356155063.html?', 'https://www.lazada.vn/products/set-quan-dui-cuc-xinh-i234860784-s299112031.html?spm=a2o4n.searchlistcategory.list.179.385d2459yQuSsR&search=1', 'https://www.lazada.vn/products/quan-short-kaki-nam-hinh-that-lados-379-i224303724-s295408385.html?', 'https://www.lazada.vn/products/ao-thun-nam-the-thao-hang-vnxk-vai-day-min-vai-dom-i265780948-s382816264.html?', 'https://www.lazada.vn/products/giay-sneaker-nu-don-de-dep-vach-song-xem-video-hapli-trang-vach-do-trang-vach-den-i249843077-s446650143.html?'}\n",
      "167\n",
      "165\n",
      "165\n"
     ]
    }
   ],
   "source": [
    "import csv\n",
    "\n",
    "get_url = []\n",
    "with open (r'products0628.csv','r',encoding='utf-8') as f:\n",
    "    reader = csv.reader(f)\n",
    "    rows = [row for row in reader]\n",
    "    for row in rows:\n",
    "        url = row[0]\n",
    "        get_url.append(url)\n",
    "        \n",
    "print(set(url_list) - set(get_url))\n",
    "\n",
    "print(len(url_list))\n",
    "print(len(set(url_list)))\n",
    "print(len(get_url))"
   ]
  }
 ],
 "metadata": {
  "kernelspec": {
   "display_name": "Python 3",
   "language": "python",
   "name": "python3"
  },
  "language_info": {
   "codemirror_mode": {
    "name": "ipython",
    "version": 3
   },
   "file_extension": ".py",
   "mimetype": "text/x-python",
   "name": "python",
   "nbconvert_exporter": "python",
   "pygments_lexer": "ipython3",
   "version": "3.6.5"
  }
 },
 "nbformat": 4,
 "nbformat_minor": 2
}
