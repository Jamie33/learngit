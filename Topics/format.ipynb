{
 "cells": [
  {
   "cell_type": "markdown",
   "metadata": {},
   "source": [
    "### format\n",
    "\n",
    "### 格式转化\n",
    "\n",
    "一个对象本身不是str，ascii，repr格式，可以使用!s、!a、!r，将其转成str，ascii，repr\n",
    "\n",
    "- !s ：将对象格式化转换成字符串\n",
    "- !a ：将对象格式化转换成ASCII\n",
    "- !r ：将对象格式化转换成repr"
   ]
  },
  {
   "cell_type": "code",
   "execution_count": 3,
   "metadata": {},
   "outputs": [
    {
     "name": "stdout",
     "output_type": "stream",
     "text": [
      "2\n",
      "'2'\n",
      "'jamie\\u5f90\\u7396'\n"
     ]
    }
   ],
   "source": [
    "print(\"{!s}\".format('2'))\n",
    "print(\"{!r}\".format('2'))\n",
    "print(\"{!a}\".format('jamie徐玖'))"
   ]
  }
 ],
 "metadata": {
  "kernelspec": {
   "display_name": "Python 3",
   "language": "python",
   "name": "python3"
  },
  "language_info": {
   "codemirror_mode": {
    "name": "ipython",
    "version": 3
   },
   "file_extension": ".py",
   "mimetype": "text/x-python",
   "name": "python",
   "nbconvert_exporter": "python",
   "pygments_lexer": "ipython3",
   "version": "3.6.5"
  }
 },
 "nbformat": 4,
 "nbformat_minor": 2
}
