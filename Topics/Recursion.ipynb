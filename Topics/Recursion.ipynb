{
 "cells": [
  {
   "cell_type": "markdown",
   "metadata": {},
   "source": [
    "## 递归VS迭代\n",
    "\n",
    "### 递归实现阶乘"
   ]
  },
  {
   "cell_type": "code",
   "execution_count": 10,
   "metadata": {},
   "outputs": [
    {
     "name": "stdout",
     "output_type": "stream",
     "text": [
      "True\n",
      "True\n",
      "True\n"
     ]
    }
   ],
   "source": [
    "# runtime: Linear - O(N)\n",
    "def factorial(n):  \n",
    "    if n < 0:    \n",
    "        raise ValueError(\"Inputs 0 or greater only\") \n",
    "    if n <= 1:    \n",
    "        return 1  \n",
    "    return n * factorial(n - 1)\n",
    "\n",
    "# test cases\n",
    "print(factorial(3) == 6)\n",
    "print(factorial(0) == 1)\n",
    "print(factorial(5) == 120)"
   ]
  },
  {
   "cell_type": "markdown",
   "metadata": {},
   "source": [
    "### 迭代实现阶乘"
   ]
  },
  {
   "cell_type": "code",
   "execution_count": 9,
   "metadata": {},
   "outputs": [
    {
     "name": "stdout",
     "output_type": "stream",
     "text": [
      "True\n",
      "True\n",
      "True\n"
     ]
    }
   ],
   "source": [
    "def factorial(n):\n",
    "    result = 1\n",
    "    if n == 0:\n",
    "        return result\n",
    "    else:\n",
    "        for i in range(1,n+1):\n",
    "            result = result * i\n",
    "        return result\n",
    "\n",
    "# test cases\n",
    "print(factorial(3) == 6)\n",
    "print(factorial(0) == 1)\n",
    "print(factorial(5) == 120)"
   ]
  },
  {
   "cell_type": "markdown",
   "metadata": {},
   "source": [
    "### 递归实现斐波拉契"
   ]
  },
  {
   "cell_type": "code",
   "execution_count": 13,
   "metadata": {},
   "outputs": [
    {
     "name": "stdout",
     "output_type": "stream",
     "text": [
      "True\n",
      "True\n",
      "True\n"
     ]
    }
   ],
   "source": [
    "# runtime: Exponential - O(2^N)\n",
    "\n",
    "def fibonacci(n):\n",
    "    if n < 0:\n",
    "        raise ValueError(\"Input 0 or greater only!\")\n",
    "    if n <= 1:\n",
    "        return n\n",
    "    return fibonacci(n - 1) + fibonacci(n - 2)\n",
    "\n",
    "# test cases\n",
    "print(fibonacci(3) == 2)\n",
    "print(fibonacci(7) == 13)\n",
    "print(fibonacci(0) == 0)"
   ]
  },
  {
   "cell_type": "markdown",
   "metadata": {},
   "source": [
    "### 迭代实现斐波拉契"
   ]
  },
  {
   "cell_type": "code",
   "execution_count": 12,
   "metadata": {},
   "outputs": [
    {
     "name": "stdout",
     "output_type": "stream",
     "text": [
      "True\n",
      "True\n",
      "True\n"
     ]
    }
   ],
   "source": [
    "def fibonacci(n):\n",
    "    a = 0\n",
    "    b = 1\n",
    "    if n == 0:\n",
    "        return n\n",
    "    else:\n",
    "        for i in range(0,n):\n",
    "            a,b = b,a+b\n",
    "        return a\n",
    "\n",
    "# test cases\n",
    "print(fibonacci(3) == 2)\n",
    "print(fibonacci(7) == 13)\n",
    "print(fibonacci(0) == 0)"
   ]
  },
  {
   "cell_type": "code",
   "execution_count": 14,
   "metadata": {},
   "outputs": [
    {
     "name": "stdout",
     "output_type": "stream",
     "text": [
      "True\n",
      "True\n",
      "True\n"
     ]
    }
   ],
   "source": [
    "def fibonacci(n):\n",
    "    if n < 0:\n",
    "        raise ValueError(\"Input 0 or greater only!\")\n",
    "    fibs = [0, 1]\n",
    "    if n <= len(fibs) - 1:\n",
    "        return fibs[n]\n",
    "    while n > len(fibs) - 1:\n",
    "        fibs.append(fibs[-1] + fibs[-2])\n",
    "    return fibs[-1]\n",
    "\n",
    "# test cases\n",
    "print(fibonacci(3) == 2)\n",
    "print(fibonacci(7) == 13)\n",
    "print(fibonacci(0) == 0)"
   ]
  },
  {
   "cell_type": "markdown",
   "metadata": {},
   "source": [
    "### 递归实现数字之和"
   ]
  },
  {
   "cell_type": "code",
   "execution_count": 15,
   "metadata": {},
   "outputs": [
    {
     "name": "stdout",
     "output_type": "stream",
     "text": [
      "True\n",
      "True\n",
      "True\n"
     ]
    }
   ],
   "source": [
    "def sum_digits(n):\n",
    "    if n < 10:\n",
    "        return n\n",
    "    return sum_digits(n//10)+sum_digits(n%10)\n",
    "    \n",
    "# test cases\n",
    "print(sum_digits(12) == 3)\n",
    "print(sum_digits(552) == 12)\n",
    "print(sum_digits(123456789) == 45)"
   ]
  },
  {
   "cell_type": "markdown",
   "metadata": {},
   "source": [
    "### 递归实现数字之和"
   ]
  },
  {
   "cell_type": "code",
   "execution_count": 17,
   "metadata": {},
   "outputs": [
    {
     "name": "stdout",
     "output_type": "stream",
     "text": [
      "True\n",
      "True\n",
      "True\n"
     ]
    }
   ],
   "source": [
    "# Linear - O(N)\n",
    "def sum_digits(n):\n",
    "    if n < 0:\n",
    "        raise ValueError(\"Inputs 0 or greater only!\")\n",
    "    result = 0\n",
    "    while n is not 0:\n",
    "        result += n % 10\n",
    "        n = n // 10\n",
    "    return result + n\n",
    "\n",
    "# test cases\n",
    "print(sum_digits(12) == 3)\n",
    "print(sum_digits(552) == 12)\n",
    "print(sum_digits(123456789) == 45)"
   ]
  },
  {
   "cell_type": "markdown",
   "metadata": {},
   "source": [
    "### 迭代实现列表最小值"
   ]
  },
  {
   "cell_type": "code",
   "execution_count": 18,
   "metadata": {},
   "outputs": [
    {
     "name": "stdout",
     "output_type": "stream",
     "text": [
      "True\n",
      "True\n",
      "True\n"
     ]
    }
   ],
   "source": [
    "def find_min(my_list):\n",
    "    min = None\n",
    "    for el in my_list:\n",
    "        if not min or (el < min):\n",
    "            min = el\n",
    "    return min\n",
    "\n",
    "# test cases\n",
    "print(find_min([42, 17, 2, -1, 67]) == -1)\n",
    "print(find_min([]) == None)\n",
    "print(find_min([13, 72, 19, 5, 86]) == 5)"
   ]
  },
  {
   "cell_type": "markdown",
   "metadata": {},
   "source": [
    "### 递归实现列表最小值"
   ]
  },
  {
   "cell_type": "code",
   "execution_count": 21,
   "metadata": {},
   "outputs": [
    {
     "name": "stdout",
     "output_type": "stream",
     "text": [
      "True\n",
      "True\n",
      "True\n"
     ]
    }
   ],
   "source": [
    "def find_min(my_list,min = None):\n",
    "    if not my_list:\n",
    "        return min\n",
    "    if not min or my_list[0] < min:\n",
    "        min = my_list[0]\n",
    "    return find_min(my_list[1:],min)\n",
    "\n",
    "# test cases\n",
    "print(find_min([42, 17, 2, -1, 67]) == -1)\n",
    "print(find_min([]) == None)\n",
    "print(find_min([13, 72, 19, 5, 86]) == 5)"
   ]
  },
  {
   "cell_type": "markdown",
   "metadata": {},
   "source": [
    "### 迭代实现回文检测"
   ]
  },
  {
   "cell_type": "code",
   "execution_count": 30,
   "metadata": {},
   "outputs": [
    {
     "name": "stdout",
     "output_type": "stream",
     "text": [
      "True\n",
      "True\n",
      "True\n",
      "True\n"
     ]
    }
   ],
   "source": [
    "def is_palindrome(my_string):\n",
    "    while len(my_string) > 1:\n",
    "        if my_string[0] != my_string[-1]:\n",
    "            return False\n",
    "        my_string = my_string[1:-1]\n",
    "    return True \n",
    "\n",
    "print(is_palindrome(\"abba\") == True)\n",
    "print(is_palindrome(\"abcba\") == True)\n",
    "print(is_palindrome(\"\") == True)\n",
    "print(is_palindrome(\"abcd\") == False)"
   ]
  },
  {
   "cell_type": "markdown",
   "metadata": {},
   "source": [
    "### 递归实现回文检测"
   ]
  },
  {
   "cell_type": "code",
   "execution_count": 39,
   "metadata": {},
   "outputs": [
    {
     "name": "stdout",
     "output_type": "stream",
     "text": [
      "True\n",
      "True\n",
      "True\n",
      "True\n"
     ]
    }
   ],
   "source": [
    "def is_palindrome(my_string):\n",
    "\tif len(my_string) <= 1:\n",
    "\t\treturn True\n",
    "\tif my_string[0] != my_string[-1]:\n",
    "\t\treturn False\n",
    "\treturn is_palindrome(my_string[1:-1])\n",
    "    \n",
    "\n",
    "# test cases\n",
    "print(is_palindrome(\"abba\") == True)\n",
    "print(is_palindrome(\"abcba\") == True)\n",
    "print(is_palindrome(\"\") == True)\n",
    "print(is_palindrome(\"abcd\") == False)"
   ]
  },
  {
   "cell_type": "markdown",
   "metadata": {},
   "source": [
    "### 迭代实现乘法"
   ]
  },
  {
   "cell_type": "code",
   "execution_count": 41,
   "metadata": {},
   "outputs": [
    {
     "name": "stdout",
     "output_type": "stream",
     "text": [
      "True\n",
      "True\n",
      "True\n"
     ]
    }
   ],
   "source": [
    "def multiplication(num_1, num_2):\n",
    "    result = 0\n",
    "    for count in range(0, num_2):\n",
    "        result += num_1\n",
    "    return result\n",
    "\n",
    "# test cases\n",
    "print(multiplication(3, 7) == 21)\n",
    "print(multiplication(5, 5) == 25)\n",
    "print(multiplication(0, 4) == 0)"
   ]
  },
  {
   "cell_type": "markdown",
   "metadata": {},
   "source": [
    "### 递归实现乘法"
   ]
  },
  {
   "cell_type": "code",
   "execution_count": 42,
   "metadata": {},
   "outputs": [
    {
     "name": "stdout",
     "output_type": "stream",
     "text": [
      "True\n",
      "True\n",
      "True\n"
     ]
    }
   ],
   "source": [
    "def multiplication(num_1,num_2):\n",
    "    result = 0\n",
    "    if num_2 == 1 :\n",
    "        return num_1\n",
    "    result = num_1 + multiplication(num_1,num_2-1)\n",
    "    return result\n",
    "\n",
    "# test cases\n",
    "print(multiplication(3, 7) == 21)\n",
    "print(multiplication(5, 5) == 25)\n",
    "print(multiplication(0, 4) == 0)"
   ]
  },
  {
   "cell_type": "markdown",
   "metadata": {},
   "source": [
    "### 迭代实现二叉树深度"
   ]
  },
  {
   "cell_type": "code",
   "execution_count": 47,
   "metadata": {},
   "outputs": [
    {
     "name": "stdout",
     "output_type": "stream",
     "text": [
      "True\n",
      "True\n"
     ]
    }
   ],
   "source": [
    "def depth(tree):\n",
    "    result = 0\n",
    "    # our \"queue\" will store nodes at each level\n",
    "    queue = [tree]\n",
    "    # loop as long as there are nodes to explore\n",
    "    while queue:\n",
    "        # count the number of child nodes\n",
    "        level_count = len(queue)\n",
    "        for child_count in range(0, level_count):\n",
    "            # loop through each child\n",
    "            child = queue.pop(0)\n",
    "            # add its children if they exist\n",
    "            if child.get(\"left_child\"):\n",
    "                queue.append(child[\"left_child\"])\n",
    "            if child.get(\"right_child\"):\n",
    "                queue.append(child[\"right_child\"])\n",
    "        # count the level\n",
    "        result += 1\n",
    "    return result\n",
    "\n",
    "two_level_tree = {\n",
    "\"data\": 6, \n",
    "\"left_child\":\n",
    "  {\"data\": 2}\n",
    "}\n",
    "\n",
    "four_level_tree = {\n",
    "\"data\": 54,\n",
    "\"right_child\":\n",
    "  {\"data\": 93,\n",
    "   \"left_child\":\n",
    "     {\"data\": 63,\n",
    "      \"left_child\":\n",
    "        {\"data\": 59}\n",
    "      }\n",
    "   }\n",
    "}\n",
    "\n",
    "\n",
    "# test cases\n",
    "print(depth(two_level_tree) == 2)\n",
    "print(depth(four_level_tree) == 4)"
   ]
  },
  {
   "cell_type": "markdown",
   "metadata": {},
   "source": [
    "### 递归实现二叉树深度"
   ]
  },
  {
   "cell_type": "code",
   "execution_count": 50,
   "metadata": {},
   "outputs": [
    {
     "name": "stdout",
     "output_type": "stream",
     "text": [
      "True\n",
      "True\n"
     ]
    }
   ],
   "source": [
    "def depth(tree):\n",
    "    if not tree:\n",
    "        return 0\n",
    "\n",
    "    left_depth = depth(tree.get(\"left_child\"))\n",
    "    right_depth = depth(tree.get(\"right_child\"))\n",
    "\n",
    "    if left_depth > right_depth:\n",
    "        return left_depth + 1\n",
    "    else:\n",
    "        return right_depth + 1\n",
    "\n",
    "two_level_tree = {\n",
    "\"data\": 6, \n",
    "\"left_child\":\n",
    "  {\"data\": 2}\n",
    "}\n",
    "\n",
    "four_level_tree = {\n",
    "\"data\": 54,\n",
    "\"right_child\":\n",
    "  {\"data\": 93,\n",
    "   \"left_child\":\n",
    "     {\"data\": 63,\n",
    "      \"left_child\":\n",
    "        {\"data\": 59}\n",
    "      }\n",
    "   }\n",
    "}\n",
    "   \n",
    "\n",
    "print(depth(two_level_tree) == 2)\n",
    "print(depth(four_level_tree) == 4)"
   ]
  }
 ],
 "metadata": {
  "kernelspec": {
   "display_name": "Python 3",
   "language": "python",
   "name": "python3"
  },
  "language_info": {
   "codemirror_mode": {
    "name": "ipython",
    "version": 3
   },
   "file_extension": ".py",
   "mimetype": "text/x-python",
   "name": "python",
   "nbconvert_exporter": "python",
   "pygments_lexer": "ipython3",
   "version": "3.6.5"
  },
  "toc": {
   "nav_menu": {},
   "number_sections": true,
   "sideBar": true,
   "skip_h1_title": false,
   "title_cell": "Table of Contents",
   "title_sidebar": "Contents",
   "toc_cell": false,
   "toc_position": {},
   "toc_section_display": true,
   "toc_window_display": false
  },
  "varInspector": {
   "cols": {
    "lenName": 16,
    "lenType": 16,
    "lenVar": 40
   },
   "kernels_config": {
    "python": {
     "delete_cmd_postfix": "",
     "delete_cmd_prefix": "del ",
     "library": "var_list.py",
     "varRefreshCmd": "print(var_dic_list())"
    },
    "r": {
     "delete_cmd_postfix": ") ",
     "delete_cmd_prefix": "rm(",
     "library": "var_list.r",
     "varRefreshCmd": "cat(var_dic_list()) "
    }
   },
   "types_to_exclude": [
    "module",
    "function",
    "builtin_function_or_method",
    "instance",
    "_Feature"
   ],
   "window_display": false
  }
 },
 "nbformat": 4,
 "nbformat_minor": 2
}
