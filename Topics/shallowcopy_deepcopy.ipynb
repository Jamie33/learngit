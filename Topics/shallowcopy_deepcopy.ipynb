{
 "cells": [
  {
   "cell_type": "markdown",
   "metadata": {},
   "source": [
    "---\n",
    "\n",
    "title: Shallowcopy and Deepcopy\n",
    "date:  2018.4.26\n",
    "categories:  Topics\n",
    "tags:  shallowcopy\n",
    "keywords:  deepcopy\n",
    "\n",
    "---"
   ]
  },
  {
   "cell_type": "markdown",
   "metadata": {},
   "source": [
    "## 赋值操作认识\n",
    "\n",
    "1.赋值是将一个对象的地址赋值给一个变量，让变量指向该地址\n",
    "\n",
    "2.修改不可变对象（str、tuple）需要开辟新的空间\n",
    "\n",
    "3修改可变对象（list等）不需要开辟新的空间"
   ]
  },
  {
   "cell_type": "markdown",
   "metadata": {},
   "source": [
    "## 浅拷贝（ 新瓶装旧酒 ）\n",
    "\n",
    "浅拷贝仅仅复制了容器中元素的地址\n",
    "\n",
    "浅拷贝是在另一块地址中创建一个新的变量或容器，但是容器内的元素的地址均是源对象的元素的地址的拷贝。也就是说新的容器中指向了旧的元素（ 新瓶装旧酒 ）"
   ]
  },
  {
   "cell_type": "code",
   "execution_count": 13,
   "metadata": {},
   "outputs": [
    {
     "name": "stdout",
     "output_type": "stream",
     "text": [
      "源对象a--['hello', [1, 2, 3]]:[2924681864392, 2924682934600]\n",
      "浅拷贝对象b--['hello', [1, 2, 3]]:[2924681864392, 2924682934600]\n",
      "修改浅拷贝对象b\n",
      "修改后源对象a--['hello', [1, 2, 3, 4]]:[2924681864392, 2924682934600]\n",
      "修改后浅拷贝对象b--['world', [1, 2, 3, 4]]:[2924682621760, 2924682934600]\n"
     ]
    }
   ],
   "source": [
    "a = ['hello',[1,2,3]]\n",
    "b = a[:] #浅拷贝\n",
    "print('源对象a--{}:{}'.format(a,[id(x) for x in a]))\n",
    "print('浅拷贝对象b--{}:{}'.format(b,[id(x) for x in b]))\n",
    "print('修改浅拷贝对象b')\n",
    "b[0] = 'world'\n",
    "b[1].append(4)\n",
    "print('修改后源对象a--{}:{}'.format(a,[id(x) for x in a]))\n",
    "print('修改后浅拷贝对象b--{}:{}'.format(b,[id(x) for x in b]))"
   ]
  },
  {
   "cell_type": "markdown",
   "metadata": {},
   "source": [
    "改变前后，可变的list地址都是一样的\n",
    "改变前后，不变的str地址有变化"
   ]
  },
  {
   "cell_type": "markdown",
   "metadata": {},
   "source": [
    "## 深拷贝（新瓶装新酒）\n",
    "\n",
    "深拷贝，完全拷贝了一个副本，容器内部元素地址都不一样\n",
    "\n",
    "深拷贝是在另一块地址中创建一个新的变量或容器，同时容器内的元素的地址也是新开辟的，仅仅是值相同而已，是完全的副本。也就是说（ 新瓶装新酒 ）。"
   ]
  },
  {
   "cell_type": "code",
   "execution_count": 14,
   "metadata": {},
   "outputs": [
    {
     "name": "stdout",
     "output_type": "stream",
     "text": [
      "源对象a--['hello', [1, 2, 3]]:[2924681864392, 2924682934088]\n",
      "浅拷贝对象b--['hello', [1, 2, 3]]:[2924681864392, 2924681631816]\n",
      "修改深拷贝对象b\n",
      "修改后源对象a--['hello', [1, 2, 3]]:[2924681864392, 2924682934088]\n",
      "修改后浅拷贝对象b--['world', [1, 2, 3, 4]]:[2924682621200, 2924681631816]\n"
     ]
    }
   ],
   "source": [
    "from copy import deepcopy\n",
    "a = ['hello',[1,2,3]]\n",
    "b = deepcopy(a) #深拷贝\n",
    "print('源对象a--{}:{}'.format(a,[id(x) for x in a]))\n",
    "print('浅拷贝对象b--{}:{}'.format(b,[id(x) for x in b]))\n",
    "print('修改深拷贝对象b')\n",
    "b[0] = 'world'\n",
    "b[1].append(4)\n",
    "print('修改后源对象a--{}:{}'.format(a,[id(x) for x in a]))\n",
    "print('修改后浅拷贝对象b--{}:{}'.format(b,[id(x) for x in b]))"
   ]
  },
  {
   "cell_type": "markdown",
   "metadata": {},
   "source": [
    "深拷贝就是将里面引用的对象重新创建了一遍并生成了一个新的一系列引用。\n",
    "\n",
    "基本上是这样的，但是对于字符串、数字等不可修改的对象来说，重新创建一份似乎有点浪费内存，反正你到时要修改的时候都是新建对象，刷新引用的。所以还用原来的引用也无所谓，还能达到节省内存的目的。\n",
    "\n",
    "所以上面的例子中，深拷贝后的b中第一个元素是字符串，所以还是用了原来的引用\n",
    "\n",
    "元素不可变的保持原来的引用\n",
    "\n",
    "元素可变的马上创建一个一模一样的\n",
    "\n",
    "不可变的元素修改后创建新对象，再刷新引用\n"
   ]
  },
  {
   "cell_type": "markdown",
   "metadata": {},
   "source": [
    "## 浅拷贝的几种方式"
   ]
  },
  {
   "cell_type": "code",
   "execution_count": 1,
   "metadata": {},
   "outputs": [
    {
     "name": "stdout",
     "output_type": "stream",
     "text": [
      "[8, 3]\n",
      "[1, 2, 3, 4, 5]\n"
     ]
    }
   ],
   "source": [
    "# 分片表达式能返回一个新的对象拷贝\n",
    "\n",
    "L = [1,2,3,4,5]\n",
    "C = L[1:3]\n",
    "C[0] = 8\n",
    "print(C)\n",
    "print(L)"
   ]
  },
  {
   "cell_type": "code",
   "execution_count": 2,
   "metadata": {},
   "outputs": [
    {
     "name": "stdout",
     "output_type": "stream",
     "text": [
      "{'a': 888, 'b': 2}\n",
      "{'a': 1, 'b': 2}\n"
     ]
    }
   ],
   "source": [
    "# 字典的copy方法也能够实现字典的完全复制\n",
    "\n",
    "D = {'a':1, 'b':2}\n",
    "B = D.copy()\n",
    "B['a'] = 888\n",
    "print(B)\n",
    "print(D)"
   ]
  },
  {
   "cell_type": "code",
   "execution_count": 3,
   "metadata": {},
   "outputs": [
    {
     "name": "stdout",
     "output_type": "stream",
     "text": [
      "[888, 2, 3, 4]\n",
      "[1, 2, 3, 4]\n"
     ]
    }
   ],
   "source": [
    "# 内置函数list可以生成拷贝\n",
    "\n",
    "L = [1,2,3,4]\n",
    "C = list(L)\n",
    "C[0] = 888\n",
    "print(C)\n",
    "print(L)"
   ]
  }
 ],
 "metadata": {
  "kernelspec": {
   "display_name": "Python 3",
   "language": "python",
   "name": "python3"
  },
  "language_info": {
   "codemirror_mode": {
    "name": "ipython",
    "version": 3
   },
   "file_extension": ".py",
   "mimetype": "text/x-python",
   "name": "python",
   "nbconvert_exporter": "python",
   "pygments_lexer": "ipython3",
   "version": "3.6.5"
  },
  "toc": {
   "nav_menu": {},
   "number_sections": true,
   "sideBar": true,
   "skip_h1_title": false,
   "title_cell": "Table of Contents",
   "title_sidebar": "Contents",
   "toc_cell": false,
   "toc_position": {},
   "toc_section_display": true,
   "toc_window_display": false
  },
  "varInspector": {
   "cols": {
    "lenName": 16,
    "lenType": 16,
    "lenVar": 40
   },
   "kernels_config": {
    "python": {
     "delete_cmd_postfix": "",
     "delete_cmd_prefix": "del ",
     "library": "var_list.py",
     "varRefreshCmd": "print(var_dic_list())"
    },
    "r": {
     "delete_cmd_postfix": ") ",
     "delete_cmd_prefix": "rm(",
     "library": "var_list.r",
     "varRefreshCmd": "cat(var_dic_list()) "
    }
   },
   "types_to_exclude": [
    "module",
    "function",
    "builtin_function_or_method",
    "instance",
    "_Feature"
   ],
   "window_display": false
  }
 },
 "nbformat": 4,
 "nbformat_minor": 2
}
