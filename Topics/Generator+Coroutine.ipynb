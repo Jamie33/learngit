{
 "cells": [
  {
   "cell_type": "markdown",
   "metadata": {},
   "source": [
    "[生成器使用入门协程](https://zhuanlan.zhihu.com/p/37049161)\n",
    "\n",
    "[深入理解yield from语法](https://zhuanlan.zhihu.com/p/37264442)\n",
    "\n",
    "\n",
    "# 生成器与协程\n",
    "\n",
    "## 生成器\n",
    "https://www.liaoxuefeng.com/wiki/0014316089557264a6b348958f449949df42a6d3a2e542c000/0014317799226173f45ce40636141b6abc8424e12b5fb27000\n",
    "\n",
    "通过列表生成式，我们可以直接创建一个列表。但是，受到内存限制，列表容量肯定是有限的。而且，创建一个包含100万个元素的列表，不仅占用很大的存储空间，如果我们仅仅需要访问前面几个元素，那后面绝大多数元素占用的空间都白白浪费了。\n",
    "\n",
    "所以，如果列表元素可以按照某种算法推算出来，那我们是否可以在循环的过程中不断推算出后续的元素呢？这样就不必创建完整的list，从而节省大量的空间。在Python中，这种一边循环一边计算的机制，称为生成器：generator。\n",
    "\n",
    "### 创建 generator 的两种方式\n",
    "#### 第一种：把一个列表生成式的[]改成()"
   ]
  },
  {
   "cell_type": "code",
   "execution_count": 9,
   "metadata": {},
   "outputs": [
    {
     "name": "stdout",
     "output_type": "stream",
     "text": [
      "[0, 1, 4, 9, 16]\n",
      "<generator object <genexpr> at 0x00A09ED0>\n"
     ]
    }
   ],
   "source": [
    "L = [x * x for x in range(5)]\n",
    "g = (x * x for x in range(5))\n",
    "print(L)\n",
    "print(g)"
   ]
  },
  {
   "cell_type": "markdown",
   "metadata": {},
   "source": [
    "创建L和g的区别仅在于最外层的[]和()，L是一个list，而g是一个generator。\n",
    "\n",
    "我们可以直接打印出list的每一个元素，但我们怎么打印出generator的每一个元素呢？\n",
    "\n",
    "如果要一个一个打印出来，可以通过next()函数获得generator的下一个返回值：\n",
    "\n",
    "##### 通过next()函数获得generator的下一个返回值"
   ]
  },
  {
   "cell_type": "code",
   "execution_count": 10,
   "metadata": {},
   "outputs": [
    {
     "name": "stdout",
     "output_type": "stream",
     "text": [
      "0\n",
      "1\n",
      "4\n",
      "9\n",
      "16\n"
     ]
    },
    {
     "ename": "StopIteration",
     "evalue": "",
     "output_type": "error",
     "traceback": [
      "\u001b[1;31m---------------------------------------------------------------------------\u001b[0m",
      "\u001b[1;31mStopIteration\u001b[0m                             Traceback (most recent call last)",
      "\u001b[1;32m<ipython-input-10-aed00d229696>\u001b[0m in \u001b[0;36m<module>\u001b[1;34m()\u001b[0m\n\u001b[0;32m      4\u001b[0m \u001b[0mprint\u001b[0m\u001b[1;33m(\u001b[0m\u001b[0mnext\u001b[0m\u001b[1;33m(\u001b[0m\u001b[0mg\u001b[0m\u001b[1;33m)\u001b[0m\u001b[1;33m)\u001b[0m\u001b[1;33m\u001b[0m\u001b[0m\n\u001b[0;32m      5\u001b[0m \u001b[0mprint\u001b[0m\u001b[1;33m(\u001b[0m\u001b[0mnext\u001b[0m\u001b[1;33m(\u001b[0m\u001b[0mg\u001b[0m\u001b[1;33m)\u001b[0m\u001b[1;33m)\u001b[0m\u001b[1;33m\u001b[0m\u001b[0m\n\u001b[1;32m----> 6\u001b[1;33m \u001b[0mprint\u001b[0m\u001b[1;33m(\u001b[0m\u001b[0mnext\u001b[0m\u001b[1;33m(\u001b[0m\u001b[0mg\u001b[0m\u001b[1;33m)\u001b[0m\u001b[1;33m)\u001b[0m\u001b[1;33m\u001b[0m\u001b[0m\n\u001b[0m",
      "\u001b[1;31mStopIteration\u001b[0m: "
     ]
    }
   ],
   "source": [
    "print(next(g))\n",
    "print(next(g))\n",
    "print(next(g))\n",
    "print(next(g))\n",
    "print(next(g))\n",
    "print(next(g))"
   ]
  },
  {
   "cell_type": "markdown",
   "metadata": {},
   "source": [
    "**generator保存的是算法**，每次调用next(g)，就计算出g的下一个元素的值，直到计算到最后一个元素，没有更多的元素时，抛出StopIteration的错误。\n",
    "\n",
    "当然，上面这种不断调用next(g)实在是太变态了，正确的方法是使用for循环，因为generator也是可迭代对象："
   ]
  },
  {
   "cell_type": "code",
   "execution_count": 11,
   "metadata": {},
   "outputs": [
    {
     "name": "stdout",
     "output_type": "stream",
     "text": [
      "0\n",
      "1\n",
      "4\n",
      "9\n",
      "16\n"
     ]
    }
   ],
   "source": [
    "g = (x * x for x in range(5))\n",
    "for i in g:\n",
    "    print(i)"
   ]
  },
  {
   "cell_type": "markdown",
   "metadata": {},
   "source": [
    "所以，我们创建了一个generator后，基本上永远不会调用next()，而是通过for循环来迭代它，并且不需要关心StopIteration的错误。\n",
    "\n",
    "\n",
    "如果一个函数定义中包含yield关键字，那么这个函数就不再是一个普通函数，而是一个generator\n",
    "\n",
    "以斐波拉契数为例，可以输出斐波那契数列的前N个数"
   ]
  },
  {
   "cell_type": "code",
   "execution_count": 12,
   "metadata": {},
   "outputs": [
    {
     "name": "stdout",
     "output_type": "stream",
     "text": [
      "1\n",
      "1\n",
      "2\n",
      "3\n"
     ]
    },
    {
     "data": {
      "text/plain": [
       "'done'"
      ]
     },
     "execution_count": 12,
     "metadata": {},
     "output_type": "execute_result"
    }
   ],
   "source": [
    "def fib(max):\n",
    "    n, a, b = 0, 0, 1\n",
    "    while n < max:\n",
    "        print(b)\n",
    "        a, b = b, a + b\n",
    "        n = n + 1\n",
    "    return 'done'\n",
    "\n",
    "fib(4)"
   ]
  },
  {
   "cell_type": "markdown",
   "metadata": {},
   "source": [
    "#### 第二种：用 yield \n",
    "\n",
    "仔细观察，可以看出，fib函数实际上是定义了斐波拉契数列的推算规则，可以从第一个元素开始，推算出后续任意的元素，这种逻辑其实非常类似generator。\n",
    "\n",
    "也就是说，上面的函数和generator仅一步之遥。要把fib函数变成generator，只需要把print(b)改为yield b就可以了："
   ]
  },
  {
   "cell_type": "code",
   "execution_count": 18,
   "metadata": {},
   "outputs": [
    {
     "name": "stdout",
     "output_type": "stream",
     "text": [
      "<generator object fib at 0x00A049C0>\n",
      "1\n",
      "1\n",
      "2\n",
      "3\n"
     ]
    }
   ],
   "source": [
    "def fib(max):\n",
    "    n, a, b = 0, 0, 1\n",
    "    while n < max:\n",
    "        yield b\n",
    "        a, b = b, a + b\n",
    "        n = n + 1\n",
    "    return 'done'\n",
    "\n",
    "f = fib(4)\n",
    "print(f)\n",
    "for i in f:\n",
    "    print(i)"
   ]
  },
  {
   "cell_type": "markdown",
   "metadata": {},
   "source": [
    "这里，最难理解的就是generator和函数的执行流程不一样。函数是顺序执行，遇到return语句或者最后一行函数语句就返回。\n",
    "**而变成generator的函数，在每次调用 next()的时候执行，遇到yield语句返回，再次执行时从上次返回的yield语句处继续执行。**\n",
    "\n",
    "\n",
    "### 调用生成器\n",
    "\n",
    "调用该generator时，首先要生成一个generator对象，然后用next()函数不断获得下一个返回值："
   ]
  },
  {
   "cell_type": "code",
   "execution_count": 19,
   "metadata": {},
   "outputs": [
    {
     "name": "stdout",
     "output_type": "stream",
     "text": [
      "step 1\n",
      "1\n",
      "step 2\n",
      "3\n",
      "step 3\n",
      "5\n"
     ]
    },
    {
     "ename": "StopIteration",
     "evalue": "",
     "output_type": "error",
     "traceback": [
      "\u001b[1;31m---------------------------------------------------------------------------\u001b[0m",
      "\u001b[1;31mStopIteration\u001b[0m                             Traceback (most recent call last)",
      "\u001b[1;32m<ipython-input-19-47708a3fd72f>\u001b[0m in \u001b[0;36m<module>\u001b[1;34m()\u001b[0m\n\u001b[0;32m     11\u001b[0m \u001b[0mprint\u001b[0m\u001b[1;33m(\u001b[0m\u001b[0mnext\u001b[0m\u001b[1;33m(\u001b[0m\u001b[0mo\u001b[0m\u001b[1;33m)\u001b[0m\u001b[1;33m)\u001b[0m\u001b[1;33m\u001b[0m\u001b[0m\n\u001b[0;32m     12\u001b[0m \u001b[0mprint\u001b[0m\u001b[1;33m(\u001b[0m\u001b[0mnext\u001b[0m\u001b[1;33m(\u001b[0m\u001b[0mo\u001b[0m\u001b[1;33m)\u001b[0m\u001b[1;33m)\u001b[0m\u001b[1;33m\u001b[0m\u001b[0m\n\u001b[1;32m---> 13\u001b[1;33m \u001b[0mprint\u001b[0m\u001b[1;33m(\u001b[0m\u001b[0mnext\u001b[0m\u001b[1;33m(\u001b[0m\u001b[0mo\u001b[0m\u001b[1;33m)\u001b[0m\u001b[1;33m)\u001b[0m\u001b[1;33m\u001b[0m\u001b[0m\n\u001b[0m",
      "\u001b[1;31mStopIteration\u001b[0m: "
     ]
    }
   ],
   "source": [
    "def odd():\n",
    "    print('step 1')\n",
    "    yield 1\n",
    "    print('step 2')\n",
    "    yield(3)\n",
    "    print('step 3')\n",
    "    yield(5)\n",
    "    \n",
    "o = odd()\n",
    "print(next(o))\n",
    "print(next(o))\n",
    "print(next(o))\n",
    "print(next(o))"
   ]
  },
  {
   "cell_type": "markdown",
   "metadata": {},
   "source": [
    "odd不是普通函数，而是generator，在执行过程中，遇到yield就中断，下次又继续执行。执行3次yield后，已经没有yield可以执行了，所以，第4次调用next(o)就报错。"
   ]
  },
  {
   "cell_type": "code",
   "execution_count": 22,
   "metadata": {},
   "outputs": [
    {
     "name": "stdout",
     "output_type": "stream",
     "text": [
      "1\n",
      "1\n",
      "2\n",
      "3\n"
     ]
    }
   ],
   "source": [
    "def fib(max):\n",
    "    n, a, b = 0, 0, 1\n",
    "    while n < max:\n",
    "        yield b\n",
    "        a, b = b, a + b\n",
    "        n = n + 1\n",
    "    return 'done'\n",
    "\n",
    "g = fib(4)\n",
    "for n in fib(4):\n",
    "    print(n)"
   ]
  },
  {
   "cell_type": "markdown",
   "metadata": {},
   "source": [
    "**但是用for循环调用generator时，发现拿不到generator的return语句的返回值。**\n",
    "\n",
    "如果想要拿到返回值，必须捕获StopIteration错误，返回值包含在StopIteration的value中："
   ]
  },
  {
   "cell_type": "code",
   "execution_count": 29,
   "metadata": {},
   "outputs": [
    {
     "name": "stdout",
     "output_type": "stream",
     "text": [
      "1\n",
      "1\n",
      "2\n",
      "3\n"
     ]
    },
    {
     "ename": "StopIteration",
     "evalue": "done",
     "output_type": "error",
     "traceback": [
      "\u001b[1;31m---------------------------------------------------------------------------\u001b[0m",
      "\u001b[1;31mStopIteration\u001b[0m                             Traceback (most recent call last)",
      "\u001b[1;32m<ipython-input-29-2c19bb2b3249>\u001b[0m in \u001b[0;36m<module>\u001b[1;34m()\u001b[0m\n\u001b[0;32m     13\u001b[0m \u001b[0mprint\u001b[0m\u001b[1;33m(\u001b[0m\u001b[0mnext\u001b[0m\u001b[1;33m(\u001b[0m\u001b[0mg\u001b[0m\u001b[1;33m)\u001b[0m\u001b[1;33m)\u001b[0m\u001b[1;33m\u001b[0m\u001b[0m\n\u001b[0;32m     14\u001b[0m \u001b[0mprint\u001b[0m\u001b[1;33m(\u001b[0m\u001b[0mnext\u001b[0m\u001b[1;33m(\u001b[0m\u001b[0mg\u001b[0m\u001b[1;33m)\u001b[0m\u001b[1;33m)\u001b[0m\u001b[1;33m\u001b[0m\u001b[0m\n\u001b[1;32m---> 15\u001b[1;33m \u001b[0mprint\u001b[0m\u001b[1;33m(\u001b[0m\u001b[0mnext\u001b[0m\u001b[1;33m(\u001b[0m\u001b[0mg\u001b[0m\u001b[1;33m)\u001b[0m\u001b[1;33m)\u001b[0m\u001b[1;33m\u001b[0m\u001b[0m\n\u001b[0m",
      "\u001b[1;31mStopIteration\u001b[0m: done"
     ]
    }
   ],
   "source": [
    "def fib(max):\n",
    "    n, a, b = 0, 0, 1\n",
    "    while n < max:\n",
    "        yield b\n",
    "        a, b = b, a + b\n",
    "        n = n + 1\n",
    "    return 'done'\n",
    "\n",
    "g = fib(4)\n",
    "\n",
    "print(next(g))\n",
    "print(next(g))\n",
    "print(next(g))\n",
    "print(next(g))\n",
    "print(next(g))"
   ]
  },
  {
   "cell_type": "code",
   "execution_count": 31,
   "metadata": {},
   "outputs": [
    {
     "name": "stdout",
     "output_type": "stream",
     "text": [
      "1\n",
      "1\n",
      "2\n",
      "3\n",
      "Generator return value: done\n"
     ]
    }
   ],
   "source": [
    "def fib(max):\n",
    "    n, a, b = 0, 0, 1\n",
    "    while n < max:\n",
    "        yield b\n",
    "        a, b = b, a + b\n",
    "        n = n + 1\n",
    "    return 'done'\n",
    "\n",
    "g = fib(4)\n",
    "while True:\n",
    "    try:\n",
    "        x = next(g)\n",
    "        print(x)\n",
    "    except StopIteration as e:\n",
    "        print('Generator return value:',e.value)\n",
    "        break"
   ]
  },
  {
   "cell_type": "markdown",
   "metadata": {},
   "source": [
    "### yield 与 return\n",
    "http://python.jobbole.com/81911/\n",
    "\n",
    "#### 没有 return\n",
    "在一个生成器中，如果没有return，则默认执行到函数完毕时返回StopIteration；"
   ]
  },
  {
   "cell_type": "code",
   "execution_count": 2,
   "metadata": {},
   "outputs": [
    {
     "name": "stdout",
     "output_type": "stream",
     "text": [
      "1\n"
     ]
    },
    {
     "ename": "StopIteration",
     "evalue": "",
     "output_type": "error",
     "traceback": [
      "\u001b[1;31m---------------------------------------------------------------------------\u001b[0m",
      "\u001b[1;31mStopIteration\u001b[0m                             Traceback (most recent call last)",
      "\u001b[1;32m<ipython-input-2-359d632cb23e>\u001b[0m in \u001b[0;36m<module>\u001b[1;34m()\u001b[0m\n\u001b[0;32m      4\u001b[0m \u001b[0mg\u001b[0m \u001b[1;33m=\u001b[0m \u001b[0mg1\u001b[0m\u001b[1;33m(\u001b[0m\u001b[1;33m)\u001b[0m\u001b[1;33m\u001b[0m\u001b[0m\n\u001b[0;32m      5\u001b[0m \u001b[0mprint\u001b[0m\u001b[1;33m(\u001b[0m\u001b[0mnext\u001b[0m\u001b[1;33m(\u001b[0m\u001b[0mg\u001b[0m\u001b[1;33m)\u001b[0m\u001b[1;33m)\u001b[0m\u001b[1;33m\u001b[0m\u001b[0m\n\u001b[1;32m----> 6\u001b[1;33m \u001b[0mprint\u001b[0m\u001b[1;33m(\u001b[0m\u001b[0mnext\u001b[0m\u001b[1;33m(\u001b[0m\u001b[0mg\u001b[0m\u001b[1;33m)\u001b[0m\u001b[1;33m)\u001b[0m\u001b[1;33m\u001b[0m\u001b[0m\n\u001b[0m",
      "\u001b[1;31mStopIteration\u001b[0m: "
     ]
    }
   ],
   "source": [
    "def g1():\n",
    "    yield 1\n",
    "\n",
    "g = g1()\n",
    "print(next(g))\n",
    "print(next(g))"
   ]
  },
  {
   "cell_type": "markdown",
   "metadata": {},
   "source": [
    "- 第一次调用next(g)时，会在执行完yield语句后挂起，所以此时程序并没有执行结束。\n",
    "- 程序试图从yield语句的下一条语句开始执行，发现已经到了结尾，所以抛出StopIteration异常。\n",
    "\n",
    "#### 有return\n",
    "如果遇到return,如果在执行过程中 return，则直接抛出 StopIteration 终止迭代。"
   ]
  },
  {
   "cell_type": "code",
   "execution_count": 3,
   "metadata": {},
   "outputs": [
    {
     "name": "stdout",
     "output_type": "stream",
     "text": [
      "a\n"
     ]
    },
    {
     "ename": "StopIteration",
     "evalue": "",
     "output_type": "error",
     "traceback": [
      "\u001b[1;31m---------------------------------------------------------------------------\u001b[0m",
      "\u001b[1;31mStopIteration\u001b[0m                             Traceback (most recent call last)",
      "\u001b[1;32m<ipython-input-3-bf77418ba625>\u001b[0m in \u001b[0;36m<module>\u001b[1;34m()\u001b[0m\n\u001b[0;32m      6\u001b[0m \u001b[0mg\u001b[0m \u001b[1;33m=\u001b[0m \u001b[0mg2\u001b[0m\u001b[1;33m(\u001b[0m\u001b[1;33m)\u001b[0m\u001b[1;33m\u001b[0m\u001b[0m\n\u001b[0;32m      7\u001b[0m \u001b[0mprint\u001b[0m\u001b[1;33m(\u001b[0m\u001b[0mnext\u001b[0m\u001b[1;33m(\u001b[0m\u001b[0mg\u001b[0m\u001b[1;33m)\u001b[0m\u001b[1;33m)\u001b[0m\u001b[1;33m\u001b[0m\u001b[0m\n\u001b[1;32m----> 8\u001b[1;33m \u001b[0mprint\u001b[0m\u001b[1;33m(\u001b[0m\u001b[0mnext\u001b[0m\u001b[1;33m(\u001b[0m\u001b[0mg\u001b[0m\u001b[1;33m)\u001b[0m\u001b[1;33m)\u001b[0m\u001b[1;33m\u001b[0m\u001b[0m\n\u001b[0m",
      "\u001b[1;31mStopIteration\u001b[0m: "
     ]
    }
   ],
   "source": [
    "def g2():\n",
    "    yield 'a'\n",
    "    return\n",
    "    yield 'b'\n",
    "\n",
    "g = g2()\n",
    "print(next(g))\n",
    "print(next(g))"
   ]
  },
  {
   "cell_type": "markdown",
   "metadata": {},
   "source": [
    "- 程序停留在执行完yield 'a'语句后的位置。\n",
    "- 程序发现下一条语句是return，所以抛出StopIteration异常，这样yield 'b'语句永远也不会执行。\n",
    "\n",
    "#### 有带返回值的 return\n",
    "\n",
    "如果在return后返回一个值，那么这个值为StopIteration异常的说明，不是程序的返回值。\n",
    "\n",
    "生成器没有办法使用return来返回值。\n",
    "\n",
    "**如果想要拿到返回值，必须捕获StopIteration错误，返回值包含在StopIteration的value中**"
   ]
  },
  {
   "cell_type": "code",
   "execution_count": 28,
   "metadata": {},
   "outputs": [
    {
     "name": "stdout",
     "output_type": "stream",
     "text": [
      "hello\n"
     ]
    },
    {
     "ename": "StopIteration",
     "evalue": "world",
     "output_type": "error",
     "traceback": [
      "\u001b[1;31m---------------------------------------------------------------------------\u001b[0m",
      "\u001b[1;31mStopIteration\u001b[0m                             Traceback (most recent call last)",
      "\u001b[1;32m<ipython-input-28-a61b00c1f77e>\u001b[0m in \u001b[0;36m<module>\u001b[1;34m()\u001b[0m\n\u001b[0;32m      5\u001b[0m \u001b[0mg\u001b[0m \u001b[1;33m=\u001b[0m \u001b[0mg3\u001b[0m\u001b[1;33m(\u001b[0m\u001b[1;33m)\u001b[0m\u001b[1;33m\u001b[0m\u001b[0m\n\u001b[0;32m      6\u001b[0m \u001b[0mprint\u001b[0m\u001b[1;33m(\u001b[0m\u001b[0mnext\u001b[0m\u001b[1;33m(\u001b[0m\u001b[0mg\u001b[0m\u001b[1;33m)\u001b[0m\u001b[1;33m)\u001b[0m\u001b[1;33m\u001b[0m\u001b[0m\n\u001b[1;32m----> 7\u001b[1;33m \u001b[0mprint\u001b[0m\u001b[1;33m(\u001b[0m\u001b[0mnext\u001b[0m\u001b[1;33m(\u001b[0m\u001b[0mg\u001b[0m\u001b[1;33m)\u001b[0m\u001b[1;33m)\u001b[0m\u001b[1;33m\u001b[0m\u001b[0m\n\u001b[0m",
      "\u001b[1;31mStopIteration\u001b[0m: world"
     ]
    }
   ],
   "source": [
    "def g3():\n",
    "    yield 'hello'\n",
    "    return 'world'\n",
    "\n",
    "g = g3()\n",
    "print(next(g))\n",
    "print(next(g))"
   ]
  },
  {
   "cell_type": "code",
   "execution_count": 31,
   "metadata": {},
   "outputs": [
    {
     "name": "stdout",
     "output_type": "stream",
     "text": [
      "hello\n",
      "Generator return value: world\n"
     ]
    }
   ],
   "source": [
    "def g3():\n",
    "    yield 'hello'\n",
    "    return 'world'\n",
    "\n",
    "try:\n",
    "    g = g3()\n",
    "    print(next(g))\n",
    "    print(next(g))\n",
    "except StopIteration as e:\n",
    "    print('Generator return value:',e.value)\n"
   ]
  },
  {
   "cell_type": "markdown",
   "metadata": {},
   "source": [
    "### 生成器支持的方法\n",
    "\n",
    "- close() 手动关闭生成器函数，后面的调用会直接返回StopIteration异常。\n",
    "- send() 生成器函数最大的特点是可以接受外部传入的一个变量，并根据变量内容计算结果后返回。这是生成器函数最难理解的地方，也是最重要的地方，实现后面我会讲到的协程就全靠它了。\n",
    "\n",
    "- throw() 用来向生成器函数送入一个异常，可以结束系统定义的异常，或者自定义的异常。"
   ]
  },
  {
   "cell_type": "code",
   "execution_count": 8,
   "metadata": {
    "scrolled": true
   },
   "outputs": [
    {
     "name": "stdout",
     "output_type": "stream",
     "text": [
      "Help on generator object:\n",
      "\n",
      "g3 = class generator(object)\n",
      " |  Methods defined here:\n",
      " |  \n",
      " |  __del__(...)\n",
      " |  \n",
      " |  __getattribute__(self, name, /)\n",
      " |      Return getattr(self, name).\n",
      " |  \n",
      " |  __iter__(self, /)\n",
      " |      Implement iter(self).\n",
      " |  \n",
      " |  __next__(self, /)\n",
      " |      Implement next(self).\n",
      " |  \n",
      " |  __repr__(self, /)\n",
      " |      Return repr(self).\n",
      " |  \n",
      " |  close(...)\n",
      " |      close() -> raise GeneratorExit inside generator.\n",
      " |  \n",
      " |  send(...)\n",
      " |      send(arg) -> send 'arg' into generator,\n",
      " |      return next yielded value or raise StopIteration.\n",
      " |  \n",
      " |  throw(...)\n",
      " |      throw(typ[,val[,tb]]) -> raise exception in generator,\n",
      " |      return next yielded value or raise StopIteration.\n",
      " |  \n",
      " |  ----------------------------------------------------------------------\n",
      " |  Data descriptors defined here:\n",
      " |  \n",
      " |  gi_code\n",
      " |  \n",
      " |  gi_frame\n",
      " |  \n",
      " |  gi_running\n",
      " |  \n",
      " |  gi_yieldfrom\n",
      " |      object being iterated by yield from, or None\n",
      "\n"
     ]
    }
   ],
   "source": [
    "help(g)"
   ]
  },
  {
   "cell_type": "markdown",
   "metadata": {},
   "source": [
    "#### close() \n",
    "手动关闭生成器函数，后面的调用会直接返回StopIteration异常。"
   ]
  },
  {
   "cell_type": "code",
   "execution_count": 11,
   "metadata": {},
   "outputs": [
    {
     "name": "stdout",
     "output_type": "stream",
     "text": [
      "1\n"
     ]
    },
    {
     "ename": "StopIteration",
     "evalue": "",
     "output_type": "error",
     "traceback": [
      "\u001b[1;31m---------------------------------------------------------------------------\u001b[0m",
      "\u001b[1;31mStopIteration\u001b[0m                             Traceback (most recent call last)",
      "\u001b[1;32m<ipython-input-11-c3f5e83c26bc>\u001b[0m in \u001b[0;36m<module>\u001b[1;34m()\u001b[0m\n\u001b[0;32m      7\u001b[0m \u001b[0mprint\u001b[0m\u001b[1;33m(\u001b[0m\u001b[0mnext\u001b[0m\u001b[1;33m(\u001b[0m\u001b[0mg\u001b[0m\u001b[1;33m)\u001b[0m\u001b[1;33m)\u001b[0m\u001b[1;33m\u001b[0m\u001b[0m\n\u001b[0;32m      8\u001b[0m \u001b[0mg\u001b[0m\u001b[1;33m.\u001b[0m\u001b[0mclose\u001b[0m\u001b[1;33m(\u001b[0m\u001b[1;33m)\u001b[0m\u001b[1;33m\u001b[0m\u001b[0m\n\u001b[1;32m----> 9\u001b[1;33m \u001b[0mprint\u001b[0m\u001b[1;33m(\u001b[0m\u001b[0mnext\u001b[0m\u001b[1;33m(\u001b[0m\u001b[0mg\u001b[0m\u001b[1;33m)\u001b[0m\u001b[1;33m)\u001b[0m\u001b[1;33m\u001b[0m\u001b[0m\n\u001b[0m",
      "\u001b[1;31mStopIteration\u001b[0m: "
     ]
    }
   ],
   "source": [
    "def g4():\n",
    "    yield 1\n",
    "    yield 2\n",
    "    yield 3\n",
    "\n",
    "g = g4()\n",
    "print(next(g))\n",
    "g.close()\n",
    "print(next(g))"
   ]
  },
  {
   "cell_type": "markdown",
   "metadata": {},
   "source": [
    "#### send()\n",
    "\n",
    "生成器函数最大的特点是可以接受外部传入的一个变量，并根据变量内容计算结果后返回。\n",
    "这是生成器函数最难理解的地方，也是最重要的地方，实现后面我会讲到的协程就全靠它了。"
   ]
  },
  {
   "cell_type": "code",
   "execution_count": 76,
   "metadata": {},
   "outputs": [
    {
     "name": "stdout",
     "output_type": "stream",
     "text": [
      "0\n",
      "got:aaa\n",
      "got:3\n"
     ]
    },
    {
     "ename": "StopIteration",
     "evalue": "",
     "output_type": "error",
     "traceback": [
      "\u001b[1;31m---------------------------------------------------------------------------\u001b[0m",
      "\u001b[1;31mStopIteration\u001b[0m                             Traceback (most recent call last)",
      "\u001b[1;32m<ipython-input-76-8ec393bed038>\u001b[0m in \u001b[0;36m<module>\u001b[1;34m()\u001b[0m\n\u001b[0;32m     11\u001b[0m \u001b[0mprint\u001b[0m\u001b[1;33m(\u001b[0m\u001b[0mg\u001b[0m\u001b[1;33m.\u001b[0m\u001b[0msend\u001b[0m\u001b[1;33m(\u001b[0m\u001b[1;34m'aaa'\u001b[0m\u001b[1;33m)\u001b[0m\u001b[1;33m)\u001b[0m\u001b[1;33m\u001b[0m\u001b[0m\n\u001b[0;32m     12\u001b[0m \u001b[0mprint\u001b[0m\u001b[1;33m(\u001b[0m\u001b[0mg\u001b[0m\u001b[1;33m.\u001b[0m\u001b[0msend\u001b[0m\u001b[1;33m(\u001b[0m\u001b[1;36m3\u001b[0m\u001b[1;33m)\u001b[0m\u001b[1;33m)\u001b[0m\u001b[1;33m\u001b[0m\u001b[0m\n\u001b[1;32m---> 13\u001b[1;33m \u001b[0mprint\u001b[0m\u001b[1;33m(\u001b[0m\u001b[0mg\u001b[0m\u001b[1;33m.\u001b[0m\u001b[0msend\u001b[0m\u001b[1;33m(\u001b[0m\u001b[1;34m'e'\u001b[0m\u001b[1;33m)\u001b[0m\u001b[1;33m)\u001b[0m\u001b[1;33m\u001b[0m\u001b[0m\n\u001b[0m",
      "\u001b[1;31mStopIteration\u001b[0m: "
     ]
    }
   ],
   "source": [
    "def gen():\n",
    "    value = 0\n",
    "    while True:\n",
    "        receive = yield value\n",
    "        if receive == 'e':\n",
    "            break\n",
    "        value = 'got:{}'.format(receive)\n",
    "        \n",
    "g = gen()  # 调用生成器时，首先要生成一个generator对象\n",
    "print(g.send(None))\n",
    "print(g.send('aaa'))\n",
    "print(g.send(3))\n",
    "print(g.send('e'))"
   ]
  },
  {
   "cell_type": "markdown",
   "metadata": {},
   "source": [
    "其实receive=yield value包含了3个步骤： \n",
    "1、向函数外抛出（返回）value \n",
    "2、暂停(pause)，等待next()或send()恢复 \n",
    "3、赋值receive=MockGetValue() 。 这个MockGetValue()是假想函数，用来接收send()发送进来的值\n",
    "\n",
    "\n",
    "执行流程：\n",
    "\n",
    "- **通过g.send(None)或者next(g)可以启动生成器函数**，并执行到第一个yield语句结束的位置。此时，执行完了yield语句，但是没有给receive赋值。yield value会输出初始值0\n",
    "**注意：在启动生成器函数时只能send(None),如果试图输入其它的值都会得到错误提示信息。**\n",
    "- 通过g.send(‘aaa’)，会传入aaa，并赋值给receive，然后计算出value的值，并回到while头部，执行yield value语句有停止。此时yield value会输出”got: aaa”，然后挂起。\n",
    "- 通过g.send(3)，会重复第2步，最后输出结果为”got: 3″\n",
    "当我们g.send(‘e’)时，程序会执行break然后推出循环，最后整个函数执行完毕，所以会得到StopIteration异常。\n",
    "\n",
    "从上面可以看出， 在第一次send(None)启动生成器（执行1–>2，通常第一次返回的值没有什么用）之后，对于外部的每一次send()，生成器的实际在循环中的运行顺序是3–>1–>2，也就是先获取值，然后dosomething，然后返回一个值，再暂停等待。\n",
    "\n",
    "\n",
    "#### throw()\n",
    "\n",
    "用来向生成器函数送入一个异常，可以结束系统定义的异常，或者自定义的异常。\n",
    "\n",
    "致使生成器在暂停的 yield 表达式处抛出指定的异常。如果生成器处理了抛出的异常，代码会向前执行到下一个 yield 表达式，而产出的值会成为调用 generator.throw方法得到的返回值。如果生成器没有处理抛出的异常，异常会向上冒泡，传到调用方的上下文中"
   ]
  },
  {
   "cell_type": "code",
   "execution_count": 1,
   "metadata": {},
   "outputs": [
    {
     "name": "stdout",
     "output_type": "stream",
     "text": [
      "normal value\n",
      "we got ValueError here\n",
      "normal value\n",
      "normal value 2\n"
     ]
    },
    {
     "ename": "StopIteration",
     "evalue": "",
     "output_type": "error",
     "traceback": [
      "\u001b[1;31m---------------------------------------------------------------------------\u001b[0m",
      "\u001b[1;31mStopIteration\u001b[0m                             Traceback (most recent call last)",
      "\u001b[1;32m<ipython-input-1-a84524bafa57>\u001b[0m in \u001b[0;36m<module>\u001b[1;34m()\u001b[0m\n\u001b[0;32m     14\u001b[0m \u001b[0mprint\u001b[0m\u001b[1;33m(\u001b[0m\u001b[0mg\u001b[0m\u001b[1;33m.\u001b[0m\u001b[0mthrow\u001b[0m\u001b[1;33m(\u001b[0m\u001b[0mValueError\u001b[0m\u001b[1;33m)\u001b[0m\u001b[1;33m)\u001b[0m\u001b[1;33m\u001b[0m\u001b[0m\n\u001b[0;32m     15\u001b[0m \u001b[0mprint\u001b[0m\u001b[1;33m(\u001b[0m\u001b[0mnext\u001b[0m\u001b[1;33m(\u001b[0m\u001b[0mg\u001b[0m\u001b[1;33m)\u001b[0m\u001b[1;33m)\u001b[0m\u001b[1;33m\u001b[0m\u001b[0m\n\u001b[1;32m---> 16\u001b[1;33m \u001b[0mprint\u001b[0m\u001b[1;33m(\u001b[0m\u001b[0mg\u001b[0m\u001b[1;33m.\u001b[0m\u001b[0mthrow\u001b[0m\u001b[1;33m(\u001b[0m\u001b[0mTypeError\u001b[0m\u001b[1;33m)\u001b[0m\u001b[1;33m)\u001b[0m\u001b[1;33m\u001b[0m\u001b[0m\n\u001b[0m",
      "\u001b[1;31mStopIteration\u001b[0m: "
     ]
    }
   ],
   "source": [
    "def gen():\n",
    "    while True:\n",
    "        try:\n",
    "            yield 'normal value'\n",
    "            yield 'normal value 2'\n",
    "            print('here')\n",
    "        except ValueError:\n",
    "            print('we got ValueError here')\n",
    "        except TypeError:\n",
    "            break\n",
    "            \n",
    "g = gen()\n",
    "print(next(g))\n",
    "print(g.throw(ValueError))\n",
    "print(next(g))\n",
    "print(g.throw(TypeError))"
   ]
  },
  {
   "cell_type": "markdown",
   "metadata": {},
   "source": [
    "解释：\n",
    "\n",
    "- print(next(g))：会输出normal value，并停留在yield ‘normal value 2’之前。\n",
    "- 由于执行了g.throw(ValueError)，所以会跳过所有后续的try语句，也就是说yield ‘normal value 2’不会被执行，然后进入到except语句，打印出we got ValueError here。然后再次进入到while语句部分，消耗一个yield，所以会输出normal value。\n",
    "- print(next(g))，会执行yield ‘normal value 2’语句，并停留在执行完该语句后的位置。\n",
    "- g.throw(TypeError)：会跳出try语句，从而print(‘here’)不会被执行，然后执行break语句，跳出while循环，然后到达程序结尾，所以跑出StopIteration异常。\n",
    "\n",
    "下面给出一个综合例子，用来把一个多维列表展开，或者说扁平化多维列表)"
   ]
  },
  {
   "cell_type": "code",
   "execution_count": 9,
   "metadata": {},
   "outputs": [
    {
     "name": "stdout",
     "output_type": "stream",
     "text": [
      "got: aaadf\n",
      "got: 1\n",
      "got: 2\n",
      "got: 3\n",
      "got: 2\n",
      "got: 4\n",
      "got: 5\n",
      "got: 6\n",
      "got: 8\n",
      "got: 9\n",
      "got: ddf\n",
      "got: 7\n"
     ]
    }
   ],
   "source": [
    "def flatten(nested):\n",
    "    try:\n",
    "        if isinstance(nested,str):\n",
    "            raise TypeError\n",
    "        for sublist in nested:\n",
    "            for element in flatten(sublist):\n",
    "                print('got:',element)\n",
    "    except TypeError:\n",
    "        yield nested\n",
    "        \n",
    "L=['aaadf',[1,2,3],2,4,[5,[6,[8,[9]],'ddf'],7]]\n",
    "\n",
    "for num in flatten(L):\n",
    "    print(num)"
   ]
  },
  {
   "cell_type": "markdown",
   "metadata": {},
   "source": [
    "### 总结\n",
    "\n",
    "- 按照鸭子模型理论，生成器就是一种迭代器，可以使用for进行迭代。\n",
    "- 第一次执行next(generator)时，会执行完yield语句后程序进行挂起，所有的参数和状态会进行保存。再一次执行next(generator)时，会从挂起的状态开始往后执行。在遇到程序的结尾或者遇到StopIteration时，循环结束。\n",
    "- 可以通过generator.send(arg)来传入参数，这是协程模型。\n",
    "- 可以通过generator.throw(exception)来传入一个异常。throw语句会消耗掉一个yield。可以通过generator.close()来手动关闭生成器。\n",
    "- next()等价于send(None)"
   ]
  },
  {
   "cell_type": "markdown",
   "metadata": {},
   "source": [
    "## 流畅的python - 协程\n",
    "https://segmentfault.com/a/1190000009769387\n",
    "\n",
    "### 用作协程的生成器的基本行为\n",
    "\n",
    "#### 最简单的协程"
   ]
  },
  {
   "cell_type": "code",
   "execution_count": 40,
   "metadata": {},
   "outputs": [
    {
     "name": "stdout",
     "output_type": "stream",
     "text": [
      "GEN_CREATED\n",
      "-> coroutine started\n",
      "GEN_SUSPENDED\n",
      "-> coroutine received: 42\n"
     ]
    },
    {
     "ename": "StopIteration",
     "evalue": "",
     "output_type": "error",
     "traceback": [
      "\u001b[1;31m---------------------------------------------------------------------------\u001b[0m",
      "\u001b[1;31mStopIteration\u001b[0m                             Traceback (most recent call last)",
      "\u001b[1;32m<ipython-input-40-840c32366c39>\u001b[0m in \u001b[0;36m<module>\u001b[1;34m()\u001b[0m\n\u001b[0;32m     11\u001b[0m \u001b[0mmy_coro\u001b[0m\u001b[1;33m.\u001b[0m\u001b[0msend\u001b[0m\u001b[1;33m(\u001b[0m\u001b[1;32mNone\u001b[0m\u001b[1;33m)\u001b[0m\u001b[1;33m\u001b[0m\u001b[0m\n\u001b[0;32m     12\u001b[0m \u001b[0mprint\u001b[0m\u001b[1;33m(\u001b[0m\u001b[0minspect\u001b[0m\u001b[1;33m.\u001b[0m\u001b[0mgetgeneratorstate\u001b[0m\u001b[1;33m(\u001b[0m\u001b[0mmy_coro\u001b[0m\u001b[1;33m)\u001b[0m\u001b[1;33m)\u001b[0m\u001b[1;33m\u001b[0m\u001b[0m\n\u001b[1;32m---> 13\u001b[1;33m \u001b[0mmy_coro\u001b[0m\u001b[1;33m.\u001b[0m\u001b[0msend\u001b[0m\u001b[1;33m(\u001b[0m\u001b[1;36m42\u001b[0m\u001b[1;33m)\u001b[0m\u001b[1;33m\u001b[0m\u001b[0m\n\u001b[0m",
      "\u001b[1;31mStopIteration\u001b[0m: "
     ]
    }
   ],
   "source": [
    "import inspect\n",
    "\n",
    "def simple_coroutine():\n",
    "    print('-> coroutine started')\n",
    "    x = yield\n",
    "    print('-> coroutine received:',x)\n",
    "    \n",
    "my_coro = simple_coroutine() # 调用函数得到生成器对象\n",
    "print(inspect.getgeneratorstate(my_coro))\n",
    "\n",
    "my_coro.send(None)\n",
    "print(inspect.getgeneratorstate(my_coro))\n",
    "my_coro.send(42) # 这里，控制权流动到协程定义体的末尾，导致生成器像往常一样抛出 StopIteration 异常"
   ]
  },
  {
   "cell_type": "markdown",
   "metadata": {},
   "source": [
    "- 协程使用生成器函数定义：定义体中有 yield 关键字。\n",
    "- yield 在表达式中使用；如果协程只需从客户那里接收数据，那么产出的值是 None ——这个值是隐式指定的，因为 yield 关键字右边没有表达式\n",
    "- **与创建生成器的方式一样，调用函数得到生成器对象。**\n",
    "- **send方法的参数会成为暂停yield表达式的值**，所以，仅当协程处于暂停状态是才能调用send方法。如果协程还未激活（GEN_CREATED 状态）要调用next(my_coro) 激活协程，也可以调用my_coro.send(None)\n",
    "- 最先调用my_coro.send(None) / next(my_coro) 这一步通常称为”预激“（prime）协程---即，让协程向前执行到第一个yield表达式，准备好作为活跃的协程使用。\n",
    "- 控制权流动到协程定义体的末尾，导致生成器像往常一样抛出 StopIteration 异常\n",
    "- 注意：在启动生成器函数时只能 my_coro.send(None)/ next(my_coro) ,如果试图输入其它的值都会得到错误提示信息。\n",
    "\n",
    "**协程四个状态**\n",
    "协程可以身处四个状态中的一个。当前状态可以使用 inspect.getgeneratorstate(...) 函数确定，该函数会返回下述字符串中的一个\n",
    "\n",
    "- GEN_CREATED # 等待开始执行\n",
    "- GEN_RUNNING # 解释器正在执行（只有在多线程应用中才能看到这个状态）\n",
    "- GEN_SUSPENDED # 在yield表达式处暂停\n",
    "- GEN_CLOSED # 执行结束\n",
    "\n",
    "#### 产出两个值的协程"
   ]
  },
  {
   "cell_type": "code",
   "execution_count": 83,
   "metadata": {},
   "outputs": [
    {
     "name": "stdout",
     "output_type": "stream",
     "text": [
      "GEN_CREATED\n",
      "-> Started: a = 14\n",
      "GEN_SUSPENDED\n",
      "-> Received: b = 28\n",
      "GEN_SUSPENDED\n",
      "-> Received: c = 99\n"
     ]
    },
    {
     "ename": "StopIteration",
     "evalue": "",
     "output_type": "error",
     "traceback": [
      "\u001b[1;31m---------------------------------------------------------------------------\u001b[0m",
      "\u001b[1;31mStopIteration\u001b[0m                             Traceback (most recent call last)",
      "\u001b[1;32m<ipython-input-83-cb38ffd84300>\u001b[0m in \u001b[0;36m<module>\u001b[1;34m()\u001b[0m\n\u001b[0;32m     12\u001b[0m \u001b[0mmycoro\u001b[0m\u001b[1;33m.\u001b[0m\u001b[0msend\u001b[0m\u001b[1;33m(\u001b[0m\u001b[1;36m28\u001b[0m\u001b[1;33m)\u001b[0m \u001b[1;31m# 5\u001b[0m\u001b[1;33m\u001b[0m\u001b[0m\n\u001b[0;32m     13\u001b[0m \u001b[0mprint\u001b[0m\u001b[1;33m(\u001b[0m\u001b[0minspect\u001b[0m\u001b[1;33m.\u001b[0m\u001b[0mgetgeneratorstate\u001b[0m\u001b[1;33m(\u001b[0m\u001b[0mmycoro\u001b[0m\u001b[1;33m)\u001b[0m\u001b[1;33m)\u001b[0m \u001b[1;31m# 6\u001b[0m\u001b[1;33m\u001b[0m\u001b[0m\n\u001b[1;32m---> 14\u001b[1;33m \u001b[0mmycoro\u001b[0m\u001b[1;33m.\u001b[0m\u001b[0msend\u001b[0m\u001b[1;33m(\u001b[0m\u001b[1;36m99\u001b[0m\u001b[1;33m)\u001b[0m \u001b[1;31m# 7\u001b[0m\u001b[1;33m\u001b[0m\u001b[0m\n\u001b[0m\u001b[0;32m     15\u001b[0m \u001b[0mprint\u001b[0m\u001b[1;33m(\u001b[0m\u001b[0minspect\u001b[0m\u001b[1;33m.\u001b[0m\u001b[0mgetgeneratorstate\u001b[0m\u001b[1;33m(\u001b[0m\u001b[0mmycoro\u001b[0m\u001b[1;33m)\u001b[0m\u001b[1;33m)\u001b[0m\u001b[1;33m\u001b[0m\u001b[0m\n",
      "\u001b[1;31mStopIteration\u001b[0m: "
     ]
    }
   ],
   "source": [
    "def  simple_coro2(a):\n",
    "    print('-> Started: a =', a)\n",
    "    b = yield a\n",
    "    print('-> Received: b =', b)\n",
    "    c = yield a + b\n",
    "    print('-> Received: c =', c)\n",
    "\n",
    "mycoro =  simple_coro2(14) # 1\n",
    "print(inspect.getgeneratorstate(mycoro))  # 2\n",
    "mycoro.send(None) # 3\n",
    "print(inspect.getgeneratorstate(mycoro))  # 4\n",
    "mycoro.send(28) # 5\n",
    "print(inspect.getgeneratorstate(mycoro)) # 6\n",
    "mycoro.send(99) # 7"
   ]
  },
  {
   "cell_type": "markdown",
   "metadata": {},
   "source": [
    "1. 调用函数得到生成器对象\n",
    "2. 协程未启动\n",
    "3. 预激协程 -- 向前执行协程到第一个 yield 表达式，打印 -> Started: a = 14 消息，然后产出 a 的值，并且暂停，等待为 b 赋值\n",
    "4. 协程在第一个 yield 表达式处暂停\n",
    "5. 把数字28 发给暂停的协程，赋值给b。 b= MockGetValue(),这个MockGetValue()是假想函数，用来接收send()发送进来的值。打印 -> Received: b = 28 消息，产出 a + b 的值（42），然后协程暂停，等待为 c 赋值。\n",
    "6. 协程在第二个 yield 表达式处暂停\n",
    "7. 把数字 99 发给暂停的协程，赋值给 c。打印 -> Received: c = 99 消息，产出 a + b 的值（42）。协程到尾部，导致生成器对象抛出 StopIteration 异常\n",
    "\n",
    "关键的一点是，协程在 yield 关键字所在的位置暂停执行。前面说过，在赋值语句中，= 右边的代码在赋值之前执行。因此，对于 b = yield a 这行代码来说，等到客户端代码再激活协程时才会设定 b 的值。这种行为要花点时间才能习惯，不过一定要理解，这样才能弄懂异步编程中 yield 的作用。\n",
    "\n",
    "\n",
    "### 使用协程计算移动平均值\n",
    "\n",
    "定义一个计算移动平均值的协程"
   ]
  },
  {
   "cell_type": "code",
   "execution_count": 89,
   "metadata": {},
   "outputs": [
    {
     "name": "stdout",
     "output_type": "stream",
     "text": [
      "None\n",
      "10.0\n",
      "10.5\n",
      "11.0\n"
     ]
    }
   ],
   "source": [
    "def averager():\n",
    "    count = 0\n",
    "    total = 0.0\n",
    "    average = None\n",
    "    while True:\n",
    "        term = yield average\n",
    "        count += 1\n",
    "        total += term\n",
    "        average = total/count\n",
    "\n",
    "avg = averager() # 创建协程对象\n",
    "print(next(avg)) # 调用 next 函数，预激协程, 协程会向前执行到 yield 表达式，产出 average 变量的初始值——None\n",
    "print(avg.send(10)) # 计算移动平均值：多次调用 .send(...) 方法，产出当前的平均值\n",
    "print(avg.send(11))\n",
    "print(avg.send(12))"
   ]
  },
  {
   "cell_type": "markdown",
   "metadata": {},
   "source": [
    "- 这个无限循环表明，只要调用方不断把值发给这个协程，它就会一直接收值，然后生成结果。仅当调用方在协程上调用 .close() 方法，或者没有对协程的引用而被垃圾回收程序回收时，这个协程才会终止。\n",
    "- 这里的 yield 表达式用于暂停执行协程，把结果发给调用方；还用于接收调用方后面发给协程的值，恢复无限循环\n",
    "\n",
    "使用协程的好处是，total 和 count 声明为局部变量即可，无需使用实例属性或闭包在多次调用之间保持上下文。\n",
    "\n",
    "如何终止执行 averager 实例（如 avg），因为定义体中有个无限循环。讨论如何终止协程之前，我们要先谈谈如何启动协程。使用协程之前必须预激，可是这一\n",
    "步容易忘记。为了避免忘记，可以在协程上使用一个特殊的装饰器。接下来介绍这样一个装饰器。"
   ]
  },
  {
   "cell_type": "markdown",
   "metadata": {},
   "source": [
    "### 使用装饰器预激协程\n",
    "\n",
    "如果不预激，那么协程没什么用。调用 my_coro.send(x) 之前，记住一定要调用 next(my_coro)。为了简化协程的用法，有时会使用一个预激装饰器。示"
   ]
  },
  {
   "cell_type": "code",
   "execution_count": 96,
   "metadata": {},
   "outputs": [
    {
     "name": "stdout",
     "output_type": "stream",
     "text": [
      "GEN_SUSPENDED\n"
     ]
    },
    {
     "data": {
      "text/plain": [
       "10.0"
      ]
     },
     "execution_count": 96,
     "metadata": {},
     "output_type": "execute_result"
    }
   ],
   "source": [
    "from functools import wraps\n",
    "from inspect import getgeneratorstate\n",
    "\n",
    "\n",
    "def coroutine(func):\n",
    "    '''\n",
    "    装饰器： 向前执行到第一个`yield`表达式，预激`func`\n",
    "    :param func: func name\n",
    "    :return: primer\n",
    "    '''    \n",
    "    @wraps(func)\n",
    "    def primer(*args,**kwargs):\n",
    "        # 把装饰器生成器函数替换成这里的primer函数；调用primer函数时，返回预激后的生成器。\n",
    "        gen = func(*args,**kwargs)\n",
    "        # 调用被被装饰函数，获取生成器对象\n",
    "        gen.send(None) # 预激生成器\n",
    "        return gen # 返回生成器\n",
    "    return primer \n",
    "\n",
    "@coroutine\n",
    "def averager():\n",
    "    count = 0\n",
    "    total = 0.0\n",
    "    average = None\n",
    "    while True:\n",
    "        term = yield average\n",
    "        count += 1\n",
    "        total += term\n",
    "        average = total/count\n",
    "\n",
    "\n",
    "gen = averager()  # 已经预激\n",
    "print(getgeneratorstate(gen))\n",
    "gen.send(10)"
   ]
  },
  {
   "cell_type": "markdown",
   "metadata": {},
   "source": [
    "- 装饰器 `averager = coroutine(averager)`返回函数 primer\n",
    "- `gen = averager() ` -> `gen = primer()`  \n",
    "- 函数 primer 中,创建生成器对象,预激生成器,并返回生成器 gen\n",
    "-  getgeneratorstate 函数指明，处于 GEN_SUSPENDED 状态，因此这个协程已经准备好，可以接收值了。\n",
    "\n",
    "**使用 yield from 句法调用协程时，会自动预激**，因此上述示例中的@coroutine 等装饰器不兼容。Python 3.4 标准库里的 asyncio.coroutine 装饰器不会预激协程，因此能兼容 yield from 句法。\n",
    "\n",
    "接下来探讨协程的重要特性——用于终止协程，以及在协程中抛出异常的方法。\n",
    "\n",
    "\n",
    "### 终止协程和异常处理\n",
    "\n",
    "协程中未处理的异常会向上冒泡，传给 next 函数或 send 方法的调用方（即触发协程的对象）"
   ]
  },
  {
   "cell_type": "code",
   "execution_count": 98,
   "metadata": {},
   "outputs": [
    {
     "name": "stdout",
     "output_type": "stream",
     "text": [
      "10.0\n"
     ]
    },
    {
     "ename": "TypeError",
     "evalue": "unsupported operand type(s) for +=: 'float' and 'str'",
     "output_type": "error",
     "traceback": [
      "\u001b[1;31m---------------------------------------------------------------------------\u001b[0m",
      "\u001b[1;31mTypeError\u001b[0m                                 Traceback (most recent call last)",
      "\u001b[1;32m<ipython-input-98-cf279044ed19>\u001b[0m in \u001b[0;36m<module>\u001b[1;34m()\u001b[0m\n\u001b[0;32m      1\u001b[0m \u001b[0mgen\u001b[0m \u001b[1;33m=\u001b[0m \u001b[0maverager\u001b[0m\u001b[1;33m(\u001b[0m\u001b[1;33m)\u001b[0m\u001b[1;33m\u001b[0m\u001b[0m\n\u001b[0;32m      2\u001b[0m \u001b[0mprint\u001b[0m\u001b[1;33m(\u001b[0m\u001b[0mgen\u001b[0m\u001b[1;33m.\u001b[0m\u001b[0msend\u001b[0m\u001b[1;33m(\u001b[0m\u001b[1;36m10\u001b[0m\u001b[1;33m)\u001b[0m\u001b[1;33m)\u001b[0m\u001b[1;33m\u001b[0m\u001b[0m\n\u001b[1;32m----> 3\u001b[1;33m \u001b[0mgen\u001b[0m\u001b[1;33m.\u001b[0m\u001b[0msend\u001b[0m\u001b[1;33m(\u001b[0m\u001b[1;34m'spam'\u001b[0m\u001b[1;33m)\u001b[0m\u001b[1;33m\u001b[0m\u001b[0m\n\u001b[0m",
      "\u001b[1;32m<ipython-input-96-3a1a35158a66>\u001b[0m in \u001b[0;36maverager\u001b[1;34m()\u001b[0m\n\u001b[0;32m     26\u001b[0m         \u001b[0mterm\u001b[0m \u001b[1;33m=\u001b[0m \u001b[1;32myield\u001b[0m \u001b[0maverage\u001b[0m\u001b[1;33m\u001b[0m\u001b[0m\n\u001b[0;32m     27\u001b[0m         \u001b[0mcount\u001b[0m \u001b[1;33m+=\u001b[0m \u001b[1;36m1\u001b[0m\u001b[1;33m\u001b[0m\u001b[0m\n\u001b[1;32m---> 28\u001b[1;33m         \u001b[0mtotal\u001b[0m \u001b[1;33m+=\u001b[0m \u001b[0mterm\u001b[0m\u001b[1;33m\u001b[0m\u001b[0m\n\u001b[0m\u001b[0;32m     29\u001b[0m         \u001b[0maverage\u001b[0m \u001b[1;33m=\u001b[0m \u001b[0mtotal\u001b[0m\u001b[1;33m/\u001b[0m\u001b[0mcount\u001b[0m\u001b[1;33m\u001b[0m\u001b[0m\n\u001b[0;32m     30\u001b[0m \u001b[1;33m\u001b[0m\u001b[0m\n",
      "\u001b[1;31mTypeError\u001b[0m: unsupported operand type(s) for +=: 'float' and 'str'"
     ]
    }
   ],
   "source": [
    "gen = averager()\n",
    "print(gen.send(10))\n",
    "gen.send('spam')"
   ]
  },
  {
   "cell_type": "markdown",
   "metadata": {},
   "source": [
    "使用 @coroutine 装饰器装饰的 averager 协程，可以立即开始发送值,发送的值不是数字，导致协程内部有异常抛出。由于在协程内没有处理异常，协程会终止。如果试图重新激活协程，会抛出StopIteration 异常。\n",
    "\n",
    "从 Python 2.5 开始，客户代码可以在生成器对象上调用两个方法，显式地把异常发给协程。throw 和 close\n",
    "\n",
    "`generator.throw(exc_type[, exc_value[, traceback]])`\n",
    "\n",
    "致使生成器在暂停的 yield 表达式处抛出指定的异常。如果生成器处理了抛出的异常，代码会向前执行到下一个 yield 表达式，而产出的值会成为调用 generator.throw 方法得到的返回值。如果生成器没有处理抛出的异常，异常会向上冒泡，传到调用方的上下文中。\n",
    "\n",
    "`generator.close()`\n",
    "\n",
    "致使生成器在暂停的 yield 表达式处抛出 GeneratorExit 异常。如果生成器没有处理这个异常，或者抛出了 StopIteration 异常（通常是指运行到结尾），调用方不会报错。如果收到 GeneratorExit 异常，生成器一定不能产出值，否则解释器会抛出 RuntimeError 异常。生成器抛出的其他异常会向上冒泡，传给调用方。\n"
   ]
  },
  {
   "cell_type": "code",
   "execution_count": 107,
   "metadata": {},
   "outputs": [
    {
     "name": "stdout",
     "output_type": "stream",
     "text": [
      "-> coroutine started\n",
      "-> coroutine received: 11\n",
      "--------异常传入 demo_exc_handling 不会导致协程中止------------\n",
      "*** DemoException handled. Continuing...\n",
      "GEN_SUSPENDED\n",
      "--------关闭 demo_exc_handling，没有异常------------\n",
      "-> coroutine received: 11\n",
      "GEN_CLOSED\n",
      "--------如果无法处理传入的异常，协程会终止------------\n",
      "-> coroutine started\n",
      "-> coroutine received: 11\n"
     ]
    },
    {
     "ename": "ZeroDivisionError",
     "evalue": "",
     "output_type": "error",
     "traceback": [
      "\u001b[1;31m---------------------------------------------------------------------------\u001b[0m",
      "\u001b[1;31mZeroDivisionError\u001b[0m                         Traceback (most recent call last)",
      "\u001b[1;32m<ipython-input-107-cf599c05a119>\u001b[0m in \u001b[0;36m<module>\u001b[1;34m()\u001b[0m\n\u001b[0;32m     31\u001b[0m \u001b[0mnext\u001b[0m\u001b[1;33m(\u001b[0m\u001b[0mexc_coro\u001b[0m\u001b[1;33m)\u001b[0m\u001b[1;33m\u001b[0m\u001b[0m\n\u001b[0;32m     32\u001b[0m \u001b[0mexc_coro\u001b[0m\u001b[1;33m.\u001b[0m\u001b[0msend\u001b[0m\u001b[1;33m(\u001b[0m\u001b[1;36m11\u001b[0m\u001b[1;33m)\u001b[0m\u001b[1;33m\u001b[0m\u001b[0m\n\u001b[1;32m---> 33\u001b[1;33m \u001b[0mexc_coro\u001b[0m\u001b[1;33m.\u001b[0m\u001b[0mthrow\u001b[0m\u001b[1;33m(\u001b[0m\u001b[0mZeroDivisionError\u001b[0m\u001b[1;33m)\u001b[0m\u001b[1;33m\u001b[0m\u001b[0m\n\u001b[0m",
      "\u001b[1;32m<ipython-input-107-cf599c05a119>\u001b[0m in \u001b[0;36mdemo_exc_handling\u001b[1;34m()\u001b[0m\n\u001b[0;32m      8\u001b[0m     \u001b[1;32mwhile\u001b[0m \u001b[1;32mTrue\u001b[0m\u001b[1;33m:\u001b[0m\u001b[1;33m\u001b[0m\u001b[0m\n\u001b[0;32m      9\u001b[0m         \u001b[1;32mtry\u001b[0m\u001b[1;33m:\u001b[0m\u001b[1;33m\u001b[0m\u001b[0m\n\u001b[1;32m---> 10\u001b[1;33m             \u001b[0mx\u001b[0m \u001b[1;33m=\u001b[0m \u001b[1;32myield\u001b[0m\u001b[1;33m\u001b[0m\u001b[0m\n\u001b[0m\u001b[0;32m     11\u001b[0m         \u001b[1;32mexcept\u001b[0m \u001b[0mDemoException\u001b[0m\u001b[1;33m:\u001b[0m \u001b[1;31m# 特别处理 DemoException 异常\u001b[0m\u001b[1;33m\u001b[0m\u001b[0m\n\u001b[0;32m     12\u001b[0m             \u001b[0mprint\u001b[0m\u001b[1;33m(\u001b[0m\u001b[1;34m'*** DemoException handled. Continuing...'\u001b[0m\u001b[1;33m)\u001b[0m\u001b[1;33m\u001b[0m\u001b[0m\n",
      "\u001b[1;31mZeroDivisionError\u001b[0m: "
     ]
    }
   ],
   "source": [
    "from inspect import getgeneratorstate\n",
    "\n",
    "class DemoException(Exception):\n",
    "    \"\"\"为这次演示定义的异常类型。\"\"\"\n",
    "    \n",
    "def demo_exc_handling():\n",
    "    print('-> coroutine started')\n",
    "    while True:\n",
    "        try:\n",
    "            x = yield\n",
    "        except DemoException: # 特别处理 DemoException 异常\n",
    "            print('*** DemoException handled. Continuing...')\n",
    "        else:\n",
    "            print('-> coroutine received: {}'.format(x)) # 如果没有异常，那么显示接收到的值\n",
    "    raise RuntimeError('This line should never run.') \n",
    "    # 这一行永远不会执行 因为只有未处理的异常才会中止那个无限循环， 而一旦出现未处理的异常，协程会立即终止\n",
    "\n",
    "    \n",
    "exc_coro = demo_exc_handling()\n",
    "next(exc_coro)\n",
    "exc_coro.send(11)\n",
    "print('--------异常传入 demo_exc_handling 不会导致协程中止------------') \n",
    "exc_coro.throw(DemoException)\n",
    "print(getgeneratorstate(exc_coro))\n",
    "print('--------关闭 demo_exc_handling，没有异常------------')  \n",
    "exc_coro.send(11)\n",
    "exc_coro.close()\n",
    "print(getgeneratorstate(exc_coro))\n",
    "print('--------如果无法处理传入的异常，协程会终止------------') \n",
    "exc_coro = demo_exc_handling()\n",
    "next(exc_coro)\n",
    "exc_coro.send(11)\n",
    "exc_coro.throw(ZeroDivisionError)"
   ]
  },
  {
   "cell_type": "markdown",
   "metadata": {},
   "source": [
    "- 关闭 demo_exc_handling，没有异常\n",
    "- 把 DemoException 异常传入 demo_exc_handling 不会导致协程中止\n",
    "- 如果无法处理传入的异常，协程会终止\n",
    "\n",
    "Python 3.3 引入 yield from 结构的主要原因之一与把异常传入嵌套的协程有关。另一个\n",
    "原因是让协程更方便地返回值。\n",
    "\n",
    "### 让协程返回值\n",
    "\n",
    "这段代码会返回最终均值的结果，每次激活协程时不会产出移动平均值，而是最后一次返回。\n",
    "\n",
    "averager 协程返回的结果是一个 namedtuple，两个字段分别是项数（count）和平均值（average）。我本可以只返回平均值，但是返回一个元组可以获得累积数据的另一个重要信息——项数"
   ]
  },
  {
   "cell_type": "code",
   "execution_count": 110,
   "metadata": {},
   "outputs": [
    {
     "ename": "StopIteration",
     "evalue": "result(count=3, average=15.5)",
     "output_type": "error",
     "traceback": [
      "\u001b[1;31m---------------------------------------------------------------------------\u001b[0m",
      "\u001b[1;31mStopIteration\u001b[0m                             Traceback (most recent call last)",
      "\u001b[1;32m<ipython-input-110-ed7b060074ba>\u001b[0m in \u001b[0;36m<module>\u001b[1;34m()\u001b[0m\n\u001b[0;32m     21\u001b[0m \u001b[0mave\u001b[0m\u001b[1;33m.\u001b[0m\u001b[0msend\u001b[0m\u001b[1;33m(\u001b[0m\u001b[1;36m30\u001b[0m\u001b[1;33m)\u001b[0m\u001b[1;33m\u001b[0m\u001b[0m\n\u001b[0;32m     22\u001b[0m \u001b[0mave\u001b[0m\u001b[1;33m.\u001b[0m\u001b[0msend\u001b[0m\u001b[1;33m(\u001b[0m\u001b[1;36m6.5\u001b[0m\u001b[1;33m)\u001b[0m\u001b[1;33m\u001b[0m\u001b[0m\n\u001b[1;32m---> 23\u001b[1;33m \u001b[0mave\u001b[0m\u001b[1;33m.\u001b[0m\u001b[0msend\u001b[0m\u001b[1;33m(\u001b[0m\u001b[1;32mNone\u001b[0m\u001b[1;33m)\u001b[0m\u001b[1;33m\u001b[0m\u001b[0m\n\u001b[0m",
      "\u001b[1;31mStopIteration\u001b[0m: result(count=3, average=15.5)"
     ]
    }
   ],
   "source": [
    "from collections import namedtuple\n",
    "\n",
    "Result = namedtuple('result','count average')\n",
    "\n",
    "def averager():\n",
    "    count = 0\n",
    "    total = 0.0\n",
    "    average = None\n",
    "    while True:\n",
    "        term = yield average\n",
    "        if term == None:\n",
    "            break\n",
    "        count += 1\n",
    "        total += term\n",
    "        average = total/count\n",
    "    return Result(count,average)\n",
    "\n",
    "ave = averager()\n",
    "ave.send(None)\n",
    "ave.send(10)\n",
    "ave.send(30)\n",
    "ave.send(6.5)\n",
    "ave.send(None)"
   ]
  },
  {
   "cell_type": "markdown",
   "metadata": {},
   "source": [
    "为了返回值，协程必须正常终止；因此，这一版 averager 中有个条件判断，以便退出累计循环。\n",
    "\n",
    "发送 None 会终止循环，导致协程结束，返回结果。一如既往，生成器对象会抛出StopIteration 异常。异常对象的 value 属性保存着返回的值。\n",
    "\n",
    "**注意，return 表达式的值会偷偷传给调用方，赋值给 StopIteration 异常的一个属性。这样做有点不合常理，但是能保留生成器对象的常规行为——耗尽时抛出StopIteration 异常**\n",
    "\n",
    "### 如何获取协程返回的值\n",
    "\n",
    "#### 捕获 StopIteration 异常，获取 averager 返回的值"
   ]
  },
  {
   "cell_type": "code",
   "execution_count": 111,
   "metadata": {},
   "outputs": [
    {
     "name": "stdout",
     "output_type": "stream",
     "text": [
      "result(count=3, average=15.5)\n"
     ]
    }
   ],
   "source": [
    "ave = averager()\n",
    "ave.send(None)\n",
    "ave.send(10)\n",
    "ave.send(30)\n",
    "ave.send(6.5)\n",
    "try:\n",
    "    ave.send(None)\n",
    "except StopIteration as exc:\n",
    "    result = exc.value\n",
    "print(result)"
   ]
  },
  {
   "cell_type": "markdown",
   "metadata": {},
   "source": [
    "获取协程的返回值虽然要绕个圈子，但这是 PEP 380 定义的方式，当我们意识到这一点之后就说得通了：yield from 结构会在内部自动捕获 StopIteration 异常。这种处理方式与 for 循环处理 StopIteration 异常的方式一样：循环机制使用用户易于理解的方式处理异常。对 yield from 结构来说，解释器不仅会捕获 StopIteration 异常，还会把value 属性的值变成 yield from 表达式的值。可惜，我们无法在控制台中使用交互的方式测试这种行为，因为在函数外部使用 yield from（以及 yield）会导致句法出错。\n",
    "\n",
    "### yield from\n",
    "\n",
    "首先要知道，yield from 是全新的语言结构。它的作用比 yield 多很多，因此人们认为继续使用那个关键字多少会引起误解。在其他语言中，类似的结构使用 await 关键字，这个名称好多了，因为它传达了至关重要的一点：在生成器 gen 中使用 yield from subgen() 时，subgen 会获得控制权，把产出的值传给 gen 的调用方，即调用方可以直接控制 subgen。与此同时，gen 会阻塞，等待 subgen 终止。\n",
    "\n",
    "**yield from 可用于简化 for 循环中的 yield 表达式**"
   ]
  },
  {
   "cell_type": "code",
   "execution_count": 112,
   "metadata": {},
   "outputs": [
    {
     "data": {
      "text/plain": [
       "['A', 'B', 1, 2]"
      ]
     },
     "execution_count": 112,
     "metadata": {},
     "output_type": "execute_result"
    }
   ],
   "source": [
    "def gen():\n",
    "    for c in 'AB':\n",
    "        yield c\n",
    "    for i in range(1,3):\n",
    "        yield i\n",
    "        \n",
    "list(gen())"
   ]
  },
  {
   "cell_type": "markdown",
   "metadata": {},
   "source": [
    "可以改写为"
   ]
  },
  {
   "cell_type": "code",
   "execution_count": 113,
   "metadata": {},
   "outputs": [
    {
     "data": {
      "text/plain": [
       "['A', 'B', 1, 2]"
      ]
     },
     "execution_count": 113,
     "metadata": {},
     "output_type": "execute_result"
    }
   ],
   "source": [
    "def gen():\n",
    "    yield from 'AB'\n",
    "    yield from range(1,3)\n",
    "        \n",
    "list(gen())"
   ]
  },
  {
   "cell_type": "markdown",
   "metadata": {},
   "source": [
    "**使用 yield from 链接可迭代的对象**"
   ]
  },
  {
   "cell_type": "code",
   "execution_count": 119,
   "metadata": {},
   "outputs": [
    {
     "data": {
      "text/plain": [
       "['A', 'B', 0, 1, 2]"
      ]
     },
     "execution_count": 119,
     "metadata": {},
     "output_type": "execute_result"
    }
   ],
   "source": [
    "def chain(*args):\n",
    "    for i in args:\n",
    "        yield from i\n",
    "    \n",
    "s = 'AB'\n",
    "t = range(3)\n",
    "\n",
    "list(chain(s,t))"
   ]
  },
  {
   "cell_type": "markdown",
   "metadata": {},
   "source": [
    "等同于"
   ]
  },
  {
   "cell_type": "code",
   "execution_count": 118,
   "metadata": {},
   "outputs": [
    {
     "name": "stdout",
     "output_type": "stream",
     "text": [
      "('AB', range(0, 3))\n"
     ]
    },
    {
     "data": {
      "text/plain": [
       "['A', 'B', 0, 1, 2]"
      ]
     },
     "execution_count": 118,
     "metadata": {},
     "output_type": "execute_result"
    }
   ],
   "source": [
    "def chain(*args):\n",
    "    for i in args:\n",
    "        for a in i:\n",
    "            yield a\n",
    "    \n",
    "s = 'AB'\n",
    "t = range(3)\n",
    "\n",
    "list(chain(s,t))"
   ]
  },
  {
   "cell_type": "markdown",
   "metadata": {},
   "source": [
    "yield from x 表达式对x对象做的第一件事是，调用 iter(x)，获取迭代器。所以要求x是可迭代对象\n",
    "\n",
    "可是，如果 yield from 结构唯一的作用是替代产出值的嵌套 for 循环，这个结构很有可能不会添加到 Python 语言中。yield from 结构的本质作用无法通过简单的可迭代对象说明，而要发散思维，使用嵌套的生成器。因此，引入 yield from 结构的 PEP 380 才起了“Syntax for Delegating to a Subgenerator”（“把职责委托给子生成器的句法”）这个标题。\n",
    "\n",
    "**yield from 的主要功能是打开双向通道，把最外层的调用方与最内层的子生成器连接起来，这样二者可以直接发送和产出值，还可以直接传入异常，而不用在位于中间的协程中添加大量处理异常的样板代码。**有了这个结构，协程可以通过以前不可能的方式委托职责。\n",
    "\n",
    "yield from 包含几个概念：\n",
    "\n",
    "- 委派生成器\n",
    "\n",
    "包含yield from <iterable> 表达式的生成器函数\n",
    "\n",
    "- 子生成器\n",
    "\n",
    "从yield from <iterable> 部分获取的生成器。\n",
    "\n",
    "- 调用方\n",
    "\n",
    "调用委派生成器的客户端（调用方）代码\n",
    "\n",
    "委派生成器在 yield from 表达式处暂停时，调用方可以直接把数据发给字生成器，子生成器再把产出的值发送给调用方。子生成器返回之后，解释器会抛出StopIteration异常，并把返回值附加到异常对象上，只是委派生成器恢复。\n",
    "\n",
    "![yield_from](yield_from.png)\n",
    "\n",
    "这段代码从一个字典中读取男生和女生的身高和体重。然后把数据传给之前定义的 averager 协程，最后生成一个报告。"
   ]
  },
  {
   "cell_type": "code",
   "execution_count": 120,
   "metadata": {},
   "outputs": [
    {
     "name": "stdout",
     "output_type": "stream",
     "text": [
      " 6 boys  averaging 54.00kg\n",
      " 6 boys  averaging 1.68m\n",
      " 6 girls averaging 44.00kg\n",
      " 6 girls averaging 1.58m\n"
     ]
    }
   ],
   "source": [
    "from collections import namedtuple\n",
    "\n",
    "\n",
    "Result = namedtuple('Result', 'count average')\n",
    "\n",
    "\n",
    "# 子生成器\n",
    "# 这个例子和上边示例中的 averager 协程一样，只不过这里是作为字生成器使用\n",
    "def averager():\n",
    "    total = 0.0\n",
    "    count = 0\n",
    "    average = None\n",
    "    while True:\n",
    "        term = yield # main 函数发送数据到这里,赋值 term\n",
    "        if term is None: # 终止条件\n",
    "            break\n",
    "        total += term\n",
    "        count += 1\n",
    "        average = total/count\n",
    "    return Result(count, average) # 返回的Result 会成为grouper函数中yield from表达式的值\n",
    "\n",
    "\n",
    "# 委派生成器\n",
    "def grouper(results, key):\n",
    "     # 这个循环每次都会新建一个averager 实例，每个实例都是作为协程使用的生成器对象\n",
    "    while True:\n",
    "        '''grouper 发送的每个值都会经由yield from 处理，通过管道传给averager 实例。grouper会在yield from表达式处暂停，等待averager实例\n",
    "        处理客户端发来的值。averager实例运行完毕后，返回的值绑定到results[key] 上。while 循环会不断创建averager实例，处理更多的值。\n",
    "        '''\n",
    "        results[key] = yield from averager()\n",
    "\n",
    "\n",
    "# 调用方\n",
    "def main(data):\n",
    "    results = {}\n",
    "    for key, values in data.items():\n",
    "        # group 是调用grouper函数得到的生成器对象，传给grouper 函数的第一个参数是results，用于收集结果；第二个是某个键\n",
    "        group = grouper(results, key) \n",
    "        next(group) # 预激 grouper 委派生成器\n",
    "        for value in values:\n",
    "            # 把各个value传给grouper 传入的值最终到达averager函数中 term = yield 那一行\n",
    "            # grouper并不知道传入的是什么，同时grouper实例在yield from处暂停\n",
    "            group.send(value) # 把None传入groupper，传入的值最终到达averager函数中，导致当前实例终止。然后继续创建下一个实例。\n",
    "        group.send(None) # 如果没有group.send(None)，那么averager子生成器永远不会终止，委派生成器也永远不会在此激活，也就不会为result[key]赋值\n",
    "    report(results)\n",
    "\n",
    "\n",
    "# 输出报告\n",
    "def report(results):\n",
    "    for key, result in sorted(results.items()):\n",
    "        group, unit = key.split(';')\n",
    "        print('{:2} {:5} averaging {:.2f}{}'.format(result.count, group, result.average, unit))\n",
    "\n",
    "\n",
    "data = {\n",
    "    'girls;kg':[40, 41, 42, 43, 44, 54],\n",
    "    'girls;m': [1.5, 1.6, 1.8, 1.5, 1.45, 1.6],\n",
    "    'boys;kg':[50, 51, 62, 53, 54, 54],\n",
    "    'boys;m': [1.6, 1.8, 1.8, 1.7, 1.55, 1.6],\n",
    "}\n",
    "\n",
    "if __name__ == '__main__':\n",
    "    main(data)"
   ]
  },
  {
   "cell_type": "markdown",
   "metadata": {},
   "source": [
    "## [How the heck does async/await work in Python 3.5?](https://snarky.ca/how-the-heck-does-async-await-work-in-python-3-5/)\n",
    "\n"
   ]
  },
  {
   "cell_type": "code",
   "execution_count": 1,
   "metadata": {},
   "outputs": [
    {
     "name": "stdout",
     "output_type": "stream",
     "text": [
      "0\n",
      "2\n",
      "3\n",
      "2\n",
      "3\n",
      "4\n"
     ]
    }
   ],
   "source": [
    "def jumping_range(up_to):\n",
    "    \"\"\"Generator for the sequence of integers from 0 to up_to, exclusive.\n",
    "\n",
    "    Sending a value into the generator will shift the sequence by that amount.\n",
    "    \"\"\"\n",
    "    index = 0\n",
    "    while index < up_to:\n",
    "        jump = yield index\n",
    "        if jump is None:\n",
    "            jump = 1\n",
    "        index += jump\n",
    "\n",
    "\n",
    "if __name__ == '__main__':\n",
    "    iterator = jumping_range(5)\n",
    "    print(next(iterator))  # 0\n",
    "    print(iterator.send(2))  # 2\n",
    "    print(next(iterator))  # 3\n",
    "    print(iterator.send(-1))  # 2\n",
    "    for x in iterator:\n",
    "        print(x)  # 3, 4"
   ]
  },
  {
   "cell_type": "markdown",
   "metadata": {},
   "source": [
    "`yield from iterator`\n",
    "\n",
    "等价\n",
    "\n",
    "```\n",
    "for x in iterator:\n",
    "    yield x\n",
    "```"
   ]
  },
  {
   "cell_type": "code",
   "execution_count": 4,
   "metadata": {},
   "outputs": [
    {
     "name": "stdout",
     "output_type": "stream",
     "text": [
      "0\n",
      "1\n",
      "2\n",
      "3\n"
     ]
    }
   ],
   "source": [
    "def lazy_range(up_to):\n",
    "    \"\"\"Generator to return the sequence of integers from 0 to up_to, exclusive.\"\"\"\n",
    "    index = 0\n",
    "    while index < up_to:\n",
    "        yield index\n",
    "        index += 1\n",
    "        \n",
    "if __name__ == '__main__':\n",
    "    g = lazy_range(5)\n",
    "    print(next(g))  # 0\n",
    "    print(g.send(2))  # 2\n",
    "    print(next(g))  # 3\n",
    "    print(g.send(-1))  # 2"
   ]
  },
  {
   "cell_type": "code",
   "execution_count": 6,
   "metadata": {},
   "outputs": [
    {
     "name": "stdout",
     "output_type": "stream",
     "text": [
      "0\n"
     ]
    }
   ],
   "source": [
    "def lazy_range(up_to):\n",
    "    \"\"\"Generator to return the sequence of integers from 0 to up_to, exclusive.\"\"\"\n",
    "    index = 0\n",
    "    def gratuitous_refactor():\n",
    "        nonlocal index\n",
    "        while index < up_to:\n",
    "            yield index\n",
    "            index += 1\n",
    "    yield from gratuitous_refactor()\n",
    "    \n",
    "if __name__ == '__main__':\n",
    "    g = lazy_range(5)\n",
    "    print(next(g))  # 0"
   ]
  },
  {
   "cell_type": "code",
   "execution_count": 7,
   "metadata": {},
   "outputs": [
    {
     "name": "stdout",
     "output_type": "stream",
     "text": [
      "T-minus 2 (A)\n",
      "T-minus 3 (B)\n",
      "T-minus 1 (A)\n",
      "T-minus 2 (B)\n",
      "T-minus 1 (B)\n"
     ]
    }
   ],
   "source": [
    "import asyncio\n",
    "\n",
    "# Borrowed from http://curio.readthedocs.org/en/latest/tutorial.html.\n",
    "@asyncio.coroutine\n",
    "def countdown(number, n):\n",
    "    while n > 0:\n",
    "        print('T-minus', n, '({})'.format(number))\n",
    "        yield from asyncio.sleep(1)\n",
    "        n -= 1\n",
    "\n",
    "loop = asyncio.get_event_loop()\n",
    "tasks = [\n",
    "    asyncio.ensure_future(countdown(\"A\", 2)),\n",
    "    asyncio.ensure_future(countdown(\"B\", 3))]\n",
    "loop.run_until_complete(asyncio.wait(tasks))\n",
    "loop.close()"
   ]
  },
  {
   "cell_type": "markdown",
   "metadata": {},
   "source": [
    "事件循环调用每一个 countdown() 协程，执行直到其中某个 countdown() 协程运行到 yield from 和  asyncio.sleep(1) 处，该 countdown() 协程返回一个asyncio.Future 对象，该 asyncio.Future 对象传递给事件循环并暂停 countdown() 协程。事件循环监控 asyncio.Future 对象，直到 asyncio.sleep(1)执行完成（同时检查受到监控的其他协程）。一旦 syncio.sleep(1)执行完成，事件循环获取到之前返回 asyncio.Future 对象的 countdown() 协程，并把 asyncio.Future 对象的结果发回到最初返回 asyncio.Future 对象的 countdown() 协程，该 countdown() 协程开始再次运行。直到所有的countdown()协同程序完成运行，事件循环没有需要监控的，整个程序停止。"
   ]
  }
 ],
 "metadata": {
  "kernelspec": {
   "display_name": "Python 3",
   "language": "python",
   "name": "python3"
  },
  "language_info": {
   "codemirror_mode": {
    "name": "ipython",
    "version": 3
   },
   "file_extension": ".py",
   "mimetype": "text/x-python",
   "name": "python",
   "nbconvert_exporter": "python",
   "pygments_lexer": "ipython3",
   "version": "3.6.5"
  },
  "toc": {
   "nav_menu": {},
   "number_sections": true,
   "sideBar": true,
   "skip_h1_title": false,
   "title_cell": "Table of Contents",
   "title_sidebar": "Contents",
   "toc_cell": false,
   "toc_position": {
    "height": "calc(100% - 180px)",
    "left": "10px",
    "top": "150px",
    "width": "227px"
   },
   "toc_section_display": true,
   "toc_window_display": true
  },
  "varInspector": {
   "cols": {
    "lenName": 16,
    "lenType": 16,
    "lenVar": 40
   },
   "kernels_config": {
    "python": {
     "delete_cmd_postfix": "",
     "delete_cmd_prefix": "del ",
     "library": "var_list.py",
     "varRefreshCmd": "print(var_dic_list())"
    },
    "r": {
     "delete_cmd_postfix": ") ",
     "delete_cmd_prefix": "rm(",
     "library": "var_list.r",
     "varRefreshCmd": "cat(var_dic_list()) "
    }
   },
   "types_to_exclude": [
    "module",
    "function",
    "builtin_function_or_method",
    "instance",
    "_Feature"
   ],
   "window_display": false
  }
 },
 "nbformat": 4,
 "nbformat_minor": 2
}
