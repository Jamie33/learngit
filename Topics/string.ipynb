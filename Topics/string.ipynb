{
 "cells": [
  {
   "cell_type": "markdown",
   "metadata": {},
   "source": [
    "## str.split()\n",
    "\n",
    " split()就是将一个字符串分裂成多个字符串组成的列表。\n",
    " \n",
    " ###  split()不带参数时\n",
    " 默认是以空格作为参数，不管空格在哪，有几个空格，一律清除掉！"
   ]
  },
  {
   "cell_type": "code",
   "execution_count": 3,
   "metadata": {},
   "outputs": [
    {
     "name": "stdout",
     "output_type": "stream",
     "text": [
      "['aa', 'bb', 'cc', 'dd']\n",
      "['aa', '', '', 'bb', '', 'cc', 'dd']\n"
     ]
    }
   ],
   "source": [
    "test = 'aa   bb  cc dd'\n",
    "print(test.split())     # 无参数默认以空格为参数\n",
    "print(test.split(' '))  # 以空格为参数"
   ]
  },
  {
   "cell_type": "markdown",
   "metadata": {},
   "source": [
    "### split()带参数时"
   ]
  },
  {
   "cell_type": "code",
   "execution_count": 1,
   "metadata": {},
   "outputs": [
    {
     "name": "stdout",
     "output_type": "stream",
     "text": [
      "['aa', '', '', 'bb', '', 'cc', 'dd']\n"
     ]
    }
   ],
   "source": [
    "test = 'aaooobbooccodd'\n",
    "print(test.split('o'))"
   ]
  },
  {
   "cell_type": "markdown",
   "metadata": {},
   "source": [
    "结果有很多个空字符串元素，这个怎么理解呢？ 当带参数时，我们得把字符串想象成一块五花肉，我们要做一件奇葩的事情，就是将肥肉丢到垃圾桶，把瘦肉留下。  比如'aaooobbooccodd'这串五花肉，'o'就是要丢掉的肥肉，每次还只能切 'o'这么多。切的时候是从左到右，一刀下去切掉肥肉'o'，刀刃左边的部分拿走作为list的一个元素， 刀刃右边的就是剩下的，那么继续切剩下的部分，直到切完。"
   ]
  }
 ],
 "metadata": {
  "kernelspec": {
   "display_name": "Python 3",
   "language": "python",
   "name": "python3"
  },
  "language_info": {
   "codemirror_mode": {
    "name": "ipython",
    "version": 3
   },
   "file_extension": ".py",
   "mimetype": "text/x-python",
   "name": "python",
   "nbconvert_exporter": "python",
   "pygments_lexer": "ipython3",
   "version": "3.8.5"
  },
  "toc": {
   "base_numbering": 1,
   "nav_menu": {},
   "number_sections": true,
   "sideBar": true,
   "skip_h1_title": false,
   "title_cell": "Table of Contents",
   "title_sidebar": "Contents",
   "toc_cell": false,
   "toc_position": {},
   "toc_section_display": true,
   "toc_window_display": false
  },
  "varInspector": {
   "cols": {
    "lenName": 16,
    "lenType": 16,
    "lenVar": 40
   },
   "kernels_config": {
    "python": {
     "delete_cmd_postfix": "",
     "delete_cmd_prefix": "del ",
     "library": "var_list.py",
     "varRefreshCmd": "print(var_dic_list())"
    },
    "r": {
     "delete_cmd_postfix": ") ",
     "delete_cmd_prefix": "rm(",
     "library": "var_list.r",
     "varRefreshCmd": "cat(var_dic_list()) "
    }
   },
   "types_to_exclude": [
    "module",
    "function",
    "builtin_function_or_method",
    "instance",
    "_Feature"
   ],
   "window_display": false
  }
 },
 "nbformat": 4,
 "nbformat_minor": 2
}
