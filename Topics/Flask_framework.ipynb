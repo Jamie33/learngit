{
 "cells": [
  {
   "cell_type": "code",
   "execution_count": null,
   "metadata": {},
   "outputs": [],
   "source": [
    "# 从flask 这个框架中导入到Flask这个类\n",
    "from flask import Flask\n",
    "\n",
    "# 初始化一个Flask 对象\n",
    "# Flask()\n",
    "# 需要传递一个参数__name__\n",
    "# 1. 方便flask框架去找寻资源\n",
    "# 2. 方便flask插件比如Flask-Sqlalchemy 出现错误的时候，好去找寻问题所在的位置\n",
    "app = Flask(__name__)\n",
    "\n",
    "# @app.route 是一个装饰器\n",
    "# @开头，并且在函数的上面，说明是装饰器\n",
    "# 这个装饰器的作用， 是做一个url与视图函数的映射\n",
    "# 127.0.0.1:5000/ -> 去请求hello_world这个函数，然后将结果返回给浏览器\n",
    "@app.route('/')\n",
    "def hello_world():\n",
    "    return 'Hello World!'\n",
    "\n",
    "# 如果当前这个文件作为入口程序运行，那么就会执行app.run()\n",
    "if __name__ == '__main__':\n",
    "    app.run()\n",
    "    #启动一个应用服务器， 来接受用户的请求\n"
   ]
  }
 ],
 "metadata": {
  "kernelspec": {
   "display_name": "Python 3",
   "language": "python",
   "name": "python3"
  },
  "language_info": {
   "codemirror_mode": {
    "name": "ipython",
    "version": 3
   },
   "file_extension": ".py",
   "mimetype": "text/x-python",
   "name": "python",
   "nbconvert_exporter": "python",
   "pygments_lexer": "ipython3",
   "version": "3.6.5"
  }
 },
 "nbformat": 4,
 "nbformat_minor": 2
}
