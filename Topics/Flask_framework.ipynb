{
 "cells": [
  {
   "cell_type": "code",
   "execution_count": null,
   "metadata": {},
   "outputs": [],
   "source": [
    "# 从flask 这个框架中导入到Flask这个类\n",
    "from flask import Flask\n",
    "\n",
    "# 初始化一个Flask 对象\n",
    "# Flask()\n",
    "# 需要传递一个参数__name__\n",
    "# 1. 方便flask框架去找寻资源\n",
    "# 2. 方便flask插件比如Flask-Sqlalchemy 出现错误的时候，好去找寻问题所在的位置\n",
    "app = Flask(__name__)\n",
    "\n",
    "# @app.route 是一个装饰器\n",
    "# @开头，并且在函数的上面，说明是装饰器\n",
    "# 这个装饰器的作用， 是做一个url与视图函数的映射\n",
    "# 127.0.0.1:5000/ -> 去请求hello_world这个函数，然后将结果返回给浏览器\n",
    "@app.route('/')\n",
    "def hello_world():\n",
    "    return 'Hello World!'\n",
    "\n",
    "# 如果当前这个文件作为入口程序运行，那么就会执行app.run()\n",
    "if __name__ == '__main__':\n",
    "    app.run()\n",
    "    #启动一个应用服务器， 来接受用户的请求\n"
   ]
  },
  {
   "cell_type": "markdown",
   "metadata": {},
   "source": [
    "## [【Python搞搞轻量Blog】第一发 Flask入门](https://cuiqingcai.com/5888.html)\n",
    "\n",
    "### 介绍 & 框架选择\n",
    "\n",
    "Python有很多Web框架，可谓是百家争鸣，我这里列出几个比较叼的几个框架\n",
    "\n",
    "- Django      市场占有率最高，官方文档几近完美，但是适合比较大的项目，小项目会显得累赘。\n",
    "- Tornado    可异步，性能高，提供更多的底层细节，还能进行Web Socket，但是和数据库…..（大坑）\n",
    "- Web.py      小巧，精炼，扩展不是很多，而且问题是作者太牛掰，被上帝请去喝茶了。\n",
    "- Flask          年轻，2010年出现、可扩展、小巧、内置开发服务器和调试器、使用jinja2模板、完全兼容WSGI 1.0\n",
    "\n",
    "### 理论概念 MVC\n",
    "\n",
    "啥事MVC呢？\n",
    "\n",
    "很多小伙伴一脸懵逼，这Tm又是个神马？\n",
    "\n",
    "- M：Model ==> 数据库模型\n",
    "- V：Views ==> 可以理解为定义网页的地址，以及渲染网页等\n",
    "- C：Controller ==> 可以理解为 网页功能的逻辑，实现\n",
    "\n",
    "### 安装\n",
    "\n",
    "`pip3 install flask`\n",
    "\n",
    "### 裸跑Web应用"
   ]
  },
  {
   "cell_type": "code",
   "execution_count": 1,
   "metadata": {},
   "outputs": [
    {
     "name": "stdout",
     "output_type": "stream",
     "text": [
      " * Serving Flask app \"__main__\" (lazy loading)\n",
      " * Environment: production\n",
      "   WARNING: Do not use the development server in a production environment.\n",
      "   Use a production WSGI server instead.\n",
      " * Debug mode: off\n"
     ]
    },
    {
     "name": "stderr",
     "output_type": "stream",
     "text": [
      " * Running on http://127.0.0.1:8080/ (Press CTRL+C to quit)\n",
      "127.0.0.1 - - [10/May/2019 17:23:18] \"GET / HTTP/1.1\" 200 -\n"
     ]
    }
   ],
   "source": [
    "from flask import Flask\n",
    "\n",
    "app = Flask(__name__)  # 创建一个Web应用\n",
    "\n",
    "@app.route('/') # 定义路由(Views)，可以理解为定义页面的URL\n",
    "def index():\n",
    "    return \"这是用Python + Flask 搞出来的。\"  # 渲染页面\n",
    "\n",
    "if __name__ == \"__main__\":\n",
    "    app.run(host='127.0.0.1',port=8080) # 运行，指定监听地址为 127.0.0.1:8080"
   ]
  },
  {
   "cell_type": "markdown",
   "metadata": {},
   "source": [
    "利用jupyter的cell是可以运行python文件的，即在cell中运行如下代码：\n",
    "\n",
    "`%run file.py`\n",
    "\n",
    "\n",
    "问题：flask 无法在jupyter notebook 上运行, 报错 error UnsupportedOperation: not writable\n",
    "\n",
    "解决办法：You need to edit the echo function definition at ../site-packages/click/utils.py the default value for the file parameter must be sys.stdout instead of None.\n",
    "Do the same for the secho function definition at ../site-packages/click/termui.py\n",
    "\n",
    "#### 开启Debug调试\n",
    "\n",
    "如果我们修改了代码，我们需要将开启的Web程序关闭再开启，这样会影响开发效率，也很烦。\n",
    "\n",
    "Flask内部有一个功能，专门针对这样的事情发生。\n",
    "\n",
    "修改代码\n",
    "\n",
    "```\n",
    "if __name__ == \"__main__\":\n",
    "    app.run(host='127.0.0.1',port=8080,debug=True)\n",
    "```\n",
    "我们添加了一个参数，就是debug，这个参数默认是False\n",
    "\n",
    "开启这个功能后，我们每次修改完代码，Web应用对自动进行调整。\n",
    "\n",
    "现在修改代码并且保存，应用就会自动更新你的代码。\n",
    "\n",
    "#### 分析\n",
    "\n",
    "现在我们来分析一下代码"
   ]
  },
  {
   "cell_type": "code",
   "execution_count": null,
   "metadata": {},
   "outputs": [],
   "source": [
    "from flask import Flask\n",
    "\n",
    "app = Flask(__name__)  # 创建一个Web应用\n",
    "\n",
    "app.config['DEBUG'] = True\n",
    "\n",
    "@app.route('/') # 定义路由(Views)，可以理解为定义页面的URL\n",
    "def index():\n",
    "    return \"这是用Python + Flask 搞出来的。\"  # 渲染页面\n",
    "\n",
    "if __name__ == \"__main__\":\n",
    "    app.run(host='127.0.0.1',port=8080) # 运行，指定监听地址为 127.0.0.1:8080"
   ]
  },
  {
   "cell_type": "markdown",
   "metadata": {},
   "source": [
    "所有Flask程序都需要进行创建一个实例。Web服务器会使用WSGI协议，将接受到的客户端请求转交给这个对象处理，可以理解为代码中的app\n",
    "\n",
    "- `app = Flask(__name__)` Flask需要一个参数，这个参数通常是主模块或是包的名字。所以通常会传入 __name__\n",
    "> Flask用这个参数来决定程序的根目录，以便以后找到资源文件，比如网页中的图片，视频，音频等\n",
    "- `app.config['DEBUG'] = True`  可以通过使用app.config类来修改配置，开启调试模式。当然，这里所采用的方法只能适用于设置很少的时候，以后会介绍另外几种修改配置的方法。\n",
    "-  `\\@app.route('/')` 还记得我之前提到了MVC吗？这里就是其中V，就是路由。这里的代码的目的就是为我们来指定一个路由，也就是页面的地址。\n",
    "-  index 函数   使用app.route()装饰器会将URL和执行的视图函数(函数 index )的关系保存在app.url_map属性上。当你访问指定的URL时，就会调用这个函数。当遇到第一个return时，就会结束。其中的return就是你的response\n",
    "- `app.run(host='127.0.0.1',port=8080)` 执行app.run来启动服务器。默认的Flask会监听的地址是127.0.0.1:5000。我们指定host和port参数，就修改了监听地址。 服务启动后，会先判断参数host以及port是否为None，如果为None，就会将host和port修改为默认值。然后会判断debug。然后就会调用werkzeug.serving.run_simple来启动Web服务，默认会使用单进程的werkzeug.serving_BaseWSGIServer来处理客户端的请求。\n",
    ">  （这里的Werkzeug其实就是WSGI的实现和应用，从中可以发现，Flask是基于Werkzeug开发的。你或许可以去查查Werkzeug的文档，来自己实现一个Web服务框架）"
   ]
  },
  {
   "cell_type": "code",
   "execution_count": 4,
   "metadata": {},
   "outputs": [
    {
     "data": {
      "text/plain": [
       "'203.150.190.208:8080'"
      ]
     },
     "execution_count": 4,
     "metadata": {},
     "output_type": "execute_result"
    }
   ],
   "source": [
    "import requests\n",
    "\n",
    "PROXY_POOL_URL = 'http://127.0.0.1:5000/random'\n",
    "\n",
    "def get_proxy():\n",
    "    try:\n",
    "        response = requests.get(PROXY_POOL_URL)\n",
    "        if response.status_code == 200:\n",
    "            return response.text\n",
    "    except ConnectionError:\n",
    "        return None\n",
    "    \n",
    "get_proxy()    "
   ]
  }
 ],
 "metadata": {
  "kernelspec": {
   "display_name": "Python 3",
   "language": "python",
   "name": "python3"
  },
  "language_info": {
   "codemirror_mode": {
    "name": "ipython",
    "version": 3
   },
   "file_extension": ".py",
   "mimetype": "text/x-python",
   "name": "python",
   "nbconvert_exporter": "python",
   "pygments_lexer": "ipython3",
   "version": "3.6.3"
  },
  "toc": {
   "nav_menu": {},
   "number_sections": true,
   "sideBar": true,
   "skip_h1_title": false,
   "title_cell": "Table of Contents",
   "title_sidebar": "Contents",
   "toc_cell": false,
   "toc_position": {},
   "toc_section_display": true,
   "toc_window_display": false
  },
  "varInspector": {
   "cols": {
    "lenName": 16,
    "lenType": 16,
    "lenVar": 40
   },
   "kernels_config": {
    "python": {
     "delete_cmd_postfix": "",
     "delete_cmd_prefix": "del ",
     "library": "var_list.py",
     "varRefreshCmd": "print(var_dic_list())"
    },
    "r": {
     "delete_cmd_postfix": ") ",
     "delete_cmd_prefix": "rm(",
     "library": "var_list.r",
     "varRefreshCmd": "cat(var_dic_list()) "
    }
   },
   "types_to_exclude": [
    "module",
    "function",
    "builtin_function_or_method",
    "instance",
    "_Feature"
   ],
   "window_display": false
  }
 },
 "nbformat": 4,
 "nbformat_minor": 2
}
