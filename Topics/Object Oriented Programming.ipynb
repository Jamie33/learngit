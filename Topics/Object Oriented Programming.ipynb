{
 "cells": [
  {
   "cell_type": "markdown",
   "metadata": {},
   "source": [
    "# 装饰器 @staticmethod 和 @classmethod\n",
    "\n",
    "https://blog.csdn.net/jypfhx/article/details/75045471\n",
    "\n",
    "### 实例方法\n",
    "通常，在python类中定义的普通方法就是实例方法。它的语法如下：\n",
    "\n",
    "```\n",
    "class C(object):\n",
    "    def fun(self,arg1,arg2,...):\n",
    "```\n",
    "实例方法的参数中有一个必不可少的参数self，它必须位于参数列表的第一个位置，它相当于该方法所属的类在实例化后的实例本身(Instance)，表示传入该方法所属类的一个实例。实例方法被调用时，参数self被隐式地传入方法中，无需显式指定。\n",
    "\n",
    "既然叫做实例方法，那么它必须使用该类的实例才能调用\n",
    "`C().fun() `，直接使用类来调用该方法是无效的` C.fun() `。\n",
    "\n",
    "### staticmethod（静态方法）\n",
    "需要一个装饰器语法(@staticmethod)将一个普通方法（实例方法）转换为静态方法：\n",
    "\n",
    "```\n",
    "class C(object):\n",
    "    @staticmethod\n",
    "    def fun(arg1,arg2,...):\n",
    "```\n",
    "staticmethod 方法的参数是自定义的任何参数，当然也可以没有参数。它不需要一个隐含参数，像self这样的。这是它与实例方法和类方法之间在形式上的一个主要不同之处。\n",
    "\n",
    "staticmethod即可以在类上调用`C.fun()`也可以在实例上调用`C().fun()`. **在实例上调用时，实例被忽略而类被使用---实际上还是类调用。**\n",
    "\n",
    "staticmethod不需要自身对象self和自身类的cls参数，没有对类或实例的依赖，它处理与类无关的信息，就像恰好放在类中的一个局部函数，但是它的功能又与类有某种关联。\n",
    "\n",
    "如果需要在staticmethod中调用类的属性和方法，可以直接用类名.属性名/类名.方法名。\n",
    "\n",
    "### classmethod（类方法）\n",
    "需要一个装饰器语法（@classmethod）将一个普通方法（实例方法）转换为类方法：\n",
    "\n",
    "```\n",
    "class C(object):\n",
    "    @classmethod\n",
    "    def fun(cls,arg1,arg2,...):\n",
    "```\n",
    "classmethod需要接收一个隐含参数作为第一个参数，不同于实例方法的self, 类方法的隐含参数叫做cls(其实可以叫任何别的名字，这里主要是因为命名惯例), 表示传入该方法所属的类。 \n",
    "\n",
    "classmethod即可以在类上调用（C.f()）也可以在实例上调用（C().f()）. **在实例上调用时，实例被忽略而类被使用---实际上还是类调用。**\n",
    "\n",
    "如果classmethod是在派生类中被调用的，被隐式传入cls参数的是那个子类对象，而不是父类。\n",
    "\n",
    "### 应用举例\n",
    "#### 基本使用\n",
    "定义一个实例方法，静态方法和类方法，并分别进行调用。"
   ]
  },
  {
   "cell_type": "code",
   "execution_count": 2,
   "metadata": {},
   "outputs": [
    {
     "name": "stdout",
     "output_type": "stream",
     "text": [
      "Instance method: <__main__.A object at 0x001B6370>\n",
      "Class method: <class '__main__.A'>\n",
      "Static method\n",
      "Class method: <class '__main__.A'>\n",
      "Static method\n"
     ]
    },
    {
     "ename": "TypeError",
     "evalue": "insm() missing 1 required positional argument: 'self'",
     "output_type": "error",
     "traceback": [
      "\u001b[1;31m---------------------------------------------------------------------------\u001b[0m",
      "\u001b[1;31mTypeError\u001b[0m                                 Traceback (most recent call last)",
      "\u001b[1;32m<ipython-input-2-f2804020e8c2>\u001b[0m in \u001b[0;36m<module>\u001b[1;34m()\u001b[0m\n\u001b[0;32m     29\u001b[0m \u001b[1;33m\u001b[0m\u001b[0m\n\u001b[0;32m     30\u001b[0m \u001b[1;31m# 在类上调用类实例方法\u001b[0m\u001b[1;33m\u001b[0m\u001b[1;33m\u001b[0m\u001b[0m\n\u001b[1;32m---> 31\u001b[1;33m \u001b[0mA\u001b[0m\u001b[1;33m.\u001b[0m\u001b[0minsm\u001b[0m\u001b[1;33m(\u001b[0m\u001b[1;33m)\u001b[0m\u001b[1;33m\u001b[0m\u001b[0m\n\u001b[0m",
      "\u001b[1;31mTypeError\u001b[0m: insm() missing 1 required positional argument: 'self'"
     ]
    }
   ],
   "source": [
    "class A(object):\n",
    "    \n",
    "    def insm(self):\n",
    "        print('Instance method:',self)\n",
    "        \n",
    "    @staticmethod\n",
    "    def stam():\n",
    "        print('Static method')\n",
    "        \n",
    "    @classmethod\n",
    "    def clsm(cls):\n",
    "        print('Class method:',cls)\n",
    "    \n",
    "\n",
    "# 在实例上调用实例方法\n",
    "A().insm()\n",
    "\n",
    "# 在实例上调用静态方法\n",
    "A().clsm()\n",
    "\n",
    "# 在实例上调用类方法\n",
    "A().stam()\n",
    "\n",
    "# 在类上调用类方法\n",
    "A.clsm()\n",
    "\n",
    "# 在类上调用静态方法\n",
    "A.stam()\n",
    "\n",
    "# 在类上调用类实例方法 (报错)\n",
    "A.insm()"
   ]
  },
  {
   "cell_type": "markdown",
   "metadata": {},
   "source": [
    "####  在派生类中使用父类的类方法\n",
    "\n",
    "如果classmethod是在派生类中被调用的，被隐式传入cls参数的是那个子类对象，而不是父类。\n",
    "\n",
    "下面例子显示的cls参数值为子类对象"
   ]
  },
  {
   "cell_type": "code",
   "execution_count": 3,
   "metadata": {},
   "outputs": [
    {
     "name": "stdout",
     "output_type": "stream",
     "text": [
      "Class method: <class '__main__.B'>\n"
     ]
    }
   ],
   "source": [
    "class B(A):\n",
    "    pass\n",
    "\n",
    "B.clsm()"
   ]
  },
  {
   "cell_type": "markdown",
   "metadata": {},
   "source": [
    "# Python中的staticmethod与classmethod\n",
    "\n",
    "https://www.cnblogs.com/agnewee/p/5653936.html"
   ]
  },
  {
   "cell_type": "code",
   "execution_count": null,
   "metadata": {},
   "outputs": [],
   "source": []
  },
  {
   "cell_type": "markdown",
   "metadata": {},
   "source": [
    "# 动态给实例／class 绑定属性和方法\n",
    "\n",
    "正常情况下，当我们定义了一个 class，创建了一个 class的实例后，我们可以**给该实例绑定任何属性和方法**，这就是**动态语言的灵活性**。\n",
    "\n",
    "下面是给一个实例绑定属性和方法，**注意给某个实例绑定方法，对另一个实例是不起作用的**\n",
    "\n",
    "为了给所有实例绑定方法，可以给 class绑定方法。"
   ]
  },
  {
   "cell_type": "code",
   "execution_count": 11,
   "metadata": {},
   "outputs": [
    {
     "name": "stdout",
     "output_type": "stream",
     "text": [
      "Jamie\n",
      "28\n",
      "100 99\n"
     ]
    }
   ],
   "source": [
    "# 定义 class\n",
    "class Student():\n",
    "    pass\n",
    "\n",
    "s = Student()\n",
    "\n",
    "# 动态地给实例绑定属性\n",
    "s.name = 'Jamie'\n",
    "print(s.name)\n",
    "\n",
    "# 动态地给实例绑定方法\n",
    "def set_age(self,age): #定义一个函数作为实例的方法\n",
    "    self.age = age \n",
    "    \n",
    "from types import MethodType\n",
    "s.set_age = MethodType(set_age,s) # 给实例绑定方法\n",
    "s.set_age(28)\n",
    "print(s.age)\n",
    "\n",
    "# 该方法对另一个实例不起作用\n",
    "s2 =Student()\n",
    "s2.set_age(30) # 报错 AttributeError: 'student' object has no attribute 'set_age'\n",
    "\n",
    "# 动态给class绑定方法\n",
    "def set_score(self,score):\n",
    "    self.score = score\n",
    "    \n",
    "Student.set_score = set_score\n",
    "s.set_score(100)\n",
    "s2.set_score (99)\n",
    "print(s.score,s2.score)"
   ]
  },
  {
   "cell_type": "markdown",
   "metadata": {},
   "source": [
    "通常情况下，上面的set_score方法可以直接定义在class中，但动态绑定允许我们在程序运行的过程中动态给class加上功能，这在静态语言中很难实现。\n",
    "\n",
    "# 使用\\__slots__\n",
    "\n",
    "当我们想要限制实例的属性怎么办？比如，只允许对Student实例添加name和age属性。为了达到限制的目的，Python允许在定义class的时候，**定义一个特殊的\\__slots__变量，来限制该class实例能添加的属性**\n",
    "\n",
    "由于'score'没有被放到\\__slots__中，所以不能绑定score属性，试图绑定score将得到AttributeError的错误。\n",
    "\n",
    "**注意\\__slots__定义的属性仅对当前类实例起作用，对继承的子类是不起作用的**\n",
    "\n",
    "除非在子类中也定义\\__slots__，这样，**子类实例允许定义的属性就是自身的\\__slots__加上父类的\\__slots__**。"
   ]
  },
  {
   "cell_type": "code",
   "execution_count": 20,
   "metadata": {},
   "outputs": [
    {
     "name": "stdout",
     "output_type": "stream",
     "text": [
      "100\n"
     ]
    }
   ],
   "source": [
    "# 使用__slots__\n",
    "class Student(object):\n",
    "    __slots__ = ('name','age')\n",
    "    \n",
    "s = Student()\n",
    "s.name = 'Jamie'\n",
    "s.age = 28\n",
    "# 由于'score'没有被放到__slots__中，所以不能绑定score属性，试图绑定score将得到AttributeError的错误。\n",
    "#s.score = 100 # 报错 AttributeError: 'Student' object has no attribute 'score'\n",
    "\n",
    "\n",
    "# slots定义的属性仅对当前类实例起作用，对继承的子类是不起作用的\n",
    "class GraduateStudent(Student):\n",
    "    pass\n",
    "g = GraduateStudent()\n",
    "g.score = 100\n",
    "print(g.score)\n",
    "\n",
    "\n",
    "#除非在子类中也定义__slots__，这样，子类实例允许定义的属性就是自身的__slots__加上父类的__slots__。\n",
    "\n",
    "class Gstudent(Student):\n",
    "    __slots__ = ('height')\n",
    "\n",
    "gs = Gstudent()\n",
    "gs.name = 'gs'\n",
    "gs.age = 30\n",
    "gs.height = 160\n",
    "# gs.score =99 # AttributeError: 'Gstudent' object has no attribute 'score'"
   ]
  },
  {
   "cell_type": "markdown",
   "metadata": {},
   "source": [
    "# 使用@property\n",
    "\n",
    "为了限制score的范围，可以通过一个set_score()方法来设置成绩，再通过一个get_score()来获取成绩，这样，在set_score()方法里，就可以检查参数："
   ]
  },
  {
   "cell_type": "code",
   "execution_count": 10,
   "metadata": {},
   "outputs": [
    {
     "data": {
      "text/plain": [
       "90"
      ]
     },
     "execution_count": 10,
     "metadata": {},
     "output_type": "execute_result"
    }
   ],
   "source": [
    "class Student(object):\n",
    "    \n",
    "    def get_score(self):\n",
    "        return self._score\n",
    "    \n",
    "    def set_score(self,value):\n",
    "        if not isinstance(value,int):\n",
    "            raise ValueError('Score must be an interger!')\n",
    "        if value < 0 or value > 100:\n",
    "            raise ValueError('Score must be between 0~100')\n",
    "            \n",
    "        self._score = value\n",
    "        \n",
    "\n",
    "s = Student()\n",
    "s.set_score(90)\n",
    "s.get_score()\n",
    "#s.set_score(999)"
   ]
  },
  {
   "cell_type": "markdown",
   "metadata": {},
   "source": [
    "如果要让内部属性不被外部访问，可以把属性的名称前加上两个下划线\\__，在Python中，实例的变量名如果以__开头，就变成了一个私有变量（private），只有内部可以访问，外部不能访问\n",
    "\n",
    "有些时候，你会看到以一个下划线开头的实例变量名，比如_name，这样的实例变量外部是可以访问的，但是，按照约定俗成的规定，当你看到这样的变量时，意思就是，“虽然我可以被访问，但是，请把我视为私有变量，不要随意访问”。\n",
    "\n",
    "但是，上面的调用方法又略显复杂，没有直接用属性这么直接简单。有没有既能检查参数，又可以用类似属性这样简单的方式来访问类的变量呢？还记得装饰器（decorator）可以给函数动态加上功能吗？对于类的方法，装饰器一样起作用。Python内置的@property装饰器就是负责把一个方法变成属性调用的："
   ]
  },
  {
   "cell_type": "code",
   "execution_count": 18,
   "metadata": {},
   "outputs": [
    {
     "data": {
      "text/plain": [
       "60"
      ]
     },
     "execution_count": 18,
     "metadata": {},
     "output_type": "execute_result"
    }
   ],
   "source": [
    "class Student(object):\n",
    "    \n",
    "    @property\n",
    "    def score(self):\n",
    "        return self._score\n",
    "    \n",
    "    @score.setter\n",
    "    def score(self,value):\n",
    "        if not isinstance(value,int):\n",
    "            raise ValueError('Score must be an interger!')\n",
    "        if value < 0 or value > 100:\n",
    "            raise ValueError('Score must be between 0~100')\n",
    "            \n",
    "        self._score = value\n",
    "        \n",
    "\n",
    "s = Student()\n",
    "s.score = 60 # 实际事转化s.set_score(60)\n",
    "s.score # 实际事转化s.get_score()\n",
    "\n",
    "# s.score = 999"
   ]
  },
  {
   "cell_type": "markdown",
   "metadata": {},
   "source": [
    "@property的实现比较复杂，我们先考察如何使用。把一个getter方法变成属性，只需要加上@property就可以了，此时，@property本身又创建了另一个装饰器@score.setter，负责把一个setter方法变成属性赋值，于是，我们就拥有一个可控的属性操作。 \n",
    "\n",
    "注意到这个神奇的@property，我们在对实例属性操作的时候，就知道该属性很可能不是直接暴露的，而是通过getter和setter方法来实现的。\n",
    "\n",
    "还可以定义只读属性，只定义getter方法，不定义setter方法就是一个只读属性："
   ]
  },
  {
   "cell_type": "code",
   "execution_count": 21,
   "metadata": {},
   "outputs": [
    {
     "data": {
      "text/plain": [
       "1990"
      ]
     },
     "execution_count": 21,
     "metadata": {},
     "output_type": "execute_result"
    }
   ],
   "source": [
    "class Student(object):\n",
    "    \n",
    "    @property\n",
    "    def birth(self):\n",
    "        return self._birth\n",
    "    \n",
    "    @birth.setter\n",
    "    def birth(self,value):\n",
    "        self._birth = value\n",
    "    \n",
    "    @property\n",
    "    def age(self):\n",
    "        return 2018-self._birth\n",
    "    \n",
    "s = Student()\n",
    "s.birth = 28\n",
    "s.age"
   ]
  },
  {
   "cell_type": "markdown",
   "metadata": {},
   "source": [
    "上面的birth是可读写属性，而age就是一个只读属性，因为age可以根据birth和当前时间计算出来。\n",
    "\n",
    "# 定制类\n",
    "\n",
    "看到类似\\__slots__这种形如\\__xxx__的变量或者函数名就要注意，这些在Python中是有特殊用途的。\n",
    "\n",
    "\\__slots__我们已经知道怎么用了，\\__len__()方法我们也知道是为了能让class作用于len()函数。\n",
    "\n",
    "除此之外，Python的class中还有许多这样有特殊用途的函数，可以帮助我们定制类。\n",
    "\n",
    "## \\__str__\n",
    "\n",
    "用print打印实例的结果： `<__main__.Student object at 0x1107b4588>`，不好看。怎么才能打印得好看呢？只需要定义好__str__()方法，返回一个好看的字符串就可以了："
   ]
  },
  {
   "cell_type": "code",
   "execution_count": 25,
   "metadata": {},
   "outputs": [
    {
     "name": "stdout",
     "output_type": "stream",
     "text": [
      "<__main__.Student object at 0x11085ce48>\n",
      "__str__ 使 print 打印出定制内容\n",
      "Student object:Jamie\n"
     ]
    },
    {
     "data": {
      "text/plain": [
       "<__main__.Student at 0x110880f98>"
      ]
     },
     "execution_count": 25,
     "metadata": {},
     "output_type": "execute_result"
    }
   ],
   "source": [
    "class Student():\n",
    "    def __init__(self,name):\n",
    "        self.name = name\n",
    "\n",
    "s = Student('Jamie')\n",
    "print(s)\n",
    "\n",
    "print('__str__ 使 print 打印出定制内容')\n",
    "\n",
    "class Student():\n",
    "    def __init__(self,name):\n",
    "        self.name = name\n",
    "    def __str__(self):\n",
    "        return 'Student object:{}'.format(self.name)\n",
    "\n",
    "s = Student('Jamie')\n",
    "print(s)\n",
    "\n",
    "s"
   ]
  },
  {
   "cell_type": "markdown",
   "metadata": {},
   "source": [
    "直接敲变量不用print，打印出来的实例还是不好看：`<__main__.Student at 0x110880f98>`\n",
    "\n",
    "这是因为直接显示变量调用的不是\\__str__()，而是\\__repr__()，两者的区别是\n",
    "\n",
    "- \\__str__()返回用户看到的字符串\n",
    "\n",
    "- \\__repr__()返回程序开发者看到的字符串，也就是说，\\__repr__()是为调试服务的。\n",
    "\n",
    "解决办法是再定义一个\\__repr__()。但是通常\\__str__()和\\__repr__()代码都是一样的，所以，有个偷懒的写法：\n",
    "\n",
    "`__repr__ = __str__`"
   ]
  },
  {
   "cell_type": "code",
   "execution_count": 27,
   "metadata": {},
   "outputs": [
    {
     "data": {
      "text/plain": [
       "Student object:Jamie"
      ]
     },
     "execution_count": 27,
     "metadata": {},
     "output_type": "execute_result"
    }
   ],
   "source": [
    "class Student():\n",
    "    def __init__(self,name):\n",
    "        self.name = name\n",
    "    def __str__(self):\n",
    "        return 'Student object:{}'.format(self.name)\n",
    "    __repr__ =  __str__ \n",
    "    \n",
    "s = Student('Jamie')\n",
    "s"
   ]
  },
  {
   "cell_type": "markdown",
   "metadata": {},
   "source": [
    "## \\__getattr__\n",
    "\n",
    "正常情况下，当我们调用类的方法或属性时，如果不存在，就会报错。"
   ]
  },
  {
   "cell_type": "code",
   "execution_count": 28,
   "metadata": {},
   "outputs": [
    {
     "name": "stdout",
     "output_type": "stream",
     "text": [
      "Jamie\n"
     ]
    },
    {
     "ename": "AttributeError",
     "evalue": "'Student' object has no attribute 'score'",
     "output_type": "error",
     "traceback": [
      "\u001b[0;31m---------------------------------------------------------------------------\u001b[0m",
      "\u001b[0;31mAttributeError\u001b[0m                            Traceback (most recent call last)",
      "\u001b[0;32m<ipython-input-28-869410610f5c>\u001b[0m in \u001b[0;36m<module>\u001b[0;34m()\u001b[0m\n\u001b[1;32m      5\u001b[0m \u001b[0ms\u001b[0m \u001b[0;34m=\u001b[0m \u001b[0mStudent\u001b[0m\u001b[0;34m(\u001b[0m\u001b[0;34m'Jamie'\u001b[0m\u001b[0;34m)\u001b[0m\u001b[0;34m\u001b[0m\u001b[0m\n\u001b[1;32m      6\u001b[0m \u001b[0mprint\u001b[0m\u001b[0;34m(\u001b[0m\u001b[0ms\u001b[0m\u001b[0;34m.\u001b[0m\u001b[0mname\u001b[0m\u001b[0;34m)\u001b[0m\u001b[0;34m\u001b[0m\u001b[0m\n\u001b[0;32m----> 7\u001b[0;31m \u001b[0mprint\u001b[0m\u001b[0;34m(\u001b[0m\u001b[0ms\u001b[0m\u001b[0;34m.\u001b[0m\u001b[0mscore\u001b[0m\u001b[0;34m)\u001b[0m\u001b[0;34m\u001b[0m\u001b[0m\n\u001b[0m",
      "\u001b[0;31mAttributeError\u001b[0m: 'Student' object has no attribute 'score'"
     ]
    }
   ],
   "source": [
    "class Student(object):\n",
    "    def __init__(self,name):\n",
    "        self.name = name\n",
    "        \n",
    "s = Student('Jamie')\n",
    "print(s.name)\n",
    "print(s.score)"
   ]
  },
  {
   "cell_type": "markdown",
   "metadata": {},
   "source": [
    "要避免这个错误，除了可以加上一个score属性外，Python还有另一个机制，那就是写一个__getattr__()方法，动态返回一个属性。"
   ]
  },
  {
   "cell_type": "code",
   "execution_count": 36,
   "metadata": {},
   "outputs": [
    {
     "name": "stdout",
     "output_type": "stream",
     "text": [
      "Jamie\n",
      "99\n",
      "25\n",
      "None\n"
     ]
    }
   ],
   "source": [
    "class Student(object):\n",
    "    def __init__(self,name):\n",
    "        self.name = name\n",
    "    \n",
    "    def __getattr__(self,attr):\n",
    "        if attr == 'score':\n",
    "            return 99\n",
    "        if attr=='age':\n",
    "            return lambda: 25\n",
    "        \n",
    "s = Student('Jamie')\n",
    "print(s.name)\n",
    "print(s.score)\n",
    "print(s.age())\n",
    "print(s.abe)"
   ]
  },
  {
   "cell_type": "markdown",
   "metadata": {},
   "source": [
    "当调用不存在的属性时，比如score，Python解释器会试图调用__getattr__(self, 'score')来尝试获得属性，这样，我们就有机会返回score的值：\n",
    "\n",
    "返回函数也是完全可以的,只是调用方式要在函数后面加().\n",
    "\n",
    "注意，只有在没有找到属性的情况下，才调用__getattr__，已有的属性，比如name，不会在__getattr__中查找。\n",
    "\n",
    "此外，注意到任意调用如s.abc都会返回None，这是因为我们定义的__getattr__默认返回就是None。要让class只响应特定的几个属性，我们就要按照约定，抛出AttributeError的错误：\n",
    "\n"
   ]
  },
  {
   "cell_type": "markdown",
   "metadata": {},
   "source": [
    "# 两句话掌握python最难知识点——元类\n",
    "\n",
    "https://segmentfault.com/a/1190000011447445\n",
    "\n",
    "\n",
    "学懂元类，你只需要知道两句话：\n",
    "\n",
    "### 道生一，一生二，二生三，三生万物\n",
    "\n",
    "### 我是谁？我从哪来里？我要到哪里去？\n",
    "\n",
    "\n",
    "在python世界，拥有一个永恒的道，那就是“type”，请记在脑海中，type就是道。如此广袤无垠的python生态圈，都是由type产生出来的。\n",
    "\n",
    "道生一，一生二，二生三，三生万物。\n",
    "\n",
    "道 即是 type\n",
    "\n",
    "一 即是 metaclass(元类，或者叫类生成器)\n",
    "\n",
    "二 即是 class(类，或者叫实例生成器)\n",
    "\n",
    "三 即是 instance(实例)\n",
    "\n",
    "万物 即是 实例的各种属性与方法，我们平常使用python时，调用的就是它们。\n"
   ]
  },
  {
   "cell_type": "code",
   "execution_count": 1,
   "metadata": {},
   "outputs": [
    {
     "name": "stdout",
     "output_type": "stream",
     "text": [
      "Hello,world\n",
      "<class 'type'>\n",
      "<class '__main__.Hello'>\n"
     ]
    }
   ],
   "source": [
    "# 创建一个Hello类，拥有属性 say_heelo --- 二的起源\n",
    "class Hello():\n",
    "    def say_hello(self,name='world'):\n",
    "        print('Hello,{}'.format(name))\n",
    "\n",
    "# 从 Hello 类创建一个实例 hello  --- 二生三\n",
    "hello = Hello()\n",
    "\n",
    "# 使用 hello 调用方法 say_hello --- 三生万物\n",
    "hello.say_hello() \n",
    "\n",
    "print(type(Hello))\n",
    "print(type(hello))"
   ]
  },
  {
   "cell_type": "markdown",
   "metadata": {},
   "source": [
    "这就是一个标准的“二生三，三生万物”过程。 从类到我们可以调用的方法，用了这两步。\n",
    "\n",
    "那我们不由自主要问，类从何而来呢？回到代码的第一行。\n",
    "class Hello其实是一个函数的“语义化简称”，只为了让代码更浅显易懂，它的另一个写法是：\n",
    "\n",
    "这样的写法，就和之前的Class Hello写法作用完全相同,建实例并调用,输出效果也一样"
   ]
  },
  {
   "cell_type": "code",
   "execution_count": 13,
   "metadata": {},
   "outputs": [
    {
     "name": "stdout",
     "output_type": "stream",
     "text": [
      "Hello,world\n",
      "Hello,world\n"
     ]
    }
   ],
   "source": [
    "# 假如我们有一个函数 fn\n",
    "def fn(self,name='world'):\n",
    "    print('Hello,{}'.format(name))\n",
    "\n",
    "# 通过 type 创建 Hello 类   --- 道生二\n",
    "Hello = type('Hello',(object,),dict(say_hello=fn))\n",
    "\n",
    "hello = Hello()\n",
    "\n",
    "hello.say_hello()\n",
    "\n",
    "# 换成匿名函数\n",
    "H = type('H',(object,),dict(say_hello=lambda self,value='world':print('Hello,{}'.format(value))))\n",
    "h = H()\n",
    "h.say_hello()"
   ]
  },
  {
   "cell_type": "markdown",
   "metadata": {},
   "source": [
    "**`Hello = type('Hello', (object,), dict(say_hello=fn)) `**\n",
    "\n",
    "**type(类名, 父类的元组（针对继承的情况，可以为空），包含属性的字典（名称和值）)**\n",
    "\n",
    "注意它的三个参数！暗合人类的三大永恒命题：**我是谁，我从哪里来，我要到哪里去.**\n",
    "\n",
    "第一个参数：我是谁。类名\n",
    "\n",
    "第二个参数：我从哪里来。继承的父类集合，注意Python支持多重继承，如果只有一个父类，别忘了tuple的单元素写法；\n",
    "\n",
    "第三个参数：我要到哪里去。需要调用的方法和属性包含到一个字典里，再作为参数传入。class的方法名称与函数绑定，这里我们把函数fn绑定到方法名hello上。\n",
    "\n",
    "\n",
    "```\n",
    "class Hello(object){\n",
    "# class 后声明“我是谁”\n",
    "# 小括号内声明“我来自哪里”\n",
    "# 中括号内声明“我要到哪里去”\n",
    "    def say_hello(){\n",
    "        \n",
    "    }\n",
    "}\n",
    "```\n",
    "\n",
    "\n",
    "\n",
    "**以字典的模式给类定义方法或属性**\n",
    "\n",
    "**属性：**\n",
    "\n",
    "```\n",
    "class Foo(object):\n",
    "    bar = True\n",
    "```\n",
    "用type()创建有属性的类(类属性)\n",
    "```\n",
    "Foo = type('Foo',(object,),{'bar':Ture})\n",
    "```\n",
    "\n",
    "**方法：**\n",
    "\n",
    "```\n",
    "class Hello():\n",
    "    def say_hello(self,name='world'):\n",
    "        print('Hello,{}'.format(name))\n",
    "```\n",
    "用type()创建有方法的类(实例方法)\n",
    "```\n",
    "def fn(self,name='world'):\n",
    "    print('Hello,{}'.format(name))\n",
    "\n",
    "Hello = type('Hello',(object,),dict(say_hello=fn))\n",
    "```\n",
    "换匿名函数\n",
    "```\n",
    "Hello = type('Hello',(object,),dict(say_hello=lambda self,name='world':print('Hello,{}'.foramt(name))))\n",
    "```\n",
    "\n",
    "\n",
    "\n",
    "造物主，可以直接创造单个的人，但这是一件苦役。造物主会先创造“人”这一物种，再批量创造具体的个人。并将三大永恒命题，一直传递下去。\n",
    "\n",
    "**“道”可以直接生出“二”，但它会先生出“一”，再批量地制造“二”。**\n",
    "\n",
    "**type可以直接生成类（class），但也可以先生成元类（metaclass），再使用元类批量定制类（class）。**\n",
    "\n",
    "## 元类——道生一，一生二\n",
    "\n",
    "一般来说，元类均被命名后缀为Metalass。想象一下，我们需要一个可以自动打招呼的元类，它里面的类方法呢，有时需要say_Hello，有时需要say_Hi，有时又需要say_Sayolala，有时需要say_Nihao。\n",
    "\n",
    "如果每个内置的say_xxx都需要在类里面声明一次，那将是多么可怕的苦役！ 不如使用元类来解决问题。\n",
    "\n",
    "以下是创建一个专门“打招呼”用的元类代码："
   ]
  },
  {
   "cell_type": "code",
   "execution_count": null,
   "metadata": {},
   "outputs": [],
   "source": [
    "class SayMetaClass(type):\n",
    "    \n",
    "    def __new__(cls,name,bases,attrs):\n",
    "        attrs['say_'+name]=lambda self,value,saying=name:print('{},{}!'.foramt(saying,value))\n",
    "        return type.__new__(cls,name,bases,attrs)"
   ]
  },
  {
   "cell_type": "markdown",
   "metadata": {},
   "source": [
    "记住两点：\n",
    "\n",
    "1、元类是由“type”衍生而出，所以父类需要传入type。**【道生一，所以一必须包含道】**\n",
    "\n",
    "2、元类的操作都在 \\__new__中完成，它的第一个参数是将创建的类，之后的参数即是三大永恒命题：我是谁，我从哪里来，我将到哪里去。 它返回的对象也是三大永恒命题，接下来，这三个参数将一直陪伴我们。\n",
    "\n",
    "在\\__new__中，我只进行了一个操作，就是这个\n",
    "\n",
    "`attrs['say_'+name] = lambda self,value,saying=name:print('{},{}!'.foramt(saying,value))`\n",
    "\n",
    "其中匿名函数等同于\n",
    "```\n",
    "def niming(self,value,saying=name):\n",
    "    print('{},{}!'.foramt(saying,value)\n",
    "\n",
    "```\n",
    "\n",
    "\\__new__()方法接收到的参数依次是：\n",
    "\n",
    "cls  表示元类\n",
    "\n",
    "name  表示创建类的类名\n",
    "\n",
    "bases 表示创建类继承的所有父类\n",
    "\n",
    "attrs 表示创建类的所有属性和方法（以键值对的字典的形式）\n",
    "\n",
    "\n",
    "\n",
    "\n",
    "## 根据道生一、一生二、二生三、三生万物的准则，走进元类的生命周期吧！\n",
    "\n",
    "**注意：通过元类创建的类，第一个参数是父类，第二个参数是metaclass**"
   ]
  },
  {
   "cell_type": "code",
   "execution_count": 19,
   "metadata": {},
   "outputs": [
    {
     "name": "stdout",
     "output_type": "stream",
     "text": [
      "Hello (<class 'object'>,) {'__module__': '__main__', '__qualname__': 'Hello'}\n",
      "Hello (<class 'object'>,) {'__module__': '__main__', '__qualname__': 'Hello', 'say_Hello': <function SayMetaClass.__new__.<locals>.<lambda> at 0x00D822B8>}\n",
      "==============Hello================\n",
      "Hello,World!\n",
      "==============Nihao================\n",
      "Nihao (<class 'object'>,) {'__module__': '__main__', '__qualname__': 'Nihao'}\n",
      "Nihao (<class 'object'>,) {'__module__': '__main__', '__qualname__': 'Nihao', 'say_Nihao': <function SayMetaClass.__new__.<locals>.<lambda> at 0x00D82E40>}\n",
      "Nihao,中华!\n",
      "===============Sayolala===============\n",
      "Sayolala (<class 'object'>,) {'__module__': '__main__', '__qualname__': 'Sayolala'}\n",
      "Sayolala (<class 'object'>,) {'__module__': '__main__', '__qualname__': 'Sayolala', 'say_Sayolala': <function SayMetaClass.__new__.<locals>.<lambda> at 0x00D99348>}\n",
      "Sayolala,Japan!\n"
     ]
    }
   ],
   "source": [
    "# 道生一 传入 type \n",
    "class SayMetaClass(type):\n",
    "    # 传入三大永恒话题： 类名称、父类、属性\n",
    "    def __new__(cls,name,bases,attrs):\n",
    "        print(name,bases,attrs)\n",
    "        attrs['say_'+name] = lambda self,value,saying=name:print('{},{}!'.format(saying,value))\n",
    "        # 传承三大永恒话题： 类名称、父类、属性\n",
    "        print(name,bases,attrs)\n",
    "        return type.__new__(cls,name,bases,attrs)\n",
    "\n",
    "# 一生二 创建类\n",
    "class Hello(object,metaclass=SayMetaClass):\n",
    "    pass\n",
    "\n",
    "print('==============Hello================')\n",
    "\n",
    "# 二生三 创建实例\n",
    "hello = Hello()\n",
    "\n",
    "# 三生万物 调用实例方法\n",
    "hello.say_Hello('World')\n",
    "\n",
    "\n",
    "print('==============Nihao================')\n",
    "\n",
    "class Nihao(object,metaclass=SayMetaClass):\n",
    "    pass\n",
    "\n",
    "nihao = Nihao()\n",
    "nihao.say_Nihao('中华')\n",
    "\n",
    "print('===============Sayolala===============')\n",
    "\n",
    "class Sayolala(object,metaclass=SayMetaClass):\n",
    "    pass\n",
    "\n",
    "sayolala = Sayolala()\n",
    "sayolala.say_Sayolala('Japan')"
   ]
  },
  {
   "cell_type": "markdown",
   "metadata": {},
   "source": [
    "如果不用元类，要达到上述效果，就需要创建3个类，里面各声明一次，如下："
   ]
  },
  {
   "cell_type": "code",
   "execution_count": 16,
   "metadata": {},
   "outputs": [
    {
     "name": "stdout",
     "output_type": "stream",
     "text": [
      "==============Hello================\n",
      "Hello,World!\n",
      "==============Nihao================\n",
      "Nihao,中华!\n",
      "===============Sayolala===============\n",
      "Sayolala,Japan!\n"
     ]
    }
   ],
   "source": [
    "print('==============Hello================')\n",
    "class Hello(object):\n",
    "    def say_Hello(self,value):\n",
    "        print('Hello,{}!'.format(value))\n",
    "        \n",
    "hello = Hello()\n",
    "hello.say_Hello('World')\n",
    "\n",
    "print('==============Nihao================')\n",
    "\n",
    "class Nihao(object):\n",
    "    def say_Nihao(self,value):\n",
    "        print('Nihao,{}!'.format(value))\n",
    "        \n",
    "nihao = Nihao()\n",
    "nihao.say_Nihao('中华')\n",
    "\n",
    "print('===============Sayolala===============')\n",
    "\n",
    "class Sayolala(object):\n",
    "    def say_Sayolala(self,value):\n",
    "        print('Sayolala,{}!'.format(value))\n",
    "        \n",
    "sayolala = Sayolala()\n",
    "sayolala.say_Sayolala('Japan')"
   ]
  },
  {
   "cell_type": "markdown",
   "metadata": {},
   "source": [
    "在sayhello的基础上，加上问候方式，轻吻kiss，握手shakehand，鞠躬bow"
   ]
  },
  {
   "cell_type": "code",
   "execution_count": 20,
   "metadata": {},
   "outputs": [
    {
     "name": "stdout",
     "output_type": "stream",
     "text": [
      "==============Hello================\n",
      "Hello,World!\n",
      "Kiss！\n",
      "==============Nihao================\n",
      "Nihao,中华!\n",
      "Shakehand！\n",
      "===============Sayolala===============\n",
      "Sayolala,Japan!\n",
      "Bow！\n"
     ]
    }
   ],
   "source": [
    "# 道生一 传入 type \n",
    "class SayMetaClass(type):\n",
    "    # 传入三大永恒话题： 类名称、父类、属性\n",
    "    def __new__(cls,name,bases,attrs):\n",
    "        attrs['say_'+name] = lambda self,value,saying=name:print('{},{}!'.format(saying,value))\n",
    "        attrs['manner'] = lambda self,manner:print('{}！'.format(manner))\n",
    "        # 传承三大永恒话题： 类名称、父类、属性\n",
    "        return type.__new__(cls,name,bases,attrs)\n",
    "\n",
    "# 一生二 创建类\n",
    "class Hello(object,metaclass=SayMetaClass):\n",
    "    pass\n",
    "\n",
    "print('==============Hello================')\n",
    "\n",
    "# 二生三 创建实例\n",
    "hello = Hello()\n",
    "\n",
    "# 三生万物 调用实例方法\n",
    "hello.say_Hello('World')\n",
    "hello.manner('Kiss')\n",
    "\n",
    "\n",
    "print('==============Nihao================')\n",
    "\n",
    "class Nihao(object,metaclass=SayMetaClass):\n",
    "    pass\n",
    "\n",
    "nihao = Nihao()\n",
    "nihao.say_Nihao('中华')\n",
    "nihao.manner('Shakehand')\n",
    "\n",
    "print('===============Sayolala===============')\n",
    "\n",
    "class Sayolala(object,metaclass=SayMetaClass):\n",
    "    pass\n",
    "\n",
    "sayolala = Sayolala()\n",
    "sayolala.say_Sayolala('Japan')\n",
    "sayolala.manner('Bow')"
   ]
  },
  {
   "cell_type": "markdown",
   "metadata": {},
   "source": [
    "##  给list增加一个list本身没有的add方法"
   ]
  },
  {
   "cell_type": "code",
   "execution_count": 23,
   "metadata": {},
   "outputs": [
    {
     "name": "stdout",
     "output_type": "stream",
     "text": [
      "[1]\n"
     ]
    },
    {
     "ename": "AttributeError",
     "evalue": "'list' object has no attribute 'add'",
     "output_type": "error",
     "traceback": [
      "\u001b[1;31m---------------------------------------------------------------------------\u001b[0m",
      "\u001b[1;31mAttributeError\u001b[0m                            Traceback (most recent call last)",
      "\u001b[1;32m<ipython-input-23-b8beed277eee>\u001b[0m in \u001b[0;36m<module>\u001b[1;34m()\u001b[0m\n\u001b[0;32m     12\u001b[0m \u001b[1;33m\u001b[0m\u001b[0m\n\u001b[0;32m     13\u001b[0m \u001b[0mL2\u001b[0m \u001b[1;33m=\u001b[0m \u001b[0mlist\u001b[0m\u001b[1;33m(\u001b[0m\u001b[1;33m)\u001b[0m\u001b[1;33m\u001b[0m\u001b[0m\n\u001b[1;32m---> 14\u001b[1;33m \u001b[0mL2\u001b[0m\u001b[1;33m.\u001b[0m\u001b[0madd\u001b[0m\u001b[1;33m(\u001b[0m\u001b[1;36m1\u001b[0m\u001b[1;33m)\u001b[0m\u001b[1;33m\u001b[0m\u001b[0m\n\u001b[0m",
      "\u001b[1;31mAttributeError\u001b[0m: 'list' object has no attribute 'add'"
     ]
    }
   ],
   "source": [
    "class ListMetaClass(type):\n",
    "    def __new__(cls,name,bases,attrs):\n",
    "        attrs['add'] = lambda self,value:self.append(value)\n",
    "        return type.__new__(cls,name,bases,attrs)\n",
    "\n",
    "class MyList(list,metaclass=ListMetaClass):\n",
    "    pass\n",
    "\n",
    "L = MyList()\n",
    "L.add(1)\n",
    "print(L)\n",
    "\n",
    "L2 = list()\n",
    "L2.add(1)"
   ]
  },
  {
   "cell_type": "markdown",
   "metadata": {},
   "source": [
    "动态修改有什么意义？直接在MyList定义中写上add()方法不是更简单吗？正常情况下，确实应该直接写，通过metaclass修改纯属变态。但是，总会遇到需要通过metaclass修改类定义的。ORM就是一个典型的例子。\n",
    "\n",
    "## 挑战二：网络代理的爬取\n"
   ]
  },
  {
   "cell_type": "code",
   "execution_count": 29,
   "metadata": {},
   "outputs": [
    {
     "name": "stdout",
     "output_type": "stream",
     "text": [
      "Getting result https://www.baidu.com/ 200\n",
      "<!DOCTYPE html>\n",
      "<!--STATUS OK-->\n",
      "\r\n",
      "\r\n",
      "\r\n",
      "\r\n",
      "\r\n",
      "\r\n",
      "\r\n",
      "\r\n",
      "\r\n",
      "\r\n",
      "\r\n",
      "\r\n",
      "\r\n",
      "\r\n",
      "\r\n",
      "\r\n",
      "\r\n",
      "\r\n",
      "\r\n",
      "\r\n",
      "\r\n",
      "\r\n",
      "\r\n",
      "\r\n",
      "\r\n",
      "\r\n",
      "\r\n",
      "\r\n",
      "\r\n",
      "\r\n",
      "\r\n",
      "\r\n",
      "\r\n",
      "\r\n",
      "\r\n",
      "\r\n",
      "\r\n",
      "\r\n",
      "\r\n",
      "\r\n",
      "\r\n",
      "\r\n",
      "\r\n",
      "\r\n",
      "\r\n",
      "\r\n",
      "\r\n",
      "\r\n",
      "\r\n",
      "\r\n",
      "\r\n",
      "\r\n",
      "\r\n",
      "\r\n",
      "\r\n",
      "\r\n",
      "\t\r\n",
      "\r\n",
      "\r\n",
      "\r\n",
      "\r\n",
      "\r\n",
      "\r\n",
      "\r\n",
      "\r\n",
      "\r\n",
      "\r\n",
      "\r\n",
      "\r\n",
      "\r\n",
      "\r\n",
      "\r\n",
      "\r\n",
      "\r\n",
      "\r\n",
      "\r\n",
      "\r\n",
      "\r\n",
      "\r\n",
      "\r\n",
      "\r\n",
      "\r\n",
      "\r\n",
      "\r\n",
      "\r\n",
      "\r\n",
      "\r\n",
      "\r\n",
      "\r\n",
      "\t\r\n",
      "        \r\n",
      "\t\t\t        \r\n",
      "\t\r\n",
      "\t\t\t        \r\n",
      "\t\r\n",
      "\t\t\t        \r\n",
      "\t\r\n",
      "\t\t\t        \r\n",
      "\t\t\t    \r\n",
      "\r\n",
      "\t\r\n",
      "        \r\n",
      "\t\t\t        \r\n",
      "\t\r\n",
      "\t\t\t        \r\n",
      "\t\r\n",
      "\t\t\t        \r\n",
      "\t\r\n",
      "\t\t\t        \r\n",
      "\t\t\t    \r\n",
      "\r\n",
      "\r\n",
      "\n",
      "\n",
      "\n",
      "\n",
      "\n",
      "\n",
      "\n",
      "\n",
      "\n",
      "\n",
      "\n",
      "\n",
      "\n",
      "\n",
      "\n",
      "\n",
      "\n",
      "\n",
      "\n",
      "\n",
      "\n",
      "\n",
      "<html>\n",
      "<head>\n",
      "    \n",
      "    <meta http-equiv=\"content-type\" content=\"text/html;charset=utf-8\">\n",
      "    <meta http-equiv=\"X-UA-Compatible\" content=\"IE=Edge\">\n",
      "\t<meta content=\"always\" name=\"referrer\">\n",
      "    <meta name=\"theme-color\" content=\"#2932e1\">\n",
      "    <link rel=\"shortcut icon\" href=\"/favicon.ico\" type=\"image/x-icon\" />\n",
      "    <link rel=\"search\" type=\"application/opensearchdescription+xml\" href=\"/content-search.xml\" title=\"ç¾åº¦æç´¢\" />\n",
      "    <link rel=\"icon\" sizes=\"any\" mask href=\"//www.baidu.com/img/baidu_85beaf5496f291521eb75ba38eacbd87.svg\">\n",
      "\t\n",
      "\t\n",
      "\t<link rel=\"dns-prefetch\" href=\"//s1.bdstatic.com\"/>\n",
      "\t<link rel=\"dns-prefetch\" href=\"//t1.baidu.com\"/>\n",
      "\t<link rel=\"dns-prefetch\" href=\"//t2.baidu.com\"/>\n",
      "\t<link rel=\"dns-prefetch\" href=\"//t3.baidu.com\"/>\n",
      "\t<link rel=\"dns-prefetch\" href=\"//t10.baidu.com\"/>\n",
      "\t<link rel=\"dns-prefetch\" href=\"//t11.baidu.com\"/>\n",
      "\t<link rel=\"dns-prefetch\" href=\"//t12.baidu.com\"/>\n",
      "\t<link rel=\"dns-prefetch\" href=\"//b1.bdstatic.com\"/>\n",
      "    \n",
      "    <title>ç¾åº¦ä¸ä¸ï¼ä½ å°±ç¥é</title>\n",
      "    \n",
      "\n",
      "<style id=\"css_index\" index=\"index\" type=\"text/css\">html,body{height:100%}\n",
      "html{overflow-y:auto}\n",
      "body{font:12px arial;text-align:;background:#fff}\n",
      "body,p,form,ul,li{margin:0;padding:0;list-style:none}\n",
      "body,form,#fm{position:relative}\n",
      "td{text-align:left}\n",
      "img{border:0}\n",
      "a{color:#00c}\n",
      "a:active{color:#f60}\n",
      "input{border:0;padding:0}\n",
      "#wrapper{position:relative;_position:;min-height:100%}\n",
      "#head{padding-bottom:100px;text-align:center;*z-index:1}\n",
      "#ftCon{height:50px;position:absolute;bottom:47px;text-align:left;width:100%;margin:0 auto;z-index:0;overflow:hidden}\n",
      ".ftCon-Wrapper{overflow:hidden;margin:0 auto;text-align:center;*width:640px}\n",
      ".qrcodeCon{text-align:center;position:absolute;bottom:140px;height:60px;width:100%}\n",
      "#qrcode{display:inline-block;*float:left;*margin-top:4px}\n",
      "#qrcode .qrcode-item{float:left}\n",
      "#qrcode .qrcode-item-2{margin-left:33px}\n",
      "#qrcode .qrcode-img{width:60px;height:60px}\n",
      "#qrcode .qrcode-item-1 .qrcode-img{background:url(https://ss1.bdstatic.com/5eN1bjq8AAUYm2zgoY3K/r/www/cache/static/protocol/https/home/img/qrcode/zbios_efde696.png) 0 0 no-repeat}\n",
      "#qrcode .qrcode-item-2 .qrcode-img{background:url(https://ss1.bdstatic.com/5eN1bjq8AAUYm2zgoY3K/r/www/cache/static/protocol/https/home/img/qrcode/nuomi_365eabd.png) 0 0 no-repeat}\n",
      "@media only screen and (-webkit-min-device-pixel-ratio:2){#qrcode .qrcode-item-1 .qrcode-img{background-image:url(https://ss1.bdstatic.com/5eN1bjq8AAUYm2zgoY3K/r/www/cache/static/protocol/https/home/img/qrcode/zbios_x2_9d645d9.png);background-size:60px 60px}\n",
      "#qrcode .qrcode-item-2 .qrcode-img{background-image:url(https://ss1.bdstatic.com/5eN1bjq8AAUYm2zgoY3K/r/www/cache/static/protocol/https/home/img/qrcode/nuomi_x2_55dc5b7.png);background-size:60px 60px}}\n",
      "#qrcode .qrcode-text{color:#999;line-height:23px;margin:3px 0 0}\n",
      "#qrcode .qrcode-text a{color:#999;text-decoration:none}\n",
      "#qrcode .qrcode-text p{text-align:center}\n",
      "#qrcode .qrcode-text b{color:#666;font-weight:700}\n",
      "#qrcode .qrcode-text span{letter-spacing:1px}\n",
      "#ftConw{display:inline-block;text-align:left;margin-left:33px;line-height:22px;position:relative;top:-2px;*float:right;*margin-left:0;*position:static}\n",
      "#ftConw,#ftConw a{color:#999}\n",
      "#ftConw{text-align:center;margin-left:0}\n",
      ".bg{background-image:url(https://ss1.bdstatic.com/5eN1bjq8AAUYm2zgoY3K/r/www/cache/static/protocol/https/global/img/icons_5859e57.png);background-repeat:no-repeat;_background-image:url(https://ss1.bdstatic.com/5eN1bjq8AAUYm2zgoY3K/r/www/cache/static/protocol/https/global/img/icons_d5b04cc.gif)}\n",
      ".c-icon{display:inline-block;width:14px;height:14px;vertical-align:text-bottom;font-style:normal;overflow:hidden;background:url(https://ss1.bdstatic.com/5eN1bjq8AAUYm2zgoY3K/r/www/cache/static/protocol/https/global/img/icons_5859e57.png) no-repeat 0 0;_background-image:url(https://ss1.bdstatic.com/5eN1bjq8AAUYm2zgoY3K/r/www/cache/static/protocol/https/global/img/icons_d5b04cc.gif)}\n",
      ".c-icon-triangle-down-blue{background-position:-480px -168px}\n",
      ".c-icon-chevron-unfold2{background-position:-504px -168px}\n",
      "#m{width:720px;margin:0 auto}\n",
      "#nv a,#nv b,.btn,#lk{font-size:14px}\n",
      "#nv{height:19px;font-size:16px;margin:0 0 4px;text-align:left;text-indent:137px}\n",
      ".s_btn{width:95px;height:32px;padding-top:2px\\9;font-size:14px;background-color:#ddd;background-position:0 -48px;cursor:pointer}\n",
      ".s_btn_h{background-position:-240px -48px}\n",
      ".s_btn_wr{width:97px;height:34px;display:inline-block;background-position:-120px -48px;*position:relative;z-index:0;vertical-align:top}\n",
      "#jgwab{margin-left:19px}\n",
      "#cp .c-icon-icrlogo,.c-icon-jgwablogo{width:14px;height:17px;display:inline-block;overflow:hidden;background:url(https://ss1.bdstatic.com/5eN1bjq8AAUYm2zgoY3K/r/www/cache/static/protocol/https/global/img/icons_5859e57.png) no-repeat;_background-image:url(https://ss1.bdstatic.com/5eN1bjq8AAUYm2zgoY3K/r/www/cache/static/protocol/https/global/img/icons_d5b04cc.gif)}\n",
      "#cp .c-icon-icrlogo{background-position:-600px -96px;position:relative;top:3px}\n",
      ".c-icon-jgwablogo{background-position:-623px -96px;position:relative;top:3px}\n",
      "#shouji{margin-right:14px}\n",
      "#u{display:none}\n",
      "#c-tips-container{display:none}\n",
      "#wrapper{min-width:810px;height:100%;min-height:600px}\n",
      "#head{position:relative;padding-bottom:0;height:100%;min-height:600px}\n",
      "#head .head_wrapper{height:100%}\n",
      "#m{position:relative}\n",
      "#fm{padding-left:40px;top:-37px}\n",
      "#lh a{margin-left:62px}\n",
      "#lh #seth,#lh #setf{margin-left:0}\n",
      "#lk{position:absolute;display:none;top:0;right:0;margin:33px 0}\n",
      "#lk span{font:14px \"å®ä½\"}\n",
      "#nv{position:absolute;display:none;top:0;right:0}\n",
      "#lm{color:#666;width:100%;height:60px;margin-top:60px;line-height:15px;font-size:13px;position:absolute;top:0;left:0}\n",
      "#lm a{color:#666}\n",
      "#pad-version{line-height:40px}\n",
      ".s_ipt_wr.bg,.s_btn_wr.bg,#su.bg{background-image:none}\n",
      ".s_btn_wr{width:auto;height:auto;border-bottom:1px solid transparent;*border-bottom:0}\n",
      ".s_btn{width:100px;height:36px;color:#fff;font-size:15px;letter-spacing:1px;background:#3385ff;border-bottom:1px solid #2d78f4;outline:medium;*border-bottom:0;-webkit-appearance:none;-webkit-border-radius:0}\n",
      ".s_btn.btnhover{background:#317ef3;border-bottom:1px solid #2868c8;*border-bottom:0;box-shadow:1px 1px 1px #ccc}\n",
      ".s_btn_h{background:#3075dc;box-shadow:inset 1px 1px 5px #2964bb;-webkit-box-shadow:inset 1px 1px 5px #2964bb;-moz-box-shadow:inset 1px 1px 5px #2964bb;-o-box-shadow:inset 1px 1px 5px #2964bb}\n",
      "#result_logo{display:none}\n",
      "#index_logo img{display:inline-block;width:270px;height:129px}\n",
      "#s_tab{display:none}\n",
      ".s_form{position:relative;top:38.2%}\n",
      ".s_form_wrapper{position:relative;top:-191px}\n",
      ".s_ipt_wr{height:34px}\n",
      "#head .c-icon-bear-round{display:none}\n",
      "#form{margin:22px auto 0;width:641px;text-align:left;z-index:100}\n",
      "#form .bdsug,#fm .bdsug{top:35px}\n",
      ".bdsug{display:none;position:absolute;width:538px;background:#fff;border:1px solid #ccc;_overflow:hidden;box-shadow:1px 1px 3px #ededed;-webkit-box-shadow:1px 1px 3px #ededed;-moz-box-shadow:1px 1px 3px #ededed;-o-box-shadow:1px 1px 3px #ededed}\n",
      ".bdsug.bdsugbg ul{background:url(https://ss1.bdstatic.com/5eN1bjq8AAUYm2zgoY3K/r/www/cache/static/protocol/https/home/img/sugbg_1762fe7.png) 100% 100% no-repeat;background-size:100px 110px;background-image:url(https://ss1.bdstatic.com/5eN1bjq8AAUYm2zgoY3K/r/www/cache/static/protocol/https/home/img/sugbg_90fc9cf.gif)\\9}\n",
      ".bdsug li{width:522px;color:#000;font:14px arial;line-height:25px;padding:0 8px;position:relative;cursor:default}\n",
      ".bdsug li.bdsug-s{background:#f0f0f0}\n",
      ".bdsug-store span,.bdsug-store b{color:#7A77C8}\n",
      ".bdsug-store-del{font-size:12px;color:#666;text-decoration:underline;position:absolute;right:8px;top:0;cursor:pointer;display:none}\n",
      ".bdsug-s .bdsug-store-del{display:inline-block}\n",
      ".bdsug-ala{display:inline-block;border-bottom:1px solid #e6e6e6}\n",
      ".bdsug-ala h3{line-height:14px;background:url(//www.baidu.com/img/sug_bd.png) no-repeat left center;margin:8px 0 5px;font-size:12px;font-weight:400;color:#7B7B7B;padding-left:20px}\n",
      ".bdsug-ala p{font-size:14px;font-weight:700;padding-left:20px}\n",
      ".bdsug .bdsug-direct{width:auto;padding:0;border-bottom:1px solid #f1f1f1}\n",
      ".bdsug .bdsug-direct p{color:#00c;font-weight:700;line-height:34px;padding:0 8px;cursor:pointer;white-space:nowrap;overflow:hidden}\n",
      ".bdsug .bdsug-direct p img{width:16px;height:16px;margin:7px 6px 9px 0;vertical-align:middle}\n",
      ".bdsug .bdsug-direct p span{margin-left:8px}\n",
      ".bdsug .bdsug-direct p i{font-size:12px;line-height:100%;font-style:normal;font-weight:400;color:#fff;background-color:#2b99ff;display:inline;text-align:center;padding:1px 5px;*padding:2px 5px 0;margin-left:8px;overflow:hidden}\n",
      ".bdsug .bdsug-pcDirect{color:#000;font-size:14px;line-height:30px;height:30px;background-color:#f8f8f8}\n",
      ".bdsug .bdsug-pc-direct-tip{position:absolute;right:15px;top:8px;width:55px;height:15px;display:block;background:url(https://ss1.bdstatic.com/5eN1bjq8AAUYm2zgoY3K/r/www/cache/static/protocol/https/global/img/pc_direct_42d6311.png) no-repeat 0 0}\n",
      ".bdsug li.bdsug-pcDirect-s{background-color:#f0f0f0}\n",
      ".bdsug .bdsug-pcDirect-is{color:#000;font-size:14px;line-height:22px;background-color:#f8f8f8}\n",
      ".bdsug .bdsug-pc-direct-tip-is{position:absolute;right:15px;top:3px;width:55px;height:15px;display:block;background:url(https://ss1.bdstatic.com/5eN1bjq8AAUYm2zgoY3K/r/www/cache/static/protocol/https/global/img/pc_direct_42d6311.png) no-repeat 0 0}\n",
      ".bdsug li.bdsug-pcDirect-is-s{background-color:#f0f0f0}\n",
      ".bdsug .bdsug-pcDirect-s .bdsug-pc-direct-tip,.bdsug .bdsug-pcDirect-is-s .bdsug-pc-direct-tip-is{background-position:0 -15px}\n",
      ".bdsug .bdsug-newicon{color:#929292;opacity:.7;font-size:12px;display:inline-block;line-height:22px;letter-spacing:2px}\n",
      ".bdsug .bdsug-s .bdsug-newicon{opacity:1}\n",
      ".bdsug .bdsug-newicon i{letter-spacing:0;font-style:normal}\n",
      ".bdsug .bdsug-feedback-wrap{text-align:right;background:#fafafa;color:#666;height:25px;line-height:25px;display:none}\n",
      ".bdsug .bdsug-feedback{margin-right:10px;text-decoration:underline;color:#666}\n",
      ".toggle-underline{text-decoration:none}\n",
      ".toggle-underline:hover{text-decoration:underline}\n",
      ".tools{position:absolute;right:-75px}\n",
      "#mHolder{width:62px;position:relative;z-index:296;display:none}\n",
      "#mCon{height:18px;line-height:18px;position:absolute;cursor:pointer}\n",
      "#mCon span{color:#00c;display:block;width:24px}\n",
      "#mCon .hw{text-decoration:underline;cursor:pointer;display:inline-block}\n",
      "#mCon .pinyin{display:inline-block}\n",
      "#mCon .c-icon-chevron-unfold2{margin-left:5px}\n",
      "#mMenu a{width:100%;height:100%;display:block;line-height:22px;text-indent:6px;text-decoration:none;filter:none\\9}\n",
      "#mMenu,#user ul{box-shadow:1px 1px 2px #ccc;-moz-box-shadow:1px 1px 2px #ccc;-webkit-box-shadow:1px 1px 2px #ccc;filter:progid:DXImageTransform.Microsoft.Shadow(Strength=2, Direction=135, Color=#cccccc)\\9}\n",
      "#mMenu{width:56px;border:1px solid #9b9b9b;list-style:none;position:absolute;right:27px;top:28px;display:none;background:#fff}\n",
      "#mMenu a:hover{background:#ebebeb}\n",
      "#mMenu .ln{height:1px;background:#ebebeb;overflow:hidden;font-size:1px;line-height:1px;margin-top:-1px}\n",
      "#u1 a:link,#u1 a:visited{color:#666;text-decoration:none}\n",
      "#u1 a:hover,#u1 a:active{text-decoration:underline}\n",
      "#u1 a:active{color:#00c}\n",
      "#u1{z-index:2;color:#fff;position:absolute;right:0;top:0;margin:19px 0 5px;padding:0 96px 0 0}\n",
      "#u1 .reg{display:none}\n",
      "#u1 a.pf,#u1 a.pf:visited{display:inline-block;float:left;color:#333;line-height:24px;font-size:13px;margin-left:20px;overflow:hidden;text-decoration:underline}\n",
      "#u1 a.lb,#u1 a.lb:visited,#u1 a.username{display:inline-block;float:left;color:#333;font-size:13px;line-height:24px;margin-left:20px;text-decoration:underline}\n",
      "#u1 a.bri,#u1 a.bri:visited{display:inline-block;position:absolute;right:10px;width:60px;height:23px;float:left;color:#fff;background:#38f;line-height:24px;font-size:13px;text-align:center;overflow:hidden;border-bottom:1px solid #38f;margin-left:19px;margin-right:2px}\n",
      "#u1 a.bri.brihover{display:none;text-decoration:none;color:#333;background:0 0;border-bottom:1px solid transparent;margin-left:19px}\n",
      "#u1 #lm a{color:#00c;text-decoration:underline}\n",
      "#u1 a.mnav,#u1 a.mnav:visited{float:left;color:#333;font-weight:700;line-height:24px;margin-left:20px;font-size:13px;text-decoration:underline}\n",
      "#u1 a.pf:hover,#u1 a.lb:hover,#u1 a.mnav:hover{color:#00c}\n",
      ".briiconsbg{background-repeat:no-repeat;background-size:300px 18px;background-image:url(https://ss1.bdstatic.com/5eN1bjq8AAUYm2zgoY3K/r/www/cache/static/protocol/https/home/img/icons_0c37e9b.png);background-image:url(https://ss1.bdstatic.com/5eN1bjq8AAUYm2zgoY3K/r/www/cache/static/protocol/https/home/img/icons_809ae65.gif)\\9}\n",
      ".bdpfmenu{background-color:#fff;border:1px solid #d1d1d1;position:absolute;right:160px;width:68px;top:36px;margin-top:-1px;_margin-top:-3px;z-index:2;box-shadow:1px 1px 5px #d1d1d1;-webkit-box-shadow:1px 1px 5px #d1d1d1;-moz-box-shadow:1px 1px 5px #d1d1d1;-o-box-shadow:1px 1px 5px #d1d1d1}\n",
      ".bdpfmenu a{display:block;text-align:left;margin:0!important;padding:0 9px;line-height:26px;text-decoration:none}\n",
      "#wrapper .bdpfmenu a:link,#wrapper .bdpfmenu a:visited{background:#fff;color:#333}\n",
      "#wrapper .bdpfmenu a:hover,#wrapper .bdpfmenu a:active{background:#38f;text-decoration:none;color:#fff}\n",
      "#wrapper .bdnuarrow{width:0;height:0;font-size:0;line-height:0;display:block;position:absolute;top:-10px;left:50%;margin-left:-5px}\n",
      "#wrapper .bdnuarrow em,#wrapper .bdnuarrow i{width:0;height:0;font-size:0;line-height:0;display:block;position:absolute;border:5px solid transparent;border-style:dashed dashed solid}\n",
      "#wrapper .bdnuarrow em{border-bottom-color:#d8d8d8;top:-1px}\n",
      "#wrapper .bdnuarrow i{border-bottom-color:#fff;top:0}\n",
      ".s-isindex-wrap #wrapper .bdnuarrow{height:13px;background:url(https://ss1.bdstatic.com/5eN1bjq8AAUYm2zgoY3K/r/www/cache/static/protocol/https/home/img/icons_0c37e9b.png) no-repeat -90px -1px}\n",
      "#wrapper .bdnuarrow.bdbriarrow{right:104px;display:none!important}\n",
      "#wrapper .bdbri{width:85px;min-height:100px;border-left:1px solid #e7e7e7;position:absolute;background-color:#f9f9f9;overflow:hidden;z-index:2;right:0;top:0}\n",
      "#prefpanel{background:#fafafa;display:none;opacity:0;position:fixed;_position:absolute;top:-359px;z-index:1000;width:100%;min-width:960px;border-bottom:1px solid #ebebeb}\n",
      "#prefpanel form{_width:850px}\n",
      "#wrapper .bdbriimgtitle{color:#333;text-align:center;width:66px;height:43px;line-height:43px;padding-top:9px;margin:0 auto;border-bottom:#f0f0f0 1px solid;font-size:13px;cursor:default}\n",
      "#wrapper .briscrollwrapper{overflow:hidden}\n",
      "#wrapper .briscrollwrapperContainer{position:relative}\n",
      "#wrapper .bdbri.bdbriimg .bdmainlink a,#wrapper .bdbri.bdbriimg .bdothlink a{display:block;text-align:center;width:66px;height:76px;margin:0 auto;border-bottom:#f0f0f0 1px solid;color:#666;text-decoration:none;overflow:hidden}\n",
      "#wrapper .bdbri.bdbriimg .bdmainlink a:visited,#wrapper .bdbri.bdbriimg .bdothlink a:visited{color:#666}\n",
      "#wrapper .bdbri.bdbriimg .bdmainlink a:hover,#wrapper .bdbri.bdbriimg .bdothlink a:hover{color:#666;text-decoration:underline}\n",
      "#wrapper .bdbri.bdbriimg .bdmainlink a:active,#wrapper .bdbri.bdbriimg .bdothlink a:active{color:#00c;text-decoration:underline}\n",
      "#wrapper .bdbri.bdbriimg span{width:36px;height:36px;display:block;margin:10px auto 5px;background:url(https://ss1.bdstatic.com/5eN1bjq8AAUYm2zgoY3K/r/www/cache/static/protocol/https/home/img/logos/bdbri_icons_194ae06.png) no-repeat;cursor:pointer}\n",
      "#wrapper .bdbri.bdbriimg .bdbrimore,#wrapper .bdbri.bdbriimg .bdbrievenmore{clear:both;text-align:center}\n",
      "#wrapper .bdbri.bdbriimg .bdbrievenmore{margin-top:15px;height:30px;width:85px;overflow:hidden}\n",
      "#wrapper .bdbri.bdbriimg span.bdbriimgitem_1{background:url(https://ss1.bdstatic.com/5eN1bjq8AAUYm2zgoY3K/r/www/cache/static/protocol/https/home/img/logos/nuomi_7f5cd35.png) no-repeat;background-size:cover}\n",
      "#wrapper .bdbri.bdbriimg span.bdbriimgitem_2{background:url(https://ss1.bdstatic.com/5eN1bjq8AAUYm2zgoY3K/r/www/cache/static/protocol/https/home/img/logos/zhidao_cbf2aff.png) no-repeat;background-size:cover}\n",
      "#wrapper .bdbri.bdbriimg span.bdbriimgitem_3{width:36px;background:url(https://ss1.bdstatic.com/5eN1bjq8AAUYm2zgoY3K/r/www/cache/static/protocol/https/home/img/logos/qqjt_9809ca8.png) no-repeat;background-size:cover}\n",
      "#wrapper .bdbri.bdbriimg span.bdbriimgitem_4{background:url(https://ss1.bdstatic.com/5eN1bjq8AAUYm2zgoY3K/r/www/cache/static/protocol/https/home/img/logos/image_55b5909.png) no-repeat;background-size:cover}\n",
      "#wrapper .bdbri.bdbriimg span.bdbriimgitem_5{background:url(https://ss1.bdstatic.com/5eN1bjq8AAUYm2zgoY3K/r/www/cache/static/protocol/https/home/img/logos/wenku_aaf198d.png) no-repeat;background-size:cover}\n",
      "#wrapper .bdbri.bdbriimg span.bdbriimgitem_6{background:url(https://ss1.bdstatic.com/5eN1bjq8AAUYm2zgoY3K/r/www/cache/static/protocol/https/home/img/logos/fengyunbang_1986a40.png) no-repeat;background-size:cover}\n",
      "#wrapper .bdbri.bdbriimg span.bdbriimgitem_7{background-position:-220px 0}\n",
      "#wrapper .bdbri.bdbriimg .bdbrievenmore a:link,#wrapper .bdbri.bdbriimg .bdbrievenmore a:visited{color:#666;text-decoration:underline}\n",
      "#wrapper .bdbri.bdbriimg .bdbrievenmore a:hover{color:#666;text-decoration:underline}\n",
      "#wrapper .bdbri.bdbriimg .bdbrievenmore a:active{color:#00c}\n",
      ".bdbriscroll-ctrl-scroll{position:absolute;top:10px;right:1px;width:8px;border-top:1px solid #e4e4e4;border-left:1px solid #e4e4e4;cursor:default;-webkit-user-select:none;-moz-user-select:none}\n",
      ".bdbriscroll-ctrl-scroll .bdbriscroll-axis{width:8px;left:0;z-index:0;position:absolute;background:#f2f2f2}\n",
      ".bdbriscroll-ctrl-scroll-touch .bdbriscroll-axis{width:7px;background:#f2f2f2}\n",
      ".bdbriscroll-ctrl-scroll-hover .bdbriscroll-axis{background:#f2f2f2}\n",
      ".bdbriscroll-ctrl-scroll .bdbriscroll-slider{overflow:hidden;width:7px;height:14px;position:absolute;left:0;z-index:10;display:none;background:#d9d9d9;margin-top:-1px;margin-left:-1px;border-right:1px solid #cecece;border-bottom:1px solid #cecece;cursor:default}\n",
      ".bdbriscroll-ctrl-scroll-touch .bdbriscroll-slider,.bdbriscroll-ctrl-scroll-hover .bdbriscroll-slider{background:#b8b8b8;border-right:1px solid #afafaf;border-bottom:1px solid #afafaf}\n",
      ".s_ipt::-webkit-input-placeholder{padding-left:3px;color:#aaa;font-size:13px}\n",
      ".s_ipt::-moz-placeholder{padding-left:3px;color:#aaa;font-size:13px}\n",
      ".s_ipt:-ms-input-placeholder{padding-left:3px;color:#aaa;font-size:13px}\n",
      ".s_ipt::placeholder{padding-left:3px;color:#aaa;font-size:13px}\n",
      ".kw-placeholder{position:absolute;top:0;left:0;color:#aaa;font-size:13px;height:35px;line-height:35px;padding-left:10px;max-width:360px;z-index:99;pointer-events:none}\n",
      ".kw-placeholder.placeholders-hidden{visibility:hidden}\n",
      ".qrcode-chunwan{width:530px;height:90px;position:absolute;left:50%;margin-left:-265px;z-index:1;bottom:115px;background-size:100%;background-repeat:no-repeat;background-position:center}\n",
      ".qrcode-chunwan .close-chunwan{width:23px;height:23px;position:absolute;top:0;right:0;display:none;_display:block;background-size:100%}\n",
      ".qrcode-chunwan:hover .close-chunwan{display:block}</style>\n",
      "\n",
      "<!--[if lte IE 8]>\n",
      "<style index=\"index\" data-compress=\"strip\">\n",
      ".s_form{top:260px}\n",
      "</style>\n",
      "<![endif]-->\n",
      "<!--[if IE 8]>\n",
      "<style index=\"index\" data-compress=\"strip\">\n",
      "#u1 a.mnav,#u1 a.mnav:visited,#u1 a.lb,#u1 a.lb:visited,#u1 a.pf,#u1 a.pf:visited,#u1 a.bri,#u1 a.bri:visited{font-family:simsun;}\n",
      "</style>\n",
      "<![endif]-->\n",
      "<style data-for=\"debug\">\n",
      "#debug{display:none!important;}\n",
      "</style>\n",
      "<style data-for=\"result\" id=\"css_index_result\" type=\"text/css\">#seth{display:inline;behavior:url(#default#homepage)}\n",
      "#setf{display:inline}\n",
      "#sekj{margin-left:14px}\n",
      "#st,#sekj{display:none}\n",
      ".s_ipt_wr{border:1px solid #b6b6b6;border-color:#7b7b7b #b6b6b6 #b6b6b6 #7b7b7b;background:#fff;display:inline-block;vertical-align:top;width:539px;margin-right:0;border-right-width:0;border-color:#b8b8b8 transparent #ccc #b8b8b8;overflow:hidden}\n",
      ".wrapper_s .s_ipt_wr{width:439px}\n",
      ".wrapper_s .s_ipt{width:434px}\n",
      ".wrapper_s .s_ipt_tip{width:434px}\n",
      ".s_ipt_wr:hover,.s_ipt_wr.ipthover{border-color:#999 transparent #b3b3b3 #999}\n",
      ".s_ipt_wr.iptfocus{border-color:#4791ff transparent #4791ff #4791ff}\n",
      ".s_ipt_tip{color:#aaa;position:absolute;z-index:-10;font:16px/22px arial;height:32px;line-height:32px;padding-left:7px;overflow:hidden;width:526px}\n",
      ".s_ipt{width:526px;height:22px;font:16px/18px arial;line-height:22px;margin:6px 0 0 7px;padding:0;background:transparent;border:0;outline:0;-webkit-appearance:none}\n",
      "#kw{position:relative}\n",
      "#u .username i{background-position:-408px -144px}\n",
      ".bdpfmenu,.usermenu{border:1px solid #d1d1d1;position:absolute;width:105px;top:36px;z-index:302;box-shadow:1px 1px 5px #d1d1d1;-webkit-box-shadow:1px 1px 5px #d1d1d1;-moz-box-shadow:1px 1px 5px #d1d1d1;-o-box-shadow:1px 1px 5px #d1d1d1}\n",
      ".bdpfmenu{font-size:12px;background-color:#fff}\n",
      ".bdpfmenu a,.usermenu a{display:block;text-align:left;margin:0!important;padding:0 9px;line-height:26px;text-decoration:none}\n",
      ".briiconsbg{background-repeat:no-repeat;background-size:300px 18px;background-image:url(https://ss1.bdstatic.com/5eN1bjq8AAUYm2zgoY3K/r/www/cache/static/protocol/https/home/img/icons_0c37e9b.png);background-image:url(https://ss1.bdstatic.com/5eN1bjq8AAUYm2zgoY3K/r/www/cache/static/protocol/https/home/img/icons_809ae65.gif)\\9}\n",
      "#u{z-index:301;position:absolute;right:0;top:0;margin:21px 9px 5px 0;padding:0}\n",
      ".wrapper_s #u{margin-right:3px}\n",
      "#u a{text-decoration:underline;color:#333;margin:0 7px}\n",
      ".wrapper_s #u a{margin-right:0 6px}\n",
      "#u div a{text-decoration:none}\n",
      "#u a:hover{text-decoration:underline}\n",
      "#u .back_org{color:#666;float:left;display:inline-block;height:24px;line-height:24px}\n",
      "#u .bri{display:inline-block;width:24px;height:24px;float:left;line-height:24px;color:transparent;background:url(https://ss1.bdstatic.com/5eN1bjq8AAUYm2zgoY3K/r/www/cache/static/protocol/https/home/img/icons_0c37e9b.png) no-repeat 4px 3px;background-size:300px 18px;background-image:url(https://ss1.bdstatic.com/5eN1bjq8AAUYm2zgoY3K/r/www/cache/static/protocol/https/home/img/icons_809ae65.gif)\\9;overflow:hidden}\n",
      "#u .bri:hover,#u .bri.brihover{background-position:-18px 3px}\n",
      "#mCon #imeSIcon{background-position:-408px -144px;margin-left:0}\n",
      "#mCon span{color:#333}\n",
      ".bdpfmenu a:link,.bdpfmenu a:visited,#u .usermenu a:link,#u .usermenu a:visited{background:#fff;color:#333}\n",
      ".bdpfmenu a:hover,.bdpfmenu a:active,#u .usermenu a:hover,#u .usermenu a:active{background:#38f;text-decoration:none;color:#fff}\n",
      ".bdpfmenu{width:70px}\n",
      ".usermenu{width:68px;right:8px}\n",
      "#wrapper .bdnuarrow{width:0;height:0;font-size:0;line-height:0;display:block;position:absolute;top:-10px;left:50%;margin-left:-5px}\n",
      "#wrapper .bdnuarrow em,#wrapper .bdnuarrow i{width:0;height:0;font-size:0;line-height:0;display:block;position:absolute;border:5px solid transparent;border-style:dashed dashed solid}\n",
      "#wrapper .bdnuarrow em{border-bottom-color:#d8d8d8;top:-1px}\n",
      "#wrapper .bdnuarrow i{border-bottom-color:#fff;top:0}\n",
      "#prefpanel{background:#fafafa;display:none;opacity:0;position:fixed;_position:absolute;top:-359px;z-index:500;width:100%;min-width:960px;border-bottom:1px solid #ebebeb}\n",
      "#prefpanel form{_width:850px}\n",
      "#kw_tip{cursor:default;display:none;margin-top:1px}\n",
      "#bds-message-wrapper{top:43px}\n",
      ".quickdelete-wrap{position:relative}\n",
      ".quickdelete-wrap input{width:500px}\n",
      ".wrapper_l .quickdelete-wrap input{width:500px}\n",
      ".wrapper_s .quickdelete-wrap input{width:402px}\n",
      "input::-ms-clear{display:none}\n",
      ".quickdelete{width:32px;height:32px;background:url(https://ss1.bdstatic.com/5eN1bjq8AAUYm2zgoY3K/r/www/cache/static/protocol/https/global/img/quickdelete_33e3eb8.png) no-repeat;background-position:10px 10px;position:absolute;display:block}\n",
      ".quickdelete:hover{background-position:10px -24px}\n",
      "#lh a{margin-left:25px}\n",
      ".bdbriwrapper-tuiguang{display:none!important}</style>\n",
      "<!--[if IE 8]>\n",
      "<style index=\"index\" data-compress=\"strip\">\n",
      ".s_ipt{background-color:#FFF;}\n",
      "</style>\n",
      "<![endif]-->\n",
      "\n",
      "    \n",
      "<script data-compress=\"strip\">\r\n",
      "function h(obj){\r\n",
      "    obj.style.behavior='url(#default#homepage)';\r\n",
      "\tvar a = obj.setHomePage('//www.baidu.com/');\r\n",
      "}\r\n",
      "</script>\n",
      "\n",
      "<noscript>\n",
      "    <meta http-equiv=\"refresh\" content=\"0; url=/baidu.html?from=noscript\"/>\n",
      "</noscript>\n",
      "\n",
      "    <script>window._ASYNC_START=new Date().getTime();</script>\n",
      "</head>\n",
      "\n",
      "<body link=\"#0000cc\">\n",
      "\t<script>\n",
      "\tif (/Chrome\\/37.0.2062.94/i.test(navigator.userAgent) && (/(windows 7)|(windows nt 6.1)/i.test(navigator.userAgent))) {\n",
      "\t\tvar _chrome_37_fix = document.createElement(\"style\");\n",
      "\t\t_chrome_37_fix.type=\"text/css\";\n",
      "\t\t_chrome_37_fix.setAttribute(\"data-for\",\"result\");\n",
      "\t\t_chrome_37_fix.innerHTML = \".t,.f16,#kw,.s_ipt,.c-title,.c-title-size,.to_zhidao,.to_tieba,.to_zhidao_bottom{font-size:15px;} .ec-hospital-info-main h2,.ad-widget-gx_sck-ylzx-doctor-info h2,.ec-card-main h2,.ad-widget-h1 h2,.ad-widget-title h2,.ad-widget-small-head h2,.ad-widget-small-head h2 a,.ad-widget-header .ec-figcaption h2{font-size: 15px !important;}\";\n",
      "\t\tdocument.getElementsByTagName(\"head\")[0].appendChild(_chrome_37_fix);\n",
      "\t}\n",
      "\t</script>\n",
      "    <div id=\"wrapper\" style=\"display:none;\">\n",
      "        \n",
      "\n",
      "\n",
      "        \n",
      "\n",
      "\n",
      "<script>if(window.bds&&bds.util&&bds.util.setContainerWidth){bds.util.setContainerWidth();}</script><div id=\"head\"><div class=\"head_wrapper\"><div class=\"s_form\"><div class=\"s_form_wrapper\"><style>.index-logo-srcnew {display: none;}@media (-webkit-min-device-pixel-ratio: 2),(min--moz-device-pixel-ratio: 2),(-o-min-device-pixel-ratio: 2),(min-device-pixel-ratio: 2){.index-logo-src {display: none;}.index-logo-srcnew {display: inline;}}</style><div id=\"lg\"><img hidefocus=\"true\" class='index-logo-src' src=\"//www.baidu.com/img/bd_logo1.png\" width=\"270\" height=\"129\" usemap=\"#mp\"><img hidefocus=\"true\" class='index-logo-srcnew' src=\"//www.baidu.com/img/bd_logo1.png?qua=high\" width=\"270\" height=\"129\" usemap=\"#mp\"><map name=\"mp\"><area style=\"outline:none;\" hidefocus=\"true\" shape=\"rect\" coords=\"0,0,270,129\" href=\"//www.baidu.com/s?wd=%E4%BB%8A%E6%97%A5%E6%96%B0%E9%B2%9C%E4%BA%8B&tn=SE_PclogoS_8whnvm25&sa=ire_dl_gh_logo&rsv_dl=igh_logo_pcs\" onmousedown=\"return ns_c({fm: 'tab', tab: 'felogo', rsv_platform: 'wwwhome' })\" target=\"_blank\" title=\"ç¹å»ä¸ä¸ï¼äºè§£æ´å¤\"onmousedown=\"return ns_c({'fm':'behs','tab':'bdlogo'})\"></map></div><a href=\"/\" id=\"result_logo\" onmousedown=\"return c({'fm':'tab','tab':'logo'})\"><img class='index-logo-src' src=\"//www.baidu.com/img/baidu_jgylogo3.gif\" alt=\"å°ç¾åº¦é¦é¡µ\" title=\"å°ç¾åº¦é¦é¡µ\"><img class='index-logo-srcnew' src=\"//www.baidu.com/img/baidu_resultlogo@2.png\" alt=\"å°ç¾åº¦é¦é¡µ\" title=\"å°ç¾åº¦é¦é¡µ\"></a><form id=\"form\" name=\"f\" action=\"/s\" class=\"fm\"><input type=\"hidden\" name=\"ie\" value=\"utf-8\"><input type=\"hidden\" name=\"f\" value=\"8\"><input type=\"hidden\" name=\"rsv_bp\" value=\"1\"><input type=\"hidden\" name=\"rsv_idx\" value=\"1\"><input type=hidden name=ch value=\"\"><input type=hidden name=tn value=\"baidu\"><input type=hidden name=bar value=\"\"><span class=\"bg s_ipt_wr\"><input id=\"kw\" name=\"wd\" class=\"s_ipt\" value=\"\" maxlength=\"255\" autocomplete=\"off\"></span><span class=\"bg s_btn_wr\"><input type=\"submit\" id=\"su\" value=\"ç¾åº¦ä¸ä¸\" class=\"bg s_btn\"></span><span class=\"tools\"><span id=\"mHolder\"><div id=\"mCon\"><span>è¾å",
      "¥æ³</span></div><ul id=\"mMenu\"><li><a href=\"javascript:;\" name=\"ime_hw\">æå</a></li><li><a href=\"javascript:;\" name=\"ime_py\">æ¼é³</a></li><li class=\"ln\"></li><li><a href=\"javascript:;\" name=\"ime_cl\">å",
      "³é­</a></li></ul></span></span><input type=\"hidden\" name=\"rn\" value=\"\"><input type=\"hidden\" name=\"oq\" value=\"\"><input type=\"hidden\" name=\"rsv_pq\" value=\"ce56827300032808\"><input type=\"hidden\" name=\"rsv_t\" value=\"8d77ztWjrlRl5RM93y64ORAy1A9+QiixUTA59EqMervV1DuCrqWMaNLnVss\"><input type=\"hidden\" name=\"rqlang\" value=\"cn\"></form><div id=\"m\"></div></div></div><div id=\"u\"><a class=\"toindex\" href=\"/\">ç¾åº¦é¦é¡µ</a><a href=\"javascript:;\" name=\"tj_settingicon\" class=\"pf\">è®¾ç½®<i class=\"c-icon c-icon-triangle-down\"></i></a><a href=\"https://passport.baidu.com/v2/?login&tpl=mn&u=http%3A%2F%2Fwww.baidu.com%2F&sms=5\" name=\"tj_login\" class=\"lb\" onclick=\"return false;\">ç»å½</a></div><div id=\"u1\"><a href=\"http://news.baidu.com\" name=\"tj_trnews\" class=\"mnav\">æ°é»</a><a href=\"https://www.hao123.com\" name=\"tj_trhao123\" class=\"mnav\">hao123</a><a href=\"http://map.baidu.com\" name=\"tj_trmap\" class=\"mnav\">å°å¾</a><a href=\"http://v.baidu.com\" name=\"tj_trvideo\" class=\"mnav\">è§é¢</a><a href=\"http://tieba.baidu.com\" name=\"tj_trtieba\" class=\"mnav\">è´´å§</a><a href=\"http://xueshu.baidu.com\" name=\"tj_trxueshu\" class=\"mnav\">å­¦æ¯</a><a href=\"https://passport.baidu.com/v2/?login&tpl=mn&u=http%3A%2F%2Fwww.baidu.com%2F&sms=5\" name=\"tj_login\" class=\"lb\" onclick=\"return false;\">ç»å½</a><a href=\"http://www.baidu.com/gaoji/preferences.html\" name=\"tj_settingicon\" class=\"pf\">è®¾ç½®</a><a href=\"http://www.baidu.com/more/\" name=\"tj_briicon\" class=\"bri\" style=\"display: block;\">æ´å¤äº§å</a></div></div></div>\n",
      "\n",
      "\n",
      "\n",
      "<div class=\"s_tab\" id=\"s_tab\">\n",
      "<div class=\"s_tab_inner\">\n",
      "    <b>ç½é¡µ</b>\n",
      "    <a href=\"//www.baidu.com/s?rtt=1&bsst=1&cl=2&tn=news&word=\" wdfield=\"word\"  onmousedown=\"return c({'fm':'tab','tab':'news'})\" sync=\"true\">èµè®¯</a>\n",
      "    <a href=\"http://tieba.baidu.com/f?kw=&fr=wwwt\" wdfield=\"kw\"  onmousedown=\"return c({'fm':'tab','tab':'tieba'})\">è´´å§</a>\n",
      "    <a href=\"http://zhidao.baidu.com/q?ct=17&pn=0&tn=ikaslist&rn=10&word=&fr=wwwt\" wdfield=\"word\"  onmousedown=\"return c({'fm':'tab','tab':'zhidao'})\">ç¥é</a>\n",
      "    <a href=\"http://music.taihe.com/search?fr=ps&ie=utf-8&key=\" wdfield=\"key\"  onmousedown=\"return c({'fm':'tab','tab':'music'})\">é³ä¹</a>\n",
      "    <a href=\"http://image.baidu.com/search/index?tn=baiduimage&ps=1&ct=201326592&lm=-1&cl=2&nc=1&ie=utf-8&word=\" wdfield=\"word\"  onmousedown=\"return c({'fm':'tab','tab':'pic'})\">å¾ç</a>\n",
      "    <a href=\"http://v.baidu.com/v?ct=301989888&rn=20&pn=0&db=0&s=25&ie=utf-8&word=\" wdfield=\"word\"   onmousedown=\"return c({'fm':'tab','tab':'video'})\">è§é¢</a>\n",
      "    <a href=\"http://map.baidu.com/m?word=&fr=ps01000\" wdfield=\"word\"  onmousedown=\"return c({'fm':'tab','tab':'map'})\">å°å¾</a>\n",
      "    <a href=\"http://wenku.baidu.com/search?word=&lm=0&od=0&ie=utf-8\" wdfield=\"word\"  onmousedown=\"return c({'fm':'tab','tab':'wenku'})\">æåº</a>\n",
      "    <a href=\"//www.baidu.com/more/\"  onmousedown=\"return c({'fm':'tab','tab':'more'})\">æ´å¤Â»</a>\n",
      "</div>\n",
      "</div>\n",
      "\n",
      "        \n",
      "\r\n",
      "<div class=\"qrcodeCon\">\r\n",
      "\t<div id=\"qrcode\">\r\n",
      "\t\t<div class=\"qrcode-item qrcode-item-1\">\r\n",
      "\t\t\t<div class=\"qrcode-img\"></div>\r\n",
      "\t\t\t<div class=\"qrcode-text\">\r\n",
      "\t\t\t\t<p><b>ç¾åº¦</b></p>\r\n",
      "\t\t\t</div>\r\n",
      "\t\t</div>\r\n",
      "\t</div>\r\n",
      "</div>\n",
      "\r\n",
      "<div id=\"ftCon\">\r\n",
      "\r\n",
      "<div class=\"ftCon-Wrapper\"><div id=\"ftConw\"><p id=\"lh\"><a id=\"setf\" href=\"//www.baidu.com/cache/sethelp/help.html\" onmousedown=\"return ns_c({'fm':'behs','tab':'favorites','pos':0})\" target=\"_blank\">æç¾åº¦è®¾ä¸ºä¸»é¡µ</a><a onmousedown=\"return ns_c({'fm':'behs','tab':'tj_about'})\" href=\"http://home.baidu.com\">å",
      "³äºç¾åº¦</a><a onmousedown=\"return ns_c({'fm':'behs','tab':'tj_about_en'})\" href=\"http://ir.baidu.com\">About&nbsp;&nbsp;Baidu</a><a onmousedown=\"return ns_c({'fm':'behs','tab':'tj_tuiguang'})\" href=\"http://e.baidu.com/?refer=888\">ç¾åº¦æ¨å¹¿</a></p><p id=\"cp\">&copy;2019&nbsp;Baidu&nbsp;<a href=\"http://www.baidu.com/duty/\" onmousedown=\"return ns_c({'fm':'behs','tab':'tj_duty'})\">ä½¿ç¨ç¾åº¦åå¿",
      "è¯»</a>&nbsp;<a href=\"http://jianyi.baidu.com/\" class=\"cp-feedback\" onmousedown=\"return ns_c({'fm':'behs','tab':'tj_homefb'})\">æè§åé¦</a>&nbsp;äº¬ICPè¯030173å·&nbsp;<i class=\"c-icon-icrlogo\"></i>&nbsp;<a id=\"jgwab\"  target=\"_blank\" href=\"http://www.beian.gov.cn/portal/registerSystemInfo?recordcode=11000002000001\">äº¬å",
      "¬ç½å®å¤11000002000001å·</a>&nbsp;<i class=\"c-icon-jgwablogo\"></i></p></div></div></div>\n",
      "\n",
      "        <div id=\"wrapper_wrapper\">\n",
      "        </div>\n",
      "    </div>\n",
      "    <div class=\"c-tips-container\" id=\"c-tips-container\"></div>\n",
      "    \n",
      "    <script>\n",
      "        window.__async_strategy=2;\n",
      "    </script>\n",
      "    \n",
      "    \n",
      "<script>\n",
      "var bds={\n",
      "    se:{},\n",
      "    su:{\n",
      "        urdata:[],\n",
      "                urSendClick:function(){}\n",
      "    },\n",
      "    util:{},\n",
      "    use:{},\n",
      "    comm : {\n",
      "        domain:\"http://www.baidu.com\",\n",
      "        ubsurl : \"https://sp0.baidu.com/5bU_dTmfKgQFm2e88IuM_a/w.gif\",\n",
      "        tn:\"baidu\",\n",
      "        queryEnc:\"\",\n",
      "        queryId:\"\",\n",
      "        inter:\"\",\n",
      "        templateName:\"\",\n",
      "        sugHost : \"https://sp0.baidu.com/5a1Fazu8AA54nxGko9WTAnF6hhy/su\",\n",
      "        query : \"\",\n",
      "        dpquery: \"\",\n",
      "        qid : \"ce56827300032808\",\n",
      "        cid : \"0\",\n",
      "        sid : \"1465_21123_28722_28558_28697_28584_28518_28606\",\n",
      "        indexSid : \"1465_21123_28722_28558_28697_28584_28518_28606\",\n",
      "        sampleval : [\"new_sug_req\"],\n",
      "        stoken : \"\",\n",
      "        serverTime : \"1553312902\",\n",
      "        user : \"\",\n",
      "        username : \"\",\n",
      "        userid : \"0\",\n",
      "        loginAction : [],\n",
      "        useFavo : \"\",\n",
      "        pinyin : \"\",\n",
      "        favoOn : \"\",\n",
      "        cookie : null,\n",
      "        userAgent : \"Mozilla/5.0 (Windows NT 10.0) AppleWebKit/537.36 (KHTML, like Gecko) Chrome/68.0.3440.91 Safari/537.36\",\n",
      "                curResultNum:\"0\",\n",
      "        rightResultExist:false,\n",
      "        protectNum:0,\n",
      "        zxlNum:0,\n",
      "        pageNum:1,\n",
      "        pageSize:10,\n",
      "        newindex:0,\n",
      "        async:2,\n",
      "        maxPreloadThread:5,\n",
      "        maxPreloadTimes:10,\n",
      "        preloadMouseMoveDistance:5,\n",
      "        switchAddMask:false,\n",
      "        isDebug:false,\n",
      "        ishome : 1,\n",
      "        flagTranslateResult:0,\n",
      "        globalLogFlag:0\n",
      "\t,encTn:'8d77ztWjrlRl5RM93y64ORAy1A9+QiixUTA59EqMervV1DuCrqWMaNLnVss'    }\n",
      "};\n",
      "\n",
      "\n",
      "\n",
      "    \n",
      "\n",
      "\n",
      "var name,navigate,al_arr=[];\n",
      "var selfOpen = window.open;eval(\"var open = selfOpen;\");\n",
      "var isIE=navigator.userAgent.indexOf(\"MSIE\")!=-1&&!window.opera;\n",
      "var E = bds.ecom= {};\n",
      "\n",
      "bds.se.mon = {'loadedItems':[],'load':function(){},'srvt':-1};\n",
      "\n",
      "try {\n",
      "    bds.se.mon.srvt = parseInt(document.cookie.match(new RegExp(\"(^| )BDSVRTM=([^;]*)(;|$)\"))[2]);\n",
      "    document.cookie=\"BDSVRTM=;expires=Sat, 01 Jan 2000 00:00:00 GMT\";\n",
      "}catch(e){}\n",
      "var\n",
      "bdUser        = bds.comm.user?bds.comm.user:null,\n",
      "bdQuery       = bds.comm.query,\n",
      "bdUseFavo     = bds.comm.useFavo,\n",
      "bdFavoOn      = bds.comm.favoOn,\n",
      "bdCid         = bds.comm.cid,\n",
      "bdSid         = bds.comm.sid,\n",
      "bdServerTime  = bds.comm.serverTime,\n",
      "bdQid         = bds.comm.queryId,\n",
      "bdstoken      = bds.comm.stoken,\n",
      "login_success = [];\n",
      "\n",
      "\n",
      "</script>\n",
      "<script>\n",
      "bds.util.domain = (function(){\n",
      "        \t\t\t\t\t\t\t\t\t\t\t\t\t\t\t\t\t\t\t\t\t            \t\t\t\t\t\t\t\t\t\t\t\t\t\t\t\t\t\t\t\t\t\t\tvar list = {\n",
      "        \"graph.baidu.com\": \"https://sp0.baidu.com/-aYHfD0a2gU2pMbgoY3K\",\n",
      "\t\t\"p.qiao.baidu.com\":\"https://sp0.baidu.com/5PoXdTebKgQFm2e88IuM_a\",\n",
      "\t\t\"vse.baidu.com\":\"https://sp3.baidu.com/6qUDsjip0QIZ8tyhnq\",\n",
      "\t\t\"hdpreload.baidu.com\":\"https://sp3.baidu.com/7LAWfjuc_wUI8t7jm9iCKT-xh_\",\n",
      "\t\t\"lcr.open.baidu.com\":\"https://sp2.baidu.com/8LUYsjW91Qh3otqbppnN2DJv\",\n",
      "\t\t\"kankan.baidu.com\":\"https://sp3.baidu.com/7bM1dzeaKgQFm2e88IuM_a\",\n",
      "\t\t\"xapp.baidu.com\":\"https://sp2.baidu.com/yLMWfHSm2Q5IlBGlnYG\",\n",
      "\t\t\"dr.dh.baidu.com\":\"https://sp0.baidu.com/-KZ1aD0a2gU2pMbgoY3K\",\n",
      "\t\t\"xiaodu.baidu.com\":\"https://sp0.baidu.com/yLsHczq6KgQFm2e88IuM_a\",\n",
      "\t\t\"sensearch.baidu.com\":\"https://sp1.baidu.com/5b11fzupBgM18t7jm9iCKT-xh_\",\n",
      "\t\t\"s1.bdstatic.com\":\"https://ss1.bdstatic.com/5eN1bjq8AAUYm2zgoY3K\",\n",
      "\t\t\"olime.baidu.com\":\"https://sp0.baidu.com/8bg4cTva2gU2pMbgoY3K\",\n",
      "\t\t\"app.baidu.com\":\"https://sp2.baidu.com/9_QWsjip0QIZ8tyhnq\",\n",
      "\t\t\"i.baidu.com\":\"https://sp0.baidu.com/74oIbT3kAMgDnd_\",\n",
      "\t\t\"c.baidu.com\":\"https://sp0.baidu.com/9foIbT3kAMgDnd_\",\n",
      "\t\t\"sclick.baidu.com\":\"https://sp0.baidu.com/5bU_dTmfKgQFm2e88IuM_a\",\n",
      "\t\t\"nsclick.baidu.com\":\"https://sp1.baidu.com/8qUJcD3n0sgCo2Kml5_Y_D3\",\n",
      "\t\t\"sestat.baidu.com\":\"https://sp1.baidu.com/5b1ZeDe5KgQFm2e88IuM_a\",\n",
      "\t\t\"eclick.baidu.com\":\"https://sp3.baidu.com/-0U_dTmfKgQFm2e88IuM_a\",\n",
      "\t\t\"api.map.baidu.com\":\"https://sp2.baidu.com/9_Q4sjOpB1gCo2Kml5_Y_D3\",\n",
      "\t\t\"ecma.bdimg.com\":\"https://ss1.bdstatic.com/-0U0bXSm1A5BphGlnYG\",\n",
      "\t\t\"ecmb.bdimg.com\":\"https://ss0.bdstatic.com/-0U0bnSm1A5BphGlnYG\",\n",
      "        \"t1.baidu.com\":\"https://ss0.baidu.com/6ON1bjeh1BF3odCf\",\n",
      "        \"t2.baidu.com\":\"https://ss1.baidu.com/6OZ1bjeh1BF3odCf\",\n",
      "        \"t3.baidu.com\":\"https://ss2.baidu.com/6OV1bjeh1BF3odCf\",\n",
      "\t\t\"t10.baidu.com\":\"https://ss0.baidu.com/6ONWsjip0QIZ8tyhnq\",\n",
      "\t\t\"t11.baidu.com\":\"https://ss1.baidu.com/6ONXsjip0QIZ8tyhnq\",\n",
      "\t\t\"t12.baidu.com\":\"https://ss2.baidu.com/6ONYsjip0QIZ8tyhnq\",\n",
      "\t\t\"i7.baidu.com\":\"https://ss0.baidu.com/73F1bjeh1BF3odCf\",\n",
      "\t\t\"i8.baidu.com\":\"https://ss0.baidu.com/73x1bjeh1BF3odCf\",\n",
      "\t\t\"i9.baidu.com\":\"https://ss0.baidu.com/73t1bjeh1BF3odCf\",\n",
      "\t\t\"b1.bdstatic.com\":\"https://ss0.bdstatic.com/9uN1bjq8AAUYm2zgoY3K\",\n",
      "\t\t\"ss.bdimg.com\":\"https://ss1.bdstatic.com/5aV1bjqh_Q23odCf\",\n",
      "\t\t\"opendata.baidu.com\":\"https://sp0.baidu.com/8aQDcjqpAAV3otqbppnN2DJv\",\n",
      "\t\t\"api.open.baidu.com\":\"https://sp0.baidu.com/9_Q4sjW91Qh3otqbppnN2DJv\",\n",
      "\t\t\"tag.baidu.com\":\"https://sp1.baidu.com/6LMFsjip0QIZ8tyhnq\",\n",
      "\t\t\"f3.baidu.com\":\"https://sp2.baidu.com/-uV1bjeh1BF3odCf\",\n",
      "\t\t\"s.share.baidu.com\":\"https://sp0.baidu.com/5foZdDe71MgCo2Kml5_Y_D3\",\t\n",
      "\t\t\"bdimg.share.baidu.com\":\"https://ss1.baidu.com/9rA4cT8aBw9FktbgoI7O1ygwehsv\",\n",
      "        \"1.su.bdimg.com\":\"https://ss0.bdstatic.com/k4oZeXSm1A5BphGlnYG\",\n",
      "        \"2.su.bdimg.com\":\"https://ss1.bdstatic.com/kvoZeXSm1A5BphGlnYG\",\n",
      "        \"3.su.bdimg.com\":\"https://ss2.bdstatic.com/kfoZeXSm1A5BphGlnYG\",\n",
      "        \"4.su.bdimg.com\":\"https://ss3.bdstatic.com/lPoZeXSm1A5BphGlnYG\",\n",
      "        \"5.su.bdimg.com\":\"https://ss0.bdstatic.com/l4oZeXSm1A5BphGlnYG\",\n",
      "        \"6.su.bdimg.com\":\"https://ss1.bdstatic.com/lvoZeXSm1A5BphGlnYG\",\n",
      "        \"7.su.bdimg.com\":\"https://ss2.bdstatic.com/lfoZeXSm1A5BphGlnYG\",\n",
      "        \"8.su.bdimg.com\":\"https://ss3.bdstatic.com/iPoZeXSm1A5BphGlnYG\"\n",
      "\t};\n",
      "\r\n",
      "\n",
      "    var get = function(url) {\n",
      "        if(location.protocol === \"http\") {\n",
      "            return url;\n",
      "        }\n",
      "        var reg = /^(http[s]?:\\/\\/)?([^\\/]+)(.*)/,\n",
      "        matches = url.match(reg);\n",
      "        url = list.hasOwnProperty(matches[2])&&(list[matches[2]] + matches[3]) || url;\n",
      "        return url;\n",
      "    },\n",
      "    set = function(kdomain,vdomain) {\n",
      "        list[kdomain] = vdomain;\n",
      "    };\n",
      "    return {\n",
      "        get : get,\n",
      "        set : set\n",
      "    }\n",
      "})();\n",
      "</script>\n",
      "<script>\n",
      "if(!location.hash.match(/[^a-zA-Z0-9]wd=/)){\n",
      "    document.getElementById(\"wrapper\").style.display='block';\n",
      "    setTimeout(function(){\n",
      "        try{\n",
      "            var kw=document.getElementById(\"kw\");\n",
      "            kw.focus();\n",
      "\t\t\tkw.parentNode.className=\"bg s_ipt_wr iptfocus quickdelete-wrap\";\n",
      "        }catch(e){}\n",
      "    },0);\n",
      "}\n",
      "\n",
      "</script>\n",
      "<script type=\"text/javascript\" src=\"https://ss1.bdstatic.com/5eN1bjq8AAUYm2zgoY3K/r/www/cache/static/protocol/https/jquery/jquery-1.10.2.min_65682a2.js\"></script>\n",
      "\n",
      "\n",
      "\n",
      "\n",
      "<script>\n",
      "(function(){\n",
      "\n",
      "    var result_common_css=\"<style data-for=\\\"result\\\" id=\\\"css_result\\\" type=\\\"text\\/css\\\">body{color:#333;background:#fff;padding:6px 0 0;margin:0;position:relative;min-width:900px}body,th,td,.p1,.p2{font-family:arial}p,form,ol,ul,li,dl,dt,dd,h3{margin:0;padding:0;list-style:none}input{padding-top:0;padding-bottom:0;-moz-box-sizing:border-box;-webkit-box-sizing:border-box;box-sizing:border-box}table,img{border:0}td{font-size:9pt;line-height:18px}em{font-style:normal;color:#c00}a em{text-decoration:underline}cite{font-style:normal;color:green}.m,a.m{color:#666}a.m:visited{color:#606}.g,a.g{color:green}.c{color:#77c}.f14{font-size:14px}.f10{font-size:10.5pt}.f16{font-size:16px}.f13{font-size:13px}.bg{background-image:url(https:\\/\\/ss1.bdstatic.com\\/5eN1bjq8AAUYm2zgoY3K\\/r\\/www\\/cache\\/static\\/protocol\\/https\\/global\\/img\\/icons_5859e57.png);_background-image:url(https:\\/\\/ss1.bdstatic.com\\/5eN1bjq8AAUYm2zgoY3K\\/r\\/www\\/cache\\/static\\/protocol\\/https\\/global\\/img\\/icons_d5b04cc.gif);background-repeat:no-repeat}#u,#head,#tool,#search,#foot{font-size:12px}.logo{width:117px;height:38px;cursor:pointer}.p1{line-height:120%;margin-left:-12pt}.p2{width:100%;line-height:120%;margin-left:-12pt}#wrapper{_zoom:1}#container{word-break:break-all;word-wrap:break-word;position:relative}.container_s{width:1002px}.container_l{width:1222px}#content_left{width:636px;float:left;padding-left:35px}#content_right{border-left:1px solid #e1e1e1;float:right}.container_s #content_right{width:271px}.container_l #content_right{width:434px}.content_none{padding-left:35px}#u{color:#999;white-space:nowrap;position:absolute;right:10px;top:4px;z-index:299}#u a{color:#00c;margin:0 5px}#u .reg{margin:0}#u .last{margin-right:0}#u .un{font-weight:700;margin-right:5px}#u ul{width:100%;background:#fff;border:1px solid #9b9b9b}#u li{height:25px}#u li a{width:100%;height:25px;line-height:25px;display:block;text-align:left;text-decoration:none;text-indent:6px;margin:0;filter:none\\\\9}#u li a:hover{background:#ebebeb}#u li.nl{border-top:1px solid #ebebeb}#user{display:inline-block}#user_center{position:relative;display:inline-block}#user_center .user_center_btn{margin-right:5px}.userMenu{width:64px;position:absolute;right:7px;_right:2px;top:15px;top:14px\\\\9;*top:15px;padding-top:4px;display:none;*background:#fff}#head{padding-left:35px;margin-bottom:20px;width:900px}.fm{clear:both;position:relative;z-index:297}.nv a,.nv b,.btn,#page,#more{font-size:14px}.s_nav{height:45px}.s_nav .s_logo{margin-right:20px;float:left}.s_nav .s_logo img{border:0;display:block}.s_tab{line-height:18px;padding:20px 0 0;float:left}.s_nav a{color:#00c;font-size:14px}.s_nav b{font-size:14px}.s_ipt_wr{width:536px;height:30px;display:inline-block;margin-right:5px;background-position:0 -96px;border:1px solid #b6b6b6;border-color:#7b7b7b #b6b6b6 #b6b6b6 #7b7b7b;vertical-align:top}.s_ipt{width:523px;height:22px;font:16px\\/18px arial;line-height:22px;margin:5px 0 0 7px;padding:0;background:#fff;border:0;outline:0;-webkit-appearance:none}.s_btn{width:95px;height:32px;padding-top:2px\\\\9;font-size:14px;padding:0;background-color:#ddd;background-position:0 -48px;border:0;cursor:pointer}.s_btn_h{background-position:-240px -48px}.s_btn_wr{width:97px;height:34px;display:inline-block;background-position:-120px -48px;*position:relative;z-index:0;vertical-align:top}.sethf{padding:0;margin:0;font-size:14px}.set_h{display:none;behavior:url(#default#homepage)}.set_f{display:none}.shouji{margin-left:19px}.shouji a{text-decoration:none}#head .bdsug{top:33px}#search form{position:relative}#search form .bdsug{bottom:33px}.bdsug{display:none;position:absolute;z-index:1;width:538px;background:#fff;border:1px solid #ccc;_overflow:hidden;box-shadow:1px 1px 3px #ededed;-webkit-box-shadow:1px 1px 3px #ededed;-moz-box-shadow:1px 1px 3px #ededed;-o-box-shadow:1px 1px 3px #ededed}.bdsug.bdsugbg ul{background:url(https:\\/\\/ss1.bdstatic.com\\/5eN1bjq8AAUYm2zgoY3K\\/r\\/www\\/cache\\/static\\/protocol\\/https\\/home\\/img\\/sugbg_1762fe7.png) 100% 100% no-repeat;background-size:100px 110px;background-image:url(https:\\/\\/ss1.bdstatic.com\\/5eN1bjq8AAUYm2zgoY3K\\/r\\/www\\/cache\\/static\\/protocol\\/https\\/home\\/img\\/sugbg_90fc9cf.gif)\\\\9}.bdsug li{width:522px;color:#000;font:14px arial;line-height:22px;padding:0 8px;position:relative;cursor:default}.bdsug li.bdsug-s{background:#f0f0f0}.bdsug-store span,.bdsug-store b{color:#7A77C8}.bdsug-store-del{font-size:12px;color:#666;text-decoration:underline;position:absolute;right:8px;top:0;cursor:pointer;display:none}.bdsug-s .bdsug-store-del{display:inline-block}.bdsug-ala{display:inline-block;border-bottom:1px solid #e6e6e6}.bdsug-ala h3{line-height:14px;background:url(\\/\\/www.baidu.com\\/img\\/sug_bd.png) no-repeat left center;margin:8px 0 5px;font-size:12px;font-weight:400;color:#7B7B7B;padding-left:20px}.bdsug-ala p{font-size:14px;font-weight:700;padding-left:20px}.bdsug .bdsug-direct{width:auto;padding:0;border-bottom:1px solid #f1f1f1}.bdsug .bdsug-direct p{color:#00c;font-weight:700;line-height:34px;padding:0 8px;cursor:pointer;white-space:nowrap;overflow:hidden}.bdsug .bdsug-direct p img{width:16px;height:16px;margin:7px 6px 9px 0;vertical-align:middle}.bdsug .bdsug-direct p span{margin-left:8px}.bdsug .bdsug-direct p i{font-size:12px;line-height:100%;font-style:normal;font-weight:400;color:#fff;background-color:#2b99ff;display:inline;text-align:center;padding:1px 5px;*padding:2px 5px 0;margin-left:8px;overflow:hidden}.bdsug .bdsug-pcDirect{color:#000;font-size:14px;line-height:30px;height:30px;background-color:#f8f8f8}.bdsug .bdsug-pc-direct-tip{position:absolute;right:15px;top:8px;width:55px;height:15px;display:block;background:url(https:\\/\\/ss1.bdstatic.com\\/5eN1bjq8AAUYm2zgoY3K\\/r\\/www\\/cache\\/static\\/protocol\\/https\\/global\\/img\\/pc_direct_42d6311.png) no-repeat 0 0}.bdsug li.bdsug-pcDirect-s{background-color:#f0f0f0}.bdsug .bdsug-pcDirect-is{color:#000;font-size:14px;line-height:22px;background-color:#f8f8f8}.bdsug .bdsug-pc-direct-tip-is{position:absolute;right:15px;top:3px;width:55px;height:15px;display:block;background:url(https:\\/\\/ss1.bdstatic.com\\/5eN1bjq8AAUYm2zgoY3K\\/r\\/www\\/cache\\/static\\/protocol\\/https\\/global\\/img\\/pc_direct_42d6311.png) no-repeat 0 0}.bdsug li.bdsug-pcDirect-is-s{background-color:#f0f0f0}.bdsug .bdsug-pcDirect-s .bdsug-pc-direct-tip,.bdsug .bdsug-pcDirect-is-s .bdsug-pc-direct-tip-is{background-position:0 -15px}.bdsug .bdsug-newicon{color:#929292;opacity:.7;font-size:12px;display:inline-block;line-height:22px;letter-spacing:2px}.bdsug .bdsug-s .bdsug-newicon{opacity:1}.bdsug .bdsug-newicon i{letter-spacing:0;font-style:normal}.bdsug .bdsug-feedback-wrap{text-align:right;background:#fafafa;color:#666;height:25px;line-height:27px}.bdsug .bdsug-feedback{margin-right:10px;text-decoration:underline;color:#666}.toggle-underline{text-decoration:none}.toggle-underline:hover{text-decoration:underline}#tb_mr{color:#00c;cursor:pointer;position:relative;z-index:298}#tb_mr b{font-weight:400;text-decoration:underline}#tb_mr small{font-size:11px}#page{font:14px arial;white-space:nowrap;padding-left:35px}#page a,#page strong{display:inline-block;vertical-align:text-bottom;height:66px;text-align:center;line-height:34px;text-decoration:none;overflow:hidden;margin-right:9px;background:#fff}#page a{cursor:pointer}#page a:hover{background:0 0}#page .n:hover,#page a:hover .pc{background:#f2f8ff;border:1px solid #38f}#page .n{height:34px;padding:0 18px;border:1px solid #e1e2e3}#page span{display:block}#page .pc{width:34px;height:34px;border:1px solid #e1e2e3;cursor:pointer}#page .fk{width:24px;height:24px;margin-bottom:6px;margin-left:6px;cursor:pointer}#page strong .fk,#page strong .pc{cursor:auto}#page .fk .c-icon-bear-pn{top:-3px;position:relative}#page .fkd .c-icon-bear-pn{top:3px;position:relative}#page .fk_cur .c-icon-bear-p{top:-2px;position:relative}#page strong .pc{border:0;width:36px;height:36px;line-height:36px}#page .nums{display:inline-block;vertical-align:text-bottom;height:36px;line-height:36px;margin-left:10px}#rs{width:900px;background:#fff;padding:8px 0;margin:20px 0 0 15px}#rs td{width:5%}#rs th{font-size:14px;font-weight:400;line-height:19px;white-space:nowrap;text-align:left;vertical-align:top}#rs .tt{font-weight:700;padding:0 10px 0 20px}#rs_top{font-size:14px;margin-bottom:22px}#rs_top a{margin-right:18px}#container .rs{margin:30px 0 20px;padding:5px 0 15px;font-size:14px;width:540px;padding-left:121px;position:relative;background-color:#fafafa}#container .noback{background-color:#fff}#content_left .rs{margin-left:-121px}#container .rs table{width:540px}#container .rs td{width:5px}#container .rs th{font-size:14px;font-weight:400;white-space:nowrap;text-align:left;vertical-align:top;width:175px;line-height:22px}#container .rs .tt{font-weight:700;padding:0 10px 0 20px;padding:0;line-height:30px;font-size:16px}#container .rs a{margin:0;height:24px;width:173px;display:inline-block;line-height:25px;border:1px solid #ebebeb;text-align:center;vertical-align:middle;overflow:hidden;outline:0;color:#333;background-color:#fff;text-decoration:none}#container .rs a:hover{border-color:#388bff}.c-tip-con .c-tip-menu-b ul{width:100px}.c-tip-con .c-tip-menu-b ul{text-align:center}.c-tip-con .c-tip-menu-b li a{display:block;text-decoration:none;cursor:pointer;background-color:#fff;padding:3px 0;color:#666}.c-tip-con .c-tip-menu-b li a:hover{display:block;background-color:#ebebeb}#search{width:900px;padding:35px 0 16px 35px}#search .s_help{position:relative;top:10px}#foot{height:20px;line-height:20px;color:#77c;background:#e6e6e6;text-align:center}#foot span{color:#666}.site_tip{font-size:12px;margin-bottom:20px}.site_tip_icon{width:56px;height:56px;background:url(\\/\\/www.baidu.com\\/aladdin\\/img\\/tools\\/tools-3.png) -288px 0 no-repeat}.to_zhidao,.to_tieba,.to_zhidao_bottom{font-size:16px;line-height:24px;margin:20px 0 0 35px}.to_tieba .c-icon-tieba{float:left}.f{line-height:115%;*line-height:120%;font-size:100%;width:33.7em;word-break:break-all;word-wrap:break-word}.h{margin-left:8px;width:100%}.r{word-break:break-all;cursor:hand;width:238px}.t{font-weight:400;font-size:medium;margin-bottom:1px}.pl{padding-left:3px;height:8px;padding-right:2px;font-size:14px}.mo,a.mo:link,a.mo:visited{color:#666;font-size:100%;line-height:10px}.htb{margin-bottom:5px}.jc a{color:#c00}a font[size=\\\"3\\\"] font,font[size=\\\"3\\\"] a font{text-decoration:underline}div.blog,div.bbs{color:#707070;padding-top:2px;font-size:13px}.result{width:33.7em;table-layout:fixed}.result-op .f{word-wrap:normal}.nums{font-size:12px;color:#999}.tools{position:absolute;top:10px;white-space:nowrap}#mHolder{width:62px;position:relative;z-index:296;top:-18px;margin-left:9px;margin-right:-12px;display:none}#mCon{height:18px;position:absolute;top:3px;top:6px\\\\9;cursor:pointer;line-height:18px}.wrapper_l #mCon{right:7px}#mCon span{color:#00c;display:block}#mCon .hw{text-decoration:underline;cursor:pointer;display:inline-block}#mCon .pinyin{display:inline-block}#mCon .c-icon-chevron-unfold2{margin-left:5px}#mMenu{width:56px;border:1px solid #9b9b9b;position:absolute;right:7px;top:23px;display:none;background:#fff}#mMenu a{width:100%;height:100%;color:#00c;display:block;line-height:22px;text-indent:6px;text-decoration:none;filter:none\\\\9}#mMenu a:hover{background:#ebebeb}#mMenu .ln{height:1px;background:#ebebeb;overflow:hidden;font-size:1px;line-height:1px;margin-top:-1px}.op_LAMP{background:url(\\/\\/www.baidu.com\\/cache\\/global\\/img\\/aladdinIcon-1.0.gif) no-repeat 0 2px;color:#77C;display:inline-block;font-size:13px;height:12px;*height:14px;width:16px;text-decoration:none;zoom:1}.EC_mr15{margin-left:0}.pd15{padding-left:0}.map_1{width:30em;font-size:80%;line-height:145%}.map_2{width:25em;font-size:80%;line-height:145%}.favurl{background-repeat:no-repeat;background-position:0 1px;padding-left:20px}.dan_tip{font-size:12px;margin-top:4px}.dan_tip a{color:#b95b07}#more,#u ul,#mMenu,.msg_holder{box-shadow:1px 1px 2px #ccc;-moz-box-shadow:1px 1px 2px #ccc;-webkit-box-shadow:1px 1px 2px #ccc;filter:progid:DXImageTransform.Microsoft.Shadow(Strength=2, Direction=135, Color=#cccccc)\\\\9}.hit_top{line-height:18px;margin:0 15px 10px 0;width:516px}.hit_top .c-icon-bear{height:18px;margin-right:4px}#rs_top_new,.hit_top_new{width:538px;font-size:13px;line-height:1.54;word-wrap:break-word;word-break:break-all;margin:0 0 14px}.zhannei-si{margin:0 0 10px 121px}.zhannei-si-none{margin:10px 0 -10px 121px}.zhannei-search{margin:10px 0 0 121px;color:#999;font-size:14px}.f a font[size=\\\"3\\\"] font,.f font[size=\\\"-1\\\"] a font{text-decoration:underline}h3 a font{text-decoration:underline}.c-title{font-weight:400;font-size:16px}.c-title-size{font-size:16px}.c-abstract{font-size:13px}.c-abstract-size{font-size:13px}.c-showurl{color:green;font-size:13px}.c-showurl-color{color:green}.c-cache-color{color:#666}.c-lightblue{color:#77c}.c-highlight-color{color:#c00}.c-clearfix:after{content:\\\".\\\";display:block;height:0;clear:both;visibility:hidden}.c-clearfix{zoom:1}.c-wrap{word-break:break-all;word-wrap:break-word}.c-icons-outer{overflow:hidden;display:inline-block;vertical-align:bottom;*vertical-align:-1px;_vertical-align:bottom}.c-icons-inner{margin-left:-4px}.c-container table.result,.c-container table.result-op{width:100%}.c-container td.f{font-size:13px;line-height:1.54;width:auto}.c-container .vd_newest_main{width:auto}.c-customicon{display:inline-block;width:16px;height:16px;vertical-align:text-bottom;font-style:normal;overflow:hidden}.c-tip-icon i{display:inline-block;cursor:pointer}.c-tip-con{position:absolute;z-index:1;top:22px;left:-35px;background:#fff;border:1px solid #dcdcdc;border:1px solid rgba(0,0,0,.2);-webkit-transition:opacity .218s;transition:opacity .218s;-webkit-box-shadow:0 2px 4px rgba(0,0,0,.2);box-shadow:0 2px 4px rgba(0,0,0,.2);padding:5px 0;display:none;font-size:12px;line-height:20px}.c-tip-arrow{width:0;height:0;font-size:0;line-height:0;display:block;position:absolute;top:-16px}.c-tip-arrow-down{top:auto;bottom:0}.c-tip-arrow em,.c-tip-arrow ins{width:0;height:0;font-size:0;line-height:0;display:block;position:absolute;border:8px solid transparent;border-style:dashed dashed solid}.c-tip-arrow em{border-bottom-color:#d8d8d8}.c-tip-arrow ins{border-bottom-color:#fff;top:2px}.c-tip-arrow-down em,.c-tip-arrow-down ins{border-style:solid dashed dashed;border-color:transparent}.c-tip-arrow-down em{border-top-color:#d8d8d8}.c-tip-arrow-down ins{border-top-color:#fff;top:-2px}.c-tip-arrow .c-tip-arrow-r{border-bottom-color:#82c9fa;top:2px}.c-tip-arrow-down .c-tip-arrow-r{border-bottom-color:transparent;top:-2px}.c-tip-arrow .c-tip-arrow-c{border-bottom-color:#fecc47;top:2px}.c-tip-arrow-down .c-tip-arrow-c{border-bottom-color:transparent;top:-2px}.c-tip-con h3{font-size:12px}.c-tip-con .c-tip-title{margin:0 10px;display:inline-block;width:239px}.c-tip-con .c-tip-info{color:#666;margin:0 10px 1px;width:239px}.c-tip-con .c-tip-cer{width:370px;color:#666;margin:0 10px 1px}.c-tip-con .c-tip-title{width:auto;_width:354px}.c-tip-con .c-tip-item-i{padding:3px 0 3px 20px;line-height:14px}.c-tip-con .c-tip-item-i .c-tip-item-icon{margin-left:-20px}.c-tip-con .c-tip-menu ul{width:74px}.c-tip-con .c-tip-menu ul{text-align:center}.c-tip-con .c-tip-menu li a{display:block;text-decoration:none;cursor:pointer;background-color:#fff;padding:3px 0;color:#0000d0}.c-tip-con .c-tip-menu li a:hover{display:block;background-color:#ebebeb}.c-tip-con .c-tip-notice{width:239px;padding:0 10px}.c-tip-con .c-tip-notice .c-tip-notice-succ{color:#4cbd37}.c-tip-con .c-tip-notice .c-tip-notice-fail{color:#f13F40}.c-tip-con .c-tip-notice .c-tip-item-succ{color:#444}.c-tip-con .c-tip-notice .c-tip-item-fail{color:#aaa}.c-tip-con .c-tip-notice .c-tip-item-fail a{color:#aaa}.c-tip-close{right:10px;position:absolute;cursor:pointer}.ecard{height:86px;overflow:hidden}.c-tools{display:inline}.c-tools-share{width:239px;padding:0 10px}.c-fanyi{display:none;width:20px;height:20px;border:solid 1px #d1d1d1;cursor:pointer;position:absolute;margin-left:516px;text-align:center;color:#333;line-height:22px;opacity:.9;background-color:#fff}.c-fanyi:hover{background-color:#39f;color:#fff;border-color:#39f;opacity:1}.c-fanyi-title,.c-fanyi-abstract{display:none}.icp_info{color:#666;margin-top:2px;font-size:13px}.icon-gw,.icon-unsafe-icon{background:#2c99ff;vertical-align:text-bottom;*vertical-align:baseline;height:16px;padding-top:0;padding-bottom:0;padding-left:6px;padding-right:6px;line-height:16px;_padding-top:2px;_height:14px;_line-height:14px;font-size:12px;font-family:simsun;margin-left:10px;overflow:hidden;display:inline-block;-moz-border-radius:1px;-webkit-border-radius:1px;border-radius:1px;color:#fff}a.icon-gw{color:#fff;background:#2196ff;text-decoration:none;cursor:pointer}a.icon-gw:hover{background:#1e87ef}a.icon-gw:active{height:15px;_height:13px;line-height:15px;_line-height:13px;padding-left:5px;background:#1c80d9;border-left:1px solid #145997;border-top:1px solid #145997}.icon-unsafe-icon{background:#e54d4b}#con-at{margin-bottom:9px;padding-left:121px;border-bottom:1px #ebebeb solid}#con-at .result-op{font-size:13px;line-height:1.52em}.wrapper_l #con-at .result-op{width:1058px}.wrapper_s #con-at .result-op{width:869px}#con-ar{margin-bottom:40px}#con-ar .result-op{margin-bottom:28px;font-size:13px;line-height:1.52em}.result_hidden{position:absolute;top:-10000px;left:-10000px}#content_left .result-op,#content_left .result{margin-bottom:14px;border-collapse:collapse}#content_left .c-border .result-op,#content_left .c-border .result{margin-bottom:25px}#content_left .c-border .result-op:last-child,#content_left .c-border .result:last-child{margin-bottom:12px}#content_left .result .f,#content_left .result-op .f{padding:0}.subLink_factory{border-collapse:collapse}.subLink_factory td{padding:0}.subLink_factory td.middle,.subLink_factory td.last{color:#666}.subLink_factory td a{text-decoration:underline}.subLink_factory td.rightTd{text-align:right}.subLink_factory_right{width:100%}.subLink_factory_left td{padding-right:26px}.subLink_factory_left td.last{padding:0}.subLink_factory_left td.first{padding-right:75px}.subLink_factory_right td{width:90px}.subLink_factory_right td.first{width:auto}.general_image_pic a{background:#fff no-repeat center center;text-decoration:none;display:block;overflow:hidden;text-align:left}.res_top_banner{height:36px;text-align:left;border-bottom:1px solid #e3e3e3;background:#f7f7f7;font-size:13px;padding-left:8px;color:#333;position:relative;z-index:302}.res_top_banner span{_zoom:1}.res_top_banner .res_top_banner_icon{background-position:0 -216px;width:18px;height:18px;margin:9px 10px 0 0}.res_top_banner .res_top_banner_icon_baiduapp{background:url(https:\\/\\/ss1.bdstatic.com\\/5eN1bjq8AAUYm2zgoY3K\\/r\\/www\\/cache\\/static\\/protocol\\/https\\/global\\/img\\/baiduappLogo_de45621.png) no-repeat 0 0;width:24px;height:24px;margin:3px 10px 0 0;position:relative;top:3px}.res_top_banner .res_top_banner_icon_windows{background:url(https:\\/\\/ss1.bdstatic.com\\/5eN1bjq8AAUYm2zgoY3K\\/r\\/www\\/cache\\/static\\/protocol\\/https\\/global\\/img\\/winlogo_e925689.png) no-repeat 0 0;width:18px;height:18px;margin:9px 10px 0 0}.res_top_banner .res_top_banner_download{display:inline-block;width:65px;line-height:21px;_padding-top:1px;margin:0 0 0 10px;color:#333;background:#fbfbfb;border:1px solid #b4b6b8;text-align:center;text-decoration:none}.res_top_banner .res_top_banner_download:hover{border:1px solid #38f}.res_top_banner .res_top_banner_download:active{background:#f0f0f0;border:1px solid #b4b6b8}.res_top_banner .res_top_banner_close{background-position:-672px -144px;cursor:pointer;position:absolute;right:10px;top:10px}.res_top_banner_for_win{height:34px;text-align:left;border-bottom:1px solid #f0f0f0;background:#fdfdfd;font-size:13px;padding-left:12px;color:#333;position:relative;z-index:302}.res_top_banner_for_win span{_zoom:1;color:#666}.res_top_banner_for_win .res_top_banner_download{display:inline-block;width:auto;line-height:21px;_padding-top:1px;margin:0 0 0 16px;color:#333;text-align:left;text-decoration:underline}.res_top_banner_for_win .res_top_banner_icon_windows{background:url(https:\\/\\/ss1.bdstatic.com\\/5eN1bjq8AAUYm2zgoY3K\\/r\\/www\\/cache\\/static\\/protocol\\/https\\/global\\/img\\/winlogo_e925689.png) no-repeat 0 0;width:18px;height:18px;margin:8px 8px 0 0}.res_top_banner_for_win .res_top_banner_close{background-position:-672px -144px;cursor:pointer;position:absolute;right:10px;top:10px}.res-gap-right16{margin-right:16px}.res-border-top{border-top:1px solid #f3f3f3}.res-border-bottom{border-bottom:1px solid #f3f3f3}.res-queryext-pos{position:relative;top:1px;_top:0}.c-trust-ecard{height:86px;_height:97px;overflow:hidden}@-moz-document url-prefix(){.result,.f{width:538px}}body{min-width:1000px}#ftCon{display:none}#qrcode{display:none}#pad-version{display:none}#index_guide{display:none}#index_logo{display:none}#u1{display:none}.s_ipt_wr{height:32px}body{padding:0}.s_form:after,.s_tab:after{content:\\\".\\\";display:block;height:0;clear:both;visibility:hidden}.s_form{zoom:1;height:55px;padding:0 0 0 10px}#result_logo{float:left;margin:7px 0 0}#result_logo img{width:101px;height:33px}#head{padding:0;margin:0;width:100%;position:absolute;z-index:301;min-width:1000px;background:#fff;border-bottom:1px solid #ebebeb;position:fixed;_position:absolute;-webkit-transform:translateZ(0)}#head .head_wrapper{_width:1000px}#head.s_down{box-shadow:0 0 5px #888}.fm{clear:none;float:left;margin:11px 0 0 10px}#s_tab{background:#f8f8f8;line-height:36px;height:38px;padding:55px 0 0 121px;float:none;zoom:1}#s_tab a,#s_tab b{width:54px;display:inline-block;text-decoration:none;text-align:center;color:#666;font-size:14px}#s_tab b{border-bottom:2px solid #38f;font-weight:700;color:#323232}#s_tab a:hover{color:#323232}#content_left{width:540px;padding-left:121px;padding-top:5px}#content_right{margin-top:45px}#content_bottom{width:540px;padding-left:121px}#page{padding:0 0 0 121px;margin:30px 0 40px}.to_tieba,.to_zhidao_bottom{margin:10px 0 0 121px;padding-top:5px}.nums{margin:0 0 0 121px;height:42px;line-height:42px}#rs{padding:0;margin:6px 0 0 121px;width:600px}#rs th{width:175px;line-height:22px}#rs .tt{padding:0;line-height:30px}#rs td{width:5px}#rs table{width:540px}#help{background:#f5f6f5;zoom:1;padding:0 0 0 50px;float:right}#help a{color:#777;padding:0 15px;text-decoration:none}#help a:hover{color:#333}#foot{background:#f5f6f5;border-top:1px solid #ebebeb;text-align:left;height:42px;line-height:42px;margin-top:40px;*margin-top:0}#foot .foot_c{float:left;padding:0 0 0 121px}.content_none{padding:45px 0 25px 121px}.nors p{font-size:18px;font-family:microsoft yahei;color:#000}.nors p em{color:#c00}.nors .tip_head{color:#666;font-size:13px;line-height:28px}.nors li{color:#333;line-height:28px;font-size:13px;font-family:'\\u5b8b\\u4f53';padding-left:30px;list-style-position:inside;list-style-type:disc}#mCon{top:5px}.s_ipt_wr.bg,.s_btn_wr.bg,#su.bg{background-image:none}.s_ipt_wr.bg{background:0 0}.s_btn_wr{width:auto;height:auto;border-bottom:1px solid transparent;*border-bottom:0}.s_btn{width:100px;height:34px;color:#fff;letter-spacing:1px;background:#3385ff;border-bottom:1px solid #2d78f4;outline:medium;*border-bottom:0;-webkit-appearance:none;-webkit-border-radius:0}.s_btn.btnhover{background:#317ef3;border-bottom:1px solid #2868c8;*border-bottom:0;box-shadow:1px 1px 1px #ccc}.s_btn_h{background:#3075dc;box-shadow:inset 1px 1px 3px #2964bb;-webkit-box-shadow:inset 1px 1px 3px #2964bb;-moz-box-shadow:inset 1px 1px 3px #2964bb;-o-box-shadow:inset 1px 1px 3px #2964bb}#wrapper_wrapper .container_l .EC_ppim_top,#wrapper_wrapper .container_xl .EC_ppim_top{width:640px}#wrapper_wrapper .container_s .EC_ppim_top{width:570px}#head .c-icon-bear-round{display:none}.container_l #content_right{width:384px}.container_l{width:1212px}.container_xl #content_right{width:384px}.container_xl{width:1257px}.index_tab_top{display:none}.index_tab_bottom{display:none}#lg{display:none}#m{display:none}#ftCon{display:none}#ent_sug{position:absolute;margin:141px 0 0 130px;font-size:13px;color:#666}.foot_fixed_bottom{position:fixed;bottom:0;width:100%;_position:absolute;_bottom:auto}#head .headBlock{margin:-5px 0 6px 121px}#content_left .leftBlock{margin-bottom:14px;padding-bottom:5px;border-bottom:1px solid #f3f3f3}.hint_toprq_tips{position:relative;width:537px;height:19px;line-height:19px;overflow:hidden;display:none}.hint_toprq_tips span{color:#666}.hint_toprq_icon{margin:0 4px 0 0}.hint_toprq_tips_items{width:444px;_width:440px;max-height:38px;position:absolute;left:95px;top:1px}.hint_toprq_tips_items div{display:inline-block;float:left;height:19px;margin-right:18px;white-space:nowrap;word-break:keep-all}.translateContent{max-width:350px}.translateContent .translateTool{height:16px;margin:-3px 2px}.translateContent .action-translate,.translateContent .action-search{display:inline-block;width:20px;height:16px;background:url(https:\\/\\/ss1.bdstatic.com\\/5eN1bjq8AAUYm2zgoY3K\\/r\\/www\\/cache\\/static\\/protocol\\/https\\/global\\/img\\/translate_tool_icon_57087b6.gif) no-repeat}.translateContent .action-translate{background-position:0 0;border-right:1px solid #dcdcdc}.translateContent .action-translate:hover{background-position:0 -20px}.translateContent .action-search{background-position:-20px 0}.translateContent .action-search:hover{background-position:-20px -20px}.nums{width:538px}.search_tool{_padding-top:15px}.head_nums_cont_outer{height:40px;overflow:hidden;position:relative}.head_nums_cont_inner{position:relative}.search_tool_conter .c-gap-left{margin-left:23px}.search_tool_conter .c-icon-triangle-down{opacity:.6}.search_tool_conter .c-icon-triangle-down:hover{opacity:1}.search_tool,.search_tool_close{float:right}.search_tool,.search_tool_conter span{cursor:pointer;color:#666}.search_tool:hover,.search_tool_conter span:hover{color:#333}.search_tool_conter{font-size:12px;color:#666;margin:0 0 0 121px;height:42px;width:538px;line-height:42px;*height:auto;*line-height:normal;*padding:14px 0}.search_tool_conter span strong{color:#666}.c-tip-con .c-tip-langfilter ul{width:80px;text-align:left;color:#666}.c-tip-con .c-tip-langfilter li a{text-indent:15px;color:#666}.c-tip-con .c-tip-langfilter li span{text-indent:15px;padding:3px 0;color:#999;display:block}.c-tip-con .c-tip-timerfilter ul{width:115px;text-align:left;color:#666}.c-tip-con .c-tip-timerfilter-ft ul{width:180px}.c-tip-con .c-tip-timerfilter-si ul{width:206px;padding:7px 10px 10px}.c-tip-con .c-tip-timerfilter li a{text-indent:15px;color:#666}.c-tip-con .c-tip-timerfilter li span{text-indent:15px;padding:3px 0;color:#999;display:block}.c-tip-con .c-tip-timerfilter-ft li a,.c-tip-con .c-tip-timerfilter-ft li span{text-indent:20px}.c-tip-custom{padding:0 15px 10px;position:relative;zoom:1}.c-tip-custom hr{border:0;height:0;border-top:1px solid #ebebeb}.c-tip-custom p{color:#b6b6b6;height:25px;line-height:25px;margin:2px 0}.c-tip-custom .c-tip-custom-et{margin-bottom:7px}.c-tip-custom-input,.c-tip-si-input{display:inline-block;font-size:11px;color:#333;margin-left:4px;padding:0 2px;width:74%;height:16px;line-height:16px\\\\9;border:1px solid #ebebeb;outline:0;box-sizing:content-box;-webkit-box-sizing:content-box;-moz-box-sizing:content-box;overflow:hidden;position:relative}.c-tip-custom-input-init{color:#d4d4d4}.c-tip-custom-input-focus,.c-tip-si-input-focus{border:1px solid #3385ff}.c-tip-timerfilter-si .c-tip-si-input{width:138px;height:22px;line-height:22px;vertical-align:0;*vertical-align:-6px;_vertical-align:-5px;padding:0 5px;margin-left:0}.c-tip-con .c-tip-timerfilter li .c-tip-custom-submit,.c-tip-con .c-tip-timerfilter li .c-tip-timerfilter-si-submit{display:inline;padding:4px 10px;margin:0;color:#333;border:1px solid #d8d8d8;font-family:inherit;font-weight:400;text-align:center;vertical-align:0;background-color:#f9f9f9;outline:0}.c-tip-con .c-tip-timerfilter li .c-tip-custom-submit:hover,.c-tip-con .c-tip-timerfilter li .c-tip-timerfilter-si-submit:hover{display:inline;border-color:#388bff}.c-tip-timerfilter-si-error,.c-tip-timerfilter-custom-error{display:none;color:#3385FF;padding-left:4px}.c-tip-timerfilter-custom-error{padding:0;margin:-5px -13px 7px 0}#c-tip-custom-calenderCont{position:absolute;background:#fff;white-space:nowrap;padding:5px 10px;color:#000;border:1px solid #e4e4e4;-webkit-box-shadow:0 2px 4px rgba(0,0,0,.2);box-shadow:0 2px 4px rgba(0,0,0,.2)}#c-tip-custom-calenderCont p{text-align:center;padding:2px 0 4px;*padding:4px 0}#c-tip-custom-calenderCont p i{color:#8e9977;cursor:pointer;text-decoration:underline;font-size:13px}#c-tip-custom-calenderCont .op_cal{background:#fff}.op_cal table{background:#eeefea;margin:0;border-collapse:separate}.op_btn_pre_month,.op_btn_next_month{cursor:pointer;display:block;margin-top:6px}.op_btn_pre_month{float:left;background-position:0 -46px}.op_btn_next_month{float:right;background-position:-18px -46px}.op_cal .op_mon_pre1{padding:0}.op_mon th{text-align:center;font-size:12px;background:#FFF;font-weight:700;border:1px solid #FFF;padding:0}.op_mon td{text-align:center;cursor:pointer}.op_mon h5{margin:0;padding:0 4px;text-align:center;font-size:14px;background:#FFF;height:28px;line-height:28px;border-bottom:1px solid #f5f5f5;margin-bottom:5px}.op_mon strong{font-weight:700}.op_mon td{padding:0 5px;border:1px solid #fff;font-size:12px;background:#fff;height:100%}.op_mon td.op_mon_pre_month{color:#a4a4a4}.op_mon td.op_mon_cur_month{color:#00c}.op_mon td.op_mon_next_month{color:#a4a4a4}.op_mon td.op_mon_day_hover{color:#000;border:1px solid #278df2}.op_mon td.op_mon_day_selected{color:#FFF;border:1px solid #278df2;background:#278df2}.op_mon td.op_mon_day_disabled{cursor:not-allowed;color:#ddd}.zhannei-si-none,.zhannei-si,.hit_quet,.zhannei-search{display:none}#c-tip-custom-calenderCont .op_mon td.op_mon_cur_month{color:#000}#c-tip-custom-calenderCont .op_mon td.op_mon_day_selected{color:#fff}.c-icon-toen{width:24px;height:24px;line-height:24px;background-color:#1cb7fd;color:#fff;font-size:14px;font-weight:700;font-style:normal;display:block;display:inline-block;float:left;text-align:center}.hint_common_restop{width:538px;color:#999;font-size:12px;text-align:left;margin:5px 0 10px 121px}.hint_common_restop.hint-adrisk-pro{margin-top:4px;margin-bottom:13px}.hint_common_restop .hint-adrisk-title{color:#333;margin-bottom:3px}#con-at~#wrapper_wrapper .hint_common_restop{padding-top:7px}.sitelink{overflow:auto;zoom:1}.sitelink_summary{float:left;width:47%;padding-right:30px}.sitelink_summary a{font-size:1.1em;position:relative}.sitelink_summary_last{padding-right:0}.sitelink_en{overflow:auto;zoom:1}.sitelink_en_summary{float:left;width:47%;padding-right:30px}.sitelink_en_summary a{font-size:1.1em;position:relative}.sitelink_en_summary_last{padding-right:0}.sitelink_en_summary_title,.sitelink_en_summary .m{height:22px;overflow:hidden}.without-summary-sitelink-en-container{overflow:hidden;height:22px}.without-summary-sitelink-en{float:left}.without-summary-sitelink-en-delimiter{margin-right:5px;margin-left:5px}.wise-qrcode-wrapper{height:42px;line-height:42px;position:absolute;margin-left:8px;top:0;z-index:300}.wise-qrcode-icon-outer{overflow:hidden}.wise-qrcode-icon{position:relative;display:inline-block;width:15px;height:15px;vertical-align:text-bottom;overflow:hidden;opacity:.5;background:url(https:\\/\\/ss1.bdstatic.com\\/5eN1bjq8AAUYm2zgoY3K\\/r\\/www\\/cache\\/static\\/protocol\\/https\\/global\\/img\\/qrcode_icon_ae03227.png) no-repeat;-webkit-transform:translateY(42px);-ms-transform:translateY(42px);transform:translateY(42px);-webkit-background-size:100% 100%;background-size:100%}.wise-qrcode-container{padding:15px;background:#fff;display:none;top:61px;left:0;-webkit-transform:translateX(-50%);-ms-transform:translateX(-50%);transform:translateX(-50%);-webkit-box-shadow:0 0 1px rgba(0,0,0,.5);box-shadow:0 0 1px rgba(0,0,0,.5)}.wise-qrcode-wrapper.show:hover .wise-qrcode-container{display:block}.wise-qrcode-image{width:90px;height:90px;display:inline-block;vertical-align:middle}.wise-qrcode-image .wise-qrcode-canvas{width:100%;height:100%}.wise-qrcode-right{display:inline-block;vertical-align:middle;margin-left:15px}.wise-qrcode-title{font-size:16px;color:#000;line-height:26px}.wise-qrcode-text{font-size:12px;line-height:22px;color:#555}.c-frame{margin-bottom:18px}.c-offset{padding-left:10px}.c-gray{color:#666}.c-gap-top-small{margin-top:5px}.c-gap-top{margin-top:10px}.c-gap-bottom-small{margin-bottom:5px}.c-gap-bottom{margin-bottom:10px}.c-gap-left{margin-left:12px}.c-gap-left-small{margin-left:6px}.c-gap-right{margin-right:12px}.c-gap-right-small{margin-right:6px}.c-gap-right-large{margin-right:16px}.c-gap-left-large{margin-left:16px}.c-gap-icon-right-small{margin-right:5px}.c-gap-icon-right{margin-right:10px}.c-gap-icon-left-small{margin-left:5px}.c-gap-icon-left{margin-left:10px}.c-container{width:538px;font-size:13px;line-height:1.54;word-wrap:break-word;word-break:break-word}.c-container .c-container{width:auto}.c-container table{border-collapse:collapse;border-spacing:0}.c-container td{font-size:13px;line-height:1.54}.c-default{font-size:13px;line-height:1.54;word-wrap:break-word;word-break:break-all}.c-container .t,.c-default .t{line-height:1.54}.c-default .t{margin-bottom:0}.cr-content{width:259px;font-size:13px;line-height:1.54;color:#333;word-wrap:break-word;word-break:normal}.cr-content table{border-collapse:collapse;border-spacing:0}.cr-content td{font-size:13px;line-height:1.54;vertical-align:top}.cr-offset{padding-left:17px}.cr-title{font-size:14px;line-height:1.29;font-weight:700}.cr-title-sub{float:right;font-size:13px;font-weight:400}.c-row{*zoom:1}.c-row:after{display:block;height:0;content:\\\"\\\";clear:both;visibility:hidden}.c-span2{width:29px}.c-span3{width:52px}.c-span4{width:75px}.c-span5{width:98px}.c-span6{width:121px}.c-span7{width:144px}.c-span8{width:167px}.c-span9{width:190px}.c-span10{width:213px}.c-span11{width:236px}.c-span12{width:259px}.c-span13{width:282px}.c-span14{width:305px}.c-span15{width:328px}.c-span16{width:351px}.c-span17{width:374px}.c-span18{width:397px}.c-span19{width:420px}.c-span20{width:443px}.c-span21{width:466px}.c-span22{width:489px}.c-span23{width:512px}.c-span24{width:535px}.c-span2,.c-span3,.c-span4,.c-span5,.c-span6,.c-span7,.c-span8,.c-span9,.c-span10,.c-span11,.c-span12,.c-span13,.c-span14,.c-span15,.c-span16,.c-span17,.c-span18,.c-span19,.c-span20,.c-span21,.c-span22,.c-span23,.c-span24{float:left;_display:inline;margin-right:17px;list-style:none}.c-span-last{margin-right:0}.c-span-last-s{margin-right:0}.container_l .cr-content{width:351px}.container_l .cr-content .c-span-last-s{margin-right:17px}.container_l .cr-content-narrow{width:259px}.container_l .cr-content-narrow .c-span-last-s{margin-right:0}.c-border{width:518px;padding:9px;border:1px solid #e3e3e3;border-bottom-color:#e0e0e0;border-right-color:#ececec;box-shadow:1px 2px 1px rgba(0,0,0,.072);-webkit-box-shadow:1px 2px 1px rgba(0,0,0,.072);-moz-box-shadow:1px 2px 1px rgba(0,0,0,.072);-o-box-shadow:1px 2px 1px rgba(0,0,0,.072)}.c-border .c-gap-left{margin-left:10px}.c-border .c-gap-left-small{margin-left:5px}.c-border .c-gap-right{margin-right:10px}.c-border .c-gap-right-small{margin-right:5px}.c-border .c-border{width:auto;padding:0;border:0;box-shadow:none;-webkit-box-shadow:none;-moz-box-shadow:none;-o-box-shadow:none}.c-border .c-span2{width:34px}.c-border .c-span3{width:56px}.c-border .c-span4{width:78px}.c-border .c-span5{width:100px}.c-border .c-span6{width:122px}.c-border .c-span7{width:144px}.c-border .c-span8{width:166px}.c-border .c-span9{width:188px}.c-border .c-span10{width:210px}.c-border .c-span11{width:232px}.c-border .c-span12{width:254px}.c-border .c-span13{width:276px}.c-border .c-span14{width:298px}.c-border .c-span15{width:320px}.c-border .c-span16{width:342px}.c-border .c-span17{width:364px}.c-border .c-span18{width:386px}.c-border .c-span19{width:408px}.c-border .c-span20{width:430px}.c-border .c-span21{width:452px}.c-border .c-span22{width:474px}.c-border .c-span23{width:496px}.c-border .c-span24{width:518px}.c-border .c-span2,.c-border .c-span3,.c-border .c-span4,.c-border .c-span5,.c-border .c-span6,.c-border .c-span7,.c-border .c-span8,.c-border .c-span9,.c-border .c-span10,.c-border .c-span11,.c-border .c-span12,.c-border .c-span13,.c-border .c-span14,.c-border .c-span15,.c-border .c-span16,.c-border .c-span17,.c-border .c-span18,.c-border .c-span19,.c-border .c-span20,.c-border .c-span21,.c-border .c-span22,.c-border .c-span23,.c-border .c-span24{margin-right:10px}.c-border .c-span-last{margin-right:0}.c-loading{display:block;width:50px;height:50px;background:url(\\/\\/www.baidu.com\\/aladdin\\/img\\/tools\\/loading.gif) no-repeat 0 0}.c-vline{display:inline-block;margin:0 3px;border-left:1px solid #ddd;width:0;height:12px;_vertical-align:middle;_overflow:hidden}.c-icon{background:url(https:\\/\\/ss1.bdstatic.com\\/5eN1bjq8AAUYm2zgoY3K\\/r\\/www\\/cache\\/static\\/protocol\\/https\\/global\\/img\\/icons_5859e57.png) no-repeat 0 0;_background-image:url(https:\\/\\/ss1.bdstatic.com\\/5eN1bjq8AAUYm2zgoY3K\\/r\\/www\\/cache\\/static\\/protocol\\/https\\/global\\/img\\/icons_d5b04cc.gif)}.c-icon{display:inline-block;width:14px;height:14px;vertical-align:text-bottom;font-style:normal;overflow:hidden}.c-icon-unfold,.c-icon-fold,.c-icon-chevron-unfold,.c-icon-chevron-fold{width:12px;height:12px}.c-icon-star,.c-icon-star-gray{width:60px}.c-icon-qa-empty,.c-icon-safeguard,.c-icon-register-empty,.c-icon-zan,.c-icon-music,.c-icon-music-gray,.c-icon-location,.c-icon-warning,.c-icon-doc,.c-icon-xls,.c-icon-ppt,.c-icon-pdf,.c-icon-txt,.c-icon-play-black,.c-icon-gift,.c-icon-baidu-share,.c-icon-bear,.c-icon-bear-border,.c-icon-location-blue,.c-icon-hotAirBall,.c-icon-moon,.c-icon-streetMap,.c-icon-mv,.c-icon-zhidao-s,.c-icon-shopping{width:16px;height:16px}.c-icon-bear-circle,.c-icon-warning-circle,.c-icon-warning-triangle,.c-icon-warning-circle-gray{width:18px;height:18px}.c-icon-tieba,.c-icon-zhidao,.c-icon-bear-p,.c-icon-bear-pn{width:24px;height:24px}.c-icon-ball-blue,.c-icon-ball-red{width:38px;height:38px}.c-icon-unfold:hover,.c-icon-fold:hover,.c-icon-chevron-unfold:hover,.c-icon-chevron-fold:hover,.c-icon-download:hover,.c-icon-lyric:hover,.c-icon-v:hover,.c-icon-hui:hover,.c-icon-bao:hover,.c-icon-person:hover,.c-icon-high-v:hover,.c-icon-phone:hover,.c-icon-nuo:hover,.c-icon-fan:hover,.c-icon-med:hover,.c-icon-air:hover,.c-icon-share2:hover,.c-icon-v1:hover,.c-icon-v2:hover,.c-icon-write:hover,.c-icon-R:hover{border-color:#388bff}.c-icon-unfold:active,.c-icon-fold:active,.c-icon-chevron-unfold:active,.c-icon-chevron-fold:active,.c-icon-download:active,.c-icon-lyric:active,.c-icon-v:active,.c-icon-hui:active,.c-icon-bao:active,.c-icon-person:active,.c-icon-high-v:active,.c-icon-phone:active,.c-icon-nuo:active,.c-icon-fan:active,.c-icon-med:active,.c-icon-air:active,.c-icon-share2:active,.c-icon-v1:active,.c-icon-v2:active,.c-icon-write:active,.c-icon-R:active{border-color:#a2a6ab;background-color:#f0f0f0;box-shadow:inset 1px 1px 1px #c7c7c7;-webkit-box-shadow:inset 1px 1px 1px #c7c7c7;-moz-box-shadow:inset 1px 1px 1px #c7c7c7;-o-box-shadow:inset 1px 1px 1px #c7c7c7}.c-icon-v3:hover{border-color:#ffb300}.c-icon-v3:active{border-color:#a2a6ab;background-color:#f0f0f0;box-shadow:inset 1px 1px 1px #c7c7c7;-webkit-box-shadow:inset 1px 1px 1px #c7c7c7;-moz-box-shadow:inset 1px 1px 1px #c7c7c7;-o-box-shadow:inset 1px 1px 1px #c7c7c7}.c-icon-unfold,.c-icon-fold,.c-icon-chevron-unfold,.c-icon-chevron-fold,.c-icon-download,.c-icon-lyric{border:1px solid #d8d8d8;cursor:pointer}.c-icon-v,.c-icon-hui,.c-icon-bao,.c-icon-person,.c-icon-high-v,.c-icon-phone,.c-icon-nuo,.c-icon-fan,.c-icon-med,.c-icon-air,.c-icon-share2,.c-icon-v1,.c-icon-v2,.c-icon-v3,.c-icon-write,.c-icon-R{border:1px solid #d8d8d8;cursor:pointer;border-color:transparent;_border-color:tomato;_filter:chroma(color=#ff6347)}.c-icon-v1,.c-icon-v2,.c-icon-v3,.c-icon-v1-noborder,.c-icon-v2-noborder,.c-icon-v3-noborder,.c-icon-v1-noborder-disable,.c-icon-v2-noborder-disable,.c-icon-v3-noborder-disable{width:19px}.c-icon-download,.c-icon-lyric{width:16px;height:16px}.c-icon-play-circle,.c-icon-stop-circle{width:18px;height:18px}.c-icon-play-circle-middle,.c-icon-stop-circle-middle{width:24px;height:24px}.c-icon-play-black-large,.c-icon-stop-black-large{width:36px;height:36px}.c-icon-play-black-larger,.c-icon-stop-black-larger{width:52px;height:52px}.c-icon-flag{background-position:0 -144px}.c-icon-bus{background-position:-24px -144px}.c-icon-calendar{background-position:-48px -144px}.c-icon-street{background-position:-72px -144px}.c-icon-map{background-position:-96px -144px}.c-icon-bag{background-position:-120px -144px}.c-icon-money{background-position:-144px -144px}.c-icon-game{background-position:-168px -144px}.c-icon-user{background-position:-192px -144px}.c-icon-globe{background-position:-216px -144px}.c-icon-lock{background-position:-240px -144px}.c-icon-plane{background-position:-264px -144px}.c-icon-list{background-position:-288px -144px}.c-icon-star-gray{background-position:-312px -144px}.c-icon-circle-gray{background-position:-384px -144px}.c-icon-triangle-down{background-position:-408px -144px}.c-icon-triangle-up{background-position:-432px -144px}.c-icon-triangle-up-empty{background-position:-456px -144px}.c-icon-sort-gray{background-position:-480px -144px}.c-icon-sort-up{background-position:-504px -144px}.c-icon-sort-down{background-position:-528px -144px}.c-icon-down-gray{background-position:-552px -144px}.c-icon-up-gray{background-position:-576px -144px}.c-icon-download-noborder{background-position:-600px -144px}.c-icon-lyric-noborder{background-position:-624px -144px}.c-icon-download-white{background-position:-648px -144px}.c-icon-close{background-position:-672px -144px}.c-icon-fail{background-position:-696px -144px}.c-icon-success{background-position:-720px -144px}.c-icon-triangle-down-g{background-position:-744px -144px}.c-icon-refresh{background-position:-768px -144px}.c-icon-chevron-left-gray{background-position:-816px -144px}.c-icon-chevron-right-gray{background-position:-840px -144px}.c-icon-setting{background-position:-864px -144px}.c-icon-close2{background-position:-888px -144px}.c-icon-chevron-top-gray-s{background-position:-912px -144px}.c-icon-fullscreen{background-position:0 -168px}.c-icon-safe{background-position:-24px -168px}.c-icon-exchange{background-position:-48px -168px}.c-icon-chevron-bottom{background-position:-72px -168px}.c-icon-chevron-top{background-position:-96px -168px}.c-icon-unfold{background-position:-120px -168px}.c-icon-fold{background-position:-144px -168px}.c-icon-chevron-unfold{background-position:-168px -168px}.c-icon-qa{background-position:-192px -168px}.c-icon-register{background-position:-216px -168px}.c-icon-star{background-position:-240px -168px}.c-icon-star-gray{position:relative}.c-icon-star-gray .c-icon-star{position:absolute;top:0;left:0}.c-icon-play-blue{background-position:-312px -168px}.c-icon-pic{width:16px;background-position:-336px -168px}.c-icon-chevron-fold{background-position:-360px -168px}.c-icon-video{width:18px;background-position:-384px -168px}.c-icon-circle-blue{background-position:-408px -168px}.c-icon-circle-yellow{background-position:-432px -168px}.c-icon-play-white{background-position:-456px -168px}.c-icon-triangle-down-blue{background-position:-480px -168px}.c-icon-chevron-unfold2{background-position:-504px -168px}.c-icon-right{background-position:-528px -168px}.c-icon-right-empty{background-position:-552px -168px}.c-icon-new-corner{width:15px;background-position:-576px -168px}.c-icon-horn{background-position:-600px -168px}.c-icon-right-large{width:18px;background-position:-624px -168px}.c-icon-wrong-large{background-position:-648px -168px}.c-icon-circle-blue-s{background-position:-672px -168px}.c-icon-play-gray{background-position:-696px -168px}.c-icon-up{background-position:-720px -168px}.c-icon-down{background-position:-744px -168px}.c-icon-stable{background-position:-768px -168px}.c-icon-calendar-blue{background-position:-792px -168px}.c-icon-triangle-down-blue2{background-position:-816px -168px}.c-icon-triangle-up-blue2{background-position:-840px -168px}.c-icon-down-blue{background-position:-864px -168px}.c-icon-up-blue{background-position:-888px -168px}.c-icon-ting{background-position:-912px -168px}.c-icon-piao{background-position:-936px -168px}.c-icon-wrong-empty{background-position:-960px -168px}.c-icon-warning-circle-s{background-position:-984px -168px}.c-icon-chevron-left{background-position:-1008px -168px}.c-icon-chevron-right{background-position:-1032px -168px}.c-icon-circle-gray-s{background-position:-1056px -168px}.c-icon-v,.c-icon-v-noborder{background-position:0 -192px}.c-icon-hui{background-position:-24px -192px}.c-icon-bao{background-position:-48px -192px}.c-icon-phone{background-position:-72px -192px}.c-icon-qa-empty{background-position:-96px -192px}.c-icon-safeguard{background-position:-120px -192px}.c-icon-register-empty{background-position:-144px -192px}.c-icon-zan{background-position:-168px -192px}.c-icon-music{background-position:-192px -192px}.c-icon-music-gray{background-position:-216px -192px}.c-icon-location{background-position:-240px -192px}.c-icon-warning{background-position:-264px -192px}.c-icon-doc{background-position:-288px -192px}.c-icon-xls{background-position:-312px -192px}.c-icon-ppt{background-position:-336px -192px}.c-icon-pdf{background-position:-360px -192px}.c-icon-txt{background-position:-384px -192px}.c-icon-play-black{background-position:-408px -192px}.c-icon-play-black:hover{background-position:-432px -192px}.c-icon-gift{background-position:-456px -192px}.c-icon-baidu-share{background-position:-480px -192px}.c-icon-bear{background-position:-504px -192px}.c-icon-R{background-position:-528px -192px}.c-icon-bear-border{background-position:-576px -192px}.c-icon-person,.c-icon-person-noborder{background-position:-600px -192px}.c-icon-location-blue{background-position:-624px -192px}.c-icon-hotAirBall{background-position:-648px -192px}.c-icon-moon{background-position:-672px -192px}.c-icon-streetMap{background-position:-696px -192px}.c-icon-high-v,.c-icon-high-v-noborder{background-position:-720px -192px}.c-icon-nuo{background-position:-744px -192px}.c-icon-mv{background-position:-768px -192px}.c-icon-fan{background-position:-792px -192px}.c-icon-med{background-position:-816px -192px}.c-icon-air{background-position:-840px -192px}.c-icon-share2{background-position:-864px -192px}.c-icon-v1,.c-icon-v1-noborder{background-position:-888px -192px}.c-icon-v2,.c-icon-v2-noborder{background-position:-912px -192px}.c-icon-v3,.c-icon-v3-noborder{background-position:-936px -192px}.c-icon-v1-noborder-disable{background-position:-960px -192px}.c-icon-v2-noborder-disable{background-position:-984px -192px}.c-icon-v3-noborder-disable{background-position:-1008px -192px}.c-icon-write{background-position:-1032px -192px}.c-icon-zhidao-s{background-position:-1056px -192px}.c-icon-shopping{background-position:-1080px -192px}.c-icon-bear-circle{background-position:0 -216px}.c-icon-warning-circle{background-position:-24px -216px}.c-icon-warning-triangle{width:24px;background-position:-48px -216px}.c-icon-warning-circle-gray{background-position:-72px -216px}.c-icon-ball-red{background-position:0 -240px}.c-icon-ball-blue{background-position:-48px -240px}.c-icon-tieba{background-position:0 -288px}.c-icon-zhidao{background-position:-48px -288px}.c-icon-bear-p{background-position:-96px -288px}.c-icon-bear-pn{background-position:-144px -288px}.c-icon-download{background-position:0 -336px}.c-icon-lyric{background-position:-24px -336px}.c-icon-play-circle{background-position:-48px -336px}.c-icon-play-circle:hover{background-position:-72px -336px}.c-icon-stop-circle{background-position:-96px -336px}.c-icon-stop-circle:hover{background-position:-120px -336px}.c-icon-play-circle-middle{background-position:0 -360px}.c-icon-play-circle-middle:hover{background-position:-48px -360px}.c-icon-stop-circle-middle{background-position:-96px -360px}.c-icon-stop-circle-middle:hover{background-position:-144px -360px}.c-icon-play-black-large{background-position:0 -408px}.c-icon-play-black-large:hover{background-position:-48px -408px}.c-icon-stop-black-large{background-position:-96px -408px}.c-icon-stop-black-large:hover{background-position:-144px -408px}.c-icon-play-black-larger{background-position:0 -456px}.c-icon-play-black-larger:hover{background-position:-72px -456px}.c-icon-stop-black-larger{background-position:-144px -456px}.c-icon-stop-black-larger:hover{background-position:-216px -456px}.c-recommend{font-size:0;padding:5px 0;border:1px solid #f3f3f3;border-left:0;border-right:0}.c-recommend .c-icon{margin-bottom:-4px}.c-recommend .c-gray,.c-recommend a{font-size:13px}.c-recommend-notopline{padding-top:0;border-top:0}.c-recommend-vline{display:inline-block;margin:0 10px -2px;border-left:1px solid #d8d8d8;width:0;height:12px;_vertical-align:middle;_overflow:hidden}.c-text{display:inline-block;padding:2px;text-align:center;vertical-align:text-bottom;font-size:12px;line-height:100%;font-style:normal;font-weight:400;color:#fff;overflow:hidden}a.c-text{text-decoration:none}.c-text-new{background-color:#f13f40}.c-text-info{padding-left:0;padding-right:0;font-weight:700;color:#2b99ff;*vertical-align:baseline;_position:relative;_top:2px}.c-text-info b{_position:relative;_top:-1px}.c-text-info span{padding:0 2px;font-weight:400}.c-text-important{background-color:#1cb7fd}.c-text-public{background-color:#2b99ff}.c-text-warning{background-color:#ff830f}.c-text-prompt{background-color:#f5c537}.c-text-danger{background-color:#f13f40}.c-text-safe{background-color:#52c277}.c-text-empty{padding-top:1px;padding-bottom:1px;border:1px solid #d8d8d8;cursor:pointer;color:#23b9fd;background-color:#fff}.c-text-empty:hover{border-color:#388bff}.c-text-empty:active{border-color:#a2a6ab;background-color:#f0f0f0;box-shadow:inset 1px 1px 1px #c7c7c7;-webkit-box-shadow:inset 1px 1px 1px #c7c7c7;-moz-box-shadow:inset 1px 1px 1px #c7c7c7;-o-box-shadow:inset 1px 1px 1px #c7c7c7}.c-text-mult{padding-left:5px;padding-right:5px}.c-text-gray{background-color:#666}.c-btn,.c-btn:visited{color:#333!important}.c-btn{display:inline-block;padding:0 14px;margin:0;height:24px;line-height:25px;font-size:13px;filter:chroma(color=#000000);*zoom:1;border:1px solid #d8d8d8;cursor:pointer;font-family:inherit;font-weight:400;text-align:center;vertical-align:middle;background-color:#f9f9f9;overflow:hidden;outline:0}.c-btn:hover{border-color:#388bff}.c-btn:active{border-color:#a2a6ab;background-color:#f0f0f0;box-shadow:inset 1px 1px 1px #c7c7c7;-webkit-box-shadow:inset 1px 1px 1px #c7c7c7;-moz-box-shadow:inset 1px 1px 1px #c7c7c7;-o-box-shadow:inset 1px 1px 1px #c7c7c7}a.c-btn{text-decoration:none}button.c-btn{height:26px;_line-height:18px;*overflow:visible}button.c-btn::-moz-focus-inner{padding:0;border:0}.c-btn .c-icon{margin-top:5px}.c-btn-disable{color:#999!important}.c-btn-disable:visited{color:#999!important}.c-btn-disable:hover{border:1px solid #d8d8d8;cursor:default}.c-btn-disable:active{border-color:#d8d8d8;background-color:#f9f9f9;box-shadow:none;-webkit-box-shadow:none;-moz-box-shadow:none;-o-box-shadow:none}.c-btn-mini{padding-left:5px;padding-right:5px;height:18px;line-height:18px;font-size:12px}button.c-btn-mini{height:20px;_height:18px;_line-height:14px}.c-btn-mini .c-icon{margin-top:2px}.c-btn-large{height:28px;line-height:28px;font-size:14px;font-family:\\\"\\u5fae\\u8f6f\\u96c5\\u9ed1\\\",\\\"\\u9ed1\\u4f53\\\"}button.c-btn-large{height:30px;_line-height:24px}.c-btn-large .c-icon{margin-top:7px;_margin-top:6px}.c-btn-primary,.c-btn-primary:visited{color:#fff!important}.c-btn-primary{background-color:#388bff;border-color:#3c8dff #408ffe #3680e6}.c-btn-primary:hover{border-color:#2678ec #2575e7 #1c6fe2 #2677e7;background-color:#388bff;background-image:url(data:image\\/png;base64,iVBORw0KGgoAAAANSUhEUgAAAAEAAAACCAMAAACuX0YVAAAABlBMVEVnpv85i\\/9PO5r4AAAAD0lEQVR42gEEAPv\\/AAAAAQAFAAIros7PAAAAAElFTkSuQmCC);*background-image:none;background-repeat:repeat-x;box-shadow:1px 1px 1px rgba(0,0,0,.4);-webkit-box-shadow:1px 1px 1px rgba(0,0,0,.4);-moz-box-shadow:1px 1px 1px rgba(0,0,0,.4);-o-box-shadow:1px 1px 1px rgba(0,0,0,.4)}.c-btn-primary:active{border-color:#178ee3 #1784d0 #177bbf #1780ca;background-color:#388bff;background-image:none;box-shadow:inset 1px 1px 1px rgba(0,0,0,.15);-webkit-box-shadow:inset 1px 1px 1px rgba(0,0,0,.15);-moz-box-shadow:inset 1px 1px 1px rgba(0,0,0,.15);-o-box-shadow:inset 1px 1px 1px rgba(0,0,0,.15)}.c-btn .c-icon{float:left}.c-dropdown2{position:relative;display:inline-block;width:100%;height:26px;line-height:26px;font-size:13px;vertical-align:middle;outline:0;_font-family:SimSun;background-color:#fff;word-wrap:normal;word-break:normal}.c-dropdown2 .c-dropdown2-btn-group{position:relative;height:24px;border:1px solid #999;border-bottom-color:#d8d8d8;border-right-color:#d8d8d8;-moz-user-select:none;-webkit-user-select:none;user-select:none}.c-dropdown2:hover .c-dropdown2-btn-group,.c-dropdown2-hover .c-dropdown2-btn-group{box-shadow:inset 1px 1px 0 0 #d8d8d8;-webkit-box-shadow:inset 1px 1px 0 0 #d8d8d8;-moz-box-shadow:inset 1px 1px 0 0 #d8d8d8;-o-box-shadow:inset 1px 1px 0 0 #d8d8d8}.c-dropdown2:hover .c-dropdown2-btn-icon,.c-dropdown2-hover .c-dropdown2-btn-icon{box-shadow:inset 0 1px 0 0 #d8d8d8;-webkit-box-shadow:inset 0 1px 0 0 #d8d8d8;-moz-box-shadow:inset 0 1px 0 0 #d8d8d8;-o-box-shadow:inset 0 1px 0 0 #d8d8d8}.c-dropdown2:hover .c-dropdown2-btn-icon-border,.c-dropdown2-hover .c-dropdown2-btn-icon-border{background-color:#f2f2f2}.c-dropdown2 .c-dropdown2-btn{height:24px;padding-left:10px;padding-right:10px;cursor:default;overflow:hidden;white-space:nowrap}.c-dropdown2 .c-dropdown2-btn-icon{position:absolute;top:0;right:0;width:23px;height:24px;line-height:24px;background-color:#fff;padding:0 1px 0 10px}.c-dropdown2 .c-dropdown2-btn-icon-border{height:24px;width:23px;border-left:1px solid #d9d9d9;text-align:center;zoom:1}.c-dropdown2 .c-icon-triangle-down{*margin-top:5px;_margin-left:2px}.c-dropdown2 .c-dropdown2-menu{position:absolute;left:0;top:100%;_margin-top:0;width:100%;overflow:hidden;border:1px solid #bbb;background:#fff;visibility:hidden}.c-dropdown2 .c-dropdown2-menu-inner{overflow:hidden}.c-dropdown2 .c-dropdown2-option{background-color:#fff;cursor:pointer}.c-dropdown2 .c-dropdown2-selected{background-color:#f5f5f5}.c-dropdown2-common ul,.c-dropdown2-common li{margin:0;padding:0;list-style:none}.c-dropdown2-common .c-dropdown2-option{height:26px;line-height:26px;font-size:12px;color:#333;white-space:nowrap;cursor:pointer;padding-left:10px}.c-dropdown2-common .c-dropdown2-selected{background-color:#f5f5f5}.c-dropdown2-common .c-dropdown2-menu-group .c-dropdown2-group{padding-left:10px;font-weight:700;cursor:default}.c-dropdown2-common .c-dropdown2-menu-group .c-dropdown2-option{padding-left:20px}.c-img{display:block;min-height:1px;border:0 0}.c-img3{width:52px}.c-img4{width:75px}.c-img6{width:121px}.c-img7{width:144px}.c-img12{width:259px}.c-img15{width:328px}.c-img18{width:397px}.c-border .c-img3{width:56px}.c-border .c-img4{width:78px}.c-border .c-img7{width:144px}.c-border .c-img12{width:254px}.c-border .c-img15{width:320px}.c-border .c-img18{width:386px}.c-index{display:inline-block;padding:1px 0;color:#fff;width:14px;line-height:100%;font-size:12px;text-align:center;background-color:#8eb9f5}.c-index-hot,.c-index-hot1{background-color:#f54545}.c-index-hot2{background-color:#ff8547}.c-index-hot3{background-color:#ffac38}.c-input{display:inline-block;padding:0 4px;height:24px;line-height:24px\\\\9;font-size:13px;border:1px solid #999;border-bottom-color:#d8d8d8;border-right-color:#d8d8d8;outline:0;box-sizing:content-box;-webkit-box-sizing:content-box;-moz-box-sizing:content-box;vertical-align:top;overflow:hidden}.c-input:hover{box-shadow:inset 1px 1px 1px 0 #d8d8d8;-webkit-box-shadow:inset 1px 1px 1px 0 #d8d8d8;-moz-box-shadow:inset 1px 1px 1px 0 #d8d8d8;-o-box-shadow:inset 1px 1px 1px 0 #d8d8d8}.c-input .c-icon{float:right;margin-top:6px}.c-input .c-icon-left{float:left;margin-right:4px}.c-input input{float:left;height:22px;*padding-top:4px;margin-top:2px;font-size:13px;border:0;outline:0}.c-input{width:180px}.c-input input{width:162px}.c-input-xmini{width:65px}.c-input-xmini input{width:47px}.c-input-mini{width:88px}.c-input-mini input{width:70px}.c-input-small{width:157px}.c-input-small input{width:139px}.c-input-large{width:203px}.c-input-large input{width:185px}.c-input-xlarge{width:341px}.c-input-xlarge input{width:323px}.c-input12{width:249px}.c-input12 input{width:231px}.c-input20{width:433px}.c-input20 input{width:415px}.c-border .c-input{width:178px}.c-border .c-input input{width:160px}.c-border .c-input-xmini{width:68px}.c-border .c-input-xmini input{width:50px}.c-border .c-input-mini{width:90px}.c-border .c-input-mini input{width:72px}.c-border .c-input-small{width:156px}.c-border .c-input-small input{width:138px}.c-border .c-input-large{width:200px}.c-border .c-input-large input{width:182px}.c-border .c-input-xlarge{width:332px}.c-border .c-input-xlarge input{width:314px}.c-border .c-input12{width:244px}.c-border .c-input12 input{width:226px}.c-border .c-input20{width:420px}.c-border .c-input20 input{width:402px}.c-numberset{*zoom:1}.c-numberset:after{display:block;height:0;content:\\\"\\\";clear:both;visibility:hidden}.c-numberset li{float:left;margin-right:17px;list-style:none}.c-numberset .c-numberset-last{margin-right:0}.c-numberset a{display:block;width:50px;text-decoration:none;text-align:center;border:1px solid #d8d8d8;cursor:pointer}.c-numberset a:hover{border-color:#388bff}.c-border .c-numberset li{margin-right:10px}.c-border .c-numberset .c-numberset-last{margin-right:0}.c-border .c-numberset a{width:54px}.c-table{width:100%;border-collapse:collapse;border-spacing:0}.c-table th,.c-table td{padding-left:10px;line-height:1.54;font-size:13px;border-bottom:1px solid #f3f3f3;text-align:left}.cr-content .c-table th:first-child,.cr-content .c-table td:first-child{padding-left:0}.c-table th{padding-top:4px;padding-bottom:4px;font-weight:400;color:#666;border-color:#f0f0f0;white-space:nowrap;background-color:#fafafa}.c-table td{padding-top:6.5px;padding-bottom:6.5px}.c-table-hasimg td{padding-top:10px;padding-bottom:10px}.c-table a,.c-table em{text-decoration:none}.c-table a:hover,.c-table a:hover em{text-decoration:underline}.c-table a.c-icon:hover{text-decoration:none}.c-table .c-btn:hover,.c-table .c-btn:hover em{text-decoration:none}.c-table-nohihead th{background-color:transparent}.c-table-noborder td{border-bottom:0}.c-tabs-nav-movetop{margin:-10px -9px 0 -10px;position:relative}.c-tabs-nav{border-bottom:1px solid #d9d9d9;background-color:#fafafa;line-height:1.54;font-size:0;*zoom:1;_overflow-x:hidden;_position:relative}.c-tabs-nav:after{display:block;height:0;content:\\\"\\\";clear:both;visibility:hidden}.c-tabs-nav .c-tabs-nav-btn{float:right;_position:absolute;_top:0;_right:0;_z-index:1;background:#fafafa}.c-tabs-nav .c-tabs-nav-btn .c-tabs-nav-btn-prev,.c-tabs-nav .c-tabs-nav-btn .c-tabs-nav-btn-next{float:left;padding:6px 2px;cursor:pointer}.c-tabs-nav .c-tabs-nav-btn .c-tabs-nav-btn-disable{cursor:default}.c-tabs-nav .c-tabs-nav-view{_position:relative;overflow:hidden;*zoom:1;margin-bottom:-1px}.c-tabs-nav .c-tabs-nav-view .c-tabs-nav-li{margin-bottom:0}.c-tabs-nav .c-tabs-nav-more{float:left;white-space:nowrap}.c-tabs-nav li,.c-tabs-nav a{color:#666;font-size:13px;*zoom:1}.c-tabs-nav li{display:inline-block;margin-bottom:-1px;*display:inline;padding:3px 15px;vertical-align:bottom;border-style:solid;border-width:2px 1px 0;border-color:transparent;_border-color:tomato;_filter:chroma(color=#ff6347);list-style:none;cursor:pointer;white-space:nowrap;overflow:hidden}.c-tabs-nav a{text-decoration:none}.c-tabs-nav .c-tabs-nav-sep{height:16px;width:0;padding:0;margin-bottom:4px;border-style:solid;border-width:0 1px;border-color:transparent #fff transparent #dedede}.c-tabs-nav .c-tabs-nav-selected{_position:relative;border-color:#2c99ff #e4e4e4 #fff #dedede;background-color:#fff;color:#000;cursor:default}.c-tabs-nav-one .c-tabs-nav-selected{border-color:transparent;_border-color:tomato;_filter:chroma(color=#ff6347);background-color:transparent;color:#666}.c-tabs .c-tabs .c-tabs-nav{padding:10px 0 5px;border:0 0;background-color:#fff}.c-tabs .c-tabs .c-tabs-nav li,.c-tabs .c-tabs .c-tabs-nav a{color:#00c}.c-tabs .c-tabs .c-tabs-nav li{padding:0 5px;position:static;margin:0 10px;border:0 0;cursor:pointer;white-space:nowrap}.c-tabs .c-tabs .c-tabs-nav .c-tabs-nav-sep{height:11px;width:0;padding:0;margin:0 0 4px;border:0 0;border-left:1px solid #d8d8d8}.c-tabs .c-tabs .c-tabs-nav .c-tabs-nav-selected{background-color:#2c99ff;color:#fff;cursor:default}.c-tag{padding-top:3px;margin-bottom:3px;height:1.7em;font-size:13px;line-height:1.4em;transition:height .3s ease-in;-webkit-transition:height .3s ease-in;-moz-transition:height .3s ease-in;-ms-transition:height .3s ease-in;-o-transition:height .3s ease-in;*zoom:1;overflow:hidden}.c-tag:after{display:block;height:0;content:\\\"\\\";clear:both;visibility:hidden}.c-tag-cont{overflow:hidden;*zoom:1}.c-tag-type,.c-tag-li,.c-tag-more,.c-tag-cont span{margin:2px 0}.c-tag-type,.c-tag-li,.c-tag-cont span{float:left}.c-tag-type,.c-tag-more{color:#666}.c-tag-li,.c-tag-cont span{padding:0 4px;display:inline-block;margin-right:12px;white-space:nowrap;cursor:pointer;color:#00c}.c-tag .c-tag-selected{background:#388bff;color:#fff}.c-tag-more{float:right;background:#fff;cursor:pointer;*height:18px}.c-tool{display:inline-block;width:56px;height:56px;background:url(\\/\\/www.baidu.com\\/aladdin\\/img\\/tools\\/tools-5.png) no-repeat}.c-tool-region{background-position:0 0}.c-tool-calendar{background-position:-72px 0}.c-tool-city{background-position:-144px 0}.c-tool-phone-pos{background-position:-216px 0}.c-tool-other{background-position:-288px 0}.c-tool-midnight{background-position:-360px 0}.c-tool-kefu{width:121px;background-position:-432px 0}.c-tool-phone{background-position:-576px 0}.c-tool-car{background-position:-648px 0}.c-tool-station{background-position:0 -72px}.c-tool-cheat{background-position:-72px -72px}.c-tool-counter{background-position:-144px -72px}.c-tool-time{background-position:-216px -72px}.c-tool-zip{background-position:-288px -72px}.c-tool-warning{background-position:-360px -72px}.c-tool-ip{background-position:0 -144px}.c-tool-unit{background-position:-72px -144px}.c-tool-rate{background-position:-144px -144px}.c-tool-conversion{background-position:-288px -144px}.c-tool-ads{background-position:-360px -144px}.soutu-input{padding-left:55px!important}.soutu-input-image{position:absolute;left:1px;top:1px;height:28px;width:49px;z-index:1;padding:0;background:#e6e6e6;border:1px solid #e6e6e6}.soutu-input-thumb{height:28px;width:28px;min-width:1px}.soutu-input-close{position:absolute;right:0;top:0;cursor:pointer;display:block;width:22px;height:28px}.soutu-input-close::after{content:\\\" \\\";position:absolute;right:3px;top:50%;cursor:pointer;margin-top:-7px;display:block;width:14px;height:14px;background:url(https:\\/\\/ss1.bdstatic.com\\/5eN1bjq8AAUYm2zgoY3K\\/r\\/www\\/cache\\/static\\/protocol\\/https\\/soutu\\/img\\/soutu_icons_new_8abaf8a.png) no-repeat -163px 0}.soutu-input-image:hover .soutu-input-close::after{background-position:-215px 2px}.fb-hint{margin-top:5px;transition-duration:.9s;opacity:0;display:none;color:red}.fb-img{display:none}.fb-hint-tip{height:44px;line-height:24px;background-color:#38f;color:#fff;box-sizing:border-box;width:269px;font-size:16px;padding:10px;padding-left:14px;position:absolute;top:-65px;right:-15px;border-radius:3px;z-index:299}.fb-hint-tip::before{content:\\\"\\\";width:0;height:0;display:block;position:absolute;border-left:8px solid transparent;border-right:8px solid transparent;border-top:8px solid #38f;bottom:-8px;right:25px}.fb-mask,.fb-mask-light{position:fixed;top:0;left:0;bottom:0;right:0;z-index:296;background-color:#000;filter:alpha(opacity=60);background-color:rgba(0,0,0,.6)}.fb-mask-light{background-color:#fff;filter:alpha(opacity=0);background-color:rgba(255,255,255,0)}.fb-success .fb-success-text{text-align:center;color:#333;font-size:13px;margin-bottom:14px}.fb-success-text.fb-success-text-title{color:#3b6;font-size:16px;margin-bottom:16px}.fb-success-text-title i{width:16px;height:16px;margin-right:5px}.fb-list-container{box-sizing:border-box;padding:4px 8px;position:absolute;top:0;left:0;bottom:0;right:0;z-index:298;display:block;width:100%;cursor:pointer;margin-top:-5px;margin-left:-5px}.fb-list-container-hover{background-color:#fff;border:2px #38f solid}.fb-list-container-first{box-sizing:border-box;padding-left:10px;padding-top:5px;position:absolute;top:0;left:0;bottom:0;right:0;z-index:297;display:block;width:100%;cursor:pointer;margin-top:-5px;margin-left:-5px;border:3px #f5f5f5 dashed;border-radius:3px}.fb-des-content{font-size:13px!important;color:#000}.fb-des-content::-webkit-input-placeholder{font-size:13px!important;color:#9a9a9a}.fb-des-content:-moz-placeholder{font-size:13px!important;color:#9a9a9a}.fb-des-content::-moz-placeholder{font-size:13px!important;color:#9a9a9a}.fb-des-content:-ms-input-placeholder{font-size:13px!important;color:#9a9a9a}.fb-btn,.fb-btn:visited{color:#333!important}.fb-select{position:relative;background-color:#fff;border:1px solid #ccc}.fb-select i{position:absolute;right:2px;top:7px}.fb-type{width:350px;box-sizing:border-box;height:28px;font-size:13px;line-height:28px;border:0;word-break:normal;word-wrap:normal;position:relative;appearance:none;-moz-appearance:none;-webkit-appearance:none;display:inline-block;vertical-align:middle;line-height:normal;color:#333;background-color:transparent;border-radius:0;overflow:hidden;outline:0;padding-left:5px}.fb-type::-ms-expand{display:none}.fb-btn{display:inline-block;padding:0 14px;margin:0;height:24px;line-height:25px;font-size:13px;filter:chroma(color=#000000);*zoom:1;border:1px solid #d8d8d8;cursor:pointer;font-family:inherit;font-weight:400;text-align:center;vertical-align:middle;background-color:#f9f9f9;overflow:hidden;outline:0}.fb-btn:hover{border-color:#388bff}.fb-btn:active{border-color:#a2a6ab;background-color:#f0f0f0;box-shadow:inset 1px 1px 1px #c7c7c7;-webkit-box-shadow:inset 1px 1px 1px #c7c7c7;-moz-box-shadow:inset 1px 1px 1px #c7c7c7;-o-box-shadow:inset 1px 1px 1px #c7c7c7}a.fb-btn{text-decoration:none}button.fb-btn{height:26px;_line-height:18px;*overflow:visible}button.fb-btn::-moz-focus-inner{padding:0;border:0}.fb-btn .c-icon{margin-top:5px}.fb-btn-primary,.fb-btn-primary:visited{color:#fff!important}.fb-btn-primary{background-color:#388bff;_width:82px;border-color:#3c8dff #408ffe #3680e6}.fb-btn-primary:hover{border-color:#2678ec #2575e7 #1c6fe2 #2677e7;background-color:#388bff;background-image:url(data:image\\/png;base64,iVBORw0KGgoAAAANSUhEUgAAAAEAAAACCAMAAACuX0YVAAAABlBMVEVnpv85i\\/9PO5r4AAAAD0lEQVR42gEEAPv\\/AAAAAQAFAAIros7PAAAAAElFTkSuQmCC);background-repeat:repeat-x;box-shadow:1px 1px 1px rgba(0,0,0,.4);-webkit-box-shadow:1px 1px 1px rgba(0,0,0,.4);-moz-box-shadow:1px 1px 1px rgba(0,0,0,.4);-o-box-shadow:1px 1px 1px rgba(0,0,0,.4)}.fb-btn-primary:active{border-color:#178ee3 #1784d0 #177bbf #1780ca;background-color:#388bff;background-image:none;box-shadow:inset 1px 1px 1px rgba(0,0,0,.15);-webkit-box-shadow:inset 1px 1px 1px rgba(0,0,0,.15);-moz-box-shadow:inset 1px 1px 1px rgba(0,0,0,.15);-o-box-shadow:inset 1px 1px 1px rgba(0,0,0,.15)}.fb-feedback-right-dialog{position:fixed;z-index:299;bottom:0;right:0}.fb-feedback-list-dialog,.fb-feedback-list-dialog-left{position:absolute;z-index:299}.fb-feedback-list-dialog:before{content:\\\"\\\";width:0;height:0;display:block;position:absolute;top:15px;left:-6px;border-top:8px solid transparent;border-bottom:8px solid transparent;border-right:8px solid #fff}.fb-feedback-list-dialog-left:before{content:\\\"\\\";width:0;height:0;display:block;position:absolute;top:15px;right:-6px;border-top:8px solid transparent;border-bottom:8px solid transparent;border-left:8px solid #fff}.fb-header{padding-left:20px;padding-right:20px;margin-top:14px;text-align:left;-moz-user-select:none}.fb-header .fb-close{color:#e0e0e0}.fb-close{text-decoration:none;margin-top:2px;float:right;font-size:20px;font-weight:700;line-height:18px;color:#666;text-shadow:0 1px 0 #fff}.fb-photo-block{display:none}.fb-photo-block-title{font-size:13px;color:#333;padding-top:10px}.fb-photo-block-title-span{color:#999}.fb-photo-sub-block{margin-top:10px;margin-bottom:10px;width:60px;text-align:center}.fb-photo-sub-block-hide{display:none}.fb-photo-update-block{overflow:hidden}.fb-photo-update-item-block{width:100px;height:100px;background:red;border:solid 1px #ccc;margin-top:10px;float:left;margin-right:20px;position:relative;background:url(https:\\/\\/ss1.bdstatic.com\\/5eN1bjq8AAUYm2zgoY3K\\/r\\/www\\/cache\\/static\\/protocol\\/https\\/global\\/img\\/feedback_add_photo_69ff822.png);background-repeat:no-repeat;background-size:contain;background-position:center center;background-size:24px 24px}.fb-photo-block-title-ex{font-size:13px;float:right}.fb-photo-block-title-ex img{vertical-align:text-top;margin-right:4px}.fb-photo-block-title-span{margin-left:4px;color:#999}.fb-photo-update-item-show-img{width:100%;height:100%;display:none}.fb-photo-update-item-close{width:13px;height:13px;position:absolute;top:-6px;right:-6px;display:none}.fb-photo-block input{display:none}.fb-photo-update-hide{display:none}.fb-photo-update-item-block{width:60px;height:60px;border:solid 1px #ccc;float:left}.fb-photo-block-example{position:absolute;top:0;left:0;display:none;background-color:#fff;padding:14px;padding-top:0;width:392px}.fb-photo-block-example-header{padding-top:14px;overflow:hidden}.fb-photo-block-example-header p{float:left}.fb-photo-block-example-header img{float:right;width:13px;height:13px}.fb-photo-block-example-img img{margin:0 auto;margin-top:14px;display:block;width:200px}.fb-photo-block-example-title{text-align:center}.fb-photo-block-example-title-big{font-size:14px;color:#333}.fb-photo-block-example-title-small{font-size:13px;color:#666}.fb-header a.fb-close:hover{text-decoration:none}.fb-photo-block-upinfo{width:100%}.fb-header-tips{font-size:16px;margin:0;color:#333;text-rendering:optimizelegibility}.fb-body{margin-bottom:0;padding:20px;padding-top:10px;overflow:hidden;text-align:left}.fb-modal,.fb-success{background-color:#fff;cursor:default;top:100%;left:100%;width:390px;overflow:hidden;border:1px solid #999;*border:1px solid #ddd;font-size:13px;line-height:1.54}.fb-textarea textarea{width:350px;height:64px;padding:4px;margin:10px 0;vertical-align:top;resize:none;overflow:auto;box-sizing:border-box;display:inline-block;border:1px solid #ccc;-webkit-border-radius:0;-moz-border-radius:0;border-radius:0;-webkit-box-shadow:inset 0 1px 1px rgba(0,0,0,.075);-moz-box-shadow:inset 0 1px 1px rgba(0,0,0,.075);box-shadow:inset 0 1px 1px rgba(0,0,0,.075);-webkit-transition:border linear .2s,box-shadow linear .2s;-moz-transition:border linear .2s,box-shadow linear .2s;-ms-transition:border linear .2s,box-shadow linear .2s;-o-transition:border linear .2s,box-shadow linear .2s;transition:border linear .2s,box-shadow linear .2s}.fb-selected{display:none;width:12px;height:12px;background:url(data:image\\/png;base64,iVBORw0KGgoAAAANSUhEUgAAAAcAAAAFCAYAAACJmvbYAAAABGdBTUEAALGPC\\/xhBQAAACBjSFJNAAB6JgAAgIQAAPoAAACA6AAAdTAAAOpgAAA6mAAAF3CculE8AAAABmJLR0QAAAAAAAD5Q7t\\/AAAACXBIWXMAABYlAAAWJQFJUiTwAAAAJklEQVQI12NgwAEsuv\\/8xy9h3vX7P6oEKp\\/BHCqA0yhzdB0MDAwAFXkTK5la4mAAAAAASUVORK5CYII=) no-repeat 2px 3px}.fb-guide{padding-top:10px;color:#9a9a9a;margin-left:-20px;padding-left:20px;border-right-width:0;margin-right:-20px;padding-right:25px;margin-bottom:-20px;padding-bottom:15px}.fb-footer{padding-top:10px;text-align:left}.fb-block{overflow:hidden;position:relative}.fb-block .fb-email{height:28px;line-height:26px;width:350px;border:1px solid #ccc;padding:4px;padding-top:0;box-sizing:border-box;padding-bottom:0;display:inline-block;font-family:'Helvetica Neue',Helvetica,Arial,sans-serif;vertical-align:middle!important;-webkit-border-radius:0;-moz-border-radius:0;border-radius:0;-webkit-box-shadow:inset 0 1px 1px rgba(0,0,0,.075);-moz-box-shadow:inset 0 1px 1px rgba(0,0,0,.075);box-shadow:inset 0 1px 1px rgba(0,0,0,.075);-webkit-transition:border linear .2s,box-shadow linear .2s;-moz-transition:border linear .2s,box-shadow linear .2s;-ms-transition:border linear .2s,box-shadow linear .2s;-o-transition:border linear .2s,box-shadow linear .2s;transition:border linear .2s,box-shadow linear .2s}.fb-email{font-size:13px!important;color:#000}.fb-email::-webkit-input-placeholder{font-size:13px!important;color:#9a9a9a}.fb-email:-moz-placeholder{font-size:13px!important;color:#9a9a9a}.fb-email::-moz-placeholder{font-size:13px!important;color:#9a9a9a}.fb-email:-ms-input-placeholder{font-size:13px!important;color:#9a9a9a}.fb-cut-block{height:15px;padding-bottom:10px}.fb-canvas-block{height:172px;border:1px solid #ccc;margin-bottom:10px;position:relative;overflow:hidden;width:100%;background-position:center;box-sizing:border-box}.fb-canvas-block img{width:350px;position:absolute}.fb-canvas-block img[src=\\\"\\\"]{opacity:0}.fb-cut-input{width:14px;height:14px;margin:0;margin-right:10px;display:inline-block;border:1px solid #ccc}.fb-cut-btn{width:60px!important}#fb_tips_span{vertical-align:middle}#fb_popwindow{display:block;left:457px;top:69.5px;position:absolute;width:450px;z-index:999999;background:none repeat scroll 0 0 #fff;border:1px solid #999;border-radius:3px;box-shadow:0 0 9px #999;padding:0}#feedback_dialog_content{text-align:center}#fb_right_post_save:hover{background-image:url(data:image\\/png;base64,iVBORw0KGgoAAAANSUhEUgAAAAEAAAACCAMAAACuX0YVAAAABlBMVEVnpv85i\\/9PO5r4AAAAD0lEQVR42gEEAPv\\/AAAAAQAFAAIros7PAAAAAElFTkSuQmCC);background-repeat:repeat-x;box-shadow:1px 1px 1px rgba(0,0,0,.4);-webkit-box-shadow:1px 1px 1px rgba(0,0,0,.4);-moz-box-shadow:1px 1px 1px rgba(0,0,0,.4);-o-box-shadow:1px 1px 1px rgba(0,0,0,.4)}.fb-select-icon{position:absolute;bottom:6px;right:5px;width:16px;height:16px;box-sizing:content-box;background-position:center center;background-repeat:no-repeat;background-size:7px 4px;-webkit-background-size:7px 4px;background-image:url(data:image\\/png;base64,iVBORw0KGgoAAAANSUhEUgAAAAcAAAAECAYAAABCxiV9AAAABGdBTUEAALGPC\\/xhBQAAACBjSFJNAAB6JgAAgIQAAPoAAACA6AAAdTAAAOpgAAA6mAAAF3CculE8AAAABmJLR0QAAAAAAAD5Q7t\\/AAAACXBIWXMAAAsSAAALEgHS3X78AAAAKElEQVQI12Ps7Or6z4ADMDIwMDBgU1BeVsbICOMgKygvK2PEMAbdBAAhxA08t5Q3VgAAAABJRU5ErkJggg==)}.fb-select-shorter{position:relative;min-height:28px}.fb-type-container{line-height:28px;position:absolute;top:28px;width:100%;background-color:#fff;border:1px solid #ccc;z-index:300;margin-left:-1px;display:none}.fb-type-item,.fb-type-selected{height:28px;line-height:30px;padding-left:4px}.fb-type-item:hover{background:#f5F5F5}.fb-checkbox{position:relative;border-bottom:1px solid #eee;height:34px;line-height:35px}.fb-checkbox:last-child{border-bottom:0}.fb-list-wrapper{margin-top:-10px}.fb-textarea-sug textarea{margin-top:0}@media screen and (min-width:1921px){.slowmsg{left:50%!important;-webkit-transform:translateX(-50%);-ms-transform:translateX(-50%);transform:translateX(-50%)}.wrapper_l #head{-webkit-transform-style:preserve-3d;transform-style:preserve-3d}.head_wrapper{width:1196px;margin:0 auto;position:relative;-webkit-transform:translate3d(-52px,0,1px);transform:translate3d(-52px,0,1px)}#head .headBlock{-webkit-box-sizing:border-box;box-sizing:border-box;margin-left:auto;margin-right:auto;width:1196px;padding-left:121px;-webkit-transform:translate3d(-52px,0,0);transform:translate3d(-52px,0,0)}#s_tab.s_tab{padding-left:0}#s_tab.s_tab .s_tab_inner{display:block;-webkit-box-sizing:border-box;box-sizing:border-box;padding-left:77px;width:1212px;margin:0 auto}#con-at .result-op{margin-left:auto;margin-right:auto;-webkit-transform:translateX(-60px);-ms-transform:translateX(-60px);transform:translateX(-60px)}#wrapper_wrapper{margin-left:-88px}#container{-webkit-box-sizing:border-box;box-sizing:border-box;width:1212px;margin:0 auto}.foot-inner{width:1212px;margin:0 auto}}@font-face{font-family:cicons;font-weight:400;font-style:normal;src:url(\\/\\/m.baidu.com\\/se\\/static\\/font\\/cicon.eot?t=1552475387515#);src:url(\\/\\/m.baidu.com\\/se\\/static\\/font\\/cicon.eot?t=1552475387515#iefix) format('embedded-opentype'),url(\\/\\/m.baidu.com\\/se\\/static\\/font\\/cicon.woff?t=1552475387515#) format('woff'),url(\\/\\/m.baidu.com\\/se\\/static\\/font\\/cicon.ttf?t=1552475387515#) format('truetype'),url(\\/\\/m.baidu.com\\/se\\/static\\/font\\/cicon.svg?t=1552475387515#cicons) format('svg')}html{font-size:100px}html body{font-size:.14rem;font-size:14px}[data-pmd] a{color:#333;text-decoration:none;-webkit-tap-highlight-color:rgba(23,23,23,.1)}[data-pmd] .c-icon{display:inline;width:auto;height:auto;vertical-align:baseline;overflow:auto}[data-pmd] .c-row-tile{position:relative;margin:0 -9px}[data-pmd] .c-row-tile .c-row{padding:0 9px}[data-pmd] .c-row :last-child,[data-pmd] .c-row-tile :last-child{margin-right:0}[data-pmd] .c-row *,[data-pmd] .c-row-tile *{-webkit-box-sizing:border-box;box-sizing:border-box}[data-pmd] .c-icon{font-family:cicons!important;font-style:normal;-webkit-font-smoothing:antialiased}[data-pmd] .c-result{padding:0;margin:0;background:0 0;border:0 none}[data-pmd] .c-blocka{display:block}[data-pmd] a .c-title,[data-pmd] a.c-title{font:18px\\/26px Arial,Helvetica,sans-serif;color:#000}[data-pmd] a:visited .c-title,[data-pmd] a:visited.c-title{color:#999}[data-pmd] .sfa-view a:visited .c-title,[data-pmd] .sfa-view a:visited.c-title,[data-pmd] .sfa-view .c-title{color:#000;font:18px\\/26px Arial,Helvetica,sans-serif}[data-pmd] .c-title-noclick,[data-pmd] .c-title{font:18px\\/26px Arial,Helvetica,sans-serif;color:#999}[data-pmd] .c-title-nowrap{padding-right:33px;width:100%;position:relative;white-space:nowrap;box-sizing:border-box}[data-pmd] .c-title-nowrap .c-text{display:inline-block;vertical-align:middle}[data-pmd] .c-title-nowrap .c-title-text{display:inline-block;max-width:100%;white-space:nowrap;overflow:hidden;text-overflow:ellipsis;vertical-align:bottom}[data-pmd] .c-font-sigma{font:22px\\/30px Arial,Helvetica,sans-serif}[data-pmd] .c-font-large{font:18px\\/26px Arial,Helvetica,sans-serif}[data-pmd] .c-font-big{font:18px\\/26px Arial,Helvetica,sans-serif}[data-pmd] .c-font-medium{font:14px\\/22px Arial,Helvetica,sans-serif}[data-pmd] .c-font-normal{font:13px\\/21px Arial,Helvetica,sans-serif}[data-pmd] .c-font-small{font:12px\\/20px Arial,Helvetica,sans-serif}[data-pmd] .c-font-tiny{font:12px\\/20px Arial,Helvetica,sans-serif}[data-pmd] .c-price{font:18px\\/26px Arial,Helvetica,sans-serif;color:#f60}[data-pmd] .c-title-wrap{display:block}[data-pmd] .c-title-nowrap{display:none}@media (min-width:376px){[data-pmd] .c-title{display:block;max-width:100%;white-space:nowrap;overflow:hidden;text-overflow:ellipsis;vertical-align:middle}[data-pmd] .c-title-nowrap{display:block;overflow:visible}[data-pmd] .c-title-wrap{display:none}}[data-pmd] .c-abstract{color:#555}[data-pmd] .c-showurl{color:#999;font:13px\\/21px Arial,Helvetica,sans-serif}[data-pmd] .c-gray{color:#999;font:13px\\/21px Arial,Helvetica,sans-serif}[data-pmd] .c-moreinfo{color:#555;text-align:right;font:13px\\/21px Arial,Helvetica,sans-serif}[data-pmd] .c-foot-icon{display:inline-block;position:relative;top:.02rem;background:url(\\/\\/m.baidu.com\\/static\\/search\\/sprite.png) no-repeat;-webkit-background-size:1.9rem 1.42rem;background-size:1.9rem 1.42rem}[data-pmd] .c-foot-icon-16{width:.16rem;height:.13rem}[data-pmd] .c-foot-icon-16-aladdin{display:none;background-position:0 -.98rem}[data-pmd] .c-foot-icon-16-lightapp{background-position:-.2rem -.98rem}[data-pmd] .c-visited,[data-pmd] .c-visited .c-title,[data-pmd] .c-visited.c-title{color:#999!important}[data-pmd] .c-container{margin:8px 0;padding:10px 9px 15px;background-color:#fff;width:auto;color:#555;font:13px\\/21px Arial,Helvetica,sans-serif;word-break:break-word;word-wrap:break-word;border:0 none}[data-pmd] .c-container-tight{padding:10px 9px 15px;background-color:#fff;width:auto;color:#555;font:13px\\/21px Arial,Helvetica,sans-serif;word-break:break-word;word-wrap:break-word;border:0 none}[data-pmd] .c-container-tile{margin:0;padding:0}[data-pmd] .c-span-middle{display:-webkit-box;display:-moz-box;display:-ms-flexbox;display:-webkit-flex;display:flex;-webkit-box-orient:vertical;-moz-box-orient:vertical;-webkit-box-direction:normal;-moz-box-direction:normal;-webkit-flex-direction:column;-ms-flex-direction:column;flex-direction:column;-moz-box-pack:center;-webkit-box-pack:center;-ms-flex-pack:center;-webkit-justify-content:center;justify-content:center}[data-pmd] .c-line-clamp2,[data-pmd] .c-line-clamp3,[data-pmd] .c-line-clamp4,[data-pmd] .c-line-clamp5{display:-webkit-box;-webkit-box-orient:vertical;overflow:hidden;text-overflow:ellipsis;margin-bottom:4px;white-space:normal}[data-pmd] .c-line-clamp2{-webkit-line-clamp:2}[data-pmd] .c-line-clamp3{-webkit-line-clamp:3}[data-pmd] .c-line-clamp4{-webkit-line-clamp:4}[data-pmd] .c-line-clamp5{-webkit-line-clamp:5}[data-pmd] .c-line-clamp1{display:block;overflow:hidden;text-overflow:ellipsis;white-space:nowrap}[data-pmd] .c-line-top{border-top:1px solid #eee}[data-pmd] .c-line-dotted-top{border-top:1px dotted #eee}[data-pmd] .c-line-bottom{border-bottom:1px solid #eee}[data-pmd] .c-line-dotted-bottom{border-bottom:1px dotted #eee}[data-pmd] .c-color{color:#555}[data-pmd] .c-color-gray-a{color:#666}[data-pmd] .c-color-gray{color:#999}[data-pmd] .c-color-link{color:#000}[data-pmd] .c-color-noclick{color:#999}[data-pmd] .c-color-url{color:#999}[data-pmd] .c-color-red{color:#e43}[data-pmd] .c-color-red:visited{color:#e43}[data-pmd] .c-color-orange{color:#f60}[data-pmd] .c-color-orange:visited{color:#f60}[data-pmd] .c-color-icon-special{color:#b4b4b4}[data-pmd] .c-color-split{color:#eee}[data-pmd] .c-bg-color-white{background-color:#fff}[data-pmd] .c-bg-color-black{background-color:#000}[data-pmd] .se-page-bd .c-bg-color-gray{background-color:#f1f1f1}[data-pmd] .sfa-view .c-bg-color-gray{background-color:#f2f2f2}[data-pmd] .c-gap-top-zero{margin-top:0}[data-pmd] .c-gap-right-zero{margin-right:0}[data-pmd] .c-gap-bottom-zero{margin-bottom:0}[data-pmd] .c-gap-left-zero{margin-left:0}[data-pmd] .c-gap-top{margin-top:8px}[data-pmd] .c-gap-right{margin-right:8px}[data-pmd] .c-gap-bottom{margin-bottom:8px}[data-pmd] .c-gap-left{margin-left:8px}[data-pmd] .c-gap-top-small{margin-top:4px}[data-pmd] .c-gap-right-small{margin-right:4px}[data-pmd] .c-gap-bottom-small{margin-bottom:4px}[data-pmd] .c-gap-left-small{margin-left:4px}[data-pmd] .c-gap-top-large{margin-top:12px}[data-pmd] .c-gap-right-large{margin-right:12px}[data-pmd] .c-gap-bottom-large{margin-bottom:12px}[data-pmd] .c-gap-left-large{margin-left:12px}[data-pmd] .c-gap-left-middle{margin-left:8px}[data-pmd] .c-gap-right-middle{margin-right:8px}[data-pmd] .c-gap-inner-top-zero{padding-top:0}[data-pmd] .c-gap-inner-right-zero{padding-right:0}[data-pmd] .c-gap-inner-bottom-zero{padding-bottom:0}[data-pmd] .c-gap-inner-left-zero{padding-left:0}[data-pmd] .c-gap-inner-top{padding-top:8px}[data-pmd] .c-gap-inner-right{padding-right:8px}[data-pmd] .c-gap-inner-bottom{padding-bottom:8px}[data-pmd] .c-gap-inner-left{padding-left:8px}[data-pmd] .c-gap-inner-top-small{padding-top:4px}[data-pmd] .c-gap-inner-right-small{padding-right:4px}[data-pmd] .c-gap-inner-bottom-small{padding-bottom:4px}[data-pmd] .c-gap-inner-left-small{padding-left:4px}[data-pmd] .c-gap-inner-top-large{padding-top:12px}[data-pmd] .c-gap-inner-right-large{padding-right:12px}[data-pmd] .c-gap-inner-bottom-large{padding-bottom:12px}[data-pmd] .c-gap-inner-left-large{padding-left:12px}[data-pmd] .c-gap-inner-left-middle{padding-left:8px}[data-pmd] .c-gap-inner-right-middle{padding-right:8px}[data-pmd] .c-img{position:relative;display:block;width:100%;border:0 none;background:#f7f7f7 url(\\/\\/m.baidu.com\\/static\\/search\\/image_default.png) center center no-repeat;margin:4px 0}[data-pmd] .c-img img{width:100%}[data-pmd] .c-img .c-img-text{position:absolute;left:0;bottom:0;width:100%;height:.16rem;background:rgba(51,51,51,.4);font-size:.12rem;line-height:1.33333333;color:#fff;text-align:center}[data-pmd] .c-img-s,[data-pmd] .c-img-l,[data-pmd] .c-img-w,[data-pmd] .c-img-x,[data-pmd] .c-img-y,[data-pmd] .c-img-v,[data-pmd] .c-img-z{height:0;overflow:hidden}[data-pmd] .c-img-s{padding-bottom:100%}[data-pmd] .c-img-l{padding-bottom:133.33333333%}[data-pmd] .c-img-w{padding-bottom:56.25%}[data-pmd] .c-img-x{padding-bottom:75%}[data-pmd] .c-img-y{padding-bottom:66.66666667%}[data-pmd] .c-img-v{padding-bottom:33.33333333%}[data-pmd] .c-img-z{padding-bottom:40%}[data-pmd] .c-table{width:100%;border-collapse:collapse;border-spacing:0;color:#000}[data-pmd] .c-table th{color:#999}[data-pmd] .c-table th,[data-pmd] .c-table td{border-bottom:1px solid #eee;text-align:left;font-weight:400;padding:8px 0}[data-pmd] .c-table-hihead th{padding:0;border-bottom:0 none;background-color:#f6f6f6;line-height:.37rem}[data-pmd] .c-table-hihead div{background-color:#f6f6f6}[data-pmd] .c-table-hihead th:first-child div{margin-left:-9px;padding-left:9px}[data-pmd] .c-table-hihead th:last-child div{margin-right:-9px;padding-right:9px}[data-pmd] .c-table-noborder th,[data-pmd] .c-table-noborder td{border-bottom:0 none}[data-pmd] .c-table-slink tbody{color:#555;border-bottom:1px solid #eee}[data-pmd] .c-table-slink tbody th{border-bottom:1px solid #eee;padding:0}[data-pmd] .c-table-slink tbody td{border-bottom:0;padding:0}[data-pmd] .c-table-slink tbody td .c-slink-auto{margin:5px 0}[data-pmd] .c-table-slink tbody tr:first-child th,[data-pmd] .c-table-slink tbody tr:first-child td{padding:8px 0}[data-pmd] .c-table-slink tbody tr:nth-child(2) th,[data-pmd] .c-table-slink tbody tr:nth-child(2) td{padding-top:8px}[data-pmd] .c-table-slink tbody tr th,[data-pmd] .c-table-slink tbody tr td{padding-bottom:4px}[data-pmd] .c-table-slink tbody tr:last-child th,[data-pmd] .c-table-slink tbody tr:last-child td{padding-bottom:8px}[data-pmd] .c-table-abstract tbody{color:#555;border-bottom:1px solid #eee}[data-pmd] .c-table-abstract tbody th{border-bottom:1px solid #eee;padding:0}[data-pmd] .c-table-abstract tbody td{border-bottom:0;padding:0}[data-pmd] .c-table-abstract tbody tr:first-child th,[data-pmd] .c-table-abstract tbody tr:nth-child(2) th,[data-pmd] .c-table-abstract tbody tr:first-child td,[data-pmd] .c-table-abstract tbody tr:nth-child(2) td{padding-top:8px}[data-pmd] .c-table-abstract tbody tr th,[data-pmd] .c-table-abstract tbody tr td{padding-bottom:8px}[data-pmd] .c-table-abstract .c-table-gray{color:#999;font:12px\\/20px Arial,Helvetica,sans-serif}[data-pmd] .c-table-shaft th{color:#999}[data-pmd] .c-table-shaft td,[data-pmd] .c-table-shaft th{border-right:1px solid #eee;text-align:center}[data-pmd] .c-table-shaft td:last-child,[data-pmd] .c-table-shaft th:last-child{border-right:0}[data-pmd] .c-table-shaft tr:last-child td{border-bottom:0}[data-pmd] .c-slink{width:auto;display:-webkit-box;-webkit-box-orient:horizontal;-webkit-box-direction:normal;-webkit-box-pack:justify;-webkit-box-align:stretch;-webkit-box-lines:single;display:-webkit-flex;-webkit-flex-direction:row;-webkit-justify-content:space-between;-webkit-align-items:stretch;-webkit-align-content:flex-start;-webkit-flex-wrap:nowrap}[data-pmd] .c-slink a,[data-pmd] .c-slink .c-slink-elem{position:relative;display:block;-webkit-box-flex:1;-webkit-flex:1 1 auto;width:16.66666667%;height:.32rem;line-height:2.28571429;padding:0 .06rem;font-size:.14rem;text-align:center;text-decoration:none;color:#666;overflow:hidden;text-overflow:ellipsis;white-space:nowrap}[data-pmd] .c-slink a:first-child::before,[data-pmd] .c-slink .c-slink-elem:first-child::before,[data-pmd] .c-slink a::after,[data-pmd] .c-slink .c-slink-elem::after{content:\\\"\\\";width:1px;height:.1rem;background-color:#eee;position:absolute;top:.11rem;right:0}[data-pmd] .c-slink a:first-child::before,[data-pmd] .c-slink .c-slink-elem:first-child::before{left:0}[data-pmd] .c-slink-strong{margin-bottom:1px}[data-pmd] .c-slink-strong:last-child{margin-bottom:0}[data-pmd] .c-slink-strong:last-child a,[data-pmd] .c-slink-strong:last-child .c-slink-elem{border-bottom:1px solid #eee}[data-pmd] .c-slink-strong a,[data-pmd] .c-slink-strong .c-slink-elem{height:.3rem;margin-right:1px;line-height:.3rem;background-color:#f5f5f5}[data-pmd] .c-slink-strong a:last-child,[data-pmd] .c-slink-strong .c-slink-elem:last-child{margin-right:0}[data-pmd] .c-slink-strong a:first-child::before,[data-pmd] .c-slink-strong .c-slink-elem:first-child::before,[data-pmd] .c-slink-strong a::after,[data-pmd] .c-slink-strong .c-slink-elem::after{display:none}[data-pmd] .c-slink-new{display:block;width:100%;height:.3rem;line-height:.3rem;background-color:#f5f5f5;font-size:.14rem;color:#000;text-align:center;text-decoration:none;overflow:hidden;text-overflow:ellipsis;white-space:nowrap;padding:0 .08rem;border-radius:.03rem;vertical-align:middle;outline:0;-webkit-tap-highlight-color:rgba(0,0,0,0)}[data-pmd] .c-slink-new:visited{color:#000}[data-pmd] .c-slink-new:active{background-color:#e5e5e5}[data-pmd] .c-slink-new-strong{display:block;width:100%;background-color:#f5f5f5;font-size:.14rem;color:#000;text-align:center;text-decoration:none;overflow:hidden;text-overflow:ellipsis;white-space:nowrap;padding:0 .08rem;border-radius:.03rem;vertical-align:middle;outline:0;-webkit-tap-highlight-color:rgba(0,0,0,0);height:.3rem;line-height:.3rem}[data-pmd] .c-slink-new-strong:visited{color:#000}[data-pmd] .c-slink-new-strong:active{background-color:#e5e5e5}[data-pmd] .c-slink-auto{display:inline-block;max-width:100%;height:.3rem;line-height:.3rem;background-color:#f5f5f5;font-size:.14rem;color:#000;text-align:center;text-decoration:none;overflow:hidden;text-overflow:ellipsis;white-space:nowrap;padding:0 .1rem;border-radius:3px;vertical-align:middle;outline:0;-webkit-tap-highlight-color:rgba(0,0,0,0)}[data-pmd] .c-slink-auto:active{background-color:#e5e5e5}[data-pmd] .c-slink-auto:visited{color:#000}[data-pmd] .c-text{display:inline-block;height:14px;padding:0 2px;margin-bottom:2px;text-decoration:none;vertical-align:middle;color:#fff;font-size:10px;line-height:15px;font-style:normal;font-weight:400;overflow:hidden;border-radius:2px}[data-pmd] .c-text-danger{background-color:#f13f40}[data-pmd] .c-text-public{background-color:#2b99ff}[data-pmd] .c-text-box{display:inline-block;padding:1px 2px;margin-bottom:2px;text-decoration:none;vertical-align:middle;font-size:10px;line-height:11px;height:10px;font-style:normal;font-weight:400;overflow:hidden;-webkit-box-sizing:content-box;box-sizing:content-box;border-radius:2px}[data-pmd] .c-text-box-gray{color:#999;border:1px solid #e3e3e3}[data-pmd] .c-text-box-orange{color:#f60;border:1px solid #f3d9c5}[data-pmd] .c-text-box-pink{color:#ff4683;border:1px solid #ffc7da}[data-pmd] .c-text-box-red{color:#f13f40;border:1px solid #efb9b9}[data-pmd] .c-text-box-blue{color:#2b99ff;border:1px solid #b3d4f3}[data-pmd] .c-text-box-green{color:#65b12c;border:1px solid #d7efc6}[data-pmd] .c-text-box-yellow{color:#faa90e;border:1px solid #feecc9}[data-pmd] .c-text-info{display:inline;color:#999;font-style:normal;font-weight:400;font-family:sans-serif}[data-pmd] .c-index{display:inline-block;height:15px;margin:0 5px 3px 0;text-align:center;vertical-align:middle;color:#999;font-size:14px;line-height:15px;overflow:hidden}[data-pmd] .c-index-hot-common{font-size:12px;color:#fff;width:16px}[data-pmd] .c-index-hot,[data-pmd] .c-index-hot1{background-color:#ff2d46;font-size:12px;color:#fff;width:16px}[data-pmd] .c-index-hot2{background-color:#ff7f49;font-size:12px;color:#fff;width:16px}[data-pmd] .c-index-hot3{background-color:#ffaa3b;font-size:12px;color:#fff;width:16px}[data-pmd] .c-btn{display:inline-block;padding:0 .08rem;width:100%;height:.3rem;font:13px\\/21px Arial,Helvetica,sans-serif;line-height:.28rem;text-decoration:none;text-align:center;color:#000;background-color:#fff;border:1px solid #707379;border-radius:3px;vertical-align:middle;overflow:hidden;outline:0;-webkit-tap-highlight-color:rgba(0,0,0,0)}[data-pmd] .c-btn:visited{color:#000}[data-pmd] .c-btn:active{border-color:#707379;background-color:#f2f2f2}[data-pmd] .c-btn .c-icon{position:relative;top:-1px;vertical-align:middle;font-size:14px;margin-right:4px}[data-pmd] .c-btn-small{display:inline-block;padding:0 .08rem;width:100%;height:.3rem;line-height:.28rem;font-size:12px;font-weight:400;text-decoration:none;text-align:center;color:#000;background-color:#fff;border:1px solid #707379;border-radius:3px;vertical-align:middle;overflow:hidden;outline:0;-webkit-tap-highlight-color:rgba(0,0,0,0)}[data-pmd] .c-btn-small:visited{color:#000}[data-pmd] .c-btn-small:active{border-color:#707379;background-color:#f2f2f2}[data-pmd] .c-btn-small .c-icon{position:relative;top:-1px;vertical-align:middle;font-size:14px;margin-right:4px}@media screen and (max-width:360px){[data-pmd] .c-btn{padding:0 .05rem}}@media screen and (max-width:375px){[data-pmd] .c-btn-small{padding:0 .02rem}}[data-pmd] .c-btn-primary{background-color:#f8f8f8;border-color:#d0d0d0;border-bottom-color:#b2b2b2;-webkit-box-shadow:0 1px 1px 0 #e1e1e1;box-shadow:0 1px 1px 0 #e1e1e1}[data-pmd] .c-btn-primary .c-icon{color:#02aaf8}[data-pmd] .c-btn-disable{color:#999;background-color:#fff;border-color:#f1f1f1}[data-pmd] .c-btn-disable:visited{color:#999}[data-pmd] .c-btn-disable:active{border-color:#f1f1f1}[data-pmd] .c-btn-disable .c-icon{color:#999}[data-pmd] .c-btn-weak{height:.3rem;line-height:.3rem;border-width:0}[data-pmd] .c-btn-weak:active{background-color:#f2f2f2}[data-pmd] .c-btn-weak-auto{width:auto;height:.3rem;line-height:.3rem;border-width:0}[data-pmd] .c-btn-weak-auto:active{background-color:#f2f2f2}[data-pmd] .c-btn-weak-gray{height:.3rem;line-height:.3rem;background-color:#f8f8f8;border-width:0}[data-pmd] .c-btn-weak-gray:active{background-color:#e5e5e5}[data-pmd] .c-btn-pills{height:.2rem;padding:0 .08rem;border-width:0;border-radius:.2rem;line-height:.2rem;font-size:10px;background-color:rgba(0,0,0,.4);color:#fff;width:auto;word-spacing:-3px;letter-spacing:0}[data-pmd] .c-btn-pills span{position:relative;top:1px}[data-pmd] .c-btn-pills::selection{color:#fff}[data-pmd] .c-btn-pills:visited{color:#fff}[data-pmd] .c-btn-pills:active{background-color:rgba(0,0,0,.4);color:#fff}[data-pmd] .c-btn-pills .c-icon{font-size:10px;top:1px;margin-right:4px}[data-pmd] .c-btn-circle{height:.3rem;width:.3rem;border-radius:50%;color:#fff;background-color:rgba(0,0,0,.4);border:0;padding:0;line-height:.3rem;text-align:center;vertical-align:middle;white-space:nowrap}[data-pmd] .c-btn-circle:active{color:#fff;background-color:rgba(0,0,0,.4)}[data-pmd] .c-btn-circle .c-icon{top:0;margin:0;display:block;font-size:14px;color:#fff}[data-pmd] .c-btn-circle-big{height:.3rem;width:.3rem;border-radius:50%;background-color:rgba(0,0,0,.4);border:0;padding:0;line-height:.3rem;text-align:center;vertical-align:middle;white-space:nowrap;height:.48rem;width:.48rem;line-height:.48rem;font-size:18px;color:#fff}[data-pmd] .c-btn-circle-big:active{color:#fff;background-color:rgba(0,0,0,.4)}[data-pmd] .c-btn-circle-big .c-icon{top:0;margin:0;display:block;font-size:14px;color:#fff}[data-pmd] .c-btn-circle-big .c-icon{font-size:24px}[data-pmd] .c-input{word-break:normal;word-wrap:normal;-webkit-appearance:none;appearance:none;display:inline-block;padding:0 .08rem;width:100%;height:.3rem;vertical-align:middle;line-height:normal;font-size:.14rem;color:#000;background-color:#fff;border:1px solid #eee;border-radius:1px;overflow:hidden;outline:0}[data-pmd] .c-input::-webkit-input-placeholder{color:#999;border-color:#eee}[data-pmd] .c-input:focus{border-color:#000}[data-pmd] .c-input:focus .c-icon{color:#dbdbdb}[data-pmd] .c-input:disabled{color:#999;border-color:#f1f1f1}[data-pmd] .c-dropdown{position:relative;background-color:#fff}[data-pmd] .c-dropdown::before{font-family:cicons;content:\\\"\\\\e73c\\\";display:inline-block;position:absolute;bottom:0;right:.08rem;color:#555;font-size:.14rem;height:.3rem;line-height:.3rem}[data-pmd] .c-dropdown>label{display:block;color:#999;background-color:#fff;width:100%;height:.26rem}[data-pmd] .c-dropdown>select{word-break:normal;word-wrap:normal;position:relative;-webkit-appearance:none;appearance:none;display:inline-block;padding:0 .24rem 0 .08rem;width:100%;height:.3rem;vertical-align:middle;line-height:normal;font-size:.14rem;color:#000;background-color:transparent;border:1px solid #eee;border-radius:0;overflow:hidden;outline:0}[data-pmd] .c-dropdown>select:focus{border-color:#000}[data-pmd] .c-dropdown-disable{background-color:#fff}[data-pmd] .c-dropdown-disable::before{color:#999}[data-pmd] .c-dropdown-disable>label{color:#999}[data-pmd] .c-dropdown-disable>select{color:#999;border-color:#f1f1f1}[data-pmd] .c-btn-shaft{border:1px solid #f1f1f1;text-overflow:ellipsis;white-space:nowrap}[data-pmd] .c-btn-shaft:active{border-color:#f1f1f1}[data-pmd] .c-tab-select{background-color:#f5f5f5;height:.38rem;line-height:.38rem;font-size:.14rem;color:#000;text-align:center}[data-pmd] .c-tab-select .c-icon{display:inline-block;font-size:.14rem;color:#555}[data-pmd] .c-tab-select .c-span12{text-align:left}[data-pmd] .c-tab-select .c-span12 .c-icon{position:absolute;right:0;bottom:0}@-webkit-keyframes c-loading-rotation{from{-webkit-transform:rotate(1deg)}to{-webkit-transform:rotate(360deg)}}[data-pmd] .c-loading,[data-pmd] .c-loading-zbios{text-align:center}[data-pmd] .c-loading i{display:block;position:relative;font-size:.3rem;width:.54rem;height:.54rem;line-height:.52rem;color:#f3f3f3;margin:auto}[data-pmd] .c-loading i::before{content:\\\"\\\";display:block;position:absolute;width:.5rem;height:.5rem;margin:auto;border-radius:50%;border:.02rem solid #f3f3f3;border-top-color:#ddd;-webkit-transform-origin:50% 50%;-webkit-animation:c-loading-rotation 1s ease 0s infinite normal}[data-pmd] .c-loading-zbios i{display:block;position:relative;font-size:.48rem;width:.54rem;height:.54rem;line-height:.54rem;color:#f3f3f3;margin:auto;-webkit-transform-origin:50% 50%;-webkit-animation:c-loading-rotation .5s linear 0s infinite normal}[data-pmd] .c-loading p,[data-pmd] .c-loading-zbios p{color:#999;margin-top:.08rem;text-indent:.5em}[data-pmd] .c-tabs{position:relative}[data-pmd] .c-tabs-nav{position:relative;min-width:100%;height:.38rem;padding:0 9px;font-size:.14rem;white-space:nowrap;background-color:#f5f5f5;display:-webkit-box;-webkit-box-orient:horizontal;-webkit-box-direction:normal;-webkit-box-pack:justify;-webkit-box-align:stretch;-webkit-box-lines:single;display:-webkit-flex;-webkit-flex-direction:row;-webkit-justify-content:space-between;-webkit-align-items:stretch;-webkit-align-content:flex-start;-webkit-flex-wrap:nowrap;-webkit-user-select:none!important;user-select:none!important;-khtml-user-select:none!important;-webkit-touch-callout:none!important}[data-pmd] .c-tabs-nav *{-webkit-box-sizing:border-box;box-sizing:border-box}[data-pmd] .c-tabs-nav-li{display:block;-webkit-box-flex:1;-webkit-flex:1 1 auto;width:16.66666667%;list-style:none;text-decoration:none;height:.38rem;line-height:.38rem;color:#555;text-align:center;text-overflow:ellipsis;white-space:nowrap;overflow:hidden;-webkit-tap-highlight-color:rgba(0,0,0,0)}[data-pmd] .c-tabs-nav .c-tabs-nav-selected{color:#000;border-bottom:1px solid #000}[data-pmd] .c-tabs-nav-bottom{border-top:1px solid #f1f1f1;padding:0}[data-pmd] .c-tabs-nav-bottom .c-tabs-nav-li{color:#999}[data-pmd] .c-tabs-nav-bottom .c-tabs-nav-icon{display:none}[data-pmd] .c-tabs-nav-bottom .c-tabs-nav-selected{position:relative;top:-1px;height:.38rem;line-height:.39rem;color:#000;background-color:#fff;border-bottom:1px solid #000;border-top-color:#fff}[data-pmd] .c-tabs-nav-bottom .c-tabs-nav-selected:first-child{margin-left:-1px}[data-pmd] .c-tabs-nav-bottom .c-tabs-nav-selected .c-tabs-nav-icon{display:inline-block;width:.15rem;height:.15rem}[data-pmd] .c-tabs-nav-view{position:relative;height:.38rem;background-color:#f5f5f5;overflow:hidden}[data-pmd] .c-tabs-nav-view .c-tabs-nav{display:block}[data-pmd] .c-tabs-nav-view .c-tabs-nav .c-tabs-nav-li{display:inline-block;width:auto;padding:0 .17rem}[data-pmd] .c-tabs-nav-toggle{position:absolute;top:0;right:0;z-index:9;display:block;text-align:center;width:.38rem;height:.38rem;border-left:1px solid #eee;background-color:#f5f5f5}[data-pmd] .c-tabs-nav-toggle::before{display:inline-block;font-family:cicons;content:\\\"\\\\e73c\\\";font-size:.12rem;color:#333;line-height:.36rem}[data-pmd] .c-tabs-nav-layer{position:absolute;top:0;z-index:8;width:100%;background-color:#f5f5f5;border-bottom:1px solid #eee}[data-pmd] .c-tabs-nav-layer p{color:#999;height:.39rem;line-height:.39rem;padding:0 .17rem;border-bottom:1px solid #eee}[data-pmd] .c-tabs-nav-layer-ul .c-tabs-nav-li{display:inline-block;width:16.66666667%;padding:0}[data-pmd] .c-tabs-nav-layer-ul .c-tabs-nav-selected{color:#000}[data-pmd] .c-tabs2 .c-tabs-view-content{overflow:hidden}[data-pmd] .c-tabs2 .c-tabs-content{position:relative;float:left;display:none}[data-pmd] .c-tabs2 .c-tabs-selected{display:block}[data-pmd] .c-tabs2 .c-tabs-view-content-anim{transition:height .3s cubic-bezier(0.7,0,.3,1);-webkit-transition:height .3s cubic-bezier(0.7,0,.3,1);-moz-transition:height .3s cubic-bezier(0.7,0,.3,1);-o-transition:height .3s cubic-bezier(0.7,0,.3,1);transform:translate3d(0,0,0);-webkit-transform:translate3d(0,0,0);-moz-transition:translate3d(0,0,0);-o-transition:translate3d(0,0,0)}[data-pmd] .c-tabs2 .c-tabs-stopanimate{transition:none;-webkit-transition:none;transform:none;-webkit-transform:none;-moz-transition:none;-o-transition:none}[data-pmd] .c-tabs2 .c-tabs-tabcontent{transition:transform .3s cubic-bezier(0.7,0,.3,1);-webkit-transition:transform .3s cubic-bezier(0.7,0,.3,1);-moz-transition:transform .3s cubic-bezier(0.7,0,.3,1);-o-transition:transform .3s cubic-bezier(0.7,0,.3,1);transform:translate3d(0,0,0);-webkit-transform:translate3d(0,0,0);-moz-transition:translate3d(0,0,0);-o-transition:translate3d(0,0,0)}[data-pmd] .c-tabs-animation .c-tabs-view-content{margin:0 -.17rem;overflow:hidden}[data-pmd] .c-tabs-animation .c-tabs-content{position:relative;padding-left:.17rem;padding-right:.17rem;box-sizing:border-box;float:left;display:none}[data-pmd] .c-tabs-animation .c-tabs-selected{display:block}[data-pmd] .c-tabs-animation .c-tabs-view-content-anim{transition:height .3s cubic-bezier(0.7,0,.3,1);-webkit-transition:height .3s cubic-bezier(0.7,0,.3,1);-moz-transition:height .3s cubic-bezier(0.7,0,.3,1);-o-transition:height .3s cubic-bezier(0.7,0,.3,1);transform:translate3d(0,0,0);-webkit-transform:translate3d(0,0,0);-moz-transition:translate3d(0,0,0);-o-transition:translate3d(0,0,0)}[data-pmd] .c-tabs-animation .c-tabs-stopanimate{transition:none;-webkit-transition:none;transform:none;-webkit-transform:none;-moz-transition:none;-o-transition:none}[data-pmd] .c-tabs-animation .c-tabs-tabcontent{transition:transform .3s cubic-bezier(0.7,0,.3,1);-webkit-transition:transform .3s cubic-bezier(0.7,0,.3,1);-moz-transition:transform .3s cubic-bezier(0.7,0,.3,1);-o-transition:transform .3s cubic-bezier(0.7,0,.3,1);transform:translate3d(0,0,0);-webkit-transform:translate3d(0,0,0);-moz-transition:translate3d(0,0,0);-o-transition:translate3d(0,0,0)}[data-pmd] .c-scroll-wrapper,[data-pmd] .c-scroll-wrapper-new{position:relative;overflow:hidden}[data-pmd] .c-scroll-wrapper-new .c-scroll-touch{padding-left:9px;padding-right:9px}[data-pmd] .c-scroll-parent-gap{padding:0 .11rem 0 9px}[data-pmd] .c-scroll-parent-gap .c-scroll-element-gap{padding-right:.1rem}[data-pmd] .c-scroll-indicator-wrapper{text-align:center;height:6px}[data-pmd] .c-scroll-indicator-wrapper .c-scroll-indicator{vertical-align:top}[data-pmd] .c-scroll-indicator{display:inline-block;position:relative;height:6px}[data-pmd] .c-scroll-indicator .c-scroll-dotty{position:absolute;width:6px;height:6px;border-radius:50%;background-color:#999}[data-pmd] .c-scroll-indicator .c-scroll-dotty-now{background-color:#999}[data-pmd] .c-scroll-indicator span{display:block;float:left;width:6px;height:6px;border-radius:50%;background-color:#e1e1e1;margin-right:.07rem}[data-pmd] .c-scroll-indicator span:last-child{margin-right:0}[data-pmd] .c-scroll-touch{position:relative;overflow-x:auto;-webkit-overflow-scrolling:touch;padding-bottom:.3rem;margin-top:-.3rem;-webkit-transform:translateY(0.3rem);transform:translateY(0.3rem)}[data-pmd] .c-location-wrap{overflow:hidden;padding:0 .15rem;background-color:#f7f7f7}[data-pmd] .c-location-header-tips{font-size:.13rem}[data-pmd] .c-location-header-btn{padding-top:.08rem;-webkit-box-flex:0;-webkit-flex:none}[data-pmd] .c-location-header-btn div{display:inline-block}[data-pmd] .c-location-header-btn-reload:after{content:\\\"\\\";display:inline-block;overflow:hidden;width:1px;height:.1rem;margin:0 .08rem;background-color:#ccc}[data-pmd] .c-location-header-btn-788{display:none}[data-pmd] .c-location-header-btn-in,[data-pmd] .c-location-header-btn-reload{color:#333}[data-pmd] .c-location-header-btn .c-icon{color:#666;vertical-align:top}[data-pmd] .c-location-header-tips{color:#999}[data-pmd] .c-location-header-tips-err{color:#c00}[data-pmd] .c-location-header-tips-success{color:#38f}[data-pmd] .c-location-header-btn-reload-ing .c-location-header-btn-787{display:none}[data-pmd] .c-location-header-btn-reload-ing .c-location-header-btn-788{display:inline-block;color:#999;-webkit-animation-name:c_location_rotate;-webkit-animation-duration:1.5s;-webkit-animation-iteration-count:infinite;-webkit-animation-timing-function:linear}[data-pmd] .c-location-header-btn-reload-ing{color:#999}@-webkit-keyframes c_location_rotate{from{-webkit-transform:rotate(0deg)}to{-webkit-transform:rotate(360deg)}}@keyframes c_location_rotate{from{transform:rotate(0deg)}to{transform:rotate(360deg)}}[data-pmd] .c-location-header-btn-in-active,[data-pmd] .c-location-header-btn-in-active .c-icon{color:#38f}[data-pmd] .c-location-form{position:relative}[data-pmd] .c-location-form .c-input{padding-right:.7rem}[data-pmd] .c-location-input-close{position:absolute;z-index:10;top:1px;right:.37rem;display:none;width:.36rem;height:.36rem;line-height:.36rem;text-align:center;color:#ddd;font-size:.16rem}[data-pmd] .c-location-form .c-input:focus{border-color:#ddd #eee #eee #ddd;background-color:#fff}[data-pmd] .c-location-sub{position:absolute;z-index:10;top:1px;right:1px;width:.36rem;height:.36rem;border-left:1px solid #eee;line-height:.36rem;text-align:center;background-color:#fafafa}[data-pmd] .c-location-body{display:none;padding-bottom:.14rem}[data-pmd] .c-location-down{display:none;border:1px solid #eee;border-top:0;background-color:#fff;-webkit-tap-highlight-color:rgba(0,0,0,0)}[data-pmd] .c-location-down-tips{height:.38rem;padding-left:.12rem;line-height:.38rem;background-color:#fafafa}[data-pmd] .c-location-down-tips-close{padding-right:.12rem}[data-pmd] .c-location-down-tips-close:before{content:\\\"\\\";display:inline-block;width:1px;height:.1rem;margin-right:.08rem;background-color:#ddd}[data-pmd] .c-location-down ul{list-style:none}[data-pmd] .c-location-down li{padding:.04rem .12rem;border-top:1px solid #eee}[data-pmd] .c-navs{position:relative}[data-pmd] .c-navs-bar{position:relative;min-width:100%;height:40px;white-space:nowrap;display:-webkit-box;-webkit-box-orient:horizontal;-webkit-box-direction:normal;-webkit-box-pack:justify;-webkit-box-align:stretch;-webkit-box-lines:single;display:-webkit-flex;-webkit-flex-direction:row;-webkit-justify-content:space-between;-webkit-align-items:stretch;-webkit-align-content:flex-start;-webkit-flex-wrap:nowrap}[data-pmd] .c-navs .c-row-tile{border-bottom:1px solid #f1f1f1}[data-pmd] .c-navs-sub .c-navs-bar{height:38px}[data-pmd] .c-navs-bar *{-webkit-box-sizing:border-box;box-sizing:border-box}[data-pmd] .c-navs-bar-li{display:block;-webkit-box-flex:1;-webkit-flex:1 1 auto;width:16.66666667%;height:40px;line-height:40px;list-style:none;text-decoration:none;color:#666;text-align:center;font-size:15px;-webkit-tap-highlight-color:transparent;padding:0 17px}[data-pmd] .c-navs-sub .c-navs-bar-li{height:38px;line-height:38px}[data-pmd] .c-navs-bar-li span{height:100%;display:inline-block;max-width:100%;text-overflow:ellipsis;white-space:nowrap;overflow:hidden}[data-pmd] .c-navs-bar .c-navs-bar-selected span{color:#333;font-weight:700;border-bottom:2px solid #333}[data-pmd] .c-navs-bar-view{position:relative;overflow:hidden}[data-pmd] .c-navs-bar-view .c-navs-bar{display:block}[data-pmd] .c-navs-bar-view .c-navs-bar .c-navs-bar-li{display:inline-block;width:auto;padding:0 17px}[data-pmd] .c-navs-bar-toggle{position:absolute;top:0;right:0;width:34px;height:40px;background-color:#fff}[data-pmd] .c-navs-sub .c-navs-bar-toggle{height:38px}[data-pmd] .c-navs-bar-toggle i{width:0;height:0;right:17px;top:17px;border-right:5px solid transparent;border-top:5px solid #999;border-left:5px solid transparent;position:absolute}[data-pmd] .c-navs-bar-layer{position:absolute;top:0;z-index:8;width:100%;background-color:#fff;overflow-x:hidden}[data-pmd] .c-navs-bar-layer p{color:#999;padding:9px 17px 13px}[data-pmd] .c-navs-sub .c-navs-bar-layer p{padding:8px 17px 13px}[data-pmd] .c-navs-bar-layer .c-row{margin-bottom:17px}[data-pmd] .c-navs-sub .c-navs-bar-toggle i{top:16px}[data-pmd] .c-navs-bar-layer .c-navs-bar-toggle i{border-right:5px solid transparent;border-bottom:5px solid #999;border-left:5px solid transparent;border-top:0}[data-pmd] .c-navs-bar-layer .c-navs-bar-li{height:33px;line-height:33px;text-align:center;font-size:14px;color:#333;width:33.33333333%;-webkit-box-flex:4;-webkit-flex:4 4 auto;padding-right:1.55367232%;padding-left:1.55367232%}[data-pmd] .c-navs-bar-layer .c-span4.c-navs-bar-li span{display:inline-block;width:100%;border:1px solid #f1f1f1;border-bottom:1px solid #f1f1f1}[data-pmd] .c-navs-bar-layer .c-span4.c-navs-bar-selected span{border:2px solid #333;line-height:31px}[data-pmd] .c-navs-shadow{right:34px;position:absolute;top:0;width:10px;height:40px;background:-webkit-linear-gradient(left,rgba(255,255,255,0),#fff);background:linear-gradient(to right,rgba(255,255,255,0),#fff)}[data-pmd] .c-navs-sub .c-navs-shadow{height:38px}[data-pmd] .c-navs-bar-mask{position:absolute;z-index:7;top:0;left:0;background:rgba(0,0,0,.65);height:1024px;width:100%}[data-pmd] .c-navs-sub .c-navs-bar-li span{border-bottom:0;font-size:14px}<\\/style>\";\n",
      "    result_common_css=$(result_common_css);\n",
      "    result_common_css.attr(\"data-for\",\"result\");\n",
      "\n",
      "    var index_css= $('head [index]');\n",
      "    var wrapper=$(\"#wrapper\");\n",
      "    window.index_on=function(){\n",
      "        index_css.insertAfter(\"meta:eq(0)\");\n",
      "        result_common_css.remove();\n",
      "        wrapper.show();\n",
      "        if(bds.su&&bds.su.U&&bds.su.U.homeInit){\n",
      "            bds.su.U.homeInit();\n",
      "        }\n",
      "    };\n",
      "    window.index_off=function(){\n",
      "        result_common_css.insertAfter(\"meta:eq(0)\");\n",
      "        wrapper.show();\n",
      "        index_css.remove();\n",
      "    };\n",
      "})();\n",
      "$(window).on(\"load\",function() {\n",
      "\n",
      "\tvar rand = Math.random();\n",
      "\n",
      "\tif(rand < 0.01) {\n",
      "\t\ttry {\n",
      "\t\tvar baseUrl = \"//www.baidu.com/nocache/fesplg/s.gif?log_type=hm&type=uamonitor&\",\n",
      "\t\t\tqueryString = \"\";\n",
      "\n",
      "\t\tqueryString += \"&c_ua=\" + encodeURIComponent(navigator.userAgent);\n",
      "\t\tqueryString += \"&s_ua=\" + encodeURIComponent(bds.comm.userAgent);\n",
      "\n",
      "\t\tvar url=baseUrl+queryString,\n",
      "\t\t\timg = new Image(),\n",
      "\t\t\timg_rand=\"_LOG_\"+new Date().getTime();\n",
      "\t\timg.onload=function(){\n",
      "\t\t\tdelete window[img_rand];\n",
      "\t\t};\n",
      "\t\twindow[img_rand]=img;\n",
      "\t\timg.src=url;\n",
      "\t\t} catch(e) {};\n",
      "\t}\n",
      "});\n",
      "\n",
      "</script>\n",
      "\n",
      "<script type=\"text/javascript\">var Cookie={set:function(t,e,o,i,s,n){document.cookie=t+\"=\"+(n?e:escape(e))+(s?\"; expires=\"+s.toGMTString():\"\")+(i?\"; path=\"+i:\"; path=/\")+(o?\"; domain=\"+o:\"\")},get:function(t,e){var o=document.cookie.match(new RegExp(\"(^| )\"+t+\"=([^;]*)(;|$)\"));return null!=o?unescape(o[2]):e},clear:function(t,e,o){this.get(t)&&(document.cookie=t+\"=\"+(e?\"; path=\"+e:\"; path=/\")+(o?\"; domain=\"+o:\"\")+\";expires=Fri, 02-Jan-1970 00:00:00 GMT\")}};!function(){function save(t){var e=[];for(tmpName in options)options.hasOwnProperty(tmpName)&&\"duRobotState\"!==tmpName&&e.push('\"'+tmpName+'\":\"'+options[tmpName]+'\"');\n",
      "var o=\"{\"+e.join(\",\")+\"}\";bds.comm.personalData?$.ajax({url:\"//www.baidu.com/ups/submit/addtips/?product=ps&tips=\"+encodeURIComponent(o)+\"&_r=\"+(new Date).getTime(),success:function(){writeCookie(),\"function\"==typeof t&&t()}}):(writeCookie(),\"function\"==typeof t&&setTimeout(t,0))}function set(t,e){options[t]=e}function get(t){return options[t]}function writeCookie(){if(options.hasOwnProperty(\"sugSet\")){var t=\"0\"==options.sugSet?\"0\":\"3\";clearCookie(\"sug\"),Cookie.set(\"sug\",t,document.domain,\"/\",expire30y)\n",
      "}if(options.hasOwnProperty(\"sugStoreSet\")){var t=0==options.sugStoreSet?\"0\":\"1\";clearCookie(\"sugstore\"),Cookie.set(\"sugstore\",t,document.domain,\"/\",expire30y)}if(options.hasOwnProperty(\"isSwitch\")){var e={0:\"2\",1:\"0\",2:\"1\"},t=e[options.isSwitch];clearCookie(\"ORIGIN\"),Cookie.set(\"ORIGIN\",t,document.domain,\"/\",expire30y)}if(options.hasOwnProperty(\"imeSwitch\")){var t=options.imeSwitch;clearCookie(\"bdime\"),Cookie.set(\"bdime\",t,document.domain,\"/\",expire30y)}}function writeBAIDUID(){var t,e,o,i=Cookie.get(\"BAIDUID\");\n",
      "/FG=(\\d+)/.test(i)&&(e=RegExp.$1),/SL=(\\d+)/.test(i)&&(o=RegExp.$1),/NR=(\\d+)/.test(i)&&(t=RegExp.$1),options.hasOwnProperty(\"resultNum\")&&(t=options.resultNum),options.hasOwnProperty(\"resultLang\")&&(o=options.resultLang),Cookie.set(\"BAIDUID\",i.replace(/:.*$/,\"\")+(\"undefined\"!=typeof o?\":SL=\"+o:\"\")+(\"undefined\"!=typeof t?\":NR=\"+t:\"\")+(\"undefined\"!=typeof e?\":FG=\"+e:\"\"),\".baidu.com\",\"/\",expire30y,!0)}function clearCookie(t){Cookie.clear(t,\"/\"),Cookie.clear(t,\"/\",document.domain),Cookie.clear(t,\"/\",\".\"+document.domain),Cookie.clear(t,\"/\",\".baidu.com\")\n",
      "}function reset(t){options=defaultOptions,save(t)}var defaultOptions={sugSet:1,sugStoreSet:1,isSwitch:1,isJumpHttps:1,imeSwitch:0,resultNum:10,skinOpen:1,resultLang:0,duRobotState:\"000\"},options={},tmpName,expire30y=new Date;expire30y.setTime(expire30y.getTime()+94608e7);try{if(bds&&bds.comm&&bds.comm.personalData){if(\"string\"==typeof bds.comm.personalData&&(bds.comm.personalData=eval(\"(\"+bds.comm.personalData+\")\")),!bds.comm.personalData)return;for(tmpName in bds.comm.personalData)defaultOptions.hasOwnProperty(tmpName)&&bds.comm.personalData.hasOwnProperty(tmpName)&&\"SUCCESS\"==bds.comm.personalData[tmpName].ErrMsg&&(options[tmpName]=bds.comm.personalData[tmpName].value)\n",
      "}try{parseInt(options.resultNum)||delete options.resultNum,parseInt(options.resultLang)||\"0\"==options.resultLang||delete options.resultLang}catch(e){}writeCookie(),\"sugSet\"in options||(options.sugSet=3!=Cookie.get(\"sug\",3)?0:1),\"sugStoreSet\"in options||(options.sugStoreSet=Cookie.get(\"sugstore\",0));var BAIDUID=Cookie.get(\"BAIDUID\");\"resultNum\"in options||(options.resultNum=/NR=(\\d+)/.test(BAIDUID)&&RegExp.$1?parseInt(RegExp.$1):10),\"resultLang\"in options||(options.resultLang=/SL=(\\d+)/.test(BAIDUID)&&RegExp.$1?parseInt(RegExp.$1):0),\"isSwitch\"in options||(options.isSwitch=2==Cookie.get(\"ORIGIN\",0)?0:1==Cookie.get(\"ORIGIN\",0)?2:1),\"imeSwitch\"in options||(options.imeSwitch=Cookie.get(\"bdime\",0))\n",
      "}catch(e){}window.UPS={writeBAIDUID:writeBAIDUID,reset:reset,get:get,set:set,save:save}}(),function(){var t=\"https://ss1.bdstatic.com/5eN1bjq8AAUYm2zgoY3K/r/www/cache/static/protocol/https/plugins/every_cookie_4644b13.js\";(\"Mac68K\"==navigator.platform||\"MacPPC\"==navigator.platform||\"Macintosh\"==navigator.platform||\"MacIntel\"==navigator.platform)&&(t=\"https://ss1.bdstatic.com/5eN1bjq8AAUYm2zgoY3K/r/www/cache/static/protocol/https/plugins/every_cookie_mac_82990d4.js\"),setTimeout(function(){$.ajax({url:t,cache:!0,dataType:\"script\"})},0);var e=navigator&&navigator.userAgent?navigator.userAgent:\"\",o=document&&document.cookie?document.cookie:\"\",i=!!(e.match(/(msie [2-8])/i)||e.match(/windows.*safari/i)&&!e.match(/chrome/i)||e.match(/(linux.*firefox)/i)||e.match(/Chrome\\/29/i)||e.match(/mac os x.*firefox/i)||o.match(/\\bISSW=1/)||0==UPS.get(\"isSwitch\"));\n",
      "bds&&bds.comm&&(bds.comm.supportis=!i,bds.comm.isui=!0),window.__restart_confirm_timeout=!0,window.__confirm_timeout=8e3,window.__disable_is_guide=!0,window.__disable_swap_to_empty=!0,window.__switch_add_mask=!0;var s=\"https://ss1.bdstatic.com/5eN1bjq8AAUYm2zgoY3K/r/www/cache/static/protocol/https/global/js/all_async_search_c15fac4.js\",n=\"/script\";document.write(\"<script src='\"+s+\"'><\"+n+\">\"),bds.comm.newindex&&$(window).on(\"index_off\",function(){$('<div class=\"c-tips-container\" id=\"c-tips-container\"></div>').insertAfter(\"#wrapper\"),window.__sample_dynamic_tab&&$(\"#s_tab\").remove()\n",
      "}),bds.comm&&bds.comm.ishome&&Cookie.get(\"H_PS_PSSID\")&&(bds.comm.indexSid=Cookie.get(\"H_PS_PSSID\"));var a=$(document).find(\"#s_tab\").find(\"a\");a&&a.length>0&&a.each(function(t,e){e.innerHTML&&e.innerHTML.match(/æ°é»/)&&(e.innerHTML=\"èµè®¯\",e.href=\"//www.baidu.com/s?rtt=1&bsst=1&cl=2&tn=news&word=\",e.setAttribute(\"sync\",!0))})}();</script>\n",
      "\n",
      "\n",
      "\n",
      "<script>\n",
      "if(bds.comm.supportis){\n",
      "    window.__restart_confirm_timeout=true;\n",
      "    window.__confirm_timeout=8000;\n",
      "    window.__disable_is_guide=true;\n",
      "    window.__disable_swap_to_empty=true;\n",
      "}\n",
      "initPreload({\n",
      "    'isui':true,\n",
      "    'index_form':\"#form\",\n",
      "    'index_kw':\"#kw\",\n",
      "    'result_form':\"#form\",\n",
      "    'result_kw':\"#kw\"\n",
      "});\n",
      "</script>\n",
      "\n",
      "<script>\n",
      "if(navigator.cookieEnabled){\n",
      "\tdocument.cookie=\"NOJS=;expires=Sat, 01 Jan 2000 00:00:00 GMT\";\n",
      "}\n",
      "</script>\n",
      "\n",
      "\n",
      "\n",
      "</body>\n",
      "</html>\n",
      "\n",
      "\r\n",
      "\n",
      "\n",
      "\r\n",
      "\n"
     ]
    }
   ],
   "source": [
    "import requests\n",
    "\n",
    "headers = {\n",
    "    'User-Agent': 'Mozilla/5.0 (Windows NT 10.0; Win64; x64) AppleWebKit/537.36 (KHTML, like Gecko) Chrome/71.0.3578.98 Safari/537.36',\n",
    "    'Accept-Encoding': 'gzip, deflate, br', \n",
    "    'Accept-Language': 'zh-CN,zh;q=0.9,en;q=0.8,id;q=0.7'\n",
    "}\n",
    "\n",
    "def get_page(url):\n",
    "    try:\n",
    "        r = requests.get(url,headers = headers)\n",
    "        print('Getting result',url,r.status_code)\n",
    "        if r.status_code == 200:\n",
    "            return r.text\n",
    "    except ConnectionError:\n",
    "        print('Crawling Failed', url)\n",
    "        return None\n",
    "\n",
    "if __name__ == '__main__':\n",
    "    rs = get_page('https://www.baidu.com/')\n",
    "    print(rs)"
   ]
  },
  {
   "cell_type": "code",
   "execution_count": 37,
   "metadata": {},
   "outputs": [
    {
     "name": "stdout",
     "output_type": "stream",
     "text": [
      "{'__module__': '__main__', '__qualname__': 'Hello', 'Wenhou_hello': <function Hello.Wenhou_hello at 0x061A5660>, 'Wenhou_manner': <function Hello.Wenhou_manner at 0x061A5E40>}\n",
      "{'__module__': '__main__', '__qualname__': 'Hello', 'Wenhou_hello': <function Hello.Wenhou_hello at 0x061A5660>, 'Wenhou_manner': <function Hello.Wenhou_manner at 0x061A5E40>, '__WenhouFunc__': ['Wenhou_hello', 'Wenhou_manner'], '__WenhouName__': [<function Hello.Wenhou_hello at 0x061A5660>, <function Hello.Wenhou_manner at 0x061A5E40>], '__WenhouFuncCount__': 2}\n"
     ]
    },
    {
     "data": {
      "text/plain": [
       "\"\\nclass Wenhou_Nihao(object,metaclass=SayMetaClass):\\n    pass\\n\\nclass Wenhou_Sayolala(object,metaclass=SayMetaClass):\\n    pass\\n    \\nprint('==============Hello================')\\n\\n# 二生三 创建实例\\nhello = Hello()\\n\\n# 三生万物 调用实例方法\\nhello.say_Hello('World')\\n\\nprint('==============Nihao================')\\n\\n\\n\\nnihao = Nihao()\\nnihao.say_Nihao('中华')\\n\\nprint('===============Sayolala===============')\\n\\n\\nsayolala = Sayolala()\\nsayolala.say_Sayolala('Japan')\\n\""
      ]
     },
     "execution_count": 37,
     "metadata": {},
     "output_type": "execute_result"
    }
   ],
   "source": [
    "# 道生一 传入 type \n",
    "class SayMetaClass(type):\n",
    "    # 传入三大永恒话题： 类名称、父类、属性\n",
    "    def __new__(cls,name,bases,attrs):\n",
    "        print(attrs)\n",
    "        count = 0\n",
    "        attrs['__WenhouFunc__'] = []\n",
    "        attrs['__WenhouName__'] = []\n",
    "        for k,v in attrs.items():\n",
    "            if 'Wenhou_' in k:\n",
    "                attrs['__WenhouFunc__'].append(k)\n",
    "                attrs['__WenhouName__'].append(v)\n",
    "                count += 1\n",
    "        #for k in attrs['__WenhouName__']:\n",
    "            #attrs.pop(k)\n",
    "        attrs['__WenhouFuncCount__'] = count\n",
    "        print(attrs)\n",
    "        return type.__new__(cls,name,bases,attrs)\n",
    "\n",
    "# 一生二 创建类\n",
    "class Hello(object,metaclass=SayMetaClass):\n",
    "    \n",
    "    def Wenhou_hello(self):\n",
    "        pass\n",
    "    \n",
    "    def Wenhou_manner(self):\n",
    "        pass\n",
    "    \n",
    "    \n",
    "\n",
    "\n",
    "\n",
    "\n",
    "\n",
    "'''\n",
    "class Wenhou_Nihao(object,metaclass=SayMetaClass):\n",
    "    pass\n",
    "\n",
    "class Wenhou_Sayolala(object,metaclass=SayMetaClass):\n",
    "    pass\n",
    "    \n",
    "print('==============Hello================')\n",
    "\n",
    "# 二生三 创建实例\n",
    "hello = Hello()\n",
    "\n",
    "# 三生万物 调用实例方法\n",
    "hello.say_Hello('World')\n",
    "\n",
    "print('==============Nihao================')\n",
    "\n",
    "\n",
    "\n",
    "nihao = Nihao()\n",
    "nihao.say_Nihao('中华')\n",
    "\n",
    "print('===============Sayolala===============')\n",
    "\n",
    "\n",
    "sayolala = Sayolala()\n",
    "sayolala.say_Sayolala('Japan')\n",
    "'''\n",
    "\n"
   ]
  },
  {
   "cell_type": "markdown",
   "metadata": {},
   "source": [
    "# python3 下的元类窥探及实现\n",
    "\n",
    "https://blog.csdn.net/cz19900520/article/details/79641597\n",
    "\n",
    "### 类也是对象"
   ]
  },
  {
   "cell_type": "code",
   "execution_count": null,
   "metadata": {},
   "outputs": [],
   "source": []
  },
  {
   "cell_type": "markdown",
   "metadata": {},
   "source": [
    "# Python之Metaclass详解，Python之元类\n",
    "https://www.cnblogs.com/intimacy/p/8119449.html\n",
    "\n",
    "## 类同样也是一种对象"
   ]
  },
  {
   "cell_type": "code",
   "execution_count": 2,
   "metadata": {},
   "outputs": [],
   "source": [
    "class Test(object):\n",
    "    pass"
   ]
  },
  {
   "cell_type": "markdown",
   "metadata": {},
   "source": [
    "在只要你使用关键字class，Python解释器在执行的时候就会创建一个对象。\n",
    "\n",
    "以上代码结束后,python在内存中创建了一个名为 Test 的对象。\n",
    "\n",
    "这个对象和普通对象有所不同：**拥有创建对象（实例对象）的能力**\n",
    "\n",
    "但是，它的本质仍然是一个对象，于是乎你可以对它做如下的操作：\n",
    "\n",
    "- 将他赋值给一个变量\n",
    "- 拷贝他\n",
    "- 给他设置属性\n",
    "- 将他当做方法的参数传递"
   ]
  },
  {
   "cell_type": "code",
   "execution_count": 5,
   "metadata": {},
   "outputs": [
    {
     "name": "stdout",
     "output_type": "stream",
     "text": [
      "<class '__main__.Test'>\n",
      "---------------\n",
      "<class '__main__.Test'>\n",
      "---------------\n",
      "True\n",
      "False\n",
      "attribute\n",
      "---------------\n",
      "attribute\n",
      "---------------\n",
      "<__main__.Test object at 0x016D6C70>\n"
     ]
    }
   ],
   "source": [
    "print(Test) # 你可以打印一个类，因为它其实也是一个对象\n",
    "print('---------------')\n",
    "def echo(o):\n",
    "    print(o)\n",
    "\n",
    "echo(Test) # 你可以将类做为参数传给函数\n",
    "print('---------------')\n",
    "print(hasattr(Test,'a'))\n",
    "Test.a = 'attribute' # 你可以为类增加属性\n",
    "print(hasattr(Test,'attribute'))\n",
    "print(Test.a)\n",
    "print('---------------')\n",
    "test = Test # 你可以将类赋值给一个变量\n",
    "print(test.a)\n",
    "\n",
    "print('---------------')\n",
    "print(test()) # 创建实例"
   ]
  },
  {
   "cell_type": "markdown",
   "metadata": {},
   "source": [
    "## 动态地创建类\n",
    "\n",
    "因为**类也是对象，你可以在运行时动态的创建它们，就像其他任何对象一样**。首先，你可以在函数中创建类，使用class关键字即可。"
   ]
  },
  {
   "cell_type": "code",
   "execution_count": 13,
   "metadata": {},
   "outputs": [
    {
     "name": "stdout",
     "output_type": "stream",
     "text": [
      "<class '__main__.test.<locals>.Jamie'>\n",
      "<__main__.test.<locals>.Jamie object at 0x00CBA690>\n"
     ]
    }
   ],
   "source": [
    "def test(name):\n",
    "    if name == 'jamie':\n",
    "        class Jamie(object):\n",
    "            pass   \n",
    "        return Jamie   # 返回的是类，不是类的实例\n",
    "    else:\n",
    "        class Xujiu(object):\n",
    "            pass\n",
    "        return Xujiu\n",
    "    \n",
    "my = test('jamie')\n",
    "print(my)   # 返回的是类，不是类的实例\n",
    "print(my())   # 你可以通过这个类创建类实例，也就是对象"
   ]
  },
  {
   "cell_type": "markdown",
   "metadata": {},
   "source": [
    "但这还不够动态，因为你仍然需要自己编写整个类的代码。由于类也是对象，所以它们必须是通过什么东西来生成的才对。\n",
    "\n",
    "**当你使用class关键字时，Python解释器自动创建这个对象**。但就和Python中的大多数事情一样，Python仍然提供给你手动处理的方法。\n",
    "\n",
    "还记得内建函数type吗？这个古老但强大的函数能够让你知道一个对象的类型是什么，就像这样："
   ]
  },
  {
   "cell_type": "code",
   "execution_count": 14,
   "metadata": {},
   "outputs": [
    {
     "name": "stdout",
     "output_type": "stream",
     "text": [
      "<class 'int'>\n",
      "<class 'str'>\n",
      "<class '__main__.test.<locals>.Jamie'>\n",
      "<class 'type'>\n"
     ]
    }
   ],
   "source": [
    "print(type(1))   # 数值的类型\n",
    "print(type('1'))  # 字符串的类型\n",
    "print(type(my()))   # 实例对象的类型\n",
    "print(type(my)) # 类的类型"
   ]
  },
  {
   "cell_type": "markdown",
   "metadata": {},
   "source": [
    "仔细观察上面的运行结果，发现使用type对类 my 查看类型答案为type， 是不是有些惊讶。。。看下面\n",
    "\n",
    "## 使用type创建类\n",
    "\n",
    "type还有一种完全不同的功能，动态的创建类。\n",
    "\n",
    "type可以接受一个类的描述作为参数，然后返回一个类。（要知道，根据传入参数的不同，同一个函数拥有两种完全不同的用法是一件很傻的事情，但这在Python中是为了保持向后兼容性）\n",
    "\n",
    "type可以像这样工作：\n",
    "\n",
    "**type(类名, 由父类名称组成的元组（针对继承的情况，可以为空），包含属性的字典（名称和值）)**\n",
    "\n",
    "注意Python支持多重继承，如果只有一个父类，别忘了tuple的单元素写法；\n",
    "\n",
    "- 用 class 创建类"
   ]
  },
  {
   "cell_type": "code",
   "execution_count": 17,
   "metadata": {},
   "outputs": [
    {
     "data": {
      "text/plain": [
       "<__main__.Test at 0xcba670>"
      ]
     },
     "execution_count": 17,
     "metadata": {},
     "output_type": "execute_result"
    }
   ],
   "source": [
    "class Test:  # 定义一个Test类\n",
    "    pass\n",
    "\n",
    "Test()  # 创建一个Test类地实例对象"
   ]
  },
  {
   "cell_type": "markdown",
   "metadata": {},
   "source": [
    "- 用 type 创建类"
   ]
  },
  {
   "cell_type": "code",
   "execution_count": 18,
   "metadata": {},
   "outputs": [
    {
     "data": {
      "text/plain": [
       "<__main__.Test2 at 0xcba630>"
      ]
     },
     "execution_count": 18,
     "metadata": {},
     "output_type": "execute_result"
    }
   ],
   "source": [
    "Test2 = type('Test2',(),{}) \n",
    "Test2()"
   ]
  },
  {
   "cell_type": "markdown",
   "metadata": {},
   "source": [
    "我们使用\"Test2\"作为类名，并且也可以把它当做一个变量来作为类的引用。类和变量是不同的，这里没有任何理由把事情弄的复杂。即type函数中第1个实参，也可以叫做其他的名字，这个名字表示类的名字\n",
    "\n",
    "## 使用 type 创建带有属性的类\n",
    "\n",
    "type 接受一个字典来为类定义属性，因此"
   ]
  },
  {
   "cell_type": "code",
   "execution_count": 6,
   "metadata": {},
   "outputs": [
    {
     "name": "stdout",
     "output_type": "stream",
     "text": [
      "value\n"
     ]
    }
   ],
   "source": [
    "Foo = type('Foo',(object,),{'bar': 'value'})\n",
    "print(Foo.bar)"
   ]
  },
  {
   "cell_type": "markdown",
   "metadata": {},
   "source": [
    "可以翻译为："
   ]
  },
  {
   "cell_type": "code",
   "execution_count": 26,
   "metadata": {},
   "outputs": [
    {
     "name": "stdout",
     "output_type": "stream",
     "text": [
      "value\n",
      "inst value\n"
     ]
    }
   ],
   "source": [
    "class Foo(object):\n",
    "    bar = 'value'\n",
    "    def __init__(self):\n",
    "          self.inst = 'inst value'\n",
    "            \n",
    "foo = Foo()\n",
    "print(Foo.bar)\n",
    "print(foo.inst)"
   ]
  },
  {
   "cell_type": "markdown",
   "metadata": {},
   "source": [
    "**注意**\n",
    "\n",
    "- type的第2个参数，元组中是父类的名字，而不是字符串\n",
    "-  通过 type 添加的属性是类属性，并不是实例属性，而 class 可以定义类和实例的属性\n",
    "\n",
    "当然，可以继承这个类"
   ]
  },
  {
   "cell_type": "code",
   "execution_count": 29,
   "metadata": {},
   "outputs": [
    {
     "name": "stdout",
     "output_type": "stream",
     "text": [
      "value\n",
      "inst value\n"
     ]
    }
   ],
   "source": [
    "class FooChild(Foo):\n",
    "    pass\n",
    "\n",
    "print(FooChild.bar)\n",
    "foochild = FooChild()\n",
    "print(foochild.inst)"
   ]
  },
  {
   "cell_type": "markdown",
   "metadata": {},
   "source": [
    "可以写成为："
   ]
  },
  {
   "cell_type": "code",
   "execution_count": 28,
   "metadata": {},
   "outputs": [
    {
     "name": "stdout",
     "output_type": "stream",
     "text": [
      "value\n"
     ]
    }
   ],
   "source": [
    "FooChild = type('FooChild',(Foo,),{})\n",
    "print(FooChild.bar)"
   ]
  },
  {
   "cell_type": "markdown",
   "metadata": {},
   "source": [
    "## 使用 type 创建带有方法的类\n",
    "\n",
    "为类增加方法。只需要定义一个有着恰当签名的函数并将其作为属性赋值就可以了。\n",
    "\n",
    "**添加实例方法**\n",
    "\n",
    "函数定义需要self参数\n",
    "\n",
    "def echo_bar(self):"
   ]
  },
  {
   "cell_type": "code",
   "execution_count": 6,
   "metadata": {},
   "outputs": [
    {
     "name": "stdout",
     "output_type": "stream",
     "text": [
      "value\n",
      "False\n",
      "True\n",
      "value\n"
     ]
    }
   ],
   "source": [
    "# 创建带有属性的类\n",
    "Foo = type('Foo',(object,),{'bar': 'value'})\n",
    "print(Foo.bar)\n",
    "\n",
    "# 定义一个普通的函数\n",
    "def echo_bar(self):\n",
    "    print(self.bar)\n",
    "    \n",
    "# 让FooChild类中的echo_bar属性，指向了上面定义的函数\n",
    "FooChild = type('FooChild',(Foo,),{'echo_bar':echo_bar})\n",
    "\n",
    "# 判断 Foo 类种是否有 echo_bar 这个属性\n",
    "print(hasattr(Foo,'echo_bar'))\n",
    "\n",
    "# 判断 FooChild 类中 是否有 echo_bar 这个属性\n",
    "print(hasattr(FooChild,'echo_bar'))\n",
    "\n",
    "my_foo = FooChild()\n",
    "my_foo.echo_bar() # 在实例上调用 "
   ]
  },
  {
   "cell_type": "markdown",
   "metadata": {},
   "source": [
    "**添加静态方法**\n",
    "\n",
    "函数定义可以不传递任何参数\n",
    "\n",
    "def test_static():\n",
    "\n",
    "staticmethod 方法的参数是自定义的任何参数，当然也可以没有参数。它不需要一个隐含参数，像self这样的。这是它与实例方法和类方法之间在形式上的一个主要不同之处。\n",
    "\n",
    "staticmethod即可以在类上调用`C.fun()`也可以在实例上调用`C().fun()`. **在实例上调用时，实例被忽略而类被使用---实际上还是类调用。**\n",
    "\n",
    "\n",
    "**@staticmethod** means: when this method is called, we don't pass an instance of the class to it (as we normally do with methods). This means you can put a function inside a class but you can't access the instance of that class (this is useful when your method does not use the instance).\n",
    "\n",
    "classmethod 必须使用类对象作为第一个参数，而 staticmethod 则可以不传递任何参数。\n",
    "\n",
    "一般类中传递的是 self 类实例"
   ]
  },
  {
   "cell_type": "code",
   "execution_count": 9,
   "metadata": {},
   "outputs": [
    {
     "name": "stdout",
     "output_type": "stream",
     "text": [
      "<function test_static at 0x058808A0>\n",
      "static method ...\n",
      "static method ...\n"
     ]
    }
   ],
   "source": [
    "# 创建带有属性的类\n",
    "Foo = type('Foo',(object,),{'bar': 'value'})\n",
    "\n",
    "# 定义一个普通的函数\n",
    "def echo_bar(self):\n",
    "    print(self.bar)\n",
    "\n",
    "@staticmethod\n",
    "def test_static():\n",
    "    return('static method ...')\n",
    "    \n",
    "Foochild = type('Foochild',(Foo,),{'echo_bar':echo_bar,'test_static':test_static})\n",
    "foochild = Foochild()\n",
    "\n",
    "print(foochild.test_static)\n",
    "print(foochild.test_static()) # 在实例上调用方法 (实例被忽略而类被使用---实际上还是类调用)\n",
    "print(Foochild.test_static())  # 在类上调用方法"
   ]
  },
  {
   "cell_type": "markdown",
   "metadata": {},
   "source": [
    "是因为python函数使用return返回值，如果不用\n",
    "return, 而用print输出值，这个函数默认还有一个返回值为None \n",
    "\n",
    "**添加类方法**\n",
    "\n",
    "函数定义需要cls参数\n",
    "\n",
    "def test_class(cls)\n",
    "\n",
    "classmethod需要接收一个隐含参数作为第一个参数，不同于实例方法的self, 类方法的隐含参数叫做cls(其实可以叫任何别的名字，这里主要是因为命名惯例), 表示传入该方法所属的类。 \n",
    "\n",
    "classmethod即可以在类上调用（C.f()）也可以在实例上调用（C().f()）. **在实例上调用时，实例被忽略而类被使用---实际上还是类调用。**\n",
    "\n",
    "**@classmethod** means: when this method is called, we pass the class as the first argument instead of the instance of that class (as we normally do with methods). This means you can use the class and its properties inside that method rather than a particular instance."
   ]
  },
  {
   "cell_type": "code",
   "execution_count": 12,
   "metadata": {},
   "outputs": [
    {
     "name": "stdout",
     "output_type": "stream",
     "text": [
      "value\n",
      "value\n"
     ]
    }
   ],
   "source": [
    "# 创建带有属性的类\n",
    "Foo = type('Foo',(object,),{'bar': 'value'})\n",
    "\n",
    "@classmethod\n",
    "def test_class(cls):\n",
    "    return(cls.bar)\n",
    "    \n",
    "Testchild = type('Testchild',(Foo,),{\"echo_bar\":echo_bar, \"test_static\": test_static, \"test_class\": test_class})\n",
    "testchild = Testchild() \n",
    "print(Testchild.test_class()) # 在类上调用方法\n",
    "print(testchild.test_class()) # 在实例上调用方法 (实例被忽略而类被使用---实际上还是类调用)"
   ]
  },
  {
   "cell_type": "markdown",
   "metadata": {},
   "source": [
    "## 到底什么是元类\n",
    "\n",
    "元类就是用来创建类的“东西”。\n",
    "\n",
    "你创建类就是为了创建类的实例对象，不是吗？但是我们已经学习到了Python中的类也是对象。\n",
    "\n",
    "**元类就是用来创建这些类（对象）的，元类就是类的类**，你可以这样理解为：\n",
    "\n",
    "```\n",
    "Myclass = MetaClass()  # 使用元类创建出一个对象，这个对象称为“类”\n",
    "my_object = Myclass() # 使用“类”来创建出实例对象\n",
    "```\n",
    "你已经看到了type可以让你像这样做：\n",
    "\n",
    "`myclass = type(类名, 由父类名称组成的元组（针对继承的情况，可以为空），包含属性的字典（名称和值）)`\n",
    "\n",
    "这是因为函数type实际上是一个元类。**type就是Python在背后用来创建所有类的元类**。现在你想知道那为什么type会全部采用小写形式而不是Type呢？好吧，我猜这是为了和str保持一致性，str是用来创建字符串对象的类，而int是用来创建整数对象的类。type就是创建类对象的类。你可以通过检查__class__属性来看到这一点。**Python中所有的东西，注意，我是指所有的东西——都是对象。这包括整数、字符串、函数以及类。**它们全部都是对象，而且它们都是从一个类创建而来，这个类就是type。\n"
   ]
  },
  {
   "cell_type": "code",
   "execution_count": 14,
   "metadata": {},
   "outputs": [
    {
     "name": "stdout",
     "output_type": "stream",
     "text": [
      "<class 'int'>\n",
      "<class 'str'>\n",
      "<class 'function'>\n",
      "<class '__main__.Bar'>\n"
     ]
    }
   ],
   "source": [
    "age = 35\n",
    "print(age.__class__)\n",
    "\n",
    "name = 'bob'\n",
    "print(name.__class__)\n",
    "\n",
    "def foo():pass\n",
    "print(foo.__class__)\n",
    "\n",
    "class Bar():pass\n",
    "b = Bar()\n",
    "print(b.__class__)"
   ]
  },
  {
   "cell_type": "markdown",
   "metadata": {},
   "source": [
    "现在，对于任何一个__class__的__class__属性又是什么呢？"
   ]
  },
  {
   "cell_type": "code",
   "execution_count": 15,
   "metadata": {},
   "outputs": [
    {
     "name": "stdout",
     "output_type": "stream",
     "text": [
      "<class 'type'>\n",
      "<class 'type'>\n",
      "<class 'type'>\n",
      "<class 'type'>\n"
     ]
    }
   ],
   "source": [
    "print(age.__class__.__class__)\n",
    "print(name.__class__.__class__)\n",
    "print(foo.__class__.__class__)\n",
    "print(b.__class__.__class__)"
   ]
  },
  {
   "cell_type": "markdown",
   "metadata": {},
   "source": [
    "因此，元类就是创建类这种对象的东西。type就是Python的内建元类，当然了，你也可以创建自己的元类。\n",
    "\n",
    "## python3 中的 metaclass\n",
    "\n",
    "你可以在定义一个类的时候为其添加参数 metaclass。\n",
    "\n",
    "python3.x的写法\n",
    "```\n",
    "class Foo(object,metaclass=something...):\n",
    "    ...\n",
    "```\n",
    "\n",
    "如果你这么做了，Python就会用元类来创建类Foo。小心点，这里面有些技巧。你首先写下class Foo(object)，但是类Foo还没有在内存中创建。Python会在类的定义中寻找__metaclass__属性，如果找到了，Python就会用它来创建类Foo，如果没有找到，就会用内建的type来创建这个类。把下面这段话反复读几次。当你写如下代码时 :"
   ]
  },
  {
   "cell_type": "code",
   "execution_count": null,
   "metadata": {},
   "outputs": [],
   "source": [
    "class Foo(Bar):\n",
    "    pass"
   ]
  },
  {
   "cell_type": "markdown",
   "metadata": {},
   "source": [
    "Python做了如下的操作：\n",
    "\n",
    "- Foo中有__metaclass__这个属性吗？如果是，Python会通过__metaclass__创建一个名字为Foo的类(对象)\n",
    "- 如果Python没有找到__metaclass__，它会继续在Bar（父类）中寻找__metaclass__属性，并尝试做和前面同样的操作。\n",
    "- 如果Python在任何父类中都找不到__metaclass__，它就会在模块层次中去寻找__metaclass__，并尝试做同样的操作。\n",
    "- 如果还是找不到__metaclass__,Python就会用内置的type来创建这个类对象。\n",
    "\n",
    "现在的问题就是，你可以在__metaclass__中放置些什么代码呢？答案就是：可以创建一个类的东西。那么什么可以用来创建一个类呢？**type，或者任何使用到type或者子类化type的东东都可以**。\n",
    "\n",
    "\n",
    "## 自定义元类\n",
    "\n",
    "元类的主要目的就是为了当创建类时能够自动地改变类。\n",
    "\n",
    "假想一个很傻的例子，你决定在你的模块里所有的类的属性都应该是大写形式。有好几种方法可以办到，但其中一种就是通过在模块级别设定__metaclass__。采用这种方法，这个模块中的所有类都会通过这个元类来创建，我们只需要告诉元类把所有的属性都改成大写形式就万事大吉了。\n",
    "\n",
    "幸运的是，__metaclass__实际上可以被任意调用，它并不需要是一个正式的类。所以，我们这里就先以一个简单的函数作为例子开始。"
   ]
  },
  {
   "cell_type": "code",
   "execution_count": 17,
   "metadata": {},
   "outputs": [
    {
     "name": "stdout",
     "output_type": "stream",
     "text": [
      "False\n",
      "True\n",
      "['BAR', '__class__', '__delattr__', '__dict__', '__dir__', '__doc__', '__eq__', '__format__', '__ge__', '__getattribute__', '__gt__', '__hash__', '__init__', '__init_subclass__', '__le__', '__lt__', '__module__', '__ne__', '__new__', '__reduce__', '__reduce_ex__', '__repr__', '__setattr__', '__sizeof__', '__str__', '__subclasshook__', '__weakref__']\n"
     ]
    }
   ],
   "source": [
    "def upper_attr(class_name,class_parents,class_attr):\n",
    "    # 遍历属性字典，把不是__开头的属性名字变为大写\n",
    "    new_attr = {}\n",
    "    for name,value in class_attr.items():\n",
    "        if not name.startswith('__'):\n",
    "            new_attr[name.upper()] = value\n",
    "    #调用type来创建一个类    \n",
    "    return type(class_name, class_parents, new_attr)\n",
    "\n",
    "class Foo(object,metaclass=upper_attr):\n",
    "    bar = 'bip'\n",
    "    \n",
    "print(hasattr(Foo,'bar'))\n",
    "print(hasattr(Foo,'BAR'))\n",
    "\n",
    "print(dir(Foo))"
   ]
  },
  {
   "cell_type": "markdown",
   "metadata": {},
   "source": [
    "现在让我们再做一次，这一次用一个真正的class来当做元类。\n",
    "\n",
    "- __new__ 是在__init__之前被调用的特殊方法\n",
    "- __new__是用来创建对象并返回之的方法而 __init__只是用来将传入的参数初始化给对象\n",
    "- 你很少用到__new__，除非你希望能够控制对象的创建\n",
    "- 这里，创建的对象是类，我们希望能够自定义它，所以我们这里改写__new__"
   ]
  },
  {
   "cell_type": "code",
   "execution_count": 26,
   "metadata": {},
   "outputs": [
    {
     "name": "stdout",
     "output_type": "stream",
     "text": [
      "False\n",
      "True\n",
      "['BAR', '__class__', '__delattr__', '__dict__', '__dir__', '__doc__', '__eq__', '__format__', '__ge__', '__getattribute__', '__gt__', '__hash__', '__init__', '__init_subclass__', '__le__', '__lt__', '__module__', '__ne__', '__new__', '__reduce__', '__reduce_ex__', '__repr__', '__setattr__', '__sizeof__', '__str__', '__subclasshook__', '__weakref__']\n"
     ]
    }
   ],
   "source": [
    "class Upper_attr(type):\n",
    "    \n",
    "    def __new__(cls,name,bases,attrs):\n",
    "        new_attrs = {}\n",
    "        for key,value in attrs.items():\n",
    "            if not key.startswith('__'):\n",
    "                new_attrs[key.upper()] = value\n",
    "        \n",
    "        #复用type.__new__方法\n",
    "        return type.__new__(cls,name,bases,new_attrs)\n",
    "    \n",
    "class Foo(object,metaclass=Upper_attr):\n",
    "    bar = 'bip'\n",
    "    \n",
    "print(hasattr(Foo,'bar'))\n",
    "print(hasattr(Foo,'BAR'))\n",
    "\n",
    "print(dir(Foo))"
   ]
  },
  {
   "cell_type": "code",
   "execution_count": null,
   "metadata": {},
   "outputs": [],
   "source": []
  }
 ],
 "metadata": {
  "kernelspec": {
   "display_name": "Python 3",
   "language": "python",
   "name": "python3"
  },
  "language_info": {
   "codemirror_mode": {
    "name": "ipython",
    "version": 3
   },
   "file_extension": ".py",
   "mimetype": "text/x-python",
   "name": "python",
   "nbconvert_exporter": "python",
   "pygments_lexer": "ipython3",
   "version": "3.6.5"
  },
  "toc": {
   "nav_menu": {},
   "number_sections": true,
   "sideBar": true,
   "skip_h1_title": false,
   "title_cell": "Table of Contents",
   "title_sidebar": "Contents",
   "toc_cell": false,
   "toc_position": {},
   "toc_section_display": true,
   "toc_window_display": false
  },
  "varInspector": {
   "cols": {
    "lenName": 16,
    "lenType": 16,
    "lenVar": 40
   },
   "kernels_config": {
    "python": {
     "delete_cmd_postfix": "",
     "delete_cmd_prefix": "del ",
     "library": "var_list.py",
     "varRefreshCmd": "print(var_dic_list())"
    },
    "r": {
     "delete_cmd_postfix": ") ",
     "delete_cmd_prefix": "rm(",
     "library": "var_list.r",
     "varRefreshCmd": "cat(var_dic_list()) "
    }
   },
   "types_to_exclude": [
    "module",
    "function",
    "builtin_function_or_method",
    "instance",
    "_Feature"
   ],
   "window_display": false
  }
 },
 "nbformat": 4,
 "nbformat_minor": 2
}
