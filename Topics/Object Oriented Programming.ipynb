{
 "cells": [
  {
   "cell_type": "markdown",
   "metadata": {},
   "source": [
    "# 动态给实例／class 绑定属性和方法\n",
    "\n",
    "正常情况下，当我们定义了一个 class，创建了一个 class的实例后，我们可以**给该实例绑定任何属性和方法**，这就是**动态语言的灵活性**。\n",
    "\n",
    "下面是给一个实例绑定属性和方法，**注意给某个实例绑定方法，对另一个实例是不起作用的**\n",
    "\n",
    "为了给所有实例绑定方法，可以给 class绑定方法。"
   ]
  },
  {
   "cell_type": "code",
   "execution_count": 11,
   "metadata": {},
   "outputs": [
    {
     "name": "stdout",
     "output_type": "stream",
     "text": [
      "Jamie\n",
      "28\n",
      "100 99\n"
     ]
    }
   ],
   "source": [
    "# 定义 class\n",
    "class Student():\n",
    "    pass\n",
    "\n",
    "s = Student()\n",
    "\n",
    "# 动态地给实例绑定属性\n",
    "s.name = 'Jamie'\n",
    "print(s.name)\n",
    "\n",
    "# 动态地给实例绑定方法\n",
    "def set_age(self,age): #定义一个函数作为实例的方法\n",
    "    self.age = age \n",
    "    \n",
    "from types import MethodType\n",
    "s.set_age = MethodType(set_age,s) # 给实例绑定方法\n",
    "s.set_age(28)\n",
    "print(s.age)\n",
    "\n",
    "# 该方法对另一个实例不起作用\n",
    "s2 =Student()\n",
    "s2.set_age(30) # 报错 AttributeError: 'student' object has no attribute 'set_age'\n",
    "\n",
    "# 动态给class绑定方法\n",
    "def set_score(self,score):\n",
    "    self.score = score\n",
    "    \n",
    "Student.set_score = set_score\n",
    "s.set_score(100)\n",
    "s2.set_score (99)\n",
    "print(s.score,s2.score)"
   ]
  },
  {
   "cell_type": "markdown",
   "metadata": {},
   "source": [
    "通常情况下，上面的set_score方法可以直接定义在class中，但动态绑定允许我们在程序运行的过程中动态给class加上功能，这在静态语言中很难实现。\n",
    "\n",
    "# 使用\\__slots__\n",
    "\n",
    "当我们想要限制实例的属性怎么办？比如，只允许对Student实例添加name和age属性。为了达到限制的目的，Python允许在定义class的时候，**定义一个特殊的\\__slots__变量，来限制该class实例能添加的属性**\n",
    "\n",
    "由于'score'没有被放到\\__slots__中，所以不能绑定score属性，试图绑定score将得到AttributeError的错误。\n",
    "\n",
    "**注意\\__slots__定义的属性仅对当前类实例起作用，对继承的子类是不起作用的**\n",
    "\n",
    "除非在子类中也定义\\__slots__，这样，**子类实例允许定义的属性就是自身的\\__slots__加上父类的\\__slots__**。"
   ]
  },
  {
   "cell_type": "code",
   "execution_count": 20,
   "metadata": {},
   "outputs": [
    {
     "name": "stdout",
     "output_type": "stream",
     "text": [
      "100\n"
     ]
    }
   ],
   "source": [
    "# 使用__slots__\n",
    "class Student(object):\n",
    "    __slots__ = ('name','age')\n",
    "    \n",
    "s = Student()\n",
    "s.name = 'Jamie'\n",
    "s.age = 28\n",
    "# 由于'score'没有被放到__slots__中，所以不能绑定score属性，试图绑定score将得到AttributeError的错误。\n",
    "#s.score = 100 # 报错 AttributeError: 'Student' object has no attribute 'score'\n",
    "\n",
    "\n",
    "# slots定义的属性仅对当前类实例起作用，对继承的子类是不起作用的\n",
    "class GraduateStudent(Student):\n",
    "    pass\n",
    "g = GraduateStudent()\n",
    "g.score = 100\n",
    "print(g.score)\n",
    "\n",
    "\n",
    "#除非在子类中也定义__slots__，这样，子类实例允许定义的属性就是自身的__slots__加上父类的__slots__。\n",
    "\n",
    "class Gstudent(Student):\n",
    "    __slots__ = ('height')\n",
    "\n",
    "gs = Gstudent()\n",
    "gs.name = 'gs'\n",
    "gs.age = 30\n",
    "gs.height = 160\n",
    "# gs.score =99 # AttributeError: 'Gstudent' object has no attribute 'score'"
   ]
  },
  {
   "cell_type": "markdown",
   "metadata": {},
   "source": [
    "# 使用@property\n",
    "\n",
    "为了限制score的范围，可以通过一个set_score()方法来设置成绩，再通过一个get_score()来获取成绩，这样，在set_score()方法里，就可以检查参数："
   ]
  },
  {
   "cell_type": "code",
   "execution_count": 10,
   "metadata": {},
   "outputs": [
    {
     "data": {
      "text/plain": [
       "90"
      ]
     },
     "execution_count": 10,
     "metadata": {},
     "output_type": "execute_result"
    }
   ],
   "source": [
    "class Student(object):\n",
    "    \n",
    "    def get_score(self):\n",
    "        return self._score\n",
    "    \n",
    "    def set_score(self,value):\n",
    "        if not isinstance(value,int):\n",
    "            raise ValueError('Score must be an interger!')\n",
    "        if value < 0 or value > 100:\n",
    "            raise ValueError('Score must be between 0~100')\n",
    "            \n",
    "        self._score = value\n",
    "        \n",
    "\n",
    "s = Student()\n",
    "s.set_score(90)\n",
    "s.get_score()\n",
    "#s.set_score(999)"
   ]
  },
  {
   "cell_type": "markdown",
   "metadata": {},
   "source": [
    "如果要让内部属性不被外部访问，可以把属性的名称前加上两个下划线\\__，在Python中，实例的变量名如果以__开头，就变成了一个私有变量（private），只有内部可以访问，外部不能访问\n",
    "\n",
    "有些时候，你会看到以一个下划线开头的实例变量名，比如_name，这样的实例变量外部是可以访问的，但是，按照约定俗成的规定，当你看到这样的变量时，意思就是，“虽然我可以被访问，但是，请把我视为私有变量，不要随意访问”。\n",
    "\n",
    "但是，上面的调用方法又略显复杂，没有直接用属性这么直接简单。有没有既能检查参数，又可以用类似属性这样简单的方式来访问类的变量呢？还记得装饰器（decorator）可以给函数动态加上功能吗？对于类的方法，装饰器一样起作用。Python内置的@property装饰器就是负责把一个方法变成属性调用的："
   ]
  },
  {
   "cell_type": "code",
   "execution_count": 18,
   "metadata": {},
   "outputs": [
    {
     "data": {
      "text/plain": [
       "60"
      ]
     },
     "execution_count": 18,
     "metadata": {},
     "output_type": "execute_result"
    }
   ],
   "source": [
    "class Student(object):\n",
    "    \n",
    "    @property\n",
    "    def score(self):\n",
    "        return self._score\n",
    "    \n",
    "    @score.setter\n",
    "    def score(self,value):\n",
    "        if not isinstance(value,int):\n",
    "            raise ValueError('Score must be an interger!')\n",
    "        if value < 0 or value > 100:\n",
    "            raise ValueError('Score must be between 0~100')\n",
    "            \n",
    "        self._score = value\n",
    "        \n",
    "\n",
    "s = Student()\n",
    "s.score = 60 # 实际事转化s.set_score(60)\n",
    "s.score # 实际事转化s.get_score()\n",
    "\n",
    "# s.score = 999"
   ]
  },
  {
   "cell_type": "markdown",
   "metadata": {},
   "source": [
    "@property的实现比较复杂，我们先考察如何使用。把一个getter方法变成属性，只需要加上@property就可以了，此时，@property本身又创建了另一个装饰器@score.setter，负责把一个setter方法变成属性赋值，于是，我们就拥有一个可控的属性操作。 \n",
    "\n",
    "注意到这个神奇的@property，我们在对实例属性操作的时候，就知道该属性很可能不是直接暴露的，而是通过getter和setter方法来实现的。\n",
    "\n",
    "还可以定义只读属性，只定义getter方法，不定义setter方法就是一个只读属性："
   ]
  },
  {
   "cell_type": "code",
   "execution_count": 21,
   "metadata": {},
   "outputs": [
    {
     "data": {
      "text/plain": [
       "1990"
      ]
     },
     "execution_count": 21,
     "metadata": {},
     "output_type": "execute_result"
    }
   ],
   "source": [
    "class Student(object):\n",
    "    \n",
    "    @property\n",
    "    def birth(self):\n",
    "        return self._birth\n",
    "    \n",
    "    @birth.setter\n",
    "    def birth(self,value):\n",
    "        self._birth = value\n",
    "    \n",
    "    @property\n",
    "    def age(self):\n",
    "        return 2018-self._birth\n",
    "    \n",
    "s = Student()\n",
    "s.birth = 28\n",
    "s.age"
   ]
  },
  {
   "cell_type": "markdown",
   "metadata": {},
   "source": [
    "上面的birth是可读写属性，而age就是一个只读属性，因为age可以根据birth和当前时间计算出来。\n",
    "\n",
    "# 定制类\n",
    "\n",
    "看到类似\\__slots__这种形如\\__xxx__的变量或者函数名就要注意，这些在Python中是有特殊用途的。\n",
    "\n",
    "\\__slots__我们已经知道怎么用了，\\__len__()方法我们也知道是为了能让class作用于len()函数。\n",
    "\n",
    "除此之外，Python的class中还有许多这样有特殊用途的函数，可以帮助我们定制类。\n",
    "\n",
    "## \\__str__\n",
    "\n",
    "用print打印实例的结果： `<__main__.Student object at 0x1107b4588>`，不好看。怎么才能打印得好看呢？只需要定义好__str__()方法，返回一个好看的字符串就可以了："
   ]
  },
  {
   "cell_type": "code",
   "execution_count": 25,
   "metadata": {},
   "outputs": [
    {
     "name": "stdout",
     "output_type": "stream",
     "text": [
      "<__main__.Student object at 0x11085ce48>\n",
      "__str__ 使 print 打印出定制内容\n",
      "Student object:Jamie\n"
     ]
    },
    {
     "data": {
      "text/plain": [
       "<__main__.Student at 0x110880f98>"
      ]
     },
     "execution_count": 25,
     "metadata": {},
     "output_type": "execute_result"
    }
   ],
   "source": [
    "class Student():\n",
    "    def __init__(self,name):\n",
    "        self.name = name\n",
    "\n",
    "s = Student('Jamie')\n",
    "print(s)\n",
    "\n",
    "print('__str__ 使 print 打印出定制内容')\n",
    "\n",
    "class Student():\n",
    "    def __init__(self,name):\n",
    "        self.name = name\n",
    "    def __str__(self):\n",
    "        return 'Student object:{}'.format(self.name)\n",
    "\n",
    "s = Student('Jamie')\n",
    "print(s)\n",
    "\n",
    "s"
   ]
  },
  {
   "cell_type": "markdown",
   "metadata": {},
   "source": [
    "直接敲变量不用print，打印出来的实例还是不好看：`<__main__.Student at 0x110880f98>`\n",
    "\n",
    "这是因为直接显示变量调用的不是\\__str__()，而是\\__repr__()，两者的区别是\n",
    "\n",
    "- \\__str__()返回用户看到的字符串\n",
    "\n",
    "- \\__repr__()返回程序开发者看到的字符串，也就是说，\\__repr__()是为调试服务的。\n",
    "\n",
    "解决办法是再定义一个\\__repr__()。但是通常\\__str__()和\\__repr__()代码都是一样的，所以，有个偷懒的写法：\n",
    "\n",
    "`__repr__ = __str__`"
   ]
  },
  {
   "cell_type": "code",
   "execution_count": 27,
   "metadata": {},
   "outputs": [
    {
     "data": {
      "text/plain": [
       "Student object:Jamie"
      ]
     },
     "execution_count": 27,
     "metadata": {},
     "output_type": "execute_result"
    }
   ],
   "source": [
    "class Student():\n",
    "    def __init__(self,name):\n",
    "        self.name = name\n",
    "    def __str__(self):\n",
    "        return 'Student object:{}'.format(self.name)\n",
    "    __repr__ =  __str__ \n",
    "    \n",
    "s = Student('Jamie')\n",
    "s"
   ]
  },
  {
   "cell_type": "markdown",
   "metadata": {},
   "source": [
    "## \\__getattr__\n",
    "\n",
    "正常情况下，当我们调用类的方法或属性时，如果不存在，就会报错。"
   ]
  },
  {
   "cell_type": "code",
   "execution_count": 28,
   "metadata": {},
   "outputs": [
    {
     "name": "stdout",
     "output_type": "stream",
     "text": [
      "Jamie\n"
     ]
    },
    {
     "ename": "AttributeError",
     "evalue": "'Student' object has no attribute 'score'",
     "output_type": "error",
     "traceback": [
      "\u001b[0;31m---------------------------------------------------------------------------\u001b[0m",
      "\u001b[0;31mAttributeError\u001b[0m                            Traceback (most recent call last)",
      "\u001b[0;32m<ipython-input-28-869410610f5c>\u001b[0m in \u001b[0;36m<module>\u001b[0;34m()\u001b[0m\n\u001b[1;32m      5\u001b[0m \u001b[0ms\u001b[0m \u001b[0;34m=\u001b[0m \u001b[0mStudent\u001b[0m\u001b[0;34m(\u001b[0m\u001b[0;34m'Jamie'\u001b[0m\u001b[0;34m)\u001b[0m\u001b[0;34m\u001b[0m\u001b[0m\n\u001b[1;32m      6\u001b[0m \u001b[0mprint\u001b[0m\u001b[0;34m(\u001b[0m\u001b[0ms\u001b[0m\u001b[0;34m.\u001b[0m\u001b[0mname\u001b[0m\u001b[0;34m)\u001b[0m\u001b[0;34m\u001b[0m\u001b[0m\n\u001b[0;32m----> 7\u001b[0;31m \u001b[0mprint\u001b[0m\u001b[0;34m(\u001b[0m\u001b[0ms\u001b[0m\u001b[0;34m.\u001b[0m\u001b[0mscore\u001b[0m\u001b[0;34m)\u001b[0m\u001b[0;34m\u001b[0m\u001b[0m\n\u001b[0m",
      "\u001b[0;31mAttributeError\u001b[0m: 'Student' object has no attribute 'score'"
     ]
    }
   ],
   "source": [
    "class Student(object):\n",
    "    def __init__(self,name):\n",
    "        self.name = name\n",
    "        \n",
    "s = Student('Jamie')\n",
    "print(s.name)\n",
    "print(s.score)"
   ]
  },
  {
   "cell_type": "markdown",
   "metadata": {},
   "source": [
    "要避免这个错误，除了可以加上一个score属性外，Python还有另一个机制，那就是写一个__getattr__()方法，动态返回一个属性。"
   ]
  },
  {
   "cell_type": "code",
   "execution_count": 36,
   "metadata": {},
   "outputs": [
    {
     "name": "stdout",
     "output_type": "stream",
     "text": [
      "Jamie\n",
      "99\n",
      "25\n",
      "None\n"
     ]
    }
   ],
   "source": [
    "class Student(object):\n",
    "    def __init__(self,name):\n",
    "        self.name = name\n",
    "    \n",
    "    def __getattr__(self,attr):\n",
    "        if attr == 'score':\n",
    "            return 99\n",
    "        if attr=='age':\n",
    "            return lambda: 25\n",
    "        \n",
    "s = Student('Jamie')\n",
    "print(s.name)\n",
    "print(s.score)\n",
    "print(s.age())\n",
    "print(s.abe)"
   ]
  },
  {
   "cell_type": "markdown",
   "metadata": {},
   "source": [
    "当调用不存在的属性时，比如score，Python解释器会试图调用__getattr__(self, 'score')来尝试获得属性，这样，我们就有机会返回score的值：\n",
    "\n",
    "返回函数也是完全可以的,只是调用方式要在函数后面加().\n",
    "\n",
    "注意，只有在没有找到属性的情况下，才调用__getattr__，已有的属性，比如name，不会在__getattr__中查找。\n",
    "\n",
    "此外，注意到任意调用如s.abc都会返回None，这是因为我们定义的__getattr__默认返回就是None。要让class只响应特定的几个属性，我们就要按照约定，抛出AttributeError的错误：\n",
    "\n"
   ]
  },
  {
   "cell_type": "code",
   "execution_count": null,
   "metadata": {},
   "outputs": [],
   "source": []
  },
  {
   "cell_type": "markdown",
   "metadata": {},
   "source": [
    "# 两句话掌握python最难知识点——元类\n",
    "\n",
    "https://segmentfault.com/a/1190000011447445\n",
    "\n",
    "\n",
    "学懂元类，你只需要知道两句话：\n",
    "\n",
    "### 道生一，一生二，二生三，三生万物\n",
    "\n",
    "### 我是谁？我从哪来里？我要到哪里去？\n",
    "\n",
    "\n",
    "在python世界，拥有一个永恒的道，那就是“type”，请记在脑海中，type就是道。如此广袤无垠的python生态圈，都是由type产生出来的。\n",
    "\n",
    "道生一，一生二，二生三，三生万物。\n",
    "\n",
    "道 即是 type\n",
    "\n",
    "一 即是 metaclass(元类，或者叫类生成器)\n",
    "\n",
    "二 即是 class(类，或者叫实例生成器)\n",
    "\n",
    "三 即是 instance(实例)\n",
    "\n",
    "万物 即是 实例的各种属性与方法，我们平常使用python时，调用的就是它们。\n"
   ]
  },
  {
   "cell_type": "code",
   "execution_count": 1,
   "metadata": {},
   "outputs": [
    {
     "name": "stdout",
     "output_type": "stream",
     "text": [
      "Hello,world\n",
      "<class 'type'>\n",
      "<class '__main__.Hello'>\n"
     ]
    }
   ],
   "source": [
    "# 创建一个Hello类，拥有属性 say_heelo --- 二的起源\n",
    "class Hello():\n",
    "    def say_hello(self,name='world'):\n",
    "        print('Hello,{}'.format(name))\n",
    "\n",
    "# 从 Hello 类创建一个实例 hello  --- 二生三\n",
    "hello = Hello()\n",
    "\n",
    "# 使用 hello 调用方法 say_hello --- 三生万物\n",
    "hello.say_hello() \n",
    "\n",
    "print(type(Hello))\n",
    "print(type(hello))"
   ]
  },
  {
   "cell_type": "markdown",
   "metadata": {},
   "source": [
    "这就是一个标准的“二生三，三生万物”过程。 从类到我们可以调用的方法，用了这两步。\n",
    "\n",
    "那我们不由自主要问，类从何而来呢？回到代码的第一行。\n",
    "class Hello其实是一个函数的“语义化简称”，只为了让代码更浅显易懂，它的另一个写法是：\n",
    "\n",
    "这样的写法，就和之前的Class Hello写法作用完全相同,建实例并调用,输出效果也一样"
   ]
  },
  {
   "cell_type": "code",
   "execution_count": 13,
   "metadata": {},
   "outputs": [
    {
     "name": "stdout",
     "output_type": "stream",
     "text": [
      "Hello,world\n",
      "Hello,world\n"
     ]
    }
   ],
   "source": [
    "# 假如我们有一个函数 fn\n",
    "def fn(self,name='world'):\n",
    "    print('Hello,{}'.format(name))\n",
    "\n",
    "# 通过 type 创建 Hello 类   --- 道生二\n",
    "Hello = type('Hello',(object,),dict(say_hello=fn))\n",
    "\n",
    "hello = Hello()\n",
    "\n",
    "hello.say_hello()\n",
    "\n",
    "# 换成匿名函数\n",
    "H = type('H',(object,),dict(say_hello=lambda self,value='world':print('Hello,{}'.format(value))))\n",
    "h = H()\n",
    "h.say_hello()"
   ]
  },
  {
   "cell_type": "markdown",
   "metadata": {},
   "source": [
    "**`Hello = type('Hello', (object,), dict(say_hello=fn)) `**\n",
    "\n",
    "**type(类名, 父类的元组（针对继承的情况，可以为空），包含属性的字典（名称和值）)**\n",
    "\n",
    "注意它的三个参数！暗合人类的三大永恒命题：**我是谁，我从哪里来，我要到哪里去.**\n",
    "\n",
    "第一个参数：我是谁。类名\n",
    "\n",
    "第二个参数：我从哪里来。继承的父类集合，注意Python支持多重继承，如果只有一个父类，别忘了tuple的单元素写法；\n",
    "\n",
    "第三个参数：我要到哪里去。需要调用的方法和属性包含到一个字典里，再作为参数传入。class的方法名称与函数绑定，这里我们把函数fn绑定到方法名hello上。\n",
    "\n",
    "\n",
    "```\n",
    "class Hello(object){\n",
    "# class 后声明“我是谁”\n",
    "# 小括号内声明“我来自哪里”\n",
    "# 中括号内声明“我要到哪里去”\n",
    "    def say_hello(){\n",
    "        \n",
    "    }\n",
    "}\n",
    "```\n",
    "\n",
    "\n",
    "\n",
    "**以字典的模式给类定义方法或属性**\n",
    "\n",
    "**属性：**\n",
    "\n",
    "```\n",
    "class Foo(object):\n",
    "    bar = True\n",
    "```\n",
    "用type()创建有属性的类(类属性)\n",
    "```\n",
    "Foo = type('Foo',(object,),{'bar':Ture})\n",
    "```\n",
    "\n",
    "**方法：**\n",
    "\n",
    "```\n",
    "class Hello():\n",
    "    def say_hello(self,name='world'):\n",
    "        print('Hello,{}'.format(name))\n",
    "```\n",
    "用type()创建有方法的类(实例方法)\n",
    "```\n",
    "def fn(self,name='world'):\n",
    "    print('Hello,{}'.format(name))\n",
    "\n",
    "Hello = type('Hello',(object,),dict(say_hello=fn))\n",
    "```\n",
    "换匿名函数\n",
    "```\n",
    "Hello = type('Hello',(object,),dict(say_hello=lambda self,name='world':print('Hello,{}'.foramt(name))))\n",
    "```\n",
    "\n",
    "\n",
    "\n",
    "造物主，可以直接创造单个的人，但这是一件苦役。造物主会先创造“人”这一物种，再批量创造具体的个人。并将三大永恒命题，一直传递下去。\n",
    "\n",
    "**“道”可以直接生出“二”，但它会先生出“一”，再批量地制造“二”。**\n",
    "\n",
    "**type可以直接生成类（class），但也可以先生成元类（metaclass），再使用元类批量定制类（class）。**\n",
    "\n",
    "## 元类——道生一，一生二\n",
    "\n",
    "一般来说，元类均被命名后缀为Metalass。想象一下，我们需要一个可以自动打招呼的元类，它里面的类方法呢，有时需要say_Hello，有时需要say_Hi，有时又需要say_Sayolala，有时需要say_Nihao。\n",
    "\n",
    "如果每个内置的say_xxx都需要在类里面声明一次，那将是多么可怕的苦役！ 不如使用元类来解决问题。\n",
    "\n",
    "以下是创建一个专门“打招呼”用的元类代码："
   ]
  },
  {
   "cell_type": "code",
   "execution_count": null,
   "metadata": {},
   "outputs": [],
   "source": [
    "class SayMetaClass(type):\n",
    "    \n",
    "    def __new__(cls,name,bases,attrs):\n",
    "        attrs['say_'+name]=lambda self,value,saying=name:print('{},{}!'.foramt(saying,value))\n",
    "        return type.__new__(cls,name,bases,attrs)\n",
    "    \n",
    "    "
   ]
  },
  {
   "cell_type": "markdown",
   "metadata": {},
   "source": [
    "记住两点：\n",
    "\n",
    "1、元类是由“type”衍生而出，所以父类需要传入type。**【道生一，所以一必须包含道】**\n",
    "\n",
    "2、元类的操作都在 \\__new__中完成，它的第一个参数是将创建的类，之后的参数即是三大永恒命题：我是谁，我从哪里来，我将到哪里去。 它返回的对象也是三大永恒命题，接下来，这三个参数将一直陪伴我们。\n",
    "\n",
    "在\\__new__中，我只进行了一个操作，就是这个\n",
    "\n",
    "`attrs['say_'+name] = lambda self,value,saying=name:print('{},{}!'.foramt(saying,value))`\n",
    "\n",
    "其中匿名函数等同于\n",
    "```\n",
    "def niming(self,value,saying=name):\n",
    "    print('{},{}!'.foramt(saying,value)\n",
    "\n",
    "```\n",
    "\n",
    "\\__new__()方法接收到的参数依次是：\n",
    "\n",
    "cls  表示元类\n",
    "\n",
    "name  表示创建类的类名\n",
    "\n",
    "bases 表示创建类继承的所有父类\n",
    "\n",
    "attrs 表示创建类的所有属性和方法（以键值对的字典的形式）\n",
    "\n",
    "\n",
    "\n",
    "\n",
    "## 根据道生一、一生二、二生三、三生万物的准则，走进元类的生命周期吧！\n",
    "\n",
    "**注意：通过元类创建的类，第一个参数是父类，第二个参数是metaclass**"
   ]
  },
  {
   "cell_type": "code",
   "execution_count": 5,
   "metadata": {},
   "outputs": [
    {
     "name": "stdout",
     "output_type": "stream",
     "text": [
      "==============Hello================\n",
      "Hello,World!\n",
      "==============Nihao================\n",
      "Nihao,中华!\n",
      "===============Sayolala===============\n",
      "Sayolala,Japan!\n"
     ]
    }
   ],
   "source": [
    "# 道生一 传入 type \n",
    "class SayMetaClass(type):\n",
    "    # 传入三大永恒话题： 类名称、父类、属性\n",
    "    def __new__(cls,name,bases,attrs):\n",
    "        attrs['say_'+name] = lambda self,value,saying=name:print('{},{}!'.format(saying,value))\n",
    "        # 传承三大永恒话题： 类名称、父类、属性\n",
    "        return type.__new__(cls,name,bases,attrs)\n",
    "\n",
    "# 一生二 创建类\n",
    "class Hello(object,metaclass=SayMetaClass):\n",
    "    pass\n",
    "\n",
    "print('==============Hello================')\n",
    "\n",
    "# 二生三 创建实例\n",
    "hello = Hello()\n",
    "\n",
    "# 三生万物 调用实例方法\n",
    "hello.say_Hello('World')\n",
    "\n",
    "\n",
    "print('==============Nihao================')\n",
    "\n",
    "class Nihao(object,metaclass=SayMetaClass):\n",
    "    pass\n",
    "\n",
    "nihao = Nihao()\n",
    "nihao.say_Nihao('中华')\n",
    "\n",
    "print('===============Sayolala===============')\n",
    "\n",
    "class Sayolala(object,metaclass=SayMetaClass):\n",
    "    pass\n",
    "\n",
    "sayolala = Sayolala()\n",
    "sayolala.say_Sayolala('Japan')"
   ]
  },
  {
   "cell_type": "markdown",
   "metadata": {},
   "source": [
    "如果不用元类，要达到上述效果，就需要创建3个类，里面各声明一次，如下："
   ]
  },
  {
   "cell_type": "code",
   "execution_count": 16,
   "metadata": {},
   "outputs": [
    {
     "name": "stdout",
     "output_type": "stream",
     "text": [
      "==============Hello================\n",
      "Hello,World!\n",
      "==============Nihao================\n",
      "Nihao,中华!\n",
      "===============Sayolala===============\n",
      "Sayolala,Japan!\n"
     ]
    }
   ],
   "source": [
    "print('==============Hello================')\n",
    "class Hello(object):\n",
    "    def say_Hello(self,value):\n",
    "        print('Hello,{}!'.format(value))\n",
    "        \n",
    "hello = Hello()\n",
    "hello.say_Hello('World')\n",
    "\n",
    "print('==============Nihao================')\n",
    "\n",
    "class Nihao(object):\n",
    "    def say_Nihao(self,value):\n",
    "        print('Nihao,{}!'.format(value))\n",
    "        \n",
    "nihao = Nihao()\n",
    "nihao.say_Nihao('中华')\n",
    "\n",
    "print('===============Sayolala===============')\n",
    "\n",
    "class Sayolala(object):\n",
    "    def say_Sayolala(self,value):\n",
    "        print('Sayolala,{}!'.format(value))\n",
    "        \n",
    "sayolala = Sayolala()\n",
    "sayolala.say_Sayolala('Japan')"
   ]
  },
  {
   "cell_type": "markdown",
   "metadata": {},
   "source": [
    "在sayhello的基础上，加上问候方式，轻吻kiss，握手shakehand，鞠躬bow"
   ]
  },
  {
   "cell_type": "code",
   "execution_count": 20,
   "metadata": {},
   "outputs": [
    {
     "name": "stdout",
     "output_type": "stream",
     "text": [
      "==============Hello================\n",
      "Hello,World!\n",
      "Kiss！\n",
      "==============Nihao================\n",
      "Nihao,中华!\n",
      "Shakehand！\n",
      "===============Sayolala===============\n",
      "Sayolala,Japan!\n",
      "Bow！\n"
     ]
    }
   ],
   "source": [
    "# 道生一 传入 type \n",
    "class SayMetaClass(type):\n",
    "    # 传入三大永恒话题： 类名称、父类、属性\n",
    "    def __new__(cls,name,bases,attrs):\n",
    "        attrs['say_'+name] = lambda self,value,saying=name:print('{},{}!'.format(saying,value))\n",
    "        attrs['manner'] = lambda self,manner:print('{}！'.format(manner))\n",
    "        # 传承三大永恒话题： 类名称、父类、属性\n",
    "        return type.__new__(cls,name,bases,attrs)\n",
    "\n",
    "# 一生二 创建类\n",
    "class Hello(object,metaclass=SayMetaClass):\n",
    "    pass\n",
    "\n",
    "print('==============Hello================')\n",
    "\n",
    "# 二生三 创建实例\n",
    "hello = Hello()\n",
    "\n",
    "# 三生万物 调用实例方法\n",
    "hello.say_Hello('World')\n",
    "hello.manner('Kiss')\n",
    "\n",
    "\n",
    "print('==============Nihao================')\n",
    "\n",
    "class Nihao(object,metaclass=SayMetaClass):\n",
    "    pass\n",
    "\n",
    "nihao = Nihao()\n",
    "nihao.say_Nihao('中华')\n",
    "nihao.manner('Shakehand')\n",
    "\n",
    "print('===============Sayolala===============')\n",
    "\n",
    "class Sayolala(object,metaclass=SayMetaClass):\n",
    "    pass\n",
    "\n",
    "sayolala = Sayolala()\n",
    "sayolala.say_Sayolala('Japan')\n",
    "sayolala.manner('Bow')"
   ]
  },
  {
   "cell_type": "markdown",
   "metadata": {},
   "source": [
    "##  给list增加一个list本身没有的add方法"
   ]
  },
  {
   "cell_type": "code",
   "execution_count": 23,
   "metadata": {},
   "outputs": [
    {
     "name": "stdout",
     "output_type": "stream",
     "text": [
      "[1]\n"
     ]
    },
    {
     "ename": "AttributeError",
     "evalue": "'list' object has no attribute 'add'",
     "output_type": "error",
     "traceback": [
      "\u001b[1;31m---------------------------------------------------------------------------\u001b[0m",
      "\u001b[1;31mAttributeError\u001b[0m                            Traceback (most recent call last)",
      "\u001b[1;32m<ipython-input-23-b8beed277eee>\u001b[0m in \u001b[0;36m<module>\u001b[1;34m()\u001b[0m\n\u001b[0;32m     12\u001b[0m \u001b[1;33m\u001b[0m\u001b[0m\n\u001b[0;32m     13\u001b[0m \u001b[0mL2\u001b[0m \u001b[1;33m=\u001b[0m \u001b[0mlist\u001b[0m\u001b[1;33m(\u001b[0m\u001b[1;33m)\u001b[0m\u001b[1;33m\u001b[0m\u001b[0m\n\u001b[1;32m---> 14\u001b[1;33m \u001b[0mL2\u001b[0m\u001b[1;33m.\u001b[0m\u001b[0madd\u001b[0m\u001b[1;33m(\u001b[0m\u001b[1;36m1\u001b[0m\u001b[1;33m)\u001b[0m\u001b[1;33m\u001b[0m\u001b[0m\n\u001b[0m",
      "\u001b[1;31mAttributeError\u001b[0m: 'list' object has no attribute 'add'"
     ]
    }
   ],
   "source": [
    "class ListMetaClass(type):\n",
    "    def __new__(cls,name,bases,attrs):\n",
    "        attrs['add'] = lambda self,value:self.append(value)\n",
    "        return type.__new__(cls,name,bases,attrs)\n",
    "\n",
    "class MyList(list,metaclass=ListMetaClass):\n",
    "    pass\n",
    "\n",
    "L = MyList()\n",
    "L.add(1)\n",
    "print(L)\n",
    "\n",
    "L2 = list()\n",
    "L2.add(1)"
   ]
  },
  {
   "cell_type": "markdown",
   "metadata": {},
   "source": [
    "动态修改有什么意义？直接在MyList定义中写上add()方法不是更简单吗？正常情况下，确实应该直接写，通过metaclass修改纯属变态。但是，总会遇到需要通过metaclass修改类定义的。ORM就是一个典型的例子。\n",
    "\n",
    "## 通过元类创建 ORM\n",
    "\n",
    "https://www.liaoxuefeng.com/wiki/0014316089557264a6b348958f449949df42a6d3a2e542c000/0014319106919344c4ef8b1e04c48778bb45796e0335839000\n",
    "\n",
    "ORM全称“Object Relational Mapping”，即对象-关系映射，就是把关系数据库的一行映射为一个对象，也就是一个类对应一个表，这样，写代码更简单，不用直接操作SQL语句。\n",
    "\n",
    "让我们来尝试编写一个ORM框架。\n",
    "\n",
    "下面代码中使用到的 super()，可参考 [Super使用](#jump)"
   ]
  },
  {
   "cell_type": "code",
   "execution_count": 22,
   "metadata": {},
   "outputs": [
    {
     "name": "stdout",
     "output_type": "stream",
     "text": [
      "StringField:数据a\n"
     ]
    },
    {
     "ename": "AttributeError",
     "evalue": "'Model' object has no attribute 'mappings'",
     "output_type": "error",
     "traceback": [
      "\u001b[0;31m---------------------------------------------------------------------------\u001b[0m",
      "\u001b[0;31mAttributeError\u001b[0m                            Traceback (most recent call last)",
      "\u001b[0;32m<ipython-input-22-ee6ad56df5bf>\u001b[0m in \u001b[0;36m<module>\u001b[0;34m()\u001b[0m\n\u001b[1;32m     69\u001b[0m \u001b[0;34m\u001b[0m\u001b[0m\n\u001b[1;32m     70\u001b[0m \u001b[0mm\u001b[0m \u001b[0;34m=\u001b[0m \u001b[0mModel\u001b[0m\u001b[0;34m(\u001b[0m\u001b[0;34m)\u001b[0m\u001b[0;34m\u001b[0m\u001b[0m\n\u001b[0;32m---> 71\u001b[0;31m \u001b[0mprint\u001b[0m\u001b[0;34m(\u001b[0m\u001b[0mm\u001b[0m\u001b[0;34m.\u001b[0m\u001b[0mmappings\u001b[0m\u001b[0;34m)\u001b[0m\u001b[0;34m\u001b[0m\u001b[0m\n\u001b[0m",
      "\u001b[0;31mAttributeError\u001b[0m: 'Model' object has no attribute 'mappings'"
     ]
    }
   ],
   "source": [
    "# 创建一个 Field 类\n",
    "\n",
    "class Field(object):\n",
    "    def __init__(self,name,column_type):\n",
    "        self.name = name\n",
    "        self.column_type = column_type\n",
    "        \n",
    "    def __str__(self):\n",
    "        return '{}:{}'.format(self.__class__.__name__,self.name)\n",
    "'''\n",
    "它的作用是\n",
    "在Field类实例化时将得到两个参数，name和column_type，它们将被绑定为Field的私有属性，\n",
    "如果要将Field转化为字符串时，将返回“Field:XXX” ， XXX是传入的name名称。\n",
    "'''\n",
    "\n",
    "# 创建 StringField 和 IntegerField\n",
    "\n",
    "class StringField(Field):\n",
    "    def __init__(self,name):\n",
    "        super().__init__(name,'varchar(100)')\n",
    "    \n",
    "class IntegerField(Field):\n",
    "    def __init__(self,name):\n",
    "        super().__init__(name,'bigint')\n",
    "\n",
    "dataa = StringField('数据a')\n",
    "print(dataa)\n",
    "        \n",
    "        \n",
    "'''\n",
    "它的作用是\n",
    "在StringField,IntegerField实例初始化时，时自动调用父类的初始化方式。\n",
    "'''\n",
    "\n",
    "# 道生一：传入type\n",
    "\n",
    "'''\n",
    "class SayMetaClass(type):\n",
    "\n",
    "    # 传入三大永恒命题：类名称、父类、属性\n",
    "    def __new__(cls, name, bases, attrs):\n",
    "        # 创造“天赋”\n",
    "        attrs['say_'+name] = lambda self,value,saying=name: print(saying+','+value+'!')\n",
    "        # 传承三大永恒命题：类名称、父类、属性\n",
    "        return type.__new__(cls, name, bases, attrs)\n",
    "'''\n",
    "\n",
    "class ModelMetaclass(type):\n",
    "    \n",
    "    def __new__(cls,name,bases,attrs):\n",
    "        if name == 'Model':\n",
    "            return type.__new__(cls,name,bases,attrs)\n",
    "        print('Build Model:{}'.foramt(name))\n",
    "        mappings = dict()\n",
    "        for k,v in attrs.items():\n",
    "            if isinstance(v,Field):\n",
    "                print('Build mapping:{}->{}'.format(k,v))\n",
    "                mappings[k]=v\n",
    "        for k in mappings.keys():\n",
    "            attrs.pop(k)\n",
    "        attrs['__mappings__'] = mappings\n",
    "        attrs['__table__'] = name\n",
    "        return type.__new__(cls,name,bases,attrs)\n",
    "    \n",
    "\n",
    "class Model(object,metaclass=ModelMetaclass):\n",
    "    a = 1\n",
    "    b = '2'\n",
    "\n",
    "m = Model()\n",
    "print(m.mappings)"
   ]
  },
  {
   "cell_type": "markdown",
   "metadata": {},
   "source": [
    "# python3 下的元类窥探及实现\n",
    "\n",
    "https://blog.csdn.net/cz19900520/article/details/79641597\n",
    "\n"
   ]
  },
  {
   "cell_type": "markdown",
   "metadata": {},
   "source": [
    "# <span id=\"jump\">Super() 使用</span>\n",
    "\n",
    "http://python.jobbole.com/86787/\n",
    "\n",
    "在类的继承中，如果重定义某个方法，该方法会覆盖父类的同名方法，但有时，我们希望能同时实现父类的功能，这时，我们就需要调用父类的方法了，可通过使用 super 来实现，比如："
   ]
  },
  {
   "cell_type": "code",
   "execution_count": 18,
   "metadata": {},
   "outputs": [
    {
     "name": "stdout",
     "output_type": "stream",
     "text": [
      "Hello,dog\n",
      "WangWang...\n",
      "test in C\n",
      "test in D\n"
     ]
    }
   ],
   "source": [
    "class Animal(object):\n",
    "    def __init__(self,name):\n",
    "        self.name = name\n",
    "    def greet(self):\n",
    "        print('Hello,{}'.format(self.name))\n",
    "        \n",
    "class Dog(Animal):\n",
    "    def greet(self):\n",
    "        super().greet() # Python3 super(Dog, self).greet()\n",
    "        print('WangWang...')\n",
    "    \n",
    "dog = Dog('dog')\n",
    "dog.greet()\n",
    "\n",
    "class D(object):\n",
    "    def test(self):\n",
    "        print('test in D')\n",
    "\n",
    "class C(D):\n",
    "    def test(self):\n",
    "        print('test in C')\n",
    "        D.test(self)\n",
    "\n",
    "    c = C()\n",
    "c.test()\n"
   ]
  },
  {
   "cell_type": "markdown",
   "metadata": {},
   "source": [
    "在上面，Animal 是父类，Dog 是子类，我们在 Dog 类重定义了 greet 方法，为了能同时实现父类的功能，我们又调用了父类的方法。\n",
    "\n",
    "为了同时拥有父类的属性，super 的一个最常见用法可以说是在子类中调用父类的初始化方法了。"
   ]
  },
  {
   "cell_type": "code",
   "execution_count": 5,
   "metadata": {},
   "outputs": [
    {
     "name": "stdout",
     "output_type": "stream",
     "text": [
      "Base:a1,b2\n",
      "A:a1,b2,c3\n"
     ]
    }
   ],
   "source": [
    "class Base(object):\n",
    "    def __init__(self,a,b):\n",
    "        self.a = a\n",
    "        self.b = b\n",
    "        print('Base:a{},b{}'.format(self.a,self.b))\n",
    "        \n",
    "class A(Base):\n",
    "    def __init__(self,a,b,c):\n",
    "        super().__init__(a,b)  # Python2 super(A, self).__init__(a, b)\n",
    "        self.c = c\n",
    "        print('A:a{},b{},c{}'.format(self.a,self.b,self.c))\n",
    "\n",
    "test = A(1,2,3)"
   ]
  },
  {
   "cell_type": "markdown",
   "metadata": {},
   "source": [
    "## 深入 super()\n",
    "\n",
    "看了上面的使用，你可能会觉得 super 的使用很简单，无非就是获取了父类，并调用父类的方法。其实，在上面的情况下，super 获得的类刚好是父类，但在其他情况就不一定了，super 其实和父类没有实质性的关联。\n",
    "\n",
    "让我们看一个稍微复杂的例子，涉及到多重继承，代码如下："
   ]
  },
  {
   "cell_type": "code",
   "execution_count": 10,
   "metadata": {},
   "outputs": [
    {
     "name": "stdout",
     "output_type": "stream",
     "text": [
      "enter A\n",
      "enter Base\n",
      "leave Base\n",
      "leave A\n",
      "---------------------\n",
      "enter B\n",
      "enter Base\n",
      "leave Base\n",
      "leave B\n",
      "---------------------\n",
      "enter C\n",
      "enter A\n",
      "enter B\n",
      "enter Base\n",
      "leave Base\n",
      "leave B\n",
      "leave A\n",
      "leave C\n",
      "---------------------\n"
     ]
    },
    {
     "data": {
      "text/plain": [
       "[__main__.C, __main__.A, __main__.B, __main__.Base, object]"
      ]
     },
     "execution_count": 10,
     "metadata": {},
     "output_type": "execute_result"
    }
   ],
   "source": [
    "class Base(object):\n",
    "    def __init__(self):\n",
    "        print('enter Base')\n",
    "        print('leave Base')\n",
    "        \n",
    "class A(Base):\n",
    "    def __init__(self):\n",
    "        print('enter A')\n",
    "        super().__init__()\n",
    "        print('leave A')\n",
    "        \n",
    "class B(Base):\n",
    "    def __init__(self):\n",
    "        print('enter B')\n",
    "        super().__init__()\n",
    "        print('leave B')\n",
    "        \n",
    "        \n",
    "class C(A,B):\n",
    "    def __init__(self):\n",
    "        print('enter C')\n",
    "        super().__init__()\n",
    "        print('leave C')\n",
    "        \n",
    "a = A()\n",
    "\n",
    "print('---------------------')\n",
    "b = B()\n",
    "\n",
    "print('---------------------')\n",
    "c = C()\n",
    "print('---------------------')\n",
    "C.mro()"
   ]
  },
  {
   "cell_type": "markdown",
   "metadata": {},
   "source": [
    "c = C() 预测的结果是\n",
    "\n",
    "```\n",
    "enter C\n",
    "enter A\n",
    "enter Base\n",
    "leave Base\n",
    "leave A\n",
    "enter B\n",
    "enter Base\n",
    "leave Base\n",
    "leave B\n",
    "leave C\n",
    "\n",
    "```\n",
    "\n",
    "如果你认为 super 代表『调用父类的方法』，那你很可能会疑惑为什么 enter A 的下一句不是 enter Base 而是 enter B。原因是，**super 和父类没有实质性的关联**，现在让我们搞清 super 是怎么运作的。\n",
    "\n",
    "## MRO 列表 (类)\n",
    "\n",
    "事实上，对于你定义的每一个类，Python 会计算出一个**s方法解析顺序（Method Resolution Order, MRO）列表**，它代表了类继承的顺序，我们可以使用下面的方式获得某个类的 MRO 列表：\n",
    "\n",
    "```\n",
    ">>> C.mro()   # or C.__mro__ or C().__class__.mro()\n",
    "[__main__.C, __main__.A, __main__.B, __main__.Base, object]\n",
    "\n",
    "```\n",
    "\n",
    "那这个 MRO 列表的顺序是怎么定的呢，它是通过一个 C3 线性化算法来实现的，这里我们就不去深究这个算法了，感兴趣的读者可以自己去了解一下，总的来说，一个类的 MRO 列表就是合并所有父类的 MRO 列表，并遵循以下三条原则：\n",
    "\n",
    "- 子类永远在父类前面\n",
    "\n",
    "- 如果有多个父类，会根据它们在列表中的顺序被检查\n",
    "\n",
    "- 如果对下一个类存在两个合法的选择，选择第一个父类\n",
    "\n",
    "## super 原理\n",
    "\n",
    "为了更好演示，上述代码用 Python2 的格式\n",
    "\n",
    "```\n",
    "def super(cls,inst):\n",
    "    mro = inst.__class__.mro()\n",
    "    return mro[mro.index(cls)+1]\n",
    "```\n",
    "其中，cls 代表类，inst 代表实例，上面的代码做了两件事：\n",
    "\n",
    "- 获取 inst 的 MRO 列表\n",
    "\n",
    "- 查找 cls 在当前 MRO 列表中的 index, 并返回它的下一个类，即 mro[index + 1]\n",
    "\n",
    "当你使用 super(cls, inst) 时，Python 会在 inst 的 MRO 列表上搜索 cls 的下一个类。"
   ]
  },
  {
   "cell_type": "code",
   "execution_count": 4,
   "metadata": {},
   "outputs": [
    {
     "name": "stdout",
     "output_type": "stream",
     "text": [
      "enter C\n",
      "enter A\n",
      "enter B\n",
      "enter Base\n",
      "leave Base\n",
      "leave B\n",
      "leave A\n",
      "leave C\n"
     ]
    },
    {
     "data": {
      "text/plain": [
       "[__main__.C, __main__.A, __main__.B, __main__.Base, object]"
      ]
     },
     "execution_count": 4,
     "metadata": {},
     "output_type": "execute_result"
    }
   ],
   "source": [
    "class Base(object):\n",
    "    def __init__(self):\n",
    "        print(\"enter Base\")\n",
    "        print(\"leave Base\")\n",
    "\n",
    "class A(Base):\n",
    "    def __init__(self):\n",
    "        print (\"enter A\")\n",
    "        super(A, self).__init__()\n",
    "        print(\"leave A\")\n",
    "\n",
    "class B(Base):\n",
    "    def __init__(self):\n",
    "        print(\"enter B\")\n",
    "        super(B, self).__init__()\n",
    "        print(\"leave B\")\n",
    "        \n",
    "class C(A, B):\n",
    "    def __init__(self):\n",
    "        print(\"enter C\")\n",
    "        super(C, self).__init__()\n",
    "        print(\"leave C\")\n",
    "\n",
    "c = C()\n",
    "C.mro()"
   ]
  },
  {
   "cell_type": "markdown",
   "metadata": {},
   "source": [
    "首先看类 C 的 __init__ 方法：`super(C, self).__init__()`\n",
    "\n",
    "根据super()函数，\n",
    "```\n",
    "def super(cls,inst):\n",
    "    mro = inst.__class__.mro()\n",
    "    return mro[mro.index(cls)+1]\n",
    "```\n",
    "其中`super(C, self)`会返回 C.mro() 列表中后面一位，即`__main__.A`, 就变成`类A的 __init__()`，这时打印出 enter A，并执行下一行 `super(A, self).__init__()`\n",
    "\n",
    "**注意：这里的 self 也是当前 C 的实例，MRO 列表跟上面是一样的**\n",
    "\n",
    "搜索 A 在 MRO 中的下一个类，发现是 B，于是，跳到了`类B的__init__()`，这时会打印出 enter B，而不是 enter Base。并执行下一行 `super(B, self).__init__()`\n",
    "\n",
    "同样，下一个类是 Base，跳到了`类Base的__init__()`，打印 enter Base 和 leave Base。\n",
    "\n",
    "`类Base.__init__()`执行完，跳回到类B中的，执行`super(B, self).__init__()`下面一句，即打印 leave B。\n",
    "\n",
    "`类B的__init__()`执行完，跳回到类A中的，执行`super(A, self).__init__()`下面一句，即打印 leave A。\n",
    "\n",
    "`类A的__init__()`执行完，跳回到类C中的，执行`super(C, self).__init__()`下面一句，即打印 leave C。\n",
    "\n",
    "整个过程还是比较清晰的，关键是要理解 super 的工作方式，而不是想当然地认为 super 调用了父类的方法。\n",
    "\n",
    "## 小结\n",
    "\n",
    "- 事实上，super 和父类没有实质性的关联。\n",
    "\n",
    "- super(cls, inst) 获得的是 cls 在 inst 的 MRO 列表中的下一个类。"
   ]
  }
 ],
 "metadata": {
  "kernelspec": {
   "display_name": "Python 3",
   "language": "python",
   "name": "python3"
  },
  "language_info": {
   "codemirror_mode": {
    "name": "ipython",
    "version": 3
   },
   "file_extension": ".py",
   "mimetype": "text/x-python",
   "name": "python",
   "nbconvert_exporter": "python",
   "pygments_lexer": "ipython3",
   "version": "3.6.3"
  },
  "toc": {
   "nav_menu": {},
   "number_sections": true,
   "sideBar": true,
   "skip_h1_title": false,
   "title_cell": "Table of Contents",
   "title_sidebar": "Contents",
   "toc_cell": false,
   "toc_position": {},
   "toc_section_display": true,
   "toc_window_display": false
  },
  "varInspector": {
   "cols": {
    "lenName": 16,
    "lenType": 16,
    "lenVar": 40
   },
   "kernels_config": {
    "python": {
     "delete_cmd_postfix": "",
     "delete_cmd_prefix": "del ",
     "library": "var_list.py",
     "varRefreshCmd": "print(var_dic_list())"
    },
    "r": {
     "delete_cmd_postfix": ") ",
     "delete_cmd_prefix": "rm(",
     "library": "var_list.r",
     "varRefreshCmd": "cat(var_dic_list()) "
    }
   },
   "types_to_exclude": [
    "module",
    "function",
    "builtin_function_or_method",
    "instance",
    "_Feature"
   ],
   "window_display": false
  }
 },
 "nbformat": 4,
 "nbformat_minor": 2
}
