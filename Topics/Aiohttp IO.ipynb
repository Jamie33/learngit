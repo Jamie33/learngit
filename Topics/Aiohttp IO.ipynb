{
 "cells": [
  {
   "cell_type": "markdown",
   "metadata": {},
   "source": [
    "## IO编程\n",
    "https://www.liaoxuefeng.com/wiki/0014316089557264a6b348958f449949df42a6d3a2e542c000/001431917590955542f9ac5f5c1479faf787ff2b028ab47000\n",
    "\n",
    "IO在计算机中指Input/Output，也就是输入和输出。由于程序和运行时数据是在内存中驻留，由CPU这个超快的计算核心来执行，涉及到数据交换的地方，通常是磁盘、网络等，就需要IO接口。\n",
    "\n",
    "比如你打开浏览器，访问新浪首页，浏览器这个程序就需要通过网络IO获取新浪的网页。浏览器首先会发送数据给新浪服务器，告诉它我想要首页的HTML，这个动作是往外发数据，叫Output，随后新浪服务器把网页发过来，这个动作是从外面接收数据，叫Input。所以，通常，程序完成IO操作会有Input和Output两个数据流。当然也有只用一个的情况，比如，从磁盘读取文件到内存，就只有Input操作，反过来，把数据写到磁盘文件里，就只是一个Output操作。\n",
    "\n",
    "IO编程中，Stream（流）是一个很重要的概念，可以把流想象成一个水管，数据就是水管里的水，但是只能单向流动。Input Stream就是数据从外面（磁盘、网络）流进内存，Output Stream就是数据从内存流到外面去。对于浏览网页来说，浏览器和新浪服务器之间至少需要建立两根水管，才可以既能发数据，又能收数据。\n",
    "\n",
    "由于CPU和内存的速度远远高于外设的速度，所以，在IO编程中，就存在速度严重不匹配的问题。举个例子来说，比如要把100M的数据写入磁盘，CPU输出100M的数据只需要0.01秒，可是磁盘要接收这100M数据可能需要10秒，怎么办呢？有两种办法：\n",
    "\n",
    "第一种是CPU等着，也就是程序暂停执行后续代码，等100M的数据在10秒后写入磁盘，再接着往下执行，这种模式称为同步IO；\n",
    "\n",
    "另一种方法是CPU不等待，只是告诉磁盘，“您老慢慢写，不着急，我接着干别的事去了”，于是，后续代码可以立刻接着执行，这种模式称为异步IO。\n",
    "\n",
    "同步和异步的区别就在于是否等待IO执行的结果。好比你去麦当劳点餐，你说“来个汉堡”，服务员告诉你，对不起，汉堡要现做，需要等5分钟，于是你站在收银台前面等了5分钟，拿到汉堡再去逛商场，这是同步IO。\n",
    "\n",
    "你说“来个汉堡”，服务员告诉你，汉堡需要等5分钟，你可以先去逛商场，等做好了，我们再通知你，这样你可以立刻去干别的事情（逛商场），这是异步IO。\n",
    "\n",
    "很明显，使用异步IO来编写程序性能会远远高于同步IO，但是异步IO的缺点是编程模型复杂。想想看，你得知道什么时候通知你“汉堡做好了”，而通知你的方法也各不相同。如果是服务员跑过来找到你，这是回调模式，如果服务员发短信通知你，你就得不停地检查手机，这是轮询模式。总之，异步IO的复杂度远远高于同步IO。\n",
    "\n",
    "## 异步IO\n",
    "\n",
    "在IO编程一节中，我们已经知道，CPU的速度远远快于磁盘、网络等IO。在一个线程中，CPU执行代码的速度极快，然而，一旦遇到IO操作，如读写文件、发送网络数据时，就需要等待IO操作完成，才能继续进行下一步操作。这种情况称为同步IO。\n",
    "\n",
    "在IO操作的过程中，当前线程被挂起，而其他需要CPU执行的代码就无法被当前线程执行了。\n",
    "\n",
    "因为一个IO操作就阻塞了当前线程，导致其他代码无法执行，所以我们必须使用多线程或者多进程来并发执行代码，为多个用户服务。每个用户都会分配一个线程，如果遇到IO导致线程被挂起，其他用户的线程不受影响。\n",
    "\n",
    "多线程和多进程的模型虽然解决了并发问题，但是系统不能无上限地增加线程。由于系统切换线程的开销也很大，所以，一旦线程数量过多，CPU的时间就花在线程切换上了，真正运行代码的时间就少了，结果导致性能严重下降。\n",
    "\n",
    "由于我们要解决的问题是CPU高速执行能力和IO设备的龟速严重不匹配，多线程和多进程只是解决这一问题的一种方法。\n",
    "\n",
    "另一种解决IO问题的方法是异步IO。当代码需要执行一个耗时的IO操作时，它只发出IO指令，并不等待IO结果，然后就去执行其他代码了。一段时间后，当IO返回结果时，再通知CPU进行处理。\n",
    "\n",
    "可以想象如果按普通顺序写出的代码实际上是没法完成异步IO的：\n",
    "\n",
    "```\n",
    "do_some_code()\n",
    "f = open('/path/to/file', 'r')\n",
    "r = f.read() # <== 线程停在此处等待IO操作结果\n",
    "# IO操作完成后线程才能继续执行:\n",
    "do_some_code(r)\n",
    "```\n",
    "\n",
    "所以，同步IO模型的代码是无法实现异步IO模型的。\n",
    "\n",
    "异步IO模型需要一个消息循环，在消息循环中，主线程不断地重复“读取消息-处理消息”这一过程：\n",
    "\n",
    "```\n",
    "loop = get_event_loop()\n",
    "while True:\n",
    "    event = loop.get_event()\n",
    "    process_event(event)\n",
    "```\n",
    "消息模型其实早在应用在桌面应用程序中了。一个GUI程序的主线程就负责不停地读取消息并处理消息。所有的键盘、鼠标等消息都被发送到GUI程序的消息队列中，然后由GUI程序的主线程处理。\n",
    "\n",
    "由于GUI线程处理键盘、鼠标等消息的速度非常快，所以用户感觉不到延迟。某些时候，GUI线程在一个消息处理的过程中遇到问题导致一次消息处理时间过长，此时，用户会感觉到整个GUI程序停止响应了，敲键盘、点鼠标都没有反应。这种情况说明在消息模型中，处理一个消息必须非常迅速，否则，主线程将无法及时处理消息队列中的其他消息，导致程序看上去停止响应。\n",
    "\n",
    "消息模型是如何解决同步IO必须等待IO操作这一问题的呢？当遇到IO操作时，代码只负责发出IO请求，不等待IO结果，然后直接结束本轮消息处理，进入下一轮消息处理过程。当IO操作完成后，将收到一条“IO完成”的消息，处理该消息时就可以直接获取IO操作结果。\n",
    "\n",
    "在“发出IO请求”到收到“IO完成”的这段时间里，同步IO模型下，主线程只能挂起，但异步IO模型下，主线程并没有休息，而是在消息循环中继续处理其他消息。这样，在异步IO模型下，一个线程就可以同时处理多个IO请求，并且没有切换线程的操作。对于大多数IO密集型的应用程序，使用异步IO将大大提升系统的多任务处理能力。\n",
    "\n",
    "\n",
    "## 协程\n",
    "\n",
    "https://www.liaoxuefeng.com/wiki/0014316089557264a6b348958f449949df42a6d3a2e542c000/001432090171191d05dae6e129940518d1d6cf6eeaaa969000\n",
    "\n",
    "在学习异步IO模型前，我们先来了解协程。\n",
    "\n",
    "- 协程，又称微线程，纤程。英文名Coroutine。\n",
    "\n",
    "协程的概念很早就提出来了，但直到最近几年才在某些语言（如Lua）中得到广泛应用。\n",
    "\n",
    "- 子程序，或者称为函数，在所有语言中都是层级调用，比如A调用B，B在执行过程中又调用了C，C执行完毕返回，B执行完毕返回，最后是A执行完毕。\n",
    "\n",
    "所以子程序调用是通过栈实现的，一个线程就是执行一个子程序。\n",
    "\n",
    "子程序调用总是一个入口，一次返回，调用顺序是明确的。而协程的调用和子程序不同。\n",
    "\n",
    "- 协程看上去也是子程序，但执行过程中，在子程序内部可中断，然后转而执行别的子程序，在适当的时候再返回来接着执行。\n",
    "\n",
    "注意，在一个子程序中中断，去执行其他子程序，不是函数调用，有点类似CPU的中断。比如子程序A、B：\n",
    "\n",
    "```\n",
    "def A():\n",
    "    print('1')\n",
    "    print('2')\n",
    "    print('3')\n",
    "\n",
    "def B():\n",
    "    print('x')\n",
    "    print('y')\n",
    "    print('z')\n",
    "```\n",
    "假设由协程执行，在执行A的过程中，可以随时中断，去执行B，B也可能在执行过程中中断再去执行A，结果可能是：\n",
    "\n",
    "```\n",
    "1\n",
    "2\n",
    "x\n",
    "y\n",
    "3\n",
    "z\n",
    "```\n",
    "\n",
    "但是在A中是没有调用B的，所以协程的调用比函数调用理解起来要难一些。\n",
    "\n",
    "看起来A、B的执行有点像多线程，但协程的特点在于是一个线程执行，那和多线程比，协程有何优势？\n",
    "\n",
    "最大的优势就是协程极高的执行效率。因为子程序切换不是线程切换，而是由程序自身控制，因此，没有线程切换的开销，和多线程比，线程数量越多，协程的性能优势就越明显。\n",
    "\n",
    "第二大优势就是不需要多线程的锁机制，因为只有一个线程，也不存在同时写变量冲突，在协程中控制共享资源不加锁，只需要判断状态就好了，所以执行效率比多线程高很多。\n",
    "\n",
    "因为协程是一个线程执行，那怎么利用多核CPU呢？最简单的方法是多进程+协程，既充分利用多核，又充分发挥协程的高效率，可获得极高的性能。\n",
    "\n",
    "Python对协程的支持是通过generator实现的。\n",
    "\n",
    "在generator中，我们不但可以通过for循环来迭代，还可以不断调用next()函数获取由yield语句返回的下一个值。\n",
    "\n",
    "但是Python的yield不但可以返回一个值，它还可以接收调用者发出的参数。\n",
    "\n",
    "\n",
    "传统的生产者-消费者模型是一个线程写消息，一个线程取消息，通过锁机制控制队列和等待，但一不小心就可能死锁。如果改用协程，生产者生产消息后，直接通过yield跳转到消费者开始执行，待消费者执行完毕后，切换回生产者继续生产，效率极高：\n",
    "\n",
    "通过g.send(None)或者next(g)启动生成器函数，并执行到第一个yield语句结束的位置。"
   ]
  },
  {
   "cell_type": "code",
   "execution_count": 4,
   "metadata": {},
   "outputs": [
    {
     "name": "stdout",
     "output_type": "stream",
     "text": [
      "[PRODUCE] Producing 1...\n",
      "[CONSUMER] consuming 1...\n",
      "[PRODUCE] Consumer return:200 OK\n",
      "[PRODUCE] Producing 2...\n",
      "[CONSUMER] consuming 2...\n",
      "[PRODUCE] Consumer return:200 OK\n",
      "[PRODUCE] Producing 3...\n",
      "[CONSUMER] consuming 3...\n",
      "[PRODUCE] Consumer return:200 OK\n",
      "[PRODUCE] Producing 4...\n",
      "[CONSUMER] consuming 4...\n",
      "[PRODUCE] Consumer return:200 OK\n",
      "[PRODUCE] Producing 5...\n",
      "[CONSUMER] consuming 5...\n",
      "[PRODUCE] Consumer return:200 OK\n"
     ]
    }
   ],
   "source": [
    "def consumer():\n",
    "    r = ''\n",
    "    while True:\n",
    "        n = yield r\n",
    "        if not n:\n",
    "            return\n",
    "        print('[CONSUMER] consuming {}...'.format(n))\n",
    "        r = '200 OK'\n",
    "        \n",
    "def produce(c):\n",
    "    c.send(None)\n",
    "    n = 0\n",
    "    while n<5:\n",
    "        n = n + 1\n",
    "        print('[PRODUCE] Producing {}...'.format(n))\n",
    "        r = c.send(n)\n",
    "        print('[PRODUCE] Consumer return:{}'.format(r))\n",
    "    c.close()\n",
    "    \n",
    "c = consumer()\n",
    "produce(c)"
   ]
  },
  {
   "cell_type": "code",
   "execution_count": 5,
   "metadata": {},
   "outputs": [
    {
     "name": "stdout",
     "output_type": "stream",
     "text": [
      "[PRODUCE] Producing 1...\n",
      "[CONSUMER] consuming 1...\n",
      "[PRODUCE] Consumer return:200 OK\n",
      "[PRODUCE] Producing 2...\n",
      "[CONSUMER] consuming 2...\n",
      "[PRODUCE] Consumer return:200 OK\n",
      "[PRODUCE] Producing 3...\n",
      "[CONSUMER] consuming 3...\n",
      "[PRODUCE] Consumer return:200 OK\n",
      "[PRODUCE] Producing 4...\n",
      "[CONSUMER] consuming 4...\n",
      "[PRODUCE] Consumer return:200 OK\n",
      "[PRODUCE] Producing 5...\n",
      "[CONSUMER] consuming 5...\n",
      "[PRODUCE] Consumer return:200 OK\n"
     ]
    }
   ],
   "source": [
    "def consumer():\n",
    "    r = ''\n",
    "    while True:\n",
    "        n = yield r\n",
    "        if not n:\n",
    "            return\n",
    "        print('[CONSUMER] consuming {}...'.format(n))\n",
    "        r = '200 OK'\n",
    "        \n",
    "def produce(c):\n",
    "    c.send(None)\n",
    "    n = 0\n",
    "    while n<5:\n",
    "        n = n + 1\n",
    "        print('[PRODUCE] Producing {}...'.format(n))\n",
    "        r = c.send(n)\n",
    "        print('[PRODUCE] Consumer return:{}'.format(r))\n",
    "    #c.close()\n",
    "    \n",
    "c = consumer()\n",
    "produce(c)"
   ]
  },
  {
   "cell_type": "markdown",
   "metadata": {},
   "source": [
    "## asyncio\n",
    "\n",
    "asyncio是Python 3.4版本引入的标准库，直接内置了对异步IO的支持。\n",
    "\n",
    "asyncio的编程模型就是一个消息循环。我们从asyncio模块中直接获取一个EventLoop的引用，然后把需要执行的协程扔到EventLoop中执行，就实现了异步IO。\n",
    "\n",
    "用asyncio实现Hello world代码如下："
   ]
  },
  {
   "cell_type": "code",
   "execution_count": null,
   "metadata": {},
   "outputs": [],
   "source": [
    "import asyncio\n",
    "\n",
    "@asyncio.coroutine\n",
    "def hello():\n",
    "    print('Hello world!')\n",
    "    r = "
   ]
  },
  {
   "cell_type": "markdown",
   "metadata": {},
   "source": [
    "## 理解Python协程:从yield/send到yield from再到async/await\n",
    "https://blog.csdn.net/soonfly/article/details/78361819\n",
    "\n",
    "\n",
    "http://python.jobbole.com/81911/\n",
    "http://python.jobbole.com/86069/\n",
    "\n",
    "Python中的协程大概经历了如下三个阶段： \n",
    "1. 最初的生成器变形yield/send \n",
    "2. 引入@asyncio.coroutine和yield from \n",
    "3. 在最近的Python3.5版本中引入async/await关键字\n",
    "\n",
    "### 生成器变形yield/send\n",
    "普通函数中如果出现了yield关键字，那么该函数就不再是普通函数，而是一个生成器。"
   ]
  },
  {
   "cell_type": "code",
   "execution_count": 6,
   "metadata": {},
   "outputs": [
    {
     "name": "stdout",
     "output_type": "stream",
     "text": [
      "<generator object mygen at 0x058A5300>\n",
      "['cc', 'aa', 'bb']\n"
     ]
    }
   ],
   "source": [
    "from random import randint\n",
    "\n",
    "def mygen(a):\n",
    "    while len(a)> 0:\n",
    "        c = randint(0,len(a)-1)\n",
    "        yield a.pop(c)\n",
    "        \n",
    "a = ['aa','bb','cc']\n",
    "c = mygen(a)\n",
    "print(c)\n",
    "print(list(c))"
   ]
  },
  {
   "cell_type": "markdown",
   "metadata": {},
   "source": [
    "像上面代码中的c就是一个生成器。生成器就是一种迭代器，可以使用for进行迭代。生成器函数最大的特点是**可以接受外部传入的一个变量，并根据变量内容计算结果后返回。**\n",
    "\n",
    "这一切都是靠生成器内部的send()函数实现的。"
   ]
  },
  {
   "cell_type": "code",
   "execution_count": 22,
   "metadata": {},
   "outputs": [
    {
     "name": "stdout",
     "output_type": "stream",
     "text": [
      "0\n",
      "got:hello\n",
      "got:123456\n"
     ]
    },
    {
     "ename": "StopIteration",
     "evalue": "",
     "output_type": "error",
     "traceback": [
      "\u001b[1;31m---------------------------------------------------------------------------\u001b[0m",
      "\u001b[1;31mStopIteration\u001b[0m                             Traceback (most recent call last)",
      "\u001b[1;32m<ipython-input-22-8df2b07bcbd8>\u001b[0m in \u001b[0;36m<module>\u001b[1;34m()\u001b[0m\n\u001b[0;32m     11\u001b[0m \u001b[0mprint\u001b[0m\u001b[1;33m(\u001b[0m\u001b[0mg\u001b[0m\u001b[1;33m.\u001b[0m\u001b[0msend\u001b[0m\u001b[1;33m(\u001b[0m\u001b[1;34m'hello'\u001b[0m\u001b[1;33m)\u001b[0m\u001b[1;33m)\u001b[0m\u001b[1;33m\u001b[0m\u001b[0m\n\u001b[0;32m     12\u001b[0m \u001b[0mprint\u001b[0m\u001b[1;33m(\u001b[0m\u001b[0mg\u001b[0m\u001b[1;33m.\u001b[0m\u001b[0msend\u001b[0m\u001b[1;33m(\u001b[0m\u001b[1;36m123456\u001b[0m\u001b[1;33m)\u001b[0m\u001b[1;33m)\u001b[0m\u001b[1;33m\u001b[0m\u001b[0m\n\u001b[1;32m---> 13\u001b[1;33m \u001b[0mprint\u001b[0m\u001b[1;33m(\u001b[0m\u001b[0mg\u001b[0m\u001b[1;33m.\u001b[0m\u001b[0msend\u001b[0m\u001b[1;33m(\u001b[0m\u001b[1;34m'e'\u001b[0m\u001b[1;33m)\u001b[0m\u001b[1;33m)\u001b[0m\u001b[1;33m\u001b[0m\u001b[0m\n\u001b[0m",
      "\u001b[1;31mStopIteration\u001b[0m: "
     ]
    }
   ],
   "source": [
    "def gen():\n",
    "    value = 0\n",
    "    while True:\n",
    "        receive = yield value\n",
    "        if receive == 'e':\n",
    "            break\n",
    "        value = 'got:{}'.format(receive)\n",
    "        \n",
    "g = gen()\n",
    "print(g.send(None))\n",
    "print(g.send('hello'))\n",
    "print(g.send(123456))\n",
    "print(g.send('e'))"
   ]
  },
  {
   "cell_type": "markdown",
   "metadata": {},
   "source": [
    "上面生成器函数中最关键也是最易理解错的，就是receive=yield value这句,如果对循环体的执行步骤理解错误，就会失之毫厘，差之千里。 \n",
    "\n",
    "其实receive=yield value包含了3个步骤： \n",
    "\n",
    "- 1、向函数外抛出（返回）value \n",
    "- 2、暂停(pause)，等待next()或send()恢复 \n",
    "- 3、赋值receive=MockGetValue() 。 这个MockGetValue()是假想函数，用来接收send()发送进来的值\n",
    "\n",
    "执行流程： \n",
    "\n",
    "- 1、通过g.send(None)或者next(g)启动生成器函数，并执行到第一个yield语句结束的位置。这里是关键，很多人就是在这里搞糊涂的。运行receive=yield value语句时，我们按照开始说的拆开来看，实际程序只执行了1，2两步，程序返回了value值，并暂停(pause)，并没有执行第3步给receive赋值。因此yield value会输出初始值0。这里要特别注意：在启动生成器函数时只能send(None),如果试图输入其它的值都会得到错误提示信息。\n",
    "\n",
    "- 2、通过g.send('hello')，会传入hello，从上次暂停的位置继续执行，那么就是运行第3步，赋值给receive。然后计算出value的值，并回到while头部，遇到yield value，程序再次执行了1，2两步，程序返回了value值，并暂停(pause)。此时yield value会输出”got: hello”，并等待send()激活。\n",
    "\n",
    "- 3、通过g.send(123456)，会重复第2步，最后输出结果为”got: 123456″。\n",
    "\n",
    "- 4、当我们g.send(‘e’)时，程序会执行break然后推出循环，最后整个函数执行完毕，所以会得到StopIteration异常。\n",
    "\n",
    "从上面可以看出， 在第一次send(None)启动生成器（执行1–>2，通常第一次返回的值没有什么用）之后，对于外部的每一次send()，生成器的实际在循环中的运行顺序是3–>1–>2，也就是先获取值，然后dosomething，然后返回一个值，再暂停等待。"
   ]
  },
  {
   "cell_type": "markdown",
   "metadata": {},
   "source": [
    "### yield from"
   ]
  },
  {
   "cell_type": "code",
   "execution_count": 23,
   "metadata": {},
   "outputs": [
    {
     "name": "stdout",
     "output_type": "stream",
     "text": [
      "range(0, 5)\n",
      "0\n",
      "1\n",
      "2\n",
      "3\n",
      "4\n"
     ]
    }
   ],
   "source": [
    "def g1():\n",
    "    yield range(5)\n",
    "    \n",
    "def g2():\n",
    "    yield from range(5)\n",
    "    \n",
    "it1 = g1()\n",
    "it2 = g2()\n",
    "for x in it1:\n",
    "    print(x)\n",
    "    \n",
    "for x in it2:\n",
    "    print(x)"
   ]
  },
  {
   "cell_type": "markdown",
   "metadata": {},
   "source": [
    "- yield就是将range这个可迭代对象直接返回了。 \n",
    "- yield from解析了range对象，将其中每一个item返回了。\n",
    "\n",
    "yield from iterable本质上等于for item in iterable: yield item的缩写版 \n",
    "\n",
    "来看一下例子，假设我们已经编写好一个斐波那契数列函数"
   ]
  },
  {
   "cell_type": "code",
   "execution_count": 10,
   "metadata": {},
   "outputs": [
    {
     "data": {
      "text/plain": [
       "<generator object fib at 0x040B9570>"
      ]
     },
     "execution_count": 10,
     "metadata": {},
     "output_type": "execute_result"
    }
   ],
   "source": [
    "def fib(max):\n",
    "    n,a,b = 0,0,1\n",
    "    while n < max:\n",
    "        yield b\n",
    "        a, b = b, a + b\n",
    "        n = n + 1\n",
    "f=fib(5) \n",
    "f"
   ]
  },
  {
   "cell_type": "markdown",
   "metadata": {},
   "source": [
    "fib不是一个普通函数，而是一个生成器。因此fib(5)并没有执行函数，而是返回一个生成器对象\n",
    "\n",
    "(生成器一定是迭代器iterator，迭代器一定是可迭代对象iterable) \n",
    "\n",
    "现在我们来看一下，假设要在fib()的基础上实现一个函数，调用起始都要记录日志"
   ]
  },
  {
   "cell_type": "code",
   "execution_count": 29,
   "metadata": {},
   "outputs": [
    {
     "name": "stdout",
     "output_type": "stream",
     "text": [
      "start\n",
      "11235end\n"
     ]
    }
   ],
   "source": [
    "def f_wrapper(fun_iterable):\n",
    "    print('start')\n",
    "    for item in fun_iterable:\n",
    "        yield item\n",
    "    print('end')\n",
    "\n",
    "wrap = f_wrapper(fib(5))\n",
    "for i in wrap:\n",
    "    print(i,end='')"
   ]
  },
  {
   "cell_type": "markdown",
   "metadata": {},
   "source": [
    "现在使用yield from代替for循环"
   ]
  },
  {
   "cell_type": "code",
   "execution_count": 11,
   "metadata": {},
   "outputs": [
    {
     "name": "stdout",
     "output_type": "stream",
     "text": [
      "start\n",
      "11235end\n"
     ]
    }
   ],
   "source": [
    "import logging\n",
    "def f_wrapper2(fun_iterable):\n",
    "    print('start')\n",
    "    yield from fun_iterable  #注意此处必须是一个可生成对象\n",
    "    print('end')\n",
    "\n",
    "wrap = f_wrapper2(fib(5))\n",
    "for i in wrap:\n",
    "    print(i,end='')"
   ]
  },
  {
   "cell_type": "markdown",
   "metadata": {},
   "source": [
    "再强调一遍：yield from后面必须跟iterable对象(可以是生成器，迭代器)\n",
    "\n",
    "`yield from iterable`本质上等于`for item in iterable: yield item`的缩写版"
   ]
  },
  {
   "cell_type": "code",
   "execution_count": null,
   "metadata": {},
   "outputs": [],
   "source": []
  }
 ],
 "metadata": {
  "kernelspec": {
   "display_name": "Python 3",
   "language": "python",
   "name": "python3"
  },
  "language_info": {
   "codemirror_mode": {
    "name": "ipython",
    "version": 3
   },
   "file_extension": ".py",
   "mimetype": "text/x-python",
   "name": "python",
   "nbconvert_exporter": "python",
   "pygments_lexer": "ipython3",
   "version": "3.6.5"
  }
 },
 "nbformat": 4,
 "nbformat_minor": 2
}
