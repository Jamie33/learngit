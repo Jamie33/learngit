{
 "cells": [
  {
   "cell_type": "markdown",
   "metadata": {},
   "source": [
    "# 使用@property\n",
    "\n",
    "为了限制score的范围，可以通过一个set_score()方法来设置成绩，再通过一个get_score()来获取成绩，这样，在set_score()方法里，就可以检查参数："
   ]
  },
  {
   "cell_type": "code",
   "execution_count": 10,
   "metadata": {},
   "outputs": [
    {
     "data": {
      "text/plain": [
       "90"
      ]
     },
     "execution_count": 10,
     "metadata": {},
     "output_type": "execute_result"
    }
   ],
   "source": [
    "class Student(object):\n",
    "    \n",
    "    def get_score(self):\n",
    "        return self._score\n",
    "    \n",
    "    def set_score(self,value):\n",
    "        if not isinstance(value,int):\n",
    "            raise ValueError('Score must be an interger!')\n",
    "        if value < 0 or value > 100:\n",
    "            raise ValueError('Score must be between 0~100')\n",
    "            \n",
    "        self._score = value\n",
    "        \n",
    "\n",
    "s = Student()\n",
    "s.set_score(90)\n",
    "s.get_score()\n",
    "#s.set_score(999)"
   ]
  },
  {
   "cell_type": "markdown",
   "metadata": {},
   "source": [
    "如果要让内部属性不被外部访问，可以把属性的名称前加上两个下划线\\__，在Python中，实例的变量名如果以__开头，就变成了一个私有变量（private），只有内部可以访问，外部不能访问\n",
    "\n",
    "有些时候，你会看到以一个下划线开头的实例变量名，比如_name，这样的实例变量外部是可以访问的，但是，按照约定俗成的规定，当你看到这样的变量时，意思就是，“虽然我可以被访问，但是，请把我视为私有变量，不要随意访问”。\n",
    "\n",
    "但是，上面的调用方法又略显复杂，没有直接用属性这么直接简单。有没有既能检查参数，又可以用类似属性这样简单的方式来访问类的变量呢？还记得装饰器（decorator）可以给函数动态加上功能吗？对于类的方法，装饰器一样起作用。Python内置的@property装饰器就是负责把一个方法变成属性调用的："
   ]
  },
  {
   "cell_type": "code",
   "execution_count": 18,
   "metadata": {},
   "outputs": [
    {
     "data": {
      "text/plain": [
       "60"
      ]
     },
     "execution_count": 18,
     "metadata": {},
     "output_type": "execute_result"
    }
   ],
   "source": [
    "class Student(object):\n",
    "    \n",
    "    @property\n",
    "    def score(self):\n",
    "        return self._score\n",
    "    \n",
    "    @score.setter\n",
    "    def score(self,value):\n",
    "        if not isinstance(value,int):\n",
    "            raise ValueError('Score must be an interger!')\n",
    "        if value < 0 or value > 100:\n",
    "            raise ValueError('Score must be between 0~100')\n",
    "            \n",
    "        self._score = value\n",
    "        \n",
    "\n",
    "s = Student()\n",
    "s.score = 60 # 实际事转化s.set_score(60)\n",
    "s.score # 实际事转化s.get_score()\n",
    "\n",
    "# s.score = 999"
   ]
  },
  {
   "cell_type": "markdown",
   "metadata": {},
   "source": [
    "@property的实现比较复杂，我们先考察如何使用。把一个getter方法变成属性，只需要加上@property就可以了，此时，@property本身又创建了另一个装饰器@score.setter，负责把一个setter方法变成属性赋值，于是，我们就拥有一个可控的属性操作。 \n",
    "\n",
    "注意到这个神奇的@property，我们在对实例属性操作的时候，就知道该属性很可能不是直接暴露的，而是通过getter和setter方法来实现的。\n",
    "\n",
    "还可以定义只读属性，只定义getter方法，不定义setter方法就是一个只读属性："
   ]
  },
  {
   "cell_type": "code",
   "execution_count": 21,
   "metadata": {},
   "outputs": [
    {
     "data": {
      "text/plain": [
       "1990"
      ]
     },
     "execution_count": 21,
     "metadata": {},
     "output_type": "execute_result"
    }
   ],
   "source": [
    "class Student(object):\n",
    "    \n",
    "    @property\n",
    "    def birth(self):\n",
    "        return self._birth\n",
    "    \n",
    "    @birth.setter\n",
    "    def birth(self,value):\n",
    "        self._birth = value\n",
    "    \n",
    "    @property\n",
    "    def age(self):\n",
    "        return 2018-self._birth\n",
    "    \n",
    "s = Student()\n",
    "s.birth = 28\n",
    "s.age"
   ]
  },
  {
   "cell_type": "markdown",
   "metadata": {},
   "source": [
    "上面的birth是可读写属性，而age就是一个只读属性，因为age可以根据birth和当前时间计算出来。"
   ]
  },
  {
   "cell_type": "markdown",
   "metadata": {},
   "source": [
    "# 两句话掌握python最难知识点——元类\n",
    "https://segmentfault.com/a/1190000011447445\n",
    "\n",
    "学懂元类，你只需要知道两句话：\n",
    "\n",
    "### 道生一，一生二，二生三，三生万物\n",
    "\n",
    "### 我是谁？我从哪来里？我要到哪里去？\n",
    "\n",
    "\n",
    "在python世界，拥有一个永恒的道，那就是“type”，请记在脑海中，type就是道。如此广袤无垠的python生态圈，都是由type产生出来的。\n",
    "\n",
    "道生一，一生二，二生三，三生万物。\n",
    "\n",
    "道 即是 type\n",
    "\n",
    "一 即是 metaclass(元类，或者叫类生成器)\n",
    "\n",
    "二 即是 class(类，或者叫实例生成器)\n",
    "\n",
    "三 即是 instance(实例)\n",
    "\n",
    "万物 即是 实例的各种属性与方法，我们平常使用python时，调用的就是它们。\n"
   ]
  },
  {
   "cell_type": "code",
   "execution_count": 1,
   "metadata": {},
   "outputs": [
    {
     "name": "stdout",
     "output_type": "stream",
     "text": [
      "Hello,world\n",
      "<class 'type'>\n",
      "<class '__main__.Hello'>\n"
     ]
    }
   ],
   "source": [
    "# 创建一个Hello类，拥有属性 say_heelo --- 二的起源\n",
    "class Hello():\n",
    "    def say_hello(self,name='world'):\n",
    "        print('Hello,{}'.format(name))\n",
    "\n",
    "# 从 Hello 类创建一个实例 hello  --- 二生三\n",
    "hello = Hello()\n",
    "\n",
    "# 使用 hello 调用方法 say_hello --- 三生万物\n",
    "hello.say_hello() \n",
    "\n",
    "print(type(Hello))\n",
    "print(type(hello))"
   ]
  },
  {
   "cell_type": "markdown",
   "metadata": {},
   "source": [
    "这就是一个标准的“二生三，三生万物”过程。 从类到我们可以调用的方法，用了这两步。\n",
    "\n",
    "那我们不由自主要问，类从何而来呢？回到代码的第一行。\n",
    "class Hello其实是一个函数的“语义化简称”，只为了让代码更浅显易懂，它的另一个写法是：\n",
    "\n",
    "这样的写法，就和之前的Class Hello写法作用完全相同,建实例并调用,输出效果也一样"
   ]
  },
  {
   "cell_type": "code",
   "execution_count": 2,
   "metadata": {},
   "outputs": [
    {
     "name": "stdout",
     "output_type": "stream",
     "text": [
      "Hello,world\n"
     ]
    }
   ],
   "source": [
    "# 假如我们有一个函数 fn\n",
    "def fn(self,name='world'):\n",
    "    print('Hello,{}'.format(name))\n",
    "\n",
    "# 通过 type 创建 Hello 类   --- 道生二\n",
    "Hello = type('Hello',(object,),dict(say_hello=fn))\n",
    "\n",
    "hello = Hello()\n",
    "\n",
    "hello.say_hello()"
   ]
  },
  {
   "cell_type": "markdown",
   "metadata": {},
   "source": [
    "`Hello = type('Hello', (object,), dict(say_hello=fn)) `\n",
    "\n",
    "type(类名, 父类的元组（针对继承的情况，可以为空），包含属性的字典（名称和值）)\n",
    "\n",
    "注意它的三个参数！暗合人类的三大永恒命题：**我是谁，我从哪里来，我要到哪里去.**\n",
    "\n",
    "第一个参数：我是谁。类名\n",
    "\n",
    "第二个参数：我从哪里来。继承的父类集合，注意Python支持多重继承，如果只有一个父类，别忘了tuple的单元素写法；\n",
    "\n",
    "第三个参数：我要到哪里去。需要调用的方法和属性包含到一个字典里，再作为参数传入。class的方法名称与函数绑定，这里我们把函数fn绑定到方法名hello上。\n",
    "\n",
    "\n",
    "```\n",
    "class Hello(object){\n",
    "# class 后声明“我是谁”\n",
    "# 小括号内声明“我来自哪里”\n",
    "# 中括号内声明“我要到哪里去”\n",
    "    def say_hello(){\n",
    "        \n",
    "    }\n",
    "}\n",
    "```\n",
    "\n",
    "造物主，可以直接创造单个的人，但这是一件苦役。造物主会先创造“人”这一物种，再批量创造具体的个人。并将三大永恒命题，一直传递下去。\n",
    "\n",
    "**“道”可以直接生出“二”，但它会先生出“一”，再批量地制造“二”。**\n",
    "\n",
    "**type可以直接生成类（class），但也可以先生成元类（metaclass），再使用元类批量定制类（class）。**\n",
    "\n",
    "## 元类——道生一，一生二\n",
    "\n",
    "一般来说，元类均被命名后缀为Metalass。想象一下，我们需要一个可以自动打招呼的元类，它里面的类方法呢，有时需要say_Hello，有时需要say_Hi，有时又需要say_Sayolala，有时需要say_Nihao。\n",
    "\n",
    "如果每个内置的say_xxx都需要在类里面声明一次，那将是多么可怕的苦役！ 不如使用元类来解决问题。\n",
    "\n",
    "以下是创建一个专门“打招呼”用的元类代码："
   ]
  },
  {
   "cell_type": "code",
   "execution_count": null,
   "metadata": {},
   "outputs": [],
   "source": [
    "class SayMetaClass(type):\n",
    "    \n",
    "    def __new__(cls,name,bases,attrs):\n",
    "        attrs['say_'+name]=lambda self,value,saying=name:print('{},{}!'.foramt(saying,value))\n",
    "        return type.__new__(cls,name,bases,attrs)\n",
    "    \n",
    "    "
   ]
  },
  {
   "cell_type": "markdown",
   "metadata": {},
   "source": [
    "记住两点：\n",
    "\n",
    "1、元类是由“type”衍生而出，所以父类需要传入type。**【道生一，所以一必须包含道】**\n",
    "\n",
    "2、元类的操作都在 \\__new__中完成，它的第一个参数是将创建的类，之后的参数即是三大永恒命题：我是谁，我从哪里来，我将到哪里去。 它返回的对象也是三大永恒命题，接下来，这三个参数将一直陪伴我们。\n",
    "\n",
    "在\\__new__中，我只进行了一个操作，就是这个\n",
    "\n",
    "`attrs['say_'+name] = lambda self,value,saying=name:print('{},{}!'.foramt(saying,value))`\n",
    "\n",
    "其中匿名函数等同于\n",
    "```\n",
    "def niming(self,value,saying=name):\n",
    "    print('{},{}!'.foramt(saying,value)\n",
    "\n",
    "```\n",
    "\n",
    "\\__new__()方法接收到的参数依次是：\n",
    "\n",
    "当前准备创建的类的对象；\n",
    "\n",
    "类的名字；\n",
    "\n",
    "类继承的父类集合；\n",
    "\n",
    "类的方法集合。\n",
    "\n",
    "\n",
    "## 根据道生一、一生二、二生三、三生万物的准则，走进元类的生命周期吧！\n",
    "\n",
    "**注意：通过元类创建的类，第一个参数是父类，第二个参数是metaclass**"
   ]
  },
  {
   "cell_type": "code",
   "execution_count": 5,
   "metadata": {},
   "outputs": [
    {
     "name": "stdout",
     "output_type": "stream",
     "text": [
      "==============Hello================\n",
      "Hello,World!\n",
      "==============Nihao================\n",
      "Nihao,中华!\n",
      "===============Sayolala===============\n",
      "Sayolala,Japan!\n"
     ]
    }
   ],
   "source": [
    "# 道生一 传入 type \n",
    "class SayMetaClass(type):\n",
    "    # 传入三大永恒话题： 类名称、父类、属性\n",
    "    def __new__(cls,name,bases,attrs):\n",
    "        attrs['say_'+name] = lambda self,value,saying=name:print('{},{}!'.format(saying,value))\n",
    "        # 传承三大永恒话题： 类名称、父类、属性\n",
    "        return type.__new__(cls,name,bases,attrs)\n",
    "\n",
    "# 一生二 创建类\n",
    "class Hello(object,metaclass=SayMetaClass):\n",
    "    pass\n",
    "\n",
    "print('==============Hello================')\n",
    "\n",
    "# 二生三 创建实例\n",
    "hello = Hello()\n",
    "\n",
    "# 三生万物 调用实例方法\n",
    "hello.say_Hello('World')\n",
    "\n",
    "\n",
    "print('==============Nihao================')\n",
    "\n",
    "class Nihao(object,metaclass=SayMetaClass):\n",
    "    pass\n",
    "\n",
    "nihao = Nihao()\n",
    "nihao.say_Nihao('中华')\n",
    "\n",
    "print('===============Sayolala===============')\n",
    "\n",
    "class Sayolala(object,metaclass=SayMetaClass):\n",
    "    pass\n",
    "\n",
    "sayolala = Sayolala()\n",
    "sayolala.say_Sayolala('Japan')"
   ]
  },
  {
   "cell_type": "markdown",
   "metadata": {},
   "source": [
    "如果不用元类，要达到上述效果，就需要创建3个类，里面各声明一次，如下："
   ]
  },
  {
   "cell_type": "code",
   "execution_count": 16,
   "metadata": {},
   "outputs": [
    {
     "name": "stdout",
     "output_type": "stream",
     "text": [
      "==============Hello================\n",
      "Hello,World!\n",
      "==============Nihao================\n",
      "Nihao,中华!\n",
      "===============Sayolala===============\n",
      "Sayolala,Japan!\n"
     ]
    }
   ],
   "source": [
    "print('==============Hello================')\n",
    "class Hello(object):\n",
    "    def say_Hello(self,value):\n",
    "        print('Hello,{}!'.format(value))\n",
    "        \n",
    "hello = Hello()\n",
    "hello.say_Hello('World')\n",
    "\n",
    "print('==============Nihao================')\n",
    "\n",
    "class Nihao(object):\n",
    "    def say_Nihao(self,value):\n",
    "        print('Nihao,{}!'.format(value))\n",
    "        \n",
    "nihao = Nihao()\n",
    "nihao.say_Nihao('中华')\n",
    "\n",
    "print('===============Sayolala===============')\n",
    "\n",
    "class Sayolala(object):\n",
    "    def say_Sayolala(self,value):\n",
    "        print('Sayolala,{}!'.format(value))\n",
    "        \n",
    "sayolala = Sayolala()\n",
    "sayolala.say_Sayolala('Japan')"
   ]
  },
  {
   "cell_type": "markdown",
   "metadata": {},
   "source": [
    "在sayhello的基础上，加上问候方式，轻吻kiss，握手shakehand，鞠躬bow"
   ]
  },
  {
   "cell_type": "code",
   "execution_count": 20,
   "metadata": {},
   "outputs": [
    {
     "name": "stdout",
     "output_type": "stream",
     "text": [
      "==============Hello================\n",
      "Hello,World!\n",
      "Kiss！\n",
      "==============Nihao================\n",
      "Nihao,中华!\n",
      "Shakehand！\n",
      "===============Sayolala===============\n",
      "Sayolala,Japan!\n",
      "Bow！\n"
     ]
    }
   ],
   "source": [
    "# 道生一 传入 type \n",
    "class SayMetaClass(type):\n",
    "    # 传入三大永恒话题： 类名称、父类、属性\n",
    "    def __new__(cls,name,bases,attrs):\n",
    "        attrs['say_'+name] = lambda self,value,saying=name:print('{},{}!'.format(saying,value))\n",
    "        attrs['manner'] = lambda self,manner:print('{}！'.format(manner))\n",
    "        # 传承三大永恒话题： 类名称、父类、属性\n",
    "        return type.__new__(cls,name,bases,attrs)\n",
    "\n",
    "# 一生二 创建类\n",
    "class Hello(object,metaclass=SayMetaClass):\n",
    "    pass\n",
    "\n",
    "print('==============Hello================')\n",
    "\n",
    "# 二生三 创建实例\n",
    "hello = Hello()\n",
    "\n",
    "# 三生万物 调用实例方法\n",
    "hello.say_Hello('World')\n",
    "hello.manner('Kiss')\n",
    "\n",
    "\n",
    "print('==============Nihao================')\n",
    "\n",
    "class Nihao(object,metaclass=SayMetaClass):\n",
    "    pass\n",
    "\n",
    "nihao = Nihao()\n",
    "nihao.say_Nihao('中华')\n",
    "nihao.manner('Shakehand')\n",
    "\n",
    "print('===============Sayolala===============')\n",
    "\n",
    "class Sayolala(object,metaclass=SayMetaClass):\n",
    "    pass\n",
    "\n",
    "sayolala = Sayolala()\n",
    "sayolala.say_Sayolala('Japan')\n",
    "sayolala.manner('Bow')"
   ]
  },
  {
   "cell_type": "markdown",
   "metadata": {},
   "source": [
    "#  给list增加一个list本身没有的add方法"
   ]
  },
  {
   "cell_type": "code",
   "execution_count": 23,
   "metadata": {},
   "outputs": [
    {
     "name": "stdout",
     "output_type": "stream",
     "text": [
      "[1]\n"
     ]
    },
    {
     "ename": "AttributeError",
     "evalue": "'list' object has no attribute 'add'",
     "output_type": "error",
     "traceback": [
      "\u001b[1;31m---------------------------------------------------------------------------\u001b[0m",
      "\u001b[1;31mAttributeError\u001b[0m                            Traceback (most recent call last)",
      "\u001b[1;32m<ipython-input-23-b8beed277eee>\u001b[0m in \u001b[0;36m<module>\u001b[1;34m()\u001b[0m\n\u001b[0;32m     12\u001b[0m \u001b[1;33m\u001b[0m\u001b[0m\n\u001b[0;32m     13\u001b[0m \u001b[0mL2\u001b[0m \u001b[1;33m=\u001b[0m \u001b[0mlist\u001b[0m\u001b[1;33m(\u001b[0m\u001b[1;33m)\u001b[0m\u001b[1;33m\u001b[0m\u001b[0m\n\u001b[1;32m---> 14\u001b[1;33m \u001b[0mL2\u001b[0m\u001b[1;33m.\u001b[0m\u001b[0madd\u001b[0m\u001b[1;33m(\u001b[0m\u001b[1;36m1\u001b[0m\u001b[1;33m)\u001b[0m\u001b[1;33m\u001b[0m\u001b[0m\n\u001b[0m",
      "\u001b[1;31mAttributeError\u001b[0m: 'list' object has no attribute 'add'"
     ]
    }
   ],
   "source": [
    "class ListMetaClass(type):\n",
    "    def __new__(cls,name,bases,attrs):\n",
    "        attrs['add'] = lambda self,value:self.append(value)\n",
    "        return type.__new__(cls,name,bases,attrs)\n",
    "\n",
    "class MyList(list,metaclass=ListMetaClass):\n",
    "    pass\n",
    "\n",
    "L = MyList()\n",
    "L.add(1)\n",
    "print(L)\n",
    "\n",
    "L2 = list()\n",
    "L2.add(1)"
   ]
  },
  {
   "cell_type": "markdown",
   "metadata": {},
   "source": [
    "动态修改有什么意义？直接在MyList定义中写上add()方法不是更简单吗？正常情况下，确实应该直接写，通过metaclass修改纯属变态。但是，总会遇到需要通过metaclass修改类定义的。ORM就是一个典型的例子。"
   ]
  },
  {
   "cell_type": "markdown",
   "metadata": {},
   "source": [
    "# Super() 使用\n",
    "\n",
    "http://python.jobbole.com/86787/\n",
    "\n",
    "在类的继承中，如果重定义某个方法，该方法会覆盖父类的同名方法，但有时，我们希望能同时实现父类的功能，这时，我们就需要调用父类的方法了，可通过使用 super 来实现，比如："
   ]
  },
  {
   "cell_type": "code",
   "execution_count": 1,
   "metadata": {},
   "outputs": [
    {
     "name": "stdout",
     "output_type": "stream",
     "text": [
      "Hello,dog\n",
      "WangWang...\n"
     ]
    }
   ],
   "source": [
    "class Animal(object):\n",
    "    def __init__(self,name):\n",
    "        self.name = name\n",
    "    def greet(self):\n",
    "        print('Hello,{}'.format(self.name))\n",
    "        \n",
    "class Dog(Animal):\n",
    "    def greet(self):\n",
    "        super().greet()\n",
    "        print('WangWang...')\n",
    "    \n",
    "dog = Dog('dog')\n",
    "dog.greet()"
   ]
  },
  {
   "cell_type": "markdown",
   "metadata": {},
   "source": [
    "在上面，Animal 是父类，Dog 是子类，我们在 Dog 类重定义了 greet 方法，为了能同时实现父类的功能，我们又调用了父类的方法。\n",
    "\n",
    "为了同时拥有父类的属性，super 的一个最常见用法可以说是在子类中调用父类的初始化方法了。"
   ]
  },
  {
   "cell_type": "code",
   "execution_count": 3,
   "metadata": {},
   "outputs": [
    {
     "name": "stdout",
     "output_type": "stream",
     "text": [
      "Base:a1,b2\n",
      "A:a1,b2,c3\n",
      "<__main__.A object at 0x005161B0>\n"
     ]
    }
   ],
   "source": [
    "class Base(object):\n",
    "    def __init__(self,a,b):\n",
    "        self.a = a\n",
    "        self.b = b\n",
    "        print('Base:a{},b{}'.format(self.a,self.b))\n",
    "        \n",
    "class A(Base):\n",
    "    def __init__(self,a,b,c):\n",
    "        super().__init__(a,b)\n",
    "        self.c = c\n",
    "        print('A:a{},b{},c{}'.format(self.a,self.b,self.c))\n",
    "\n",
    "test = A(1,2,3)\n",
    "print(test)"
   ]
  },
  {
   "cell_type": "code",
   "execution_count": null,
   "metadata": {},
   "outputs": [],
   "source": []
  }
 ],
 "metadata": {
  "kernelspec": {
   "display_name": "Python 3",
   "language": "python",
   "name": "python3"
  },
  "language_info": {
   "codemirror_mode": {
    "name": "ipython",
    "version": 3
   },
   "file_extension": ".py",
   "mimetype": "text/x-python",
   "name": "python",
   "nbconvert_exporter": "python",
   "pygments_lexer": "ipython3",
   "version": "3.6.3"
  },
  "toc": {
   "nav_menu": {},
   "number_sections": true,
   "sideBar": true,
   "skip_h1_title": false,
   "title_cell": "Table of Contents",
   "title_sidebar": "Contents",
   "toc_cell": false,
   "toc_position": {},
   "toc_section_display": true,
   "toc_window_display": false
  },
  "varInspector": {
   "cols": {
    "lenName": 16,
    "lenType": 16,
    "lenVar": 40
   },
   "kernels_config": {
    "python": {
     "delete_cmd_postfix": "",
     "delete_cmd_prefix": "del ",
     "library": "var_list.py",
     "varRefreshCmd": "print(var_dic_list())"
    },
    "r": {
     "delete_cmd_postfix": ") ",
     "delete_cmd_prefix": "rm(",
     "library": "var_list.r",
     "varRefreshCmd": "cat(var_dic_list()) "
    }
   },
   "types_to_exclude": [
    "module",
    "function",
    "builtin_function_or_method",
    "instance",
    "_Feature"
   ],
   "window_display": false
  }
 },
 "nbformat": 4,
 "nbformat_minor": 2
}
