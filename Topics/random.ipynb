{
 "cells": [
  {
   "cell_type": "markdown",
   "metadata": {},
   "source": [
    "## PYTHON RANDOM模块详解\n",
    "\n",
    "### 浮点数\n",
    "random.random()\n",
    "0-1之间随机浮点数\n",
    "\n",
    "random.uniform(a,b)\n",
    "指定范围内的随机浮点数，2个参数不固定，一个上限，一个下限\n",
    "\n",
    "\n",
    "### 整数\n",
    "random.randint(a,b)\n",
    "指定范围内的整数，a是下限，b是上限\n",
    "\n",
    "random.randrange(start,stop,step)\n",
    "指定范围，一定步长中随机整数\n",
    "等效 random.choice(start,stop,step)\n",
    "\n",
    "\n",
    "### 元素\n",
    "random.choice(sequence)\n",
    "序列中获取随机元素\n",
    "\n",
    "random.shuffle(sequence)\n",
    "打乱列表中的元素,没有返回值，修改原序列\n",
    "\n",
    "random.sample(sequence,k)\n",
    "序列中获取指定长度的片段，不会修改原有序列\n"
   ]
  },
  {
   "cell_type": "code",
   "execution_count": 10,
   "metadata": {},
   "outputs": [
    {
     "name": "stdout",
     "output_type": "stream",
     "text": [
      "0.3895970741913436\n",
      "5.3410301433552725\n",
      "3.2974747027148075\n",
      "9\n",
      "6\n",
      "2\n",
      "I\n",
      "Love\n",
      "[7, 0, 8, 3, 2]\n",
      "[6, 9, 2, 0, 7, 4, 3, 8, 1, 5]\n"
     ]
    }
   ],
   "source": [
    "import random\n",
    "\n",
    "print(random.random())\n",
    "print(random.uniform(3,6))\n",
    "print(random.uniform(6,3))\n",
    "print(random.randint(0,10))\n",
    "print(random.randrange(0,10,2))\n",
    "print(random.randrange(10,0,-2))\n",
    "print(random.choice('ILoveYou'))\n",
    "print(random.choice(['I','Love','You']))\n",
    "print(random.sample([1,2,3,4,5,6,7,8,9,0],5))\n",
    "a = [1,2,3,4,5,6,7,8,9,0]\n",
    "random.shuffle(a)\n",
    "print(a)\n",
    "\n"
   ]
  },
  {
   "cell_type": "code",
   "execution_count": 9,
   "metadata": {},
   "outputs": [
    {
     "name": "stdout",
     "output_type": "stream",
     "text": [
      "['you', 'Love', 'I', 'too']\n"
     ]
    }
   ],
   "source": [
    "import random\n",
    "\n",
    "a = ['I','Love','you','too']\n",
    "random.shuffle(a)\n",
    "print(a)"
   ]
  }
 ],
 "metadata": {
  "kernelspec": {
   "display_name": "Python 3",
   "language": "python",
   "name": "python3"
  },
  "language_info": {
   "codemirror_mode": {
    "name": "ipython",
    "version": 3
   },
   "file_extension": ".py",
   "mimetype": "text/x-python",
   "name": "python",
   "nbconvert_exporter": "python",
   "pygments_lexer": "ipython3",
   "version": "3.6.3"
  },
  "toc": {
   "nav_menu": {},
   "number_sections": true,
   "sideBar": true,
   "skip_h1_title": false,
   "title_cell": "Table of Contents",
   "title_sidebar": "Contents",
   "toc_cell": false,
   "toc_position": {},
   "toc_section_display": true,
   "toc_window_display": false
  },
  "varInspector": {
   "cols": {
    "lenName": 16,
    "lenType": 16,
    "lenVar": 40
   },
   "kernels_config": {
    "python": {
     "delete_cmd_postfix": "",
     "delete_cmd_prefix": "del ",
     "library": "var_list.py",
     "varRefreshCmd": "print(var_dic_list())"
    },
    "r": {
     "delete_cmd_postfix": ") ",
     "delete_cmd_prefix": "rm(",
     "library": "var_list.r",
     "varRefreshCmd": "cat(var_dic_list()) "
    }
   },
   "types_to_exclude": [
    "module",
    "function",
    "builtin_function_or_method",
    "instance",
    "_Feature"
   ],
   "window_display": false
  }
 },
 "nbformat": 4,
 "nbformat_minor": 2
}
