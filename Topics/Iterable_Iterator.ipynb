{
 "cells": [
  {
   "cell_type": "markdown",
   "metadata": {},
   "source": [
    "---\n",
    "\n",
    "title: Iterable and Iterator\n",
    "date:  2018.5.7\n",
    "categories:  Topics\n",
    "tags:  Topics\n",
    "keywords:  [iterable,iterator]\n",
    "\n",
    "---\n"
   ]
  },
  {
   "cell_type": "markdown",
   "metadata": {},
   "source": [
    "# 迭代工具\n",
    "\n",
    "Python中有一类工具叫做迭代工具，他们能从左至右扫描对象。这包括了for循环、列表解析、in成员关系测试以及map内置函数等。\n",
    "\n",
    "# 可迭代对象\n",
    "\n",
    "可以用在上述迭代工具环境中，通过一次次迭代不断产生结果的对象。\n",
    "\n",
    "可迭代对象分为两大类\n",
    "\n",
    "1.实际保存的序列，即列表、元组，字符串；\n",
    "\n",
    "2.“不一次性产生所有结果列表，而是可以在for循环中按需一次产生一个结果的对象”。\n",
    "\n",
    "如：range函数返回值、zip函数返回值、enumerate函数返回值等等，与实际序列相对应，这个叫做按需产生对象的虚拟序列。\n",
    "\n",
    "# 迭代器\n",
    "\n",
    "可迭代对象支持内置函数iter，通过对可迭代对象调用iter函数，会返回一个迭代器，而“迭代器”支持内置函数next，通过不断对其调用next方法，会依次前进到序列中的下一个元素并将其返回，最后到达一系列结果的末尾时，会引发StopIteration异常。\n",
    "\n",
    "补充说明一点，对迭代器调用iter方法，则会返回迭代器自身。"
   ]
  },
  {
   "cell_type": "code",
   "execution_count": 8,
   "metadata": {},
   "outputs": [
    {
     "name": "stdout",
     "output_type": "stream",
     "text": [
      "<list_iterator object at 0x000001F3CB288EB8>\n",
      "False\n",
      "True\n"
     ]
    }
   ],
   "source": [
    "L = [2,3,4]\n",
    "I = iter(L)\n",
    "print(iter(L))\n",
    "print(I is L)\n",
    "print(I is iter(I))"
   ]
  },
  {
   "cell_type": "markdown",
   "metadata": {},
   "source": [
    "# 迭代过程\n",
    "\n",
    "当任何可迭代对象传入到for循环或其他迭代工具中进行遍历时，迭代工具都是先通过iter函数获得与可迭代对象对应的迭代器，然后再对迭代器调用next函数，不断的依次获取元素，并在捕捉到StopIteration异常时确定完成迭代，这就是完整的迭代过程。这也称之为“迭代协议”"
   ]
  },
  {
   "cell_type": "code",
   "execution_count": 14,
   "metadata": {},
   "outputs": [
    {
     "name": "stdout",
     "output_type": "stream",
     "text": [
      "2\n",
      "3\n",
      "4\n"
     ]
    }
   ],
   "source": [
    "L = [2,3,4]\n",
    "I = iter(L)\n",
    "print(next(I))\n",
    "print(next(I))\n",
    "print(next(I))\n",
    "# print(next(I)) #报错 StopIteration   "
   ]
  },
  {
   "cell_type": "markdown",
   "metadata": {},
   "source": [
    "与手动迭代的示例过程相对应，下面是用for循环进行自动迭代的过程"
   ]
  },
  {
   "cell_type": "code",
   "execution_count": 16,
   "metadata": {},
   "outputs": [
    {
     "name": "stdout",
     "output_type": "stream",
     "text": [
      "2\n",
      "3\n",
      "4\n"
     ]
    }
   ],
   "source": [
    "L = [2,3,4]\n",
    "for x in L:\n",
    "    print(x)"
   ]
  },
  {
   "cell_type": "markdown",
   "metadata": {},
   "source": [
    "# 文件对象\n",
    "\n",
    "open函数返回的已打开的文件对象，也是可以一行一行的读取，直至文件结束，那很显然，他也是可迭代对象。"
   ]
  },
  {
   "cell_type": "code",
   "execution_count": 13,
   "metadata": {},
   "outputs": [
    {
     "name": "stdout",
     "output_type": "stream",
     "text": [
      "True\n",
      "hello text file\n",
      "\n",
      "goodbyt text file\n",
      "\n",
      "hahahahah\n"
     ]
    }
   ],
   "source": [
    "f = open('myfile.txt')\n",
    "print(f is iter(f))# 不管f是迭代对象还是迭代器，iter(f) 返回的是迭代器\n",
    "print(next(f)) # “迭代器”支持内置函数next,说明文件对象是迭代器\n",
    "print(next(f))\n",
    "print(next(f)) "
   ]
  },
  {
   "cell_type": "markdown",
   "metadata": {},
   "source": [
    "文件对象既是迭代器，又是可迭代对象。\n",
    "\n",
    "reference:\n",
    "\n",
    "http://python.jobbole.com/85240/\n",
    "\n",
    "http://python.jobbole.com/86258/\n",
    "\n",
    "https://zhuanlan.zhihu.com/p/24376869\n",
    "\n",
    "https://zhuanlan.zhihu.com/p/32508947"
   ]
  },
  {
   "cell_type": "markdown",
   "metadata": {},
   "source": [
    "## [可迭代、迭代器、生成器](https://zhuanlan.zhihu.com/p/37049161)\n",
    "\n",
    "\n",
    "### 可迭代的对象\n",
    "\n",
    "可迭代的对象，很好理解，我们很熟悉的：字符串，list，dict，tuple，deque等\n",
    "\n",
    "为了验证我说的，需要借助collections.abc这个模块（Python2没有），使用isinstance()来类别一个对象是否是可迭代的（Iterable），是否是迭代器（Iterator），是否是生成器（Generator）。"
   ]
  },
  {
   "cell_type": "code",
   "execution_count": 1,
   "metadata": {},
   "outputs": [
    {
     "name": "stdout",
     "output_type": "stream",
     "text": [
      "字符串：XiaoMing\n",
      "True\n",
      "False\n",
      "False\n",
      "列表：[21, 23, 32, 19]\n",
      "True\n",
      "False\n",
      "False\n",
      "字典：{'name': '小明', 'gender': '男', 'age': 18}\n",
      "True\n",
      "False\n",
      "False\n",
      "deque：deque(['a', 'b', 'c', 'd', 'e', 'f', 'g'])\n",
      "True\n",
      "False\n",
      "False\n"
     ]
    }
   ],
   "source": [
    "import collections\n",
    "from collections.abc import Iterable, Iterator, Generator\n",
    "\n",
    "\n",
    "# 字符串\n",
    "astr = \"XiaoMing\"\n",
    "print(\"字符串：{}\".format(astr))\n",
    "print(isinstance(astr, Iterable))\n",
    "print(isinstance(astr, Iterator))\n",
    "print(isinstance(astr, Generator))\n",
    "\n",
    "# 列表\n",
    "alist = [21, 23, 32,19]\n",
    "print(\"列表：{}\".format(alist))\n",
    "print(isinstance(alist, Iterable))\n",
    "print(isinstance(alist, Iterator))\n",
    "print(isinstance(alist, Generator))\n",
    "\n",
    "# 字典\n",
    "adict = {\"name\": \"小明\", \"gender\": \"男\", \"age\": 18}\n",
    "print(\"字典：{}\".format(adict))\n",
    "print(isinstance(adict, Iterable))\n",
    "print(isinstance(adict, Iterator))\n",
    "print(isinstance(adict, Generator))\n",
    "\n",
    "# deque\n",
    "adeque=collections.deque('abcdefg')\n",
    "print(\"deque：{}\".format(adeque))\n",
    "print(isinstance(adeque, Iterable))\n",
    "print(isinstance(adeque, Iterator))\n",
    "print(isinstance(adeque, Generator))"
   ]
  },
  {
   "cell_type": "markdown",
   "metadata": {},
   "source": [
    "从结果来看，这些可迭代对象都不是迭代器，也不是生成器。它们有一个共同点，就是它们都可以使用for来循环。这一点，大家都知道，我们就不去验证了。\n",
    "\n",
    "> 可迭代对象，是其内部实现了，\\__iter__ 这个魔术方法。可以通过，dir()方法来查看是否有\\__iter__来判断一个变量是否是可迭代的。\n",
    "\n",
    "### 迭代器\n",
    "\n",
    "对比可迭代对象，迭代器其实就只是多了一个函数而已。就是\\__next__()，我们可以不再使用for循环来间断获取元素值。而可以直接使用next()方法来实现。\n",
    "\n",
    "迭代器，是在可迭代的基础上实现的。要创建一个迭代器，我们首先，得有一个可迭代对象。\n",
    "现在就来看看，如何创建一个可迭代对象，并以可迭代对象为基础创建一个迭代器。"
   ]
  },
  {
   "cell_type": "code",
   "execution_count": 3,
   "metadata": {},
   "outputs": [
    {
     "name": "stdout",
     "output_type": "stream",
     "text": [
      "True\n",
      "False\n",
      "0\n",
      "1\n",
      "2\n",
      "3\n",
      "4\n",
      "True\n",
      "True\n",
      "0\n",
      "1\n",
      "2\n",
      "3\n",
      "4\n"
     ]
    }
   ],
   "source": [
    "from collections.abc import Iterable, Iterator,Generator\n",
    "\n",
    "class MyList(object):   # 定义可迭代对象类\n",
    "    def __init__(self,num):\n",
    "        self.end = num  # 上边界\n",
    "        \n",
    "    def __iter__(self):\n",
    "        return MyListIterator(self.end)  # 返回一个实现了__iter__和__next__的迭代器类的实例'\n",
    "    \n",
    "    \n",
    "class MyListIterator(object): # 定义迭代器类\n",
    "    \n",
    "    def __init__(self,end):\n",
    "        self.data = end  # 上边界\n",
    "        self.start = 0\n",
    "    \n",
    "    # 返回该对象的迭代器类的实例；因为自己就是迭代器，所以返回self\n",
    "    def __iter__(self):\n",
    "        return self\n",
    "    \n",
    "    # 迭代器类必须实现的方法，若是Python2则是next()函数\n",
    "    def __next__(self):\n",
    "        while self.start < self.data:\n",
    "            self.start += 1\n",
    "            return self.start - 1\n",
    "        raise StopIteration\n",
    "        \n",
    "if __name__ == '__main__':\n",
    "    my_list = MyList(5) # 得到一个可迭代对象\n",
    "    print(isinstance(my_list, Iterable))\n",
    "    print(isinstance(my_list, Iterator))\n",
    "    for i in my_list:\n",
    "        print(i)\n",
    "    \n",
    "    my_iterator = iter(my_list) # 得到一个迭代器\n",
    "    print(isinstance(my_iterator, Iterable))\n",
    "    print(isinstance(my_iterator, Iterator))    \n",
    "    \n",
    "    print(next(my_iterator))\n",
    "    print(next(my_iterator))\n",
    "    print(next(my_iterator))\n",
    "    print(next(my_iterator))\n",
    "    print(next(my_iterator))    "
   ]
  },
  {
   "cell_type": "markdown",
   "metadata": {},
   "source": [
    "> 迭代器，是其内部实现了，\\__iter__  和 \\__next__ 这个魔术方法。(Python3.x，Python2中是next()方法)。可以通过，dir()方法来查看是否有\\__next__来判断一个变量是否是迭代器的。\n",
    "\n",
    "\n",
    "### 生成器\n",
    "\n",
    "生成器的概念在 Python 2.2 中首次出现，之所以引入生成器，是为了实现一个在计算下一个值时不需要浪费空间的结构。\n",
    "\n",
    "前面我们说，迭代器，是在可迭代的基础上，加了一个next()方法。**而生成器，则是在迭代器的基础上（可以用for循环，可以使用next()）**，再实现了yield。\n",
    "\n",
    "yield 是什么东西呢，它相当于我们函数里的return。在每次next()，或者for遍历的时候，**都会yield这里将新的值返回回去，并在这里阻塞，等待下一次的调用**。正是由于这个机制，才使用生成器在Python编程中大放异彩。实现节省内存，实现异步编程。\n",
    "\n",
    "如何创建一个生成器，主要有以下两种方法"
   ]
  },
  {
   "cell_type": "code",
   "execution_count": 4,
   "metadata": {},
   "outputs": [
    {
     "name": "stdout",
     "output_type": "stream",
     "text": [
      "True\n",
      "True\n"
     ]
    }
   ],
   "source": [
    "# 使用列表生成式\n",
    "# 使用列表生成式，注意不是[]，而是()\n",
    "L = (x * x for x in range(10))\n",
    "print(isinstance(L, Generator))  # True\n",
    "\n",
    "# 实现了yield的函数\n",
    "def mygen(n):\n",
    "    now = 0\n",
    "    while now < n:\n",
    "        yield now\n",
    "        now += 1\n",
    "\n",
    "if __name__ == '__main__':\n",
    "    gen = mygen(10)\n",
    "    print(isinstance(gen, Generator))  # True"
   ]
  },
  {
   "cell_type": "markdown",
   "metadata": {},
   "source": [
    "可迭代对象和迭代器，是将所有的值都生成存放在内存中，而**生成器则是需要元素才临时生成，节省时间，节省空间。**\n",
    "\n",
    "#### 如何运行/激活生成器\n",
    "\n",
    "由于生成器并不是一次生成所有元素，而是一次一次的执行返回，那么如何刺激生成器执行(或者说激活)呢？\n",
    "\n",
    "激活主要有两个方法\n",
    "\n",
    "1. 使用 next()\n",
    "2. 使用 generator.send(None)\n",
    "\n",
    "分别看下例子，你就知道了。"
   ]
  },
  {
   "cell_type": "code",
   "execution_count": 5,
   "metadata": {},
   "outputs": [
    {
     "name": "stdout",
     "output_type": "stream",
     "text": [
      "0\n",
      "1\n",
      "2\n",
      "3\n"
     ]
    }
   ],
   "source": [
    "def mygen(n):\n",
    "    now = 0\n",
    "    while now < n:\n",
    "        yield now\n",
    "        now += 1\n",
    "\n",
    "if __name__ == '__main__':\n",
    "    gen = mygen(4)\n",
    "    # 通过交替执行，来说明这两种方法是等价的。\n",
    "    print(gen.send(None))\n",
    "    print(next(gen))\n",
    "    print(gen.send(None))\n",
    "    print(next(gen))"
   ]
  },
  {
   "cell_type": "markdown",
   "metadata": {},
   "source": [
    "#### 生成器的执行状态\n",
    "\n",
    "生成器在其生命周期中，会有如下四个状态\n",
    "\n",
    "- GEN_CREATED     等待开始执行 \n",
    "- GEN_RUNNING     解释器正在执行（只有在多线程应用中才能看到这个状态）\n",
    "- GEN_SUSPENDED   在yield表达式处暂停\n",
    "- GEN_CLOSED      执行结束"
   ]
  },
  {
   "cell_type": "code",
   "execution_count": 6,
   "metadata": {},
   "outputs": [
    {
     "name": "stdout",
     "output_type": "stream",
     "text": [
      "GEN_CREATED\n",
      "0\n",
      "GEN_SUSPENDED\n",
      "1\n",
      "GEN_CLOSED\n"
     ]
    }
   ],
   "source": [
    "from inspect import getgeneratorstate\n",
    "\n",
    "def mygen(n):\n",
    "    now = 0\n",
    "    while now < n:\n",
    "        yield now\n",
    "        now += 1\n",
    "        \n",
    "if __name__ == '__main__':\n",
    "    gen = mygen(2)\n",
    "    print(getgeneratorstate(gen))\n",
    "    print(next(gen))\n",
    "    print(getgeneratorstate(gen))\n",
    "    print(next(gen))\n",
    "    gen.close()  # 手动关闭/结束生成器\n",
    "    print(getgeneratorstate(gen))   "
   ]
  },
  {
   "cell_type": "markdown",
   "metadata": {},
   "source": [
    "#### 生成器的异常处理\n",
    "\n",
    "在生成器工作过程中，若生成器不满足生成元素的条件，就会/应该 抛出异常（StopIteration）。通过列表生成式构建的生成器，其内部已经自动帮我们实现了抛出异常这一步。"
   ]
  },
  {
   "cell_type": "code",
   "execution_count": 9,
   "metadata": {},
   "outputs": [
    {
     "name": "stdout",
     "output_type": "stream",
     "text": [
      "0\n",
      "1\n"
     ]
    },
    {
     "ename": "StopIteration",
     "evalue": "",
     "output_type": "error",
     "traceback": [
      "\u001b[1;31m---------------------------------------------------------------------------\u001b[0m",
      "\u001b[1;31mStopIteration\u001b[0m                             Traceback (most recent call last)",
      "\u001b[1;32m<ipython-input-9-ae2816008a61>\u001b[0m in \u001b[0;36m<module>\u001b[1;34m()\u001b[0m\n\u001b[0;32m      2\u001b[0m \u001b[0mprint\u001b[0m\u001b[1;33m(\u001b[0m\u001b[0mnext\u001b[0m\u001b[1;33m(\u001b[0m\u001b[0mL\u001b[0m\u001b[1;33m)\u001b[0m\u001b[1;33m)\u001b[0m\u001b[1;33m\u001b[0m\u001b[0m\n\u001b[0;32m      3\u001b[0m \u001b[0mprint\u001b[0m\u001b[1;33m(\u001b[0m\u001b[0mnext\u001b[0m\u001b[1;33m(\u001b[0m\u001b[0mL\u001b[0m\u001b[1;33m)\u001b[0m\u001b[1;33m)\u001b[0m\u001b[1;33m\u001b[0m\u001b[0m\n\u001b[1;32m----> 4\u001b[1;33m \u001b[0mprint\u001b[0m\u001b[1;33m(\u001b[0m\u001b[0mnext\u001b[0m\u001b[1;33m(\u001b[0m\u001b[0mL\u001b[0m\u001b[1;33m)\u001b[0m\u001b[1;33m)\u001b[0m\u001b[1;33m\u001b[0m\u001b[0m\n\u001b[0m",
      "\u001b[1;31mStopIteration\u001b[0m: "
     ]
    }
   ],
   "source": [
    "L = (x*x for x in range(2))\n",
    "print(next(L))\n",
    "print(next(L))\n",
    "print(next(L))"
   ]
  },
  {
   "cell_type": "markdown",
   "metadata": {},
   "source": [
    "所以我们在自己定义一个生成器的时候，我们也应该在不满足生成元素条件的时候，抛出异常。"
   ]
  },
  {
   "cell_type": "code",
   "execution_count": 11,
   "metadata": {},
   "outputs": [
    {
     "name": "stdout",
     "output_type": "stream",
     "text": [
      "0\n",
      "1\n"
     ]
    },
    {
     "name": "stderr",
     "output_type": "stream",
     "text": [
      "c:\\users\\win7\\appdata\\local\\programs\\python\\python36-32\\lib\\site-packages\\ipykernel_launcher.py:14: DeprecationWarning: generator 'mygen' raised StopIteration\n",
      "  \n"
     ]
    },
    {
     "ename": "StopIteration",
     "evalue": "",
     "output_type": "error",
     "traceback": [
      "\u001b[1;31m---------------------------------------------------------------------------\u001b[0m",
      "\u001b[1;31mStopIteration\u001b[0m                             Traceback (most recent call last)",
      "\u001b[1;32m<ipython-input-11-0508c9d5e683>\u001b[0m in \u001b[0;36m<module>\u001b[1;34m()\u001b[0m\n\u001b[0;32m     12\u001b[0m     \u001b[0mprint\u001b[0m\u001b[1;33m(\u001b[0m\u001b[0mnext\u001b[0m\u001b[1;33m(\u001b[0m\u001b[0mgen\u001b[0m\u001b[1;33m)\u001b[0m\u001b[1;33m)\u001b[0m\u001b[1;33m\u001b[0m\u001b[0m\n\u001b[0;32m     13\u001b[0m     \u001b[0mprint\u001b[0m\u001b[1;33m(\u001b[0m\u001b[0mnext\u001b[0m\u001b[1;33m(\u001b[0m\u001b[0mgen\u001b[0m\u001b[1;33m)\u001b[0m\u001b[1;33m)\u001b[0m\u001b[1;33m\u001b[0m\u001b[0m\n\u001b[1;32m---> 14\u001b[1;33m     \u001b[0mprint\u001b[0m\u001b[1;33m(\u001b[0m\u001b[0mnext\u001b[0m\u001b[1;33m(\u001b[0m\u001b[0mgen\u001b[0m\u001b[1;33m)\u001b[0m\u001b[1;33m)\u001b[0m\u001b[1;33m\u001b[0m\u001b[0m\n\u001b[0m",
      "\u001b[1;32m<ipython-input-11-0508c9d5e683>\u001b[0m in \u001b[0;36mmygen\u001b[1;34m(n)\u001b[0m\n\u001b[0;32m      6\u001b[0m         \u001b[1;32myield\u001b[0m \u001b[0mnow\u001b[0m\u001b[1;33m\u001b[0m\u001b[0m\n\u001b[0;32m      7\u001b[0m         \u001b[0mnow\u001b[0m \u001b[1;33m+=\u001b[0m \u001b[1;36m1\u001b[0m\u001b[1;33m\u001b[0m\u001b[0m\n\u001b[1;32m----> 8\u001b[1;33m     \u001b[1;32mraise\u001b[0m \u001b[0mStopIteration\u001b[0m\u001b[1;33m\u001b[0m\u001b[0m\n\u001b[0m\u001b[0;32m      9\u001b[0m \u001b[1;33m\u001b[0m\u001b[0m\n\u001b[0;32m     10\u001b[0m \u001b[1;32mif\u001b[0m \u001b[0m__name__\u001b[0m \u001b[1;33m==\u001b[0m \u001b[1;34m'__main__'\u001b[0m\u001b[1;33m:\u001b[0m\u001b[1;33m\u001b[0m\u001b[0m\n",
      "\u001b[1;31mStopIteration\u001b[0m: "
     ]
    }
   ],
   "source": [
    "from inspect import getgeneratorstate\n",
    "\n",
    "def mygen(n):\n",
    "    now = 0\n",
    "    while now < n:\n",
    "        yield now\n",
    "        now += 1\n",
    "    raise StopIteration\n",
    "        \n",
    "if __name__ == '__main__':\n",
    "    gen = mygen(2)\n",
    "    print(next(gen))\n",
    "    print(next(gen))\n",
    "    print(next(gen))"
   ]
  },
  {
   "cell_type": "markdown",
   "metadata": {},
   "source": []
  },
  {
   "cell_type": "code",
   "execution_count": null,
   "metadata": {},
   "outputs": [],
   "source": []
  }
 ],
 "metadata": {
  "kernelspec": {
   "display_name": "Python 3",
   "language": "python",
   "name": "python3"
  },
  "language_info": {
   "codemirror_mode": {
    "name": "ipython",
    "version": 3
   },
   "file_extension": ".py",
   "mimetype": "text/x-python",
   "name": "python",
   "nbconvert_exporter": "python",
   "pygments_lexer": "ipython3",
   "version": "3.6.5"
  },
  "toc": {
   "nav_menu": {},
   "number_sections": true,
   "sideBar": true,
   "skip_h1_title": false,
   "title_cell": "Table of Contents",
   "title_sidebar": "Contents",
   "toc_cell": false,
   "toc_position": {},
   "toc_section_display": true,
   "toc_window_display": false
  },
  "varInspector": {
   "cols": {
    "lenName": 16,
    "lenType": 16,
    "lenVar": 40
   },
   "kernels_config": {
    "python": {
     "delete_cmd_postfix": "",
     "delete_cmd_prefix": "del ",
     "library": "var_list.py",
     "varRefreshCmd": "print(var_dic_list())"
    },
    "r": {
     "delete_cmd_postfix": ") ",
     "delete_cmd_prefix": "rm(",
     "library": "var_list.r",
     "varRefreshCmd": "cat(var_dic_list()) "
    }
   },
   "types_to_exclude": [
    "module",
    "function",
    "builtin_function_or_method",
    "instance",
    "_Feature"
   ],
   "window_display": false
  }
 },
 "nbformat": 4,
 "nbformat_minor": 2
}
