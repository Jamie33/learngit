{
 "cells": [
  {
   "cell_type": "markdown",
   "metadata": {},
   "source": [
    "http://python.jobbole.com/85240/\n",
    "http://python.jobbole.com/86258/\n",
    "https://zhuanlan.zhihu.com/p/24376869\n",
    "https://zhuanlan.zhihu.com/p/32508947"
   ]
  },
  {
   "cell_type": "markdown",
   "metadata": {},
   "source": [
    "# 迭代工具\n",
    "\n",
    "Python中有一类工具叫做迭代工具，他们能从左至右扫描对象。这包括了for循环、列表解析、in成员关系测试以及map内置函数等。\n",
    "\n",
    "# 可迭代对象\n",
    "\n",
    "可以用在上述迭代工具环境中，通过一次次迭代不断产生结果的对象。\n",
    "\n",
    "可迭代对象分为两大类\n",
    "\n",
    "1.实际保存的序列，即列表、元组，字符串；\n",
    "\n",
    "2.“不一次性产生所有结果列表，而是可以在for循环中按需一次产生一个结果的对象”。\n",
    "\n",
    "如：range函数返回值、zip函数返回值、enumerate函数返回值等等，与实际序列相对应，这个叫做按需产生对象的虚拟序列。\n",
    "\n",
    "# 迭代器\n",
    "\n",
    "可迭代对象支持内置函数iter，通过对可迭代对象调用iter函数，会返回一个迭代器，而“迭代器”支持内置函数next，通过不断对其调用next方法，会依次前进到序列中的下一个元素并将其返回，最后到达一系列结果的末尾时，会引发StopIteration异常。\n",
    "\n",
    "补充说明一点，对迭代器调用iter方法，则会返回迭代器自身。"
   ]
  },
  {
   "cell_type": "code",
   "execution_count": 8,
   "metadata": {},
   "outputs": [
    {
     "name": "stdout",
     "output_type": "stream",
     "text": [
      "<list_iterator object at 0x000001F3CB288EB8>\n",
      "False\n",
      "True\n"
     ]
    }
   ],
   "source": [
    "L = [2,3,4]\n",
    "I = iter(L)\n",
    "print(iter(L))\n",
    "print(I is L)\n",
    "print(I is iter(I))"
   ]
  },
  {
   "cell_type": "markdown",
   "metadata": {},
   "source": [
    "# 迭代过程\n",
    "\n",
    "当任何可迭代对象传入到for循环或其他迭代工具中进行遍历时，迭代工具都是先通过iter函数获得与可迭代对象对应的迭代器，然后再对迭代器调用next函数，不断的依次获取元素，并在捕捉到StopIteration异常时确定完成迭代，这就是完整的迭代过程。这也称之为“迭代协议”"
   ]
  },
  {
   "cell_type": "code",
   "execution_count": 14,
   "metadata": {},
   "outputs": [
    {
     "name": "stdout",
     "output_type": "stream",
     "text": [
      "2\n",
      "3\n",
      "4\n"
     ]
    }
   ],
   "source": [
    "L = [2,3,4]\n",
    "I = iter(L)\n",
    "print(next(I))\n",
    "print(next(I))\n",
    "print(next(I))\n",
    "# print(next(I)) #报错 StopIteration   "
   ]
  },
  {
   "cell_type": "markdown",
   "metadata": {},
   "source": [
    "与手动迭代的示例过程相对应，下面是用for循环进行自动迭代的过程"
   ]
  },
  {
   "cell_type": "code",
   "execution_count": 16,
   "metadata": {},
   "outputs": [
    {
     "name": "stdout",
     "output_type": "stream",
     "text": [
      "2\n",
      "3\n",
      "4\n"
     ]
    }
   ],
   "source": [
    "L = [2,3,4]\n",
    "for x in L:\n",
    "    print(x)"
   ]
  },
  {
   "cell_type": "markdown",
   "metadata": {},
   "source": [
    "# 文件对象\n",
    "\n",
    "open函数返回的已打开的文件对象，也是可以一行一行的读取，直至文件结束，那很显然，他也是可迭代对象。"
   ]
  },
  {
   "cell_type": "code",
   "execution_count": 13,
   "metadata": {},
   "outputs": [
    {
     "name": "stdout",
     "output_type": "stream",
     "text": [
      "True\n",
      "hello text file\n",
      "\n",
      "goodbyt text file\n",
      "\n",
      "hahahahah\n"
     ]
    }
   ],
   "source": [
    "f = open('myfile.txt')\n",
    "print(f is iter(f))# 不管f是迭代对象还是迭代器，iter(f) 返回的是迭代器\n",
    "print(next(f)) # “迭代器”支持内置函数next,说明文件对象是迭代器\n",
    "print(next(f))\n",
    "print(next(f)) "
   ]
  },
  {
   "cell_type": "markdown",
   "metadata": {},
   "source": [
    "文件对象既是迭代器，又是可迭代对象。"
   ]
  }
 ],
 "metadata": {
  "kernelspec": {
   "display_name": "Python 3",
   "language": "python",
   "name": "python3"
  },
  "language_info": {
   "codemirror_mode": {
    "name": "ipython",
    "version": 3
   },
   "file_extension": ".py",
   "mimetype": "text/x-python",
   "name": "python",
   "nbconvert_exporter": "python",
   "pygments_lexer": "ipython3",
   "version": "3.6.2"
  },
  "toc": {
   "nav_menu": {},
   "number_sections": true,
   "sideBar": true,
   "skip_h1_title": false,
   "title_cell": "Table of Contents",
   "title_sidebar": "Contents",
   "toc_cell": false,
   "toc_position": {},
   "toc_section_display": true,
   "toc_window_display": false
  },
  "varInspector": {
   "cols": {
    "lenName": 16,
    "lenType": 16,
    "lenVar": 40
   },
   "kernels_config": {
    "python": {
     "delete_cmd_postfix": "",
     "delete_cmd_prefix": "del ",
     "library": "var_list.py",
     "varRefreshCmd": "print(var_dic_list())"
    },
    "r": {
     "delete_cmd_postfix": ") ",
     "delete_cmd_prefix": "rm(",
     "library": "var_list.r",
     "varRefreshCmd": "cat(var_dic_list()) "
    }
   },
   "types_to_exclude": [
    "module",
    "function",
    "builtin_function_or_method",
    "instance",
    "_Feature"
   ],
   "window_display": false
  }
 },
 "nbformat": 4,
 "nbformat_minor": 2
}
