{
 "cells": [
  {
   "cell_type": "markdown",
   "metadata": {},
   "source": [
    "## 简述 \\__init__、\\__new__、\\__call__ 方法\n",
    "https://foofish.net/magic-method.html\n",
    "\n",
    "任何事物都有一个从创建，被使用，再到消亡的过程，在程序语言面向对象编程模型中，对象也有相似的命运：创建、初始化、使用、垃圾回收，不同的阶段由不同的方法（角色）负责执行。\n",
    "\n",
    "定义一个类时，大家用得最多的就是 \\__init__ 方法，而 \\__new__ 和 \\__call__ 使用得比较少，这篇文章试图帮助大家把这3个方法的正确使用方式和应用场景分别解释一下。\n",
    "\n",
    "关于 Python 新式类和老式类在这篇文章不做过多讨论，因为老式类是 Python2 中的概念，现在基本没人再会去用老式类，新式类必须显示地继承 object，而 Python3 中，只有新式类，默认继承了 object，无需显示指定，本文代码都是基于 Python3 来讨论。\n",
    "\n",
    "### \\__init__方法\n",
    "\n",
    "\\__init__方法负责对象的初始化，系统执行该方法前，其实该对象已经存在了，要不然初始化什么东西呢？先看例子："
   ]
  },
  {
   "cell_type": "code",
   "execution_count": 8,
   "metadata": {},
   "outputs": [
    {
     "name": "stdout",
     "output_type": "stream",
     "text": [
      "__new__ \n",
      "__init__ \n"
     ]
    },
    {
     "data": {
      "text/plain": [
       "<__main__.A at 0x1015890>"
      ]
     },
     "execution_count": 8,
     "metadata": {},
     "output_type": "execute_result"
    }
   ],
   "source": [
    "# class A(object): python2 必须显示地继承object\n",
    "\n",
    "class A:\n",
    "    def __init__(self):\n",
    "        print(\"__init__ \")\n",
    "        super(A, self).__init__()\n",
    "\n",
    "    def __new__(cls):\n",
    "        print(\"__new__ \")\n",
    "        return super(A, cls).__new__(cls)\n",
    "\n",
    "    def __call__(self):  # 可以定义任意参数\n",
    "        print('__call__ ')\n",
    "\n",
    "A()"
   ]
  },
  {
   "cell_type": "markdown",
   "metadata": {},
   "source": [
    "从输出结果来看， \\__new__方法先被调用，返回一个实例对象，接着 \\__init__ 被调用。\n",
    "\n",
    "\\__call__方法并没有被调用，这个我们放到最后说，先来说说前面两个方法，稍微改写成："
   ]
  },
  {
   "cell_type": "code",
   "execution_count": 6,
   "metadata": {},
   "outputs": [
    {
     "name": "stdout",
     "output_type": "stream",
     "text": [
      "__new__ \n",
      "<__main__.A object at 0x01015670>\n",
      "__init__ \n",
      "<__main__.A object at 0x01015670>\n"
     ]
    },
    {
     "data": {
      "text/plain": [
       "<__main__.A at 0x1015670>"
      ]
     },
     "execution_count": 6,
     "metadata": {},
     "output_type": "execute_result"
    }
   ],
   "source": [
    "class A:\n",
    "    def __init__(self):\n",
    "        print(\"__init__ \")\n",
    "        print(self)\n",
    "        super(A, self).__init__()\n",
    "        \n",
    "    def __new__(cls):\n",
    "        print(\"__new__ \")\n",
    "        self =  super(A, cls).__new__(cls)\n",
    "        print(self)\n",
    "        return self\n",
    "    \n",
    "    def __call__(self):  # 可以定义任意参数\n",
    "        print('__call__ ')\n",
    "\n",
    "A()"
   ]
  },
  {
   "cell_type": "markdown",
   "metadata": {},
   "source": [
    "输出结果来看，\\__new__ 方法的返回值就是类的实例对象，这个实例对象会传递给 \\__init__ 方法中定义的 self 参数，以便实例对象可以被正确地初始化。\n",
    "\n",
    "如果 \\__new__ 方法不返回值（或者说返回 None）那么 \\__init__ 将不会得到调用，这个也说得通，因为实例对象都没创建出来，调用 init 也没什么意义，此外，Python 还规定，\\__init__ 只能返回 None 值，否则报错，这个留给大家去试。\n",
    "\n",
    "\\__init__方法可以用来做一些初始化工作，比如给实例对象的状态进行初始化："
   ]
  },
  {
   "cell_type": "code",
   "execution_count": null,
   "metadata": {},
   "outputs": [],
   "source": [
    "def __init__(self, a, b):\n",
    "    self.a = a\n",
    "    self.b = b\n",
    "    super(A, self).__init__()"
   ]
  },
  {
   "cell_type": "markdown",
   "metadata": {},
   "source": [
    "另外，__init__方法中除了self之外定义的参数，都将与__new__方法中除cls参数之外的参数是必须保持一致或者等效。"
   ]
  },
  {
   "cell_type": "code",
   "execution_count": 10,
   "metadata": {},
   "outputs": [
    {
     "name": "stdout",
     "output_type": "stream",
     "text": [
      "new (1, 2, 3) {}\n",
      "init (1, 2, 3) {}\n"
     ]
    },
    {
     "data": {
      "text/plain": [
       "<__main__.B at 0x1015950>"
      ]
     },
     "execution_count": 10,
     "metadata": {},
     "output_type": "execute_result"
    }
   ],
   "source": [
    "class B:\n",
    "    def __init__(self, *args, **kwargs):\n",
    "        print(\"init\", args, kwargs)\n",
    "\n",
    "    def __new__(cls, *args, **kwargs):\n",
    "        print(\"new\", args, kwargs)\n",
    "        return super().__new__(cls)\n",
    "\n",
    "B(1, 2, 3)"
   ]
  },
  {
   "cell_type": "markdown",
   "metadata": {},
   "source": [
    "### \\__new__方法\n",
    "\n",
    "一般我们不会去重写该方法，除非你确切知道怎么做，什么时候你会去关心它呢，它作为构造函数用于创建对象，是一个工厂函数，专用于生产实例对象。著名的设计模式之一，单例模式，就可以通过此方法来实现。在自己写框架级的代码时，可能你会用到它，我们也可以从开源代码中找到它的应用场景，例如微型 Web 框架 Bootle 就用到了。"
   ]
  },
  {
   "cell_type": "code",
   "execution_count": null,
   "metadata": {},
   "outputs": [],
   "source": [
    "class BaseController(object):\n",
    "    _singleton = None\n",
    "    def __new__(cls, *a, **k):\n",
    "        if not cls._singleton:\n",
    "            cls._singleton = object.__new__(cls, *a, **k)\n",
    "        return cls._singleton"
   ]
  },
  {
   "cell_type": "markdown",
   "metadata": {},
   "source": [
    "这段代码出自 https://github.com/bottlepy/bottle/blob/release-0.6/bottle.py\n",
    "\n",
    "这就是通过 __new__ 方法是实现单例模式的的一种方式，如果实例对象存在了就直接返回该实例即可，如果还没有，那么就先创建一个实例，再返回。\n",
    "\n",
    "### \\__call__ 方法\n",
    "\n",
    "关于 \\__call__ 方法，不得不先提到一个概念，就是可调用对象（callable），我们平时自定义的函数、内置函数和类都属于可调用对象，**但凡是可以把一对括号()应用到某个对象身上都可称之为可调用对象**，判断对象是否为可调用对象可以用函数 callable\n",
    "\n",
    "如果在类中实现了 \\__call__ 方法，那么**实例对象也将成为一个可调用对象**，我们回到最开始的那个例子："
   ]
  },
  {
   "cell_type": "code",
   "execution_count": 15,
   "metadata": {},
   "outputs": [
    {
     "name": "stdout",
     "output_type": "stream",
     "text": [
      "True\n"
     ]
    }
   ],
   "source": [
    "print(callable(a))"
   ]
  },
  {
   "cell_type": "markdown",
   "metadata": {},
   "source": [
    "a是实例对象，同时还是可调用对象，那么我就可以像函数一样调用它。试试："
   ]
  },
  {
   "cell_type": "code",
   "execution_count": 16,
   "metadata": {},
   "outputs": [
    {
     "name": "stdout",
     "output_type": "stream",
     "text": [
      "__call__ \n"
     ]
    }
   ],
   "source": [
    "a()"
   ]
  },
  {
   "cell_type": "markdown",
   "metadata": {},
   "source": []
  },
  {
   "cell_type": "code",
   "execution_count": null,
   "metadata": {},
   "outputs": [],
   "source": []
  },
  {
   "cell_type": "markdown",
   "metadata": {},
   "source": [
    "# 定制类\n",
    "https://www.liaoxuefeng.com/wiki/0014316089557264a6b348958f449949df42a6d3a2e542c000/0014319098638265527beb24f7840aa97de564ccc7f20f6000\n",
    "\n",
    "\n",
    "## \\__getatrr__ (self,attr)\n",
    "\n",
    "\\_getattr__是python里的一个内建函数，可以很方便地动态返回一个属性；\n",
    "当调用不存在的属性时，Python会试图调用__getattr__(self,attr)来获取属性，并且返回；\n",
    "\n",
    "正常情况下，当我们调用类的方法或属性时，如果不存在，就会报错。比如定义Student类：调用name属性，没问题，但是，调用不存在的score属性，就有问题了：错误信息很清楚地告诉我们，没有找到score这个attribute。"
   ]
  },
  {
   "cell_type": "code",
   "execution_count": 1,
   "metadata": {
    "scrolled": true
   },
   "outputs": [
    {
     "name": "stdout",
     "output_type": "stream",
     "text": [
      "Michael\n"
     ]
    },
    {
     "ename": "AttributeError",
     "evalue": "'Student' object has no attribute 'score'",
     "output_type": "error",
     "traceback": [
      "\u001b[1;31m---------------------------------------------------------------------------\u001b[0m",
      "\u001b[1;31mAttributeError\u001b[0m                            Traceback (most recent call last)",
      "\u001b[1;32m<ipython-input-1-c85aeb9a22b7>\u001b[0m in \u001b[0;36m<module>\u001b[1;34m()\u001b[0m\n\u001b[0;32m      5\u001b[0m \u001b[0ms\u001b[0m \u001b[1;33m=\u001b[0m \u001b[0mStudent\u001b[0m\u001b[1;33m(\u001b[0m\u001b[1;33m)\u001b[0m\u001b[1;33m\u001b[0m\u001b[0m\n\u001b[0;32m      6\u001b[0m \u001b[0mprint\u001b[0m\u001b[1;33m(\u001b[0m\u001b[0ms\u001b[0m\u001b[1;33m.\u001b[0m\u001b[0mname\u001b[0m\u001b[1;33m)\u001b[0m\u001b[1;33m\u001b[0m\u001b[0m\n\u001b[1;32m----> 7\u001b[1;33m \u001b[0mprint\u001b[0m\u001b[1;33m(\u001b[0m\u001b[0ms\u001b[0m\u001b[1;33m.\u001b[0m\u001b[0mscore\u001b[0m\u001b[1;33m)\u001b[0m\u001b[1;33m\u001b[0m\u001b[0m\n\u001b[0m",
      "\u001b[1;31mAttributeError\u001b[0m: 'Student' object has no attribute 'score'"
     ]
    }
   ],
   "source": [
    "class Student(object):\n",
    "    def __init__(self):\n",
    "        self.name = 'Michael'\n",
    "\n",
    "s = Student()\n",
    "print(s.name)\n",
    "print(s.score)"
   ]
  },
  {
   "cell_type": "markdown",
   "metadata": {},
   "source": [
    "要避免这个错误，除了可以加上一个score属性外，Python还有另一个机制，那就是写一个\\__getattr__()方法，动态返回一个属性。\n",
    "\n",
    "当调用不存在的属性时，比如score，Python解释器会试图调用__getattr__(self, 'score')来尝试获得属性，这样，我们就有机会返回score的值："
   ]
  },
  {
   "cell_type": "code",
   "execution_count": 2,
   "metadata": {},
   "outputs": [
    {
     "name": "stdout",
     "output_type": "stream",
     "text": [
      "Michael\n",
      "99\n"
     ]
    }
   ],
   "source": [
    "class Student(object):\n",
    "    def __init__(self):\n",
    "        self.name = 'Michael'\n",
    "    def __getattr__(self,attr):\n",
    "        if attr == 'score':\n",
    "            return 99\n",
    "    \n",
    "s = Student()\n",
    "print(s.name)\n",
    "print(s.score)"
   ]
  },
  {
   "cell_type": "markdown",
   "metadata": {},
   "source": [
    "返回函数也可以的，只是调用方法要改变。"
   ]
  },
  {
   "cell_type": "code",
   "execution_count": 9,
   "metadata": {},
   "outputs": [
    {
     "name": "stdout",
     "output_type": "stream",
     "text": [
      "25\n",
      "None\n"
     ]
    }
   ],
   "source": [
    "class Student(object):\n",
    "    def __getattr__(self,attr):\n",
    "        if attr == 'age':\n",
    "            return lambda:25\n",
    "    \n",
    "s = Student()\n",
    "print(s.age())\n",
    "print(s.abc)"
   ]
  },
  {
   "cell_type": "markdown",
   "metadata": {},
   "source": [
    "**注意，只有在没有找到属性的情况下，才调用__getattr__，已有的属性，比如name，不会在__getattr__中查找。**\n",
    "\n",
    "此外，注意到任意调用如s.abc都会返回None，这是因为我们定义的__getattr__默认返回就是None。\n",
    "\n",
    "要让class只响应特定的几个属性，我们就要按照约定，抛出AttributeError的错误："
   ]
  },
  {
   "cell_type": "code",
   "execution_count": 11,
   "metadata": {},
   "outputs": [
    {
     "name": "stdout",
     "output_type": "stream",
     "text": [
      "28\n"
     ]
    },
    {
     "ename": "AttributeError",
     "evalue": "'Student' object has no attribute 'abc'",
     "output_type": "error",
     "traceback": [
      "\u001b[1;31m---------------------------------------------------------------------------\u001b[0m",
      "\u001b[1;31mAttributeError\u001b[0m                            Traceback (most recent call last)",
      "\u001b[1;32m<ipython-input-11-85618239847d>\u001b[0m in \u001b[0;36m<module>\u001b[1;34m()\u001b[0m\n\u001b[0;32m      7\u001b[0m \u001b[0ms\u001b[0m \u001b[1;33m=\u001b[0m \u001b[0mStudent\u001b[0m\u001b[1;33m(\u001b[0m\u001b[1;33m)\u001b[0m\u001b[1;33m\u001b[0m\u001b[0m\n\u001b[0;32m      8\u001b[0m \u001b[0mprint\u001b[0m\u001b[1;33m(\u001b[0m\u001b[0ms\u001b[0m\u001b[1;33m.\u001b[0m\u001b[0mage\u001b[0m\u001b[1;33m)\u001b[0m\u001b[1;33m\u001b[0m\u001b[0m\n\u001b[1;32m----> 9\u001b[1;33m \u001b[0mprint\u001b[0m\u001b[1;33m(\u001b[0m\u001b[0ms\u001b[0m\u001b[1;33m.\u001b[0m\u001b[0mabc\u001b[0m\u001b[1;33m)\u001b[0m\u001b[1;33m\u001b[0m\u001b[0m\n\u001b[0m",
      "\u001b[1;32m<ipython-input-11-85618239847d>\u001b[0m in \u001b[0;36m__getattr__\u001b[1;34m(self, attr)\u001b[0m\n\u001b[0;32m      3\u001b[0m         \u001b[1;32mif\u001b[0m \u001b[0mattr\u001b[0m \u001b[1;33m==\u001b[0m \u001b[1;34m'age'\u001b[0m\u001b[1;33m:\u001b[0m\u001b[1;33m\u001b[0m\u001b[0m\n\u001b[0;32m      4\u001b[0m             \u001b[1;32mreturn\u001b[0m \u001b[1;36m28\u001b[0m\u001b[1;33m\u001b[0m\u001b[0m\n\u001b[1;32m----> 5\u001b[1;33m         \u001b[1;32mraise\u001b[0m \u001b[0mAttributeError\u001b[0m\u001b[1;33m(\u001b[0m\u001b[1;34m\"'Student' object has no attribute '{}'\"\u001b[0m\u001b[1;33m.\u001b[0m\u001b[0mformat\u001b[0m\u001b[1;33m(\u001b[0m\u001b[0mattr\u001b[0m\u001b[1;33m)\u001b[0m\u001b[1;33m)\u001b[0m\u001b[1;33m\u001b[0m\u001b[0m\n\u001b[0m\u001b[0;32m      6\u001b[0m \u001b[1;33m\u001b[0m\u001b[0m\n\u001b[0;32m      7\u001b[0m \u001b[0ms\u001b[0m \u001b[1;33m=\u001b[0m \u001b[0mStudent\u001b[0m\u001b[1;33m(\u001b[0m\u001b[1;33m)\u001b[0m\u001b[1;33m\u001b[0m\u001b[0m\n",
      "\u001b[1;31mAttributeError\u001b[0m: 'Student' object has no attribute 'abc'"
     ]
    }
   ],
   "source": [
    "class Student(object):\n",
    "    def __getattr__(self,attr):\n",
    "        if attr == 'age':\n",
    "            return 28\n",
    "        raise AttributeError(\"'Student' object has no attribute '{}'\".format(attr))\n",
    "    \n",
    "s = Student()\n",
    "print(s.age)\n",
    "print(s.abc)"
   ]
  },
  {
   "cell_type": "markdown",
   "metadata": {},
   "source": [
    "这实际上可以把一个类的所有属性和方法调用全部动态化处理了，不需要任何特殊手段。\n",
    "\n",
    "这种完全动态调用的特性有什么实际作用呢？作用就是，可以针对完全动态的情况作调用。\n",
    "\n",
    "举个例子：\n",
    "\n",
    "现在很多网站都搞REST API，比如新浪微博、豆瓣啥的，调用API的URL类似：\n",
    "\n",
    "http://api.server/user/friends\n",
    "\n",
    "http://api.server/user/timeline/list\n",
    "\n",
    "如果要写SDK，给每个URL对应的API都写一个方法，那得累死，而且，API一旦改动，SDK也要改。\n",
    "\n",
    "利用完全动态的__getattr__，我们可以写出一个链式调用："
   ]
  },
  {
   "cell_type": "code",
   "execution_count": 17,
   "metadata": {},
   "outputs": [
    {
     "name": "stdout",
     "output_type": "stream",
     "text": [
      "/status\n",
      "/status/user/timeline/list\n"
     ]
    }
   ],
   "source": [
    "class Chain(object):\n",
    "    def __init__(self,path=''):\n",
    "        self._path = path\n",
    "    def __getattr__(self,attr):\n",
    "        return Chain('{}/{}'.format(self._path,attr))\n",
    "    def __str__(self):\n",
    "        return self._path\n",
    "    __repr__=__str__\n",
    "    \n",
    "print(Chain().status)  \n",
    "print(Chain().status.user.timeline.list)"
   ]
  },
  {
   "cell_type": "markdown",
   "metadata": {},
   "source": [
    "实例 Chain()获取 status 属性，由于没有找该属性，调用\\__getattr__， 其中 self._path 是空，attr 是 status 因而返回 Chain('/status'), 参数'/status'被传递给 path，赋值给self._path.\n",
    "\n",
    "\n",
    "Chain().status.user.timeline.list “敲回车键”“()”和“.”和“回车键”都是从左向右的顺序运算符，类比成数学中的加和减。\n",
    "步骤：\n",
    "\n",
    "1、Chain是类名，对它进行“()”运算，即调用__init__(self)(这个有讲过哦),会生成一个实例c1，c1=Chain(path='')。\n",
    "\n",
    "2、对实例c1进行“.”运算，增加一个“status”属性，即调用__getattr__(self, status),返回\n",
    "一个新实例c2,c2=Chain(path='/status')。\n",
    "\n",
    "3、对实例c2进行“.”运算，增加一个“user”属性，即调用__getattr__(self, user),返回\n",
    "一个新实例c3,c3=Chain(path='/status/user')。\n",
    "\n",
    "4、对实例c3进行“.”运算，增加一个“timeline”属性，即调用__getattr__(self, timeline),返回\n",
    "一个新实例c4,c4=Chain(path='/status/user/timeline')。\n",
    "\n",
    "5、对实例c4进行“.”运算，增加一个“list”属性，即调用__getattr__(self, list),返回\n",
    "一个新实例c5,c5=Chain(path='/status/user/timeline/list')。\n",
    "\n",
    "6、对实例c5进行“回车键”运算，即调用__repr__(self)，返回c5._path,即输出'/status/user/timeline/list'。\n",
    "\n",
    "\n",
    "这样，无论API怎么变，SDK都可以根据URL实现完全动态的调用，而且，不随API的增加而改变！\n",
    "\n",
    "\n",
    "还有些REST API会把参数放到URL中，比如GitHub的API：\n",
    "\n",
    "`GET /users/:user/repos`\n",
    "\n",
    "调用时，需要把:user替换为实际用户名。如果我们能写出这样的链式调用：\n",
    "\n",
    "`Chain().users('michael').repos`"
   ]
  },
  {
   "cell_type": "code",
   "execution_count": 33,
   "metadata": {},
   "outputs": [
    {
     "name": "stdout",
     "output_type": "stream",
     "text": [
      "/status\n",
      "/status/user/timeline/list\n",
      "/users/:michael/repos\n"
     ]
    }
   ],
   "source": [
    "class Chain(object):\n",
    "    def __init__(self,path=''):\n",
    "        self._path = path\n",
    "    def __getattr__(self,attr):\n",
    "        return Chain('{}/{}'.format(self._path,attr))\n",
    "    def __call__(self, param):\n",
    "        return Chain('{}/:{}'.format(self._path,param))\n",
    "    \n",
    "    def __str__(self):\n",
    "        return self._path\n",
    "    \n",
    "    __repr__=__str__\n",
    "    \n",
    "print(Chain().status)  \n",
    "print(Chain().status.user.timeline.list)\n",
    "print(Chain().users('michael').repos)"
   ]
  },
  {
   "cell_type": "markdown",
   "metadata": {},
   "source": [
    "## \\__call__\n",
    "\n",
    "一个对象实例可以有自己的属性和方法，当我们调用实例方法时，我们用instance.method()来调用。能不能直接在实例本身上调用呢？在Python中，答案是肯定的。\n",
    "\n",
    "任何类，只需要定义一个\\__call__()方法，就可以直接对实例进行调用。请看示例："
   ]
  },
  {
   "cell_type": "code",
   "execution_count": 20,
   "metadata": {},
   "outputs": [
    {
     "name": "stdout",
     "output_type": "stream",
     "text": [
      "[2019.03.27] My name is Jamie\n",
      "-----callable()------\n",
      "True\n",
      "True\n",
      "False\n",
      "False\n"
     ]
    }
   ],
   "source": [
    "class Student(object):\n",
    "    def __init__(self,name):\n",
    "        self.name = name\n",
    "    def __call__(self,data):\n",
    "        print('[{}] My name is {}'.format(data,self.name))\n",
    "    \n",
    "s = Student('Jamie') # 创建实例 有了__init__方法，在创建实例的时候，就不能传入空的参数了，必须传入与__init__方法匹配的参数，但self不需要传\n",
    "s('2019.03.27') # 实例调用，必须传入与__call__方法匹配的参数，但self不需要传\n",
    "\n",
    "print('-----callable()------')\n",
    "print(callable(s))\n",
    "print(callable(max))\n",
    "print(callable(1))\n",
    "print(callable('str'))"
   ]
  },
  {
   "cell_type": "markdown",
   "metadata": {},
   "source": [
    "\\__call__()还可以定义参数。对实例进行直接调用就好比对一个函数进行调用一样，所以你完全可以把对象看成函数，把函数看成对象，因为这两者之间本来就没啥根本的区别。\n",
    "\n",
    "如果你把对象看成函数，那么函数本身其实也可以在运行期动态创建出来，因为类的实例都是运行期创建出来的，这么一来，我们就模糊了对象和函数的界限。\n",
    "\n",
    "那么，怎么判断一个变量是对象还是函数呢？其实，更多的时候，我们需要判断一个对象是否能被调用，能被调用的对象就是一个Callable对象，比如函数和我们上面定义的带有\\__call__()的类实例"
   ]
  }
 ],
 "metadata": {
  "kernelspec": {
   "display_name": "Python 3",
   "language": "python",
   "name": "python3"
  },
  "language_info": {
   "codemirror_mode": {
    "name": "ipython",
    "version": 3
   },
   "file_extension": ".py",
   "mimetype": "text/x-python",
   "name": "python",
   "nbconvert_exporter": "python",
   "pygments_lexer": "ipython3",
   "version": "3.6.5"
  }
 },
 "nbformat": 4,
 "nbformat_minor": 2
}
