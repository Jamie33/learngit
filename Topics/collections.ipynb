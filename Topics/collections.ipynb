{
 "cells": [
  {
   "cell_type": "markdown",
   "metadata": {},
   "source": [
    "## collections  \n",
    "collections是Python内建的一个集合模块，提供了许多有用的集合类。\n",
    "\n",
    "### namedtuple \n",
    "\n",
    "namedtuple是一个函数，它用来创建一个自定义的tuple对象，并且规定了tuple元素的个数，并可以用属性而不是索引来引用tuple的某个元素。\n",
    "\n",
    "这样一来，我们用namedtuple可以很方便地定义一种数据类型，它具备tuple的不变性，又可以根据属性来引用，使用十分方便。\n",
    "\n",
    "可以验证创建的Point对象是tuple的一种子类："
   ]
  },
  {
   "cell_type": "code",
   "execution_count": 7,
   "metadata": {},
   "outputs": [
    {
     "name": "stdout",
     "output_type": "stream",
     "text": [
      "1 2\n",
      "True\n",
      "True\n",
      "圆的坐标：(1,1)；圆的半径为：1\n"
     ]
    }
   ],
   "source": [
    "from collections import namedtuple\n",
    "\n",
    "Point = namedtuple('point',['x','y'])\n",
    "p = Point(1,2)\n",
    "print(p.x,p.y)\n",
    "print(isinstance(p,Point))\n",
    "print(isinstance(p,tuple))\n",
    "\n",
    "# 如果要用坐标和半径表示一个圆，也可以用namedtuple定义：\n",
    "# namedtuple('名称'，[属性list])\n",
    "Circle = namedtuple('Circle',['x','y','r'])\n",
    "c = Circle(1,1,1)\n",
    "print('圆的坐标：({},{})；圆的半径为：{}'.format(c.x,c.y,c.r))"
   ]
  },
  {
   "cell_type": "markdown",
   "metadata": {},
   "source": [
    "### deque\n",
    "\n",
    "使用list存储数据时，按索引访问元素很快，但是插入和删除元素就很慢了，因为list是线性存储，数据量大的时候，插入和删除效率很低。\n",
    "\n",
    "deque是为了高效实现插入和删除操作的双向列表，适合用于队列和栈：\n",
    "\n",
    "deque就是双端队列，是一种具有队列和栈的性质的数据结构，适合于在两端添加和删除，类似与序列的容器。\n",
    "\n",
    "常用的方法\n",
    "\n",
    "d=deque([])        #创建一个空的双队列\n",
    "\n",
    "d.append(item)        #在d的右边(末尾)添加项目item\n",
    "\n",
    "d.appendleft(item)         #从d的左边(开始)添加项目item\n",
    "\n",
    "d.clear()              #清空队列,也就是删除d中的所有项目\n",
    "\n",
    "d.extend(iterable)     #在d的右边(末尾)添加iterable中的所有项目\n",
    "\n",
    "d.extendleft(item)   #在d的左边(开始)添加item中的所有项目\n",
    "\n",
    "d.pop()          #删除并返回d中的最后一个(最右边的)项目。如果d为空，则引发IndexError\n",
    "\n",
    "d.popleft()      #删除并返回d中的第一个(最左边的)项目。如果d为空，则引发IndexError\n",
    "\n",
    "d.rotate(n=1)       #将d向右旋转n步(如果n<0,则向左旋转)\n",
    "\n",
    "d.count(n)       #在队列中统计元素的个数，n表示统计的元素\n",
    "\n",
    "d.remove(n)       #从队列中删除指定的值\n",
    "\n",
    "d.reverse()      #翻转队列"
   ]
  },
  {
   "cell_type": "code",
   "execution_count": 15,
   "metadata": {},
   "outputs": [
    {
     "name": "stdout",
     "output_type": "stream",
     "text": [
      "deque(['y', 'a', 'b', 'c'])\n",
      "deque(['e', 'y', 3, 2, 1, 'y', 'a', 'b', 'c'])\n",
      "e\n",
      "deque(['y', 3, 2, 1, 'y', 'a', 'b', 'c'])\n",
      "deque(['c', 'y', 3, 2, 1, 'y', 'a', 'b'])\n",
      "2\n",
      "deque(['c', 3, 2, 1, 'y', 'a', 'b'])\n",
      "deque(['b', 'a', 'y', 1, 2, 3, 'c'])\n",
      "deque([])\n"
     ]
    }
   ],
   "source": [
    "from collections import deque\n",
    "\n",
    "q = deque(['a','b','c'])\n",
    "q.appendleft('y')\n",
    "print(q)\n",
    "q.extendleft([1,2,3,'y','e'])\n",
    "print(q)\n",
    "print(q.popleft())\n",
    "print(q)\n",
    "q.rotate(1)\n",
    "print(q)\n",
    "print(q.count('y'))\n",
    "q.remove('y')\n",
    "print(q)\n",
    "q.reverse()\n",
    "print(q)\n",
    "q.clear()\n",
    "print(q)"
   ]
  },
  {
   "cell_type": "markdown",
   "metadata": {},
   "source": [
    "### defaultdict\n",
    "\n",
    "使用dict时，如果引用的Key不存在，就会抛出KeyError。如果希望key不存在时，返回一个默认值，就可以用defaultdict"
   ]
  },
  {
   "cell_type": "code",
   "execution_count": 2,
   "metadata": {},
   "outputs": [
    {
     "name": "stdout",
     "output_type": "stream",
     "text": [
      "abc\n",
      "N/A\n"
     ]
    }
   ],
   "source": [
    "from collections import defaultdict\n",
    "\n",
    "dd = defaultdict(lambda:'N/A')\n",
    "dd['key1'] = 'abc'\n",
    "print(dd['key1'])\n",
    "print(dd['key2'])"
   ]
  },
  {
   "cell_type": "markdown",
   "metadata": {},
   "source": [
    "注意默认值是调用函数返回的，而函数在创建defaultdict对象时传入。\n",
    "\n",
    "除了在Key不存在时返回默认值，defaultdict的其他行为跟dict是完全一样的。"
   ]
  },
  {
   "cell_type": "markdown",
   "metadata": {},
   "source": [
    "### OrderedDict\n",
    "\n",
    "使用dict时，Key是无序的。在对dict做迭代时，我们无法确定Key的顺序。\n",
    "\n",
    "如果要保持Key的顺序，可以用OrderedDict："
   ]
  },
  {
   "cell_type": "code",
   "execution_count": 38,
   "metadata": {},
   "outputs": [
    {
     "name": "stdout",
     "output_type": "stream",
     "text": [
      "{'a': 1, 'b': 2, 'c': 3}\n",
      "OrderedDict([('a', 1), ('b', 2), ('c', 3)])\n"
     ]
    }
   ],
   "source": [
    "from collections import OrderedDict\n",
    "\n",
    "d = dict([('a', 1), ('b', 2), ('c', 3)])\n",
    "print(d)# dict 是无序的\n",
    "od = OrderedDict([('a', 1), ('b', 2), ('c', 3)])\n",
    "print(od)"
   ]
  },
  {
   "cell_type": "markdown",
   "metadata": {},
   "source": [
    "注意，OrderedDict的Key会按照插入的顺序排列，不是Key本身排序："
   ]
  },
  {
   "cell_type": "code",
   "execution_count": 39,
   "metadata": {},
   "outputs": [
    {
     "name": "stdout",
     "output_type": "stream",
     "text": [
      "OrderedDict([('z', 1), ('y', 2), ('x', 3)])\n"
     ]
    }
   ],
   "source": [
    "from collections import OrderedDict\n",
    "\n",
    "g = OrderedDict()\n",
    "g['z'] = 1\n",
    "g['y'] = 2\n",
    "g['x'] = 3\n",
    "print(g)"
   ]
  },
  {
   "cell_type": "markdown",
   "metadata": {},
   "source": [
    "### Counter 类\n",
    "\n",
    "Counter类的目的是用来跟踪值出现的次数。它是一个无序的容器类型，以字典的键值对形式存储，其中元素作为key，其计数作为value。计数值可以是任意的Interger（包括0和负数）\n",
    "\n",
    "http://www.pythoner.com/205.html\n",
    "\n",
    "\n",
    "#### 创建Counter类\n",
    "\n",
    "Counter类创建的四种方法："
   ]
  },
  {
   "cell_type": "code",
   "execution_count": 41,
   "metadata": {},
   "outputs": [
    {
     "name": "stdout",
     "output_type": "stream",
     "text": [
      "Counter() Counter({'a': 3, 'l': 2, 'g': 1, 'h': 1, 'd': 1}) Counter({'a': 4, 'b': 2}) Counter({'a': 4, 'b': 2})\n"
     ]
    }
   ],
   "source": [
    "from collections import Counter\n",
    "\n",
    "a = Counter() # 创建一个空的Counter类\n",
    "b = Counter('gallahad') # 从一个iterable对象（list,tuple,dict,字符串）创建\n",
    "c = Counter({'a':4,'b':2}) # 从一个字典对象创建\n",
    "d = Counter(a=4,b=2) # 从一组键值对创建\n",
    "\n",
    "print(a,b,c,d)"
   ]
  },
  {
   "cell_type": "markdown",
   "metadata": {},
   "source": [
    "#### 计数值的访问与缺失的键\n",
    "\n",
    "当所访问的键不存在时，返回0，而不是KeyError；否则返回它的计数。"
   ]
  },
  {
   "cell_type": "code",
   "execution_count": 42,
   "metadata": {},
   "outputs": [
    {
     "name": "stdout",
     "output_type": "stream",
     "text": [
      "2\n",
      "1\n",
      "0\n"
     ]
    }
   ],
   "source": [
    "from collections import Counter\n",
    "\n",
    "c = Counter('abcdefgab')\n",
    "print(c['a'])\n",
    "print(c['g'])\n",
    "print(c['h'])"
   ]
  },
  {
   "cell_type": "markdown",
   "metadata": {},
   "source": [
    "#### 计数器的更新（update and subtract）\n",
    "\n",
    "可以使用一个iterable对象或者另一个Counter对象来更新键值。\n",
    "\n",
    "计数器的更新包括增加和减少两种。其中，增加使用update()方法；\n",
    "减少则使用subtract()方法。"
   ]
  },
  {
   "cell_type": "code",
   "execution_count": 49,
   "metadata": {},
   "outputs": [
    {
     "name": "stdout",
     "output_type": "stream",
     "text": [
      "2\n",
      "4\n",
      "6\n",
      "2\n",
      "-1\n"
     ]
    }
   ],
   "source": [
    "from collections import Counter\n",
    "\n",
    "# 增加使用update()方法\n",
    "c = Counter('Which')\n",
    "print(c['h'])\n",
    "c.update('Which') # 使用另一个iterable 对象\n",
    "print(c['h'])\n",
    "\n",
    "d = Counter('Which')\n",
    "c.update(d) #使用另一个Counter对象\n",
    "print(c['h'])\n",
    "\n",
    "# 减少使用subtract()方法\n",
    "a = Counter('Which')\n",
    "print(a['h'])\n",
    "a.subtract('Whichh')\n",
    "print(a['h'])"
   ]
  },
  {
   "cell_type": "markdown",
   "metadata": {},
   "source": [
    "#### 键的删除\n",
    "\n",
    "当计数值为0时，并不意味着元素被删除，删除元素应当使用del。"
   ]
  },
  {
   "cell_type": "code",
   "execution_count": 54,
   "metadata": {},
   "outputs": [
    {
     "name": "stdout",
     "output_type": "stream",
     "text": [
      "Counter({'a': 2, 'b': 2, 'c': 2, 'd': 1})\n",
      "Counter({'a': 2, 'c': 2, 'd': 1, 'b': 0})\n",
      "Counter({'c': 2, 'd': 1, 'b': 0})\n",
      "0\n",
      "0\n"
     ]
    }
   ],
   "source": [
    "from collections import Counter\n",
    "\n",
    "c = Counter('abcdcba')\n",
    "print(c)\n",
    "c['b'] = 0\n",
    "print(c)\n",
    "del c['a']\n",
    "print(c)\n",
    "print(c['a'])\n",
    "print(c['b'])"
   ]
  },
  {
   "cell_type": "markdown",
   "metadata": {},
   "source": [
    "#### elements()\n",
    "\n",
    "返回一个迭代器。元素被重复了多少次，在该迭代器中就包含多少个该元素。元素排列无确定顺序，个数小于1的元素不被包含。"
   ]
  },
  {
   "cell_type": "code",
   "execution_count": 4,
   "metadata": {},
   "outputs": [
    {
     "data": {
      "text/plain": [
       "['a', 'a', 'a', 'a', 'b', 'b', 'e']"
      ]
     },
     "execution_count": 4,
     "metadata": {},
     "output_type": "execute_result"
    }
   ],
   "source": [
    "from collections import Counter\n",
    "\n",
    "c = Counter(a=4,b=2,c=0,e=1)\n",
    "list(c.elements())"
   ]
  },
  {
   "cell_type": "markdown",
   "metadata": {},
   "source": [
    "#### most_common([0])\n",
    "\n",
    "返回一个TopN列表。如果n没有被指定，则返回所有元素。当多个元素计数值相同时，排列是无确定顺序的。"
   ]
  },
  {
   "cell_type": "code",
   "execution_count": 5,
   "metadata": {},
   "outputs": [
    {
     "data": {
      "text/plain": [
       "[('a', 5), ('b', 2), ('r', 2), ('c', 1), ('d', 1)]"
      ]
     },
     "execution_count": 5,
     "metadata": {},
     "output_type": "execute_result"
    }
   ],
   "source": [
    "from collections import Counter\n",
    "\n",
    "c = Counter('abracadabra')\n",
    "c.most_common()"
   ]
  }
 ],
 "metadata": {
  "kernelspec": {
   "display_name": "Python 3",
   "language": "python",
   "name": "python3"
  },
  "language_info": {
   "codemirror_mode": {
    "name": "ipython",
    "version": 3
   },
   "file_extension": ".py",
   "mimetype": "text/x-python",
   "name": "python",
   "nbconvert_exporter": "python",
   "pygments_lexer": "ipython3",
   "version": "3.6.5"
  }
 },
 "nbformat": 4,
 "nbformat_minor": 2
}
