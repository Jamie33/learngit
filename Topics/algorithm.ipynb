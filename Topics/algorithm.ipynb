{
 "cells": [
  {
   "cell_type": "code",
   "execution_count": 1,
   "metadata": {},
   "outputs": [
    {
     "name": "stdout",
     "output_type": "stream",
     "text": [
      "code\n",
      "CODE\n"
     ]
    }
   ],
   "source": [
    "t1 = 'coDe'\n",
    "t2 = 'CODe'\n",
    "def solve(t):\n",
    "    a = 0\n",
    "    for i in t:\n",
    "        if i.isupper():\n",
    "            a += 1\n",
    "    if a > len(t)-a:\n",
    "        print(t.upper())\n",
    "    else:\n",
    "        print(t.lower())\n",
    "\n",
    "solve(t1)\n",
    "solve(t2)"
   ]
  },
  {
   "cell_type": "code",
   "execution_count": 2,
   "metadata": {},
   "outputs": [
    {
     "name": "stdout",
     "output_type": "stream",
     "text": [
      "code\n",
      "CODE\n"
     ]
    }
   ],
   "source": [
    "t1 = 'coDe'\n",
    "t2 = 'CODe'\n",
    "def solve(t):\n",
    "    a = 0\n",
    "    for i in t:\n",
    "        if i.isupper():\n",
    "            a += 1\n",
    "        else:\n",
    "            a -= 1\n",
    "    if a > 0:\n",
    "        print(t.upper())\n",
    "    else:\n",
    "        print(t.lower())\n",
    "\n",
    "solve(t1)\n",
    "solve(t2)"
   ]
  },
  {
   "cell_type": "code",
   "execution_count": 5,
   "metadata": {},
   "outputs": [
    {
     "data": {
      "text/plain": [
       "'code'"
      ]
     },
     "execution_count": 5,
     "metadata": {},
     "output_type": "execute_result"
    }
   ],
   "source": [
    "def check_character(c):\n",
    "    return 1 if c.isupper() else -1\n",
    "\n",
    "def solve(s):\n",
    "    nums = list(map(check_character,s))\n",
    "    return s.upper() if sum(nums)>0 else s.lower()\n",
    "\n",
    "t1 = 'coDe'\n",
    "t2 = 'CODe'\n",
    "solve(t1)\n",
    "#solve(t2)"
   ]
  },
  {
   "cell_type": "code",
   "execution_count": 12,
   "metadata": {},
   "outputs": [
    {
     "name": "stdout",
     "output_type": "stream",
     "text": [
      "lower\n",
      "upper\n",
      "[False, False, True, False]\n",
      "1\n",
      "[True, True, False, True]\n",
      "3\n",
      "[True, True, True, False]\n",
      "3\n",
      "[False, False, False, True]\n",
      "1\n"
     ]
    }
   ],
   "source": [
    "def solve(s):\n",
    "    upper = [l.isupper() for l in s]\n",
    "    print(upper)  \n",
    "    print(sum(upper)) # True = 1\n",
    "    lower = [l.islower() for l in s]\n",
    "    print(lower)\n",
    "    print(sum(lower)) # False = 0\n",
    "\n",
    "\n",
    "a = ['upper','lower'][True] # True = 1\n",
    "b = ['upper','lower'][False] # False = 0\n",
    "print(a)\n",
    "print(b)\n",
    "    \n",
    "t1 = 'coDe'\n",
    "t2 = 'CODe'\n",
    "solve(t1)\n",
    "solve(t2)"
   ]
  },
  {
   "cell_type": "code",
   "execution_count": 10,
   "metadata": {},
   "outputs": [
    {
     "data": {
      "text/plain": [
       "'code'"
      ]
     },
     "execution_count": 10,
     "metadata": {},
     "output_type": "execute_result"
    }
   ],
   "source": [
    "def solve(s):\n",
    "    upper = sum((l.isupper() for l in s))\n",
    "    lower = sum((l.islower() for l in s))\n",
    "    return [s.lower(),s.upper()][upper > lower]\n",
    "\n",
    "t1 = 'coDe'\n",
    "solve(t1)\n",
    "\n",
    "    "
   ]
  },
  {
   "cell_type": "code",
   "execution_count": 12,
   "metadata": {},
   "outputs": [
    {
     "name": "stdout",
     "output_type": "stream",
     "text": [
      "[9, 9, 9, 9, 9, 9, 9, 9, 9]\n",
      "[[1, 4, 7, 6, 5, 9, 2, 3, 8], [3, 9, 5, 4, 2, 8, 1, 6, 7], [2, 8, 6, 3, 1, 7, 4, 5, 9], [5, 2, 3, 1, 7, 4, 9, 8, 6], [7, 6, 8, 5, 9, 2, 3, 1, 4], [9, 1, 4, 8, 3, 6, 5, 7, 2], [4, 3, 2, 7, 8, 5, 6, 9, 1], [6, 7, 1, 9, 4, 3, 8, 2, 3], [8, 5, 9, 2, 6, 1, 7, 4, 5]]\n",
      "[[1, 4, 7, 6, 5, 9, 2, 3, 8], [3, 9, 5, 4, 2, 8, 1, 6, 7], [2, 8, 6, 3, 1, 7, 4, 5, 9], [5, 2, 3, 1, 7, 4, 9, 8, 6], [7, 6, 8, 5, 9, 2, 3, 1, 4], [9, 1, 4, 8, 3, 6, 5, 7, 2], [4, 3, 2, 7, 8, 5, 6, 9, 1], [6, 7, 1, 9, 4, 3, 8, 2, 3], [8, 5, 9, 2, 6, 1, 7, 4, 5]]\n"
     ]
    }
   ],
   "source": [
    "board = [\n",
    "    [1,3,2,5,7,9,4,6,8],\n",
    "    [4,9,8,2,6,1,3,7,5],\n",
    "    [7,5,6,3,8,4,2,1,9],\n",
    "    [6,4,3,1,5,8,7,9,2],\n",
    "    [5,2,1,7,9,3,8,4,6],\n",
    "    [9,8,7,4,2,6,5,3,1],\n",
    "    [2,1,4,9,3,5,6,8,7],\n",
    "    [3,6,5,8,1,7,9,2,4],\n",
    "    [8,7,9,6,4,2,1,3,5],\n",
    "]\n",
    "\n",
    "#检查每一行是否重复\n",
    "low_len = [len(set(row)) for row in board]\n",
    "print(low_len)\n",
    "\n",
    "#检查每一列是否重复\n",
    "\n",
    "b = []\n",
    "for a in range(9):\n",
    "    col = []\n",
    "    for i in board:\n",
    "        col.append(i[a])\n",
    "    b.append(col)\n",
    "    \n",
    "c = [[i[a] for i in board] for a in range(9)]\n",
    "\n",
    "print(b)\n",
    "print(c)\n",
    "\n",
    "zip()\n",
    "\n",
    "#检查每一小区块是否重复"
   ]
  },
  {
   "cell_type": "code",
   "execution_count": null,
   "metadata": {},
   "outputs": [],
   "source": []
  }
 ],
 "metadata": {
  "kernelspec": {
   "display_name": "Python 3",
   "language": "python",
   "name": "python3"
  },
  "language_info": {
   "codemirror_mode": {
    "name": "ipython",
    "version": 3
   },
   "file_extension": ".py",
   "mimetype": "text/x-python",
   "name": "python",
   "nbconvert_exporter": "python",
   "pygments_lexer": "ipython3",
   "version": "3.6.3"
  },
  "toc": {
   "nav_menu": {},
   "number_sections": true,
   "sideBar": true,
   "skip_h1_title": false,
   "title_cell": "Table of Contents",
   "title_sidebar": "Contents",
   "toc_cell": false,
   "toc_position": {},
   "toc_section_display": true,
   "toc_window_display": false
  },
  "varInspector": {
   "cols": {
    "lenName": 16,
    "lenType": 16,
    "lenVar": 40
   },
   "kernels_config": {
    "python": {
     "delete_cmd_postfix": "",
     "delete_cmd_prefix": "del ",
     "library": "var_list.py",
     "varRefreshCmd": "print(var_dic_list())"
    },
    "r": {
     "delete_cmd_postfix": ") ",
     "delete_cmd_prefix": "rm(",
     "library": "var_list.r",
     "varRefreshCmd": "cat(var_dic_list()) "
    }
   },
   "types_to_exclude": [
    "module",
    "function",
    "builtin_function_or_method",
    "instance",
    "_Feature"
   ],
   "window_display": false
  }
 },
 "nbformat": 4,
 "nbformat_minor": 2
}
