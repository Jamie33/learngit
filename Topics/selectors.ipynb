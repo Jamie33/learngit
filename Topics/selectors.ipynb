{
 "cells": [
  {
   "cell_type": "markdown",
   "metadata": {},
   "source": [
    "## xpath\n",
    "\n",
    "```\n",
    "article\t选取所有article元素的所有子节点\n",
    "/article\t选取根元素article\n",
    "article/a\t选取所有属于article的子元素的a元素\n",
    "//div/\t选取所有div子元素（不论出现在文档任何地方）\n",
    "article//div\t选取所有属于article元素的后代的div元素，不管它出现在article下的任何位置\n",
    "//@class\t选取所有名为class的属性\n",
    "/article/div[1]\t选取属于article子元素的第一个div元素\n",
    "/article/div[last()]\t选取属于article子元素的最后一个div元素\n",
    "/article/div[last()-1]\t选取属于article子元素的倒数第二个div元素\n",
    "//div[@class]\t选取所有拥有class属性的div元素\n",
    "//div[@class='article']\t选取所有class属性为article的div元素\n",
    "//div[@class='article']/text()\t选取所有class属性为article的div元素下的text值\n",
    "/div/*\t选取属于div元素的所有子节点\n",
    "//*\t选取所有元素\n",
    "//div[@*]\t选取所有带属性的div元素\n",
    "//div/a|//div/p\t选取所有div元素下的a和p元素\n",
    "//span|//ul\t选取文档中的span和ul元素\n",
    "article/div/p|//span\t选取所有属于article元素的div元素的p元素以及文档中所有的span元素\n",
    "```"
   ]
  },
  {
   "cell_type": "code",
   "execution_count": null,
   "metadata": {},
   "outputs": [],
   "source": []
  }
 ],
 "metadata": {
  "kernelspec": {
   "display_name": "Python 3",
   "language": "python",
   "name": "python3"
  },
  "language_info": {
   "codemirror_mode": {
    "name": "ipython",
    "version": 3
   },
   "file_extension": ".py",
   "mimetype": "text/x-python",
   "name": "python",
   "nbconvert_exporter": "python",
   "pygments_lexer": "ipython3",
   "version": "3.6.5"
  }
 },
 "nbformat": 4,
 "nbformat_minor": 2
}
