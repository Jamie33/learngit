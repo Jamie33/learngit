{
 "cells": [
  {
   "cell_type": "markdown",
   "metadata": {},
   "source": [
    "## JSON 数据解析\n",
    "\n",
    "JSON (JavaScript Object Notation) 是一种轻量级的数据交换格式。它基于ECMAScript的一个子集。\n",
    "\n",
    "\n",
    "如果我们要在不同的编程语言之间传递对象，就必须把对象序列化为标准格式，比如XML，但更好的方法是序列化为JSON，因为JSON表示出来就是一个字符串，可以被所有语言读取，也可以方便地存储到磁盘或者通过网络传输。JSON不仅是标准格式，并且比XML更快，而且可以直接在Web页面中读取，非常方便。\n",
    "\n",
    "Python3 中可以使用 json 模块来对 JSON 数据进行编解码，它包含了两个函数：\n",
    "\n",
    "json.dumps(): 对数据进行编码。（序列化）\n",
    "    \n",
    "json.loads(): 对数据进行解码。（反序列化）\n",
    "\n",
    "json.dump(): 对文件进行编码。\n",
    "    \n",
    "json.load(): 对文件进行解码。\n",
    "\n",
    "### json.dumps()\n",
    "\n",
    "dumps()方法返回一个字符串str，内容就是标准的JSON。类似的，dump()方法可以直接把JSON写入一个文件对象 file-like Object。"
   ]
  },
  {
   "cell_type": "code",
   "execution_count": 8,
   "metadata": {},
   "outputs": [
    {
     "data": {
      "text/plain": [
       "'{\"name\": \"bob\", \"age\": 20, \"score\": 88}'"
      ]
     },
     "execution_count": 8,
     "metadata": {},
     "output_type": "execute_result"
    }
   ],
   "source": [
    "import json\n",
    "\n",
    "d = dict(name='bob',age=20,score=88)\n",
    "json.dumps(d)"
   ]
  },
  {
   "cell_type": "markdown",
   "metadata": {},
   "source": [
    "### json.loads()\n",
    "\n",
    "要把JSON反序列化为Python对象，用loads()或者对应的load()方法，前者把JSON的字符串反序列化，后者从file-like Object中读取字符串并反序列化："
   ]
  },
  {
   "cell_type": "code",
   "execution_count": 12,
   "metadata": {},
   "outputs": [
    {
     "data": {
      "text/plain": [
       "{'name': 'bob', 'age': 20, 'score': 88}"
      ]
     },
     "execution_count": 12,
     "metadata": {},
     "output_type": "execute_result"
    }
   ],
   "source": [
    "json_text = '{\"name\": \"bob\", \"age\": 20, \"score\": 88}'\n",
    "json.loads(json_text)"
   ]
  },
  {
   "cell_type": "code",
   "execution_count": 10,
   "metadata": {},
   "outputs": [
    {
     "name": "stdout",
     "output_type": "stream",
     "text": [
      "Python 原始数据:{'No': 1, 'Name': 'Jamie', 'Url': 'https://jamie33.github.io/'}\n",
      "JSON对象:{\"No\": 1, \"Name\": \"Jamie\", \"Url\": \"https://jamie33.github.io/\"}\n",
      "JSON对象转回Python:{'No': 1, 'Name': 'Jamie', 'Url': 'https://jamie33.github.io/'}\n"
     ]
    }
   ],
   "source": [
    "# Python 字典类型转换为 JSON 对象\n",
    "\n",
    "import json\n",
    "\n",
    "data = {\n",
    "    'No':1,\n",
    "    'Name':'Jamie',\n",
    "    'Url':'https://jamie33.github.io/'\n",
    "}\n",
    "\n",
    "json_data = json.dumps(data) \n",
    "print('Python 原始数据:{}'.format(data))\n",
    "print('JSON对象:{}'.format(json_data))\n",
    "\n",
    "\n",
    "# JSON编码的字符串转换回一个Python数据结构\n",
    "\n",
    "data2 = json.loads(json_data)\n",
    "print('JSON对象转回Python:{}'.format(data2))"
   ]
  },
  {
   "cell_type": "markdown",
   "metadata": {},
   "source": [
    "### json.dump() 和 json.load()\n",
    "\n",
    "如果你要处理的是文件而不是字符串，你可以使用 json.dump() 和 json.load() 来编码和解码JSON数据。例如："
   ]
  },
  {
   "cell_type": "code",
   "execution_count": 11,
   "metadata": {},
   "outputs": [],
   "source": [
    "# 写入JSON数据\n",
    "\n",
    "with open('data.json','w') as f:\n",
    "    json.dump(data,f)\n",
    "    \n",
    "# 读取JSON数据\n",
    "\n",
    "with open('data.json','r') as f:\n",
    "    data = json.load(f)"
   ]
  },
  {
   "cell_type": "markdown",
   "metadata": {},
   "source": [
    "### CSV convert json file into csv  "
   ]
  },
  {
   "cell_type": "code",
   "execution_count": 40,
   "metadata": {},
   "outputs": [
    {
     "name": "stdout",
     "output_type": "stream",
     "text": [
      "done\n"
     ]
    }
   ],
   "source": [
    "import csv\n",
    "import json\n",
    "import codecs\n",
    "\n",
    "with open('wx.csv','w',encoding='utf-8') as w:\n",
    "    with open('wx.json','r',encoding = 'utf-8') as f:\n",
    "        for i in json.load(f):\n",
    "            headimg = i['head_img']\n",
    "            nickname = i['nick_name']\n",
    "            username = i['user_name']\n",
    "            wxid = i['wxid']\n",
    "            w.write('{},{},{},{}\\n'.format(headimg,nickname,username,wxid))\n",
    "\n",
    "print('done')"
   ]
  }
 ],
 "metadata": {
  "kernelspec": {
   "display_name": "Python 3",
   "language": "python",
   "name": "python3"
  },
  "language_info": {
   "codemirror_mode": {
    "name": "ipython",
    "version": 3
   },
   "file_extension": ".py",
   "mimetype": "text/x-python",
   "name": "python",
   "nbconvert_exporter": "python",
   "pygments_lexer": "ipython3",
   "version": "3.6.5"
  }
 },
 "nbformat": 4,
 "nbformat_minor": 2
}
