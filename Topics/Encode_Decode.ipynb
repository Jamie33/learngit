{
 "cells": [
  {
   "cell_type": "markdown",
   "metadata": {},
   "source": [
    "## [Python处理URL编码](https://www.cnblogs.com/xiehong/p/9135168.html)\n",
    "\n",
    "我们在访问网站时，有很多连接都是有一些特殊符号组成，例如，我在百度搜索“大鱼海棠”，结果可以看到它的搜索出来的链接是：\n",
    "\n",
    "https://www.baidu.com/s?wd=%E5%A4%A7%E9%B1%BC%E6%B5%B7%E6%A3%A0\n",
    "\n",
    "此链接就是进行过URL编码之后的链接，它并不是我们所说的乱码，而是进行了编码，我们不认识罢了。那么如何在python处理URL编码进行解码呢。例如："
   ]
  },
  {
   "cell_type": "code",
   "execution_count": 5,
   "metadata": {},
   "outputs": [
    {
     "name": "stdout",
     "output_type": "stream",
     "text": [
      "https://www.baidu.com/s?wd=大鱼海棠\n",
      "https%3A%2F%2Fwww.baidu.com%2Fs%3Fwd%3D%E5%A4%A7%E9%B1%BC%E6%B5%B7%E6%A3%A0\n"
     ]
    }
   ],
   "source": [
    "#解码\n",
    "from urllib import parse\n",
    "\n",
    "url = 'https://www.baidu.com/s?wd=%E5%A4%A7%E9%B1%BC%E6%B5%B7%E6%A3%A0'\n",
    "new_url = parse.unquote_plus(url)\n",
    "print(new_url)\n",
    "\n",
    "#编码\n",
    "\n",
    "l = 'https://www.baidu.com/s?wd=大鱼海棠'\n",
    "nl = parse.quote_plus(l)\n",
    "print(nl)"
   ]
  },
  {
   "cell_type": "markdown",
   "metadata": {},
   "source": [
    "## [python scrapy 对爬虫爬到的url 进行md5加密](https://blog.csdn.net/java_raylu/article/details/85803265)"
   ]
  },
  {
   "cell_type": "code",
   "execution_count": 7,
   "metadata": {},
   "outputs": [
    {
     "name": "stdout",
     "output_type": "stream",
     "text": [
      "6acd79ee7a6f5ecdd804c34d7a27f259\n"
     ]
    }
   ],
   "source": [
    "import hashlib\n",
    "\n",
    "def md5(url):\n",
    "    obj = hashlib.md5()\n",
    "    obj.update(bytes(url,encoding='utf-8'))\n",
    "    print(obj.hexdigest())\n",
    "\n",
    "url = 'https://www.baidu.com/s?wd=%E5%A4%A7%E9%B1%BC%E6%B5%B7%E6%A3%A0'\n",
    "md5(url)"
   ]
  }
 ],
 "metadata": {
  "kernelspec": {
   "display_name": "Python 3",
   "language": "python",
   "name": "python3"
  },
  "language_info": {
   "codemirror_mode": {
    "name": "ipython",
    "version": 3
   },
   "file_extension": ".py",
   "mimetype": "text/x-python",
   "name": "python",
   "nbconvert_exporter": "python",
   "pygments_lexer": "ipython3",
   "version": "3.6.5"
  }
 },
 "nbformat": 4,
 "nbformat_minor": 2
}
