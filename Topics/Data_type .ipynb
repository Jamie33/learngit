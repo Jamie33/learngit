{
 "cells": [
  {
   "cell_type": "markdown",
   "metadata": {},
   "source": [
    "## 数据类型bytes\n",
    "\n",
    "在Python3以后，字符串和bytes类型彻底分开了。\n",
    "\n",
    "- 字符串是以**字符**为单位进行处理的\n",
    "- bytes类型是以**字节**为单位处理的\n",
    "\n",
    "bytes数据类型在所有的操作和使用甚至内置方法上和字符串数据类型基本一样，也是不可变的序列对象。\n",
    "\n",
    "bytes对象只负责以二进制字节序列的形式记录所需记录的对象，至于该对象到底表示什么（比如到底是什么字符）则由相应的编码格式解码所决定。Python3中，bytes通常用于网络数据传输、二进制图片和文件的保存等等。可以通过调用bytes()生成bytes实例，其值形式为 b'xxxxx'，其中 'xxxxx' 为一至多个转义的十六进制字符串（单个 x 的形式为：\\x12，其中\\x为小写的十六进制转义字符，12为二位十六进制数）组成的序列，每个十六进制数代表一个字节（八位二进制数，取值范围0-255），对于同一个字符串如果采用不同的编码方式生成bytes对象，就会形成不同的值。\n",
    "\n",
    "```\n",
    "b = b''   # 创建一个空的bytes\n",
    "b = bytes()  # 创建一个空的bytes\n",
    "b = b'hello'    # 直接指定这个hello是bytes类型\n",
    "b = bytes('string',encoding='编码类型')  #利用内置bytes方法，将字符串转换为指定编码的bytes\n",
    "b = str.encode('编码类型')   # 利用字符串的encode方法编码成bytes，默认为utf-8类型\n",
    "s = bytes.decode('编码类型') # 将bytes对象解码成字符串，默认使用utf-8进行解码。\n",
    "```\n",
    "\n",
    "对于bytes，我们只要知道在Python3中某些场合下强制使用，以及它和字符串类型之间的互相转换，其它的基本照抄字符串。\n",
    "\n",
    "简单的省事模式：\n",
    "\n",
    "string = b'xxxxxx'.decode() 直接以默认的utf-8编码解码bytes成string\n",
    "\n",
    "b = string.encode() 直接以默认的utf-8编码string为bytes"
   ]
  }
 ],
 "metadata": {
  "kernelspec": {
   "display_name": "Python 3",
   "language": "python",
   "name": "python3"
  },
  "language_info": {
   "codemirror_mode": {
    "name": "ipython",
    "version": 3
   },
   "file_extension": ".py",
   "mimetype": "text/x-python",
   "name": "python",
   "nbconvert_exporter": "python",
   "pygments_lexer": "ipython3",
   "version": "3.6.5"
  }
 },
 "nbformat": 4,
 "nbformat_minor": 2
}
