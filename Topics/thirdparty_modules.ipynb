{
 "cells": [
  {
   "cell_type": "markdown",
   "metadata": {},
   "source": [
    "## [Python标准库模块之heapq](https://www.jianshu.com/p/801318c77ab5)\n",
    "\n",
    "该模块提供了**堆排序算法**的实现。堆是二叉树，最大堆中父节点大于或等于两个子节点，最小堆父节点小于或等于两个子节点。\n",
    "\n",
    "### 创建堆\n",
    "\n",
    "heapq有两种方式创建堆\n",
    "\n",
    "- **heapq.heappush()**：把值加入空列表的堆中\n",
    "- **heap.heapify(list)**：将列表转换成为堆结构"
   ]
  },
  {
   "cell_type": "code",
   "execution_count": 6,
   "metadata": {},
   "outputs": [
    {
     "name": "stdout",
     "output_type": "stream",
     "text": [
      "1\n",
      "[1, 2, 3, 5, 23, 54, 132]\n",
      "1\n",
      "[1, 2, 3, 5, 23, 54, 132]\n"
     ]
    }
   ],
   "source": [
    "import heapq\n",
    "\n",
    "nums = [2, 3, 5, 1, 54, 23, 132]\n",
    "\n",
    "# 第一种\n",
    "heap = []\n",
    "for num in nums:\n",
    "    heapq.heappush(heap, num)  # 加入堆\n",
    "print(heap[0])  # 如果只是想获取最小值而不是弹出，使用heap[0]\n",
    "print([heapq.heappop(heap) for _ in range(len(nums))])  # 堆排序结果\n",
    "\n",
    "\n",
    "\n",
    "# 第二种\n",
    "heapq.heapify(nums)\n",
    "print(nums[0])\n",
    "print([heapq.heappop(nums) for _ in range(len(nums))])  # 堆排序结果\n"
   ]
  },
  {
   "cell_type": "markdown",
   "metadata": {},
   "source": [
    "- **heapq.heappop(heap)**: 弹出并返回堆中最小值，如果堆为空，则报错 IndexError。如果只是想获取最小值而不是弹出，使用 heap[0]\n",
    "    - Pop and return the smallest item from the heap, maintaining the heap invariant.\n",
    "    If the heap is empty, IndexError is raised. To access the smallest item without popping it, use heap[0].\n",
    "    \n",
    "- **heapq.merge(*iterables)**: 用于合并多个排序后的序列成一个排序后的序列， 返回排序后的值的迭代器。类似于 sorted(itertools.chain(*iterables))，但返回的是可迭代的。\n",
    "    - Merge multiple sorted inputs into a single sorted output (for example, merge timestamped entries from multiple log files). Returns an iterator over the sorted values.\n",
    "    - Similar to sorted(itertools.chain(*iterables)) but returns an iterable, does not pull the data into memory all at once, and assumes that each of the input streams is already sorted (smallest to largest)."
   ]
  },
  {
   "cell_type": "code",
   "execution_count": 12,
   "metadata": {},
   "outputs": [
    {
     "name": "stdout",
     "output_type": "stream",
     "text": [
      "[2, 3, 5, 12, 23, 23, 23, 32, 34, 54, 54, 132, 324, 656]\n",
      "[2, 3, 5, 12, 23, 23, 23, 32, 34, 54, 54, 132, 324, 656]\n"
     ]
    }
   ],
   "source": [
    "import heapq\n",
    "import itertools\n",
    "\n",
    "num1 = [32, 3, 5, 34, 54, 23, 132]\n",
    "num2 = [23, 2, 12, 656, 324, 23, 54]\n",
    "num1 = sorted(num1)\n",
    "num2 = sorted(num2)\n",
    "\n",
    "res = heapq.merge(num1, num2)\n",
    "print(list(res))\n",
    "\n",
    "print(sorted(itertools.chain(num1,num2)))"
   ]
  },
  {
   "cell_type": "markdown",
   "metadata": {},
   "source": [
    "### 访问堆内容\n",
    "\n",
    "堆创建好后，可以通过 heapq.heappop() 函数弹出堆中最小值。"
   ]
  },
  {
   "cell_type": "code",
   "execution_count": 15,
   "metadata": {},
   "outputs": [
    {
     "name": "stdout",
     "output_type": "stream",
     "text": [
      "2\n",
      "[12, 23, 43, 45]\n"
     ]
    }
   ],
   "source": [
    "import heapq\n",
    "nums = [2, 43, 45, 23, 12]\n",
    "heapq.heapify(nums)\n",
    "print(heapq.heappop(nums))\n",
    "# 如果需要所有堆排序后的元素\n",
    "result = [heapq.heappop(nums) for _ in range(len(nums))]\n",
    "print(result)"
   ]
  },
  {
   "cell_type": "markdown",
   "metadata": {},
   "source": [
    "如果需要删除堆中最小元素并加入一个元素，可以使用heapq.heaprepalce() 函数"
   ]
  },
  {
   "cell_type": "code",
   "execution_count": 18,
   "metadata": {},
   "outputs": [
    {
     "name": "stdout",
     "output_type": "stream",
     "text": [
      "[2, 3, 3, 4, 5]\n"
     ]
    }
   ],
   "source": [
    "import heapq\n",
    "nums = [1, 2, 4, 5, 3]\n",
    "heapq.heapify(nums)\n",
    "\n",
    "heapq.heapreplace(nums, 3)\n",
    "print([heapq.heappop(nums) for _ in range(len(nums))])"
   ]
  },
  {
   "cell_type": "markdown",
   "metadata": {},
   "source": [
    "### 获取堆最大或最小值\n",
    "\n",
    "如果需要获取堆中最大或最小的范围值，则可以使用heapq.nlargest() 或heapq.nsmallest() 函数\n",
    "\n",
    "- **heapq.nlargest(n, iterable[, key])**\n",
    "    - Return a list with the n largest elements from the dataset defined by iterable. \n",
    "    - key if provided, specifies a function of one argument that is used to extract a comparison key from each element in the iterable: key=str.lower\n",
    "    - Equivalent to: sorted(iterable, key=key, reverse=True)[:n]"
   ]
  },
  {
   "cell_type": "code",
   "execution_count": 19,
   "metadata": {},
   "outputs": [
    {
     "name": "stdout",
     "output_type": "stream",
     "text": [
      "[5, 4, 3]\n",
      "[1, 2, 3]\n"
     ]
    }
   ],
   "source": [
    "import heapq\n",
    "\n",
    "nums = [1,3,4,5,2]\n",
    "print(heapq.nlargest(3,nums))\n",
    "print(heapq.nsmallest(3,nums))"
   ]
  },
  {
   "cell_type": "markdown",
   "metadata": {},
   "source": [
    "这两个函数还接受一个key参数，用于dict或其他数据结构类型使用"
   ]
  },
  {
   "cell_type": "code",
   "execution_count": 21,
   "metadata": {},
   "outputs": [
    {
     "name": "stdout",
     "output_type": "stream",
     "text": [
      "[{'name': 'YHOO', 'shares': 45, 'price': 16.35}, {'name': 'FB', 'shares': 200, 'price': 21.09}, {'name': 'HPQ', 'shares': 35, 'price': 31.75}]\n",
      "[{'name': 'AAPL', 'shares': 50, 'price': 543.22}, {'name': 'ACME', 'shares': 75, 'price': 115.65}, {'name': 'IBM', 'shares': 100, 'price': 91.1}]\n"
     ]
    }
   ],
   "source": [
    "import heapq\n",
    "\n",
    "portfolio = [\n",
    "    {'name': 'IBM', 'shares': 100, 'price': 91.1},\n",
    "    {'name': 'AAPL', 'shares': 50, 'price': 543.22},\n",
    "    {'name': 'FB', 'shares': 200, 'price': 21.09},\n",
    "    {'name': 'HPQ', 'shares': 35, 'price': 31.75},\n",
    "    {'name': 'YHOO', 'shares': 45, 'price': 16.35},\n",
    "    {'name': 'ACME', 'shares': 75, 'price': 115.65}\n",
    "]\n",
    "cheap = heapq.nsmallest(3, portfolio, key=lambda s: s['price'])\n",
    "expensive = heapq.nlargest(3, portfolio, key=lambda s: s['price'])\n",
    "print(cheap)\n",
    "print(expensive)"
   ]
  },
  {
   "cell_type": "markdown",
   "metadata": {},
   "source": [
    "###  heapq应用\n",
    "\n",
    "实现heap堆排序算法"
   ]
  },
  {
   "cell_type": "code",
   "execution_count": 28,
   "metadata": {},
   "outputs": [
    {
     "data": {
      "text/plain": [
       "[0, 1, 2, 3, 4, 5, 6, 7, 8, 9]"
      ]
     },
     "execution_count": 28,
     "metadata": {},
     "output_type": "execute_result"
    }
   ],
   "source": [
    "import heapq\n",
    "\n",
    "def heapsort(iterable):\n",
    "    h = []\n",
    "    for value in iterable:\n",
    "        heapq.heappush(h,value)\n",
    "    return [heapq.heappop(h) for i in range(len(h))]\n",
    "\n",
    "heapsort([1, 3, 5, 7, 9, 2, 4, 6, 8, 0])"
   ]
  },
  {
   "cell_type": "markdown",
   "metadata": {},
   "source": [
    "该算法和sorted(iterable) 类似，但是它是不稳定的。\n",
    "\n",
    "堆的值可以是元组类型，可以实现对带权值的元素进行排序。"
   ]
  },
  {
   "cell_type": "code",
   "execution_count": 34,
   "metadata": {},
   "outputs": [
    {
     "name": "stdout",
     "output_type": "stream",
     "text": [
      "(1, 'write spec')\n"
     ]
    }
   ],
   "source": [
    "from heapq import heappush,heappop\n",
    "\n",
    "h = []\n",
    "heappush(h, (5, 'write code'))\n",
    "heappush(h, (7, 'release product'))\n",
    "heappush(h, (1, 'write spec'))\n",
    "heappush(h, (3, 'create tests'))\n",
    "print(heappop(h))"
   ]
  }
 ],
 "metadata": {
  "kernelspec": {
   "display_name": "Python 3",
   "language": "python",
   "name": "python3"
  },
  "language_info": {
   "codemirror_mode": {
    "name": "ipython",
    "version": 3
   },
   "file_extension": ".py",
   "mimetype": "text/x-python",
   "name": "python",
   "nbconvert_exporter": "python",
   "pygments_lexer": "ipython3",
   "version": "3.6.5"
  }
 },
 "nbformat": 4,
 "nbformat_minor": 2
}
