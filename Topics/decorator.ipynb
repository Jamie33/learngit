{
 "cells": [
  {
   "cell_type": "markdown",
   "metadata": {},
   "source": [
    "## Python装饰器的通俗理解\n",
    "https://blog.csdn.net/buster_zr/article/details/81104551\n",
    "http://python.jobbole.com/81683/\n",
    "\n",
    "\n",
    "## 12步轻松搞定python装饰器\n",
    "https://www.jianshu.com/p/d68c6da1587a\n",
    "\n",
    "## 给妹子讲python-S01E22神奇的装饰器\n",
    "https://zhuanlan.zhihu.com/p/33113561\n",
    "\n",
    "\n",
    "\n",
    "## 这是我见过最全面的Python装饰器详解！没有学不会这种说法！\n",
    "https://blog.csdn.net/qq_42156420/article/details/81169554\n",
    "\n",
    "\n",
    "## 详解Python的装饰器\n",
    "https://betacat.online/posts/2016-10-27/python-decorator/\n",
    "\n",
    "### 为什么需要装饰器\n",
    "假设你的程序实现了say_hello()和say_goodbye()两个函数。"
   ]
  },
  {
   "cell_type": "code",
   "execution_count": 14,
   "metadata": {},
   "outputs": [
    {
     "name": "stdout",
     "output_type": "stream",
     "text": [
      "hello!\n",
      "hello!\n"
     ]
    }
   ],
   "source": [
    "def say_hello():\n",
    "    print(\"hello!\")\n",
    "    \n",
    "def say_goodbye():\n",
    "    print(\"hello!\") # bug here\n",
    "    \n",
    "if __name__ == '__main__':\n",
    "    say_hello()\n",
    "    say_goodbye()"
   ]
  },
  {
   "cell_type": "markdown",
   "metadata": {},
   "source": [
    "但是在实际调用中，我们发现程序出错了，上面的代码打印了两个hello。经过调试你发现是say_goodbye()出错了。老板要求调用每个方法前都要记录进入函数的名称，比如这样：\n",
    "\n",
    "```\n",
    "[DEBUG]: Enter say_hello()\n",
    "Hello!\n",
    "[DEBUG]: Enter say_goodbye()\n",
    "Goodbye!\n",
    "```\n",
    "小A是个毕业生，他是这样实现的。"
   ]
  },
  {
   "cell_type": "code",
   "execution_count": 24,
   "metadata": {},
   "outputs": [
    {
     "name": "stdout",
     "output_type": "stream",
     "text": [
      "[DEBUG]: enter say_hello()\n",
      "hello!\n",
      "[DEBUG]: enter say_goodbye()\n",
      "hello!\n"
     ]
    }
   ],
   "source": [
    "def say_hello():\n",
    "    print( \"[DEBUG]: enter say_hello()\")\n",
    "    print(\"hello!\")\n",
    "    \n",
    "def say_goodbye():\n",
    "    print( \"[DEBUG]: enter say_goodbye()\")\n",
    "    print(\"hello!\") # bug here\n",
    "    \n",
    "if __name__ == '__main__':\n",
    "    say_hello()\n",
    "    say_goodbye()"
   ]
  },
  {
   "cell_type": "markdown",
   "metadata": {},
   "source": [
    "很low吧？ 嗯是的。小B工作有一段时间了，他告诉小A可以这样写。"
   ]
  },
  {
   "cell_type": "code",
   "execution_count": 22,
   "metadata": {},
   "outputs": [
    {
     "name": "stdout",
     "output_type": "stream",
     "text": [
      "[DEBUG]: enter say_hello()\n",
      "hello!\n",
      "[DEBUG]: enter say_goodbye()\n",
      "hello!\n"
     ]
    }
   ],
   "source": [
    "def debug():\n",
    "    import inspect\n",
    "    caller_name = inspect.stack()[1][3]\n",
    "    print( \"[DEBUG]: enter {}()\".format(caller_name))\n",
    "\n",
    "def say_hello():\n",
    "    debug()\n",
    "    print(\"hello!\")\n",
    "    \n",
    "def say_goodbye():\n",
    "    debug()\n",
    "    print(\"hello!\") # bug here\n",
    "    \n",
    "if __name__ == '__main__':\n",
    "    say_hello()\n",
    "    say_goodbye()"
   ]
  },
  {
   "attachments": {},
   "cell_type": "markdown",
   "metadata": {},
   "source": [
    "是不是好一点？那当然，但是每个业务函数里都要调用一下debug()函数，是不是很难受？万一老板说say相关的函数不用debug，do相关的才需要呢？\n",
    "\n",
    "那么装饰器这时候应该登场了。\n",
    "\n",
    "> 装饰器本质上是一个Python函数，它可以让其他函数在不需要做任何代码变动的前提下增加额外功能，装饰器的返回值也是一个函数对象。它经常用于有切面需求的场景，比如：插入日志、性能测试、事务处理、缓存、权限校验等场景。装饰器是解决这类问题的绝佳设计，有了装饰器，我们就可以抽离出大量与函数功能本身无关的雷同代码并继续重用。\n",
    "\n",
    "概括的讲，**装饰器的作用就是为已经存在的函数或对象添加额外的功能。**\n",
    "\n",
    "### 怎么写一个装饰器\n",
    "\n",
    "在早些时候 (Python Version < 2.4，2004年以前)，为一个函数添加额外功能的写法是这样的。"
   ]
  },
  {
   "cell_type": "code",
   "execution_count": 27,
   "metadata": {},
   "outputs": [
    {
     "name": "stdout",
     "output_type": "stream",
     "text": [
      "[DEBUG]: enter say_hello()\n",
      "hello!\n",
      "[DEBUG]: enter say_goodbye()\n",
      "hello!\n"
     ]
    }
   ],
   "source": [
    "def debug(func):\n",
    "    def wrapper():\n",
    "        print(\"[DEBUG]: enter {}()\".format(func.__name__))\n",
    "        return func()\n",
    "    return wrapper\n",
    "\n",
    "def say_hello():\n",
    "    print(\"hello!\")\n",
    "    \n",
    "def say_goodbye():\n",
    "    print(\"hello!\") # bug here\n",
    "\n",
    "say_hello = debug(say_hello)  # 添加功能并保持原函数名不变\n",
    "say_hello()\n",
    "\n",
    "say_goodbye = debug(say_goodbye)  \n",
    "say_goodbye()"
   ]
  },
  {
   "cell_type": "markdown",
   "metadata": {},
   "source": [
    "#### @语法糖\n",
    "\n",
    "上面的debug函数其实已经是一个装饰器了，它对原函数做了包装并返回了另外一个函数，额外添加了一些功能。因为这样写实在不太优雅，在后面版本的Python中支持**@语法糖**，下面代码等同于早期的写法。"
   ]
  },
  {
   "cell_type": "code",
   "execution_count": 28,
   "metadata": {},
   "outputs": [
    {
     "name": "stdout",
     "output_type": "stream",
     "text": [
      "[DEBUG]: enter say_hello()\n",
      "hello!\n"
     ]
    }
   ],
   "source": [
    "def debug(func):\n",
    "    def wrapper():\n",
    "        print(\"[DEBUG]: enter {}()\".format(func.__name__))\n",
    "        return func()\n",
    "    return wrapper\n",
    "\n",
    "@debug\n",
    "def say_hello():\n",
    "    print(\"hello!\")\n",
    "\n",
    "@debug\n",
    "def say_goodbye():\n",
    "    print(\"hello!\")\n",
    "\n",
    "say_hello()"
   ]
  },
  {
   "cell_type": "markdown",
   "metadata": {},
   "source": [
    "`@debug` 等同于 `say_hello = debug(say_hello) `\n",
    "\n",
    "直接调用函数 debug(say_hello) \n",
    "\n",
    "**Python何时执行装饰器**\n",
    "\n",
    "装饰器的一个关键特性是，它们在被装饰的函数定义之后立即运行。这通常是在导入时（即 Python 加载模块时）。\n",
    "\n",
    "这是最简单的装饰器，但是有一个问题，如果被装饰的函数需要传入参数，那么这个装饰器就坏了。"
   ]
  },
  {
   "cell_type": "code",
   "execution_count": 33,
   "metadata": {},
   "outputs": [
    {
     "ename": "TypeError",
     "evalue": "wrapper() takes 0 positional arguments but 1 was given",
     "output_type": "error",
     "traceback": [
      "\u001b[1;31m---------------------------------------------------------------------------\u001b[0m",
      "\u001b[1;31mTypeError\u001b[0m                                 Traceback (most recent call last)",
      "\u001b[1;32m<ipython-input-33-59803974dd26>\u001b[0m in \u001b[0;36m<module>\u001b[1;34m()\u001b[0m\n\u001b[0;32m      9\u001b[0m     \u001b[0mprint\u001b[0m\u001b[1;33m(\u001b[0m\u001b[1;34m'hello，{}！'\u001b[0m\u001b[1;33m.\u001b[0m\u001b[0mformat\u001b[0m\u001b[1;33m(\u001b[0m\u001b[0msomething\u001b[0m\u001b[1;33m)\u001b[0m\u001b[1;33m)\u001b[0m\u001b[1;33m\u001b[0m\u001b[0m\n\u001b[0;32m     10\u001b[0m \u001b[1;33m\u001b[0m\u001b[0m\n\u001b[1;32m---> 11\u001b[1;33m \u001b[0msay\u001b[0m\u001b[1;33m(\u001b[0m\u001b[1;34m'love'\u001b[0m\u001b[1;33m)\u001b[0m\u001b[1;33m\u001b[0m\u001b[0m\n\u001b[0m",
      "\u001b[1;31mTypeError\u001b[0m: wrapper() takes 0 positional arguments but 1 was given"
     ]
    }
   ],
   "source": [
    "def debug(func):\n",
    "    def wrapper():\n",
    "        print(\"[DEBUG]: enter {}()\".format(func.__name__))\n",
    "        return func()\n",
    "    return wrapper\n",
    "\n",
    "@debug\n",
    "def say(something):\n",
    "    print('hello，{}！'.format(something))\n",
    "    \n",
    "say('love')"
   ]
  },
  {
   "cell_type": "markdown",
   "metadata": {},
   "source": [
    "#### 带参数\n",
    "\n",
    "因为返回的函数并不能接受参数，你可以指定装饰器函数wrapper接受和原函数一样的参数，比如："
   ]
  },
  {
   "cell_type": "code",
   "execution_count": 32,
   "metadata": {},
   "outputs": [
    {
     "name": "stdout",
     "output_type": "stream",
     "text": [
      "[DEBUG]: enter say()\n",
      "hello，love！\n"
     ]
    }
   ],
   "source": [
    "def debug(func):\n",
    "    def wrapper(something):\n",
    "        print(\"[DEBUG]: enter {}()\".format(func.__name__))\n",
    "        return func(something)\n",
    "    return wrapper\n",
    "\n",
    "@debug\n",
    "def say(something):\n",
    "    print('hello，{}！'.format(something))\n",
    "    \n",
    "say('love')"
   ]
  },
  {
   "cell_type": "markdown",
   "metadata": {},
   "source": [
    "这样你就解决了一个问题，但又多了N个问题。因为函数有千千万，你只管你自己的函数，别人的函数参数是什么样子，鬼知道？还好Python提供了可变参数*args和关键字参数**kwargs，有了这两个参数，装饰器就可以用于任意目标函数了。"
   ]
  },
  {
   "cell_type": "code",
   "execution_count": 37,
   "metadata": {},
   "outputs": [
    {
     "name": "stdout",
     "output_type": "stream",
     "text": [
      "[DEBUG]: enter say()\n",
      "hello，mylove！\n",
      "[DEBUG]: enter say_hello()\n",
      "hello!\n",
      "[DEBUG]: enter say_goodbye()\n",
      "Say goodbye with kissing\n"
     ]
    }
   ],
   "source": [
    "def debug(func):\n",
    "    def wrapper(*args,**kwargs):\n",
    "        print(\"[DEBUG]: enter {}()\".format(func.__name__))\n",
    "        return func(*args,**kwargs)\n",
    "    return wrapper\n",
    "\n",
    "@debug\n",
    "def say(something):\n",
    "    print('hello，{}！'.format(something))\n",
    "    \n",
    "@debug\n",
    "def say_hello():\n",
    "    print(\"hello!\")\n",
    "\n",
    "@debug\n",
    "def say_goodbye(method='kissing'):\n",
    "    print(\"Say goodbye with {}\".format(method))\n",
    "    \n",
    "say('mylove')\n",
    "say_hello()\n",
    "say_goodbye(method='kissing')"
   ]
  },
  {
   "cell_type": "markdown",
   "metadata": {},
   "source": [
    "上诉是两层嵌套的decorator。至此，你已完全掌握初级的装饰器写法。\n",
    "\n",
    "### 高级一点的装饰器\n",
    "\n",
    "#### 带参数的装饰器\n",
    "\n",
    "如果装饰器本身需要传入参数\n",
    "\n",
    "我们前文的装饰器需要完成的功能不仅仅是能在进入某个函数后打出log信息，而且还需指定log的级别，那么装饰器就会是这样的。"
   ]
  },
  {
   "cell_type": "code",
   "execution_count": 91,
   "metadata": {},
   "outputs": [
    {
     "name": "stdout",
     "output_type": "stream",
     "text": [
      "[INFO]: enter function say\n",
      "hello，mylove！\n"
     ]
    }
   ],
   "source": [
    "def logging(level):\n",
    "    def wrapper(func):\n",
    "        def inner_wrapper(*args,**kwargs):\n",
    "            print('[{level}]: enter function {func}'.format(level=level,func=func.__name__))\n",
    "            return func(*args,**kwargs)\n",
    "        return inner_wrapper\n",
    "    return wrapper\n",
    "\n",
    "@logging(level = \"INFO\")\n",
    "def say(something):\n",
    "    print('hello，{}！'.format(something))\n",
    "    \n",
    "if __name__ == '__main__':\n",
    "    say('mylove')"
   ]
  },
  {
   "cell_type": "markdown",
   "metadata": {},
   "source": [
    "和两层嵌套的decorator相比，3层嵌套的效果是这样的：\n",
    "\n",
    "`say = logging(level='INFO')(say)`\n",
    "\n",
    "我们来剖析上面的语句，首先执行`logging(level='INFO')`，返回的是wrapper函数，`wrapper(say)`再调用返回的函数，参数是say函数，返回值最终是inner_wrapper 函数。\n",
    "\n",
    "是不是有一些晕？你可以这么理解，当带参数的装饰器被打在某个函数上时，比如@logging(level='DEBUG')，它其实是一个函数，会马上被执行，只要这个它返回的结果是一个装饰器时，那就没问题。细细再体会一下。\n",
    "\n",
    "#### 基于类实现的装饰器\n",
    "\n",
    "装饰器函数其实是这样一个接口约束，它必须接受一个callable对象作为参数，然后返回一个callable对象。在Python中一般callable对象都是函数，但也有例外。只要某个对象重载了\\__call__()方法，那么这个对象就是callable的。"
   ]
  },
  {
   "cell_type": "code",
   "execution_count": 61,
   "metadata": {},
   "outputs": [
    {
     "name": "stdout",
     "output_type": "stream",
     "text": [
      "call me!\n"
     ]
    }
   ],
   "source": [
    "class Test():\n",
    "    def __call__(self):\n",
    "        print('call me!')\n",
    "\n",
    "t = Test()\n",
    "t()"
   ]
  },
  {
   "cell_type": "markdown",
   "metadata": {},
   "source": [
    "像\\__call__这样前后都带下划线的方法在Python中被称为内置方法，有时候也被称为魔法方法。重载这些魔法方法一般会改变对象的内部行为。上面这个例子就让一个类对象拥有了被调用的行为。\n",
    "\n",
    "##### \\__call__\n",
    "\n",
    "一个对象实例可以有自己的属性和方法，当我们调用实例方法时，我们用instance.method()来调用。能不能直接在实例本身上调用呢？在Python中，答案是肯定的。\n",
    "\n",
    "任何类，只需要定义一个\\__call__()方法，就可以直接对实例进行调用。请看示例："
   ]
  },
  {
   "cell_type": "code",
   "execution_count": 62,
   "metadata": {},
   "outputs": [
    {
     "name": "stdout",
     "output_type": "stream",
     "text": [
      "My name is Jamie.\n"
     ]
    }
   ],
   "source": [
    "class Student(object):\n",
    "    def __init__(self, name):\n",
    "        self.name = name\n",
    "\n",
    "    def __call__(self):\n",
    "        print('My name is %s.' % self.name)\n",
    "        \n",
    "s = Student('Jamie')\n",
    "s()"
   ]
  },
  {
   "cell_type": "markdown",
   "metadata": {},
   "source": [
    "\\__call__()还可以定义参数。对实例进行直接调用就好比对一个函数进行调用一样，所以你完全可以把对象看成函数，把函数看成对象，因为这两者之间本来就没啥根本的区别。\n",
    "\n",
    "如果你把对象看成函数，那么函数本身其实也可以在运行期动态创建出来，因为类的实例都是运行期创建出来的，这么一来，我们就模糊了对象和函数的界限。\n",
    "\n",
    "那么，怎么判断一个变量是对象还是函数呢？其实，更多的时候，我们需要判断一个对象是否能被调用，能被调用的对象就是一个Callable对象，比如函数和我们上面定义的带有\\__call__()的类实例.\n",
    "\n",
    "通过callable()函数，我们就可以判断一个对象是否是“可调用”对象。\n",
    "\n",
    "回到装饰器上的概念上来，装饰器要求接受一个callable对象，并返回一个callable对象（不太严谨，详见后文）。那么用类来实现也是也可以的。我们可以让类的构造函数\\__init__()接受一个函数，然后重载\\__call__()并返回一个函数，也可以达到装饰器函数的效果。"
   ]
  },
  {
   "cell_type": "code",
   "execution_count": 53,
   "metadata": {},
   "outputs": [
    {
     "name": "stdout",
     "output_type": "stream",
     "text": [
      "[DEBUG]: enter function say()\n",
      "hello，mylove！\n"
     ]
    }
   ],
   "source": [
    "class logging(object):\n",
    "    def __init__(self,func):\n",
    "        self.func = func\n",
    "        \n",
    "    def __call__(self,*args,**kwargs):\n",
    "        print(\"[DEBUG]: enter function {}()\".format(self.func.__name__))\n",
    "        return self.func(*args,**kwargs)\n",
    "    \n",
    "@logging\n",
    "def say(something):\n",
    "    print('hello，{}！'.format(something))\n",
    "    \n",
    "if __name__ == '__main__':\n",
    "    say('mylove')"
   ]
  },
  {
   "cell_type": "markdown",
   "metadata": {},
   "source": [
    "等同于"
   ]
  },
  {
   "cell_type": "code",
   "execution_count": 59,
   "metadata": {},
   "outputs": [
    {
     "name": "stdout",
     "output_type": "stream",
     "text": [
      "[DEBUG]: enter function say()\n",
      "hello，mylove！\n"
     ]
    }
   ],
   "source": [
    "class logging(object):\n",
    "    def __init__(self,func):\n",
    "        self.func = func\n",
    "        \n",
    "    def __call__(self,*args,**kwargs):\n",
    "        print(\"[DEBUG]: enter function {}()\".format(self.func.__name__))\n",
    "        return self.func(*args,**kwargs)\n",
    "\n",
    "def say(something):\n",
    "    print('hello，{}！'.format(something))\n",
    "    \n",
    "if __name__ == '__main__':\n",
    "    say = logging(say)\n",
    "    say('mylove')"
   ]
  },
  {
   "cell_type": "markdown",
   "metadata": {},
   "source": [
    "#### 带参数的类装饰器\n",
    "\n",
    "如果需要通过类形式实现带参数的装饰器，那么会比前面的例子稍微复杂一点。那么在构造函数里接受的就不是一个函数，而是传入的参数。通过类把这些参数保存起来。然后在重载\\__call__方法是就需要接受一个函数并返回一个函数。"
   ]
  },
  {
   "cell_type": "code",
   "execution_count": 68,
   "metadata": {},
   "outputs": [
    {
     "name": "stdout",
     "output_type": "stream",
     "text": [
      "[INFO]: enter function say()\n",
      "hello，mylove！\n"
     ]
    }
   ],
   "source": [
    "class logging(object):\n",
    "    def __init__(self,level):  \n",
    "        self.level = level\n",
    "        \n",
    "    def __call__(self,func):\n",
    "        def wrapper(*args,**kwargs):\n",
    "            print(\"[{level}]: enter function {func}()\".format(level=self.level,func=func.__name__))\n",
    "            return func(*args,**kwargs)\n",
    "        return wrapper\n",
    "    \n",
    "@logging(level='INFO') # 创建实例 有了__init__方法，在创建实例的时候，就不能传入空的参数了，必须传入与__init__方法匹配的参数，但self不需要传\n",
    "def say(something):\n",
    "    print('hello，{}！'.format(something))\n",
    "    \n",
    "if __name__ == '__main__':\n",
    "    say('mylove') # 实例调用，必须传入与__call__方法匹配的参数，但self不需要传"
   ]
  },
  {
   "cell_type": "markdown",
   "metadata": {},
   "source": [
    "等同于"
   ]
  },
  {
   "cell_type": "code",
   "execution_count": 82,
   "metadata": {},
   "outputs": [
    {
     "name": "stdout",
     "output_type": "stream",
     "text": [
      "[INFO]: enter function say()\n",
      "hello，mylove！\n"
     ]
    }
   ],
   "source": [
    "class logging(object):\n",
    "    def __init__(self,level):\n",
    "        self.level = level\n",
    "        \n",
    "    def __call__(self,func):\n",
    "        def wrapper(*args,**kwargs):\n",
    "            print(\"[{level}]: enter function {func}()\".format(level=self.level,func=func.__name__))\n",
    "            return func(*args,**kwargs)\n",
    "        return wrapper\n",
    "    \n",
    "def say(something):\n",
    "    print('hello，{}！'.format(something))\n",
    "    \n",
    "if __name__ == '__main__':\n",
    "    say = logging(level='INFO')(say)\n",
    "    say('mylove')"
   ]
  },
  {
   "cell_type": "code",
   "execution_count": null,
   "metadata": {},
   "outputs": [],
   "source": []
  },
  {
   "cell_type": "markdown",
   "metadata": {},
   "source": [
    "### 错误的函数签名和文档\n",
    "\n",
    "装饰器装饰过的函数看上去名字没变，其实已经变了。"
   ]
  },
  {
   "cell_type": "code",
   "execution_count": 104,
   "metadata": {},
   "outputs": [
    {
     "name": "stdout",
     "output_type": "stream",
     "text": [
      "[DEBUG]: enter function say()\n",
      "hello，mylove！\n",
      "wrapper\n",
      "print log before a function.\n"
     ]
    }
   ],
   "source": [
    "def logging(func):\n",
    "    def wrapper(*args,**kwargs):\n",
    "        \"\"\"print log before a function.\"\"\"\n",
    "        print('[DEBUG]: enter function {}()'.format(func.__name__))\n",
    "        return func(*args,**kwargs)\n",
    "    return wrapper\n",
    "\n",
    "@logging\n",
    "def say(something):\n",
    "    \"\"\"say something\"\"\"\n",
    "    print('hello，{}！'.format(something))\n",
    "    \n",
    "if __name__ == '__main__':\n",
    "    say('mylove')\n",
    "    print(say.__name__)\n",
    "    print(say.__doc__)"
   ]
  },
  {
   "cell_type": "markdown",
   "metadata": {},
   "source": [
    ">**\\__doc__**\n",
    "\n",
    ">函式体的第一个语句可以是三引号括起来的字符串， 这个字符串就是函数的文档字符串，或称为docstring。我们可以使用print(function.\\__doc__)输出文档.文档字符串主要用于描述一些关于函数的信息，让用户交互地浏览和输出。建议养成在代码中添加文档字符串的好习惯。\n",
    "\n",
    "为什么会这样呢？只要你想想装饰器的语法糖@代替的东西就明白了。@等同于这样的写法。\n",
    "\n",
    "`say = logging(say)`\n",
    "\n",
    "logging其实返回的函数名字刚好是wrapper，那么上面的这个语句刚好就是把这个结果赋值给say，say的__name__自然也就是wrapper了，不仅仅是name，其他属性也都是来自wrapper，比如doc，source等等。\n",
    "\n",
    "使用标准库里的functools.wraps，可以基本解决这个问题。\n"
   ]
  },
  {
   "cell_type": "code",
   "execution_count": 102,
   "metadata": {},
   "outputs": [
    {
     "name": "stdout",
     "output_type": "stream",
     "text": [
      "[DEBUG]: enter function say()\n",
      "hello，mylove！\n",
      "say\n",
      "say something\n"
     ]
    }
   ],
   "source": [
    "from functools import wraps\n",
    "\n",
    "def logging(func):\n",
    "    @wraps(func)\n",
    "    def wrapper(*args,**kwargs):\n",
    "        \"\"\"print log before a function.\"\"\"\n",
    "        print('[DEBUG]: enter function {}()'.format(func.__name__))\n",
    "        return func(*args,**kwargs)\n",
    "    return wrapper\n",
    "\n",
    "@logging\n",
    "def say(something):\n",
    "    \"\"\"say something\"\"\"\n",
    "    print('hello，{}！'.format(something))\n",
    "    \n",
    "if __name__ == '__main__':\n",
    "    say('mylove')\n",
    "    print(say.__name__)\n",
    "    print(say.__doc__)"
   ]
  },
  {
   "cell_type": "markdown",
   "metadata": {},
   "source": [
    "看上去不错！主要问题解决了，但其实还不太完美。因为函数的签名和源码还是拿不到的。"
   ]
  },
  {
   "cell_type": "code",
   "execution_count": null,
   "metadata": {},
   "outputs": [],
   "source": []
  }
 ],
 "metadata": {
  "kernelspec": {
   "display_name": "Python 3",
   "language": "python",
   "name": "python3"
  },
  "language_info": {
   "codemirror_mode": {
    "name": "ipython",
    "version": 3
   },
   "file_extension": ".py",
   "mimetype": "text/x-python",
   "name": "python",
   "nbconvert_exporter": "python",
   "pygments_lexer": "ipython3",
   "version": "3.6.5"
  }
 },
 "nbformat": 4,
 "nbformat_minor": 2
}
