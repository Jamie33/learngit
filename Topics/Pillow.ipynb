{
 "cells": [
  {
   "cell_type": "markdown",
   "metadata": {},
   "source": [
    "## [图像库 Pillow](https://www.liaoxuefeng.com/wiki/1016959663602400/1017785454949568)\n",
    "\n",
    "PIL：Python Imaging Library，已经是Python平台事实上的图像处理标准库了。PIL功能非常强大，但API却非常简单易用。\n",
    "\n",
    "由于PIL仅支持到Python 2.7，加上年久失修，于是一群志愿者在PIL的基础上创建了兼容的版本，名字叫Pillow，支持最新Python 3.x，又加入了许多新特性，因此，我们可以直接安装使用Pillow。\n",
    "\n",
    "要详细了解PIL的强大功能，请请参考 [Pillow官方文档](https://pillow.readthedocs.org/)\n",
    "\n",
    "### 安装Pillow\n",
    "\n",
    "如果安装了Anaconda，Pillow就已经可用了。否则，需要在命令行下通过pip安装：\n",
    "\n",
    "`$ pip install pillow`\n",
    "\n",
    "如果遇到Permission denied安装失败，请加上sudo重试。\n",
    "\n",
    "### 操作图像\n",
    "\n",
    "#### 图像缩放\n",
    "来看看最常见的图像缩放操作，只需三四行代码："
   ]
  },
  {
   "cell_type": "code",
   "execution_count": 15,
   "metadata": {},
   "outputs": [
    {
     "name": "stdout",
     "output_type": "stream",
     "text": [
      "img_raw.size 输出格式: <class 'tuple'>\n",
      "图像尺寸: 6000x4000\n",
      "缩放后的图像尺寸: 3000x2000\n"
     ]
    }
   ],
   "source": [
    "from PIL import Image\n",
    "\n",
    "# 打开一个jpg图像文件，注意是当前路径:\n",
    "img_raw = Image.open(\"DSC_0346.JPG\")\n",
    "\n",
    "# 获取图像尺寸：\n",
    "print('img_raw.size 输出格式:',type(img_raw.size))\n",
    "width = img_raw.size[0]\n",
    "height = img_raw.size[1]\n",
    "print('图像尺寸: {}x{}'.format(wide, height))\n",
    "\n",
    "# 缩放到50%: 使用thumbnail函数裁剪图片(注意，函数参数是一个(x,y)尺寸的元组)\n",
    "img_raw.thumbnail((width//2, height//2))\n",
    "\n",
    "# 把缩放后的图像用jpeg格式保存:\n",
    "img_raw.save('thumbnail.jpg', 'jpeg')\n",
    "img_thumbnail = Image.open('thumbnail.jpg')\n",
    "\n",
    "print('缩放后的图像尺寸: {}x{}'.format(img_thumbnail.size[0],img_thumbnail.size[1] ))"
   ]
  },
  {
   "cell_type": "markdown",
   "metadata": {},
   "source": [
    "#### 图片模糊\n",
    "其他功能如切片、旋转、滤镜、输出文字、调色板等一应俱全。比如，模糊效果也只需几行代码："
   ]
  },
  {
   "cell_type": "code",
   "execution_count": 16,
   "metadata": {},
   "outputs": [],
   "source": [
    "from PIL import Image, ImageFilter\n",
    "\n",
    "# 打开一个jpg图像文件，注意是当前路径:\n",
    "im = Image.open('DSC_0346.JPG')\n",
    "# 应用模糊滤镜:\n",
    "im2 = im.filter(ImageFilter.BLUR)\n",
    "im2.save('blur.jpg', 'jpeg')"
   ]
  },
  {
   "cell_type": "markdown",
   "metadata": {},
   "source": [
    "#### 绘图方法\n",
    "\n",
    "PIL的ImageDraw提供了一系列绘图方法，让我们可以直接绘图。比如要生成字母验证码图片：\n",
    "\n",
    "我们用随机颜色填充背景，再画上文字，最后对图像进行模糊，得到验证码图片如下："
   ]
  },
  {
   "cell_type": "code",
   "execution_count": 19,
   "metadata": {},
   "outputs": [],
   "source": [
    "from PIL import ImageDraw, ImageFilter, ImageFont\n",
    "import random\n",
    "\n",
    "# 随机字母:\n",
    "def rndChar():\n",
    "    return chr(random.randint(65, 90))\n",
    "\n",
    "# 随机颜色1:\n",
    "def rndColor():\n",
    "    return (random.randint(64, 255), random.randint(64, 255), random.randint(64, 255))\n",
    "\n",
    "# 随机颜色2:\n",
    "def rndColor2():\n",
    "    return (random.randint(32, 127), random.randint(32, 127), random.randint(32, 127))\n",
    "\n",
    "# 新建一张画布，大小颜色。\n",
    "width = 60 * 4\n",
    "height = 60\n",
    "image = Image.new('RGB', (width, height), (255, 255, 255))\n",
    "\n",
    "# 创建Font对象，字体和字号:\n",
    "font = ImageFont.truetype('/System/Library/Fonts/STHeiti Medium.ttc', 36)\n",
    "\n",
    "# 创建Draw对象:\n",
    "draw = ImageDraw.Draw(image)\n",
    "\n",
    "# 填充每个像素:\n",
    "for x in range(width):\n",
    "    for y in range(height):\n",
    "        draw.point((x, y), fill=rndColor())\n",
    "        \n",
    "# 输出文字:\n",
    "for t in range(4):\n",
    "    # 坐标,字体,字体颜色,字体大小\n",
    "    draw.text((60 * t + 10, 10), rndChar(), font=font, fill=rndColor2())\n",
    "\n",
    "# 模糊\n",
    "image = image.filter(ImageFilter.BLUR)\n",
    "\n",
    "# 保存\n",
    "image.save('code.jpg', 'jpeg')"
   ]
  }
 ],
 "metadata": {
  "kernelspec": {
   "display_name": "Python 3",
   "language": "python",
   "name": "python3"
  },
  "language_info": {
   "codemirror_mode": {
    "name": "ipython",
    "version": 3
   },
   "file_extension": ".py",
   "mimetype": "text/x-python",
   "name": "python",
   "nbconvert_exporter": "python",
   "pygments_lexer": "ipython3",
   "version": "3.6.3"
  },
  "toc": {
   "nav_menu": {},
   "number_sections": true,
   "sideBar": true,
   "skip_h1_title": false,
   "title_cell": "Table of Contents",
   "title_sidebar": "Contents",
   "toc_cell": false,
   "toc_position": {},
   "toc_section_display": true,
   "toc_window_display": false
  },
  "varInspector": {
   "cols": {
    "lenName": 16,
    "lenType": 16,
    "lenVar": 40
   },
   "kernels_config": {
    "python": {
     "delete_cmd_postfix": "",
     "delete_cmd_prefix": "del ",
     "library": "var_list.py",
     "varRefreshCmd": "print(var_dic_list())"
    },
    "r": {
     "delete_cmd_postfix": ") ",
     "delete_cmd_prefix": "rm(",
     "library": "var_list.r",
     "varRefreshCmd": "cat(var_dic_list()) "
    }
   },
   "types_to_exclude": [
    "module",
    "function",
    "builtin_function_or_method",
    "instance",
    "_Feature"
   ],
   "window_display": false
  }
 },
 "nbformat": 4,
 "nbformat_minor": 2
}
