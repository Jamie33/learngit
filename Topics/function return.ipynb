{
 "cells": [
  {
   "cell_type": "markdown",
   "metadata": {},
   "source": [
    "# python：关于函数返回return的问题\n",
    "\n",
    "定义一个带返回值的函数，需要使用return语句在调用这个函数时返回一个目标值，当没有return时，函数默认返回None。分析下面两个程序："
   ]
  },
  {
   "cell_type": "code",
   "execution_count": 1,
   "metadata": {},
   "outputs": [
    {
     "name": "stdout",
     "output_type": "stream",
     "text": [
      "test function\n"
     ]
    }
   ],
   "source": [
    "def test():\n",
    "    print('test function')\n",
    "\n",
    "test()"
   ]
  },
  {
   "cell_type": "markdown",
   "metadata": {},
   "source": [
    "这里仅仅调用了 test() 函数，执行了 print('test function')"
   ]
  },
  {
   "cell_type": "code",
   "execution_count": 5,
   "metadata": {},
   "outputs": [
    {
     "name": "stdout",
     "output_type": "stream",
     "text": [
      "test function\n",
      "None\n"
     ]
    }
   ],
   "source": [
    "def test():\n",
    "    print('test function')\n",
    "\n",
    "print(test())"
   ]
  },
  {
   "cell_type": "markdown",
   "metadata": {},
   "source": [
    "print(test()) 首先调用了test()函数，执行 print('test function')，接下来打印了 test（）函数的返回值，即 None。\n",
    "\n",
    "就等于"
   ]
  },
  {
   "cell_type": "code",
   "execution_count": 4,
   "metadata": {},
   "outputs": [
    {
     "name": "stdout",
     "output_type": "stream",
     "text": [
      "test function\n",
      "None\n"
     ]
    }
   ],
   "source": [
    "def test():\n",
    "    print('test function')\n",
    "\n",
    "x = test() # 调用了test()函数，执行 print('test function')，再将 test（）函数的返回值 None 赋给x\n",
    "print(x) #打印出x"
   ]
  }
 ],
 "metadata": {
  "kernelspec": {
   "display_name": "Python 3",
   "language": "python",
   "name": "python3"
  },
  "language_info": {
   "codemirror_mode": {
    "name": "ipython",
    "version": 3
   },
   "file_extension": ".py",
   "mimetype": "text/x-python",
   "name": "python",
   "nbconvert_exporter": "python",
   "pygments_lexer": "ipython3",
   "version": "3.6.5"
  }
 },
 "nbformat": 4,
 "nbformat_minor": 2
}
