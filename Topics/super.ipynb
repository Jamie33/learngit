{
 "cells": [
  {
   "cell_type": "markdown",
   "metadata": {},
   "source": [
    "# Python: 你不知道的 super \n",
    "\n",
    "## super() 的入门使用\n",
    "\n",
    "### 子类同时实现父类方法\n",
    "\n",
    "**在类的继承中，子类修改父类同名方法，同时实现父类方法，但不覆盖父类方法**\n",
    "\n",
    "http://python.jobbole.com/86787/\n",
    "\n",
    "在类的继承中，如果重定义某个方法，该方法会覆盖父类的同名方法，但有时，我们希望能同时**实现父类的功能**，这时，我们就需要调用父类的方法了，可通过使用 super 来实现，比如："
   ]
  },
  {
   "cell_type": "code",
   "execution_count": 14,
   "metadata": {},
   "outputs": [
    {
     "name": "stdout",
     "output_type": "stream",
     "text": [
      "WangWang...\n",
      "Hello,dog\n"
     ]
    }
   ],
   "source": [
    "class Animal(object):\n",
    "    def __init__(self,name):\n",
    "        self.name = name\n",
    "    def greet(self):\n",
    "        print('Hello,{}'.format(self.name))\n",
    "        \n",
    "class Dog(Animal):\n",
    "    def greet(self):\n",
    "        print('WangWang...')\n",
    "        super(Dog, self).greet()  #python2 super().greet()\n",
    "\n",
    "dog = Dog('dog')\n",
    "dog.greet()"
   ]
  },
  {
   "cell_type": "markdown",
   "metadata": {},
   "source": [
    "在上面，Animal 是父类，Dog 是子类，我们在 Dog 类重定义了 greet 方法，为了能同时实现父类的功能，我们在子类中调用了父类的方法\n",
    "\n",
    "### 子类同时拥有父类的属性\n",
    "\n",
    "**在类的继承中，子类修改初始化方法，同时拥有父类的属性，但不覆盖父类属性**\n",
    "\n",
    "为了同时拥有父类的属性，super 的一个最常见用法可以说是在子类中调用父类的初始化方法了。"
   ]
  },
  {
   "cell_type": "code",
   "execution_count": 2,
   "metadata": {},
   "outputs": [
    {
     "name": "stdout",
     "output_type": "stream",
     "text": [
      "Base:a1,b2\n",
      "A:a1,b2,c3\n",
      "[<class '__main__.A'>, <class '__main__.Base'>, <class 'object'>]\n"
     ]
    }
   ],
   "source": [
    "class Base(object):\n",
    "    def __init__(self,a,b):\n",
    "        self.a = a\n",
    "        self.b = b\n",
    "        print('Base:a{},b{}'.format(self.a,self.b))\n",
    "        \n",
    "class A(Base):\n",
    "    def __init__(self,a,b,c):\n",
    "        super().__init__(a,b)  # Python2 super(A, self).__init__(a, b)\n",
    "        #Base.__init__(self,a,b)\n",
    "        self.c = c\n",
    "        print('A:a{},b{},c{}'.format(self.a,self.b,self.c))\n",
    "\n",
    "test = A(1,2,3)\n",
    "\n",
    "print(A.mro())"
   ]
  },
  {
   "cell_type": "markdown",
   "metadata": {},
   "source": [
    "## 深入 super()\n",
    "\n",
    "看了上面的使用，你可能会觉得 super 的使用很简单，同时实现父类的功能以及同时拥有父类的属性。\n",
    "\n",
    "其实，在上面的情况下，super 获得的类刚好是父类，但在其他情况就不一定了，super 其实和父类没有实质性的关联。\n",
    "\n",
    "让我们看一个稍微复杂的例子，涉及到多重继承，代码如下："
   ]
  },
  {
   "cell_type": "code",
   "execution_count": 18,
   "metadata": {},
   "outputs": [
    {
     "name": "stdout",
     "output_type": "stream",
     "text": [
      "enter A\n",
      "enter Base\n",
      "leave Base\n",
      "leave A\n",
      "---------------------\n",
      "enter B\n",
      "enter Base\n",
      "leave Base\n",
      "leave B\n",
      "---------------------\n",
      "enter C\n",
      "enter A\n",
      "enter B\n",
      "enter Base\n",
      "leave Base\n",
      "leave B\n",
      "leave A\n",
      "leave C\n"
     ]
    }
   ],
   "source": [
    "class Base(object):\n",
    "    def __init__(self):\n",
    "        print('enter Base')\n",
    "        print('leave Base')\n",
    "        \n",
    "class A(Base):\n",
    "    def __init__(self):\n",
    "        print('enter A')\n",
    "        super().__init__()\n",
    "        print('leave A')\n",
    "        \n",
    "class B(Base):\n",
    "    def __init__(self):\n",
    "        print('enter B')\n",
    "        super().__init__()\n",
    "        print('leave B')\n",
    "        \n",
    "class C(A,B):\n",
    "    def __init__(self):\n",
    "        print('enter C')\n",
    "        super().__init__()\n",
    "        print('leave C')\n",
    "        \n",
    "a = A()\n",
    "\n",
    "print('---------------------')\n",
    "b = B()\n",
    "\n",
    "print('---------------------')\n",
    "c = C()"
   ]
  },
  {
   "cell_type": "markdown",
   "metadata": {},
   "source": [
    "c = C() 预测的结果是\n",
    "\n",
    "enter C\n",
    "enter A\n",
    "enter Base\n",
    "leave Base\n",
    "leave A\n",
    "enter B\n",
    "enter Base\n",
    "leave Base\n",
    "leave B\n",
    "leave C\n",
    "\n",
    "如果你认为 super 代表『调用父类的方法』，那你很可能会疑惑为什么 enter A 的下一句不是 enter Base 而是 enter B。原因是，super 和父类没有实质性的关联，现在让我们搞清 super 是怎么运作的。\n",
    "\n",
    "## MRO 列表(Method Resolution Order)\n",
    "\n",
    "事实上，对于你定义的每一个类，Python 会计算出一个**方法解析顺序（Method Resolution Order, MRO）列表**，它代表了类继承的顺序，我们可以使用下面的方式获得某个类的 MRO 列表：\n",
    "\n",
    "```\n",
    "类名.mro()\n",
    "类名.__mro__\n",
    "实例.__class__.mro()\n",
    "```"
   ]
  },
  {
   "cell_type": "code",
   "execution_count": 21,
   "metadata": {},
   "outputs": [
    {
     "name": "stdout",
     "output_type": "stream",
     "text": [
      "[<class '__main__.C'>, <class '__main__.A'>, <class '__main__.B'>, <class '__main__.Base'>, <class 'object'>]\n",
      "(<class '__main__.C'>, <class '__main__.A'>, <class '__main__.B'>, <class '__main__.Base'>, <class 'object'>)\n",
      "enter C\n",
      "enter A\n",
      "enter B\n",
      "enter Base\n",
      "leave Base\n",
      "leave B\n",
      "leave A\n",
      "leave C\n",
      "[<class '__main__.C'>, <class '__main__.A'>, <class '__main__.B'>, <class '__main__.Base'>, <class 'object'>]\n"
     ]
    }
   ],
   "source": [
    "print(C.mro())\n",
    "print(C.__mro__)\n",
    "print(C().__class__.mro())"
   ]
  },
  {
   "cell_type": "markdown",
   "metadata": {},
   "source": [
    "那这个 MRO 列表的顺序是怎么定的呢，它是通过一个 C3 线性化算法来实现的，这里我们就不去深究这个算法了，感兴趣的读者可以自己去了解一下，总的来说，一个类的 MRO 列表就是合并所有父类的 MRO 列表，并遵循以下三条原则：\n",
    "\n",
    "- 子类永远在父类前面\n",
    "- 如果有多个父类，会根据它们在列表中的顺序被检查\n",
    "- 如果对下一个类存在两个合法的选择，选择第一个父类\n",
    "\n",
    "## super 原理\n",
    "\n",
    "super 的工作原理如下"
   ]
  },
  {
   "cell_type": "code",
   "execution_count": null,
   "metadata": {},
   "outputs": [],
   "source": [
    "def super(cls, inst):\n",
    "    mro = inst.__class__.mro()\n",
    "    return mro[mro.index(cls) + 1]"
   ]
  },
  {
   "cell_type": "markdown",
   "metadata": {},
   "source": [
    "其中，cls 代表类，inst 代表实例，上面的代码做了两件事：\n",
    "\n",
    "- 获取 inst 的 MRO 列表\n",
    "- 查找 cls 在当前 MRO 列表中的 index, 并返回它的下一个类，即 mro[index + 1]\n",
    "\n",
    "当你使用 super(cls, inst) 时，Python 会在 inst 的 MRO 列表上搜索 cls 的下一个类。\n",
    "\n",
    "现在，让我们回到前面的例子。\n",
    "\n",
    "首先看类 C 的 __init__ 方法：`super(C, self).__init__()`\n",
    "\n",
    "根据super()函数，\n",
    "```\n",
    "def super(cls,inst):\n",
    "    mro = inst.__class__.mro()\n",
    "    return mro[mro.index(cls)+1]\n",
    "```\n",
    "其中`super(C, self)`会返回 C.mro() 列表中后面一位，即`__main__.A`, 就变成`类A的 __init__()`，这时打印出 enter A，并执行下一行 `super(A, self).__init__()`\n",
    "\n",
    "**注意：这里的 self 也是当前 C 的实例，MRO 列表跟上面是一样的**\n",
    "\n",
    "搜索 A 在 MRO 中的下一个类，发现是 B，于是，跳到了`类B的__init__()`，这时会打印出 enter B，而不是 enter Base。并执行下一行 `super(B, self).__init__()`\n",
    "\n",
    "同样，下一个类是 Base，跳到了`类Base的__init__()`，打印 enter Base 和 leave Base。\n",
    "\n",
    "`类Base.__init__()`执行完，跳回到类B中的，执行`super(B, self).__init__()`下面一句，即打印 leave B。\n",
    "\n",
    "`类B的__init__()`执行完，跳回到类A中的，执行`super(A, self).__init__()`下面一句，即打印 leave A。\n",
    "\n",
    "`类A的__init__()`执行完，跳回到类C中的，执行`super(C, self).__init__()`下面一句，即打印 leave C。\n",
    "\n",
    "整个过程还是比较清晰的，关键是要理解 super 的工作方式，而不是想当然地认为 super 调用了父类的方法。\n",
    "\n",
    "## 小结\n",
    "\n",
    "- 事实上，super 和父类没有实质性的关联。\n",
    "\n",
    "- super(cls, inst) 获得的是 cls 在 inst 的 MRO 列表中的下一个类。"
   ]
  },
  {
   "cell_type": "code",
   "execution_count": null,
   "metadata": {},
   "outputs": [],
   "source": [
    "class Base(object):\n",
    "    def __init__(self):\n",
    "        print('enter Base')\n",
    "        print('leave Base')\n",
    "        \n",
    "class A(Base):\n",
    "    def __init__(self):\n",
    "        print('enter A')\n",
    "        super().__init__()\n",
    "        print('leave A')\n",
    "        \n",
    "class B(Base):\n",
    "    def __init__(self):\n",
    "        print('enter B')\n",
    "        super().__init__()\n",
    "        print('leave B')\n",
    "        \n",
    "class C(A,B):\n",
    "    def __init__(self):\n",
    "        print('enter C')\n",
    "        super().__init__()\n",
    "        print('leave C')\n",
    "        \n",
    "a = A()\n",
    "\n",
    "print('---------------------')\n",
    "b = B()\n",
    "\n",
    "print('---------------------')\n",
    "c = C()"
   ]
  }
 ],
 "metadata": {
  "kernelspec": {
   "display_name": "Python 3",
   "language": "python",
   "name": "python3"
  },
  "language_info": {
   "codemirror_mode": {
    "name": "ipython",
    "version": 3
   },
   "file_extension": ".py",
   "mimetype": "text/x-python",
   "name": "python",
   "nbconvert_exporter": "python",
   "pygments_lexer": "ipython3",
   "version": "3.6.5"
  }
 },
 "nbformat": 4,
 "nbformat_minor": 2
}
