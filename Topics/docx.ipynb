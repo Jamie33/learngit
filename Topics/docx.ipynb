{
 "cells": [
  {
   "cell_type": "markdown",
   "metadata": {},
   "source": [
    "## [Python读写docx文件的方法](https://www.jb51.net/article/139699.htm)\n",
    "\n",
    "Python读写word文档有现成的库: **python-docx**。[帮助文档](http://python-docx.readthedocs.org/en/latest/) \n",
    "\n",
    "安装：**pip install python-docx** \n",
    "\n",
    "ppt和excel也有类似的库哦，而且是直接读取文件里面的xml数据。所以doc格式得另找其他库处理，doc格式不是基于xml的。\n",
    "\n",
    "\n",
    "- 1、新建或打开文件。这个比较简单用docx的Document类，\n",
    "\n",
    "    - 指定路径则是打开文档\n",
    "    - 没有指定路径则是新建文档\n",
    "\n",
    "```\n",
    "#新建文档\n",
    "doc_new = docx.Document()\n",
    "  \n",
    "#读取文档\n",
    "doc = docx.Document(ur'C:\\1.docx')\n",
    "```\n",
    "\n",
    "- 2、保存文件。有打开，就有保存。用Document类的save方法，其中参数是保存的文件路径，或者要保存的文件流。一般指定路径即可。\n",
    "\n",
    "`doc.save(path_or_stream)`\n",
    "\n",
    "- 3、对象集合。python-docx包含了word文档的相关对象集合。\n",
    " \n",
    "    - doc.paragraphs #段落集合\n",
    "    - doc.tables #表格集合\n",
    "    - doc.sections #节 集合\n",
    "    - doc.styles #样式集合\n",
    "    - doc.inline_shapes #内置图形 等等...\n",
    " \n",
    "- 4、插入段落。段落是word最基本的对象之一。\n",
    "\n",
    "```\n",
    "doc.add_paragraph(u'第一段',style=None) #插入一个段落，文本为“第一段”\n",
    "#默认是不应用样式，这里也可以不写style参数，或者指定一个段落样式\n",
    "\n",
    "doc.add_paragraph(u'第二段',style='Heading 2')\n",
    "  \n",
    "#这些样式都是word默认带有的样式，可以直接罗列出来有哪些段落样式\n",
    "print [s.name for s in doc.styles if s.type==1]\n",
    "\n",
    "```\n",
    "段落样式:\n",
    "\n",
    "'Normal', 'Header', 'Footer', 'Heading 1', 'Heading 2', 'Heading 3', 'Heading 4', 'Heading 5', 'Heading 6', 'Heading 7', 'Heading 8', 'Heading 9', 'No Spacing', 'Title', 'Subtitle', 'List Paragraph', 'Body Text', 'Body Text 2', 'Body Text 3', 'List', 'List 2', 'List 3', 'List Bullet', 'List Bullet 2', 'List Bullet 3', 'List Number', 'List Number 2', 'List Number 3', 'List Continue', 'List Continue 2', 'List Continue 3', 'macro', 'Quote', 'Caption', 'Intense Quote', 'TOC Heading'"
   ]
  },
  {
   "cell_type": "code",
   "execution_count": 11,
   "metadata": {
    "scrolled": true
   },
   "outputs": [
    {
     "name": "stdout",
     "output_type": "stream",
     "text": [
      "['Normal', 'Header', 'Footer', 'Heading 1', 'Heading 2', 'Heading 3', 'Heading 4', 'Heading 5', 'Heading 6', 'Heading 7', 'Heading 8', 'Heading 9', 'No Spacing', 'Title', 'Subtitle', 'List Paragraph', 'Body Text', 'Body Text 2', 'Body Text 3', 'List', 'List 2', 'List 3', 'List Bullet', 'List Bullet 2', 'List Bullet 3', 'List Number', 'List Number 2', 'List Number 3', 'List Continue', 'List Continue 2', 'List Continue 3', 'macro', 'Quote', 'Caption', 'Intense Quote', 'TOC Heading']\n"
     ]
    }
   ],
   "source": [
    "import docx \n",
    "from docx.shared import Inches\n",
    "\n",
    "doc_new = docx.Document()  # 新建文档\n",
    "doc_new.add_paragraph(u'第一段',style=None)  # 插入段落\n",
    "img_name = r'test1.png'\n",
    "doc_new.add_picture(img_name)  # 向文档里添加图片\n",
    "doc_new.save(r'doc_new.docx') # 保存文件"
   ]
  },
  {
   "cell_type": "code",
   "execution_count": null,
   "metadata": {},
   "outputs": [],
   "source": []
  },
  {
   "cell_type": "code",
   "execution_count": null,
   "metadata": {},
   "outputs": [],
   "source": []
  }
 ],
 "metadata": {
  "kernelspec": {
   "display_name": "Python 3",
   "language": "python",
   "name": "python3"
  },
  "language_info": {
   "codemirror_mode": {
    "name": "ipython",
    "version": 3
   },
   "file_extension": ".py",
   "mimetype": "text/x-python",
   "name": "python",
   "nbconvert_exporter": "python",
   "pygments_lexer": "ipython3",
   "version": "3.6.5"
  }
 },
 "nbformat": 4,
 "nbformat_minor": 2
}
