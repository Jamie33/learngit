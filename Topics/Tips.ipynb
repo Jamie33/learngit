{
 "cells": [
  {
   "cell_type": "markdown",
   "metadata": {},
   "source": [
    "## #!/usr/bin/python3 和 #!/usr/bin/env python3的区别\n",
    "\n",
    "脚本语言的第一行，目的就是指出，你想要你的这个文件中的代码用什么可执行程序去运行它，就这么简单\n",
    "\n",
    "#!/usr/bin/python3是告诉操作系统执行这个脚本的时候，调用/usr/bin下的python3解释器；\n",
    "#!/usr/bin/env python3这种用法是为了防止操作系统用户没有将python3装在默认的/usr/bin路径里。当系统看到这一行的时候，首先会到env设置里查找python3的安装路径，再调用对应路径下的解释器程序完成操作。\n",
    "#!/usr/bin/python3相当于写死了python3路径;\n",
    "#!/usr/bin/env python3会去环境设置寻找python3目录,推荐这种写法\n",
    "\n",
    "\n",
    "\n",
    "#--*-- coding: utf-8 --*--\n",
    "\n",
    "如果要在python2的py文件里面写中文，则必须要添加一行声明文件编码的注释，否则python2会默认使用ASCII编码。\n",
    "\n",
    "\n"
   ]
  },
  {
   "cell_type": "markdown",
   "metadata": {},
   "source": [
    "## Jupyter运行python文件\n",
    "\n",
    "利用jupyter的cell是可以运行python文件的，即在cell中运行如下代码：\n",
    "\n",
    "`%run file.py`"
   ]
  },
  {
   "cell_type": "code",
   "execution_count": null,
   "metadata": {},
   "outputs": [],
   "source": []
  }
 ],
 "metadata": {
  "kernelspec": {
   "display_name": "Python 3",
   "language": "python",
   "name": "python3"
  },
  "language_info": {
   "codemirror_mode": {
    "name": "ipython",
    "version": 3
   },
   "file_extension": ".py",
   "mimetype": "text/x-python",
   "name": "python",
   "nbconvert_exporter": "python",
   "pygments_lexer": "ipython3",
   "version": "3.6.5"
  }
 },
 "nbformat": 4,
 "nbformat_minor": 2
}
