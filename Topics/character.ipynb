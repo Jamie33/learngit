{
 "cells": [
  {
   "cell_type": "markdown",
   "metadata": {},
   "source": [
    "## [python中去掉字符串中的\\xa0、\\t、\\n](https://blog.csdn.net/wangbowj123/article/details/78061618)"
   ]
  },
  {
   "cell_type": "code",
   "execution_count": 2,
   "metadata": {},
   "outputs": [
    {
     "data": {
      "text/plain": [
       "\"'153.000'\""
      ]
     },
     "execution_count": 2,
     "metadata": {},
     "output_type": "execute_result"
    }
   ],
   "source": [
    "a = '153.000\\xa0'\n",
    "repr(a.strip())"
   ]
  },
  {
   "cell_type": "code",
   "execution_count": 3,
   "metadata": {},
   "outputs": [
    {
     "name": "stdout",
     "output_type": "stream",
     "text": [
      "13793957\n"
     ]
    }
   ],
   "source": [
    "import re\n",
    "\n",
    "url = 'https://tiki.vn/bo-san-pham-duong-rau-nam-gioi-p13793957.html?src=category-page-17166.20908&2hi=0'\n",
    "print(re.search(r'p(\\d+).html',url).group(1))\n"
   ]
  },
  {
   "cell_type": "code",
   "execution_count": 4,
   "metadata": {},
   "outputs": [
    {
     "name": "stdout",
     "output_type": "stream",
     "text": [
      "https://salt.tikicdn.com/ts/product/ad/c1/09/c22a18b2fcce4c33a7eadab5979c45b1.jpg\n"
     ]
    }
   ],
   "source": [
    "target_url = 'https://salt.tikicdn.com/ts/product/ad/c1/09/c22a18b2fcce4c33a7eadab5979c45b1.jpg'\n",
    "url = 'https://salt.tikicdn.com/cache/75x75/ts/product/ad/c1/09/c22a18b2fcce4c33a7eadab5979c45b1.jpg'\n",
    "\n",
    "url = re.sub(r'cache/75x75/','',url)\n",
    "print(url)"
   ]
  },
  {
   "cell_type": "code",
   "execution_count": 5,
   "metadata": {},
   "outputs": [
    {
     "name": "stdout",
     "output_type": "stream",
     "text": [
      "https://tiki.vn/coc-giac-hoi-massage-lam-dep-toan-than-silicon-p13792108.html?\n"
     ]
    }
   ],
   "source": [
    "import re\n",
    "url = 'https://tiki.vn/coc-giac-hoi-massage-lam-dep-toan-than-silicon-p13792108.html?src=category-page-17166.20908&2hi=0'\n",
    "url = re.sub(r'src=.*','',url)\n",
    "print(url)"
   ]
  }
 ],
 "metadata": {
  "kernelspec": {
   "display_name": "Python 3",
   "language": "python",
   "name": "python3"
  },
  "language_info": {
   "codemirror_mode": {
    "name": "ipython",
    "version": 3
   },
   "file_extension": ".py",
   "mimetype": "text/x-python",
   "name": "python",
   "nbconvert_exporter": "python",
   "pygments_lexer": "ipython3",
   "version": "3.6.5"
  }
 },
 "nbformat": 4,
 "nbformat_minor": 2
}
