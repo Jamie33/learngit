{
 "cells": [
  {
   "cell_type": "markdown",
   "metadata": {},
   "source": [
    "# Module 模块\n",
    "\n",
    "模块是一个.py文件\n",
    "\n",
    "导入模块的方法以及调用相应模块中的方法（函数），类，属性，如下"
   ]
  },
  {
   "cell_type": "code",
   "execution_count": null,
   "metadata": {},
   "outputs": [],
   "source": [
    "#导入模块\n",
    "import modname\n",
    "#调用\n",
    "modname.itemname\n",
    "\n",
    "\n",
    "#导入模块中特定的方法\n",
    "from modname import itemname\n",
    "#调用\n",
    "itemname\n",
    "\n",
    "\n",
    "#导入模块中全部方法\n",
    "from modname import *\n",
    "#调用\n",
    "itemname\n",
    "#注意：导入所有除了以一个下划线( _ )开头的所有方法)"
   ]
  },
  {
   "cell_type": "markdown",
   "metadata": {},
   "source": [
    "Pycache 下的 XXX.pyc 编译文件只有在模块中import 或者 from … import 才会保存\n",
    "\n",
    "Python XXX.py  运行是不会产生 Pycache!"
   ]
  },
  {
   "cell_type": "markdown",
   "metadata": {},
   "source": [
    "# 模块的搜索路径\n",
    "\n",
    "当你导入一个模块，Python 解析器对模块位置的搜索顺序是：\n",
    "\n",
    "1、当前目录\n",
    "\n",
    "2、如果不在当前目录，Python 则搜索在 shell 变量 PYTHONPATH 下的每个目录。\n",
    "\n",
    "3、如果都找不到，Python会察看默认路径。UNIX下，默认路径一般为/usr/local/lib/python/。\n",
    "\n",
    "模块搜索路径存储在 system 模块的 sys.path 变量中。变量里包含当前目录，PYTHONPATH和由安装过程决定的默认目录。"
   ]
  },
  {
   "cell_type": "code",
   "execution_count": 2,
   "metadata": {},
   "outputs": [
    {
     "name": "stdout",
     "output_type": "stream",
     "text": [
      "['', 'c:\\\\users\\\\win7\\\\appdata\\\\local\\\\programs\\\\python\\\\python36\\\\python36.zip', 'c:\\\\users\\\\win7\\\\appdata\\\\local\\\\programs\\\\python\\\\python36\\\\DLLs', 'c:\\\\users\\\\win7\\\\appdata\\\\local\\\\programs\\\\python\\\\python36\\\\lib', 'c:\\\\users\\\\win7\\\\appdata\\\\local\\\\programs\\\\python\\\\python36', 'c:\\\\users\\\\win7\\\\appdata\\\\local\\\\programs\\\\python\\\\python36\\\\lib\\\\site-packages', 'c:\\\\users\\\\win7\\\\appdata\\\\local\\\\programs\\\\python\\\\python36\\\\lib\\\\site-packages\\\\IPython\\\\extensions', 'C:\\\\Users\\\\Win7\\\\.ipython']\n"
     ]
    }
   ],
   "source": [
    "import sys\n",
    "print(sys.path) #返回的是列表\n",
    "sys.path.append('') #添加到搜索路径中"
   ]
  },
  {
   "cell_type": "markdown",
   "metadata": {},
   "source": [
    "# from modname import *\n",
    "\n",
    "用用引用模块中所有函数,类,变量\n",
    "\n",
    "如果想用\\*通配符，又不想引用模块中的所有变量，可以在模块中用变量__all__进行限制，添加想引用的函数,类,变量。"
   ]
  },
  {
   "cell_type": "markdown",
   "metadata": {},
   "source": [
    "# Package 包\n",
    "\n",
    "包就目录中包含 __init__.py 文件。\n",
    "\n",
    "通常是使用用“圆点模块名”的结构化模块命名空间，例如 A.B模块表示 A包中名为B的子模块\n",
    "\n",
    "\n",
    "导入包中模块的方法以及调用相应模块中的方法（函数），类，属性，如下"
   ]
  },
  {
   "cell_type": "code",
   "execution_count": null,
   "metadata": {},
   "outputs": [],
   "source": [
    "import package.subpackage.modname\n",
    "package.subpackage.modname.itemname\n",
    "\n",
    "\n",
    "from package.subpackage import modname\n",
    "modname.itemname\n",
    "\n",
    "\n",
    "from package.subpackage.modname import itemname\n",
    "itemname"
   ]
  },
  {
   "cell_type": "markdown",
   "metadata": {},
   "source": [
    "注意\n",
    "\n",
    "使用 from package import item 方式导入包时，这个子项（item）既可以是包中的一个子模块（或一个子包），也可以是包中定义的其它命名，像函数、类或变量。\n",
    "\n",
    "from package import item\n",
    "(其中，item 可是使一个子包/一个子模块/包中定义的函数，类或变量)\n",
    "\n",
    "\n",
    "使用类似 import item.subitem.subsubitem 这样的语法时，这些子项必须是包，最后的子项可以是包或模块，但不能是前面子项中定义的类、函数或变量。\n",
    "\n",
    "import item.subitem.subsubitem\n",
    "(其中每一项，除了最后一项，必须是包；\n",
    " 最后一项，可以是模块/包，不可以是前面一项即包中定义的类、函数或变量)"
   ]
  },
  {
   "cell_type": "markdown",
   "metadata": {},
   "source": [
    "# from package import *\n",
    "\n",
    "以为会导入所有的子模块，不会，而且会出问题\n",
    "\n",
    "所以执行 from package import * 时，在包中的 __init__.py 代码定义一个名为 __all__ 的列表，把需要的模块名加入列表，就会按照列表中给出的模块名进行导入。"
   ]
  },
  {
   "cell_type": "markdown",
   "metadata": {},
   "source": [
    "# 包内引用\n",
    "\n",
    "\n",
    "\n",
    "如果包中使用了子包结构（就像示例中的 project 包），导入子模块两种方式：绝对导入和相对导入\n",
    "\n",
    "在同一个包中，用相对导入更方便\n",
    "在不同包中，用绝对导入更方便，前提是没有很多层子包"
   ]
  },
  {
   "cell_type": "code",
   "execution_count": null,
   "metadata": {},
   "outputs": [],
   "source": [
    "project/                          #Top-level package\n",
    "      __init__.py               #Initialize the package\n",
    "      A/                  #Subpackage for projcet A\n",
    "              __init__.py\n",
    "              PA.py\n",
    "              ...\n",
    "      B/                  #Subpackage for project B\n",
    "              __init__.py\n",
    "              PB.py\n",
    "              PB2.py\n",
    "              ...\n",
    "      C/                  #Subpackage for project C\n",
    "              __init__.py\n",
    "              PC.py\n",
    "              ..."
   ]
  },
  {
   "cell_type": "markdown",
   "metadata": {},
   "source": [
    "绝对导入\n",
    "\n",
    "在 PB.py 中导入不同包C中的PC.py 模块\n",
    "\n",
    "from project.C. import PC\n",
    "\n",
    "\n",
    "\n",
    "相对导入\n",
    "\n",
    "以 PB.py 为例（基于当前模块的相对位置）\n",
    "\n",
    "from . import PB2 (.表示当前包，在 PB.py 中导入同一个包中的 PB2.py 模块)\n",
    "\n",
    "from ..C import PC.py(..表示上级包project，..C 表示上级包project下的C包,在 PB.py 中导入不同包C中的PC.py 模块)\n",
    "\n",
    "from ..import A (在 PB.py 中导入上级包project包中的子包A)\n",
    "\n",
    "前面的知识点\n",
    "from package import item\n",
    "(其中，item 可以是一个子包/一个子模块/包中定义的函数，类或变量)"
   ]
  }
 ],
 "metadata": {
  "kernelspec": {
   "display_name": "Python 3",
   "language": "python",
   "name": "python3"
  },
  "language_info": {
   "codemirror_mode": {
    "name": "ipython",
    "version": 3
   },
   "file_extension": ".py",
   "mimetype": "text/x-python",
   "name": "python",
   "nbconvert_exporter": "python",
   "pygments_lexer": "ipython3",
   "version": "3.6.2"
  },
  "toc": {
   "nav_menu": {},
   "number_sections": true,
   "sideBar": true,
   "skip_h1_title": false,
   "title_cell": "Table of Contents",
   "title_sidebar": "Contents",
   "toc_cell": false,
   "toc_position": {},
   "toc_section_display": true,
   "toc_window_display": false
  },
  "varInspector": {
   "cols": {
    "lenName": 16,
    "lenType": 16,
    "lenVar": 40
   },
   "kernels_config": {
    "python": {
     "delete_cmd_postfix": "",
     "delete_cmd_prefix": "del ",
     "library": "var_list.py",
     "varRefreshCmd": "print(var_dic_list())"
    },
    "r": {
     "delete_cmd_postfix": ") ",
     "delete_cmd_prefix": "rm(",
     "library": "var_list.r",
     "varRefreshCmd": "cat(var_dic_list()) "
    }
   },
   "types_to_exclude": [
    "module",
    "function",
    "builtin_function_or_method",
    "instance",
    "_Feature"
   ],
   "window_display": false
  }
 },
 "nbformat": 4,
 "nbformat_minor": 2
}
