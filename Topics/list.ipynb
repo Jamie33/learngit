{
 "cells": [
  {
   "cell_type": "markdown",
   "metadata": {},
   "source": [
    "## Python如何一边遍历列表一边删除数据\n",
    "\n",
    "### list.remove(obj)方法的问题\n",
    "\n",
    "现在有一个list，如何实现一边遍历列表一边删除元素。最容易想到的方法如下："
   ]
  },
  {
   "cell_type": "code",
   "execution_count": 1,
   "metadata": {},
   "outputs": [
    {
     "name": "stdout",
     "output_type": "stream",
     "text": [
      "1\n",
      "[2, 3, 4, 5, 6]\n",
      "3\n",
      "[2, 4, 5, 6]\n",
      "5\n",
      "[2, 4, 6]\n"
     ]
    }
   ],
   "source": [
    "a = [1,2,3,4,5,6]\n",
    "for i in a:\n",
    "    print(i)\n",
    "    a.remove(i)\n",
    "    print(a)"
   ]
  },
  {
   "cell_type": "markdown",
   "metadata": {},
   "source": [
    "最后的结果应该是空的列表，但是实际结果是每隔一个元素删除一个元素，这是为什么？"
   ]
  },
  {
   "cell_type": "code",
   "execution_count": 3,
   "metadata": {},
   "outputs": [
    {
     "name": "stdout",
     "output_type": "stream",
     "text": [
      "这是第1次循环，当前下标值为0，删除前列表元素[1, 2, 3, 4, 5, 6]\n",
      "[1, 2, 3, 4, 5, 6]\n",
      "这是第2次循环，当前下标值为1，删除前列表元素[2, 3, 4, 5, 6]\n",
      "[2, 3, 4, 5, 6]\n",
      "这是第3次循环，当前下标值为2，删除前列表元素[2, 4, 5, 6]\n",
      "[2, 4, 5, 6]\n",
      "循环结束，最后列表元素[2, 4, 6]\n"
     ]
    }
   ],
   "source": [
    "a = [1,2,3,4,5,6]\n",
    "\n",
    "index = 1\n",
    "i = 0\n",
    "for data in a:\n",
    "    print('这是第{}次循环，当前下标值为{}，删除前列表元素{}'.format(index,i,a))\n",
    "    print(a)\n",
    "    a.remove(data)\n",
    "    index += 1\n",
    "    i += 1\n",
    "\n",
    "print('循环结束，最后列表元素{}'.format(a))"
   ]
  },
  {
   "cell_type": "markdown",
   "metadata": {},
   "source": [
    "原因是当遍历第一个元素时，删除了下标为0的元素，当遍历下标为1的元素时，后面的元素会向前移动一个位置，就是元素2移动到了原来元素1的位置，但是此时已经准备删除下标为1的元素，这样就将元素2跳过去了，以此类推，所有偶数元素都没有被删除。\n",
    "\n",
    "### 解决办法\n",
    "新建一个相同的临时列表，用for循环临时列表，删除原列表中的元素！"
   ]
  },
  {
   "cell_type": "code",
   "execution_count": 4,
   "metadata": {},
   "outputs": [
    {
     "name": "stdout",
     "output_type": "stream",
     "text": [
      "1\n",
      "[2, 3, 4, 5, 6]\n",
      "2\n",
      "[3, 4, 5, 6]\n",
      "3\n",
      "[4, 5, 6]\n",
      "4\n",
      "[5, 6]\n",
      "5\n",
      "[6]\n",
      "6\n",
      "[]\n"
     ]
    }
   ],
   "source": [
    "a = [1,2,3,4,5,6]\n",
    "b = a[:]\n",
    "\n",
    "for i in b:\n",
    "    print(i)\n",
    "    a.remove(i)\n",
    "    print(a)"
   ]
  },
  {
   "cell_type": "markdown",
   "metadata": {},
   "source": [
    "### 去除列表当中的换行符\n",
    "\n",
    "通常情况下会出现在爬虫中，爬取到的 html 中有大量换行符，格式不是很美观"
   ]
  },
  {
   "cell_type": "code",
   "execution_count": 9,
   "metadata": {},
   "outputs": [
    {
     "name": "stdout",
     "output_type": "stream",
     "text": [
      "\n",
      "   \n",
      "\n",
      "\n",
      " 浔阳江头夜送客，枫叶荻花秋瑟瑟。\n",
      "   \n",
      " 。主人下马客在船，举酒欲饮无管弦。\n",
      "\n",
      "醉不成欢惨将别，别时茫茫江浸月\n",
      "\n",
      "\n",
      "\n"
     ]
    }
   ],
   "source": [
    "list1 = ['\\n   \\n', '\\n', '\\n 浔阳江头夜送客，枫叶荻花秋瑟瑟。','\\n   \\n 。主人下马客在船，举酒欲饮无管弦。\\n\\n', '醉不成欢惨将别，别时茫茫江浸月\\n', '\\n\\n']\n",
    "\n",
    "print(''.join(list1))"
   ]
  },
  {
   "cell_type": "markdown",
   "metadata": {},
   "source": [
    "遍历列表后，用strip()去除换行符变成空字符"
   ]
  },
  {
   "cell_type": "code",
   "execution_count": 7,
   "metadata": {},
   "outputs": [
    {
     "name": "stdout",
     "output_type": "stream",
     "text": [
      "['', '', '浔阳江头夜送客，枫叶荻花秋瑟瑟。', '。主人下马客在船，举酒欲饮无管弦。', '醉不成欢惨将别，别时茫茫江浸月', '']\n"
     ]
    }
   ],
   "source": [
    "list1 = ['\\n  \\n \\n', '\\n', '\\n 浔阳江头夜送客，枫叶荻花秋瑟瑟。','\\n   \\n 。主人下马客在船，举酒欲饮无管弦。\\n\\n', '醉不成欢惨将别，别时茫茫江浸月\\n', '\\n\\n']\n",
    "\n",
    "list2 = [i.strip() for i in list1]\n",
    "print(list2)"
   ]
  },
  {
   "cell_type": "markdown",
   "metadata": {},
   "source": [
    "遍历列表后去除空字符"
   ]
  },
  {
   "cell_type": "code",
   "execution_count": null,
   "metadata": {},
   "outputs": [],
   "source": [
    "list3 = [x for x in list2 if x != '']\n",
    "print(list3)"
   ]
  }
 ],
 "metadata": {
  "kernelspec": {
   "display_name": "Python 3",
   "language": "python",
   "name": "python3"
  },
  "language_info": {
   "codemirror_mode": {
    "name": "ipython",
    "version": 3
   },
   "file_extension": ".py",
   "mimetype": "text/x-python",
   "name": "python",
   "nbconvert_exporter": "python",
   "pygments_lexer": "ipython3",
   "version": "3.6.5"
  },
  "toc": {
   "nav_menu": {},
   "number_sections": true,
   "sideBar": true,
   "skip_h1_title": false,
   "title_cell": "Table of Contents",
   "title_sidebar": "Contents",
   "toc_cell": false,
   "toc_position": {},
   "toc_section_display": true,
   "toc_window_display": false
  },
  "varInspector": {
   "cols": {
    "lenName": 16,
    "lenType": 16,
    "lenVar": 40
   },
   "kernels_config": {
    "python": {
     "delete_cmd_postfix": "",
     "delete_cmd_prefix": "del ",
     "library": "var_list.py",
     "varRefreshCmd": "print(var_dic_list())"
    },
    "r": {
     "delete_cmd_postfix": ") ",
     "delete_cmd_prefix": "rm(",
     "library": "var_list.r",
     "varRefreshCmd": "cat(var_dic_list()) "
    }
   },
   "types_to_exclude": [
    "module",
    "function",
    "builtin_function_or_method",
    "instance",
    "_Feature"
   ],
   "window_display": false
  }
 },
 "nbformat": 4,
 "nbformat_minor": 2
}
