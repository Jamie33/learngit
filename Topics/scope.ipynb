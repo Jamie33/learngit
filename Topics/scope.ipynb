{
 "cells": [
  {
   "cell_type": "markdown",
   "metadata": {},
   "source": [
    "---\n",
    "\n",
    "title: Scope in Python\n",
    "date:  2018.4.26\n",
    "categories:  Topics\n",
    "tags:  scope\n",
    "keywords:  scope\n",
    "\n",
    "---"
   ]
  },
  {
   "cell_type": "markdown",
   "metadata": {},
   "source": [
    "##  Python 作用域\n",
    "http://python.jobbole.com/86465/"
   ]
  },
  {
   "cell_type": "markdown",
   "metadata": {},
   "source": [
    "Python中有作用域链，变量会由内到外找，先去自己作用域去找，自己没有再去上级去找，直到找不到报错"
   ]
  },
  {
   "cell_type": "code",
   "execution_count": 44,
   "metadata": {},
   "outputs": [
    {
     "name": "stdout",
     "output_type": "stream",
     "text": [
      "Snor\n"
     ]
    }
   ],
   "source": [
    "name = \"lzl\"\n",
    "def f1():\n",
    "    name = \"Eric\"\n",
    "    def f2():\n",
    "        name = \"Snor\"\n",
    "        print(name)\n",
    "    f2()\n",
    "f1()"
   ]
  },
  {
   "cell_type": "code",
   "execution_count": 45,
   "metadata": {},
   "outputs": [
    {
     "name": "stdout",
     "output_type": "stream",
     "text": [
      "Eric\n"
     ]
    }
   ],
   "source": [
    "name = \"lzl\"\n",
    "def f1():\n",
    "    name = \"Eric\"\n",
    "    def f2():\n",
    "        print(name)\n",
    "    f2()\n",
    "f1()"
   ]
  },
  {
   "cell_type": "code",
   "execution_count": null,
   "metadata": {},
   "outputs": [],
   "source": [
    "在函数未执行之前，作用域已经形成了，作用域链也生成了"
   ]
  },
  {
   "cell_type": "code",
   "execution_count": 7,
   "metadata": {
    "code_folding": []
   },
   "outputs": [
    {
     "name": "stdout",
     "output_type": "stream",
     "text": [
      "lzl\n"
     ]
    }
   ],
   "source": [
    "name = \"lzl\"\n",
    " \n",
    "def f1():\n",
    "    print(name)\n",
    "\n",
    "def f2():\n",
    "    name = \"eric\"\n",
    "    f1()\n",
    "    \n",
    "f2()"
   ]
  },
  {
   "cell_type": "code",
   "execution_count": 8,
   "metadata": {},
   "outputs": [
    {
     "name": "stdout",
     "output_type": "stream",
     "text": [
      "lzl\n"
     ]
    }
   ],
   "source": [
    "name = \"lzl\"\n",
    " \n",
    "def f1():\n",
    "    print(name)\n",
    "\n",
    "def f2():\n",
    "    name = \"eric\"\n",
    "    return f1\n",
    " \n",
    "ret = f2()\n",
    "ret()"
   ]
  },
  {
   "cell_type": "markdown",
   "metadata": {},
   "source": [
    "## [lambda :x for x in range(10)]"
   ]
  },
  {
   "cell_type": "code",
   "execution_count": 31,
   "metadata": {},
   "outputs": [
    {
     "name": "stdout",
     "output_type": "stream",
     "text": [
      "[<function <listcomp>.<lambda> at 0x000001B9CE11F6A8>, <function <listcomp>.<lambda> at 0x000001B9CE11F620>, <function <listcomp>.<lambda> at 0x000001B9CE11F598>, <function <listcomp>.<lambda> at 0x000001B9CE11F2F0>, <function <listcomp>.<lambda> at 0x000001B9CE11F158>, <function <listcomp>.<lambda> at 0x000001B9CE11F268>, <function <listcomp>.<lambda> at 0x000001B9CE11F1E0>, <function <listcomp>.<lambda> at 0x000001B9CE11F488>, <function <listcomp>.<lambda> at 0x000001B9CE11F400>, <function <listcomp>.<lambda> at 0x000001B9CE0742F0>]\n",
      "9\n",
      "9\n",
      "9\n",
      "9\n",
      "9\n",
      "9\n",
      "9\n",
      "9\n",
      "9\n",
      "9\n"
     ]
    }
   ],
   "source": [
    "li = [lambda :x for x in range(10)]\n",
    "print(li)\n",
    "for f in li:\n",
    "    print(f())"
   ]
  },
  {
   "cell_type": "markdown",
   "metadata": {},
   "source": [
    "上面结果所有的都是9，而不是想当然的1-9\n",
    "因为循环10次已经在生产list结束了，所以函数中的x向上找，找到了for循环结束的9\n",
    "然后函数在没有执行前，内部代码不执行\n",
    "上面代码实质如下"
   ]
  },
  {
   "cell_type": "code",
   "execution_count": 26,
   "metadata": {},
   "outputs": [
    {
     "name": "stdout",
     "output_type": "stream",
     "text": [
      "[<function niming at 0x000001B9CE0742F0>, <function niming at 0x000001B9CE074AE8>, <function niming at 0x000001B9CE074048>, <function niming at 0x000001B9CE074730>, <function niming at 0x000001B9CE10DF28>, <function niming at 0x000001B9CE10D730>, <function niming at 0x000001B9CE11F0D0>, <function niming at 0x000001B9CE11F378>, <function niming at 0x000001B9CE11F048>, <function niming at 0x000001B9CE11F9D8>]\n",
      "9\n",
      "9\n",
      "9\n",
      "9\n",
      "9\n",
      "9\n",
      "9\n",
      "9\n",
      "9\n",
      "9\n"
     ]
    }
   ],
   "source": [
    "li = []\n",
    "for x in range(10):    \n",
    "    def niming(): #无参数的函数\n",
    "        return x\n",
    "    li.append(niming)\n",
    "print(li)\n",
    "for f in li:\n",
    "    print(f())"
   ]
  },
  {
   "cell_type": "markdown",
   "metadata": {},
   "source": [
    "## [lambda x=x:x for x in range(10)]\n",
    "\n",
    "把代码稍微修改一下，观察结果\n",
    "\n",
    "https://stackoverflow.com/questions/12332500/x-lambda-x-for-x-in-range3-what-will-x0-return"
   ]
  },
  {
   "cell_type": "code",
   "execution_count": 32,
   "metadata": {},
   "outputs": [
    {
     "name": "stdout",
     "output_type": "stream",
     "text": [
      "[<function <listcomp>.<lambda> at 0x000001B9CE0748C8>, <function <listcomp>.<lambda> at 0x000001B9CE074510>, <function <listcomp>.<lambda> at 0x000001B9CE0741E0>, <function <listcomp>.<lambda> at 0x000001B9CE074AE8>, <function <listcomp>.<lambda> at 0x000001B9CE074A60>, <function <listcomp>.<lambda> at 0x000001B9CE11FE18>, <function <listcomp>.<lambda> at 0x000001B9CE11FEA0>, <function <listcomp>.<lambda> at 0x000001B9CE11FAE8>, <function <listcomp>.<lambda> at 0x000001B9CE11FB70>, <function <listcomp>.<lambda> at 0x000001B9CE11FBF8>]\n",
      "0\n",
      "1\n",
      "2\n",
      "3\n",
      "4\n",
      "5\n",
      "6\n",
      "7\n",
      "8\n",
      "9\n"
     ]
    }
   ],
   "source": [
    "li = [lambda x=x:x for x in range(10)]\n",
    "\n",
    "print(li)\n",
    "for f in li:\n",
    "    print(f())"
   ]
  },
  {
   "cell_type": "code",
   "execution_count": 28,
   "metadata": {},
   "outputs": [
    {
     "name": "stdout",
     "output_type": "stream",
     "text": [
      "[<function niming at 0x000001B9CE074AE8>, <function niming at 0x000001B9CE074048>, <function niming at 0x000001B9CE074730>, <function niming at 0x000001B9CE11F0D0>, <function niming at 0x000001B9CE11F378>, <function niming at 0x000001B9CE11F048>, <function niming at 0x000001B9CE10D6A8>, <function niming at 0x000001B9CE10DF28>, <function niming at 0x000001B9CE10D730>, <function niming at 0x000001B9CE128C80>]\n",
      "0\n",
      "1\n",
      "2\n",
      "3\n",
      "4\n",
      "5\n",
      "6\n",
      "7\n",
      "8\n",
      "9\n"
     ]
    }
   ],
   "source": [
    "li = []\n",
    "for x in range(10):    \n",
    "    def niming(x=x): #有参数，且是默认参数，所以下面f()不放参数也可以运行 为参数提供默认值，调用函数时可传可不传该默认参数的值\n",
    "        return x\n",
    "    li.append(niming)\n",
    "print(li)\n",
    "for f in li:\n",
    "    print(f())"
   ]
  },
  {
   "cell_type": "markdown",
   "metadata": {},
   "source": [
    "# 给妹子讲python--18初探函数作用域\n",
    "\n",
    "https://zhuanlan.zhihu.com/p/33130586\n",
    "\n",
    "四个作用域：LEGB，即L本地作用域，E内嵌作用域，G全局作用域和B内置作用域。\n",
    "\n",
    "在一个函数中定义的是本地作用域，而模块（也就是一个xxx.py文件）中定义的是全局作用域。而内置作用域，我们使用时是直接使用变量名而不需要导入任何模块，比如一些内置的函数名：print等等\n",
    "\n",
    "全局作用域的作用范围仅限于单个文件，别被全局二字所迷惑，这里的全局指的是一个文件的顶层的变量名仅对于这个文件内部的代码而言是全局的，在python中听到全局，你就应该想到模块二字。\n",
    "\n",
    "再说说本地作用域：每次对函数的调用都创建一个新的本地作用域，赋值的变量名除非声明为全局变量或非本地变量，否则均为本地变量。在默认的情况下，所有函数定义的内部变量名都位于本地作用域（与函数调用相关的）内。\n"
   ]
  },
  {
   "cell_type": "code",
   "execution_count": 39,
   "metadata": {},
   "outputs": [
    {
     "name": "stdout",
     "output_type": "stream",
     "text": [
      "99\n",
      "88\n"
     ]
    }
   ],
   "source": [
    "x = 88\n",
    "def func():\n",
    "    x = 99\n",
    "    print(x)\n",
    "\n",
    "func()\n",
    "print(x)"
   ]
  },
  {
   "cell_type": "markdown",
   "metadata": {},
   "source": [
    "在这一段程序中，本地变量名x覆盖了全局变量名x，此时本地和全局的两个变量虽然都叫x，但他们是完全不同的变量。\n"
   ]
  },
  {
   "cell_type": "markdown",
   "metadata": {},
   "source": [
    "## L-E-G-B 变量索引机制\n",
    "\n",
    "当在python中使用某个变量名时，python按照L-E-G-B的顺序依次搜索四个作用域，L本地作用域，E即上一层def或者lambda的本地作用域，之后是全局作用域G，最后是内置作用域B，并且在第一处能找到作用名的地方停下来，如果变量名在这一次搜索中没有找到，python会报错。\n",
    "\n",
    "变量的LEGB索引机制：对一个变量，首先在本地（函数内）查找；之后查找嵌套函数的本地作用域，然后再是查找当前的全局作用域，最后是内置作用域。\n",
    "\n",
    "因此按照LEGB法则中规定的变量搜索顺序，在本地作用域中的变量名是会在本地作用域中覆盖在全局作用域和内置作用域中有相同变量名的变量，全局变量名会覆盖内置的同名变量名。\n",
    "\n",
    "这里我们提到的只是在本地作用域去引用或者覆盖全局变量和内置变量。\n",
    "\n",
    "但是，请注意！如果试图去修改，即在**函数内部试图改变函数外部声明的值，那就得用global和nonlocal关键字了。**\n",
    "\n",
    "- global: 函数内部对全局变量进行引用和修改\n",
    "\n",
    "- nonlocal: 内嵌函数内部想对嵌套作用域中的变量进行引用和修改"
   ]
  },
  {
   "cell_type": "markdown",
   "metadata": {},
   "source": [
    "### global关键字\n",
    "\n",
    "之前我们说过python中的变量不用声明，直接赋值使用，但是这个global关键字看上去就像一个声明，但是他不是一个类型的声明，而是一个变量命名空间的声明，它告诉python函数打算生成一个或多个全局变量。应用他，就可以在函数内部对全局变量进行引用和修改"
   ]
  },
  {
   "cell_type": "code",
   "execution_count": 40,
   "metadata": {},
   "outputs": [
    {
     "name": "stdout",
     "output_type": "stream",
     "text": [
      "99\n"
     ]
    }
   ],
   "source": [
    "x = 88\n",
    "def func():\n",
    "    global x\n",
    "    x = 99\n",
    "\n",
    "func()\n",
    "print(x)"
   ]
  },
  {
   "cell_type": "markdown",
   "metadata": {},
   "source": [
    "在这个例子中，我们对X加了一个global声明，以便在def之内引用并修改位于全局的变量x，而不是产生一个新的本地变量x并将其覆盖"
   ]
  },
  {
   "cell_type": "code",
   "execution_count": 28,
   "metadata": {},
   "outputs": [
    {
     "name": "stdout",
     "output_type": "stream",
     "text": [
      "[88, 99]\n"
     ]
    }
   ],
   "source": [
    "x_list = [88]\n",
    "def func(y):\n",
    "    x_list.append(y)\n",
    "\n",
    "func(99)\n",
    "print(x_list)"
   ]
  },
  {
   "cell_type": "markdown",
   "metadata": {},
   "source": [
    "在这个例子中，不加global声明，也能在def之内修改位于全局的变量x_list, 这是因为列表是可变的对象，不赋值，只是调用 append"
   ]
  },
  {
   "cell_type": "code",
   "execution_count": 42,
   "metadata": {},
   "outputs": [
    {
     "name": "stdout",
     "output_type": "stream",
     "text": [
      "5\n"
     ]
    }
   ],
   "source": [
    "x,y,z = 1,2,3\n",
    "\n",
    "def all_global():\n",
    "    global x\n",
    "    x = y + z\n",
    "\n",
    "all_global()\n",
    "print(x)"
   ]
  },
  {
   "cell_type": "markdown",
   "metadata": {},
   "source": [
    "这个例子中，x，y，z都是全局变量，y和z只是引用值，而对于x，我们想改变他的值，因此用了global进行引用声明。"
   ]
  },
  {
   "cell_type": "markdown",
   "metadata": {},
   "source": [
    "### 嵌套作用域:嵌套函数的本地作用域 E\n",
    "\n",
    "python有一个很有意思的地方，就是def函数可以嵌套在另一个def函数之中。调用外层函数时，运行到的内层def语句仅仅是完成对内层函数的定义，而不会去调用内层函数，除非在嵌套函数之后又显式的对其进行调用。"
   ]
  },
  {
   "cell_type": "code",
   "execution_count": 43,
   "metadata": {},
   "outputs": [
    {
     "name": "stdout",
     "output_type": "stream",
     "text": [
      "88\n"
     ]
    }
   ],
   "source": [
    "x = 99\n",
    "\n",
    "def f1():\n",
    "    x = 88\n",
    "    def f2():\n",
    "        print(x)\n",
    "    f2()\n",
    "\n",
    "f1()"
   ]
  },
  {
   "cell_type": "markdown",
   "metadata": {},
   "source": [
    "### 嵌套作用域的一个特殊之处 (闭包)\n",
    "\n",
    "**本地作用域在函数结束后就立即失效，而嵌套作用域在嵌套的函数返回后却仍然有效。**"
   ]
  },
  {
   "cell_type": "code",
   "execution_count": 46,
   "metadata": {},
   "outputs": [
    {
     "name": "stdout",
     "output_type": "stream",
     "text": [
      "88\n"
     ]
    }
   ],
   "source": [
    "def f1():\n",
    "    x = 88\n",
    "    def f2():\n",
    "        print(x)\n",
    "    return f2\n",
    "\n",
    "action = f1()\n",
    "action()"
   ]
  },
  {
   "cell_type": "markdown",
   "metadata": {},
   "source": [
    "这个例子非常重要，也很有意思，函数f1中定义了函数f2，f2引用了f1嵌套作用域内的变量x，并且f1将函数f2作为返回对象进行返回。最值得注意的是我们通过变量action获取了返回的f2，虽然此时f1函数已经退出结束了，但是f2仍然记住了f1嵌套作用域内的变量名x。\n",
    "\n",
    "上面这种语言现象称之**闭包：一个能记住嵌套作用域变量值的函数，尽管作用域已经不存在。**"
   ]
  },
  {
   "cell_type": "markdown",
   "metadata": {},
   "source": [
    "### 工厂函数\n",
    "\n",
    "这里有一个应用就是工厂函数，工厂函数定义了一个外部的函数，这个函数简单的生成并返回一个内嵌的函数，仅仅是返回却不调用，因此通过调用这个工厂函数，可以得到内嵌函数的一个引用，内嵌函数就是通过调用工厂函数时，运行内部的def语句而创建的"
   ]
  },
  {
   "cell_type": "code",
   "execution_count": 47,
   "metadata": {},
   "outputs": [
    {
     "name": "stdout",
     "output_type": "stream",
     "text": [
      "<function maker.<locals>.action at 0x000001B9CE10DF28>\n"
     ]
    }
   ],
   "source": [
    "def maker(n):\n",
    "    k = 8\n",
    "    def action(x):\n",
    "        return x ** n + k\n",
    "    return action\n",
    "\n",
    "f = maker(2)\n",
    "print(f)"
   ]
  },
  {
   "cell_type": "code",
   "execution_count": 48,
   "metadata": {},
   "outputs": [
    {
     "name": "stdout",
     "output_type": "stream",
     "text": [
      "24\n"
     ]
    }
   ],
   "source": [
    "def maker(n):\n",
    "    k = 8\n",
    "    def action(x):\n",
    "        return x ** n + k\n",
    "    return action\n",
    "\n",
    "f = maker(2)\n",
    "print(f(4))"
   ]
  },
  {
   "cell_type": "markdown",
   "metadata": {},
   "source": [
    "这里我们可以看出，内嵌的函数action记住了嵌套作用域内得两个嵌套变量，一个是变量k，一个是参数n，即使后面maker返回并退出。我们通过调用外部的函数maker，得到内嵌的函数action的引用。这种函数嵌套的方法在后面要介绍的装饰器中会经常用到。这种嵌套作用域引用，就是python的函数能够保留状态信息的主要方法了。"
   ]
  },
  {
   "cell_type": "markdown",
   "metadata": {},
   "source": [
    "### 关键字nonlocal\n",
    "\n",
    "本地函数通过global声明对全局变量进行引用修改，那么对应的，内嵌函数内部想对嵌套作用域中的变量进行修改，就要使用nonlocal进行声明。\n",
    "\n",
    "不是一个类型的声明，而是一个变量命名空间的声明"
   ]
  },
  {
   "cell_type": "code",
   "execution_count": null,
   "metadata": {},
   "outputs": [],
   "source": [
    "x = 88 #全局变量\n",
    "def func():\n",
    "    global x  # 本地函数对全局变量修改，要用 global 声明 \n",
    "    x = 99\n",
    "\n",
    "func()\n",
    "print(x)"
   ]
  },
  {
   "cell_type": "code",
   "execution_count": 5,
   "metadata": {},
   "outputs": [
    {
     "name": "stdout",
     "output_type": "stream",
     "text": [
      "<function test.<locals>.nested at 0x0000026EBB2B4BF8>\n",
      "a 1\n",
      "a 2\n",
      "a 3\n",
      "mm 101\n"
     ]
    }
   ],
   "source": [
    "def test(num):\n",
    "    in_num = num # 嵌套作用域中的变量 \n",
    "    def nested(label):\n",
    "        nonlocal in_num #内嵌函数对嵌套作用域中的变量修改\n",
    "        in_num += 1\n",
    "        print(label, in_num)\n",
    "    return nested\n",
    "\n",
    "F = test(0)# test函数已经退出调用，但F仍然记着变量in_num \n",
    "print(F)\n",
    "F('a') #由于我们使用了nonlocal，就可以在nested函数内修改它\n",
    "F('a') #前面 in_num 已经修改成 1\n",
    "F('a') #前面 in_num 已经修改成 2\n",
    "\n",
    "\n",
    "G = test(100) \n",
    "G('mm')\n",
    "# 多次调用工厂函数返回的不同内嵌函数副本F和G，彼此间的内嵌变量in_num是彼此独立隔离的。"
   ]
  },
  {
   "cell_type": "markdown",
   "metadata": {},
   "source": [
    "我们在nested函数中通过nonlocal关键字引用了内嵌作用域中的变量in_num，那么我们就可以在nested函数中修改他，即使test函数已经退出调用，这个“记忆”依然有效。\n",
    "\n",
    "对比下面的例子"
   ]
  },
  {
   "cell_type": "code",
   "execution_count": 2,
   "metadata": {},
   "outputs": [
    {
     "name": "stdout",
     "output_type": "stream",
     "text": [
      "<function test.<locals>.nested at 0x04EB0420>\n",
      "(<cell at 0x00A936D0: int object at 0x52D5E300>,)\n",
      "a 0\n",
      "a 0\n",
      "a 0\n"
     ]
    }
   ],
   "source": [
    "def test(num):\n",
    "    in_num = num # 嵌套作用域中的变量\n",
    "    def nested(label):\n",
    "        print(label, in_num) #本地（函数内）作用域\n",
    "    return nested\n",
    "\n",
    "F = test(0)# test函数已经退出调用，但F仍然记着变量in_num \n",
    "print(F)\n",
    "print(F.__closure__)\n",
    "F('a') #本地作用域中的 in_num 引用了嵌套作用域中的变量 in_num\n",
    "F('a') #in_mun 只是引用，不能修改，所以一直都是0\n",
    "F('a') #in_mun 只是引用，不能修改，所以一直都是0"
   ]
  },
  {
   "cell_type": "markdown",
   "metadata": {},
   "source": [
    "# 流畅的python\n",
    "\n",
    "## 函数装饰器和闭包\n",
    "\n",
    "### 变量作用域规则"
   ]
  },
  {
   "cell_type": "code",
   "execution_count": 3,
   "metadata": {},
   "outputs": [
    {
     "name": "stdout",
     "output_type": "stream",
     "text": [
      "3\n",
      "6\n"
     ]
    }
   ],
   "source": [
    "b = 6  # 全局变量b\n",
    "def f1(a):\n",
    "    print(a)  # 局部变量a\n",
    "    print(b) \n",
    "    \n",
    "f1(3)"
   ]
  },
  {
   "cell_type": "markdown",
   "metadata": {},
   "source": [
    "下面看一个可能会让你吃惊的示例。"
   ]
  },
  {
   "cell_type": "code",
   "execution_count": 5,
   "metadata": {},
   "outputs": [
    {
     "name": "stdout",
     "output_type": "stream",
     "text": [
      "3\n"
     ]
    },
    {
     "ename": "UnboundLocalError",
     "evalue": "local variable 'b' referenced before assignment",
     "output_type": "error",
     "traceback": [
      "\u001b[1;31m---------------------------------------------------------------------------\u001b[0m",
      "\u001b[1;31mUnboundLocalError\u001b[0m                         Traceback (most recent call last)",
      "\u001b[1;32m<ipython-input-5-898abd7dedcf>\u001b[0m in \u001b[0;36m<module>\u001b[1;34m()\u001b[0m\n\u001b[0;32m      5\u001b[0m     \u001b[0mb\u001b[0m \u001b[1;33m=\u001b[0m \u001b[1;36m9\u001b[0m\u001b[1;33m\u001b[0m\u001b[0m\n\u001b[0;32m      6\u001b[0m \u001b[1;33m\u001b[0m\u001b[0m\n\u001b[1;32m----> 7\u001b[1;33m \u001b[0mf2\u001b[0m\u001b[1;33m(\u001b[0m\u001b[1;36m3\u001b[0m\u001b[1;33m)\u001b[0m\u001b[1;33m\u001b[0m\u001b[0m\n\u001b[0m",
      "\u001b[1;32m<ipython-input-5-898abd7dedcf>\u001b[0m in \u001b[0;36mf2\u001b[1;34m(a)\u001b[0m\n\u001b[0;32m      2\u001b[0m \u001b[1;32mdef\u001b[0m \u001b[0mf2\u001b[0m\u001b[1;33m(\u001b[0m\u001b[0ma\u001b[0m\u001b[1;33m)\u001b[0m\u001b[1;33m:\u001b[0m\u001b[1;33m\u001b[0m\u001b[0m\n\u001b[0;32m      3\u001b[0m     \u001b[0mprint\u001b[0m\u001b[1;33m(\u001b[0m\u001b[0ma\u001b[0m\u001b[1;33m)\u001b[0m  \u001b[1;31m# 局部变量a\u001b[0m\u001b[1;33m\u001b[0m\u001b[0m\n\u001b[1;32m----> 4\u001b[1;33m     \u001b[0mprint\u001b[0m\u001b[1;33m(\u001b[0m\u001b[0mb\u001b[0m\u001b[1;33m)\u001b[0m\u001b[1;33m\u001b[0m\u001b[0m\n\u001b[0m\u001b[0;32m      5\u001b[0m     \u001b[0mb\u001b[0m \u001b[1;33m=\u001b[0m \u001b[1;36m9\u001b[0m\u001b[1;33m\u001b[0m\u001b[0m\n\u001b[0;32m      6\u001b[0m \u001b[1;33m\u001b[0m\u001b[0m\n",
      "\u001b[1;31mUnboundLocalError\u001b[0m: local variable 'b' referenced before assignment"
     ]
    }
   ],
   "source": [
    "b = 6  # 全局变量b\n",
    "def f2(a):\n",
    "    print(a)  # 局部变量a\n",
    "    print(b)  # 局部变量b\n",
    "    b = 9\n",
    "    \n",
    "f2(3)"
   ]
  },
  {
   "cell_type": "markdown",
   "metadata": {},
   "source": [
    "注意，首先输出了 3，这表明 print(a) 语句执行了。但是第二个语句 print(b) 执行不了。一开始我很吃惊，我觉得会打印 6，因为有个全局变量 b，而且是在 print(b) 之后为局部变量 b 赋值的。\n",
    "\n",
    "可事实是，**Python 编译函数的定义体时，它判断 b 是局部变量，因为在函数中给它赋了。**生成的字节码证实了这种判断，Python 会尝试从本地环境获取 b。后面调用 f2(3)时， f2 的定义体会获取并打印局部变量 a 的值，但是尝试获取局部变量 b 的值时，b 没有绑定值。\n",
    "\n",
    "\n",
    "### Python 如何判断变量是不是局部的\n",
    "\n",
    "这不是缺陷，而是设计选择：Python 不要求声明变量，但是假定在函数定义体中赋值量是局部变量。这比 JavaScript 的行为好多了，JavaScript 也不要求声明变量，但是如忘记把变量声明为局部变量（使用 var），可能会在不知情的情况下获取全局变量。\n",
    "\n",
    "**比较 f1 和 f2 的字节码**\n",
    "\n",
    "dis 模块为反汇编 Python 函数字节码提供了简单的方式。"
   ]
  },
  {
   "cell_type": "code",
   "execution_count": 6,
   "metadata": {},
   "outputs": [
    {
     "name": "stdout",
     "output_type": "stream",
     "text": [
      "  3           0 LOAD_GLOBAL              0 (print)\n",
      "              2 LOAD_FAST                0 (a)\n",
      "              4 CALL_FUNCTION            1\n",
      "              6 POP_TOP\n",
      "\n",
      "  4           8 LOAD_GLOBAL              0 (print)\n",
      "             10 LOAD_GLOBAL              1 (b)\n",
      "             12 CALL_FUNCTION            1\n",
      "             14 POP_TOP\n",
      "             16 LOAD_CONST               0 (None)\n",
      "             18 RETURN_VALUE\n"
     ]
    }
   ],
   "source": [
    "from dis import dis\n",
    "dis(f1)"
   ]
  },
  {
   "cell_type": "markdown",
   "metadata": {},
   "source": [
    "`0 LOAD_GLOBAL          0 (print)`   加载全局名称 print\n",
    "\n",
    "`2 LOAD_FAST                0 (a)`  加载本地名称 a\n",
    "\n",
    "` 10 LOAD_GLOBAL            1 (b)` 加载全局名称 b"
   ]
  },
  {
   "cell_type": "code",
   "execution_count": 7,
   "metadata": {},
   "outputs": [
    {
     "name": "stdout",
     "output_type": "stream",
     "text": [
      "  3           0 LOAD_GLOBAL              0 (print)\n",
      "              2 LOAD_FAST                0 (a)\n",
      "              4 CALL_FUNCTION            1\n",
      "              6 POP_TOP\n",
      "\n",
      "  4           8 LOAD_GLOBAL              0 (print)\n",
      "             10 LOAD_FAST                1 (b)\n",
      "             12 CALL_FUNCTION            1\n",
      "             14 POP_TOP\n",
      "\n",
      "  5          16 LOAD_CONST               1 (9)\n",
      "             18 STORE_FAST               1 (b)\n",
      "             20 LOAD_CONST               0 (None)\n",
      "             22 RETURN_VALUE\n"
     ]
    }
   ],
   "source": [
    "from dis import dis\n",
    "dis(f2)"
   ]
  },
  {
   "cell_type": "markdown",
   "metadata": {},
   "source": [
    "`10 LOAD_FAST                1 (b)`  加载本地名称 b\n",
    "\n",
    "这表明，编译器把 b 视作局部变量，即使在后面才为 b 赋值，因为变量的种类（是不是局部变量）不能改变函数的定义体。\n",
    "\n",
    "如果在函数中赋值时想让解释器把 b 当成全局变量，要使用**global 声明**"
   ]
  },
  {
   "cell_type": "code",
   "execution_count": 8,
   "metadata": {},
   "outputs": [
    {
     "name": "stdout",
     "output_type": "stream",
     "text": [
      "3\n",
      "6\n",
      "3\n",
      "9\n"
     ]
    }
   ],
   "source": [
    "b = 6  # 全局变量b\n",
    "def f3(a):\n",
    "    global b\n",
    "    print(a)  # 局部变量a\n",
    "    print(b)  # 全局变量b\n",
    "    b = 9\n",
    "    \n",
    "f3(3)\n",
    "f3(3)"
   ]
  },
  {
   "cell_type": "markdown",
   "metadata": {},
   "source": [
    "### 闭包\n",
    "\n",
    "假如有个名为 avg 的函数，它的作用是计算不断增加的系列值的均值；例如，整个历史中某个商品的平均收盘价。每天都会增加新价格，因此平均值要考虑至目前为止所有的价格。\n",
    "\n",
    "起初，avg 是这样使用的：\n",
    "\n",
    "\n",
    "```\n",
    ">>> avg(10)\n",
    "10.0\n",
    ">>> avg(11)\n",
    "10.5\n",
    ">>> avg(12)\n",
    "11.0\n",
    "```\n",
    "\n",
    "如何实现上述功能？\n",
    "\n",
    "#### 示例1: 使用类实现\n",
    "\n",
    "任何类，只需要定义一个\\__call__()方法，就可以直接对实例进行调用"
   ]
  },
  {
   "cell_type": "code",
   "execution_count": 10,
   "metadata": {},
   "outputs": [
    {
     "name": "stdout",
     "output_type": "stream",
     "text": [
      "10.0\n",
      "10.5\n",
      "11.0\n"
     ]
    }
   ],
   "source": [
    "class Averager():\n",
    "    \n",
    "    def __init__(self):\n",
    "        self.series = []\n",
    "    \n",
    "    def __call__(self,new_value):\n",
    "        self.series.append(new_value)\n",
    "        total = sum(self.series)\n",
    "        return total/len(self.series)\n",
    "    \n",
    "avg = Averager() # 创建实例 有了__init__方法，在创建实例的时候，就不能传入空的参数了，必须传入与__init__方法匹配的参数，但self不需要传\n",
    "print(avg(10)) # 实例调用，必须传入与__call__方法匹配的参数，但self不需要传\n",
    "print(avg(11))\n",
    "print(avg(12))"
   ]
  },
  {
   "cell_type": "markdown",
   "metadata": {},
   "source": [
    "#### 示例2: 使用高阶函数实现\n",
    "\n",
    "接受函数为参数，或者把函数作为结果返回的函数是高阶函数（higher-order function）。"
   ]
  },
  {
   "cell_type": "code",
   "execution_count": 14,
   "metadata": {},
   "outputs": [
    {
     "name": "stdout",
     "output_type": "stream",
     "text": [
      "10.0\n",
      "10.5\n",
      "11.0\n"
     ]
    }
   ],
   "source": [
    "def make_averager():\n",
    "    series = []\n",
    "    \n",
    "    def averager(new_value):\n",
    "        series.append(new_value)\n",
    "        total = sum(series)\n",
    "        return total/len(series)\n",
    "    return averager \n",
    "\n",
    "avg = make_averager()\n",
    "print(avg(10)) \n",
    "print(avg(11))\n",
    "print(avg(12))"
   ]
  },
  {
   "attachments": {},
   "cell_type": "markdown",
   "metadata": {},
   "source": [
    "调用 make_averager 时，返回一个 averager 函数对象。每次调用 averager 时，它会把参数添加到系列值中，然后计算当前平均值.\n",
    "\n",
    "注意，这两个示例有共通之处：调用 Averager() 或 make_averager() 得到一个可调用对象 avg，它会更新历史值，然后计算当前均值。在示例1 中，avg 是 Averager 的实例；在示例2 中是内部函数 averager。不管怎样，我们都只需调用 avg(n)，把 n 放入系列值中，然后重新计算均值。\n",
    "\n",
    "Averager 类的实例 avg 在哪里存储历史值很明显：self.series 实例属性。但是第二个示例中的 avg 函数在哪里寻找 series 呢？\n",
    "\n",
    "注意，series 是 make_averager 函数的局部变量，因为那个函数的定义体中初始化了series：series = []。可是，调用 avg(10) 时，make_averager 函数已经返回了，而它的本地作用域也一去不复返了。\n",
    "\n",
    "在 averager 函数中，series 是自由变量（free variable）。这是一个技术术语，指未在本地作用域中绑定的变量，参加下图\n",
    "\n",
    "![闭包](closure.png ''closure'')\n",
    "\n",
    "上图：averager 的闭包延伸到那个函数的作用域之外，包含自由变量 series 的绑定\n",
    "\n",
    "审查返回的 averager 对象，我们发现 Python 在 __code__ 属性（表示编译后的函数定义体）中保存局部变量和自由变量的名称，"
   ]
  },
  {
   "cell_type": "code",
   "execution_count": 18,
   "metadata": {},
   "outputs": [
    {
     "name": "stdout",
     "output_type": "stream",
     "text": [
      "('new_value', 'total')\n",
      "('series',)\n"
     ]
    }
   ],
   "source": [
    "print(avg.__code__.co_varnames)\n",
    "print(avg.__code__.co_freevars)"
   ]
  },
  {
   "cell_type": "markdown",
   "metadata": {},
   "source": [
    "series 的绑定在返回的 avg 函数的 __closure__ 属性中。avg.__closure__ 中的各个元素对应于 avg.__code__.co_freevars 中的一个名称。这些元素是 cell 对象，有个 cell_contents 属性，保存着真正的值。这些属性的值如下"
   ]
  },
  {
   "cell_type": "code",
   "execution_count": 23,
   "metadata": {},
   "outputs": [
    {
     "name": "stdout",
     "output_type": "stream",
     "text": [
      "(<cell at 0x00AA4FB0: list object at 0x00AAB4B8>,)\n",
      "[10, 11, 12]\n"
     ]
    }
   ],
   "source": [
    "print(avg.__closure__)\n",
    "print(avg.__closure__[0].cell_contents)"
   ]
  },
  {
   "cell_type": "markdown",
   "metadata": {},
   "source": [
    "综上，闭包是一种函数，它会保留定义函数时存在的自由变量的绑定，这样调用函数时，虽然定义作用域不可用了，但是仍能使用那些绑定。\n",
    "\n",
    "注意，只有嵌套在其他函数中的函数才可能需要处理不在全局作用域中的外部变量。\n",
    "\n",
    "### nonlocal声明\n",
    "\n",
    "前面实现 make_averager 函数的方法效率不高。在示例 7-9 中，我们把所有值存储在历史数列中，然后在每次调用 averager 时使用 sum 求和。更好的实现方式是，只存储目前的总值和元素个数，然后使用这两个数计算均值。\n",
    "\n",
    "计算移动平均值的高阶函数，不保存所有历史值，但有缺陷"
   ]
  },
  {
   "cell_type": "code",
   "execution_count": 29,
   "metadata": {},
   "outputs": [
    {
     "ename": "UnboundLocalError",
     "evalue": "local variable 'count' referenced before assignment",
     "output_type": "error",
     "traceback": [
      "\u001b[1;31m---------------------------------------------------------------------------\u001b[0m",
      "\u001b[1;31mUnboundLocalError\u001b[0m                         Traceback (most recent call last)",
      "\u001b[1;32m<ipython-input-29-cb728e3ec79b>\u001b[0m in \u001b[0;36m<module>\u001b[1;34m()\u001b[0m\n\u001b[0;32m     10\u001b[0m \u001b[1;33m\u001b[0m\u001b[0m\n\u001b[0;32m     11\u001b[0m \u001b[0mavg\u001b[0m \u001b[1;33m=\u001b[0m \u001b[0mmake_averager\u001b[0m\u001b[1;33m(\u001b[0m\u001b[1;33m)\u001b[0m\u001b[1;33m\u001b[0m\u001b[0m\n\u001b[1;32m---> 12\u001b[1;33m \u001b[0mprint\u001b[0m\u001b[1;33m(\u001b[0m\u001b[0mavg\u001b[0m\u001b[1;33m(\u001b[0m\u001b[1;36m10\u001b[0m\u001b[1;33m)\u001b[0m\u001b[1;33m)\u001b[0m\u001b[1;33m\u001b[0m\u001b[0m\n\u001b[0m",
      "\u001b[1;32m<ipython-input-29-cb728e3ec79b>\u001b[0m in \u001b[0;36maverager\u001b[1;34m(new_value)\u001b[0m\n\u001b[0;32m      4\u001b[0m \u001b[1;33m\u001b[0m\u001b[0m\n\u001b[0;32m      5\u001b[0m     \u001b[1;32mdef\u001b[0m \u001b[0maverager\u001b[0m\u001b[1;33m(\u001b[0m\u001b[0mnew_value\u001b[0m\u001b[1;33m)\u001b[0m\u001b[1;33m:\u001b[0m\u001b[1;33m\u001b[0m\u001b[0m\n\u001b[1;32m----> 6\u001b[1;33m         \u001b[0mcount\u001b[0m \u001b[1;33m+=\u001b[0m \u001b[1;36m1\u001b[0m\u001b[1;33m\u001b[0m\u001b[0m\n\u001b[0m\u001b[0;32m      7\u001b[0m         \u001b[0mtotal\u001b[0m \u001b[1;33m+=\u001b[0m \u001b[0mnew_value\u001b[0m\u001b[1;33m\u001b[0m\u001b[0m\n\u001b[0;32m      8\u001b[0m         \u001b[1;32mreturn\u001b[0m \u001b[0mtotal\u001b[0m\u001b[1;33m/\u001b[0m\u001b[0mcount\u001b[0m\u001b[1;33m\u001b[0m\u001b[0m\n",
      "\u001b[1;31mUnboundLocalError\u001b[0m: local variable 'count' referenced before assignment"
     ]
    }
   ],
   "source": [
    "def make_averager():\n",
    "    count = 0\n",
    "    total = 0 \n",
    "    \n",
    "    def averager(new_value):\n",
    "        count += 1\n",
    "        total += new_value\n",
    "        return total/count\n",
    "    return averager \n",
    "\n",
    "avg = make_averager()\n",
    "print(avg(10)) "
   ]
  },
  {
   "cell_type": "markdown",
   "metadata": {},
   "source": [
    "问题是，当 count 是数字或任何不可变类型时，count += 1 语句的作用其实与 count = count + 1 一样。因此，我们在 averager 的定义体中为 count 赋值了，这会把count 变成局部变量。total 变量也受这个问题影响。示例 2 没遇到这个问题，因为我们没有给 series 赋值，我们只是调用series.append，并把它传给 sum 和 len。也就是说，我们利用了列表是可变的对象这一事实。\n",
    "\n",
    "但是对数字、字符串、元组等不可变类型来说，只能读取，不能更新。如果尝试重新绑定，例如 count = count + 1，其实会隐式创建局部变量 count。这样，count 就不是自由变量了，因此不会保存在闭包中。\n",
    "\n",
    "为了解决这个问题，Python 3 引入了 nonlocal 声明。它的作用是把变量标记为自由变量，即使在函数中为变量赋予新值了，也会变成自由变量。如果为 nonlocal 声明的变量赋予新值，闭包中保存的绑定会更新。"
   ]
  },
  {
   "cell_type": "code",
   "execution_count": 31,
   "metadata": {},
   "outputs": [
    {
     "name": "stdout",
     "output_type": "stream",
     "text": [
      "10.0\n",
      "10.5\n",
      "11.0\n"
     ]
    }
   ],
   "source": [
    "def make_averager():\n",
    "    count = 0\n",
    "    total = 0 \n",
    "    \n",
    "    def averager(new_value):\n",
    "        nonlocal count,total\n",
    "        count += 1\n",
    "        total += new_value\n",
    "        return total/count\n",
    "    return averager \n",
    "\n",
    "avg = make_averager()\n",
    "print(avg(10)) \n",
    "print(avg(11))\n",
    "print(avg(12))"
   ]
  },
  {
   "cell_type": "code",
   "execution_count": null,
   "metadata": {},
   "outputs": [],
   "source": []
  }
 ],
 "metadata": {
  "kernelspec": {
   "display_name": "Python 3",
   "language": "python",
   "name": "python3"
  },
  "language_info": {
   "codemirror_mode": {
    "name": "ipython",
    "version": 3
   },
   "file_extension": ".py",
   "mimetype": "text/x-python",
   "name": "python",
   "nbconvert_exporter": "python",
   "pygments_lexer": "ipython3",
   "version": "3.6.5"
  },
  "toc": {
   "nav_menu": {},
   "number_sections": true,
   "sideBar": true,
   "skip_h1_title": false,
   "title_cell": "Table of Contents",
   "title_sidebar": "Contents",
   "toc_cell": false,
   "toc_position": {},
   "toc_section_display": true,
   "toc_window_display": false
  },
  "varInspector": {
   "cols": {
    "lenName": 16,
    "lenType": 16,
    "lenVar": 40
   },
   "kernels_config": {
    "python": {
     "delete_cmd_postfix": "",
     "delete_cmd_prefix": "del ",
     "library": "var_list.py",
     "varRefreshCmd": "print(var_dic_list())"
    },
    "r": {
     "delete_cmd_postfix": ") ",
     "delete_cmd_prefix": "rm(",
     "library": "var_list.r",
     "varRefreshCmd": "cat(var_dic_list()) "
    }
   },
   "types_to_exclude": [
    "module",
    "function",
    "builtin_function_or_method",
    "instance",
    "_Feature"
   ],
   "window_display": false
  }
 },
 "nbformat": 4,
 "nbformat_minor": 2
}
