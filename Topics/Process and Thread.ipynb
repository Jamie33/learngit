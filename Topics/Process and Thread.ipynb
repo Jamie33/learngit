{
 "cells": [
  {
   "cell_type": "markdown",
   "metadata": {},
   "source": [
    "## 什么是多任务？\n",
    "\n",
    "简单地说，就是操作系统可以同时运行多个任务。打个比方，你一边在用浏览器上网，一边在听MP3，一边在用Word赶作业，这就是多任务，至少同时有3个任务正在运行。还有很多任务悄悄地在后台同时运行着，只是桌面上没有显示而已。\n",
    "\n",
    "## 单核CPU如何执行多任务？\n",
    "\n",
    "现在，多核CPU已经非常普及了，但是，即使过去的单核CPU，也可以执行多任务。由于CPU执行代码都是顺序执行的，那么，单核CPU是怎么执行多任务的呢？\n",
    "\n",
    "答案就是操作系统轮流让各个任务交替执行，任务1执行0.01秒，切换到任务2，任务2执行0.01秒，再切换到任务3，执行0.01秒……这样反复执行下去。表面上看，每个任务都是交替执行的，但是，由于CPU的执行速度实在是太快了，我们感觉就像所有任务都在同时执行一样。\n",
    "\n",
    "真正的并行执行多任务只能在多核CPU上实现，但是，由于任务数量远远多于CPU的核心数量，所以，操作系统也会自动把很多任务轮流调度到每个核心上执行。\n",
    "\n",
    "## 进程和线程是什么？\n",
    "\n",
    "对于操作系统来说，一个任务就是一个进程（Process），比如打开一个浏览器就是启动一个浏览器进程，打开一个记事本就启动了一个记事本进程，打开两个记事本就启动了两个记事本进程，打开一个Word就启动了一个Word进程。\n",
    "\n",
    "有些进程还不止同时干一件事，比如Word，它可以同时进行打字、拼写检查、打印等事情。在一个进程内部，要同时干多件事，就需要同时运行多个“子任务”，我们把进程内的这些“子任务”称为线程（Thread）。\n",
    "\n",
    "\n",
    "## 多线程的执行方式和多进程是一样的\n",
    "\n",
    "由于每个进程至少要干一件事，所以，一个进程至少有一个线程。当然，像Word这种复杂的进程可以有多个线程，多个线程可以同时执行，多线程的执行方式和多进程是一样的，也是由操作系统在多个线程之间快速切换，让每个线程都短暂地交替运行，看起来就像同时执行一样。当然，真正地同时执行多线程需要多核CPU才可能实现。\n",
    "\n",
    "## 同时执行多个任务怎么办？\n",
    "\n",
    "有两种解决方案：\n",
    "\n",
    "一种是启动多个进程，每个进程虽然只有一个线程，但多个进程可以一块执行多个任务。\n",
    "\n",
    "还有一种方法是启动一个进程，在一个进程内启动多个线程，这样，多个线程也可以一块执行多个任务。\n",
    "\n",
    "当然还有第三种方法，就是启动多个进程，每个进程再启动多个线程，这样同时执行的任务就更多了，当然这种模型更复杂，实际很少采用。\n",
    "\n",
    "总结一下就是，多任务的实现有3种方式：\n",
    "\n",
    "多进程模式；\n",
    "多线程模式；\n",
    "多进程+多线程模式。\n",
    "\n",
    "同时执行多个任务通常各个任务之间并不是没有关联的，而是需要相互通信和协调，有时，任务1必须暂停等待任务2完成后才能继续执行，有时，任务3和任务4又不能同时执行，所以，多进程和多线程的程序的复杂度要远远高于我们前面写的单进程单线程的程序。\n",
    "\n",
    "因为复杂度高，调试困难，所以，不是迫不得已，我们也不想编写多任务。但是，有很多时候，没有多任务还真不行。想想在电脑上看电影，就必须由一个线程播放视频，另一个线程播放音频，否则，单线程实现的话就只能先把视频播放完再播放音频，或者先把音频播放完再播放视频，这显然是不行的。\n",
    "\n",
    "Python既支持多进程，又支持多线程\n",
    "\n",
    "## 小结\n",
    "\n",
    "线程是最小的执行单元，而进程由至少一个线程组成。如何调度进程和线程，完全由操作系统决定，程序自己不能决定什么时候执行，执行多长时间。\n",
    "\n",
    "多进程和多线程的程序涉及到同步、数据共享的问题，编写起来更复杂。\n"
   ]
  },
  {
   "cell_type": "markdown",
   "metadata": {},
   "source": [
    "## 多进程\n",
    "\n",
    "Unix/Linux操作系统提供了一个fork()系统调用，它非常特殊。普通的函数调用，调用一次，返回一次，但是fork()调用一次，返回两次，因为操作系统自动把当前进程（称为父进程）复制了一份（称为子进程），然后，分别在父进程和子进程内返回。\n",
    "\n",
    "子进程永远返回0，而父进程返回子进程的ID。这样做的理由是，一个父进程可以fork出很多子进程，所以，父进程要记下每个子进程的ID，而子进程只需要调用getppid()就可以拿到父进程的ID。\n",
    "\n",
    "Python的os模块封装了常见的系统调用，其中就包括fork，可以在Python程序中轻松创建子进程：\n",
    "\n"
   ]
  },
  {
   "cell_type": "code",
   "execution_count": 1,
   "metadata": {},
   "outputs": [
    {
     "name": "stdout",
     "output_type": "stream",
     "text": [
      "I am learning multiprocesses\n",
      "I am learning multiprocesses\n"
     ]
    }
   ],
   "source": [
    "import os\n",
    "os.fork()\n",
    "print('I am learning multiprocesses')\n",
    "\n",
    "# fork函数一旦运行就会生出一条新的进程，2个进程一起执行导致输出了2行。"
   ]
  },
  {
   "cell_type": "markdown",
   "metadata": {},
   "source": [
    "## fork进程创建子进程后的程序流程\n",
    "\n",
    "使用fork创建子进程后，子进程会复制父进程的数据信息，而后程序就分两个进程继续运行后面的程序，这也是fork（分叉）名字的含义了。在子进程内，这个方法会返回0；在父进程内，这个方法会返回子进程的编号PID。可以使用PID来区分两个进程\n",
    "\n",
    "windows系统下没有fork()调用,so,只能在posix的系统下执行(Unix,Linux,Mac,BSD...)\n",
    "\n",
    "os.getpid()是获取的是当前进程的进程号\n",
    "\n",
    "os.getppid()是获取当前进程的父进程的进程号"
   ]
  },
  {
   "cell_type": "code",
   "execution_count": 2,
   "metadata": {
    "code_folding": []
   },
   "outputs": [
    {
     "name": "stdout",
     "output_type": "stream",
     "text": [
      "Process (4037) start...\n",
      "I (4037) just created a child process (4108).\n",
      "I am child process (4108) and my parent is 4037.\n"
     ]
    }
   ],
   "source": [
    "import os\n",
    "\n",
    "print('Process (%s) start...' % os.getpid())\n",
    "# Only works on Unix/Linux/Mac:\n",
    "pid = os.fork() # 调用os.fork()函数\n",
    "if pid == 0:\n",
    "    print('I am child process (%s) and my parent is %s.' % (os.getpid(), os.getppid()))\n",
    "    # 在子进程内，os.fork()返回0\n",
    "else:\n",
    "    print('I (%s) just created a child process (%s).' % (os.getpid(), pid))\n",
    "    # 在父进程内，os.fork()会返回子进程的编号 ID    \n",
    "    "
   ]
  },
  {
   "cell_type": "markdown",
   "metadata": {},
   "source": [
    "## multiprocessing 多进程\n",
    "\n",
    "### Process(\\[group [, target [, name [, args [, kwargs]]]]])\n",
    "\n",
    "target：如果传递了函数的引用，可以认为这个子进程就执行这里的代码\n",
    "\n",
    "args：给target指定的函数传递的参数，以元组的方式传递\n",
    "\n",
    "kwargs：给target指定的函数传递命名参数\n",
    "\n",
    "name：给进程设定一个名字，可以不设定\n",
    "\n",
    "group：指定进程组，大多数情况下用不到\n",
    "\n",
    "\n",
    "### Process创建的实例对象的常用方法\n",
    "\n",
    "start()：启动子进程实例（创建子进程）\n",
    "\n",
    "is_alive()：判断进程子进程是否还在活着\n",
    "\n",
    "join([timeout])：是否等待子进程执行结束，或等待多少秒\n",
    "\n",
    "join方法的作用是阻塞，等待子线程结束，join方法有一个参数是timeout，即如果主线程等待timeout，子线程还没有结束，则主线程强制结束子线程。\n",
    "\n",
    "terminate()：不管任务是否完成，立即终止子进程\n",
    "\n",
    "\n",
    "### Process创建的实例对象的常用属性：\n",
    "\n",
    "name：当前进程的别名，默认为Process-N，N为从1开始递增的整数\n",
    "\n",
    "pid：当前进程的pid（进程号）"
   ]
  },
  {
   "cell_type": "code",
   "execution_count": 4,
   "metadata": {},
   "outputs": [
    {
     "name": "stdout",
     "output_type": "stream",
     "text": [
      "Parent process 4037\n",
      "Child Process will start.\n",
      "Run child process text (4174)\n",
      "Child process end.\n"
     ]
    }
   ],
   "source": [
    "from multiprocessing import Process\n",
    "import os\n",
    "\n",
    "#子进程要执行的代码\n",
    "def run_proc(name):\n",
    "    print('Run child process {} ({})'.format(name,os.getpid()))\n",
    "    \n",
    "print('Parent process {}'.format(os.getpid()))\n",
    "p = Process(target=run_proc,args=('text',))\n",
    "print('Child Process will start.')\n",
    "p.start  #启动进程\n",
    "p.join() #等待子进程结束后再继续往下运行，通常用于进程间的同步。\n",
    "print('Child process end.')\n",
    "    "
   ]
  },
  {
   "cell_type": "markdown",
   "metadata": {},
   "source": [
    "创建子进程时，只需要传入一个执行函数和函数的参数，创建一个Process实例，用start()方法启动，这样创建进程比fork()还要简单。\n",
    "\n",
    "join()方法可以等待子进程结束后再继续往下运行，通常用于进程间的同步。"
   ]
  },
  {
   "cell_type": "markdown",
   "metadata": {},
   "source": [
    "## Pool 进程池\n",
    "\n",
    "如果要启动大量的子进程，可以用进程池的方式批量创建子进程"
   ]
  },
  {
   "cell_type": "code",
   "execution_count": 17,
   "metadata": {},
   "outputs": [
    {
     "name": "stdout",
     "output_type": "stream",
     "text": [
      "Parent procee 4037\n",
      "Run task 1 (4221)\n",
      "Run task 0 (4220)\n",
      "Run task 3 (4223)\n",
      "Run task 2 (4222)\n",
      "Waiting for all subprocess done...\n",
      "Task 0 runs 0.12268900871276855 seconds\n",
      "Run task 4 (4220)\n",
      "Task 2 runs 1.173778772354126 seconds\n",
      "Task 3 runs 1.4420840740203857 seconds\n",
      "Task 1 runs 2.0074009895324707 seconds\n",
      "Task 4 runs 2.5265331268310547 seconds\n",
      "All subprocesses done.\n"
     ]
    }
   ],
   "source": [
    "from multiprocessing import Pool\n",
    "import os,time,random\n",
    "\n",
    "def long_time_task(name):\n",
    "    print('Run task {} ({})'.format(name,os.getpid()))\n",
    "    start = time.time()\n",
    "    time.sleep(random.random()*3) #随机暂停\n",
    "    end = time.time()\n",
    "    print('Task {} runs {} seconds'.format(name,(end-start)))\n",
    "\n",
    "print('Parent procee {}'.format(os.getpid()))\n",
    "p = Pool() #创建进程池\n",
    "for i in range(5):\n",
    "    p.apply_async(long_time_task,args=(i,))# 将要执行的函数加入进程池\n",
    "print('Waiting for all subprocess done...')\n",
    "p.close()\n",
    "p.join() #等待所有子进程执行完毕,之前必须先调用close(),然后不能添加新的Process.\n",
    "print('All subprocesses done.')"
   ]
  },
  {
   "cell_type": "code",
   "execution_count": 3,
   "metadata": {},
   "outputs": [
    {
     "name": "stdout",
     "output_type": "stream",
     "text": [
      "calaculate square numbers\n",
      "square:4\n",
      "square:9\n",
      "square:64\n",
      "square:81\n",
      "calaculate cube numbers\n",
      "cube:8\n",
      "cube:27\n",
      "cube:512\n",
      "cube:729\n",
      "done in:0.16292309761047363\n",
      "Hah... I am done with all my work now!\n"
     ]
    }
   ],
   "source": [
    "import time\n",
    "\n",
    "def calc_square(numbers):\n",
    "    print('calaculate square numbers')\n",
    "    for n in numbers:\n",
    "        time.sleep(0.02)\n",
    "        print('square:{}'.format(n*n))\n",
    "        \n",
    "def calc_cube(numbers):\n",
    "    print('calaculate cube numbers')\n",
    "    for n in numbers:\n",
    "        time.sleep(0.02)\n",
    "        print('cube:{}'.format(n*n*n))\n",
    "\n",
    "arr = [2,3,8,9]\n",
    "\n",
    "t = time.time()\n",
    "calc_square(arr)\n",
    "calc_cube(arr)\n",
    "print('done in:{}'.format(time.time()-t))\n",
    "print('Hah... I am done with all my work now!')"
   ]
  },
  {
   "cell_type": "code",
   "execution_count": 27,
   "metadata": {},
   "outputs": [
    {
     "name": "stdout",
     "output_type": "stream",
     "text": [
      "calaculate square numbers\n",
      "calaculate cube numbers\n",
      "square:4\n",
      "cube:8\n",
      "square:9\n",
      "cube:27\n",
      "square:64\n",
      "cube:512\n",
      "square:81\n",
      "inside thread result[4, 9, 64, 81]\n",
      "cube:729\n",
      "outside thread result:[4, 9, 64, 81]\n",
      "done in:0.10058450698852539\n",
      "Hah... I am done with all my work now!\n"
     ]
    }
   ],
   "source": [
    "import time\n",
    "import threading\n",
    "\n",
    "result = []\n",
    "\n",
    "def calc_square(numbers):\n",
    "    global result\n",
    "    print('calaculate square numbers')\n",
    "    for n in numbers:\n",
    "        time.sleep(0.02)\n",
    "        print('square:{}'.format(n*n))\n",
    "        result.append(n*n)\n",
    "    print('inside thread result'+str(result))\n",
    "\n",
    "        \n",
    "def calc_cube(numbers):\n",
    "    print('calaculate cube numbers')\n",
    "    for n in numbers:\n",
    "        time.sleep(0.02)\n",
    "        print('cube:{}'.format(n*n*n))\n",
    "\n",
    "arr = [2,3,8,9]\n",
    "\n",
    "t = time.time()\n",
    "t1 = threading.Thread(target=calc_square,args=(arr,))\n",
    "#t2 = threading.Thread(target=calc_cube,args=(arr,))\n",
    "t1.start()\n",
    "#t2.start()\n",
    "t1.join()\n",
    "#t2.join()\n",
    "\n",
    "print('outside thread result:'+ str(result))\n",
    "print('done in:{}'.format(time.time()-t))\n",
    "print('Hah... I am done with all my work now!')"
   ]
  },
  {
   "cell_type": "code",
   "execution_count": 21,
   "metadata": {},
   "outputs": [],
   "source": []
  }
 ],
 "metadata": {
  "kernelspec": {
   "display_name": "Python 3",
   "language": "python",
   "name": "python3"
  },
  "language_info": {
   "codemirror_mode": {
    "name": "ipython",
    "version": 3
   },
   "file_extension": ".py",
   "mimetype": "text/x-python",
   "name": "python",
   "nbconvert_exporter": "python",
   "pygments_lexer": "ipython3",
   "version": "3.6.5"
  },
  "toc": {
   "nav_menu": {},
   "number_sections": true,
   "sideBar": true,
   "skip_h1_title": false,
   "title_cell": "Table of Contents",
   "title_sidebar": "Contents",
   "toc_cell": false,
   "toc_position": {},
   "toc_section_display": true,
   "toc_window_display": false
  },
  "varInspector": {
   "cols": {
    "lenName": 16,
    "lenType": 16,
    "lenVar": 40
   },
   "kernels_config": {
    "python": {
     "delete_cmd_postfix": "",
     "delete_cmd_prefix": "del ",
     "library": "var_list.py",
     "varRefreshCmd": "print(var_dic_list())"
    },
    "r": {
     "delete_cmd_postfix": ") ",
     "delete_cmd_prefix": "rm(",
     "library": "var_list.r",
     "varRefreshCmd": "cat(var_dic_list()) "
    }
   },
   "types_to_exclude": [
    "module",
    "function",
    "builtin_function_or_method",
    "instance",
    "_Feature"
   ],
   "window_display": false
  }
 },
 "nbformat": 4,
 "nbformat_minor": 2
}
