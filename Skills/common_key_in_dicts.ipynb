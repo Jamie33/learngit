{
 "cells": [
  {
   "cell_type": "code",
   "execution_count": 6,
   "metadata": {},
   "outputs": [
    {
     "name": "stdout",
     "output_type": "stream",
     "text": [
      "['e', 'd', 'g', 'f']\n",
      "[1, 4, 3, 4]\n"
     ]
    },
    {
     "data": {
      "text/plain": [
       "{'d': 4, 'e': 1, 'f': 4, 'g': 3}"
      ]
     },
     "execution_count": 6,
     "metadata": {},
     "output_type": "execute_result"
    }
   ],
   "source": [
    "from random import randint,sample\n",
    "member = sample('abcdefg',4)\n",
    "print(member)\n",
    "score = [randint(1,4) for i in range(4)]\n",
    "print(score)\n",
    "data = dict(zip(member,score))\n",
    "data"
   ]
  },
  {
   "cell_type": "code",
   "execution_count": 9,
   "metadata": {},
   "outputs": [
    {
     "data": {
      "text/plain": [
       "['a', 'e', 'c', 'g', 'f']"
      ]
     },
     "execution_count": 9,
     "metadata": {},
     "output_type": "execute_result"
    }
   ],
   "source": [
    "member = sample('abcdefg',randint(3,6))\n",
    "member"
   ]
  },
  {
   "cell_type": "code",
   "execution_count": 17,
   "metadata": {},
   "outputs": [
    {
     "name": "stdout",
     "output_type": "stream",
     "text": [
      "{'f': 2, 'a': 3, 'd': 1, 'g': 4, 'e': 4, 'c': 1} \n",
      " {'d': 3, 'f': 2, 'c': 1, 'a': 1} \n",
      " {'f': 2, 'c': 4, 'e': 4, 'd': 3, 'g': 1, 'a': 3} \n",
      " {'c': 2, 'd': 1, 'e': 4, 'a': 2} \n",
      " {'b': 4, 'a': 2, 'e': 3, 'd': 3, 'c': 3}\n"
     ]
    }
   ],
   "source": [
    "s1 = {x:randint(1,4) for x in sample('abcdefg',randint(3,6))}\n",
    "s2 = {x:randint(1,4) for x in sample('abcdefg',randint(3,6))}\n",
    "s3 = {x:randint(1,4) for x in sample('abcdefg',randint(3,6))}\n",
    "s4 = {x:randint(1,4) for x in sample('abcdefg',randint(3,6))}\n",
    "s5 = {x:randint(1,4) for x in sample('abcdefg',randint(3,6))}\n",
    "print(s1,'\\n',s2,'\\n',s3,'\\n',s4,'\\n',s5)"
   ]
  },
  {
   "cell_type": "code",
   "execution_count": 24,
   "metadata": {
    "scrolled": true
   },
   "outputs": [
    {
     "name": "stdout",
     "output_type": "stream",
     "text": [
      "['a', 'd', 'c']\n"
     ]
    }
   ],
   "source": [
    "#第一种方式：\n",
    "sharedKey = [k for k in s1 if k in s2 and k in s3 and k in s4 and k in s5]\n",
    "print(sharedKey)"
   ]
  },
  {
   "cell_type": "code",
   "execution_count": null,
   "metadata": {},
   "outputs": [],
   "source": []
  },
  {
   "cell_type": "code",
   "execution_count": null,
   "metadata": {
    "collapsed": true
   },
   "outputs": [],
   "source": []
  }
 ],
 "metadata": {
  "kernelspec": {
   "display_name": "Python 3",
   "language": "python",
   "name": "python3"
  },
  "language_info": {
   "codemirror_mode": {
    "name": "ipython",
    "version": 3
   },
   "file_extension": ".py",
   "mimetype": "text/x-python",
   "name": "python",
   "nbconvert_exporter": "python",
   "pygments_lexer": "ipython3",
   "version": "3.6.5"
  }
 },
 "nbformat": 4,
 "nbformat_minor": 2
}
