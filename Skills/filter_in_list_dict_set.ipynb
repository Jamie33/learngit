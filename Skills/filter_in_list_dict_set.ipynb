{
 "cells": [
  {
   "cell_type": "markdown",
   "metadata": {},
   "source": [
    "---\n",
    "\n",
    "title: How to filter in list,set and dict\n",
    "date:  2018.5.7\n",
    "categories:  Skills\n",
    "tags:  Skills\n",
    "keywords:  [filter,list,set,dict]\n",
    "\n",
    "---"
   ]
  },
  {
   "cell_type": "markdown",
   "metadata": {
    "collapsed": true
   },
   "source": [
    "## 过滤掉列表中的负数【列表的三种方法】"
   ]
  },
  {
   "cell_type": "code",
   "execution_count": 13,
   "metadata": {},
   "outputs": [
    {
     "name": "stdout",
     "output_type": "stream",
     "text": [
      "[-6, 0, 4, -6, -7, 2, 9, -10, 2, 4]\n",
      "[4, 2, 9, 2, 4]\n",
      "[4, 2, 9, 2, 4]\n",
      "[4, 2, 9, 2, 4]\n"
     ]
    }
   ],
   "source": [
    "#用列表生成式建立一个10到-10之间随机列表\n",
    "from random import randint\n",
    "data = [randint(-10,10) for i in range(10)]\n",
    "print(data)\n",
    "\n",
    "\n",
    "#方法一：for 循环\n",
    "c = []\n",
    "for i in data:\n",
    "    if i > 0:\n",
    "        c.append(i)\n",
    "print(c)\n",
    "\n",
    "#方法二：列表解析\n",
    "d = [i for i in data if i > 0]\n",
    "print(d)\n",
    "\n",
    "#方法三：filter 函数\n",
    "f = filter(lambda x:x > 0,data)\n",
    "print(list(f))"
   ]
  },
  {
   "cell_type": "code",
   "execution_count": 24,
   "metadata": {},
   "outputs": [
    {
     "name": "stdout",
     "output_type": "stream",
     "text": [
      "{1: 85, 2: 93, 3: 60, 4: 65, 5: 97, 6: 83, 7: 79, 8: 61, 9: 80, 10: 69, 11: 95, 12: 98, 13: 91, 14: 94, 15: 64, 16: 60, 17: 85, 18: 95, 19: 64, 20: 60}\n",
      "{4: 92, 6: 93, 7: 91, 8: 100, 12: 95, 20: 92}\n",
      "{4: 92, 6: 93, 7: 91, 8: 100, 12: 95, 20: 92}\n"
     ]
    }
   ],
   "source": [
    "#用字典生成式建立一个20人的字典\n",
    "from random import randint\n",
    "p = {i:randint(60,100) for i in range(1,21)}\n",
    "print(p)\n",
    "p ={1: 88, 2: 80, 3: 76, 4: 92, 5: 88, 6: 93, 7: 91, 8: 100, 9: 60, 10: 68, 11: 85, 12: 95, 13: 73, 14: 77, 15: 65, 16: 82, 17: 67, 18: 87, 19: 89, 20: 92}\n",
    "#筛出字典中值高于90的项\n",
    "\n",
    "#方法一：for 循环\n",
    "h = {}\n",
    "for k,v in p.items():\n",
    "    if v > 90:\n",
    "        h[k] = p[k]\n",
    "print(h)\n",
    "\n",
    "#方法二：字典解析\n",
    "\n",
    "g = {k:v for k,v in p.items() if v>90}\n",
    "print(g)"
   ]
  },
  {
   "cell_type": "code",
   "execution_count": 30,
   "metadata": {},
   "outputs": [
    {
     "name": "stdout",
     "output_type": "stream",
     "text": [
      "{2, 6, 9, -8, -7, -3, -1}\n",
      "{9, -3, 6}\n",
      "{9, -3, 6}\n",
      "{9, -3, 6}\n"
     ]
    }
   ],
   "source": [
    "#用列表生成式建立一个10个数的集合\n",
    "s = set([randint(-10,10) for x in range(10)])\n",
    "print(s)\n",
    "\n",
    "#筛出集合中能被3整除的元素\n",
    "\n",
    "#方法一：for 循环\n",
    "n = set()#创建空集合\n",
    "for i in s:\n",
    "    if i%3 == 0:\n",
    "       n.add(i)\n",
    "print(n)\n",
    "\n",
    "#方法二：列表解析\n",
    "w = set([i for i in s if i%3 == 0])\n",
    "w1 = {i for i in s if i%3 == 0}#和字典解析的区别在于前面没有冒号\n",
    "print(w)\n",
    "print(w1)"
   ]
  }
 ],
 "metadata": {
  "kernelspec": {
   "display_name": "Python 3",
   "language": "python",
   "name": "python3"
  },
  "language_info": {
   "codemirror_mode": {
    "name": "ipython",
    "version": 3
   },
   "file_extension": ".py",
   "mimetype": "text/x-python",
   "name": "python",
   "nbconvert_exporter": "python",
   "pygments_lexer": "ipython3",
   "version": "3.6.5"
  }
 },
 "nbformat": 4,
 "nbformat_minor": 2
}
