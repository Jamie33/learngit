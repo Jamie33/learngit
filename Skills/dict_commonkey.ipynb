{
 "cells": [
  {
   "cell_type": "markdown",
   "metadata": {},
   "source": [
    "---\n",
    "\n",
    "title: How to find common keys in dict\n",
    "date:  2018.5.7\n",
    "categories:  Skills\n",
    "tags:  Skills\n",
    "keywords:  [dict,common key]\n",
    "\n",
    "---"
   ]
  },
  {
   "cell_type": "markdown",
   "metadata": {},
   "source": [
    "## 字典生产式"
   ]
  },
  {
   "cell_type": "code",
   "execution_count": 2,
   "metadata": {
    "scrolled": true
   },
   "outputs": [
    {
     "name": "stdout",
     "output_type": "stream",
     "text": [
      "{'d': 4, 'a': 3, 'e': 3, 'f': 4}\n",
      "{'c': 4, 'b': 3, 'e': 3, 'f': 4}\n",
      "{'e': 3, 'c': 4, 'd': 3, 'a': 3}\n"
     ]
    }
   ],
   "source": [
    "from random import randint,sample \n",
    "# random.sample(sequence, k)，从指定序列中随机获取指定长度的片断。sample函数不会修改原有序列。\n",
    "s1 = {x: randint(3,4) for x in sample('abcdef',randint(4,6))}\n",
    "s2 = {x: randint(3,4) for x in sample('abcdef',randint(4,6))}\n",
    "s3 = {x: randint(3,4) for x in sample('abcdef',randint(4,6))}\n",
    "print(s1)\n",
    "print(s2)\n",
    "print(s3)"
   ]
  },
  {
   "cell_type": "markdown",
   "metadata": {},
   "source": [
    "## 方法一：通过if 找到每个字典的公共键"
   ]
  },
  {
   "cell_type": "code",
   "execution_count": 65,
   "metadata": {},
   "outputs": [
    {
     "name": "stdout",
     "output_type": "stream",
     "text": [
      "['e']\n",
      "['e']\n"
     ]
    }
   ],
   "source": [
    "\n",
    "common_key = [i for i in s1 if i in s2 and i in s3]\n",
    "print(common_key)\n",
    "\n",
    "key = []\n",
    "for i in s1:\n",
    "    if i in s2 and i in s3:\n",
    "        key.append(i)\n",
    "print(key)"
   ]
  },
  {
   "cell_type": "markdown",
   "metadata": {},
   "source": [
    "## 方法二：用集合set的数学意义上的交集、并集"
   ]
  },
  {
   "cell_type": "code",
   "execution_count": 64,
   "metadata": {},
   "outputs": [
    {
     "name": "stdout",
     "output_type": "stream",
     "text": [
      "{'e'}\n"
     ]
    }
   ],
   "source": [
    "#.keys() 返回的是一个set-like 对象，所以set具备的集合计算也可以用\n",
    "common_key = s1.keys()&s2.keys()&s3.keys()\n",
    "print(common_key)"
   ]
  },
  {
   "cell_type": "code",
   "execution_count": 36,
   "metadata": {},
   "outputs": [
    {
     "name": "stdout",
     "output_type": "stream",
     "text": [
      "Help on method_descriptor:\n",
      "\n",
      "keys(...)\n",
      "    D.keys() -> a set-like object providing a view on D's keys\n",
      "\n",
      "Help on method_descriptor:\n",
      "\n",
      "values(...)\n",
      "    D.values() -> an object providing a view on D's values\n",
      "\n",
      "Help on method_descriptor:\n",
      "\n",
      "items(...)\n",
      "    D.items() -> a set-like object providing a view on D's items\n",
      "\n",
      "dict_keys(['d', 'a', 'e', 'f'])\n",
      "{'e', 'd', 'a', 'f', 'c', 'b'}\n",
      "{'e'}\n",
      "dict_items([('d', 4), ('a', 3), ('e', 3), ('f', 4)])\n",
      "{('e', 3)}\n",
      "{'d': 4, 'a': 3, 'e': 3, 'f': 4, 'c': 4, 'b': 3}\n"
     ]
    }
   ],
   "source": [
    "#把多个字典合并到一起\n",
    "\n",
    "'''\n",
    "This PEP proposes to change the .keys(), .values() and .items() methods of the built-in dict type \n",
    "to return a set-like or unordered container object whose contents are \n",
    "derived from the underlying dictionary rather than a list which is a \n",
    "copy of the keys, etc\n",
    "'''\n",
    "# 其中.keys().items() 返回的是一个set-like 对象，所以set具备的集合计算也可以用\n",
    "help(dict.keys)\n",
    "help(dict.values)\n",
    "help(dict.items)\n",
    "\n",
    "# 用 .keys(), .items()方法键，键值对并集，交集，差集\n",
    "print(s1.keys())  #返回一个字典所有的键\n",
    "print(s1.keys()|s2.keys()|s3.keys()) # 并集\n",
    "print(s1.keys()&s2.keys()&s3.keys()) # 交集\n",
    "\n",
    "print(s1.items()) #返回一个字典所有的键值对,键值对的交集要求键和值都一样\n",
    "print(s1.items()&s2.items()&s3.items()) #交集\n",
    "\n",
    "\n",
    "\n",
    "# 用 class dict(iterable, **kwarg) 创建一个并集字典,会影响相同键不同值的项  \n",
    "union = dict(s1,**s2)  \n",
    "print (union)"
   ]
  },
  {
   "cell_type": "markdown",
   "metadata": {},
   "source": [
    "## 方法三：适用于多个字典"
   ]
  },
  {
   "cell_type": "code",
   "execution_count": 73,
   "metadata": {},
   "outputs": [
    {
     "name": "stdout",
     "output_type": "stream",
     "text": [
      "[dict_keys(['d', 'a', 'e', 'f']), dict_keys(['c', 'b', 'e', 'f']), dict_keys(['e', 'c', 'd', 'a'])]\n",
      "{'e'}\n",
      "[]\n",
      "[]\n"
     ]
    },
    {
     "ename": "TypeError",
     "evalue": "reduce() of empty sequence with no initial value",
     "output_type": "error",
     "traceback": [
      "\u001b[1;31m---------------------------------------------------------------------------\u001b[0m",
      "\u001b[1;31mTypeError\u001b[0m                                 Traceback (most recent call last)",
      "\u001b[1;32m<ipython-input-73-b7dcf2afc47f>\u001b[0m in \u001b[0;36m<module>\u001b[1;34m()\u001b[0m\n\u001b[0;32m     32\u001b[0m \u001b[0mprint\u001b[0m\u001b[1;33m(\u001b[0m\u001b[0mlist\u001b[0m\u001b[1;33m(\u001b[0m\u001b[0mr1\u001b[0m\u001b[1;33m)\u001b[0m\u001b[1;33m)\u001b[0m \u001b[1;31m#空序列，因为前面print完了\u001b[0m\u001b[1;33m\u001b[0m\u001b[0m\n\u001b[0;32m     33\u001b[0m \u001b[1;33m\u001b[0m\u001b[0m\n\u001b[1;32m---> 34\u001b[1;33m \u001b[0mprint\u001b[0m\u001b[1;33m(\u001b[0m\u001b[0mreduce\u001b[0m\u001b[1;33m(\u001b[0m\u001b[1;32mlambda\u001b[0m \u001b[0ma\u001b[0m\u001b[1;33m,\u001b[0m\u001b[0mb\u001b[0m\u001b[1;33m:\u001b[0m\u001b[0ma\u001b[0m\u001b[1;33m&\u001b[0m\u001b[0mb\u001b[0m\u001b[1;33m,\u001b[0m\u001b[0mr1\u001b[0m\u001b[1;33m)\u001b[0m\u001b[1;33m)\u001b[0m\u001b[1;33m\u001b[0m\u001b[0m\n\u001b[0m\u001b[0;32m     35\u001b[0m \u001b[1;33m\u001b[0m\u001b[0m\n\u001b[0;32m     36\u001b[0m \u001b[1;33m\u001b[0m\u001b[0m\n",
      "\u001b[1;31mTypeError\u001b[0m: reduce() of empty sequence with no initial value"
     ]
    }
   ],
   "source": [
    "#第一步用 map 函数返回所有字典所有的键\n",
    "'''\n",
    "\n",
    "map()函数接收两个参数，一个是函数，一个是Iterable，\n",
    "map将传入的函数依次作用到序列的每个元素，并把结果作为新的Iterator返回。\n",
    "由于结果r是一个Iterator，Iterator是惰性序列，\n",
    "因此通过list()函数让它把整个序列都计算出来并返回一个list。\n",
    "'''\n",
    "\n",
    "s = [s1,s2,s3]\n",
    "r = map(lambda x:x.keys(),s)\n",
    "r1 = map(dict.keys,s)  # r 和 r1 是同等效果，得出讨论函数与方法的区别,dict.keys是函数  \n",
    "print(list(r1))\n",
    "# 用 reduce 函数算出前一项与后一项的交集\n",
    "\n",
    "'''\n",
    "reduce把一个函数作用在一个序列[x1, x2, x3, ...]上，这个函数必须接收两个参数，\n",
    "reduce把结果继续和序列的下一个元素做累积计算\n",
    "reduce(f, [x1, x2, x3, x4]) = f(f(f(x1, x2), x3), x4)\n",
    "'''\n",
    "\n",
    "\n",
    "\n",
    "from functools import reduce\n",
    "print(reduce(lambda a,b:a&b,r))\n",
    "# 前面如果有print把r1这个 Iterator 序列全部打出来，r1里面就是空的，所以这里如果用r1就会报错\n",
    "\n",
    "\n",
    "\n",
    "print(list(r1)) #空序列，因为前面print完了\n",
    "\n",
    "print(reduce(lambda a,b:a&b,r1)) \n",
    "\n",
    "\n"
   ]
  },
  {
   "cell_type": "markdown",
   "metadata": {},
   "source": [
    "## 函数与方法的区别  "
   ]
  },
  {
   "cell_type": "code",
   "execution_count": 40,
   "metadata": {},
   "outputs": [
    {
     "data": {
      "text/plain": [
       "True"
      ]
     },
     "execution_count": 40,
     "metadata": {},
     "output_type": "execute_result"
    }
   ],
   "source": [
    "#函数与方法的区别  \n",
    "'''\n",
    "在Python中，对这两个东西有明确的规定：\n",
    "\n",
    "函数function —— A series of statements which returns some value to a caller. \n",
    "It can also be passed zero or more arguments which may be used in the execution \n",
    "of the body.\n",
    "\n",
    "方法method —— A function which is defined inside a class body. If called as an \n",
    "attribute of an instance of that class, the method will get the instance object as \n",
    "its first argument (which is usually called self).\n",
    "\n",
    "与类和实例无绑定关系的function都属于函数（function）；\n",
    "与类和实例有绑定关系的function都属于方法（method）。\n",
    "'''\n",
    "#函数与方法 ？？？\n",
    "s1.keys() == dict.keys(s1)\n",
    "#(方法)s1.keys() == dict.keys(s1)(函数)？？？'\n"
   ]
  },
  {
   "cell_type": "markdown",
   "metadata": {},
   "source": [
    "## *和**符号"
   ]
  },
  {
   "cell_type": "code",
   "execution_count": 2,
   "metadata": {},
   "outputs": [
    {
     "name": "stdout",
     "output_type": "stream",
     "text": [
      "(2, 3, 4)\n",
      "[1, 2, 3, 4, 5]\n",
      "(1, 2, 3, 4, 5)\n",
      "range(1, 6)\n",
      "1 2 3 4 5\n",
      "1 2 3 4 5\n",
      "1 2 3 4 5\n",
      "30\n",
      "{'a': 1, 'b': 2}\n",
      "1 (2, 3) {'x': 4, 'y': 5}\n",
      "name: Adam age: 45 other: {'gender': 'M', 'job': 'Engineer'}\n",
      "1 2 3 4\n",
      "30\n",
      "name: Jack age: 24 other: {'city': 'Beijing', 'job': 'Engineer'}\n"
     ]
    }
   ],
   "source": [
    "'''\n",
    "在python中，当*和**符号出现在函数定义的参数中时，表示任意数目参数收集。*arg表示任意多个无名参数，类型为tuple;**kwargs表示关键字参数，为dict，使用时需将*arg放在**kwargs之前，否则会有“SyntaxError: non-keyword arg after keyword arg”的语法错误\n",
    "'''\n",
    "\n",
    "# *允许你传入0个或任意个参数，这些可变参数在函数调用时自动组装为一个tuple。\n",
    "def f(a,*args):\n",
    "    print(args)\n",
    "\n",
    "f(1,2,3,4)\n",
    "\n",
    "\n",
    "a = [1,2,3,4,5]\n",
    "b = (1,2,3,4,5)\n",
    "c = range(1,6)\n",
    "print(a)\n",
    "print(b)\n",
    "print(c)\n",
    "print(*a)\n",
    "print(*b)\n",
    "print(*c)\n",
    "\n",
    "\n",
    "def calc(*numbers):\n",
    "    sum = 0\n",
    "    for n in numbers:\n",
    "        sum = sum + n * n\n",
    "    print(sum)\n",
    "\n",
    "calc(1,2,3,4)\n",
    "\n",
    "\n",
    "# **,关键字参数允许你传入0个或任意个含参数名的参数,这些关键字参数在函数内部自动组装为一个dict。\n",
    "def d(**kargs):\n",
    "    print(kargs)\n",
    "    \n",
    "d(a=1,b=2)\n",
    "\n",
    "#在函数头部能混合一般参数、*参数以及**去实现更加灵活的调用方式。\n",
    "def h(a,*args,**kargs):\n",
    "    print(a,args,kargs)\n",
    "\n",
    "h(1,2,3,x=4,y=5)\n",
    "\n",
    "def person(name,age,**kw):\n",
    "    print('name:',name,'age:',age,'other:',kw)\n",
    "    \n",
    "person('Adam', 45, gender='M', job='Engineer')\n",
    "\n",
    "\n",
    "\n",
    "\n",
    "'''\n",
    "上面是在函数定义的时候写的*和**形式，那反过来，如果*和**语法出现在函数调用中又会如何呢？他会解包参数的集合。例如，我们在调用函数时能够使用*语法，在这种情况下，它与函数定义的意思相反，他会解包参数的集合，而不是创建参数的集合。\n",
    "'''\n",
    "\n",
    "#通过一个元组给一个函数传递四个参数，并且让python将它们解包成不同的参数。\n",
    "def func(a,b,c,d):\n",
    "    print(a,b,c,d)\n",
    "\n",
    "a = (1,2,3,4)\n",
    "func(*a)\n",
    "\n",
    "# 如果已经有一个list或者tuple，在函数调用时，在参数前加*，把list/tuple/range序列中的元素一个一个传到函数里面\n",
    "def calc(*numbers):\n",
    "    sum = 0\n",
    "    for n in numbers:\n",
    "        sum = sum + n * n\n",
    "    print(sum)\n",
    "\n",
    "num = [1,2,3,4]\n",
    "calc(*num)\n",
    "\n",
    "\n",
    "#在函数调用时，**会以键/值对的形式解包一个字典，使其成为独立的关键字参数。\n",
    "\n",
    "def person(name,age,**kw):\n",
    "    print('name:',name,'age:',age,'other:',kw)\n",
    "\n",
    "    \n",
    "#如果已经有一个dict,在参数前加**，把该dict的所有key-value用转换为关键字参数传进去,\n",
    "extra = {'city': 'Beijing', 'job': 'Engineer'}\n",
    "person('Jack', 24, **extra)"
   ]
  },
  {
   "cell_type": "markdown",
   "metadata": {},
   "source": [
    "## 创建字典的5种方法"
   ]
  },
  {
   "cell_type": "code",
   "execution_count": 2,
   "metadata": {},
   "outputs": [
    {
     "name": "stdout",
     "output_type": "stream",
     "text": [
      "{}\n",
      "{'one': 1, 'two': 2, 'three': 3}\n",
      "[('one', 1), ('two', 2), ('three', 3)]\n",
      "{'one': 1, 'two': 2, 'three': 3}\n",
      "{'one': 1, 'two': 2, 'three': 3}\n",
      "{'one': 1, 'two': 2, 'three': 5}\n",
      "{'one': 1, 'two': 2, 'three': 3}\n",
      "True\n"
     ]
    }
   ],
   "source": [
    "'''在python中，这两个是python中的可变参数，*arg表示任意多个无名参数，类型为tuple;**kwargs表示关键字参数，为dict，使用时需将*arg放在**kwargs之前，否则会有“SyntaxError: non-keyword arg after keyword arg”的语法错误\n",
    "'''\n",
    "#创建字典的5种方法\n",
    "\n",
    "'''\n",
    "class dict(**kwarg)\n",
    "class dict(mapping, **kwarg)\n",
    "class dict(iterable, **kwarg)\n",
    "'''\n",
    "\n",
    "#创建一个空字典\n",
    "empty_dict = dict() \n",
    "print(empty_dict)\n",
    "\n",
    "#用**kwargs可变参数传入关键字创建字典\n",
    "a = dict(one=1,two=2,three=3) \n",
    "print(a)\n",
    "\n",
    "#传入映射对象\n",
    "b = dict(zip(['one','two','three'],[1,2,3]))\n",
    "print(list(zip(['one','two','three'],[1,2,3])))\n",
    "print(b)\n",
    "\n",
    "#传入可迭代对象\n",
    "c = dict([('one', 1), ('two', 2), ('three', 3)])\n",
    "print(c)\n",
    "\n",
    "c1 = dict([('one', 1), ('two', 2), ('three', 3),('three', 4),('three', 5)])\n",
    "print(c1)\n",
    "'''\n",
    "可迭代对象中的每一项自身必须是可迭代的，并且每一项只能有两个对象。第一个对象成为新字典的键，第二个对象成为其键对应的值。如果键有重复，其值为最后重复项的值。\n",
    "'''\n",
    "\n",
    "#传入字典创建字典\n",
    "d = dict({'one': 1, 'two': 2, 'three': 3})\n",
    "print(d)\n",
    "\n",
    "\n",
    "print(a == b == c == d)"
   ]
  },
  {
   "cell_type": "markdown",
   "metadata": {},
   "source": [
    "## 获取字典中值最大的项"
   ]
  },
  {
   "cell_type": "code",
   "execution_count": 18,
   "metadata": {},
   "outputs": [
    {
     "name": "stdout",
     "output_type": "stream",
     "text": [
      "4\n",
      "Counter({'a': 4, 'e': 4, 'b': 3, 'd': 3, 'c': 3})\n",
      "[('a', 4)]\n"
     ]
    }
   ],
   "source": [
    "#获取字典中值最大的项\n",
    "\n",
    "a  = {'a': 4, 'b': 3, 'd': 3, 'e': 4, 'c': 3}\n",
    "\n",
    "#max()函数\n",
    "\n",
    "\n",
    "m = max(a.values())\n",
    "print(m)\n",
    "\n",
    "# 用Counter.most_common方法\n",
    "from collections import Counter\n",
    "c = Counter(a)\n",
    "print(c)\n",
    "print(c.most_common(1))"
   ]
  },
  {
   "cell_type": "code",
   "execution_count": 20,
   "metadata": {},
   "outputs": [
    {
     "data": {
      "text/plain": [
       "['__class__',\n",
       " '__contains__',\n",
       " '__delattr__',\n",
       " '__delitem__',\n",
       " '__dir__',\n",
       " '__doc__',\n",
       " '__eq__',\n",
       " '__format__',\n",
       " '__ge__',\n",
       " '__getattribute__',\n",
       " '__getitem__',\n",
       " '__gt__',\n",
       " '__hash__',\n",
       " '__init__',\n",
       " '__init_subclass__',\n",
       " '__iter__',\n",
       " '__le__',\n",
       " '__len__',\n",
       " '__lt__',\n",
       " '__ne__',\n",
       " '__new__',\n",
       " '__reduce__',\n",
       " '__reduce_ex__',\n",
       " '__repr__',\n",
       " '__setattr__',\n",
       " '__setitem__',\n",
       " '__sizeof__',\n",
       " '__str__',\n",
       " '__subclasshook__',\n",
       " 'clear',\n",
       " 'copy',\n",
       " 'fromkeys',\n",
       " 'get',\n",
       " 'items',\n",
       " 'keys',\n",
       " 'pop',\n",
       " 'popitem',\n",
       " 'setdefault',\n",
       " 'update',\n",
       " 'values']"
      ]
     },
     "execution_count": 20,
     "metadata": {},
     "output_type": "execute_result"
    }
   ],
   "source": [
    "dir(a)"
   ]
  }
 ],
 "metadata": {
  "kernelspec": {
   "display_name": "Python 3",
   "language": "python",
   "name": "python3"
  },
  "language_info": {
   "codemirror_mode": {
    "name": "ipython",
    "version": 3
   },
   "file_extension": ".py",
   "mimetype": "text/x-python",
   "name": "python",
   "nbconvert_exporter": "python",
   "pygments_lexer": "ipython3",
   "version": "3.6.5"
  },
  "toc": {
   "nav_menu": {},
   "number_sections": true,
   "sideBar": true,
   "skip_h1_title": false,
   "title_cell": "Table of Contents",
   "title_sidebar": "Contents",
   "toc_cell": false,
   "toc_position": {},
   "toc_section_display": true,
   "toc_window_display": false
  },
  "varInspector": {
   "cols": {
    "lenName": 16,
    "lenType": 16,
    "lenVar": 40
   },
   "kernels_config": {
    "python": {
     "delete_cmd_postfix": "",
     "delete_cmd_prefix": "del ",
     "library": "var_list.py",
     "varRefreshCmd": "print(var_dic_list())"
    },
    "r": {
     "delete_cmd_postfix": ") ",
     "delete_cmd_prefix": "rm(",
     "library": "var_list.r",
     "varRefreshCmd": "cat(var_dic_list()) "
    }
   },
   "types_to_exclude": [
    "module",
    "function",
    "builtin_function_or_method",
    "instance",
    "_Feature"
   ],
   "window_display": false
  }
 },
 "nbformat": 4,
 "nbformat_minor": 2
}
