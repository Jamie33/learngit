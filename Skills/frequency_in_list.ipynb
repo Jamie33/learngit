{
 "cells": [
  {
   "cell_type": "markdown",
   "metadata": {},
   "source": [
    "---\n",
    "\n",
    "title: How to get frequency of elements in list\n",
    "date:  2018.5.7\n",
    "categories:  Skills\n",
    "tags:  Skills\n",
    "keywords:  [frequency,list]\n",
    "\n",
    "---"
   ]
  },
  {
   "cell_type": "code",
   "execution_count": 3,
   "metadata": {},
   "outputs": [
    {
     "data": {
      "text/plain": [
       "[2, 4, 7, 9, 0, 3, 9, 1, 5, 5, 3, 1, 6, 4, 2, 2, 3, 10, 9, 10]"
      ]
     },
     "execution_count": 3,
     "metadata": {},
     "output_type": "execute_result"
    }
   ],
   "source": [
    "#创建一个随机序列\n",
    "from random import randint\n",
    "data = [randint(0,10) for x in range(0,20)]\n",
    "data"
   ]
  },
  {
   "cell_type": "markdown",
   "metadata": {},
   "source": [
    "## 方法一：统计出现频率,并筛选出现最多的3个元素"
   ]
  },
  {
   "cell_type": "code",
   "execution_count": 20,
   "metadata": {},
   "outputs": [
    {
     "name": "stdout",
     "output_type": "stream",
     "text": [
      "{2: 3, 4: 2, 7: 1, 9: 3, 0: 1, 3: 3, 1: 2, 5: 2, 6: 1, 10: 2}\n",
      "[(2, 3), (9, 3), (3, 3)]\n"
     ]
    }
   ],
   "source": [
    "#方法一：统计出现频率,并筛选出现最多的3个元素\n",
    "data = [2, 4, 7, 9, 0, 3, 9, 1, 5, 5, 3, 1, 6, 4, 2, 2, 3, 10, 9, 10]\n",
    "\n",
    "#统计频率\n",
    "f = {}\n",
    "for i in data:\n",
    "    if i not in f:\n",
    "        f[i] = 0\n",
    "    f[i] += 1\n",
    "print(f)\n",
    "\n",
    "#排序，筛选\n",
    "\n",
    "rank = sorted(f.items(),key = lambda x:x[1],reverse = True)\n",
    "print(rank[:3])"
   ]
  },
  {
   "cell_type": "markdown",
   "metadata": {},
   "source": [
    "## 方法二：用 Python 字典 fromkeys() 函数"
   ]
  },
  {
   "cell_type": "code",
   "execution_count": 26,
   "metadata": {},
   "outputs": [
    {
     "name": "stdout",
     "output_type": "stream",
     "text": [
      "{2: 0, 4: 0, 7: 0, 9: 0, 0: 0, 3: 0, 1: 0, 5: 0, 6: 0, 10: 0}\n",
      "{2: 3, 4: 2, 7: 1, 9: 3, 0: 1, 3: 3, 1: 2, 5: 2, 6: 1, 10: 2}\n",
      "Counter({2: 3, 9: 3, 3: 3, 4: 2, 1: 2, 5: 2, 10: 2, 7: 1, 0: 1, 6: 1})\n",
      "[(2, 3), (9, 3), (3, 3)]\n"
     ]
    }
   ],
   "source": [
    "#方法二：用 Python 字典 fromkeys() 函数用于创建一个新字典，以序列seq中元素做字典的键，value为字典所有键对应的初始值。\n",
    "d = dict.fromkeys(data,0) \n",
    "print(d)\n",
    "for i in data:\n",
    "    d[i] += 1\n",
    "print(d)\n",
    "#使用 collections.Counter, Counter类的目的是用来跟踪值出现的次数。它是一个无序的容器类型，以字典的键值对形式存储，其中元素作为key，其计数作为value。计数值可以是任意的Interger（包括0和负数）\n",
    "from collections import Counter\n",
    "c = Counter(d)\n",
    "print(c)\n",
    "m = c.most_common(3) # Counter.most_common(n)方法得到频率最高的n个元素的列表\n",
    "print(m)"
   ]
  }
 ],
 "metadata": {
  "kernelspec": {
   "display_name": "Python 3",
   "language": "python",
   "name": "python3"
  },
  "language_info": {
   "codemirror_mode": {
    "name": "ipython",
    "version": 3
   },
   "file_extension": ".py",
   "mimetype": "text/x-python",
   "name": "python",
   "nbconvert_exporter": "python",
   "pygments_lexer": "ipython3",
   "version": "3.8.5"
  }
 },
 "nbformat": 4,
 "nbformat_minor": 2
}
