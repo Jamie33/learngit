{
 "cells": [
  {
   "cell_type": "markdown",
   "metadata": {},
   "source": [
    "---\n",
    "\n",
    "title: What does named tuple do?\n",
    "date:  2018.5.7\n",
    "categories:  Skills\n",
    "tags:  Skills\n",
    "keywords:  namedtuple\n",
    "\n",
    "---"
   ]
  },
  {
   "cell_type": "code",
   "execution_count": 1,
   "metadata": {},
   "outputs": [
    {
     "name": "stdout",
     "output_type": "stream",
     "text": [
      "Jim\n",
      "16\n",
      "male\n",
      "Jim123@qq.com\n"
     ]
    }
   ],
   "source": [
    "student=('Jim','16','male','Jim123@qq.com')\n",
    "\n",
    "# name\n",
    "print(student[0])\n",
    "\n",
    "# age\n",
    "print(student[1])\n",
    "\n",
    "# sex\n",
    "print(student[2])\n",
    "    \n",
    "#email\n",
    "print(student[3])\n",
    "\n",
    "#用元祖的下标索引来访问元组中的值，0，1，2，3名字没有意义"
   ]
  },
  {
   "cell_type": "markdown",
   "metadata": {},
   "source": [
    "## 方法一：利用对下标索引赋值，达到有意义"
   ]
  },
  {
   "cell_type": "code",
   "execution_count": 2,
   "metadata": {},
   "outputs": [
    {
     "name": "stdout",
     "output_type": "stream",
     "text": [
      "Jim\n",
      "16\n",
      "male\n",
      "Jim123@qq.com\n"
     ]
    }
   ],
   "source": [
    "#方法一：利用对下标索引赋值，达到有意义\n",
    "NAME,AGE,SEX,EMAIL = range(0,4)\n",
    "# name\n",
    "print(student[NAME])\n",
    "\n",
    "# age\n",
    "print(student[AGE])\n",
    "\n",
    "# sex\n",
    "print(student[SEX])\n",
    "    \n",
    "#email\n",
    "print(student[EMAIL])"
   ]
  },
  {
   "cell_type": "markdown",
   "metadata": {},
   "source": [
    "## 方法二：collections 模块 namedtuple 方法"
   ]
  },
  {
   "cell_type": "code",
   "execution_count": 6,
   "metadata": {},
   "outputs": [
    {
     "data": {
      "text/plain": [
       "'Jim'"
      ]
     },
     "execution_count": 6,
     "metadata": {},
     "output_type": "execute_result"
    }
   ],
   "source": [
    "#方法二：collections 模块 namedtuple 方法\n",
    "from collections import namedtuple\n",
    "student = namedtuple('student',['name','age','sex','email'])\n",
    "s = student('Jim','16','male','Jim123@qq.com')\n",
    "s.name"
   ]
  },
  {
   "cell_type": "code",
   "execution_count": 7,
   "metadata": {},
   "outputs": [
    {
     "data": {
      "text/plain": [
       "'male'"
      ]
     },
     "execution_count": 7,
     "metadata": {},
     "output_type": "execute_result"
    }
   ],
   "source": [
    "s.sex"
   ]
  },
  {
   "cell_type": "code",
   "execution_count": 8,
   "metadata": {},
   "outputs": [
    {
     "data": {
      "text/plain": [
       "'16'"
      ]
     },
     "execution_count": 8,
     "metadata": {},
     "output_type": "execute_result"
    }
   ],
   "source": [
    "s.age"
   ]
  },
  {
   "cell_type": "code",
   "execution_count": 9,
   "metadata": {},
   "outputs": [
    {
     "data": {
      "text/plain": [
       "'Jim123@qq.com'"
      ]
     },
     "execution_count": 9,
     "metadata": {},
     "output_type": "execute_result"
    }
   ],
   "source": [
    "s.email"
   ]
  }
 ],
 "metadata": {
  "kernelspec": {
   "display_name": "Python 3",
   "language": "python",
   "name": "python3"
  },
  "language_info": {
   "codemirror_mode": {
    "name": "ipython",
    "version": 3
   },
   "file_extension": ".py",
   "mimetype": "text/x-python",
   "name": "python",
   "nbconvert_exporter": "python",
   "pygments_lexer": "ipython3",
   "version": "3.6.5"
  }
 },
 "nbformat": 4,
 "nbformat_minor": 2
}
