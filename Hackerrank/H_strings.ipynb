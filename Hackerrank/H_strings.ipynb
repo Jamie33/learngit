{
 "cells": [
  {
   "cell_type": "markdown",
   "metadata": {},
   "source": [
    "# str.count(sub[, start[, end]])\n",
    "Return the number of non-overlapping occurrences of substring sub in the range [start, end]. Optional arguments start and end are interpreted as in slice notation. String Split and Join\n",
    "https://www.hackerrank.com/challenges/python-string-split-and-join/problem\n",
    "Sample Input:this is a string   \n",
    "Sample Output:this-is-a-string"
   ]
  },
  {
   "cell_type": "code",
   "execution_count": 3,
   "metadata": {},
   "outputs": [
    {
     "data": {
      "text/plain": [
       "'this-is-a-string'"
      ]
     },
     "execution_count": 3,
     "metadata": {},
     "output_type": "execute_result"
    }
   ],
   "source": [
    "#第一种 用 split(),join() 方法\n",
    "def split_and_join(line):\n",
    "    return('-'.join(line.split(' ')))\n",
    "\n",
    "split_and_join('this is a string')"
   ]
  },
  {
   "cell_type": "code",
   "execution_count": 4,
   "metadata": {},
   "outputs": [
    {
     "data": {
      "text/plain": [
       "'this-is-a-string'"
      ]
     },
     "execution_count": 4,
     "metadata": {},
     "output_type": "execute_result"
    }
   ],
   "source": [
    "#第二种 用 replace() 方法\n",
    "def replace_space(line):\n",
    "    return(line.replace(' ','-'))\n",
    "\n",
    "replace_space('this is a string')"
   ]
  },
  {
   "cell_type": "markdown",
   "metadata": {},
   "source": [
    "# print(*objects, sep=' ', end='\\n', file=sys.stdout, flush=False)\n",
    "\n",
    "objects -- 复数，表示可以一次输出多个对象。输出多个对象时，需要用 , 分隔。\n",
    "sep -- 用来间隔多个对象，默认值是一个空格。\n",
    "end -- 用来设定以什么结尾。默认值是换行符 \\n，我们可以换成其他字符串。\n",
    "file -- 要写入的文件对象。"
   ]
  },
  {
   "cell_type": "code",
   "execution_count": 10,
   "metadata": {},
   "outputs": [
    {
     "name": "stdout",
     "output_type": "stream",
     "text": [
      "ju-p-t-er\n",
      "ju-p-t-er\n",
      "ju-p-t-er\n",
      "1 2 3 4 5 6\n",
      "1 2 3 4 5 6\n",
      "1 2 3 4 5 6\n",
      "1 2 3 4 5 6\n"
     ]
    }
   ],
   "source": [
    "print('ju','p','t','er',sep='-')\n",
    "print(*['ju','p','t','er'],sep='-')\n",
    "print(*('ju','p','t','er'),sep='-')\n",
    "\n",
    "a = '123456'\n",
    "b = ['1','2','3','4','5','6']\n",
    "c = ('1','2','3','4','5','6')\n",
    "d = range(1,7)\n",
    "print(*a)\n",
    "print(*b)\n",
    "print(*c)\n",
    "print(*d)"
   ]
  },
  {
   "cell_type": "code",
   "execution_count": 13,
   "metadata": {},
   "outputs": [
    {
     "name": "stdout",
     "output_type": "stream",
     "text": [
      "this-is-a-string\n"
     ]
    }
   ],
   "source": [
    "#第三种 用 print 的 sep\n",
    "\n",
    "def print_sep(line):\n",
    "    print(*line.split(),sep='-')\n",
    "\n",
    "print_sep('this is a string')"
   ]
  },
  {
   "cell_type": "markdown",
   "metadata": {},
   "source": [
    "# Find a string\n",
    "https://www.hackerrank.com/challenges/find-a-string/problem\n",
    "统计字符串里某个字符重叠出现的次数\n",
    "Sample Input:\n",
    "ABCDCDC\n",
    "CDC\n",
    "Sample Output:\n",
    "2"
   ]
  },
  {
   "cell_type": "code",
   "execution_count": 20,
   "metadata": {},
   "outputs": [
    {
     "name": "stdout",
     "output_type": "stream",
     "text": [
      "ABC\n",
      "BCD\n",
      "CDC\n",
      "DCD\n",
      "CDC\n",
      "DC\n",
      "C\n",
      "2\n"
     ]
    }
   ],
   "source": [
    "#第一种\n",
    "string = 'ABCDCDC'\n",
    "sub_string = 'CDC'\n",
    "num = 0\n",
    "for i in range(len(string)):\n",
    "    print(string[i:i+len(sub_string)])\n",
    "    if string[i:i+len(sub_string)] == sub_string:\n",
    "            num +=1\n",
    "print(num)"
   ]
  },
  {
   "cell_type": "code",
   "execution_count": 19,
   "metadata": {},
   "outputs": [
    {
     "name": "stdout",
     "output_type": "stream",
     "text": [
      "ABC\n",
      "BCD\n",
      "CDC\n",
      "DCD\n",
      "CDC\n",
      "2\n"
     ]
    }
   ],
   "source": [
    "#第一种 简化\n",
    "string = 'ABCDCDC'\n",
    "sub_string = 'CDC'\n",
    "num = 0\n",
    "for i in range(len(string)-len(sub_string)+1):\n",
    "    print(string[i:i+len(sub_string)])\n",
    "    if string[i:i+len(sub_string)] == sub_string:\n",
    "            num +=1\n",
    "print(num)"
   ]
  },
  {
   "cell_type": "code",
   "execution_count": 21,
   "metadata": {},
   "outputs": [
    {
     "name": "stdout",
     "output_type": "stream",
     "text": [
      "ABC\n",
      "BCD\n",
      "CDC\n",
      "DCD\n",
      "CDC\n",
      "[1, 1]\n",
      "2\n",
      "2\n"
     ]
    }
   ],
   "source": [
    "#第二种\n",
    "string = 'ABCDCDC'\n",
    "sub_string = 'CDC'\n",
    "num = []\n",
    "for i in range(len(string)-len(sub_string)+1):\n",
    "    if string[i:i+len(sub_string)] == sub_string:\n",
    "            num.append(1)\n",
    "print(num)\n",
    "print(sum(num))\n",
    "print(len(num))\n"
   ]
  },
  {
   "cell_type": "code",
   "execution_count": 23,
   "metadata": {},
   "outputs": [
    {
     "name": "stdout",
     "output_type": "stream",
     "text": [
      "2\n"
     ]
    }
   ],
   "source": [
    "#第二种 简化\n",
    "print(sum([ 1 for i in range(len(string)-len(sub_string)+1) if string[i:i+len(sub_string)] == sub_string]))"
   ]
  },
  {
   "cell_type": "markdown",
   "metadata": {},
   "source": [
    "# str.count(sub[, start[, end]])\n",
    "Return the number of non-overlapping occurrences of substring sub in the range [start, end]. Optional arguments start and end are interpreted as in slice notation.\n",
    "count() 方法用于统计字符串里某个字符不重叠出现的次数。可选参数为在字符串搜索的开始与结束位置。"
   ]
  },
  {
   "cell_type": "code",
   "execution_count": 24,
   "metadata": {},
   "outputs": [
    {
     "data": {
      "text/plain": [
       "1"
      ]
     },
     "execution_count": 24,
     "metadata": {},
     "output_type": "execute_result"
    }
   ],
   "source": [
    "string.count(sub_string) "
   ]
  },
  {
   "cell_type": "code",
   "execution_count": 35,
   "metadata": {},
   "outputs": [
    {
     "name": "stdout",
     "output_type": "stream",
     "text": [
      "['CDC']\n"
     ]
    }
   ],
   "source": [
    "#第三种 用正则表达式怎么表达？？？\n",
    "import re\n",
    "string = 'ABCDCDC'\n",
    "sub_string = 'CDC'\n",
    "match = re.findall(sub_string,string)\n",
    "print(match)"
   ]
  },
  {
   "cell_type": "markdown",
   "metadata": {},
   "source": [
    "# String Validators\n",
    "Output Format\n",
    "\n",
    "In the first line, print True if  has any alphanumeric characters. Otherwise, print False. \n",
    "In the second line, print True if  has any alphabetical characters. Otherwise, print False. \n",
    "In the third line, print True if  has any digits. Otherwise, print False. \n",
    "In the fourth line, print True if  has any lowercase characters. Otherwise, print False. \n",
    "In the fifth line, print True if  has any uppercase characters. Otherwise, print False."
   ]
  },
  {
   "cell_type": "code",
   "execution_count": 39,
   "metadata": {},
   "outputs": [
    {
     "name": "stdout",
     "output_type": "stream",
     "text": [
      "[True, True, True]\n",
      "[True, True, False]\n",
      "[False, False, True]\n",
      "[True, False, False]\n",
      "[False, True, False]\n"
     ]
    }
   ],
   "source": [
    "text = 'qA2' \n",
    "print([s.isalnum() for s in text])\n",
    "print([s.isalpha() for s in text])\n",
    "print([s.isdigit() for s in text])\n",
    "print([s.islower() for s in text])\n",
    "print([s.isupper() for s in text])"
   ]
  },
  {
   "cell_type": "code",
   "execution_count": 41,
   "metadata": {},
   "outputs": [
    {
     "name": "stdout",
     "output_type": "stream",
     "text": [
      "True\n",
      "True\n",
      "True\n",
      "True\n",
      "True\n"
     ]
    }
   ],
   "source": [
    "# 方法一\n",
    "text = 'qA2'\n",
    "if True in [s.isalnum() for s in text]:\n",
    "    print(True)\n",
    "else:\n",
    "    print(False)\n",
    "if True in [s.isalpha() for s in text]:\n",
    "    print(True)\n",
    "else:\n",
    "    print(False)\n",
    "if True in [s.isdigit() for s in text]:\n",
    "    print(True)\n",
    "else:\n",
    "    print(False)\n",
    "if True in [s.islower() for s in text]:\n",
    "    print(True)\n",
    "else:\n",
    "    print(False)\n",
    "if True in [s.isupper() for s in text]:\n",
    "    print(True)\n",
    "else:\n",
    "    print(False)\n"
   ]
  },
  {
   "cell_type": "markdown",
   "metadata": {},
   "source": [
    "# any() 函数\n",
    "用于判断给定的可迭代参数 iterable 是否全部为空对象，\n",
    "如果都为空、0、false，则返回 False，如果不都为空、0、false，则返回 True。"
   ]
  },
  {
   "cell_type": "markdown",
   "metadata": {},
   "source": [
    ">>>any(['a', 'b', 'c', 'd'])  # 列表list，元素都不为空或0\n",
    "True\n",
    " \n",
    ">>> any(['a', 'b', '', 'd'])   # 列表list，存在一个为空的元素\n",
    "True\n",
    " \n",
    ">>> any([0, '', False])        # 列表list,元素全为0,'',false\n",
    "False\n",
    " \n",
    ">>> any(('a', 'b', 'c', 'd'))  # 元组tuple，元素都不为空或0\n",
    "True\n",
    " \n",
    ">>> any(('a', 'b', '', 'd'))   # 元组tuple，存在一个为空的元素\n",
    "True\n",
    " \n",
    ">>> any((0, '', False))        # 元组tuple，元素全为0,'',false\n",
    "False\n",
    "  \n",
    ">>> any([]) # 空列表\n",
    "False\n",
    " \n",
    ">>> any(()) # 空元组\n",
    "False"
   ]
  },
  {
   "cell_type": "code",
   "execution_count": 42,
   "metadata": {},
   "outputs": [
    {
     "name": "stdout",
     "output_type": "stream",
     "text": [
      "True\n",
      "True\n",
      "True\n",
      "True\n",
      "True\n"
     ]
    }
   ],
   "source": [
    "#方法一 简化\n",
    "text = 'qA2' \n",
    "print(any([s.isalnum() for s in text]))\n",
    "print(any([s.isalpha() for s in text]))\n",
    "print(any([s.isdigit() for s in text]))\n",
    "print(any([s.islower() for s in text]))\n",
    "print(any([s.isupper() for s in text]))"
   ]
  },
  {
   "cell_type": "code",
   "execution_count": 44,
   "metadata": {},
   "outputs": [
    {
     "name": "stdout",
     "output_type": "stream",
     "text": [
      "True\n",
      "True\n",
      "True\n",
      "True\n",
      "True\n"
     ]
    }
   ],
   "source": [
    "#方法二\n",
    "s = 'qA2'\n",
    "for method in [str.isalnum, str.isalpha, str.isdigit, str.islower, str.isupper]:\n",
    "    print (any(method(c) for c in s))"
   ]
  },
  {
   "cell_type": "code",
   "execution_count": 49,
   "metadata": {},
   "outputs": [
    {
     "name": "stdout",
     "output_type": "stream",
     "text": [
      "Help on method_descriptor:\n",
      "\n",
      "isalnum(...)\n",
      "    S.isalnum() -> bool\n",
      "    \n",
      "    Return True if all characters in S are alphanumeric\n",
      "    and there is at least one character in S, False otherwise.\n",
      "\n"
     ]
    }
   ],
   "source": [
    "help(str.isalnum)"
   ]
  },
  {
   "cell_type": "code",
   "execution_count": 51,
   "metadata": {},
   "outputs": [
    {
     "name": "stdout",
     "output_type": "stream",
     "text": [
      "True\n",
      "True\n"
     ]
    }
   ],
   "source": [
    "s = 'qA2'\n",
    "print(s.isalnum())\n",
    "print(str.isalnum(s))"
   ]
  },
  {
   "cell_type": "code",
   "execution_count": 61,
   "metadata": {},
   "outputs": [
    {
     "name": "stdout",
     "output_type": "stream",
     "text": [
      "----H====\n",
      "---HHH===\n",
      "--HHHHH==\n",
      "-HHHHHHH=\n",
      "HHHHHHHHH\n",
      "++HHHHH+++~~~~~~~~~~~~HHHHH~~~~~~~~~~~~~\n",
      "++HHHHH+++~~~~~~~~~~~~HHHHH~~~~~~~~~~~~~\n",
      "++HHHHH+++~~~~~~~~~~~~HHHHH~~~~~~~~~~~~~\n",
      "++HHHHH+++~~~~~~~~~~~~HHHHH~~~~~~~~~~~~~\n",
      "++HHHHH+++~~~~~~~~~~~~HHHHH~~~~~~~~~~~~~\n",
      "++HHHHH+++~~~~~~~~~~~~HHHHH~~~~~~~~~~~~~\n",
      "--HHHHHHHHHHHHHHHHHHHHHHHHH---\n",
      "--HHHHHHHHHHHHHHHHHHHHHHHHH---\n",
      "--HHHHHHHHHHHHHHHHHHHHHHHHH---\n",
      "++HHHHH+++~~~~~~~~~~~~HHHHH~~~~~~~~~~~~~\n",
      "++HHHHH+++~~~~~~~~~~~~HHHHH~~~~~~~~~~~~~\n",
      "++HHHHH+++~~~~~~~~~~~~HHHHH~~~~~~~~~~~~~\n",
      "++HHHHH+++~~~~~~~~~~~~HHHHH~~~~~~~~~~~~~\n",
      "++HHHHH+++~~~~~~~~~~~~HHHHH~~~~~~~~~~~~~\n",
      "++HHHHH+++~~~~~~~~~~~~HHHHH~~~~~~~~~~~~~\n",
      "~~~~~~~~~~~~~~~~~~~=HHHHHHHHH-\n",
      "~~~~~~~~~~~~~~~~~~~==HHHHHHH--\n",
      "~~~~~~~~~~~~~~~~~~~===HHHHH---\n",
      "~~~~~~~~~~~~~~~~~~~====HHH----\n",
      "~~~~~~~~~~~~~~~~~~~=====H-----\n"
     ]
    }
   ],
   "source": [
    "#Replace all ______ with rjust, ljust or center. \n",
    "\n",
    "thickness = 5 #This must be an odd number\n",
    "c = 'H'\n",
    "\n",
    "#Top Cone\n",
    "for i in range(thickness):\n",
    "    print((c*i).rjust(thickness-1,'-')+c+(c*i).ljust(thickness-1,'='))\n",
    "\n",
    "    \n",
    "#Top Pillars\n",
    "for i in range(thickness+1):\n",
    "    print((c*thickness).center(thickness*2,'+')+(c*thickness).center(thickness*6,'~'))\n",
    "\n",
    "#Middle Belt\n",
    "for i in range((thickness+1)//2):\n",
    "    print((c*thickness*5).center(thickness*6,'-'))    \n",
    "\n",
    "#Bottom Pillars\n",
    "for i in range(thickness+1):\n",
    "    print((c*thickness).center(thickness*2,'+')+(c*thickness).center(thickness*6,'~'))    \n",
    "\n",
    "#Bottom Cone\n",
    "for i in range(thickness):\n",
    "    print(((c*(thickness-i-1)).rjust(thickness,'=')+c+(c*(thickness-i-1)).ljust(thickness,'-')).rjust(thickness*6,'~')) \n"
   ]
  },
  {
   "cell_type": "code",
   "execution_count": 74,
   "metadata": {},
   "outputs": [
    {
     "name": "stdout",
     "output_type": "stream",
     "text": [
      "          ♥                    ♥          \n",
      "        ♥♥♥♥♥                ♥♥♥♥♥        \n",
      "      ♥♥♥♥♥♥♥♥♥            ♥♥♥♥♥♥♥♥♥      \n",
      "    ♥♥♥♥♥♥♥♥♥♥♥♥♥        ♥♥♥♥♥♥♥♥♥♥♥♥♥    \n",
      "  ♥♥♥♥♥♥♥♥♥♥♥♥♥♥♥♥♥    ♥♥♥♥♥♥♥♥♥♥♥♥♥♥♥♥♥  \n",
      "    ♥♥♥♥♥♥♥♥♥♥♥♥♥♥♥♥♥♥♥♥♥♥♥♥♥♥♥♥♥♥♥♥♥    \n",
      "        ♥♥♥♥♥♥♥♥♥♥♥♥♥♥♥♥♥♥♥♥♥♥♥♥♥        \n",
      "            ♥♥♥♥♥♥♥♥♥♥♥♥♥♥♥♥♥            \n",
      "                ♥♥♥♥♥♥♥♥♥                \n",
      "                    ♥                    \n",
      "                    ♥                    \n",
      "                    ♥                    \n",
      "                    ♥                    \n",
      "                    ♥                    \n",
      "                    ♥                    \n"
     ]
    }
   ],
   "source": [
    "\n",
    "#Replace all ______ with rjust, ljust or center. \n",
    "\n",
    "thickness = 5 #This must be an odd number\n",
    "c = '♥'\n",
    "\n",
    "#Top Heart\n",
    "for i in range(thickness):\n",
    "    print((c*i*2).rjust(thickness*2)+c+(c*i*2).ljust(thickness*2)+(c*i*2).rjust(thickness*2)+c+(c*i*2).ljust(thickness*2))\n",
    "    \n",
    "#Bottom Heart\n",
    "for i in range(thickness*2):\n",
    "    print((c*(thickness-i-1)*4).rjust(thickness*4)+c+(c*(thickness-i-1)*4).ljust(thickness*4))"
   ]
  },
  {
   "cell_type": "code",
   "execution_count": 76,
   "metadata": {},
   "outputs": [
    {
     "name": "stdout",
     "output_type": "stream",
     "text": [
      "This\n",
      "is a\n",
      "very\n",
      "very\n",
      "very\n",
      "very\n",
      "very\n",
      "long s\n",
      "tring.\n"
     ]
    }
   ],
   "source": [
    "import textwrap\n",
    "string = \"This is a very very very very very long string.\"\n",
    "print (textwrap.fill(string,6))"
   ]
  },
  {
   "cell_type": "markdown",
   "metadata": {},
   "source": [
    "# Designer Door Mat\n",
    "https://www.hackerrank.com/challenges/designer-door-mat/problem"
   ]
  },
  {
   "cell_type": "code",
   "execution_count": 78,
   "metadata": {},
   "outputs": [
    {
     "name": "stdout",
     "output_type": "stream",
     "text": [
      "------------.|.------------\n",
      "---------.|..|..|.---------\n",
      "------.|..|..|..|..|.------\n",
      "---.|..|..|..|..|..|..|.---\n",
      "----------WELCOME----------\n",
      "---.|..|..|..|..|..|..|.---\n",
      "------.|..|..|..|..|.------\n",
      "---------.|..|..|.---------\n",
      "------------.|.------------\n"
     ]
    }
   ],
   "source": [
    "#方法一\n",
    "N, M = 9,27 \n",
    "for i in range(1,N,2): \n",
    "    print (('.|.'*i).center(M,'-'))\n",
    "print ('WELCOME'.center(M,'-'))\n",
    "for i in range(N-2,-1,-2): \n",
    "    print (('.|.'*i).center(M,'-'))"
   ]
  },
  {
   "cell_type": "code",
   "execution_count": 79,
   "metadata": {},
   "outputs": [
    {
     "name": "stdout",
     "output_type": "stream",
     "text": [
      "['------------.|.------------', '---------.|..|..|.---------', '------.|..|..|..|..|.------', '---.|..|..|..|..|..|..|.---']\n",
      "------------.|.------------\n",
      "---------.|..|..|.---------\n",
      "------.|..|..|..|..|.------\n",
      "---.|..|..|..|..|..|..|.---\n",
      "----------WELCOME----------\n",
      "---.|..|..|..|..|..|..|.---\n",
      "------.|..|..|..|..|.------\n",
      "---------.|..|..|.---------\n",
      "------------.|.------------\n"
     ]
    }
   ],
   "source": [
    "#方法二\n",
    "n, m = 9,27\n",
    "pattern = [('.|.'*(2*i + 1)).center(m, '-') for i in range(n//2)]\n",
    "print(pattern)\n",
    "print('\\n'.join(pattern + ['WELCOME'.center(m, '-')] + pattern[::-1]))"
   ]
  },
  {
   "cell_type": "markdown",
   "metadata": {},
   "source": []
  }
 ],
 "metadata": {
  "kernelspec": {
   "display_name": "Python 3",
   "language": "python",
   "name": "python3"
  },
  "language_info": {
   "codemirror_mode": {
    "name": "ipython",
    "version": 3
   },
   "file_extension": ".py",
   "mimetype": "text/x-python",
   "name": "python",
   "nbconvert_exporter": "python",
   "pygments_lexer": "ipython3",
   "version": "3.6.2"
  },
  "toc": {
   "nav_menu": {},
   "number_sections": true,
   "sideBar": true,
   "skip_h1_title": false,
   "title_cell": "Table of Contents",
   "title_sidebar": "Contents",
   "toc_cell": false,
   "toc_position": {},
   "toc_section_display": true,
   "toc_window_display": false
  },
  "varInspector": {
   "cols": {
    "lenName": 16,
    "lenType": 16,
    "lenVar": 40
   },
   "kernels_config": {
    "python": {
     "delete_cmd_postfix": "",
     "delete_cmd_prefix": "del ",
     "library": "var_list.py",
     "varRefreshCmd": "print(var_dic_list())"
    },
    "r": {
     "delete_cmd_postfix": ") ",
     "delete_cmd_prefix": "rm(",
     "library": "var_list.r",
     "varRefreshCmd": "cat(var_dic_list()) "
    }
   },
   "types_to_exclude": [
    "module",
    "function",
    "builtin_function_or_method",
    "instance",
    "_Feature"
   ],
   "window_display": false
  }
 },
 "nbformat": 4,
 "nbformat_minor": 2
}
