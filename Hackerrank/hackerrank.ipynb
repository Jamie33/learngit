{
 "cells": [
  {
   "cell_type": "markdown",
   "metadata": {
    "solution2": "hidden",
    "solution2_first": true
   },
   "source": [
    "# Print Function\n",
    "\n",
    "https://www.hackerrank.com/challenges/python-print/problem\n",
    "\n",
    "打印出123...N 之间的整数"
   ]
  },
  {
   "cell_type": "markdown",
   "metadata": {
    "solution2": "hidden"
   },
   "source": [
    "<span class=\"girk\">方法一</span> 用 for 循环依次打印出"
   ]
  },
  {
   "cell_type": "code",
   "execution_count": 3,
   "metadata": {
    "solution2": "hidden"
   },
   "outputs": [
    {
     "name": "stdout",
     "output_type": "stream",
     "text": [
      "123\n"
     ]
    }
   ],
   "source": [
    "n = 3\n",
    "for i in range(1,n+1):\n",
    "    print(i,end='')\n",
    "print('')"
   ]
  },
  {
   "cell_type": "markdown",
   "metadata": {
    "solution2": "hidden"
   },
   "source": [
    "<span class=\"girk\">方法二</span> 用 print 内置函数的参数"
   ]
  },
  {
   "cell_type": "code",
   "execution_count": 2,
   "metadata": {
    "solution2": "hidden"
   },
   "outputs": [
    {
     "name": "stdout",
     "output_type": "stream",
     "text": [
      "123\n"
     ]
    }
   ],
   "source": [
    "n=3\n",
    "print(*range(1, n+1), sep='')  "
   ]
  },
  {
   "cell_type": "markdown",
   "metadata": {
    "solution2": "hidden"
   },
   "source": [
    "<span class=\"mark\">知识点</span>  print(\\*objects, sep=' ', end='\\n', file=sys.stdout, flush=False)\n",
    "\n",
    "objects -- object 复数形式，表示可以一次输出多个对象。输出多个对象时，需要用 , 分隔。\n",
    "\n",
    "sep -- 用来间隔多个对象，默认值是一个空格。\n",
    "\n",
    "end -- 用来设定以什么结尾。默认值是换行符 \\n，我们可以换成其他字符串。\n",
    "\n",
    "file -- 要写入的文件对象。\n",
    "\n",
    "\\*objects -- 表示可以用可变参数\n",
    "\n",
    "在函数调用时，在 str/list/tuple/range 参数前加 \\*，意思是把 str/list/tuple/range 序列中的元素一个一个传到函数里面"
   ]
  },
  {
   "cell_type": "markdown",
   "metadata": {
    "solution2": "hidden"
   },
   "source": [
    "\n",
    "\n"
   ]
  },
  {
   "cell_type": "code",
   "execution_count": 7,
   "metadata": {
    "solution2": "hidden"
   },
   "outputs": [
    {
     "name": "stdout",
     "output_type": "stream",
     "text": [
      "1 2 3 4 5 6\n",
      "1 2 3 4 5 6\n",
      "1 2 3 4 5 6\n",
      "1 2 3 4 5 6\n",
      "ju-p-t-er\n",
      "ju-p-t-er\n",
      "ju-p-t-er\n",
      "1-2-3-4-5-6\n"
     ]
    }
   ],
   "source": [
    "a = '123456'\n",
    "b = ['1','2','3','4','5','6']\n",
    "c = ('1','2','3','4','5','6')\n",
    "d = range(1,7)\n",
    "\n",
    "print(*a)\n",
    "print(*b)\n",
    "print(*c)\n",
    "print(*d)\n",
    "\n",
    "print('ju','p','t','er',sep='-')\n",
    "print(*['ju','p','t','er'],sep='-')\n",
    "print(*('ju','p','t','er'),sep='-')\n",
    "print(*(range(1,7)),sep='-')"
   ]
  },
  {
   "cell_type": "markdown",
   "metadata": {
    "solution2": "hidden",
    "solution2_first": true
   },
   "source": [
    "# Lists\n",
    "\n",
    "https://www.hackerrank.com/challenges/python-lists/problem\n",
    "\n",
    "根据输入执行相应的命令"
   ]
  },
  {
   "cell_type": "markdown",
   "metadata": {
    "solution2": "hidden"
   },
   "source": [
    "<span class=\"girk\">方法一</span>  if...elif"
   ]
  },
  {
   "cell_type": "code",
   "execution_count": 8,
   "metadata": {
    "code_folding": [
     0
    ],
    "solution2": "hidden"
   },
   "outputs": [
    {
     "name": "stdout",
     "output_type": "stream",
     "text": [
      "2\n",
      "append 9\n",
      "print\n",
      "[9]\n"
     ]
    }
   ],
   "source": [
    "# 正常思路\n",
    "\n",
    "L = []\n",
    "N = int(input())\n",
    "   \n",
    "for i in range(N):\n",
    "    c = input().split(' ')\n",
    "    for i in range(1,len(c)):\n",
    "        c[i] = int(c[i])\n",
    "    command = c[0]\n",
    "        \n",
    "    if command == 'insert':\n",
    "        L.insert(c[1],c[2])\n",
    "    elif command == 'print':\n",
    "        print(L)\n",
    "    elif command == 'remove':\n",
    "        L.remove(c[1])\n",
    "    elif command == 'append':\n",
    "        L.append(c[1])\n",
    "    elif command == 'extend':\n",
    "        L.extend(c[1:])\n",
    "    elif command == 'sort':\n",
    "        L.sort()\n",
    "    elif command == 'pop':\n",
    "        L.pop()\n",
    "    elif command == 'reverse':\n",
    "        L.reverse()"
   ]
  },
  {
   "cell_type": "markdown",
   "metadata": {
    "solution2": "hidden"
   },
   "source": [
    "<span class=\"girk\">方法二</span>  eval()"
   ]
  },
  {
   "cell_type": "code",
   "execution_count": 14,
   "metadata": {
    "code_folding": [
     0
    ],
    "solution2": "hidden"
   },
   "outputs": [
    {
     "name": "stdout",
     "output_type": "stream",
     "text": [
      "2\n",
      "append 9\n",
      "['9']\n",
      "print\n",
      "[]\n",
      "[9]\n"
     ]
    }
   ],
   "source": [
    "#简化\n",
    "\n",
    "n = int(input())\n",
    "l = []\n",
    "for i in range(n):\n",
    "    c = input().split()\n",
    "    command = c[0]\n",
    "    if len(c) > 0:\n",
    "        args = c[1:]\n",
    "    print(args)\n",
    "    if command !=\"print\":\n",
    "        command += \"(\"+ \",\".join(args) +\")\"\n",
    "        eval(\"l.\"+command)\n",
    "    else:\n",
    "        print(l)"
   ]
  },
  {
   "cell_type": "markdown",
   "metadata": {
    "solution2": "hidden"
   },
   "source": [
    "<span class=\"mark\">知识点</span> 'sep'.join(seq)\n",
    "\n",
    "将字符串、列表、元组、字典中的元素以指定的字符(分隔符)连接生成一个新的字符串,\n",
    "\n",
    "sep -- 分隔符。可以为空\n",
    "\n",
    "seq -- 要连接的元素序列:字符串、列表、元组、字典。\n",
    "\n",
    "以sep作为分隔符，将seq所有的元素合并成一个新的字符串。返回一个以分隔符sep连接各个元素后生成的字符串"
   ]
  },
  {
   "cell_type": "code",
   "execution_count": 15,
   "metadata": {
    "code_folding": [
     0
    ],
    "scrolled": true,
    "solution2": "hidden"
   },
   "outputs": [
    {
     "name": "stdout",
     "output_type": "stream",
     "text": [
      "H e l l o W o r l d I a m a p r o g r a m m e r\n",
      "Hello World I am a programmer\n",
      "Hello：World：I：am：a：programmer\n",
      "hello-world-I-am-a-programmer\n",
      "9,9,9\n",
      "9\n",
      "(0,5)\n",
      "(0)\n"
     ]
    }
   ],
   "source": [
    "#seq内元素只能是可迭代字符串类型，数字不可以\n",
    "\n",
    "#对字符串进行操作\n",
    "seq1 = 'HelloWorldIamaprogrammer'\n",
    "print((' ').join(seq1))\n",
    "\n",
    "#对列表进行操作\n",
    "seq2 = ['Hello','World','I','am','a','programmer']\n",
    "print((' ').join(seq2))\n",
    "\n",
    "#对元祖进行操作\n",
    "seq3 = ('Hello','World','I','am','a','programmer')\n",
    "print(('：').join(seq3))\n",
    "\n",
    "#对字典进行操作\n",
    "seq4 = {'hello':1,'world':2,'I':3,'am':4,'a':5,'programmer':6}\n",
    "print(('-').join(seq4))\n",
    "\n",
    "\n",
    "#seq内元素数量的不同，结果不同\n",
    "\n",
    "#元素有2或多个个\n",
    "\n",
    "num3 = ['9','9','9']\n",
    "print((',').join(num3))\n",
    "\n",
    "#元素只有1个,结果没有分隔符\n",
    "\n",
    "num1 =['9']\n",
    "print((',').join(num1))\n",
    "\n",
    "#应用：合并参数\n",
    "\n",
    "print('('+','.join(['0', '5'])+')')\n",
    "print('('+','.join(['0'])+')')"
   ]
  },
  {
   "cell_type": "markdown",
   "metadata": {
    "solution2": "hidden"
   },
   "source": [
    "<span class=\"mark\">知识点</span>  eval()函数  \n",
    "\n",
    "将字符串str当成有效的表达式来求值并返回计算结果。所以，结合math当成一个计算器很好用。"
   ]
  },
  {
   "cell_type": "code",
   "execution_count": 13,
   "metadata": {
    "code_folding": [
     0
    ],
    "solution2": "hidden"
   },
   "outputs": [
    {
     "name": "stdout",
     "output_type": "stream",
     "text": [
      "4\n",
      "4\n",
      "[[1, 2], [3, 4], [5, 6], [7, 8], [9, 0]]\n",
      "(1, 2, 3, 4)\n",
      "{1: 'xx', 2: 'yy'}\n"
     ]
    }
   ],
   "source": [
    "#计算字符串中有效的表达式\n",
    "print(eval('pow(2,2)'))\n",
    "print(eval('2+2'))\n",
    "\n",
    "#将字符串转成相应的对象（如list、tuple、dict和string之间的转换）\n",
    "a=\"[[1,2], [3,4], [5,6], [7,8], [9,0]]\"\n",
    "b=\"(1,2,3,4)\"\n",
    "c=\"{1:'xx',2:'yy'}\"\n",
    "\n",
    "print(eval(a))\n",
    "print(eval(b))\n",
    "print(eval(c))"
   ]
  },
  {
   "cell_type": "markdown",
   "metadata": {
    "solution2": "hidden",
    "solution2_first": true
   },
   "source": [
    "# List Comprehensions\n",
    "\n",
    "https://www.hackerrank.com/challenges/list-comprehensions/problem\n",
    "\n",
    "根据要求属于三维坐标"
   ]
  },
  {
   "cell_type": "markdown",
   "metadata": {
    "solution2": "hidden"
   },
   "source": [
    "<span class=\"girk\">方法一</span> for 循环"
   ]
  },
  {
   "cell_type": "code",
   "execution_count": 13,
   "metadata": {
    "code_folding": [],
    "scrolled": true,
    "solution2": "hidden"
   },
   "outputs": [
    {
     "name": "stdout",
     "output_type": "stream",
     "text": [
      "1\n",
      "1\n",
      "1\n",
      "2\n",
      "[[0, 0, 0], [0, 0, 1], [0, 1, 0], [1, 0, 0], [1, 1, 1]]\n"
     ]
    }
   ],
   "source": [
    "# 正常思路\n",
    "x = int(input())\n",
    "y = int(input())\n",
    "z = int(input())\n",
    "n = int(input())\n",
    "l = []\n",
    "for a in range(x+1):\n",
    "    for b in range(y+1):\n",
    "        for c in range(z+1):\n",
    "            if a+b+c != n:\n",
    "                l.append([a,b,c])\n",
    "print(l)"
   ]
  },
  {
   "cell_type": "markdown",
   "metadata": {
    "solution2": "hidden"
   },
   "source": [
    "<span class=\"girk\">方法二</span> 简化方法"
   ]
  },
  {
   "cell_type": "code",
   "execution_count": 14,
   "metadata": {
    "code_folding": [],
    "solution2": "hidden"
   },
   "outputs": [
    {
     "name": "stdout",
     "output_type": "stream",
     "text": [
      "1\n",
      "1\n",
      "1\n",
      "2\n",
      "[[0, 0, 0], [0, 0, 1], [0, 1, 0], [1, 0, 0], [1, 1, 1]]\n"
     ]
    }
   ],
   "source": [
    "# 简化4次input，列表生成式\n",
    "x,y,z,n = [int(input()) for i in range(4)]\n",
    "l = [[a,b,c] for a in range(x+1) for b in range(y+1) for c in range(z+1) if (a+b+c) != n]\n",
    "\n",
    "print(l)"
   ]
  },
  {
   "cell_type": "markdown",
   "metadata": {},
   "source": [
    "# Find the Runner-Up Score!\n",
    "\n",
    "https://www.hackerrank.com/challenges/find-second-maximum-number-in-a-list/editorial\n",
    "\n",
    "找到列表中第二大的数字"
   ]
  },
  {
   "cell_type": "markdown",
   "metadata": {},
   "source": [
    "<span class=\"girk\">方法一</span> 用 set() , sorted()"
   ]
  },
  {
   "cell_type": "code",
   "execution_count": 32,
   "metadata": {},
   "outputs": [
    {
     "name": "stdout",
     "output_type": "stream",
     "text": [
      "5\n",
      "2 3 6 6 5\n",
      "5\n"
     ]
    }
   ],
   "source": [
    "n = int(input())\n",
    "l = set(map(int,input().split()))\n",
    "print(sorted(l)[-2])"
   ]
  },
  {
   "cell_type": "markdown",
   "metadata": {},
   "source": [
    "<span class=\"girk\">方法二</span>  不用 set() , sorted()"
   ]
  },
  {
   "cell_type": "code",
   "execution_count": 56,
   "metadata": {
    "code_folding": [
     0
    ]
   },
   "outputs": [
    {
     "name": "stdout",
     "output_type": "stream",
     "text": [
      "5\n",
      "2 3 6 6 5\n",
      "5\n"
     ]
    }
   ],
   "source": [
    "#最基本的算法\n",
    "n = int(input())\n",
    "l = list(map(int,input().split()))\n",
    "maximum = max(l)\n",
    "m = -999999\n",
    "for i in l:\n",
    "    if i > m and i != maximum:\n",
    "        m = i\n",
    "   \n",
    "print(m)"
   ]
  },
  {
   "cell_type": "markdown",
   "metadata": {},
   "source": [
    "<span class=\"girk\">方法三</span>  collections.Counter() "
   ]
  },
  {
   "cell_type": "code",
   "execution_count": 75,
   "metadata": {},
   "outputs": [
    {
     "name": "stdout",
     "output_type": "stream",
     "text": [
      "5\n",
      "2 3 6 6 5\n"
     ]
    },
    {
     "data": {
      "text/plain": [
       "5"
      ]
     },
     "execution_count": 75,
     "metadata": {},
     "output_type": "execute_result"
    }
   ],
   "source": [
    "from collections import Counter\n",
    "n = int(input())\n",
    "l = Counter(map(int,input().split())).keys()\n",
    "sorted(l)[-2]"
   ]
  },
  {
   "cell_type": "markdown",
   "metadata": {
    "collapsed": true
   },
   "source": [
    "<span class=\"girk\">方法四</span>  函数"
   ]
  },
  {
   "cell_type": "code",
   "execution_count": 71,
   "metadata": {},
   "outputs": [
    {
     "data": {
      "text/plain": [
       "5"
      ]
     },
     "execution_count": 71,
     "metadata": {},
     "output_type": "execute_result"
    }
   ],
   "source": [
    "l = [2, 3, 6, 1, 5]\n",
    "# 列表最大值\n",
    "def maximum(l): \n",
    "    d = -9999999\n",
    "    for i in l:\n",
    "        if i > d:\n",
    "            d = i\n",
    "    return(d)\n",
    "\n",
    "#maximum(l)\n",
    "\n",
    "#列表第二大值\n",
    "def second(l): \n",
    "    m = maximum(l)\n",
    "    e = -9999999\n",
    "    for i in l:\n",
    "        if (i > e) and (i != m):\n",
    "            e = i\n",
    "    return(e)\n",
    "\n",
    "second(l)\n"
   ]
  },
  {
   "cell_type": "markdown",
   "metadata": {},
   "source": [
    "<span class=\"girk\">拓展</span>  求列表最大值"
   ]
  },
  {
   "cell_type": "code",
   "execution_count": 1,
   "metadata": {},
   "outputs": [
    {
     "data": {
      "text/plain": [
       "6"
      ]
     },
     "execution_count": 1,
     "metadata": {},
     "output_type": "execute_result"
    }
   ],
   "source": [
    "# 列表最大值\n",
    "from functools import reduce\n",
    "def get_max(x,y):\n",
    "    if x > y:\n",
    "        return x\n",
    "    else:\n",
    "        return y\n",
    "l = [2, 3, 6, 1, 5]\n",
    "reduce(get_max,l)\n",
    "\n",
    "#简化\n",
    "from functools import reduce\n",
    "reduce(lambda x,y:x if x>y else y,l)"
   ]
  },
  {
   "cell_type": "markdown",
   "metadata": {},
   "source": [
    "# Nested Lists\n",
    "\n",
    "https://www.hackerrank.com/challenges/nested-list/problem\n",
    "\n",
    "找到成绩排名第二的学生"
   ]
  },
  {
   "cell_type": "markdown",
   "metadata": {},
   "source": [
    "<span class=\"girk\">第一种</span>   用字典"
   ]
  },
  {
   "cell_type": "code",
   "execution_count": 82,
   "metadata": {},
   "outputs": [
    {
     "name": "stdout",
     "output_type": "stream",
     "text": [
      "5\n",
      "Harry\n",
      "37.21\n",
      "Berry\n",
      "37.21\n",
      "Tina\n",
      "37.2\n",
      "Akriti\n",
      "41\n",
      "Harsh\n",
      "39\n",
      "[['Harry', 37.21], ['Berry', 37.21], ['Tina', 37.2], ['Akriti', 41.0], ['Harsh', 39.0]]\n"
     ]
    }
   ],
   "source": [
    "#创建数据\n",
    "students = []  \n",
    "for i in range(int(input())):\n",
    "    name = input()\n",
    "    score = float(input())\n",
    "    students.append([name,score])\n",
    "print(students)\n",
    "\n",
    "#简化\n",
    "students=[[input(),float(input())] for i in range(int(input()))]"
   ]
  },
  {
   "cell_type": "code",
   "execution_count": 45,
   "metadata": {},
   "outputs": [
    {
     "name": "stdout",
     "output_type": "stream",
     "text": [
      "{'Harry': 37.21, 'Berry': 37.21, 'Tina': 37.2, 'Akriti': 41.0, 'Harsh': 39.0}\n",
      "Berry\n",
      "Harry\n",
      "Berry\n",
      "Harry\n"
     ]
    }
   ],
   "source": [
    "students = [['Harry', 37.21], ['Berry', 37.21], ['Tina', 37.2], ['Akriti', 41.0], ['Harsh', 39.0]]\n",
    "c = dict(students)\n",
    "print(c)\n",
    "second = sorted(set(c.values()))[1]\n",
    "s = [i[0] for i in students if i[1] == second]\n",
    "\n",
    "#第一种打印方式\n",
    "for i in sorted(s):\n",
    "    print(i)\n",
    "\n",
    "#第二种打印方式    \n",
    "print('\\n'.join(sorted(s)))"
   ]
  },
  {
   "cell_type": "markdown",
   "metadata": {},
   "source": [
    "<span class=\"girk\">第二种</span>   不用字典 简化"
   ]
  },
  {
   "cell_type": "code",
   "execution_count": 2,
   "metadata": {},
   "outputs": [
    {
     "name": "stdout",
     "output_type": "stream",
     "text": [
      "Berry\n",
      "Harry\n"
     ]
    }
   ],
   "source": [
    "students = [['Harry', 37.21], ['Berry', 37.21], ['Tina', 37.2], ['Akriti', 41.0], ['Harsh', 39.0]]\n",
    "\n",
    "second = sorted(set([i[1] for i in students]))[1]\n",
    "for i in sorted([i[0] for i in students if i[1] == second]):\n",
    "    print(i)"
   ]
  },
  {
   "cell_type": "markdown",
   "metadata": {},
   "source": [
    "<span class=\"girk\">第三种</span>   "
   ]
  },
  {
   "cell_type": "code",
   "execution_count": 41,
   "metadata": {},
   "outputs": [
    {
     "name": "stdout",
     "output_type": "stream",
     "text": [
      "Berry\n",
      "Harry\n"
     ]
    }
   ],
   "source": [
    "#第三种方法\n",
    "students = [['Harry', 37.21], ['Berry', 37.21], ['Tina', 37.2], ['Akriti', 41.0], ['Harsh', 39.0]]\n",
    "\n",
    "second_highest = sorted(set([y for x,y in students]))[1]\n",
    "print('\\n'.join([a for a,b in sorted(students) if b == second_highest]))"
   ]
  },
  {
   "cell_type": "markdown",
   "metadata": {},
   "source": [
    "<span class=\"burk\">知识点</span>  迭代嵌套列表"
   ]
  },
  {
   "cell_type": "code",
   "execution_count": 38,
   "metadata": {},
   "outputs": [
    {
     "name": "stdout",
     "output_type": "stream",
     "text": [
      "['Harry', 'Berry', 'Tina', 'Akriti', 'Harsh']\n",
      "[37.21, 37.21, 37.2, 41.0, 39.0]\n",
      "[3, 2, 1, 4, 4]\n"
     ]
    }
   ],
   "source": [
    "students = [['Harry', 37.21], ['Berry', 37.21], ['Tina', 37.2], ['Akriti', 41.0], ['Harsh', 39.0]]\n",
    "a = []\n",
    "b = []\n",
    "for i,x in students:\n",
    "    a.append(i)\n",
    "    b.append(x)\n",
    "print(a)\n",
    "print(b)\n",
    "\n",
    "c = [['Harry', 37.21,3], ['Berry', 37.21,2], ['Tina', 37.2,1], ['Akriti', 41.0,4], ['Harsh', 39.0,4]]\n",
    "print([z for x,y,z in c])"
   ]
  },
  {
   "cell_type": "markdown",
   "metadata": {},
   "source": [
    "<span class=\"burk\">知识点</span>  通过字典的value获取其key,这个方法只适合没有相同value的字典"
   ]
  },
  {
   "cell_type": "code",
   "execution_count": 30,
   "metadata": {},
   "outputs": [
    {
     "data": {
      "text/plain": [
       "'a'"
      ]
     },
     "execution_count": 30,
     "metadata": {},
     "output_type": "execute_result"
    }
   ],
   "source": [
    "d = {'a':'001', 'b':'002'}\n",
    "list(d.keys())[list(d.values()).index(\"001\")]\n",
    "#index() 函数用于从列表中找出某个值第一个匹配项的索引位置。\n",
    "\n",
    "#？？？如果要获取所有的索引位置"
   ]
  },
  {
   "cell_type": "markdown",
   "metadata": {},
   "source": [
    "# Finding the percentage\n",
    "\n",
    "https://www.hackerrank.com/challenges/finding-the-percentage/problem\n",
    "\n",
    "把学生和3门成绩的平均值一起存在字典中"
   ]
  },
  {
   "cell_type": "code",
   "execution_count": 7,
   "metadata": {},
   "outputs": [
    {
     "name": "stdout",
     "output_type": "stream",
     "text": [
      "3\n",
      "Krishna 67 68 69 \n",
      "Arjun 70 98 63 \n",
      "Malika 52 56 60\n",
      "{'Krishna': [67, 68, 69], 'Arjun': [70, 98, 63], 'Malika': [52, 56, 60]}\n"
     ]
    }
   ],
   "source": [
    "#创建数据\n",
    "n = int(input())\n",
    "d = {}\n",
    "for i in range(n):\n",
    "    text = input().split()\n",
    "    d[text[0]] = list(map(float,text[1:])) #d[text[0]] = [float(i) for i in text[1:]]\n",
    "print(d)"
   ]
  },
  {
   "cell_type": "code",
   "execution_count": 52,
   "metadata": {},
   "outputs": [
    {
     "name": "stdout",
     "output_type": "stream",
     "text": [
      "Krishna\n",
      "68.00\n"
     ]
    }
   ],
   "source": [
    "scores = {'Krishna': [67, 68, 69], 'Arjun': [70, 98, 63], 'Malika': [52, 56, 60]}\n",
    "name = input()\n",
    "sum = 0\n",
    "for i in scores[name]:\n",
    "    sum += i\n",
    "    average_score = sum/len(scores[name])\n",
    "print('{:.2f}'.format(average_score))"
   ]
  },
  {
   "cell_type": "code",
   "execution_count": 4,
   "metadata": {},
   "outputs": [
    {
     "name": "stdout",
     "output_type": "stream",
     "text": [
      "3\n",
      "Krishna 67 68 69 \n",
      "Arjun 70 98 63 \n",
      "Malika 52 56 60\n",
      "Krishna\n",
      "68.00\n"
     ]
    }
   ],
   "source": [
    "# 把学生和3门成绩的平均值一起存在字典中\n",
    "\n",
    "n = int(input())\n",
    "\n",
    "d = {}\n",
    "for i in range(n):\n",
    "    text = input().split()\n",
    "    d[text[0]] ='{:.2f}'.format(sum((map(float,text[1:]))/3)\n",
    "print(d[input()])"
   ]
  },
  {
   "cell_type": "code",
   "execution_count": 16,
   "metadata": {},
   "outputs": [
    {
     "data": {
      "text/plain": [
       "'HackerRan.'"
      ]
     },
     "execution_count": 16,
     "metadata": {},
     "output_type": "execute_result"
    }
   ],
   "source": [
    "s = 'HackerRan.' \n",
    "def swap_case(s):\n",
    "    for i in s:\n",
    "       \n",
    "        if i.islower():\n",
    "            i.upper()\n",
    "        else :\n",
    "            i.lower()\n",
    "        \n",
    "    return s\n",
    "\n",
    "swap_case(s)\n",
    "\n",
    "#没有任何改变\n",
    "#因为字符串是不可变类型，而且方法有返回值的，一定要储存，要不然就白弄了"
   ]
  },
  {
   "cell_type": "code",
   "execution_count": 18,
   "metadata": {},
   "outputs": [
    {
     "data": {
      "text/plain": [
       "'hACKERrAN.'"
      ]
     },
     "execution_count": 18,
     "metadata": {},
     "output_type": "execute_result"
    }
   ],
   "source": [
    "s = 'HackerRan.' \n",
    "S = []\n",
    "def swap_case(s):\n",
    "    for i in s:\n",
    "       \n",
    "        if i.islower():\n",
    "            S.append(i.upper())\n",
    "        else :\n",
    "            S.append(i.lower())\n",
    "        \n",
    "    return ''.join(S)\n",
    "\n",
    "swap_case(s)"
   ]
  },
  {
   "cell_type": "code",
   "execution_count": null,
   "metadata": {
    "collapsed": true
   },
   "outputs": [],
   "source": [
    "[for i in s if]"
   ]
  },
  {
   "cell_type": "code",
   "execution_count": 19,
   "metadata": {},
   "outputs": [
    {
     "data": {
      "text/plain": [
       "'hACKERrAN.'"
      ]
     },
     "execution_count": 19,
     "metadata": {},
     "output_type": "execute_result"
    }
   ],
   "source": [
    "s.swapcase()"
   ]
  },
  {
   "cell_type": "markdown",
   "metadata": {},
   "source": [
    "# String Formatting\n",
    "https://www.hackerrank.com/challenges/python-string-formatting/problem"
   ]
  },
  {
   "cell_type": "code",
   "execution_count": 57,
   "metadata": {},
   "outputs": [
    {
     "name": "stdout",
     "output_type": "stream",
     "text": [
      "    1     1     1     1\n",
      "    2     2     2    10\n",
      "    3     3     3    11\n",
      "    4     4     4   100\n",
      "    5     5     5   101\n",
      "    6     6     6   110\n",
      "    7     7     7   111\n",
      "    8    10     8  1000\n",
      "    9    11     9  1001\n",
      "   10    12     A  1010\n",
      "   11    13     B  1011\n",
      "   12    14     C  1100\n",
      "   13    15     D  1101\n",
      "   14    16     E  1110\n",
      "   15    17     F  1111\n",
      "   16    20    10 10000\n",
      "   17    21    11 10001\n"
     ]
    }
   ],
   "source": [
    "#第一种方法\n",
    "\n",
    "n = 17\n",
    "width = len(bin(n)[2:])\n",
    "for i in range(1,n+1):\n",
    "    print(str(i).rjust(width),str(oct(i))[2:].rjust(width),str(hex(i))[2:].upper().rjust(width),str(bin(i))[2:].rjust(width))\n",
    "    "
   ]
  },
  {
   "cell_type": "code",
   "execution_count": 55,
   "metadata": {},
   "outputs": [
    {
     "name": "stdout",
     "output_type": "stream",
     "text": [
      "    1     1     1     1\n",
      "    2     2     2    10\n",
      "    3     3     3    11\n",
      "    4     4     4   100\n",
      "    5     5     5   101\n",
      "    6     6     6   110\n",
      "    7     7     7   111\n",
      "    8    10     8  1000\n",
      "    9    11     9  1001\n",
      "   10    12     a  1010\n",
      "   11    13     b  1011\n",
      "   12    14     c  1100\n",
      "   13    15     d  1101\n",
      "   14    16     e  1110\n",
      "   15    17     f  1111\n",
      "   16    20    10 10000\n",
      "   17    21    11 10001\n"
     ]
    }
   ],
   "source": [
    "#第二种方法\n",
    "n = 17\n",
    "width = len(bin(n))-2\n",
    "for i in range(1,n+1):\n",
    "    print('{0:{width}d} {0:{width}o} {0:{width}x} {0:{width}b}'.format(i,width = width))"
   ]
  },
  {
   "cell_type": "markdown",
   "metadata": {},
   "source": [
    "# Alphabet Rangoli\n",
    "https://www.hackerrank.com/challenges/alphabet-rangoli/problem"
   ]
  },
  {
   "cell_type": "code",
   "execution_count": 88,
   "metadata": {},
   "outputs": [
    {
     "name": "stdout",
     "output_type": "stream",
     "text": [
      "['a', 'b', 'c', 'd', 'e', 'f', 'g', 'h', 'i', 'j', 'k', 'l', 'm', 'n', 'o', 'p', 'q', 'r', 's', 't', 'u', 'v', 'w', 'x', 'y', 'z']\n",
      "--------e--------\n",
      "--------d--------\n",
      "--------c--------\n",
      "--------b--------\n",
      "--------a--------\n",
      "--------a--------\n",
      "--------a--------\n",
      "--------b--------\n",
      "--------c--------\n",
      "--------d--------\n",
      "--------e--------\n"
     ]
    }
   ],
   "source": [
    "n = 5\n",
    "alpha = [chr(i) for i in range(97,123)]\n",
    "print(alpha)\n",
    "\n",
    "#top corn\n",
    "for i in range(n-1,-1,-1):\n",
    "    print(+alpha[i].center(4*n-3,'-')+)  \n",
    "\n",
    "#middle belt\n",
    "print(alpha[0].center(4*n-3,'-'))  \n",
    "#below corn\n",
    "for i in range(n):\n",
    "    print(alpha[i].center(4*n-3,'-'))  "
   ]
  },
  {
   "cell_type": "code",
   "execution_count": 137,
   "metadata": {},
   "outputs": [
    {
     "name": "stdout",
     "output_type": "stream",
     "text": [
      "--------a--------\n",
      "------a-a-a------\n",
      "----a-a-a-a-a----\n",
      "--a-a-a-a-a-a-a--\n",
      "a-a-a-a-a-a-a-a-a\n",
      "--a-a-a-a-a-a-a--\n",
      "----a-a-a-a-a----\n",
      "------a-a-a------\n",
      "--------a--------\n"
     ]
    }
   ],
   "source": [
    "n = 5\n",
    "a = 'a-'\n",
    "\n",
    "#top corn\n",
    "\n",
    "for i in range(0,2*n-2,2):\n",
    "    print((a*(i+1)).center(4*n-3,'-'))  \n",
    "\n",
    "#middle belt\n",
    "\n",
    "print(((a*(2*n-1)).center(4*n-3,'-').rstrip('-')))  \n",
    "\n",
    "#below corn\n",
    "\n",
    "for i in range(2*n-4,-2,-2):\n",
    "   print((a*(i+1)).center(4*n-3,'-'))"
   ]
  },
  {
   "cell_type": "code",
   "execution_count": 39,
   "metadata": {},
   "outputs": [
    {
     "name": "stdout",
     "output_type": "stream",
     "text": [
      "e-d-c-b-a-b-c-d-e\n",
      "--e-d-c-b-c-d-e--\n",
      "----e-d-c-d-e----\n",
      "------e-d-e------\n",
      "--------e--------\n"
     ]
    }
   ],
   "source": [
    "n = 5\n",
    "icon = 'e-'\n",
    "\n",
    "alpha = [chr(i) for i in range(97,123)]\n",
    "\n",
    "\n",
    "for i in range(5):\n",
    "    s  = alpha[i:n]\n",
    "    b = alpha[i+1:n]\n",
    "    line = ('-').join(s[::-1]+b)\n",
    "    print(line.center(4*n-3,'-'))\n",
    "    \n"
   ]
  },
  {
   "cell_type": "code",
   "execution_count": 75,
   "metadata": {},
   "outputs": [
    {
     "name": "stdout",
     "output_type": "stream",
     "text": [
      "['e-d-c-b-a-b-c-d-e', 'e-d-c-b-c-d-e', 'e-d-c-d-e', 'e-d-e', 'e']\n",
      "--------e--------\n",
      "------e-d-e------\n",
      "----e-d-c-d-e----\n",
      "--e-d-c-b-c-d-e--\n",
      "e-d-c-b-a-b-c-d-e\n",
      "--e-d-c-b-c-d-e--\n",
      "----e-d-c-d-e----\n",
      "------e-d-e------\n",
      "--------e--------\n"
     ]
    }
   ],
   "source": [
    "#方法一\n",
    "n = 5\n",
    "\n",
    "alpha = [chr(i) for i in range(97,123)]\n",
    "line = []\n",
    "\n",
    "for i in range(5):\n",
    "    rstr  = alpha[i:n]\n",
    "    lstr = alpha[i+1:n]\n",
    "    line.append('-'.join(lstr[::-1]+rstr))\n",
    "print(line)\n",
    "\n",
    "\n",
    "for l in line[:0:-1]:\n",
    "    print(l.center(4*n-3,'-'))\n",
    "    \n",
    "for l in line:\n",
    "    print(l.center(4*n-3,'-'))"
   ]
  },
  {
   "cell_type": "code",
   "execution_count": 95,
   "metadata": {},
   "outputs": [
    {
     "name": "stdout",
     "output_type": "stream",
     "text": [
      "a-b-c-d-e\n",
      "b-c-d-e\n",
      "c-d-e\n",
      "d-e\n",
      "e\n",
      "['e-d-c-b-a-b-c-d-e', '--e-d-c-b-c-d-e--', '----e-d-c-d-e----', '------e-d-e------', '--------e--------']\n",
      "--------e--------\n",
      "------e-d-e------\n",
      "----e-d-c-d-e----\n",
      "e-d-c-b-a-b-c-d-e\n",
      "--e-d-c-b-c-d-e--\n",
      "----e-d-c-d-e----\n",
      "------e-d-e------\n",
      "--------e--------\n",
      "--------e--------\n",
      "------e-d-e------\n",
      "----e-d-c-d-e----\n",
      "e-d-c-b-a-b-c-d-e\n",
      "--e-d-c-b-c-d-e--\n",
      "----e-d-c-d-e----\n",
      "------e-d-e------\n",
      "--------e--------\n",
      "--------e--------\n",
      "------e-d-e------\n",
      "----e-d-c-d-e----\n",
      "e-d-c-b-a-b-c-d-e\n",
      "--e-d-c-b-c-d-e--\n",
      "----e-d-c-d-e----\n",
      "------e-d-e------\n",
      "--------e--------\n",
      "--------e--------\n",
      "------e-d-e------\n",
      "----e-d-c-d-e----\n",
      "e-d-c-b-a-b-c-d-e\n",
      "--e-d-c-b-c-d-e--\n",
      "----e-d-c-d-e----\n",
      "------e-d-e------\n",
      "--------e--------\n"
     ]
    }
   ],
   "source": [
    "#方法二\n",
    "n = 5\n",
    "\n",
    "alpha = [chr(i) for i in range(97,123)]\n",
    "line = []\n",
    "\n",
    "for i in range(5):\n",
    "    s = '-'.join(alpha[i:n])\n",
    "    print(s)\n",
    "    line.append((s[::-1]+s[1:]).center(4*n-3,'-'))\n",
    "print(line)\n",
    "print('\\n'.join(line[:1:-1]+line))\n",
    "print('\\n'.join(line[-1:1:-1]+line))\n",
    "print('\\n'.join(line[:-4:-1]+line))\n",
    "print('\\n'.join(line[-1:-4:-1]+line))"
   ]
  },
  {
   "cell_type": "code",
   "execution_count": 98,
   "metadata": {},
   "outputs": [
    {
     "name": "stdout",
     "output_type": "stream",
     "text": [
      "Chris Alan "
     ]
    }
   ],
   "source": [
    "name = 'chris alan'\n",
    "for n in name.split(' '):\n",
    "    print(n.capitalize(),end=' ')"
   ]
  },
  {
   "cell_type": "code",
   "execution_count": 102,
   "metadata": {},
   "outputs": [
    {
     "data": {
      "text/plain": [
       "'Chris Alan'"
      ]
     },
     "execution_count": 102,
     "metadata": {},
     "output_type": "execute_result"
    }
   ],
   "source": [
    "(' ').join([n.capitalize() for n in name.split(' ')])"
   ]
  },
  {
   "cell_type": "markdown",
   "metadata": {},
   "source": [
    "#  title() 与 capitalize() 的区别\n",
    "\n",
    "capitalize()与title()都可以实现字符串首字母大写.\n",
    "\n",
    "主要区别在于：\n",
    "capitalize(): 字符串第一个字母大写\n",
    "title(): 字符串内的所有单词的首字母大写\n",
    "\n",
    "字母开头的情况：\n",
    "\n",
    ">>> str='huang bi quan'\n",
    ">>> str.capitalize()        \n",
    "'Huang bi quan'          #第一个字母大写\n",
    ">>> str.title()\n",
    "'Huang Bi Quan'          #所有单词的首字母大写\n",
    "\n",
    "非字母开头的情况：\n",
    "\n",
    ">>> str='深圳luohu'\n",
    ">>> str.capitalize()\n",
    "'深圳luohu'               #输出内容不变\n",
    ">>> str.title()\n",
    "'深圳Luohu'               #第一个字母大写"
   ]
  },
  {
   "cell_type": "code",
   "execution_count": 109,
   "metadata": {},
   "outputs": [
    {
     "name": "stdout",
     "output_type": "stream",
     "text": [
      "title()\n",
      "Abcd\n",
      "12Abcd\n",
      "Ab Cd\n",
      "capitalize()\n",
      "Abcd\n",
      "12abcd\n",
      "Ab cd\n"
     ]
    }
   ],
   "source": [
    "print('title()方法')\n",
    "a = 'abcd'\n",
    "print(a.title())\n",
    "\n",
    "b = '12abcd'\n",
    "print(b.title())\n",
    "\n",
    "c = 'ab cd'\n",
    "print(c.title())\n",
    "\n",
    "print('capitalize()方法')\n",
    "d = 'abcd'\n",
    "print(d.capitalize())\n",
    "\n",
    "e = '12abcd'\n",
    "print(e.capitalize())\n",
    "\n",
    "f = 'ab cd'\n",
    "print(f.capitalize())"
   ]
  },
  {
   "cell_type": "markdown",
   "metadata": {},
   "source": [
    "# The Minion Game \n",
    "https://www.hackerrank.com/challenges/the-minion-game/problem"
   ]
  },
  {
   "cell_type": "code",
   "execution_count": 72,
   "metadata": {},
   "outputs": [
    {
     "name": "stdout",
     "output_type": "stream",
     "text": [
      "Stuart 12\n"
     ]
    }
   ],
   "source": [
    "#方法一  但是当string很多的时候，就不行了\n",
    "string = 'BANANA'\n",
    "S_score = 0\n",
    "K_score = 0\n",
    "vowel = 'AEIOU'\n",
    "\n",
    "for cut_len in range(len(string)):\n",
    "    for s in range(len(string)):\n",
    "        if len(string[s:s+cut_len+1]) == cut_len+1:\n",
    "            if string[s:s+cut_len+1][0] in vowel:\n",
    "                K_score += 1\n",
    "            else:\n",
    "                S_score += 1\n",
    "      \n",
    "if S_score > K_score:\n",
    "    print('Stuart',S_score)\n",
    "elif S_score < K_score:\n",
    "    print('Kevin',K_score)\n",
    "elif S_score == K_score:\n",
    "    print('Draw')"
   ]
  },
  {
   "cell_type": "code",
   "execution_count": 75,
   "metadata": {},
   "outputs": [
    {
     "name": "stdout",
     "output_type": "stream",
     "text": [
      "Stuart 12\n"
     ]
    }
   ],
   "source": [
    "#方法二\n",
    "string = 'BANANA'\n",
    "S_score = 0\n",
    "K_score = 0\n",
    "vowel = 'AEIOU'\n",
    "\n",
    "for i in range(len(string)):\n",
    "    if string[i] in vowel:\n",
    "        K_score += len(string) - i\n",
    "    else:\n",
    "        S_score += len(string) - i\n",
    "        \n",
    "if S_score > K_score:\n",
    "    print('Stuart',S_score)\n",
    "elif S_score < K_score:\n",
    "    print('Kevin',K_score)\n",
    "elif S_score == K_score:\n",
    "    print('Draw')"
   ]
  },
  {
   "cell_type": "code",
   "execution_count": 20,
   "metadata": {},
   "outputs": [
    {
     "name": "stdout",
     "output_type": "stream",
     "text": [
      "{'N', 'BA', 'B', 'NANA', 'BANAN', 'ANA', 'ANANA', 'BANA', 'BANANA', 'NA', 'BAN', 'A'}\n",
      "18\n"
     ]
    }
   ],
   "source": [
    "string = 'BANANA'\n",
    "combstr = []\n",
    "for i in range(len(string)):\n",
    "    combstr.append(string[i:])\n",
    "    combstr.append(string[:i+1])\n",
    "    combstr.append(string[i])\n",
    "    \n",
    "    \n",
    "print(set(combstr))\n",
    "print(len(combstr))"
   ]
  },
  {
   "cell_type": "code",
   "execution_count": 50,
   "metadata": {},
   "outputs": [
    {
     "name": "stdout",
     "output_type": "stream",
     "text": [
      "{'ANAN', 'N', 'BA', 'B', 'NANA', 'BANAN', 'ANA', 'BANA', 'ANANA', 'AN', 'NAN', 'BANANA', 'NA', 'BAN', 'A'}\n",
      "15\n",
      "{'Stuart': ['N', 'BA', 'B', 'NANA', 'BANAN', 'BANA', 'NAN', 'BANANA', 'NA', 'BAN'], 'Kevin': ['ANAN', 'ANA', 'ANANA', 'AN', 'A']}\n"
     ]
    }
   ],
   "source": [
    "string = 'BANANA'\n",
    "substrings = []\n",
    "\n",
    "for cut_len in range(len(string)):\n",
    "    for s in range(len(string)):\n",
    "        if len(string[s:s+cut_len+1]) == cut_len+1:\n",
    "            substrings.append(string[s:s+cut_len+1])\n",
    "\n",
    "substrings = set(substrings)\n",
    "print(substrings)\n",
    "print(len(substrings))\n",
    "\n",
    "palyers = {'Stuart':[],'Kevin':[]}\n",
    "\n",
    "vowel = 'AEIOU'\n",
    "for i in substrings:\n",
    "    if i[0] in vowel:\n",
    "        palyers['kevin'].append(i)\n",
    "    else:\n",
    "        palyers['Stuart'].append(i)\n",
    "print(palyers)"
   ]
  },
  {
   "cell_type": "code",
   "execution_count": 63,
   "metadata": {},
   "outputs": [
    {
     "name": "stdout",
     "output_type": "stream",
     "text": [
      "['B', 'A', 'N', 'A', 'N', 'A', 'BA', 'AN', 'NA', 'AN', 'NA', 'BAN', 'ANA', 'NAN', 'ANA', 'BANA', 'ANAN', 'NANA', 'BANAN', 'ANANA', 'BANANA']\n",
      "12 9\n",
      "Stuart 12\n"
     ]
    }
   ],
   "source": [
    "string = 'BANANA'\n",
    "substrings = []\n",
    "\n",
    "for cut_len in range(len(string)):\n",
    "    for s in range(len(string)):\n",
    "        if len(string[s:s+cut_len+1]) == cut_len+1:\n",
    "            substrings.append(string[s:s+cut_len+1])\n",
    "\n",
    "print(substrings)\n",
    "\n",
    "Stuart = []\n",
    "Kevin = []\n",
    "vowel = 'AEIOU'\n",
    "for i in substrings:\n",
    "    if i[0] in vowel:\n",
    "        Kevin.append(i)\n",
    "    else:\n",
    "        Stuart.append(i)\n",
    "\n",
    "from collections import Counter\n",
    "\n",
    "\n",
    "S_dict = dict(Counter(Stuart))\n",
    "K_dict = dict(Counter(Kevin))\n",
    "\n",
    "S_score = 0\n",
    "K_score = 0\n",
    "\n",
    "for v in S_dict.values():\n",
    "        S_score += v\n",
    "\n",
    "for v in K_dict.values():\n",
    "        K_score += v\n",
    "        \n",
    "print(S_score,K_score)\n",
    "\n",
    "if S_score > K_score:\n",
    "    print('Stuart',S_score)\n",
    "elif S_score < K_score:\n",
    "    print('Kevin',K_score)\n",
    "elif S_score == K_score:\n",
    "    print('Draw')"
   ]
  },
  {
   "cell_type": "code",
   "execution_count": 33,
   "metadata": {},
   "outputs": [
    {
     "name": "stdout",
     "output_type": "stream",
     "text": [
      "['B', 'A', 'N', 'A', 'N', 'A']\n",
      "['BA', 'AN', 'NA', 'AN', 'NA']\n",
      "['BAN', 'ANA', 'NAN', 'ANA']\n",
      "['BANA', 'ANAN', 'NANA']\n",
      "['BANAN', 'ANANA']\n",
      "['BANANA']\n"
     ]
    }
   ],
   "source": [
    "#按照长度切分字符串，变成n个子字符串\n",
    "string = 'BANANA'\n",
    "\n",
    "def cut_word(n,string):\n",
    "    substrings = []\n",
    "    for i in range(len(string)):\n",
    "        if len(string[i:i+n]) == n:\n",
    "            substrings.append(string[i:i+n])\n",
    "    print(substrings)\n",
    "    \n",
    "for n in range(len(string)):\n",
    "    cut_word(n+1,string)"
   ]
  },
  {
   "cell_type": "code",
   "execution_count": 34,
   "metadata": {},
   "outputs": [
    {
     "name": "stdout",
     "output_type": "stream",
     "text": [
      "['B', 'A', 'N', 'A', 'N', 'A', 'BA', 'AN', 'NA', 'AN', 'NA', 'BAN', 'ANA', 'NAN', 'ANA', 'BANA', 'ANAN', 'NANA', 'BANAN', 'ANANA', 'BANANA']\n"
     ]
    }
   ],
   "source": [
    "#切分子字符串\n",
    "string = 'BANANA'\n",
    "\n",
    "def cut_word(string):\n",
    "    substrings = []\n",
    "    for n in range(len(string)):\n",
    "        for i in range(len(string)):\n",
    "            if len(string[i:i+n+1]) == n+1:\n",
    "                substrings.append(string[i:i+n+1])\n",
    "    print(substrings)\n",
    "    \n",
    "cut_word(string)"
   ]
  },
  {
   "cell_type": "code",
   "execution_count": null,
   "metadata": {
    "collapsed": true
   },
   "outputs": [],
   "source": [
    "s = 'BANANA'\n",
    "vowels = 'AEIOU'\n",
    "\n",
    "kevsc = 0\n",
    "stusc = 0\n",
    "for i in range(len(s)):\n",
    "    if s[i] in vowels:\n",
    "        kevsc += (len(s)-i)\n",
    "    else:\n",
    "        stusc += (len(s)-i)\n",
    "\n",
    "if kevsc > stusc:\n",
    "    print \"Kevin\", kevsc\n",
    "elif kevsc < stusc:\n",
    "    print \"Stuart\", stusc\n",
    "else:\n",
    "    print \"Draw\""
   ]
  },
  {
   "cell_type": "markdown",
   "metadata": {},
   "source": [
    "# Merge the Tools!\n",
    "https://www.hackerrank.com/challenges/merge-the-tools/problem"
   ]
  },
  {
   "cell_type": "code",
   "execution_count": 3,
   "metadata": {},
   "outputs": [
    {
     "name": "stdout",
     "output_type": "stream",
     "text": [
      "['AAB', 'CAA', 'ADA']\n"
     ]
    }
   ],
   "source": [
    "string = 'AABCAAADA'\n",
    "k = 3\n",
    "cut_len = int(len(string)/k)\n",
    "cut_word = []\n",
    "for i in range(0,len(string),cut_len):\n",
    "        cut_word.append(string[i:i+cut_len])\n",
    "print(cut_word)"
   ]
  },
  {
   "cell_type": "code",
   "execution_count": 13,
   "metadata": {},
   "outputs": [
    {
     "name": "stdout",
     "output_type": "stream",
     "text": [
      "['A', 'B', 'C', 'A', 'D', 'A']\n"
     ]
    }
   ],
   "source": [
    "string = 'AABCAAADA'\n",
    "s = list(string)\n",
    "k = 3\n",
    "split_number = int(len(string)/k)\n",
    "i = 0\n",
    "while i < len(s)-1:\n",
    "    if s[i] == s[i+1]:\n",
    "        del s[i]\n",
    "    else:\n",
    "        i += 1\n",
    "\n"
   ]
  },
  {
   "cell_type": "code",
   "execution_count": 14,
   "metadata": {},
   "outputs": [
    {
     "data": {
      "text/plain": [
       "3.0"
      ]
     },
     "execution_count": 14,
     "metadata": {},
     "output_type": "execute_result"
    }
   ],
   "source": [
    "9/3"
   ]
  },
  {
   "cell_type": "code",
   "execution_count": 14,
   "metadata": {},
   "outputs": [
    {
     "name": "stdout",
     "output_type": "stream",
     "text": [
      "AB\n",
      "CA\n",
      "AD\n"
     ]
    }
   ],
   "source": [
    "#方法一\n",
    "string = 'AABCAAADA'\n",
    "k = 3\n",
    "\n",
    "for i in range(0,len(string),k):\n",
    "        s = []\n",
    "        for item in string[i:i+k]:\n",
    "            if item not in s:\n",
    "                s.append(item)\n",
    "        print(''.join(s))"
   ]
  },
  {
   "cell_type": "markdown",
   "metadata": {},
   "source": [
    "# 列表生成式理解出错的例子"
   ]
  },
  {
   "cell_type": "code",
   "execution_count": 43,
   "metadata": {},
   "outputs": [
    {
     "name": "stdout",
     "output_type": "stream",
     "text": [
      "['A', 'B', 'C', 'D']\n",
      "['A', 'A', 'B', 'C', 'A', 'A', 'A', 'D', 'A']\n",
      "[None, None, None, None]\n",
      "['A', 'B', 'C', 'D']\n"
     ]
    }
   ],
   "source": [
    "string = 'AABCAAADA'\n",
    "k = 3\n",
    "s = []\n",
    "\n",
    "for item in string:\n",
    "    if item not in s:\n",
    "        s.append(item)\n",
    "print(s)\n",
    "\n",
    "#我们把上面的代码块简化成下面的\n",
    "a = []\n",
    "print([item for item in string if item not in a]) #2\n",
    "\n",
    "#但是结果却不一样，原因在哪里？\n",
    "'''\n",
    "#2处，因为比较的a列表中一直都是空的，所以条件一直都是True\n",
    "'''\n",
    "\n",
    "# 或者这样\n",
    "r = []\n",
    "print([r.append(item) for item in string if item not in r])\n",
    "#由于 append()方法无返回值，所以打印出的是none\n",
    "print(r)"
   ]
  },
  {
   "cell_type": "code",
   "execution_count": 44,
   "metadata": {},
   "outputs": [
    {
     "name": "stdout",
     "output_type": "stream",
     "text": [
      "AB\n",
      "{'A': 'A', 'B': 'B'}\n",
      "CA\n",
      "{'C': 'C', 'A': 'A'}\n",
      "AD\n",
      "{'A': 'A', 'D': 'D'}\n"
     ]
    }
   ],
   "source": [
    "#方法二\n",
    "string = 'AABCAAADA'\n",
    "k = 3\n",
    "for part in zip(*[iter(string)] * k):\n",
    "    d = dict()\n",
    "    print(''.join([ d.setdefault(c, c) for c in part if c not in d ]))\n",
    "    print(d)"
   ]
  },
  {
   "cell_type": "markdown",
   "metadata": {},
   "source": [
    "# dict.setdefault(key, default=None)\n",
    "\n",
    "Python 字典 setdefault() 方法和get()方法类似, 如果键不已经存在于字典中，将会添加键并将值设为默认值。\n",
    "\n",
    "参数\n",
    "key -- 查找的键值。\n",
    "default -- 键不存在时，设置的默认键值。\n",
    "\n",
    "返回值\n",
    "如果 key 在 字典中，返回对应的值。如果不在字典中，则插入 key 及设置的默认值 default，并返回 default ，default 默认值为 None。\n",
    "\n",
    "# dict.get(key, default=None)\n",
    "\n",
    "Python 字典 get() 函数返回指定键的值，如果值不在字典中返回默认值。\n",
    "\n",
    "参数\n",
    "key -- 字典中要查找的键。\n",
    "default -- 如果指定键的值不存在时，返回该默认值值。\n",
    "\n",
    "返回值\n",
    "返回指定键的值，如果值不在字典中返回默认值 None。"
   ]
  },
  {
   "cell_type": "code",
   "execution_count": 7,
   "metadata": {},
   "outputs": [
    {
     "name": "stdout",
     "output_type": "stream",
     "text": [
      "A\n",
      "NA\n",
      "{'A': 'A', 'B': 'B'}\n",
      "A\n",
      "NA\n",
      "{'A': 'A', 'B': 'B', 'C': 'NA'}\n"
     ]
    }
   ],
   "source": [
    "a = {'A': 'A', 'B': 'B'}\n",
    "\n",
    "print(a.get('A','NA'))\n",
    "print(a.get('C','NA'))\n",
    "print(a)\n",
    "print(a.setdefault('A','NA'))\n",
    "print(a.setdefault('C','NA'))\n",
    "print(a)"
   ]
  },
  {
   "cell_type": "markdown",
   "metadata": {},
   "source": [
    "# iter()函数\n",
    "\n",
    "凡是可作用于for循环的对象都是Iterable类型；\n",
    "凡是可作用于next()函数的对象都是Iterator类型，它们表示一个惰性计算的序列；\n",
    "\n",
    "生成器都是Iterator对象，但list、dict、str虽然是Iterable，却不是Iterator。\n",
    "把list、dict、str等Iterable变成Iterator可以使用iter()函数\n",
    "\n",
    "\n",
    "# iterator 对象 迭代器\n",
    "\n",
    "可以被next()函数调用并不断返回下一个值的对象称为迭代器：Iterator。\n",
    "\n",
    "Python的Iterator对象表示的是一个数据流，Iterator对象可以被next()函数调用并不断返回下一个数据，直到没有数据时抛出StopIteration错误。可以把这个数据流看做是一个有序序列，但我们却不能提前知道序列的长度，只能不断通过next()函数实现按需计算下一个数据，所以Iterator的计算是惰性的，只有在需要返回下一个数据时它才会计算。\n",
    "\n",
    "Iterator甚至可以表示一个无限大的数据流，例如全体自然数。而使用list是永远不可能存储全体自然数的。\n",
    "\n",
    "# zip(*iterables)函数\n",
    "https://docs.python.org/3/library/functions.html#zip\n",
    "\n",
    "Python3中的zip函数可以把两个或者两个以上的迭代器封装成生成器，这种zip生成器会从每个迭代器中获取该迭代器的下一个值，然后把这些值组装成元组（tuple）。这样，zip函数就实现了平行地遍历多个迭代器。\n",
    "\n",
    "如果输入的迭代器长度不同，那么，只要有一个迭代器遍历完，zip就不再产生元组了，zip会提前终止，这可能导致意外的结果，不可不察。\n",
    "\n",
    "zip(*[iter(s)]*n)将数据序列聚类为n长度组的习语成为可能。这重复了相同的迭代器n次，以使每个输出元组具有对迭代器的n次调用的结果。这具有将输入划分为n个长块的效果。\n",
    "\n",
    "zip() 与 * 操作符一起可以用来 unzip 一个列表"
   ]
  },
  {
   "cell_type": "code",
   "execution_count": 37,
   "metadata": {},
   "outputs": [
    {
     "name": "stdout",
     "output_type": "stream",
     "text": [
      "a is apple\n",
      "b is boy\n",
      "c is cat\n",
      "d is dog\n"
     ]
    }
   ],
   "source": [
    "#很简洁地实现了同时遍历两个列表\n",
    "list1 = ['a','b','c','d']\n",
    "list2 = ['apple','boy','cat','dog']\n",
    "for x,y in zip(list1,list2):\n",
    "    print(x,'is',y)"
   ]
  },
  {
   "cell_type": "code",
   "execution_count": 36,
   "metadata": {},
   "outputs": [
    {
     "name": "stdout",
     "output_type": "stream",
     "text": [
      "[('A', 'A', 'B'), ('C', 'A', 'A'), ('A', 'D', 'A')]\n"
     ]
    }
   ],
   "source": [
    "s = 'AABCAAADA'\n",
    "i = iter(s)\n",
    "print(list(zip(i,i,i))) \n",
    "#其中3个i都是指向同一个iterator对象，它的内容只能被消费一次，每next()调用一次，就到下一个数据"
   ]
  },
  {
   "cell_type": "code",
   "execution_count": 42,
   "metadata": {},
   "outputs": [
    {
     "name": "stdout",
     "output_type": "stream",
     "text": [
      "[1, 2, 3, 1, 2, 3, 1, 2, 3]\n",
      "[[1, 2, 3], [1, 2, 3], [1, 2, 3]]\n",
      "[[9, 2, 3], [9, 2, 3], [9, 2, 3]]\n"
     ]
    }
   ],
   "source": [
    "l = [1,2,3]\n",
    "n = l*3\n",
    "m = [l]*3\n",
    "print(n)\n",
    "print(m)\n",
    "m[0][0]=9\n",
    "print(m)"
   ]
  },
  {
   "cell_type": "markdown",
   "metadata": {},
   "source": [
    "# list.sort() 方法 与 sorted() 函数\n",
    "\n",
    "sorted(iterable,key=None,reverse=False)，返回新的列表，对所有可迭代的对象均有效\n",
    "\n",
    "list.sort(key=None,reverse=False) 就地改变列表reverse：True反序；False 正序\n",
    "\n",
    "sorted 和list.sort 都接受key, reverse定制。但是区别是。list.sort()是列表中的方法，只能用于列表。而sorted可以用于任何可迭代的对象。list.sort()是在原序列上进行修改，不会产生新的序列。所以如果你不需要旧的序列，可以选择list.sort()。 sorted() 会返回一个新的序列。旧的对象依然存在。"
   ]
  },
  {
   "cell_type": "markdown",
   "metadata": {},
   "source": [
    "# Symmetric Difference\n",
    "https://www.hackerrank.com/challenges/symmetric-difference/problem"
   ]
  },
  {
   "cell_type": "code",
   "execution_count": 25,
   "metadata": {},
   "outputs": [
    {
     "name": "stdout",
     "output_type": "stream",
     "text": [
      "5\n",
      "9\n",
      "11\n",
      "12\n"
     ]
    }
   ],
   "source": [
    "M = '2 4 5 9'\n",
    "N = '2 4 11 12'\n",
    "M = set(map(int,M.split(' ')))\n",
    "N = set(map(int,N.split(' ')))\n",
    "for i in sorted(M^N):\n",
    "    print(i)"
   ]
  },
  {
   "cell_type": "code",
   "execution_count": 33,
   "metadata": {},
   "outputs": [
    {
     "name": "stdout",
     "output_type": "stream",
     "text": [
      "['11', '5', '9', '12']\n",
      "['11', '12', '5', '9']\n",
      "['5', '9', '11', '12']\n",
      "5\n",
      "9\n",
      "11\n",
      "12\n"
     ]
    }
   ],
   "source": [
    "M = '2 4 5 9'\n",
    "N = '2 4 11 12'\n",
    "M = set(M.split(' '))\n",
    "N = set(N.split(' '))\n",
    "sym_dif = list(M^N)\n",
    "print(sym_dif)\n",
    "print(sorted(sym_dif))\n",
    "print(sorted(sym_dif,key=int))\n",
    "print('\\n'.join(sorted(sym_dif,key=int)))"
   ]
  },
  {
   "cell_type": "code",
   "execution_count": 34,
   "metadata": {},
   "outputs": [
    {
     "name": "stdout",
     "output_type": "stream",
     "text": [
      "4\n",
      "2 4 5 9\n",
      "4\n",
      "2 4 11 12\n",
      "5\n",
      "9\n",
      "11\n",
      "12\n",
      "5 9 11 12\n"
     ]
    }
   ],
   "source": [
    "#方法一\n",
    "m,M,n,N =[input() for i in range(4)]\n",
    "M = set(map(int,M.split(' ')))\n",
    "N = set(map(int,N.split(' ')))\n",
    "\n",
    "for i in sorted(M^N):\n",
    "    print(i)\n",
    "    \n",
    "#上面的for循环等同于下面的代码块\n",
    "print(*sorted(M^N),sep='\\n')"
   ]
  },
  {
   "cell_type": "code",
   "execution_count": 35,
   "metadata": {},
   "outputs": [
    {
     "name": "stdout",
     "output_type": "stream",
     "text": [
      "4 \n",
      "2 4 5 9 \n",
      "4\n",
      "2 4 11 12\n",
      "5\n",
      "9\n",
      "11\n",
      "12\n"
     ]
    }
   ],
   "source": [
    "#方法二 简化\n",
    "a,b = [set(input().split()) for i in range(4)][1::2]\n",
    "print(*sorted(a^b, key=int), sep='\\n')"
   ]
  },
  {
   "cell_type": "code",
   "execution_count": 36,
   "metadata": {},
   "outputs": [
    {
     "name": "stdout",
     "output_type": "stream",
     "text": [
      "4  \n",
      "2 4 5 9  \n",
      "4 \n",
      "2 4 11 12\n",
      "5\n",
      "9\n",
      "11\n",
      "12\n"
     ]
    }
   ],
   "source": [
    "#方法三\n",
    "a,b = [set(input().split()) for i in range(4)][1::2]\n",
    "print ('\\n'.join(sorted(a^b, key=int)))"
   ]
  },
  {
   "cell_type": "markdown",
   "metadata": {},
   "source": [
    "# 'sep'.join(seq)\n",
    "sep：分隔符。可以为空\n",
    "seq：要连接的元素序列、字符串、元组，里面的元素必须是字符串类型\n",
    "如果是整数类型，\n",
    "可以先把它转化为字符串类型  print('\\n'.join(map(str,a)))\n",
    "或者用 print(*a,sep='\\n')\n"
   ]
  },
  {
   "cell_type": "code",
   "execution_count": 46,
   "metadata": {},
   "outputs": [
    {
     "name": "stdout",
     "output_type": "stream",
     "text": [
      "5\n",
      "9\n",
      "11\n",
      "12\n",
      "5\n",
      "9\n",
      "11\n",
      "12\n",
      "5\n",
      "9\n",
      "11\n",
      "12\n",
      "5\n",
      "9\n",
      "11\n",
      "12\n"
     ]
    }
   ],
   "source": [
    "a = ['5', '9', '11', '12']\n",
    "print('\\n'.join(a))\n",
    "print(*a,sep='\\n')\n",
    "\n",
    "a = [5, 9, 11, 12]\n",
    "print(*a,sep='\\n')\n",
    "#print('\\n'.join(a)) 报错，因为a里面的元素是整数型\n",
    "print('\\n'.join(map(str,a))) #先把元素转化为字符串类型"
   ]
  },
  {
   "cell_type": "code",
   "execution_count": 45,
   "metadata": {},
   "outputs": [
    {
     "name": "stdout",
     "output_type": "stream",
     "text": [
      "5\n",
      "9\n",
      "11\n",
      "12\n",
      "5\n",
      "9\n",
      "11\n",
      "12\n"
     ]
    }
   ],
   "source": [
    "# 按照数字的大小，从小到大换行打印每一个元素\n",
    "a = ['11', '12', '5', '9'] \n",
    "\n",
    "print('\\n'.join(sorted(a,key = int)))\n",
    "\n",
    "print(*(sorted(a,key=int)),sep='\\n')"
   ]
  },
  {
   "cell_type": "markdown",
   "metadata": {},
   "source": [
    "# No Idea!\n",
    "https://www.hackerrank.com/challenges/no-idea/problem"
   ]
  },
  {
   "cell_type": "code",
   "execution_count": 12,
   "metadata": {},
   "outputs": [
    {
     "name": "stdout",
     "output_type": "stream",
     "text": [
      "1\n"
     ]
    }
   ],
   "source": [
    "#方法一  如果序列太大了，太耗时了\n",
    "n = 3\n",
    "m = 2\n",
    "arry = [1,5,3]\n",
    "A = {3,1}\n",
    "B = {5,7}\n",
    "happiness = 0\n",
    "\n",
    "for i in arry:\n",
    "    if i in A:\n",
    "        happiness += arry.count(i)\n",
    "    elif i in B:\n",
    "        happiness -= arry.count(i)\n",
    "print(happiness)"
   ]
  },
  {
   "cell_type": "code",
   "execution_count": 17,
   "metadata": {},
   "outputs": [
    {
     "name": "stdout",
     "output_type": "stream",
     "text": [
      "1\n"
     ]
    }
   ],
   "source": [
    "#方法二 简化\n",
    "n = 3\n",
    "m = 2\n",
    "arry = [1,5,3]\n",
    "A = {3,1}\n",
    "B = {5,7}\n",
    "happiness = 0\n",
    "count = []\n",
    "for i in arry:\n",
    "    if i in A:\n",
    "        count.append(1)\n",
    "    elif i in B:\n",
    "        count.append(-1)\n",
    "    else:\n",
    "        count.append(0)\n",
    "print(sum(count))"
   ]
  },
  {
   "cell_type": "code",
   "execution_count": 19,
   "metadata": {},
   "outputs": [
    {
     "name": "stdout",
     "output_type": "stream",
     "text": [
      "[1, -1, 1]\n"
     ]
    }
   ],
   "source": [
    "#方法三\n",
    "n = 3\n",
    "m = 2\n",
    "arry = [1,5,3]\n",
    "A = {3,1}\n",
    "B = {5,7}\n",
    "happiness = 0\n",
    "count = []\n",
    "for i in arry:\n",
    "    count.append((i in A) - (i in B))\n",
    "print(count)"
   ]
  },
  {
   "cell_type": "code",
   "execution_count": 20,
   "metadata": {},
   "outputs": [
    {
     "name": "stdout",
     "output_type": "stream",
     "text": [
      "1\n",
      "0\n"
     ]
    }
   ],
   "source": [
    "print(int(True))\n",
    "print(int(False))"
   ]
  },
  {
   "cell_type": "code",
   "execution_count": 3,
   "metadata": {},
   "outputs": [
    {
     "name": "stdout",
     "output_type": "stream",
     "text": [
      "3 2\n",
      "1 5 3\n",
      "3 1\n",
      "5 7\n",
      "3 2 [1, 5, 3] {1, 3} {5, 7}\n"
     ]
    }
   ],
   "source": [
    "n,m = list(map(int,input().split(' ')))\n",
    "arry = list(map(int,input().split(' ')))\n",
    "A = set(map(int,input().split(' ')))\n",
    "B = set(map(int,input().split(' ')))\n",
    "print(n,m,arry,A,B)"
   ]
  },
  {
   "cell_type": "code",
   "execution_count": 11,
   "metadata": {},
   "outputs": [
    {
     "name": "stdout",
     "output_type": "stream",
     "text": [
      "3 2\n",
      "1 5 3\n",
      "3 1\n",
      "5 7\n",
      "3 2 ['1', '5', '3'] {'3', '1'} {'5', '7'}\n"
     ]
    }
   ],
   "source": [
    "n,m = input().split(' ')\n",
    "arry = input().split(' ')\n",
    "A = set(input().split(' '))\n",
    "B = set(input().split(' '))\n",
    "print(n,m,arry,A,B)"
   ]
  },
  {
   "cell_type": "code",
   "execution_count": 6,
   "metadata": {},
   "outputs": [
    {
     "name": "stdout",
     "output_type": "stream",
     "text": [
      "7\n",
      "UK  \n",
      "China \n",
      "USA \n",
      "France\n",
      "New Zealand\n",
      " UK \n",
      "France\n",
      "{'France', 'China', 'USA', 'UK', 'New Zealand'} 5\n"
     ]
    }
   ],
   "source": [
    "n = int(input())\n",
    "country = set(input().strip() for i in range(n))\n",
    "print(country,len(country))"
   ]
  },
  {
   "cell_type": "code",
   "execution_count": 17,
   "metadata": {},
   "outputs": [
    {
     "name": "stdout",
     "output_type": "stream",
     "text": [
      "9\n",
      "1 2 3 4 5 6 7 8 9\n",
      "{1, 2, 3, 4, 5, 6, 7, 8, 9}\n"
     ]
    }
   ],
   "source": [
    "n = int(input())\n",
    "s = set(map(int,input().split(' ')))\n",
    "print(s)"
   ]
  },
  {
   "cell_type": "code",
   "execution_count": 23,
   "metadata": {},
   "outputs": [
    {
     "name": "stdout",
     "output_type": "stream",
     "text": [
      "1 2 3 4 5 6 7 8 9\n",
      "10 1 2 3 11 21 55 6 8\n",
      "{'6', '2', '5', '8', '3', ' ', '7', '9', '4', '1'} {'6', '2', '5', '0', '8', '3', ' ', '1'}\n",
      "{'4', '7', '9'}\n"
     ]
    }
   ],
   "source": [
    "Eng,Fre = (set(input().split(' ')) for i in range(2))\n",
    "print(Eng,Fre)\n",
    "\n",
    "print(Eng - Fre)"
   ]
  },
  {
   "cell_type": "markdown",
   "metadata": {},
   "source": [
    "# Set Mutations\n",
    "https://www.hackerrank.com/challenges/py-set-mutations/problem"
   ]
  },
  {
   "cell_type": "markdown",
   "metadata": {},
   "source": [
    "<span class=\"girk\">方法一</span> if"
   ]
  },
  {
   "cell_type": "code",
   "execution_count": 2,
   "metadata": {},
   "outputs": [
    {
     "name": "stdout",
     "output_type": "stream",
     "text": [
      "16\n",
      "1 2 3 4 5 6 7 8 9 10 11 12 13 14 24 52\n",
      "{'10', '2', '12', '7', '11', '4', '13', '6', '3', '8', '1', '14', '52', '24', '5', '9'}\n",
      "1\n",
      "intersection_update 10\n",
      "2 3 5 6 8 9 1 4 7 11\n",
      "{'2', '7', '11', '4', '8', '6', '3', '1', '5', '9'}\n",
      "10\n"
     ]
    }
   ],
   "source": [
    "num_ele = input()\n",
    "set_A = set(map(int,input().split(' ')))\n",
    "num = int(input())\n",
    "for i in range(num):\n",
    "    command = input().split(' ')[0]\n",
    "    set_a = set(map(int,input().split(' ')))\n",
    "    if command == 'intersection_update':\n",
    "        set_A &= set_a\n",
    "    if command == 'update':\n",
    "        set_A |= set_a\n",
    "    if command == 'symmetric_difference_update':\n",
    "        set_A ^= set_a\n",
    "    if command == 'difference_update':\n",
    "        set_A -= set_a\n",
    "print(sum(set_A))"
   ]
  },
  {
   "cell_type": "markdown",
   "metadata": {},
   "source": [
    "<span class=\"girk\">方法二</span> getattr()"
   ]
  },
  {
   "cell_type": "code",
   "execution_count": null,
   "metadata": {},
   "outputs": [],
   "source": [
    "num_ele = input()\n",
    "set_A = set(input().split(' '))\n",
    "num = int(input())\n",
    "for i in range(num):\n",
    "    command = input().split(' ')[0]\n",
    "    set_a = set(input().split(' '))\n",
    "    getattr(set_A,command)(set_a)\n",
    "print(sum(map(int,set_A)))"
   ]
  },
  {
   "cell_type": "markdown",
   "metadata": {},
   "source": [
    "<span class=\"mark\">getattr()</span>\n",
    "\n",
    "getattr(object, name[,default])\n",
    "获取对象object的属性或者方法，如果存在打印出来，如果不存在，打印出默认值，默认值可选。\n",
    "需要注意的是，如果是返回的对象的方法，返回的是方法的内存地址，如果需要运行这个方法，\n",
    "可以在后面添加一对括号。"
   ]
  },
  {
   "cell_type": "code",
   "execution_count": 11,
   "metadata": {},
   "outputs": [
    {
     "name": "stdout",
     "output_type": "stream",
     "text": [
      "hackerrank\n",
      "<bound method test.run of <__main__.test object at 0x000001C07C87F390>>\n",
      "18\n"
     ]
    },
    {
     "ename": "AttributeError",
     "evalue": "'test' object has no attribute 'age'",
     "output_type": "error",
     "traceback": [
      "\u001b[1;31m---------------------------------------------------------------------------\u001b[0m",
      "\u001b[1;31mAttributeError\u001b[0m                            Traceback (most recent call last)",
      "\u001b[1;32m<ipython-input-11-7e96e4c12be7>\u001b[0m in \u001b[0;36m<module>\u001b[1;34m()\u001b[0m\n\u001b[0;32m      9\u001b[0m \u001b[0mgetattr\u001b[0m\u001b[1;33m(\u001b[0m\u001b[0mt\u001b[0m\u001b[1;33m,\u001b[0m \u001b[1;34m'run'\u001b[0m\u001b[1;33m)\u001b[0m\u001b[1;33m(\u001b[0m\u001b[1;33m)\u001b[0m  \u001b[1;31m#获取run方法，后面加括号可以将这个方法运行\u001b[0m\u001b[1;33m\u001b[0m\u001b[0m\n\u001b[0;32m     10\u001b[0m \u001b[0mprint\u001b[0m\u001b[1;33m(\u001b[0m\u001b[0mgetattr\u001b[0m\u001b[1;33m(\u001b[0m\u001b[0mt\u001b[0m\u001b[1;33m,\u001b[0m \u001b[1;34m\"age\"\u001b[0m\u001b[1;33m,\u001b[0m\u001b[1;34m\"18\"\u001b[0m\u001b[1;33m)\u001b[0m\u001b[1;33m)\u001b[0m  \u001b[1;31m#若属性不存在，返回一个默认值。\u001b[0m\u001b[1;33m\u001b[0m\u001b[0m\n\u001b[1;32m---> 11\u001b[1;33m \u001b[0mprint\u001b[0m\u001b[1;33m(\u001b[0m\u001b[0mgetattr\u001b[0m\u001b[1;33m(\u001b[0m\u001b[0mt\u001b[0m\u001b[1;33m,\u001b[0m \u001b[1;34m'age'\u001b[0m\u001b[1;33m)\u001b[0m\u001b[1;33m)\u001b[0m  \u001b[1;31m#获取一个不存在的属性\u001b[0m\u001b[1;33m\u001b[0m\u001b[0m\n\u001b[0m",
      "\u001b[1;31mAttributeError\u001b[0m: 'test' object has no attribute 'age'"
     ]
    }
   ],
   "source": [
    "class test():\n",
    "    name = 'hackerrank'\n",
    "    def run(self):\n",
    "        return 'Hello Hackerrank'\n",
    "\n",
    "t = test()\n",
    "print(getattr(t,'name')) #获取name属性，存在就打印出来\n",
    "print(getattr(t,'run')) #获取run方法，存在就打印出方法的内存地址\n",
    "getattr(t, 'run')()  #获取run方法，后面加括号可以将这个方法运行\n",
    "print(getattr(t, \"age\",\"18\"))  #若属性不存在，返回一个默认值。\n",
    "print(getattr(t, 'age'))  #获取一个不存在的属性"
   ]
  },
  {
   "cell_type": "markdown",
   "metadata": {},
   "source": [
    "\n",
    "<span class=\"mark\">dir()</span>\n",
    "\n",
    "dir()函数可以查看对像内所有属于及方法，在python中任何东西都是对像，一种数据类型，一个模块等，都有自己的属性和方法，除了常用方法外，其它的你不需要全部记住它，交给dir()函数就好了。"
   ]
  },
  {
   "cell_type": "code",
   "execution_count": 4,
   "metadata": {},
   "outputs": [
    {
     "data": {
      "text/plain": [
       "['__and__',\n",
       " '__class__',\n",
       " '__contains__',\n",
       " '__delattr__',\n",
       " '__dir__',\n",
       " '__doc__',\n",
       " '__eq__',\n",
       " '__format__',\n",
       " '__ge__',\n",
       " '__getattribute__',\n",
       " '__gt__',\n",
       " '__hash__',\n",
       " '__iand__',\n",
       " '__init__',\n",
       " '__init_subclass__',\n",
       " '__ior__',\n",
       " '__isub__',\n",
       " '__iter__',\n",
       " '__ixor__',\n",
       " '__le__',\n",
       " '__len__',\n",
       " '__lt__',\n",
       " '__ne__',\n",
       " '__new__',\n",
       " '__or__',\n",
       " '__rand__',\n",
       " '__reduce__',\n",
       " '__reduce_ex__',\n",
       " '__repr__',\n",
       " '__ror__',\n",
       " '__rsub__',\n",
       " '__rxor__',\n",
       " '__setattr__',\n",
       " '__sizeof__',\n",
       " '__str__',\n",
       " '__sub__',\n",
       " '__subclasshook__',\n",
       " '__xor__',\n",
       " 'add',\n",
       " 'clear',\n",
       " 'copy',\n",
       " 'difference',\n",
       " 'difference_update',\n",
       " 'discard',\n",
       " 'intersection',\n",
       " 'intersection_update',\n",
       " 'isdisjoint',\n",
       " 'issubset',\n",
       " 'issuperset',\n",
       " 'pop',\n",
       " 'remove',\n",
       " 'symmetric_difference',\n",
       " 'symmetric_difference_update',\n",
       " 'union',\n",
       " 'update']"
      ]
     },
     "execution_count": 4,
     "metadata": {},
     "output_type": "execute_result"
    }
   ],
   "source": [
    "a = {1,2,3,4}\n",
    "dir(a)"
   ]
  },
  {
   "cell_type": "markdown",
   "metadata": {},
   "source": [
    "# The Captain's Room\n",
    "https://www.hackerrank.com/challenges/py-the-captains-room/problem"
   ]
  },
  {
   "cell_type": "markdown",
   "metadata": {},
   "source": [
    "<span class=\"girk\">思路一：正常思路，找到出现频率为1次的项</span>"
   ]
  },
  {
   "cell_type": "code",
   "execution_count": 6,
   "metadata": {},
   "outputs": [
    {
     "name": "stdout",
     "output_type": "stream",
     "text": [
      "5\n",
      "1 2 3 6 5 4 4 2 5 3 6 1 6 5 3 2 4 1 2 5 1 4 3 6 8 4 3 1 5 6 2\n",
      "{'1': 5, '2': 5, '3': 5, '6': 5, '5': 5, '4': 5, '8': 1}\n",
      "8\n"
     ]
    }
   ],
   "source": [
    "#方法一 循环\n",
    "k = int(input())\n",
    "num_list = input().split()\n",
    "num_times = {}\n",
    "for i in num_list:\n",
    "    if i not in num_times:\n",
    "        num_times[i] = 0\n",
    "    num_times[i] +=  1\n",
    "\n",
    "for i in num_times.keys():\n",
    "    if num_times[i] == 1:\n",
    "        print(i)"
   ]
  },
  {
   "cell_type": "code",
   "execution_count": null,
   "metadata": {},
   "outputs": [],
   "source": [
    "#方法二 fromkeys() \n",
    "k = int(input())\n",
    "num_list = input().split()\n",
    "num_times = dict.fromkeys(set(num_list),0)\n",
    "for i in num_list:\n",
    "    if i in num_times:\n",
    "        num_times[i] +=  1\n",
    "print(num_times)\n",
    "\n",
    "for i in num_times.keys():\n",
    "    if num_times[i] == 1:\n",
    "        print(i)"
   ]
  },
  {
   "cell_type": "code",
   "execution_count": 19,
   "metadata": {},
   "outputs": [
    {
     "name": "stdout",
     "output_type": "stream",
     "text": [
      "5\n",
      "1 2 3 6 5 4 4 2 5 3 6 1 6 5 3 2 4 1 2 5 1 4 3 6 8 4 3 1 5 6 2 \n",
      "8\n"
     ]
    }
   ],
   "source": [
    "#方法三 collections.Counter\n",
    "from collections import Counter\n",
    "k = int(input())\n",
    "num_list = input().split()\n",
    "num_times = Counter(num_list)\n",
    "print(num_times.most_common()[-1][0])"
   ]
  },
  {
   "cell_type": "code",
   "execution_count": 34,
   "metadata": {},
   "outputs": [
    {
     "name": "stdout",
     "output_type": "stream",
     "text": [
      "{1: 0, 2: 0, 3: 0, 4: 0, 5: 0, 6: 0}\n",
      "{1: 3, 2: 3, 3: 3, 4: 3, 5: 3, 6: 1}\n",
      "Counter({1: 3, 2: 3, 3: 3, 4: 3, 5: 3, 6: 1})\n",
      "(6, 1)\n",
      "6\n",
      "{1, 2, 3, 4, 5, 6}\n",
      "3\n",
      "6\n"
     ]
    }
   ],
   "source": [
    "\n",
    "l = [1,2,3,4,5,1,2,3,4,5,1,2,3,4,5,6]\n",
    "d = dict.fromkeys(set(l),0)\n",
    "print(d)\n",
    "for i in l:\n",
    "    if i in d:\n",
    "        d[i] += 1\n",
    "print(d)\n",
    "\n",
    "from collections import Counter\n",
    "c = Counter(d)\n",
    "print(c)\n",
    "m = c.most_common()\n",
    "print(m[-1])\n",
    "print(m[-1][0])\n",
    "\n",
    "\n",
    "l = [1,2,3,4,5,1,2,3,4,5,1,2,3,4,5,6]\n",
    "s = set(l)\n",
    "print(s)\n",
    "n = int((len(l)-1)/5)\n",
    "print(n)\n",
    "c = (sum(s)*n - sum(l))/(n-1)\n",
    "print(int(c))"
   ]
  },
  {
   "cell_type": "markdown",
   "metadata": {},
   "source": [
    "<span class=\"girk\">思路二：数学思路</span>\n",
    "\n",
    "L = \\[1,2,3,4,1,2,3,4,1,2,3,4,5\\]    S = (1,2,3,4,5)\n",
    "\n",
    "C 是L中只出现一次的5   K 是 \\[1,2,3,4\\]在L中出现的次数 \n",
    "\n",
    "L = S \\* K - (K-1) \\* C \n",
    "\n",
    "C = (S * K - L)/(K-1)"
   ]
  },
  {
   "cell_type": "code",
   "execution_count": 40,
   "metadata": {},
   "outputs": [
    {
     "name": "stdout",
     "output_type": "stream",
     "text": [
      "5\n",
      "1 2 3 6 5 4 4 2 5 3 6 1 6 5 3 2 4 1 2 5 1 4 3 6 8 4 3 1 5 6 2 \n",
      "8\n"
     ]
    }
   ],
   "source": [
    "k = int(input())\n",
    "num_list = list(map(int,input().split()))\n",
    "s = set(num_list)\n",
    "Captin = (sum(s)*k - sum(num_list))/(k-1)\n",
    "print(int(Captin))"
   ]
  },
  {
   "cell_type": "markdown",
   "metadata": {},
   "source": [
    "<span class=\"girk\">思路三：集合差</span>\n",
    "\n",
    "创建一个包括所有元素的集合，再创建一个包括出现频率超过一次的集合，两个集合求差\n",
    "\n",
    "A 与 B 的差集是所有属于 A 且不属于 B 的元素构成的集合"
   ]
  },
  {
   "cell_type": "code",
   "execution_count": 46,
   "metadata": {},
   "outputs": [
    {
     "name": "stdout",
     "output_type": "stream",
     "text": [
      "5\n",
      "1 2 3 6 5 4 4 2 5 3 6 1 6 5 3 2 4 1 2 5 1 4 3 6 8 4 3 1 5 6 2 \n",
      "8\n"
     ]
    }
   ],
   "source": [
    "k = int(input())\n",
    "num_list = list(map(int,input().split()))\n",
    "s1 = set()\n",
    "s2 = set()\n",
    "for i in num_list:\n",
    "    if i not in s1:\n",
    "        s1.add(i)\n",
    "    else:\n",
    "        s2.add(i)\n",
    "print((s1-s2).pop())"
   ]
  },
  {
   "cell_type": "markdown",
   "metadata": {},
   "source": [
    "<span class=\"girk\">思路四：集合对称差 完全想不到</span> \n",
    "\n",
    "将列表进行排序后，交错分成2个列表，一个奇数列表，一个偶数列表，将这两个列表变成集合后，求对称差\n",
    "\n",
    "两个集合的对称差是只属于其中一个集合，而不属于另一个集合的元素组成的集合。"
   ]
  },
  {
   "cell_type": "code",
   "execution_count": 48,
   "metadata": {},
   "outputs": [
    {
     "name": "stdout",
     "output_type": "stream",
     "text": [
      "5\n",
      "1 2 3 6 5 4 4 2 5 3 6 1 6 5 3 2 4 1 2 5 1 4 3 6 8 4 3 1 5 6 2\n",
      "8\n"
     ]
    }
   ],
   "source": [
    "k = int(input())\n",
    "rooms = input().split()\n",
    "rooms.sort()\n",
    "capt_room = (set(rooms[0::2]) ^ set(rooms[1::2]))\n",
    "print(capt_room.pop())"
   ]
  },
  {
   "cell_type": "code",
   "execution_count": null,
   "metadata": {},
   "outputs": [],
   "source": []
  }
 ],
 "metadata": {
  "kernelspec": {
   "display_name": "Python 3",
   "language": "python",
   "name": "python3"
  },
  "language_info": {
   "codemirror_mode": {
    "name": "ipython",
    "version": 3
   },
   "file_extension": ".py",
   "mimetype": "text/x-python",
   "name": "python",
   "nbconvert_exporter": "python",
   "pygments_lexer": "ipython3",
   "version": "3.6.2"
  },
  "toc": {
   "nav_menu": {},
   "number_sections": true,
   "sideBar": true,
   "skip_h1_title": false,
   "title_cell": "Table of Contents",
   "title_sidebar": "Contents",
   "toc_cell": false,
   "toc_position": {},
   "toc_section_display": true,
   "toc_window_display": false
  },
  "varInspector": {
   "cols": {
    "lenName": 16,
    "lenType": 16,
    "lenVar": 40
   },
   "kernels_config": {
    "python": {
     "delete_cmd_postfix": "",
     "delete_cmd_prefix": "del ",
     "library": "var_list.py",
     "varRefreshCmd": "print(var_dic_list())"
    },
    "r": {
     "delete_cmd_postfix": ") ",
     "delete_cmd_prefix": "rm(",
     "library": "var_list.r",
     "varRefreshCmd": "cat(var_dic_list()) "
    }
   },
   "types_to_exclude": [
    "module",
    "function",
    "builtin_function_or_method",
    "instance",
    "_Feature"
   ],
   "window_display": false
  }
 },
 "nbformat": 4,
 "nbformat_minor": 2
}
