{
 "cells": [
  {
   "cell_type": "markdown",
   "metadata": {},
   "source": [
    "## 均值 中位数 众数 极差 中程数\n",
    "```\n",
    "nump.mean()\n",
    "nump.median()\n",
    "scipy.stats.mode()\n",
    "np.ptp()\n",
    "```"
   ]
  },
  {
   "cell_type": "code",
   "execution_count": 3,
   "metadata": {},
   "outputs": [
    {
     "name": "stdout",
     "output_type": "stream",
     "text": [
      "mean(average) = 25.75\n",
      "median = 24.0\n",
      "mode = ModeResult(mode=array([23]), count=array([2]))\n",
      "range = 13\n",
      "mid-range = 26.5\n"
     ]
    }
   ],
   "source": [
    "import numpy as np\n",
    "from scipy import stats\n",
    "\n",
    "# 定义数据集\n",
    "data_set = np.array([23, 29, 20, 32, 23, 21, 33, 25])\n",
    "\n",
    "# 均值(平均值) = 数据之和 / 数据个数\n",
    "print(f'mean(average) = {np.mean(data_set)}')\n",
    "\n",
    "# 中位数 = 数据排序后，处在中间的数（如果两位数取平均值）\n",
    "print(f'median = {np.median(data_set)}')\n",
    "\n",
    "# 众数 = 出现次数最多的数\n",
    "print(f'mode = {stats.mode(data_set)}')\n",
    "\n",
    "# 极差 = 最大数 - 最小数\n",
    "print(f'range = {np.ptp(data_set)}')\n",
    "\n",
    "# 中程数 = 最大数和最小数的均值\n",
    "x = np.array([0, 0])\n",
    "x[0] = np.max(data_set)\n",
    "x[1] = np.min(data_set)\n",
    "print(f'mid-range = {np.mean(x)}')\n"
   ]
  },
  {
   "cell_type": "markdown",
   "metadata": {},
   "source": [
    "### 知识点 [Python格式化字符串f-string概览](https://blog.csdn.net/sunxb10/article/details/81036693)\n",
    "\n",
    "f-string在功能方面不逊于传统的%-formatting语句和str.format()函数，同时性能又优于二者，且使用起来也更加简洁明了\n",
    "\n"
   ]
  },
  {
   "cell_type": "code",
   "execution_count": null,
   "metadata": {},
   "outputs": [],
   "source": []
  }
 ],
 "metadata": {
  "kernelspec": {
   "display_name": "Python 3",
   "language": "python",
   "name": "python3"
  },
  "language_info": {
   "codemirror_mode": {
    "name": "ipython",
    "version": 3
   },
   "file_extension": ".py",
   "mimetype": "text/x-python",
   "name": "python",
   "nbconvert_exporter": "python",
   "pygments_lexer": "ipython3",
   "version": "3.6.3"
  },
  "toc": {
   "nav_menu": {},
   "number_sections": true,
   "sideBar": true,
   "skip_h1_title": false,
   "title_cell": "Table of Contents",
   "title_sidebar": "Contents",
   "toc_cell": false,
   "toc_position": {},
   "toc_section_display": true,
   "toc_window_display": false
  },
  "varInspector": {
   "cols": {
    "lenName": 16,
    "lenType": 16,
    "lenVar": 40
   },
   "kernels_config": {
    "python": {
     "delete_cmd_postfix": "",
     "delete_cmd_prefix": "del ",
     "library": "var_list.py",
     "varRefreshCmd": "print(var_dic_list())"
    },
    "r": {
     "delete_cmd_postfix": ") ",
     "delete_cmd_prefix": "rm(",
     "library": "var_list.r",
     "varRefreshCmd": "cat(var_dic_list()) "
    }
   },
   "types_to_exclude": [
    "module",
    "function",
    "builtin_function_or_method",
    "instance",
    "_Feature"
   ],
   "window_display": false
  }
 },
 "nbformat": 4,
 "nbformat_minor": 2
}
