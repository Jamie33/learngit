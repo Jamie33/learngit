{
 "cells": [
  {
   "cell_type": "markdown",
   "metadata": {},
   "source": [
    "## Learn Recursion: Python\n",
    "### RECURSION: CONCEPTUAL\n",
    "#### Introduction to Recursion\n",
    "\n",
    "You’ve heard about a trendy new spot that sells fruit sandwiches. What are fruit sandwiches? You have no idea, but you’re eager to find out!\n",
    "\n",
    "Sadly, when you arrive at the store, the line is out the door and around the block. Undeterred, you hatch a plan to find out how many people are in line before you.\n",
    "\n",
    "You tap the person in front of you and ask them how many people are ahead of them. They have no idea, (the line is huge!) so they ask you to wait a moment and tap the person in front of them, repeating this process through the line.\n",
    "\n",
    "Finally, the second to last person taps the person at the front of the line. Nobody is ahead of them, so they reply “It’s just me so: one person!”. Then this message is repeated back down the line.\n",
    "\n",
    "The next person says “okay, there was one person ahead of me, I’ll add myself… I can tell the person behind me: 2 people in line.”\n",
    "\n",
    "![](recursion.gif)\n",
    "\n",
    "Each person waiting for a reply:\n",
    "\n",
    "- receives the message\n",
    "- adds themselves to the count\n",
    "- responds to the person tapping them\n",
    "\n",
    "This chain eventually reaches you with the final number. Your plan was a success!\n",
    "\n",
    "You executed a recursive strategy. The “function” of asking a person involved asking a person. The self-referential logic can seem like it goes on forever, but each question brings you closer to the front of the line where no more people are asked about the line.\n",
    "\n",
    "Your approach had two aspects which are essential to recursive thinking. Break the problem into two possibilities:\n",
    "\n",
    "- There’s nobody left in line, don’t ask\n",
    "- There’s someone in line, ask them\n",
    "\n",
    "We repeat Step 2 with a different input which brings us closer to Step 1.\n",
    "\n",
    "#### Recursion Outline\n",
    "Recursion is a strategy for solving problems by defining the problem in terms of itself. For example, to sum the elements of a list we would take the first element and add it to the sum of the remaining elements.\n",
    "\n",
    "How would we get that sum of remaining elements? Easy! We’d take the first element of the remaining elements and add it to the… Maybe you can understand why recursion can be a tricky subject!\n",
    "\n",
    "In programming, recursion means a function definition will include an invocation of the function within its own body. Here’s a pseudo-code example:\n",
    "```\n",
    "define function, speller\n",
    "  if there are no more letters\n",
    "    print \"all done\"\n",
    "  print the first letter\n",
    "  invoke speller with the given name minus the first letter\n",
    "```\n",
    "![](Recursion_Detail.png)\n",
    "\n",
    "If we invoked this function with “Zoe” as the argument, we would see “Z”, “o”, and “e” printed out before “all done”.\n",
    "\n",
    "We call the function a total of 4 times!\n",
    "\n",
    "- function called with “Zoe”\n",
    "- function called with “oe”\n",
    "- function called with “e”\n",
    "- function called with “”\n",
    "\n",
    "Let’s break the function into three chunks:\n",
    "\n",
    "```\n",
    "   if there are no more letters\n",
    "     print \"all done\"\n",
    "```\n",
    "This section is the base case. We are NOT invoking the function under this condition. The equivalent base case from the previous exercise was when we had reached the front of the line.\n",
    "\n",
    "`   print the first letter`\n",
    "\n",
    "This section solves a piece of the problem. If we want to spell someone’s name, we’ll have to spell at least one letter.\n",
    "\n",
    "`   invoke speller with the given name minus the first letter`\n",
    "\n",
    "This section is the recursive step, calling the function with arguments which bring us closer to the base case. In this example, we’re reducing the length of the name by a single letter. Eventually, there will be a function call with no letters given as the argument.\n",
    "\n",
    "For comparison’s sake, here is pseudo-code for an iterative approach to the same problem:\n",
    "```\n",
    " define function, speller\n",
    "   for each letter in the name argument\n",
    "     print the letter\n",
    "   print \"all done\"\n",
    "```\n",
    "\n",
    "#### Call Stacks and Execution Frames\n",
    "A recursive approach requires the function invoking itself with different arguments. How does the computer keep track of the various arguments and different function invocations if it’s the same function definition?\n",
    "\n",
    "Repeatedly invoking functions may be familiar when it occurs sequentially, but it can be jarring to see this invocation occur within a function definition.\n",
    "\n",
    "Languages make this possible with call stacks and execution contexts.\n",
    "\n",
    "Stacks, a data structure, follow a strict protocol for the order data enters and exits the structure: the last thing to enter is the first thing to leave.\n",
    "\n",
    "Your programming language often manages the call stack, which exists outside of any specific function. This call stack tracks the ordering of the different function invocations, so the last function to enter the call stack is the first function to exit the call stack\n",
    "\n",
    "we can think of execution contexts as the specific values we plug into a function call.\n",
    "```\n",
    "A function which adds two numbers:\n",
    "\n",
    "Invoking the function with 3 and 4 as arguments...\n",
    "execution context:\n",
    "X = 3\n",
    "Y = 4\n",
    "\n",
    "Invoking the function with 6 and 2 as arguments...\n",
    "execution context:\n",
    "X = 6\n",
    "Y = 2\n",
    "```\n",
    "\n",
    "Consider a pseudo-code function which sums the integers in an array:\n",
    "```\n",
    " function, sum_list \n",
    "   if list has a single element\n",
    "     return that single element\n",
    "   otherwise...\n",
    "     add first element to value of sum_list called with every element minus the first\n",
    "```\n",
    "\n",
    "This function will be invoked as many times as there are elements within the list! Let’s step through:\n",
    "```\n",
    "CALL STACK EMPTY\n",
    "___________________\n",
    "\n",
    "Our first function call...\n",
    "sum_list([5, 6, 7])\n",
    "\n",
    "CALL STACK CONTAINS\n",
    "___________________\n",
    "sum_list([5, 6, 7])\n",
    "with the execution context of a list being [5, 6, 7]\n",
    "___________________\n",
    "\n",
    "Base case, a list of one element not met.\n",
    "We invoke sum_list with the list of [6, 7]...\n",
    "\n",
    "CALL STACK CONTAINS\n",
    "___________________\n",
    "sum_list([6, 7])\n",
    "with the execution context of a list being [6, 7]\n",
    "___________________\n",
    "sum_list([5, 6, 7])\n",
    "with the execution context of a list being [5, 6, 7]\n",
    "___________________\n",
    "\n",
    "Base case, a list of one element not met.\n",
    "We invoke sum_list with the list of [7]...\n",
    "\n",
    "CALL STACK CONTAINS\n",
    "___________________\n",
    "sum_list([7])\n",
    "with the execution context of a list being [7]\n",
    "___________________\n",
    "sum_list([6, 7])\n",
    "with the execution context of a list being [6, 7]\n",
    "___________________\n",
    "sum_list([5, 6, 7])\n",
    "with the execution context of a list being [5, 6, 7]\n",
    "___________________\n",
    "\n",
    "We've reached our base case! List is one element. \n",
    "We return that one element.\n",
    "This return value does two things:\n",
    "\n",
    "1) \"pops\" sum_list([7]) from CALL STACK.\n",
    "2) provides a return value for sum_list([6, 7])\n",
    "\n",
    "----------------\n",
    "CALL STACK CONTAINS\n",
    "___________________\n",
    "sum_list([6, 7])\n",
    "with the execution context of a list being [6, 7]\n",
    "RETURN VALUE = 7\n",
    "___________________\n",
    "sum_list([5, 6, 7])\n",
    "with the execution context of a list being [5, 6, 7]\n",
    "___________________\n",
    "\n",
    "sum_list([6, 7]) waits for the return value of sum_list([7]), which it just received. \n",
    "\n",
    "sum_list([6, 7]) has resolved and \"popped\" from the call stack...\n",
    "\n",
    "\n",
    "----------------\n",
    "CALL STACK contains\n",
    "___________________\n",
    "sum_list([5, 6, 7])\n",
    "with the execution context of a list being [5, 6, 7]\n",
    "RETURN VALUE = 6 + 7\n",
    "___________________\n",
    "\n",
    "sum_list([5, 6, 7]) waits for the return value of sum_list([6, 7]), which it just received. \n",
    "sum_list([5, 6, 7]) has resolved and \"popped\" from the call stack.\n",
    "\n",
    "\n",
    "----------------\n",
    "CALL STACK is empty\n",
    "___________________\n",
    "RETURN VALUE = (5 + 6 + 7) = 18\n",
    "```\n",
    "#### Base Case and Recursive Step\n",
    "Recursion has two fundamental aspects: the base case and the recursive step.\n",
    "\n",
    "When using iteration, we rely on a counting variable and a boolean condition. For example, when iterating through the values in a list, we would increment the counting variable until it exceeded the length of the dataset.\n",
    "\n",
    "Recursive functions have a similar concept, which we call the base case. The base case dictates whether the function will recurse, or call itself. Without a base case, it’s the iterative equivalent to writing an infinite loop.\n",
    "\n",
    "Because we’re using a call stack to track the function calls, your computer will throw an error due to a stack overflow if the base case is not sufficient.\n",
    "\n",
    "The other fundamental aspect of a recursive function is the recursive step. This portion of the function is the step that moves us closer to the base case.\n",
    "\n",
    "In an iterative function, this is handled by a loop construct that decrements or increments the counting variable which moves the counter closer to a boolean condition, terminating the loop.\n",
    "\n",
    "In a recursive function, the “counting variable” equivalent is the argument to the recursive call. If we’re counting down to 0, for example, our base case would be the function call that receives 0 as an argument. We might design a recursive step that takes the argument passed in, decrements it by one, and calls the function again with the decremented argument. In this way, we would be moving towards 0 as our base case.\n",
    "\n",
    "Analyzing the Big O runtime of a recursive function is very similar to analyzing an iterative function. Substitute iterations of a loop with recursive calls.\n",
    "\n",
    "For example, if we loop through once for each element printing the value, we have a O(N) or linear runtime. Similarly, if we have a single recursive call for each element in the original function call, we have a O(N) or linear runtime.\n",
    "\n",
    "#### Building Our Own Call Stack\n",
    "The best way to understand recursion is with lots of practice! At first, this method of solving a problem can seem unfamiliar but by the end of this lesson, we’ll have implemented a variety of algorithms using a recursive approach.\n",
    "\n",
    "Before we dive into recursion, let’s replicate what’s happening in the call stack with an iterative function.\n",
    "\n",
    "The call stack is abstracted away from us in Python, but we can recreate it to understand how recursive calls build up and resolve.\n",
    "\n",
    "Let’s write a function that sums every number from 1 to the given input.\n",
    "```\n",
    "sum_to_one(4)\n",
    "# 10\n",
    "sum_to_one(11)\n",
    "# 66\n",
    "```\n",
    "\n",
    "To depict the steps of a recursive function, we’ll use a call stack and execution contexts for each function call.\n",
    "\n",
    "The call stack stores each function (with its internal variables) until those functions resolve in a last in, first out order.\n",
    "```\n",
    "call_stack = []\n",
    "recursive_func()\n",
    "call_stack = [recursive_func_1]\n",
    "\n",
    "# within the body of recursive_func, another call to recursive_func()\n",
    "call_stack = [recursive_func_1, recursive_func_2]\n",
    "# the body of the second call to recursive_func resolves...\n",
    "call_stack = [recursive_func_1]\n",
    "# the body of the original call to recursive_func resolves...\n",
    "call_stack = [] \n",
    "```\n",
    "\n",
    "Execution contexts are a mapping between variable names and their values within the function during execution. We can use a list for our call stack and a dictionary for each execution context.\n",
    "\n",
    "Let’s get started!\n",
    "\n",
    "**instructions**\n",
    "\n"
   ]
  },
  {
   "cell_type": "markdown",
   "metadata": {},
   "source": [
    "\n",
    "\n",
    "\n",
    "## 递归VS迭代\n",
    "\n",
    "### 递归实现阶乘"
   ]
  },
  {
   "cell_type": "code",
   "execution_count": 10,
   "metadata": {},
   "outputs": [
    {
     "name": "stdout",
     "output_type": "stream",
     "text": [
      "True\n",
      "True\n",
      "True\n"
     ]
    }
   ],
   "source": [
    "# runtime: Linear - O(N)\n",
    "def factorial(n):  \n",
    "    if n < 0:    \n",
    "        raise ValueError(\"Inputs 0 or greater only\") \n",
    "    if n <= 1:    \n",
    "        return 1  \n",
    "    return n * factorial(n - 1)\n",
    "\n",
    "# test cases\n",
    "print(factorial(3) == 6)\n",
    "print(factorial(0) == 1)\n",
    "print(factorial(5) == 120)"
   ]
  },
  {
   "cell_type": "markdown",
   "metadata": {},
   "source": [
    "### 迭代实现阶乘"
   ]
  },
  {
   "cell_type": "code",
   "execution_count": 9,
   "metadata": {},
   "outputs": [
    {
     "name": "stdout",
     "output_type": "stream",
     "text": [
      "True\n",
      "True\n",
      "True\n"
     ]
    }
   ],
   "source": [
    "def factorial(n):\n",
    "    result = 1\n",
    "    if n == 0:\n",
    "        return result\n",
    "    else:\n",
    "        for i in range(1,n+1):\n",
    "            result = result * i\n",
    "        return result\n",
    "\n",
    "# test cases\n",
    "print(factorial(3) == 6)\n",
    "print(factorial(0) == 1)\n",
    "print(factorial(5) == 120)"
   ]
  },
  {
   "cell_type": "markdown",
   "metadata": {},
   "source": [
    "### 递归实现斐波拉契"
   ]
  },
  {
   "cell_type": "code",
   "execution_count": 13,
   "metadata": {},
   "outputs": [
    {
     "name": "stdout",
     "output_type": "stream",
     "text": [
      "True\n",
      "True\n",
      "True\n"
     ]
    }
   ],
   "source": [
    "# runtime: Exponential - O(2^N)\n",
    "\n",
    "def fibonacci(n):\n",
    "    if n < 0:\n",
    "        raise ValueError(\"Input 0 or greater only!\")\n",
    "    if n <= 1:\n",
    "        return n\n",
    "    return fibonacci(n - 1) + fibonacci(n - 2)\n",
    "\n",
    "# test cases\n",
    "print(fibonacci(3) == 2)\n",
    "print(fibonacci(7) == 13)\n",
    "print(fibonacci(0) == 0)"
   ]
  },
  {
   "cell_type": "markdown",
   "metadata": {},
   "source": [
    "### 迭代实现斐波拉契"
   ]
  },
  {
   "cell_type": "code",
   "execution_count": 12,
   "metadata": {},
   "outputs": [
    {
     "name": "stdout",
     "output_type": "stream",
     "text": [
      "True\n",
      "True\n",
      "True\n"
     ]
    }
   ],
   "source": [
    "def fibonacci(n):\n",
    "    a = 0\n",
    "    b = 1\n",
    "    if n == 0:\n",
    "        return n\n",
    "    else:\n",
    "        for i in range(0,n):\n",
    "            a,b = b,a+b\n",
    "        return a\n",
    "\n",
    "# test cases\n",
    "print(fibonacci(3) == 2)\n",
    "print(fibonacci(7) == 13)\n",
    "print(fibonacci(0) == 0)"
   ]
  },
  {
   "cell_type": "code",
   "execution_count": 14,
   "metadata": {},
   "outputs": [
    {
     "name": "stdout",
     "output_type": "stream",
     "text": [
      "True\n",
      "True\n",
      "True\n"
     ]
    }
   ],
   "source": [
    "def fibonacci(n):\n",
    "    if n < 0:\n",
    "        raise ValueError(\"Input 0 or greater only!\")\n",
    "    fibs = [0, 1]\n",
    "    if n <= len(fibs) - 1:\n",
    "        return fibs[n]\n",
    "    while n > len(fibs) - 1:\n",
    "        fibs.append(fibs[-1] + fibs[-2])\n",
    "    return fibs[-1]\n",
    "\n",
    "# test cases\n",
    "print(fibonacci(3) == 2)\n",
    "print(fibonacci(7) == 13)\n",
    "print(fibonacci(0) == 0)"
   ]
  },
  {
   "cell_type": "markdown",
   "metadata": {},
   "source": [
    "### 递归实现数字之和"
   ]
  },
  {
   "cell_type": "code",
   "execution_count": 15,
   "metadata": {},
   "outputs": [
    {
     "name": "stdout",
     "output_type": "stream",
     "text": [
      "True\n",
      "True\n",
      "True\n"
     ]
    }
   ],
   "source": [
    "def sum_digits(n):\n",
    "    if n < 10:\n",
    "        return n\n",
    "    return sum_digits(n//10)+sum_digits(n%10)\n",
    "    \n",
    "# test cases\n",
    "print(sum_digits(12) == 3)\n",
    "print(sum_digits(552) == 12)\n",
    "print(sum_digits(123456789) == 45)"
   ]
  },
  {
   "cell_type": "markdown",
   "metadata": {},
   "source": [
    "### 递归实现数字之和"
   ]
  },
  {
   "cell_type": "code",
   "execution_count": 17,
   "metadata": {},
   "outputs": [
    {
     "name": "stdout",
     "output_type": "stream",
     "text": [
      "True\n",
      "True\n",
      "True\n"
     ]
    }
   ],
   "source": [
    "# Linear - O(N)\n",
    "def sum_digits(n):\n",
    "    if n < 0:\n",
    "        raise ValueError(\"Inputs 0 or greater only!\")\n",
    "    result = 0\n",
    "    while n is not 0:\n",
    "        result += n % 10\n",
    "        n = n // 10\n",
    "    return result + n\n",
    "\n",
    "# test cases\n",
    "print(sum_digits(12) == 3)\n",
    "print(sum_digits(552) == 12)\n",
    "print(sum_digits(123456789) == 45)"
   ]
  },
  {
   "cell_type": "markdown",
   "metadata": {},
   "source": [
    "### 迭代实现列表最小值"
   ]
  },
  {
   "cell_type": "code",
   "execution_count": 18,
   "metadata": {},
   "outputs": [
    {
     "name": "stdout",
     "output_type": "stream",
     "text": [
      "True\n",
      "True\n",
      "True\n"
     ]
    }
   ],
   "source": [
    "def find_min(my_list):\n",
    "    min = None\n",
    "    for el in my_list:\n",
    "        if not min or (el < min):\n",
    "            min = el\n",
    "    return min\n",
    "\n",
    "# test cases\n",
    "print(find_min([42, 17, 2, -1, 67]) == -1)\n",
    "print(find_min([]) == None)\n",
    "print(find_min([13, 72, 19, 5, 86]) == 5)"
   ]
  },
  {
   "cell_type": "markdown",
   "metadata": {},
   "source": [
    "### 递归实现列表最小值"
   ]
  },
  {
   "cell_type": "code",
   "execution_count": 21,
   "metadata": {},
   "outputs": [
    {
     "name": "stdout",
     "output_type": "stream",
     "text": [
      "True\n",
      "True\n",
      "True\n"
     ]
    }
   ],
   "source": [
    "def find_min(my_list,min = None):\n",
    "    if not my_list:\n",
    "        return min\n",
    "    if not min or my_list[0] < min:\n",
    "        min = my_list[0]\n",
    "    return find_min(my_list[1:],min)\n",
    "\n",
    "# test cases\n",
    "print(find_min([42, 17, 2, -1, 67]) == -1)\n",
    "print(find_min([]) == None)\n",
    "print(find_min([13, 72, 19, 5, 86]) == 5)"
   ]
  },
  {
   "cell_type": "markdown",
   "metadata": {},
   "source": [
    "### 迭代实现回文检测"
   ]
  },
  {
   "cell_type": "code",
   "execution_count": 30,
   "metadata": {},
   "outputs": [
    {
     "name": "stdout",
     "output_type": "stream",
     "text": [
      "True\n",
      "True\n",
      "True\n",
      "True\n"
     ]
    }
   ],
   "source": [
    "def is_palindrome(my_string):\n",
    "    while len(my_string) > 1:\n",
    "        if my_string[0] != my_string[-1]:\n",
    "            return False\n",
    "        my_string = my_string[1:-1]\n",
    "    return True \n",
    "\n",
    "print(is_palindrome(\"abba\") == True)\n",
    "print(is_palindrome(\"abcba\") == True)\n",
    "print(is_palindrome(\"\") == True)\n",
    "print(is_palindrome(\"abcd\") == False)"
   ]
  },
  {
   "cell_type": "markdown",
   "metadata": {},
   "source": [
    "### 递归实现回文检测"
   ]
  },
  {
   "cell_type": "code",
   "execution_count": 39,
   "metadata": {},
   "outputs": [
    {
     "name": "stdout",
     "output_type": "stream",
     "text": [
      "True\n",
      "True\n",
      "True\n",
      "True\n"
     ]
    }
   ],
   "source": [
    "def is_palindrome(my_string):\n",
    "\tif len(my_string) <= 1:\n",
    "\t\treturn True\n",
    "\tif my_string[0] != my_string[-1]:\n",
    "\t\treturn False\n",
    "\treturn is_palindrome(my_string[1:-1])\n",
    "    \n",
    "\n",
    "# test cases\n",
    "print(is_palindrome(\"abba\") == True)\n",
    "print(is_palindrome(\"abcba\") == True)\n",
    "print(is_palindrome(\"\") == True)\n",
    "print(is_palindrome(\"abcd\") == False)"
   ]
  },
  {
   "cell_type": "markdown",
   "metadata": {},
   "source": [
    "### 迭代实现乘法"
   ]
  },
  {
   "cell_type": "code",
   "execution_count": 41,
   "metadata": {},
   "outputs": [
    {
     "name": "stdout",
     "output_type": "stream",
     "text": [
      "True\n",
      "True\n",
      "True\n"
     ]
    }
   ],
   "source": [
    "def multiplication(num_1, num_2):\n",
    "    result = 0\n",
    "    for count in range(0, num_2):\n",
    "        result += num_1\n",
    "    return result\n",
    "\n",
    "# test cases\n",
    "print(multiplication(3, 7) == 21)\n",
    "print(multiplication(5, 5) == 25)\n",
    "print(multiplication(0, 4) == 0)"
   ]
  },
  {
   "cell_type": "markdown",
   "metadata": {},
   "source": [
    "### 递归实现乘法"
   ]
  },
  {
   "cell_type": "code",
   "execution_count": 42,
   "metadata": {},
   "outputs": [
    {
     "name": "stdout",
     "output_type": "stream",
     "text": [
      "True\n",
      "True\n",
      "True\n"
     ]
    }
   ],
   "source": [
    "def multiplication(num_1,num_2):\n",
    "    result = 0\n",
    "    if num_2 == 1 :\n",
    "        return num_1\n",
    "    result = num_1 + multiplication(num_1,num_2-1)\n",
    "    return result\n",
    "\n",
    "# test cases\n",
    "print(multiplication(3, 7) == 21)\n",
    "print(multiplication(5, 5) == 25)\n",
    "print(multiplication(0, 4) == 0)"
   ]
  },
  {
   "cell_type": "markdown",
   "metadata": {},
   "source": [
    "### 迭代实现二叉树深度"
   ]
  },
  {
   "cell_type": "code",
   "execution_count": 47,
   "metadata": {},
   "outputs": [
    {
     "name": "stdout",
     "output_type": "stream",
     "text": [
      "True\n",
      "True\n"
     ]
    }
   ],
   "source": [
    "def depth(tree):\n",
    "    result = 0\n",
    "    # our \"queue\" will store nodes at each level\n",
    "    queue = [tree]\n",
    "    # loop as long as there are nodes to explore\n",
    "    while queue:\n",
    "        # count the number of child nodes\n",
    "        level_count = len(queue)\n",
    "        for child_count in range(0, level_count):\n",
    "            # loop through each child\n",
    "            child = queue.pop(0)\n",
    "            # add its children if they exist\n",
    "            if child.get(\"left_child\"):\n",
    "                queue.append(child[\"left_child\"])\n",
    "            if child.get(\"right_child\"):\n",
    "                queue.append(child[\"right_child\"])\n",
    "        # count the level\n",
    "        result += 1\n",
    "    return result\n",
    "\n",
    "two_level_tree = {\n",
    "\"data\": 6, \n",
    "\"left_child\":\n",
    "  {\"data\": 2}\n",
    "}\n",
    "\n",
    "four_level_tree = {\n",
    "\"data\": 54,\n",
    "\"right_child\":\n",
    "  {\"data\": 93,\n",
    "   \"left_child\":\n",
    "     {\"data\": 63,\n",
    "      \"left_child\":\n",
    "        {\"data\": 59}\n",
    "      }\n",
    "   }\n",
    "}\n",
    "\n",
    "\n",
    "# test cases\n",
    "print(depth(two_level_tree) == 2)\n",
    "print(depth(four_level_tree) == 4)"
   ]
  },
  {
   "cell_type": "markdown",
   "metadata": {},
   "source": [
    "### 递归实现二叉树深度"
   ]
  },
  {
   "cell_type": "code",
   "execution_count": 50,
   "metadata": {},
   "outputs": [
    {
     "name": "stdout",
     "output_type": "stream",
     "text": [
      "True\n",
      "True\n"
     ]
    }
   ],
   "source": [
    "def depth(tree):\n",
    "    if not tree:\n",
    "        return 0\n",
    "\n",
    "    left_depth = depth(tree.get(\"left_child\"))\n",
    "    right_depth = depth(tree.get(\"right_child\"))\n",
    "\n",
    "    if left_depth > right_depth:\n",
    "        return left_depth + 1\n",
    "    else:\n",
    "        return right_depth + 1\n",
    "\n",
    "two_level_tree = {\n",
    "\"data\": 6, \n",
    "\"left_child\":\n",
    "  {\"data\": 2}\n",
    "}\n",
    "\n",
    "four_level_tree = {\n",
    "\"data\": 54,\n",
    "\"right_child\":\n",
    "  {\"data\": 93,\n",
    "   \"left_child\":\n",
    "     {\"data\": 63,\n",
    "      \"left_child\":\n",
    "        {\"data\": 59}\n",
    "      }\n",
    "   }\n",
    "}\n",
    "   \n",
    "\n",
    "print(depth(two_level_tree) == 2)\n",
    "print(depth(four_level_tree) == 4)"
   ]
  }
 ],
 "metadata": {
  "kernelspec": {
   "display_name": "Python 3",
   "language": "python",
   "name": "python3"
  },
  "language_info": {
   "codemirror_mode": {
    "name": "ipython",
    "version": 3
   },
   "file_extension": ".py",
   "mimetype": "text/x-python",
   "name": "python",
   "nbconvert_exporter": "python",
   "pygments_lexer": "ipython3",
   "version": "3.6.5"
  },
  "toc": {
   "nav_menu": {},
   "number_sections": true,
   "sideBar": true,
   "skip_h1_title": false,
   "title_cell": "Table of Contents",
   "title_sidebar": "Contents",
   "toc_cell": false,
   "toc_position": {},
   "toc_section_display": true,
   "toc_window_display": false
  },
  "varInspector": {
   "cols": {
    "lenName": 16,
    "lenType": 16,
    "lenVar": 40
   },
   "kernels_config": {
    "python": {
     "delete_cmd_postfix": "",
     "delete_cmd_prefix": "del ",
     "library": "var_list.py",
     "varRefreshCmd": "print(var_dic_list())"
    },
    "r": {
     "delete_cmd_postfix": ") ",
     "delete_cmd_prefix": "rm(",
     "library": "var_list.r",
     "varRefreshCmd": "cat(var_dic_list()) "
    }
   },
   "types_to_exclude": [
    "module",
    "function",
    "builtin_function_or_method",
    "instance",
    "_Feature"
   ],
   "window_display": false
  }
 },
 "nbformat": 4,
 "nbformat_minor": 2
}
