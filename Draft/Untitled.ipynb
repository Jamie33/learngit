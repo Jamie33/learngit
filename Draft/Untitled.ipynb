{
 "cells": [
  {
   "cell_type": "code",
   "execution_count": 7,
   "metadata": {},
   "outputs": [
    {
     "name": "stdout",
     "output_type": "stream",
     "text": [
      "queue=[tree] [{'data': 6, 'left_child': {'data': 2}, 'right_child': {'data': 3}}]\n",
      "level_count 1\n",
      "child = queue.pop(0) []\n",
      "queue.append(child[\"left_child\"]) [{'data': 2}]\n",
      "queue.append(child[\"right_child\"]) [{'data': 2}, {'data': 3}]\n",
      "level_count 2\n",
      "child = queue.pop(0) [{'data': 3}]\n",
      "child = queue.pop(0) []\n",
      "2\n",
      "queue=[tree] [{'data': 54, 'right_child': {'data': 93, 'left_child': {'data': 63, 'left_child': {'data': 59}}}}]\n",
      "level_count 1\n",
      "child = queue.pop(0) []\n",
      "queue.append(child[\"right_child\"]) [{'data': 93, 'left_child': {'data': 63, 'left_child': {'data': 59}}}]\n",
      "level_count 1\n",
      "child = queue.pop(0) []\n",
      "queue.append(child[\"left_child\"]) [{'data': 63, 'left_child': {'data': 59}}]\n",
      "level_count 1\n",
      "child = queue.pop(0) []\n",
      "queue.append(child[\"left_child\"]) [{'data': 59}]\n",
      "level_count 1\n",
      "child = queue.pop(0) []\n",
      "4\n"
     ]
    }
   ],
   "source": [
    "def depth(tree):\n",
    "    result = 0\n",
    "    # our \"queue\" will store nodes at each level\n",
    "    queue = [tree]\n",
    "    print('queue=[tree]',queue)\n",
    "    # loop as long as there are nodes to explore\n",
    "    while queue:\n",
    "        # count the number of child nodes\n",
    "        level_count = len(queue)\n",
    "        print('level_count',level_count)\n",
    "        for child_count in range(0, level_count):\n",
    "            # loop through each child\n",
    "            child = queue.pop(0)\n",
    "            print('child = queue.pop(0)',queue)\n",
    "            # add its children if they exist\n",
    "            if child.get(\"left_child\"):\n",
    "                queue.append(child[\"left_child\"])\n",
    "                print('queue.append(child[\"left_child\"])',queue)\n",
    "            if child.get(\"right_child\"):\n",
    "                queue.append(child[\"right_child\"])\n",
    "                print('queue.append(child[\"right_child\"])',queue)\n",
    "            # count the level\n",
    "        result += 1\n",
    "    return result\n",
    "\n",
    "two_level_tree = {\n",
    "\"data\": 6, \n",
    "\"left_child\":\n",
    "  {\"data\": 2}\n",
    "}\n",
    "\n",
    "two_level_tree = {\n",
    "\"data\": 6, \n",
    "\"left_child\":\n",
    "  {\"data\": 2},\n",
    "\"right_child\":\n",
    "{\"data\": 3}\n",
    "}\n",
    "\n",
    "four_level_tree = {\n",
    "\"data\": 54,\n",
    "\"right_child\":\n",
    "  {\"data\": 93,\n",
    "   \"left_child\":\n",
    "     {\"data\": 63,\n",
    "      \"left_child\":\n",
    "        {\"data\": 59}\n",
    "      }\n",
    "   }\n",
    "}\n",
    "\n",
    "\n",
    "print(depth(two_level_tree))\n",
    "print(depth(four_level_tree))"
   ]
  },
  {
   "cell_type": "code",
   "execution_count": 2,
   "metadata": {},
   "outputs": [
    {
     "name": "stdout",
     "output_type": "stream",
     "text": [
      "2021-07-08 17:41:24.277247\n",
      "2021-07-31 00:00:00\n"
     ]
    }
   ],
   "source": [
    "import datetime,calendar\n",
    "\n",
    "\n",
    "# 获取今天日期：\n",
    "now_datetime = datetime.datetime.now()  \n",
    "current_year = now_datetime.year\n",
    "current_month = now_datetime.month\n",
    "\n",
    "# 获取最后一天\n",
    "this_month_end = datetime.datetime(current_year, current_month, calendar.monthrange(current_year, current_month)[1]) \n",
    "\n",
    "print(now_datetime)\n",
    "print(this_month_end)"
   ]
  },
  {
   "cell_type": "code",
   "execution_count": 3,
   "metadata": {},
   "outputs": [
    {
     "data": {
      "text/plain": [
       "datetime.timedelta(days=22, seconds=22715, microseconds=722753)"
      ]
     },
     "execution_count": 3,
     "metadata": {},
     "output_type": "execute_result"
    }
   ],
   "source": [
    "remain_days = this_month_end - now_datetime\n",
    "remain_days"
   ]
  }
 ],
 "metadata": {
  "kernelspec": {
   "display_name": "Python 3",
   "language": "python",
   "name": "python3"
  },
  "language_info": {
   "codemirror_mode": {
    "name": "ipython",
    "version": 3
   },
   "file_extension": ".py",
   "mimetype": "text/x-python",
   "name": "python",
   "nbconvert_exporter": "python",
   "pygments_lexer": "ipython3",
   "version": "3.8.5"
  }
 },
 "nbformat": 4,
 "nbformat_minor": 2
}
