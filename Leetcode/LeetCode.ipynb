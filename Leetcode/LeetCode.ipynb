{
 "cells": [
  {
   "cell_type": "markdown",
   "metadata": {},
   "source": [
    "# Two Sum\n",
    "\n",
    "https://leetcode.com/problems/two-sum/description/"
   ]
  },
  {
   "cell_type": "code",
   "execution_count": 72,
   "metadata": {},
   "outputs": [
    {
     "name": "stdout",
     "output_type": "stream",
     "text": [
      "[0, 1]\n",
      "[1, 2]\n",
      "[0, 1]\n"
     ]
    }
   ],
   "source": [
    "def twoSum(nums, target):\n",
    "    for i in range(len(nums)):\n",
    "        if (target-nums[i]) in nums[i+1:]:\n",
    "            return([i,nums.index(target-nums[i],i+1)])\n",
    "            \n",
    "print(twoSum([2, 7, 11, 15],9))\n",
    "print(twoSum([3,2,4],6))\n",
    "print(twoSum([3,3],6))"
   ]
  },
  {
   "cell_type": "code",
   "execution_count": 13,
   "metadata": {},
   "outputs": [
    {
     "name": "stdout",
     "output_type": "stream",
     "text": [
      "[1, 2]\n"
     ]
    }
   ],
   "source": [
    "nums = [3,2,4]\n",
    "target = 6\n",
    "result = []\n",
    "for i in range(len(nums)):\n",
    "    if ((target-nums[i]) in nums) and (target-nums[i]) != nums[i]:\n",
    "        result.append(i)\n",
    "print(result)"
   ]
  },
  {
   "cell_type": "code",
   "execution_count": 42,
   "metadata": {},
   "outputs": [
    {
     "name": "stdout",
     "output_type": "stream",
     "text": [
      "[1]\n"
     ]
    }
   ],
   "source": [
    "nums = [2,7,11,15]\n",
    "target = 9\n",
    "print([i for i in range(len(nums)) if (target-nums[i]) in nums[:i+1]])"
   ]
  },
  {
   "cell_type": "markdown",
   "metadata": {},
   "source": [
    "## index()\n",
    "\n",
    "str.index(str, beg=0, end=len(string))\n",
    "\n",
    "参数\n",
    "\n",
    "str -- 指定检索的字符串\n",
    "\n",
    "beg -- 开始索引，默认为0\n",
    "\n",
    "end -- 结束索引，默认为字符串的长度\n",
    "\n",
    "返回值\n",
    "\n",
    "如果包含子字符串返回开始的索引值，否则抛出异常。\n",
    "\n",
    "## List index()方法\n",
    "\n",
    "list.index(obj)\n",
    "\n",
    "参数\n",
    "\n",
    "obj -- 查找的对象。\n",
    "\n",
    "返回值\n",
    "\n",
    "该方法返回查找对象的索引位置，如果没有找到对象则抛出异常。"
   ]
  },
  {
   "cell_type": "code",
   "execution_count": 78,
   "metadata": {},
   "outputs": [
    {
     "name": "stdout",
     "output_type": "stream",
     "text": [
      "1\n",
      "2\n",
      "5\n",
      "2\n",
      "5\n"
     ]
    }
   ],
   "source": [
    "a = [3,3]\n",
    "print(a.index(3,1)) # 其中的1为开始索引   ?? 列表index没有beg,end参数\n",
    "b = [1,2,3,9,5,3,5]\n",
    "print(b.index(3))\n",
    "print(b.index(3,4))\n",
    "c = ['1','2','3','9','5','3','5']\n",
    "print(c.index('3'))\n",
    "print(c.index('3',4))"
   ]
  },
  {
   "cell_type": "code",
   "execution_count": 80,
   "metadata": {},
   "outputs": [
    {
     "name": "stdout",
     "output_type": "stream",
     "text": [
      "{7: 0}\n",
      "[0, 1]\n",
      "{7: 0}\n",
      "{7: 0, -2: 2}\n",
      "{7: 0, -2: 2, -6: 3}\n"
     ]
    }
   ],
   "source": [
    "nums = [2,7,11,15]\n",
    "target = 9\n",
    "if len(nums) <= 1:\n",
    "    print('False')\n",
    "buff_dict = {}\n",
    "for i in range(len(nums)):\n",
    "    if nums[i] in buff_dict:\n",
    "            print([buff_dict[nums[i]], i])\n",
    "    else:\n",
    "            buff_dict[target - nums[i]] = i\n",
    "    print(buff_dict)"
   ]
  },
  {
   "cell_type": "code",
   "execution_count": 81,
   "metadata": {},
   "outputs": [
    {
     "name": "stdout",
     "output_type": "stream",
     "text": [
      "[0, 1]\n",
      "{2: 0, 11: 2, 15: 3}\n"
     ]
    }
   ],
   "source": [
    "nums = [2,7,11,15]\n",
    "target = 9\n",
    "d = {}\n",
    "for i, n in enumerate(nums):\n",
    "    m = target - n\n",
    "    if m in d:\n",
    "        print([d[m], i])\n",
    "    else:\n",
    "        d[n] = i\n",
    "print(d)"
   ]
  },
  {
   "cell_type": "code",
   "execution_count": 82,
   "metadata": {},
   "outputs": [
    {
     "name": "stdout",
     "output_type": "stream",
     "text": [
      "0 2\n",
      "1 7\n",
      "2 11\n",
      "3 15\n"
     ]
    }
   ],
   "source": [
    "for i, n in enumerate(nums):\n",
    "    print(i,n)"
   ]
  },
  {
   "cell_type": "code",
   "execution_count": 83,
   "metadata": {},
   "outputs": [
    {
     "name": "stdout",
     "output_type": "stream",
     "text": [
      "[0, 1]\n",
      "{3: 0}\n"
     ]
    }
   ],
   "source": [
    "nums = [3,3]\n",
    "target = 6\n",
    "d = {}\n",
    "for i, n in enumerate(nums):\n",
    "    m = target - n\n",
    "    if m in d:\n",
    "        print([d[m], i])\n",
    "    else:\n",
    "        d[n] = i\n",
    "print(d)"
   ]
  },
  {
   "cell_type": "code",
   "execution_count": 84,
   "metadata": {},
   "outputs": [
    {
     "name": "stdout",
     "output_type": "stream",
     "text": [
      "[0, 1]\n",
      "{7: 0, -2: 2, -6: 3}\n"
     ]
    }
   ],
   "source": [
    "nums = [2,7,11,15]\n",
    "target = 9\n",
    "dic = {}\n",
    "for i, n in enumerate(nums):\n",
    "    if n in dic:\n",
    "        print([dic[n], i])\n",
    "    else:\n",
    "        dic[target - n] = i\n",
    "print(dic)"
   ]
  }
 ],
 "metadata": {
  "kernelspec": {
   "display_name": "Python 3",
   "language": "python",
   "name": "python3"
  },
  "language_info": {
   "codemirror_mode": {
    "name": "ipython",
    "version": 3
   },
   "file_extension": ".py",
   "mimetype": "text/x-python",
   "name": "python",
   "nbconvert_exporter": "python",
   "pygments_lexer": "ipython3",
   "version": "3.6.5"
  }
 },
 "nbformat": 4,
 "nbformat_minor": 2
}
