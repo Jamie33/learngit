{
 "cells": [
  {
   "cell_type": "markdown",
   "metadata": {
    "solution2": "hidden",
    "solution2_first": true
   },
   "source": [
    "# [Two Sum 两数之和](https://leetcode.com/problems/two-sum/description/)\n",
    "(2020/11/28)\n",
    "\n",
    "Given an array of integers, return indices of the two numbers such that they add up to a specific target.\n",
    "\n",
    "You may assume that each input would have exactly one solution, and you may not use the same element twice.\n",
    "\n",
    "给定一个整数数组 nums 和一个目标值 target，请你在该数组中找出和为目标值的那 两个 整数，并返回他们的数组下标。\n",
    "\n",
    "**你可以假设每种输入只会对应一个答案。但是，数组中同一个元素不能使用两遍。**\n",
    "\n",
    "Example:\n",
    "```\n",
    "Given nums = [2, 7, 11, 15], target = 9,\n",
    "\n",
    "Because nums[0] + nums[1] = 2 + 7 = 9,\n",
    "return [0, 1].\n",
    "```\n",
    "\n",
    "## 常规解法"
   ]
  },
  {
   "cell_type": "code",
   "execution_count": 3,
   "metadata": {
    "ExecuteTime": {
     "end_time": "2020-11-27T11:26:26.235470Z",
     "start_time": "2020-11-27T11:26:26.229485Z"
    },
    "scrolled": true,
    "solution2": "hidden"
   },
   "outputs": [
    {
     "name": "stdout",
     "output_type": "stream",
     "text": [
      "[0, 1]\n",
      "[1, 2]\n",
      "[0, 1]\n"
     ]
    }
   ],
   "source": [
    "def twoSum(nums, target):\n",
    "    for i in range(len(nums)):\n",
    "        if target-nums[i] in nums[i+1:]:\n",
    "            return [i,nums.index(target-nums[i],i+1)]\n",
    "        \n",
    "print(twoSum([2,7,11,15],9))\n",
    "print(twoSum([3,4,2],6))\n",
    "print(twoSum([3,3],6))"
   ]
  },
  {
   "cell_type": "markdown",
   "metadata": {},
   "source": [
    "### 试试"
   ]
  },
  {
   "cell_type": "code",
   "execution_count": 12,
   "metadata": {
    "ExecuteTime": {
     "end_time": "2020-11-28T04:11:57.470816Z",
     "start_time": "2020-11-28T04:11:57.463835Z"
    }
   },
   "outputs": [
    {
     "name": "stdout",
     "output_type": "stream",
     "text": [
      "存在在 nums 列表中\n",
      "[0, 1]\n",
      "存在在 nums 列表中\n",
      "[1, 2]\n",
      "存在在 nums 列表中\n",
      "[0, 0]\n"
     ]
    }
   ],
   "source": [
    "# 试1\n",
    "def twoSum(nums,target):\n",
    "    for num in nums:\n",
    "        remaining = target - num\n",
    "        checking_list= nums[nums.index(num)+1:]\n",
    "        if remaining in checking_list:\n",
    "            print('余存在在 nums 列表中')\n",
    "            return [nums.index(num),nums.index(remaining)]\n",
    "\n",
    "print(twoSum([2,7,11,15],9))\n",
    "print(twoSum([3,4,2],6))\n",
    "print(twoSum([3,3],6)) # 有问题，同一个元素用了两次"
   ]
  },
  {
   "cell_type": "code",
   "execution_count": 24,
   "metadata": {
    "ExecuteTime": {
     "end_time": "2020-11-28T04:19:13.645458Z",
     "start_time": "2020-11-28T04:19:13.639473Z"
    }
   },
   "outputs": [
    {
     "name": "stdout",
     "output_type": "stream",
     "text": [
      "余存在在 nums 列表中\n",
      "[0, 1]\n",
      "余存在在 nums 列表中\n",
      "[1, 2]\n",
      "余存在在 nums 列表中\n",
      "[0, 1]\n"
     ]
    }
   ],
   "source": [
    "# 试2\n",
    "def twoSum(nums,target):\n",
    "    for i in range(len(nums)):\n",
    "        remaining = target-nums[i]\n",
    "        if remaining in nums[i+1:]:\n",
    "            print('余存在在 nums 列表中')\n",
    "            return [i,nums[i+1:].index(remaining)+i+1] # 列表改了，而且在最后结果加了i+1。其实这里有更好的办法\n",
    "        \n",
    "print(twoSum([2,7,11,15],9))\n",
    "print(twoSum([3,4,2],6))\n",
    "print(twoSum([3,3],6)) "
   ]
  },
  {
   "cell_type": "code",
   "execution_count": 27,
   "metadata": {
    "ExecuteTime": {
     "end_time": "2020-11-28T04:22:37.358677Z",
     "start_time": "2020-11-28T04:22:37.352679Z"
    }
   },
   "outputs": [
    {
     "name": "stdout",
     "output_type": "stream",
     "text": [
      "余存在在 nums 列表中\n",
      "[0, 1]\n",
      "余存在在 nums 列表中\n",
      "[1, 2]\n",
      "余存在在 nums 列表中\n",
      "[0, 1]\n"
     ]
    }
   ],
   "source": [
    "# 试4\n",
    "def twoSum(nums,target):\n",
    "    for i in range(len(nums)):\n",
    "        remaining = target-nums[i]\n",
    "        if remaining in nums[i+1:]:\n",
    "            print('余存在在 nums 列表中')\n",
    "            return [i,nums.index(remaining,i+1)] # ist.index(x[, start[, end]]) 参数：x-- 查找的对象，start-- 可选，查找的起始位置，end-- 可选，查找的结束位置。\n",
    "        \n",
    "print(twoSum([2,7,11,15],9))\n",
    "print(twoSum([3,4,2],6))\n",
    "print(twoSum([3,3],6)) "
   ]
  },
  {
   "cell_type": "markdown",
   "metadata": {},
   "source": [
    "## 不熟的知识点\n",
    "\n",
    "### index() 函数\n",
    "用于从列表中找出某个值第一个匹配项的索引位置。\n",
    "\n",
    "`list.index(x[, start[, end]])`\n",
    "- 参数：x-- 查找的对象，start-- 可选，查找的起始位置，end-- 可选，查找的结束位置。\n",
    "- 返回值：该方法返回查找对象的索引位置，如果没有找到对象则抛出异常。\n",
    "例子：\n",
    "```\n",
    "nums = [2,7,11,15]\n",
    "nums.index(7,1,3)\n",
    "return 1\n",
    "```"
   ]
  },
  {
   "cell_type": "code",
   "execution_count": 4,
   "metadata": {
    "ExecuteTime": {
     "end_time": "2020-11-27T11:28:31.203697Z",
     "start_time": "2020-11-27T11:28:31.199707Z"
    }
   },
   "outputs": [
    {
     "name": "stdout",
     "output_type": "stream",
     "text": [
      "3\n"
     ]
    }
   ],
   "source": [
    "a = [2,7,11,15]\n",
    "print(a.index(15))"
   ]
  },
  {
   "cell_type": "code",
   "execution_count": 25,
   "metadata": {
    "ExecuteTime": {
     "end_time": "2020-11-28T04:20:41.972066Z",
     "start_time": "2020-11-28T04:20:41.967081Z"
    }
   },
   "outputs": [
    {
     "name": "stdout",
     "output_type": "stream",
     "text": [
      "3\n"
     ]
    }
   ],
   "source": [
    "a = [2,7,11,15]\n",
    "print(a.index(15,1))"
   ]
  },
  {
   "cell_type": "markdown",
   "metadata": {},
   "source": [
    "### enumerate() 函数\n",
    "\n",
    "用于将一个可遍历的数据对象(如列表、元组或字符串)组合为一个索引序列，同时列出**数据和数据下标**，一般用在 for 循环当中。\n",
    "\n",
    "`enumerate(sequence, [start=0])`\n",
    "\n",
    "- 参数 sequence -- 一个序列、迭代器或其他支持迭代对象。start -- 下标起始位置。\n",
    "- 返回值 返回 enumerate(枚举) 对象。"
   ]
  },
  {
   "cell_type": "code",
   "execution_count": 30,
   "metadata": {
    "ExecuteTime": {
     "end_time": "2020-11-28T04:29:17.635679Z",
     "start_time": "2020-11-28T04:29:17.629696Z"
    }
   },
   "outputs": [
    {
     "data": {
      "text/plain": [
       "[(1, 'Spring'), (2, 'Summer'), (3, 'Fall'), (4, 'Winter')]"
      ]
     },
     "execution_count": 30,
     "metadata": {},
     "output_type": "execute_result"
    }
   ],
   "source": [
    "seasons = ['Spring', 'Summer', 'Fall', 'Winter']\n",
    "list(enumerate(seasons, start=1))       # 下标从 1 开始"
   ]
  },
  {
   "cell_type": "markdown",
   "metadata": {
    "solution2": "hidden",
    "solution2_first": true
   },
   "source": [
    "## 进阶解法\n",
    "\n",
    "用 enumerate"
   ]
  },
  {
   "cell_type": "code",
   "execution_count": 10,
   "metadata": {
    "ExecuteTime": {
     "end_time": "2020-11-27T12:20:17.094390Z",
     "start_time": "2020-11-27T12:20:17.089431Z"
    },
    "scrolled": true,
    "solution2": "hidden"
   },
   "outputs": [
    {
     "name": "stdout",
     "output_type": "stream",
     "text": [
      "3 不在a\n",
      "{3: 0}\n",
      "3 在a\n",
      "[0, 1]\n"
     ]
    }
   ],
   "source": [
    "def twoSum(nums, target):\n",
    "    a = {}\n",
    "    for i,num in enumerate(nums):\n",
    "        n = target - num\n",
    "        if n not in a:\n",
    "            print(n,'不在a')\n",
    "            a[num]=i\n",
    "            print(a)\n",
    "        else:\n",
    "            print(n,'在a')\n",
    "            return [a[n],i]\n",
    "        \n",
    "# print(twoSum([2,1,6,7,11,15],9))\n",
    "# print(twoSum([3,4,2],6))\n",
    "print(twoSum([3,3],6))"
   ]
  },
  {
   "cell_type": "markdown",
   "metadata": {},
   "source": [
    "### 试试"
   ]
  },
  {
   "cell_type": "code",
   "execution_count": 40,
   "metadata": {
    "ExecuteTime": {
     "end_time": "2020-11-28T06:30:35.955055Z",
     "start_time": "2020-11-28T06:30:35.949072Z"
    }
   },
   "outputs": [
    {
     "name": "stdout",
     "output_type": "stream",
     "text": [
      "[0, 1]\n",
      "[1, 2]\n",
      "[0, 1]\n"
     ]
    }
   ],
   "source": [
    "# 试5\n",
    "def twoSum(nums,target):\n",
    "    hash_table = dict()\n",
    "    for i,num in enumerate(nums):\n",
    "        remaining = target - num\n",
    "        if remaining in hash_table:\n",
    "            return [hash_table[remaining],i]\n",
    "        hash_table[num] = i\n",
    "    return []\n",
    "\n",
    "print(twoSum([2,7,11,15],9))\n",
    "print(twoSum([3,4,2],6))\n",
    "print(twoSum([3,3],6)) "
   ]
  },
  {
   "cell_type": "markdown",
   "metadata": {},
   "source": [
    "# [Reverse Integer 整数反转](https://leetcode.com/problems/reverse-integer/)\n",
    "\n",
    "Given a 32-bit signed integer, reverse digits of an integer.\n",
    "给出一个 32 位的有符号整数，你需要将这个整数中每位上的数字进行反转\n",
    "\n",
    "Note:\n",
    "\n",
    "Assume we are dealing with an environment that could only store integers within the 32-bit signed integer range: $$[−2^{31},  2^{31} − 1]$$\n",
    "For the purpose of this problem, assume that your function returns 0 when the reversed integer overflows.\n",
    "\n",
    "- Example 1: Input: x = 123 Output: 321\n",
    "- Example 2: Input: x = -123 Output: -321\n",
    "- Example 3: Input: x = 120 Output: 21\n",
    "- Example 4: Input: x = 0 Output: 0\n",
    " \n",
    "Constraints:\n",
    "$$−2^{31}<= x <=   2^{31} − 1$$"
   ]
  },
  {
   "cell_type": "markdown",
   "metadata": {},
   "source": [
    "### 试试"
   ]
  },
  {
   "cell_type": "code",
   "execution_count": 49,
   "metadata": {
    "ExecuteTime": {
     "end_time": "2020-11-30T02:35:45.386056Z",
     "start_time": "2020-11-30T02:35:45.379098Z"
    }
   },
   "outputs": [
    {
     "data": {
      "text/plain": [
       "0"
      ]
     },
     "execution_count": 49,
     "metadata": {},
     "output_type": "execute_result"
    }
   ],
   "source": [
    "def reverse_num(num):\n",
    "\n",
    "    str_num = str(num)  # 转换字符串\n",
    "    num_sign_split = str_num.split('-') # 获取符号\n",
    "    if len(num_sign_split) == 2:  # 有符号\n",
    "        sign_prefix = '-'\n",
    "        reverse_suffix = num_sign_split[1] \n",
    "    else:\n",
    "        sign_prefix = ''\n",
    "        reverse_suffix = str_num\n",
    "    revser_str = reverse_suffix[::-1] # 翻转\n",
    "    combine_str =sign_prefix+ revser_str # 合并符号 \n",
    "    combine_num = int(combine_str)\n",
    "    if combine_num < -pow(2,31) or combine_num > pow(2,31)-1:\n",
    "        return 0        \n",
    "    return combine_num\n",
    "\n",
    "num  = 1534236469\n",
    "reverse_num(num)"
   ]
  },
  {
   "cell_type": "code",
   "execution_count": null,
   "metadata": {},
   "outputs": [],
   "source": []
  }
 ],
 "metadata": {
  "kernelspec": {
   "display_name": "Python 3",
   "language": "python",
   "name": "python3"
  },
  "language_info": {
   "codemirror_mode": {
    "name": "ipython",
    "version": 3
   },
   "file_extension": ".py",
   "mimetype": "text/x-python",
   "name": "python",
   "nbconvert_exporter": "python",
   "pygments_lexer": "ipython3",
   "version": "3.8.3"
  },
  "toc": {
   "base_numbering": 1,
   "nav_menu": {},
   "number_sections": true,
   "sideBar": true,
   "skip_h1_title": false,
   "title_cell": "Table of Contents",
   "title_sidebar": "Contents",
   "toc_cell": false,
   "toc_position": {},
   "toc_section_display": true,
   "toc_window_display": true
  },
  "varInspector": {
   "cols": {
    "lenName": 16,
    "lenType": 16,
    "lenVar": 40
   },
   "kernels_config": {
    "python": {
     "delete_cmd_postfix": "",
     "delete_cmd_prefix": "del ",
     "library": "var_list.py",
     "varRefreshCmd": "print(var_dic_list())"
    },
    "r": {
     "delete_cmd_postfix": ") ",
     "delete_cmd_prefix": "rm(",
     "library": "var_list.r",
     "varRefreshCmd": "cat(var_dic_list()) "
    }
   },
   "types_to_exclude": [
    "module",
    "function",
    "builtin_function_or_method",
    "instance",
    "_Feature"
   ],
   "window_display": false
  }
 },
 "nbformat": 4,
 "nbformat_minor": 2
}
