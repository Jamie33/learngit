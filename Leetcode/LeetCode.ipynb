{
 "cells": [
  {
   "cell_type": "markdown",
   "metadata": {},
   "source": [
    "# [Two Sum](https://leetcode.com/problems/two-sum/description/)\n",
    "\n",
    "\n",
    "Given an array of integers, return indices of the two numbers such that they add up to a specific target.\n",
    "\n",
    "You may assume that each input would have exactly one solution, and you may not use the same element twice.\n",
    "\n",
    "Example:\n",
    "```\n",
    "Given nums = [2, 7, 11, 15], target = 9,\n",
    "\n",
    "Because nums[0] + nums[1] = 2 + 7 = 9,\n",
    "return [0, 1].\n",
    "```"
   ]
  },
  {
   "cell_type": "code",
   "execution_count": 23,
   "metadata": {},
   "outputs": [
    {
     "name": "stdout",
     "output_type": "stream",
     "text": [
      "[0, 1]\n",
      "[1, 2]\n",
      "[0, 1]\n"
     ]
    }
   ],
   "source": [
    "def twoSum(nums, target):\n",
    "    for i in range(len(nums)):\n",
    "        if target-nums[i] in nums[i+1:]:\n",
    "            return [i,nums.index(target-nums[i],i+1)]\n",
    "        \n",
    "print(twoSum([2,7,11,15],9))\n",
    "print(twoSum([3,4,2],6))\n",
    "print(twoSum([3,3],6))"
   ]
  },
  {
   "cell_type": "markdown",
   "metadata": {},
   "source": [
    "## 反馈\n",
    "Runtime: 1140 ms, faster than 24.26% of Python3 online submissions for Two Sum.\n",
    "\n",
    "Memory Usage: 13.9 MB, less than 67.67% of Python3 online submissions for Two Sum.\n",
    "\n",
    "## 注意\n",
    "列表的元素只能使用一次\n",
    "\n",
    "## 知识点\n",
    "index() 函数用于从列表中找出某个值第一个匹配项的索引位置。\n",
    "\n",
    "list.index(x[, start[, end]])\n",
    "\n",
    "参数：x-- 查找的对象，start-- 可选，查找的起始位置，end-- 可选，查找的结束位置。\n",
    "\n",
    "返回值：该方法返回查找对象的索引位置，如果没有找到对象则抛出异常。\n",
    "\n",
    "例子：\n",
    "```\n",
    "nums = [2,7,11,15]\n",
    "nums.index(7,1,3)\n",
    "return 1\n",
    "```\n",
    "\n",
    "## 进阶解法\n",
    "\n",
    "Runtime: 40 ms, faster than 97.91% of Python3 online submissions for Two Sum.\n",
    "Memory Usage: 14.1 MB, less than 60.93% of Python3 online submissions for Two Sum."
   ]
  },
  {
   "cell_type": "code",
   "execution_count": 33,
   "metadata": {},
   "outputs": [
    {
     "name": "stdout",
     "output_type": "stream",
     "text": [
      "[0, 1]\n",
      "[1, 2]\n",
      "[0, 1]\n"
     ]
    }
   ],
   "source": [
    "def twoSum(nums, target):\n",
    "    a = {}\n",
    "    for i,num in enumerate(nums):\n",
    "        n = target - num\n",
    "        if n not in a:\n",
    "            a[num]=i\n",
    "        else:\n",
    "            return [a[n],i]\n",
    "        \n",
    "print(twoSum([2,7,11,15],9))\n",
    "print(twoSum([3,4,2],6))\n",
    "print(twoSum([3,3],6))"
   ]
  },
  {
   "cell_type": "markdown",
   "metadata": {},
   "source": [
    "# [Add Two Numbers](https://leetcode.com/problems/add-two-numbers/)\n",
    "\n",
    "\n",
    "You are given two non-empty linked lists representing two non-negative integers. The digits are stored in reverse order and each of their nodes contain a single digit. Add the two numbers and return it as a linked list.\n",
    "\n",
    "You may assume the two numbers do not contain any leading zero, except the number 0 itself.\n",
    "\n",
    "Example:\n",
    "\n",
    "Input: (2 -> 4 -> 3) + (5 -> 6 -> 4)\n",
    "Output: 7 -> 0 -> 8\n",
    "Explanation: 342 + 465 = 807."
   ]
  },
  {
   "cell_type": "code",
   "execution_count": 51,
   "metadata": {},
   "outputs": [
    {
     "data": {
      "text/plain": [
       "{0: 7, 1: 0, 2: 8}"
      ]
     },
     "execution_count": 51,
     "metadata": {},
     "output_type": "execute_result"
    }
   ],
   "source": [
    "def addTwoNumbers(l1, l2):\n",
    "    result = {}\n",
    "    m = 0\n",
    "    for i,n in enumerate(l1):\n",
    "        s=n+l2[i]\n",
    "        if s>9:\n",
    "            m = 1\n",
    "            result[i] = s%10\n",
    "        else:\n",
    "            result[i]=s+m\n",
    "    return result\n",
    "        \n",
    "l1 = [2,4,3]\n",
    "l2 = [5,6,4]\n",
    "addTwoNumbers(l1,l2)"
   ]
  },
  {
   "cell_type": "code",
   "execution_count": 65,
   "metadata": {},
   "outputs": [
    {
     "name": "stdout",
     "output_type": "stream",
     "text": [
      "2\n"
     ]
    }
   ],
   "source": [
    "class Node:\n",
    "    def __init__(self,cargo = None, next = None):\n",
    "        self.cargo = cargo\n",
    "        self.next = next\n",
    "        \n",
    "def addTwoNumbers(l1, l2):\n",
    "    result = {}\n",
    "    m = 0\n",
    "    for i,n in enumerate(l1):\n",
    "        s=n+l2[i]\n",
    "        if s>9:\n",
    "            m = 1\n",
    "            result[i] = s%10\n",
    "        else:\n",
    "            result[i]=s+m\n",
    "    return result\n",
    "        \n",
    "l1 = [2,4,3]\n",
    "l2 = [5,6,4]\n",
    "addTwoNumbers(l1,l2)\n",
    "\n",
    "node1 = Node(1)\n",
    "node2 = Node(2)\n",
    "node3 = Node(3)\n",
    "node1.next = node2\n",
    "node2.next = node3\n",
    "\n",
    "print(node1.next.cargo)"
   ]
  },
  {
   "cell_type": "code",
   "execution_count": null,
   "metadata": {},
   "outputs": [],
   "source": []
  }
 ],
 "metadata": {
  "kernelspec": {
   "display_name": "Python 3",
   "language": "python",
   "name": "python3"
  },
  "language_info": {
   "codemirror_mode": {
    "name": "ipython",
    "version": 3
   },
   "file_extension": ".py",
   "mimetype": "text/x-python",
   "name": "python",
   "nbconvert_exporter": "python",
   "pygments_lexer": "ipython3",
   "version": "3.6.3"
  },
  "toc": {
   "nav_menu": {},
   "number_sections": true,
   "sideBar": true,
   "skip_h1_title": false,
   "title_cell": "Table of Contents",
   "title_sidebar": "Contents",
   "toc_cell": false,
   "toc_position": {},
   "toc_section_display": true,
   "toc_window_display": true
  },
  "varInspector": {
   "cols": {
    "lenName": 16,
    "lenType": 16,
    "lenVar": 40
   },
   "kernels_config": {
    "python": {
     "delete_cmd_postfix": "",
     "delete_cmd_prefix": "del ",
     "library": "var_list.py",
     "varRefreshCmd": "print(var_dic_list())"
    },
    "r": {
     "delete_cmd_postfix": ") ",
     "delete_cmd_prefix": "rm(",
     "library": "var_list.r",
     "varRefreshCmd": "cat(var_dic_list()) "
    }
   },
   "types_to_exclude": [
    "module",
    "function",
    "builtin_function_or_method",
    "instance",
    "_Feature"
   ],
   "window_display": false
  }
 },
 "nbformat": 4,
 "nbformat_minor": 2
}
