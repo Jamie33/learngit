{
 "cells": [
  {
   "cell_type": "code",
   "execution_count": 39,
   "metadata": {},
   "outputs": [
    {
     "name": "stdout",
     "output_type": "stream",
     "text": [
      "b\"(lp0\\n(lp1\\n(S' '\\np2\\nI95\\ntp3\\naa(lp4\\n(g2\\nI14\\ntp5\\na(S'#'\\np6\\nI5\\ntp7\\na(g2\\nI70\\ntp8\\na(g6\\nI5\\ntp9\\na(g2\\nI1\\ntp10\\naa(lp11\\n(g2\\nI15\\ntp12\\na(g6\\nI4\\ntp13\\na(g2\\nI71\\ntp14\\na(g6\\nI4\\ntp15\\na(g2\\nI1\\ntp16\\naa(lp17\\n(g2\\nI15\\ntp18\\na(g6\\nI4\\ntp19\\na(g2\\nI71\\ntp20\\na(g6\\nI4\\ntp21\\na(g2\\nI1\\ntp22\\naa(lp23\\n(g2\\nI15\\ntp24\\na(g6\\nI4\\ntp25\\na(g2\\nI71\\ntp26\\na(g6\\nI4\\ntp27\\na(g2\\nI1\\ntp28\\naa(lp29\\n(g2\\nI15\\ntp30\\na(g6\\nI4\\ntp31\\na(g2\\nI71\\ntp32\\na(g6\\nI4\\ntp33\\na(g2\\nI1\\ntp34\\naa(lp35\\n(g2\\nI15\\ntp36\\na(g6\\nI4\\ntp37\\na(g2\\nI71\\ntp38\\na(g6\\nI4\\ntp39\\na(g2\\nI1\\ntp40\\naa(lp41\\n(g2\\nI15\\ntp42\\na(g6\\nI4\\ntp43\\na(g2\\nI71\\ntp44\\na(g6\\nI4\\ntp45\\na(g2\\nI1\\ntp46\\naa(lp47\\n(g2\\nI15\\ntp48\\na(g6\\nI4\\ntp49\\na(g2\\nI71\\ntp50\\na(g6\\nI4\\ntp51\\na(g2\\nI1\\ntp52\\naa(lp53\\n(g2\\nI6\\ntp54\\na(g6\\nI3\\ntp55\\na(g2\\nI6\\ntp56\\na(g6\\nI4\\ntp57\\na(g2\\nI3\\ntp58\\na(g6\\nI3\\ntp59\\na(g2\\nI9\\ntp60\\na(g6\\nI3\\ntp61\\na(g2\\nI7\\ntp62\\na(g6\\nI5\\ntp63\\na(g2\\nI3\\ntp64\\na(g6\\nI3\\ntp65\\na(g2\\nI4\\ntp66\\na(g6\\nI5\\ntp67\\na(g2\\nI3\\ntp68\\na(g6\\nI3\\ntp69\\na(g2\\nI10\\ntp70\\na(g6\\nI3\\ntp71\\na(g2\\nI7\\ntp72\\na(g6\\nI4\\ntp73\\na(g2\\nI1\\ntp74\\naa(lp75\\n(g2\\nI3\\ntp76\\na(g6\\nI3\\ntp77\\na(g2\\nI3\\ntp78\\na(g6\\nI2\\ntp79\\na(g2\\nI4\\ntp80\\na(g6\\nI4\\ntp81\\na(g2\\nI1\\ntp82\\na(g6\\nI7\\ntp83\\na(g2\\nI5\\ntp84\\na(g6\\nI2\\ntp85\\na(g2\\nI2\\ntp86\\na(g6\\nI3\\ntp87\\na(g2\\nI6\\ntp88\\na(g6\\nI4\\ntp89\\na(g2\\nI1\\ntp90\\na(g6\\nI7\\ntp91\\na(g2\\nI3\\ntp92\\na(g6\\nI4\\ntp93\\na(g2\\nI1\\ntp94\\na(g6\\nI7\\ntp95\\na(g2\\nI5\\ntp96\\na(g6\\nI3\\ntp97\\na(g2\\nI2\\ntp98\\na(g6\\nI3\\ntp99\\na(g2\\nI5\\ntp100\\na(g6\\nI4\\ntp101\\na(g2\\nI1\\ntp102\\naa(lp103\\n(g2\\nI2\\ntp104\\na(g6\\nI3\\ntp105\\na(g2\\nI5\\ntp106\\na(g6\\nI3\\ntp107\\na(g2\\nI2\\ntp108\\na(g6\\nI5\\ntp109\\na(g2\\nI4\\ntp110\\na(g6\\nI4\\ntp111\\na(g2\\nI3\\ntp112\\na(g6\\nI3\\ntp113\\na(g2\\nI3\\ntp114\\na(g6\\nI4\\ntp115\\na(g2\\nI4\\ntp116\\na(g6\\nI5\\ntp117\\na(g2\\nI4\\ntp118\\na(g6\\nI4\\ntp119\\na(g2\\nI2\\ntp120\\na(g6\\nI5\\ntp121\\na(g2\\nI4\\ntp122\\na(g6\\nI4\\ntp123\\na(g2\\nI3\\ntp124\\na(g6\\nI3\\ntp125\\na(g2\\nI5\\ntp126\\na(g6\\nI3\\ntp127\\na(g2\\nI3\\ntp128\\na(g6\\nI4\\ntp129\\na(g2\\nI1\\ntp130\\naa(lp131\\n(g2\\nI1\\ntp132\\na(g6\\nI3\\ntp133\\na(g2\\nI11\\ntp134\\na(g6\\nI4\\ntp135\\na(g2\\nI5\\ntp136\\na(g6\\nI4\\ntp137\\na(g2\\nI3\\ntp138\\na(g6\\nI3\\ntp139\\na(g2\\nI4\\ntp140\\na(g6\\nI3\\ntp141\\na(g2\\nI4\\ntp142\\na(g6\\nI4\\ntp143\\na(g2\\nI5\\ntp144\\na(g6\\nI4\\ntp145\\na(g2\\nI2\\ntp146\\na(g6\\nI4\\ntp147\\na(g2\\nI5\\ntp148\\na(g6\\nI4\\ntp149\\na(g2\\nI2\\ntp150\\na(g6\\nI3\\ntp151\\na(g2\\nI6\\ntp152\\na(g6\\nI4\\ntp153\\na(g2\\nI2\\ntp154\\na(g6\\nI4\\ntp155\\na(g2\\nI1\\ntp156\\naa(lp157\\n(g2\\nI1\\ntp158\\na(g6\\nI3\\ntp159\\na(g2\\nI11\\ntp160\\na(g6\\nI4\\ntp161\\na(g2\\nI5\\ntp162\\na(g6\\nI4\\ntp163\\na(g2\\nI10\\ntp164\\na(g6\\nI3\\ntp165\\na(g2\\nI4\\ntp166\\na(g6\\nI4\\ntp167\\na(g2\\nI5\\ntp168\\na(g6\\nI4\\ntp169\\na(g2\\nI2\\ntp170\\na(g6\\nI4\\ntp171\\na(g2\\nI5\\ntp172\\na(g6\\nI4\\ntp173\\na(g2\\nI2\\ntp174\\na(g6\\nI3\\ntp175\\na(g2\\nI7\\ntp176\\na(g6\\nI3\\ntp177\\na(g2\\nI2\\ntp178\\na(g6\\nI4\\ntp179\\na(g2\\nI1\\ntp180\\naa(lp181\\n(g6\\nI4\\ntp182\\na(g2\\nI11\\ntp183\\na(g6\\nI4\\ntp184\\na(g2\\nI5\\ntp185\\na(g6\\nI4\\ntp186\\na(g2\\nI5\\ntp187\\na(g6\\nI2\\ntp188\\na(g2\\nI3\\ntp189\\na(g6\\nI3\\ntp190\\na(g2\\nI4\\ntp191\\na(g6\\nI4\\ntp192\\na(g2\\nI5\\ntp193\\na(g6\\nI4\\ntp194\\na(g2\\nI2\\ntp195\\na(g6\\nI4\\ntp196\\na(g2\\nI5\\ntp197\\na(g6\\nI4\\ntp198\\na(g2\\nI1\\ntp199\\na(g6\\nI4\\ntp200\\na(g2\\nI7\\ntp201\\na(g6\\nI3\\ntp202\\na(g2\\nI2\\ntp203\\na(g6\\nI4\\ntp204\\na(g2\\nI1\\ntp205\\naa(lp206\\n(g6\\nI4\\ntp207\\na(g2\\nI11\\ntp208\\na(g6\\nI4\\ntp209\\na(g2\\nI5\\ntp210\\na(g6\\nI4\\ntp211\\na(g2\\nI3\\ntp212\\na(g6\\nI10\\ntp213\\na(g2\\nI4\\ntp214\\na(g6\\nI4\\ntp215\\na(g2\\nI5\\ntp216\\na(g6\\nI4\\ntp217\\na(g2\\nI2\\ntp218\\na(g6\\nI4\\ntp219\\na(g2\\nI5\\ntp220\\na(g6\\nI4\\ntp221\\na(g2\\nI1\\ntp222\\na(g6\\nI14\\ntp223\\na(g2\\nI2\\ntp224\\na(g6\\nI4\\ntp225\\na(g2\\nI1\\ntp226\\naa(lp227\\n(g6\\nI4\\ntp228\\na(g2\\nI11\\ntp229\\na(g6\\nI4\\ntp230\\na(g2\\nI5\\ntp231\\na(g6\\nI4\\ntp232\\na(g2\\nI2\\ntp233\\na(g6\\nI3\\ntp234\\na(g2\\nI4\\ntp235\\na(g6\\nI4\\ntp236\\na(g2\\nI4\\ntp237\\na(g6\\nI4\\ntp238\\na(g2\\nI5\\ntp239\\na(g6\\nI4\\ntp240\\na(g2\\nI2\\ntp241\\na(g6\\nI4\\ntp242\\na(g2\\nI5\\ntp243\\na(g6\\nI4\\ntp244\\na(g2\\nI1\\ntp245\\na(g6\\nI4\\ntp246\\na(g2\\nI12\\ntp247\\na(g6\\nI4\\ntp248\\na(g2\\nI1\\ntp249\\naa(lp250\\n(g6\\nI4\\ntp251\\na(g2\\nI11\\ntp252\\na(g6\\nI4\\ntp253\\na(g2\\nI5\\ntp254\\na(g6\\nI4\\ntp255\\na(g2\\nI1\\ntp256\\na(g6\\nI4\\ntp257\\na(g2\\nI5\\ntp258\\na(g6\\nI3\\ntp259\\na(g2\\nI4\\ntp260\\na(g6\\nI4\\ntp261\\na(g2\\nI5\\ntp262\\na(g6\\nI4\\ntp263\\na(g2\\nI2\\ntp264\\na(g6\\nI4\\ntp265\\na(g2\\nI5\\ntp266\\na(g6\\nI4\\ntp267\\na(g2\\nI1\\ntp268\\na(g6\\nI4\\ntp269\\na(g2\\nI12\\ntp270\\na(g6\\nI4\\ntp271\\na(g2\\nI1\\ntp272\\naa(lp273\\n(g2\\nI1\\ntp274\\na(g6\\nI3\\ntp275\\na(g2\\nI11\\ntp276\\na(g6\\nI4\\ntp277\\na(g2\\nI5\\ntp278\\na(g6\\nI4\\ntp279\\na(g2\\nI1\\ntp280\\na(g6\\nI4\\ntp281\\na(g2\\nI5\\ntp282\\na(g6\\nI3\\ntp283\\na(g2\\nI4\\ntp284\\na(g6\\nI4\\ntp285\\na(g2\\nI5\\ntp286\\na(g6\\nI4\\ntp287\\na(g2\\nI2\\ntp288\\na(g6\\nI4\\ntp289\\na(g2\\nI5\\ntp290\\na(g6\\nI4\\ntp291\\na(g2\\nI2\\ntp292\\na(g6\\nI3\\ntp293\\na(g2\\nI12\\ntp294\\na(g6\\nI4\\ntp295\\na(g2\\nI1\\ntp296\\naa(lp297\\n(g2\\nI2\\ntp298\\na(g6\\nI3\\ntp299\\na(g2\\nI6\\ntp300\\na(g6\\nI2\\ntp301\\na(g2\\nI2\\ntp302\\na(g6\\nI4\\ntp303\\na(g2\\nI5\\ntp304\\na(g6\\nI4\\ntp305\\na(g2\\nI2\\ntp306\\na(g6\\nI3\\ntp307\\na(g2\\nI4\\ntp308\\na(g6\\nI4\\ntp309\\na(g2\\nI4\\ntp310\\na(g6\\nI4\\ntp311\\na(g2\\nI5\\ntp312\\na(g6\\nI4\\ntp313\\na(g2\\nI2\\ntp314\\na(g6\\nI4\\ntp315\\na(g2\\nI5\\ntp316\\na(g6\\nI4\\ntp317\\na(g2\\nI3\\ntp318\\na(g6\\nI3\\ntp319\\na(g2\\nI6\\ntp320\\na(g6\\nI2\\ntp321\\na(g2\\nI3\\ntp322\\na(g6\\nI4\\ntp323\\na(g2\\nI1\\ntp324\\naa(lp325\\n(g2\\nI3\\ntp326\\na(g6\\nI3\\ntp327\\na(g2\\nI4\\ntp328\\na(g6\\nI2\\ntp329\\na(g2\\nI3\\ntp330\\na(g6\\nI4\\ntp331\\na(g2\\nI5\\ntp332\\na(g6\\nI4\\ntp333\\na(g2\\nI3\\ntp334\\na(g6\\nI11\\ntp335\\na(g2\\nI3\\ntp336\\na(g6\\nI4\\ntp337\\na(g2\\nI5\\ntp338\\na(g6\\nI4\\ntp339\\na(g2\\nI2\\ntp340\\na(g6\\nI4\\ntp341\\na(g2\\nI5\\ntp342\\na(g6\\nI4\\ntp343\\na(g2\\nI4\\ntp344\\na(g6\\nI3\\ntp345\\na(g2\\nI4\\ntp346\\na(g6\\nI2\\ntp347\\na(g2\\nI4\\ntp348\\na(g6\\nI4\\ntp349\\na(g2\\nI1\\ntp350\\naa(lp351\\n(g2\\nI6\\ntp352\\na(g6\\nI3\\ntp353\\na(g2\\nI5\\ntp354\\na(g6\\nI6\\ntp355\\na(g2\\nI4\\ntp356\\na(g6\\nI5\\ntp357\\na(g2\\nI4\\ntp358\\na(g6\\nI2\\ntp359\\na(g2\\nI4\\ntp360\\na(g6\\nI4\\ntp361\\na(g2\\nI1\\ntp362\\na(g6\\nI6\\ntp363\\na(g2\\nI4\\ntp364\\na(g6\\nI11\\ntp365\\na(g2\\nI4\\ntp366\\na(g6\\nI5\\ntp367\\na(g2\\nI6\\ntp368\\na(g6\\nI3\\ntp369\\na(g2\\nI6\\ntp370\\na(g6\\nI6\\ntp371\\naa(lp372\\n(g2\\nI95\\ntp373\\naa.\"\n",
      "<class 'bytes'>\n",
      "[[(' ', 95)], [(' ', 14), ('#', 5), (' ', 70), ('#', 5), (' ', 1)], [(' ', 15), ('#', 4), (' ', 71), ('#', 4), (' ', 1)], [(' ', 15), ('#', 4), (' ', 71), ('#', 4), (' ', 1)], [(' ', 15), ('#', 4), (' ', 71), ('#', 4), (' ', 1)], [(' ', 15), ('#', 4), (' ', 71), ('#', 4), (' ', 1)], [(' ', 15), ('#', 4), (' ', 71), ('#', 4), (' ', 1)], [(' ', 15), ('#', 4), (' ', 71), ('#', 4), (' ', 1)], [(' ', 15), ('#', 4), (' ', 71), ('#', 4), (' ', 1)], [(' ', 6), ('#', 3), (' ', 6), ('#', 4), (' ', 3), ('#', 3), (' ', 9), ('#', 3), (' ', 7), ('#', 5), (' ', 3), ('#', 3), (' ', 4), ('#', 5), (' ', 3), ('#', 3), (' ', 10), ('#', 3), (' ', 7), ('#', 4), (' ', 1)], [(' ', 3), ('#', 3), (' ', 3), ('#', 2), (' ', 4), ('#', 4), (' ', 1), ('#', 7), (' ', 5), ('#', 2), (' ', 2), ('#', 3), (' ', 6), ('#', 4), (' ', 1), ('#', 7), (' ', 3), ('#', 4), (' ', 1), ('#', 7), (' ', 5), ('#', 3), (' ', 2), ('#', 3), (' ', 5), ('#', 4), (' ', 1)], [(' ', 2), ('#', 3), (' ', 5), ('#', 3), (' ', 2), ('#', 5), (' ', 4), ('#', 4), (' ', 3), ('#', 3), (' ', 3), ('#', 4), (' ', 4), ('#', 5), (' ', 4), ('#', 4), (' ', 2), ('#', 5), (' ', 4), ('#', 4), (' ', 3), ('#', 3), (' ', 5), ('#', 3), (' ', 3), ('#', 4), (' ', 1)], [(' ', 1), ('#', 3), (' ', 11), ('#', 4), (' ', 5), ('#', 4), (' ', 3), ('#', 3), (' ', 4), ('#', 3), (' ', 4), ('#', 4), (' ', 5), ('#', 4), (' ', 2), ('#', 4), (' ', 5), ('#', 4), (' ', 2), ('#', 3), (' ', 6), ('#', 4), (' ', 2), ('#', 4), (' ', 1)], [(' ', 1), ('#', 3), (' ', 11), ('#', 4), (' ', 5), ('#', 4), (' ', 10), ('#', 3), (' ', 4), ('#', 4), (' ', 5), ('#', 4), (' ', 2), ('#', 4), (' ', 5), ('#', 4), (' ', 2), ('#', 3), (' ', 7), ('#', 3), (' ', 2), ('#', 4), (' ', 1)], [('#', 4), (' ', 11), ('#', 4), (' ', 5), ('#', 4), (' ', 5), ('#', 2), (' ', 3), ('#', 3), (' ', 4), ('#', 4), (' ', 5), ('#', 4), (' ', 2), ('#', 4), (' ', 5), ('#', 4), (' ', 1), ('#', 4), (' ', 7), ('#', 3), (' ', 2), ('#', 4), (' ', 1)], [('#', 4), (' ', 11), ('#', 4), (' ', 5), ('#', 4), (' ', 3), ('#', 10), (' ', 4), ('#', 4), (' ', 5), ('#', 4), (' ', 2), ('#', 4), (' ', 5), ('#', 4), (' ', 1), ('#', 14), (' ', 2), ('#', 4), (' ', 1)], [('#', 4), (' ', 11), ('#', 4), (' ', 5), ('#', 4), (' ', 2), ('#', 3), (' ', 4), ('#', 4), (' ', 4), ('#', 4), (' ', 5), ('#', 4), (' ', 2), ('#', 4), (' ', 5), ('#', 4), (' ', 1), ('#', 4), (' ', 12), ('#', 4), (' ', 1)], [('#', 4), (' ', 11), ('#', 4), (' ', 5), ('#', 4), (' ', 1), ('#', 4), (' ', 5), ('#', 3), (' ', 4), ('#', 4), (' ', 5), ('#', 4), (' ', 2), ('#', 4), (' ', 5), ('#', 4), (' ', 1), ('#', 4), (' ', 12), ('#', 4), (' ', 1)], [(' ', 1), ('#', 3), (' ', 11), ('#', 4), (' ', 5), ('#', 4), (' ', 1), ('#', 4), (' ', 5), ('#', 3), (' ', 4), ('#', 4), (' ', 5), ('#', 4), (' ', 2), ('#', 4), (' ', 5), ('#', 4), (' ', 2), ('#', 3), (' ', 12), ('#', 4), (' ', 1)], [(' ', 2), ('#', 3), (' ', 6), ('#', 2), (' ', 2), ('#', 4), (' ', 5), ('#', 4), (' ', 2), ('#', 3), (' ', 4), ('#', 4), (' ', 4), ('#', 4), (' ', 5), ('#', 4), (' ', 2), ('#', 4), (' ', 5), ('#', 4), (' ', 3), ('#', 3), (' ', 6), ('#', 2), (' ', 3), ('#', 4), (' ', 1)], [(' ', 3), ('#', 3), (' ', 4), ('#', 2), (' ', 3), ('#', 4), (' ', 5), ('#', 4), (' ', 3), ('#', 11), (' ', 3), ('#', 4), (' ', 5), ('#', 4), (' ', 2), ('#', 4), (' ', 5), ('#', 4), (' ', 4), ('#', 3), (' ', 4), ('#', 2), (' ', 4), ('#', 4), (' ', 1)], [(' ', 6), ('#', 3), (' ', 5), ('#', 6), (' ', 4), ('#', 5), (' ', 4), ('#', 2), (' ', 4), ('#', 4), (' ', 1), ('#', 6), (' ', 4), ('#', 11), (' ', 4), ('#', 5), (' ', 6), ('#', 3), (' ', 6), ('#', 6)], [(' ', 95)]]\n"
     ]
    }
   ],
   "source": [
    "import requests\n",
    "import pickle\n",
    "url = 'http://www.pythonchallenge.com/pc/def/banner.p'\n",
    "data = requests.get(url).text #字符串类型，在最新的Python 3版本中，字符串是以Unicode编码的\n",
    "bytes_data = data.encode('utf-8') # 字符串转化为 bytes 类型  或者 bytes_data = data.encode('ascii')\n",
    "print(bytes_data)\n",
    "print(type(bytes_data))\n",
    "pdata = pickle.loads(bytes_data) # loads 方法需要是 bytes 类型，即二进制数据\n",
    "print(pdata)\n"
   ]
  },
  {
   "cell_type": "code",
   "execution_count": 23,
   "metadata": {},
   "outputs": [
    {
     "name": "stdout",
     "output_type": "stream",
     "text": [
      "23\n"
     ]
    }
   ],
   "source": [
    "print(len(pdata))"
   ]
  },
  {
   "cell_type": "code",
   "execution_count": 40,
   "metadata": {},
   "outputs": [
    {
     "name": "stdout",
     "output_type": "stream",
     "text": [
      "\n",
      "                                                                                               \n",
      "              #####                                                                      ##### \n",
      "               ####                                                                       #### \n",
      "               ####                                                                       #### \n",
      "               ####                                                                       #### \n",
      "               ####                                                                       #### \n",
      "               ####                                                                       #### \n",
      "               ####                                                                       #### \n",
      "               ####                                                                       #### \n",
      "      ###      ####   ###         ###       #####   ###    #####   ###          ###       #### \n",
      "   ###   ##    #### #######     ##  ###      #### #######   #### #######     ###  ###     #### \n",
      "  ###     ###  #####    ####   ###   ####    #####    ####  #####    ####   ###     ###   #### \n",
      " ###           ####     ####   ###    ###    ####     ####  ####     ####  ###      ####  #### \n",
      " ###           ####     ####          ###    ####     ####  ####     ####  ###       ###  #### \n",
      "####           ####     ####     ##   ###    ####     ####  ####     #### ####       ###  #### \n",
      "####           ####     ####   ##########    ####     ####  ####     #### ##############  #### \n",
      "####           ####     ####  ###    ####    ####     ####  ####     #### ####            #### \n",
      "####           ####     #### ####     ###    ####     ####  ####     #### ####            #### \n",
      " ###           ####     #### ####     ###    ####     ####  ####     ####  ###            #### \n",
      "  ###      ##  ####     ####  ###    ####    ####     ####  ####     ####   ###      ##   #### \n",
      "   ###    ##   ####     ####   ###########   ####     ####  ####     ####    ###    ##    #### \n",
      "      ###     ######    #####    ##    #### ######    ###########    #####      ###      ######\n",
      "                                                                                               "
     ]
    }
   ],
   "source": [
    "for i in pdata:\n",
    "    print('')\n",
    "    for x in i:\n",
    "        print(x[0]*x[1],end='')"
   ]
  },
  {
   "cell_type": "code",
   "execution_count": null,
   "metadata": {},
   "outputs": [],
   "source": [
    "'''\n",
    "在最新的Python 3版本中，字符串是以Unicode编码的，也就是说，Python的字符串支持多语言\n",
    "\n",
    "由于Python的字符串类型是str，在内存中以Unicode表示，一个字符对应若干个字节。\n",
    "如果要在网络上传输，或者保存到磁盘上，就需要把str变为以字节为单位的bytes。\n",
    "\n",
    "Python对bytes类型的数据用带b前缀的单引号或双引号表示\n",
    "\n",
    "以Unicode表示的str通过encode()方法可以编码为指定的bytes，例如：\n",
    "\n",
    ">>> 'ABC'.encode('ascii')\n",
    "b'ABC'\n",
    ">>> '中文'.encode('utf-8')\n",
    "b'\\xe4\\xb8\\xad\\xe6\\x96\\x87'\n",
    ">>> '中文'.encode('ascii')\n",
    "Traceback (most recent call last):\n",
    "  File \"<stdin>\", line 1, in <module>\n",
    "UnicodeEncodeError: 'ascii' codec can't encode characters in position 0-1: ordinal not in range(128)\n",
    "\n",
    "纯英文的str可以用ASCII编码为bytes，内容是一样的，含有中文的str可以用UTF-8编码为bytes。含有中文的str无法用ASCII编码，因为中文编码的范围超过了ASCII编码的范围，Python会报错。\n",
    "\n",
    "在bytes中，无法显示为ASCII字符的字节，用\\x##显示。\n",
    "\n",
    "反过来，如果我们从网络或磁盘上读取了字节流，那么读到的数据就是bytes。要把bytes变为str，就需要用decode()方法：\n",
    "\n",
    ">>> b'ABC'.decode('ascii')\n",
    "'ABC'\n",
    ">>> b'\\xe4\\xb8\\xad\\xe6\\x96\\x87'.decode('utf-8')\n",
    "'中文'\n",
    "\n",
    "\n",
    "pickle.dumps()方法把任意对象序列化成一个bytes\n",
    "当我们要把对象从磁盘读到内存时，可以先把内容读到一个bytes，然后用pickle.loads()方法反序列化出对象\n",
    "\n",
    "'''"
   ]
  }
 ],
 "metadata": {
  "kernelspec": {
   "display_name": "Python 3",
   "language": "python",
   "name": "python3"
  },
  "language_info": {
   "codemirror_mode": {
    "name": "ipython",
    "version": 3
   },
   "file_extension": ".py",
   "mimetype": "text/x-python",
   "name": "python",
   "nbconvert_exporter": "python",
   "pygments_lexer": "ipython3",
   "version": "3.6.2"
  }
 },
 "nbformat": 4,
 "nbformat_minor": 2
}
