{
 "cells": [
  {
   "cell_type": "markdown",
   "metadata": {},
   "source": [
    "### [像有道词典这样的 JS 混淆加密应该怎么破](https://zhuanlan.zhihu.com/p/72219532)"
   ]
  },
  {
   "cell_type": "code",
   "execution_count": 26,
   "metadata": {},
   "outputs": [
    {
     "name": "stdout",
     "output_type": "stream",
     "text": [
      "b'{\"errorCode\":50}'\n"
     ]
    }
   ],
   "source": [
    "import requests\n",
    "\n",
    "url = 'http://fanyi.youdao.com/translate_o?smartresult=dict&smartresult=rule'\n",
    "headers = {\n",
    "    'Cookie' : 'OUTFOX_SEARCH_USER_ID=-1373274012@10.108.160.18; JSESSIONID=aaaPlhlJ1Cw-uhQGY1dZw; OUTFOX_SEARCH_USER_ID_NCOO=1180803013.2969046; ___rl__test__cookies=1566653920983',\n",
    "    'Referer' : 'http://fanyi.youdao.com/',\n",
    "    'User-Agent':'Mozilla/5.0 (Macintosh; Intel Mac OS X 10_12_6) AppleWebKit/537.36 (KHTML, like Gecko) Chrome/76.0.3809.100 Safari/537.36',\n",
    "}\n",
    "\n",
    "from_data = {\n",
    "    'i': '想你',\n",
    "    'from': 'AUTO',\n",
    "    'to': 'AUTO',\n",
    "    'smartresult': 'dict',\n",
    "    'client': 'fanyideskweb',\n",
    "    'salt': '15666539209911',\n",
    "    'sign': '4990c195323edb110727d4cd1234cbda',\n",
    "    'ts': '1566653920991',\n",
    "    'bv': '1fb71235800459b4adf0a96cef9082ce',\n",
    "    'doctype': 'json',\n",
    "    'version': '2.1',\n",
    "    'keyfrom': 'fanyi.web',\n",
    "    'action': 'FY_BY_CLICKBUTTION',\n",
    "}\n",
    "\n",
    "response = requests.post(url,data=from_data,headers=headers)\n",
    "print(response.content)"
   ]
  },
  {
   "cell_type": "markdown",
   "metadata": {},
   "source": [
    "ts 在 js 中是这样的：\n",
    "\n",
    "`r = \"\" + (new Date).getTime()`\n",
    "\n",
    "那么在 Python 中就是这样的："
   ]
  },
  {
   "cell_type": "code",
   "execution_count": 7,
   "metadata": {},
   "outputs": [
    {
     "name": "stdout",
     "output_type": "stream",
     "text": [
      "1566656228878\n"
     ]
    }
   ],
   "source": [
    "import time \n",
    "\n",
    "def get_ts():\n",
    "    # 获取时间戳\n",
    "    ts = int(time.time()*1000)\n",
    "    return ts\n",
    "    \n",
    "print(get_ts())"
   ]
  },
  {
   "cell_type": "markdown",
   "metadata": {},
   "source": [
    "bv 在 js 中是这样的：\n",
    "\n",
    "`n.md5(navigator.appVersion)`\n",
    "\n",
    "那么它在 Python 中就是这样的："
   ]
  },
  {
   "cell_type": "code",
   "execution_count": 5,
   "metadata": {},
   "outputs": [
    {
     "name": "stdout",
     "output_type": "stream",
     "text": [
      "1fb71235800459b4adf0a96cef9082ce\n"
     ]
    }
   ],
   "source": [
    "import hashlib\n",
    "\n",
    "def get_bv():\n",
    "    # 生成 bv\n",
    "    appVersion = \"5.0 (Macintosh; Intel Mac OS X 10_12_6) AppleWebKit/537.36 (KHTML, like Gecko) Chrome/76.0.3809.100 Safari/537.36\"\n",
    "    m = hashlib.md5()\n",
    "    m.update(appVersion.encode('utf-8'))\n",
    "    bv = m.hexdigest()\n",
    "    return bv\n",
    "\n",
    "print(get_bv())"
   ]
  },
  {
   "cell_type": "markdown",
   "metadata": {},
   "source": [
    "salt 在 js 中是这样的：\n",
    "\n",
    "`r + parseInt(10 * Math.random(), 10)`\n",
    "\n",
    "那么它在 Python 中就是这样的："
   ]
  },
  {
   "cell_type": "code",
   "execution_count": 9,
   "metadata": {},
   "outputs": [
    {
     "name": "stdout",
     "output_type": "stream",
     "text": [
      "15666562896752\n"
     ]
    }
   ],
   "source": [
    "import random\n",
    "\n",
    "def get_salt(ts):\n",
    "    # 生成 salt\n",
    "    num = int(random.random()*10)\n",
    "    salt = str(ts) + str(num)\n",
    "    return salt\n",
    "\n",
    "print(get_salt(get_ts()))"
   ]
  },
  {
   "cell_type": "markdown",
   "metadata": {},
   "source": [
    "sign 在 js 中是这样的：\n",
    "\n",
    "`n.md5(\"fanyideskweb\" + e + i + \"@6f#X3=cCuncYssPsuRUE\")`\n",
    "\n",
    "那么它在 Python 中就是这样的："
   ]
  },
  {
   "cell_type": "code",
   "execution_count": 11,
   "metadata": {},
   "outputs": [
    {
     "name": "stdout",
     "output_type": "stream",
     "text": [
      "c6fce514492057658401fc7daf40e644\n"
     ]
    }
   ],
   "source": [
    "def get_sign(salt):\n",
    "    # 生成 sign\n",
    "    a = \"fanyideskweb\"\n",
    "    b = '想你'\n",
    "    c = salt\n",
    "    d = \"@6f#X3=cCuncYssPsuRUE\"\n",
    "    str_data = a+b+str(c)+d\n",
    "    \n",
    "    # md5 加密\n",
    "    m = hashlib.md5()\n",
    "    m.update(str_data.encode('utf-8'))\n",
    "    sign = m.hexdigest()\n",
    "    return sign\n",
    "\n",
    "print(get_sign(get_salt(get_ts())))"
   ]
  },
  {
   "cell_type": "markdown",
   "metadata": {},
   "source": [
    "所以我们获取 form data 的方法就是这样的："
   ]
  },
  {
   "cell_type": "code",
   "execution_count": 30,
   "metadata": {},
   "outputs": [
    {
     "name": "stdout",
     "output_type": "stream",
     "text": [
      "{'i': '想你', 'from': 'AUTO', 'to': 'AUTO', 'smartresult': 'dict', 'client': 'fanyideskweb', 'salt': '15666585971630', 'sign': 'f9f2e941364934967fc7f7097dd73538', 'ts': '1566658597163', 'bv': '1fb71235800459b4adf0a96cef9082ce', 'doctype': 'json', 'version': '2.1', 'keyfrom': 'fanyi.web', 'action': 'FY_BY_CLICKBUTTION'}\n",
      "翻译结果： Miss you.\n"
     ]
    }
   ],
   "source": [
    "import time,random,hashlib,requests,json\n",
    "\n",
    "def get_ts():\n",
    "    # 获取时间戳\n",
    "    ts = int(time.time()*1000)\n",
    "    return ts\n",
    "\n",
    "def get_bv():\n",
    "    # 生成 bv\n",
    "    appVersion = \"5.0 (Macintosh; Intel Mac OS X 10_12_6) AppleWebKit/537.36 (KHTML, like Gecko) Chrome/76.0.3809.100 Safari/537.36\"\n",
    "    m = hashlib.md5()\n",
    "    m.update(appVersion.encode('utf-8'))\n",
    "    bv = m.hexdigest()\n",
    "    return bv\n",
    "\n",
    "def get_salt(ts):\n",
    "    # 生成 salt\n",
    "    num = int(random.random()*10)\n",
    "    salt = str(ts) + str(num)\n",
    "    return salt\n",
    "\n",
    "def get_sign(salt):\n",
    "    # 生成 sign\n",
    "    a = \"fanyideskweb\"\n",
    "    b = '想你'\n",
    "    c = salt\n",
    "    d = \"n%A-rKaT5fb[Gy?;N5@Tj\"\n",
    "    str_data = a+b+c+d\n",
    "    \n",
    "    # md5 加密\n",
    "    m = hashlib.md5()\n",
    "    m.update(str_data.encode('utf-8'))\n",
    "    sign = m.hexdigest()\n",
    "    return sign\n",
    "\n",
    "#print(get_sign(get_salt(get_ts())))\n",
    "\n",
    "def get_from_data():\n",
    "    ts = get_ts()\n",
    "    salt = get_salt(ts)   \n",
    "    from_data = {\n",
    "        'i': '想你',\n",
    "        'from': 'AUTO',\n",
    "        'to': 'AUTO',\n",
    "        'smartresult': 'dict',\n",
    "        'client': 'fanyideskweb',\n",
    "        'salt': salt,\n",
    "        'sign': get_sign(salt),\n",
    "        'ts': str(ts),\n",
    "        'bv': get_bv(),\n",
    "        'doctype': 'json',\n",
    "        'version': '2.1',\n",
    "        'keyfrom': 'fanyi.web',\n",
    "        'action': 'FY_BY_CLICKBUTTION',\n",
    "    }\n",
    "    return from_data\n",
    "\n",
    "\n",
    "url = 'http://fanyi.youdao.com/translate_o?smartresult=dict&smartresult=rule'\n",
    "headers = {\n",
    "    'Cookie' : 'OUTFOX_SEARCH_USER_ID=-1373274012@10.108.160.18; JSESSIONID=aaaPlhlJ1Cw-uhQGY1dZw; OUTFOX_SEARCH_USER_ID_NCOO=1180803013.2969046; ___rl__test__cookies=1566653920983',\n",
    "    'Referer' : 'http://fanyi.youdao.com/',\n",
    "    'User-Agent':'Mozilla/5.0 (Macintosh; Intel Mac OS X 10_12_6) AppleWebKit/537.36 (KHTML, like Gecko) Chrome/76.0.3809.100 Safari/537.36',\n",
    "}\n",
    "print(get_from_data())\n",
    "response = requests.post(url,data=get_from_data(),headers=headers)\n",
    "dict_result = json.loads(response.content)\n",
    "print('翻译结果：',dict_result['translateResult'][0][0]['tgt'])"
   ]
  },
  {
   "cell_type": "markdown",
   "metadata": {},
   "source": [
    "### [JavaScript加密逻辑分析与Python模拟执行实现数据爬取](https://cuiqingcai.com/5024.html)"
   ]
  },
  {
   "cell_type": "code",
   "execution_count": 39,
   "metadata": {},
   "outputs": [
    {
     "name": "stdout",
     "output_type": "stream",
     "text": [
      "{'success': True, 'errcode': 0, 'errmsg': 'success', 'result': {'success': True, 'data': {'total': 24, 'rows': [{'time': '2019-08-25 00:00:00', 'aqi': '64', 'pm2_5': '46', 'pm10': '72', 'co': '0.8', 'no2': '43', 'o3': '54', 'so2': '7', 'rank': '243'}, {'time': '2019-08-25 01:00:00', 'aqi': '48', 'pm2_5': '27', 'pm10': '48', 'co': '0.7', 'no2': '28', 'o3': '47', 'so2': '6', 'rank': '152'}, {'time': '2019-08-25 02:00:00', 'aqi': '22', 'pm2_5': '12', 'pm10': '22', 'co': '0.5', 'no2': '12', 'o3': '47', 'so2': '3', 'rank': '41'}, {'time': '2019-08-25 03:00:00', 'aqi': '20', 'pm2_5': '12', 'pm10': '20', 'co': '0.5', 'no2': '14', 'o3': '41', 'so2': '3', 'rank': '35'}, {'time': '2019-08-25 04:00:00', 'aqi': '22', 'pm2_5': '14', 'pm10': '22', 'co': '0.5', 'no2': '20', 'o3': '32', 'so2': '4', 'rank': '46'}, {'time': '2019-08-25 05:00:00', 'aqi': '26', 'pm2_5': '17', 'pm10': '26', 'co': '0.6', 'no2': '24', 'o3': '30', 'so2': '4', 'rank': '62'}, {'time': '2019-08-25 06:00:00', 'aqi': '27', 'pm2_5': '17', 'pm10': '27', 'co': '0.7', 'no2': '25', 'o3': '27', 'so2': '4', 'rank': '64'}, {'time': '2019-08-25 07:00:00', 'aqi': '34', 'pm2_5': '21', 'pm10': '34', 'co': '0.7', 'no2': '32', 'o3': '20', 'so2': '4', 'rank': '91'}, {'time': '2019-08-25 08:00:00', 'aqi': '40', 'pm2_5': '24', 'pm10': '40', 'co': '0.7', 'no2': '37', 'o3': '20', 'so2': '4', 'rank': '117'}, {'time': '2019-08-25 09:00:00', 'aqi': '45', 'pm2_5': '27', 'pm10': '45', 'co': '0.8', 'no2': '38', 'o3': '22', 'so2': '5', 'rank': '130'}, {'time': '2019-08-25 10:00:00', 'aqi': '52', 'pm2_5': '32', 'pm10': '53', 'co': '0.8', 'no2': '41', 'o3': '28', 'so2': '5', 'rank': '161'}, {'time': '2019-08-25 11:00:00', 'aqi': '57', 'pm2_5': '37', 'pm10': '63', 'co': '0.9', 'no2': '44', 'o3': '42', 'so2': '6', 'rank': '218'}, {'time': '2019-08-25 12:00:00', 'aqi': '54', 'pm2_5': '36', 'pm10': '58', 'co': '0.8', 'no2': '31', 'o3': '70', 'so2': '5', 'rank': '201'}, {'time': '2019-08-25 13:00:00', 'aqi': '52', 'pm2_5': '36', 'pm10': '53', 'co': '0.8', 'no2': '26', 'o3': '80', 'so2': '4', 'rank': '209'}, {'time': '2019-08-25 14:00:00', 'aqi': '45', 'pm2_5': '31', 'pm10': '43', 'co': '0.8', 'no2': '24', 'o3': '73', 'so2': '4', 'rank': '161'}, {'time': '2019-08-25 15:00:00', 'aqi': '26', 'pm2_5': '18', 'pm10': '25', 'co': '0.6', 'no2': '16', 'o3': '62', 'so2': '4', 'rank': '45'}, {'time': '2019-08-25 16:00:00', 'aqi': '19', 'pm2_5': '13', 'pm10': '19', 'co': '0.5', 'no2': '17', 'o3': '49', 'so2': '4', 'rank': '16'}, {'time': '2019-08-25 17:00:00', 'aqi': '23', 'pm2_5': '16', 'pm10': '22', 'co': '0.5', 'no2': '24', 'o3': '46', 'so2': '4', 'rank': '35'}, {'time': '2019-08-25 18:00:00', 'aqi': '26', 'pm2_5': '18', 'pm10': '24', 'co': '0.6', 'no2': '29', 'o3': '45', 'so2': '4', 'rank': '56'}, {'time': '2019-08-25 19:00:00', 'aqi': '26', 'pm2_5': '18', 'pm10': '25', 'co': '0.7', 'no2': '33', 'o3': '44', 'so2': '4', 'rank': '54'}, {'time': '2019-08-25 20:00:00', 'aqi': '28', 'pm2_5': '19', 'pm10': '27', 'co': '0.7', 'no2': '33', 'o3': '47', 'so2': '4', 'rank': '61'}, {'time': '2019-08-25 21:00:00', 'aqi': '32', 'pm2_5': '22', 'pm10': '29', 'co': '0.7', 'no2': '30', 'o3': '53', 'so2': '4', 'rank': '81'}, {'time': '2019-08-25 22:00:00', 'aqi': '38', 'pm2_5': '26', 'pm10': '35', 'co': '0.7', 'no2': '25', 'o3': '59', 'so2': '4', 'rank': '114'}, {'time': '2019-08-25 23:00:00', 'aqi': '39', 'pm2_5': '27', 'pm10': '38', 'co': '0.7', 'no2': '31', 'o3': '55', 'so2': '3', 'rank': '126'}]}}}\n"
     ]
    }
   ],
   "source": [
    "import requests\n",
    "import execjs\n",
    "import json\n",
    "\n",
    "# Init environment\n",
    "node = execjs.get()\n",
    "\n",
    "# Params\n",
    "method = 'GETDETAIL'\n",
    "city = '深圳'\n",
    "time_type = 'HOUR'\n",
    "start_time = '2019-08-25 00:00:00'\n",
    "end_time = '2019-08-25 23:00:00'\n",
    "\n",
    "# Compile javascript\n",
    "file = 'encryption.js'\n",
    "ctx = node.compile(open(file).read())\n",
    "\n",
    "# Get params\n",
    "js = 'getEncryptedData(\"{0}\", \"{1}\", \"{2}\", \"{3}\", \"{4}\")'.format(method, city, time_type, start_time, end_time)\n",
    "params = ctx.eval(js)\n",
    "\n",
    "# Get encrypted response text\n",
    "api = 'https://www.aqistudy.cn/apinew/aqistudyapi.php'\n",
    "response = requests.post(api, data={'d': params})\n",
    "\n",
    "# Decode data\n",
    "js = 'decodeData(\"{0}\")'.format(response.text)\n",
    "decrypted_data = ctx.eval(js)\n",
    "data = json.loads(decrypted_data)\n",
    "print(data)"
   ]
  }
 ],
 "metadata": {
  "kernelspec": {
   "display_name": "Python 3",
   "language": "python",
   "name": "python3"
  },
  "language_info": {
   "codemirror_mode": {
    "name": "ipython",
    "version": 3
   },
   "file_extension": ".py",
   "mimetype": "text/x-python",
   "name": "python",
   "nbconvert_exporter": "python",
   "pygments_lexer": "ipython3",
   "version": "3.6.3"
  },
  "toc": {
   "nav_menu": {},
   "number_sections": true,
   "sideBar": true,
   "skip_h1_title": false,
   "title_cell": "Table of Contents",
   "title_sidebar": "Contents",
   "toc_cell": false,
   "toc_position": {},
   "toc_section_display": true,
   "toc_window_display": false
  },
  "varInspector": {
   "cols": {
    "lenName": 16,
    "lenType": 16,
    "lenVar": 40
   },
   "kernels_config": {
    "python": {
     "delete_cmd_postfix": "",
     "delete_cmd_prefix": "del ",
     "library": "var_list.py",
     "varRefreshCmd": "print(var_dic_list())"
    },
    "r": {
     "delete_cmd_postfix": ") ",
     "delete_cmd_prefix": "rm(",
     "library": "var_list.r",
     "varRefreshCmd": "cat(var_dic_list()) "
    }
   },
   "types_to_exclude": [
    "module",
    "function",
    "builtin_function_or_method",
    "instance",
    "_Feature"
   ],
   "window_display": false
  }
 },
 "nbformat": 4,
 "nbformat_minor": 2
}
