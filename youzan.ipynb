{
 "cells": [
  {
   "cell_type": "code",
   "execution_count": 6,
   "metadata": {},
   "outputs": [
    {
     "name": "stdout",
     "output_type": "stream",
     "text": [
      "The END\n"
     ]
    }
   ],
   "source": [
    "import requests\n",
    "import json\n",
    "\n",
    "\n",
    "url = 'https://www.youzan.com/v2/trade/order/list.json?keyword%5Bstart_time%5D=2018-02-06+00%3A00%3A00&keyword%5Bend_time%5D=2018-02-07+00%3A00%3A00&p={}&goods_title=&type=all&state=all&orderby=book_time&order_es_tag=&tuanId=&showBanner=false&order=desc&page_size=20&disable_express_type=&order_label=order_no&feedback=all&buy_way=all&express_type=all' \n",
    "\n",
    "cookie = 'KDTSESSIONID=YZ398779357914710016YZei5Q9pJ6; __guid=193244459.2509201237687865000.1515118007189.8242; yz_log_uuid=91b36c46-c50a-b5b3-eef1-105c13dd00f9; yz_log_ftime=1515118012153; gr_user_id=e16817dc-9c0a-4bc7-9fbd-eb07c87370a5; UM_distinctid=160d8afd6dc1f5-0e3cad80b71112-5d4e211f-1fa400-160d8afd6dd3cd; abTest=a; redirect=https%3A%2F%2Fwww.youzan.com%2Fv2%2Fshop%2Froute%3F; avatar=https%3A%2F%2Fdn-kdt-img.qbox.me%2Fupload_files%2Favatar.png; mobile=13480975957; sid=dd9027e30481f9630a635195cdb2ea91; sKey=nj8FGeX-EiXVcnQMtWibhQTbffTQ8H7f8TbIqdKrsnY%3D; user_id=54496940; user_weixin=%2B86-13480975957; user_nickname=%E5%BE%90%E7%8E%96; kdtnote_fans_id=0; kdt_id=1560566; team_auth_key=75cfc02cde3d5a7b1c1669f5e6687012; access_token=aed97a3bd81533e39ee82f00d2a90301; weixin_server_key=5b9410c8d8d6fbe60d23734c82842f8f; weixin_oldsub_key=231ac6dc390e0b8587af76182cb485e7; weixin_certsub_key=1be0d5776ea9bfba341d197109c5f300; weixin_menu_key=69dc3900ebfb4e381ee400be4a6a7798; mp_id=336476; weixin_subscribe_key=72b321f7c1571edba1ca44f104a075a8; css_base=4d2ac6e9c7d629b; css_base_wxd=e0c2fae056a4dab; css_showcase_admin=abf80f1e1aceee8; css_showcase=d6abe832fc8b0a0; css_goods=22bd07032c910c9; css_buyer=e5d58de420ec4cd; css_trade=6ed0faef22007ad; css_new_order=743d36bda9651e0; yz_log_seqb=1517968830123; Hm_lvt_7bec91b798a11b6f175b22039b5e7bdd=1517536699,1517796465,1517881839,1517968831; Hm_lpvt_7bec91b798a11b6f175b22039b5e7bdd=1517968831; fingerprintjs2-md5=449e0b17a7713b4826448052e69d0b27; nobody_sign=YZ398779357914710016YZei5Q9pJ6; yz_ep_page_type_track=iDJ3GNJDHbhHtOl6W3j3ZA%3D%3D; gr_session_id_95363d41437ee224=30bb7c72-4bbd-407a-96da-b3e3ec38cf35; _canwebp=1; _kdt_id_=1560566; monitor_count=177; yz_tj_ab_test=a; _canwebp=1; gr_session_id_767813e963734402a8256e1096b88331=384b9376-3637-4dba-9af4-56d4e9bbd6fc; gr_cs1_384b9376-3637-4dba-9af4-56d4e9bbd6fc=user_id%3A54496940; Hm_lvt_7fff7ceede91c07fb0a2f9c1850d7987=1517536730,1517796526,1517881855,1517968851; Hm_lpvt_7fff7ceede91c07fb0a2f9c1850d7987=1517970213; yz_log_seqn=110'\n",
    "headers = {'Cookie': cookie}\n",
    "\n",
    "with open('/Users/Win7/Desktop/销售表格/sale_data20180206.csv','w',encoding = 'utf-8') as f:\n",
    "    for x in range(1,2):\n",
    "        order_url = url.format(x)\n",
    "        data = requests.get(order_url,headers = headers).json()\n",
    "        for t in range(len(data['data']['list'])):\n",
    "            sale_infos = data['data']['list'][t]\n",
    "           \n",
    "            for i in range(len(sale_infos['items'])):\n",
    "                items = sale_infos['items'][i]['title']\n",
    "                price = sale_infos['items'][i]['pay_price']\n",
    "                buyer = sale_infos['user_name']\n",
    "                status = sale_infos['close_state_str']\n",
    "                time  = sale_infos['book_time']\n",
    "                total = sale_infos['real_pay']\n",
    "                num = sale_infos['items'][i]['num']\n",
    "                postage = sale_infos['postage']\n",
    "                if sale_infos['items'][i]['goods_info']['supplier_kdt_id'] > 0:\n",
    "                    catalog = '分销产品'\n",
    "                else:\n",
    "                    catalog = '库存产品'\n",
    "                f.write('{},{},{},{},{},{},{},{},{}\\n'.format(buyer,items,num,time,status,price,total,postage,catalog))\n",
    "print('The END')     "
   ]
  },
  {
   "cell_type": "code",
   "execution_count": 13,
   "metadata": {},
   "outputs": [
    {
     "name": "stdout",
     "output_type": "stream",
     "text": [
      "The END\n"
     ]
    }
   ],
   "source": [
    "import requests\n",
    "import json\n",
    "\n",
    "\n",
    "url = 'https://www.youzan.com/v2/trade/order/sellerorderlist.json?keyword=&p={}&orderby=created_time&order=desc&page_size=20&disable_express_type=&buyer_order_no=&seller_order_no=&customer_name=&book_time_start=2018-02-06+00%3A00%3A00&book_time_end=2018-02-07+00%3A00%3A00&customer_mobile=&state=all' \n",
    "\n",
    "cookie = 'KDTSESSIONID=YZ398779357914710016YZei5Q9pJ6; __guid=193244459.2509201237687865000.1515118007189.8242; yz_log_uuid=91b36c46-c50a-b5b3-eef1-105c13dd00f9; yz_log_ftime=1515118012153; gr_user_id=e16817dc-9c0a-4bc7-9fbd-eb07c87370a5; UM_distinctid=160d8afd6dc1f5-0e3cad80b71112-5d4e211f-1fa400-160d8afd6dd3cd; abTest=a; redirect=https%3A%2F%2Fwww.youzan.com%2Fv2%2Fshop%2Froute%3F; avatar=https%3A%2F%2Fdn-kdt-img.qbox.me%2Fupload_files%2Favatar.png; mobile=13480975957; sid=dd9027e30481f9630a635195cdb2ea91; sKey=nj8FGeX-EiXVcnQMtWibhQTbffTQ8H7f8TbIqdKrsnY%3D; user_id=54496940; user_weixin=%2B86-13480975957; user_nickname=%E5%BE%90%E7%8E%96; kdtnote_fans_id=0; kdt_id=1560566; team_auth_key=75cfc02cde3d5a7b1c1669f5e6687012; access_token=aed97a3bd81533e39ee82f00d2a90301; weixin_server_key=5b9410c8d8d6fbe60d23734c82842f8f; weixin_oldsub_key=231ac6dc390e0b8587af76182cb485e7; weixin_certsub_key=1be0d5776ea9bfba341d197109c5f300; weixin_menu_key=69dc3900ebfb4e381ee400be4a6a7798; mp_id=336476; weixin_subscribe_key=72b321f7c1571edba1ca44f104a075a8; css_base=4d2ac6e9c7d629b; css_base_wxd=e0c2fae056a4dab; css_showcase_admin=abf80f1e1aceee8; css_showcase=d6abe832fc8b0a0; css_goods=22bd07032c910c9; css_buyer=e5d58de420ec4cd; css_trade=6ed0faef22007ad; css_new_order=743d36bda9651e0; yz_log_seqb=1517968830123; Hm_lvt_7bec91b798a11b6f175b22039b5e7bdd=1517536699,1517796465,1517881839,1517968831; Hm_lpvt_7bec91b798a11b6f175b22039b5e7bdd=1517968831; fingerprintjs2-md5=449e0b17a7713b4826448052e69d0b27; nobody_sign=YZ398779357914710016YZei5Q9pJ6; yz_ep_page_type_track=iDJ3GNJDHbhHtOl6W3j3ZA%3D%3D; gr_session_id_95363d41437ee224=30bb7c72-4bbd-407a-96da-b3e3ec38cf35; _canwebp=1; _kdt_id_=1560566; monitor_count=177; yz_tj_ab_test=a; _canwebp=1; Hm_lvt_7fff7ceede91c07fb0a2f9c1850d7987=1517536730,1517796526,1517881855,1517968851; Hm_lpvt_7fff7ceede91c07fb0a2f9c1850d7987=1517970213; gr_session_id_767813e963734402a8256e1096b88331=384b9376-3637-4dba-9af4-56d4e9bbd6fc; gr_cs1_384b9376-3637-4dba-9af4-56d4e9bbd6fc=user_id%3A54496940; yz_log_seqn=114'\n",
    "user_agent = 'Mozilla/5.0 (Windows NT 10.0; WOW64) AppleWebKit/537.36 (KHTML, like Gecko) Chrome/55.0.2883.87 Safari/537.36'\n",
    "headers = {'Cookie': cookie,'User-Agent': user_agent}\n",
    "\n",
    "with open('/Users/Win7/Desktop/销售表格/cost_data20180206.csv','w',encoding = 'utf-8') as f:\n",
    "    for x in range(1,2):\n",
    "        order_url = url.format(x)\n",
    "        data = requests.get(order_url,headers = headers).json()\n",
    "        for t in range(len(data['data']['list'])):\n",
    "            cost_infos = data['data']['list'][t]\n",
    "            for i in range(len(cost_infos['items'])):\n",
    "                items = cost_infos['items'][i]['title']\n",
    "                price = cost_infos['items'][i]['pay_price']\n",
    "                buyer = cost_infos['associated_buyer_info']['user_name']\n",
    "                status = cost_infos['state_str']\n",
    "                time  = cost_infos['book_time']\n",
    "                total = cost_infos['real_pay']\n",
    "                catalog = '分销产品'\n",
    "                num = cost_infos['items'][i]['num']\n",
    "                postage = cost_infos['postage']\n",
    "                item_cost = float(price)+float(postage)\n",
    "                f.write('{},{},{},{},{},{},{},{},{},{}\\n'.format(buyer,items,num,time,status,price,postage,item_cost,total,catalog))\n",
    "print('The END') "
   ]
  }
 ],
 "metadata": {
  "kernelspec": {
   "display_name": "Python 3",
   "language": "python",
   "name": "python3"
  },
  "language_info": {
   "codemirror_mode": {
    "name": "ipython",
    "version": 3
   },
   "file_extension": ".py",
   "mimetype": "text/x-python",
   "name": "python",
   "nbconvert_exporter": "python",
   "pygments_lexer": "ipython3",
   "version": "3.6.2"
  }
 },
 "nbformat": 4,
 "nbformat_minor": 2
}
