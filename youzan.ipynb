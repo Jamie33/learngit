{
 "cells": [
  {
   "cell_type": "code",
   "execution_count": 6,
   "metadata": {},
   "outputs": [
    {
     "name": "stdout",
     "output_type": "stream",
     "text": [
      "The END\n"
     ]
    }
   ],
   "source": [
    "import requests\n",
    "import json\n",
    "\n",
    "\n",
    "url = '' \n",
    "\n",
    "cookie = ''\n",
    "headers = {'Cookie': cookie}\n",
    "\n",
    "with open('/Users/Win7/Desktop/销售表格/sale_data20180206.csv','w',encoding = 'utf-8') as f:\n",
    "    for x in range(1,2):\n",
    "        order_url = url.format(x)\n",
    "        data = requests.get(order_url,headers = headers).json()\n",
    "        for t in range(len(data['data']['list'])):\n",
    "            sale_infos = data['data']['list'][t]\n",
    "           \n",
    "            for i in range(len(sale_infos['items'])):\n",
    "                items = sale_infos['items'][i]['title']\n",
    "                price = sale_infos['items'][i]['pay_price']\n",
    "                buyer = sale_infos['user_name']\n",
    "                status = sale_infos['close_state_str']\n",
    "                time  = sale_infos['book_time']\n",
    "                total = sale_infos['real_pay']\n",
    "                num = sale_infos['items'][i]['num']\n",
    "                postage = sale_infos['postage']\n",
    "                if sale_infos['items'][i]['goods_info']['supplier_kdt_id'] > 0:\n",
    "                    catalog = '分销产品'\n",
    "                else:\n",
    "                    catalog = '库存产品'\n",
    "                f.write('{},{},{},{},{},{},{},{},{}\\n'.format(buyer,items,num,time,status,price,total,postage,catalog))\n",
    "print('The END')     "
   ]
  },
  {
   "cell_type": "code",
   "execution_count": 13,
   "metadata": {},
   "outputs": [
    {
     "name": "stdout",
     "output_type": "stream",
     "text": [
      "The END\n"
     ]
    }
   ],
   "source": [
    "import requests\n",
    "import json\n",
    "\n",
    "\n",
    "url = '' \n",
    "\n",
    "cookie = ''\n",
    "user_agent = 'Mozilla/5.0 (Windows NT 10.0; WOW64) AppleWebKit/537.36 (KHTML, like Gecko) Chrome/55.0.2883.87 Safari/537.36'\n",
    "headers = {'Cookie': cookie,'User-Agent': user_agent}\n",
    "\n",
    "with open('/Users/Win7/Desktop/销售表格/cost_data20180206.csv','w',encoding = 'utf-8') as f:\n",
    "    for x in range(1,2):\n",
    "        order_url = url.format(x)\n",
    "        data = requests.get(order_url,headers = headers).json()\n",
    "        for t in range(len(data['data']['list'])):\n",
    "            cost_infos = data['data']['list'][t]\n",
    "            for i in range(len(cost_infos['items'])):\n",
    "                items = cost_infos['items'][i]['title']\n",
    "                price = cost_infos['items'][i]['pay_price']\n",
    "                buyer = cost_infos['associated_buyer_info']['user_name']\n",
    "                status = cost_infos['state_str']\n",
    "                time  = cost_infos['book_time']\n",
    "                total = cost_infos['real_pay']\n",
    "                catalog = '分销产品'\n",
    "                num = cost_infos['items'][i]['num']\n",
    "                postage = cost_infos['postage']\n",
    "                item_cost = float(price)+float(postage)\n",
    "                f.write('{},{},{},{},{},{},{},{},{},{}\\n'.format(buyer,items,num,time,status,price,postage,item_cost,total,catalog))\n",
    "print('The END') "
   ]
  }
 ],
 "metadata": {
  "kernelspec": {
   "display_name": "Python 3",
   "language": "python",
   "name": "python3"
  },
  "language_info": {
   "codemirror_mode": {
    "name": "ipython",
    "version": 3
   },
   "file_extension": ".py",
   "mimetype": "text/x-python",
   "name": "python",
   "nbconvert_exporter": "python",
   "pygments_lexer": "ipython3",
   "version": "3.6.2"
  },
  "toc": {
   "nav_menu": {},
   "number_sections": true,
   "sideBar": true,
   "skip_h1_title": false,
   "title_cell": "Table of Contents",
   "title_sidebar": "Contents",
   "toc_cell": false,
   "toc_position": {},
   "toc_section_display": true,
   "toc_window_display": false
  },
  "varInspector": {
   "cols": {
    "lenName": 16,
    "lenType": 16,
    "lenVar": 40
   },
   "kernels_config": {
    "python": {
     "delete_cmd_postfix": "",
     "delete_cmd_prefix": "del ",
     "library": "var_list.py",
     "varRefreshCmd": "print(var_dic_list())"
    },
    "r": {
     "delete_cmd_postfix": ") ",
     "delete_cmd_prefix": "rm(",
     "library": "var_list.r",
     "varRefreshCmd": "cat(var_dic_list()) "
    }
   },
   "types_to_exclude": [
    "module",
    "function",
    "builtin_function_or_method",
    "instance",
    "_Feature"
   ],
   "window_display": false
  }
 },
 "nbformat": 4,
 "nbformat_minor": 2
}
