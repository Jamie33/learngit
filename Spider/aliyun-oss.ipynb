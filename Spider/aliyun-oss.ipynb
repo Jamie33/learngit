{
 "cells": [
  {
   "cell_type": "markdown",
   "metadata": {},
   "source": [
    "# 阿里云OSS 对象存储\n",
    "\n",
    "https://help.aliyun.com/document_detail/32026.html?spm=a2c4g.11186623.6.699.9fd657798yWC0O\n",
    "\n",
    "\n",
    "获取endpoint信息 访问域名和数据中心\n",
    "\n",
    "https://help.aliyun.com/document_detail/31837.html?spm=a2c4g.11186623.2.13.52b3556cmkWUoT#concept-zt4-cvy-5db\n",
    "\n",
    "\n",
    "实例参考:python 上传图片\n",
    "\n",
    "https://blog.csdn.net/LoganPython/article/details/81176825\n",
    "\n",
    "## 上传本地某个文件夹中的所有图片\n",
    "\n",
    "**注意**\n",
    "\n",
    "虚拟环境：python27 \n",
    "\n",
    "图片名称不能带中文"
   ]
  },
  {
   "cell_type": "code",
   "execution_count": null,
   "metadata": {},
   "outputs": [],
   "source": [
    "# -*- coding: utf-8 -*-\n",
    "import os, sys\n",
    "import oss2\n",
    "\n",
    "def upload(img_name,img_path):\n",
    "    auth = oss2.Auth('', '')  # AccessKeyId, yourAccessKeySecret\n",
    "    bucket = oss2.Bucket(auth, 'https://oss-cn-shenzhen.aliyuncs.com', '') # Endpoint,BucketName\n",
    "    bucket.put_object_from_file(img_name,img_path)\n",
    "\n",
    "def get_pic(file_path):\n",
    "    img_list = os.listdir(file_path)\n",
    "    for img_name in img_list:\n",
    "        img_path = os.path.join(file_path,img_name)\n",
    "        print('uploading img:{} from {}'.format(img_name,img_path))\n",
    "        upload(img_name,img_path)\n",
    "\n",
    "if __name__==\"__main__\":\n",
    "    file_path = r'E:\\Jamie\\Goodstar\\cloud_pic'\n",
    "    get_pic(file_path)\n"
   ]
  },
  {
   "cell_type": "markdown",
   "metadata": {},
   "source": [
    "## 上传一个文件夹中多个商品  （可行）\n",
    "\n",
    "一个商品对应一个文件夹"
   ]
  },
  {
   "cell_type": "code",
   "execution_count": null,
   "metadata": {},
   "outputs": [],
   "source": [
    "# -*- coding: utf-8 -*-\n",
    "import os, sys\n",
    "import oss2\n",
    "\n",
    "\n",
    "def upload(img_name,img_path):\n",
    "    auth = oss2.Auth('', '')  # AccessKeyId, yourAccessKeySecret\n",
    "    bucket = oss2.Bucket(auth, 'https://oss-cn-shenzhen.aliyuncs.com', '',enable) # Endpoint,BucketName\n",
    "    bucket.put_object_from_file(img_name,img_path)\n",
    "\n",
    "def get_pic(file_path,dir_name):\n",
    "    img_list = os.listdir(file_path)\n",
    "    for img_name in img_list:\n",
    "        img_path = os.path.join(file_path,img_name)\n",
    "        cloud_file = 'test_create/{}/{}'.format(dir_name,img_name)\n",
    "        if Path(img_path).is_file():\n",
    "            print('uploading img:{} from {}'.format(img_name,img_path))\n",
    "            upload(cloud_file,img_path)\n",
    "\n",
    "def get_dir(dir_path):\n",
    "    file_list = os.listdir(dir_path)\n",
    "    for f in file_list:\n",
    "        file_path = os.path.join(dir_path,f)\n",
    "        if Path(file_path).is_dir():\n",
    "            get_pic(file_path,f)\n",
    "        \n",
    "if __name__==\"__main__\":\n",
    "    dir_path = r'E:\\Jamie\\Goodstar\\cloud_pic'\n",
    "    get_dir(dir_path)\n",
    "\n"
   ]
  },
  {
   "cell_type": "code",
   "execution_count": 4,
   "metadata": {},
   "outputs": [
    {
     "name": "stdout",
     "output_type": "stream",
     "text": [
      "['Act0105.png', 'item1', 'item2', 'item3', 'jam-tangan-quartz-1-pair-pria-dan-wanita-strap-kulit-pu-men-womenstainless-steel-leather-couple-watch-4926-5792118-9165fdf75c8b42201e7c532e87895952-catalog.jpg_800x800q80.jpg']\n"
     ]
    }
   ],
   "source": [
    "import os\n",
    "\n",
    "file_path = r'E:\\Jamie\\Goodstar\\cloud_pic'\n",
    "\n",
    "print(os.listdir(file_path))"
   ]
  }
 ],
 "metadata": {
  "kernelspec": {
   "display_name": "Python 3",
   "language": "python",
   "name": "python3"
  },
  "language_info": {
   "codemirror_mode": {
    "name": "ipython",
    "version": 3
   },
   "file_extension": ".py",
   "mimetype": "text/x-python",
   "name": "python",
   "nbconvert_exporter": "python",
   "pygments_lexer": "ipython3",
   "version": "3.6.5"
  }
 },
 "nbformat": 4,
 "nbformat_minor": 2
}
