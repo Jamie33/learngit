{
 "cells": [
  {
   "cell_type": "code",
   "execution_count": 3,
   "metadata": {},
   "outputs": [
    {
     "name": "stdout",
     "output_type": "stream",
     "text": [
      "Enter code:5603960942\n"
     ]
    }
   ],
   "source": [
    "from telethon import TelegramClient\n",
    "import socks\n",
    "\n",
    "api_id = 240869\n",
    "api_hash= '2e5e8cb9cda41113da881a986271029d'\n",
    "\n",
    "client = TelegramClient('sqlite3',api_id,api_hash,proxy=(socks.SOCKS5,'localhost',1080))\n",
    "client.connect()\n",
    "phone_number = '8613480975957'\n",
    "client.send_code_request(phone_number)\n",
    "myself = client.sign_in(phone_number,input('Enter code:'))"
   ]
  },
  {
   "cell_type": "code",
   "execution_count": 4,
   "metadata": {},
   "outputs": [
    {
     "name": "stdout",
     "output_type": "stream",
     "text": [
      "Channel(id=1249144664, title='Naus.io_Global', photo=ChatPhoto(photo_small=FileLocation(dc_id=5, volume_id=852712166, local_id=188596, secret=6383482124705140361), photo_big=FileLocation(dc_id=5, volume_id=852712166, local_id=188598, secret=7217383776991144713)), date=datetime.utcfromtimestamp(1523907796), version=0, creator=False, left=False, editor=False, broadcast=False, verified=False, megagroup=True, restricted=False, democracy=True, signatures=False, min=False, access_hash=-9112681265137568112, username='NausGlobal', restriction_reason=None, admin_rights=None, banned_rights=None, participants_count=None)\n"
     ]
    }
   ],
   "source": [
    "Naus = client.get_entity('t.me/NausGlobal')\n",
    "print(Naus)"
   ]
  },
  {
   "cell_type": "code",
   "execution_count": 40,
   "metadata": {},
   "outputs": [
    {
     "name": "stdout",
     "output_type": "stream",
     "text": [
      "None\n",
      "--------------------------------------\n",
      "None\n",
      "--------------------------------------\n",
      "None\n",
      "--------------------------------------\n",
      "None\n",
      "--------------------------------------\n",
      "<_sre.SRE_Match object; span=(43, 85), match='0xAD5FDDaDf2507c54115b1D7FcA7d1e5885eDFAAa'>\n",
      "--------------------------------------\n",
      "<_sre.SRE_Match object; span=(47, 89), match='0x2206A8d58DCCDe557c1958e4Cb4C1A432e57985C'>\n",
      "--------------------------------------\n",
      "None\n",
      "--------------------------------------\n"
     ]
    }
   ],
   "source": [
    "import re\n",
    "\n",
    "\n",
    "content = text.split('\\n')\n",
    "address = r'(0x[a-z0-9A-Z]{40})'\n",
    "\n",
    "with open(r'/Users/win7/Desktop/telegram_group_history__Naus.io_Global [@NausGlobal]_from20180311-1615_to20180424-1630__downloaded2018_04_24--17-24-44.txt','r',encoding='gbk',errors='ignore') as f:\n",
    "    for i in range(0,30):\n",
    "        if re.search(address,f.readline()):\n",
    "            eth = re.search(address,f.readline())\n",
    "            print(eth)\n",
    "            print('--------------------------------------')\n",
    "            \n",
    "                       "
   ]
  },
  {
   "cell_type": "code",
   "execution_count": null,
   "metadata": {},
   "outputs": [],
   "source": [
    "import re\n",
    "split_text = text.split()\n",
    "address = r'(0x[a-z0-9A-Z]{40})'\n",
    "\n",
    "\n",
    "with open('twitter20180418.csv','w',encoding='utf-8') as f:\n",
    "    \n",
    "    for st in split_text:\n",
    "        if re.search(address,st):\n",
    "            eth = re.search(address,st).group(0)\n",
    "            f.write('{}\\n'.format(eth))  \n",
    "print('The END')\n"
   ]
  },
  {
   "cell_type": "code",
   "execution_count": 39,
   "metadata": {},
   "outputs": [
    {
     "name": "stdout",
     "output_type": "stream",
     "text": [
      "<_sre.SRE_Match object; span=(49, 91), match='0xfa7c4fe34cEA9289f97bED26f7106AcB3523001F'>\n"
     ]
    }
   ],
   "source": [
    "import re\n",
    "text = '''Your Telegram History in \"Naus.io_Global [@NausGlobal]\"\n",
    "\n",
    ".....11.03.2018 16:15:50, carl cui [@cuiyysw]: >>upgraded the group to a supergroup<<\n",
    ".....11.03.2018 16:18:02, carl cui [@cuiyysw]: >>changed group name to \"Naus.io_Global\"<<\n",
    ".....11.03.2018 23:29:14, carl cui [@cuiyysw]: >>invited 小魔女 灵儿 [@loloplay]<<\n",
    ".....12.03.2018 21:58:00, Den: >>joined the group<<\n",
    ".....12.03.2018 21:58:49, Федя [@Ovod13]: >>joined the group<<\n",
    "12.03.2018 21:59:54, Den: Арим\n",
    ".....12.03.2018 22:00:30, Den: >>left the group<<\n",
    ".....12.03.2018 22:01:07, Nata [@Nataly9900]: >>joined the group<<\n",
    ".....12.03.2018 22:01:16, Sergey Lizunov [@strahara]: >>joined the group<<\n",
    "12.03.2018 22:02:03, Sergey Lizunov [@strahara]: 0xfa7c4fe34cEA9289f97bED26f7106AcB3523001F\n",
    ".....12.03.2018 22:03:47, Van Pham [@vanphamn]: >>joined the group<<\n",
    "'''\n",
    "content = text.split('\\n')\n",
    "address = r'(0x[a-z0-9A-Z]{40})'\n",
    "\n",
    "for i in content:\n",
    "    if re.search(address,i):\n",
    "            eth = re.search(address,i)\n",
    "            print(eth)\n",
    "            \n"
   ]
  }
 ],
 "metadata": {
  "kernelspec": {
   "display_name": "Python 3",
   "language": "python",
   "name": "python3"
  },
  "language_info": {
   "codemirror_mode": {
    "name": "ipython",
    "version": 3
   },
   "file_extension": ".py",
   "mimetype": "text/x-python",
   "name": "python",
   "nbconvert_exporter": "python",
   "pygments_lexer": "ipython3",
   "version": "3.6.5"
  }
 },
 "nbformat": 4,
 "nbformat_minor": 2
}
