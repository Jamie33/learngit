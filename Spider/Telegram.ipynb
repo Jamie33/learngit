{
 "cells": [
  {
   "cell_type": "markdown",
   "metadata": {},
   "source": [
    "---\n",
    "\n",
    "title: How to Scrape All ETH Addresses from A Certain Telegram Chat\n",
    "date:  2018.5.7\n",
    "categories:  Spider\n",
    "tags:  Spider\n",
    "keywords:  Telegram\n",
    "\n",
    "---"
   ]
  },
  {
   "cell_type": "markdown",
   "metadata": {},
   "source": [
    "## First attempt: Telethon (doesn't work)\n",
    "\n",
    "Telegram is a popular messaging application. This library is meant to make it easy for you to write Python programs that can interact with Telegram. "
   ]
  },
  {
   "cell_type": "code",
   "execution_count": 3,
   "metadata": {},
   "outputs": [
    {
     "name": "stdout",
     "output_type": "stream",
     "text": [
      "Enter code:5603960942\n"
     ]
    }
   ],
   "source": [
    "#Creating a client\n",
    "\n",
    "from telethon import TelegramClient\n",
    "import socks\n",
    "\n",
    "api_id = 240869\n",
    "api_hash= '2e5e8cb9cda41113da881a986271029d'\n",
    "\n",
    "client = TelegramClient('sqlite3',api_id,api_hash,proxy=(socks.SOCKS5,'localhost',1080))\n",
    "client.connect()\n",
    "phone_number = '8613480975957'\n",
    "client.send_code_request(phone_number)\n",
    "myself = client.sign_in(phone_number,input('Enter code:'))"
   ]
  },
  {
   "cell_type": "code",
   "execution_count": 4,
   "metadata": {},
   "outputs": [
    {
     "name": "stdout",
     "output_type": "stream",
     "text": [
      "Channel(id=1249144664, title='Naus.io_Global', photo=ChatPhoto(photo_small=FileLocation(dc_id=5, volume_id=852712166, local_id=188596, secret=6383482124705140361), photo_big=FileLocation(dc_id=5, volume_id=852712166, local_id=188598, secret=7217383776991144713)), date=datetime.utcfromtimestamp(1523907796), version=0, creator=False, left=False, editor=False, broadcast=False, verified=False, megagroup=True, restricted=False, democracy=True, signatures=False, min=False, access_hash=-9112681265137568112, username='NausGlobal', restriction_reason=None, admin_rights=None, banned_rights=None, participants_count=None)\n"
     ]
    }
   ],
   "source": [
    "# Doing stuff\n",
    "\n",
    "Naus = client.get_entity('t.me/NausGlobal')\n",
    "print(Naus)"
   ]
  },
  {
   "cell_type": "code",
   "execution_count": 69,
   "metadata": {},
   "outputs": [
    {
     "name": "stdout",
     "output_type": "stream",
     "text": [
      "﻿.....11.03.2018 16:15:50, carl cui [@cuiyysw]: >>upgraded the group to a supergroup<<\n",
      "\n",
      "---------------------------\n",
      "11.03.2018 16:15:50\n",
      "carl cui\n",
      "---------------------------\n",
      ".....11.03.2018 16:18:02, carl cui [@cuiyysw]: >>changed group name to \"Naus.io_Global\"<<\n",
      "\n",
      "---------------------------\n",
      "11.03.2018 16:18:02\n",
      "carl cui\n",
      "---------------------------\n",
      ".....11.03.2018 23:29:14, carl cui [@cuiyysw]: >>invited 小魔女 灵儿 [@loloplay]<<\n",
      "\n",
      "---------------------------\n",
      "11.03.2018 23:29:14\n",
      "carl cui [@cuiyysw]: >>invited 小魔女 灵儿\n",
      "---------------------------\n",
      ".....12.03.2018 21:58:00, Den: >>joined the group<<\n",
      "\n",
      ".....12.03.2018 21:58:49, Федя [@Ovod13]: >>joined the group<<\n",
      "\n",
      "---------------------------\n",
      "12.03.2018 21:58:49\n",
      "Федя\n",
      "---------------------------\n",
      "12.03.2018 21:59:54, Den: Арим\n",
      "\n",
      ".....12.03.2018 22:00:30, Den: >>left the group<<\n",
      "\n",
      ".....12.03.2018 22:01:07, Nata [@Nataly9900]: >>joined the group<<\n",
      "\n",
      "---------------------------\n",
      "12.03.2018 22:01:07\n",
      "Nata\n",
      "---------------------------\n",
      ".....12.03.2018 22:01:16, Sergey Lizunov [@strahara]: >>joined the group<<\n",
      "\n",
      "---------------------------\n",
      "12.03.2018 22:01:16\n",
      "Sergey Lizunov\n",
      "---------------------------\n",
      "12.03.2018 22:02:03, Sergey Lizunov [@strahara]: 0xfa7c4fe34cEA9289f97bED26f7106AcB3523001F\n",
      "\n",
      "---------------------------\n",
      "12.03.2018 22:02:03\n",
      "Sergey Lizunov\n",
      "---------------------------\n",
      ".....12.03.2018 22:03:47, Van Pham [@vanphamn]: >>joined the group<<\n",
      "\n",
      "---------------------------\n",
      "12.03.2018 22:03:47\n",
      "Van Pham\n",
      "---------------------------\n",
      "12.03.2018 22:03:52, Van Pham [@vanphamn]: 0x4907d01FAD88F4c5F4fF0c6877328b9234FBcef5\n",
      "\n",
      "---------------------------\n",
      "12.03.2018 22:03:52\n",
      "Van Pham\n",
      "---------------------------\n",
      ".....12.03.2018 22:05:44, Денис Назаров [@Astroden]: >>joined the group<<\n",
      "\n",
      "---------------------------\n",
      "12.03.2018 22:05:44\n",
      "Денис Назаров\n",
      "---------------------------\n",
      ".....12.03.2018 22:05:54, SAJIB MAX [@sajibmax113]: >>joined the group<<\n",
      "\n",
      "---------------------------\n",
      "12.03.2018 22:05:54\n",
      "SAJIB MAX\n",
      "---------------------------\n",
      ".....12.03.2018 22:06:00, Jean Nguessan [@Jeanlenoir]: >>joined the group<<\n",
      "\n",
      "---------------------------\n",
      "12.03.2018 22:06:00\n",
      "Jean Nguessan\n",
      "---------------------------\n",
      ".....12.03.2018 22:06:32, vu khuong: >>joined the group<<\n",
      "\n",
      "12.03.2018 22:06:41, vu khuong: 0x2c3c4ED46A54f3107CFDfC9CBf95C4dFAc3487E2\n",
      "\n",
      ".....12.03.2018 22:07:47, Степан Рязанов [@m171pe]: >>joined the group<<\n",
      "\n",
      "---------------------------\n",
      "12.03.2018 22:07:47\n",
      "Степан Рязанов\n",
      "---------------------------\n",
      "12.03.2018 22:07:50, 小魔女 灵儿 [@loloplay]: HI ALL，Thank you for your participation. Our event has just ended. If you are interested in our next NAB token reward, please join our Telegram group or WeChat group for more information. （\n",
      "\n",
      "---------------------------\n",
      "12.03.2018 22:07:50\n",
      "小魔女 灵儿\n",
      "---------------------------\n",
      ".....12.03.2018 22:08:23, 小魔女 灵儿 [@loloplay]: >>unsupported service message type: messageActionPinMessage<<\n",
      "\n",
      "---------------------------\n",
      "12.03.2018 22:08:23\n",
      "小魔女 灵儿\n",
      "---------------------------\n",
      ".....12.03.2018 22:08:38, Sergey Lizunov [@strahara]: >>left the group<<\n",
      "\n",
      "---------------------------\n",
      "12.03.2018 22:08:38\n",
      "Sergey Lizunov\n",
      "---------------------------\n",
      ".....12.03.2018 22:11:02, Andrey Mishin [@Zoar1975]: >>joined the group<<\n",
      "\n",
      "---------------------------\n",
      "12.03.2018 22:11:02\n",
      "Andrey Mishin\n",
      "---------------------------\n",
      "12.03.2018 22:11:18, Andrey Mishin [@Zoar1975]: 0xb72bf806bf1b11d955f84a0871f158322987e3c8\n",
      "\n",
      "---------------------------\n",
      "12.03.2018 22:11:18\n",
      "Andrey Mishin\n",
      "---------------------------\n",
      ".....12.03.2018 22:11:20, raju malakomda [@malakomda]: >>joined the group<<\n",
      "\n",
      "---------------------------\n",
      "12.03.2018 22:11:20\n",
      "raju malakomda\n",
      "---------------------------\n",
      "12.03.2018 22:11:21, SAJIB MAX [@sajibmax113]: thanks\n",
      "---------------------------\n",
      "12.03.2018 22:11:21\n",
      "SAJIB MAX\n",
      "---------------------------\n"
     ]
    }
   ],
   "source": [
    "#!/usr/bin/python3\n",
    "# -*- coding:utf8 -*-\n",
    "import codecs\n",
    "import re\n",
    "\n",
    "address = r'(0x[a-z0-9A-Z]{40})'\n",
    "name = r'\\[@([a-z0-9A-Z]+)\\]'\n",
    "date = r'\\d{2}\\.\\d{2}\\.\\d{4} \\d{2}\\:\\d{2}\\:\\d{2}'\n",
    "ID = r', (.+) \\['\n",
    "\n",
    "with open(r'telegram.txt','r',encoding=\"utf8\") as f:\n",
    "    for line in f.readlines():\n",
    "        print(line)\n",
    "        if re.search(ID,line):\n",
    "            #username = re.search(name,line)\n",
    "            time = re.search(date,line)\n",
    "            Telid = re.search(ID,line)\n",
    "            print('---------------------------')\n",
    "            #print(username.group(1))\n",
    "            print(time.group())\n",
    "            print(Telid.group(1))\n",
    "            print('---------------------------')\n",
    "        "
   ]
  },
  {
   "cell_type": "markdown",
   "metadata": {},
   "source": [
    "## Second Attempt: Chrome extension to save telegram chat history (works well)\n",
    "\n",
    "Dumps your Telegram chat history with an active peer to plaintext.\n",
    "Perhaps, many of us like Telegram messenger and use it for conversations with friends. However, we were a bit disappointed by the absence of any sort of easy-accessible \"Save Conversation\" feature in the messenger. Therefore, we've written a Chrome extension for it! More info at https://github.com/pigpagnet/save-telegram-chat-history.\n",
    "\n",
    "https://chrome.google.com/webstore/detail/save-telegram-chat-histor/kgldnbjoeinkkgpphaaljlfhfdbndfjc?utm_source=www.crx4chrome.com"
   ]
  },
  {
   "cell_type": "code",
   "execution_count": 28,
   "metadata": {},
   "outputs": [
    {
     "name": "stdout",
     "output_type": "stream",
     "text": [
      "vanphamn\n"
     ]
    }
   ],
   "source": [
    "# test to get name\n",
    "\n",
    "import re\n",
    "text = r'12.03.2018 22:03:52, Van Pham [@vanphamn]: 0x4907d01FAD88F4c5F4fF0c6877328b9234FBcef5'\n",
    "name = r'\\[@([a-z0-9A-Z]+)\\]'\n",
    "print(re.search(name,text).group(1))"
   ]
  },
  {
   "cell_type": "code",
   "execution_count": 39,
   "metadata": {},
   "outputs": [
    {
     "name": "stdout",
     "output_type": "stream",
     "text": [
      "<_sre.SRE_Match object; span=(49, 91), match='0xfa7c4fe34cEA9289f97bED26f7106AcB3523001F'>\n"
     ]
    }
   ],
   "source": [
    "# test to get Eth address\n",
    "\n",
    "import re\n",
    "text = '''Your Telegram History in \"Naus.io_Global [@NausGlobal]\"\n",
    "\n",
    ".....11.03.2018 16:15:50, carl cui [@cuiyysw]: >>upgraded the group to a supergroup<<\n",
    ".....11.03.2018 16:18:02, carl cui [@cuiyysw]: >>changed group name to \"Naus.io_Global\"<<\n",
    ".....11.03.2018 23:29:14, carl cui [@cuiyysw]: >>invited 小魔女 灵儿 [@loloplay]<<\n",
    ".....12.03.2018 21:58:00, Den: >>joined the group<<\n",
    ".....12.03.2018 21:58:49, Федя [@Ovod13]: >>joined the group<<\n",
    "12.03.2018 21:59:54, Den: Арим\n",
    ".....12.03.2018 22:00:30, Den: >>left the group<<\n",
    ".....12.03.2018 22:01:07, Nata [@Nataly9900]: >>joined the group<<\n",
    ".....12.03.2018 22:01:16, Sergey Lizunov [@strahara]: >>joined the group<<\n",
    "12.03.2018 22:02:03, Sergey Lizunov [@strahara]: 0xfa7c4fe34cEA9289f97bED26f7106AcB3523001F\n",
    ".....12.03.2018 22:03:47, Van Pham [@vanphamn]: >>joined the group<<\n",
    "'''\n",
    "content = text.split('\\n')\n",
    "address = r'(0x[a-z0-9A-Z]{40})'\n",
    "\n",
    "for i in content:\n",
    "    if re.search(address,i):\n",
    "            eth = re.search(address,i)\n",
    "            print(eth)"
   ]
  },
  {
   "cell_type": "code",
   "execution_count": 3,
   "metadata": {},
   "outputs": [
    {
     "name": "stdout",
     "output_type": "stream",
     "text": [
      "The End\n"
     ]
    }
   ],
   "source": [
    "# first try\n",
    "\n",
    "#!/usr/bin/python3\n",
    "# -*- coding:utf8 -*-\n",
    "import codecs\n",
    "import re\n",
    "\n",
    "address = r'(0x[a-z0-9A-Z]{40})'\n",
    "name = r'\\[@([a-z0-9A-Z]+)\\]'\n",
    "date = r'\\d{2}\\.\\d{2}\\.\\d{4} \\d{2}\\:\\d{2}\\:\\d{2}'\n",
    "ID = r', (.+) \\['\n",
    "\n",
    "with open(r'telegram_group_history__Naus.io_Global [@NausGlobal]_from20180311-1615_to20180504-1504__downloaded2018_05_04--18-22-55.txt','r',encoding='utf-8') as f:\n",
    "    with open('telegram20180504.csv','w',encoding='utf-8') as w: \n",
    "        for line in f.readlines():\n",
    "            if re.search(address,line) and re.search(name,line):\n",
    "                eth = re.search(address,line).group()\n",
    "                username = re.search(name,line).group(1)\n",
    "                time = re.search(date,line).group()\n",
    "                telid = re.search(ID,line).group(1)\n",
    "                w.write('{},{},{},{}\\n'.format(time,telid,username,eth))\n",
    "print('The End')            "
   ]
  },
  {
   "cell_type": "code",
   "execution_count": 7,
   "metadata": {},
   "outputs": [
    {
     "name": "stdout",
     "output_type": "stream",
     "text": [
      "wu long\n",
      "Yasin Kartal [@yasinnkrtl]\n"
     ]
    }
   ],
   "source": [
    "# first try has bug in name, it will not get chat of users who have set usernames\n",
    "\n",
    "import re\n",
    "n1 ='02.05.2018 15:07:00, wu long: 0xb1A45043Ed0aDABc6e2F658BaE0eb8EA4d311294'\n",
    "n2 ='.....02.05.2018 15:08:07, Yasin Kartal [@yasinnkrtl]: >>joined the group<<'\n",
    "name = r',(.+):'\n",
    "print(re.search(name,n1).group(1).strip())\n",
    "print(re.search(name,n2).group(1).strip())"
   ]
  },
  {
   "cell_type": "code",
   "execution_count": 12,
   "metadata": {},
   "outputs": [
    {
     "name": "stdout",
     "output_type": "stream",
     "text": [
      "The End\n"
     ]
    }
   ],
   "source": [
    "# second try\n",
    "\n",
    "#!/usr/bin/python3\n",
    "# -*- coding:utf8 -*-\n",
    "import codecs\n",
    "import re\n",
    "\n",
    "address = r'(0x[a-z0-9A-Z]{40})'\n",
    "name =  r',(.+):'\n",
    "date = r'\\d{2}\\.\\d{2}\\.\\d{4} \\d{2}\\:\\d{2}\\:\\d{2}'\n",
    "\n",
    "\n",
    "with open(r'telegram_group_history__Naus.io_Global [@NausGlobal]_from20180311-1615_to20180504-1504__downloaded2018_05_04--18-22-55.txt','r',encoding='utf-8') as f:\n",
    "    with open('telegram20180505.csv','w',encoding='utf-8') as w: \n",
    "        for line in f.readlines():\n",
    "            if re.search(address,line)and re.search(name,line):\n",
    "                eth = re.search(address,line).group()\n",
    "                username = re.search(name,line).group(1)\n",
    "                time = re.search(date,line).group()\n",
    "                w.write('{},{},{}\\n'.format(time,username,eth))\n",
    "print('The End')   "
   ]
  }
 ],
 "metadata": {
  "kernelspec": {
   "display_name": "Python 3",
   "language": "python",
   "name": "python3"
  },
  "language_info": {
   "codemirror_mode": {
    "name": "ipython",
    "version": 3
   },
   "file_extension": ".py",
   "mimetype": "text/x-python",
   "name": "python",
   "nbconvert_exporter": "python",
   "pygments_lexer": "ipython3",
   "version": "3.6.5"
  }
 },
 "nbformat": 4,
 "nbformat_minor": 2
}
