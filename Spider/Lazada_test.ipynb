{
 "cells": [
  {
   "cell_type": "code",
   "execution_count": null,
   "metadata": {},
   "outputs": [],
   "source": [
    "from selenium import webdriver\n",
    "import time,re,csv\n",
    "from pyquery import PyQuery as pq\n",
    "from selenium.webdriver.chrome.options import Options\n",
    "from selenium.webdriver.common.action_chains import ActionChains\n",
    "from selenium.webdriver.common.by import By\n",
    "from selenium.webdriver.support.ui import WebDriverWait\n",
    "from selenium.webdriver.support import expected_conditions as EC\n",
    "\n",
    "def get_details(item_url,save_file):\n",
    "    \n",
    "    # Chrome object\n",
    "    with open(save_file,'a',encoding='utf-8') as w:\n",
    "        print('Getting item details from Shopee ...')\n",
    "        chrome_options = Options()\n",
    "        chrome_options.add_argument('--headless')\n",
    "        driver = webdriver.Chrome(chrome_options=chrome_options)  \n",
    "        driver.get(item_url) \n",
    "        time.sleep(2)\n",
    "        \n",
    "        item_class = driver.find_elements_by_css_selector('.breadcrumb_item')\n",
    "        classification = [i.text for i in item_class]\n",
    "        print(classification)\n",
    "        \n",
    "        price = driver.find_elements_by_css_selector('.pdp-product-price')\n",
    "        \n",
    "        #print('name{}\\n,score{}\\n,review{}\\n,sales{}\\n,favorite{}'.format(item_name,item_score,review_num,month_sales,favorite_num))\n",
    "        #w.write('{},{},{},{},{},{},{},{},{},{}\\n'.format(platform,main_class,sub_class,item_name,list_price,price,item_score,review_num,month_sales,favorite_num))\n",
    "    print('getting item details done')\n",
    "            \n",
    "item_url = 'https://www.lazada.co.id/products/promo-1212-tas-ransel-santer-emboss-free-tas-selempang-polo-emboss-santer-s007-tas-pria-tas-ransel-pria-tas-laptop-tas-punggung-material-depan-embos-black-free-polo-tas-selempang-pria-tas-gadget-tas-hp-tas-dompet-bagian-depan-embos-black-i104089743-s104694467.html?spm=a2o4j.searchlistcategory.list.33.dee626c2ggaQ7k&search=1'\n",
    "save_file = r'shopee_product_details.csv'\n",
    "\n",
    "get_details(item_url,save_file)"
   ]
  }
 ],
 "metadata": {
  "kernelspec": {
   "display_name": "Python 3",
   "language": "python",
   "name": "python3"
  },
  "language_info": {
   "codemirror_mode": {
    "name": "ipython",
    "version": 3
   },
   "file_extension": ".py",
   "mimetype": "text/x-python",
   "name": "python",
   "nbconvert_exporter": "python",
   "pygments_lexer": "ipython3",
   "version": "3.6.5"
  }
 },
 "nbformat": 4,
 "nbformat_minor": 2
}
