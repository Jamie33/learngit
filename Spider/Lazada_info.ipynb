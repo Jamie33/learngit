{
 "cells": [
  {
   "cell_type": "markdown",
   "metadata": {},
   "source": [
    "# Lazada\n",
    "## 单个商品页获取字段\n",
    "\n",
    "类分类个数不一致\n",
    "\n",
    "①平台名\n",
    "②大类\n",
    "③小类\n",
    "④商品名\n",
    "⑤评分\n",
    "⑥评论数\n",
    "⑦月销量\n",
    "⑧原价 （部分商品没有原价）\n",
    "⑨现价\n",
    "⑩运费 (运费标准) (悬浮元素)\n",
    "⑪收藏数 "
   ]
  },
  {
   "cell_type": "code",
   "execution_count": 26,
   "metadata": {},
   "outputs": [
    {
     "name": "stdout",
     "output_type": "stream",
     "text": [
      "Getting item details from Shopee ...\n",
      "getting category list  ['Tas & Travel', 'Tas Pria', 'Tas Ransel Pria', 'Tas Ransel Fashion Pria', 'Promo 12.12 Tas Ransel Santer Emboss Free Tas Selempang Polo Emboss - Santer S007# Tas Pria Tas Ransel Pria Tas Laptop Tas Punggung Material Depan Embos - Black + Free Polo Tas Selempang Pria Tas Gadget Tas HP Tas Dompet Bagian Depan Embos - Black']\n",
      "getting current price  Rp89.900\n",
      "getting list price  Rp225.000\n",
      "getting item title  Promo 12.12 Tas Ransel Santer Emboss Free Tas Selempang Polo Emboss - Santer S007# Tas Pria Tas Ransel Pria Tas Laptop Tas Punggung Material Depan Embos - Black + Free Polo Tas Selempang Pria Tas Gadget Tas HP Tas Dompet Bagian Depan Embos - Black\n",
      "getting review_num  475\n",
      "getting score  4.3\n",
      "getting shipping note  Standar1 - 8 hariRp6.100Nikmati gratis ongkir hingga Rp30.000 dengan belanja minimum Rp120.000.Ekspres1 - 4 hariRp19.100Bayar di tempat berlaku\n",
      "getting item details done\n"
     ]
    }
   ],
   "source": [
    "from selenium import webdriver\n",
    "import time,re,csv\n",
    "from pyquery import PyQuery as pq\n",
    "from selenium.webdriver.chrome.options import Options\n",
    "from selenium.webdriver.common.action_chains import ActionChains\n",
    "from selenium.webdriver.common.by import By\n",
    "from selenium.webdriver.support.ui import WebDriverWait\n",
    "from selenium.webdriver.support import expected_conditions as EC\n",
    "\n",
    "def get_details(item_url,save_file):\n",
    "    \n",
    "    # Chrome object\n",
    "    with open(save_file,'a',encoding='utf-8') as w:\n",
    "        print('Getting item details from Shopee ...')\n",
    "        chrome_options = Options()\n",
    "        chrome_options.add_argument('--headless')\n",
    "        driver = webdriver.Chrome(chrome_options=chrome_options)  \n",
    "        driver.get(item_url) \n",
    "        time.sleep(2)\n",
    "        \n",
    "        html = driver.page_source\n",
    "        doc = pq(html)\n",
    "        #print(doc)\n",
    "        category = doc('#J_breadcrumb')\n",
    "        #print(item)\n",
    "        item_class = category.find('.breadcrumb_item')\n",
    "        category_info = [i.text() for i in item_class.items()]\n",
    "        \n",
    "        print('getting category list ',category_info)\n",
    "        #item_class = driver.find_elements_by_css_selector('.breadcrumb_item')\n",
    "        #classification = [i.text for i in item_class]\n",
    "        #print(classification)\n",
    "        \n",
    "        item = doc('#block-M-A-cX3Wi1')\n",
    "        price = re.sub('\\n',' ',item.find('.pdp-product-price').text())  .split(' ')\n",
    "        current_price = price[0]\n",
    "        print('getting current price ',current_price)\n",
    "        list_price = price[1]\n",
    "        print('getting list price ',list_price)\n",
    "        pro_title = item.find('.pdp-product-title').text()\n",
    "        print('getting item title ',pro_title)\n",
    "        review_num = re.search('\\d+',item.find('.pdp-link.pdp-link_size_s.pdp-link_theme_blue.pdp-review-summary__link').text()).group()\n",
    "        print('getting review_num ',review_num)\n",
    "        score = doc('.score-average').text()\n",
    "        print('getting score ',score)\n",
    "        shipping_note = re.sub('\\n','',doc('.delivery__content').text()) \n",
    "        print('getting shipping note ',shipping_note)\n",
    "        w.write('{},{},{},{},{},{},{},{},{},{}\\n'.format(category_info,list_price,current_price,list_price,review_num,score,shipping_note,item_url))\n",
    "    print('getting item details done')\n",
    "            \n",
    "item_url = 'https://www.lazada.co.id/products/promo-1212-tas-ransel-santer-emboss-free-tas-selempang-polo-emboss-santer-s007-tas-pria-tas-ransel-pria-tas-laptop-tas-punggung-material-depan-embos-black-free-polo-tas-selempang-pria-tas-gadget-tas-hp-tas-dompet-bagian-depan-embos-black-i104089743-s104694467.html?spm=a2o4j.searchlistcategory.list.33.dee626c2ggaQ7k&search=1'\n",
    "save_file = r'lazada_product_details_test.csv'\n",
    "\n",
    "get_details(item_url,save_file)"
   ]
  },
  {
   "cell_type": "code",
   "execution_count": null,
   "metadata": {},
   "outputs": [],
   "source": []
  }
 ],
 "metadata": {
  "kernelspec": {
   "display_name": "Python 3",
   "language": "python",
   "name": "python3"
  },
  "language_info": {
   "codemirror_mode": {
    "name": "ipython",
    "version": 3
   },
   "file_extension": ".py",
   "mimetype": "text/x-python",
   "name": "python",
   "nbconvert_exporter": "python",
   "pygments_lexer": "ipython3",
   "version": "3.6.3"
  },
  "toc": {
   "nav_menu": {},
   "number_sections": true,
   "sideBar": true,
   "skip_h1_title": false,
   "title_cell": "Table of Contents",
   "title_sidebar": "Contents",
   "toc_cell": false,
   "toc_position": {},
   "toc_section_display": true,
   "toc_window_display": false
  },
  "varInspector": {
   "cols": {
    "lenName": 16,
    "lenType": 16,
    "lenVar": 40
   },
   "kernels_config": {
    "python": {
     "delete_cmd_postfix": "",
     "delete_cmd_prefix": "del ",
     "library": "var_list.py",
     "varRefreshCmd": "print(var_dic_list())"
    },
    "r": {
     "delete_cmd_postfix": ") ",
     "delete_cmd_prefix": "rm(",
     "library": "var_list.r",
     "varRefreshCmd": "cat(var_dic_list()) "
    }
   },
   "types_to_exclude": [
    "module",
    "function",
    "builtin_function_or_method",
    "instance",
    "_Feature"
   ],
   "window_display": false
  }
 },
 "nbformat": 4,
 "nbformat_minor": 2
}
