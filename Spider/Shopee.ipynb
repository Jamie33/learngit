{
 "cells": [
  {
   "cell_type": "markdown",
   "metadata": {},
   "source": [
    "# Shopee\n",
    "\n",
    "## 单个商品页获取字段\n",
    "\n",
    "    ①平台名\n",
    "    ②大类\n",
    "    ③小类\n",
    "    ④商品名\n",
    "    ⑤评分\n",
    "    ⑥评论数\n",
    "    ⑦月销量\n",
    "    ⑧原价\n",
    "    ⑨现价\n",
    "    ⑩运费\n",
    "    ⑪收藏数\n",
    "    \n",
    " 运费未获取到"
   ]
  },
  {
   "cell_type": "code",
   "execution_count": 36,
   "metadata": {},
   "outputs": [
    {
     "name": "stdout",
     "output_type": "stream",
     "text": [
      "Getting item details from Shopee ...\n",
      "getting item details done\n"
     ]
    }
   ],
   "source": [
    "from selenium import webdriver\n",
    "import time,re,csv\n",
    "from selenium.webdriver.chrome.options import Options\n",
    "from selenium.webdriver.common.action_chains import ActionChains\n",
    "\n",
    "def get_details(item_url,save_file):\n",
    "    \n",
    "    # Chrome object\n",
    "    with open(save_file,'a',encoding='utf-8') as w:\n",
    "        print('Getting item details from Shopee ...')\n",
    "        chrome_options = Options()\n",
    "        chrome_options.add_argument('--headless')\n",
    "        driver = webdriver.Chrome(chrome_options=chrome_options)  \n",
    "        driver.get(item_url) \n",
    "        time.sleep(10)\n",
    "        item_class = driver.find_elements_by_css_selector('div.flex.items-center._1z1CEl.page-product__breadcrumb a')\n",
    "        platform = item_class[0].text\n",
    "        main_class = item_class[1].text\n",
    "        sub_class = item_class[2].text\n",
    "        pro_name = driver.find_element_by_css_selector('div.flex.items-center._1z1CEl.page-product__breadcrumb span').text\n",
    "        item_name = re.sub('[^a-z0-9A-Z_]', '', pro_name, count=0)\n",
    "        item_data = driver.find_elements_by_css_selector('div.flex._32fuIU>div')\n",
    "        item_score = item_data[0].find_element_by_css_selector('div').text\n",
    "        review_num = item_data[1].find_element_by_css_selector('div').text\n",
    "        month_sales = item_data[2].find_element_by_css_selector('div').text\n",
    "        list_price = driver.find_element_by_css_selector('div._3_ISdg').text\n",
    "        price = driver.find_element_by_css_selector('div._3n5NQx').text\n",
    "        favorite = driver.find_element_by_css_selector('div.flex.items-center._25DJo1').text\n",
    "        favorite_num = re.search(r'\\d+',favorite).group()\n",
    "        #print('classification:{}>{}>{}'.format(platform,main_class,sub_class))\n",
    "        #print('name{}\\n,score{}\\n,review{}\\n,sales{}\\n,favorite{}'.format(item_name,item_score,review_num,month_sales,favorite_num))\n",
    "        w.write('{},{},{},{},{},{},{},{},{},{}\\n'.format(platform,main_class,sub_class,item_name,list_price,price,item_score,review_num,month_sales,favorite_num))\n",
    "    print('getting item details done')\n",
    "            \n",
    "item_url = 'https://shopee.co.id/%F0%9F%94%A5Big-Sale%F0%9F%94%A5SKMEI-Jam-Tangan-Quartz-Pria-9083-i.50206822.1175170741'\n",
    "save_file = r'shopee_product_details.csv'\n",
    "\n",
    "get_details(item_url,save_file)"
   ]
  },
  {
   "cell_type": "code",
   "execution_count": 31,
   "metadata": {},
   "outputs": [
    {
     "name": "stdout",
     "output_type": "stream",
     "text": [
      "Getting item details from Shopee ...\n"
     ]
    },
    {
     "ename": "NoAlertPresentException",
     "evalue": "Message: no alert open\n  (Session info: chrome=66.0.3359.139)\n  (Driver info: chromedriver=2.38.552522 (437e6fbedfa8762dec75e2c5b3ddb86763dc9dcb),platform=Windows NT 10.0.17134 x86_64)\n",
     "output_type": "error",
     "traceback": [
      "\u001b[1;31m---------------------------------------------------------------------------\u001b[0m",
      "\u001b[1;31mNoAlertPresentException\u001b[0m                   Traceback (most recent call last)",
      "\u001b[1;32m<ipython-input-31-861f32db9a09>\u001b[0m in \u001b[0;36m<module>\u001b[1;34m()\u001b[0m\n\u001b[0;32m     40\u001b[0m \u001b[0msave_file\u001b[0m \u001b[1;33m=\u001b[0m \u001b[1;34mr'product_details.csv'\u001b[0m\u001b[1;33m\u001b[0m\u001b[0m\n\u001b[0;32m     41\u001b[0m \u001b[1;33m\u001b[0m\u001b[0m\n\u001b[1;32m---> 42\u001b[1;33m \u001b[0mget_details\u001b[0m\u001b[1;33m(\u001b[0m\u001b[0mitem_url\u001b[0m\u001b[1;33m,\u001b[0m\u001b[0msave_file\u001b[0m\u001b[1;33m)\u001b[0m\u001b[1;33m\u001b[0m\u001b[0m\n\u001b[0m",
      "\u001b[1;32m<ipython-input-31-861f32db9a09>\u001b[0m in \u001b[0;36mget_details\u001b[1;34m(item_url, save_file)\u001b[0m\n\u001b[0;32m     12\u001b[0m         \u001b[0mdriver\u001b[0m \u001b[1;33m=\u001b[0m \u001b[0mwebdriver\u001b[0m\u001b[1;33m.\u001b[0m\u001b[0mChrome\u001b[0m\u001b[1;33m(\u001b[0m\u001b[1;33m)\u001b[0m\u001b[1;33m\u001b[0m\u001b[0m\n\u001b[0;32m     13\u001b[0m         \u001b[0mdriver\u001b[0m\u001b[1;33m.\u001b[0m\u001b[0mget\u001b[0m\u001b[1;33m(\u001b[0m\u001b[0mitem_url\u001b[0m\u001b[1;33m)\u001b[0m\u001b[1;33m\u001b[0m\u001b[0m\n\u001b[1;32m---> 14\u001b[1;33m         \u001b[0malert\u001b[0m \u001b[1;33m=\u001b[0m \u001b[0mdriver\u001b[0m\u001b[1;33m.\u001b[0m\u001b[0mswitch_to\u001b[0m\u001b[1;33m.\u001b[0m\u001b[0malert\u001b[0m\u001b[1;33m\u001b[0m\u001b[0m\n\u001b[0m\u001b[0;32m     15\u001b[0m         \u001b[0malert\u001b[0m\u001b[1;33m.\u001b[0m\u001b[0mdismiss\u001b[0m\u001b[1;33m(\u001b[0m\u001b[1;33m)\u001b[0m\u001b[1;33m\u001b[0m\u001b[0m\n\u001b[0;32m     16\u001b[0m \u001b[1;33m\u001b[0m\u001b[0m\n",
      "\u001b[1;32mc:\\users\\win7\\appdata\\local\\programs\\python\\python36-32\\lib\\site-packages\\selenium\\webdriver\\remote\\switch_to.py\u001b[0m in \u001b[0;36malert\u001b[1;34m(self)\u001b[0m\n\u001b[0;32m     53\u001b[0m         \"\"\"\n\u001b[0;32m     54\u001b[0m         \u001b[0malert\u001b[0m \u001b[1;33m=\u001b[0m \u001b[0mAlert\u001b[0m\u001b[1;33m(\u001b[0m\u001b[0mself\u001b[0m\u001b[1;33m.\u001b[0m\u001b[0m_driver\u001b[0m\u001b[1;33m)\u001b[0m\u001b[1;33m\u001b[0m\u001b[0m\n\u001b[1;32m---> 55\u001b[1;33m         \u001b[0malert\u001b[0m\u001b[1;33m.\u001b[0m\u001b[0mtext\u001b[0m\u001b[1;33m\u001b[0m\u001b[0m\n\u001b[0m\u001b[0;32m     56\u001b[0m         \u001b[1;32mreturn\u001b[0m \u001b[0malert\u001b[0m\u001b[1;33m\u001b[0m\u001b[0m\n\u001b[0;32m     57\u001b[0m \u001b[1;33m\u001b[0m\u001b[0m\n",
      "\u001b[1;32mc:\\users\\win7\\appdata\\local\\programs\\python\\python36-32\\lib\\site-packages\\selenium\\webdriver\\common\\alert.py\u001b[0m in \u001b[0;36mtext\u001b[1;34m(self)\u001b[0m\n\u001b[0;32m     67\u001b[0m             \u001b[1;32mreturn\u001b[0m \u001b[0mself\u001b[0m\u001b[1;33m.\u001b[0m\u001b[0mdriver\u001b[0m\u001b[1;33m.\u001b[0m\u001b[0mexecute\u001b[0m\u001b[1;33m(\u001b[0m\u001b[0mCommand\u001b[0m\u001b[1;33m.\u001b[0m\u001b[0mW3C_GET_ALERT_TEXT\u001b[0m\u001b[1;33m)\u001b[0m\u001b[1;33m[\u001b[0m\u001b[1;34m\"value\"\u001b[0m\u001b[1;33m]\u001b[0m\u001b[1;33m\u001b[0m\u001b[0m\n\u001b[0;32m     68\u001b[0m         \u001b[1;32melse\u001b[0m\u001b[1;33m:\u001b[0m\u001b[1;33m\u001b[0m\u001b[0m\n\u001b[1;32m---> 69\u001b[1;33m             \u001b[1;32mreturn\u001b[0m \u001b[0mself\u001b[0m\u001b[1;33m.\u001b[0m\u001b[0mdriver\u001b[0m\u001b[1;33m.\u001b[0m\u001b[0mexecute\u001b[0m\u001b[1;33m(\u001b[0m\u001b[0mCommand\u001b[0m\u001b[1;33m.\u001b[0m\u001b[0mGET_ALERT_TEXT\u001b[0m\u001b[1;33m)\u001b[0m\u001b[1;33m[\u001b[0m\u001b[1;34m\"value\"\u001b[0m\u001b[1;33m]\u001b[0m\u001b[1;33m\u001b[0m\u001b[0m\n\u001b[0m\u001b[0;32m     70\u001b[0m \u001b[1;33m\u001b[0m\u001b[0m\n\u001b[0;32m     71\u001b[0m     \u001b[1;32mdef\u001b[0m \u001b[0mdismiss\u001b[0m\u001b[1;33m(\u001b[0m\u001b[0mself\u001b[0m\u001b[1;33m)\u001b[0m\u001b[1;33m:\u001b[0m\u001b[1;33m\u001b[0m\u001b[0m\n",
      "\u001b[1;32mc:\\users\\win7\\appdata\\local\\programs\\python\\python36-32\\lib\\site-packages\\selenium\\webdriver\\remote\\webdriver.py\u001b[0m in \u001b[0;36mexecute\u001b[1;34m(self, driver_command, params)\u001b[0m\n\u001b[0;32m    310\u001b[0m         \u001b[0mresponse\u001b[0m \u001b[1;33m=\u001b[0m \u001b[0mself\u001b[0m\u001b[1;33m.\u001b[0m\u001b[0mcommand_executor\u001b[0m\u001b[1;33m.\u001b[0m\u001b[0mexecute\u001b[0m\u001b[1;33m(\u001b[0m\u001b[0mdriver_command\u001b[0m\u001b[1;33m,\u001b[0m \u001b[0mparams\u001b[0m\u001b[1;33m)\u001b[0m\u001b[1;33m\u001b[0m\u001b[0m\n\u001b[0;32m    311\u001b[0m         \u001b[1;32mif\u001b[0m \u001b[0mresponse\u001b[0m\u001b[1;33m:\u001b[0m\u001b[1;33m\u001b[0m\u001b[0m\n\u001b[1;32m--> 312\u001b[1;33m             \u001b[0mself\u001b[0m\u001b[1;33m.\u001b[0m\u001b[0merror_handler\u001b[0m\u001b[1;33m.\u001b[0m\u001b[0mcheck_response\u001b[0m\u001b[1;33m(\u001b[0m\u001b[0mresponse\u001b[0m\u001b[1;33m)\u001b[0m\u001b[1;33m\u001b[0m\u001b[0m\n\u001b[0m\u001b[0;32m    313\u001b[0m             response['value'] = self._unwrap_value(\n\u001b[0;32m    314\u001b[0m                 response.get('value', None))\n",
      "\u001b[1;32mc:\\users\\win7\\appdata\\local\\programs\\python\\python36-32\\lib\\site-packages\\selenium\\webdriver\\remote\\errorhandler.py\u001b[0m in \u001b[0;36mcheck_response\u001b[1;34m(self, response)\u001b[0m\n\u001b[0;32m    240\u001b[0m                 \u001b[0malert_text\u001b[0m \u001b[1;33m=\u001b[0m \u001b[0mvalue\u001b[0m\u001b[1;33m[\u001b[0m\u001b[1;34m'alert'\u001b[0m\u001b[1;33m]\u001b[0m\u001b[1;33m.\u001b[0m\u001b[0mget\u001b[0m\u001b[1;33m(\u001b[0m\u001b[1;34m'text'\u001b[0m\u001b[1;33m)\u001b[0m\u001b[1;33m\u001b[0m\u001b[0m\n\u001b[0;32m    241\u001b[0m             \u001b[1;32mraise\u001b[0m \u001b[0mexception_class\u001b[0m\u001b[1;33m(\u001b[0m\u001b[0mmessage\u001b[0m\u001b[1;33m,\u001b[0m \u001b[0mscreen\u001b[0m\u001b[1;33m,\u001b[0m \u001b[0mstacktrace\u001b[0m\u001b[1;33m,\u001b[0m \u001b[0malert_text\u001b[0m\u001b[1;33m)\u001b[0m\u001b[1;33m\u001b[0m\u001b[0m\n\u001b[1;32m--> 242\u001b[1;33m         \u001b[1;32mraise\u001b[0m \u001b[0mexception_class\u001b[0m\u001b[1;33m(\u001b[0m\u001b[0mmessage\u001b[0m\u001b[1;33m,\u001b[0m \u001b[0mscreen\u001b[0m\u001b[1;33m,\u001b[0m \u001b[0mstacktrace\u001b[0m\u001b[1;33m)\u001b[0m\u001b[1;33m\u001b[0m\u001b[0m\n\u001b[0m\u001b[0;32m    243\u001b[0m \u001b[1;33m\u001b[0m\u001b[0m\n\u001b[0;32m    244\u001b[0m     \u001b[1;32mdef\u001b[0m \u001b[0m_value_or_default\u001b[0m\u001b[1;33m(\u001b[0m\u001b[0mself\u001b[0m\u001b[1;33m,\u001b[0m \u001b[0mobj\u001b[0m\u001b[1;33m,\u001b[0m \u001b[0mkey\u001b[0m\u001b[1;33m,\u001b[0m \u001b[0mdefault\u001b[0m\u001b[1;33m)\u001b[0m\u001b[1;33m:\u001b[0m\u001b[1;33m\u001b[0m\u001b[0m\n",
      "\u001b[1;31mNoAlertPresentException\u001b[0m: Message: no alert open\n  (Session info: chrome=66.0.3359.139)\n  (Driver info: chromedriver=2.38.552522 (437e6fbedfa8762dec75e2c5b3ddb86763dc9dcb),platform=Windows NT 10.0.17134 x86_64)\n"
     ]
    }
   ],
   "source": [
    "from selenium import webdriver\n",
    "import time,re,csv\n",
    "from selenium.webdriver.chrome.options import Options\n",
    "from selenium.webdriver.common.action_chains import ActionChains\n",
    "\n",
    "def get_details(item_url,save_file):\n",
    "    \n",
    "    # Chrome object\n",
    "    with open(save_file,'a',encoding='utf-8') as w:\n",
    "        print('Getting item details from Shopee ...')\n",
    "\n",
    "        driver = webdriver.Chrome()\n",
    "        driver.get(item_url) \n",
    "        alert = driver.switch_to.alert\n",
    "        alert.dismiss()\n",
    "        \n",
    "        time.sleep(10)\n",
    "        item_class = driver.find_elements_by_css_selector('div.flex.items-center._1z1CEl.page-product__breadcrumb a')\n",
    "        platform = item_class[0].text\n",
    "        main_class = item_class[1].text\n",
    "        sub_class = item_class[2].text\n",
    "        item_name = driver.find_element_by_css_selector('div.flex.items-center._1z1CEl.page-product__breadcrumb span').text\n",
    "        item_data = driver.find_elements_by_css_selector('div.flex._32fuIU>div')\n",
    "        item_score = item_data[0].find_element_by_css_selector('div').text\n",
    "        review_num = item_data[1].find_element_by_css_selector('div').text\n",
    "        month_sales = item_data[2].find_element_by_css_selector('div').text\n",
    "        list_price = driver.find_element_by_css_selector('div._3_ISdg').text\n",
    "        price = driver.find_element_by_css_selector('div._3n5NQx').text\n",
    "        shipping_float = driver.find_element_by_css_selector('div.flex.items-center._2L9GAB') \n",
    "        ActionChains(driver).move_to_element(shipping_float).perform()\n",
    "\n",
    "        shipping_fee = driver.find_element_by_css_selector('div.fNgc1p.card').text\n",
    "        favorite = driver.find_element_by_css_selector('div.flex.items-center._25DJo1').text\n",
    "        favorite_num = re.search(r'\\d+',favorite).group()\n",
    "        #print('classification:{}>{}>{}'.format(platform,main_class,sub_class))\n",
    "        #print('name{}\\n,score{}\\n,review{}\\n,sales{}\\n,favorite{}'.format(item_name,item_score,review_num,month_sales,favorite_num))\n",
    "        print(shipping_fee)\n",
    "            \n",
    "item_url = 'https://shopee.co.id/%F0%9F%94%A5Big-Sale%F0%9F%94%A5SKMEI-Jam-Tangan-Quartz-Pria-9083-i.50206822.1175170741'\n",
    "save_file = r'product_details.csv'\n",
    "\n",
    "get_details(item_url,save_file)"
   ]
  },
  {
   "cell_type": "code",
   "execution_count": 26,
   "metadata": {},
   "outputs": [
    {
     "name": "stdout",
     "output_type": "stream",
     "text": [
      "Getting item details from Shopee ...\n"
     ]
    }
   ],
   "source": [
    "from pyquery import PyQuery as pq\n",
    "from selenium import webdriver\n",
    "import time,re\n",
    "from pyquery import PyQuery as pq\n",
    "import requests\n",
    "\n",
    "from selenium.webdriver.chrome.options import Options\n",
    "\n",
    "\n",
    "item_url = 'https://shopee.co.id/%F0%9F%94%A5Big-Sale%F0%9F%94%A5SKMEI-Jam-Tangan-Quartz-Pria-9083-i.50206822.1175170741'\n",
    "\n",
    "def get_details(item_url):\n",
    "    \n",
    "    # Chrome object\n",
    "    \n",
    "    print('Getting item details from Shopee ...')\n",
    "    chrome_options = Options()\n",
    "    chrome_options.add_argument('--headless')\n",
    "    driver = webdriver.Chrome(chrome_options=chrome_options)  \n",
    "    driver.get(item_url) \n",
    "    time.sleep(5)\n",
    "    html = driver.page_source\n",
    "    doc = pq(html)\n",
    "    item_class = doc('.flex.items-center._1z1CEl.page-product__breadcrumb')\n",
    "    #print(item_class)\n",
    "    for i in item_class.find('a').items():\n",
    "        print(i)\n",
    "        print(i.text())\n",
    "\n",
    "\n",
    "get_details(item_url)"
   ]
  },
  {
   "cell_type": "markdown",
   "metadata": {},
   "source": [
    "## 小类获取商品列表"
   ]
  },
  {
   "cell_type": "code",
   "execution_count": 44,
   "metadata": {
    "scrolled": true
   },
   "outputs": [
    {
     "name": "stdout",
     "output_type": "stream",
     "text": [
      "Getting subclass item list from Shopee ...\n",
      "50\n",
      "Getting subclass item list Done!\n"
     ]
    }
   ],
   "source": [
    "from pyquery import PyQuery as pq\n",
    "from selenium import webdriver\n",
    "import time,re,csv\n",
    "from pyquery import PyQuery as pq\n",
    "import requests\n",
    "from selenium.webdriver.chrome.options import Options\n",
    "from selenium.common.exceptions import TimeoutException\n",
    "from selenium.webdriver.common.by import By\n",
    "import selenium.webdriver.support.expected_conditions as EC\n",
    "import selenium.webdriver.support.ui as WebDriverWait\n",
    "from selenium.webdriver.common.action_chains import ActionChains \n",
    "from selenium.webdriver.common.keys import Keys\n",
    "\n",
    "def get_list(subclass_url,save_file):\n",
    "    \n",
    "    # Chrome object\n",
    "\n",
    "    print('Getting subclass item list from Shopee ...')\n",
    "    driver = webdriver.Chrome()  \n",
    "    driver.maximize_window()\n",
    "    driver.get(subclass_url) \n",
    "    time.sleep(2)\n",
    "    \n",
    "    for i in range(10):\n",
    "        time.sleep(5)\n",
    "        driver.find_element_by_xpath(\"/html/body\").send_keys(Keys.PAGE_DOWN)\n",
    "        \n",
    "    url_list = [i.get_attribute('href') for i in driver.find_elements_by_css_selector('a.shopee-item-card--link')]        \n",
    "    print(len(url_list))\n",
    "    \n",
    "    with open(save_file,'a',encoding='utf-8') as w:\n",
    "        for i in driver.find_elements_by_css_selector('a.shopee-item-card--link'):\n",
    "            w.write('{}\\n'.format(i.get_attribute('href')))\n",
    "    print('Getting subclass item list Done!')\n",
    "\n",
    "subclass_url = 'https://shopee.co.id/Jam-Tangan-Pria-cat.37.12452'\n",
    "save_file = r'subclass_item_list.csv'\n",
    "\n",
    "get_list(subclass_url,save_file)"
   ]
  },
  {
   "cell_type": "code",
   "execution_count": 43,
   "metadata": {},
   "outputs": [
    {
     "name": "stdout",
     "output_type": "stream",
     "text": [
      "Getting subclass item list from Shopee ...\n",
      "36\n",
      "Getting subclass item list Done!\n"
     ]
    }
   ],
   "source": [
    "from pyquery import PyQuery as pq\n",
    "from selenium import webdriver\n",
    "import time,re,csv\n",
    "from pyquery import PyQuery as pq\n",
    "import requests\n",
    "from selenium.webdriver.chrome.options import Options\n",
    "from selenium.common.exceptions import TimeoutException\n",
    "from selenium.webdriver.common.by import By\n",
    "import selenium.webdriver.support.expected_conditions as EC\n",
    "import selenium.webdriver.support.ui as WebDriverWait\n",
    "from selenium.webdriver.common.action_chains import ActionChains \n",
    "from selenium.webdriver.common.keys import Keys\n",
    "\n",
    "def get_list(subclass_url,save_file):\n",
    "    \n",
    "    # Chrome object\n",
    "\n",
    "    print('Getting subclass item list from Shopee ...')\n",
    "    chrome_options = Options()\n",
    "    chrome_options.add_argument('--headless')\n",
    "    driver = webdriver.Chrome(chrome_options=chrome_options)  \n",
    "    driver.maximize_window()\n",
    "    driver.get(subclass_url) \n",
    "    time.sleep(2)\n",
    "    \n",
    "    for i in range(10):\n",
    "        time.sleep(5)\n",
    "        driver.find_element_by_xpath(\"/html/body\").send_keys(Keys.PAGE_DOWN)\n",
    "        \n",
    "    url_list = [i.get_attribute('href') for i in driver.find_elements_by_css_selector('a.shopee-item-card--link')]        \n",
    "    print(len(url_list))\n",
    "    \n",
    "    with open(save_file,'a',encoding='utf-8') as w:\n",
    "        for i in driver.find_elements_by_css_selector('a.shopee-item-card--link'):\n",
    "            w.write('{}\\n'.format(i.get_attribute('href')))\n",
    "    print('Getting subclass item list Done!')\n",
    "\n",
    "subclass_url = 'https://shopee.co.id/Jam-Tangan-Pria-cat.37.12452'\n",
    "save_file = r'subclass_item_list.csv'\n",
    "\n",
    "get_list(subclass_url,save_file)"
   ]
  },
  {
   "cell_type": "markdown",
   "metadata": {},
   "source": [
    "## 小类20页列表"
   ]
  },
  {
   "cell_type": "code",
   "execution_count": 48,
   "metadata": {},
   "outputs": [
    {
     "name": "stdout",
     "output_type": "stream",
     "text": [
      "Getting subclass url list...\n",
      "Getting subclass url list Done!\n"
     ]
    }
   ],
   "source": [
    "import csv\n",
    "\n",
    "def get_pages(subclass_page,save_file):\n",
    "    \n",
    "    print('Getting subclass url list...')\n",
    "    with open(save_file,'a',encoding='utf-8') as w:\n",
    "        for i in range(50):\n",
    "            w.write('{}\\n'.format(subclass_page.format(i)))\n",
    "\n",
    "    print('Getting subclass url list Done!')\n",
    "    \n",
    "    \n",
    "subclass_page = 'https://shopee.co.id/Jam-Tangan-Pria-cat.37.12452?page={}&sortBy=pop'\n",
    "save_file = r'subclass_url_list.csv'\n",
    "\n",
    "get_pages(subclass_page,save_file)"
   ]
  },
  {
   "cell_type": "markdown",
   "metadata": {},
   "source": [
    "## 合并"
   ]
  },
  {
   "cell_type": "code",
   "execution_count": null,
   "metadata": {},
   "outputs": [],
   "source": [
    "import csv,random\n",
    "\n",
    "def get_pages(subclass_page,save_file):\n",
    "    for i in range(50):\n",
    "        print('Getting Page {} ...'.format(i))\n",
    "        subclass_url = subclass_page.format(i)\n",
    "        time.sleep(random.randint(10,20))\n",
    "        get_list(subclass_url,save_file)\n",
    "\n",
    "    \n",
    "    \n",
    "def get_list(subclass_url,save_file):\n",
    "    \n",
    "    # Chrome object\n",
    "\n",
    "    print('Getting subclass item list from Shopee ...')\n",
    "    driver = webdriver.Chrome()  \n",
    "    driver.maximize_window()\n",
    "    driver.get(subclass_url) \n",
    "    time.sleep(2)\n",
    "    \n",
    "    for i in range(10):\n",
    "        time.sleep(5)\n",
    "        driver.find_element_by_xpath(\"/html/body\").send_keys(Keys.PAGE_DOWN)\n",
    "        \n",
    "    url_list = [i.get_attribute('href') for i in driver.find_elements_by_css_selector('a.shopee-item-card--link')]        \n",
    "    print(len(url_list))\n",
    "    \n",
    "    with open(save_file,'a',encoding='utf-8') as w:\n",
    "        for i in driver.find_elements_by_css_selector('a.shopee-item-card--link'):\n",
    "            w.write('{}\\n'.format(i.get_attribute('href')))\n",
    "    print('Getting subclass item list Done!')\n",
    "\n",
    "\n",
    "    \n",
    "subclass_page = 'https://shopee.co.id/Jam-Tangan-Pria-cat.37.12452?page={}&sortBy=pop'\n",
    "save_file = r'subclass_item_list.csv'\n",
    "\n",
    "get_pages(subclass_page,save_file)"
   ]
  }
 ],
 "metadata": {
  "kernelspec": {
   "display_name": "Python 3",
   "language": "python",
   "name": "python3"
  }
 },
 "nbformat": 4,
 "nbformat_minor": 2
}
