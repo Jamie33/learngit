{
 "cells": [
  {
   "cell_type": "code",
   "execution_count": 56,
   "metadata": {},
   "outputs": [
    {
     "name": "stderr",
     "output_type": "stream",
     "text": [
      "c:\\users\\win7\\appdata\\local\\programs\\python\\python36-32\\lib\\site-packages\\urllib3\\connectionpool.py:858: InsecureRequestWarning: Unverified HTTPS request is being made. Adding certificate verification is strongly advised. See: https://urllib3.readthedocs.io/en/latest/advanced-usage.html#ssl-warnings\n",
      "  InsecureRequestWarning)\n"
     ]
    },
    {
     "name": "stdout",
     "output_type": "stream",
     "text": [
      "['alimohsin034@gmail.com', 'rogovik1994@icloud.com', 'rogovik1994@icloud.com', 'akai@yahoo.com', 'jersonzabalajr23@gmail.com', 'molot86@inbox.ru', 'alimohsin034@gmail.com', 'molot86@inbox.ru', 'luonglb@gmail.com', 'alimohsin034@gmail.com', 'andrejkabakov94031@gmail.com', 'ngocson2710@gmail.com', 'palpolpalpol@hotmail.com', 'pacardowillem@gmail.com', 'mesBadet@gmail.com', 'goter1980@gmail.com', 'Kryptotark@hotmail.com', 'nniecan001@gmail.com', 'tanyusshka@rambler.ru', 'mesBadet@gmail.com', 'alimohsin034@gmail.com', 'bud.piki@gmail.com', 'odakorlina@gmail.com', 'alimohsin034@gmail.com', 'khongbiengioic06@gmail.com', 'dungthu159@gmail.com', 'alimohsin034@gmail.com', 'anonymouseasia1@gmail.com', 'avisaeugene@gmail.com', 'tanyusshka@rambler.ru', 'mrkahharov@gmail.com', 'ssrevoss@gmail.com', 'cemvekilic@gmail.com', 'vinyjagu@gmail.com', 'Omid84@live.com', 'hoangsonrayfu@gmail.com', 'alimohsin034@gmail.com', '123suicid321@gmail.com', 'lorapalmer1711@gmail.com', 'tatoche70@gmail.com', 'francesuycanogregorio@gmail.com', 'user002yknb@gmail.com', 'jenbuongbinh1@gmail.com', 'sundayadedeji001@gmail.com', 'kbpecayo06@gmail.com', 'jobols29@gmail.com', 'lorapalmer1711@gmail.com', 'adiizokaou@gmail.com', 'mlewisviviane@gmail.com', 'vinyjagu@gmail.com', 'ninocuadrasalbusiness@gmail.com', 'catkimluyen@gmail.com', 'sundayadedeji001@gmail.com', 'alimohsin034@gmail.com', 'charingane1@hotmail.fr', 'Doztatok1@gmail.com', 'is.lorapalmer1711@gmail.com', 'lorapalmer1711@gmail.com', 'dl11.sbvb@gmail.com', 'vcthor123@gmail.com', 'eiji0513@gmail.com', 'burky1555@hotmail.com', 'smekerasii600@gmail.com', 'happycherryblossomsinspring@gmail.com', 'gretebest@gmail.com', 'baemylady@gmail.com', 'vinyjagu@gmail.com', 'moneyafric@gmail.com', 'catkimluyen@gmail.com', 'catkimluyen@gmail.com', 'sundayadedeji001@gmail.com', 'Doztatok1@gmail.com', 'viailyas2345@gmail.com', 'hb379@hotmail.com', 'anto.mel@hotmail.com', 'anto.mel@hotmail.com', '1Tallahassee.mob@gmail.com', 'vinyjagu@gmail.com', 'catkimluyen@gmail.com', 'catkimluyen@gmail.com', 'catkimluyen@gmail.com', 'sculptor1976@gmail.com', 'dmitrydneprov@gmail.com', 'surakbakin@gmail.com', 'nniecan001@gmail.com', 'lorapalmer1711@gmail.com', 'tracynhm@gmail.com', 'tracynhm@gmail.com', 'svetasver100@yandex.by', 'vinyjagu@gmail.com', 'catkimluyen@gmail.com', 'catkimluyen@gmail.com', 'catkimluyen@gmail.com', 'catkimluyen@gmail.com', 'cherish.kokos@gmail.com', 'ngtuanminhtri@gmail.com', 'banm260691@gmail.com', 'korneev1405@mail.ru', '7499010@gmail.com', 'grzego123@gmail.com', 'mohed.saed.11@gmail.com', 'gurps00@gmail.com', 'orbarcade@gmail.com', 'f00sker@mail.ru', 'gp1138832@gmail.com', 'go.vsbig@gmail.com', 'kventimoran@gmail.com', 'swgnod@gmail.com', 'nino49a@gmail.com', 'nino49a@gmail.com', 'gosseye@msn.com', 'codehtcmail@gmail.com', 'vinyjagu@gmail.com', 'biancadg41@gmail.com', 'conduonghungdi@gmail.com', 'catkimluyen@gmail.com', 'catkimluyen@gmail.com', 'catkimluyen@gmail.com', 'catkimluyen@gmail.com', 'catkimluyen@gmail.com', 'kostasparty@hotmail.com', 'x052oe@gmail.com', 'yurochkin76@gmail.com', 'nniecan001@gmail.com', 'gurps00@gmail.com', 'lovlylonly@gmail.com', 'nniecan001@gmail.com', 'orbarcade@gmail.com', 'orbarcade@gmail.com', 'kibanazareno@gmail.com', 'vinyjagu@gmail.com', 'chitocrypto@gmail.com', 'catkimluyen@gmail.com', 'catkimluyen@gmail.com', 'catkimluyen@gmail.com', 'catkimluyen@gmail.com', 'catkimluyen@gmail.com', 'catkimluyen@gmail.com', 'biancadg41@gmail.com', 'biancadg41@gmail.com', 'jobols29@gmail.com', 'namerk93@gmail.com', 'gosseye@msn.com', 'nniecan001@gmail.com', 'aiginaspa@gmail.com', 'doitraivotinhdn95@gmail.com', 'Praveenalone151095@gmail.com', 'windydagreat@gmail.com', 'freyavermilion@yahoo.com', 'mastahza@gmail.com', 'lysterjade@gmail.com', 'destinyconsultfirm@gmail.com', 'soksviski@gmail.com', 'biancadg41@gmail.com', 'biancadg41@gmail.com', 'biancadg41@gmail.com', 'boulevards2004@gmail.com', 'catkimluyen@gmail.com', 'catkimluyen@gmail.com', 'catkimluyen@gmail.com', 'catkimluyen@gmail.com', 'catkimluyen@gmail.com', 'catkimluyen@gmail.com', 'catkimluyen@gmail.com', 'vinyjagu@gmail.com', 'Kimhensun@gmai.com', 'destinyconsultfirm@gmail.com', 'shidawaestah@yahoo.com', 'catkimluyen@gmail.com', 'catkimluyen@gmail.com', 'catkimluyen@gmail.com', 'catkimluyen@gmail.com', 'catkimluyen@gmail.com', 'catkimluyen@gmail.com', 'catkimluyen@gmail.com', 'catkimluyen@gmail.com', 'vinyjagu@gmail.com', 'RogsTadi@yandex.ru', 'jobols29@gmail.com', 'lonerdrop@gmail.com', 'destinyconsultfirm@gmail.com', 'mike84.hn@gmail.com', 'catkimluyen@gmail.com', 'catkimluyen@gmail.com', 'catkimluyen@gmail.com', 'catkimluyen@gmail.com', 'catkimluyen@gmail.com', 'catkimluyen@gmail.com', 'catkimluyen@gmail.com', 'catkimluyen@gmail.com', 'catkimluyen@gmail.com', 'thanhtruong5789@gmail.com', 'vinyjagu@gmail.com', 'lucyokumu254@gmail.com', 'lucyokumu254@gmail.com', 'jelsasukeops@gmail.com', 'biancadg41@gmail.com', 'biancadg41@gmail.com', 'biancadg41@gmail.com', 'biancadg41@gmail.com', 'jobols29@gmail.com', 'boulevards2004@gmail.com', 'jobols29@gmail.com', 'haraguchi@gc4.so', 'destinyconsultfirm@gmail.com', 'catkimluyen@gmail.com', 'catkimluyen@gmail.com', 'catkimluyen@gmail.com', 'catkimluyen@gmail.com', 'catkimluyen@gmail.com', 'catkimluyen@gmail.com', 'catkimluyen@gmail.com', 'catkimluyen@gmail.com', 'catkimluyen@gmail.com', 'catkimluyen@gmail.com', 'boulevards2004@gmail.com', 'biancadg41@gmail.com', 'biancadg41@gmail.com', 'biancadg41@gmail.com', 'biancadg41@gmail.com', 'biancadg41@gmail.com', 'jobols29@gmail.com', 'jobols29@gmail.com', 'wellkhai7f@gmail.com', 'trankim010194@gmail.com', 'boulevards2004@gmail.com', 'biancadg41@gmail.com', 'biancadg41@gmail.com', 'biancadg41@gmail.com', 'biancadg41@gmail.com', 'biancadg41@gmail.com', 'biancadg41@gmail.com', 'lonerdrop@gmail.com', 'sonynaik177@gmail.com', 'vinyjagu@gmail.com', 'jobols29@gmail.com', 'jobols29@gmail.com', 'jobols29@gmail.com', 'boulevards2004@gmail.com', 'jobols29@gmail.com', 'vinyjagu@gmail.com', 'j.holecki@o2.pl', 'abhishekag7993@gmail.com']\n",
      "The END\n"
     ]
    }
   ],
   "source": [
    "#encoding=utf8\n",
    "import re\n",
    "import requests\n",
    "from bs4 import BeautifulSoup\n",
    "\n",
    "url = 'https://bitcointalk.org/index.php?topic=2467225.0;all'\n",
    "\n",
    "proxie = {\n",
    "    'http':'http://127.0.0.1:1080',\n",
    "    'https':'https://127.0.0.1:1080'}\n",
    "\n",
    "header = { \n",
    "    'User-Agent' : 'Mozilla/5.0 (Linux; Android 6.0; Nexus 5 Build/MRA58N) AppleWebKit/537.36 (KHTML, like Gecko) Chrome/46.0.2490.76 Mobile Safari/537.36',\n",
    "    }\n",
    "\n",
    "data = requests.get(url,headers = header,verify=False,proxies = proxie)\n",
    "\n",
    "soup = BeautifulSoup(data.text,'html.parser')\n",
    "\n",
    "contents = soup.select('.bordercolor')[1].text\n",
    "\n",
    "reg = r'[A-Za-z0-9.]+@[A-Za-z0-9]+\\.[a-z]{1,3}'\n",
    "emails = re.findall(reg,contents)\n",
    "print(emails)\n",
    "\n",
    "\n",
    "\n",
    "with open('BTTemail.csv','w',encoding='utf-8') as f:\n",
    "    \n",
    "    reg = r'[A-Za-z0-9.]+@[A-Za-z0-9]+\\.[a-z]{1,3}'\n",
    "    emails = re.findall(reg,contents)\n",
    "    for email in emails:\n",
    "        f.write('{}\\n'.format(email))  \n",
    "print('The END')\n"
   ]
  },
  {
   "cell_type": "code",
   "execution_count": 10,
   "metadata": {},
   "outputs": [
    {
     "name": "stdout",
     "output_type": "stream",
     "text": [
      "<_sre.SRE_Match object; span=(5, 20), match='45206091@qq.com'>\n",
      "['com', 'com']\n",
      "['qq', 'icloud']\n"
     ]
    }
   ],
   "source": [
    "import re\n",
    "text = '我的邮箱是45206091@qq.com rogovik1994@icloud.com'\n",
    "reg = r'[A-Za-z0-9_]+@[a-zA-Z0-9]+\\.(cn|com|ru|net|gmail)'\n",
    "regs = r'[A-Za-z0-9.]+@[A-Za-z0-9]+\\.[a-z]{3}'\n",
    "reg2 = r'[A-Za-z0-9_]+@([a-zA-Z0-9]+)\\.'\n",
    "email = re.search(reg,text) # 通过findall，想要获得整个字符串的话，就要使用不带括号的，即没有分组\n",
    "emails = re.findall(reg,text)\n",
    "email2 = re.findall(reg2,text)\n",
    "print(email)\n",
    "print(emails)\n",
    "print(email2)"
   ]
  },
  {
   "cell_type": "code",
   "execution_count": null,
   "metadata": {},
   "outputs": [],
   "source": [
    "'This module is designed to get emails from the post of a topic'\n",
    "\n",
    "#import essential modules\n",
    "import re\n",
    "import requests\n",
    "from bs4 import BeautifulSoup\n",
    "\n",
    "url = 'https://bitcointalk.org/index.php?topic=2467225.0;all'\n",
    "\n",
    "proxie = {\n",
    "        'http':'http://127.0.0.1:1080',\n",
    "        'https':'https://127.0.0.1:1080'}\n",
    "\n",
    "header = { \n",
    "        'User-Agent' : 'Mozilla/5.0 (Linux; Android 6.0; Nexus 5 Build/MRA58N) AppleWebKit/537.36 (KHTML, like Gecko) Chrome/46.0.2490.76 Mobile Safari/537.36',\n",
    "        }\n",
    "\n",
    "data = requests.get(url,headers = header,verify=False,proxies = proxie)\n",
    "\n",
    "soup = BeautifulSoup(data.text,'html.parser')\n",
    "\n",
    "contents = soup.select('.bordercolor')[1].text\n",
    "\n",
    "\n",
    "with open('BTTemail.csv','w',encoding='utf-8') as f:\n",
    "    \n",
    "    reg = r'[A-Za-z0-9.]+@[A-Za-z0-9]+\\.[a-z]{1,3}'\n",
    "    emails = re.findall(reg,contents)\n",
    "    for email in emails:\n",
    "        f.write('{}\\n'.format(email))  \n",
    "        \n",
    "print('The END')\n"
   ]
  }
 ],
 "metadata": {
  "kernelspec": {
   "display_name": "Python 3",
   "language": "python",
   "name": "python3"
  },
  "language_info": {
   "codemirror_mode": {
    "name": "ipython",
    "version": 3
   },
   "file_extension": ".py",
   "mimetype": "text/x-python",
   "name": "python",
   "nbconvert_exporter": "python",
   "pygments_lexer": "ipython3",
   "version": "3.6.5"
  }
 },
 "nbformat": 4,
 "nbformat_minor": 2
}
