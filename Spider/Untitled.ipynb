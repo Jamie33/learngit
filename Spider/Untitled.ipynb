{
 "cells": [
  {
   "cell_type": "code",
   "execution_count": 9,
   "metadata": {},
   "outputs": [
    {
     "name": "stdout",
     "output_type": "stream",
     "text": [
      "60\n"
     ]
    },
    {
     "data": {
      "text/plain": [
       "\"\\n# 获取某一页帖子内的内容\\npage_content = r.html.find('.bordercolor')[-1].text\\nemails = re.findall(reg,page_content)\\nprint(emails)\\n\""
      ]
     },
     "execution_count": 9,
     "metadata": {},
     "output_type": "execute_result"
    }
   ],
   "source": [
    "# 获取帖子内所有的邮箱地址\n",
    "import re\n",
    "from requests_html import HTMLSession\n",
    "\n",
    "session = HTMLSession()\n",
    "proxie = {'https':'https://127.0.0.1:1080'}\n",
    "thread_url = 'https://bitcointalk.org/index.php?topic=406533.0'\n",
    "r = session.get(thread_url,proxies = proxie)\n",
    "\n",
    "reg = r'[A-Za-z0-9.]+@[A-Za-z0-9]+\\.[a-z]{1,3}'\n",
    "\n",
    "# 获取帖子的页数\n",
    "thread_pages = r.html.find('.navPages')\n",
    "if len(thread_pages) == 0:\n",
    "    pages = 20\n",
    "else:\n",
    "    pages = int(thread_pages[-2].text)*20\n",
    "\n",
    "print(pages)\n",
    "'''\n",
    "# 获取某一页帖子内的内容\n",
    "page_content = r.html.find('.bordercolor')[-1].text\n",
    "emails = re.findall(reg,page_content)\n",
    "print(emails)\n",
    "'''\n",
    "\n",
    "\n"
   ]
  },
  {
   "cell_type": "code",
   "execution_count": 26,
   "metadata": {},
   "outputs": [
    {
     "name": "stdout",
     "output_type": "stream",
     "text": [
      "set()\n"
     ]
    }
   ],
   "source": [
    "# 获取帖子内所有的邮箱地址\n",
    "import re\n",
    "from requests_html import HTMLSession\n",
    "\n",
    "session = HTMLSession()\n",
    "proxie = {'https':'https://127.0.0.1:1080'}\n",
    "thread_url = 'https://bitcointalk.org/index.php?topic=2658558.0'\n",
    "r = session.get(thread_url,proxies = proxie)\n",
    "\n",
    "reg = r'[A-Za-z0-9.]+@[A-Za-z0-9]+\\.[a-z]{1,3}'\n",
    "\n",
    "# 获取帖子的页数\n",
    "thread_pages = r.html.find('.navPages')\n",
    "if len(thread_pages) == 0:\n",
    "    pages = 20\n",
    "else:\n",
    "    pages = int(thread_pages[-2].text)*20\n",
    "\n",
    "\n",
    "'''\n",
    "# 获取某一页帖子内的内容\n",
    "page_content = r.html.find('.bordercolor')[-1].text\n",
    "emails = re.findall(reg,page_content)\n",
    "print(emails)\n",
    "'''\n",
    "\n",
    "\n",
    "\n",
    "#获取整个帖子内全部页面链接\n",
    "try:\n",
    "    url_left = thread_url.strip('0')\n",
    "    for p in range(0,pages,20):\n",
    "        url = url_left+str(p)\n",
    "        page_content = session.get(url,proxies = proxie).html.find('.post')\n",
    "        emails = set()\n",
    "        for p in page_content:\n",
    "            if re.findall(reg,p.text):\n",
    "                emails.add(re.search(reg,p.text))\n",
    "    print(emails)\n",
    "except Exception as e:\n",
    "    print(url)\n",
    "    print('Error:',e)\n"
   ]
  },
  {
   "cell_type": "code",
   "execution_count": 20,
   "metadata": {},
   "outputs": [
    {
     "name": "stdout",
     "output_type": "stream",
     "text": [
      "set()\n"
     ]
    }
   ],
   "source": [
    "import re\n",
    "url = 'https://bitcointalk.org/index.php?topic=2658558.4760'\n",
    "page_content = session.get(url,proxies = proxie).html.find('.post')\n",
    "\n",
    "reg = r'[A-Za-z0-9.]+@[A-Za-z0-9]+\\.[a-z]{1,3}'\n",
    "emails = set()\n",
    "for i in page_content:\n",
    "    if re.findall(reg,i.text):\n",
    "        emails.add(email)\n",
    "print(emails)"
   ]
  },
  {
   "cell_type": "code",
   "execution_count": 21,
   "metadata": {},
   "outputs": [
    {
     "name": "stdout",
     "output_type": "stream",
     "text": [
      "{'adsfa', 'sadfasdf', '2'}\n"
     ]
    }
   ],
   "source": [
    "l = set()\n",
    "l.add('sadfasdf')\n",
    "l.add('2')\n",
    "l.add('2')\n",
    "l.add('adsfa')\n",
    "print(l)"
   ]
  }
 ],
 "metadata": {
  "kernelspec": {
   "display_name": "Python 3",
   "language": "python",
   "name": "python3"
  },
  "language_info": {
   "codemirror_mode": {
    "name": "ipython",
    "version": 3
   },
   "file_extension": ".py",
   "mimetype": "text/x-python",
   "name": "python",
   "nbconvert_exporter": "python",
   "pygments_lexer": "ipython3",
   "version": "3.6.5"
  }
 },
 "nbformat": 4,
 "nbformat_minor": 2
}
