{
 "cells": [
  {
   "cell_type": "code",
   "execution_count": null,
   "metadata": {
    "collapsed": false
   },
   "outputs": [],
   "source": [
    "'''\n",
    "案例二主要是基于“蒙特卡罗思想”，求解排队等待时间问题\n",
    "\n",
    "场景：厕所排队问题\n",
    "1、两场电影结束时间相隔较长，互不影响；\n",
    "2、每场电影结束之后会有20个人想上厕所；\n",
    "3、这20个人会在0到10分钟之内全部到达厕所）；\n",
    "4、每个人上厕所时间在1-3分钟之间\n",
    "首先模拟最简单的情况，也就是厕所只有一个位置，不考虑两人共用的情况则每人必须等上一人出恭完毕方可进行。\n",
    "分析：对于每个人都有如下几个参数：\n",
    "到达时间 / 等待时间 / 开始上厕所时间 / 结束时间\n",
    "\n",
    "课程技术点：\n",
    "随机数 / 循环语句\n",
    "\n",
    "参考文章：\n",
    "《我们进行了1亿次婚恋配对实验，然后...》，链接：http://mp.weixin.qq.com/s/Bu3g6sgoKEGq9M24UWDrmg\n",
    "\n",
    "加油！\n",
    "'''"
   ]
  },
  {
   "cell_type": "code",
   "execution_count": null,
   "metadata": {
    "collapsed": true
   },
   "outputs": [],
   "source": [
    "'''\n",
    "Part1  设置随机值\n",
    "'''"
   ]
  },
  {
   "cell_type": "code",
   "execution_count": 18,
   "metadata": {
    "collapsed": false
   },
   "outputs": [
    {
     "name": "stdout",
     "output_type": "stream",
     "text": [
      "arrivingtime\n",
      " [ 0.02182042  0.20557235  1.4890603   1.82206756  2.49351946  2.72185662\n",
      "  2.79508884  3.47367367  4.3050724   4.88277318  4.88638424  5.72248114\n",
      "  5.89960757  6.18183716  6.38506823  7.40381205  8.32842688  8.70651056\n",
      "  9.03898246  9.20181958] \n",
      "\n",
      "workingtime\n",
      " [ 1.43167253  2.22863088  1.21889276  1.77758292  1.88324927  1.40308018\n",
      "  1.73317337  1.66469021  2.5705339   2.94485254  1.11974085  1.13931405\n",
      "  2.70679417  2.93840024  1.97025234  1.17749522  1.59849743  2.46753489\n",
      "  1.7586066   1.10723714] \n",
      "\n",
      "startingtime\n",
      " [0, 0, 0, 0, 0, 0, 0, 0, 0, 0, 0, 0, 0, 0, 0, 0, 0, 0, 0, 0] \n",
      "\n",
      "finishtime\n",
      " [0, 0, 0, 0, 0, 0, 0, 0, 0, 0, 0, 0, 0, 0, 0, 0, 0, 0, 0, 0] \n",
      "\n",
      "waitingtime\n",
      " [0, 0, 0, 0, 0, 0, 0, 0, 0, 0, 0, 0, 0, 0, 0, 0, 0, 0, 0, 0] \n",
      "\n",
      "emptytime\n",
      " [0, 0, 0, 0, 0, 0, 0, 0, 0, 0, 0, 0, 0, 0, 0, 0, 0, 0, 0, 0] \n",
      "\n"
     ]
    }
   ],
   "source": [
    "import numpy as np\n",
    "import pandas as pd\n",
    "import matplotlib.pyplot as plt\n",
    "import seaborn as sns\n",
    "\n",
    "arrivingtime = np.random.uniform(0,10,size = 20)\n",
    "arrivingtime.sort()\n",
    "workingtime = np.random.uniform(1,3,size = 20)\n",
    "# np.random.uniform 随机数：均匀分布的样本值\n",
    "\n",
    "startingtime = [0 for i in range(20)]\n",
    "finishtime = [0 for i in range(20)]\n",
    "waitingtime = [0 for i in range(20)]\n",
    "emptytime = [0 for i in range(20)]\n",
    "# 开始时间都是0\n",
    "\n",
    "print('arrivingtime\\n',arrivingtime,'\\n')\n",
    "print('workingtime\\n',workingtime,'\\n')\n",
    "print('startingtime\\n',startingtime,'\\n')\n",
    "print('finishtime\\n',finishtime,'\\n')\n",
    "print('waitingtime\\n',waitingtime,'\\n')\n",
    "print('emptytime\\n',emptytime,'\\n')"
   ]
  },
  {
   "cell_type": "code",
   "execution_count": null,
   "metadata": {
    "collapsed": false
   },
   "outputs": [],
   "source": [
    "'''\n",
    "Part2  第一人上厕所时间\n",
    "'''"
   ]
  },
  {
   "cell_type": "code",
   "execution_count": 7,
   "metadata": {
    "collapsed": true
   },
   "outputs": [],
   "source": [
    "startingtime[0] = arrivingtime[0]\n",
    "# 第一个人之前没有人，所以开始时间 = 到达时间\n",
    "\n",
    "finishtime[0] = startingtime[0] + working[0]\n",
    "# 第一个人完成时间 = 开始时间 + “工作”时间\n",
    "\n",
    "waitingtime[0] = startingtime[0]-arrivingtime[0]\n",
    "# 第一个人不用等待"
   ]
  },
  {
   "cell_type": "code",
   "execution_count": null,
   "metadata": {
    "collapsed": false
   },
   "outputs": [],
   "source": [
    "'''\n",
    "Part3  第二人之后\n",
    "'''"
   ]
  },
  {
   "cell_type": "code",
   "execution_count": 24,
   "metadata": {
    "collapsed": false
   },
   "outputs": [
    {
     "name": "stdout",
     "output_type": "stream",
     "text": [
      "第1个人：到达时间 开始时间 “工作”时间 完成时间 等待时间\n",
      " 0.205572348722 0.205572348722 1.78075595364 1.98632830237 0.0 \n",
      "\n",
      "第2个人：到达时间 开始时间 “工作”时间 完成时间 等待时间\n",
      " 1.48906030249 1.98632830237 1.74327861112 3.72960691349 0.497267999872 \n",
      "\n",
      "第3个人：到达时间 开始时间 “工作”时间 完成时间 等待时间\n",
      " 1.82206756418 3.72960691349 1.46008654591 5.1896934594 1.90753934931 \n",
      "\n",
      "第4个人：到达时间 开始时间 “工作”时间 完成时间 等待时间\n",
      " 2.49351945639 5.1896934594 2.97902615051 8.16871960991 2.696174003 \n",
      "\n",
      "第5个人：到达时间 开始时间 “工作”时间 完成时间 等待时间\n",
      " 2.72185661595 8.16871960991 2.96021245557 11.1289320655 5.44686299396 \n",
      "\n",
      "第6个人：到达时间 开始时间 “工作”时间 完成时间 等待时间\n",
      " 2.79508884341 11.1289320655 1.09699533146 12.2259273969 8.33384322207 \n",
      "\n",
      "第7个人：到达时间 开始时间 “工作”时间 完成时间 等待时间\n",
      " 3.47367366953 12.2259273969 2.02777039352 14.2536977905 8.75225372741 \n",
      "\n",
      "第8个人：到达时间 开始时间 “工作”时间 完成时间 等待时间\n",
      " 4.30507240468 14.2536977905 1.05843609023 15.3121338807 9.94862538578 \n",
      "\n",
      "第9个人：到达时间 开始时间 “工作”时间 完成时间 等待时间\n",
      " 4.88277318194 15.3121338807 1.42482564237 16.7369595231 10.4293606988 \n",
      "\n",
      "第10个人：到达时间 开始时间 “工作”时间 完成时间 等待时间\n",
      " 4.88638423667 16.7369595231 1.28596832366 18.0229278467 11.8505752864 \n",
      "\n",
      "第11个人：到达时间 开始时间 “工作”时间 完成时间 等待时间\n",
      " 5.72248113978 18.0229278467 1.84165241204 19.8645802588 12.3004467069 \n",
      "\n",
      "第12个人：到达时间 开始时间 “工作”时间 完成时间 等待时间\n",
      " 5.89960756972 19.8645802588 1.37562065201 21.2402009108 13.964972689 \n",
      "\n",
      "第13个人：到达时间 开始时间 “工作”时间 完成时间 等待时间\n",
      " 6.18183715901 21.2402009108 1.20495792398 22.4451588348 15.0583637518 \n",
      "\n",
      "第14个人：到达时间 开始时间 “工作”时间 完成时间 等待时间\n",
      " 6.3850682271 22.4451588348 2.84986978529 25.29502862 16.0600906077 \n",
      "\n",
      "第15个人：到达时间 开始时间 “工作”时间 完成时间 等待时间\n",
      " 7.40381204992 25.29502862 1.73459291093 27.029621531 17.8912165701 \n",
      "\n",
      "第16个人：到达时间 开始时间 “工作”时间 完成时间 等待时间\n",
      " 8.32842688069 27.029621531 2.37820116704 29.407822698 18.7011946503 \n",
      "\n",
      "第17个人：到达时间 开始时间 “工作”时间 完成时间 等待时间\n",
      " 8.70651056066 29.407822698 1.53720447456 30.9450271726 20.7013121374 \n",
      "\n",
      "第18个人：到达时间 开始时间 “工作”时间 完成时间 等待时间\n",
      " 9.03898246396 30.9450271726 2.47573634104 33.4207635136 21.9060447086 \n",
      "\n",
      "第19个人：到达时间 开始时间 “工作”时间 完成时间 等待时间\n",
      " 9.20181957513 33.4207635136 1.43698168997 34.8577452036 24.2189439385 \n",
      "\n",
      "arerage waiting time is 11.033254\n"
     ]
    },
    {
     "data": {
      "image/png": "[encoded data removed]",
      "text/plain": [
       "<matplotlib.figure.Figure at 0xbfe5ef0>"
      ]
     },
     "metadata": {},
     "output_type": "display_data"
    }
   ],
   "source": [
    "for i in range(1,len(arrivingtime)):\n",
    "    if finishtime[i-1] > arrivingtime[i]:\n",
    "        startingtime[i] = finishtime[i-1]\n",
    "    else:\n",
    "        startingtime[i] = arrivingtime[i]\n",
    "        emptytime[i] = arrivingtime[i] - finishtime[i-1]\n",
    "    # 判断：如果下一个人在上一个人完成之前到达，则 开始时间 = 上一个人完成时间，\n",
    "    # 否则 开始时间 = 到达时间，且存在空闲时间 = 到达时间 - 上一个人完成时间\n",
    "    finishtime[i] = startingtime[i] + working[i]\n",
    "    waitingtime[i] = startingtime[i] - arrivingtime[i]\n",
    "    print('第%d个人：到达时间 开始时间 “工作”时间 完成时间 等待时间\\n' %i,\n",
    "          arrivingtime[i],\n",
    "          startingtime[i],\n",
    "          working[i],\n",
    "          finishtime[i],\n",
    "          waitingtime[i],\n",
    "         '\\n')\n",
    "\n",
    "print('arerage waiting time is %f' %np.mean(waitingtime))\n",
    "\n",
    "sns.set(style = 'ticks')\n",
    "fig = plt.figure(figsize = (5,3))\n",
    "plt.plot(waitingtime)\n",
    "plt.grid(True,linestyle='--', linewidth = '0.8')\n",
    "plt.show()\n"
   ]
  }
 ],
 "metadata": {
  "anaconda-cloud": {},
  "kernelspec": {
   "display_name": "Python [default]",
   "language": "python",
   "name": "python3"
  },
  "language_info": {
   "codemirror_mode": {
    "name": "ipython",
    "version": 3
   },
   "file_extension": ".py",
   "mimetype": "text/x-python",
   "name": "python",
   "nbconvert_exporter": "python",
   "pygments_lexer": "ipython3",
   "version": "3.5.2"
  }
 },
 "nbformat": 4,
 "nbformat_minor": 1
}
