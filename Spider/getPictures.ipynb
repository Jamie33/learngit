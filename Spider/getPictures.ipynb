{
 "cells": [
  {
   "cell_type": "code",
   "execution_count": null,
   "metadata": {},
   "outputs": [],
   "source": [
    "from requests_html import HTMLSession\n",
    "import time\n",
    "import requests\n",
    "\n",
    "session = HTMLSession()\n",
    "url = 'http://www.win4000.com/zt/xinggan.html'\n",
    "\n",
    "def get_list(url):\n",
    "    response = session.get(url)\n",
    "    content = response.html.find('.Left_bar',first=True)\n",
    "    for i in content.find('li a'):\n",
    "        url = i.attrs['href']\n",
    "        get_detail(url)\n",
    "        \n",
    "get_list(url)\n",
    "\n",
    "\n",
    "def get_detail(url):\n",
    "    response = session.get(url)\n",
    "    content = response.html.find('.scroll-img-cont', first = True)\n",
    "    for i in content.find('li a img'):\n",
    "        img_url = i.attrs['data-original']\n",
    "        img_url = img_url[0:img_url.find('_')] + '.jpg'\n",
    "        save_image(img_url)    \n",
    "\n",
    "#get_detail(url)\n",
    "\n",
    "def save_image(img_url):\n",
    "    \n",
    "    img_response = requests.get(img_url)\n",
    "    t = int(round(time.time()*1000))\n",
    "    with open('Pictures/{}.jpg'.format(t),'ab') as f:\n",
    "        f.write(img_response.content)\n",
    "        \n",
    "print('THE END')      \n",
    "\n",
    "#save_image('http://pic1.win4000.com/wallpaper/2018-05-12/5af660e4f2d50.jpg')    \n"
   ]
  },
  {
   "cell_type": "code",
   "execution_count": 22,
   "metadata": {},
   "outputs": [
    {
     "name": "stdout",
     "output_type": "stream",
     "text": [
      "1526118783724\n"
     ]
    }
   ],
   "source": [
    "import time\n",
    "t = round(time.time()*1000)\n",
    "print(t)"
   ]
  },
  {
   "cell_type": "code",
   "execution_count": null,
   "metadata": {},
   "outputs": [],
   "source": []
  }
 ],
 "metadata": {
  "kernelspec": {
   "display_name": "Python 3",
   "language": "python",
   "name": "python3"
  },
  "language_info": {
   "codemirror_mode": {
    "name": "ipython",
    "version": 3
   },
   "file_extension": ".py",
   "mimetype": "text/x-python",
   "name": "python",
   "nbconvert_exporter": "python",
   "pygments_lexer": "ipython3",
   "version": "3.6.5"
  },
  "toc": {
   "nav_menu": {},
   "number_sections": true,
   "sideBar": true,
   "skip_h1_title": false,
   "title_cell": "Table of Contents",
   "title_sidebar": "Contents",
   "toc_cell": false,
   "toc_position": {},
   "toc_section_display": true,
   "toc_window_display": false
  },
  "varInspector": {
   "cols": {
    "lenName": 16,
    "lenType": 16,
    "lenVar": 40
   },
   "kernels_config": {
    "python": {
     "delete_cmd_postfix": "",
     "delete_cmd_prefix": "del ",
     "library": "var_list.py",
     "varRefreshCmd": "print(var_dic_list())"
    },
    "r": {
     "delete_cmd_postfix": ") ",
     "delete_cmd_prefix": "rm(",
     "library": "var_list.r",
     "varRefreshCmd": "cat(var_dic_list()) "
    }
   },
   "types_to_exclude": [
    "module",
    "function",
    "builtin_function_or_method",
    "instance",
    "_Feature"
   ],
   "window_display": false
  }
 },
 "nbformat": 4,
 "nbformat_minor": 2
}
