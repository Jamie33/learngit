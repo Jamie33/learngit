{
 "cells": [
  {
   "cell_type": "markdown",
   "metadata": {},
   "source": [
    "scrapy startproject XXX\n",
    "cd XXX\n",
    "scrapy genspider example(spider姓名) example.com(抓取域名)\n",
    "\n",
    "setting 里面设置\n",
    "\n",
    "Obey robots.txt rules\n",
    "ROBOTSTXT_OBEY = False"
   ]
  },
  {
   "cell_type": "markdown",
   "metadata": {},
   "source": [
    "main.py"
   ]
  },
  {
   "cell_type": "code",
   "execution_count": null,
   "metadata": {},
   "outputs": [],
   "source": [
    "# -*- coding: utf-8 -*-\n",
    "import scrapy\n",
    "\n",
    "\n",
    "class JobboleSpider(scrapy.Spider):\n",
    "    name = 'jobbole'\n",
    "    allowed_domains = ['blog.jobbole.com']\n",
    "    start_urls = ['http://blog.jobbole.com/']\n",
    "\n",
    "    def parse(self, response):\n",
    "        pass"
   ]
  },
  {
   "cell_type": "markdown",
   "metadata": {},
   "source": [
    "进入shell\n",
    "scrapy shell url\n"
   ]
  },
  {
   "cell_type": "code",
   "execution_count": null,
   "metadata": {},
   "outputs": [],
   "source": [
    "def parse(self, response):\n",
    "#xpath\n",
    "    re_selector = response.xpath('/html/body/div[1]/div[3]/div[1]/div[1]/h1')\n",
    "    re_selector1 = response.xpath('//*[@id=\"post-110287\"]/div[1]/h1/text()')\n",
    "    title = response.xpath('//div[@class=\"entry-header\"]/h1/text()').extract()[0]\n",
    "    date = response.xpath(\"//p[@class='entry-meta-hide-on-mobile']/text()\").extract()[0].replace('·','').strip()\n",
    "    vote_num = response.xpath('//span[contains(@class,\"vote-post-up\")]/h10/text()').extract()[0]\n",
    "    fav = response.xpath('//span[contains(@class,\"bookmark-btn\")]/text()').extract()[0]\n",
    "    fav_num = re.search(r'(\\d+)',fav)\n",
    "    if fav_num:\n",
    "        fav_num = fav_num.group(1)\n",
    "\n",
    "    comments = response.xpath(\"//a[@href='#article-comment']/text()\").extract()[0]\n",
    "    comment_num = re.search(r'(\\d+)',comments)\n",
    "    if comment_num:\n",
    "        comment_num = comment_num.group(1)\n",
    "    content = response.xpath(\"//div[@class='entry']\")[0].xpath('string(.)').extract()[0].strip()\n",
    "    tag_list = response.xpath(\"//p[@class='entry-meta-hide-on-mobile']/a/text()\").extract()\n",
    "    tags = \",\".join([element for element in tag_list if not element.strip().endswith('评论')])\n",
    "\n",
    "    #css\n",
    "    title1 = response.css(\".entry-header h1::text\").extract()[0]\n",
    "    date2 = response.css(\".entry-meta-hide-on-mobile::text\").extract()[0].strip().replace('·', '')\n",
    "    vote = response.css(\".vote-post-up h10::text\").extract()[0]\n",
    "    fav2 = response.css(\".bookmark-btn::text\").extract()[0]\n",
    "    fav_num2 = re.search(r'(\\d+)', fav2)\n",
    "    if fav_num2:\n",
    "        fav_num2 = fav_num2.group(1)\n",
    "    comment2 = response.css(\"a[href='#article-comment'] span::text\").extract()[0]\n",
    "    comment_num2 = re.search(r'(\\d+)', comment2)\n",
    "    if comment_num2:\n",
    "        comment_num2 = comment_num2.group(1)\n",
    "    content2 = response.css(\"div.entry\").extract()[0]\n",
    "    tag_list2= response.css(\"p.entry-meta-hide-on-mobile a::text\").extract()\n",
    "    tags2 = \",\".join([element for element in tag_list2 if not element.strip().endswith('评论')])    "
   ]
  },
  {
   "cell_type": "code",
   "execution_count": null,
   "metadata": {},
   "outputs": [],
   "source": [
    "title = response.xpath('//div[@class=\"entry-header\"]/h1/text()').extract()[0]\n",
    "# .extract()[0]取数组有风险，数组为空，会报异常。所以可以用 .extract_first(\"\") 不会报错，\n",
    "title = response.xpath('//div[@class=\"entry-header\"]/h1/text()').extract_first(\"\")"
   ]
  }
 ],
 "metadata": {
  "kernelspec": {
   "display_name": "Python 3",
   "language": "python",
   "name": "python3"
  },
  "language_info": {
   "codemirror_mode": {
    "name": "ipython",
    "version": 3
   },
   "file_extension": ".py",
   "mimetype": "text/x-python",
   "name": "python",
   "nbconvert_exporter": "python",
   "pygments_lexer": "ipython3",
   "version": "3.6.3"
  },
  "toc": {
   "nav_menu": {},
   "number_sections": true,
   "sideBar": true,
   "skip_h1_title": false,
   "title_cell": "Table of Contents",
   "title_sidebar": "Contents",
   "toc_cell": false,
   "toc_position": {},
   "toc_section_display": true,
   "toc_window_display": false
  },
  "varInspector": {
   "cols": {
    "lenName": 16,
    "lenType": 16,
    "lenVar": 40
   },
   "kernels_config": {
    "python": {
     "delete_cmd_postfix": "",
     "delete_cmd_prefix": "del ",
     "library": "var_list.py",
     "varRefreshCmd": "print(var_dic_list())"
    },
    "r": {
     "delete_cmd_postfix": ") ",
     "delete_cmd_prefix": "rm(",
     "library": "var_list.r",
     "varRefreshCmd": "cat(var_dic_list()) "
    }
   },
   "types_to_exclude": [
    "module",
    "function",
    "builtin_function_or_method",
    "instance",
    "_Feature"
   ],
   "window_display": false
  }
 },
 "nbformat": 4,
 "nbformat_minor": 2
}
