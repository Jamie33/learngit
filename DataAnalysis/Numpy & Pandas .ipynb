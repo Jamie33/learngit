{
 "cells": [
  {
   "cell_type": "markdown",
   "metadata": {},
   "source": [
    "# [Python 数据分析入门与进阶](https://www.shiyanlou.com/courses/764/learning/?id=3454)\n",
    "\n",
    "对于数据分析来说，也同样有各种各样的 Python 软件包，如：\n",
    "\n",
    "IPython - 易用的 Python 交互式终端。\n",
    "**NumPy - 科学计算软件包，强大的矩阵处理能力。（科学计算）**\n",
    "**Pandas - 基于 NumPy, 更加强大方便易用的矩阵运算功能。（数据分析）**\n",
    "Scikit-Learn - 包含了各种机器学习算法。\n",
    "Keras - 包含了各种神经网络算法，可以满足各种数据分类，聚类需求。\n",
    "Matplotlib - 强大的绘图软件包，可以绘制各种各样的图表。\n",
    "\n",
    "## NumPy 和 Pandas 基础入门\n",
    "\n",
    "### NumPy 数值计算包( Numerical Python )\n",
    "\n",
    "数据分析的基础是数据，原始数据应该在计算机中会以某种数据结构进行存储，后续的分析操作都是在基于这些数据结构进行的。比较容易能想到，我们分析的数据大多都是数据都是二维的，有行和列之分，这样的数据刚开始可能存储在 Excel 或者 数据库表之中。那么在 Python 中有没有什么软件包可以很方便的处理这种二维数据或者更多维的数据呢？ 那就是 NumPy。\n",
    "\n",
    "NumPy 提供了对多维数组（矩阵）的高效支持，同时还有以下优点：\n",
    "\n",
    "- Ndarray, 核心数据结构，支持矢量运算的多维数组，在内存中进行连续存储。\n",
    "- 各种操作多维数组的函数。\n",
    "- 用于集成其他编程语言的各种接口。\n",
    "\n",
    "NumPy 本身没有提供高级的数据分析功能，但理解 NumPy 数组以及面向数组的各种计算有助于更加高效使用其他数据分析工具。\n",
    "\n",
    "\n",
    "#### 笔记汇总\n",
    "- random = np.random.random(12) #返回随机的浮点数，在半开区间 [0.0, 1.0)\n",
    "- randn = np.random.randn(12) #返回一个样本，具有标准正态分布\n",
    "- rand = np.random.rand(12) #0-1之间的随机值\n",
    "\n",
    "#### 多维的创建\n",
    "\n",
    "NumPy 的主要对象是多维数组 Ndarray。在 NumPy 中维度 Dimensions 叫做轴 Axes，轴的个数叫做秩 Rank。\n",
    "\n",
    "NumPy 的核心是多维数组，是通过 **Ndarray对象**做到的，Ndarray 对象是一个灵活的数据容器，可以基于此容器对数据进行各种运算。\n",
    "\n",
    "下面我们开始尝试创建一个多维数组："
   ]
  },
  {
   "cell_type": "code",
   "execution_count": 50,
   "metadata": {},
   "outputs": [
    {
     "name": "stdout",
     "output_type": "stream",
     "text": [
      "数组类型 <class 'numpy.ndarray'>\n",
      "数组a1：[1 2 3 4]，元素个数：4，形状：(4,)，元素类型：int64\n",
      "数组a2：[[1.  2.5 3. ]\n",
      " [0.5 4.  9. ]]，元素个数：6，形状：(2, 3)，元素类型：float64，最小值：0.5\n"
     ]
    }
   ],
   "source": [
    "import numpy as np\n",
    "\n",
    "a1 = np.array([1,2,3,4]) # a1 为一维数组\n",
    "a2 = np.array([[1.0, 2.5, 3], [0.5, 4, 9]]) # a2 为二维数组  \n",
    "print(\"数组类型\",type(a1))\n",
    "print(\"数组a1：{}，元素个数：{}，形状：{}，元素类型：{}\".format(a1,a1.size,a1.shape,a1.dtype))\n",
    "print(\"数组a2：{}，元素个数：{}，形状：{}，元素类型：{}，最小值：{}\".format(a2,a2.size,a2.shape,a2.dtype,a2.min()))\n"
   ]
  },
  {
   "cell_type": "markdown",
   "metadata": {},
   "source": [
    "二维数组可以想象到类似于 Excel 表中的数据，有行列之分。\n",
    "比如 a2.shape 输出为 (2, 3), 代表其是一个 2 行 3 列的数组。\n",
    "\n",
    "**ndarray对象的属性**\n",
    "- ndarray.shape 属性:数组每一维度的数量\n",
    "- ndarray.size 属性:数组的元素个数\n",
    "- ndarray.dtype 属性:数组内部存储的元素是什么类型，NumPy 支持常见的类型，如浮点数，整数，布尔值，字符串，Python 对象。\n",
    "- ndarray.ndim 属性：数组的维度\n",
    "\n",
    "**NumPy 创建多维数组的多种方法：**\n",
    "\n",
    "- np.arange 类似于 Python 内置的 range，**只能创建一维数组**；\n",
    "- np.ones 创建元素值全部为 1 的数组；\n",
    "- np.zeros 创建元素值全为 0 的数组；\n",
    "- np.empty 创建空值多维数组，只分配内存，不填充任何值；\n",
    "- np.random.random 创建元素值为随机值的多维数组；\n",
    "- ndarray.reshape()方法 **Ndarray 对象变形为其他维度的数组。**\n",
    "\n",
    "以上全部函数都能接收一个 **dtype 参数，用于指定多维数组元素的类型**,当没有指定 dtype 类型时，多维数组元素类型默认是 float64。\n",
    "\n",
    "而**后四个函数需要通过元组指定创建的数组形状**，比如 (2, 3) 指定创建数组为 2 行 3 列。当然 NumPy 既然支持多维数组，所以也可以创建三维，四维数组，只需要设置指定形状的元组长度为 3 和 4 即可。"
   ]
  },
  {
   "cell_type": "code",
   "execution_count": 124,
   "metadata": {},
   "outputs": [
    {
     "name": "stdout",
     "output_type": "stream",
     "text": [
      "创建一维数组 a1：\n",
      "[0 1 2 3],形状(4,),维度1\n",
      "创建全1多维数组 a2：\n",
      "[[1]],形状(1, 1),维度2\n",
      "创建全0多维数组 a3：\n",
      "[[0.]],形状(1, 1),维度2\n",
      "创建空值多维数组 a4：\n",
      ",[[[0.25870215 0.97813135 0.79677502]\n",
      "  [0.82393487 0.37434024 0.20564079]]\n",
      "\n",
      " [[0.40734655 0.1069179  0.95287998]\n",
      "  [0.62247647 0.8031988  0.48227335]]],形状(2, 2, 3),维度3\n",
      "创建随机多维数组 a5：\n",
      ",[[[[0.69337128 0.80511823]]\n",
      "\n",
      "  [[0.65205803 0.20624037]]\n",
      "\n",
      "  [[0.90797084 0.19481924]]]\n",
      "\n",
      "\n",
      " [[[0.28305176 0.3232837 ]]\n",
      "\n",
      "  [[0.42997933 0.79801762]]\n",
      "\n",
      "  [[0.54975409 0.63402116]]]],形状(2, 3, 1, 2),维度4\n",
      "变形前数组 a6：\n",
      ",[ 0  1  2  3  4  5  6  7  8  9 10 11],形状(12,),维度1\n",
      "变形后数组 a6：\n",
      ",[[ 0  1  2]\n",
      " [ 3  4  5]\n",
      " [ 6  7  8]\n",
      " [ 9 10 11]],形状(4, 3),维度2\n"
     ]
    }
   ],
   "source": [
    "a1 = np.arange(4)\n",
    "print(\"创建一维数组 a1：\\n{},形状{},维度{}\".format(a1,a1.shape,a1.ndim))\n",
    "a2 = np.ones((1,1), dtype=np.int64)\n",
    "print(\"创建全1多维数组 a2：\\n{},形状{},维度{}\".format(a2,a2.shape,a2.ndim))\n",
    "a3 = np.zeros((1,1))\n",
    "print(\"创建全0多维数组 a3：\\n{},形状{},维度{}\".format(a3,a3.shape,a3.ndim))\n",
    "a4 = np.empty((2,2,3))\n",
    "print(\"创建空值多维数组 a4：\\n,{},形状{},维度{}\".format(a4,a4.shape,a4.ndim))\n",
    "a5 = np.random.random((2,3,1,2))\n",
    "print(\"创建随机多维数组 a5：\\n,{},形状{},维度{}\".format(a5,a5.shape,a5.ndim))\n",
    "a6 = np.arange(12)\n",
    "print(\"变形前数组 a6：\\n,{},形状{},维度{}\".format(a6,a6.shape,a6.ndim))\n",
    "a7 = a6.reshape(4, 3)\n",
    "print(\"变形后数组 a6：\\n,{},形状{},维度{}\".format(a7,a7.shape,a7.ndim))"
   ]
  },
  {
   "cell_type": "markdown",
   "metadata": {},
   "source": [
    "#### 多维数组索引\n",
    "\n",
    "在 Python 中一个列表，可以非常灵活的使用 : 切片选择部分元素：\n",
    "\n",
    "#### python 切片\n",
    "\n",
    "先创建了一个列表，然后通过切片选择部分列表元素，几种切片用法含义如下，\n",
    "\n",
    "\n",
    "- l[:2] 选择列表中前 2 个元素；\n",
    "- l[2:4] 选择列表的第 3，4 元素；\n",
    "- l[1:5:2] 选择列表的第 1 个到第 4 个元素，且步长为 2。\n",
    "\n",
    "注意，**左闭右开**，列表的索引都是从 0 开始的。"
   ]
  },
  {
   "cell_type": "code",
   "execution_count": 72,
   "metadata": {},
   "outputs": [
    {
     "name": "stdout",
     "output_type": "stream",
     "text": [
      "[1, 2]\n",
      "[3, 4]\n",
      "[2, 4]\n"
     ]
    }
   ],
   "source": [
    "l = [1, 2, 3, 4, 5]\n",
    "\n",
    "print(l[:2])\n",
    "print(l[2:4])\n",
    "print(l[1:5:2])"
   ]
  },
  {
   "cell_type": "markdown",
   "metadata": {},
   "source": [
    "在 NumPy 中的多维数组中，也支持类似于上面的索引方式。\n",
    "\n",
    "#### 一维数组切片\n",
    "\n",
    "和 Python 列表的工作方式完全一样，当然多维数组的切片比 Python 列表切片还要强大的多，**因为通过切片可以进行赋值操作，一次性改变数组中的多个元素**"
   ]
  },
  {
   "cell_type": "code",
   "execution_count": 78,
   "metadata": {},
   "outputs": [
    {
     "name": "stdout",
     "output_type": "stream",
     "text": [
      "原数组 [ 0  1  2  3  4  5  6  7  8  9 10 11]\n",
      "[1 2 3]\n",
      "[1 3 5 7 9]\n",
      "[1 1 1 1 1]\n",
      "赋值后数组 [ 0  1  2  1  4  1  6  1  8  1 10 11]\n"
     ]
    }
   ],
   "source": [
    "a1 = np.arange(12)\n",
    "print(\"原数组\",a1)\n",
    "print(a1[1:4])\n",
    "print(a1[1:10:2])\n",
    "a1[1:10:2] = 1\n",
    "print(a1[1:10:2])\n",
    "print(\"赋值后数组\",a1)"
   ]
  },
  {
   "cell_type": "markdown",
   "metadata": {},
   "source": [
    "#### 多维数组切片\n",
    "\n",
    "对于二维数组，每个索引值对应的元素不再是一个值，而是一个一维数组；\n",
    "可以通过 a[x, y] 的方式进行索引"
   ]
  },
  {
   "cell_type": "code",
   "execution_count": 126,
   "metadata": {},
   "outputs": [
    {
     "name": "stdout",
     "output_type": "stream",
     "text": [
      "<class 'numpy.ndarray'>\n",
      "原数组\n",
      " [[ 0  1  2  3]\n",
      " [ 4  5  6  7]\n",
      " [ 8  9 10 11]] \n",
      " 形状：(3, 4) 维度：2\n",
      "取第一行\n",
      " [0 1 2 3] 形状：(4,) 维度：1\n",
      "取第一列\n",
      " [0 4 8] 形状：(3,) 维度：1\n",
      "取前两行\n",
      " [[0 1 2 3]\n",
      " [4 5 6 7]] 形状：(2, 4) 维度：2\n",
      "取前两列\n",
      " [[0 1]\n",
      " [4 5]\n",
      " [8 9]] 形状：(2, 4) 维度：2\n"
     ]
    }
   ],
   "source": [
    "a = np.arange(12).reshape(3, 4)\n",
    "print(type(a))\n",
    "print(\"原数组\\n {} \\n 形状：{} 维度：{}\".format(a,a.shape,a.ndim))\n",
    "print(\"取第一行\\n {} 形状：{} 维度：{}\".format(a[0],a[0].shape,a[0].ndim)) \n",
    "print(\"取第一列\\n {} 形状：{} 维度：{}\".format(a[:,0],a[:,0].shape,a[:,0].ndim))\n",
    "print(\"取前两行\\n {} 形状：{} 维度：{}\".format(a[0:2],a[0:2].shape,a[0:2].ndim)) \n",
    "print(\"取前两列\\n {} 形状：{} 维度：{}\".format(a[:,:2],a[0:2].shape,a[0:2].ndim))"
   ]
  },
  {
   "cell_type": "markdown",
   "metadata": {},
   "source": [
    "注意：单独一个冒号表示选择整个轴上的数组。"
   ]
  },
  {
   "cell_type": "code",
   "execution_count": 120,
   "metadata": {},
   "outputs": [
    {
     "name": "stdout",
     "output_type": "stream",
     "text": [
      "[[0 1 2]\n",
      " [3 4 5]\n",
      " [6 7 8]] 维度： 2\n",
      "切片1:[[1 2]\n",
      " [4 5]],维度：2,形状：(2, 2)\n",
      "切片2:[6 7 8],维度：1,形状：(3,)\n",
      "切片3:[6 7 8],维度：1,形状：(3,)\n",
      "切片4:[[6 7 8]],维度：2,形状：(1, 3)\n"
     ]
    }
   ],
   "source": [
    "a = np.arange(9)\n",
    "a = a.reshape((3,3))\n",
    "print(a,'维度：',a.ndim)\n",
    "q1 = a[:2,1:]\n",
    "print('切片1:{},维度：{},形状：{}'.format(q1,q1.ndim,q1.shape))\n",
    "q2= a[2]\n",
    "print('切片2:{},维度：{},形状：{}'.format(q2,q2.ndim,q2.shape))\n",
    "q3= a[2,:]\n",
    "print('切片3:{},维度：{},形状：{}'.format(q3,q3.ndim,q3.shape))\n",
    "q4= a[2:,:]\n",
    "print('切片4:{},维度：{},形状：{}'.format(q4,q4.ndim,q4.shape))"
   ]
  },
  {
   "cell_type": "markdown",
   "metadata": {},
   "source": [
    "切片3 `a[2,:]` 和切片4 `a[2:,:]` 数字一样，但最大的区别在于：**维度不同，切片3获取的是一维数组，切片4获取的是二维数组**\n",
    "\n",
    "\n",
    "对于三维数组，每个索引值对应的元素不再是一维数组，而是一个二维数组；三维数组可以通过 a[x, y, z] 的方式进行\n",
    "\n",
    "三维数组可以想象成一张表上面叠了一张表,3x3x3理解成魔方\n",
    "\n",
    "一个 2x2x3 的数组\n",
    "\n",
    "- 2：Z轴：厚度\n",
    "- 2：X轴：行数\n",
    "- 3：Y轴：列数"
   ]
  },
  {
   "cell_type": "code",
   "execution_count": 138,
   "metadata": {},
   "outputs": [
    {
     "name": "stdout",
     "output_type": "stream",
     "text": [
      "元组：\n",
      "[[[ 0  1  2]\n",
      "  [ 3  4  5]]\n",
      "\n",
      " [[ 6  7  8]\n",
      "  [ 9 10 11]]]\n",
      " 维度：3,形状：(2, 2, 3)\n",
      "切片1，切第一张表:\n",
      "[[0 1 2]\n",
      " [3 4 5]],维度：2,形状：(2, 3)\n",
      "切片2，切第二张表:\n",
      "[[ 6  7  8]\n",
      " [ 9 10 11]],维度：2,形状：(2, 3)\n",
      "切片3:[[[0 1 2]]\n",
      "\n",
      " [[6 7 8]]],维度：3,形状：(2, 1, 3)\n",
      "切片4:[[[0 1]]\n",
      "\n",
      " [[6 7]]],维度：3,形状：(2, 1, 2)\n"
     ]
    }
   ],
   "source": [
    "a = np.arange(12).reshape((2,2,3))\n",
    "print('元组：\\n{}\\n 维度：{},形状：{}'.format(a,a.ndim,a.shape))\n",
    "q1 = a[0]\n",
    "print('切片1，切第一张表:\\n{},维度：{},形状：{}'.format(q1,q1.ndim,q1.shape))\n",
    "q2= a[1]\n",
    "print('切片2，切第二张表:\\n{},维度：{},形状：{}'.format(q2,q2.ndim,q2.shape))\n",
    "q3= a[:2,:1]\n",
    "print('切片3:{},维度：{},形状：{}'.format(q3,q3.ndim,q3.shape))\n",
    "q4= a[:2,:1,:2]\n",
    "print('切片4:{},维度：{},形状：{}'.format(q4,q4.ndim,q4.shape))"
   ]
  },
  {
   "cell_type": "markdown",
   "metadata": {},
   "source": [
    "#### 多维数组基础运算\n",
    "\n",
    "基础运算一般包括加减乘除，而这些 NumPy 都有很好的支持。在 Python 自带的列表中，如果想使列表（数组）中每一个元素都加上同一个数，需要通过遍历实现，但是在 NumPy 中则异常简单，和普通的加法语法一样简洁："
   ]
  },
  {
   "cell_type": "code",
   "execution_count": 147,
   "metadata": {},
   "outputs": [
    {
     "name": "stdout",
     "output_type": "stream",
     "text": [
      "数组：\n",
      " [[ 0  1  2  3]\n",
      " [ 4  5  6  7]\n",
      " [ 8  9 10 11]]\n",
      "数组加一：\n",
      " [[ 1  2  3  4]\n",
      " [ 5  6  7  8]\n",
      " [ 9 10 11 12]]\n",
      "数组翻倍：\n",
      " [[ 2  4  6  8]\n",
      " [10 12 14 16]\n",
      " [18 20 22 24]]\n"
     ]
    }
   ],
   "source": [
    "a = np.arange(12).reshape(3, 4)\n",
    "print('数组：\\n',a)\n",
    "a += 1\n",
    "print('数组加一：\\n',a)\n",
    "a *= 2\n",
    "print('数组翻倍：\\n',a)"
   ]
  },
  {
   "cell_type": "markdown",
   "metadata": {},
   "source": [
    "多维数组和数字（标量）间的运算非常简单，同样多维数组间的运算也非常容易："
   ]
  },
  {
   "cell_type": "code",
   "execution_count": 150,
   "metadata": {},
   "outputs": [
    {
     "name": "stdout",
     "output_type": "stream",
     "text": [
      "数组：\n",
      " [[0 1]\n",
      " [2 3]]\n",
      "数组：\n",
      " [[4 5]\n",
      " [6 7]]\n",
      "两个数组相加：\n",
      " [[ 4  6]\n",
      " [ 8 10]]\n",
      "两个数组相减：\n",
      " [[4 4]\n",
      " [4 4]]\n",
      "两个数组相乘：\n",
      " [[ 0  5]\n",
      " [12 21]]\n"
     ]
    }
   ],
   "source": [
    "a = np.arange(4).reshape(2, 2)\n",
    "b = np.arange(4, 8).reshape(2, 2)\n",
    "print('数组：\\n',a)\n",
    "print('数组：\\n',b)\n",
    "print('两个数组相加：\\n',a + b)\n",
    "print('两个数组相减：\\n',b - a)\n",
    "print('两个数组相乘：\\n',a * b)\n"
   ]
  },
  {
   "cell_type": "markdown",
   "metadata": {},
   "source": [
    "可以看到多维数组间的运算规则是**相同位置（坐标）上的值进行运算**得到最终结果。\n",
    "Numpy 的线性代数中所不同的是 * 是矩阵的逐元素乘积，而不是矩阵的点乘积\n",
    "\n",
    "需要注意的是，多维数组的组织方式和矩阵相同，但其乘法的运算规则却和矩阵的运算规则不同，如果想对 Ndarray 对象使用矩阵的乘法运算规则，可以使用 ndarray.dot 方法，比如计算上面演示代码中 a 和 b 的矩阵乘法结果："
   ]
  },
  {
   "cell_type": "code",
   "execution_count": 151,
   "metadata": {},
   "outputs": [
    {
     "data": {
      "text/plain": [
       "array([[ 6,  7],\n",
       "       [26, 31]])"
      ]
     },
     "execution_count": 151,
     "metadata": {},
     "output_type": "execute_result"
    }
   ],
   "source": [
    "a.dot(b)"
   ]
  },
  {
   "cell_type": "markdown",
   "metadata": {},
   "source": [
    "多维数组还支持逻辑比较运算，比如我们想知道一个多维数组中哪些值大于某一个指定值？典型的做法是通过循环实现，但是在 NumPy 中却可以直接通过比较实现："
   ]
  },
  {
   "cell_type": "code",
   "execution_count": 158,
   "metadata": {},
   "outputs": [
    {
     "name": "stdout",
     "output_type": "stream",
     "text": [
      "元组：\n",
      "[[ 0  1  2]\n",
      " [ 3  4  5]\n",
      " [ 6  7  8]\n",
      " [ 9 10 11]]\n",
      " 维度：2,形状：(4, 3)\n",
      "[[False False False]\n",
      " [False False False]\n",
      " [ True  True  True]\n",
      " [ True  True  True]]\n",
      "[ 6  7  8  9 10 11]\n"
     ]
    }
   ],
   "source": [
    "a = np.arange(12).reshape(4, 3)\n",
    "print('元组：\\n{}\\n 维度：{},形状：{}'.format(a,a.ndim,a.shape))\n",
    "b = a > 5\n",
    "print(b)\n",
    "print(a[b])"
   ]
  },
  {
   "cell_type": "markdown",
   "metadata": {},
   "source": [
    "首先通过 a > 5 生成了一个形状和 a 一致的多维数组，所有为 True 的元素的位置在 a 中的值都大于 5。然后就可以使用 a[b] 这种形式列出 a 中所有大于 5 的元素。\n",
    "\n",
    "**NumPy 的多维数组还有一些方法**，可以用于统计数组中一些统计量，假如 a 为一个多维数组，则\n",
    "\n",
    "- a.sum() 计算多维数组的所有元素的和；\n",
    "- a.max() 最大值计算；\n",
    "- a.min() 最小值计算；\n",
    "- a.mean() 平均值计算；\n",
    "- a.std() 标准差计算；\n",
    "- a.var() 方差计算；\n",
    "\n",
    "以上所有方法，都可以接受一个 axis 参数，用于指定具体统计哪根轴上的数据。\n",
    "\n",
    "比如二维数组，可以理解为有 x, y 两根轴，分别代表行和列，指定 axis=0 时代表分别统计每列上的数据，axis=1 时，代表分别统计每一行上的数据。没有指定axis 参数时，代表统计所有元素。"
   ]
  },
  {
   "cell_type": "code",
   "execution_count": 160,
   "metadata": {},
   "outputs": [
    {
     "name": "stdout",
     "output_type": "stream",
     "text": [
      "元组：\n",
      "[[ 0  1  2]\n",
      " [ 3  4  5]\n",
      " [ 6  7  8]\n",
      " [ 9 10 11]]\n",
      " 维度：2,形状：(4, 3)\n",
      "66\n",
      "[18 22 26]\n",
      "[ 3 12 21 30]\n"
     ]
    }
   ],
   "source": [
    "a = np.arange(12).reshape(4, 3)\n",
    "print('元组：\\n{}\\n 维度：{},形状：{}'.format(a,a.ndim,a.shape))\n",
    "print(a.sum())\n",
    "print(a.sum(axis=0))\n",
    "print(a.sum(axis=1))"
   ]
  },
  {
   "cell_type": "markdown",
   "metadata": {},
   "source": [
    "可以看到，a.sum(axis=0) 统计了每一列的和，并生成了一个一纬度数组，而 a.sum(axis=1) 则分别统计了行的和。\n",
    "\n",
    "除了 Ndarray 多维数组对象自己的方法外，NumPy 还自带了一些通用函数，可以进行各种计算：\n",
    "\n",
    "- np.sqrt 开方运算；\n",
    "- np.dot 矩阵乘法；\n",
    "- np.sort 排序；\n",
    "- np.linalg 模块中包含了一些基本的线性代数计算函数；\n",
    "\n",
    "## Pandas 数据处理包\n",
    "\n",
    "在数据分析中，我们更多的针对表格数据进行处理，也就是 NumPy 中的二维数组数据，尽管 NumPy 对于多维数组的支持已经足够强大，但 Pandas 处理这些二维数据时更加得心应手。Pandas 建立在 NumPy 基础之上，但增加了更加高级实用的功能，比如数据自动对齐功能，时间序列的支持，缺失数据的灵活处理等等。\n",
    "\n",
    "Pandas 是用来处理表格型和异质型数据。而 Numpy 更适合处理同质型的数值类数组数据。\n",
    "\n",
    "先导入\n",
    "```\n",
    "import pandas as pd\n",
    "from pandas import Series,DataFrame\n",
    "```\n",
    "\n",
    "**Pandas 数据结构**\n",
    "\n",
    "**Series 和 DataFrame 是 Pandas 中的两种核心数据结构**，大部分 Pandas 的功能都围绕着两种数据结构进行。\n",
    "\n",
    "#### Series\n",
    "Series 是一种一维的数组型对象，它包含一个值序列，并且包含了数据标签，即索引。索引可以定制，当不指定时默认使用整数索引，而且索引可以被命名："
   ]
  },
  {
   "cell_type": "code",
   "execution_count": 163,
   "metadata": {},
   "outputs": [
    {
     "name": "stdout",
     "output_type": "stream",
     "text": [
      "0    1\n",
      "1    2\n",
      "2    3\n",
      "3    4\n",
      "4    5\n",
      "dtype: int64\n",
      "a    1\n",
      "b    2\n",
      "c    3\n",
      "d    4\n",
      "e    5\n",
      "dtype: int64\n",
      "Index(['a', 'b', 'c', 'd', 'e'], dtype='object', name='index')\n"
     ]
    }
   ],
   "source": [
    "import pandas as pd\n",
    "\n",
    "s1 = pd.Series([1, 2, 3, 4, 5])\n",
    "s2 = pd.Series([1, 2, 3, 4, 5], index=['a', 'b', 'c', 'd', 'e'])\n",
    "print(s1)\n",
    "print(s2)\n",
    "\n",
    "s2.index.name = 'index'\n",
    "print(s2.index)"
   ]
  },
  {
   "cell_type": "markdown",
   "metadata": {},
   "source": [
    "以上代码中先后创建了 s1 和 s2 两个序列，前一个使用了默认的整数索引，后一个使用了我们指定的字符索引，同时还可以对索引进行命名。\n",
    "\n",
    "###### 构建 Series\n",
    "\n",
    "可以将 python 中的字典生产一个 Series"
   ]
  },
  {
   "cell_type": "code",
   "execution_count": 237,
   "metadata": {},
   "outputs": [
    {
     "data": {
      "text/plain": [
       "user_id    18\n",
       "course     45\n",
       "minutes     9\n",
       "dtype: int64"
      ]
     },
     "execution_count": 237,
     "metadata": {},
     "output_type": "execute_result"
    }
   ],
   "source": [
    "import pandas as pd\n",
    "data = {'user_id': 18, 'course': 45, 'minutes': 9}\n",
    "df2 = pd.Series(data)\n",
    "df2"
   ]
  },
  {
   "cell_type": "markdown",
   "metadata": {},
   "source": [
    "#### DataFrame\n",
    "\n",
    "##### 构建 DataFrame\n",
    "多种方式可以构建 DataFrame，其中最常用的方式\n",
    "\n",
    "- 包含等长度列表的字典(值必须是列表)\n",
    "- 包含等长度 Numpy 数组的字典"
   ]
  },
  {
   "cell_type": "code",
   "execution_count": 235,
   "metadata": {},
   "outputs": [
    {
     "data": {
      "text/html": [
       "<div>\n",
       "<style scoped>\n",
       "    .dataframe tbody tr th:only-of-type {\n",
       "        vertical-align: middle;\n",
       "    }\n",
       "\n",
       "    .dataframe tbody tr th {\n",
       "        vertical-align: top;\n",
       "    }\n",
       "\n",
       "    .dataframe thead th {\n",
       "        text-align: right;\n",
       "    }\n",
       "</style>\n",
       "<table border=\"1\" class=\"dataframe\">\n",
       "  <thead>\n",
       "    <tr style=\"text-align: right;\">\n",
       "      <th></th>\n",
       "      <th>user_id</th>\n",
       "      <th>course</th>\n",
       "      <th>minutes</th>\n",
       "      <th>name</th>\n",
       "    </tr>\n",
       "  </thead>\n",
       "  <tbody>\n",
       "    <tr>\n",
       "      <th>0</th>\n",
       "      <td>5348</td>\n",
       "      <td>12</td>\n",
       "      <td>9</td>\n",
       "      <td>Linux 基础入门</td>\n",
       "    </tr>\n",
       "    <tr>\n",
       "      <th>1</th>\n",
       "      <td>13</td>\n",
       "      <td>45</td>\n",
       "      <td>36</td>\n",
       "      <td>数据分析</td>\n",
       "    </tr>\n",
       "  </tbody>\n",
       "</table>\n",
       "</div>"
      ],
      "text/plain": [
       "   user_id  course  minutes        name\n",
       "0     5348      12        9  Linux 基础入门\n",
       "1       13      45       36        数据分析"
      ]
     },
     "execution_count": 235,
     "metadata": {},
     "output_type": "execute_result"
    }
   ],
   "source": [
    "data = {'user_id': [5348, 13], 'course': [12, 45], 'minutes': [9, 36],\n",
    "        'name': ['Linux 基础入门', '数据分析']}\n",
    "df2 = pd.DataFrame(data)\n",
    "df2"
   ]
  },
  {
   "cell_type": "code",
   "execution_count": null,
   "metadata": {},
   "outputs": [],
   "source": [
    "# 会报错\n",
    "data = {'user_id': 18, 'course': 45, 'minutes': 9}\n",
    "df2 = pd.DataFrame(data)\n",
    "print(df2)"
   ]
  },
  {
   "cell_type": "code",
   "execution_count": 236,
   "metadata": {},
   "outputs": [
    {
     "data": {
      "text/html": [
       "<div>\n",
       "<style scoped>\n",
       "    .dataframe tbody tr th:only-of-type {\n",
       "        vertical-align: middle;\n",
       "    }\n",
       "\n",
       "    .dataframe tbody tr th {\n",
       "        vertical-align: top;\n",
       "    }\n",
       "\n",
       "    .dataframe thead th {\n",
       "        text-align: right;\n",
       "    }\n",
       "</style>\n",
       "<table border=\"1\" class=\"dataframe\">\n",
       "  <thead>\n",
       "    <tr style=\"text-align: right;\">\n",
       "      <th></th>\n",
       "      <th>user_id</th>\n",
       "      <th>course</th>\n",
       "      <th>minutes</th>\n",
       "    </tr>\n",
       "  </thead>\n",
       "  <tbody>\n",
       "    <tr>\n",
       "      <th>0</th>\n",
       "      <td>18</td>\n",
       "      <td>45</td>\n",
       "      <td>9</td>\n",
       "    </tr>\n",
       "  </tbody>\n",
       "</table>\n",
       "</div>"
      ],
      "text/plain": [
       "   user_id  course  minutes\n",
       "0       18      45        9"
      ]
     },
     "execution_count": 236,
     "metadata": {},
     "output_type": "execute_result"
    }
   ],
   "source": [
    "data = {'user_id': [18], 'course': [45], 'minutes': [9]}\n",
    "df2 = pd.DataFrame(data)\n",
    "df2"
   ]
  },
  {
   "cell_type": "markdown",
   "metadata": {},
   "source": [
    "DataFrame 类似于二维数组，有行和列之分，除了像 Series 一样，有行索引(索引)，还有列索引(标签)， 索引和标签本身都可以被命名："
   ]
  },
  {
   "cell_type": "code",
   "execution_count": 165,
   "metadata": {},
   "outputs": [
    {
     "name": "stdout",
     "output_type": "stream",
     "text": [
      "          A         B         C         D\n",
      "a  0.600640  0.746567 -0.950464  0.737955\n",
      "b -0.247863 -0.090398 -0.560119  1.028355\n",
      "c  0.488864 -0.681151  0.659460 -0.175408\n",
      "d  0.734673 -0.021465  0.669401 -2.165050\n",
      "Index(['a', 'b', 'c', 'd'], dtype='object')\n",
      "Index(['A', 'B', 'C', 'D'], dtype='object')\n"
     ]
    }
   ],
   "source": [
    "df = pd.DataFrame(np.random.randn(4, 4), index=['a', 'b', 'c', 'd'], columns=['A', 'B', 'C', 'D'])\n",
    "print(df)\n",
    "print(df.index)\n",
    "print(df.columns)"
   ]
  },
  {
   "cell_type": "markdown",
   "metadata": {},
   "source": [
    "上面的代码中，通过指定索引和标签（columns 参数）创建了一个 DataFrame 实例。\n",
    "\n",
    "- df.index 所有索引(行)\n",
    "- df.columns 所有列标签\n",
    "\n",
    "类似于 NumPy 数组，当生成了 Series 和 DataFrame 数据时，我们怎么选择其中的部分数据呢？\n",
    "\n",
    "#### 选择 Series 数据\n",
    "对于 Series 数据来说，主要通过其索引来进行选择。由于 Series 是一种一维的数组型对象，它只有行\n",
    "\n",
    "- 默认的整数索引 `s2[0]  \\ s2.iloc[0]`\n",
    "- 指定的字符索引 `s2['a'] \\ s2.loc['a']`\n",
    "\n",
    "其实整数索引和字符索引，分别调用了 s2.iloc 和 s2.loc 索引\n",
    "\n",
    "```\n",
    "print(s2[0])\n",
    "print(s2['a'])\n",
    "print(s2[0:3])\n",
    "print(s2['a':'c'])\n",
    "```\n",
    "\n",
    "两者等价\n",
    "\n",
    "```\n",
    "print(s2.iloc[0])\n",
    "print(s2.loc['a'])\n",
    "print(s2.iloc[0:3])\n",
    "print(s2.loc['a':'c'])\n",
    "```"
   ]
  },
  {
   "cell_type": "code",
   "execution_count": 167,
   "metadata": {},
   "outputs": [
    {
     "name": "stdout",
     "output_type": "stream",
     "text": [
      "a    1\n",
      "b    2\n",
      "c    3\n",
      "d    4\n",
      "e    5\n",
      "dtype: int64\n",
      "1\n",
      "1\n",
      "a    1\n",
      "b    2\n",
      "c    3\n",
      "dtype: int64\n",
      "a    1\n",
      "b    2\n",
      "c    3\n",
      "dtype: int64\n"
     ]
    }
   ],
   "source": [
    "s2 = pd.Series([1, 2, 3, 4, 5], index=['a', 'b', 'c', 'd', 'e'])\n",
    "print(s2)\n",
    "print(s2[0])\n",
    "print(s2['a'])\n",
    "print(s2[0:3])\n",
    "print(s2['a':'c'])"
   ]
  },
  {
   "cell_type": "code",
   "execution_count": 168,
   "metadata": {
    "scrolled": true
   },
   "outputs": [
    {
     "name": "stdout",
     "output_type": "stream",
     "text": [
      "a    1\n",
      "b    2\n",
      "c    3\n",
      "d    4\n",
      "e    5\n",
      "dtype: int64\n",
      "1\n",
      "1\n",
      "a    1\n",
      "b    2\n",
      "c    3\n",
      "dtype: int64\n",
      "a    1\n",
      "b    2\n",
      "c    3\n",
      "dtype: int64\n"
     ]
    }
   ],
   "source": [
    "s2 = pd.Series([1, 2, 3, 4, 5], index=['a', 'b', 'c', 'd', 'e'])\n",
    "print(s2)\n",
    "print(s2.iloc[0])\n",
    "print(s2.loc['a'])\n",
    "print(s2.iloc[0:3])\n",
    "print(s2.loc['a':'c'])"
   ]
  },
  {
   "cell_type": "markdown",
   "metadata": {},
   "source": [
    "#### 选择 DataFrame 数据\n",
    "\n",
    "对于 DataFrame 数据来说，由于有行列之分，所以可以有多种选择数据的方式，比如通过索引(行)或者标签(列)来选择。\n",
    "\n",
    "**选择某一列** (按照字典型标记或属性那样检索为 Series)\n",
    "\n",
    "- df.A 的属性方式\n",
    "- df['A'] 的方式\n",
    "\n",
    "**选择多列**\n",
    "- df[df.columns[0:2]]\n",
    "- df[['A','D']]\n",
    "\n",
    "前面我们提到过可以根据 loc 属性来选择某一行，iloc 根据整数索引来选择某一行，这些在 DataFrame 中都是可以的。\n",
    "\n",
    "**选择某一行**\n",
    "- df.iloc[0]\n",
    "- df.loc['a']\n",
    "\n",
    "**选择多行**\n",
    "- df.iloc[0:3]\n",
    "- df.loc['a':'c']\n",
    "\n",
    "df.loc[行index, 列columns] 支持二维的选择，也就是同时选择行和列， : 符号代表选择所有的行。\n",
    "\n",
    "**选择行和列**\n",
    "\n",
    "- df.loc['a', 'A']\n",
    "- df.loc[:, ['B', 'C', 'D']]\n",
    "- df.loc['b':'c', 'B':'C']"
   ]
  },
  {
   "cell_type": "code",
   "execution_count": 238,
   "metadata": {},
   "outputs": [
    {
     "name": "stdout",
     "output_type": "stream",
     "text": [
      "          A         B         C         D\n",
      "a -0.234290  1.847408 -1.690030 -0.423760\n",
      "b  0.703637  0.046140  1.014700 -0.045874\n",
      "c  1.987376  0.412446 -0.433846  0.625316\n",
      "d -0.384901 -1.201812 -0.843589  0.879474\n",
      "选择第一列\n",
      "a   -0.234290\n",
      "b    0.703637\n",
      "c    1.987376\n",
      "d   -0.384901\n",
      "Name: A, dtype: float64 <class 'pandas.core.series.Series'>\n",
      "a   -0.234290\n",
      "b    0.703637\n",
      "c    1.987376\n",
      "d   -0.384901\n",
      "Name: A, dtype: float64 <class 'pandas.core.series.Series'>\n",
      "选择多列\n",
      "          A         B\n",
      "a -0.234290  1.847408\n",
      "b  0.703637  0.046140\n",
      "c  1.987376  0.412446\n",
      "d -0.384901 -1.201812\n",
      "          A         D\n",
      "a -0.234290 -0.423760\n",
      "b  0.703637 -0.045874\n",
      "c  1.987376  0.625316\n",
      "d -0.384901  0.879474\n",
      "选择第一行\n",
      "A   -0.234290\n",
      "B    1.847408\n",
      "C   -1.690030\n",
      "D   -0.423760\n",
      "Name: a, dtype: float64\n",
      "A   -0.234290\n",
      "B    1.847408\n",
      "C   -1.690030\n",
      "D   -0.423760\n",
      "Name: a, dtype: float64\n",
      "选择第多行\n",
      "          A         B         C         D\n",
      "a -0.234290  1.847408 -1.690030 -0.423760\n",
      "b  0.703637  0.046140  1.014700 -0.045874\n",
      "c  1.987376  0.412446 -0.433846  0.625316\n",
      "          A         B         C         D\n",
      "a -0.234290  1.847408 -1.690030 -0.423760\n",
      "b  0.703637  0.046140  1.014700 -0.045874\n",
      "c  1.987376  0.412446 -0.433846  0.625316\n",
      "选择行和列\n",
      "-0.23429034177971927\n",
      "          B         C         D\n",
      "a  1.847408 -1.690030 -0.423760\n",
      "b  0.046140  1.014700 -0.045874\n",
      "c  0.412446 -0.433846  0.625316\n",
      "d -1.201812 -0.843589  0.879474\n",
      "          B         C\n",
      "b  0.046140  1.014700\n",
      "c  0.412446 -0.433846\n"
     ]
    }
   ],
   "source": [
    "df = pd.DataFrame(np.random.randn(4, 4), index=['a', 'b', 'c', 'd'], columns=['A', 'B', 'C', 'D'])\n",
    "print(df)\n",
    "print('选择第一列')\n",
    "print(df.A,type(df.A))\n",
    "print(df['A'],type(df['A']))\n",
    "print('选择多列')\n",
    "print(df[df.columns[0:2]])\n",
    "print(df[['A','D']])\n",
    "print('选择第一行')\n",
    "print(df.iloc[0])\n",
    "print(df.loc['a'])\n",
    "print('选择第多行')\n",
    "print(df.iloc[0:3])\n",
    "print(df.loc['a':'c'])\n",
    "print('选择行和列')\n",
    "print(df.loc['a', 'A'])\n",
    "print(df.loc[:, ['B', 'C', 'D']])\n",
    "print(df.loc['b':'c', 'B':'C'])"
   ]
  },
  {
   "cell_type": "markdown",
   "metadata": {},
   "source": [
    "#### 缺失值和数据自动对齐\n",
    "\n",
    "在 Pandas 中最重要的一个功能是，它可以对不同索引的对象进行算术运算。比如将两个 Series 数据进行相加时，如果存在不同的索引，则结果是两个索引的并集，什么意思呢？"
   ]
  },
  {
   "cell_type": "code",
   "execution_count": 186,
   "metadata": {},
   "outputs": [
    {
     "name": "stdout",
     "output_type": "stream",
     "text": [
      "a    1\n",
      "b    2\n",
      "c    3\n",
      "d    4\n",
      "dtype: int64\n",
      "b    2\n",
      "c    3\n",
      "d    4\n",
      "e    5\n",
      "dtype: int64\n",
      "a    NaN\n",
      "b    4.0\n",
      "c    6.0\n",
      "d    8.0\n",
      "e    NaN\n",
      "dtype: float64\n"
     ]
    }
   ],
   "source": [
    "s1 = pd.Series([1, 2, 3, 4], index=['a', 'b', 'c', 'd'])\n",
    "s2 = pd.Series([2, 3, 4, 5], index=['b', 'c', 'd', 'e'])\n",
    "print(s1)\n",
    "print(s2)\n",
    "print(s1+s2)"
   ]
  },
  {
   "cell_type": "markdown",
   "metadata": {},
   "source": [
    "以上代码中创建了两个 s1 和 s2 两个 Series 序列，两者具有相同的索引 ['b', 'c', 'd'], 所以在进行相加时，相同索引上的值会相加，但不重叠的索引引入 NaN 值，也就是缺失值。而缺失值会在运算中传播，所以最终结果也是 NaN 值。\n",
    "\n",
    "**根据相同的索引进行自动计算，这就是自动对齐功能**\n",
    "\n",
    "同样的规则，在 DataFrame 数据中也生效：行索引和列索引都相同，才会进行相加。"
   ]
  },
  {
   "cell_type": "code",
   "execution_count": 188,
   "metadata": {},
   "outputs": [
    {
     "name": "stdout",
     "output_type": "stream",
     "text": [
      "   A  B  C\n",
      "a  0  1  2\n",
      "b  3  4  5\n",
      "c  6  7  8\n",
      "   A  B   D   E\n",
      "b  0  1   2   3\n",
      "c  4  5   6   7\n",
      "d  8  9  10  11\n",
      "      A     B   C   D   E\n",
      "a   NaN   NaN NaN NaN NaN\n",
      "b   3.0   5.0 NaN NaN NaN\n",
      "c  10.0  12.0 NaN NaN NaN\n",
      "d   NaN   NaN NaN NaN NaN\n"
     ]
    }
   ],
   "source": [
    "df1 = pd.DataFrame(np.arange(9).reshape(3, 3), columns=list('ABC'), index=list('abc'))\n",
    "df2 = pd.DataFrame(np.arange(12).reshape(3, 4), columns=list('ABDE'), index=list('bcd'))\n",
    "print(df1)\n",
    "print(df2)\n",
    "print(df1+df2)"
   ]
  },
  {
   "cell_type": "markdown",
   "metadata": {},
   "source": [
    "##### fill_value 参数指定 NaN 值的填充值\n",
    "\n",
    "DataFrame 的计算也会进行自动对齐操作，这个时候没有的行或者列会使用 NaN 值自动填充，而由于 NaN 值会传播，所以相加的结果也是 NaN。当然我们在计算时，可以指定使用值来填充 NaN 值，然后带入计算过程。"
   ]
  },
  {
   "cell_type": "code",
   "execution_count": 189,
   "metadata": {},
   "outputs": [
    {
     "data": {
      "text/html": [
       "<div>\n",
       "<style scoped>\n",
       "    .dataframe tbody tr th:only-of-type {\n",
       "        vertical-align: middle;\n",
       "    }\n",
       "\n",
       "    .dataframe tbody tr th {\n",
       "        vertical-align: top;\n",
       "    }\n",
       "\n",
       "    .dataframe thead th {\n",
       "        text-align: right;\n",
       "    }\n",
       "</style>\n",
       "<table border=\"1\" class=\"dataframe\">\n",
       "  <thead>\n",
       "    <tr style=\"text-align: right;\">\n",
       "      <th></th>\n",
       "      <th>A</th>\n",
       "      <th>B</th>\n",
       "      <th>C</th>\n",
       "      <th>D</th>\n",
       "      <th>E</th>\n",
       "    </tr>\n",
       "  </thead>\n",
       "  <tbody>\n",
       "    <tr>\n",
       "      <th>a</th>\n",
       "      <td>0.0</td>\n",
       "      <td>1.0</td>\n",
       "      <td>2.0</td>\n",
       "      <td>NaN</td>\n",
       "      <td>NaN</td>\n",
       "    </tr>\n",
       "    <tr>\n",
       "      <th>b</th>\n",
       "      <td>3.0</td>\n",
       "      <td>5.0</td>\n",
       "      <td>5.0</td>\n",
       "      <td>2.0</td>\n",
       "      <td>3.0</td>\n",
       "    </tr>\n",
       "    <tr>\n",
       "      <th>c</th>\n",
       "      <td>10.0</td>\n",
       "      <td>12.0</td>\n",
       "      <td>8.0</td>\n",
       "      <td>6.0</td>\n",
       "      <td>7.0</td>\n",
       "    </tr>\n",
       "    <tr>\n",
       "      <th>d</th>\n",
       "      <td>8.0</td>\n",
       "      <td>9.0</td>\n",
       "      <td>NaN</td>\n",
       "      <td>10.0</td>\n",
       "      <td>11.0</td>\n",
       "    </tr>\n",
       "  </tbody>\n",
       "</table>\n",
       "</div>"
      ],
      "text/plain": [
       "      A     B    C     D     E\n",
       "a   0.0   1.0  2.0   NaN   NaN\n",
       "b   3.0   5.0  5.0   2.0   3.0\n",
       "c  10.0  12.0  8.0   6.0   7.0\n",
       "d   8.0   9.0  NaN  10.0  11.0"
      ]
     },
     "execution_count": 189,
     "metadata": {},
     "output_type": "execute_result"
    }
   ],
   "source": [
    "df1.add(df2,fill_value = 0)"
   ]
  },
  {
   "cell_type": "markdown",
   "metadata": {},
   "source": [
    "我们指定了使用 0 填充 NaN 值，然后带入计算过程，注意这里填充的不是最终的运算结果。可以看到依然有元素为 NaN 值，这是因为这个位置的元素在 df1 和 df2 中都未定义。\n",
    "\n",
    "#### 常用运算\n",
    "\n",
    "DataFrame 数据\n",
    "- df.apply() 将函数应用到每行或者每一列上面\n",
    "- df.applymap() 将某函数应用到每一个元素上\n",
    "\n",
    "Series 数据\n",
    "- s.map() 将某函数应用到每一个元素上\n",
    "\n",
    "Series 和 DataFrame 的常用运算方式和 NumPy 中的差不多，这里就不多做介绍了。在 Pandas 中还有一种比较常见的操作是**将函数应用到每行或者每一列上面，DataFrame 的 apply 方法可以实现此功能**，比如想统计每行和每列的极差（最大值和最小值之差）："
   ]
  },
  {
   "cell_type": "code",
   "execution_count": 194,
   "metadata": {},
   "outputs": [
    {
     "name": "stdout",
     "output_type": "stream",
     "text": [
      "   A  B  C\n",
      "a  0  1  2\n",
      "b  3  4  5\n",
      "c  6  7  8\n",
      "每列的极差\n",
      " A    6\n",
      "B    6\n",
      "C    6\n",
      "dtype: int64\n",
      "行的极差\n",
      " a    2\n",
      "b    2\n",
      "c    2\n",
      "dtype: int64\n"
     ]
    }
   ],
   "source": [
    "df1 = pd.DataFrame(np.arange(9).reshape(3, 3), columns=list('ABC'), index=list('abc'))\n",
    "\n",
    "def f(x): \n",
    "    return x.max() - x.min()\n",
    "\n",
    "print(df1)\n",
    "print('每列的极差\\n',df1.apply(f))\n",
    "print('行的极差\\n',df1.apply(f, axis=1))"
   ]
  },
  {
   "cell_type": "markdown",
   "metadata": {},
   "source": [
    "以上代码中，我们定义了 f 函数，该匿数简单的返回列表的极差，然后首先通过 df.apply(f) 应用 f, 统计出了每列的极差，接着通过传入 axis=1 参数，统计出了每行的极差。\n",
    "\n",
    "DataFrame数据下，函数默认按每列统计，axis=1 时，按行统计。\n",
    "\n",
    "如果想将某函数应用到每一个元素上，对于 DataFrame 数据可使用 df.applymap 方法，而对于 Series 数据可以使用 s.map 方法："
   ]
  },
  {
   "cell_type": "code",
   "execution_count": 197,
   "metadata": {},
   "outputs": [
    {
     "name": "stdout",
     "output_type": "stream",
     "text": [
      "df.applymap(), 将某函数应用到 DataFrame 数据每一个元素上\n",
      "   A  B  C\n",
      "a  0  1  2\n",
      "b  3  4  5\n",
      "c  6  7  8\n",
      "   A  B  C\n",
      "a  1  2  3\n",
      "b  4  5  6\n",
      "c  7  8  9\n",
      "s1.map(), 将某函数用到 Series 数据每一个元素上\n",
      "a    1\n",
      "b    2\n",
      "c    3\n",
      "d    4\n",
      "dtype: int64\n",
      "a    2\n",
      "b    3\n",
      "c    4\n",
      "d    5\n",
      "dtype: int64\n"
     ]
    }
   ],
   "source": [
    "print('df.applymap(), 将某函数应用到 DataFrame 数据每一个元素上')\n",
    "print(df1)\n",
    "print(df1.applymap(lambda x: x+1))\n",
    "print('s1.map(), 将某函数用到 Series 数据每一个元素上')\n",
    "s1 = pd.Series([1, 2, 3, 4], index=['a', 'b', 'c', 'd'])\n",
    "print(s1)\n",
    "print(s1.map(lambda x: x+1))"
   ]
  },
  {
   "cell_type": "markdown",
   "metadata": {},
   "source": [
    "#### 常用统计\n",
    "\n",
    "类似于 NumPy，Series 和 DataFrame 也有各种统计方法，比如求平均值，方差，和等方法，同时通过 describe 方法可以得知当前数据的一些常用统计信息：\n",
    "\n",
    "- DataFrame数据下，函数默认按每列统计，axis=1 时按行统计。\n",
    "- Series数据下，函数默认统计所有元素, axis=0 时按列统计，axis=1 时按行统计。\n",
    "\n",
    "describe 方法显示了一些常用的统计信息，具体解释如下：\n",
    "\n",
    "- count 元素值的数量；\n",
    "- mean 平均值；\n",
    "- std 标准差；\n",
    "- min 最小值；\n",
    "- 25% 下四分位数；\n",
    "- 50% 中位数；\n",
    "- 75% 上四分位数；\n",
    "- max 最大值；"
   ]
  },
  {
   "cell_type": "code",
   "execution_count": 199,
   "metadata": {},
   "outputs": [
    {
     "name": "stdout",
     "output_type": "stream",
     "text": [
      "   A  B  C\n",
      "a  0  1  2\n",
      "b  3  4  5\n",
      "c  6  7  8\n",
      "A     9\n",
      "B    12\n",
      "C    15\n",
      "dtype: int64\n",
      "A    3.0\n",
      "B    4.0\n",
      "C    5.0\n",
      "dtype: float64\n",
      "a    1.0\n",
      "b    4.0\n",
      "c    7.0\n",
      "dtype: float64\n",
      "         A    B    C\n",
      "count  3.0  3.0  3.0\n",
      "mean   3.0  4.0  5.0\n",
      "std    3.0  3.0  3.0\n",
      "min    0.0  1.0  2.0\n",
      "25%    1.5  2.5  3.5\n",
      "50%    3.0  4.0  5.0\n",
      "75%    4.5  5.5  6.5\n",
      "max    6.0  7.0  8.0\n"
     ]
    }
   ],
   "source": [
    "df1 = pd.DataFrame(np.arange(9).reshape(3, 3), columns=list('ABC'), index=list('abc'))\n",
    "print(df1)\n",
    "print(df1.sum())\n",
    "print(df1.mean())\n",
    "print(df1.mean(axis=1))\n",
    "print(df1.describe())"
   ]
  },
  {
   "cell_type": "markdown",
   "metadata": {},
   "source": [
    "#### 数据合并和分组\n",
    "\n",
    "有的时候需要合并两个 DataFrame 数据，合并数据的方式主要有两种，一种简单的进行拼接，另一种是根据列名类像数据库表查询一样进行合并。这两种操作可以分别通过调用 pandas.concat 和 pandas.merge 方法实现，\n",
    "\n",
    "- pandas.concat\n",
    "- pandas.merge"
   ]
  },
  {
   "cell_type": "code",
   "execution_count": 203,
   "metadata": {},
   "outputs": [
    {
     "name": "stdout",
     "output_type": "stream",
     "text": [
      "          0         1         2\n",
      "0 -0.428238  0.503267  0.512574\n",
      "1 -2.359126 -1.109398 -1.176902\n",
      "2 -0.371222  0.568740 -0.422842\n",
      "          0         1         2\n",
      "5 -0.815042  1.042081  0.431211\n",
      "6 -0.065894 -0.086357  0.190419\n",
      "7  0.685030  0.750338  0.162473\n"
     ]
    },
    {
     "data": {
      "text/html": [
       "<div>\n",
       "<style scoped>\n",
       "    .dataframe tbody tr th:only-of-type {\n",
       "        vertical-align: middle;\n",
       "    }\n",
       "\n",
       "    .dataframe tbody tr th {\n",
       "        vertical-align: top;\n",
       "    }\n",
       "\n",
       "    .dataframe thead th {\n",
       "        text-align: right;\n",
       "    }\n",
       "</style>\n",
       "<table border=\"1\" class=\"dataframe\">\n",
       "  <thead>\n",
       "    <tr style=\"text-align: right;\">\n",
       "      <th></th>\n",
       "      <th>0</th>\n",
       "      <th>1</th>\n",
       "      <th>2</th>\n",
       "    </tr>\n",
       "  </thead>\n",
       "  <tbody>\n",
       "    <tr>\n",
       "      <th>0</th>\n",
       "      <td>-0.428238</td>\n",
       "      <td>0.503267</td>\n",
       "      <td>0.512574</td>\n",
       "    </tr>\n",
       "    <tr>\n",
       "      <th>1</th>\n",
       "      <td>-2.359126</td>\n",
       "      <td>-1.109398</td>\n",
       "      <td>-1.176902</td>\n",
       "    </tr>\n",
       "    <tr>\n",
       "      <th>2</th>\n",
       "      <td>-0.371222</td>\n",
       "      <td>0.568740</td>\n",
       "      <td>-0.422842</td>\n",
       "    </tr>\n",
       "    <tr>\n",
       "      <th>5</th>\n",
       "      <td>-0.815042</td>\n",
       "      <td>1.042081</td>\n",
       "      <td>0.431211</td>\n",
       "    </tr>\n",
       "    <tr>\n",
       "      <th>6</th>\n",
       "      <td>-0.065894</td>\n",
       "      <td>-0.086357</td>\n",
       "      <td>0.190419</td>\n",
       "    </tr>\n",
       "    <tr>\n",
       "      <th>7</th>\n",
       "      <td>0.685030</td>\n",
       "      <td>0.750338</td>\n",
       "      <td>0.162473</td>\n",
       "    </tr>\n",
       "  </tbody>\n",
       "</table>\n",
       "</div>"
      ],
      "text/plain": [
       "          0         1         2\n",
       "0 -0.428238  0.503267  0.512574\n",
       "1 -2.359126 -1.109398 -1.176902\n",
       "2 -0.371222  0.568740 -0.422842\n",
       "5 -0.815042  1.042081  0.431211\n",
       "6 -0.065894 -0.086357  0.190419\n",
       "7  0.685030  0.750338  0.162473"
      ]
     },
     "execution_count": 203,
     "metadata": {},
     "output_type": "execute_result"
    }
   ],
   "source": [
    "df1 = pd.DataFrame(np.random.randn(3, 3))\n",
    "df2 = pd.DataFrame(np.random.randn(3, 3), index=[5,6,7])\n",
    "print(df1)\n",
    "print(df2)\n",
    "pd.concat([df1, df2])"
   ]
  },
  {
   "cell_type": "markdown",
   "metadata": {},
   "source": [
    "使用 pandas.concat 函数成功的拼接了两个 DataFrame 数据。有的时候，我们有多个数据集，这些数据集有相同的列，这个时候就可以按照这个列进行合并操作，类似于数据库中的 join 操作："
   ]
  },
  {
   "cell_type": "code",
   "execution_count": 208,
   "metadata": {},
   "outputs": [
    {
     "data": {
      "text/html": [
       "<div>\n",
       "<style scoped>\n",
       "    .dataframe tbody tr th:only-of-type {\n",
       "        vertical-align: middle;\n",
       "    }\n",
       "\n",
       "    .dataframe tbody tr th {\n",
       "        vertical-align: top;\n",
       "    }\n",
       "\n",
       "    .dataframe thead th {\n",
       "        text-align: right;\n",
       "    }\n",
       "</style>\n",
       "<table border=\"1\" class=\"dataframe\">\n",
       "  <thead>\n",
       "    <tr style=\"text-align: right;\">\n",
       "      <th></th>\n",
       "      <th>user_id</th>\n",
       "      <th>course</th>\n",
       "      <th>minutes</th>\n",
       "      <th>name</th>\n",
       "    </tr>\n",
       "  </thead>\n",
       "  <tbody>\n",
       "    <tr>\n",
       "      <th>0</th>\n",
       "      <td>5348</td>\n",
       "      <td>12</td>\n",
       "      <td>9</td>\n",
       "      <td>Linux 基础入门</td>\n",
       "    </tr>\n",
       "    <tr>\n",
       "      <th>1</th>\n",
       "      <td>13</td>\n",
       "      <td>45</td>\n",
       "      <td>36</td>\n",
       "      <td>数据分析</td>\n",
       "    </tr>\n",
       "  </tbody>\n",
       "</table>\n",
       "</div>"
      ],
      "text/plain": [
       "   user_id  course  minutes        name\n",
       "0     5348      12        9  Linux 基础入门\n",
       "1       13      45       36        数据分析"
      ]
     },
     "execution_count": 208,
     "metadata": {},
     "output_type": "execute_result"
    }
   ],
   "source": [
    "df1 = pd.DataFrame({'user_id': [5348, 13], 'course': [12, 45], 'minutes': [9, 36]})\n",
    "df2 = pd.DataFrame({'course': [12, 45], 'name': ['Linux 基础入门', '数据分析']})\n",
    "pd.merge(df1,df2)"
   ]
  },
  {
   "cell_type": "markdown",
   "metadata": {},
   "source": [
    "上面的代码中我们通过字典创建了两个数据集，可以看到当通过字段创建 DataFrame 数据集的时，键名变成了列名。df1 和 df2 有共同的列 course, 当进行 merge 操作的时候 Pandas 会自动安装这列进行合并。合并数据集时，有很多参数可以选择，比如选择在根据哪一列进行合并，合并的方式等，可以通过 help(pd.merge) 查看完整的帮助文档.\n",
    "\n",
    "在 Pandas 中，也支持类似于数据库查询语句 **GROUP BY** 的功能，也就是按照某列进行分组，然后再分组上进行一些计算操作，假如我们有如下的数据集，那么如何计算其中 user_id 是 5348 的用户的学习时间呢？\n",
    "\n",
    "- 第一种：是筛选出所有 user_id 为 5348 的行，然后进行求和统计。先通过 df[df['user_id'] == 5348] 布尔索引筛选出所有的相关行，然后通过结合列筛选功过滤其他列，只剩下时间统计列 (minutes 所在列为学习时间列），最后通过求和运算统计出了学习时间。\n",
    "\n",
    "- 第二种：可以使用类似于数据库的 GROUP BY 功能进行计算。先过滤列，只剩下了 user_id 和 minutes 列，然后通过 groupby 方法在 user_id 列上进行分组并求和，相对于前一种方式，分组求和更加灵活一些。"
   ]
  },
  {
   "cell_type": "code",
   "execution_count": 227,
   "metadata": {},
   "outputs": [
    {
     "name": "stdout",
     "output_type": "stream",
     "text": [
      "   user_id  course  minutes\n",
      "0     5348      12        9\n",
      "1       13      45       36\n",
      "2     5348      23       45\n"
     ]
    },
    {
     "data": {
      "text/plain": [
       "54"
      ]
     },
     "execution_count": 227,
     "metadata": {},
     "output_type": "execute_result"
    }
   ],
   "source": [
    "df = pd.DataFrame({'user_id': [5348, 13, 5348], 'course': [12, 45, 23], 'minutes': [9, 36, 45]})\n",
    "print(df)\n",
    "\n",
    "df[df['user_id'] == 5348]['minutes'].sum()"
   ]
  },
  {
   "cell_type": "code",
   "execution_count": 223,
   "metadata": {},
   "outputs": [
    {
     "data": {
      "text/html": [
       "<div>\n",
       "<style scoped>\n",
       "    .dataframe tbody tr th:only-of-type {\n",
       "        vertical-align: middle;\n",
       "    }\n",
       "\n",
       "    .dataframe tbody tr th {\n",
       "        vertical-align: top;\n",
       "    }\n",
       "\n",
       "    .dataframe thead th {\n",
       "        text-align: right;\n",
       "    }\n",
       "</style>\n",
       "<table border=\"1\" class=\"dataframe\">\n",
       "  <thead>\n",
       "    <tr style=\"text-align: right;\">\n",
       "      <th></th>\n",
       "      <th>user_id</th>\n",
       "      <th>minutes</th>\n",
       "    </tr>\n",
       "  </thead>\n",
       "  <tbody>\n",
       "    <tr>\n",
       "      <th>0</th>\n",
       "      <td>5348</td>\n",
       "      <td>9</td>\n",
       "    </tr>\n",
       "    <tr>\n",
       "      <th>1</th>\n",
       "      <td>13</td>\n",
       "      <td>36</td>\n",
       "    </tr>\n",
       "    <tr>\n",
       "      <th>2</th>\n",
       "      <td>5348</td>\n",
       "      <td>45</td>\n",
       "    </tr>\n",
       "  </tbody>\n",
       "</table>\n",
       "</div>"
      ],
      "text/plain": [
       "   user_id  minutes\n",
       "0     5348        9\n",
       "1       13       36\n",
       "2     5348       45"
      ]
     },
     "execution_count": 223,
     "metadata": {},
     "output_type": "execute_result"
    }
   ],
   "source": [
    "df[['user_id','minutes']]"
   ]
  },
  {
   "cell_type": "code",
   "execution_count": 230,
   "metadata": {},
   "outputs": [
    {
     "data": {
      "text/plain": [
       "<pandas.core.groupby.generic.DataFrameGroupBy object at 0x11a1709b0>"
      ]
     },
     "execution_count": 230,
     "metadata": {},
     "output_type": "execute_result"
    }
   ],
   "source": [
    "df[['user_id','minutes']].groupby('user_id')"
   ]
  },
  {
   "cell_type": "code",
   "execution_count": 231,
   "metadata": {},
   "outputs": [
    {
     "data": {
      "text/html": [
       "<div>\n",
       "<style scoped>\n",
       "    .dataframe tbody tr th:only-of-type {\n",
       "        vertical-align: middle;\n",
       "    }\n",
       "\n",
       "    .dataframe tbody tr th {\n",
       "        vertical-align: top;\n",
       "    }\n",
       "\n",
       "    .dataframe thead th {\n",
       "        text-align: right;\n",
       "    }\n",
       "</style>\n",
       "<table border=\"1\" class=\"dataframe\">\n",
       "  <thead>\n",
       "    <tr style=\"text-align: right;\">\n",
       "      <th></th>\n",
       "      <th>minutes</th>\n",
       "    </tr>\n",
       "    <tr>\n",
       "      <th>user_id</th>\n",
       "      <th></th>\n",
       "    </tr>\n",
       "  </thead>\n",
       "  <tbody>\n",
       "    <tr>\n",
       "      <th>13</th>\n",
       "      <td>36</td>\n",
       "    </tr>\n",
       "    <tr>\n",
       "      <th>5348</th>\n",
       "      <td>54</td>\n",
       "    </tr>\n",
       "  </tbody>\n",
       "</table>\n",
       "</div>"
      ],
      "text/plain": [
       "         minutes\n",
       "user_id         \n",
       "13            36\n",
       "5348          54"
      ]
     },
     "execution_count": 231,
     "metadata": {},
     "output_type": "execute_result"
    }
   ],
   "source": [
    "df[['user_id','minutes']].groupby('user_id').sum()"
   ]
  },
  {
   "cell_type": "markdown",
   "metadata": {},
   "source": [
    "#### 时间序列处理\n",
    "\n",
    "在我们要分析的数据中，很多数据都带有时间戳，比如数据集中的每一项数据都带有一项数据项生成时的时间戳，有的时候我们需要根据这个时间戳进行运算，这在 Pandas 中非常方便。\n",
    "\n",
    "在 Python 中，时间处理方面的相关功能主要集中在 datetime 包中，主要有的三种对象：\n",
    "\n",
    "- datetime.datetime 代表时间对象；\n",
    "- datetime.date 代表某一天；\n",
    "- datetime.timedelta 代表两个 datetime.datetime 对象之间的时间差；"
   ]
  },
  {
   "cell_type": "code",
   "execution_count": 239,
   "metadata": {},
   "outputs": [
    {
     "data": {
      "text/plain": [
       "datetime.datetime(2017, 8, 11, 0, 0)"
      ]
     },
     "execution_count": 239,
     "metadata": {},
     "output_type": "execute_result"
    }
   ],
   "source": [
    "from datetime import datetime, timedelta\n",
    "\n",
    "d1 = datetime(2017, 8, 1)\n",
    "delta = timedelta(days=10)\n",
    "d1 + delta"
   ]
  },
  {
   "cell_type": "markdown",
   "metadata": {},
   "source": [
    "以上代码中，简单演示了 datetime.datetime 和 datetime.timedelta 的用法。先创建一个简单的时间序列，然后演示一些基本的用法"
   ]
  },
  {
   "cell_type": "code",
   "execution_count": 242,
   "metadata": {},
   "outputs": [
    {
     "name": "stdout",
     "output_type": "stream",
     "text": [
      "2018-01-01   -0.030811\n",
      "2018-01-02    0.094218\n",
      "2018-01-03    0.221295\n",
      "2018-01-04    1.273748\n",
      "dtype: float64\n",
      "DatetimeIndex(['2018-01-01', '2018-01-02', '2018-01-03', '2018-01-04'], dtype='datetime64[ns]', freq=None)\n",
      "2018-01-01 00:00:00\n"
     ]
    }
   ],
   "source": [
    "from datetime import datetime\n",
    "\n",
    "dates = [datetime(2018, 1, 1), datetime(2018, 1, 2),\n",
    "         datetime(2018, 1, 3), datetime(2018, 1, 4)]\n",
    "\n",
    "ts = pd.Series(np.random.randn(4), index=dates)\n",
    "print(ts)\n",
    "print(ts.index)\n",
    "print(ts.index[0])"
   ]
  },
  {
   "cell_type": "markdown",
   "metadata": {},
   "source": [
    "以上代码中，我们通过 datetime 时间类型生成了一堆时间，然后基于此创建了一个时间序列 ts , 可以看到 ts 的索引类型为 DatetimeIndex 类型。生成 ts 以后我们就有多种方法**选择元素**了，只需要传入一个能被 Pandas 识别的日期字符串就可以了"
   ]
  },
  {
   "cell_type": "code",
   "execution_count": 247,
   "metadata": {},
   "outputs": [
    {
     "name": "stdout",
     "output_type": "stream",
     "text": [
      "-0.03081059722024564\n",
      "-0.03081059722024564\n",
      "-0.03081059722024564\n",
      "-0.03081059722024564\n",
      "-0.03081059722024564\n"
     ]
    }
   ],
   "source": [
    "print(ts[ts.index[0]])\n",
    "print(ts['2018-01-01'])\n",
    "print(ts['2018/01/01'])\n",
    "print(ts['1/1/2018'])\n",
    "print(ts[datetime(2018, 1, 1)])"
   ]
  },
  {
   "cell_type": "markdown",
   "metadata": {},
   "source": [
    "可以看到选择元素的方式非常灵活。\n",
    "\n",
    "在 Pandas 中**生成日期范围**也非常灵活，主要通过 pandas.date_range 函数完成，该函数主要有以下几个参数：\n",
    "\n",
    "`pd.date_range(start,end,periods,freq)`\n",
    "\n",
    "- start: 指定了日期范围的起始时间；\n",
    "- end: 指定了日期范围的结束时间；\n",
    "- periods: 指定了间隔范围，如果只是指定了 start 和 end 日期的其中一个，则需要改参数；\n",
    "- freq: 指定了日期频率，比如 D 代表每天，H 代表每小时，M 代表月，这些频率字符前也可以指定一个整数，代表具体多少天，多少小时，比如 5D 代表 5 天。还有一些其他的频率字符串，比如 MS 代表每月第一天，BM 代表每月最后一个工作日，或者是频率组合字符串，比如 1h30min 代表 1 小时 30 分钟。"
   ]
  },
  {
   "cell_type": "code",
   "execution_count": 248,
   "metadata": {},
   "outputs": [
    {
     "data": {
      "text/plain": [
       "DatetimeIndex(['2018-01-31', '2018-02-28', '2018-03-31', '2018-04-30',\n",
       "               '2018-05-31', '2018-06-30', '2018-07-31', '2018-08-31',\n",
       "               '2018-09-30', '2018-10-31', '2018-11-30', '2018-12-31'],\n",
       "              dtype='datetime64[ns]', freq='M')"
      ]
     },
     "execution_count": 248,
     "metadata": {},
     "output_type": "execute_result"
    }
   ],
   "source": [
    "pd.date_range('2018-1-1', '2019', freq='M')"
   ]
  },
  {
   "cell_type": "code",
   "execution_count": 249,
   "metadata": {},
   "outputs": [
    {
     "data": {
      "text/plain": [
       "DatetimeIndex(['2018-01-01', '2018-02-01', '2018-03-01', '2018-04-01',\n",
       "               '2018-05-01', '2018-06-01', '2018-07-01', '2018-08-01',\n",
       "               '2018-09-01', '2018-10-01', '2018-11-01', '2018-12-01'],\n",
       "              dtype='datetime64[ns]', freq='MS')"
      ]
     },
     "execution_count": 249,
     "metadata": {},
     "output_type": "execute_result"
    }
   ],
   "source": [
    "pd.date_range('2018-1-1', '2018-12-1', freq='MS')"
   ]
  },
  {
   "cell_type": "markdown",
   "metadata": {},
   "source": [
    "freq 参数还有许多频率指定的方式，篇幅有限就不一一介绍了。"
   ]
  }
 ],
 "metadata": {
  "kernelspec": {
   "display_name": "Python 3",
   "language": "python",
   "name": "python3"
  },
  "language_info": {
   "codemirror_mode": {
    "name": "ipython",
    "version": 3
   },
   "file_extension": ".py",
   "mimetype": "text/x-python",
   "name": "python",
   "nbconvert_exporter": "python",
   "pygments_lexer": "ipython3",
   "version": "3.6.3"
  },
  "toc": {
   "nav_menu": {},
   "number_sections": true,
   "sideBar": true,
   "skip_h1_title": false,
   "title_cell": "Table of Contents",
   "title_sidebar": "Contents",
   "toc_cell": false,
   "toc_position": {
    "height": "calc(100% - 180px)",
    "left": "10px",
    "top": "150px",
    "width": "240px"
   },
   "toc_section_display": true,
   "toc_window_display": true
  },
  "varInspector": {
   "cols": {
    "lenName": 16,
    "lenType": 16,
    "lenVar": 40
   },
   "kernels_config": {
    "python": {
     "delete_cmd_postfix": "",
     "delete_cmd_prefix": "del ",
     "library": "var_list.py",
     "varRefreshCmd": "print(var_dic_list())"
    },
    "r": {
     "delete_cmd_postfix": ") ",
     "delete_cmd_prefix": "rm(",
     "library": "var_list.r",
     "varRefreshCmd": "cat(var_dic_list()) "
    }
   },
   "types_to_exclude": [
    "module",
    "function",
    "builtin_function_or_method",
    "instance",
    "_Feature"
   ],
   "window_display": false
  }
 },
 "nbformat": 4,
 "nbformat_minor": 2
}
