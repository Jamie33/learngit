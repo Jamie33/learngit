{
 "cells": [
  {
   "cell_type": "markdown",
   "metadata": {},
   "source": [
    "# Seaborn\n",
    "\n",
    " - 教程1:[Seaborn学习（一）------- 构建结构化多绘图网格（FacetGrid(）、map()）详解](https://blog.csdn.net/weixin_42398658/article/details/82960379) 侧重每个参数的详解\n",
    " - 教程2:[Seaborn中文教程（五）：通过“多图网格”结构化展示多维数据)](https://www.jianshu.com/p/31426f9e79d4) 侧重图表对比\n",
    " - 教程3:[seaborn初探](https://www.jianshu.com/p/388abcc1bc3d) 侧重理解 ***\n",
    " - 教程4:[Python 数据可视化概览（涵盖 ggplot 和 Altair）](https://juejin.im/entry/5842eded128fe10058a3cd7a) 侧重比较matplotlib\\pandas\\seaborn\\ggplt\\Altair\n",
    "\n",
    "seaborn 同 matplotlib 一样，也是 Python 进行数据可视化分析的重要第三方包。\n",
    "\n",
    "但 seaborn 是在 matplotlib 的基础上进行了更高级的API封装，使得作图更加容易，图形更加漂亮。\n",
    "\n",
    "seaborn 可以替代 matplotlib。虽然 seaborn 可以满足大部分情况下的数据分析需求，但是针对一些特殊情况，还是需要用到 matplotlib 的。换句话说，matplotlib更加灵活，可定制化，而seaborn像是更高级的封装，使用方便快捷。\n",
    "\n",
    "应该把 seaborn 视为 matplotlib 的补充，而不是替代物。\n",
    "\n",
    "\n",
    "## Seaborn 与 Matplotlib 的区别\n",
    "\n",
    "** Seaborn 的底层是基于 Matplotlib的**\n",
    "\n",
    "* 区别类比：点餐时，选套餐还是自己点。\n",
    "    + Matplotlib 是独立点菜，可能费时费心（尤其是对我这种选择困难症患者...）但最后上桌的菜全是特别适合自己的；\n",
    "    + Seaborn 是点套餐，特别简单，一切都是配好的，虽然省时省心，但可能套餐里总有些菜是不那么合自己口味的。\n",
    "* 优缺点\n",
    "    + Seaborn 优点：用户把自己常用到的可视化绘图过程进行了函数封装，形成的一个“快捷方式”，他相比 Matplotlib 的好处是代码更简洁，可以用一行代码实现一个清晰好看的可视化输出。导入 seaborn 会修改默认的 matplotlib 配色方案和绘图样式，这会提高图表的可读性和美观性。\n",
    "    + Seaborn 缺点：定制化能力会比较差，只能实现固化的一些可视化模板类型；\n",
    "\n",
    "    + Matplotlib 优点：可以实现高度定制化绘图的，高度定制化可以让你获得最符合心意的可\n",
    "    \n",
    "  \n",
    " ### FacetGrid()\n",
    " \n",
    "当探索具有中等数量（不多不少的意思……）维度的数据集时，一个很好的方式是基于不同的子数据集构建不同的实例，并将它们以网格的方式组织在一张图之中。这种技术有时被称为“lattice”或“trellis”（大概是格子图、网格图），这跟“small multiples”的概念类似（多张更小的子图）。它能帮助我们快速从复杂的数据中提取大量信息。matplotlib对于创建带有多个坐标轴（每个坐标轴体系意味着一张子图）的图形有着良好的支持，seaborn基于这些来直接地将图形的排布结构与数据集的结构联结起来。\n",
    "\n",
    "要利用这些特性，我们的数据集应该保存在一个pandas DataFrame中，并且应该是Hadley Whickam口中的“tidy data”格式。简短来说，就是我们的dataframe对象中，每一行是一个观测样本，每一列是一个变量。\n",
    "\n",
    "对于一些更高级的应用来说，我们可以直接使用这篇教程中讨论的一些对象来获得最大的灵活性。一些seaborn函数（如lmplot()/catplot()/pairplot()）也隐式地使用了这些对象。很多seaborn函数是坐标轴级别的，它们仅仅针对某个特定的matplotlib Axes来绘图，而不会修改图形的属性；而在这篇教程中即将讨论到的这些方法是更高级别的函数，在被调用时，它们会创建一个新的图形，而且一般情况下对于创建过程更加严格。在某些案例中，这些函数和他们依赖的类所需要输入的参数依赖于不同的接口属性，比如在lmplot()中我们通过设置高度和宽高比（height和aspect）来控制每个子图（facet）的大小，而非直接指定整个图形的大小。这些函数在调用后都会返回这个图形对象，而且大多数对象都提供了非常方便的方法来改变绘图的方式，这些方法往往更加抽象和简单。\n",
    "\n",
    "当我们想要基于不同的数据子集来展示某个变量的分布或者多个变量之间的关系时，FacetGrid类会提供很大的帮助。一个FacetGrid图可以从三个维度来构建：row、col和hue。前两个与它返回的坐标轴数组有着之间的关联；我们可以把hue变量理解为第三个维度，就像长、宽和高一样，只不过在这里我们是用不同的颜色来体现它的。\n",
    "\n",
    "通过使用FacetGrid数据框初始化对象以及将形成网格的行，列或色调维度的变量名称来使用该类。这些变量应该是分类的或离散的，然后变量的每个级别的数据将用于沿该轴的小平面。例如，假设我们想要检查tips数据集中午餐和晚餐之间的差异， 此外，每个的relplot()，catplot()以及lmplot()在内部使用这些对象，并且它们返回的对象时，他们完成，使得其可以用于进一步调整。\n",
    "\n",
    "基本工作流程是FacetGrid使用数据集和用于构造网格的变量初始化对象。然后，可以通过调用FacetGrid.map()或将一个或多个绘图函数应用于每个子集 FacetGrid.map_dataframe()。最后，可以使用其他方法调整绘图，以执行更改轴标签，使用不同刻度或添加图例等操作\n",
    "\n",
    "当使用从数据集推断语义映射的seaborn函数时，必须注意在各个方面之间同步这些映射。在大多数情况下，使用图形级别功能（例如relplot()或catplot()）比 FacetGrid直接使用更好"
   ]
  },
  {
   "cell_type": "code",
   "execution_count": 4,
   "metadata": {},
   "outputs": [
    {
     "ename": "ImportError",
     "evalue": "cannot import name 'remove_na'",
     "output_type": "error",
     "traceback": [
      "\u001b[0;31m---------------------------------------------------------------------------\u001b[0m",
      "\u001b[0;31mImportError\u001b[0m                               Traceback (most recent call last)",
      "\u001b[0;32m<ipython-input-4-1c1bd56b9728>\u001b[0m in \u001b[0;36m<module>\u001b[0;34m()\u001b[0m\n\u001b[1;32m      4\u001b[0m \u001b[0;34m\u001b[0m\u001b[0m\n\u001b[1;32m      5\u001b[0m \u001b[0;31m# visualization\u001b[0m\u001b[0;34m\u001b[0m\u001b[0;34m\u001b[0m\u001b[0m\n\u001b[0;32m----> 6\u001b[0;31m \u001b[0;32mimport\u001b[0m \u001b[0mseaborn\u001b[0m \u001b[0;32mas\u001b[0m \u001b[0msns\u001b[0m\u001b[0;34m\u001b[0m\u001b[0m\n\u001b[0m\u001b[1;32m      7\u001b[0m \u001b[0;32mimport\u001b[0m \u001b[0mmatplotlib\u001b[0m\u001b[0;34m.\u001b[0m\u001b[0mpyplot\u001b[0m \u001b[0;32mas\u001b[0m \u001b[0mplt\u001b[0m\u001b[0;34m\u001b[0m\u001b[0m\n\u001b[1;32m      8\u001b[0m \u001b[0mget_ipython\u001b[0m\u001b[0;34m(\u001b[0m\u001b[0;34m)\u001b[0m\u001b[0;34m.\u001b[0m\u001b[0mmagic\u001b[0m\u001b[0;34m(\u001b[0m\u001b[0;34m'matplotlib inline'\u001b[0m\u001b[0;34m)\u001b[0m\u001b[0;34m\u001b[0m\u001b[0m\n",
      "\u001b[0;32m~/Anaconda/anaconda3/lib/python3.6/site-packages/seaborn/__init__.py\u001b[0m in \u001b[0;36m<module>\u001b[0;34m()\u001b[0m\n\u001b[1;32m      7\u001b[0m \u001b[0;32mfrom\u001b[0m \u001b[0;34m.\u001b[0m\u001b[0mutils\u001b[0m \u001b[0;32mimport\u001b[0m \u001b[0;34m*\u001b[0m\u001b[0;34m\u001b[0m\u001b[0m\n\u001b[1;32m      8\u001b[0m \u001b[0;32mfrom\u001b[0m \u001b[0;34m.\u001b[0m\u001b[0mpalettes\u001b[0m \u001b[0;32mimport\u001b[0m \u001b[0;34m*\u001b[0m\u001b[0;34m\u001b[0m\u001b[0m\n\u001b[0;32m----> 9\u001b[0;31m \u001b[0;32mfrom\u001b[0m \u001b[0;34m.\u001b[0m\u001b[0mrelational\u001b[0m \u001b[0;32mimport\u001b[0m \u001b[0;34m*\u001b[0m\u001b[0;34m\u001b[0m\u001b[0m\n\u001b[0m\u001b[1;32m     10\u001b[0m \u001b[0;32mfrom\u001b[0m \u001b[0;34m.\u001b[0m\u001b[0mregression\u001b[0m \u001b[0;32mimport\u001b[0m \u001b[0;34m*\u001b[0m\u001b[0;34m\u001b[0m\u001b[0m\n\u001b[1;32m     11\u001b[0m \u001b[0;32mfrom\u001b[0m \u001b[0;34m.\u001b[0m\u001b[0mcategorical\u001b[0m \u001b[0;32mimport\u001b[0m \u001b[0;34m*\u001b[0m\u001b[0;34m\u001b[0m\u001b[0m\n",
      "\u001b[0;32m~/Anaconda/anaconda3/lib/python3.6/site-packages/seaborn/relational.py\u001b[0m in \u001b[0;36m<module>\u001b[0;34m()\u001b[0m\n\u001b[1;32m      9\u001b[0m \u001b[0;34m\u001b[0m\u001b[0m\n\u001b[1;32m     10\u001b[0m \u001b[0;32mfrom\u001b[0m \u001b[0;34m.\u001b[0m \u001b[0;32mimport\u001b[0m \u001b[0mutils\u001b[0m\u001b[0;34m\u001b[0m\u001b[0m\n\u001b[0;32m---> 11\u001b[0;31m from .utils import (categorical_order, get_color_cycle, ci_to_errsize,\n\u001b[0m\u001b[1;32m     12\u001b[0m                     remove_na, locator_to_legend_entries)\n\u001b[1;32m     13\u001b[0m \u001b[0;32mfrom\u001b[0m \u001b[0;34m.\u001b[0m\u001b[0malgorithms\u001b[0m \u001b[0;32mimport\u001b[0m \u001b[0mbootstrap\u001b[0m\u001b[0;34m\u001b[0m\u001b[0m\n",
      "\u001b[0;31mImportError\u001b[0m: cannot import name 'remove_na'"
     ]
    }
   ],
   "source": [
    "# data analysis and wrangling\n",
    "import pandas as pd\n",
    "import numpy as np\n",
    "\n",
    "# visualization\n",
    "import seaborn as sns\n",
    "import matplotlib.pyplot as plt\n",
    "%matplotlib inline\n",
    "\n",
    "train_df = pd.read_csv('train.csv')"
   ]
  },
  {
   "cell_type": "markdown",
   "metadata": {},
   "source": [
    "```\n",
    "class seaborn.FacetGrid(data, row=None, col=None, hue=None, col_wrap=None, sharex=True, sharey=True, height=3, aspect=1, palette=None, row_order=None, col_order=None, hue_order=None, hue_kws=None, dropna=True, legend_out=True, despine=True, margin_titles=False, xlim=None, ylim=None, subplot_kws=None, gridspec_kws=None, size=None)```\n",
    "\n",
    "- data : DataFrame\n",
    "\n",
    "    处理后的（“长格式”）dataframe数据，其中每一列都是一个变量（特征），每一行都是一个样本\n",
    "\n",
    "- row, col, hue : strings \n",
    "\n",
    "    定义数据子集的变量，这些变量将在网格的不同方面绘制。请参阅下面*_order参数以控制该变量的级别顺序\n",
    "\n",
    "    例如：col=\"sex\", hue=\"smoker\",即列表示性别，颜色语意表示是否吸烟，下面示例会给出详细说明\n",
    "\n",
    "- col_wrap : int, optional\n",
    "\n",
    "    这个意思是图网格列维度限制，比如col_wrap =3，那么在这个画布里最多只能画3列。行不限制，这样就限制了列的个数。\n",
    "\n",
    "- share{x,y} : bool, ‘col’, or ‘row’ optional\n",
    "\n",
    "    是否共享x轴或者y轴，就是说如果为真，就共享同一个轴，否则就不共享，默认是都共享，即都为True\n",
    "    ```\n",
    "    g = sns.FacetGrid(tips, col=\"sex\", hue=\"smoker\",sharex=True, sharey=True)# 都共享\n",
    "    g.map(plt.scatter, \"total_bill\", \"tip\", alpha=0.8)\n",
    "    g.add_legend();\n",
    "    ```\n",
    "\n",
    "    ```\n",
    "    g = sns.FacetGrid(tips, col=\"sex\", hue=\"smoker\",sharex=True, sharey=False)# 关闭共享y轴\n",
    "    g.map(plt.scatter, \"total_bill\", \"tip\", alpha=0.8)\n",
    "    g.add_legend();\n",
    "    ```\n",
    "\n",
    "\n",
    "大家看看右边的y轴是否变化了，一旦不共享，他就会自己标注"
   ]
  }
 ],
 "metadata": {
  "kernelspec": {
   "display_name": "Python 3",
   "language": "python",
   "name": "python3"
  },
  "language_info": {
   "codemirror_mode": {
    "name": "ipython",
    "version": 3
   },
   "file_extension": ".py",
   "mimetype": "text/x-python",
   "name": "python",
   "nbconvert_exporter": "python",
   "pygments_lexer": "ipython3",
   "version": "3.6.3"
  },
  "toc": {
   "nav_menu": {},
   "number_sections": true,
   "sideBar": true,
   "skip_h1_title": false,
   "title_cell": "Table of Contents",
   "title_sidebar": "Contents",
   "toc_cell": false,
   "toc_position": {},
   "toc_section_display": true,
   "toc_window_display": false
  },
  "varInspector": {
   "cols": {
    "lenName": 16,
    "lenType": 16,
    "lenVar": 40
   },
   "kernels_config": {
    "python": {
     "delete_cmd_postfix": "",
     "delete_cmd_prefix": "del ",
     "library": "var_list.py",
     "varRefreshCmd": "print(var_dic_list())"
    },
    "r": {
     "delete_cmd_postfix": ") ",
     "delete_cmd_prefix": "rm(",
     "library": "var_list.r",
     "varRefreshCmd": "cat(var_dic_list()) "
    }
   },
   "types_to_exclude": [
    "module",
    "function",
    "builtin_function_or_method",
    "instance",
    "_Feature"
   ],
   "window_display": false
  }
 },
 "nbformat": 4,
 "nbformat_minor": 2
}
