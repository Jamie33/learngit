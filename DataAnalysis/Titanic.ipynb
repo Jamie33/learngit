{
 "cells": [
  {
   "cell_type": "markdown",
   "metadata": {},
   "source": [
    "# 数据科学分析(包括建模、预测)\n",
    "\n",
    "## 基本流程\n",
    "\n",
    "Data Science Solutions book 这本书为类似 Kaggle 网站上解决数据科学竞赛问题，提供了一个典型的分析流程：\n",
    "\n",
    "- 定义问题\n",
    "- 获取训练数据以及测试数据\n",
    "- 加工、准备以及清洗数据\n",
    "- 分析、识别数据的模式，并对数据做可视化\n",
    "- 建模、预测，并解决问题\n",
    "- 对结果做可视化，生成报告，并且展示问题的解决步骤和最终的解决方案\n",
    "- 提交结果\n",
    "\n",
    "现实情况下，不会严格遵循以上流程：\n",
    "\n",
    "- 可能会结合多个步骤。例如，在分析过程中就开始用可视化\n",
    "- 提前执行某个步骤。例如,数据加工前后都会对数据进行分析\n",
    "- 多次执行某个步骤。例如，多次对数据进行可视化\n",
    "- 完全弃用一个步骤。例如在非竞赛场合可能并不需要做提交结果的步骤\n",
    "\n",
    "## 流程目标\n",
    "\n",
    "主要有7个目标：\n",
    "\n",
    "- **分类**：可能要对我们的样本进行分类。我们可能也希望了解不同类和我们的目标之间的关联。\n",
    "- **相互性**：我们可以根据训练集里可用的特征来解决一个问题。那到底在数据集里的哪些特征会对解决问题起着至关重要的作用呢？从统计学上来说，是否在某个特征与问题的解之间存在某种联系？如果这个特征的值改变后，相应问题的解是否也会改变呢？反过来的情况是否也是如此呢？这个可以通过对数据集里的数值型以及离散型的特征做测试来得到。我们可能也希望得到特征之间的关系，而不是直接得到特征与问题解之间的关系。找到一些特定属性之间的关联性可能会在创建、补全以及修正特征上起到一定作用\n",
    "- **转换**：对于建模阶段，我们需要去对数据进行预处理。根据模型的算法，可能需要将特征值全部转化为数字值。例如把文本特征值转化为数字值。\n",
    "- **填缺**：数据的准备工作中可能也需要我们去估计一些特征的缺失值，当没有缺失值时，模型算法可能效果最好。\n",
    "- **修正**：我们也可以去分析数据集中的错误以及可能存在的异常特征值，从而去修正这些包含错误值的样本。一种方法是检测样本或特征中的异常值。如果一个特征不适合分析，或者会严重影响结果，我们也可以完全舍弃掉它。\n",
    "- **创造**：我们可以根据已存在的特征或者特征序列来创建新的特征，使得新特征符合相关性、转换以及完整性目标\n",
    "- **制图**：如何根据原数据集以及要解决问题，对数据做合适的可视化图 \n",
    "\n",
    "\n",
    "# 基础数据分析(剔除建模、预测)\n",
    "\n",
    "\n",
    "## 概念\n",
    "数据分析是指用适当的方法与工具，对收集来的大量数据进行分析，提取其中有意义的信息，从而形成有价值的结论的过程。\n",
    "\n",
    "## 流程\n",
    "\n",
    "在进行数据分析之前，我们需要清楚数据分析的基本流程。\n",
    "\n",
    "* 明确需求与目的\n",
    "* 数据收集\n",
    "    + 内部数据\n",
    "    + 购买数据\n",
    "    + 爬取数据\n",
    "    + 调查问卷\n",
    "* 数据预处理\n",
    "    + 数据清洗\n",
    "        - 缺失值\n",
    "        - 异常值\n",
    "        - 重复值\n",
    "    + 数据转换\n",
    "* 数据分析\n",
    "    + 数据建模\n",
    "    + 数据可视化\n",
    "* 编写报告\n",
    "\n",
    "\n",
    "## 理解流程\n",
    "我们可以进行一个类比，比如，我们现在要做出一道菜肴，那我们需要进行怎样的流程呢？\n",
    "* 确定做菜\n",
    "* 买菜\n",
    "* 洗菜\n",
    "* 切菜\n",
    "* 炒菜\n",
    "* 盛菜\n",
    "* 写日记\n",
    "\n",
    "接下来，我们就可以将做菜的流程步骤去对应理解数据分析的步骤。\n",
    "\n",
    "做菜步骤 | 数据分析步骤  \n",
    "-|-\n",
    "确定做菜 | 明确需求与目的\n",
    "买菜 | 数据收集\n",
    "洗菜 | 数据清洗\n",
    "切菜 | 数据转换\n",
    "炒菜 | 数据分析\n",
    "盛菜 | 数据可视化\n",
    "写日记 | 编写报告\n",
    "\n",
    "\n",
    "## 定义问题\n",
    "\n",
    "\n",
    "“在训练数据中，提供了在泰坦尼克号上乘客的具体数据以及他们是否在那次灾难中存活的信息。参赛者能否通过已有的训练数据训练出一个模型，此模型需要根据输入的测试数据里乘客信息，来预测此乘客是否能在灾难中存活”\n",
    "\n",
    "我们可能也想要通过问题描述获取更多有关此问题的信息。在此问题的描述中，比较有意义的描述如下：\n",
    "    - 泰坦尼克号在1912年4月15日与冰山碰撞后沉没。在一共2224名乘客与船员里，有1502人不幸逝世。这个信息即表明了此次事件中生还率为32%。\n",
    "    - 一个使得在这次灾难中有如此之大死亡率的原因是：在船上没有足够的救生船提供给乘客以及船员\n",
    "    - 尽管在此次灾难中生还存在运气的成分，但是仍旧会有些群体的生还率高于其他人，如女人、小孩，以及上等仓的人\n",
    "\n",
    "## 代码实现\n",
    "\n",
    "### 参考文章\n",
    "- [How I scored in the top 9% of Kaggle’s Titanic Machine Learning Challenge\n",
    "](https://medium.com/i-like-big-data-and-i-cannot-lie/how-i-scored-in-the-top-9-of-kaggles-titanic-machine-learning-challenge-243b5f45c8e9)\n",
    "- [如何在 Titanic Kaggle Challenge 中获得0.8134分](https://juejin.im/post/5c63bd7af265da2dd4274ef4#heading-9)\n",
    "- [Predicting the Survival of Titanic Passengers](https://towardsdatascience.com/predicting-the-survival-of-titanic-passengers-30870ccc7e8)\n",
    "- [This will help you score 95 percentile in the Kaggle Titanic ML competition](https://medium.com/@praveen.orvakanti/this-will-help-you-score-95-percentile-in-the-kaggle-titanic-ml-competition-aa2b3fd1b79b)\n",
    "\n",
    "### 导入相关库\n",
    "\n",
    "导入需要的库，同时，进行一些初始化的设置。"
   ]
  },
  {
   "cell_type": "code",
   "execution_count": 26,
   "metadata": {},
   "outputs": [],
   "source": [
    "import numpy as np  # 科学计算工具包\n",
    "import pandas as pd  # 数据分析工具包\n",
    "import matplotlib.pyplot as plt # 图表绘制工具包\n",
    "import seaborn as sns # 基于 matplot, 导入 seaborn 会修改默认的 matplotlib 配色方案和绘图样式，这会提高图表的可读性和美观性\n",
    "\n",
    "# 算法库\n",
    "from sklearn import linear_model\n",
    "from sklearn.linear_model import LogisticRegression\n",
    "from sklearn.ensemble import RandomForestClassifier\n",
    "from sklearn.linear_model import Perceptron\n",
    "from sklearn.linear_model import SGDClassifier\n",
    "from sklearn.tree import DecisionTreeClassifier\n",
    "from sklearn.neighbors import KNeighborsClassifier\n",
    "from sklearn.svm import SVC, LinearSVC\n",
    "from sklearn.naive_bayes import GaussianNB\n",
    "\n",
    "# 在 jupyter notebook 里面显示图表\n",
    "%matplotlib inline "
   ]
  },
  {
   "cell_type": "markdown",
   "metadata": {},
   "source": [
    "### 获取数据集\n",
    "\n",
    "读取参数指定的文件，返回一个DataFrame类型的对象。\n",
    "\n",
    "有两个数据集：训练集和测试集。 我们将使用训练集来构建我们的预测模型，用测试集来对其进行评分并生成输出文件以在Kaggle评估系统上提交。"
   ]
  },
  {
   "cell_type": "code",
   "execution_count": 27,
   "metadata": {},
   "outputs": [],
   "source": [
    "test_df = pd.read_csv(\"test.csv\")\n",
    "train_df = pd.read_csv(\"train.csv\")"
   ]
  },
  {
   "cell_type": "markdown",
   "metadata": {},
   "source": [
    "### 探索性数据分析\n",
    "\n",
    "开始探索数据，带着问题去理解数据。\n",
    "\n",
    "通过以下的属性和方法了解数据\n",
    "+ 属性\n",
    "    + `df.columns.value` 数据集中所有列名(特征),numpy.ndarray 类型\n",
    "+ 方法\n",
    "    + `df.head()`  预览数据集前5行\n",
    "    + `df.tail()`  预览数据集后5行\n",
    "    + `df.info()`  显示大致数据信息，包括每列名称，非空值数量，每列的数据类型，内存占用等信息。\n",
    "    + `df.describe()` 展示数据的一些描述性统计信息,但会过滤掉缺失值。默认只统计数值类型的字段内容。\n",
    "        - `describe(include=\"ALL\")`,统计所有类型的数据\n",
    "        - `describe(include=[np.number])` 只统计数值类型的字段内容：count计数，mean平均数，std方差，min最小值，四分位数，max 最大值\n",
    "        - `describe(include=[np.object])` 只统计object类型的字段内容\n",
    "        - `describe(include=‘O’) 只统计字符串类型的字段内容：count计数，unique唯一值数量，top出现频率最高的内容，freq最高出现频率\n",
    "        - `describe(percentiles=[])`:设置输出的百分位数，默认为[.25，.5，.75]，返回第25，第50和第75百分位数。\n",
    "\n",
    "#### 预览数据 \n",
    "\n",
    "- `df.head()` 预览数据集前5行"
   ]
  },
  {
   "cell_type": "code",
   "execution_count": 28,
   "metadata": {},
   "outputs": [
    {
     "data": {
      "text/html": [
       "<div>\n",
       "<style scoped>\n",
       "    .dataframe tbody tr th:only-of-type {\n",
       "        vertical-align: middle;\n",
       "    }\n",
       "\n",
       "    .dataframe tbody tr th {\n",
       "        vertical-align: top;\n",
       "    }\n",
       "\n",
       "    .dataframe thead th {\n",
       "        text-align: right;\n",
       "    }\n",
       "</style>\n",
       "<table border=\"1\" class=\"dataframe\">\n",
       "  <thead>\n",
       "    <tr style=\"text-align: right;\">\n",
       "      <th></th>\n",
       "      <th>PassengerId</th>\n",
       "      <th>Survived</th>\n",
       "      <th>Pclass</th>\n",
       "      <th>Name</th>\n",
       "      <th>Sex</th>\n",
       "      <th>Age</th>\n",
       "      <th>SibSp</th>\n",
       "      <th>Parch</th>\n",
       "      <th>Ticket</th>\n",
       "      <th>Fare</th>\n",
       "      <th>Cabin</th>\n",
       "      <th>Embarked</th>\n",
       "    </tr>\n",
       "  </thead>\n",
       "  <tbody>\n",
       "    <tr>\n",
       "      <th>0</th>\n",
       "      <td>1</td>\n",
       "      <td>0</td>\n",
       "      <td>3</td>\n",
       "      <td>Braund, Mr. Owen Harris</td>\n",
       "      <td>male</td>\n",
       "      <td>22.0</td>\n",
       "      <td>1</td>\n",
       "      <td>0</td>\n",
       "      <td>A/5 21171</td>\n",
       "      <td>7.2500</td>\n",
       "      <td>NaN</td>\n",
       "      <td>S</td>\n",
       "    </tr>\n",
       "    <tr>\n",
       "      <th>1</th>\n",
       "      <td>2</td>\n",
       "      <td>1</td>\n",
       "      <td>1</td>\n",
       "      <td>Cumings, Mrs. John Bradley (Florence Briggs Th...</td>\n",
       "      <td>female</td>\n",
       "      <td>38.0</td>\n",
       "      <td>1</td>\n",
       "      <td>0</td>\n",
       "      <td>PC 17599</td>\n",
       "      <td>71.2833</td>\n",
       "      <td>C85</td>\n",
       "      <td>C</td>\n",
       "    </tr>\n",
       "    <tr>\n",
       "      <th>2</th>\n",
       "      <td>3</td>\n",
       "      <td>1</td>\n",
       "      <td>3</td>\n",
       "      <td>Heikkinen, Miss. Laina</td>\n",
       "      <td>female</td>\n",
       "      <td>26.0</td>\n",
       "      <td>0</td>\n",
       "      <td>0</td>\n",
       "      <td>STON/O2. 3101282</td>\n",
       "      <td>7.9250</td>\n",
       "      <td>NaN</td>\n",
       "      <td>S</td>\n",
       "    </tr>\n",
       "    <tr>\n",
       "      <th>3</th>\n",
       "      <td>4</td>\n",
       "      <td>1</td>\n",
       "      <td>1</td>\n",
       "      <td>Futrelle, Mrs. Jacques Heath (Lily May Peel)</td>\n",
       "      <td>female</td>\n",
       "      <td>35.0</td>\n",
       "      <td>1</td>\n",
       "      <td>0</td>\n",
       "      <td>113803</td>\n",
       "      <td>53.1000</td>\n",
       "      <td>C123</td>\n",
       "      <td>S</td>\n",
       "    </tr>\n",
       "    <tr>\n",
       "      <th>4</th>\n",
       "      <td>5</td>\n",
       "      <td>0</td>\n",
       "      <td>3</td>\n",
       "      <td>Allen, Mr. William Henry</td>\n",
       "      <td>male</td>\n",
       "      <td>35.0</td>\n",
       "      <td>0</td>\n",
       "      <td>0</td>\n",
       "      <td>373450</td>\n",
       "      <td>8.0500</td>\n",
       "      <td>NaN</td>\n",
       "      <td>S</td>\n",
       "    </tr>\n",
       "  </tbody>\n",
       "</table>\n",
       "</div>"
      ],
      "text/plain": [
       "   PassengerId  Survived  Pclass  \\\n",
       "0            1         0       3   \n",
       "1            2         1       1   \n",
       "2            3         1       3   \n",
       "3            4         1       1   \n",
       "4            5         0       3   \n",
       "\n",
       "                                                Name     Sex   Age  SibSp  \\\n",
       "0                            Braund, Mr. Owen Harris    male  22.0      1   \n",
       "1  Cumings, Mrs. John Bradley (Florence Briggs Th...  female  38.0      1   \n",
       "2                             Heikkinen, Miss. Laina  female  26.0      0   \n",
       "3       Futrelle, Mrs. Jacques Heath (Lily May Peel)  female  35.0      1   \n",
       "4                           Allen, Mr. William Henry    male  35.0      0   \n",
       "\n",
       "   Parch            Ticket     Fare Cabin Embarked  \n",
       "0      0         A/5 21171   7.2500   NaN        S  \n",
       "1      0          PC 17599  71.2833   C85        C  \n",
       "2      0  STON/O2. 3101282   7.9250   NaN        S  \n",
       "3      0            113803  53.1000  C123        S  \n",
       "4      0            373450   8.0500   NaN        S  "
      ]
     },
     "execution_count": 28,
     "metadata": {},
     "output_type": "execute_result"
    }
   ],
   "source": [
    "train_df.head()"
   ]
  },
  {
   "cell_type": "markdown",
   "metadata": {},
   "source": [
    "**Survived 列是目标变量，这是我们要预测的变量。** 如果 Survived 为 1，乘客幸免于难，为 0，表示未存活。\n",
    "\n",
    "Survived |  是否存活\n",
    "-|-\n",
    "0 | 死亡\n",
    "1 | 存活\n",
    "\n",
    "其他描述乘客的变量，是**特征**。\n",
    "\n",
    "数据特征 | 意思  \n",
    "-|-\n",
    "PassengerId | 乘客ID\n",
    "Pclass | 乘客等级(1,2,3)\n",
    "Name | 乘客姓名\n",
    "Sex | 乘客性别 (Female,Male)\n",
    "Age | 乘客年龄\n",
    "SibSp | 与乘客同行的兄弟姐妹和配偶的数量\n",
    "Parch | 与乘客同行的父母和孩子的数量\n",
    "Ticket | 船票号码\n",
    "Fare | 票价\n",
    "Cabin | 船舱号码\n",
    "Embarked | 乘客登船港口(C = Cherbourg, Q = Queenstown, S = Southampton)\n",
    "\n",
    "\n",
    "#### 数据集的大致信息\n",
    "\n",
    "`df.info()` 显示大致数据信息，包括每列名称，非空值数量，每列的数据类型，内存占用\n"
   ]
  },
  {
   "cell_type": "code",
   "execution_count": 29,
   "metadata": {},
   "outputs": [
    {
     "name": "stdout",
     "output_type": "stream",
     "text": [
      "<class 'pandas.core.frame.DataFrame'>\n",
      "RangeIndex: 891 entries, 0 to 890\n",
      "Data columns (total 12 columns):\n",
      " #   Column       Non-Null Count  Dtype  \n",
      "---  ------       --------------  -----  \n",
      " 0   PassengerId  891 non-null    int64  \n",
      " 1   Survived     891 non-null    int64  \n",
      " 2   Pclass       891 non-null    int64  \n",
      " 3   Name         891 non-null    object \n",
      " 4   Sex          891 non-null    object \n",
      " 5   Age          714 non-null    float64\n",
      " 6   SibSp        891 non-null    int64  \n",
      " 7   Parch        891 non-null    int64  \n",
      " 8   Ticket       891 non-null    object \n",
      " 9   Fare         891 non-null    float64\n",
      " 10  Cabin        204 non-null    object \n",
      " 11  Embarked     889 non-null    object \n",
      "dtypes: float64(2), int64(5), object(5)\n",
      "memory usage: 83.7+ KB\n",
      "________________________________________\n",
      "<class 'pandas.core.frame.DataFrame'>\n",
      "RangeIndex: 418 entries, 0 to 417\n",
      "Data columns (total 11 columns):\n",
      " #   Column       Non-Null Count  Dtype  \n",
      "---  ------       --------------  -----  \n",
      " 0   PassengerId  418 non-null    int64  \n",
      " 1   Pclass       418 non-null    int64  \n",
      " 2   Name         418 non-null    object \n",
      " 3   Sex          418 non-null    object \n",
      " 4   Age          332 non-null    float64\n",
      " 5   SibSp        418 non-null    int64  \n",
      " 6   Parch        418 non-null    int64  \n",
      " 7   Ticket       418 non-null    object \n",
      " 8   Fare         417 non-null    float64\n",
      " 9   Cabin        91 non-null     object \n",
      " 10  Embarked     418 non-null    object \n",
      "dtypes: float64(2), int64(4), object(5)\n",
      "memory usage: 36.0+ KB\n"
     ]
    }
   ],
   "source": [
    "train_df.info()\n",
    "print('_'*40)\n",
    "test_df.info()"
   ]
  },
  {
   "cell_type": "markdown",
   "metadata": {},
   "source": [
    "* 训练数据集\n",
    "    - 行数 ： 891个样本大小\n",
    "    - 列数 ：12（11个特征+1个**目标变量 Survived**）\n",
    "    - 数据类型 ： 7个特征是整数或浮点数，5个特征是字符串\n",
    "    - 缺失值情况 ：Cabin > Age > Embarked  (数量从大到小排序)\n",
    "    - 数值型数据 ：PassengerId，Age，Fare,SibSp,Parch\n",
    "    - 类别数据 ：Survived,Sex,Embarked,Pclass\n",
    "    - 混合型数据：Ticket,Cabin \n",
    "\n",
    "* 测试数据集\n",
    "    - 列数 ：11个特征\n",
    "    - 数据类型 ： 6个特征是整数或浮点数，5个特征是字符串\n",
    "    - 缺失值情况 ：Cabin > Age > Fare (数量从大到小排序)\n",
    "\n",
    "------\n",
    "\n",
    "**知识点**\n",
    "* **类别数据(定性数据)**\n",
    "\n",
    "    数据被划分为各种类别，用以描述某类得性质或特征。因此，类别数据也称为定性数据。游戏种类就是定性数据的一个实例 —— 每种游戏种类形成一个独立的类别。关于定性数据，请记住一个重点：不能将数据值理解为数字。\n",
    "    \n",
    "\n",
    "* **数值型数据(定量数据)**\n",
    "\n",
    "    数值型数据不同，它所涉及的是数字。数值型数据中的数值具有数字的意义，但还涉及计量或计数。由于数值型数据描述的是数量，所以也称为定量数据。\n",
    "\n",
    "------\n",
    "\n",
    "#### 数据集的描述性统计信息\n",
    "\n",
    "`df.describe()` 返回数据数值情况，数值数据的字段内容：count计数，mean平均数，std方差，min最小值，四分位数，max 最大值 "
   ]
  },
  {
   "cell_type": "code",
   "execution_count": 30,
   "metadata": {},
   "outputs": [
    {
     "data": {
      "text/html": [
       "<div>\n",
       "<style scoped>\n",
       "    .dataframe tbody tr th:only-of-type {\n",
       "        vertical-align: middle;\n",
       "    }\n",
       "\n",
       "    .dataframe tbody tr th {\n",
       "        vertical-align: top;\n",
       "    }\n",
       "\n",
       "    .dataframe thead th {\n",
       "        text-align: right;\n",
       "    }\n",
       "</style>\n",
       "<table border=\"1\" class=\"dataframe\">\n",
       "  <thead>\n",
       "    <tr style=\"text-align: right;\">\n",
       "      <th></th>\n",
       "      <th>PassengerId</th>\n",
       "      <th>Survived</th>\n",
       "      <th>Pclass</th>\n",
       "      <th>Age</th>\n",
       "      <th>SibSp</th>\n",
       "      <th>Parch</th>\n",
       "      <th>Fare</th>\n",
       "    </tr>\n",
       "  </thead>\n",
       "  <tbody>\n",
       "    <tr>\n",
       "      <th>count</th>\n",
       "      <td>891.000000</td>\n",
       "      <td>891.000000</td>\n",
       "      <td>891.000000</td>\n",
       "      <td>714.000000</td>\n",
       "      <td>891.000000</td>\n",
       "      <td>891.000000</td>\n",
       "      <td>891.000000</td>\n",
       "    </tr>\n",
       "    <tr>\n",
       "      <th>mean</th>\n",
       "      <td>446.000000</td>\n",
       "      <td>0.383838</td>\n",
       "      <td>2.308642</td>\n",
       "      <td>29.699118</td>\n",
       "      <td>0.523008</td>\n",
       "      <td>0.381594</td>\n",
       "      <td>32.204208</td>\n",
       "    </tr>\n",
       "    <tr>\n",
       "      <th>std</th>\n",
       "      <td>257.353842</td>\n",
       "      <td>0.486592</td>\n",
       "      <td>0.836071</td>\n",
       "      <td>14.526497</td>\n",
       "      <td>1.102743</td>\n",
       "      <td>0.806057</td>\n",
       "      <td>49.693429</td>\n",
       "    </tr>\n",
       "    <tr>\n",
       "      <th>min</th>\n",
       "      <td>1.000000</td>\n",
       "      <td>0.000000</td>\n",
       "      <td>1.000000</td>\n",
       "      <td>0.420000</td>\n",
       "      <td>0.000000</td>\n",
       "      <td>0.000000</td>\n",
       "      <td>0.000000</td>\n",
       "    </tr>\n",
       "    <tr>\n",
       "      <th>25%</th>\n",
       "      <td>223.500000</td>\n",
       "      <td>0.000000</td>\n",
       "      <td>2.000000</td>\n",
       "      <td>20.125000</td>\n",
       "      <td>0.000000</td>\n",
       "      <td>0.000000</td>\n",
       "      <td>7.910400</td>\n",
       "    </tr>\n",
       "    <tr>\n",
       "      <th>50%</th>\n",
       "      <td>446.000000</td>\n",
       "      <td>0.000000</td>\n",
       "      <td>3.000000</td>\n",
       "      <td>28.000000</td>\n",
       "      <td>0.000000</td>\n",
       "      <td>0.000000</td>\n",
       "      <td>14.454200</td>\n",
       "    </tr>\n",
       "    <tr>\n",
       "      <th>75%</th>\n",
       "      <td>668.500000</td>\n",
       "      <td>1.000000</td>\n",
       "      <td>3.000000</td>\n",
       "      <td>38.000000</td>\n",
       "      <td>1.000000</td>\n",
       "      <td>0.000000</td>\n",
       "      <td>31.000000</td>\n",
       "    </tr>\n",
       "    <tr>\n",
       "      <th>max</th>\n",
       "      <td>891.000000</td>\n",
       "      <td>1.000000</td>\n",
       "      <td>3.000000</td>\n",
       "      <td>80.000000</td>\n",
       "      <td>8.000000</td>\n",
       "      <td>6.000000</td>\n",
       "      <td>512.329200</td>\n",
       "    </tr>\n",
       "  </tbody>\n",
       "</table>\n",
       "</div>"
      ],
      "text/plain": [
       "       PassengerId    Survived      Pclass         Age       SibSp  \\\n",
       "count   891.000000  891.000000  891.000000  714.000000  891.000000   \n",
       "mean    446.000000    0.383838    2.308642   29.699118    0.523008   \n",
       "std     257.353842    0.486592    0.836071   14.526497    1.102743   \n",
       "min       1.000000    0.000000    1.000000    0.420000    0.000000   \n",
       "25%     223.500000    0.000000    2.000000   20.125000    0.000000   \n",
       "50%     446.000000    0.000000    3.000000   28.000000    0.000000   \n",
       "75%     668.500000    1.000000    3.000000   38.000000    1.000000   \n",
       "max     891.000000    1.000000    3.000000   80.000000    8.000000   \n",
       "\n",
       "            Parch        Fare  \n",
       "count  891.000000  891.000000  \n",
       "mean     0.381594   32.204208  \n",
       "std      0.806057   49.693429  \n",
       "min      0.000000    0.000000  \n",
       "25%      0.000000    7.910400  \n",
       "50%      0.000000   14.454200  \n",
       "75%      0.000000   31.000000  \n",
       "max      6.000000  512.329200  "
      ]
     },
     "execution_count": 30,
     "metadata": {},
     "output_type": "execute_result"
    }
   ],
   "source": [
    "train_df.describe()"
   ]
  },
  {
   "cell_type": "markdown",
   "metadata": {},
   "source": [
    "- Survied 的均值为 0.383838，而 survied 值只有0或1，说明这个均值反应了存活率。\n",
    "    + 样本存活率约38%，实际存活率为32%(2224-1502/2224=32.4%)\n",
    "    \n",
    "从目前来看，要注意几点。\n",
    "\n",
    "- 需要将非数值型特征转换为数值型特征，以便机器学习算法后期处理。\n",
    "- 这些特征的范围有很大的差异，需要将其转换为大致相同的尺度。\n",
    "- 一些特征包含缺失值（NaN = 不是数字），们需要处理。\n",
    "\n",
    "#### 数据集缺失值详情\n",
    "\n",
    "- `df.isnull()` 返回表明哪些值是缺失值的布尔值\n",
    "- `df.notnull()` 返回表明哪些值不是缺失值的布尔值\n",
    "- `df.dropna()` 根据每个标签的值是否是缺失数据来筛选轴标签，并根据允许丢失的数据量来确定阀值\n",
    "- `df.sort_values()` 排序，默认升序，ascending = False表示降序\n",
    "- `pd.concat([])` 使对象在轴向上进行粘合或“堆叠“，默认是沿着 axis=0(行) 的轴向。axis=1 表示(列)的轴向。\n",
    "- `round(x[, n])` 方法返回浮点数x的四舍五入值,n小数点位数"
   ]
  },
  {
   "cell_type": "code",
   "execution_count": 31,
   "metadata": {},
   "outputs": [
    {
     "data": {
      "text/html": [
       "<div>\n",
       "<style scoped>\n",
       "    .dataframe tbody tr th:only-of-type {\n",
       "        vertical-align: middle;\n",
       "    }\n",
       "\n",
       "    .dataframe tbody tr th {\n",
       "        vertical-align: top;\n",
       "    }\n",
       "\n",
       "    .dataframe thead th {\n",
       "        text-align: right;\n",
       "    }\n",
       "</style>\n",
       "<table border=\"1\" class=\"dataframe\">\n",
       "  <thead>\n",
       "    <tr style=\"text-align: right;\">\n",
       "      <th></th>\n",
       "      <th>total</th>\n",
       "      <th>%</th>\n",
       "    </tr>\n",
       "  </thead>\n",
       "  <tbody>\n",
       "    <tr>\n",
       "      <th>Cabin</th>\n",
       "      <td>687</td>\n",
       "      <td>77.1</td>\n",
       "    </tr>\n",
       "    <tr>\n",
       "      <th>Age</th>\n",
       "      <td>177</td>\n",
       "      <td>19.9</td>\n",
       "    </tr>\n",
       "    <tr>\n",
       "      <th>Embarked</th>\n",
       "      <td>2</td>\n",
       "      <td>0.2</td>\n",
       "    </tr>\n",
       "    <tr>\n",
       "      <th>Fare</th>\n",
       "      <td>0</td>\n",
       "      <td>0.0</td>\n",
       "    </tr>\n",
       "    <tr>\n",
       "      <th>Ticket</th>\n",
       "      <td>0</td>\n",
       "      <td>0.0</td>\n",
       "    </tr>\n",
       "  </tbody>\n",
       "</table>\n",
       "</div>"
      ],
      "text/plain": [
       "          total     %\n",
       "Cabin       687  77.1\n",
       "Age         177  19.9\n",
       "Embarked      2   0.2\n",
       "Fare          0   0.0\n",
       "Ticket        0   0.0"
      ]
     },
     "execution_count": 31,
     "metadata": {},
     "output_type": "execute_result"
    }
   ],
   "source": [
    "train_total = train_df.isnull().sum().sort_values(ascending=False)\n",
    "percent_1 = train_df.isnull().sum()/train_df.isnull().count()*100\n",
    "percent_2 = round(percent_1,1).sort_values(ascending=False)\n",
    "train_miss_data = pd.concat([train_total,percent_2],axis=1,keys=['total','%'])\n",
    "train_miss_data.head()"
   ]
  },
  {
   "cell_type": "code",
   "execution_count": 32,
   "metadata": {},
   "outputs": [
    {
     "data": {
      "text/html": [
       "<div>\n",
       "<style scoped>\n",
       "    .dataframe tbody tr th:only-of-type {\n",
       "        vertical-align: middle;\n",
       "    }\n",
       "\n",
       "    .dataframe tbody tr th {\n",
       "        vertical-align: top;\n",
       "    }\n",
       "\n",
       "    .dataframe thead th {\n",
       "        text-align: right;\n",
       "    }\n",
       "</style>\n",
       "<table border=\"1\" class=\"dataframe\">\n",
       "  <thead>\n",
       "    <tr style=\"text-align: right;\">\n",
       "      <th></th>\n",
       "      <th>total</th>\n",
       "      <th>%</th>\n",
       "    </tr>\n",
       "  </thead>\n",
       "  <tbody>\n",
       "    <tr>\n",
       "      <th>Cabin</th>\n",
       "      <td>327</td>\n",
       "      <td>78.2</td>\n",
       "    </tr>\n",
       "    <tr>\n",
       "      <th>Age</th>\n",
       "      <td>86</td>\n",
       "      <td>20.6</td>\n",
       "    </tr>\n",
       "    <tr>\n",
       "      <th>Fare</th>\n",
       "      <td>1</td>\n",
       "      <td>0.2</td>\n",
       "    </tr>\n",
       "    <tr>\n",
       "      <th>Embarked</th>\n",
       "      <td>0</td>\n",
       "      <td>0.0</td>\n",
       "    </tr>\n",
       "    <tr>\n",
       "      <th>Ticket</th>\n",
       "      <td>0</td>\n",
       "      <td>0.0</td>\n",
       "    </tr>\n",
       "  </tbody>\n",
       "</table>\n",
       "</div>"
      ],
      "text/plain": [
       "          total     %\n",
       "Cabin       327  78.2\n",
       "Age          86  20.6\n",
       "Fare          1   0.2\n",
       "Embarked      0   0.0\n",
       "Ticket        0   0.0"
      ]
     },
     "execution_count": 32,
     "metadata": {},
     "output_type": "execute_result"
    }
   ],
   "source": [
    "test_total = test_df.isnull().sum().sort_values(ascending=False)\n",
    "percent_1 = test_df.isnull().sum()/test_df.isnull().count()*100\n",
    "percent_2 = round(percent_1,1).sort_values(ascending=False)\n",
    "test_miss_data = pd.concat([test_total,percent_2],axis=1,keys=['total','%'])\n",
    "test_miss_data.head()"
   ]
  },
  {
   "cell_type": "markdown",
   "metadata": {},
   "source": [
    "* 训练数据集\n",
    "    + Embarked 特征只有2个缺失的值，可以很容易地填补。\n",
    "    + Age 特征就比较麻烦了，因为它有177个缺失值。\n",
    "    + Cabin 特征需要进一步调查，但看起来可能要从数据集中删除它，因为缺失值比例高达 77%。\n",
    "* 测试数据集\n",
    "    + Fare 特征只有1个缺失的值，可以很容易地填补。\n",
    "    + Age 特征有86个缺失值。\n",
    "    + Cabin 特征需要进一步调查，但看起来可能要从数据集中删除它，因为缺失值比例高达 78.2%。\n",
    "\n",
    "isnull用法 \n",
    "\n",
    "- df.isnull()  #元素为空或者NA就显示True，否则就是False\n",
    "- df.isnull().any()  #判断哪些列包含缺失值，该列存在缺失值则返回True，反之False。\n",
    "\n",
    "对比count() 、isnull().count()和isnull().sum()\n",
    "\n",
    "- df.count() #每一列中非缺失值的个数\n",
    "- df.isnull().count() #每一列总元素个数\n",
    "- df.isnull().sum() #每列缺失数据的个数\n",
    "\n",
    "Just print out the data of train_df.isnull(), you will see it.\n",
    "It still got 891 rows, full of Trues and False. \n",
    "When you use sum(), it will return the sum of every column, which adds trues(=1) and false(0) together.\n",
    "When you use count(), it just return number of rows.So you will get 891 for each column no matter you use .isnull().count() or .notnull().count()."
   ]
  },
  {
   "cell_type": "markdown",
   "metadata": {},
   "source": [
    "#### 假设\n",
    "\n",
    "**哪些特征可能和存活有关？**"
   ]
  },
  {
   "cell_type": "code",
   "execution_count": 33,
   "metadata": {
    "scrolled": false
   },
   "outputs": [
    {
     "data": {
      "text/plain": [
       "array(['PassengerId', 'Survived', 'Pclass', 'Name', 'Sex', 'Age', 'SibSp',\n",
       "       'Parch', 'Ticket', 'Fare', 'Cabin', 'Embarked'], dtype=object)"
      ]
     },
     "execution_count": 33,
     "metadata": {},
     "output_type": "execute_result"
    }
   ],
   "source": [
    "train_df.columns.values"
   ]
  },
  {
   "cell_type": "markdown",
   "metadata": {},
   "source": [
    "初步判断，除了PassengerId、Ticket和 Name之外,其他特征都可能与存活有关。\n",
    "\n",
    "##### 1.1 数值型 Age、类别型 Sex、类别型 Survived 三者之间的关系:\n",
    "\n",
    "* 首先将数据按照性别(Female, Male)划分 \n",
    "* 基于性别，再根据存活状态(Survived,Not_Survived)划分 \n",
    "* 就会有四种搭配\n",
    "        - Female & Survived\n",
    "        - Female & Not_Survived\n",
    "        - Male & Survived\n",
    "        - Male & Not_Survived\n",
    "* 鉴于 Age 特征有缺失值，在此处可视化分析时，需要去除 Age 的缺失值"
   ]
  },
  {
   "cell_type": "code",
   "execution_count": 34,
   "metadata": {},
   "outputs": [
    {
     "data": {
      "text/html": [
       "<div>\n",
       "<style scoped>\n",
       "    .dataframe tbody tr th:only-of-type {\n",
       "        vertical-align: middle;\n",
       "    }\n",
       "\n",
       "    .dataframe tbody tr th {\n",
       "        vertical-align: top;\n",
       "    }\n",
       "\n",
       "    .dataframe thead th {\n",
       "        text-align: right;\n",
       "    }\n",
       "</style>\n",
       "<table border=\"1\" class=\"dataframe\">\n",
       "  <thead>\n",
       "    <tr style=\"text-align: right;\">\n",
       "      <th></th>\n",
       "      <th>PassengerId</th>\n",
       "      <th>Survived</th>\n",
       "      <th>Pclass</th>\n",
       "      <th>Name</th>\n",
       "      <th>Sex</th>\n",
       "      <th>Age</th>\n",
       "      <th>SibSp</th>\n",
       "      <th>Parch</th>\n",
       "      <th>Ticket</th>\n",
       "      <th>Fare</th>\n",
       "      <th>Cabin</th>\n",
       "      <th>Embarked</th>\n",
       "    </tr>\n",
       "  </thead>\n",
       "  <tbody>\n",
       "    <tr>\n",
       "      <th>1</th>\n",
       "      <td>2</td>\n",
       "      <td>1</td>\n",
       "      <td>1</td>\n",
       "      <td>Cumings, Mrs. John Bradley (Florence Briggs Th...</td>\n",
       "      <td>female</td>\n",
       "      <td>38.0</td>\n",
       "      <td>1</td>\n",
       "      <td>0</td>\n",
       "      <td>PC 17599</td>\n",
       "      <td>71.2833</td>\n",
       "      <td>C85</td>\n",
       "      <td>C</td>\n",
       "    </tr>\n",
       "    <tr>\n",
       "      <th>2</th>\n",
       "      <td>3</td>\n",
       "      <td>1</td>\n",
       "      <td>3</td>\n",
       "      <td>Heikkinen, Miss. Laina</td>\n",
       "      <td>female</td>\n",
       "      <td>26.0</td>\n",
       "      <td>0</td>\n",
       "      <td>0</td>\n",
       "      <td>STON/O2. 3101282</td>\n",
       "      <td>7.9250</td>\n",
       "      <td>NaN</td>\n",
       "      <td>S</td>\n",
       "    </tr>\n",
       "    <tr>\n",
       "      <th>3</th>\n",
       "      <td>4</td>\n",
       "      <td>1</td>\n",
       "      <td>1</td>\n",
       "      <td>Futrelle, Mrs. Jacques Heath (Lily May Peel)</td>\n",
       "      <td>female</td>\n",
       "      <td>35.0</td>\n",
       "      <td>1</td>\n",
       "      <td>0</td>\n",
       "      <td>113803</td>\n",
       "      <td>53.1000</td>\n",
       "      <td>C123</td>\n",
       "      <td>S</td>\n",
       "    </tr>\n",
       "    <tr>\n",
       "      <th>8</th>\n",
       "      <td>9</td>\n",
       "      <td>1</td>\n",
       "      <td>3</td>\n",
       "      <td>Johnson, Mrs. Oscar W (Elisabeth Vilhelmina Berg)</td>\n",
       "      <td>female</td>\n",
       "      <td>27.0</td>\n",
       "      <td>0</td>\n",
       "      <td>2</td>\n",
       "      <td>347742</td>\n",
       "      <td>11.1333</td>\n",
       "      <td>NaN</td>\n",
       "      <td>S</td>\n",
       "    </tr>\n",
       "    <tr>\n",
       "      <th>9</th>\n",
       "      <td>10</td>\n",
       "      <td>1</td>\n",
       "      <td>2</td>\n",
       "      <td>Nasser, Mrs. Nicholas (Adele Achem)</td>\n",
       "      <td>female</td>\n",
       "      <td>14.0</td>\n",
       "      <td>1</td>\n",
       "      <td>0</td>\n",
       "      <td>237736</td>\n",
       "      <td>30.0708</td>\n",
       "      <td>NaN</td>\n",
       "      <td>C</td>\n",
       "    </tr>\n",
       "  </tbody>\n",
       "</table>\n",
       "</div>"
      ],
      "text/plain": [
       "   PassengerId  Survived  Pclass  \\\n",
       "1            2         1       1   \n",
       "2            3         1       3   \n",
       "3            4         1       1   \n",
       "8            9         1       3   \n",
       "9           10         1       2   \n",
       "\n",
       "                                                Name     Sex   Age  SibSp  \\\n",
       "1  Cumings, Mrs. John Bradley (Florence Briggs Th...  female  38.0      1   \n",
       "2                             Heikkinen, Miss. Laina  female  26.0      0   \n",
       "3       Futrelle, Mrs. Jacques Heath (Lily May Peel)  female  35.0      1   \n",
       "8  Johnson, Mrs. Oscar W (Elisabeth Vilhelmina Berg)  female  27.0      0   \n",
       "9                Nasser, Mrs. Nicholas (Adele Achem)  female  14.0      1   \n",
       "\n",
       "   Parch            Ticket     Fare Cabin Embarked  \n",
       "1      0          PC 17599  71.2833   C85        C  \n",
       "2      0  STON/O2. 3101282   7.9250   NaN        S  \n",
       "3      0            113803  53.1000  C123        S  \n",
       "8      2            347742  11.1333   NaN        S  \n",
       "9      0            237736  30.0708   NaN        C  "
      ]
     },
     "execution_count": 34,
     "metadata": {},
     "output_type": "execute_result"
    }
   ],
   "source": [
    "# 按性别筛选出数据\n",
    "women = train_df[train_df['Sex']=='female']\n",
    "men = train_df[train_df['Sex']=='male']\n",
    "\n",
    "# 在性别的基础上筛选出存活和未存活的数据\n",
    "\n",
    "# 选出存活的数据\n",
    "F_survived = women[women['Survived']==1]\n",
    "M_survived = men[men['Survived']==1]\n",
    "\n",
    "# 选出未存活的数据\n",
    "F_not_surv = women[women['Survived']==0]\n",
    "M_not_surv = men[men['Survived']==0]\n",
    "\n",
    "F_survived.head()"
   ]
  },
  {
   "cell_type": "markdown",
   "metadata": {},
   "source": [
    "求某一列的缺失值情况\n",
    "\n",
    "由于 Dataframe 数据中选择某一列的方式有 (按照字典型标记或属性那样检索为 Series)\n",
    "    - df.A 的属性方式\n",
    "    - df['A'] 的方式\n",
    "所以求某一列的缺失值情况也有两种\n",
    "    - df.A.isnull().sum()\n",
    "    - df['A'].isnull().sum()\n",
    "\n",
    "根据某一列去除缺失值\n",
    "    - df.A.isnull().dropna()\n",
    "    - df['A'].isnull().dropna()"
   ]
  },
  {
   "cell_type": "code",
   "execution_count": 35,
   "metadata": {},
   "outputs": [
    {
     "name": "stdout",
     "output_type": "stream",
     "text": [
      "去除前，Female survived null 36\n",
      "取出后，Female survived null 0\n"
     ]
    }
   ],
   "source": [
    "# 每种数据去除 Age 缺失值\n",
    "print('去除前，Female survived null', F_survived.Age.isnull().sum())\n",
    "\n",
    "# 去除 Age 缺失值\n",
    "F_survived.Age.dropna()\n",
    "M_survived.Age.dropna()\n",
    "F_not_surv.Age.dropna()\n",
    "M_not_surv.Age.dropna()\n",
    "\n",
    "print('取出后，Female survived null',F_survived.Age.dropna().isnull().sum())"
   ]
  },
  {
   "cell_type": "markdown",
   "metadata": {},
   "source": [
    "----\n",
    "**知识点**\n",
    "\n",
    "displot()集合了matplotlib的hist()与核函数估计kdeplot的功能，增加了rugplot分布观测条显示与利用scipy库fit拟合参数分布的新颖用途。具体用法如下：：\n",
    "\n",
    "```\n",
    "seaborn.distplot(a, bins=None, hist=True, kde=True, rug=False, fit=None, hist_kws=None, kde_kws=None, rug_kws=None, fit_kws=None, color=None, vertical=False, norm_hist=False, axlabel=None, label=None, ax=None)\n",
    "```\n",
    "    - 参数 ax：选择位置\n",
    "    - 参数 hist、kde，调节是否显示直方图及核密度估计(默认hist,kde均为True)\n",
    "\n",
    "---\n",
    "\n",
    "问题：直方图中参数 bins，这里是根据什么设置的?\n",
    "\n",
    "- 极端情况, bins = 1\n",
    "上图展现了极端情况, 当 bins = 1，表示所有的数据都在一个组内。分组太粗糙影响数据分组规律的明显性，什么都看不出。\n",
    "\n",
    "- 极端情况, bins = 数据大小\n",
    "下图进行极端情况的对比, 当 bins = len(data)，表示如果所有的数据都不同,将出现和数据长度一样的组。分组太细致会引起较大的误差，因此组数的确定要适当。\n",
    "\n",
    "组距的宽度：用数据中(最大值-最小值)/组数\n",
    "\n",
    "----\n"
   ]
  },
  {
   "cell_type": "code",
   "execution_count": 36,
   "metadata": {
    "scrolled": false
   },
   "outputs": [
    {
     "data": {
      "text/plain": [
       "Text(0.5, 1.0, 'Male')"
      ]
     },
     "execution_count": 36,
     "metadata": {},
     "output_type": "execute_result"
    },
    {
     "data": {
      "image/png": "[encoded data removed]",
      "text/plain": [
       "<Figure size 1152x576 with 2 Axes>"
      ]
     },
     "metadata": {},
     "output_type": "display_data"
    }
   ],
   "source": [
    "sns.set() # 声明使用 Seaborn 样式\n",
    "\n",
    "fig,axes = plt.subplots(nrows=1,ncols=2,figsize=(16,8)) # 创建一个 Figure, 子图为1行，2列\n",
    "survived = 'survived' # 图例 label \n",
    "not_survived = 'not survived' # 图例 label\n",
    "\n",
    "ax = sns.distplot(F_survived.Age.dropna(),bins=18,ax=axes[0],kde=False)\n",
    "ax = sns.distplot(F_not_surv.Age.dropna(),bins=40,ax=axes[0],kde=False)\n",
    "ax.legend([survived,not_survived]) # 图例 label 放置位置1\n",
    "ax.set_title('Female')\n",
    "\n",
    "ax = sns.distplot(M_survived.Age.dropna(),bins=18,ax=axes[1],label=survived,kde=False) # 图例 label 放置位置2\n",
    "ax = sns.distplot(M_not_surv.Age.dropna(),bins=40,ax=axes[1],label=not_survived,kde=False)\n",
    "ax.legend()\n",
    "ax.set_title('Male')"
   ]
  },
  {
   "cell_type": "markdown",
   "metadata": {},
   "source": [
    "可以看出\n",
    "\n",
    "- 对于男性来说，大概20岁到35岁之间的存活率较高的；5岁到18岁之间的存活概率很低，\n",
    "- 对于女性来说，大概15岁到40岁之间的存活概率更高\n",
    "- 无论男女，婴儿的存活概率会高一点。\n",
    "\n",
    "似乎有一些特定的年龄段，存活几率会增加。下面来观察 Age 和 Survived 的关系\n",
    "\n",
    "###### 1.2 数值型 Age、 类别型 Survived 两者之间的关系\n",
    "\n",
    "FacetGrid当您想要在数据集的子集中分别可视化变量的分布或多个变量之间的关系时，该类非常有用。一个FacetGrid可以与多达三个维度可以得出：row，col，和hue。前两个与得到的轴阵列有明显的对应关系; 将色调变量视为沿深度轴的第三个维度，其中不同的级别用不同的颜色绘制。\n",
    "\n",
    "```\n",
    "FacetGrid(data, row=None, col=None, hue=None, col_wrap=None, sharex=True, sharey=True, height=3, aspect=1, palette=None, row_order=None, col_order=None, hue_order=None, hue_kws=None, dropna=True, legend_out=True, despine=True, margin_titles=False, xlim=None, ylim=None, subplot_kws=None, gridspec_kws=None, size=None)\n",
    "```\n",
    "\n",
    "- col 列上的变量(左右)\n",
    "- row 行上的变量(上下)\n",
    "\n",
    "这里将 FacetGrid 函数用于不同存活率的值，独立分成两个直方图。"
   ]
  },
  {
   "cell_type": "code",
   "execution_count": 37,
   "metadata": {
    "scrolled": true
   },
   "outputs": [
    {
     "data": {
      "text/plain": [
       "<seaborn.axisgrid.FacetGrid at 0x7f941b30c320>"
      ]
     },
     "execution_count": 37,
     "metadata": {},
     "output_type": "execute_result"
    },
    {
     "data": {
      "image/png": "[encoded data removed]",
      "text/plain": [
       "<Figure size 432x216 with 2 Axes>"
      ]
     },
     "metadata": {},
     "output_type": "display_data"
    }
   ],
   "source": [
    "import matplotlib.pyplot as plt #导入 matplotlib.pyplot，并简写成plt\n",
    "import seaborn as sns\n",
    "import numpy as np  #导入numpy包，用于生成数组\n",
    "import pandas as pd #导入pandas包，用于数据分析\n",
    "#IPython notebook中的魔法方法，这样每次运行后可以直接得到图像，不再需要使用plt.show()\n",
    "%matplotlib inline  \n",
    "\n",
    "g = sns.FacetGrid(train_df, col='Survived')\n",
    "g.map(plt.hist, 'Age', bins=20)"
   ]
  },
  {
   "cell_type": "markdown",
   "metadata": {},
   "source": [
    "可以看出\n",
    "- 婴儿（Age<=4）有较高的生存率\n",
    "- 老人（Age=80）全部生还\n",
    "- 大量的15-25年纪的乘客没有生还\n",
    "- 乘客主要在15-35的年纪范围内\n",
    "\n",
    "###### 1.3 类别型 Sex、 数值型 Survived 两者之间的关系 (这里用的是数值型 Survived，可能需要放到其他位置)"
   ]
  },
  {
   "cell_type": "code",
   "execution_count": 38,
   "metadata": {
    "scrolled": true
   },
   "outputs": [
    {
     "data": {
      "text/plain": [
       "<matplotlib.axes._subplots.AxesSubplot at 0x7f941c536a58>"
      ]
     },
     "execution_count": 38,
     "metadata": {},
     "output_type": "execute_result"
    },
    {
     "data": {
      "image/png": "[encoded data removed]",
      "text/plain": [
       "<Figure size 432x288 with 1 Axes>"
      ]
     },
     "metadata": {},
     "output_type": "display_data"
    }
   ],
   "source": [
    "import matplotlib.pyplot as plt #导入 matplotlib.pyplot，并简写成plt\n",
    "import seaborn as sns\n",
    "import numpy as np  #导入numpy包，用于生成数组\n",
    "import pandas as pd #导入pandas包，用于数据分析\n",
    "#IPython notebook中的魔法方法，这样每次运行后可以直接得到图像，不再需要使用plt.show()\n",
    "%matplotlib inline  \n",
    "\n",
    "sns.barplot(x='Sex', y='Survived', data=train_df)"
   ]
  },
  {
   "cell_type": "markdown",
   "metadata": {},
   "source": [
    "可以看出，女性乘客的幸存率比男性高。\n",
    "\n",
    "##### 2.1 类别型 Embarked、类别型 Pclass、类别型 Sex、数值型 Survived 4者之间的关系"
   ]
  },
  {
   "cell_type": "code",
   "execution_count": 39,
   "metadata": {
    "scrolled": false
   },
   "outputs": [
    {
     "data": {
      "text/plain": [
       "<seaborn.axisgrid.FacetGrid at 0x7f941dc40e48>"
      ]
     },
     "execution_count": 39,
     "metadata": {},
     "output_type": "execute_result"
    },
    {
     "data": {
      "image/png": "[encoded data removed]",
      "text/plain": [
       "<Figure size 326.29x475.2 with 3 Axes>"
      ]
     },
     "metadata": {},
     "output_type": "display_data"
    }
   ],
   "source": [
    "grid = sns.FacetGrid(train_df, row='Embarked',height=2.2, aspect=1.6) \n",
    "grid.map(sns.pointplot, 'Pclass', 'Survived','Sex',palette='deep',hue_order=['female','male'],order=[1,2,3]) \n",
    "grid.add_legend()"
   ]
  },
  {
   "cell_type": "markdown",
   "metadata": {},
   "source": [
    "按照性别分类，Embarked 似乎与存活率有关。\n",
    "\n",
    "- 不论从哪个港口登船，Pclass 一样的前提下，女性乘客的存活率都高于男性。\n",
    "- 对于从S或C港口登船的男性乘客中，Pclass=1的存活率比 Pclass =2, Pclass=3 都高。\n",
    "- 对于从Q港口登船的男性乘客中，Pclass=3的存活率比 Pclass =1, Pclass=2 高。\n",
    "\n",
    "Pclass 似乎也与存活率有关。下面来观察 Pclass 和 Survived 的关系\n",
    "\n",
    "##### 2.2类别型 Pclass、 数值型 Survived 两者之间的关系"
   ]
  },
  {
   "cell_type": "code",
   "execution_count": 40,
   "metadata": {
    "scrolled": true
   },
   "outputs": [
    {
     "data": {
      "text/plain": [
       "<matplotlib.axes._subplots.AxesSubplot at 0x7f941dc40198>"
      ]
     },
     "execution_count": 40,
     "metadata": {},
     "output_type": "execute_result"
    },
    {
     "data": {
      "image/png": "[encoded data removed]",
      "text/plain": [
       "<Figure size 432x288 with 1 Axes>"
      ]
     },
     "metadata": {},
     "output_type": "display_data"
    }
   ],
   "source": [
    "sns.barplot(x='Pclass', y='Survived', data=train_df)"
   ]
  },
  {
   "cell_type": "markdown",
   "metadata": {},
   "source": [
    "明显可以看出 Pclass=1的乘客存活率更高\n",
    "\n",
    "##### 2.3 类别型 Pclass、数值型 Age、 类别型 Survived 三者之间的关系\n",
    "\n",
    "aspect:每个小图表的横轴长度和纵轴的比，默认为1; height:每个小图表的高度设定，默认为3"
   ]
  },
  {
   "cell_type": "code",
   "execution_count": 41,
   "metadata": {},
   "outputs": [
    {
     "data": {
      "image/png": "[encoded data removed]",
      "text/plain": [
       "<Figure size 515.68x475.2 with 6 Axes>"
      ]
     },
     "metadata": {},
     "output_type": "display_data"
    }
   ],
   "source": [
    "grid = sns.FacetGrid(train_df, col='Survived', row='Pclass', height=2.2, aspect=1.6)\n",
    "grid.map(plt.hist, 'Age', alpha=.5, bins=20)\n",
    "grid.add_legend();"
   ]
  },
  {
   "cell_type": "code",
   "execution_count": 42,
   "metadata": {},
   "outputs": [
    {
     "data": {
      "text/plain": [
       "<seaborn.axisgrid.FacetGrid at 0x7f941c752eb8>"
      ]
     },
     "execution_count": 42,
     "metadata": {},
     "output_type": "execute_result"
    },
    {
     "data": {
      "image/png": "[encoded data removed]",
      "text/plain": [
       "<Figure size 271.55x648 with 3 Axes>"
      ]
     },
     "metadata": {},
     "output_type": "display_data"
    }
   ],
   "source": [
    "# 或者用这个\n",
    "grid = sns.FacetGrid(train_df,hue='Survived',row='Pclass')\n",
    "grid.map(plt.hist,\"Age\",bins=20)\n",
    "grid.add_legend()"
   ]
  },
  {
   "cell_type": "markdown",
   "metadata": {},
   "source": [
    "##### 2.4 数值型 SibSp、 数值型 Parch、 数值型 Survived 3者之间的关系\n",
    "\n",
    "SibSp 和 Parch 组合在一起使用才更有意义，组合起来表示与乘客同行的亲属人数。并计算出单独出行和非单独出行的人数"
   ]
  },
  {
   "cell_type": "code",
   "execution_count": 43,
   "metadata": {},
   "outputs": [
    {
     "data": {
      "text/plain": [
       "1    537\n",
       "0    354\n",
       "Name: not_alone, dtype: int64"
      ]
     },
     "execution_count": 43,
     "metadata": {},
     "output_type": "execute_result"
    }
   ],
   "source": [
    "data = [train_df, test_df]  # 训练集和测试集\n",
    "for dataset in data:\n",
    "    dataset['relatives'] = dataset['SibSp'] + dataset['Parch']\n",
    "    dataset.loc[dataset['relatives'] > 0, 'not_alone'] = 0\n",
    "    dataset.loc[dataset['relatives'] == 0, 'not_alone'] = 1\n",
    "    dataset['not_alone'] = dataset['not_alone'].astype(int)\n",
    "train_df['not_alone'].value_counts()\n"
   ]
  },
  {
   "cell_type": "markdown",
   "metadata": {},
   "source": [
    "知识点：**[loc 根据条件，对新增列赋值](https://blog.csdn.net/qq_36523839/article/details/80502574)**\n",
    "\n",
    "`df.loc[条件,新增列] = 赋初始值`\n",
    "\n",
    "如果新增列名为已有列名，则在原来的数据列上改变"
   ]
  },
  {
   "cell_type": "code",
   "execution_count": 44,
   "metadata": {},
   "outputs": [
    {
     "name": "stdout",
     "output_type": "stream",
     "text": [
      "          A         B         C         D\n",
      "a  0.331526  0.188678  0.802458  0.282505\n",
      "b  0.306952  0.628594  0.546084  0.715535\n",
      "c  0.348518  0.832911  0.154242  0.509229\n",
      "d  0.936607  0.988316  0.379795  0.809426\n",
      "e  0.609111  0.655595  0.120870  0.649390\n",
      "f  0.773430  0.192012  0.789323  0.834608\n",
      "g  0.259756  0.568103  0.324179  0.505056\n",
      "h  0.882023  0.583205  0.185288  0.951828\n",
      "          A         B         C         D  小于0.5\n",
      "a  0.331526  0.188678  0.802458  0.282505    1.0\n",
      "b  0.306952  0.628594  0.546084  0.715535    1.0\n",
      "c  0.348518  0.832911  0.154242  0.509229    1.0\n",
      "d  0.936607  0.988316  0.379795  0.809426    0.0\n",
      "e  0.609111  0.655595  0.120870  0.649390    0.0\n",
      "f  0.773430  0.192012  0.789323  0.834608    0.0\n",
      "g  0.259756  0.568103  0.324179  0.505056    1.0\n",
      "h  0.882023  0.583205  0.185288  0.951828    0.0\n"
     ]
    }
   ],
   "source": [
    "df1 = pd.DataFrame(np.random.rand(8,4),index=list('abcdefgh'),columns=['A','B','C','D'])\n",
    "print(df1)\n",
    "\n",
    "df1.loc[df1['A']<0.5,'小于0.5'] = 1\n",
    "df1.loc[df1['A']>0.5,'小于0.5'] = 0\n",
    "print(df1)"
   ]
  },
  {
   "cell_type": "markdown",
   "metadata": {},
   "source": [
    "知识点：**value_counts() 方法**\n",
    "\n",
    "返回一个序列 Series，该序列包含每个值的数量。也就是说，对于数据框中的任何列，value-counts () 方法会返回该列每个项的计数。\n",
    "\n",
    "- 对该列中出现的每个值进行计数(无效值会被排除)  默认降序排序\n",
    "    - `value_counts(ascending=True)` 升序\n",
    "- 求各个值的相对频率\n",
    "    - `value_counts(normalize=True)`"
   ]
  },
  {
   "cell_type": "code",
   "execution_count": 45,
   "metadata": {},
   "outputs": [
    {
     "name": "stdout",
     "output_type": "stream",
     "text": [
      "          A         B         C         D\n",
      "a  0.714111  0.094784  0.448289  0.336892\n",
      "b  0.879890  0.040982  0.532882  0.811470\n",
      "c  0.374399  0.391147  0.039805  0.750525\n",
      "d  0.686272  0.369363  0.612577  0.964210\n",
      "e  0.704862  0.872336  0.853712  0.425020\n",
      "f  0.201577  0.037678  0.858768  0.675814\n",
      "g  0.032393  0.231090  0.175304  0.587259\n",
      "h  0.370569  0.290170  0.691592  0.021444\n",
      "          A         B         C         D  小于0.5\n",
      "a  0.714111  0.094784  0.448289  0.336892    NaN\n",
      "b  0.879890  0.040982  0.532882  0.811470    NaN\n",
      "c  0.374399  0.391147  0.039805  0.750525    1.0\n",
      "d  0.686272  0.369363  0.612577  0.964210    NaN\n",
      "e  0.704862  0.872336  0.853712  0.425020    NaN\n",
      "f  0.201577  0.037678  0.858768  0.675814    1.0\n",
      "g  0.032393  0.231090  0.175304  0.587259    1.0\n",
      "h  0.370569  0.290170  0.691592  0.021444    1.0\n",
      "1.0    4\n",
      "Name: 小于0.5, dtype: int64\n",
      "1.0    0.5\n",
      "0.0    0.5\n",
      "Name: 小于0.5, dtype: float64\n"
     ]
    }
   ],
   "source": [
    "df1 = pd.DataFrame(np.random.rand(8,4),index=list('abcdefgh'),columns=['A','B','C','D'])\n",
    "print(df1)\n",
    "\n",
    "df1.loc[df1['A']<0.5,'小于0.5'] = 1\n",
    "print(df1)\n",
    "print(df1['小于0.5'].value_counts())\n",
    "df1.loc[df1['A']>0.5,'小于0.5'] = 0\n",
    "print(df1['小于0.5'].value_counts(normalize=True))"
   ]
  },
  {
   "cell_type": "markdown",
   "metadata": {},
   "source": [
    "知识点 **astype(int)**\n",
    "\n",
    "用于转化dateframe某一列的数据类型\n",
    "\n",
    "如下将dateframe某列的str类型转为int，注意astype()没有replace=True的用法，想要在原数据上修改，要写成如下形式。\n",
    "\n",
    "`app_train[['uid','index']] = app_train[['uid','index']].astype(int)`\n",
    "\n",
    "注意只有当该列的字符串全是由纯数字构成时才可以这样写，如果混有字母，会报错：ValueError: invalid literal for int() with base 10\n",
    "\n",
    "利用int()函数转字符串也类似\n",
    "\n",
    "isdigit()用于判断一个字符串是否由纯数字构成，如果是返回True,否则False"
   ]
  },
  {
   "cell_type": "code",
   "execution_count": 46,
   "metadata": {},
   "outputs": [
    {
     "data": {
      "text/plain": [
       "1    4\n",
       "0    4\n",
       "Name: 小于0.5, dtype: int64"
      ]
     },
     "execution_count": 46,
     "metadata": {},
     "output_type": "execute_result"
    }
   ],
   "source": [
    "df1['小于0.5'].astype(int).value_counts()"
   ]
  },
  {
   "cell_type": "code",
   "execution_count": 47,
   "metadata": {},
   "outputs": [
    {
     "data": {
      "image/png": "[encoded data removed]",
      "text/plain": [
       "<Figure size 900x360 with 1 Axes>"
      ]
     },
     "metadata": {},
     "output_type": "display_data"
    }
   ],
   "source": [
    "grid = sns.catplot('relatives','Survived', data=train_df, kind='point',aspect = 2.5)"
   ]
  },
  {
   "cell_type": "markdown",
   "metadata": {},
   "source": [
    "观察：\n",
    "- 同行家属在1到3位的存活率较高\n",
    "- 除了6位，同行家属只有1位或者超过3位的存活率较低\n",
    "\n",
    "决策：\n",
    "- 纳入模型\n",
    "\n",
    "### 特征工程\n",
    "\n",
    "训练集和测试集都需要处理，所以将其合并。\n",
    "\n",
    "方法\n",
    "- 删除无关特征\n",
    "- 创建新的特征(根据已有特征，挖掘有效信息创建新的特征)\n",
    "- 处理缺失值\n",
    "    根据之前我们知晓的缺失值情况,对其一一处理\n",
    "    * 训练数据集\n",
    "        + Embarked 特征只有2个缺失的值，可以很容易地填补。\n",
    "        + Age 特征就比较麻烦了，因为它有177个缺失值。\n",
    "        + Cabin 特征需要进一步调查，但看起来可能要从数据集中删除它，因为缺失值比例高达 77%。\n",
    "    * 测试数据集\n",
    "        + Fare 特征只有2个缺失的值，可以很容易地填补。\n",
    "        + Age 特征有86个缺失值。\n",
    "        + Cabin 特征需要进一步调查，但看起来可能要从数据集中删除它，因为缺失值比例高达 78.2%。"
   ]
  },
  {
   "cell_type": "code",
   "execution_count": 50,
   "metadata": {},
   "outputs": [
    {
     "name": "stdout",
     "output_type": "stream",
     "text": [
      "<class 'pandas.core.frame.DataFrame'>\n",
      "RangeIndex: 1309 entries, 0 to 1308\n",
      "Data columns (total 14 columns):\n",
      " #   Column       Non-Null Count  Dtype  \n",
      "---  ------       --------------  -----  \n",
      " 0   PassengerId  1309 non-null   int64  \n",
      " 1   Survived     891 non-null    float64\n",
      " 2   Pclass       1309 non-null   int64  \n",
      " 3   Name         1309 non-null   object \n",
      " 4   Sex          1309 non-null   object \n",
      " 5   Age          1046 non-null   float64\n",
      " 6   SibSp        1309 non-null   int64  \n",
      " 7   Parch        1309 non-null   int64  \n",
      " 8   Ticket       1309 non-null   object \n",
      " 9   Fare         1308 non-null   float64\n",
      " 10  Cabin        295 non-null    object \n",
      " 11  Embarked     1307 non-null   object \n",
      " 12  relatives    1309 non-null   int64  \n",
      " 13  not_alone    1309 non-null   int64  \n",
      "dtypes: float64(3), int64(6), object(5)\n",
      "memory usage: 143.3+ KB\n",
      "None\n"
     ]
    }
   ],
   "source": [
    "# 合并训练集和测试集\n",
    "titanic = train_df.append(test_df, ignore_index=True)\n",
    "\n",
    "# 保存测试集的 PassengerId 用于最后提交\n",
    "passengerId = test_df.PassengerId\n",
    "\n",
    "# 创建索引，后期用于分开数据集\n",
    "train_idx = len(train_df)\n",
    "test_idx = len(titanic) - len(test_df)\n",
    "\n",
    "print(titanic.info())"
   ]
  },
  {
   "cell_type": "markdown",
   "metadata": {},
   "source": [
    "#### 处理特征 PassengerId - 删除特征\n",
    "\n",
    "训练集中删除特征 PassengerId，因为它并不会对生存率造成什么影响。目前不能删除测试集中 PassengerId，因为要提交。"
   ]
  },
  {
   "cell_type": "code",
   "execution_count": 51,
   "metadata": {},
   "outputs": [],
   "source": [
    "#train_df = train_df.drop(['PassengerId'], axis=1)"
   ]
  },
  {
   "cell_type": "markdown",
   "metadata": {},
   "source": [
    "#### 处理特征 Name - 创建新的特征:乘客称谓\n",
    "\n",
    "在查看乘客姓名时，人们可能想知道如何处理它们以提取有用的信息。如果你仔细看看这些第一个例子：\n",
    "\n",
    "- Braund, Mr. Owen Harris\n",
    "- Heikkinen, Miss. Laina\n",
    "- Peter, Master. Michael J\n",
    "\n",
    "你会注意到每个名字都有一个称谓！这可能是一个简单的小姐（Miss.）或太太（Mrs.），但它有时可能像 Master，Sir 那样更复杂。在这种情况下，可以对称谓进行大的分类。让我们看看我们将如何在下面的函数中执行此操作。\n",
    "\n",
    "让我们先来看看在训练集中有什么不同的称谓。"
   ]
  },
  {
   "cell_type": "code",
   "execution_count": 52,
   "metadata": {},
   "outputs": [
    {
     "name": "stdout",
     "output_type": "stream",
     "text": [
      "the Countess\n"
     ]
    }
   ],
   "source": [
    "# 正则测试\n",
    "import re\n",
    "\n",
    "test = 'Braund,the Countess. Owen Harris'\n",
    "pattern =re.compile(\",(.+)\\.\")\n",
    "print(pattern.search(test).group(1))"
   ]
  },
  {
   "cell_type": "code",
   "execution_count": 53,
   "metadata": {},
   "outputs": [
    {
     "name": "stdout",
     "output_type": "stream",
     "text": [
      "['Mr', 'Mrs', 'Miss', 'Master', 'Don', 'Rev', 'Dr', 'Mme', 'Ms', 'Major', 'Lady', 'Sir', 'Mlle', 'Col', 'Capt', 'the Countess', 'Jonkheer']\n",
      "['Mr', 'Mrs', 'Miss', 'Master', 'Ms', 'Col', 'Rev', 'Dr', 'Dona']\n"
     ]
    }
   ],
   "source": [
    "# 训练集\n",
    "train_df['Title'] = train_df['Name'].map(lambda x:(re.compile(\",(.+?)\\.\").search(x).group(1)).strip())\n",
    "print(list(train_df['Title'].drop_duplicates()))\n",
    "\n",
    "# 测试集\n",
    "test_df['Title'] = test_df['Name'].map(lambda x:(re.compile(\",(.+?)\\.\").search(x).group(1)).strip())\n",
    "print(list(test_df['Title'].drop_duplicates()))"
   ]
  },
  {
   "cell_type": "markdown",
   "metadata": {},
   "source": [
    "于是我们把称谓信息提取出来，由于有些称谓的人数量过少，我们还需要做一个映射\n",
    "\n",
    "- Mme：称呼非英语民族的\"上层社会\"已婚妇女,及有职业的妇女，相当于Mrs\n",
    "- Jonkheer:乡绅\n",
    "- Capt：船长？。。\n",
    "- Lady：贵族夫人的称呼\n",
    "- Don：是西班牙语中贵族和有地位者的尊称\n",
    "- sir：都懂\n",
    "- the Countess：女伯爵\n",
    "- Ms：Ms.或Mz 美国近来用来称呼婚姻状态不明的妇女\n",
    "- Col：中校:Lieutenant Colonel(Lt. Col.)上校:Colonel(Col.)\n",
    "- Major：少校\n",
    "- Mlle:小姐\n",
    "- Rev：牧师"
   ]
  },
  {
   "cell_type": "code",
   "execution_count": 54,
   "metadata": {},
   "outputs": [
    {
     "name": "stdout",
     "output_type": "stream",
     "text": [
      "0\n"
     ]
    }
   ],
   "source": [
    "Title_Dictionary = {\n",
    "    \"Capt\": \"Officer\",\n",
    "    \"Col\": \"Officer\",\n",
    "    \"Major\": \"Officer\",\n",
    "    \"Jonkheer\": \"Royalty\",\n",
    "    \"Don\": \"Royalty\",\n",
    "    \"Sir\" : \"Royalty\",\n",
    "    \"Dr\": \"Officer\",\n",
    "    \"Rev\": \"Officer\",\n",
    "    \"the Countess\":\"Royalty\",\n",
    "    \"Mme\": \"Mrs\",\n",
    "    \"Mlle\": \"Miss\",\n",
    "    \"Ms\": \"Mrs\",\n",
    "    \"Mr\" : \"Mr\",\n",
    "    \"Mrs\" : \"Mrs\",\n",
    "    \"Miss\" : \"Miss\",\n",
    "    \"Master\" : \"Master\",\n",
    "    \"Lady\" : \"Royalty\",\n",
    "    \"Dona\":\"Royalty\"\n",
    "}\n",
    "\n",
    "titanic['Title'] = titanic['Name'].map(lambda x:(re.compile(\",(.+?)\\.\").search(x).group(1)).strip())\n",
    "titanic['Title'] = titanic['Title'].map(Title_Dictionary)\n",
    "\n",
    "# 查看缺失值\n",
    "print(titanic['Title'].isnull().sum())\n",
    "#titanic[titanic['Title'].isnull() == True]"
   ]
  },
  {
   "cell_type": "markdown",
   "metadata": {},
   "source": [
    "Oliva y Ocana, **Dona**. Fermina。这在训练数据集中没有遇到这个称谓，测试集中的Dona是女士的尊称。"
   ]
  },
  {
   "cell_type": "code",
   "execution_count": 55,
   "metadata": {},
   "outputs": [
    {
     "data": {
      "text/plain": [
       "Mr         757\n",
       "Miss       262\n",
       "Mrs        200\n",
       "Master      61\n",
       "Officer     23\n",
       "Royalty      6\n",
       "Name: Title, dtype: int64"
      ]
     },
     "execution_count": 55,
     "metadata": {},
     "output_type": "execute_result"
    }
   ],
   "source": [
    "# 相同尊称的人数\n",
    "titanic['Title'].value_counts()"
   ]
  },
  {
   "cell_type": "markdown",
   "metadata": {},
   "source": [
    "创建 Title 特征，还能用来更好地估计缺失值的年龄。\n",
    "\n",
    "#### 处理特征 Age - 缺失值填写\n",
    "\n",
    "不是简单地用数据集的平均年龄或中位年龄来填补缺失的Age值，而是通过对乘客的性别、等级和进行分组，我们可以更深入地了解乘客的年龄。\n",
    "\n",
    "我们将按照性别、Pclass（乘客等级）和Title对数据集进行分组，并为每个子集计算中位数年龄。\n",
    "\n",
    "为了避免测试集中的数据泄漏，使用从训练集计算的值来填充测试集中的年龄。"
   ]
  },
  {
   "cell_type": "code",
   "execution_count": 56,
   "metadata": {},
   "outputs": [
    {
     "data": {
      "text/plain": [
       "Sex     Pclass  Title  \n",
       "female  1       Miss       30.0\n",
       "                Mrs        45.0\n",
       "                Officer    49.0\n",
       "                Royalty    39.0\n",
       "        2       Miss       20.0\n",
       "                Mrs        30.0\n",
       "        3       Miss       18.0\n",
       "                Mrs        31.0\n",
       "male    1       Master      6.0\n",
       "                Mr         41.5\n",
       "                Officer    52.0\n",
       "                Royalty    40.0\n",
       "        2       Master      2.0\n",
       "                Mr         30.0\n",
       "                Officer    41.5\n",
       "        3       Master      6.0\n",
       "                Mr         26.0\n",
       "Name: Age, dtype: float64"
      ]
     },
     "execution_count": 56,
     "metadata": {},
     "output_type": "execute_result"
    }
   ],
   "source": [
    "grouped = titanic.groupby(['Sex','Pclass', 'Title'])  \n",
    "grouped[\"Age\"].median()"
   ]
  },
  {
   "cell_type": "markdown",
   "metadata": {},
   "source": [
    "此 dataframe 将帮助我们根据不同的标准估算缺失的年龄值。查看中位年龄列，看看这个值如何根据 Sex，Pclass 和 Title 组合在一起。\n",
    "例如：\n",
    "\n",
    "- 如果乘客是女性，则来自 Pclass 1 和来自王室（royalty），中位年龄为40.5岁。\n",
    "- 如果乘客是男性，来自 Pclass 3，拥有 Mr 称谓，则年龄中位数为26岁。\n",
    "\n",
    "用不同组合的的中位数年龄填充缺失的年龄。"
   ]
  },
  {
   "cell_type": "code",
   "execution_count": 57,
   "metadata": {},
   "outputs": [
    {
     "name": "stdout",
     "output_type": "stream",
     "text": [
      "<class 'pandas.core.frame.DataFrame'>\n",
      "RangeIndex: 1309 entries, 0 to 1308\n",
      "Data columns (total 15 columns):\n",
      " #   Column       Non-Null Count  Dtype  \n",
      "---  ------       --------------  -----  \n",
      " 0   PassengerId  1309 non-null   int64  \n",
      " 1   Survived     891 non-null    float64\n",
      " 2   Pclass       1309 non-null   int64  \n",
      " 3   Name         1309 non-null   object \n",
      " 4   Sex          1309 non-null   object \n",
      " 5   Age          1309 non-null   float64\n",
      " 6   SibSp        1309 non-null   int64  \n",
      " 7   Parch        1309 non-null   int64  \n",
      " 8   Ticket       1309 non-null   object \n",
      " 9   Fare         1308 non-null   float64\n",
      " 10  Cabin        295 non-null    object \n",
      " 11  Embarked     1307 non-null   object \n",
      " 12  relatives    1309 non-null   int64  \n",
      " 13  not_alone    1309 non-null   int64  \n",
      " 14  Title        1309 non-null   object \n",
      "dtypes: float64(3), int64(6), object(6)\n",
      "memory usage: 153.5+ KB\n"
     ]
    }
   ],
   "source": [
    "titanic[\"Age\"] = grouped[\"Age\"].apply(lambda x: x.fillna(x.median()))\n",
    "\n",
    "# 查看处理后的情况\n",
    "titanic.info()"
   ]
  },
  {
   "cell_type": "markdown",
   "metadata": {},
   "source": [
    "##### 处理特征 Cabin - 创建新的特征：甲板号 (暂时不用这个方法)\n",
    "\n",
    "之前想直接删除'Cabin'这个特征，但后来我发现了一些有趣的东西。船舱号码'C123'，看起来字母代表的是甲板号。因此，我们要提取这些并创建一个新的特征，其中包含一个人的甲板号\n",
    "\n",
    "- fillna 对缺失值进行填充\n",
    "Pandas 中，缺失数据一般采用 NaN 标记 NaN 代表 Not a Number。特别地，在时间序列里，时间戳的丢失采用 NaT 标记。"
   ]
  },
  {
   "cell_type": "code",
   "execution_count": 58,
   "metadata": {},
   "outputs": [
    {
     "name": "stdout",
     "output_type": "stream",
     "text": [
      "['U', 'C', 'E', 'G', 'D', 'A', 'B', 'F', 'T']\n"
     ]
    }
   ],
   "source": [
    "# 训练集\n",
    "train_df['Cabin'] = train_df['Cabin'].fillna(\"U0\") # 将缺失值填充为 “U0”  表示 Unknow\n",
    "# 正则获取夹板号 并 使用 drop_duplicates() 去重\n",
    "print(list(train_df['Cabin'].map(lambda x: re.compile(\"([a-zA-Z]+)\").search(x).group()).drop_duplicates()))"
   ]
  },
  {
   "cell_type": "code",
   "execution_count": 59,
   "metadata": {},
   "outputs": [
    {
     "name": "stdout",
     "output_type": "stream",
     "text": [
      "['U', 'B', 'E', 'A', 'C', 'D', 'F', 'G']\n"
     ]
    }
   ],
   "source": [
    "# 测试集\n",
    "test_df['Cabin'] = test_df['Cabin'].fillna(\"U0\") # 将缺失值填充为 “U0”  表示 Unknow\n",
    "# 正则获取夹板号 并 使用 drop_duplicates() 去重\n",
    "print(list(test_df['Cabin'].map(lambda x: re.compile(\"([a-zA-Z]+)\").search(x).group()).drop_duplicates()))"
   ]
  },
  {
   "cell_type": "markdown",
   "metadata": {},
   "source": [
    "对 NAN 填充\"U0\"，去重，可以看到甲板号，训练集从A到G,然后T，而测试集是从A到G，没有任何不存在于训练集中的夹板号。\n",
    "\n",
    "我们把这个特征转换成一个数字变量。缺少的值将被转换为零。"
   ]
  },
  {
   "cell_type": "code",
   "execution_count": 60,
   "metadata": {},
   "outputs": [
    {
     "name": "stdout",
     "output_type": "stream",
     "text": [
      "<class 'pandas.core.frame.DataFrame'>\n",
      "RangeIndex: 1309 entries, 0 to 1308\n",
      "Data columns (total 16 columns):\n",
      " #   Column       Non-Null Count  Dtype  \n",
      "---  ------       --------------  -----  \n",
      " 0   PassengerId  1309 non-null   int64  \n",
      " 1   Survived     891 non-null    float64\n",
      " 2   Pclass       1309 non-null   int64  \n",
      " 3   Name         1309 non-null   object \n",
      " 4   Sex          1309 non-null   object \n",
      " 5   Age          1309 non-null   float64\n",
      " 6   SibSp        1309 non-null   int64  \n",
      " 7   Parch        1309 non-null   int64  \n",
      " 8   Ticket       1309 non-null   object \n",
      " 9   Fare         1308 non-null   float64\n",
      " 10  Cabin        1309 non-null   object \n",
      " 11  Embarked     1307 non-null   object \n",
      " 12  relatives    1309 non-null   int64  \n",
      " 13  not_alone    1309 non-null   int64  \n",
      " 14  Title        1309 non-null   object \n",
      " 15  Deck         1309 non-null   int64  \n",
      "dtypes: float64(3), int64(7), object(6)\n",
      "memory usage: 163.8+ KB\n"
     ]
    }
   ],
   "source": [
    "import re\n",
    "deck = {\"A\": 1, \"B\": 2, \"C\": 3, \"D\": 4, \"E\": 5, \"F\": 6, \"G\": 7, \"U\": 8}\n",
    "\n",
    "titanic['Cabin'] = titanic['Cabin'].fillna(\"U0\") # 没有船舱号 将缺失值填充为 “U0”\n",
    "titanic['Deck'] = titanic['Cabin'].map(lambda x: re.compile(\"([a-zA-Z]+)\").search(x).group())#正则获取夹板号\n",
    "titanic['Deck'] = titanic['Deck'].map(deck) # 通过字典用 map 映射夹板号为数字\n",
    "titanic['Deck'] = titanic['Deck'].fillna(0) # 没有夹板号 将缺失值填充为 “0”\n",
    "titanic['Deck'] = titanic['Deck'].astype(int) # 将dateframe某一列的数据类型转化为整数型\n",
    "\n",
    "# 处理完删除 cabin 特征\n",
    "# train_df = train_df.drop(['Cabin'], axis=1)\n",
    "# test_df = test_df.drop(['Cabin'], axis=1)\n",
    "\n",
    "# 处理后的情况\n",
    "titanic.info()"
   ]
  },
  {
   "cell_type": "markdown",
   "metadata": {},
   "source": [
    "##### 知识点：正则表达式\n",
    "\n",
    "- `\"([a-zA-Z]+)\"` 这个表示至少匹配1个或多个大/小写字母，带分组\n",
    "    - . 匹配除换行符之外的任意字符\n",
    "    - + 匹配前面的字符1次或多次（>=1）\n",
    "    - [a-zA-Z_] 可以匹配一个字母无论大小写\n",
    "\n",
    "- `re.compile(pattern, flags=0)`\n",
    "这个方法可以将正则字符串编译成正表达式对象（Pattern对象），以便在后面的匹配中复用\n",
    "    ```\n",
    "    prog = re.compile(pattern)\n",
    "    result = prog.search(string)\n",
    "    ```\n",
    "    等价于\n",
    "    `result = re.search(pattern, string)`\n",
    "\n",
    "- 分组\n",
    "可以使用group(num) 或 groups() 匹配对象函数来获取匹配表达式。\n",
    "    - group(num=0) 匹配的整个表达式的字符串\n",
    "    - group() 可以一次输入多个组号，在这种情况下它将返回一个包含那些组所对应值的元组。\n",
    "    - groups() 返回一个包含所有小组字符串的元组，从 1 到 所含的小组号。\n",
    "    \n",
    "- 匿名函数\n",
    "`lambda x: x * x`\n",
    "关键字lambda表示匿名函数，冒号前面的x表示函数参数。等价于\n",
    "    ```\n",
    "    def f(x):\n",
    "        return x * x\n",
    "    ```\n",
    "\n",
    "- 映射\n",
    "    - Series 数据\n",
    "        - s.map() 都是把对应的数据逐个当作参数传入到字典或函数中，得到映射后的值\n",
    "            - 使用字典进行映射\n",
    "            - 使用函数进行映射\n",
    "        - s.apply() 作用原理和map方法类似，区别在于apply能够传入功能更为复杂的函数(传入map的函数只能接收一个参数)\n",
    "    - DataFrame 数据(默认 axis=1)  (axis=1为横向，axis=0为纵向)\n",
    "        - df.apply() 将函数应用到每行或者每一列上面\n",
    "            - axis =1 将每一行数据以Series的形式（Series的索引为列名）传入指定函数\n",
    "            - axis =0 将各列(columns)以Series的形式作为参数，传入到你指定的操作函数中 \n",
    "        - df.applymap() 将某函数应用到每一个元素上\n",
    "        \n",
    "- astype(int)\n",
    "    用于转化dateframe某一列的数据类型\n",
    "\n",
    "##### 处理其他特征 Embarked、Fare - 缺失值填充\n",
    "\n",
    "- 训练集中 Embarked 特征只有2个缺失的值，用众数进行填补。\n",
    "- 训练集中 Fare 特征只有1个缺失的值，用中位数进行填补。\n",
    "- 训练集中 Cabin 特征有687个缺失的值，用常数 ‘U’(Unknow) 进行填补。\n",
    "\n",
    "    - 众值填充\n",
    "        - `df.fillna(df.value_counts().index[0]) `\n",
    "        - `df.fillna(df.mode().iloc[0]) `\n",
    "\n",
    "    - 中位数填充\n",
    "    `df.fillna(df.median())` "
   ]
  },
  {
   "cell_type": "code",
   "execution_count": 61,
   "metadata": {},
   "outputs": [
    {
     "name": "stdout",
     "output_type": "stream",
     "text": [
      "S    914\n",
      "C    270\n",
      "Q    123\n",
      "Name: Embarked, dtype: int64\n",
      "Index(['S', 'C', 'Q'], dtype='object')\n",
      "S\n"
     ]
    }
   ],
   "source": [
    "# 用 value_counts() 获取众数\n",
    "print(titanic['Embarked'].value_counts()) # 默认降序\n",
    "\n",
    "# 获取行标签\n",
    "print(titanic['Embarked'].value_counts().index)\n",
    "\n",
    "# 获取第一行的行标签\n",
    "print(titanic['Embarked'].value_counts().index[0])"
   ]
  },
  {
   "cell_type": "code",
   "execution_count": 62,
   "metadata": {},
   "outputs": [
    {
     "name": "stdout",
     "output_type": "stream",
     "text": [
      "0    S\n",
      "dtype: object\n",
      "S\n"
     ]
    }
   ],
   "source": [
    "# 用 mode() 获取众数\n",
    "print(titanic['Embarked'].mode())\n",
    "print(titanic['Embarked'].mode().iloc[0])"
   ]
  },
  {
   "cell_type": "code",
   "execution_count": 63,
   "metadata": {},
   "outputs": [
    {
     "name": "stdout",
     "output_type": "stream",
     "text": [
      "<class 'pandas.core.frame.DataFrame'>\n",
      "RangeIndex: 1309 entries, 0 to 1308\n",
      "Data columns (total 16 columns):\n",
      " #   Column       Non-Null Count  Dtype  \n",
      "---  ------       --------------  -----  \n",
      " 0   PassengerId  1309 non-null   int64  \n",
      " 1   Survived     891 non-null    float64\n",
      " 2   Pclass       1309 non-null   int64  \n",
      " 3   Name         1309 non-null   object \n",
      " 4   Sex          1309 non-null   object \n",
      " 5   Age          1309 non-null   float64\n",
      " 6   SibSp        1309 non-null   int64  \n",
      " 7   Parch        1309 non-null   int64  \n",
      " 8   Ticket       1309 non-null   object \n",
      " 9   Fare         1309 non-null   float64\n",
      " 10  Cabin        1309 non-null   object \n",
      " 11  Embarked     1309 non-null   object \n",
      " 12  relatives    1309 non-null   int64  \n",
      " 13  not_alone    1309 non-null   int64  \n",
      " 14  Title        1309 non-null   object \n",
      " 15  Deck         1309 non-null   int64  \n",
      "dtypes: float64(3), int64(7), object(6)\n",
      "memory usage: 163.8+ KB\n"
     ]
    }
   ],
   "source": [
    "# 用众数填充 Embarked\n",
    "titanic['Embarked'] = titanic['Embarked'].fillna(titanic['Embarked'].mode().iloc[0])\n",
    "\n",
    "# 用中位数填充 Fare\n",
    "titanic['Fare'] = titanic['Fare'].fillna(titanic['Fare'].median())\n",
    "\n",
    "# 用‘U’填充 Cabin\n",
    "titanic['Cabin'] = titanic['Cabin'].fillna('U')\n",
    "\n",
    "# 看处理后结果\n",
    "titanic.info()"
   ]
  },
  {
   "cell_type": "markdown",
   "metadata": {},
   "source": [
    "#### 处理特征 SibSp 和 Parch - 创建新的特征 FamilySize "
   ]
  },
  {
   "cell_type": "code",
   "execution_count": 64,
   "metadata": {},
   "outputs": [],
   "source": [
    "# 同行家庭数 (包括乘客本身)\n",
    "titanic['FamilySize'] = titanic['Parch'] + titanic['SibSp'] + 1"
   ]
  },
  {
   "cell_type": "markdown",
   "metadata": {},
   "source": [
    "#### 处理特征 Cabin - 创建新的特征 Deck\n",
    "船舱号码'C123'，看起来字母代表的是甲板号。因此，我们要提取这些并创建一个新的特征，其中包含一个人的甲板区域"
   ]
  },
  {
   "cell_type": "code",
   "execution_count": 65,
   "metadata": {},
   "outputs": [
    {
     "data": {
      "text/plain": [
       "0       U\n",
       "1       C\n",
       "2       U\n",
       "3       C\n",
       "4       U\n",
       "       ..\n",
       "1304    U\n",
       "1305    C\n",
       "1306    U\n",
       "1307    U\n",
       "1308    U\n",
       "Name: Deck, Length: 1309, dtype: object"
      ]
     },
     "execution_count": 65,
     "metadata": {},
     "output_type": "execute_result"
    }
   ],
   "source": [
    "titanic['Deck'] = titanic['Cabin'].map(lambda x: x[0])\n",
    "titanic['Deck']"
   ]
  },
  {
   "cell_type": "code",
   "execution_count": 66,
   "metadata": {},
   "outputs": [
    {
     "data": {
      "text/html": [
       "<div>\n",
       "<style scoped>\n",
       "    .dataframe tbody tr th:only-of-type {\n",
       "        vertical-align: middle;\n",
       "    }\n",
       "\n",
       "    .dataframe tbody tr th {\n",
       "        vertical-align: top;\n",
       "    }\n",
       "\n",
       "    .dataframe thead th {\n",
       "        text-align: right;\n",
       "    }\n",
       "</style>\n",
       "<table border=\"1\" class=\"dataframe\">\n",
       "  <thead>\n",
       "    <tr style=\"text-align: right;\">\n",
       "      <th></th>\n",
       "      <th>PassengerId</th>\n",
       "      <th>Survived</th>\n",
       "      <th>Pclass</th>\n",
       "      <th>Name</th>\n",
       "      <th>Sex</th>\n",
       "      <th>Age</th>\n",
       "      <th>SibSp</th>\n",
       "      <th>Parch</th>\n",
       "      <th>Ticket</th>\n",
       "      <th>Fare</th>\n",
       "      <th>Cabin</th>\n",
       "      <th>Embarked</th>\n",
       "      <th>relatives</th>\n",
       "      <th>not_alone</th>\n",
       "      <th>Title</th>\n",
       "      <th>Deck</th>\n",
       "      <th>FamilySize</th>\n",
       "    </tr>\n",
       "  </thead>\n",
       "  <tbody>\n",
       "    <tr>\n",
       "      <th>0</th>\n",
       "      <td>1</td>\n",
       "      <td>0.0</td>\n",
       "      <td>3</td>\n",
       "      <td>Braund, Mr. Owen Harris</td>\n",
       "      <td>male</td>\n",
       "      <td>22.0</td>\n",
       "      <td>1</td>\n",
       "      <td>0</td>\n",
       "      <td>A/5 21171</td>\n",
       "      <td>7.2500</td>\n",
       "      <td>U0</td>\n",
       "      <td>S</td>\n",
       "      <td>1</td>\n",
       "      <td>0</td>\n",
       "      <td>Mr</td>\n",
       "      <td>U</td>\n",
       "      <td>2</td>\n",
       "    </tr>\n",
       "    <tr>\n",
       "      <th>1</th>\n",
       "      <td>2</td>\n",
       "      <td>1.0</td>\n",
       "      <td>1</td>\n",
       "      <td>Cumings, Mrs. John Bradley (Florence Briggs Th...</td>\n",
       "      <td>female</td>\n",
       "      <td>38.0</td>\n",
       "      <td>1</td>\n",
       "      <td>0</td>\n",
       "      <td>PC 17599</td>\n",
       "      <td>71.2833</td>\n",
       "      <td>C85</td>\n",
       "      <td>C</td>\n",
       "      <td>1</td>\n",
       "      <td>0</td>\n",
       "      <td>Mrs</td>\n",
       "      <td>C</td>\n",
       "      <td>2</td>\n",
       "    </tr>\n",
       "    <tr>\n",
       "      <th>2</th>\n",
       "      <td>3</td>\n",
       "      <td>1.0</td>\n",
       "      <td>3</td>\n",
       "      <td>Heikkinen, Miss. Laina</td>\n",
       "      <td>female</td>\n",
       "      <td>26.0</td>\n",
       "      <td>0</td>\n",
       "      <td>0</td>\n",
       "      <td>STON/O2. 3101282</td>\n",
       "      <td>7.9250</td>\n",
       "      <td>U0</td>\n",
       "      <td>S</td>\n",
       "      <td>0</td>\n",
       "      <td>1</td>\n",
       "      <td>Miss</td>\n",
       "      <td>U</td>\n",
       "      <td>1</td>\n",
       "    </tr>\n",
       "    <tr>\n",
       "      <th>3</th>\n",
       "      <td>4</td>\n",
       "      <td>1.0</td>\n",
       "      <td>1</td>\n",
       "      <td>Futrelle, Mrs. Jacques Heath (Lily May Peel)</td>\n",
       "      <td>female</td>\n",
       "      <td>35.0</td>\n",
       "      <td>1</td>\n",
       "      <td>0</td>\n",
       "      <td>113803</td>\n",
       "      <td>53.1000</td>\n",
       "      <td>C123</td>\n",
       "      <td>S</td>\n",
       "      <td>1</td>\n",
       "      <td>0</td>\n",
       "      <td>Mrs</td>\n",
       "      <td>C</td>\n",
       "      <td>2</td>\n",
       "    </tr>\n",
       "    <tr>\n",
       "      <th>4</th>\n",
       "      <td>5</td>\n",
       "      <td>0.0</td>\n",
       "      <td>3</td>\n",
       "      <td>Allen, Mr. William Henry</td>\n",
       "      <td>male</td>\n",
       "      <td>35.0</td>\n",
       "      <td>0</td>\n",
       "      <td>0</td>\n",
       "      <td>373450</td>\n",
       "      <td>8.0500</td>\n",
       "      <td>U0</td>\n",
       "      <td>S</td>\n",
       "      <td>0</td>\n",
       "      <td>1</td>\n",
       "      <td>Mr</td>\n",
       "      <td>U</td>\n",
       "      <td>1</td>\n",
       "    </tr>\n",
       "  </tbody>\n",
       "</table>\n",
       "</div>"
      ],
      "text/plain": [
       "   PassengerId  Survived  Pclass  \\\n",
       "0            1       0.0       3   \n",
       "1            2       1.0       1   \n",
       "2            3       1.0       3   \n",
       "3            4       1.0       1   \n",
       "4            5       0.0       3   \n",
       "\n",
       "                                                Name     Sex   Age  SibSp  \\\n",
       "0                            Braund, Mr. Owen Harris    male  22.0      1   \n",
       "1  Cumings, Mrs. John Bradley (Florence Briggs Th...  female  38.0      1   \n",
       "2                             Heikkinen, Miss. Laina  female  26.0      0   \n",
       "3       Futrelle, Mrs. Jacques Heath (Lily May Peel)  female  35.0      1   \n",
       "4                           Allen, Mr. William Henry    male  35.0      0   \n",
       "\n",
       "   Parch            Ticket     Fare Cabin Embarked  relatives  not_alone  \\\n",
       "0      0         A/5 21171   7.2500    U0        S          1          0   \n",
       "1      0          PC 17599  71.2833   C85        C          1          0   \n",
       "2      0  STON/O2. 3101282   7.9250    U0        S          0          1   \n",
       "3      0            113803  53.1000  C123        S          1          0   \n",
       "4      0            373450   8.0500    U0        S          0          1   \n",
       "\n",
       "  Title Deck  FamilySize  \n",
       "0    Mr    U           2  \n",
       "1   Mrs    C           2  \n",
       "2  Miss    U           1  \n",
       "3   Mrs    C           2  \n",
       "4    Mr    U           1  "
      ]
     },
     "execution_count": 66,
     "metadata": {},
     "output_type": "execute_result"
    }
   ],
   "source": [
    "titanic.head()"
   ]
  },
  {
   "cell_type": "markdown",
   "metadata": {},
   "source": [
    "#### 编码\n",
    "\n",
    "在开始建模之前，我们要执行的最后一步是将我们所有的分类特征转换为数字，因为我们的算法只能接受一个数字数组作为输入，而不是名字或字母。我们有几个列要转换。我们使用Pandas的pd.get_dummies()方法，将分类特征转换为数字特征。\n",
    "\n",
    "- Label-Encoding, One-Hot-Encoder 编码区别\n",
    "[Categorical encoding using Label-Encoding and One-Hot-Encoder](https://towardsdatascience.com/categorical-encoding-using-label-encoding-and-one-hot-encoder-911ef77fb5bd)\n",
    "- Kaggle one hot encoding 教程\n",
    "[using-categorical-data-with-one-hot-encoding](https://www.kaggle.com/dansbecker/using-categorical-data-with-one-hot-encoding)"
   ]
  },
  {
   "cell_type": "code",
   "execution_count": 67,
   "metadata": {
    "scrolled": true
   },
   "outputs": [
    {
     "data": {
      "text/html": [
       "<div>\n",
       "<style scoped>\n",
       "    .dataframe tbody tr th:only-of-type {\n",
       "        vertical-align: middle;\n",
       "    }\n",
       "\n",
       "    .dataframe tbody tr th {\n",
       "        vertical-align: top;\n",
       "    }\n",
       "\n",
       "    .dataframe thead th {\n",
       "        text-align: right;\n",
       "    }\n",
       "</style>\n",
       "<table border=\"1\" class=\"dataframe\">\n",
       "  <thead>\n",
       "    <tr style=\"text-align: right;\">\n",
       "      <th></th>\n",
       "      <th>PassengerId</th>\n",
       "      <th>Survived</th>\n",
       "      <th>Sex</th>\n",
       "      <th>Age</th>\n",
       "      <th>SibSp</th>\n",
       "      <th>Parch</th>\n",
       "      <th>Fare</th>\n",
       "      <th>relatives</th>\n",
       "      <th>not_alone</th>\n",
       "      <th>FamilySize</th>\n",
       "      <th>...</th>\n",
       "      <th>Deck_C</th>\n",
       "      <th>Deck_D</th>\n",
       "      <th>Deck_E</th>\n",
       "      <th>Deck_F</th>\n",
       "      <th>Deck_G</th>\n",
       "      <th>Deck_T</th>\n",
       "      <th>Deck_U</th>\n",
       "      <th>Embarked_C</th>\n",
       "      <th>Embarked_Q</th>\n",
       "      <th>Embarked_S</th>\n",
       "    </tr>\n",
       "  </thead>\n",
       "  <tbody>\n",
       "    <tr>\n",
       "      <th>0</th>\n",
       "      <td>1</td>\n",
       "      <td>0.0</td>\n",
       "      <td>0</td>\n",
       "      <td>22.0</td>\n",
       "      <td>1</td>\n",
       "      <td>0</td>\n",
       "      <td>7.2500</td>\n",
       "      <td>1</td>\n",
       "      <td>0</td>\n",
       "      <td>2</td>\n",
       "      <td>...</td>\n",
       "      <td>0</td>\n",
       "      <td>0</td>\n",
       "      <td>0</td>\n",
       "      <td>0</td>\n",
       "      <td>0</td>\n",
       "      <td>0</td>\n",
       "      <td>1</td>\n",
       "      <td>0</td>\n",
       "      <td>0</td>\n",
       "      <td>1</td>\n",
       "    </tr>\n",
       "    <tr>\n",
       "      <th>1</th>\n",
       "      <td>2</td>\n",
       "      <td>1.0</td>\n",
       "      <td>1</td>\n",
       "      <td>38.0</td>\n",
       "      <td>1</td>\n",
       "      <td>0</td>\n",
       "      <td>71.2833</td>\n",
       "      <td>1</td>\n",
       "      <td>0</td>\n",
       "      <td>2</td>\n",
       "      <td>...</td>\n",
       "      <td>1</td>\n",
       "      <td>0</td>\n",
       "      <td>0</td>\n",
       "      <td>0</td>\n",
       "      <td>0</td>\n",
       "      <td>0</td>\n",
       "      <td>0</td>\n",
       "      <td>1</td>\n",
       "      <td>0</td>\n",
       "      <td>0</td>\n",
       "    </tr>\n",
       "    <tr>\n",
       "      <th>2</th>\n",
       "      <td>3</td>\n",
       "      <td>1.0</td>\n",
       "      <td>1</td>\n",
       "      <td>26.0</td>\n",
       "      <td>0</td>\n",
       "      <td>0</td>\n",
       "      <td>7.9250</td>\n",
       "      <td>0</td>\n",
       "      <td>1</td>\n",
       "      <td>1</td>\n",
       "      <td>...</td>\n",
       "      <td>0</td>\n",
       "      <td>0</td>\n",
       "      <td>0</td>\n",
       "      <td>0</td>\n",
       "      <td>0</td>\n",
       "      <td>0</td>\n",
       "      <td>1</td>\n",
       "      <td>0</td>\n",
       "      <td>0</td>\n",
       "      <td>1</td>\n",
       "    </tr>\n",
       "    <tr>\n",
       "      <th>3</th>\n",
       "      <td>4</td>\n",
       "      <td>1.0</td>\n",
       "      <td>1</td>\n",
       "      <td>35.0</td>\n",
       "      <td>1</td>\n",
       "      <td>0</td>\n",
       "      <td>53.1000</td>\n",
       "      <td>1</td>\n",
       "      <td>0</td>\n",
       "      <td>2</td>\n",
       "      <td>...</td>\n",
       "      <td>1</td>\n",
       "      <td>0</td>\n",
       "      <td>0</td>\n",
       "      <td>0</td>\n",
       "      <td>0</td>\n",
       "      <td>0</td>\n",
       "      <td>0</td>\n",
       "      <td>0</td>\n",
       "      <td>0</td>\n",
       "      <td>1</td>\n",
       "    </tr>\n",
       "    <tr>\n",
       "      <th>4</th>\n",
       "      <td>5</td>\n",
       "      <td>0.0</td>\n",
       "      <td>0</td>\n",
       "      <td>35.0</td>\n",
       "      <td>0</td>\n",
       "      <td>0</td>\n",
       "      <td>8.0500</td>\n",
       "      <td>0</td>\n",
       "      <td>1</td>\n",
       "      <td>1</td>\n",
       "      <td>...</td>\n",
       "      <td>0</td>\n",
       "      <td>0</td>\n",
       "      <td>0</td>\n",
       "      <td>0</td>\n",
       "      <td>0</td>\n",
       "      <td>0</td>\n",
       "      <td>1</td>\n",
       "      <td>0</td>\n",
       "      <td>0</td>\n",
       "      <td>1</td>\n",
       "    </tr>\n",
       "  </tbody>\n",
       "</table>\n",
       "<p>5 rows × 31 columns</p>\n",
       "</div>"
      ],
      "text/plain": [
       "   PassengerId  Survived  Sex   Age  SibSp  Parch     Fare  relatives  \\\n",
       "0            1       0.0    0  22.0      1      0   7.2500          1   \n",
       "1            2       1.0    1  38.0      1      0  71.2833          1   \n",
       "2            3       1.0    1  26.0      0      0   7.9250          0   \n",
       "3            4       1.0    1  35.0      1      0  53.1000          1   \n",
       "4            5       0.0    0  35.0      0      0   8.0500          0   \n",
       "\n",
       "   not_alone  FamilySize  ...  Deck_C  Deck_D  Deck_E  Deck_F  Deck_G  Deck_T  \\\n",
       "0          0           2  ...       0       0       0       0       0       0   \n",
       "1          0           2  ...       1       0       0       0       0       0   \n",
       "2          1           1  ...       0       0       0       0       0       0   \n",
       "3          0           2  ...       1       0       0       0       0       0   \n",
       "4          1           1  ...       0       0       0       0       0       0   \n",
       "\n",
       "   Deck_U  Embarked_C  Embarked_Q  Embarked_S  \n",
       "0       1           0           0           1  \n",
       "1       0           1           0           0  \n",
       "2       1           0           0           1  \n",
       "3       0           0           0           1  \n",
       "4       1           0           0           1  \n",
       "\n",
       "[5 rows x 31 columns]"
      ]
     },
     "execution_count": 67,
     "metadata": {},
     "output_type": "execute_result"
    }
   ],
   "source": [
    "# 将性别转化为整数形式\n",
    "titanic['Sex'] = titanic['Sex'].map({\"male\": 0, \"female\":1})\n",
    "\n",
    "# 类别变量转化为dummy 变量\n",
    "pclass_dummies = pd.get_dummies(titanic.Pclass, prefix=\"Pclass\")\n",
    "title_dummies = pd.get_dummies(titanic.Title, prefix=\"Title\")\n",
    "deck_dummies = pd.get_dummies(titanic.Deck, prefix=\"Deck\")\n",
    "embarked_dummies = pd.get_dummies(titanic.Embarked, prefix=\"Embarked\")\n",
    "\n",
    "# 合并 dummy 列和原数据集\n",
    "titanic_dummies = pd.concat([titanic, pclass_dummies, title_dummies, deck_dummies, embarked_dummies], axis=1)\n",
    "\n",
    "# 删除类别字段\n",
    "titanic_dummies.drop(['Pclass', 'Title', 'Cabin','Deck','Embarked', 'Name', 'Ticket'], axis=1, inplace=True)\n",
    "\n",
    "titanic_dummies.head()"
   ]
  },
  {
   "cell_type": "markdown",
   "metadata": {},
   "source": [
    "我们的数据现在已经是我们需要的格式，使用之前的 train_idx 和 test_idx 索引分离训练集和测试集。\n",
    "\n",
    "还将把训练集分成X，代表预测变量，y 代表我们的目标变量，即 Survived 特征。\n",
    "\n",
    "- ？问题：Survived 特征合并前是 int64 的格式，为什么合并后变成了 float64 的格式\n",
    "- ？问题：警告需要解决"
   ]
  },
  {
   "cell_type": "code",
   "execution_count": 68,
   "metadata": {},
   "outputs": [
    {
     "name": "stdout",
     "output_type": "stream",
     "text": [
      "   PassengerId  Survived  Sex   Age  SibSp  Parch     Fare  relatives  \\\n",
      "0            1         0    0  22.0      1      0   7.2500          1   \n",
      "1            2         1    1  38.0      1      0  71.2833          1   \n",
      "2            3         1    1  26.0      0      0   7.9250          0   \n",
      "3            4         1    1  35.0      1      0  53.1000          1   \n",
      "4            5         0    0  35.0      0      0   8.0500          0   \n",
      "\n",
      "   not_alone  FamilySize  ...  Deck_C  Deck_D  Deck_E  Deck_F  Deck_G  Deck_T  \\\n",
      "0          0           2  ...       0       0       0       0       0       0   \n",
      "1          0           2  ...       1       0       0       0       0       0   \n",
      "2          1           1  ...       0       0       0       0       0       0   \n",
      "3          0           2  ...       1       0       0       0       0       0   \n",
      "4          1           1  ...       0       0       0       0       0       0   \n",
      "\n",
      "   Deck_U  Embarked_C  Embarked_Q  Embarked_S  \n",
      "0       1           0           0           1  \n",
      "1       0           1           0           0  \n",
      "2       1           0           0           1  \n",
      "3       0           0           0           1  \n",
      "4       1           0           0           1  \n",
      "\n",
      "[5 rows x 31 columns]\n",
      "<class 'pandas.core.frame.DataFrame'>\n",
      "RangeIndex: 891 entries, 0 to 890\n",
      "Data columns (total 31 columns):\n",
      " #   Column         Non-Null Count  Dtype  \n",
      "---  ------         --------------  -----  \n",
      " 0   PassengerId    891 non-null    int64  \n",
      " 1   Survived       891 non-null    int64  \n",
      " 2   Sex            891 non-null    int64  \n",
      " 3   Age            891 non-null    float64\n",
      " 4   SibSp          891 non-null    int64  \n",
      " 5   Parch          891 non-null    int64  \n",
      " 6   Fare           891 non-null    float64\n",
      " 7   relatives      891 non-null    int64  \n",
      " 8   not_alone      891 non-null    int64  \n",
      " 9   FamilySize     891 non-null    int64  \n",
      " 10  Pclass_1       891 non-null    uint8  \n",
      " 11  Pclass_2       891 non-null    uint8  \n",
      " 12  Pclass_3       891 non-null    uint8  \n",
      " 13  Title_Master   891 non-null    uint8  \n",
      " 14  Title_Miss     891 non-null    uint8  \n",
      " 15  Title_Mr       891 non-null    uint8  \n",
      " 16  Title_Mrs      891 non-null    uint8  \n",
      " 17  Title_Officer  891 non-null    uint8  \n",
      " 18  Title_Royalty  891 non-null    uint8  \n",
      " 19  Deck_A         891 non-null    uint8  \n",
      " 20  Deck_B         891 non-null    uint8  \n",
      " 21  Deck_C         891 non-null    uint8  \n",
      " 22  Deck_D         891 non-null    uint8  \n",
      " 23  Deck_E         891 non-null    uint8  \n",
      " 24  Deck_F         891 non-null    uint8  \n",
      " 25  Deck_G         891 non-null    uint8  \n",
      " 26  Deck_T         891 non-null    uint8  \n",
      " 27  Deck_U         891 non-null    uint8  \n",
      " 28  Embarked_C     891 non-null    uint8  \n",
      " 29  Embarked_Q     891 non-null    uint8  \n",
      " 30  Embarked_S     891 non-null    uint8  \n",
      "dtypes: float64(2), int64(8), uint8(21)\n",
      "memory usage: 88.0 KB\n",
      "None\n"
     ]
    },
    {
     "name": "stderr",
     "output_type": "stream",
     "text": [
      "/Users/xusanshan/Anaconda/anaconda3/lib/python3.6/site-packages/pandas/core/generic.py:5303: SettingWithCopyWarning: \n",
      "A value is trying to be set on a copy of a slice from a DataFrame.\n",
      "Try using .loc[row_indexer,col_indexer] = value instead\n",
      "\n",
      "See the caveats in the documentation: https://pandas.pydata.org/pandas-docs/stable/user_guide/indexing.html#returning-a-view-versus-a-copy\n",
      "  self[name] = value\n"
     ]
    }
   ],
   "source": [
    "# 分离训练集和测试集\n",
    "train = titanic_dummies.iloc[ :train_idx]\n",
    "test = titanic_dummies.iloc[test_idx: ]\n",
    "\n",
    "# 转化 Survived 特征为整数型\n",
    "train.Survived = train.Survived.astype(int)\n",
    "\n",
    "# 训练集分成 X 和 Y(目标变量：Survived) \n",
    "x_train = train.drop('Survived', axis=1).values \n",
    "y_train = train.Survived.values\n",
    "\n",
    "# 测试集删除，训练集的目标变量：Survived\n",
    "x_test = test.drop('Survived', axis=1).values\n",
    "\n",
    "print(train.head())\n",
    "print(train.info())"
   ]
  },
  {
   "cell_type": "markdown",
   "metadata": {},
   "source": [
    "### 建模"
   ]
  },
  {
   "cell_type": "code",
   "execution_count": 69,
   "metadata": {},
   "outputs": [
    {
     "name": "stdout",
     "output_type": "stream",
     "text": [
      "Best score: 0.8395204318624068\n",
      "Optimal params: RandomForestClassifier(bootstrap=True, ccp_alpha=0.0, class_weight=None,\n",
      "                       criterion='gini', max_depth=9, max_features='auto',\n",
      "                       max_leaf_nodes=None, max_samples=None,\n",
      "                       min_impurity_decrease=0.0, min_impurity_split=None,\n",
      "                       min_samples_leaf=3, min_samples_split=8,\n",
      "                       min_weight_fraction_leaf=0.0, n_estimators=10,\n",
      "                       n_jobs=None, oob_score=False, random_state=None,\n",
      "                       verbose=0, warm_start=False)\n"
     ]
    }
   ],
   "source": [
    "# classifier models\n",
    "from sklearn.linear_model import LogisticRegression\n",
    "from sklearn.ensemble import RandomForestClassifier\n",
    "from sklearn.model_selection import GridSearchCV\n",
    "\n",
    "# create param grid object \n",
    "forrest_params = dict(     \n",
    "    max_depth = [n for n in range(9, 14)],     \n",
    "    min_samples_split = [n for n in range(4, 11)], \n",
    "    min_samples_leaf = [n for n in range(2, 5)],     \n",
    "    n_estimators = [n for n in range(10, 60, 10)],\n",
    ")\n",
    "\n",
    "# instantiate Random Forest model\n",
    "forrest = RandomForestClassifier()\n",
    "\n",
    "# build and fit model \n",
    "forest_cv = GridSearchCV(estimator=forrest, param_grid=forrest_params, cv=5) \n",
    "forest_cv.fit(x_train, y_train)\n",
    "\n",
    "print(\"Best score: {}\".format(forest_cv.best_score_))\n",
    "print(\"Optimal params: {}\".format(forest_cv.best_estimator_))"
   ]
  },
  {
   "cell_type": "code",
   "execution_count": 72,
   "metadata": {},
   "outputs": [],
   "source": [
    "# random forrest prediction on test set\n",
    "forrest_pred = forest_cv.predict(x_test)\n",
    "\n",
    "# dataframe with predictions\n",
    "kaggle = pd.DataFrame({'PassengerId': passengerId, 'Survived': forrest_pred})\n",
    "# save to csv\n",
    "kaggle.to_csv('titanic_pred.csv', index=False)"
   ]
  }
 ],
 "metadata": {
  "kernelspec": {
   "display_name": "Python 3",
   "language": "python",
   "name": "python3"
  },
  "language_info": {
   "codemirror_mode": {
    "name": "ipython",
    "version": 3
   },
   "file_extension": ".py",
   "mimetype": "text/x-python",
   "name": "python",
   "nbconvert_exporter": "python",
   "pygments_lexer": "ipython3",
   "version": "3.6.3"
  },
  "toc": {
   "nav_menu": {},
   "number_sections": true,
   "sideBar": true,
   "skip_h1_title": false,
   "title_cell": "Table of Contents",
   "title_sidebar": "Contents",
   "toc_cell": false,
   "toc_position": {
    "height": "529px",
    "left": "37px",
    "top": "110px",
    "width": "245px"
   },
   "toc_section_display": true,
   "toc_window_display": true
  },
  "varInspector": {
   "cols": {
    "lenName": 16,
    "lenType": 16,
    "lenVar": 40
   },
   "kernels_config": {
    "python": {
     "delete_cmd_postfix": "",
     "delete_cmd_prefix": "del ",
     "library": "var_list.py",
     "varRefreshCmd": "print(var_dic_list())"
    },
    "r": {
     "delete_cmd_postfix": ") ",
     "delete_cmd_prefix": "rm(",
     "library": "var_list.r",
     "varRefreshCmd": "cat(var_dic_list()) "
    }
   },
   "types_to_exclude": [
    "module",
    "function",
    "builtin_function_or_method",
    "instance",
    "_Feature"
   ],
   "window_display": false
  }
 },
 "nbformat": 4,
 "nbformat_minor": 2
}
