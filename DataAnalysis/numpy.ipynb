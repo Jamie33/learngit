{
 "cells": [
  {
   "cell_type": "markdown",
   "metadata": {},
   "source": [
    "# Python数据分析从入门到放弃（三）\n",
    "## 数据分析的一 numpy（一）numpy的一般用法\n",
    "\n",
    "http://blog.sina.com.cn/s/blog_727a8da80102xc3k.html\n",
    "\n",
    "### 导入 numpy"
   ]
  },
  {
   "cell_type": "code",
   "execution_count": null,
   "metadata": {},
   "outputs": [],
   "source": [
    "import numpy as np"
   ]
  },
  {
   "cell_type": "markdown",
   "metadata": {},
   "source": [
    "### 读入文本文件"
   ]
  },
  {
   "cell_type": "code",
   "execution_count": 3,
   "metadata": {},
   "outputs": [
    {
     "name": "stdout",
     "output_type": "stream",
     "text": [
      "[\"['为你，千千万万遍',\" \"'献给长成了大人的孩子们',\" \"'对于“人艰不拆”四个字最彻底的违抗',\"\n",
      " \"'一碗精心熬制的东野牌鸡汤，拒绝很难',\" \"'活着本身就是人生最大的意义',\" \"'暗夜独行的残破灵魂，爱与恶本就难分难舍',\"\n",
      " \"'村上之发轫，多少人的青春启蒙',\" \"'数学好是一种极致的浪漫',\" \"'你我不过都是虫子',\" \"'朝向媚俗的一次伟大的进军',\"\n",
      " \"'谁解其中味？',\" \"'只是青春留下的余烬',\" \"'一切畅销的因素都有了',\" \"'在这里看见中国',\"\n",
      " \"'尼采所谓的永劫复归，一场无始无终的梦魇',\" \"'车手韩寒的公路小说',\" \"'倒追有风险，入行需谨慎',\" \"'中国当代城乡生活全景',\"\n",
      " \"'灰姑娘在十九世纪',\" \"'羽加迪姆勒维奥萨！',\" \"'封面剧透',\" \"'无边的黑暗森林，比第一部更为恢弘壮丽',\"\n",
      " \"'革命时期的爱情，随风而逝',\" \"'犀利又温柔，穿过胸口隐隐作痛',\" \"'终章，何去何从']\"]\n"
     ]
    }
   ],
   "source": [
    "test = np.genfromtxt('test1.txt',delimiter=\"\",dtype=str)\n",
    "print(test)"
   ]
  },
  {
   "cell_type": "markdown",
   "metadata": {},
   "source": [
    "### numpy 数组是核心\n",
    "\n",
    "- 创建一个一维数组\n",
    "- 创建一个二维数组（矩阵）\n",
    "- 创建一个三维数组"
   ]
  },
  {
   "cell_type": "code",
   "execution_count": 5,
   "metadata": {},
   "outputs": [
    {
     "name": "stdout",
     "output_type": "stream",
     "text": [
      "vertor\n",
      "[ 5 10 15 20]\n",
      "matrix\n",
      "[[ 5 10 15]\n",
      " [20 25 30]\n",
      " [35 40 45]]\n",
      "panel\n",
      "[[[ 5 10 15]\n",
      "  [20 25 30]\n",
      "  [35 40 45]]\n",
      "\n",
      " [[55 60 65]\n",
      "  [60 75 80]\n",
      "  [85 90 95]]]\n"
     ]
    }
   ],
   "source": [
    "vector = np.array([5,10,15,20])\n",
    "matrix = np.array([[5,10,15],[20,25,30],[35,40,45]])\n",
    "panel = np.array([[[5,10,15],[20,25,30],[35,40,45]],[[55,60,65],[60,75,80],[85,90,95]]])\n",
    "print('vertor')\n",
    "print(vector)\n",
    "print('matrix')\n",
    "print(matrix)\n",
    "print('panel')\n",
    "print(panel)"
   ]
  },
  {
   "cell_type": "markdown",
   "metadata": {},
   "source": [
    "### 常用属性\n",
    "\n",
    "- shape属性可以看到numpy数组形状\n",
    "- dtype属性可以看到元素的类型"
   ]
  },
  {
   "cell_type": "code",
   "execution_count": 6,
   "metadata": {},
   "outputs": [
    {
     "name": "stdout",
     "output_type": "stream",
     "text": [
      "vertor\n",
      "(4,)\n",
      "int32\n",
      "matrix\n",
      "(3, 3)\n",
      "panel\n",
      "(2, 3, 3)\n"
     ]
    }
   ],
   "source": [
    "print('vertor')\n",
    "print(vector.shape)\n",
    "print(vector.dtype)\n",
    "print('matrix')\n",
    "print(matrix.shape)\n",
    "print('panel')\n",
    "print(panel.shape)"
   ]
  },
  {
   "cell_type": "markdown",
   "metadata": {},
   "source": [
    "# Python 数据分析入门与进阶 \n",
    "https://www.shiyanlou.com/courses/764\n",
    "\n",
    "## 多维的创建\n",
    "\n",
    "NumPy 的核心是多维数组，是通过 ndarray对象做到的，ndarray 对象是一个灵活的数据容器，可以基于此容器对数据进行各种运算。"
   ]
  },
  {
   "cell_type": "code",
   "execution_count": 3,
   "metadata": {},
   "outputs": [
    {
     "name": "stdout",
     "output_type": "stream",
     "text": [
      "-----a1-----\n",
      "(4,)\n",
      "4\n",
      "int64\n",
      "-----a2-----\n",
      "(2, 3)\n",
      "6\n",
      "float64\n",
      "0.5\n",
      "-----a1,a2-----\n",
      "[1 2 3 4]\n",
      "[[ 1.   2.5  3. ]\n",
      " [ 0.5  4.   9. ]]\n",
      "<class 'numpy.ndarray'>\n"
     ]
    }
   ],
   "source": [
    "import numpy as np\n",
    "\n",
    "print('-----a1-----')\n",
    "a1 = np.array([1,2,3,4])\n",
    "print(a1.shape)\n",
    "print(a1.size)\n",
    "print(a1.dtype)\n",
    "\n",
    "print('-----a2-----')\n",
    "a2 = np.array([[1.0,2.5,3],[0.5,4,9]])\n",
    "print(a2.shape)\n",
    "print(a2.size)\n",
    "print(a2.dtype)\n",
    "print(a2.min())\n",
    "\n",
    "print('-----a1,a2-----')\n",
    "print(a1)\n",
    "print(a2)\n",
    "print(type(a1))"
   ]
  },
  {
   "cell_type": "markdown",
   "metadata": {},
   "source": [
    "a1 为一维数组，a2 为二维数组。二维数组可以想象到类似于 Excel 表中的数据，有行列之分。a2 是一个 2 行，3 列的二维数组。关于这点信息，可以通过 ndarray.shape 得到，比如 a2.shape 输出为 (2, 3), 代表其是一个2行3列的数组。\n",
    "\n",
    "ndarray.size 属性得到数组的元素个数\n",
    "\n",
    "ndarray.dtype 属性则记录了数组内部存储的元素是什么类型。\n",
    "\n",
    "在上面两个例子中，类型分别为 int64 和 float64， dtype 的类型决定了需要存储这些元素的内存大小，是比较底层的信息，\n",
    "\n",
    "目前只需要知道 NumPy 支持常见的类型，如**浮点数，整数，布尔值，字符串，Python 对象**就行了。\n",
    "\n",
    "ndarray 还有其他各种方法，比如代码中展示的 min 返回所有元素中的最小元素，"
   ]
  },
  {
   "cell_type": "code",
   "execution_count": null,
   "metadata": {},
   "outputs": [],
   "source": []
  }
 ],
 "metadata": {
  "kernelspec": {
   "display_name": "Python 3",
   "language": "python",
   "name": "python3"
  },
  "language_info": {
   "codemirror_mode": {
    "name": "ipython",
    "version": 3
   },
   "file_extension": ".py",
   "mimetype": "text/x-python",
   "name": "python",
   "nbconvert_exporter": "python",
   "pygments_lexer": "ipython3",
   "version": "3.6.5"
  },
  "toc": {
   "nav_menu": {},
   "number_sections": true,
   "sideBar": true,
   "skip_h1_title": false,
   "title_cell": "Table of Contents",
   "title_sidebar": "Contents",
   "toc_cell": false,
   "toc_position": {},
   "toc_section_display": true,
   "toc_window_display": false
  },
  "varInspector": {
   "cols": {
    "lenName": 16,
    "lenType": 16,
    "lenVar": 40
   },
   "kernels_config": {
    "python": {
     "delete_cmd_postfix": "",
     "delete_cmd_prefix": "del ",
     "library": "var_list.py",
     "varRefreshCmd": "print(var_dic_list())"
    },
    "r": {
     "delete_cmd_postfix": ") ",
     "delete_cmd_prefix": "rm(",
     "library": "var_list.r",
     "varRefreshCmd": "cat(var_dic_list()) "
    }
   },
   "types_to_exclude": [
    "module",
    "function",
    "builtin_function_or_method",
    "instance",
    "_Feature"
   ],
   "window_display": false
  }
 },
 "nbformat": 4,
 "nbformat_minor": 2
}
