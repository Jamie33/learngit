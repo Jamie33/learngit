{
 "cells": [
  {
   "cell_type": "code",
   "execution_count": null,
   "metadata": {
    "collapsed": true
   },
   "outputs": [],
   "source": [
    "# Jupyter Notebook是一款交互式的编程与展示的web工具。可以支持多种开发语言。\n",
    "# 类似一个在线Python运行平台"
   ]
  },
  {
   "cell_type": "code",
   "execution_count": 6,
   "metadata": {
    "collapsed": true
   },
   "outputs": [],
   "source": [
    "# File中包含创建以及重命名脚本文件等常用功能\n",
    "# Edit 主要是集中在对内容区中的cell的操作\n",
    "# view视图用于设置显示或者隐藏toolbar以及设置cell的一些相关的视图属性\n",
    "# insert纯粹对cell进行操作，上方或者下方插入cell单元\n",
    "# cell主要是运行cell的操作，比如运行所有的cell单元，运行某一个cell单元或者是清空cell单元的所有的内容\n",
    "# kernel 功能主要是重启核或者是切换核，jupyter notebooke不仅仅可用于python的展示，也可以切换为其他的语言核进行其他语言代码编辑与运行展示\n",
    "# help中即是包含了jupyter notebook 的所有操作的帮助提示，非常有用。"
   ]
  },
  {
   "cell_type": "code",
   "execution_count": 7,
   "metadata": {
    "collapsed": true
   },
   "outputs": [],
   "source": [
    "# 什么是cell？\n",
    "# cell表示一个块，对于程序单元每一次点击工具栏上的Run的button，就会执行鼠标所在的cell然后显示出结果\n",
    "# 当然也可以选择一次性运行所有的cell 通过Cell->run all 实现"
   ]
  },
  {
   "cell_type": "code",
   "execution_count": 8,
   "metadata": {
    "collapsed": true
   },
   "outputs": [],
   "source": [
    "# 暂时你只需要先知道这些常用快捷键 ：\n",
    "# Enter : 转入编辑模式\n",
    "# Shift-Enter : 运行本单元，选中下个单元\n",
    "# Ctrl-Enter : 运行本单元"
   ]
  },
  {
   "cell_type": "code",
   "execution_count": 9,
   "metadata": {
    "collapsed": false
   },
   "outputs": [
    {
     "name": "stdout",
     "output_type": "stream",
     "text": [
      "hello world!\n"
     ]
    }
   ],
   "source": [
    "# 赶快运行一下\n",
    "print('hello world!')"
   ]
  },
  {
   "cell_type": "code",
   "execution_count": 11,
   "metadata": {
    "collapsed": false
   },
   "outputs": [
    {
     "data": {
      "text/plain": [
       "2.5"
      ]
     },
     "execution_count": 11,
     "metadata": {},
     "output_type": "execute_result"
    }
   ],
   "source": [
    "a = 1\n",
    "b = 2\n",
    "c = a*b+a/b\n",
    "c"
   ]
  },
  {
   "cell_type": "code",
   "execution_count": 13,
   "metadata": {
    "collapsed": false
   },
   "outputs": [
    {
     "data": {
      "text/plain": [
       "'你准备好了，下节课见！'"
      ]
     },
     "execution_count": 13,
     "metadata": {},
     "output_type": "execute_result"
    }
   ],
   "source": [
    "'你准备好了，下节课见！'"
   ]
  }
 ],
 "metadata": {
  "anaconda-cloud": {},
  "kernelspec": {
   "display_name": "Python [default]",
   "language": "python",
   "name": "python3"
  },
  "language_info": {
   "codemirror_mode": {
    "name": "ipython",
    "version": 3
   },
   "file_extension": ".py",
   "mimetype": "text/x-python",
   "name": "python",
   "nbconvert_exporter": "python",
   "pygments_lexer": "ipython3",
   "version": "3.5.2"
  }
 },
 "nbformat": 4,
 "nbformat_minor": 1
}
