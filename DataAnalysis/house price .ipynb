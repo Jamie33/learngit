{
 "cells": [
  {
   "cell_type": "markdown",
   "metadata": {},
   "source": [
    "\n",
    "## 1、数据导入与预处理\n",
    "- 1.1 模块导入\n",
    "- 1.2 数据导入\n",
    "- 1.3 Id特征处理\n",
    "- 1.4 异常值处理\n",
    "- 1.5 SalePrice特征处理\n",
    "\n",
    "## 2、特征工程\n",
    "- 2.1 数据集连接\n",
    "- 2.2 缺失数据分析\n",
    "- 2.3 数据相关性\n",
    "- 2.4 缺失值填充\n",
    "- 2.5 标签编码\n",
    "- 2.6 增加特征\n",
    "- 2.7 倾斜特征\n",
    "- 2.8 独热编码\n",
    "- 2.9 重新划分数据集\n",
    "- 2.10 特征重要性检测\n",
    "\n",
    "## 3、基础模型\n",
    "- 3.1 定义交叉验证策略\n",
    "- 3.2 建立基础模型\n",
    "- 3.3 基础模型分数\n",
    "\n",
    "## 4、模型融合\n",
    "- 4.1 方法一：模型平均\n",
    "\t- 4.1.1 模型平均类\n",
    "\t- 4.1.2 模型平均分数\n",
    "- 4.2 方法二：模型叠加\n",
    "\t- 4.2.1 模型叠加类\n",
    "\t- 4.2.2 模型叠加分数\n",
    "\n",
    "## 5、模型训练与预测\n",
    "- 5.1 定义评估函数\n",
    "- 5.2 模型训练、预测、评估\n",
    "- 5.3 集成预测\n",
    "- 5.4 生成结果文件\n",
    "\n",
    "### 数据导入与预处理\n",
    "\n",
    "#### 模块导入"
   ]
  },
  {
   "cell_type": "code",
   "execution_count": null,
   "metadata": {},
   "outputs": [],
   "source": []
  }
 ],
 "metadata": {
  "kernelspec": {
   "display_name": "Python 3",
   "language": "python",
   "name": "python3"
  },
  "language_info": {
   "codemirror_mode": {
    "name": "ipython",
    "version": 3
   },
   "file_extension": ".py",
   "mimetype": "text/x-python",
   "name": "python",
   "nbconvert_exporter": "python",
   "pygments_lexer": "ipython3",
   "version": "3.6.3"
  },
  "toc": {
   "nav_menu": {},
   "number_sections": true,
   "sideBar": true,
   "skip_h1_title": false,
   "title_cell": "Table of Contents",
   "title_sidebar": "Contents",
   "toc_cell": false,
   "toc_position": {},
   "toc_section_display": true,
   "toc_window_display": false
  },
  "varInspector": {
   "cols": {
    "lenName": 16,
    "lenType": 16,
    "lenVar": 40
   },
   "kernels_config": {
    "python": {
     "delete_cmd_postfix": "",
     "delete_cmd_prefix": "del ",
     "library": "var_list.py",
     "varRefreshCmd": "print(var_dic_list())"
    },
    "r": {
     "delete_cmd_postfix": ") ",
     "delete_cmd_prefix": "rm(",
     "library": "var_list.r",
     "varRefreshCmd": "cat(var_dic_list()) "
    }
   },
   "types_to_exclude": [
    "module",
    "function",
    "builtin_function_or_method",
    "instance",
    "_Feature"
   ],
   "window_display": false
  }
 },
 "nbformat": 4,
 "nbformat_minor": 2
}
