{
 "cells": [
  {
   "cell_type": "markdown",
   "metadata": {},
   "source": [
    "## 01. Pandas数据分析系列课程介绍"
   ]
  },
  {
   "cell_type": "markdown",
   "metadata": {},
   "source": [
    "### 本课程适用于谁？\n",
    "\n",
    "\n",
    "* 需要使用Python做数据分析，期待一个强大的数据分析工具\n",
    "\n",
    "* 本课程要求有一定的Python基础\n",
    "\n",
    "* 适用于零基础入门Pandas，或者提升自己的Pandas水平\n"
   ]
  },
  {
   "cell_type": "markdown",
   "metadata": {},
   "source": [
    "### 什么是Pandas?\n",
    "\n",
    "一个开源的Python类库：用于数据分析、数据处理、数据可视化\n",
    "* 高性能\n",
    "* 容易使用的数据结构\n",
    "* 容易使用的数据分析工具\n",
    "\n",
    "很方便和其它类库一起使用：\n",
    "* numpy：用于数学计算\n",
    "* scikit-learn：用于机器学习\n"
   ]
  },
  {
   "cell_type": "markdown",
   "metadata": {},
   "source": [
    "### 怎样下载安装Pandas\n",
    "\n",
    "1、下载使用Python类库集成安装包：anaconda  \n",
    "https://www.anaconda.com  \n",
    "当今最流行的Python数据分析发行版  \n",
    "已经安装了数据分析需要的几乎所有的类库  \n",
    "\n",
    "2、pip install pandas"
   ]
  },
  {
   "cell_type": "markdown",
   "metadata": {},
   "source": [
    "### 本课程演示方式\n",
    "\n",
    "1、使用jupyter notebook演示\n",
    "* jupyter：交互性、探索性的开发神器，适合学习语法、数据分析；\n",
    "* pycharm：大而全的集成开发环境，适合复杂项目的开发；\n",
    "\n",
    "2、使用真实数据集做演示\n",
    "\n",
    "3、jupyter代码、数据集，提供github仓库下载\n"
   ]
  }
 ],
 "metadata": {
  "kernelspec": {
   "display_name": "Python 3",
   "language": "python",
   "name": "python3"
  },
  "language_info": {
   "codemirror_mode": {
    "name": "ipython",
    "version": 3
   },
   "file_extension": ".py",
   "mimetype": "text/x-python",
   "name": "python",
   "nbconvert_exporter": "python",
   "pygments_lexer": "ipython3",
   "version": "3.7.4"
  }
 },
 "nbformat": 4,
 "nbformat_minor": 2
}
