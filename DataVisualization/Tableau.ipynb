{
 "cells": [
  {
   "cell_type": "markdown",
   "metadata": {},
   "source": [
    "## 用 Tableau 数据可视化案例\n",
    "### 数据集概要 \n",
    "\n",
    "这次数据集的基本信息：\n",
    "\n",
    "- 数据集大小：38738条\n",
    "- 字段：电影名称、类型、产地、上映时间、年代、时长、评分、投票人数、首映地点\n",
    "- 有缺失值\n",
    "\n",
    "> 数据集来源：豆瓣电影.csv\n",
    "\n",
    "### 获取数据集"
   ]
  },
  {
   "cell_type": "code",
   "execution_count": 15,
   "metadata": {},
   "outputs": [
    {
     "data": {
      "text/html": [
       "<div>\n",
       "<style scoped>\n",
       "    .dataframe tbody tr th:only-of-type {\n",
       "        vertical-align: middle;\n",
       "    }\n",
       "\n",
       "    .dataframe tbody tr th {\n",
       "        vertical-align: top;\n",
       "    }\n",
       "\n",
       "    .dataframe thead th {\n",
       "        text-align: right;\n",
       "    }\n",
       "</style>\n",
       "<table border=\"1\" class=\"dataframe\">\n",
       "  <thead>\n",
       "    <tr style=\"text-align: right;\">\n",
       "      <th></th>\n",
       "      <th>Unnamed: 0</th>\n",
       "      <th>Unnamed: 0.1</th>\n",
       "      <th>名字</th>\n",
       "      <th>投票人数</th>\n",
       "      <th>类型</th>\n",
       "      <th>产地</th>\n",
       "      <th>上映时间</th>\n",
       "      <th>时长</th>\n",
       "      <th>年代</th>\n",
       "      <th>评分</th>\n",
       "      <th>首映地点</th>\n",
       "    </tr>\n",
       "  </thead>\n",
       "  <tbody>\n",
       "    <tr>\n",
       "      <th>0</th>\n",
       "      <td>0</td>\n",
       "      <td>0</td>\n",
       "      <td>肖申克的救赎</td>\n",
       "      <td>692795.0</td>\n",
       "      <td>剧情</td>\n",
       "      <td>美国</td>\n",
       "      <td>1994-09-10 00:00:00</td>\n",
       "      <td>142</td>\n",
       "      <td>1994</td>\n",
       "      <td>9.6</td>\n",
       "      <td>多伦多电影节</td>\n",
       "    </tr>\n",
       "    <tr>\n",
       "      <th>1</th>\n",
       "      <td>1</td>\n",
       "      <td>1</td>\n",
       "      <td>控方证人</td>\n",
       "      <td>42995.0</td>\n",
       "      <td>剧情</td>\n",
       "      <td>美国</td>\n",
       "      <td>1957-12-17 00:00:00</td>\n",
       "      <td>116</td>\n",
       "      <td>1957</td>\n",
       "      <td>9.5</td>\n",
       "      <td>美国</td>\n",
       "    </tr>\n",
       "    <tr>\n",
       "      <th>2</th>\n",
       "      <td>2</td>\n",
       "      <td>2</td>\n",
       "      <td>美丽人生</td>\n",
       "      <td>327855.0</td>\n",
       "      <td>剧情</td>\n",
       "      <td>意大利</td>\n",
       "      <td>1997-12-20 00:00:00</td>\n",
       "      <td>116</td>\n",
       "      <td>1997</td>\n",
       "      <td>9.5</td>\n",
       "      <td>意大利</td>\n",
       "    </tr>\n",
       "    <tr>\n",
       "      <th>3</th>\n",
       "      <td>3</td>\n",
       "      <td>3</td>\n",
       "      <td>阿甘正传</td>\n",
       "      <td>580897.0</td>\n",
       "      <td>剧情</td>\n",
       "      <td>美国</td>\n",
       "      <td>1994-06-23 00:00:00</td>\n",
       "      <td>142</td>\n",
       "      <td>1994</td>\n",
       "      <td>9.4</td>\n",
       "      <td>洛杉矶首映</td>\n",
       "    </tr>\n",
       "    <tr>\n",
       "      <th>4</th>\n",
       "      <td>4</td>\n",
       "      <td>4</td>\n",
       "      <td>霸王别姬</td>\n",
       "      <td>478523.0</td>\n",
       "      <td>剧情</td>\n",
       "      <td>中国</td>\n",
       "      <td>1993-01-01 00:00:00</td>\n",
       "      <td>171</td>\n",
       "      <td>1993</td>\n",
       "      <td>9.4</td>\n",
       "      <td>香港</td>\n",
       "    </tr>\n",
       "  </tbody>\n",
       "</table>\n",
       "</div>"
      ],
      "text/plain": [
       "   Unnamed: 0  Unnamed: 0.1      名字      投票人数  类型   产地                 上映时间  \\\n",
       "0           0             0  肖申克的救赎  692795.0  剧情   美国  1994-09-10 00:00:00   \n",
       "1           1             1    控方证人   42995.0  剧情   美国  1957-12-17 00:00:00   \n",
       "2           2             2   美丽人生   327855.0  剧情  意大利  1997-12-20 00:00:00   \n",
       "3           3             3    阿甘正传  580897.0  剧情   美国  1994-06-23 00:00:00   \n",
       "4           4             4    霸王别姬  478523.0  剧情   中国  1993-01-01 00:00:00   \n",
       "\n",
       "    时长    年代   评分    首映地点  \n",
       "0  142  1994  9.6  多伦多电影节  \n",
       "1  116  1957  9.5      美国  \n",
       "2  116  1997  9.5     意大利  \n",
       "3  142  1994  9.4   洛杉矶首映  \n",
       "4  171  1993  9.4      香港  "
      ]
     },
     "execution_count": 15,
     "metadata": {},
     "output_type": "execute_result"
    }
   ],
   "source": [
    "import pandas as pd\n",
    "import numpy as np\n",
    "import os\n",
    "\n",
    "# xlsx 转成 csv 格式  \n",
    "# 需要安装 openpyxl 这个库 读写excel文件\n",
    "def xlsx_to_csv(file_name):\n",
    "    save_name = os.path.splitext(file_name)[0]\n",
    "    data_xls = pd.read_excel(file_name)\n",
    "    save_file = r'{}.csv'.format(save_name)\n",
    "    data_xls.to_csv(save_file, encoding='utf-8')\n",
    "    return save_file\n",
    "\n",
    "file_name = \"豆瓣电影数据.xlsx\"\n",
    "xlsx_to_csv(file_name)\n",
    "new_file = r'{}.csv'.format(os.path.splitext(file_name)[0]) \n",
    "data = pd.read_csv(new_file,encoding='utf-8')\n",
    "data.head()"
   ]
  },
  {
   "cell_type": "markdown",
   "metadata": {},
   "source": [
    "### 数据集的大致信息"
   ]
  },
  {
   "cell_type": "code",
   "execution_count": 14,
   "metadata": {
    "scrolled": false
   },
   "outputs": [
    {
     "name": "stdout",
     "output_type": "stream",
     "text": [
      "<class 'pandas.core.frame.DataFrame'>\n",
      "RangeIndex: 38738 entries, 0 to 38737\n",
      "Data columns (total 11 columns):\n",
      " #   Column        Non-Null Count  Dtype  \n",
      "---  ------        --------------  -----  \n",
      " 0   Unnamed: 0    38738 non-null  int64  \n",
      " 1   Unnamed: 0.1  38738 non-null  int64  \n",
      " 2   名字            38178 non-null  object \n",
      " 3   投票人数          38738 non-null  float64\n",
      " 4   类型            38738 non-null  object \n",
      " 5   产地            38738 non-null  object \n",
      " 6   上映时间          38738 non-null  object \n",
      " 7   时长            38738 non-null  object \n",
      " 8   年代            38738 non-null  int64  \n",
      " 9   评分            38738 non-null  float64\n",
      " 10  首映地点          38737 non-null  object \n",
      "dtypes: float64(2), int64(3), object(6)\n",
      "memory usage: 3.3+ MB\n"
     ]
    }
   ],
   "source": [
    "data.info()"
   ]
  },
  {
   "cell_type": "markdown",
   "metadata": {},
   "source": [
    "### 数据集缺失值详情"
   ]
  },
  {
   "cell_type": "code",
   "execution_count": 32,
   "metadata": {},
   "outputs": [
    {
     "data": {
      "text/html": [
       "<div>\n",
       "<style scoped>\n",
       "    .dataframe tbody tr th:only-of-type {\n",
       "        vertical-align: middle;\n",
       "    }\n",
       "\n",
       "    .dataframe tbody tr th {\n",
       "        vertical-align: top;\n",
       "    }\n",
       "\n",
       "    .dataframe thead th {\n",
       "        text-align: right;\n",
       "    }\n",
       "</style>\n",
       "<table border=\"1\" class=\"dataframe\">\n",
       "  <thead>\n",
       "    <tr style=\"text-align: right;\">\n",
       "      <th></th>\n",
       "      <th>miss_total</th>\n",
       "      <th>percent%</th>\n",
       "    </tr>\n",
       "  </thead>\n",
       "  <tbody>\n",
       "    <tr>\n",
       "      <th>名字</th>\n",
       "      <td>560</td>\n",
       "      <td>1.4</td>\n",
       "    </tr>\n",
       "    <tr>\n",
       "      <th>首映地点</th>\n",
       "      <td>1</td>\n",
       "      <td>0.0</td>\n",
       "    </tr>\n",
       "    <tr>\n",
       "      <th>评分</th>\n",
       "      <td>0</td>\n",
       "      <td>0.0</td>\n",
       "    </tr>\n",
       "    <tr>\n",
       "      <th>年代</th>\n",
       "      <td>0</td>\n",
       "      <td>0.0</td>\n",
       "    </tr>\n",
       "    <tr>\n",
       "      <th>时长</th>\n",
       "      <td>0</td>\n",
       "      <td>0.0</td>\n",
       "    </tr>\n",
       "    <tr>\n",
       "      <th>上映时间</th>\n",
       "      <td>0</td>\n",
       "      <td>0.0</td>\n",
       "    </tr>\n",
       "    <tr>\n",
       "      <th>产地</th>\n",
       "      <td>0</td>\n",
       "      <td>0.0</td>\n",
       "    </tr>\n",
       "    <tr>\n",
       "      <th>类型</th>\n",
       "      <td>0</td>\n",
       "      <td>0.0</td>\n",
       "    </tr>\n",
       "    <tr>\n",
       "      <th>投票人数</th>\n",
       "      <td>0</td>\n",
       "      <td>0.0</td>\n",
       "    </tr>\n",
       "    <tr>\n",
       "      <th>Unnamed: 0.1</th>\n",
       "      <td>0</td>\n",
       "      <td>0.0</td>\n",
       "    </tr>\n",
       "    <tr>\n",
       "      <th>Unnamed: 0</th>\n",
       "      <td>0</td>\n",
       "      <td>0.0</td>\n",
       "    </tr>\n",
       "  </tbody>\n",
       "</table>\n",
       "</div>"
      ],
      "text/plain": [
       "              miss_total  percent%\n",
       "名字                   560       1.4\n",
       "首映地点                   1       0.0\n",
       "评分                     0       0.0\n",
       "年代                     0       0.0\n",
       "时长                     0       0.0\n",
       "上映时间                   0       0.0\n",
       "产地                     0       0.0\n",
       "类型                     0       0.0\n",
       "投票人数                   0       0.0\n",
       "Unnamed: 0.1           0       0.0\n",
       "Unnamed: 0             0       0.0"
      ]
     },
     "execution_count": 32,
     "metadata": {},
     "output_type": "execute_result"
    }
   ],
   "source": [
    "null_total =data.isnull().sum().sort_values(ascending=False)\n",
    "null_info = data.isnull().sum()/data.isnull().count()\n",
    "percent_1 = round(null_info*100,1).sort_values(ascending=False)\n",
    "miss_data = pd.concat([null_total,percent_1],axis=1,keys=['miss_total','percent%'])\n",
    "miss_data "
   ]
  },
  {
   "cell_type": "markdown",
   "metadata": {},
   "source": [
    "数据集\n",
    "- 电影名称特征有560个缺失值，这不太可能进行填补，看起来要从数据集中删除它。\n",
    "- 首映地点特只有1个缺失值。"
   ]
  },
  {
   "cell_type": "markdown",
   "metadata": {},
   "source": [
    "### 基础数据 Tableau 仪表板\n",
    "\n",
    "![豆瓣电影数据仪表板](豆瓣电影数据仪表板.png)"
   ]
  },
  {
   "cell_type": "markdown",
   "metadata": {},
   "source": [
    "#### 仪表板详解\n",
    "![电影评分的直方图](作业1-电影评分的直方图.png)\n",
    "![各国家电影数量](作业1-各国家电影数量.png)\n",
    "![电影数量折线图](作业2-电影数量折线图.png)\n",
    "![剧情、喜剧、动作三类电影环形图](作业2-剧情、喜剧、动作三类电影环形图.png)"
   ]
  },
  {
   "cell_type": "markdown",
   "metadata": {},
   "source": [
    "### 多维分析 Tableau 图表\n",
    "\n",
    "![不同类型电影数量的气泡图](作业3-不同类型电影数量的气泡图.png)\n",
    "![电影产地与平均评分的树形图](作业3-电影产地与平均评分的树形图.png)\n",
    "![2012年各国家电影产量标靶图](作业 4-2012年各国家电影产量标靶图.png)"
   ]
  },
  {
   "cell_type": "code",
   "execution_count": null,
   "metadata": {},
   "outputs": [],
   "source": []
  }
 ],
 "metadata": {
  "kernelspec": {
   "display_name": "Python 3",
   "language": "python",
   "name": "python3"
  },
  "language_info": {
   "codemirror_mode": {
    "name": "ipython",
    "version": 3
   },
   "file_extension": ".py",
   "mimetype": "text/x-python",
   "name": "python",
   "nbconvert_exporter": "python",
   "pygments_lexer": "ipython3",
   "version": "3.6.3"
  },
  "toc": {
   "nav_menu": {},
   "number_sections": true,
   "sideBar": true,
   "skip_h1_title": false,
   "title_cell": "Table of Contents",
   "title_sidebar": "Contents",
   "toc_cell": false,
   "toc_position": {},
   "toc_section_display": true,
   "toc_window_display": false
  },
  "varInspector": {
   "cols": {
    "lenName": 16,
    "lenType": 16,
    "lenVar": 40
   },
   "kernels_config": {
    "python": {
     "delete_cmd_postfix": "",
     "delete_cmd_prefix": "del ",
     "library": "var_list.py",
     "varRefreshCmd": "print(var_dic_list())"
    },
    "r": {
     "delete_cmd_postfix": ") ",
     "delete_cmd_prefix": "rm(",
     "library": "var_list.r",
     "varRefreshCmd": "cat(var_dic_list()) "
    }
   },
   "types_to_exclude": [
    "module",
    "function",
    "builtin_function_or_method",
    "instance",
    "_Feature"
   ],
   "window_display": false
  }
 },
 "nbformat": 4,
 "nbformat_minor": 2
}
