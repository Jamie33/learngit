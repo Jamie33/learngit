{
 "cells": [
  {
   "cell_type": "markdown",
   "metadata": {},
   "source": [
    "# Ungraded Lab: Cost Function for Logistic Regression\n",
    "\n",
    "## Goals\n",
    "In this lab you will:\n",
    "- In this lab, you will implement the cost function for logistic regression.\n",
    "\n",
    "## Dataset \n",
    "Let's start with the same dataset as before."
   ]
  },
  {
   "cell_type": "code",
   "execution_count": 1,
   "metadata": {},
   "outputs": [],
   "source": [
    "import numpy as np\n",
    "\n",
    "X = np.array([[0.5, 1.5], [1,1], [1.5, 0.5], [3, 0.5], [2, 2], [1, 2.5]])\n",
    "y = np.array([0, 0, 0, 1, 1, 1]).reshape(-1,1)"
   ]
  },
  {
   "cell_type": "markdown",
   "metadata": {},
   "source": [
    "We'll use a helper function to plot this data. The data points with label $y=1$ are shown as red crosses, while the data points with label $y=0$ are shown as black circles."
   ]
  },
  {
   "cell_type": "code",
   "execution_count": 2,
   "metadata": {},
   "outputs": [
    {
     "data": {
      "image/png": "[encoded data removed]",
      "text/plain": [
       "<Figure size 432x288 with 1 Axes>"
      ]
     },
     "metadata": {
      "needs_background": "light"
     },
     "output_type": "display_data"
    }
   ],
   "source": [
    "from lab_utils import plot_data\n",
    "import matplotlib.pyplot as plt\n",
    "\n",
    "plot_data(X,y)\n",
    "\n",
    "# Set both axes to be from 0-6\n",
    "plt.axis([0, 6, 0, 6])\n",
    "# Set the y-axis label\n",
    "plt.ylabel('$x_1$')\n",
    "# Set the x-axis label\n",
    "plt.xlabel('$x_0$')\n",
    "plt.show()"
   ]
  },
  {
   "cell_type": "markdown",
   "metadata": {},
   "source": [
    "## Cost function\n",
    "\n",
    "First, you will implement a non-vectorized version of the cost function. Then, you will implement a vectorized version.\n",
    "\n",
    "\n",
    "### Non- vectorized version\n",
    "\n",
    "Recall that for logistic regression, the cost function is of the form \n",
    "\n",
    "$$ J(\\mathbf{w},b) = \\frac{1}{m} \\sum_{i=0}^{m-1} \\left[ cost(f_{\\mathbf{w},b}(\\mathbf{x}^{(i)}), y^{(i)}) \\right] \\tag{1}$$\n",
    "\n",
    "where\n",
    "* m is the number of training examples in the dataset \n",
    "\n",
    "* $cost(f_{\\mathbf{w},b}(\\mathbf{x}^{(i)}), y^{(i)})$ is the cost for a single data point, which is - \n",
    "\n",
    "    $$cost(f_{\\mathbf{w},b}(\\mathbf{x}^{(i)}), y^{(i)}) = -y^{(i)} \\log\\left(f_{\\mathbf{w},b}\\left( \\mathbf{x}^{(i)} \\right) \\right) - \\left( 1 - y^{(i)}\\right) \\log \\left( 1 - f_{\\mathbf{w},b}\\left( \\mathbf{x}^{(i)} \\right) \\right) \\tag{2}$$\n",
    "    \n",
    "*  $f_{\\mathbf{w},b}(\\mathbf{x}^{(i)})$ is the model's prediction, while $y^{(i)}$, which is the actual label\n",
    "\n",
    "\n",
    "* For a logistic regression model for the dataset given above, the model can be representented as:\n",
    "\n",
    "    $f_{\\mathbf{w},b}(x) = g(w_0x_0 + w_1x_1 + b) = g(\\mathbf{x^Tw} + b)$\n",
    "\n",
    "    where $g(z)$ is the sigmoid function:\n",
    "\n",
    "    $g(z) = \\frac{1}{1+e^{-z}}$ \n",
    " "
   ]
  },
  {
   "cell_type": "markdown",
   "metadata": {},
   "source": [
    "#### Side Note: sigmoid function implementation\n",
    "We've implemented the `sigmoid` function for you already and you can simply import and use it, as shown in the code block below."
   ]
  },
  {
   "cell_type": "code",
   "execution_count": 3,
   "metadata": {},
   "outputs": [
    {
     "name": "stdout",
     "output_type": "stream",
     "text": [
      "0.5\n"
     ]
    }
   ],
   "source": [
    "from lab_utils import sigmoid \n",
    "\n",
    "print(sigmoid(0))"
   ]
  },
  {
   "cell_type": "markdown",
   "metadata": {},
   "source": [
    "<a name='ex-02'></a>\n",
    "#### Exercise \n",
    "\n",
    "Please complete  the `compute_cost_logistic_loop`:\n",
    "- Create a variable outside the loop to store the costs\n",
    "- Loop over all examples in the training set.\n",
    "    - calculate the cost for each training example \n",
    "        - Calculate `z`\n",
    "        - $ z =  w_0x_0^{(i)} + w_1x_1^{(i)} + b = \\mathbf{x}^{(i)T}\\mathbf{w} +b $\n",
    "        - Predict `f` where `g` is the sigmoid function\n",
    "            - $ f =  g(z) $\n",
    "        - Calculate the cost for each example  \n",
    "            $cost =  (-y^{(i)} * \\log f) - ((1 - y^{(i)})\\log( 1 - f))$\n",
    "     - Add this cost to the total cost variable created outside the loop   \n",
    "- Get the sum of cost from all iterations and return the total divided by the number of examples.\n",
    "\n",
    "\n",
    "As you are doing this, remember that the variables X_train and y_train are not scalar values but matrices of shape ($m, n$) and ($𝑚$,1) respectively, where  $𝑛$ is the number of features and $𝑚$ is the number of training examples.\n"
   ]
  },
  {
   "cell_type": "markdown",
   "metadata": {},
   "source": [
    "<details>\n",
    "  <summary><font size=\"2\" color=\"darkgreen\"><b>Hints</b></font></summary>\n",
    "    \n",
    "```python     \n",
    "def compute_cost_logistic_loop(X, y, w, b):\n",
    "    \"\"\"\n",
    "    Computes the cost over all examples\n",
    "    Args:\n",
    "      X : (array_like Shape (m,n)) data, m examples by n features\n",
    "      y : (array_like Shape (m,1)) target value \n",
    "      w : (array_like Shape (n,1)) Values of parameters of the model      \n",
    "      b : (array_like Shape (n,1)) Values of bias parameter of the model\n",
    "    Returns:\n",
    "      total_cost: (scalar)         cost \n",
    "    \"\"\"\n",
    "\n",
    "    m, n = X.shape\n",
    "    cost = 0.\n",
    "    for i in range(m):\n",
    "        ### BEGIN SOLUTION ###  \n",
    "        z = 0\n",
    "        for j in range(n):\n",
    "            z = z + w[j] * X[i][j]\n",
    "        z = z + b\n",
    "        f = sigmoid(z)\n",
    "        \n",
    "        cost +=  -y[i]*np.log(f) - (1-y[i])*np.log(1-f)\n",
    "        ### END CODE HERE ### \n",
    "             \n",
    "    total_cost = (1/m) * cost\n",
    "    return total_cost[0] \n",
    "```\n",
    "</details>"
   ]
  },
  {
   "cell_type": "code",
   "execution_count": 4,
   "metadata": {},
   "outputs": [],
   "source": [
    "def compute_cost_logistic_loop(X, y, w, b):\n",
    "    \"\"\"\n",
    "    Computes the cost over all examples\n",
    "    Args:\n",
    "      X : (array_like Shape (m,n)) data, m examples by n features\n",
    "      y : (array_like Shape (m,1)) target value \n",
    "      w : (array_like Shape (n,1)) Values of parameters of the model      \n",
    "      b : (array_like Shape (n,1)) Values of bias parameter of the model\n",
    "    Returns:\n",
    "      total_cost: (scalar)         cost \n",
    "    \"\"\"\n",
    "\n",
    "    m, n = X.shape\n",
    "    cost = 0.\n",
    "    for i in range(m):\n",
    "        ### START CODE HERE ### \n",
    "        ### BEGIN SOLUTION ###  \n",
    "        z = 0\n",
    "        for j in range(n):\n",
    "            z = z + w[j] * X[i][j]\n",
    "        z = z + b\n",
    "        f = sigmoid(z)\n",
    "        \n",
    "        cost +=  -y[i]*np.log(f) - (1-y[i])*np.log(1-f)\n",
    "        ### END SOLUTION ###  \n",
    "        ### END CODE HERE ### \n",
    "             \n",
    "    total_cost = (1/m) * cost\n",
    "    return total_cost[0]"
   ]
  },
  {
   "cell_type": "markdown",
   "metadata": {},
   "source": [
    "Check the implementation of your cost function using the cell below."
   ]
  },
  {
   "cell_type": "code",
   "execution_count": 5,
   "metadata": {},
   "outputs": [
    {
     "name": "stdout",
     "output_type": "stream",
     "text": [
      "0.3668667864055174\n"
     ]
    }
   ],
   "source": [
    "# note, w is defined as a column vector\n",
    "w = np.array([1,1]).reshape(-1,1)\n",
    "b = -3\n",
    "print(compute_cost_logistic_loop(X, y, w, b))"
   ]
  },
  {
   "cell_type": "markdown",
   "metadata": {},
   "source": [
    "**Expected output**: 0.3668667864055174"
   ]
  },
  {
   "cell_type": "markdown",
   "metadata": {},
   "source": [
    "Now, let's see what the cost function output is for a different value of $w$. \n",
    "\n",
    "* In the last ungraded lab, you plotted the decision boundary for  $b = -3, w_0 = 1, w_1 = 1$. That is, you had `w = np.array([-3,1,1])`.\n",
    "\n",
    "* Let's say you want to see if $b = -4, w_0 = 1, w_1 = 1$, or `w = np.array([-4,1,1])` provides a better model.\n",
    "\n",
    "Let's first plot the decision boundary for these two different $b$ values to see which one fits the data better.\n",
    "\n",
    "* For $b = -3, w_0 = 1, w_1 = 1$, we'll plot $-3 + x_0+x_1 = 0$ (shown in blue)\n",
    "* For $b = -4, w_0 = 1, w_1 = 1$, we'll plot $-4 + x_0+x_1 = 0$ (shown in magenta)"
   ]
  },
  {
   "cell_type": "code",
   "execution_count": 7,
   "metadata": {},
   "outputs": [
    {
     "data": {
      "image/png": "[encoded data removed]",
      "text/plain": [
       "<Figure size 432x288 with 1 Axes>"
      ]
     },
     "metadata": {
      "needs_background": "light"
     },
     "output_type": "display_data"
    }
   ],
   "source": [
    "import matplotlib.pyplot as plt\n",
    "\n",
    "# Choose values between 0 and 6\n",
    "x0 = np.arange(0,6)\n",
    "\n",
    "# Plot the two decision boundaries\n",
    "x1 = 3 - x0\n",
    "x1_other = 4 - x0\n",
    "\n",
    "# Plot the decision boundary\n",
    "plt.plot(x0,x1, c=\"b\", label=\"$b$=-3\")\n",
    "plt.plot(x0,x1_other, c=\"m\", label=\"$b$=-4\")\n",
    "plt.axis([0, 6, 0, 6])\n",
    "\n",
    "# Plot the original data\n",
    "plot_data(X,y)\n",
    "# Set the y-axis label\n",
    "plt.ylabel('x1')\n",
    "# Set the x-axis label\n",
    "plt.xlabel('x0')\n",
    "\n",
    "plt.legend(loc=\"upper right\")\n",
    "plt.title(\"Decision Boundary\")\n",
    "plt.show()"
   ]
  },
  {
   "cell_type": "markdown",
   "metadata": {},
   "source": [
    "You can see from this plot that `w = np.array([-4,1,1])` is a worse model for our data. Let's see if you can see this from your cost function implementation as well."
   ]
  },
  {
   "cell_type": "code",
   "execution_count": 8,
   "metadata": {},
   "outputs": [
    {
     "name": "stdout",
     "output_type": "stream",
     "text": [
      "Cost for b = -3 :  0.3668667864055174\n",
      "Cost for b = -4 :  0.503680863674846\n"
     ]
    }
   ],
   "source": [
    "w_array1 = np.array([1,1]).reshape(-1,1)\n",
    "b_1 = -3\n",
    "w_array2 = np.array([1,1]).reshape(-1,1)\n",
    "b_2 = -4\n",
    "\n",
    "print(\"Cost for b = -3 : \", compute_cost_logistic_loop(X, y, w_array1, b_1))\n",
    "print(\"Cost for b = -4 : \", compute_cost_logistic_loop(X, y, w_array2, b_2))"
   ]
  },
  {
   "cell_type": "markdown",
   "metadata": {},
   "source": [
    "**Expected output**\n",
    "\n",
    "Cost for b = -3 :  0.3668667864055174\n",
    "\n",
    "Cost for b = -4 :  0.503680863674846\n",
    "\n",
    "\n",
    "You can see that your cost function behaves as expected and the cost for `w = np.array([-4,1,1])` is indeed higher than the cost for `w = np.array([-3,1,1])`"
   ]
  },
  {
   "cell_type": "markdown",
   "metadata": {},
   "source": [
    "### (Optional ) Vectorized version\n",
    "\n",
    "You will now implement a vectorized version of the cost function.\n",
    "\n",
    "The vectorized version of the cost function formula is \n",
    "\n",
    "$$ J(\\mathbf{w},b) = \\frac{1}{m} (-\\mathbf{y}^T \\text{log}(\\mathbf{f_{w,b}}) - (1-\\mathbf{y})^T  \\text{log}(1-\\mathbf{f_{w,b}}))$$ \n",
    "\n",
    "where\n",
    "\n",
    "$$ \\mathbf{f_{w,b}} = g(\\mathbf{X} \\mathbf{w})$$\n",
    "\n",
    "As before, $g$ is the sigmoid function.\n"
   ]
  },
  {
   "cell_type": "markdown",
   "metadata": {},
   "source": [
    "\n",
    "**Exercise**\n",
    "\n",
    "You'll complete the vectorized cost function by implementing the following steps - \n",
    "\n",
    "* First, you'll compute the models prediction $f_{\\mathbf{w},b}(x)$ as shown below\n",
    "\n",
    "   ```\n",
    "    f = sigmoid(X @ w) + b  \n",
    "    #f = sigmoid(np.matmul(X,w) + b  # also works\n",
    "    #f = sigmoid(np.dot(X,w) + b     # also works\n",
    "    total_cost = (1/m)*(np.dot(-y, np.log(f)) - np.dot((1-y), np.log(1-f)))\n",
    "   ```\n",
    "  \n",
    "\n",
    "* Then, you'll compute the cost as \n",
    "\n",
    "  ```\n",
    "  total_cost = (1/m)*(np.dot(-y, np.log(f)) - np.dot((1-y), np.log(1-f)))\n",
    "  ```\n",
    "\n",
    "**Debugging Tip:** Vectorizing code can sometimes be tricky. One common strategy for debugging is to print out the sizes of the matrices you are working with using the size function. For example, given a data matrix $\\mathbf{X}$ of size 6 × 3 (6 examples, 3 features) and $\\mathbf{w}$, a vector with dimensions 3x0, you can observe that $\\mathbf{Xw}$ is a valid multiplication operation, while $\\mathbf{wX}$ is not."
   ]
  },
  {
   "cell_type": "code",
   "execution_count": 9,
   "metadata": {},
   "outputs": [],
   "source": [
    "def compute_cost_logistic_matrix(X, y, w, b):\n",
    "    \"\"\"\n",
    "    Computes the cost over all examples\n",
    "    Args:\n",
    "      X : (array_like Shape (m,n)) data, m examples by n features\n",
    "      y : (array_like Shape (m,1)) target value \n",
    "      w : (array_like Shape (n,1)) Values of parameters of the model      \n",
    "      b : (array_like Shape (n,1)) Values of bias parameter of the model\n",
    "    Returns:\n",
    "      total_cost: (scalar)         cost \n",
    "    \"\"\"\n",
    "    m = X.shape[0]\n",
    "    \n",
    "    ### START CODE HERE ### \n",
    "    ### BEGIN SOLUTION ###  \n",
    "    f = sigmoid(X @ w + b)\n",
    "    total_cost = (1/m)*(np.dot(-y.T, np.log(f)) - np.dot((1-y).T, np.log(1-f)))\n",
    "    ### END SOLUTION ###  \n",
    "    ### END CODE HERE ### \n",
    "    \n",
    "    return total_cost[0,0]"
   ]
  },
  {
   "cell_type": "markdown",
   "metadata": {},
   "source": [
    "Now let's check if the output of this function is equivalent to the output of your non-vectorized implementation above."
   ]
  },
  {
   "cell_type": "code",
   "execution_count": 10,
   "metadata": {},
   "outputs": [
    {
     "name": "stdout",
     "output_type": "stream",
     "text": [
      "Cost computed by non-vectorized version: 0.3668667864055174\n",
      "Cost computed by vectorized version: 0.3668667864055174\n"
     ]
    }
   ],
   "source": [
    "print(f\"Cost computed by non-vectorized version: {compute_cost_logistic_loop(X, y, w, b)}\")\n",
    "print(f\"Cost computed by vectorized version: {compute_cost_logistic_matrix(X, y, w, b)}\")"
   ]
  },
  {
   "cell_type": "markdown",
   "metadata": {},
   "source": [
    "**Expected output**\n",
    "\n",
    "Cost computed by non-vectorized version:  0.3668667864055174\n",
    "\n",
    "Cost computed by vectorized version:  0.3668667864055174\n"
   ]
  },
  {
   "cell_type": "code",
   "execution_count": null,
   "metadata": {},
   "outputs": [],
   "source": []
  }
 ],
 "metadata": {
  "kernelspec": {
   "display_name": "Python 3",
   "language": "python",
   "name": "python3"
  },
  "language_info": {
   "codemirror_mode": {
    "name": "ipython",
    "version": 3
   },
   "file_extension": ".py",
   "mimetype": "text/x-python",
   "name": "python",
   "nbconvert_exporter": "python",
   "pygments_lexer": "ipython3",
   "version": "3.8.6"
  }
 },
 "nbformat": 4,
 "nbformat_minor": 5
}
