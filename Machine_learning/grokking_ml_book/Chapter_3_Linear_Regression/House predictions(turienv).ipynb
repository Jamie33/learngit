{
 "cells": [
  {
   "cell_type": "markdown",
   "id": "3e4a8b04",
   "metadata": {},
   "source": [
    "# House predictions with linear regression(turienv)\n",
    "\n",
    "- 什么是 Turi Create？\n",
    "    - Turi Create 是 Apple 开源的一款机器学习工具库, 可用于通过迁移学习, 构建对象检测、图像分类、图像相似性或活动分类功能的 ML 模型.\n",
    "    - Turi Create 支持的平台包括 macOS 10.12+, Linux (with glibc 2.12+), Windows 10 (via WSL)"
   ]
  },
  {
   "cell_type": "code",
   "execution_count": 11,
   "id": "64a2ce04",
   "metadata": {},
   "outputs": [],
   "source": [
    "import turicreate as tc\n",
    "import numpy as np\n",
    "import matplotlib.pyplot as plt\n",
    "import utils\n",
    "import seaborn as sns\n",
    "sns.set()"
   ]
  },
  {
   "cell_type": "markdown",
   "id": "49932cc6",
   "metadata": {},
   "source": [
    "SFrame，是一种新形态的dataframe"
   ]
  },
  {
   "cell_type": "code",
   "execution_count": 5,
   "id": "41d19b57",
   "metadata": {
    "scrolled": true
   },
   "outputs": [
    {
     "data": {
      "text/html": [
       "<pre>Finished parsing file /home/jamie/learngit/Machine_learning/grokking_ml_book/Chapter_3_Linear_Regression/Hyderabad.csv</pre>"
      ],
      "text/plain": [
       "Finished parsing file /home/jamie/learngit/Machine_learning/grokking_ml_book/Chapter_3_Linear_Regression/Hyderabad.csv"
      ]
     },
     "metadata": {},
     "output_type": "display_data"
    },
    {
     "data": {
      "text/html": [
       "<pre>Parsing completed. Parsed 100 lines in 0.018215 secs.</pre>"
      ],
      "text/plain": [
       "Parsing completed. Parsed 100 lines in 0.018215 secs."
      ]
     },
     "metadata": {},
     "output_type": "display_data"
    },
    {
     "name": "stdout",
     "output_type": "stream",
     "text": [
      "------------------------------------------------------\n",
      "Inferred types from first 100 line(s) of file as \n",
      "column_type_hints=[int,int,str,int,int,int,int,int,int,int,int,int,int,int,int,int,int,int,int,int,int,int,int,int,int,int,int,int,int,int,int,int,int,int,int,int,int,int,int,int]\n",
      "If parsing fails due to incorrect types, you can correct\n",
      "the inferred type list above and pass it to read_csv in\n",
      "the column_type_hints argument\n",
      "------------------------------------------------------\n"
     ]
    },
    {
     "data": {
      "text/html": [
       "<pre>Finished parsing file /home/jamie/learngit/Machine_learning/grokking_ml_book/Chapter_3_Linear_Regression/Hyderabad.csv</pre>"
      ],
      "text/plain": [
       "Finished parsing file /home/jamie/learngit/Machine_learning/grokking_ml_book/Chapter_3_Linear_Regression/Hyderabad.csv"
      ]
     },
     "metadata": {},
     "output_type": "display_data"
    },
    {
     "data": {
      "text/html": [
       "<pre>Parsing completed. Parsed 2518 lines in 0.01044 secs.</pre>"
      ],
      "text/plain": [
       "Parsing completed. Parsed 2518 lines in 0.01044 secs."
      ]
     },
     "metadata": {},
     "output_type": "display_data"
    },
    {
     "data": {
      "text/html": [
       "<div style=\"max-height:1000px;max-width:1500px;overflow:auto;\"><table frame=\"box\" rules=\"cols\">\n",
       "    <tr>\n",
       "        <th style=\"padding-left: 1em; padding-right: 1em; text-align: center\">Price</th>\n",
       "        <th style=\"padding-left: 1em; padding-right: 1em; text-align: center\">Area</th>\n",
       "        <th style=\"padding-left: 1em; padding-right: 1em; text-align: center\">Location</th>\n",
       "        <th style=\"padding-left: 1em; padding-right: 1em; text-align: center\">No. of Bedrooms</th>\n",
       "        <th style=\"padding-left: 1em; padding-right: 1em; text-align: center\">Resale</th>\n",
       "        <th style=\"padding-left: 1em; padding-right: 1em; text-align: center\">MaintenanceStaff</th>\n",
       "        <th style=\"padding-left: 1em; padding-right: 1em; text-align: center\">Gymnasium</th>\n",
       "        <th style=\"padding-left: 1em; padding-right: 1em; text-align: center\">SwimmingPool</th>\n",
       "        <th style=\"padding-left: 1em; padding-right: 1em; text-align: center\">LandscapedGardens</th>\n",
       "    </tr>\n",
       "    <tr>\n",
       "        <td style=\"padding-left: 1em; padding-right: 1em; text-align: center; vertical-align: top\">6968000</td>\n",
       "        <td style=\"padding-left: 1em; padding-right: 1em; text-align: center; vertical-align: top\">1340</td>\n",
       "        <td style=\"padding-left: 1em; padding-right: 1em; text-align: center; vertical-align: top\">Nizampet</td>\n",
       "        <td style=\"padding-left: 1em; padding-right: 1em; text-align: center; vertical-align: top\">2</td>\n",
       "        <td style=\"padding-left: 1em; padding-right: 1em; text-align: center; vertical-align: top\">0</td>\n",
       "        <td style=\"padding-left: 1em; padding-right: 1em; text-align: center; vertical-align: top\">0</td>\n",
       "        <td style=\"padding-left: 1em; padding-right: 1em; text-align: center; vertical-align: top\">1</td>\n",
       "        <td style=\"padding-left: 1em; padding-right: 1em; text-align: center; vertical-align: top\">1</td>\n",
       "        <td style=\"padding-left: 1em; padding-right: 1em; text-align: center; vertical-align: top\">1</td>\n",
       "    </tr>\n",
       "    <tr>\n",
       "        <td style=\"padding-left: 1em; padding-right: 1em; text-align: center; vertical-align: top\">29000000</td>\n",
       "        <td style=\"padding-left: 1em; padding-right: 1em; text-align: center; vertical-align: top\">3498</td>\n",
       "        <td style=\"padding-left: 1em; padding-right: 1em; text-align: center; vertical-align: top\">Hitech City</td>\n",
       "        <td style=\"padding-left: 1em; padding-right: 1em; text-align: center; vertical-align: top\">4</td>\n",
       "        <td style=\"padding-left: 1em; padding-right: 1em; text-align: center; vertical-align: top\">0</td>\n",
       "        <td style=\"padding-left: 1em; padding-right: 1em; text-align: center; vertical-align: top\">0</td>\n",
       "        <td style=\"padding-left: 1em; padding-right: 1em; text-align: center; vertical-align: top\">1</td>\n",
       "        <td style=\"padding-left: 1em; padding-right: 1em; text-align: center; vertical-align: top\">1</td>\n",
       "        <td style=\"padding-left: 1em; padding-right: 1em; text-align: center; vertical-align: top\">1</td>\n",
       "    </tr>\n",
       "    <tr>\n",
       "        <td style=\"padding-left: 1em; padding-right: 1em; text-align: center; vertical-align: top\">6590000</td>\n",
       "        <td style=\"padding-left: 1em; padding-right: 1em; text-align: center; vertical-align: top\">1318</td>\n",
       "        <td style=\"padding-left: 1em; padding-right: 1em; text-align: center; vertical-align: top\">Manikonda</td>\n",
       "        <td style=\"padding-left: 1em; padding-right: 1em; text-align: center; vertical-align: top\">2</td>\n",
       "        <td style=\"padding-left: 1em; padding-right: 1em; text-align: center; vertical-align: top\">0</td>\n",
       "        <td style=\"padding-left: 1em; padding-right: 1em; text-align: center; vertical-align: top\">0</td>\n",
       "        <td style=\"padding-left: 1em; padding-right: 1em; text-align: center; vertical-align: top\">1</td>\n",
       "        <td style=\"padding-left: 1em; padding-right: 1em; text-align: center; vertical-align: top\">0</td>\n",
       "        <td style=\"padding-left: 1em; padding-right: 1em; text-align: center; vertical-align: top\">0</td>\n",
       "    </tr>\n",
       "    <tr>\n",
       "        <td style=\"padding-left: 1em; padding-right: 1em; text-align: center; vertical-align: top\">5739000</td>\n",
       "        <td style=\"padding-left: 1em; padding-right: 1em; text-align: center; vertical-align: top\">1295</td>\n",
       "        <td style=\"padding-left: 1em; padding-right: 1em; text-align: center; vertical-align: top\">Alwal</td>\n",
       "        <td style=\"padding-left: 1em; padding-right: 1em; text-align: center; vertical-align: top\">3</td>\n",
       "        <td style=\"padding-left: 1em; padding-right: 1em; text-align: center; vertical-align: top\">1</td>\n",
       "        <td style=\"padding-left: 1em; padding-right: 1em; text-align: center; vertical-align: top\">0</td>\n",
       "        <td style=\"padding-left: 1em; padding-right: 1em; text-align: center; vertical-align: top\">0</td>\n",
       "        <td style=\"padding-left: 1em; padding-right: 1em; text-align: center; vertical-align: top\">0</td>\n",
       "        <td style=\"padding-left: 1em; padding-right: 1em; text-align: center; vertical-align: top\">0</td>\n",
       "    </tr>\n",
       "    <tr>\n",
       "        <td style=\"padding-left: 1em; padding-right: 1em; text-align: center; vertical-align: top\">5679000</td>\n",
       "        <td style=\"padding-left: 1em; padding-right: 1em; text-align: center; vertical-align: top\">1145</td>\n",
       "        <td style=\"padding-left: 1em; padding-right: 1em; text-align: center; vertical-align: top\">Kukatpally</td>\n",
       "        <td style=\"padding-left: 1em; padding-right: 1em; text-align: center; vertical-align: top\">2</td>\n",
       "        <td style=\"padding-left: 1em; padding-right: 1em; text-align: center; vertical-align: top\">0</td>\n",
       "        <td style=\"padding-left: 1em; padding-right: 1em; text-align: center; vertical-align: top\">0</td>\n",
       "        <td style=\"padding-left: 1em; padding-right: 1em; text-align: center; vertical-align: top\">0</td>\n",
       "        <td style=\"padding-left: 1em; padding-right: 1em; text-align: center; vertical-align: top\">0</td>\n",
       "        <td style=\"padding-left: 1em; padding-right: 1em; text-align: center; vertical-align: top\">1</td>\n",
       "    </tr>\n",
       "    <tr>\n",
       "        <td style=\"padding-left: 1em; padding-right: 1em; text-align: center; vertical-align: top\">6099000</td>\n",
       "        <td style=\"padding-left: 1em; padding-right: 1em; text-align: center; vertical-align: top\">1230</td>\n",
       "        <td style=\"padding-left: 1em; padding-right: 1em; text-align: center; vertical-align: top\">Nizampet</td>\n",
       "        <td style=\"padding-left: 1em; padding-right: 1em; text-align: center; vertical-align: top\">2</td>\n",
       "        <td style=\"padding-left: 1em; padding-right: 1em; text-align: center; vertical-align: top\">0</td>\n",
       "        <td style=\"padding-left: 1em; padding-right: 1em; text-align: center; vertical-align: top\">0</td>\n",
       "        <td style=\"padding-left: 1em; padding-right: 1em; text-align: center; vertical-align: top\">0</td>\n",
       "        <td style=\"padding-left: 1em; padding-right: 1em; text-align: center; vertical-align: top\">0</td>\n",
       "        <td style=\"padding-left: 1em; padding-right: 1em; text-align: center; vertical-align: top\">0</td>\n",
       "    </tr>\n",
       "    <tr>\n",
       "        <td style=\"padding-left: 1em; padding-right: 1em; text-align: center; vertical-align: top\">7000000</td>\n",
       "        <td style=\"padding-left: 1em; padding-right: 1em; text-align: center; vertical-align: top\">1350</td>\n",
       "        <td style=\"padding-left: 1em; padding-right: 1em; text-align: center; vertical-align: top\">Manikonda</td>\n",
       "        <td style=\"padding-left: 1em; padding-right: 1em; text-align: center; vertical-align: top\">2</td>\n",
       "        <td style=\"padding-left: 1em; padding-right: 1em; text-align: center; vertical-align: top\">0</td>\n",
       "        <td style=\"padding-left: 1em; padding-right: 1em; text-align: center; vertical-align: top\">0</td>\n",
       "        <td style=\"padding-left: 1em; padding-right: 1em; text-align: center; vertical-align: top\">0</td>\n",
       "        <td style=\"padding-left: 1em; padding-right: 1em; text-align: center; vertical-align: top\">0</td>\n",
       "        <td style=\"padding-left: 1em; padding-right: 1em; text-align: center; vertical-align: top\">0</td>\n",
       "    </tr>\n",
       "    <tr>\n",
       "        <td style=\"padding-left: 1em; padding-right: 1em; text-align: center; vertical-align: top\">4198000</td>\n",
       "        <td style=\"padding-left: 1em; padding-right: 1em; text-align: center; vertical-align: top\">1400</td>\n",
       "        <td style=\"padding-left: 1em; padding-right: 1em; text-align: center; vertical-align: top\">Gachibowli</td>\n",
       "        <td style=\"padding-left: 1em; padding-right: 1em; text-align: center; vertical-align: top\">3</td>\n",
       "        <td style=\"padding-left: 1em; padding-right: 1em; text-align: center; vertical-align: top\">0</td>\n",
       "        <td style=\"padding-left: 1em; padding-right: 1em; text-align: center; vertical-align: top\">0</td>\n",
       "        <td style=\"padding-left: 1em; padding-right: 1em; text-align: center; vertical-align: top\">1</td>\n",
       "        <td style=\"padding-left: 1em; padding-right: 1em; text-align: center; vertical-align: top\">1</td>\n",
       "        <td style=\"padding-left: 1em; padding-right: 1em; text-align: center; vertical-align: top\">0</td>\n",
       "    </tr>\n",
       "    <tr>\n",
       "        <td style=\"padding-left: 1em; padding-right: 1em; text-align: center; vertical-align: top\">9900000</td>\n",
       "        <td style=\"padding-left: 1em; padding-right: 1em; text-align: center; vertical-align: top\">2240</td>\n",
       "        <td style=\"padding-left: 1em; padding-right: 1em; text-align: center; vertical-align: top\">Tellapur</td>\n",
       "        <td style=\"padding-left: 1em; padding-right: 1em; text-align: center; vertical-align: top\">3</td>\n",
       "        <td style=\"padding-left: 1em; padding-right: 1em; text-align: center; vertical-align: top\">0</td>\n",
       "        <td style=\"padding-left: 1em; padding-right: 1em; text-align: center; vertical-align: top\">0</td>\n",
       "        <td style=\"padding-left: 1em; padding-right: 1em; text-align: center; vertical-align: top\">1</td>\n",
       "        <td style=\"padding-left: 1em; padding-right: 1em; text-align: center; vertical-align: top\">1</td>\n",
       "        <td style=\"padding-left: 1em; padding-right: 1em; text-align: center; vertical-align: top\">0</td>\n",
       "    </tr>\n",
       "    <tr>\n",
       "        <td style=\"padding-left: 1em; padding-right: 1em; text-align: center; vertical-align: top\">9800000</td>\n",
       "        <td style=\"padding-left: 1em; padding-right: 1em; text-align: center; vertical-align: top\">1520</td>\n",
       "        <td style=\"padding-left: 1em; padding-right: 1em; text-align: center; vertical-align: top\">Gachibowli</td>\n",
       "        <td style=\"padding-left: 1em; padding-right: 1em; text-align: center; vertical-align: top\">2</td>\n",
       "        <td style=\"padding-left: 1em; padding-right: 1em; text-align: center; vertical-align: top\">1</td>\n",
       "        <td style=\"padding-left: 1em; padding-right: 1em; text-align: center; vertical-align: top\">0</td>\n",
       "        <td style=\"padding-left: 1em; padding-right: 1em; text-align: center; vertical-align: top\">0</td>\n",
       "        <td style=\"padding-left: 1em; padding-right: 1em; text-align: center; vertical-align: top\">0</td>\n",
       "        <td style=\"padding-left: 1em; padding-right: 1em; text-align: center; vertical-align: top\">0</td>\n",
       "    </tr>\n",
       "</table>\n",
       "<table frame=\"box\" rules=\"cols\">\n",
       "    <tr>\n",
       "        <th style=\"padding-left: 1em; padding-right: 1em; text-align: center\">JoggingTrack</th>\n",
       "        <th style=\"padding-left: 1em; padding-right: 1em; text-align: center\">RainWaterHarvesting</th>\n",
       "        <th style=\"padding-left: 1em; padding-right: 1em; text-align: center\">IndoorGames</th>\n",
       "        <th style=\"padding-left: 1em; padding-right: 1em; text-align: center\">ShoppingMall</th>\n",
       "        <th style=\"padding-left: 1em; padding-right: 1em; text-align: center\">Intercom</th>\n",
       "        <th style=\"padding-left: 1em; padding-right: 1em; text-align: center\">SportsFacility</th>\n",
       "        <th style=\"padding-left: 1em; padding-right: 1em; text-align: center\">ATM</th>\n",
       "        <th style=\"padding-left: 1em; padding-right: 1em; text-align: center\">ClubHouse</th>\n",
       "        <th style=\"padding-left: 1em; padding-right: 1em; text-align: center\">School</th>\n",
       "    </tr>\n",
       "    <tr>\n",
       "        <td style=\"padding-left: 1em; padding-right: 1em; text-align: center; vertical-align: top\">1</td>\n",
       "        <td style=\"padding-left: 1em; padding-right: 1em; text-align: center; vertical-align: top\">1</td>\n",
       "        <td style=\"padding-left: 1em; padding-right: 1em; text-align: center; vertical-align: top\">1</td>\n",
       "        <td style=\"padding-left: 1em; padding-right: 1em; text-align: center; vertical-align: top\">0</td>\n",
       "        <td style=\"padding-left: 1em; padding-right: 1em; text-align: center; vertical-align: top\">1</td>\n",
       "        <td style=\"padding-left: 1em; padding-right: 1em; text-align: center; vertical-align: top\">0</td>\n",
       "        <td style=\"padding-left: 1em; padding-right: 1em; text-align: center; vertical-align: top\">0</td>\n",
       "        <td style=\"padding-left: 1em; padding-right: 1em; text-align: center; vertical-align: top\">1</td>\n",
       "        <td style=\"padding-left: 1em; padding-right: 1em; text-align: center; vertical-align: top\">0</td>\n",
       "    </tr>\n",
       "    <tr>\n",
       "        <td style=\"padding-left: 1em; padding-right: 1em; text-align: center; vertical-align: top\">1</td>\n",
       "        <td style=\"padding-left: 1em; padding-right: 1em; text-align: center; vertical-align: top\">1</td>\n",
       "        <td style=\"padding-left: 1em; padding-right: 1em; text-align: center; vertical-align: top\">1</td>\n",
       "        <td style=\"padding-left: 1em; padding-right: 1em; text-align: center; vertical-align: top\">0</td>\n",
       "        <td style=\"padding-left: 1em; padding-right: 1em; text-align: center; vertical-align: top\">1</td>\n",
       "        <td style=\"padding-left: 1em; padding-right: 1em; text-align: center; vertical-align: top\">0</td>\n",
       "        <td style=\"padding-left: 1em; padding-right: 1em; text-align: center; vertical-align: top\">1</td>\n",
       "        <td style=\"padding-left: 1em; padding-right: 1em; text-align: center; vertical-align: top\">1</td>\n",
       "        <td style=\"padding-left: 1em; padding-right: 1em; text-align: center; vertical-align: top\">0</td>\n",
       "    </tr>\n",
       "    <tr>\n",
       "        <td style=\"padding-left: 1em; padding-right: 1em; text-align: center; vertical-align: top\">0</td>\n",
       "        <td style=\"padding-left: 1em; padding-right: 1em; text-align: center; vertical-align: top\">0</td>\n",
       "        <td style=\"padding-left: 1em; padding-right: 1em; text-align: center; vertical-align: top\">1</td>\n",
       "        <td style=\"padding-left: 1em; padding-right: 1em; text-align: center; vertical-align: top\">0</td>\n",
       "        <td style=\"padding-left: 1em; padding-right: 1em; text-align: center; vertical-align: top\">0</td>\n",
       "        <td style=\"padding-left: 1em; padding-right: 1em; text-align: center; vertical-align: top\">0</td>\n",
       "        <td style=\"padding-left: 1em; padding-right: 1em; text-align: center; vertical-align: top\">0</td>\n",
       "        <td style=\"padding-left: 1em; padding-right: 1em; text-align: center; vertical-align: top\">0</td>\n",
       "        <td style=\"padding-left: 1em; padding-right: 1em; text-align: center; vertical-align: top\">0</td>\n",
       "    </tr>\n",
       "    <tr>\n",
       "        <td style=\"padding-left: 1em; padding-right: 1em; text-align: center; vertical-align: top\">0</td>\n",
       "        <td style=\"padding-left: 1em; padding-right: 1em; text-align: center; vertical-align: top\">0</td>\n",
       "        <td style=\"padding-left: 1em; padding-right: 1em; text-align: center; vertical-align: top\">0</td>\n",
       "        <td style=\"padding-left: 1em; padding-right: 1em; text-align: center; vertical-align: top\">0</td>\n",
       "        <td style=\"padding-left: 1em; padding-right: 1em; text-align: center; vertical-align: top\">0</td>\n",
       "        <td style=\"padding-left: 1em; padding-right: 1em; text-align: center; vertical-align: top\">0</td>\n",
       "        <td style=\"padding-left: 1em; padding-right: 1em; text-align: center; vertical-align: top\">0</td>\n",
       "        <td style=\"padding-left: 1em; padding-right: 1em; text-align: center; vertical-align: top\">0</td>\n",
       "        <td style=\"padding-left: 1em; padding-right: 1em; text-align: center; vertical-align: top\">0</td>\n",
       "    </tr>\n",
       "    <tr>\n",
       "        <td style=\"padding-left: 1em; padding-right: 1em; text-align: center; vertical-align: top\">0</td>\n",
       "        <td style=\"padding-left: 1em; padding-right: 1em; text-align: center; vertical-align: top\">0</td>\n",
       "        <td style=\"padding-left: 1em; padding-right: 1em; text-align: center; vertical-align: top\">0</td>\n",
       "        <td style=\"padding-left: 1em; padding-right: 1em; text-align: center; vertical-align: top\">0</td>\n",
       "        <td style=\"padding-left: 1em; padding-right: 1em; text-align: center; vertical-align: top\">0</td>\n",
       "        <td style=\"padding-left: 1em; padding-right: 1em; text-align: center; vertical-align: top\">0</td>\n",
       "        <td style=\"padding-left: 1em; padding-right: 1em; text-align: center; vertical-align: top\">0</td>\n",
       "        <td style=\"padding-left: 1em; padding-right: 1em; text-align: center; vertical-align: top\">0</td>\n",
       "        <td style=\"padding-left: 1em; padding-right: 1em; text-align: center; vertical-align: top\">0</td>\n",
       "    </tr>\n",
       "    <tr>\n",
       "        <td style=\"padding-left: 1em; padding-right: 1em; text-align: center; vertical-align: top\">0</td>\n",
       "        <td style=\"padding-left: 1em; padding-right: 1em; text-align: center; vertical-align: top\">0</td>\n",
       "        <td style=\"padding-left: 1em; padding-right: 1em; text-align: center; vertical-align: top\">0</td>\n",
       "        <td style=\"padding-left: 1em; padding-right: 1em; text-align: center; vertical-align: top\">0</td>\n",
       "        <td style=\"padding-left: 1em; padding-right: 1em; text-align: center; vertical-align: top\">0</td>\n",
       "        <td style=\"padding-left: 1em; padding-right: 1em; text-align: center; vertical-align: top\">0</td>\n",
       "        <td style=\"padding-left: 1em; padding-right: 1em; text-align: center; vertical-align: top\">0</td>\n",
       "        <td style=\"padding-left: 1em; padding-right: 1em; text-align: center; vertical-align: top\">0</td>\n",
       "        <td style=\"padding-left: 1em; padding-right: 1em; text-align: center; vertical-align: top\">0</td>\n",
       "    </tr>\n",
       "    <tr>\n",
       "        <td style=\"padding-left: 1em; padding-right: 1em; text-align: center; vertical-align: top\">0</td>\n",
       "        <td style=\"padding-left: 1em; padding-right: 1em; text-align: center; vertical-align: top\">0</td>\n",
       "        <td style=\"padding-left: 1em; padding-right: 1em; text-align: center; vertical-align: top\">0</td>\n",
       "        <td style=\"padding-left: 1em; padding-right: 1em; text-align: center; vertical-align: top\">0</td>\n",
       "        <td style=\"padding-left: 1em; padding-right: 1em; text-align: center; vertical-align: top\">0</td>\n",
       "        <td style=\"padding-left: 1em; padding-right: 1em; text-align: center; vertical-align: top\">0</td>\n",
       "        <td style=\"padding-left: 1em; padding-right: 1em; text-align: center; vertical-align: top\">0</td>\n",
       "        <td style=\"padding-left: 1em; padding-right: 1em; text-align: center; vertical-align: top\">0</td>\n",
       "        <td style=\"padding-left: 1em; padding-right: 1em; text-align: center; vertical-align: top\">0</td>\n",
       "    </tr>\n",
       "    <tr>\n",
       "        <td style=\"padding-left: 1em; padding-right: 1em; text-align: center; vertical-align: top\">0</td>\n",
       "        <td style=\"padding-left: 1em; padding-right: 1em; text-align: center; vertical-align: top\">0</td>\n",
       "        <td style=\"padding-left: 1em; padding-right: 1em; text-align: center; vertical-align: top\">0</td>\n",
       "        <td style=\"padding-left: 1em; padding-right: 1em; text-align: center; vertical-align: top\">0</td>\n",
       "        <td style=\"padding-left: 1em; padding-right: 1em; text-align: center; vertical-align: top\">1</td>\n",
       "        <td style=\"padding-left: 1em; padding-right: 1em; text-align: center; vertical-align: top\">1</td>\n",
       "        <td style=\"padding-left: 1em; padding-right: 1em; text-align: center; vertical-align: top\">0</td>\n",
       "        <td style=\"padding-left: 1em; padding-right: 1em; text-align: center; vertical-align: top\">1</td>\n",
       "        <td style=\"padding-left: 1em; padding-right: 1em; text-align: center; vertical-align: top\">0</td>\n",
       "    </tr>\n",
       "    <tr>\n",
       "        <td style=\"padding-left: 1em; padding-right: 1em; text-align: center; vertical-align: top\">0</td>\n",
       "        <td style=\"padding-left: 1em; padding-right: 1em; text-align: center; vertical-align: top\">0</td>\n",
       "        <td style=\"padding-left: 1em; padding-right: 1em; text-align: center; vertical-align: top\">1</td>\n",
       "        <td style=\"padding-left: 1em; padding-right: 1em; text-align: center; vertical-align: top\">0</td>\n",
       "        <td style=\"padding-left: 1em; padding-right: 1em; text-align: center; vertical-align: top\">0</td>\n",
       "        <td style=\"padding-left: 1em; padding-right: 1em; text-align: center; vertical-align: top\">0</td>\n",
       "        <td style=\"padding-left: 1em; padding-right: 1em; text-align: center; vertical-align: top\">0</td>\n",
       "        <td style=\"padding-left: 1em; padding-right: 1em; text-align: center; vertical-align: top\">1</td>\n",
       "        <td style=\"padding-left: 1em; padding-right: 1em; text-align: center; vertical-align: top\">0</td>\n",
       "    </tr>\n",
       "    <tr>\n",
       "        <td style=\"padding-left: 1em; padding-right: 1em; text-align: center; vertical-align: top\">0</td>\n",
       "        <td style=\"padding-left: 1em; padding-right: 1em; text-align: center; vertical-align: top\">0</td>\n",
       "        <td style=\"padding-left: 1em; padding-right: 1em; text-align: center; vertical-align: top\">0</td>\n",
       "        <td style=\"padding-left: 1em; padding-right: 1em; text-align: center; vertical-align: top\">0</td>\n",
       "        <td style=\"padding-left: 1em; padding-right: 1em; text-align: center; vertical-align: top\">0</td>\n",
       "        <td style=\"padding-left: 1em; padding-right: 1em; text-align: center; vertical-align: top\">0</td>\n",
       "        <td style=\"padding-left: 1em; padding-right: 1em; text-align: center; vertical-align: top\">0</td>\n",
       "        <td style=\"padding-left: 1em; padding-right: 1em; text-align: center; vertical-align: top\">0</td>\n",
       "        <td style=\"padding-left: 1em; padding-right: 1em; text-align: center; vertical-align: top\">0</td>\n",
       "    </tr>\n",
       "</table>\n",
       "<table frame=\"box\" rules=\"cols\">\n",
       "    <tr>\n",
       "        <th style=\"padding-left: 1em; padding-right: 1em; text-align: center\">24X7Security</th>\n",
       "        <th style=\"padding-left: 1em; padding-right: 1em; text-align: center\">PowerBackup</th>\n",
       "        <th style=\"padding-left: 1em; padding-right: 1em; text-align: center\">CarParking</th>\n",
       "        <th style=\"padding-left: 1em; padding-right: 1em; text-align: center\">StaffQuarter</th>\n",
       "        <th style=\"padding-left: 1em; padding-right: 1em; text-align: center\">Cafeteria</th>\n",
       "        <th style=\"padding-left: 1em; padding-right: 1em; text-align: center\">MultipurposeRoom</th>\n",
       "        <th style=\"padding-left: 1em; padding-right: 1em; text-align: center\">Hospital</th>\n",
       "        <th style=\"padding-left: 1em; padding-right: 1em; text-align: center\">WashingMachine</th>\n",
       "        <th style=\"padding-left: 1em; padding-right: 1em; text-align: center\">Gasconnection</th>\n",
       "    </tr>\n",
       "    <tr>\n",
       "        <td style=\"padding-left: 1em; padding-right: 1em; text-align: center; vertical-align: top\">1</td>\n",
       "        <td style=\"padding-left: 1em; padding-right: 1em; text-align: center; vertical-align: top\">1</td>\n",
       "        <td style=\"padding-left: 1em; padding-right: 1em; text-align: center; vertical-align: top\">1</td>\n",
       "        <td style=\"padding-left: 1em; padding-right: 1em; text-align: center; vertical-align: top\">0</td>\n",
       "        <td style=\"padding-left: 1em; padding-right: 1em; text-align: center; vertical-align: top\">0</td>\n",
       "        <td style=\"padding-left: 1em; padding-right: 1em; text-align: center; vertical-align: top\">1</td>\n",
       "        <td style=\"padding-left: 1em; padding-right: 1em; text-align: center; vertical-align: top\">0</td>\n",
       "        <td style=\"padding-left: 1em; padding-right: 1em; text-align: center; vertical-align: top\">0</td>\n",
       "        <td style=\"padding-left: 1em; padding-right: 1em; text-align: center; vertical-align: top\">0</td>\n",
       "    </tr>\n",
       "    <tr>\n",
       "        <td style=\"padding-left: 1em; padding-right: 1em; text-align: center; vertical-align: top\">1</td>\n",
       "        <td style=\"padding-left: 1em; padding-right: 1em; text-align: center; vertical-align: top\">1</td>\n",
       "        <td style=\"padding-left: 1em; padding-right: 1em; text-align: center; vertical-align: top\">1</td>\n",
       "        <td style=\"padding-left: 1em; padding-right: 1em; text-align: center; vertical-align: top\">1</td>\n",
       "        <td style=\"padding-left: 1em; padding-right: 1em; text-align: center; vertical-align: top\">0</td>\n",
       "        <td style=\"padding-left: 1em; padding-right: 1em; text-align: center; vertical-align: top\">1</td>\n",
       "        <td style=\"padding-left: 1em; padding-right: 1em; text-align: center; vertical-align: top\">0</td>\n",
       "        <td style=\"padding-left: 1em; padding-right: 1em; text-align: center; vertical-align: top\">0</td>\n",
       "        <td style=\"padding-left: 1em; padding-right: 1em; text-align: center; vertical-align: top\">0</td>\n",
       "    </tr>\n",
       "    <tr>\n",
       "        <td style=\"padding-left: 1em; padding-right: 1em; text-align: center; vertical-align: top\">0</td>\n",
       "        <td style=\"padding-left: 1em; padding-right: 1em; text-align: center; vertical-align: top\">0</td>\n",
       "        <td style=\"padding-left: 1em; padding-right: 1em; text-align: center; vertical-align: top\">0</td>\n",
       "        <td style=\"padding-left: 1em; padding-right: 1em; text-align: center; vertical-align: top\">0</td>\n",
       "        <td style=\"padding-left: 1em; padding-right: 1em; text-align: center; vertical-align: top\">0</td>\n",
       "        <td style=\"padding-left: 1em; padding-right: 1em; text-align: center; vertical-align: top\">1</td>\n",
       "        <td style=\"padding-left: 1em; padding-right: 1em; text-align: center; vertical-align: top\">0</td>\n",
       "        <td style=\"padding-left: 1em; padding-right: 1em; text-align: center; vertical-align: top\">0</td>\n",
       "        <td style=\"padding-left: 1em; padding-right: 1em; text-align: center; vertical-align: top\">0</td>\n",
       "    </tr>\n",
       "    <tr>\n",
       "        <td style=\"padding-left: 1em; padding-right: 1em; text-align: center; vertical-align: top\">0</td>\n",
       "        <td style=\"padding-left: 1em; padding-right: 1em; text-align: center; vertical-align: top\">1</td>\n",
       "        <td style=\"padding-left: 1em; padding-right: 1em; text-align: center; vertical-align: top\">0</td>\n",
       "        <td style=\"padding-left: 1em; padding-right: 1em; text-align: center; vertical-align: top\">0</td>\n",
       "        <td style=\"padding-left: 1em; padding-right: 1em; text-align: center; vertical-align: top\">0</td>\n",
       "        <td style=\"padding-left: 1em; padding-right: 1em; text-align: center; vertical-align: top\">0</td>\n",
       "        <td style=\"padding-left: 1em; padding-right: 1em; text-align: center; vertical-align: top\">0</td>\n",
       "        <td style=\"padding-left: 1em; padding-right: 1em; text-align: center; vertical-align: top\">0</td>\n",
       "        <td style=\"padding-left: 1em; padding-right: 1em; text-align: center; vertical-align: top\">0</td>\n",
       "    </tr>\n",
       "    <tr>\n",
       "        <td style=\"padding-left: 1em; padding-right: 1em; text-align: center; vertical-align: top\">0</td>\n",
       "        <td style=\"padding-left: 1em; padding-right: 1em; text-align: center; vertical-align: top\">1</td>\n",
       "        <td style=\"padding-left: 1em; padding-right: 1em; text-align: center; vertical-align: top\">1</td>\n",
       "        <td style=\"padding-left: 1em; padding-right: 1em; text-align: center; vertical-align: top\">0</td>\n",
       "        <td style=\"padding-left: 1em; padding-right: 1em; text-align: center; vertical-align: top\">0</td>\n",
       "        <td style=\"padding-left: 1em; padding-right: 1em; text-align: center; vertical-align: top\">0</td>\n",
       "        <td style=\"padding-left: 1em; padding-right: 1em; text-align: center; vertical-align: top\">0</td>\n",
       "        <td style=\"padding-left: 1em; padding-right: 1em; text-align: center; vertical-align: top\">0</td>\n",
       "        <td style=\"padding-left: 1em; padding-right: 1em; text-align: center; vertical-align: top\">0</td>\n",
       "    </tr>\n",
       "    <tr>\n",
       "        <td style=\"padding-left: 1em; padding-right: 1em; text-align: center; vertical-align: top\">0</td>\n",
       "        <td style=\"padding-left: 1em; padding-right: 1em; text-align: center; vertical-align: top\">1</td>\n",
       "        <td style=\"padding-left: 1em; padding-right: 1em; text-align: center; vertical-align: top\">0</td>\n",
       "        <td style=\"padding-left: 1em; padding-right: 1em; text-align: center; vertical-align: top\">0</td>\n",
       "        <td style=\"padding-left: 1em; padding-right: 1em; text-align: center; vertical-align: top\">0</td>\n",
       "        <td style=\"padding-left: 1em; padding-right: 1em; text-align: center; vertical-align: top\">0</td>\n",
       "        <td style=\"padding-left: 1em; padding-right: 1em; text-align: center; vertical-align: top\">0</td>\n",
       "        <td style=\"padding-left: 1em; padding-right: 1em; text-align: center; vertical-align: top\">0</td>\n",
       "        <td style=\"padding-left: 1em; padding-right: 1em; text-align: center; vertical-align: top\">0</td>\n",
       "    </tr>\n",
       "    <tr>\n",
       "        <td style=\"padding-left: 1em; padding-right: 1em; text-align: center; vertical-align: top\">0</td>\n",
       "        <td style=\"padding-left: 1em; padding-right: 1em; text-align: center; vertical-align: top\">0</td>\n",
       "        <td style=\"padding-left: 1em; padding-right: 1em; text-align: center; vertical-align: top\">0</td>\n",
       "        <td style=\"padding-left: 1em; padding-right: 1em; text-align: center; vertical-align: top\">0</td>\n",
       "        <td style=\"padding-left: 1em; padding-right: 1em; text-align: center; vertical-align: top\">0</td>\n",
       "        <td style=\"padding-left: 1em; padding-right: 1em; text-align: center; vertical-align: top\">0</td>\n",
       "        <td style=\"padding-left: 1em; padding-right: 1em; text-align: center; vertical-align: top\">0</td>\n",
       "        <td style=\"padding-left: 1em; padding-right: 1em; text-align: center; vertical-align: top\">0</td>\n",
       "        <td style=\"padding-left: 1em; padding-right: 1em; text-align: center; vertical-align: top\">0</td>\n",
       "    </tr>\n",
       "    <tr>\n",
       "        <td style=\"padding-left: 1em; padding-right: 1em; text-align: center; vertical-align: top\">0</td>\n",
       "        <td style=\"padding-left: 1em; padding-right: 1em; text-align: center; vertical-align: top\">1</td>\n",
       "        <td style=\"padding-left: 1em; padding-right: 1em; text-align: center; vertical-align: top\">0</td>\n",
       "        <td style=\"padding-left: 1em; padding-right: 1em; text-align: center; vertical-align: top\">0</td>\n",
       "        <td style=\"padding-left: 1em; padding-right: 1em; text-align: center; vertical-align: top\">0</td>\n",
       "        <td style=\"padding-left: 1em; padding-right: 1em; text-align: center; vertical-align: top\">0</td>\n",
       "        <td style=\"padding-left: 1em; padding-right: 1em; text-align: center; vertical-align: top\">0</td>\n",
       "        <td style=\"padding-left: 1em; padding-right: 1em; text-align: center; vertical-align: top\">0</td>\n",
       "        <td style=\"padding-left: 1em; padding-right: 1em; text-align: center; vertical-align: top\">1</td>\n",
       "    </tr>\n",
       "    <tr>\n",
       "        <td style=\"padding-left: 1em; padding-right: 1em; text-align: center; vertical-align: top\">1</td>\n",
       "        <td style=\"padding-left: 1em; padding-right: 1em; text-align: center; vertical-align: top\">1</td>\n",
       "        <td style=\"padding-left: 1em; padding-right: 1em; text-align: center; vertical-align: top\">0</td>\n",
       "        <td style=\"padding-left: 1em; padding-right: 1em; text-align: center; vertical-align: top\">0</td>\n",
       "        <td style=\"padding-left: 1em; padding-right: 1em; text-align: center; vertical-align: top\">1</td>\n",
       "        <td style=\"padding-left: 1em; padding-right: 1em; text-align: center; vertical-align: top\">0</td>\n",
       "        <td style=\"padding-left: 1em; padding-right: 1em; text-align: center; vertical-align: top\">0</td>\n",
       "        <td style=\"padding-left: 1em; padding-right: 1em; text-align: center; vertical-align: top\">0</td>\n",
       "        <td style=\"padding-left: 1em; padding-right: 1em; text-align: center; vertical-align: top\">0</td>\n",
       "    </tr>\n",
       "    <tr>\n",
       "        <td style=\"padding-left: 1em; padding-right: 1em; text-align: center; vertical-align: top\">0</td>\n",
       "        <td style=\"padding-left: 1em; padding-right: 1em; text-align: center; vertical-align: top\">1</td>\n",
       "        <td style=\"padding-left: 1em; padding-right: 1em; text-align: center; vertical-align: top\">0</td>\n",
       "        <td style=\"padding-left: 1em; padding-right: 1em; text-align: center; vertical-align: top\">0</td>\n",
       "        <td style=\"padding-left: 1em; padding-right: 1em; text-align: center; vertical-align: top\">0</td>\n",
       "        <td style=\"padding-left: 1em; padding-right: 1em; text-align: center; vertical-align: top\">0</td>\n",
       "        <td style=\"padding-left: 1em; padding-right: 1em; text-align: center; vertical-align: top\">0</td>\n",
       "        <td style=\"padding-left: 1em; padding-right: 1em; text-align: center; vertical-align: top\">0</td>\n",
       "        <td style=\"padding-left: 1em; padding-right: 1em; text-align: center; vertical-align: top\">0</td>\n",
       "    </tr>\n",
       "</table>\n",
       "<table frame=\"box\" rules=\"cols\">\n",
       "    <tr>\n",
       "        <th style=\"padding-left: 1em; padding-right: 1em; text-align: center\">AC</th>\n",
       "        <th style=\"padding-left: 1em; padding-right: 1em; text-align: center\">Wifi</th>\n",
       "        <th style=\"padding-left: 1em; padding-right: 1em; text-align: center\">Children&#x27;splayarea</th>\n",
       "        <th style=\"padding-left: 1em; padding-right: 1em; text-align: center\">LiftAvailable</th>\n",
       "        <th style=\"padding-left: 1em; padding-right: 1em; text-align: center\">BED</th>\n",
       "        <th style=\"padding-left: 1em; padding-right: 1em; text-align: center\">VaastuCompliant</th>\n",
       "        <th style=\"padding-left: 1em; padding-right: 1em; text-align: center\">Microwave</th>\n",
       "        <th style=\"padding-left: 1em; padding-right: 1em; text-align: center\">GolfCourse</th>\n",
       "        <th style=\"padding-left: 1em; padding-right: 1em; text-align: center\">TV</th>\n",
       "        <th style=\"padding-left: 1em; padding-right: 1em; text-align: center\">DiningTable</th>\n",
       "        <th style=\"padding-left: 1em; padding-right: 1em; text-align: center\">Sofa</th>\n",
       "    </tr>\n",
       "    <tr>\n",
       "        <td style=\"padding-left: 1em; padding-right: 1em; text-align: center; vertical-align: top\">0</td>\n",
       "        <td style=\"padding-left: 1em; padding-right: 1em; text-align: center; vertical-align: top\">0</td>\n",
       "        <td style=\"padding-left: 1em; padding-right: 1em; text-align: center; vertical-align: top\">1</td>\n",
       "        <td style=\"padding-left: 1em; padding-right: 1em; text-align: center; vertical-align: top\">1</td>\n",
       "        <td style=\"padding-left: 1em; padding-right: 1em; text-align: center; vertical-align: top\">0</td>\n",
       "        <td style=\"padding-left: 1em; padding-right: 1em; text-align: center; vertical-align: top\">1</td>\n",
       "        <td style=\"padding-left: 1em; padding-right: 1em; text-align: center; vertical-align: top\">0</td>\n",
       "        <td style=\"padding-left: 1em; padding-right: 1em; text-align: center; vertical-align: top\">0</td>\n",
       "        <td style=\"padding-left: 1em; padding-right: 1em; text-align: center; vertical-align: top\">0</td>\n",
       "        <td style=\"padding-left: 1em; padding-right: 1em; text-align: center; vertical-align: top\">0</td>\n",
       "        <td style=\"padding-left: 1em; padding-right: 1em; text-align: center; vertical-align: top\">0</td>\n",
       "    </tr>\n",
       "    <tr>\n",
       "        <td style=\"padding-left: 1em; padding-right: 1em; text-align: center; vertical-align: top\">0</td>\n",
       "        <td style=\"padding-left: 1em; padding-right: 1em; text-align: center; vertical-align: top\">0</td>\n",
       "        <td style=\"padding-left: 1em; padding-right: 1em; text-align: center; vertical-align: top\">1</td>\n",
       "        <td style=\"padding-left: 1em; padding-right: 1em; text-align: center; vertical-align: top\">1</td>\n",
       "        <td style=\"padding-left: 1em; padding-right: 1em; text-align: center; vertical-align: top\">0</td>\n",
       "        <td style=\"padding-left: 1em; padding-right: 1em; text-align: center; vertical-align: top\">1</td>\n",
       "        <td style=\"padding-left: 1em; padding-right: 1em; text-align: center; vertical-align: top\">0</td>\n",
       "        <td style=\"padding-left: 1em; padding-right: 1em; text-align: center; vertical-align: top\">0</td>\n",
       "        <td style=\"padding-left: 1em; padding-right: 1em; text-align: center; vertical-align: top\">0</td>\n",
       "        <td style=\"padding-left: 1em; padding-right: 1em; text-align: center; vertical-align: top\">0</td>\n",
       "        <td style=\"padding-left: 1em; padding-right: 1em; text-align: center; vertical-align: top\">0</td>\n",
       "    </tr>\n",
       "    <tr>\n",
       "        <td style=\"padding-left: 1em; padding-right: 1em; text-align: center; vertical-align: top\">0</td>\n",
       "        <td style=\"padding-left: 1em; padding-right: 1em; text-align: center; vertical-align: top\">0</td>\n",
       "        <td style=\"padding-left: 1em; padding-right: 1em; text-align: center; vertical-align: top\">1</td>\n",
       "        <td style=\"padding-left: 1em; padding-right: 1em; text-align: center; vertical-align: top\">0</td>\n",
       "        <td style=\"padding-left: 1em; padding-right: 1em; text-align: center; vertical-align: top\">0</td>\n",
       "        <td style=\"padding-left: 1em; padding-right: 1em; text-align: center; vertical-align: top\">0</td>\n",
       "        <td style=\"padding-left: 1em; padding-right: 1em; text-align: center; vertical-align: top\">0</td>\n",
       "        <td style=\"padding-left: 1em; padding-right: 1em; text-align: center; vertical-align: top\">0</td>\n",
       "        <td style=\"padding-left: 1em; padding-right: 1em; text-align: center; vertical-align: top\">0</td>\n",
       "        <td style=\"padding-left: 1em; padding-right: 1em; text-align: center; vertical-align: top\">0</td>\n",
       "        <td style=\"padding-left: 1em; padding-right: 1em; text-align: center; vertical-align: top\">0</td>\n",
       "    </tr>\n",
       "    <tr>\n",
       "        <td style=\"padding-left: 1em; padding-right: 1em; text-align: center; vertical-align: top\">0</td>\n",
       "        <td style=\"padding-left: 1em; padding-right: 1em; text-align: center; vertical-align: top\">0</td>\n",
       "        <td style=\"padding-left: 1em; padding-right: 1em; text-align: center; vertical-align: top\">0</td>\n",
       "        <td style=\"padding-left: 1em; padding-right: 1em; text-align: center; vertical-align: top\">1</td>\n",
       "        <td style=\"padding-left: 1em; padding-right: 1em; text-align: center; vertical-align: top\">0</td>\n",
       "        <td style=\"padding-left: 1em; padding-right: 1em; text-align: center; vertical-align: top\">0</td>\n",
       "        <td style=\"padding-left: 1em; padding-right: 1em; text-align: center; vertical-align: top\">0</td>\n",
       "        <td style=\"padding-left: 1em; padding-right: 1em; text-align: center; vertical-align: top\">0</td>\n",
       "        <td style=\"padding-left: 1em; padding-right: 1em; text-align: center; vertical-align: top\">0</td>\n",
       "        <td style=\"padding-left: 1em; padding-right: 1em; text-align: center; vertical-align: top\">0</td>\n",
       "        <td style=\"padding-left: 1em; padding-right: 1em; text-align: center; vertical-align: top\">0</td>\n",
       "    </tr>\n",
       "    <tr>\n",
       "        <td style=\"padding-left: 1em; padding-right: 1em; text-align: center; vertical-align: top\">0</td>\n",
       "        <td style=\"padding-left: 1em; padding-right: 1em; text-align: center; vertical-align: top\">0</td>\n",
       "        <td style=\"padding-left: 1em; padding-right: 1em; text-align: center; vertical-align: top\">1</td>\n",
       "        <td style=\"padding-left: 1em; padding-right: 1em; text-align: center; vertical-align: top\">1</td>\n",
       "        <td style=\"padding-left: 1em; padding-right: 1em; text-align: center; vertical-align: top\">0</td>\n",
       "        <td style=\"padding-left: 1em; padding-right: 1em; text-align: center; vertical-align: top\">0</td>\n",
       "        <td style=\"padding-left: 1em; padding-right: 1em; text-align: center; vertical-align: top\">0</td>\n",
       "        <td style=\"padding-left: 1em; padding-right: 1em; text-align: center; vertical-align: top\">0</td>\n",
       "        <td style=\"padding-left: 1em; padding-right: 1em; text-align: center; vertical-align: top\">0</td>\n",
       "        <td style=\"padding-left: 1em; padding-right: 1em; text-align: center; vertical-align: top\">0</td>\n",
       "        <td style=\"padding-left: 1em; padding-right: 1em; text-align: center; vertical-align: top\">0</td>\n",
       "    </tr>\n",
       "    <tr>\n",
       "        <td style=\"padding-left: 1em; padding-right: 1em; text-align: center; vertical-align: top\">0</td>\n",
       "        <td style=\"padding-left: 1em; padding-right: 1em; text-align: center; vertical-align: top\">0</td>\n",
       "        <td style=\"padding-left: 1em; padding-right: 1em; text-align: center; vertical-align: top\">0</td>\n",
       "        <td style=\"padding-left: 1em; padding-right: 1em; text-align: center; vertical-align: top\">1</td>\n",
       "        <td style=\"padding-left: 1em; padding-right: 1em; text-align: center; vertical-align: top\">0</td>\n",
       "        <td style=\"padding-left: 1em; padding-right: 1em; text-align: center; vertical-align: top\">0</td>\n",
       "        <td style=\"padding-left: 1em; padding-right: 1em; text-align: center; vertical-align: top\">0</td>\n",
       "        <td style=\"padding-left: 1em; padding-right: 1em; text-align: center; vertical-align: top\">0</td>\n",
       "        <td style=\"padding-left: 1em; padding-right: 1em; text-align: center; vertical-align: top\">0</td>\n",
       "        <td style=\"padding-left: 1em; padding-right: 1em; text-align: center; vertical-align: top\">0</td>\n",
       "        <td style=\"padding-left: 1em; padding-right: 1em; text-align: center; vertical-align: top\">0</td>\n",
       "    </tr>\n",
       "    <tr>\n",
       "        <td style=\"padding-left: 1em; padding-right: 1em; text-align: center; vertical-align: top\">0</td>\n",
       "        <td style=\"padding-left: 1em; padding-right: 1em; text-align: center; vertical-align: top\">0</td>\n",
       "        <td style=\"padding-left: 1em; padding-right: 1em; text-align: center; vertical-align: top\">0</td>\n",
       "        <td style=\"padding-left: 1em; padding-right: 1em; text-align: center; vertical-align: top\">1</td>\n",
       "        <td style=\"padding-left: 1em; padding-right: 1em; text-align: center; vertical-align: top\">0</td>\n",
       "        <td style=\"padding-left: 1em; padding-right: 1em; text-align: center; vertical-align: top\">0</td>\n",
       "        <td style=\"padding-left: 1em; padding-right: 1em; text-align: center; vertical-align: top\">0</td>\n",
       "        <td style=\"padding-left: 1em; padding-right: 1em; text-align: center; vertical-align: top\">0</td>\n",
       "        <td style=\"padding-left: 1em; padding-right: 1em; text-align: center; vertical-align: top\">0</td>\n",
       "        <td style=\"padding-left: 1em; padding-right: 1em; text-align: center; vertical-align: top\">0</td>\n",
       "        <td style=\"padding-left: 1em; padding-right: 1em; text-align: center; vertical-align: top\">0</td>\n",
       "    </tr>\n",
       "    <tr>\n",
       "        <td style=\"padding-left: 1em; padding-right: 1em; text-align: center; vertical-align: top\">0</td>\n",
       "        <td style=\"padding-left: 1em; padding-right: 1em; text-align: center; vertical-align: top\">0</td>\n",
       "        <td style=\"padding-left: 1em; padding-right: 1em; text-align: center; vertical-align: top\">1</td>\n",
       "        <td style=\"padding-left: 1em; padding-right: 1em; text-align: center; vertical-align: top\">1</td>\n",
       "        <td style=\"padding-left: 1em; padding-right: 1em; text-align: center; vertical-align: top\">0</td>\n",
       "        <td style=\"padding-left: 1em; padding-right: 1em; text-align: center; vertical-align: top\">0</td>\n",
       "        <td style=\"padding-left: 1em; padding-right: 1em; text-align: center; vertical-align: top\">0</td>\n",
       "        <td style=\"padding-left: 1em; padding-right: 1em; text-align: center; vertical-align: top\">0</td>\n",
       "        <td style=\"padding-left: 1em; padding-right: 1em; text-align: center; vertical-align: top\">0</td>\n",
       "        <td style=\"padding-left: 1em; padding-right: 1em; text-align: center; vertical-align: top\">0</td>\n",
       "        <td style=\"padding-left: 1em; padding-right: 1em; text-align: center; vertical-align: top\">0</td>\n",
       "    </tr>\n",
       "    <tr>\n",
       "        <td style=\"padding-left: 1em; padding-right: 1em; text-align: center; vertical-align: top\">0</td>\n",
       "        <td style=\"padding-left: 1em; padding-right: 1em; text-align: center; vertical-align: top\">0</td>\n",
       "        <td style=\"padding-left: 1em; padding-right: 1em; text-align: center; vertical-align: top\">1</td>\n",
       "        <td style=\"padding-left: 1em; padding-right: 1em; text-align: center; vertical-align: top\">0</td>\n",
       "        <td style=\"padding-left: 1em; padding-right: 1em; text-align: center; vertical-align: top\">0</td>\n",
       "        <td style=\"padding-left: 1em; padding-right: 1em; text-align: center; vertical-align: top\">0</td>\n",
       "        <td style=\"padding-left: 1em; padding-right: 1em; text-align: center; vertical-align: top\">0</td>\n",
       "        <td style=\"padding-left: 1em; padding-right: 1em; text-align: center; vertical-align: top\">0</td>\n",
       "        <td style=\"padding-left: 1em; padding-right: 1em; text-align: center; vertical-align: top\">0</td>\n",
       "        <td style=\"padding-left: 1em; padding-right: 1em; text-align: center; vertical-align: top\">0</td>\n",
       "        <td style=\"padding-left: 1em; padding-right: 1em; text-align: center; vertical-align: top\">0</td>\n",
       "    </tr>\n",
       "    <tr>\n",
       "        <td style=\"padding-left: 1em; padding-right: 1em; text-align: center; vertical-align: top\">0</td>\n",
       "        <td style=\"padding-left: 1em; padding-right: 1em; text-align: center; vertical-align: top\">0</td>\n",
       "        <td style=\"padding-left: 1em; padding-right: 1em; text-align: center; vertical-align: top\">0</td>\n",
       "        <td style=\"padding-left: 1em; padding-right: 1em; text-align: center; vertical-align: top\">1</td>\n",
       "        <td style=\"padding-left: 1em; padding-right: 1em; text-align: center; vertical-align: top\">0</td>\n",
       "        <td style=\"padding-left: 1em; padding-right: 1em; text-align: center; vertical-align: top\">0</td>\n",
       "        <td style=\"padding-left: 1em; padding-right: 1em; text-align: center; vertical-align: top\">0</td>\n",
       "        <td style=\"padding-left: 1em; padding-right: 1em; text-align: center; vertical-align: top\">0</td>\n",
       "        <td style=\"padding-left: 1em; padding-right: 1em; text-align: center; vertical-align: top\">0</td>\n",
       "        <td style=\"padding-left: 1em; padding-right: 1em; text-align: center; vertical-align: top\">0</td>\n",
       "        <td style=\"padding-left: 1em; padding-right: 1em; text-align: center; vertical-align: top\">0</td>\n",
       "    </tr>\n",
       "</table>\n",
       "<table frame=\"box\" rules=\"cols\">\n",
       "    <tr>\n",
       "        <th style=\"padding-left: 1em; padding-right: 1em; text-align: center\">Wardrobe</th>\n",
       "        <th style=\"padding-left: 1em; padding-right: 1em; text-align: center\">Refrigerator</th>\n",
       "    </tr>\n",
       "    <tr>\n",
       "        <td style=\"padding-left: 1em; padding-right: 1em; text-align: center; vertical-align: top\">0</td>\n",
       "        <td style=\"padding-left: 1em; padding-right: 1em; text-align: center; vertical-align: top\">0</td>\n",
       "    </tr>\n",
       "    <tr>\n",
       "        <td style=\"padding-left: 1em; padding-right: 1em; text-align: center; vertical-align: top\">0</td>\n",
       "        <td style=\"padding-left: 1em; padding-right: 1em; text-align: center; vertical-align: top\">0</td>\n",
       "    </tr>\n",
       "    <tr>\n",
       "        <td style=\"padding-left: 1em; padding-right: 1em; text-align: center; vertical-align: top\">0</td>\n",
       "        <td style=\"padding-left: 1em; padding-right: 1em; text-align: center; vertical-align: top\">0</td>\n",
       "    </tr>\n",
       "    <tr>\n",
       "        <td style=\"padding-left: 1em; padding-right: 1em; text-align: center; vertical-align: top\">0</td>\n",
       "        <td style=\"padding-left: 1em; padding-right: 1em; text-align: center; vertical-align: top\">0</td>\n",
       "    </tr>\n",
       "    <tr>\n",
       "        <td style=\"padding-left: 1em; padding-right: 1em; text-align: center; vertical-align: top\">0</td>\n",
       "        <td style=\"padding-left: 1em; padding-right: 1em; text-align: center; vertical-align: top\">0</td>\n",
       "    </tr>\n",
       "    <tr>\n",
       "        <td style=\"padding-left: 1em; padding-right: 1em; text-align: center; vertical-align: top\">0</td>\n",
       "        <td style=\"padding-left: 1em; padding-right: 1em; text-align: center; vertical-align: top\">0</td>\n",
       "    </tr>\n",
       "    <tr>\n",
       "        <td style=\"padding-left: 1em; padding-right: 1em; text-align: center; vertical-align: top\">0</td>\n",
       "        <td style=\"padding-left: 1em; padding-right: 1em; text-align: center; vertical-align: top\">0</td>\n",
       "    </tr>\n",
       "    <tr>\n",
       "        <td style=\"padding-left: 1em; padding-right: 1em; text-align: center; vertical-align: top\">0</td>\n",
       "        <td style=\"padding-left: 1em; padding-right: 1em; text-align: center; vertical-align: top\">0</td>\n",
       "    </tr>\n",
       "    <tr>\n",
       "        <td style=\"padding-left: 1em; padding-right: 1em; text-align: center; vertical-align: top\">0</td>\n",
       "        <td style=\"padding-left: 1em; padding-right: 1em; text-align: center; vertical-align: top\">0</td>\n",
       "    </tr>\n",
       "    <tr>\n",
       "        <td style=\"padding-left: 1em; padding-right: 1em; text-align: center; vertical-align: top\">0</td>\n",
       "        <td style=\"padding-left: 1em; padding-right: 1em; text-align: center; vertical-align: top\">0</td>\n",
       "    </tr>\n",
       "</table>\n",
       "[2518 rows x 40 columns]<br/>Note: Only the head of the SFrame is printed.<br/>You can use print_rows(num_rows=m, num_columns=n) to print more rows and columns.\n",
       "</div>"
      ],
      "text/plain": [
       "Columns:\n",
       "\tPrice\tint\n",
       "\tArea\tint\n",
       "\tLocation\tstr\n",
       "\tNo. of Bedrooms\tint\n",
       "\tResale\tint\n",
       "\tMaintenanceStaff\tint\n",
       "\tGymnasium\tint\n",
       "\tSwimmingPool\tint\n",
       "\tLandscapedGardens\tint\n",
       "\tJoggingTrack\tint\n",
       "\tRainWaterHarvesting\tint\n",
       "\tIndoorGames\tint\n",
       "\tShoppingMall\tint\n",
       "\tIntercom\tint\n",
       "\tSportsFacility\tint\n",
       "\tATM\tint\n",
       "\tClubHouse\tint\n",
       "\tSchool\tint\n",
       "\t24X7Security\tint\n",
       "\tPowerBackup\tint\n",
       "\tCarParking\tint\n",
       "\tStaffQuarter\tint\n",
       "\tCafeteria\tint\n",
       "\tMultipurposeRoom\tint\n",
       "\tHospital\tint\n",
       "\tWashingMachine\tint\n",
       "\tGasconnection\tint\n",
       "\tAC\tint\n",
       "\tWifi\tint\n",
       "\tChildren'splayarea\tint\n",
       "\tLiftAvailable\tint\n",
       "\tBED\tint\n",
       "\tVaastuCompliant\tint\n",
       "\tMicrowave\tint\n",
       "\tGolfCourse\tint\n",
       "\tTV\tint\n",
       "\tDiningTable\tint\n",
       "\tSofa\tint\n",
       "\tWardrobe\tint\n",
       "\tRefrigerator\tint\n",
       "\n",
       "Rows: 2518\n",
       "\n",
       "Data:\n",
       "+----------+------+-------------+-----------------+--------+------------------+\n",
       "|  Price   | Area |   Location  | No. of Bedrooms | Resale | MaintenanceStaff |\n",
       "+----------+------+-------------+-----------------+--------+------------------+\n",
       "| 6968000  | 1340 |   Nizampet  |        2        |   0    |        0         |\n",
       "| 29000000 | 3498 | Hitech City |        4        |   0    |        0         |\n",
       "| 6590000  | 1318 |  Manikonda  |        2        |   0    |        0         |\n",
       "| 5739000  | 1295 |    Alwal    |        3        |   1    |        0         |\n",
       "| 5679000  | 1145 |  Kukatpally |        2        |   0    |        0         |\n",
       "| 6099000  | 1230 |   Nizampet  |        2        |   0    |        0         |\n",
       "| 7000000  | 1350 |  Manikonda  |        2        |   0    |        0         |\n",
       "| 4198000  | 1400 |  Gachibowli |        3        |   0    |        0         |\n",
       "| 9900000  | 2240 |   Tellapur  |        3        |   0    |        0         |\n",
       "| 9800000  | 1520 |  Gachibowli |        2        |   1    |        0         |\n",
       "+----------+------+-------------+-----------------+--------+------------------+\n",
       "+-----------+--------------+-------------------+--------------+---------------------+\n",
       "| Gymnasium | SwimmingPool | LandscapedGardens | JoggingTrack | RainWaterHarvesting |\n",
       "+-----------+--------------+-------------------+--------------+---------------------+\n",
       "|     1     |      1       |         1         |      1       |          1          |\n",
       "|     1     |      1       |         1         |      1       |          1          |\n",
       "|     1     |      0       |         0         |      0       |          0          |\n",
       "|     0     |      0       |         0         |      0       |          0          |\n",
       "|     0     |      0       |         1         |      0       |          0          |\n",
       "|     0     |      0       |         0         |      0       |          0          |\n",
       "|     0     |      0       |         0         |      0       |          0          |\n",
       "|     1     |      1       |         0         |      0       |          0          |\n",
       "|     1     |      1       |         0         |      0       |          0          |\n",
       "|     0     |      0       |         0         |      0       |          0          |\n",
       "+-----------+--------------+-------------------+--------------+---------------------+\n",
       "+-------------+--------------+----------+----------------+-----+-----------+--------+\n",
       "| IndoorGames | ShoppingMall | Intercom | SportsFacility | ATM | ClubHouse | School |\n",
       "+-------------+--------------+----------+----------------+-----+-----------+--------+\n",
       "|      1      |      0       |    1     |       0        |  0  |     1     |   0    |\n",
       "|      1      |      0       |    1     |       0        |  1  |     1     |   0    |\n",
       "|      1      |      0       |    0     |       0        |  0  |     0     |   0    |\n",
       "|      0      |      0       |    0     |       0        |  0  |     0     |   0    |\n",
       "|      0      |      0       |    0     |       0        |  0  |     0     |   0    |\n",
       "|      0      |      0       |    0     |       0        |  0  |     0     |   0    |\n",
       "|      0      |      0       |    0     |       0        |  0  |     0     |   0    |\n",
       "|      0      |      0       |    1     |       1        |  0  |     1     |   0    |\n",
       "|      1      |      0       |    0     |       0        |  0  |     1     |   0    |\n",
       "|      0      |      0       |    0     |       0        |  0  |     0     |   0    |\n",
       "+-------------+--------------+----------+----------------+-----+-----------+--------+\n",
       "+--------------+-------------+-----+\n",
       "| 24X7Security | PowerBackup | ... |\n",
       "+--------------+-------------+-----+\n",
       "|      1       |      1      | ... |\n",
       "|      1       |      1      | ... |\n",
       "|      0       |      0      | ... |\n",
       "|      0       |      1      | ... |\n",
       "|      0       |      1      | ... |\n",
       "|      0       |      1      | ... |\n",
       "|      0       |      0      | ... |\n",
       "|      0       |      1      | ... |\n",
       "|      1       |      1      | ... |\n",
       "|      0       |      1      | ... |\n",
       "+--------------+-------------+-----+\n",
       "[2518 rows x 40 columns]\n",
       "Note: Only the head of the SFrame is printed.\n",
       "You can use print_rows(num_rows=m, num_columns=n) to print more rows and columns."
      ]
     },
     "execution_count": 5,
     "metadata": {},
     "output_type": "execute_result"
    }
   ],
   "source": [
    "data = tc.SFrame('Hyderabad.csv')\n",
    "data"
   ]
  },
  {
   "cell_type": "code",
   "execution_count": 34,
   "id": "b7457d1d",
   "metadata": {
    "scrolled": true
   },
   "outputs": [
    {
     "data": {
      "text/plain": [
       "['Price',\n",
       " 'Area',\n",
       " 'Location',\n",
       " 'No. of Bedrooms',\n",
       " 'Resale',\n",
       " 'MaintenanceStaff',\n",
       " 'Gymnasium',\n",
       " 'SwimmingPool',\n",
       " 'LandscapedGardens',\n",
       " 'JoggingTrack',\n",
       " 'RainWaterHarvesting',\n",
       " 'IndoorGames',\n",
       " 'ShoppingMall',\n",
       " 'Intercom',\n",
       " 'SportsFacility',\n",
       " 'ATM',\n",
       " 'ClubHouse',\n",
       " 'School',\n",
       " '24X7Security',\n",
       " 'PowerBackup',\n",
       " 'CarParking',\n",
       " 'StaffQuarter',\n",
       " 'Cafeteria',\n",
       " 'MultipurposeRoom',\n",
       " 'Hospital',\n",
       " 'WashingMachine',\n",
       " 'Gasconnection',\n",
       " 'AC',\n",
       " 'Wifi',\n",
       " \"Children'splayarea\",\n",
       " 'LiftAvailable',\n",
       " 'BED',\n",
       " 'VaastuCompliant',\n",
       " 'Microwave',\n",
       " 'GolfCourse',\n",
       " 'TV',\n",
       " 'DiningTable',\n",
       " 'Sofa',\n",
       " 'Wardrobe',\n",
       " 'Refrigerator']"
      ]
     },
     "execution_count": 34,
     "metadata": {},
     "output_type": "execute_result"
    }
   ],
   "source": [
    "data.column_names() # 获取列名列表"
   ]
  },
  {
   "cell_type": "markdown",
   "id": "012bb1d9",
   "metadata": {},
   "source": [
    "### Exploring the relationship between price and area\n",
    "探索变量之间的关系\n",
    "\n",
    "sframe 没办法用 seaborn `sns.pairplot(df[numerical])` 绘制散点图矩阵（scatterplot matrix）"
   ]
  },
  {
   "cell_type": "code",
   "execution_count": 8,
   "id": "ee852c18",
   "metadata": {
    "scrolled": true
   },
   "outputs": [
    {
     "data": {
      "text/plain": [
       "<matplotlib.collections.PathCollection at 0x7faf2c48b8b0>"
      ]
     },
     "execution_count": 8,
     "metadata": {},
     "output_type": "execute_result"
    },
    {
     "data": {
      "image/png": "[encoded data removed]",
      "text/plain": [
       "<Figure size 432x288 with 1 Axes>"
      ]
     },
     "metadata": {
      "needs_background": "light"
     },
     "output_type": "display_data"
    }
   ],
   "source": [
    "# 价格与面积\n",
    "plt.scatter(data['Area'], data['Price'])"
   ]
  },
  {
   "cell_type": "code",
   "execution_count": 37,
   "id": "03776337",
   "metadata": {
    "scrolled": false
   },
   "outputs": [
    {
     "data": {
      "text/html": [
       "<html>                 <body>                     <iframe style=\"border:0;margin:0\" width=\"800\" height=\"770\" srcdoc='<html lang=\"en\">                         <head>                             <script src=\"https://cdnjs.cloudflare.com/ajax/libs/vega/5.4.0/vega.js\"></script>                             <script src=\"https://cdnjs.cloudflare.com/ajax/libs/vega-embed/4.0.0/vega-embed.js\"></script>                             <script src=\"https://cdnjs.cloudflare.com/ajax/libs/vega-tooltip/0.5.1/vega-tooltip.min.js\"></script>                             <link rel=\"stylesheet\" type=\"text/css\" href=\"https://cdnjs.cloudflare.com/ajax/libs/vega-tooltip/0.5.1/vega-tooltip.min.css\">                             <style>                             .vega-actions > a{                                 color:white;                                 text-decoration: none;                                 font-family: \"Arial\";                                 cursor:pointer;                                 padding:5px;                                 background:#AAAAAA;                                 border-radius:4px;                                 padding-left:10px;                                 padding-right:10px;                                 margin-right:5px;                             }                             .vega-actions{                                 margin-top:20px;                                 text-align:center                             }                            .vega-actions > a{                                 background:#999999;                            }                             </style>                         </head>                         <body>                             <div id=\"vis\">                             </div>                             <script>                                 var vega_json = \"{\\\"$schema\\\": \\\"https://vega.github.io/schema/vega/v4.json\\\", \\\"autosize\\\": {\\\"type\\\": \\\"fit\\\", \\\"resize\\\": false, \\\"contains\\\": \\\"padding\\\"}, \\\"padding\\\": 8, \\\"metadata\\\": {\\\"bubbleOpts\\\": {\\\"showAllFields\\\": false, \\\"fields\\\": [{\\\"field\\\": \\\"x\\\"}, {\\\"field\\\": \\\"min\\\"}, {\\\"field\\\": \\\"lower quartile\\\"}, {\\\"field\\\": \\\"median\\\"}, {\\\"field\\\": \\\"upper quartile\\\"}, {\\\"field\\\": \\\"max\\\"}]}}, \\\"title\\\": \\\"Location-Price\\\", \\\"height\\\": 550, \\\"style\\\": \\\"cell\\\", \\\"data\\\": [{\\\"name\\\": \\\"source_2\\\", \\\"transform\\\": [{\\\"type\\\": \\\"collect\\\", \\\"sort\\\": {\\\"field\\\": \\\"median\\\"}}], \\\"values\\\": [{\\\"x\\\": \\\"Sun City Padmasri Estates\\\", \\\"min\\\": 5500000.0, \\\"lower quartile\\\": 5500000.0, \\\"median\\\": 5500000.0, \\\"upper quartile\\\": 5500000.0, \\\"max\\\": 5500000.0}, {\\\"x\\\": \\\"DD Colony\\\", \\\"min\\\": 9000000.0, \\\"lower quartile\\\": 9000000.0, \\\"median\\\": 13500000.0, \\\"upper quartile\\\": 13500000.0, \\\"max\\\": 13500000.0}, {\\\"x\\\": \\\"Alwal\\\", \\\"min\\\": 3500000.0, \\\"lower quartile\\\": 4580000.0, \\\"median\\\": 5450000.0, \\\"upper quartile\\\": 5739000.0, \\\"max\\\": 7950000.0}, {\\\"x\\\": \\\"Kollur Road\\\", \\\"min\\\": 4200000.0, \\\"lower quartile\\\": 4210000.0, \\\"median\\\": 4300000.0, \\\"upper quartile\\\": 4600000.0, \\\"max\\\": 8779000.0}, {\\\"x\\\": \\\"Saket\\\", \\\"min\\\": 19500000.0, \\\"lower quartile\\\": 19500000.0, \\\"median\\\": 19500000.0, \\\"upper quartile\\\": 19500000.0, \\\"max\\\": 19500000.0}, {\\\"x\\\": \\\"ALIND Employees Colony\\\", \\\"min\\\": 5654000.0, \\\"lower quartile\\\": 5654000.0, \\\"median\\\": 5654000.0, \\\"upper quartile\\\": 5654000.0, \\\"max\\\": 5654000.0}, {\\\"x\\\": \\\"Uppal Kalan\\\", \\\"min\\\": 4400000.0, \\\"lower quartile\\\": 4700000.0, \\\"median\\\": 5500000.0, \\\"upper quartile\\\": 6187000.0, \\\"max\\\": 7500000.0}, {\\\"x\\\": \\\"Mailardevpally\\\", \\\"min\\\": 5900000.0, \\\"lower quartile\\\": 5900000.0, \\\"median\\\": 5900000.0, \\\"upper quartile\\\": 5900000.0, \\\"max\\\": 5900000.0}, {\\\"x\\\": \\\"Patancheru Shankarpalli Road\\\", \\\"min\\\": 2400000.0, \\\"lower quartile\\\": 4000000.0, \\\"median\\\": 4650000.0, \\\"upper quartile\\\": 4750000.0, \\\"max\\\": 4750000.0}, {\\\"x\\\": \\\"Panchavati Colony Manikonda\\\", \\\"min\\\": 6000000.0, \\\"lower quartile\\\": 6000000.0, \\\"median\\\": 6000000.0, \\\"upper quartile\\\": 6000000.0, \\\"max\\\": 6000000.0}, {\\\"x\\\": \\\"Banjara Hills Road Number 12\\\", \\\"min\\\": 23000000.0, \\\"lower quartile\\\": 23000000.0, \\\"median\\\": 23000000.0, \\\"upper quartile\\\": 23000000.0, \\\"max\\\": 23000000.0}, {\\\"x\\\": \\\"JNTU\\\", \\\"min\\\": 8525000.0, \\\"lower quartile\\\": 8525000.0, \\\"median\\\": 8525000.0, \\\"upper quartile\\\": 8525000.0, \\\"max\\\": 8525000.0}, {\\\"x\\\": \\\"Bongloor\\\", \\\"min\\\": 3927000.0, \\\"lower quartile\\\": 3927000.0, \\\"median\\\": 3927000.0, \\\"upper quartile\\\": 3927000.0, \\\"max\\\": 3927000.0}, {\\\"x\\\": \\\"Ameenpur\\\", \\\"min\\\": 4582000.0, \\\"lower quartile\\\": 4582000.0, \\\"median\\\": 4582000.0, \\\"upper quartile\\\": 4582000.0, \\\"max\\\": 4582000.0}, {\\\"x\\\": \\\"Isnapur\\\", \\\"min\\\": 3200000.0, \\\"lower quartile\\\": 3200000.0, \\\"median\\\": 3200000.0, \\\"upper quartile\\\": 3200000.0, \\\"max\\\": 3200000.0}, {\\\"x\\\": \\\"Pati\\\", \\\"min\\\": 3900000.0, \\\"lower quartile\\\": 4150000.0, \\\"median\\\": 4450000.0, \\\"upper quartile\\\": 4550000.0, \\\"max\\\": 4850000.0}, {\\\"x\\\": \\\"Domalguda\\\", \\\"min\\\": 7200000.0, \\\"lower quartile\\\": 7200000.0, \\\"median\\\": 12500000.0, \\\"upper quartile\\\": 14000000.0, \\\"max\\\": 14000000.0}, {\\\"x\\\": \\\"financial District\\\", \\\"min\\\": 2211000.0, \\\"lower quartile\\\": 2211000.0, \\\"median\\\": 3375000.0, \\\"upper quartile\\\": 3375000.0, \\\"max\\\": 3375000.0}, {\\\"x\\\": \\\"Residential Flat Machavaram\\\", \\\"min\\\": 6500000.0, \\\"lower quartile\\\": 6500000.0, \\\"median\\\": 6500000.0, \\\"upper quartile\\\": 6500000.0, \\\"max\\\": 6500000.0}, {\\\"x\\\": \\\"Madhavaram Nagar Colony\\\", \\\"min\\\": 4500000.0, \\\"lower quartile\\\": 4500000.0, \\\"median\\\": 4500000.0, \\\"upper quartile\\\": 4500000.0, \\\"max\\\": 4500000.0}, {\\\"x\\\": \\\"Patancheru\\\", \\\"min\\\": 2400000.0, \\\"lower quartile\\\": 3200000.0, \\\"median\\\": 3250000.0, \\\"upper quartile\\\": 3900000.0, \\\"max\\\": 4800000.0}, {\\\"x\\\": \\\"HMT Hills\\\", \\\"min\\\": 5500000.0, \\\"lower quartile\\\": 5500000.0, \\\"median\\\": 5500000.0, \\\"upper quartile\\\": 5500000.0, \\\"max\\\": 5500000.0}, {\\\"x\\\": \\\"Ramnagar Gundu\\\", \\\"min\\\": 4500000.0, \\\"lower quartile\\\": 4500000.0, \\\"median\\\": 5000000.0, \\\"upper quartile\\\": 5200000.0, \\\"max\\\": 5200000.0}, {\\\"x\\\": \\\"Tilak Nagar\\\", \\\"min\\\": 5250000.0, \\\"lower quartile\\\": 5250000.0, \\\"median\\\": 5400000.0, \\\"upper quartile\\\": 5400000.0, \\\"max\\\": 5400000.0}, {\\\"x\\\": \\\"Kushaiguda\\\", \\\"min\\\": 3732000.0, \\\"lower quartile\\\": 3928000.0, \\\"median\\\": 4104000.0, \\\"upper quartile\\\": 4304000.0, \\\"max\\\": 4304000.0}, {\\\"x\\\": \\\"manneguda\\\", \\\"min\\\": 4276000.0, \\\"lower quartile\\\": 4276000.0, \\\"median\\\": 4276000.0, \\\"upper quartile\\\": 4276000.0, \\\"max\\\": 4276000.0}, {\\\"x\\\": \\\"Abids\\\", \\\"min\\\": 28000000.0, \\\"lower quartile\\\": 28000000.0, \\\"median\\\": 28000000.0, \\\"upper quartile\\\": 28000000.0, \\\"max\\\": 28000000.0}, {\\\"x\\\": \\\"Basheer Bagh\\\", \\\"min\\\": 27000000.0, \\\"lower quartile\\\": 27000000.0, \\\"median\\\": 27000000.0, \\\"upper quartile\\\": 27000000.0, \\\"max\\\": 27000000.0}, {\\\"x\\\": \\\"Chaitanyapuri\\\", \\\"min\\\": 9200000.0, \\\"lower quartile\\\": 9300000.0, \\\"median\\\": 9300000.0, \\\"upper quartile\\\": 9300000.0, \\\"max\\\": 9300000.0}, {\\\"x\\\": \\\"BHEL\\\", \\\"min\\\": 3100000.0, \\\"lower quartile\\\": 3100000.0, \\\"median\\\": 4600000.0, \\\"upper quartile\\\": 4600000.0, \\\"max\\\": 4600000.0}, {\\\"x\\\": \\\"Alkapur township\\\", \\\"min\\\": 6500000.0, \\\"lower quartile\\\": 6500000.0, \\\"median\\\": 7200000.0, \\\"upper quartile\\\": 7200000.0, \\\"max\\\": 7200000.0}, {\\\"x\\\": \\\"Chititra Medchal\\\", \\\"min\\\": 5000000.0, \\\"lower quartile\\\": 5000000.0, \\\"median\\\": 5000000.0, \\\"upper quartile\\\": 5000000.0, \\\"max\\\": 5000000.0}, {\\\"x\\\": \\\"Hyder Nagar\\\", \\\"min\\\": 4500000.0, \\\"lower quartile\\\": 4830000.0, \\\"median\\\": 5200000.0, \\\"upper quartile\\\": 6300000.0, \\\"max\\\": 6300000.0}, {\\\"x\\\": \\\"Arvind Nagar Colony\\\", \\\"min\\\": 3500000.0, \\\"lower quartile\\\": 3500000.0, \\\"median\\\": 3500000.0, \\\"upper quartile\\\": 3500000.0, \\\"max\\\": 3500000.0}, {\\\"x\\\": \\\"Sun City\\\", \\\"min\\\": 3700000.0, \\\"lower quartile\\\": 3700000.0, \\\"median\\\": 5800000.0, \\\"upper quartile\\\": 45000000.0, \\\"max\\\": 45000000.0}, {\\\"x\\\": \\\"Bachupally Road\\\", \\\"min\\\": 3500000.0, \\\"lower quartile\\\": 4158000.0, \\\"median\\\": 4230000.0, \\\"upper quartile\\\": 4239000.0, \\\"max\\\": 4500000.0}, {\\\"x\\\": \\\"nizampet road\\\", \\\"min\\\": 3900000.0, \\\"lower quartile\\\": 3900000.0, \\\"median\\\": 4600000.0, \\\"upper quartile\\\": 4600000.0, \\\"max\\\": 4600000.0}, {\\\"x\\\": \\\"Adibatla\\\", \\\"min\\\": 2022000.0, \\\"lower quartile\\\": 2300000.0, \\\"median\\\": 2800000.0, \\\"upper quartile\\\": 3742000.0, \\\"max\\\": 5004000.0}, {\\\"x\\\": \\\"Tarnaka\\\", \\\"min\\\": 5499000.0, \\\"lower quartile\\\": 5900000.0, \\\"median\\\": 7499000.0, \\\"upper quartile\\\": 7500000.0, \\\"max\\\": 11000000.0}, {\\\"x\\\": \\\"Whitefields\\\", \\\"min\\\": 38700000.0, \\\"lower quartile\\\": 38700000.0, \\\"median\\\": 38700000.0, \\\"upper quartile\\\": 38700000.0, \\\"max\\\": 38700000.0}, {\\\"x\\\": \\\"Kollur\\\", \\\"min\\\": 4099000.0, \\\"lower quartile\\\": 4099000.0, \\\"median\\\": 4228000.0, \\\"upper quartile\\\": 5000000.0, \\\"max\\\": 5000000.0}, {\\\"x\\\": \\\"IDPL Colony\\\", \\\"min\\\": 10900000.0, \\\"lower quartile\\\": 10900000.0, \\\"median\\\": 10900000.0, \\\"upper quartile\\\": 10900000.0, \\\"max\\\": 10900000.0}, {\\\"x\\\": \\\"Alapathi Nagar\\\", \\\"min\\\": 7500000.0, \\\"lower quartile\\\": 7500000.0, \\\"median\\\": 7500000.0, \\\"upper quartile\\\": 7500000.0, \\\"max\\\": 7500000.0}, {\\\"x\\\": \\\"Central Excise Colony Hyderabad\\\", \\\"min\\\": 6500000.0, \\\"lower quartile\\\": 6500000.0, \\\"median\\\": 10500000.0, \\\"upper quartile\\\": 10500000.0, \\\"max\\\": 10500000.0}, {\\\"x\\\": \\\"Hitech City\\\", \\\"min\\\": 3900000.0, \\\"lower quartile\\\": 11100000.0, \\\"median\\\": 17000000.0, \\\"upper quartile\\\": 25300000.0, \\\"max\\\": 45000000.0}, {\\\"x\\\": \\\"Kismatpur\\\", \\\"min\\\": 5000000.0, \\\"lower quartile\\\": 5000000.0, \\\"median\\\": 5000000.0, \\\"upper quartile\\\": 5000000.0, \\\"max\\\": 5000000.0}, {\\\"x\\\": \\\"Beeramguda Road\\\", \\\"min\\\": 3500000.0, \\\"lower quartile\\\": 3500000.0, \\\"median\\\": 3500000.0, \\\"upper quartile\\\": 3500000.0, \\\"max\\\": 3500000.0}, {\\\"x\\\": \\\"Chintalakunta\\\", \\\"min\\\": 3500000.0, \\\"lower quartile\\\": 3500000.0, \\\"median\\\": 3500000.0, \\\"upper quartile\\\": 3500000.0, \\\"max\\\": 3500000.0}, {\\\"x\\\": \\\"Moosapet\\\", \\\"min\\\": 4700000.0, \\\"lower quartile\\\": 7099000.0, \\\"median\\\": 8800000.0, \\\"upper quartile\\\": 10900000.0, \\\"max\\\": 11100000.0}, {\\\"x\\\": \\\"Ramachandra Puram\\\", \\\"min\\\": 4800000.0, \\\"lower quartile\\\": 4800000.0, \\\"median\\\": 4850000.0, \\\"upper quartile\\\": 4850000.0, \\\"max\\\": 4850000.0}, {\\\"x\\\": \\\"Beeramguda\\\", \\\"min\\\": 2102000.0, \\\"lower quartile\\\": 3200000.0, \\\"median\\\": 3500000.0, \\\"upper quartile\\\": 3600000.0, \\\"max\\\": 6500000.0}, {\\\"x\\\": \\\"Barkatpura\\\", \\\"min\\\": 6500000.0, \\\"lower quartile\\\": 6500000.0, \\\"median\\\": 8500000.0, \\\"upper quartile\\\": 11000000.0, \\\"max\\\": 11000000.0}, {\\\"x\\\": \\\"raidurgam\\\", \\\"min\\\": 11500000.0, \\\"lower quartile\\\": 11500000.0, \\\"median\\\": 11500000.0, \\\"upper quartile\\\": 11500000.0, \\\"max\\\": 11500000.0}, {\\\"x\\\": \\\"Zamistanpur\\\", \\\"min\\\": 4750000.0, \\\"lower quartile\\\": 6800000.0, \\\"median\\\": 7500000.0, \\\"upper quartile\\\": 7500000.0, \\\"max\\\": 7500000.0}, {\\\"x\\\": \\\"Malkajgiri\\\", \\\"min\\\": 4000000.0, \\\"lower quartile\\\": 5200000.0, \\\"median\\\": 8200000.0, \\\"upper quartile\\\": 8200000.0, \\\"max\\\": 10100000.0}, {\\\"x\\\": \\\"Appa Junction\\\", \\\"min\\\": 7100000.0, \\\"lower quartile\\\": 8800000.0, \\\"median\\\": 9000000.0, \\\"upper quartile\\\": 10100000.0, \\\"max\\\": 10100000.0}, {\\\"x\\\": \\\"Nagole\\\", \\\"min\\\": 2002000.0, \\\"lower quartile\\\": 3700000.0, \\\"median\\\": 5500000.0, \\\"upper quartile\\\": 8242000.0, \\\"max\\\": 8977000.0}, {\\\"x\\\": \\\"Rajbhavan Road Somajiguda\\\", \\\"min\\\": 12500000.0, \\\"lower quartile\\\": 12500000.0, \\\"median\\\": 12500000.0, \\\"upper quartile\\\": 12500000.0, \\\"max\\\": 12500000.0}, {\\\"x\\\": \\\"New Maruthi Nagar\\\", \\\"min\\\": 5200000.0, \\\"lower quartile\\\": 5200000.0, \\\"median\\\": 5200000.0, \\\"upper quartile\\\": 5200000.0, \\\"max\\\": 5200000.0}, {\\\"x\\\": \\\"Mallampet\\\", \\\"min\\\": 3000000.0, \\\"lower quartile\\\": 4641000.0, \\\"median\\\": 4641000.0, \\\"upper quartile\\\": 4641000.0, \\\"max\\\": 5000000.0}, {\\\"x\\\": \\\"Domalguda Road\\\", \\\"min\\\": 15000000.0, \\\"lower quartile\\\": 15000000.0, \\\"median\\\": 15000000.0, \\\"upper quartile\\\": 15000000.0, \\\"max\\\": 15000000.0}, {\\\"x\\\": \\\"Kothaguda\\\", \\\"min\\\": 9900000.0, \\\"lower quartile\\\": 13500000.0, \\\"median\\\": 13500000.0, \\\"upper quartile\\\": 17000000.0, \\\"max\\\": 29500000.0}, {\\\"x\\\": \\\"Lakdikapul\\\", \\\"min\\\": 5600000.0, \\\"lower quartile\\\": 5600000.0, \\\"median\\\": 5600000.0, \\\"upper quartile\\\": 5600000.0, \\\"max\\\": 5600000.0}, {\\\"x\\\": \\\"Attapur\\\", \\\"min\\\": 3200000.0, \\\"lower quartile\\\": 6323000.0, \\\"median\\\": 7500000.0, \\\"upper quartile\\\": 8383000.0, \\\"max\\\": 10900000.0}, {\\\"x\\\": \\\"Karimnagar\\\", \\\"min\\\": 3500000.0, \\\"lower quartile\\\": 3500000.0, \\\"median\\\": 3500000.0, \\\"upper quartile\\\": 3500000.0, \\\"max\\\": 3500000.0}, {\\\"x\\\": \\\"Bowenpally\\\", \\\"min\\\": 3800000.0, \\\"lower quartile\\\": 3800000.0, \\\"median\\\": 4500000.0, \\\"upper quartile\\\": 4500000.0, \\\"max\\\": 4500000.0}, {\\\"x\\\": \\\"Sikh Village\\\", \\\"min\\\": 9000000.0, \\\"lower quartile\\\": 9000000.0, \\\"median\\\": 9000000.0, \\\"upper quartile\\\": 9000000.0, \\\"max\\\": 9000000.0}, {\\\"x\\\": \\\"new nallakunta\\\", \\\"min\\\": 5000000.0, \\\"lower quartile\\\": 5000000.0, \\\"median\\\": 8000000.0, \\\"upper quartile\\\": 8520000.0, \\\"max\\\": 8520000.0}, {\\\"x\\\": \\\"Mayuri Nagar\\\", \\\"min\\\": 6500000.0, \\\"lower quartile\\\": 6500000.0, \\\"median\\\": 6500000.0, \\\"upper quartile\\\": 6500000.0, \\\"max\\\": 6500000.0}, {\\\"x\\\": \\\"KRCR Colony Road\\\", \\\"min\\\": 3600000.0, \\\"lower quartile\\\": 3600000.0, \\\"median\\\": 4162000.0, \\\"upper quartile\\\": 4162000.0, \\\"max\\\": 4162000.0}, {\\\"x\\\": \\\"Pragathi Nagar\\\", \\\"min\\\": 4140000.0, \\\"lower quartile\\\": 4300000.0, \\\"median\\\": 4500000.0, \\\"upper quartile\\\": 4600000.0, \\\"max\\\": 4600000.0}, {\\\"x\\\": \\\"Rajendra Nagar\\\", \\\"min\\\": 5290000.0, \\\"lower quartile\\\": 5500000.0, \\\"median\\\": 6290000.0, \\\"upper quartile\\\": 7540000.0, \\\"max\\\": 19500000.0}, {\\\"x\\\": \\\"Ring Road\\\", \\\"min\\\": 2900000.0, \\\"lower quartile\\\": 2900000.0, \\\"median\\\": 2900000.0, \\\"upper quartile\\\": 2900000.0, \\\"max\\\": 2900000.0}, {\\\"x\\\": \\\"Gurramguda\\\", \\\"min\\\": 7585000.0, \\\"lower quartile\\\": 7585000.0, \\\"median\\\": 7585000.0, \\\"upper quartile\\\": 7585000.0, \\\"max\\\": 7585000.0}, {\\\"x\\\": \\\"Bachupaly Road Miyapur\\\", \\\"min\\\": 4403000.0, \\\"lower quartile\\\": 4403000.0, \\\"median\\\": 4403000.0, \\\"upper quartile\\\": 4403000.0, \\\"max\\\": 4403000.0}, {\\\"x\\\": \\\"East Marredpally\\\", \\\"min\\\": 6000000.0, \\\"lower quartile\\\": 7200000.0, \\\"median\\\": 10000000.0, \\\"upper quartile\\\": 12600000.0, \\\"max\\\": 21700000.0}, {\\\"x\\\": \\\"Gopanpally\\\", \\\"min\\\": 7600000.0, \\\"lower quartile\\\": 7800000.0, \\\"median\\\": 8500000.0, \\\"upper quartile\\\": 11000000.0, \\\"max\\\": 40000000.0}, {\\\"x\\\": \\\"Whitefield\\\", \\\"min\\\": 10900000.0, \\\"lower quartile\\\": 10900000.0, \\\"median\\\": 10900000.0, \\\"upper quartile\\\": 10900000.0, \\\"max\\\": 10900000.0}, {\\\"x\\\": \\\"Gajularamaram\\\", \\\"min\\\": 3300000.0, \\\"lower quartile\\\": 4600000.0, \\\"median\\\": 6300000.0, \\\"upper quartile\\\": 6931000.0, \\\"max\\\": 9500000.0}, {\\\"x\\\": \\\"Saroornagar\\\", \\\"min\\\": 4000000.0, \\\"lower quartile\\\": 4000000.0, \\\"median\\\": 4788000.0, \\\"upper quartile\\\": 5500000.0, \\\"max\\\": 5800000.0}, {\\\"x\\\": \\\"Toli Chowki\\\", \\\"min\\\": 3900000.0, \\\"lower quartile\\\": 4500000.0, \\\"median\\\": 4700000.0, \\\"upper quartile\\\": 7000000.0, \\\"max\\\": 7500000.0}, {\\\"x\\\": \\\"Old Bowenpally\\\", \\\"min\\\": 3500000.0, \\\"lower quartile\\\": 3500000.0, \\\"median\\\": 4000000.0, \\\"upper quartile\\\": 6000000.0, \\\"max\\\": 6000000.0}, {\\\"x\\\": \\\"Nacharam\\\", \\\"min\\\": 3500000.0, \\\"lower quartile\\\": 4800000.0, \\\"median\\\": 5600000.0, \\\"upper quartile\\\": 9600000.0, \\\"max\\\": 14000000.0}, {\\\"x\\\": \\\"Whisper Valley\\\", \\\"min\\\": 4567000.0, \\\"lower quartile\\\": 4567000.0, \\\"median\\\": 4650000.0, \\\"upper quartile\\\": 4650000.0, \\\"max\\\": 4700000.0}, {\\\"x\\\": \\\"NRSA Colony\\\", \\\"min\\\": 5600000.0, \\\"lower quartile\\\": 5600000.0, \\\"median\\\": 5600000.0, \\\"upper quartile\\\": 5600000.0, \\\"max\\\": 5600000.0}, {\\\"x\\\": \\\"Hafeezpet\\\", \\\"min\\\": 5000000.0, \\\"lower quartile\\\": 6300000.0, \\\"median\\\": 6799000.0, \\\"upper quartile\\\": 7299000.0, \\\"max\\\": 7299000.0}, {\\\"x\\\": \\\"Secunderabad Railway Station Road\\\", \\\"min\\\": 6500000.0, \\\"lower quartile\\\": 6500000.0, \\\"median\\\": 6500000.0, \\\"upper quartile\\\": 6500000.0, \\\"max\\\": 6500000.0}, {\\\"x\\\": \\\"Kokapet\\\", \\\"min\\\": 2750000.0, \\\"lower quartile\\\": 9542000.0, \\\"median\\\": 12000000.0, \\\"upper quartile\\\": 15200000.0, \\\"max\\\": 22500000.0}, {\\\"x\\\": \\\"Gandipet\\\", \\\"min\\\": 4500000.0, \\\"lower quartile\\\": 7755000.0, \\\"median\\\": 11800000.0, \\\"upper quartile\\\": 13200000.0, \\\"max\\\": 15000000.0}, {\\\"x\\\": \\\"Allwyn Colony\\\", \\\"min\\\": 3900000.0, \\\"lower quartile\\\": 3900000.0, \\\"median\\\": 3900000.0, \\\"upper quartile\\\": 4850000.0, \\\"max\\\": 4850000.0}, {\\\"x\\\": \\\"Nandagiri Hills\\\", \\\"min\\\": 22100000.0, \\\"lower quartile\\\": 22100000.0, \\\"median\\\": 22100000.0, \\\"upper quartile\\\": 22100000.0, \\\"max\\\": 22100000.0}, {\\\"x\\\": \\\"Kondapur\\\", \\\"min\\\": 3900000.0, \\\"lower quartile\\\": 8095000.0, \\\"median\\\": 10500000.0, \\\"upper quartile\\\": 13500000.0, \\\"max\\\": 36000000.0}, {\\\"x\\\": \\\"Pocharam\\\", \\\"min\\\": 6600000.0, \\\"lower quartile\\\": 6600000.0, \\\"median\\\": 6600000.0, \\\"upper quartile\\\": 6600000.0, \\\"max\\\": 6600000.0}, {\\\"x\\\": \\\"Qutub Shahi Tombs\\\", \\\"min\\\": 3800000.0, \\\"lower quartile\\\": 3800000.0, \\\"median\\\": 4500000.0, \\\"upper quartile\\\": 8000000.0, \\\"max\\\": 8000000.0}, {\\\"x\\\": \\\"Boduppal\\\", \\\"min\\\": 2300000.0, \\\"lower quartile\\\": 4000000.0, \\\"median\\\": 5300000.0, \\\"upper quartile\\\": 7400000.0, \\\"max\\\": 7500000.0}, {\\\"x\\\": \\\"Tukkuguda Airport View Point Road\\\", \\\"min\\\": 2848000.0, \\\"lower quartile\\\": 2848000.0, \\\"median\\\": 2850000.0, \\\"upper quartile\\\": 2850000.0, \\\"max\\\": 2850000.0}, {\\\"x\\\": \\\"Srisailam Highway\\\", \\\"min\\\": 18000000.0, \\\"lower quartile\\\": 18000000.0, \\\"median\\\": 18000000.0, \\\"upper quartile\\\": 18000000.0, \\\"max\\\": 18000000.0}, {\\\"x\\\": \\\"Shankarpalli\\\", \\\"min\\\": 3900000.0, \\\"lower quartile\\\": 3900000.0, \\\"median\\\": 3900000.0, \\\"upper quartile\\\": 3900000.0, \\\"max\\\": 3900000.0}, {\\\"x\\\": \\\"Janachaitanya Colony\\\", \\\"min\\\": 15500000.0, \\\"lower quartile\\\": 15500000.0, \\\"median\\\": 15500000.0, \\\"upper quartile\\\": 15500000.0, \\\"max\\\": 15500000.0}, {\\\"x\\\": \\\"Krishna Reddy Pet\\\", \\\"min\\\": 2500000.0, \\\"lower quartile\\\": 3299000.0, \\\"median\\\": 3300000.0, \\\"upper quartile\\\": 3300000.0, \\\"max\\\": 3600000.0}, {\\\"x\\\": \\\"Hakimpet\\\", \\\"min\\\": 2700000.0, \\\"lower quartile\\\": 2700000.0, \\\"median\\\": 2700000.0, \\\"upper quartile\\\": 2700000.0, \\\"max\\\": 2700000.0}, {\\\"x\\\": \\\"Santoshnagar\\\", \\\"min\\\": 4700000.0, \\\"lower quartile\\\": 4700000.0, \\\"median\\\": 4700000.0, \\\"upper quartile\\\": 4700000.0, \\\"max\\\": 4700000.0}, {\\\"x\\\": \\\"Vanasthalipuram\\\", \\\"min\\\": 5560000.0, \\\"lower quartile\\\": 5560000.0, \\\"median\\\": 8426000.0, \\\"upper quartile\\\": 8426000.0, \\\"max\\\": 8426000.0}, {\\\"x\\\": \\\"Bagh Amberpet\\\", \\\"min\\\": 5000000.0, \\\"lower quartile\\\": 5000000.0, \\\"median\\\": 5500000.0, \\\"upper quartile\\\": 15000000.0, \\\"max\\\": 15000000.0}, {\\\"x\\\": \\\"Vivekananda Nagar Colony\\\", \\\"min\\\": 8700000.0, \\\"lower quartile\\\": 8700000.0, \\\"median\\\": 8700000.0, \\\"upper quartile\\\": 8700000.0, \\\"max\\\": 8700000.0}, {\\\"x\\\": \\\"Paradise Circle\\\", \\\"min\\\": 5500000.0, \\\"lower quartile\\\": 5500000.0, \\\"median\\\": 5500000.0, \\\"upper quartile\\\": 5500000.0, \\\"max\\\": 5500000.0}, {\\\"x\\\": \\\"Rhoda Mistri Nagar\\\", \\\"min\\\": 6233000.0, \\\"lower quartile\\\": 6233000.0, \\\"median\\\": 6233000.0, \\\"upper quartile\\\": 6233000.0, \\\"max\\\": 6233000.0}, {\\\"x\\\": \\\"Kapra\\\", \\\"min\\\": 2800000.0, \\\"lower quartile\\\": 3000000.0, \\\"median\\\": 3800000.0, \\\"upper quartile\\\": 6200000.0, \\\"max\\\": 9000000.0}, {\\\"x\\\": \\\"Mallapur\\\", \\\"min\\\": 3500000.0, \\\"lower quartile\\\": 4500000.0, \\\"median\\\": 6000000.0, \\\"upper quartile\\\": 6500000.0, \\\"max\\\": 8000000.0}, {\\\"x\\\": \\\"Balaji Hills Colony Venkatraya Nagar\\\", \\\"min\\\": 4600000.0, \\\"lower quartile\\\": 4600000.0, \\\"median\\\": 4600000.0, \\\"upper quartile\\\": 4600000.0, \\\"max\\\": 4600000.0}, {\\\"x\\\": \\\"Kothapet\\\", \\\"min\\\": 6000000.0, \\\"lower quartile\\\": 6000000.0, \\\"median\\\": 6000000.0, \\\"upper quartile\\\": 6000000.0, \\\"max\\\": 6000000.0}, {\\\"x\\\": \\\"Safilguda\\\", \\\"min\\\": 4000000.0, \\\"lower quartile\\\": 4000000.0, \\\"median\\\": 4000000.0, \\\"upper quartile\\\": 4000000.0, \\\"max\\\": 4000000.0}, {\\\"x\\\": \\\"Khajaguda Nanakramguda Road\\\", \\\"min\\\": 8100000.0, \\\"lower quartile\\\": 8100000.0, \\\"median\\\": 11500000.0, \\\"upper quartile\\\": 11500000.0, \\\"max\\\": 11500000.0}, {\\\"x\\\": \\\"Hastinapur\\\", \\\"min\\\": 8000000.0, \\\"lower quartile\\\": 8000000.0, \\\"median\\\": 8000000.0, \\\"upper quartile\\\": 8000000.0, \\\"max\\\": 8000000.0}, {\\\"x\\\": \\\"west venkatapuram\\\", \\\"min\\\": 5700000.0, \\\"lower quartile\\\": 5700000.0, \\\"median\\\": 5700000.0, \\\"upper quartile\\\": 5700000.0, \\\"max\\\": 5700000.0}, {\\\"x\\\": \\\"Trimalgherry\\\", \\\"min\\\": 4000000.0, \\\"lower quartile\\\": 4500000.0, \\\"median\\\": 4500000.0, \\\"upper quartile\\\": 4500000.0, \\\"max\\\": 4500000.0}, {\\\"x\\\": \\\"Aushapur\\\", \\\"min\\\": 7500000.0, \\\"lower quartile\\\": 7500000.0, \\\"median\\\": 7500000.0, \\\"upper quartile\\\": 7500000.0, \\\"max\\\": 7500000.0}, {\\\"x\\\": \\\"Balapur\\\", \\\"min\\\": 4200000.0, \\\"lower quartile\\\": 4200000.0, \\\"median\\\": 4200000.0, \\\"upper quartile\\\": 4200000.0, \\\"max\\\": 4200000.0}, {\\\"x\\\": \\\"Kavuri Hills\\\", \\\"min\\\": 26000000.0, \\\"lower quartile\\\": 26000000.0, \\\"median\\\": 26000000.0, \\\"upper quartile\\\": 26000000.0, \\\"max\\\": 26000000.0}, {\\\"x\\\": \\\"Jhangir Pet\\\", \\\"min\\\": 2014000.0, \\\"lower quartile\\\": 2014000.0, \\\"median\\\": 2014000.0, \\\"upper quartile\\\": 2014000.0, \\\"max\\\": 2014000.0}, {\\\"x\\\": \\\"Chikkadapally\\\", \\\"min\\\": 15400000.0, \\\"lower quartile\\\": 15400000.0, \\\"median\\\": 15400000.0, \\\"upper quartile\\\": 15400000.0, \\\"max\\\": 15400000.0}, {\\\"x\\\": \\\"Rakshapuram\\\", \\\"min\\\": 3500000.0, \\\"lower quartile\\\": 3500000.0, \\\"median\\\": 3500000.0, \\\"upper quartile\\\": 3500000.0, \\\"max\\\": 3500000.0}, {\\\"x\\\": \\\"LB Nagar\\\", \\\"min\\\": 3200000.0, \\\"lower quartile\\\": 4700000.0, \\\"median\\\": 5600000.0, \\\"upper quartile\\\": 5700000.0, \\\"max\\\": 29000000.0}, {\\\"x\\\": \\\"hyderabad\\\", \\\"min\\\": 5200000.0, \\\"lower quartile\\\": 5200000.0, \\\"median\\\": 5200000.0, \\\"upper quartile\\\": 5200000.0, \\\"max\\\": 5200000.0}, {\\\"x\\\": \\\"Pragathi Nagar Road\\\", \\\"min\\\": 3700000.0, \\\"lower quartile\\\": 6000000.0, \\\"median\\\": 6000000.0, \\\"upper quartile\\\": 6000000.0, \\\"max\\\": 6000000.0}, {\\\"x\\\": \\\"Kowkur\\\", \\\"min\\\": 4000000.0, \\\"lower quartile\\\": 4000000.0, \\\"median\\\": 4000000.0, \\\"upper quartile\\\": 4000000.0, \\\"max\\\": 4000000.0}, {\\\"x\\\": \\\"Neknampur\\\", \\\"min\\\": 7000000.0, \\\"lower quartile\\\": 7000000.0, \\\"median\\\": 7000000.0, \\\"upper quartile\\\": 8998000.0, \\\"max\\\": 8998000.0}, {\\\"x\\\": \\\"chandrayangutta\\\", \\\"min\\\": 5600000.0, \\\"lower quartile\\\": 5600000.0, \\\"median\\\": 5600000.0, \\\"upper quartile\\\": 5600000.0, \\\"max\\\": 5600000.0}, {\\\"x\\\": \\\"Almasguda\\\", \\\"min\\\": 4800000.0, \\\"lower quartile\\\": 4800000.0, \\\"median\\\": 4800000.0, \\\"upper quartile\\\": 4800000.0, \\\"max\\\": 4800000.0}, {\\\"x\\\": \\\"Picket\\\", \\\"min\\\": 8500000.0, \\\"lower quartile\\\": 8500000.0, \\\"median\\\": 8500000.0, \\\"upper quartile\\\": 8500000.0, \\\"max\\\": 8500000.0}, {\\\"x\\\": \\\"Khizra Enclave\\\", \\\"min\\\": 4000000.0, \\\"lower quartile\\\": 4000000.0, \\\"median\\\": 4000000.0, \\\"upper quartile\\\": 4000000.0, \\\"max\\\": 4000000.0}, {\\\"x\\\": \\\"Baghlingampally\\\", \\\"min\\\": 5500000.0, \\\"lower quartile\\\": 5500000.0, \\\"median\\\": 5500000.0, \\\"upper quartile\\\": 5500000.0, \\\"max\\\": 5500000.0}, {\\\"x\\\": \\\"Macha Bolarum\\\", \\\"min\\\": 4800000.0, \\\"lower quartile\\\": 4800000.0, \\\"median\\\": 4800000.0, \\\"upper quartile\\\": 4800000.0, \\\"max\\\": 4800000.0}, {\\\"x\\\": \\\"Tirumalgiri\\\", \\\"min\\\": 5700000.0, \\\"lower quartile\\\": 5700000.0, \\\"median\\\": 6000000.0, \\\"upper quartile\\\": 6000000.0, \\\"max\\\": 6000000.0}, {\\\"x\\\": \\\"Uppalguda\\\", \\\"min\\\": 5082000.0, \\\"lower quartile\\\": 5082000.0, \\\"median\\\": 7222000.0, \\\"upper quartile\\\": 7567000.0, \\\"max\\\": 7567000.0}, {\\\"x\\\": \\\"Old Alwal\\\", \\\"min\\\": 5500000.0, \\\"lower quartile\\\": 5500000.0, \\\"median\\\": 5500000.0, \\\"upper quartile\\\": 5500000.0, \\\"max\\\": 5500000.0}, {\\\"x\\\": \\\"Pragati Nagar\\\", \\\"min\\\": 3600000.0, \\\"lower quartile\\\": 3600000.0, \\\"median\\\": 3800000.0, \\\"upper quartile\\\": 4600000.0, \\\"max\\\": 4600000.0}, {\\\"x\\\": \\\"Narayanguda\\\", \\\"min\\\": 6500000.0, \\\"lower quartile\\\": 6500000.0, \\\"median\\\": 6500000.0, \\\"upper quartile\\\": 6500000.0, \\\"max\\\": 6500000.0}, {\\\"x\\\": \\\"Usman Nagar\\\", \\\"min\\\": 4000000.0, \\\"lower quartile\\\": 4000000.0, \\\"median\\\": 4000000.0, \\\"upper quartile\\\": 4000000.0, \\\"max\\\": 4000000.0}, {\\\"x\\\": \\\"Shamshabad\\\", \\\"min\\\": 17500000.0, \\\"lower quartile\\\": 17500000.0, \\\"median\\\": 17500000.0, \\\"upper quartile\\\": 17500000.0, \\\"max\\\": 17500000.0}, {\\\"x\\\": \\\"Aminpur\\\", \\\"min\\\": 3600000.0, \\\"lower quartile\\\": 4400000.0, \\\"median\\\": 4400000.0, \\\"upper quartile\\\": 4400000.0, \\\"max\\\": 10000000.0}, {\\\"x\\\": \\\"Nallakunta\\\", \\\"min\\\": 3000000.0, \\\"lower quartile\\\": 4000000.0, \\\"median\\\": 6250000.0, \\\"upper quartile\\\": 11200000.0, \\\"max\\\": 14600000.0}, {\\\"x\\\": \\\"Narsingi\\\", \\\"min\\\": 3650000.0, \\\"lower quartile\\\": 8100000.0, \\\"median\\\": 10400000.0, \\\"upper quartile\\\": 11100000.0, \\\"max\\\": 19600000.0}, {\\\"x\\\": \\\"Ambedkar Nagar\\\", \\\"min\\\": 3400000.0, \\\"lower quartile\\\": 3400000.0, \\\"median\\\": 3400000.0, \\\"upper quartile\\\": 3400000.0, \\\"max\\\": 3400000.0}, {\\\"x\\\": \\\"Chintradripet\\\", \\\"min\\\": 3800000.0, \\\"lower quartile\\\": 3800000.0, \\\"median\\\": 3800000.0, \\\"upper quartile\\\": 3800000.0, \\\"max\\\": 3800000.0}, {\\\"x\\\": \\\"Dr A S Rao Nagar Rd\\\", \\\"min\\\": 4800000.0, \\\"lower quartile\\\": 4800000.0, \\\"median\\\": 4800000.0, \\\"upper quartile\\\": 4800000.0, \\\"max\\\": 4800000.0}, {\\\"x\\\": \\\"Moti Nagar\\\", \\\"min\\\": 9800000.0, \\\"lower quartile\\\": 9800000.0, \\\"median\\\": 9800000.0, \\\"upper quartile\\\": 9800000.0, \\\"max\\\": 9800000.0}, {\\\"x\\\": \\\"Kukatpally\\\", \\\"min\\\": 2000000.0, \\\"lower quartile\\\": 7317000.0, \\\"median\\\": 9500000.0, \\\"upper quartile\\\": 11200000.0, \\\"max\\\": 80000000.0}, {\\\"x\\\": \\\"Moula Ali\\\", \\\"min\\\": 2200000.0, \\\"lower quartile\\\": 2310000.0, \\\"median\\\": 4800000.0, \\\"upper quartile\\\": 4940000.0, \\\"max\\\": 5187000.0}, {\\\"x\\\": \\\"Matrusri Nagar\\\", \\\"min\\\": 6786000.0, \\\"lower quartile\\\": 6786000.0, \\\"median\\\": 6786000.0, \\\"upper quartile\\\": 6786000.0, \\\"max\\\": 6786000.0}, {\\\"x\\\": \\\"ECIL\\\", \\\"min\\\": 4640000.0, \\\"lower quartile\\\": 4872000.0, \\\"median\\\": 6006000.0, \\\"upper quartile\\\": 6340000.0, \\\"max\\\": 7280000.0}, {\\\"x\\\": \\\"AS Rao Nagar\\\", \\\"min\\\": 2500000.0, \\\"lower quartile\\\": 2500000.0, \\\"median\\\": 5700000.0, \\\"upper quartile\\\": 6000000.0, \\\"max\\\": 6999000.0}, {\\\"x\\\": \\\"Madhura Nagar\\\", \\\"min\\\": 4200000.0, \\\"lower quartile\\\": 4200000.0, \\\"median\\\": 4200000.0, \\\"upper quartile\\\": 4200000.0, \\\"max\\\": 4200000.0}, {\\\"x\\\": \\\"Mettuguda\\\", \\\"min\\\": 5400000.0, \\\"lower quartile\\\": 5400000.0, \\\"median\\\": 5400000.0, \\\"upper quartile\\\": 5400000.0, \\\"max\\\": 5400000.0}, {\\\"x\\\": \\\"Bandlaguda Jagir\\\", \\\"min\\\": 3000000.0, \\\"lower quartile\\\": 4800000.0, \\\"median\\\": 7900000.0, \\\"upper quartile\\\": 12300000.0, \\\"max\\\": 13700000.0}, {\\\"x\\\": \\\"Paramount Colony Toli Chowki\\\", \\\"min\\\": 3300000.0, \\\"lower quartile\\\": 3300000.0, \\\"median\\\": 3300000.0, \\\"upper quartile\\\": 3300000.0, \\\"max\\\": 3300000.0}, {\\\"x\\\": \\\"Amberpet\\\", \\\"min\\\": 2400000.0, \\\"lower quartile\\\": 2400000.0, \\\"median\\\": 7000000.0, \\\"upper quartile\\\": 7700000.0, \\\"max\\\": 7700000.0}, {\\\"x\\\": \\\"Balanagar\\\", \\\"min\\\": 3900000.0, \\\"lower quartile\\\": 6600000.0, \\\"median\\\": 7550000.0, \\\"upper quartile\\\": 8325000.0, \\\"max\\\": 10500000.0}, {\\\"x\\\": \\\"Bollaram\\\", \\\"min\\\": 3300000.0, \\\"lower quartile\\\": 3300000.0, \\\"median\\\": 4900000.0, \\\"upper quartile\\\": 4900000.0, \\\"max\\\": 4900000.0}, {\\\"x\\\": \\\"Appa Junction Peerancheru\\\", \\\"min\\\": 5782000.0, \\\"lower quartile\\\": 7359000.0, \\\"median\\\": 8364000.0, \\\"upper quartile\\\": 9633000.0, \\\"max\\\": 11000000.0}, {\\\"x\\\": \\\"Nizampet\\\", \\\"min\\\": 3200000.0, \\\"lower quartile\\\": 3800000.0, \\\"median\\\": 4760000.0, \\\"upper quartile\\\": 5100000.0, \\\"max\\\": 9334000.0}, {\\\"x\\\": \\\"Serilingampally\\\", \\\"min\\\": 5600000.0, \\\"lower quartile\\\": 8150000.0, \\\"median\\\": 8200000.0, \\\"upper quartile\\\": 8200000.0, \\\"max\\\": 18400000.0}, {\\\"x\\\": \\\"Vidyanagar Adikmet\\\", \\\"min\\\": 14000000.0, \\\"lower quartile\\\": 14000000.0, \\\"median\\\": 14000000.0, \\\"upper quartile\\\": 14000000.0, \\\"max\\\": 14000000.0}, {\\\"x\\\": \\\"Miyapur\\\", \\\"min\\\": 3000000.0, \\\"lower quartile\\\": 5250000.0, \\\"median\\\": 8692000.0, \\\"upper quartile\\\": 10700000.0, \\\"max\\\": 18000000.0}, {\\\"x\\\": \\\"Boiguda\\\", \\\"min\\\": 59600000.0, \\\"lower quartile\\\": 59600000.0, \\\"median\\\": 59600000.0, \\\"upper quartile\\\": 59600000.0, \\\"max\\\": 59600000.0}, {\\\"x\\\": \\\"Madhapur\\\", \\\"min\\\": 3690000.0, \\\"lower quartile\\\": 12500000.0, \\\"median\\\": 27000000.0, \\\"upper quartile\\\": 34000000.0, \\\"max\\\": 43500000.0}, {\\\"x\\\": \\\"Ashok Nagar\\\", \\\"min\\\": 5500000.0, \\\"lower quartile\\\": 9000000.0, \\\"median\\\": 12000000.0, \\\"upper quartile\\\": 13300000.0, \\\"max\\\": 20000000.0}, {\\\"x\\\": \\\"BK Guda Road\\\", \\\"min\\\": 2700000.0, \\\"lower quartile\\\": 2700000.0, \\\"median\\\": 4200000.0, \\\"upper quartile\\\": 17000000.0, \\\"max\\\": 17000000.0}, {\\\"x\\\": \\\"Neredmet\\\", \\\"min\\\": 3500000.0, \\\"lower quartile\\\": 3500000.0, \\\"median\\\": 3500000.0, \\\"upper quartile\\\": 3500000.0, \\\"max\\\": 3500000.0}, {\\\"x\\\": \\\"Sanath Nagar\\\", \\\"min\\\": 2800000.0, \\\"lower quartile\\\": 10400000.0, \\\"median\\\": 13500000.0, \\\"upper quartile\\\": 14500000.0, \\\"max\\\": 16900000.0}, {\\\"x\\\": \\\"Sangeet Nagar\\\", \\\"min\\\": 5999000.0, \\\"lower quartile\\\": 5999000.0, \\\"median\\\": 5999000.0, \\\"upper quartile\\\": 5999000.0, \\\"max\\\": 5999000.0}, {\\\"x\\\": \\\"Tolichowki\\\", \\\"min\\\": 7065000.0, \\\"lower quartile\\\": 7065000.0, \\\"median\\\": 7065000.0, \\\"upper quartile\\\": 7065000.0, \\\"max\\\": 7065000.0}, {\\\"x\\\": \\\"Begumpet\\\", \\\"min\\\": 4500000.0, \\\"lower quartile\\\": 6050000.0, \\\"median\\\": 11000000.0, \\\"upper quartile\\\": 12400000.0, \\\"max\\\": 12400000.0}, {\\\"x\\\": \\\"Habsiguda\\\", \\\"min\\\": 4000000.0, \\\"lower quartile\\\": 7500000.0, \\\"median\\\": 9800000.0, \\\"upper quartile\\\": 13500000.0, \\\"max\\\": 13500000.0}, {\\\"x\\\": \\\"Banjara Hills\\\", \\\"min\\\": 8500000.0, \\\"lower quartile\\\": 19400000.0, \\\"median\\\": 30000000.0, \\\"upper quartile\\\": 36700000.0, \\\"max\\\": 61400000.0}, {\\\"x\\\": \\\"Uppal\\\", \\\"min\\\": 2700000.0, \\\"lower quartile\\\": 3500000.0, \\\"median\\\": 4216000.0, \\\"upper quartile\\\": 5500000.0, \\\"max\\\": 7912000.0}, {\\\"x\\\": \\\"Cherlapalli\\\", \\\"min\\\": 6300000.0, \\\"lower quartile\\\": 6300000.0, \\\"median\\\": 6300000.0, \\\"upper quartile\\\": 6300000.0, \\\"max\\\": 6300000.0}, {\\\"x\\\": \\\"Happy Homes Colony\\\", \\\"min\\\": 6000000.0, \\\"lower quartile\\\": 6000000.0, \\\"median\\\": 6000000.0, \\\"upper quartile\\\": 6000000.0, \\\"max\\\": 6000000.0}, {\\\"x\\\": \\\"ECIL Main Road\\\", \\\"min\\\": 2200000.0, \\\"lower quartile\\\": 4640000.0, \\\"median\\\": 5100000.0, \\\"upper quartile\\\": 5720000.0, \\\"max\\\": 6340000.0}, {\\\"x\\\": \\\"Gopal Nagar\\\", \\\"min\\\": 6000000.0, \\\"lower quartile\\\": 6000000.0, \\\"median\\\": 6000000.0, \\\"upper quartile\\\": 6000000.0, \\\"max\\\": 6000000.0}, {\\\"x\\\": \\\"Murad Nagar\\\", \\\"min\\\": 4200000.0, \\\"lower quartile\\\": 4200000.0, \\\"median\\\": 4200000.0, \\\"upper quartile\\\": 4200000.0, \\\"max\\\": 4200000.0}, {\\\"x\\\": \\\"KTR Colony\\\", \\\"min\\\": 2700000.0, \\\"lower quartile\\\": 2700000.0, \\\"median\\\": 2700000.0, \\\"upper quartile\\\": 2700000.0, \\\"max\\\": 2700000.0}, {\\\"x\\\": \\\"Pragathi Nagar Kukatpally\\\", \\\"min\\\": 2200000.0, \\\"lower quartile\\\": 6000000.0, \\\"median\\\": 6800000.0, \\\"upper quartile\\\": 6800000.0, \\\"max\\\": 6900000.0}, {\\\"x\\\": \\\"Mansoorabad\\\", \\\"min\\\": 8000000.0, \\\"lower quartile\\\": 8000000.0, \\\"median\\\": 8000000.0, \\\"upper quartile\\\": 8000000.0, \\\"max\\\": 8000000.0}, {\\\"x\\\": \\\"Nanakramguda\\\", \\\"min\\\": 3200000.0, \\\"lower quartile\\\": 9782000.0, \\\"median\\\": 14400000.0, \\\"upper quartile\\\": 16800000.0, \\\"max\\\": 60000000.0}, {\\\"x\\\": \\\"Jubilee Hills\\\", \\\"min\\\": 7500000.0, \\\"lower quartile\\\": 12500000.0, \\\"median\\\": 23000000.0, \\\"upper quartile\\\": 40000000.0, \\\"max\\\": 62300000.0}, {\\\"x\\\": \\\"Puppalaguda\\\", \\\"min\\\": 3500000.0, \\\"lower quartile\\\": 6342000.0, \\\"median\\\": 7100000.0, \\\"upper quartile\\\": 8421000.0, \\\"max\\\": 10000000.0}, {\\\"x\\\": \\\"Kokapeta Village\\\", \\\"min\\\": 13400000.0, \\\"lower quartile\\\": 13400000.0, \\\"median\\\": 13400000.0, \\\"upper quartile\\\": 13400000.0, \\\"max\\\": 13400000.0}, {\\\"x\\\": \\\"Darga Khaliz Khan\\\", \\\"min\\\": 7999000.0, \\\"lower quartile\\\": 8000000.0, \\\"median\\\": 8000000.0, \\\"upper quartile\\\": 9000000.0, \\\"max\\\": 9300000.0}, {\\\"x\\\": \\\"Manikonda\\\", \\\"min\\\": 3000000.0, \\\"lower quartile\\\": 6125000.0, \\\"median\\\": 7358000.0, \\\"upper quartile\\\": 9325000.0, \\\"max\\\": 45000000.0}, {\\\"x\\\": \\\"ECIL Cross Road\\\", \\\"min\\\": 2200000.0, \\\"lower quartile\\\": 4660000.0, \\\"median\\\": 6340000.0, \\\"upper quartile\\\": 7280000.0, \\\"max\\\": 7280000.0}, {\\\"x\\\": \\\"D D Colony\\\", \\\"min\\\": 6300000.0, \\\"lower quartile\\\": 6300000.0, \\\"median\\\": 6300000.0, \\\"upper quartile\\\": 6300000.0, \\\"max\\\": 6300000.0}, {\\\"x\\\": \\\"Miyapur HMT Swarnapuri Colony\\\", \\\"min\\\": 2500000.0, \\\"lower quartile\\\": 2500000.0, \\\"median\\\": 2500000.0, \\\"upper quartile\\\": 2500000.0, \\\"max\\\": 2500000.0}, {\\\"x\\\": \\\"Hydershakote\\\", \\\"min\\\": 5800000.0, \\\"lower quartile\\\": 5800000.0, \\\"median\\\": 5800000.0, \\\"upper quartile\\\": 5800000.0, \\\"max\\\": 5800000.0}, {\\\"x\\\": \\\"Kondakal\\\", \\\"min\\\": 7500000.0, \\\"lower quartile\\\": 7500000.0, \\\"median\\\": 7500000.0, \\\"upper quartile\\\": 7500000.0, \\\"max\\\": 7500000.0}, {\\\"x\\\": \\\"KPHB\\\", \\\"min\\\": 3900000.0, \\\"lower quartile\\\": 3900000.0, \\\"median\\\": 3900000.0, \\\"upper quartile\\\": 6500000.0, \\\"max\\\": 8300000.0}, {\\\"x\\\": \\\"Bachupally\\\", \\\"min\\\": 2999000.0, \\\"lower quartile\\\": 4400000.0, \\\"median\\\": 4836000.0, \\\"upper quartile\\\": 6500000.0, \\\"max\\\": 18500000.0}, {\\\"x\\\": \\\"Venkat Nagar Colony\\\", \\\"min\\\": 10800000.0, \\\"lower quartile\\\": 10800000.0, \\\"median\\\": 10800000.0, \\\"upper quartile\\\": 10800000.0, \\\"max\\\": 10800000.0}, {\\\"x\\\": \\\"Masab Tank\\\", \\\"min\\\": 4299000.0, \\\"lower quartile\\\": 4500000.0, \\\"median\\\": 6400000.0, \\\"upper quartile\\\": 22000000.0, \\\"max\\\": 22000000.0}, {\\\"x\\\": \\\"Tellapur\\\", \\\"min\\\": 6200000.0, \\\"lower quartile\\\": 8800000.0, \\\"median\\\": 9900000.0, \\\"upper quartile\\\": 10300000.0, \\\"max\\\": 13700000.0}, {\\\"x\\\": \\\"Meerpet\\\", \\\"min\\\": 3200000.0, \\\"lower quartile\\\": 3200000.0, \\\"median\\\": 3200000.0, \\\"upper quartile\\\": 3200000.0, \\\"max\\\": 3200000.0}, {\\\"x\\\": \\\"Kachiguda\\\", \\\"min\\\": 3800000.0, \\\"lower quartile\\\": 3800000.0, \\\"median\\\": 3800000.0, \\\"upper quartile\\\": 10000000.0, \\\"max\\\": 20500000.0}, {\\\"x\\\": \\\"Gajulramaram Kukatpally\\\", \\\"min\\\": 2962000.0, \\\"lower quartile\\\": 3936000.0, \\\"median\\\": 6838000.0, \\\"upper quartile\\\": 8800000.0, \\\"max\\\": 9351000.0}, {\\\"x\\\": \\\"Shadnagar\\\", \\\"min\\\": 3800000.0, \\\"lower quartile\\\": 3800000.0, \\\"median\\\": 3900000.0, \\\"upper quartile\\\": 4000000.0, \\\"max\\\": 4000000.0}, {\\\"x\\\": \\\"West Marredpally\\\", \\\"min\\\": 2500000.0, \\\"lower quartile\\\": 8000000.0, \\\"median\\\": 12500000.0, \\\"upper quartile\\\": 19500000.0, \\\"max\\\": 25000000.0}, {\\\"x\\\": \\\"Himayat Nagar\\\", \\\"min\\\": 5760000.0, \\\"lower quartile\\\": 9057000.0, \\\"median\\\": 12000000.0, \\\"upper quartile\\\": 12500000.0, \\\"max\\\": 13500000.0}, {\\\"x\\\": \\\"Mehdipatnam\\\", \\\"min\\\": 3570000.0, \\\"lower quartile\\\": 4100000.0, \\\"median\\\": 4900000.0, \\\"upper quartile\\\": 6300000.0, \\\"max\\\": 7200000.0}, {\\\"x\\\": \\\"Kompally\\\", \\\"min\\\": 3900000.0, \\\"lower quartile\\\": 4900000.0, \\\"median\\\": 5800000.0, \\\"upper quartile\\\": 8235000.0, \\\"max\\\": 10500000.0}, {\\\"x\\\": \\\"Suchitra\\\", \\\"min\\\": 4400000.0, \\\"lower quartile\\\": 4900000.0, \\\"median\\\": 5652000.0, \\\"upper quartile\\\": 6363000.0, \\\"max\\\": 6363000.0}, {\\\"x\\\": \\\"Bolarum\\\", \\\"min\\\": 3578000.0, \\\"lower quartile\\\": 4010000.0, \\\"median\\\": 5050000.0, \\\"upper quartile\\\": 5587000.0, \\\"max\\\": 12000000.0}, {\\\"x\\\": \\\"Miyapur Bachupally Road\\\", \\\"min\\\": 4800000.0, \\\"lower quartile\\\": 4800000.0, \\\"median\\\": 7200000.0, \\\"upper quartile\\\": 7200000.0, \\\"max\\\": 7200000.0}, {\\\"x\\\": \\\"Sri Nagar Colony\\\", \\\"min\\\": 7800000.0, \\\"lower quartile\\\": 8600000.0, \\\"median\\\": 12500000.0, \\\"upper quartile\\\": 39400000.0, \\\"max\\\": 43000000.0}, {\\\"x\\\": \\\"Somajiguda\\\", \\\"min\\\": 9800000.0, \\\"lower quartile\\\": 12000000.0, \\\"median\\\": 27100000.0, \\\"upper quartile\\\": 29000000.0, \\\"max\\\": 55000000.0}, {\\\"x\\\": \\\"Chandanagar\\\", \\\"min\\\": 3900000.0, \\\"lower quartile\\\": 6165000.0, \\\"median\\\": 8014000.0, \\\"upper quartile\\\": 8797000.0, \\\"max\\\": 32000000.0}, {\\\"x\\\": \\\"Nallagandla Gachibowli\\\", \\\"min\\\": 4500000.0, \\\"lower quartile\\\": 7272000.0, \\\"median\\\": 8811000.0, \\\"upper quartile\\\": 10600000.0, \\\"max\\\": 17000000.0}, {\\\"x\\\": \\\"Quthbullapur\\\", \\\"min\\\": 5900000.0, \\\"lower quartile\\\": 5900000.0, \\\"median\\\": 5900000.0, \\\"upper quartile\\\": 5900000.0, \\\"max\\\": 5900000.0}, {\\\"x\\\": \\\"Chintalmet\\\", \\\"min\\\": 3850000.0, \\\"lower quartile\\\": 3850000.0, \\\"median\\\": 3850000.0, \\\"upper quartile\\\": 3850000.0, \\\"max\\\": 3850000.0}, {\\\"x\\\": \\\"Hitex Road\\\", \\\"min\\\": 8000000.0, \\\"lower quartile\\\": 8000000.0, \\\"median\\\": 8000000.0, \\\"upper quartile\\\": 8000000.0, \\\"max\\\": 8000000.0}, {\\\"x\\\": \\\"Kistareddypet\\\", \\\"min\\\": 3999000.0, \\\"lower quartile\\\": 3999000.0, \\\"median\\\": 4000000.0, \\\"upper quartile\\\": 4000000.0, \\\"max\\\": 4000000.0}, {\\\"x\\\": \\\"Dammaiguda\\\", \\\"min\\\": 3200000.0, \\\"lower quartile\\\": 3500000.0, \\\"median\\\": 4600000.0, \\\"upper quartile\\\": 5200000.0, \\\"max\\\": 5200000.0}, {\\\"x\\\": \\\"Sainikpuri\\\", \\\"min\\\": 3499000.0, \\\"lower quartile\\\": 5000000.0, \\\"median\\\": 6399000.0, \\\"upper quartile\\\": 6700000.0, \\\"max\\\": 9900000.0}, {\\\"x\\\": \\\"Dullapally\\\", \\\"min\\\": 3675000.0, \\\"lower quartile\\\": 3675000.0, \\\"median\\\": 3675000.0, \\\"upper quartile\\\": 3675000.0, \\\"max\\\": 3675000.0}, {\\\"x\\\": \\\"Ameerpet\\\", \\\"min\\\": 8000000.0, \\\"lower quartile\\\": 8000000.0, \\\"median\\\": 8000000.0, \\\"upper quartile\\\": 8000000.0, \\\"max\\\": 8000000.0}, {\\\"x\\\": \\\"Nallagandla Road\\\", \\\"min\\\": 6500000.0, \\\"lower quartile\\\": 6500000.0, \\\"median\\\": 6500000.0, \\\"upper quartile\\\": 6500000.0, \\\"max\\\": 6500000.0}, {\\\"x\\\": \\\"Shaikpet\\\", \\\"min\\\": 3400000.0, \\\"lower quartile\\\": 12000000.0, \\\"median\\\": 14500000.0, \\\"upper quartile\\\": 16000000.0, \\\"max\\\": 35000000.0}, {\\\"x\\\": \\\"Chinthal Basthi\\\", \\\"min\\\": 4700000.0, \\\"lower quartile\\\": 4700000.0, \\\"median\\\": 4700000.0, \\\"upper quartile\\\": 4700000.0, \\\"max\\\": 4700000.0}, {\\\"x\\\": \\\"Methodist Colony\\\", \\\"min\\\": 3500000.0, \\\"lower quartile\\\": 3500000.0, \\\"median\\\": 3500000.0, \\\"upper quartile\\\": 3500000.0, \\\"max\\\": 3500000.0}, {\\\"x\\\": \\\"Padma Colony\\\", \\\"min\\\": 6500000.0, \\\"lower quartile\\\": 6500000.0, \\\"median\\\": 6500000.0, \\\"upper quartile\\\": 6500000.0, \\\"max\\\": 6500000.0}, {\\\"x\\\": \\\"BK Guda Internal Road\\\", \\\"min\\\": 2700000.0, \\\"lower quartile\\\": 2700000.0, \\\"median\\\": 2850000.0, \\\"upper quartile\\\": 5200000.0, \\\"max\\\": 5200000.0}, {\\\"x\\\": \\\"Gachibowli\\\", \\\"min\\\": 3148000.0, \\\"lower quartile\\\": 8000000.0, \\\"median\\\": 12600000.0, \\\"upper quartile\\\": 27000000.0, \\\"max\\\": 165000000.0}, {\\\"x\\\": \\\"Adda Gutta\\\", \\\"min\\\": 40000000.0, \\\"lower quartile\\\": 40000000.0, \\\"median\\\": 40000000.0, \\\"upper quartile\\\": 40000000.0, \\\"max\\\": 40000000.0}, {\\\"x\\\": \\\"Padmarao Nagar\\\", \\\"min\\\": 2800000.0, \\\"lower quartile\\\": 2800000.0, \\\"median\\\": 5500000.0, \\\"upper quartile\\\": 22500000.0, \\\"max\\\": 22500000.0}, {\\\"x\\\": \\\"Film Nagar\\\", \\\"min\\\": 28700000.0, \\\"lower quartile\\\": 28700000.0, \\\"median\\\": 46000000.0, \\\"upper quartile\\\": 46000000.0, \\\"max\\\": 46000000.0}, {\\\"x\\\": \\\"Old Nallakunta\\\", \\\"min\\\": 2300000.0, \\\"lower quartile\\\": 2300000.0, \\\"median\\\": 2300000.0, \\\"upper quartile\\\": 2300000.0, \\\"max\\\": 2300000.0}, {\\\"x\\\": \\\"Madinaguda\\\", \\\"min\\\": 3450000.0, \\\"lower quartile\\\": 5300000.0, \\\"median\\\": 5500000.0, \\\"upper quartile\\\": 7000000.0, \\\"max\\\": 7028000.0}, {\\\"x\\\": \\\"Ghansi Bazaar\\\", \\\"min\\\": 3500000.0, \\\"lower quartile\\\": 3500000.0, \\\"median\\\": 3500000.0, \\\"upper quartile\\\": 3500000.0, \\\"max\\\": 3500000.0}, {\\\"x\\\": \\\"TellapurOsman Nagar Road\\\", \\\"min\\\": 10200000.0, \\\"lower quartile\\\": 10500000.0, \\\"median\\\": 10500000.0, \\\"upper quartile\\\": 11300000.0, \\\"max\\\": 11300000.0}, {\\\"x\\\": \\\"Medchal\\\", \\\"min\\\": 3700000.0, \\\"lower quartile\\\": 3700000.0, \\\"median\\\": 4008000.0, \\\"upper quartile\\\": 4100000.0, \\\"max\\\": 4100000.0}, {\\\"x\\\": \\\"Yapral\\\", \\\"min\\\": 4070000.0, \\\"lower quartile\\\": 4070000.0, \\\"median\\\": 4810000.0, \\\"upper quartile\\\": 6200000.0, \\\"max\\\": 10400000.0}, {\\\"x\\\": \\\"Dilsukh Nagar\\\", \\\"min\\\": 9991000.0, \\\"lower quartile\\\": 9991000.0, \\\"median\\\": 20000000.0, \\\"upper quartile\\\": 20000000.0, \\\"max\\\": 20000000.0}, {\\\"x\\\": \\\"muthangi\\\", \\\"min\\\": 3250000.0, \\\"lower quartile\\\": 3250000.0, \\\"median\\\": 3600000.0, \\\"upper quartile\\\": 3600000.0, \\\"max\\\": 3600000.0}, {\\\"x\\\": \\\"Lingampalli\\\", \\\"min\\\": 3900000.0, \\\"lower quartile\\\": 3900000.0, \\\"median\\\": 3900000.0, \\\"upper quartile\\\": 3900000.0, \\\"max\\\": 3900000.0}, {\\\"x\\\": \\\"Karmanghat\\\", \\\"min\\\": 4000000.0, \\\"lower quartile\\\": 4000000.0, \\\"median\\\": 6000000.0, \\\"upper quartile\\\": 15000000.0, \\\"max\\\": 15000000.0}]}], \\\"signals\\\": [{\\\"name\\\": \\\"x_step\\\", \\\"value\\\": 42}, {\\\"name\\\": \\\"width\\\", \\\"update\\\": \\\"max(720, 100 + bandspace(domain(&apos;x&apos;).length, 0.1, 0.1) * x_step)\\\"}], \\\"marks\\\": [{\\\"name\\\": \\\"layer_0_marks\\\", \\\"type\\\": \\\"rule\\\", \\\"style\\\": [\\\"boxWhisker\\\"], \\\"from\\\": {\\\"data\\\": \\\"source_2\\\"}, \\\"encode\\\": {\\\"update\\\": {\\\"x\\\": {\\\"scale\\\": \\\"x\\\", \\\"field\\\": \\\"x\\\", \\\"band\\\": 0.5}, \\\"y\\\": {\\\"scale\\\": \\\"y\\\", \\\"field\\\": \\\"min\\\"}, \\\"y2\\\": {\\\"scale\\\": \\\"y\\\", \\\"field\\\": \\\"lower quartile\\\"}, \\\"stroke\\\": {\\\"value\\\": \\\"black\\\"}}}}, {\\\"name\\\": \\\"layer_1_marks\\\", \\\"type\\\": \\\"rule\\\", \\\"style\\\": [\\\"boxWhisker\\\"], \\\"from\\\": {\\\"data\\\": \\\"source_2\\\"}, \\\"encode\\\": {\\\"update\\\": {\\\"x\\\": {\\\"scale\\\": \\\"x\\\", \\\"field\\\": \\\"x\\\", \\\"band\\\": 0.5}, \\\"y\\\": {\\\"scale\\\": \\\"y\\\", \\\"field\\\": \\\"upper quartile\\\"}, \\\"y2\\\": {\\\"scale\\\": \\\"y\\\", \\\"field\\\": \\\"max\\\"}, \\\"stroke\\\": {\\\"value\\\": \\\"black\\\"}}}}, {\\\"name\\\": \\\"layer_2_marks\\\", \\\"type\\\": \\\"rect\\\", \\\"style\\\": [\\\"box\\\"], \\\"from\\\": {\\\"data\\\": \\\"source_2\\\"}, \\\"encode\\\": {\\\"hover\\\": {\\\"fill\\\": {\\\"value\\\": \\\"#7EC2F3\\\"}}, \\\"update\\\": {\\\"xc\\\": {\\\"scale\\\": \\\"x\\\", \\\"field\\\": \\\"x\\\", \\\"band\\\": 0.5}, \\\"width\\\": {\\\"value\\\": 20}, \\\"y\\\": {\\\"scale\\\": \\\"y\\\", \\\"field\\\": \\\"lower quartile\\\"}, \\\"y2\\\": {\\\"scale\\\": \\\"y\\\", \\\"field\\\": \\\"upper quartile\\\"}, \\\"fill\\\": {\\\"value\\\": \\\"#108EE9\\\"}}}}, {\\\"name\\\": \\\"layer_3_marks\\\", \\\"type\\\": \\\"rect\\\", \\\"style\\\": [\\\"boxMid\\\"], \\\"from\\\": {\\\"data\\\": \\\"source_2\\\"}, \\\"encode\\\": {\\\"update\\\": {\\\"xc\\\": {\\\"scale\\\": \\\"x\\\", \\\"field\\\": \\\"x\\\", \\\"band\\\": 0.5}, \\\"yc\\\": {\\\"scale\\\": \\\"y\\\", \\\"field\\\": \\\"median\\\"}, \\\"width\\\": {\\\"value\\\": 20}, \\\"height\\\": {\\\"value\\\": 1}, \\\"fill\\\": {\\\"value\\\": \\\"black\\\"}, \\\"opacity\\\": {\\\"value\\\": 0.7}}}}], \\\"scales\\\": [{\\\"name\\\": \\\"x\\\", \\\"type\\\": \\\"band\\\", \\\"domain\\\": {\\\"fields\\\": [{\\\"data\\\": \\\"source_2\\\", \\\"field\\\": \\\"x\\\"}]}, \\\"range\\\": {\\\"step\\\": {\\\"signal\\\": \\\"x_step\\\"}}, \\\"paddingInner\\\": 0.1, \\\"paddingOuter\\\": 0.05}, {\\\"name\\\": \\\"y\\\", \\\"type\\\": \\\"linear\\\", \\\"domain\\\": {\\\"fields\\\": [{\\\"data\\\": \\\"source_2\\\", \\\"field\\\": \\\"min\\\"}, {\\\"data\\\": \\\"source_2\\\", \\\"field\\\": \\\"lower quartile\\\"}, {\\\"data\\\": \\\"source_2\\\", \\\"field\\\": \\\"upper quartile\\\"}, {\\\"data\\\": \\\"source_2\\\", \\\"field\\\": \\\"max\\\"}, {\\\"data\\\": \\\"source_2\\\", \\\"field\\\": \\\"lower quartile\\\"}, {\\\"data\\\": \\\"source_2\\\", \\\"field\\\": \\\"upper quartile\\\"}, {\\\"data\\\": \\\"source_2\\\", \\\"field\\\": \\\"median\\\"}], \\\"sort\\\": true}, \\\"range\\\": [{\\\"signal\\\": \\\"height\\\"}, 0], \\\"nice\\\": true, \\\"zero\\\": true}], \\\"axes\\\": [{\\\"scale\\\": \\\"x\\\", \\\"labelOverlap\\\": true, \\\"orient\\\": \\\"bottom\\\", \\\"title\\\": \\\"Location\\\", \\\"zindex\\\": 1, \\\"encode\\\": {\\\"labels\\\": {\\\"update\\\": {\\\"angle\\\": {\\\"value\\\": 270}, \\\"align\\\": {\\\"value\\\": \\\"right\\\"}, \\\"baseline\\\": {\\\"value\\\": \\\"middle\\\"}}}}}, {\\\"title\\\": \\\"Price\\\", \\\"scale\\\": \\\"y\\\", \\\"labelOverlap\\\": true, \\\"orient\\\": \\\"left\\\", \\\"tickCount\\\": {\\\"signal\\\": \\\"ceil(height/40)\\\"}, \\\"zindex\\\": 1}, {\\\"scale\\\": \\\"y\\\", \\\"domain\\\": false, \\\"grid\\\": true, \\\"labels\\\": false, \\\"maxExtent\\\": 0, \\\"minExtent\\\": 0, \\\"orient\\\": \\\"left\\\", \\\"tickCount\\\": {\\\"signal\\\": \\\"ceil(height/40)\\\"}, \\\"ticks\\\": false, \\\"zindex\\\": 0, \\\"gridScale\\\": \\\"x\\\"}], \\\"config\\\": {\\\"axis\\\": {\\\"gridColor\\\": \\\"rgba(204,204,204,1.0)\\\", \\\"labelFont\\\": \\\"\\\\\\\"San Francisco\\\\\\\", HelveticaNeue, Arial\\\", \\\"labelFontSize\\\": 12, \\\"labelPadding\\\": 10, \\\"labelColor\\\": \\\"rgba(0,0,0,0.847)\\\", \\\"tickColor\\\": \\\"rgb(136,136,136)\\\", \\\"titleFont\\\": \\\"\\\\\\\"San Francisco\\\\\\\", HelveticaNeue, Arial\\\", \\\"titleFontWeight\\\": \\\"normal\\\", \\\"titlePadding\\\": 20, \\\"titleFontSize\\\": 14, \\\"titleColor\\\": \\\"rgba(0,0,0,0.847)\\\"}, \\\"axisY\\\": {\\\"minExtent\\\": 30}, \\\"legend\\\": {\\\"labelFont\\\": \\\"\\\\\\\"San Francisco\\\\\\\", HelveticaNeue, Arial\\\", \\\"labelColor\\\": \\\"rgba(0,0,0,0.847)\\\", \\\"titleFont\\\": \\\"\\\\\\\"San Francisco\\\\\\\", HelveticaNeue, Arial\\\", \\\"cornerRadius\\\": 30, \\\"gradientLength\\\": 608, \\\"titleColor\\\": \\\"rgba(0,0,0,0.847)\\\"}, \\\"range\\\": {\\\"heatmap\\\": {\\\"scheme\\\": \\\"greenblue\\\"}}, \\\"style\\\": {\\\"rect\\\": {\\\"stroke\\\": \\\"rgba(200, 200, 200, 0.5)\\\"}, \\\"cell\\\": {\\\"stroke\\\": \\\"transparent\\\"}, \\\"group-title\\\": {\\\"fontSize\\\": 29, \\\"font\\\": \\\"HelveticaNeue, Arial\\\", \\\"fontWeight\\\": \\\"normal\\\", \\\"fill\\\": \\\"rgba(0,0,0,0.65)\\\"}}, \\\"title\\\": {\\\"color\\\": \\\"rgba(0,0,0,0.847)\\\", \\\"font\\\": \\\"\\\\\\\"San Francisco\\\\\\\", HelveticaNeue, Arial\\\", \\\"fontSize\\\": 18, \\\"fontWeight\\\": \\\"normal\\\", \\\"offset\\\": 30}}}\";                                 var vega_json_parsed = JSON.parse(vega_json);                                 var toolTipOpts = {                                     showAllFields: true                                 };                                 if(vega_json_parsed[\"metadata\"] != null){                                     if(vega_json_parsed[\"metadata\"][\"bubbleOpts\"] != null){                                         toolTipOpts = vega_json_parsed[\"metadata\"][\"bubbleOpts\"];                                     };                                 };                                 vegaEmbed(\"#vis\", vega_json_parsed).then(function (result) {                                     vegaTooltip.vega(result.view, toolTipOpts);                                  });                             </script>                         </body>                     </html>' src=\"demo_iframe_srcdoc.htm\">                         <p>Your browser does not support iframes.</p>                     </iframe>                 </body>             </html>"
      ],
      "text/plain": [
       "<IPython.core.display.HTML object>"
      ]
     },
     "metadata": {},
     "output_type": "display_data"
    },
    {
     "data": {
      "text/plain": [
       "<turicreate.visualization._plot.Plot at 0x7faedef96340>"
      ]
     },
     "execution_count": 37,
     "metadata": {},
     "output_type": "execute_result"
    }
   ],
   "source": [
    "# 区域与价格\n",
    "tc.visualization.box_plot(data['Location'], data['Price'],'Location','Price','Location-Price')"
   ]
  },
  {
   "cell_type": "code",
   "execution_count": 17,
   "id": "10ccba01",
   "metadata": {},
   "outputs": [
    {
     "data": {
      "text/plain": [
       "<matplotlib.collections.PathCollection at 0x7faee16b3880>"
      ]
     },
     "execution_count": 17,
     "metadata": {},
     "output_type": "execute_result"
    },
    {
     "data": {
      "image/png": "[encoded data removed]",
      "text/plain": [
       "<Figure size 432x288 with 1 Axes>"
      ]
     },
     "metadata": {},
     "output_type": "display_data"
    }
   ],
   "source": [
    "plt.scatter(data['MaintenanceStaff'], data['Price'])"
   ]
  },
  {
   "cell_type": "code",
   "execution_count": 18,
   "id": "c1133ab4",
   "metadata": {
    "scrolled": true
   },
   "outputs": [
    {
     "data": {
      "text/plain": [
       "<matplotlib.collections.PathCollection at 0x7faee1690310>"
      ]
     },
     "execution_count": 18,
     "metadata": {},
     "output_type": "execute_result"
    },
    {
     "data": {
      "image/png": "[encoded data removed]",
      "text/plain": [
       "<Figure size 432x288 with 1 Axes>"
      ]
     },
     "metadata": {},
     "output_type": "display_data"
    }
   ],
   "source": [
    "plt.scatter(data['Resale'], data['Price'])"
   ]
  },
  {
   "cell_type": "code",
   "execution_count": 19,
   "id": "0465b28d",
   "metadata": {
    "scrolled": true
   },
   "outputs": [
    {
     "data": {
      "text/plain": [
       "<matplotlib.collections.PathCollection at 0x7faee166da90>"
      ]
     },
     "execution_count": 19,
     "metadata": {},
     "output_type": "execute_result"
    },
    {
     "data": {
      "image/png": "[encoded data removed]",
      "text/plain": [
       "<Figure size 432x288 with 1 Axes>"
      ]
     },
     "metadata": {},
     "output_type": "display_data"
    }
   ],
   "source": [
    "plt.scatter(data['Gymnasium'], data['Price'])"
   ]
  },
  {
   "cell_type": "code",
   "execution_count": 20,
   "id": "0df18b43",
   "metadata": {
    "scrolled": false
   },
   "outputs": [
    {
     "data": {
      "text/plain": [
       "<matplotlib.collections.PathCollection at 0x7faee15d95b0>"
      ]
     },
     "execution_count": 20,
     "metadata": {},
     "output_type": "execute_result"
    },
    {
     "data": {
      "image/png": "[encoded data removed]",
      "text/plain": [
       "<Figure size 432x288 with 1 Axes>"
      ]
     },
     "metadata": {},
     "output_type": "display_data"
    }
   ],
   "source": [
    "plt.scatter(data['SwimmingPool'], data['Price'])"
   ]
  },
  {
   "cell_type": "code",
   "execution_count": 21,
   "id": "bed5f696",
   "metadata": {
    "scrolled": true
   },
   "outputs": [
    {
     "data": {
      "text/plain": [
       "<matplotlib.collections.PathCollection at 0x7faee15729a0>"
      ]
     },
     "execution_count": 21,
     "metadata": {},
     "output_type": "execute_result"
    },
    {
     "data": {
      "image/png": "[encoded data removed]",
      "text/plain": [
       "<Figure size 432x288 with 1 Axes>"
      ]
     },
     "metadata": {},
     "output_type": "display_data"
    }
   ],
   "source": [
    "plt.scatter(data['SwimmingPool'], data['LandscapedGardens'])"
   ]
  },
  {
   "cell_type": "code",
   "execution_count": 22,
   "id": "7fd87117",
   "metadata": {},
   "outputs": [
    {
     "data": {
      "text/plain": [
       "<matplotlib.collections.PathCollection at 0x7faee150c2e0>"
      ]
     },
     "execution_count": 22,
     "metadata": {},
     "output_type": "execute_result"
    },
    {
     "data": {
      "image/png": "[encoded data removed]",
      "text/plain": [
       "<Figure size 432x288 with 1 Axes>"
      ]
     },
     "metadata": {},
     "output_type": "display_data"
    }
   ],
   "source": [
    "plt.scatter(data['Location'], data['Price'])"
   ]
  },
  {
   "cell_type": "markdown",
   "id": "4e097b05",
   "metadata": {},
   "source": [
    "### Building a model that uses all the features\n",
    "构建基于单变量的线性回归模型\n",
    "\n",
    "- 训练模型，Turi Create 只需要一行\n",
    "    - 单变量的简单模型 `tc.linear_regression.create(data, features=['Area'], target='Price')`\n",
    "    - 多变量的复杂模型 `model = tc.linear_regression.create(data, target='Price')`\n",
    "\n",
    "- 预测结果\n",
    "    - 单变量的简单模型\n",
    "    \n",
    "        ```house = tc.SFrame({'Area':[1000]})\n",
    "         model.predict(house) ```"
   ]
  },
  {
   "cell_type": "code",
   "execution_count": 23,
   "id": "08f9c790",
   "metadata": {
    "scrolled": true
   },
   "outputs": [
    {
     "name": "stdout",
     "output_type": "stream",
     "text": [
      "PROGRESS: Creating a validation set from 5 percent of training data. This may take a while.\n",
      "          You can set ``validation_set=None`` to disable validation tracking.\n",
      "\n"
     ]
    },
    {
     "data": {
      "text/html": [
       "<pre>Linear regression:</pre>"
      ],
      "text/plain": [
       "Linear regression:"
      ]
     },
     "metadata": {},
     "output_type": "display_data"
    },
    {
     "data": {
      "text/html": [
       "<pre>--------------------------------------------------------</pre>"
      ],
      "text/plain": [
       "--------------------------------------------------------"
      ]
     },
     "metadata": {},
     "output_type": "display_data"
    },
    {
     "data": {
      "text/html": [
       "<pre>Number of examples          : 2392</pre>"
      ],
      "text/plain": [
       "Number of examples          : 2392"
      ]
     },
     "metadata": {},
     "output_type": "display_data"
    },
    {
     "data": {
      "text/html": [
       "<pre>Number of features          : 1</pre>"
      ],
      "text/plain": [
       "Number of features          : 1"
      ]
     },
     "metadata": {},
     "output_type": "display_data"
    },
    {
     "data": {
      "text/html": [
       "<pre>Number of unpacked features : 1</pre>"
      ],
      "text/plain": [
       "Number of unpacked features : 1"
      ]
     },
     "metadata": {},
     "output_type": "display_data"
    },
    {
     "data": {
      "text/html": [
       "<pre>Number of coefficients    : 2</pre>"
      ],
      "text/plain": [
       "Number of coefficients    : 2"
      ]
     },
     "metadata": {},
     "output_type": "display_data"
    },
    {
     "data": {
      "text/html": [
       "<pre>Starting Newton Method</pre>"
      ],
      "text/plain": [
       "Starting Newton Method"
      ]
     },
     "metadata": {},
     "output_type": "display_data"
    },
    {
     "data": {
      "text/html": [
       "<pre>--------------------------------------------------------</pre>"
      ],
      "text/plain": [
       "--------------------------------------------------------"
      ]
     },
     "metadata": {},
     "output_type": "display_data"
    },
    {
     "data": {
      "text/html": [
       "<pre>+-----------+----------+--------------+--------------------+----------------------+---------------------------------+-----------------------------------+</pre>"
      ],
      "text/plain": [
       "+-----------+----------+--------------+--------------------+----------------------+---------------------------------+-----------------------------------+"
      ]
     },
     "metadata": {},
     "output_type": "display_data"
    },
    {
     "data": {
      "text/html": [
       "<pre>| Iteration | Passes   | Elapsed Time | Training Max Error | Validation Max Error | Training Root-Mean-Square Error | Validation Root-Mean-Square Error |</pre>"
      ],
      "text/plain": [
       "| Iteration | Passes   | Elapsed Time | Training Max Error | Validation Max Error | Training Root-Mean-Square Error | Validation Root-Mean-Square Error |"
      ]
     },
     "metadata": {},
     "output_type": "display_data"
    },
    {
     "data": {
      "text/html": [
       "<pre>+-----------+----------+--------------+--------------------+----------------------+---------------------------------+-----------------------------------+</pre>"
      ],
      "text/plain": [
       "+-----------+----------+--------------+--------------------+----------------------+---------------------------------+-----------------------------------+"
      ]
     },
     "metadata": {},
     "output_type": "display_data"
    },
    {
     "data": {
      "text/html": [
       "<pre>| 1         | 2        | 1.001253     | 144385669.007817   | 21221728.334626      | 4955964.181221                  | 3773864.142212                    |</pre>"
      ],
      "text/plain": [
       "| 1         | 2        | 1.001253     | 144385669.007817   | 21221728.334626      | 4955964.181221                  | 3773864.142212                    |"
      ]
     },
     "metadata": {},
     "output_type": "display_data"
    },
    {
     "data": {
      "text/html": [
       "<pre>+-----------+----------+--------------+--------------------+----------------------+---------------------------------+-----------------------------------+</pre>"
      ],
      "text/plain": [
       "+-----------+----------+--------------+--------------------+----------------------+---------------------------------+-----------------------------------+"
      ]
     },
     "metadata": {},
     "output_type": "display_data"
    },
    {
     "data": {
      "text/html": [
       "<pre>SUCCESS: Optimal solution found.</pre>"
      ],
      "text/plain": [
       "SUCCESS: Optimal solution found."
      ]
     },
     "metadata": {},
     "output_type": "display_data"
    },
    {
     "data": {
      "text/html": [
       "<pre></pre>"
      ],
      "text/plain": []
     },
     "metadata": {},
     "output_type": "display_data"
    }
   ],
   "source": [
    "simple_model = tc.linear_regression.create(data, features=['Area'], target='Price')"
   ]
  },
  {
   "cell_type": "code",
   "execution_count": 24,
   "id": "30daaf3c",
   "metadata": {},
   "outputs": [
    {
     "data": {
      "text/html": [
       "<div style=\"max-height:1000px;max-width:1500px;overflow:auto;\"><table frame=\"box\" rules=\"cols\">\n",
       "    <tr>\n",
       "        <th style=\"padding-left: 1em; padding-right: 1em; text-align: center\">name</th>\n",
       "        <th style=\"padding-left: 1em; padding-right: 1em; text-align: center\">index</th>\n",
       "        <th style=\"padding-left: 1em; padding-right: 1em; text-align: center\">value</th>\n",
       "        <th style=\"padding-left: 1em; padding-right: 1em; text-align: center\">stderr</th>\n",
       "    </tr>\n",
       "    <tr>\n",
       "        <td style=\"padding-left: 1em; padding-right: 1em; text-align: center; vertical-align: top\">(intercept)</td>\n",
       "        <td style=\"padding-left: 1em; padding-right: 1em; text-align: center; vertical-align: top\">None</td>\n",
       "        <td style=\"padding-left: 1em; padding-right: 1em; text-align: center; vertical-align: top\">-6244402.398091614</td>\n",
       "        <td style=\"padding-left: 1em; padding-right: 1em; text-align: center; vertical-align: top\">245299.3326291537</td>\n",
       "    </tr>\n",
       "    <tr>\n",
       "        <td style=\"padding-left: 1em; padding-right: 1em; text-align: center; vertical-align: top\">Area</td>\n",
       "        <td style=\"padding-left: 1em; padding-right: 1em; text-align: center; vertical-align: top\">None</td>\n",
       "        <td style=\"padding-left: 1em; padding-right: 1em; text-align: center; vertical-align: top\">9766.812141917886</td>\n",
       "        <td style=\"padding-left: 1em; padding-right: 1em; text-align: center; vertical-align: top\">135.50998194340855</td>\n",
       "    </tr>\n",
       "</table>\n",
       "[2 rows x 4 columns]<br/>\n",
       "</div>"
      ],
      "text/plain": [
       "Columns:\n",
       "\tname\tstr\n",
       "\tindex\tstr\n",
       "\tvalue\tfloat\n",
       "\tstderr\tfloat\n",
       "\n",
       "Rows: 2\n",
       "\n",
       "Data:\n",
       "+-------------+-------+--------------------+--------------------+\n",
       "|     name    | index |       value        |       stderr       |\n",
       "+-------------+-------+--------------------+--------------------+\n",
       "| (intercept) |  None | -6244402.398091614 | 245299.3326291537  |\n",
       "|     Area    |  None | 9766.812141917886  | 135.50998194340855 |\n",
       "+-------------+-------+--------------------+--------------------+\n",
       "[2 rows x 4 columns]"
      ]
     },
     "execution_count": 24,
     "metadata": {},
     "output_type": "execute_result"
    }
   ],
   "source": [
    "simple_model.coefficients"
   ]
  },
  {
   "cell_type": "code",
   "execution_count": 25,
   "id": "14290a11",
   "metadata": {},
   "outputs": [
    {
     "name": "stdout",
     "output_type": "stream",
     "text": [
      "slope: 9766.812141917886\n",
      "y-intercept: -6244402.398091614\n"
     ]
    }
   ],
   "source": [
    "b, m = simple_model.coefficients['value']\n",
    "print(\"slope:\", m)\n",
    "print(\"y-intercept:\", b)"
   ]
  },
  {
   "cell_type": "code",
   "execution_count": 40,
   "id": "b0b5966d",
   "metadata": {},
   "outputs": [
    {
     "data": {
      "text/plain": [
       "{'max_error': 144385669.00781742, 'rmse': 4903589.9721555635}"
      ]
     },
     "execution_count": 40,
     "metadata": {},
     "output_type": "execute_result"
    }
   ],
   "source": [
    "simple_model.evaluate(data)"
   ]
  },
  {
   "cell_type": "code",
   "execution_count": 26,
   "id": "d3717f72",
   "metadata": {
    "scrolled": true
   },
   "outputs": [
    {
     "data": {
      "image/png": "[encoded data removed]",
      "text/plain": [
       "<Figure size 432x288 with 1 Axes>"
      ]
     },
     "metadata": {},
     "output_type": "display_data"
    }
   ],
   "source": [
    "plt.scatter(data['Area'], data['Price'])\n",
    "utils.draw_line(m, b, starting=0, ending=max(data['Area']))"
   ]
  },
  {
   "cell_type": "markdown",
   "id": "44a9fbcf",
   "metadata": {},
   "source": [
    "#### 用该模型预测\n",
    "\n",
    "预测结果之和单变量有关"
   ]
  },
  {
   "cell_type": "code",
   "execution_count": 28,
   "id": "969a0f70",
   "metadata": {},
   "outputs": [
    {
     "data": {
      "text/plain": [
       "dtype: float\n",
       "Rows: 1\n",
       "[3522409.743826272]"
      ]
     },
     "execution_count": 28,
     "metadata": {},
     "output_type": "execute_result"
    }
   ],
   "source": [
    "house = tc.SFrame({'Area':[1000]})\n",
    "simple_model.predict(house)"
   ]
  },
  {
   "cell_type": "code",
   "execution_count": 29,
   "id": "e457b67c",
   "metadata": {},
   "outputs": [
    {
     "data": {
      "text/plain": [
       "dtype: float\n",
       "Rows: 1\n",
       "[3522409.743826272]"
      ]
     },
     "execution_count": 29,
     "metadata": {},
     "output_type": "execute_result"
    }
   ],
   "source": [
    "house2 = tc.SFrame({'Area':[1000],'No. of Bedrooms':[3]})\n",
    "simple_model.predict(house2)"
   ]
  },
  {
   "cell_type": "markdown",
   "id": "9653da9b",
   "metadata": {},
   "source": [
    "### Building a model that uses all the features\n",
    "构建基于多个变量的线性回归模型"
   ]
  },
  {
   "cell_type": "code",
   "execution_count": 42,
   "id": "7104a1d2",
   "metadata": {
    "scrolled": true
   },
   "outputs": [
    {
     "name": "stdout",
     "output_type": "stream",
     "text": [
      "PROGRESS: Creating a validation set from 5 percent of training data. This may take a while.\n",
      "          You can set ``validation_set=None`` to disable validation tracking.\n",
      "\n"
     ]
    },
    {
     "data": {
      "text/html": [
       "<pre>Linear regression:</pre>"
      ],
      "text/plain": [
       "Linear regression:"
      ]
     },
     "metadata": {},
     "output_type": "display_data"
    },
    {
     "data": {
      "text/html": [
       "<pre>--------------------------------------------------------</pre>"
      ],
      "text/plain": [
       "--------------------------------------------------------"
      ]
     },
     "metadata": {},
     "output_type": "display_data"
    },
    {
     "data": {
      "text/html": [
       "<pre>Number of examples          : 2392</pre>"
      ],
      "text/plain": [
       "Number of examples          : 2392"
      ]
     },
     "metadata": {},
     "output_type": "display_data"
    },
    {
     "data": {
      "text/html": [
       "<pre>Number of features          : 2</pre>"
      ],
      "text/plain": [
       "Number of features          : 2"
      ]
     },
     "metadata": {},
     "output_type": "display_data"
    },
    {
     "data": {
      "text/html": [
       "<pre>Number of unpacked features : 2</pre>"
      ],
      "text/plain": [
       "Number of unpacked features : 2"
      ]
     },
     "metadata": {},
     "output_type": "display_data"
    },
    {
     "data": {
      "text/html": [
       "<pre>Number of coefficients    : 239</pre>"
      ],
      "text/plain": [
       "Number of coefficients    : 239"
      ]
     },
     "metadata": {},
     "output_type": "display_data"
    },
    {
     "data": {
      "text/html": [
       "<pre>Starting Newton Method</pre>"
      ],
      "text/plain": [
       "Starting Newton Method"
      ]
     },
     "metadata": {},
     "output_type": "display_data"
    },
    {
     "data": {
      "text/html": [
       "<pre>--------------------------------------------------------</pre>"
      ],
      "text/plain": [
       "--------------------------------------------------------"
      ]
     },
     "metadata": {},
     "output_type": "display_data"
    },
    {
     "data": {
      "text/html": [
       "<pre>+-----------+----------+--------------+--------------------+----------------------+---------------------------------+-----------------------------------+</pre>"
      ],
      "text/plain": [
       "+-----------+----------+--------------+--------------------+----------------------+---------------------------------+-----------------------------------+"
      ]
     },
     "metadata": {},
     "output_type": "display_data"
    },
    {
     "data": {
      "text/html": [
       "<pre>| Iteration | Passes   | Elapsed Time | Training Max Error | Validation Max Error | Training Root-Mean-Square Error | Validation Root-Mean-Square Error |</pre>"
      ],
      "text/plain": [
       "| Iteration | Passes   | Elapsed Time | Training Max Error | Validation Max Error | Training Root-Mean-Square Error | Validation Root-Mean-Square Error |"
      ]
     },
     "metadata": {},
     "output_type": "display_data"
    },
    {
     "data": {
      "text/html": [
       "<pre>+-----------+----------+--------------+--------------------+----------------------+---------------------------------+-----------------------------------+</pre>"
      ],
      "text/plain": [
       "+-----------+----------+--------------+--------------------+----------------------+---------------------------------+-----------------------------------+"
      ]
     },
     "metadata": {},
     "output_type": "display_data"
    },
    {
     "data": {
      "text/html": [
       "<pre>| 1         | 2        | 0.005023     | 142793745.941387   | 38905311.325833      | 4317417.116856                  | 4583442.207749                    |</pre>"
      ],
      "text/plain": [
       "| 1         | 2        | 0.005023     | 142793745.941387   | 38905311.325833      | 4317417.116856                  | 4583442.207749                    |"
      ]
     },
     "metadata": {},
     "output_type": "display_data"
    },
    {
     "data": {
      "text/html": [
       "<pre>+-----------+----------+--------------+--------------------+----------------------+---------------------------------+-----------------------------------+</pre>"
      ],
      "text/plain": [
       "+-----------+----------+--------------+--------------------+----------------------+---------------------------------+-----------------------------------+"
      ]
     },
     "metadata": {},
     "output_type": "display_data"
    },
    {
     "data": {
      "text/html": [
       "<pre>SUCCESS: Optimal solution found.</pre>"
      ],
      "text/plain": [
       "SUCCESS: Optimal solution found."
      ]
     },
     "metadata": {},
     "output_type": "display_data"
    },
    {
     "data": {
      "text/html": [
       "<pre></pre>"
      ],
      "text/plain": []
     },
     "metadata": {},
     "output_type": "display_data"
    }
   ],
   "source": [
    "model = tc.linear_regression.create(data, features=['Location','Area'],  target='Price')"
   ]
  },
  {
   "cell_type": "code",
   "execution_count": 39,
   "id": "4e225d7e",
   "metadata": {
    "scrolled": true
   },
   "outputs": [
    {
     "data": {
      "text/html": [
       "<div style=\"max-height:1000px;max-width:1500px;overflow:auto;\"><table frame=\"box\" rules=\"cols\">\n",
       "    <tr>\n",
       "        <th style=\"padding-left: 1em; padding-right: 1em; text-align: center\">name</th>\n",
       "        <th style=\"padding-left: 1em; padding-right: 1em; text-align: center\">index</th>\n",
       "        <th style=\"padding-left: 1em; padding-right: 1em; text-align: center\">value</th>\n",
       "        <th style=\"padding-left: 1em; padding-right: 1em; text-align: center\">stderr</th>\n",
       "    </tr>\n",
       "    <tr>\n",
       "        <td style=\"padding-left: 1em; padding-right: 1em; text-align: center; vertical-align: top\">(intercept)</td>\n",
       "        <td style=\"padding-left: 1em; padding-right: 1em; text-align: center; vertical-align: top\">None</td>\n",
       "        <td style=\"padding-left: 1em; padding-right: 1em; text-align: center; vertical-align: top\">-4913342.370641831</td>\n",
       "        <td style=\"padding-left: 1em; padding-right: 1em; text-align: center; vertical-align: top\">365213.4465702554</td>\n",
       "    </tr>\n",
       "    <tr>\n",
       "        <td style=\"padding-left: 1em; padding-right: 1em; text-align: center; vertical-align: top\">Location</td>\n",
       "        <td style=\"padding-left: 1em; padding-right: 1em; text-align: center; vertical-align: top\">Hitech City</td>\n",
       "        <td style=\"padding-left: 1em; padding-right: 1em; text-align: center; vertical-align: top\">5134461.425707156</td>\n",
       "        <td style=\"padding-left: 1em; padding-right: 1em; text-align: center; vertical-align: top\">530716.0089840466</td>\n",
       "    </tr>\n",
       "    <tr>\n",
       "        <td style=\"padding-left: 1em; padding-right: 1em; text-align: center; vertical-align: top\">Location</td>\n",
       "        <td style=\"padding-left: 1em; padding-right: 1em; text-align: center; vertical-align: top\">Manikonda</td>\n",
       "        <td style=\"padding-left: 1em; padding-right: 1em; text-align: center; vertical-align: top\">-36868.76448249496</td>\n",
       "        <td style=\"padding-left: 1em; padding-right: 1em; text-align: center; vertical-align: top\">468404.3161900462</td>\n",
       "    </tr>\n",
       "    <tr>\n",
       "        <td style=\"padding-left: 1em; padding-right: 1em; text-align: center; vertical-align: top\">Location</td>\n",
       "        <td style=\"padding-left: 1em; padding-right: 1em; text-align: center; vertical-align: top\">Alwal</td>\n",
       "        <td style=\"padding-left: 1em; padding-right: 1em; text-align: center; vertical-align: top\">-261668.90599424424</td>\n",
       "        <td style=\"padding-left: 1em; padding-right: 1em; text-align: center; vertical-align: top\">848977.9155288098</td>\n",
       "    </tr>\n",
       "    <tr>\n",
       "        <td style=\"padding-left: 1em; padding-right: 1em; text-align: center; vertical-align: top\">Location</td>\n",
       "        <td style=\"padding-left: 1em; padding-right: 1em; text-align: center; vertical-align: top\">Kukatpally</td>\n",
       "        <td style=\"padding-left: 1em; padding-right: 1em; text-align: center; vertical-align: top\">2007696.9009541015</td>\n",
       "        <td style=\"padding-left: 1em; padding-right: 1em; text-align: center; vertical-align: top\">433510.1049551747</td>\n",
       "    </tr>\n",
       "    <tr>\n",
       "        <td style=\"padding-left: 1em; padding-right: 1em; text-align: center; vertical-align: top\">Location</td>\n",
       "        <td style=\"padding-left: 1em; padding-right: 1em; text-align: center; vertical-align: top\">Gachibowli</td>\n",
       "        <td style=\"padding-left: 1em; padding-right: 1em; text-align: center; vertical-align: top\">2558694.0485188765</td>\n",
       "        <td style=\"padding-left: 1em; padding-right: 1em; text-align: center; vertical-align: top\">529468.4421562107</td>\n",
       "    </tr>\n",
       "    <tr>\n",
       "        <td style=\"padding-left: 1em; padding-right: 1em; text-align: center; vertical-align: top\">Location</td>\n",
       "        <td style=\"padding-left: 1em; padding-right: 1em; text-align: center; vertical-align: top\">Tellapur</td>\n",
       "        <td style=\"padding-left: 1em; padding-right: 1em; text-align: center; vertical-align: top\">-1100073.9788481675</td>\n",
       "        <td style=\"padding-left: 1em; padding-right: 1em; text-align: center; vertical-align: top\">634069.450306455</td>\n",
       "    </tr>\n",
       "    <tr>\n",
       "        <td style=\"padding-left: 1em; padding-right: 1em; text-align: center; vertical-align: top\">Location</td>\n",
       "        <td style=\"padding-left: 1em; padding-right: 1em; text-align: center; vertical-align: top\">Kokapet</td>\n",
       "        <td style=\"padding-left: 1em; padding-right: 1em; text-align: center; vertical-align: top\">732158.7822961283</td>\n",
       "        <td style=\"padding-left: 1em; padding-right: 1em; text-align: center; vertical-align: top\">526717.772720667</td>\n",
       "    </tr>\n",
       "    <tr>\n",
       "        <td style=\"padding-left: 1em; padding-right: 1em; text-align: center; vertical-align: top\">Location</td>\n",
       "        <td style=\"padding-left: 1em; padding-right: 1em; text-align: center; vertical-align: top\">Hyder Nagar</td>\n",
       "        <td style=\"padding-left: 1em; padding-right: 1em; text-align: center; vertical-align: top\">1701813.1226584807</td>\n",
       "        <td style=\"padding-left: 1em; padding-right: 1em; text-align: center; vertical-align: top\">1556269.6325285658</td>\n",
       "    </tr>\n",
       "    <tr>\n",
       "        <td style=\"padding-left: 1em; padding-right: 1em; text-align: center; vertical-align: top\">Location</td>\n",
       "        <td style=\"padding-left: 1em; padding-right: 1em; text-align: center; vertical-align: top\">Mehdipatnam</td>\n",
       "        <td style=\"padding-left: 1em; padding-right: 1em; text-align: center; vertical-align: top\">73632.50611086395</td>\n",
       "        <td style=\"padding-left: 1em; padding-right: 1em; text-align: center; vertical-align: top\">1125800.2364094153</td>\n",
       "    </tr>\n",
       "</table>\n",
       "[240 rows x 4 columns]<br/>Note: Only the head of the SFrame is printed.<br/>You can use print_rows(num_rows=m, num_columns=n) to print more rows and columns.\n",
       "</div>"
      ],
      "text/plain": [
       "Columns:\n",
       "\tname\tstr\n",
       "\tindex\tstr\n",
       "\tvalue\tfloat\n",
       "\tstderr\tfloat\n",
       "\n",
       "Rows: 240\n",
       "\n",
       "Data:\n",
       "+-------------+-------------+---------------------+--------------------+\n",
       "|     name    |    index    |        value        |       stderr       |\n",
       "+-------------+-------------+---------------------+--------------------+\n",
       "| (intercept) |     None    |  -4913342.370641831 | 365213.4465702554  |\n",
       "|   Location  | Hitech City |  5134461.425707156  | 530716.0089840466  |\n",
       "|   Location  |  Manikonda  |  -36868.76448249496 | 468404.3161900462  |\n",
       "|   Location  |    Alwal    | -261668.90599424424 | 848977.9155288098  |\n",
       "|   Location  |  Kukatpally |  2007696.9009541015 | 433510.1049551747  |\n",
       "|   Location  |  Gachibowli |  2558694.0485188765 | 529468.4421562107  |\n",
       "|   Location  |   Tellapur  | -1100073.9788481675 |  634069.450306455  |\n",
       "|   Location  |   Kokapet   |  732158.7822961283  |  526717.772720667  |\n",
       "|   Location  | Hyder Nagar |  1701813.1226584807 | 1556269.6325285658 |\n",
       "|   Location  | Mehdipatnam |  73632.50611086395  | 1125800.2364094153 |\n",
       "+-------------+-------------+---------------------+--------------------+\n",
       "[240 rows x 4 columns]\n",
       "Note: Only the head of the SFrame is printed.\n",
       "You can use print_rows(num_rows=m, num_columns=n) to print more rows and columns."
      ]
     },
     "execution_count": 39,
     "metadata": {},
     "output_type": "execute_result"
    }
   ],
   "source": [
    "model.coefficients"
   ]
  },
  {
   "cell_type": "code",
   "execution_count": null,
   "id": "2e67be9d",
   "metadata": {},
   "outputs": [],
   "source": [
    "plt.scatter(data['Area'], data['Price'])\n",
    "utils.draw_line(m, b, starting=0, ending=max(data['Area']))"
   ]
  },
  {
   "cell_type": "code",
   "execution_count": 41,
   "id": "f104f880",
   "metadata": {},
   "outputs": [
    {
     "data": {
      "text/plain": [
       "{'max_error': 144779866.09571192, 'rmse': 4334269.548366947}"
      ]
     },
     "execution_count": 41,
     "metadata": {},
     "output_type": "execute_result"
    }
   ],
   "source": [
    "model.evaluate(data)"
   ]
  },
  {
   "cell_type": "code",
   "execution_count": 46,
   "id": "803028b5",
   "metadata": {
    "scrolled": true
   },
   "outputs": [
    {
     "data": {
      "text/plain": [
       "dtype: float\n",
       "Rows: 1\n",
       "[7885152.863653729]"
      ]
     },
     "execution_count": 46,
     "metadata": {},
     "output_type": "execute_result"
    }
   ],
   "source": [
    "house2 = tc.SFrame({'Area': [1000], 'Location':['Hitech City']})\n",
    "model.predict(house2)"
   ]
  },
  {
   "cell_type": "code",
   "execution_count": 47,
   "id": "084a1bf0",
   "metadata": {},
   "outputs": [
    {
     "data": {
      "text/plain": [
       "dtype: float\n",
       "Rows: 1\n",
       "[2910107.708071308]"
      ]
     },
     "execution_count": 47,
     "metadata": {},
     "output_type": "execute_result"
    }
   ],
   "source": [
    "house3 = tc.SFrame({'Area': [1000], 'Location':['Alwal']})\n",
    "model.predict(house3)"
   ]
  },
  {
   "cell_type": "code",
   "execution_count": null,
   "id": "89eaa5e1",
   "metadata": {},
   "outputs": [],
   "source": []
  }
 ],
 "metadata": {
  "kernelspec": {
   "display_name": "turienv",
   "language": "python",
   "name": "turienv"
  },
  "language_info": {
   "codemirror_mode": {
    "name": "ipython",
    "version": 3
   },
   "file_extension": ".py",
   "mimetype": "text/x-python",
   "name": "python",
   "nbconvert_exporter": "python",
   "pygments_lexer": "ipython3",
   "version": "3.8.12"
  }
 },
 "nbformat": 4,
 "nbformat_minor": 5
}
