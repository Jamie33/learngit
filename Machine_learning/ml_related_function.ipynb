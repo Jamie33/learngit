{
 "cells": [
  {
   "cell_type": "markdown",
   "metadata": {},
   "source": [
    "## random\n",
    "\n",
    "- random.uniform(x, y)方法将随机生成一个实数，它在 [x,y] 范围内。\n",
    "- random.gauss(mu, sigma) 返回具有高斯分布的随机浮点数。 mu：均值 sigma：标准差"
   ]
  },
  {
   "cell_type": "markdown",
   "metadata": {},
   "source": [
    "### [np.random.seed()函数](https://zhuanlan.zhihu.com/p/266472620)\n",
    "\n",
    "- 功能\n",
    "np.random.seed(n)函数用于生成指定随机数。\n",
    "\n",
    "- 参数\n",
    "把seed()中的参数比喻成“堆”；eg. seed(5)：表示第5堆种子。\n",
    "\n",
    "- 代码实例\n",
    "seed()中的参数被设置了之后，np.random.seed()可以按顺序产生一组固定的数组，如果使用相同的seed()值，则每次生成的随机数都相同。如果不设置这个值，那么每次生成的随机数不同。但是，只在调用的时候seed()一下并不能使生成的随机数相同，需要每次调用都seed()一下，表示种子相同，从而生成的随机数相同。"
   ]
  },
  {
   "cell_type": "code",
   "execution_count": 1,
   "metadata": {},
   "outputs": [
    {
     "name": "stdout",
     "output_type": "stream",
     "text": [
      "[[ 1.62434536 -0.61175641 -0.52817175]\n",
      " [-1.07296862  0.86540763 -2.3015387 ]\n",
      " [ 1.74481176 -0.7612069   0.3190391 ]]\n",
      "[[ 1.62434536 -0.61175641 -0.52817175]\n",
      " [-1.07296862  0.86540763 -2.3015387 ]\n",
      " [ 1.74481176 -0.7612069   0.3190391 ]]\n"
     ]
    }
   ],
   "source": [
    "# 调用两次seed()，两次产生的随机数相同）\n",
    "import numpy as np\n",
    "\n",
    "np.random.seed(1)\n",
    "L1 = np.random.randn(3,3)\n",
    "np.random.seed(1)\n",
    "L2 = np.random.randn(3,3)\n",
    "print(L1)\n",
    "print(L2)"
   ]
  },
  {
   "cell_type": "code",
   "execution_count": 2,
   "metadata": {},
   "outputs": [
    {
     "name": "stdout",
     "output_type": "stream",
     "text": [
      "[[ 1.62434536 -0.61175641 -0.52817175]\n",
      " [-1.07296862  0.86540763 -2.3015387 ]\n",
      " [ 1.74481176 -0.7612069   0.3190391 ]]\n",
      "[[-0.24937038  1.46210794 -2.06014071]\n",
      " [-0.3224172  -0.38405435  1.13376944]\n",
      " [-1.09989127 -0.17242821 -0.87785842]]\n"
     ]
    }
   ],
   "source": [
    "# 只调用一次seed()，两次的产生随机数不同\n",
    "import numpy as np\n",
    "np.random.seed(1)\n",
    "\n",
    "L1 = np.random.randn(3,3)\n",
    "L2 = np.random.randn(3,3)\n",
    "print(L1)\n",
    "print(L2)"
   ]
  },
  {
   "cell_type": "markdown",
   "metadata": {},
   "source": [
    "### [random.seed( ) in Python](https://www.geeksforgeeks.org/random-seed-in-python/)"
   ]
  },
  {
   "cell_type": "code",
   "execution_count": 1,
   "metadata": {},
   "outputs": [
    {
     "name": "stdout",
     "output_type": "stream",
     "text": [
      "865\n",
      "865\n",
      "865\n",
      "865\n",
      "865\n"
     ]
    }
   ],
   "source": [
    "# random module is imported\n",
    "import random \n",
    "for i in range(5):\n",
    "  \n",
    "    # Any number can be used in place of '0'.\n",
    "    random.seed(0)\n",
    "  \n",
    "    # Generated random number will be between 1 to 1000.\n",
    "    print('同 seed')  \n",
    "    print(random.randint(1, 1000))  "
   ]
  },
  {
   "cell_type": "code",
   "execution_count": 4,
   "metadata": {},
   "outputs": [
    {
     "name": "stdout",
     "output_type": "stream",
     "text": [
      "同 seed\n",
      "产生1次 random\n",
      "865\n",
      "产生2次 random\n",
      "395\n",
      "同 seed\n",
      "产生1次 random\n",
      "865\n",
      "产生2次 random\n",
      "395\n",
      "同 seed\n",
      "产生1次 random\n",
      "865\n",
      "产生2次 random\n",
      "395\n",
      "同 seed\n",
      "产生1次 random\n",
      "865\n",
      "产生2次 random\n",
      "395\n",
      "同 seed\n",
      "产生1次 random\n",
      "865\n",
      "产生2次 random\n",
      "395\n"
     ]
    }
   ],
   "source": [
    "# random module is imported\n",
    "import random \n",
    "for i in range(5):\n",
    "  \n",
    "    # Any number can be used in place of '0'.\n",
    "    random.seed(0)\n",
    "    print('同 seed')  \n",
    "    print('产生1次 random')  \n",
    "    # Generated random number will be between 1 to 1000.\n",
    "    print(random.randint(1, 1000))  \n",
    "    print('产生2次 random')   \n",
    "    print(random.randint(1, 1000))  "
   ]
  },
  {
   "cell_type": "code",
   "execution_count": 5,
   "metadata": {},
   "outputs": [
    {
     "name": "stdout",
     "output_type": "stream",
     "text": [
      "同 seed\n",
      "产生1次 random\n",
      "244\n",
      "产生2次 random\n",
      "607\n",
      "同 seed\n",
      "产生1次 random\n",
      "244\n",
      "产生2次 random\n",
      "607\n",
      "不同 seed\n",
      "产生1次 random\n",
      "558\n",
      "产生2次 random\n",
      "134\n"
     ]
    }
   ],
   "source": [
    "# importing random module\n",
    "import random\n",
    "  \n",
    "random.seed(3)\n",
    "print('同 seed')  \n",
    "# print a random number between 1 and 1000.\n",
    "print('产生1次 random')  \n",
    "print(random.randint(1, 1000))\n",
    "print('产生2次 random')   \n",
    "print(random.randint(1, 1000))\n",
    "# if you want to get the same random number again then,\n",
    "random.seed(3) \n",
    "print('同 seed')  \n",
    "print('产生1次 random')  \n",
    "print(random.randint(1, 1000))\n",
    "print('产生2次 random')   \n",
    "print(random.randint(1, 1000))\n",
    "# If seed function is not used\n",
    "  \n",
    "# Gives totally unpredictable responses.\n",
    "print('不同 seed')  \n",
    "print('产生1次 random')  \n",
    "print(random.randint(1, 1000))\n",
    "print('产生2次 random')   \n",
    "print(random.randint(1, 1000))"
   ]
  },
  {
   "cell_type": "code",
   "execution_count": null,
   "metadata": {},
   "outputs": [],
   "source": []
  }
 ],
 "metadata": {
  "kernelspec": {
   "display_name": "Python 3 (ipykernel)",
   "language": "python",
   "name": "python3"
  },
  "language_info": {
   "codemirror_mode": {
    "name": "ipython",
    "version": 3
   },
   "file_extension": ".py",
   "mimetype": "text/x-python",
   "name": "python",
   "nbconvert_exporter": "python",
   "pygments_lexer": "ipython3",
   "version": "3.9.7"
  }
 },
 "nbformat": 4,
 "nbformat_minor": 4
}
