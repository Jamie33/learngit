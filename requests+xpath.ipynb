{
 "cells": [
  {
   "cell_type": "code",
   "execution_count": 36,
   "metadata": {},
   "outputs": [
    {
     "name": "stdout",
     "output_type": "stream",
     "text": [
      "['\\n                追风筝的人\\n\\n                \\n              ']\n"
     ]
    }
   ],
   "source": [
    "import requests\n",
    "from lxml import etree\n",
    "url = 'https://book.douban.com/top250'\n",
    "data = requests.get(url).text\n",
    "s = etree.HTML(data)\n",
    "title1 = s.xpath('//*[@id=\"content\"]/div/div[1]/div/table[1]/tr/td[2]/div[1]/a/text()')\n",
    "\n",
    "\n",
    "'''\n",
    "author = s.xpath('//*[@id=\"content\"]/div/div[1]/div/table[1]//tr/td[2]/p[1]/text()')\n",
    "rate = s.xpath('//*[@id=\"content\"]/div/div[1]/div/table[1]/tr/td[2]/div[2]/text()')\n",
    "comment = s.xpath('//*[@id=\"content\"]/div/div[1]/div/table[1]/tr/td[2]/p[2]/span/text()')\n",
    "'''\n",
    "\n",
    "print(title1)"
   ]
  },
  {
   "cell_type": "code",
   "execution_count": 7,
   "metadata": {},
   "outputs": [
    {
     "name": "stdout",
     "output_type": "stream",
     "text": [
      "福田口岸 水围美食街  彩园清新园林两房\n",
      "(特惠价)宝安前海/宝体地铁口/商旅大3居\n",
      "【渡口】世界之窗欢乐谷华侨城精品两卧套房\n",
      "世界之窗旁稀缺无敌景观套房\n",
      "CBD艺术空间大套房 深圳最中心位置\n",
      "近深圳东站/木棉湾/商务出差旅游/整租两房\n",
      "古风，日式艺术空间\n",
      "1号主人房｜1.8米床  前海园林式小区公寓\n",
      "罗湖万象城旁世界金融中心复式\n",
      "(特惠)地铁口私家花园内整套绿色清新居家小筑\n",
      "福田CBD会展中心旁两房\n",
      "恋·时光  近海岸城深圳湾春茧 文艺家庭雅居\n",
      "福田CBD绝佳地段近会展中心时尚简约四房\n",
      "近深圳东站/木棉湾地铁站/天虹/温馨书房合租\n",
      "LifeHome生活家 深圳第一最美高端民宿\n",
      "【甄选】宝安中心地铁口时尚温馨两居室\n",
      "近华为近地铁 olivia家的美式阁楼三居室\n",
      "大新地铁站豪华复式公寓单人房\n",
      "#栖息地#罗湖口岸/东门老街地铁口/北欧一居\n",
      "6特价 西乡地铁站/西乡天虹楼上汇一城 下左\n",
      "东门老街～地铁口～【清新风格】小鹿屋\n",
      "【米花家】可月租 一站机场两站南山城独立小卧\n",
      "大运中心附近横岗地铁站精致豪华商务大床房\n",
      "大新地铁站复式大房｜1.8米床 独立阳台景观\n"
     ]
    }
   ],
   "source": [
    "import requests\n",
    "from lxml import etree\n",
    "import time\n",
    "\n",
    "url = 'http://sz.xiaozhu.com/'\n",
    "data = requests.get(url).text\n",
    "s = etree.HTML(data)\n",
    "\n",
    "'''\n",
    "title1 = s.xpath('//*[@id=\"page_list\"]/ul/li[1]/div[2]/div/a/span/text()')\n",
    "title2 = s.xpath('//*[@id=\"page_list\"]/ul/li[2]/div[2]/div/a/span/text()')\n",
    "title3 = s.xpath('//*[@id=\"page_list\"]/ul/li[3]/div[2]/div/a/span/text()')\n",
    "'''\n",
    "\n",
    "titles = s.xpath('//*[@id=\"page_list\"]/ul/li/div[2]/div/a/span/text()')\n",
    "\n",
    "\n",
    "for t in titles:\n",
    "    time.sleep(1)\n",
    "    print(t)\n"
   ]
  },
  {
   "cell_type": "code",
   "execution_count": 9,
   "metadata": {},
   "outputs": [
    {
     "data": {
      "text/plain": [
       "24"
      ]
     },
     "execution_count": 9,
     "metadata": {},
     "output_type": "execute_result"
    }
   ],
   "source": [
    "len(titles)"
   ]
  },
  {
   "cell_type": "code",
   "execution_count": 27,
   "metadata": {},
   "outputs": [
    {
     "name": "stdout",
     "output_type": "stream",
     "text": [
      "福田口岸 水围美食街  彩园清新园林两房488整套出租/2张床/宜住3人\n",
      "https://image.xiaozhustatic1.com/12/8,0,78,14028,1800,1200,efcec3d4.jpg\n",
      "(特惠价)宝安前海/宝体地铁口/商旅大3居478整套出租/3张床/宜住6人\n",
      "https://image.xiaozhustatic1.com/12/8,0,11,8234,1800,1200,ea46f6e1.jpg\n",
      "【渡口】世界之窗欢乐谷华侨城精品两卧套房498整套出租/3张床铺/宜住5人\n",
      "https://image.xiaozhustatic1.com/12/11,0,47,4468,1800,1200,e73393d4.jpg\n",
      "世界之窗旁稀缺无敌景观套房888整套出租/3张床/宜住6人\n",
      "https://image.xiaozhustatic1.com/12/8,0,42,8336,1800,1200,ad7981dd.jpg\n",
      "CBD艺术空间大套房 深圳最中心位置369整套出租/2张床铺/宜住2人\n",
      "https://image.xiaozhustatic1.com/12/11,0,56,13967,1800,1200,310a3b9d.jpg\n",
      "近深圳东站/木棉湾/商务出差旅游/整租两房368整套出租/3张床铺/宜住4人\n",
      "https://image.xiaozhustatic1.com/12/10,0,69,5941,1800,1200,4e5491fc.jpg\n",
      "古风，日式艺术空间690整套出租/2张榻榻米/宜住4人\n",
      "https://image.xiaozhustatic1.com/12/12,0,56,14697,1800,1200,9e7cc251.jpg\n",
      "1号主人房｜1.8米床  前海园林式小区公寓196独立单间/1张床/宜住1人\n",
      "https://image.xiaozhustatic1.com/12/8,0,34,4410,1783,1200,56f7fdfb.jpg\n",
      "罗湖万象城旁世界金融中心复式788整套出租/1张床/宜住2人\n",
      "https://image.xiaozhustatic1.com/12/12,0,87,1014,1800,1200,ea429721.jpg\n",
      "(特惠)地铁口私家花园内整套绿色清新居家小筑268整套出租/2张床铺/宜住2人\n",
      "https://image.xiaozhustatic1.com/12/10,0,53,8996,1800,1200,89d9d2f9.jpg\n",
      "福田CBD会展中心旁两房500整套出租/2张床/宜住4人\n",
      "https://image.xiaozhustatic1.com/12/11,0,18,2627,1800,1200,adc619a4.jpg\n",
      "恋·时光  近海岸城深圳湾春茧 文艺家庭雅居399整套出租/2张床/宜住2人\n",
      "https://image.xiaozhustatic1.com/12/8,0,43,225,1800,1200,6cc1069e.jpg\n",
      "福田CBD绝佳地段近会展中心时尚简约四房880整套出租/3张床/宜住6人\n",
      "https://image.xiaozhustatic1.com/12/11,0,92,5468,1800,1200,b3e57f43.jpg\n",
      "近深圳东站/木棉湾地铁站/天虹/温馨书房合租139独立单间/1张床/宜住1人\n",
      "https://image.xiaozhustatic1.com/12/9,0,19,13479,1800,1200,fa2b4a60.jpg\n",
      "LifeHome生活家 深圳第一最美高端民宿780整套出租/1张床/宜住2人\n",
      "https://image.xiaozhustatic1.com/12/11,0,18,5297,1800,1200,6dbb9e0f.jpg\n",
      "大新地铁站豪华复式公寓单人房133独立单间/1张床/宜住1人\n",
      "https://image.xiaozhustatic1.com/12/8,0,55,7111,1800,1200,0713d541.jpg\n",
      "近华为近地铁 olivia家的美式阁楼三居室788整套出租/3张床/宜住7人\n",
      "https://image.xiaozhustatic1.com/12/11,0,58,19451,1800,1200,533f2af3.jpg\n",
      "6特价 西乡地铁站/西乡天虹楼上汇一城 下左90独立单间/1张床/宜住1人\n",
      "https://image.xiaozhustatic1.com/12/7,0,18,10332,1800,1200,9debacb9.jpg\n",
      "#栖息地#罗湖口岸/东门老街地铁口/北欧一居268整套出租/2张床铺/宜住3人\n",
      "https://image.xiaozhustatic1.com/12/10,0,20,11748,1800,1200,b10ca11e.jpg\n",
      "【米花家】可月租 一站机场两站南山城独立小卧88独立单间/1张床/宜住1人\n",
      "https://image.xiaozhustatic1.com/12/7,0,3,9596,1756,1200,d74118b3.jpg\n",
      "东门老街～地铁口～【清新风格】小鹿屋268整套出租/1张床/宜住2人\n",
      "https://image.xiaozhustatic1.com/12/10,0,31,6904,1794,1200,b6acb3e0.jpg\n",
      "【甄选】宝安中心地铁口时尚温馨两居室338整套出租/3张床铺/宜住4人\n",
      "https://image.xiaozhustatic1.com/12/8,0,39,1850,1800,1200,504f42b3.jpg\n",
      "大运中心附近横岗地铁站精致豪华商务大床房198整套出租/1张床/宜住2人\n",
      "https://image.xiaozhustatic1.com/12/12,0,57,11769,1785,1200,7fb7cd8f.jpg\n",
      "大新地铁站复式大房｜1.8米床 独立阳台景观188独立单间/1张床/宜住1人\n",
      "https://image.xiaozhustatic1.com/12/8,0,4,7105,1800,1200,baec774b.jpg\n"
     ]
    }
   ],
   "source": [
    "import requests\n",
    "from lxml import etree\n",
    "import time\n",
    "\n",
    "url = 'http://sz.xiaozhu.com/'\n",
    "data = requests.get(url).text\n",
    "s = etree.HTML(data)\n",
    "\n",
    "file = s.xpath('//*[@id=\"page_list\"]/ul/li')\n",
    "time.sleep(1)\n",
    "for div in file:\n",
    "    tit = div.xpath('./div[2]/div/a/span/text()')[0]\n",
    "    pri = div.xpath('./div[2]/span[1]/i/text()')[0]\n",
    "    des = div.xpath('./div[2]/div/em/text()')[0].strip()\n",
    "    pic = div.xpath('./a/img/@lazy_src')[0]\n",
    "    print('{}{}{}\\n{}'.format(tit,pri,des,pic))\n",
    "    time.sleep(1)"
   ]
  },
  {
   "cell_type": "code",
   "execution_count": 28,
   "metadata": {},
   "outputs": [
    {
     "ename": "SyntaxError",
     "evalue": "invalid syntax (<ipython-input-28-45c35f1a55f0>, line 1)",
     "output_type": "error",
     "traceback": [
      "\u001b[1;36m  File \u001b[1;32m\"<ipython-input-28-45c35f1a55f0>\"\u001b[1;36m, line \u001b[1;32m1\u001b[0m\n\u001b[1;33m    http://sz.xiaozhu.com/\u001b[0m\n\u001b[1;37m          ^\u001b[0m\n\u001b[1;31mSyntaxError\u001b[0m\u001b[1;31m:\u001b[0m invalid syntax\n"
     ]
    }
   ],
   "source": [
    "http://sz.xiaozhu.com/\n",
    "http://sz.xiaozhu.com/search-duanzufang-p2-0/\n",
    "http://sz.xiaozhu.com/search-duanzufang-p3-0/"
   ]
  },
  {
   "cell_type": "code",
   "execution_count": 30,
   "metadata": {},
   "outputs": [
    {
     "name": "stdout",
     "output_type": "stream",
     "text": [
      "http://sz.xiaozhu.com/\n",
      "http://sz.xiaozhu.com/search-duanzufang-p2-0/\n",
      "http://sz.xiaozhu.com/search-duanzufang-p3-0/\n"
     ]
    }
   ],
   "source": [
    "for i in range(1,4):\n",
    "    if i == 1:\n",
    "        url = 'http://sz.xiaozhu.com/'\n",
    "    else:\n",
    "        url = 'http://sz.xiaozhu.com/search-duanzufang-p{}-0/'.format(i)\n",
    "    print(url)"
   ]
  },
  {
   "cell_type": "code",
   "execution_count": 31,
   "metadata": {},
   "outputs": [
    {
     "name": "stdout",
     "output_type": "stream",
     "text": [
      "福田口岸 水围美食街  彩园清新园林两房488整套出租/2张床/宜住3人\n",
      "https://image.xiaozhustatic1.com/12/8,0,78,14028,1800,1200,efcec3d4.jpg\n",
      "(特惠价)宝安前海/宝体地铁口/商旅大3居478整套出租/3张床/宜住6人\n",
      "https://image.xiaozhustatic1.com/12/8,0,11,8234,1800,1200,ea46f6e1.jpg\n",
      "【渡口】世界之窗欢乐谷华侨城精品两卧套房498整套出租/3张床铺/宜住5人\n",
      "https://image.xiaozhustatic1.com/12/11,0,47,4468,1800,1200,e73393d4.jpg\n",
      "世界之窗旁稀缺无敌景观套房888整套出租/3张床/宜住6人\n",
      "https://image.xiaozhustatic1.com/12/8,0,42,8336,1800,1200,ad7981dd.jpg\n",
      "CBD艺术空间大套房 深圳最中心位置369整套出租/2张床铺/宜住2人\n",
      "https://image.xiaozhustatic1.com/12/11,0,56,13967,1800,1200,310a3b9d.jpg\n",
      "近深圳东站/木棉湾/商务出差旅游/整租两房368整套出租/3张床铺/宜住4人\n",
      "https://image.xiaozhustatic1.com/12/10,0,69,5941,1800,1200,4e5491fc.jpg\n",
      "古风，日式艺术空间690整套出租/2张榻榻米/宜住4人\n",
      "https://image.xiaozhustatic1.com/12/12,0,56,14697,1800,1200,9e7cc251.jpg\n",
      "1号主人房｜1.8米床  前海园林式小区公寓196独立单间/1张床/宜住1人\n",
      "https://image.xiaozhustatic1.com/12/8,0,34,4410,1783,1200,56f7fdfb.jpg\n",
      "罗湖万象城旁世界金融中心复式788整套出租/1张床/宜住2人\n",
      "https://image.xiaozhustatic1.com/12/12,0,87,1014,1800,1200,ea429721.jpg\n",
      "(特惠)地铁口私家花园内整套绿色清新居家小筑268整套出租/2张床铺/宜住2人\n",
      "https://image.xiaozhustatic1.com/12/10,0,53,8996,1800,1200,89d9d2f9.jpg\n",
      "福田CBD会展中心旁两房500整套出租/2张床/宜住4人\n",
      "https://image.xiaozhustatic1.com/12/11,0,18,2627,1800,1200,adc619a4.jpg\n",
      "恋·时光  近海岸城深圳湾春茧 文艺家庭雅居399整套出租/2张床/宜住2人\n",
      "https://image.xiaozhustatic1.com/12/8,0,43,225,1800,1200,6cc1069e.jpg\n",
      "福田CBD绝佳地段近会展中心时尚简约四房880整套出租/3张床/宜住6人\n",
      "https://image.xiaozhustatic1.com/12/11,0,92,5468,1800,1200,b3e57f43.jpg\n",
      "近深圳东站/木棉湾地铁站/天虹/温馨书房合租139独立单间/1张床/宜住1人\n",
      "https://image.xiaozhustatic1.com/12/9,0,19,13479,1800,1200,fa2b4a60.jpg\n",
      "LifeHome生活家 深圳第一最美高端民宿780整套出租/1张床/宜住2人\n",
      "https://image.xiaozhustatic1.com/12/11,0,18,5297,1800,1200,6dbb9e0f.jpg\n",
      "大新地铁站豪华复式公寓单人房133独立单间/1张床/宜住1人\n",
      "https://image.xiaozhustatic1.com/12/8,0,55,7111,1800,1200,0713d541.jpg\n",
      "近华为近地铁 olivia家的美式阁楼三居室788整套出租/3张床/宜住7人\n",
      "https://image.xiaozhustatic1.com/12/11,0,58,19451,1800,1200,533f2af3.jpg\n",
      "6特价 西乡地铁站/西乡天虹楼上汇一城 下左90独立单间/1张床/宜住1人\n",
      "https://image.xiaozhustatic1.com/12/7,0,18,10332,1800,1200,9debacb9.jpg\n",
      "#栖息地#罗湖口岸/东门老街地铁口/北欧一居268整套出租/2张床铺/宜住3人\n",
      "https://image.xiaozhustatic1.com/12/10,0,20,11748,1800,1200,b10ca11e.jpg\n",
      "【米花家】可月租 一站机场两站南山城独立小卧88独立单间/1张床/宜住1人\n",
      "https://image.xiaozhustatic1.com/12/7,0,3,9596,1756,1200,d74118b3.jpg\n",
      "东门老街～地铁口～【清新风格】小鹿屋268整套出租/1张床/宜住2人\n",
      "https://image.xiaozhustatic1.com/12/10,0,31,6904,1794,1200,b6acb3e0.jpg\n",
      "【甄选】宝安中心地铁口时尚温馨两居室338整套出租/3张床铺/宜住4人\n",
      "https://image.xiaozhustatic1.com/12/8,0,39,1850,1800,1200,504f42b3.jpg\n",
      "大运中心附近横岗地铁站精致豪华商务大床房198整套出租/1张床/宜住2人\n",
      "https://image.xiaozhustatic1.com/12/12,0,57,11769,1785,1200,7fb7cd8f.jpg\n",
      "大新地铁站复式大房｜1.8米床 独立阳台景观188独立单间/1张床/宜住1人\n",
      "https://image.xiaozhustatic1.com/12/8,0,4,7105,1800,1200,baec774b.jpg\n",
      "【分享家】浪漫双人房+福田+梅景站+超赞窗景188独立单间/1张床/宜住2人\n",
      "https://image.xiaozhustatic1.com/12/8,0,70,10088,1800,1200,d8e07a4b.jpg\n",
      "CBD艺术公寓超值1.8床大套房 近地铁口388整套出租/1张床/宜住2人\n",
      "https://image.xiaozhustatic1.com/12/11,0,19,14121,1800,1200,9b996ff3.jpg\n",
      "2西乡地铁站/西乡天虹 楼上小区 汇一城115独立单间/1张床/宜住1人\n",
      "https://image.xiaozhustatic1.com/12/7,0,19,10502,1800,1200,4df12f7a.jpg\n",
      "福田口岸4号地铁线朝香港山水景观 两卧套房668整套出租/2张床/宜住4人\n",
      "https://image.xiaozhustatic1.com/12/10,0,43,6896,1800,1200,3d2e5616.jpg\n",
      "坪洲地铁站高档小区三室两厅两卫中独立卧室出租150独立单间/1张床/宜住2人\n",
      "https://image.xiaozhustatic1.com/12/8,0,85,6782,1800,1200,ec2aebd9.jpg\n",
      "龙岗中心城南联地铁口复式楼行政房（可做饭）200整套出租/1张床/宜住2人\n",
      "https://image.xiaozhustatic1.com/12/12,0,15,13271,1800,1200,6d6b272f.jpg\n",
      "东部华侨城大梅沙三房无敌海景房没有之一！898整套出租/3张床/宜住6人\n",
      "https://image.xiaozhustatic1.com/12/8,0,62,9872,1800,1200,2592c33c.jpg\n",
      "临近福田/皇岗口岸地铁站 望香港 落地窗447整套出租/2张床/宜住4人\n",
      "https://image.xiaozhustatic1.com/12/10,0,74,5969,1800,1200,a50a5519.jpg\n",
      "超低价 近罗湖口岸火车站 国贸东门温馨两居358整套出租/2张床/宜住3人\n",
      "https://image.xiaozhustatic1.com/12/8,0,25,1316,1800,1200,7a3d1b85.jpg\n",
      "特惠罗湖中心万象城kkmall地铁口高层公寓299整套出租/1张床/宜住2人\n",
      "https://image.xiaozhustatic1.com/12/11,0,37,11894,1800,1200,03785c04.jpg\n",
      "机场旁，11号线碧海湾站，25分钟直达福田。158独立单间/1张床/宜住2人\n",
      "https://image.xiaozhustatic1.com/12/8,0,82,9537,1800,1200,ccd6a15f.jpg\n",
      "京基100附近阳光温馨一居室358整套出租/1张床/宜住2人\n",
      "https://image.xiaozhustatic1.com/12/10,0,21,3761,1800,1200,749930cc.jpg\n",
      "7特价 西乡地铁站/西乡天虹 楼上小区 沙发55沙发出租/1张沙发/宜住1人\n",
      "https://image.xiaozhustatic1.com/12/7,0,95,10554,1800,1200,735c1a66.jpg\n",
      "海雅缤纷城1号5号双地铁两房一厅阳光大宅整租428整套出租/2张床/宜住4人\n",
      "https://image.xiaozhustatic1.com/12/11,0,89,13004,1800,1200,5efb5f9d.jpg\n",
      "1独卫主卧 西乡地铁/西乡天虹楼上小区汇一城140独立单间/1张床/宜住2人\n",
      "https://image.xiaozhustatic1.com/12/7,0,39,10558,1800,1200,e43a2c41.jpg\n",
      "世界之窗/深圳湾主题式两房两厅套房658整套出租/2张床/宜住4人\n",
      "https://image.xiaozhustatic1.com/12/9,0,74,12726,1800,1200,2183a8cb.jpg\n",
      "靠山面海，旅游商务两相宜888整套出租/4张床/宜住8人\n",
      "https://image.xiaozhustatic1.com/12/2,0,87,3961,825,550,c7d77c82.jpg\n",
      "#栖息地#东门老街地铁口/近罗湖口岸田园一居268整套出租/2张床铺/宜住3人\n",
      "https://image.xiaozhustatic1.com/12/11,0,84,10379,1800,1200,2264b8e2.jpg\n",
      "4西乡地铁站/西乡天虹 楼上小区 汇一城130独立单间/1张床/宜住1人\n",
      "https://image.xiaozhustatic1.com/12/7,0,82,10418,1800,1200,12062812.jpg\n",
      "美寓 来福士/海岸城/春茧/南山站/极简设计399整套出租/2张床/宜住3人\n",
      "https://image.xiaozhustatic1.com/12/12,0,27,13817,1800,1200,c870a3c2.jpg\n",
      "Loft复式 小房 近深圳北86独立单间/1张床/宜住1人\n",
      "https://image.xiaozhustatic1.com/12/8,0,33,1374,1787,1200,c1cfe440.jpg\n",
      "〔特惠精选〕固戍1号线整套北欧风舒适便捷三居318整套出租/4张床铺/宜住6人\n",
      "https://image.xiaozhustatic1.com/12/10,0,44,17427,1800,1200,aacea212.jpg\n",
      "那年宿舍 1100独立单间/1张床/宜住1人\n",
      "https://image.xiaozhustatic1.com/12/4,0,97,8682,1800,1200,b68bf350.jpg\n",
      "宜家简约房/近地王大厦/近京基100/近万象328整套出租/1张床/宜住2人\n",
      "https://image.xiaozhustatic1.com/12/9,0,68,4583,1800,1200,fa1be273.jpg\n",
      "近深圳湾/南油/海岸城日系简约两居室498整套出租/2张床铺/宜住4人\n",
      "https://image.xiaozhustatic1.com/12/12,0,6,15428,1800,1200,804090c0.jpg\n",
      "3号和7号线近会展中心福田及皇岗口岸一房328整套出租/2张床铺/宜住2人\n",
      "https://image.xiaozhustatic1.com/12/8,0,90,4160,1800,1200,7b5a08ea.jpg\n",
      "窝的感觉 1100独立单间/1张床/宜住1人\n",
      "https://image.xiaozhustatic1.com/12/3,0,17,5565,1800,1200,a107d1be.jpg\n",
      "【暖气】Lounge复式 榻榻米 近深圳北96独立单间/1张床/宜住1人\n",
      "https://image.xiaozhustatic1.com/12/8,0,67,12166,1800,1200,596f29fa.jpg\n",
      "福田中心区高逼格小三房地铁口北站十五分钟780整套出租/3张床/宜住6人\n",
      "https://image.xiaozhustatic1.com/12/8,0,8,2498,1800,1200,049ce6c3.jpg\n",
      "2号阳台次卧|前海园林式小区公寓186独立单间/1张床/宜住1人\n",
      "https://image.xiaozhustatic1.com/12/8,0,1,4387,1783,1200,a6bd9607.jpg\n",
      "邻华为片区，靠深圳北站，万科160平大四房489整套出租/4张床铺/宜住7人\n",
      "https://image.xiaozhustatic1.com/12/8,0,13,4843,1756,1200,5c2ef024.jpg\n",
      "中洲之家—灵芝地铁站豪华舒适大床房整租168独立单间/1张床/宜住2人\n",
      "https://image.xiaozhustatic2.com/12/4,0,75,9722,1800,1200,586c4ee3.jpg\n",
      "近深圳东站/木棉湾地铁站/天虹/情侣小屋合租139独立单间/1张床/宜住2人\n",
      "https://image.xiaozhustatic1.com/12/9,0,30,13527,1778,1200,679dbcc2.jpg\n",
      "大运中心附近横岗眼镜城地铁口豪华欧式大套房228整套出租/1张床/宜住2人\n",
      "https://image.xiaozhustatic1.com/12/12,0,54,11968,1800,1200,435bae14.jpg\n",
      "海岸城南山中心区后海地铁希缺高层豪装整套租398整套出租/1张床/宜住2人\n",
      "https://image.xiaozhustatic1.com/12/8,0,10,6639,1800,1200,5514d879.jpg\n",
      "近华为小区房宜家风精致单人间 大学生短租房85独立单间/1张床/宜住1人\n",
      "https://image.xiaozhustatic1.com/12/5,0,47,2354,1800,1200,6cc2f207.jpg\n",
      "复式书房+独立花园阳台|前海园林式小区163独立单间/1张床/宜住1人\n",
      "https://image.xiaozhustatic1.com/12/8,0,67,6022,1800,1200,f0be832e.jpg\n",
      "高尔夫球场边的家-趣园私人酒店公寓388整套出租/1张床/宜住2人\n",
      "https://image.xiaozhustatic1.com/12/8,0,64,6279,1800,1200,10b782dc.jpg\n",
      "近机场高铁站兴东地铁出口 商旅短租首选 M7299整套出租/2张床铺/宜住2人\n",
      "https://image.xiaozhustatic1.com/12/12,0,40,12006,1800,1200,822e8d4b.jpg\n",
      "【红山站】近深圳北站星河九方红木古典家私两房398整套出租/2张床/宜住4人\n",
      "https://image.xiaozhustatic1.com/12/12,0,68,17637,1800,1200,a4c9aa5f.jpg\n",
      "【暖气】Loft复式 阳台房 近深圳北136独立单间/1张床/宜住2人\n",
      "https://image.xiaozhustatic1.com/12/11,0,92,18775,1797,1200,08550f6f.jpg\n",
      "【特价】3号线木棉湾/东站/啪啪温馨一房整租268整套出租/2张床铺/宜住2人\n",
      "https://image.xiaozhustatic1.com/12/12,0,60,3387,1800,1200,2bde6460.jpg\n",
      "南山科技园大冲新城花园超棒红粉设计之家-幻想369整套出租/1张床/宜住2人\n",
      "https://image.xiaozhustatic1.com/12/12,0,49,10074,1800,1200,fb4ac2aa.jpg\n",
      "福田中心区小两房地铁口588整套出租/2张床/宜住4人\n",
      "https://image.xiaozhustatic1.com/12/8,0,67,7058,1800,1200,825f9b60.jpg\n",
      "大运中心附近横岗地铁站 二房新店特惠268整套出租/2张床/宜住4人\n",
      "https://image.xiaozhustatic1.com/12/12,0,60,9601,1800,1177,69436a7d.jpg\n",
      "5西乡地铁站/西乡天虹 楼上小区雨天不用打伞110独立单间/1张床/宜住1人\n",
      "https://image.xiaozhustatic1.com/12/7,0,6,10437,1800,1200,81d663c8.jpg\n",
      "•M house地铁桃源村站·世界之窗·蓝光330独立单间/1张床/宜住2人\n",
      "https://image.xiaozhustatic1.com/12/10,0,10,5661,1800,1200,6d282315.jpg\n",
      "•M house地铁桃源村站·世界之窗·蜜糖220独立单间/1张床/宜住1人\n",
      "https://image.xiaozhustatic1.com/12/11,0,65,13099,1800,1200,d5811684.jpg\n"
     ]
    }
   ],
   "source": [
    "import requests\n",
    "from lxml import etree\n",
    "import time\n",
    "\n",
    "for i in range(1,4):\n",
    "    if i == 1:\n",
    "        url = 'http://sz.xiaozhu.com/'\n",
    "    else:\n",
    "        url = 'http://sz.xiaozhu.com/search-duanzufang-p{}-0/'.format(i)\n",
    "    \n",
    "    data = requests.get(url).text\n",
    "    s = etree.HTML(data)\n",
    "\n",
    "    file = s.xpath('//*[@id=\"page_list\"]/ul/li')\n",
    "    time.sleep(1)\n",
    "    for div in file:\n",
    "        tit = div.xpath('./div[2]/div/a/span/text()')[0]\n",
    "        pri = div.xpath('./div[2]/span[1]/i/text()')[0]\n",
    "        des = div.xpath('./div[2]/div/em/text()')[0].strip()\n",
    "        pic = div.xpath('./a/img/@lazy_src')[0]\n",
    "        print('{}{}{}\\n{}'.format(tit,pri,des,pic))\n",
    "        time.sleep(1)"
   ]
  },
  {
   "cell_type": "code",
   "execution_count": 33,
   "metadata": {},
   "outputs": [],
   "source": [
    "import requests\n",
    "from lxml import etree\n",
    "import time\n",
    "\n",
    "with open('/Users/Win7/Desktop/xzzf.txt','w',encoding = 'utf-8') as f:\n",
    "    for i in range(1,4):\n",
    "        if i == 1:\n",
    "            url = 'http://sz.xiaozhu.com/'\n",
    "        else:\n",
    "            url = 'http://sz.xiaozhu.com/search-duanzufang-p{}-0/'.format(i)\n",
    "    \n",
    "        data = requests.get(url).text\n",
    "        s = etree.HTML(data)\n",
    "\n",
    "        file = s.xpath('//*[@id=\"page_list\"]/ul/li')\n",
    "        time.sleep(3)\n",
    "        for div in file:\n",
    "            tit = div.xpath('./div[2]/div/a/span/text()')[0]\n",
    "            pri = div.xpath('./div[2]/span[1]/i/text()')[0]\n",
    "            des = div.xpath('./div[2]/div/em/text()')[0].strip()\n",
    "            pic = div.xpath('./a/img/@lazy_src')[0]\n",
    "            f.write('{}{}{}{}\\n'.format(tit,pri,des,pic))\n",
    "            "
   ]
  },
  {
   "cell_type": "code",
   "execution_count": 35,
   "metadata": {},
   "outputs": [],
   "source": [
    "import requests\n",
    "from lxml import etree\n",
    "import time\n",
    "\n",
    "with open('/Users/Win7/Desktop/xzzf.csv','w',encoding = 'utf-8') as f:\n",
    "    for i in range(1,4):\n",
    "        if i == 1:\n",
    "            url = 'http://sz.xiaozhu.com/'\n",
    "        else:\n",
    "            url = 'http://sz.xiaozhu.com/search-duanzufang-p{}-0/'.format(i)\n",
    "    \n",
    "        data = requests.get(url).text\n",
    "        s = etree.HTML(data)\n",
    "\n",
    "        file = s.xpath('//*[@id=\"page_list\"]/ul/li')\n",
    "        time.sleep(3)\n",
    "        for div in file:\n",
    "            tit = div.xpath('./div[2]/div/a/span/text()')[0]\n",
    "            pri = div.xpath('./div[2]/span[1]/i/text()')[0]\n",
    "            des = div.xpath('./div[2]/div/em/text()')[0].strip()\n",
    "            pic = div.xpath('./a/img/@lazy_src')[0]\n",
    "            f.write('{},{},{},{}\\n'.format(tit,pri,des,pic))"
   ]
  },
  {
   "cell_type": "code",
   "execution_count": null,
   "metadata": {},
   "outputs": [],
   "source": [
    "https://movie.douban.com/tag/#/?sort=T&range=0,10&tags=%E5%8A%B1%E5%BF%97\n",
    "\n",
    "https://movie.douban.com/j/new_search_subjects?sort=T&range=0,10&tags=%E5%8A%B1%E5%BF%97&start=40\n",
    "https://movie.douban.com/j/new_search_subjects?sort=T&range=0,10&tags=%E5%8A%B1%E5%BF%97&start=20\n",
    "    \n",
    "\n",
    "    \n",
    "    "
   ]
  },
  {
   "cell_type": "code",
   "execution_count": 36,
   "metadata": {},
   "outputs": [
    {
     "name": "stdout",
     "output_type": "stream",
     "text": [
      "https://movie.douban.com/j/new_search_subjects?sort=T&range=0,10&tags=%E5%8A%B1%E5%BF%97&start=0\n",
      "https://movie.douban.com/j/new_search_subjects?sort=T&range=0,10&tags=%E5%8A%B1%E5%BF%97&start=20\n",
      "https://movie.douban.com/j/new_search_subjects?sort=T&range=0,10&tags=%E5%8A%B1%E5%BF%97&start=40\n",
      "https://movie.douban.com/j/new_search_subjects?sort=T&range=0,10&tags=%E5%8A%B1%E5%BF%97&start=60\n",
      "https://movie.douban.com/j/new_search_subjects?sort=T&range=0,10&tags=%E5%8A%B1%E5%BF%97&start=80\n"
     ]
    }
   ],
   "source": [
    "url= 'https://movie.douban.com/j/new_search_subjects?sort=T&range=0,10&tags=%E5%8A%B1%E5%BF%97&start={}'\n",
    "for i in range(0,100,20):\n",
    "    print(url.format(i))"
   ]
  },
  {
   "cell_type": "code",
   "execution_count": null,
   "metadata": {},
   "outputs": [],
   "source": [
    "import requests\n",
    "from lxml import etree\n",
    "import time\n",
    "import json\n",
    "\n",
    "for i in range(0,100,20):\n",
    "    url= 'https://movie.douban.com/j/new_search_subjects?sort=T&range=0,10&tags=%E5%8A%B1%E5%BF%97&start={}'.format(i)\n",
    "    file = requests.get(url).json()\n",
    "    time.sleep(2)\n",
    "\n",
    "    "
   ]
  },
  {
   "cell_type": "code",
   "execution_count": null,
   "metadata": {},
   "outputs": [],
   "source": []
  },
  {
   "cell_type": "code",
   "execution_count": null,
   "metadata": {},
   "outputs": [],
   "source": []
  },
  {
   "cell_type": "code",
   "execution_count": null,
   "metadata": {},
   "outputs": [],
   "source": []
  },
  {
   "cell_type": "code",
   "execution_count": null,
   "metadata": {},
   "outputs": [],
   "source": []
  },
  {
   "cell_type": "code",
   "execution_count": null,
   "metadata": {},
   "outputs": [],
   "source": []
  }
 ],
 "metadata": {
  "kernelspec": {
   "display_name": "Python 3",
   "language": "python",
   "name": "python3"
  },
  "language_info": {
   "codemirror_mode": {
    "name": "ipython",
    "version": 3
   },
   "file_extension": ".py",
   "mimetype": "text/x-python",
   "name": "python",
   "nbconvert_exporter": "python",
   "pygments_lexer": "ipython3",
   "version": "3.6.2"
  }
 },
 "nbformat": 4,
 "nbformat_minor": 2
}
